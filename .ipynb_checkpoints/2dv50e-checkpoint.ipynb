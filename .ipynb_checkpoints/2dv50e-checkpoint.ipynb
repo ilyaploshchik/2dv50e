{
 "cells": [
  {
   "cell_type": "code",
   "execution_count": null,
   "id": "77b90c52",
   "metadata": {
    "lines_to_next_cell": 2
   },
   "outputs": [],
   "source": [
    "import pandas as pd\n",
    "import umap\n",
    "import streamlit as st\n",
    "import plotly.graph_objects as go"
   ]
  },
  {
   "cell_type": "code",
   "execution_count": null,
   "id": "a66ba740",
   "metadata": {},
   "outputs": [],
   "source": [
    "# Page layout\n",
    "st.set_page_config(page_title='Visually-Assisted Performance Evaluation of Metamodels in Stacking Ensemble Learning',layout='wide')"
   ]
  },
  {
   "cell_type": "code",
   "execution_count": null,
   "id": "2f79c416",
   "metadata": {
    "lines_to_next_cell": 2
   },
   "outputs": [],
   "source": [
    "# Sidebar - Collects user input features into dataframe\n",
    "st.sidebar.header('Upload your model probabilities data')\n",
    "uploaded_probabilities = st.sidebar.file_uploader(\"Upload your input CSV file\", type=[\"csv\"], key=0)\n",
    "st.sidebar.header('Upload your target data')\n",
    "uploaded_target = st.sidebar.file_uploader(\"Upload your input CSV file\", type=[\"csv\"], key=1)\n",
    "st.sidebar.header('Upload your model data')\n",
    "uploaded_model = st.sidebar.file_uploader(\"Upload your input CSV file\", type=[\"csv\"], key=2)"
   ]
  },
  {
   "cell_type": "code",
   "execution_count": null,
   "id": "f6677925",
   "metadata": {},
   "outputs": [],
   "source": [
    "# Sidebar - Specify parameter settings\n",
    "st.sidebar.header('Set Parameters for UMAP')\n",
    "parameter_umap_n_neighbors = st.sidebar.number_input('Number of neighbors (n_neighbors)', 5)\n",
    "parameter_umap_metric = st.sidebar.selectbox('Metric', ('euclidean', 'manhattan', 'chebyshev', 'minkowski'))\n",
    "parameter_umap_min_dist = st.sidebar.number_input('Minimal distance', 0.1)\n",
    "st.sidebar.write('---')"
   ]
  },
  {
   "cell_type": "code",
   "execution_count": null,
   "id": "d6aca272",
   "metadata": {
    "lines_to_next_cell": 1
   },
   "outputs": [],
   "source": [
    "st.subheader('Dataset')\n",
    "st.write('The dataset consists of the model probabilities for each model in the ensemble and the target variable.')"
   ]
  },
  {
   "cell_type": "code",
   "execution_count": null,
   "id": "ec9d38a3",
   "metadata": {},
   "outputs": [],
   "source": [
    "# Function to plot the UMAP plot\n",
    "def create_UMAP_chart(df_probabilities, df_model):\n",
    "    # Create UMAP\n",
    "    umap_model = umap.UMAP(n_neighbors=parameter_umap_n_neighbors, metric=parameter_umap_metric, min_dist=parameter_umap_min_dist)\n",
    "    umap_embedding = umap_model.fit_transform(df_probabilities)\n",
    "    # Create scatter plot\n",
    "    fig = go.Figure(data=go.Scatter(x=umap_embedding[:,0], y=umap_embedding[:,1], mode='markers',\n",
    "                                    marker=dict(size=10,  line=dict(color='MediumPurple',width=2))))\n",
    "    fig.update_layout(title='UMAP', xaxis_title='UMAP 1', yaxis_title='UMAP 2')\n",
    "    st.plotly_chart(fig)"
   ]
  },
  {
   "cell_type": "code",
   "execution_count": null,
   "id": "853db482",
   "metadata": {},
   "outputs": [],
   "source": [
    "if uploaded_probabilities is not None and uploaded_target is not None:\n",
    "    df_probabilities = pd.read_csv(uploaded_probabilities)\n",
    "    df_target = pd.read_csv(uploaded_target)\n",
    "    df_model = pd.read_csv(uploaded_model)\n",
    "    algo = df_model.algorithm_id.unique()\n",
    "    # Check if the number of rows in the probabilities dataframe is equal to the number of columns in the target dataframe\n",
    "    if len(df_probabilities.columns) == len(df_target):\n",
    "        create_UMAP_chart(df_probabilities, df_target)\n",
    "    else:\n",
    "        st.write('The number of columns in the probabilities dataframe is not equal to the number of rows in the target dataframe.')\n",
    "else:\n",
    "    st.info('Awaiting for CSV file to be uploaded.')\n",
    "    if st.button('Press to use Example Dataset'):\n",
    "        path = r'D:\\github\\2dv50e\\Data\\1. Heart Disease'\n",
    "        df_probabilities = pd.read_csv(path + r'\\topModelsProbabilities.csv')\n",
    "        df_target = pd.read_csv(path + r'\\target.csv')\n",
    "        df_model = pd.read_csv(path + r'\\topModels.csv')\n",
    "        create_UMAP_chart(df_probabilities, df_target)"
   ]
  },
  {
   "cell_type": "code",
   "execution_count": null,
   "id": "2f1c8c88",
   "metadata": {},
   "outputs": [],
   "source": []
  },
  {
   "cell_type": "code",
   "execution_count": null,
   "id": "507f0f2a",
   "metadata": {
    "lines_to_next_cell": 2
   },
   "outputs": [],
   "source": []
  }
 ],
 "metadata": {
  "jupytext": {
   "formats": "ipynb,py"
  },
  "kernelspec": {
   "display_name": "Python 3 (ipykernel)",
   "language": "python",
   "name": "python3"
  },
  "language_info": {
   "codemirror_mode": {
    "name": "ipython",
    "version": 3
   },
   "file_extension": ".py",
   "mimetype": "text/x-python",
   "name": "python",
   "nbconvert_exporter": "python",
   "pygments_lexer": "ipython3",
   "version": "3.9.12"
  }
 },
 "nbformat": 4,
 "nbformat_minor": 5
}
