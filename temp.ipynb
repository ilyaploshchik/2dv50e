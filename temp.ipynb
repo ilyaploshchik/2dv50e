{
 "cells": [
  {
   "cell_type": "code",
   "execution_count": 27,
   "metadata": {},
   "outputs": [],
   "source": [
    "import pandas as pd\n",
    "import umap\n",
    "import numpy as np\n",
    "from sklearn import preprocessing\n",
    "import plotly.express as px"
   ]
  },
  {
   "cell_type": "code",
   "execution_count": 2,
   "metadata": {},
   "outputs": [],
   "source": [
    "path = r'D:\\github\\2dv50e\\Data\\1. Heart Disease'\n",
    "df_probabilities = pd.read_csv(path + r'\\topModelsProbabilities.csv')\n",
    "df_model = pd.read_csv(path + r'\\topModels.csv')\n",
    "algo_nr = df_model['algorithm_id']\n",
    "\n",
    "algos = {1:'K-Nearest Neighbor', 2:'Support Vector Machine', 3:'Gaussian Naive Bayes', 4:'Multilayer Perceptron', 5:'Logistic Regression',\n",
    "        6:'Linear Discriminant Analysis', 7:'Quadratic Discriminant Analysis', 8:'Random Forest', 9:'Extra Trees', 10:'Adaptive Boosting',\n",
    "        11:'Gradient Boosting'}"
   ]
  },
  {
   "cell_type": "code",
   "execution_count": 3,
   "metadata": {},
   "outputs": [],
   "source": [
    "umap_model = umap.UMAP()\n",
    "umap_embedding = umap_model.fit_transform(df_probabilities)"
   ]
  },
  {
   "cell_type": "code",
   "execution_count": 4,
   "metadata": {},
   "outputs": [],
   "source": [
    "#convert umap_embedding to dataframe\n",
    "df_umap = pd.DataFrame(umap_embedding, columns=['UMAP_1', 'UMAP_2'])\n",
    "# Add model name\n",
    "df_umap['algorithm_nr'] = algo_nr"
   ]
  },
  {
   "cell_type": "code",
   "execution_count": 5,
   "metadata": {},
   "outputs": [
    {
     "data": {
      "text/html": [
       "<div>\n",
       "<style scoped>\n",
       "    .dataframe tbody tr th:only-of-type {\n",
       "        vertical-align: middle;\n",
       "    }\n",
       "\n",
       "    .dataframe tbody tr th {\n",
       "        vertical-align: top;\n",
       "    }\n",
       "\n",
       "    .dataframe thead th {\n",
       "        text-align: right;\n",
       "    }\n",
       "</style>\n",
       "<table border=\"1\" class=\"dataframe\">\n",
       "  <thead>\n",
       "    <tr style=\"text-align: right;\">\n",
       "      <th></th>\n",
       "      <th>UMAP_1</th>\n",
       "      <th>UMAP_2</th>\n",
       "      <th>algorithm_nr</th>\n",
       "    </tr>\n",
       "  </thead>\n",
       "  <tbody>\n",
       "    <tr>\n",
       "      <th>0</th>\n",
       "      <td>6.515124</td>\n",
       "      <td>-0.227072</td>\n",
       "      <td>1</td>\n",
       "    </tr>\n",
       "    <tr>\n",
       "      <th>1</th>\n",
       "      <td>6.086543</td>\n",
       "      <td>-0.004883</td>\n",
       "      <td>1</td>\n",
       "    </tr>\n",
       "    <tr>\n",
       "      <th>2</th>\n",
       "      <td>6.153914</td>\n",
       "      <td>-0.408189</td>\n",
       "      <td>1</td>\n",
       "    </tr>\n",
       "    <tr>\n",
       "      <th>3</th>\n",
       "      <td>6.013544</td>\n",
       "      <td>-0.131822</td>\n",
       "      <td>1</td>\n",
       "    </tr>\n",
       "    <tr>\n",
       "      <th>4</th>\n",
       "      <td>6.374786</td>\n",
       "      <td>-0.367071</td>\n",
       "      <td>1</td>\n",
       "    </tr>\n",
       "  </tbody>\n",
       "</table>\n",
       "</div>"
      ],
      "text/plain": [
       "     UMAP_1    UMAP_2  algorithm_nr\n",
       "0  6.515124 -0.227072             1\n",
       "1  6.086543 -0.004883             1\n",
       "2  6.153914 -0.408189             1\n",
       "3  6.013544 -0.131822             1\n",
       "4  6.374786 -0.367071             1"
      ]
     },
     "execution_count": 5,
     "metadata": {},
     "output_type": "execute_result"
    }
   ],
   "source": [
    "df_umap.head()"
   ]
  },
  {
   "cell_type": "code",
   "execution_count": 32,
   "metadata": {},
   "outputs": [
    {
     "data": {
      "text/html": [
       "<div>\n",
       "<style scoped>\n",
       "    .dataframe tbody tr th:only-of-type {\n",
       "        vertical-align: middle;\n",
       "    }\n",
       "\n",
       "    .dataframe tbody tr th {\n",
       "        vertical-align: top;\n",
       "    }\n",
       "\n",
       "    .dataframe thead th {\n",
       "        text-align: right;\n",
       "    }\n",
       "</style>\n",
       "<table border=\"1\" class=\"dataframe\">\n",
       "  <thead>\n",
       "    <tr style=\"text-align: right;\">\n",
       "      <th></th>\n",
       "      <th>UMAP_1</th>\n",
       "      <th>UMAP_2</th>\n",
       "      <th>algorithm_nr</th>\n",
       "      <th>algorithm_name</th>\n",
       "      <th>performance</th>\n",
       "    </tr>\n",
       "  </thead>\n",
       "  <tbody>\n",
       "    <tr>\n",
       "      <th>0</th>\n",
       "      <td>6.515124</td>\n",
       "      <td>-0.227072</td>\n",
       "      <td>1</td>\n",
       "      <td>K-Nearest Neighbor</td>\n",
       "      <td>0.7293</td>\n",
       "    </tr>\n",
       "    <tr>\n",
       "      <th>1</th>\n",
       "      <td>6.086543</td>\n",
       "      <td>-0.004883</td>\n",
       "      <td>1</td>\n",
       "      <td>K-Nearest Neighbor</td>\n",
       "      <td>0.7287</td>\n",
       "    </tr>\n",
       "    <tr>\n",
       "      <th>2</th>\n",
       "      <td>6.153914</td>\n",
       "      <td>-0.408189</td>\n",
       "      <td>1</td>\n",
       "      <td>K-Nearest Neighbor</td>\n",
       "      <td>0.7274</td>\n",
       "    </tr>\n",
       "    <tr>\n",
       "      <th>3</th>\n",
       "      <td>6.013544</td>\n",
       "      <td>-0.131822</td>\n",
       "      <td>1</td>\n",
       "      <td>K-Nearest Neighbor</td>\n",
       "      <td>0.7273</td>\n",
       "    </tr>\n",
       "    <tr>\n",
       "      <th>4</th>\n",
       "      <td>6.374786</td>\n",
       "      <td>-0.367071</td>\n",
       "      <td>1</td>\n",
       "      <td>K-Nearest Neighbor</td>\n",
       "      <td>0.7272</td>\n",
       "    </tr>\n",
       "  </tbody>\n",
       "</table>\n",
       "</div>"
      ],
      "text/plain": [
       "     UMAP_1    UMAP_2  algorithm_nr      algorithm_name  performance\n",
       "0  6.515124 -0.227072             1  K-Nearest Neighbor       0.7293\n",
       "1  6.086543 -0.004883             1  K-Nearest Neighbor       0.7287\n",
       "2  6.153914 -0.408189             1  K-Nearest Neighbor       0.7274\n",
       "3  6.013544 -0.131822             1  K-Nearest Neighbor       0.7273\n",
       "4  6.374786 -0.367071             1  K-Nearest Neighbor       0.7272"
      ]
     },
     "execution_count": 32,
     "metadata": {},
     "output_type": "execute_result"
    }
   ],
   "source": [
    "df_umap['algorithm_name'] = df_umap['algorithm_nr'].map(algos)\n",
    "df_umap['performance'] = df_model['overall_performance']/100\n",
    "df_umap.head()"
   ]
  },
  {
   "cell_type": "code",
   "execution_count": 33,
   "metadata": {},
   "outputs": [
    {
     "name": "stdout",
     "output_type": "stream",
     "text": [
      "0.0 1.0\n"
     ]
    },
    {
     "data": {
      "text/html": [
       "<div>\n",
       "<style scoped>\n",
       "    .dataframe tbody tr th:only-of-type {\n",
       "        vertical-align: middle;\n",
       "    }\n",
       "\n",
       "    .dataframe tbody tr th {\n",
       "        vertical-align: top;\n",
       "    }\n",
       "\n",
       "    .dataframe thead th {\n",
       "        text-align: right;\n",
       "    }\n",
       "</style>\n",
       "<table border=\"1\" class=\"dataframe\">\n",
       "  <thead>\n",
       "    <tr style=\"text-align: right;\">\n",
       "      <th></th>\n",
       "      <th>UMAP_1</th>\n",
       "      <th>UMAP_2</th>\n",
       "      <th>algorithm_nr</th>\n",
       "      <th>algorithm_name</th>\n",
       "      <th>performance</th>\n",
       "      <th>performance_scaled</th>\n",
       "      <th>color</th>\n",
       "      <th>text</th>\n",
       "    </tr>\n",
       "  </thead>\n",
       "  <tbody>\n",
       "    <tr>\n",
       "      <th>0</th>\n",
       "      <td>6.515124</td>\n",
       "      <td>-0.227072</td>\n",
       "      <td>1</td>\n",
       "      <td>K-Nearest Neighbor</td>\n",
       "      <td>0.7293</td>\n",
       "      <td>0.578749</td>\n",
       "      <td>rgb(147, 147, 147)</td>\n",
       "      <td>K-Nearest Neighbor&lt;br&gt;Performance: 0.729300000...</td>\n",
       "    </tr>\n",
       "    <tr>\n",
       "      <th>1</th>\n",
       "      <td>6.086543</td>\n",
       "      <td>-0.004883</td>\n",
       "      <td>1</td>\n",
       "      <td>K-Nearest Neighbor</td>\n",
       "      <td>0.7287</td>\n",
       "      <td>0.575512</td>\n",
       "      <td>rgb(146, 146, 146)</td>\n",
       "      <td>K-Nearest Neighbor&lt;br&gt;Performance: 0.7287</td>\n",
       "    </tr>\n",
       "    <tr>\n",
       "      <th>2</th>\n",
       "      <td>6.153914</td>\n",
       "      <td>-0.408189</td>\n",
       "      <td>1</td>\n",
       "      <td>K-Nearest Neighbor</td>\n",
       "      <td>0.7274</td>\n",
       "      <td>0.568501</td>\n",
       "      <td>rgb(144, 144, 144)</td>\n",
       "      <td>K-Nearest Neighbor&lt;br&gt;Performance: 0.727399999...</td>\n",
       "    </tr>\n",
       "    <tr>\n",
       "      <th>3</th>\n",
       "      <td>6.013544</td>\n",
       "      <td>-0.131822</td>\n",
       "      <td>1</td>\n",
       "      <td>K-Nearest Neighbor</td>\n",
       "      <td>0.7273</td>\n",
       "      <td>0.567961</td>\n",
       "      <td>rgb(144, 144, 144)</td>\n",
       "      <td>K-Nearest Neighbor&lt;br&gt;Performance: 0.727300000...</td>\n",
       "    </tr>\n",
       "    <tr>\n",
       "      <th>4</th>\n",
       "      <td>6.374786</td>\n",
       "      <td>-0.367071</td>\n",
       "      <td>1</td>\n",
       "      <td>K-Nearest Neighbor</td>\n",
       "      <td>0.7272</td>\n",
       "      <td>0.567422</td>\n",
       "      <td>rgb(144, 144, 144)</td>\n",
       "      <td>K-Nearest Neighbor&lt;br&gt;Performance: 0.7272</td>\n",
       "    </tr>\n",
       "  </tbody>\n",
       "</table>\n",
       "</div>"
      ],
      "text/plain": [
       "     UMAP_1    UMAP_2  algorithm_nr      algorithm_name  performance  \\\n",
       "0  6.515124 -0.227072             1  K-Nearest Neighbor       0.7293   \n",
       "1  6.086543 -0.004883             1  K-Nearest Neighbor       0.7287   \n",
       "2  6.153914 -0.408189             1  K-Nearest Neighbor       0.7274   \n",
       "3  6.013544 -0.131822             1  K-Nearest Neighbor       0.7273   \n",
       "4  6.374786 -0.367071             1  K-Nearest Neighbor       0.7272   \n",
       "\n",
       "   performance_scaled               color  \\\n",
       "0            0.578749  rgb(147, 147, 147)   \n",
       "1            0.575512  rgb(146, 146, 146)   \n",
       "2            0.568501  rgb(144, 144, 144)   \n",
       "3            0.567961  rgb(144, 144, 144)   \n",
       "4            0.567422  rgb(144, 144, 144)   \n",
       "\n",
       "                                                text  \n",
       "0  K-Nearest Neighbor<br>Performance: 0.729300000...  \n",
       "1          K-Nearest Neighbor<br>Performance: 0.7287  \n",
       "2  K-Nearest Neighbor<br>Performance: 0.727399999...  \n",
       "3  K-Nearest Neighbor<br>Performance: 0.727300000...  \n",
       "4          K-Nearest Neighbor<br>Performance: 0.7272  "
      ]
     },
     "execution_count": 33,
     "metadata": {},
     "output_type": "execute_result"
    }
   ],
   "source": [
    "# re-scale df.performance in scale from 0 to 1 and save as new column\n",
    "min_max_scaler = preprocessing.MinMaxScaler()\n",
    "# run min_max_scaler om df.perfromance_scaled in range 0 to 255\n",
    "df_umap['performance_scaled'] = min_max_scaler.fit_transform(df_umap['performance'].values.reshape(-1,1))\n",
    "# print min and max performance\n",
    "print(df_umap['performance_scaled'].min(), df_umap['performance_scaled'].max())\n",
    "df_umap['color'] = df_umap['performance_scaled'].apply(lambda x: 'rgba(' + str(int(x*255)) + ', '+ \n",
    "            str(int(x*255)) + ', '+ str(int(x*255)) + ', 1)')\n",
    "df_umap['text'] = df_umap['algorithm_name'] + '<br>' + 'Performance: ' + df_umap['performance'].astype(str)\n",
    "df_umap.head()\n"
   ]
  },
  {
   "cell_type": "code",
   "execution_count": 35,
   "metadata": {},
   "outputs": [
    {
     "data": {
      "application/vnd.plotly.v1+json": {
       "config": {
        "plotlyServerURL": "https://plot.ly"
       },
       "data": [
        {
         "customdata": [
          [
           "K-Nearest Neighbor<br>Performance: 0.7293000000000001"
          ],
          [
           "K-Nearest Neighbor<br>Performance: 0.7287"
          ],
          [
           "K-Nearest Neighbor<br>Performance: 0.7273999999999999"
          ],
          [
           "K-Nearest Neighbor<br>Performance: 0.7273000000000001"
          ],
          [
           "K-Nearest Neighbor<br>Performance: 0.7272"
          ]
         ],
         "hovertemplate": "<b>%{hovertext}</b><br><br>algorithm_name=K-Nearest Neighbor<br>UMAP_1=%{x}<br>UMAP_2=%{y}<br>text=%{customdata[0]}<extra></extra>",
         "hovertext": [
          "K-Nearest Neighbor<br>Performance: 0.7293000000000001",
          "K-Nearest Neighbor<br>Performance: 0.7287",
          "K-Nearest Neighbor<br>Performance: 0.7273999999999999",
          "K-Nearest Neighbor<br>Performance: 0.7273000000000001",
          "K-Nearest Neighbor<br>Performance: 0.7272"
         ],
         "legendgroup": "K-Nearest Neighbor",
         "marker": {
          "color": "#636efa",
          "line": {
           "color": [
            "rgb(147, 147, 147)",
            "rgb(146, 146, 146)",
            "rgb(144, 144, 144)",
            "rgb(144, 144, 144)",
            "rgb(144, 144, 144)",
            "rgb(144, 144, 144)",
            "rgb(144, 144, 144)",
            "rgb(144, 144, 144)",
            "rgb(144, 144, 144)",
            "rgb(144, 144, 144)",
            "rgb(118, 118, 118)",
            "rgb(118, 118, 118)",
            "rgb(118, 118, 118)",
            "rgb(118, 118, 118)",
            "rgb(118, 118, 118)",
            "rgb(97, 97, 97)",
            "rgb(97, 97, 97)",
            "rgb(97, 97, 97)",
            "rgb(96, 96, 96)",
            "rgb(96, 96, 96)",
            "rgb(151, 151, 151)",
            "rgb(151, 151, 151)",
            "rgb(149, 149, 149)",
            "rgb(149, 149, 149)",
            "rgb(148, 148, 148)",
            "rgb(135, 135, 135)",
            "rgb(135, 135, 135)",
            "rgb(28, 28, 28)",
            "rgb(28, 28, 28)",
            "rgb(0, 0, 0)",
            "rgb(148, 148, 148)",
            "rgb(148, 148, 148)",
            "rgb(148, 148, 148)",
            "rgb(148, 148, 148)",
            "rgb(148, 148, 148)",
            "rgb(249, 249, 249)",
            "rgb(249, 249, 249)",
            "rgb(249, 249, 249)",
            "rgb(249, 249, 249)",
            "rgb(247, 247, 247)",
            "rgb(255, 255, 255)",
            "rgb(254, 254, 254)",
            "rgb(254, 254, 254)",
            "rgb(254, 254, 254)",
            "rgb(253, 253, 253)",
            "rgb(173, 173, 173)",
            "rgb(171, 171, 171)",
            "rgb(170, 170, 170)",
            "rgb(169, 169, 169)",
            "rgb(169, 169, 169)",
            "rgb(224, 224, 224)",
            "rgb(224, 224, 224)",
            "rgb(224, 224, 224)",
            "rgb(224, 224, 224)",
            "rgb(224, 224, 224)"
           ],
           "width": 2
          },
          "opacity": 0.75,
          "size": 10,
          "symbol": "circle"
         },
         "mode": "markers",
         "name": "K-Nearest Neighbor",
         "orientation": "v",
         "showlegend": true,
         "type": "scatter",
         "x": [
          6.515124320983887,
          6.086543083190918,
          6.153914451599121,
          6.013543605804443,
          6.374786376953125
         ],
         "xaxis": "x",
         "y": [
          -0.22707229852676392,
          -0.004882802255451679,
          -0.4081885814666748,
          -0.13182175159454346,
          -0.367070734500885
         ],
         "yaxis": "y"
        },
        {
         "customdata": [
          [
           "Support Vector Machine<br>Performance: 0.7271"
          ],
          [
           "Support Vector Machine<br>Performance: 0.727"
          ],
          [
           "Support Vector Machine<br>Performance: 0.727"
          ],
          [
           "Support Vector Machine<br>Performance: 0.727"
          ],
          [
           "Support Vector Machine<br>Performance: 0.7269"
          ]
         ],
         "hovertemplate": "<b>%{hovertext}</b><br><br>algorithm_name=Support Vector Machine<br>UMAP_1=%{x}<br>UMAP_2=%{y}<br>text=%{customdata[0]}<extra></extra>",
         "hovertext": [
          "Support Vector Machine<br>Performance: 0.7271",
          "Support Vector Machine<br>Performance: 0.727",
          "Support Vector Machine<br>Performance: 0.727",
          "Support Vector Machine<br>Performance: 0.727",
          "Support Vector Machine<br>Performance: 0.7269"
         ],
         "legendgroup": "Support Vector Machine",
         "marker": {
          "color": "#EF553B",
          "line": {
           "color": [
            "rgb(147, 147, 147)",
            "rgb(146, 146, 146)",
            "rgb(144, 144, 144)",
            "rgb(144, 144, 144)",
            "rgb(144, 144, 144)",
            "rgb(144, 144, 144)",
            "rgb(144, 144, 144)",
            "rgb(144, 144, 144)",
            "rgb(144, 144, 144)",
            "rgb(144, 144, 144)",
            "rgb(118, 118, 118)",
            "rgb(118, 118, 118)",
            "rgb(118, 118, 118)",
            "rgb(118, 118, 118)",
            "rgb(118, 118, 118)",
            "rgb(97, 97, 97)",
            "rgb(97, 97, 97)",
            "rgb(97, 97, 97)",
            "rgb(96, 96, 96)",
            "rgb(96, 96, 96)",
            "rgb(151, 151, 151)",
            "rgb(151, 151, 151)",
            "rgb(149, 149, 149)",
            "rgb(149, 149, 149)",
            "rgb(148, 148, 148)",
            "rgb(135, 135, 135)",
            "rgb(135, 135, 135)",
            "rgb(28, 28, 28)",
            "rgb(28, 28, 28)",
            "rgb(0, 0, 0)",
            "rgb(148, 148, 148)",
            "rgb(148, 148, 148)",
            "rgb(148, 148, 148)",
            "rgb(148, 148, 148)",
            "rgb(148, 148, 148)",
            "rgb(249, 249, 249)",
            "rgb(249, 249, 249)",
            "rgb(249, 249, 249)",
            "rgb(249, 249, 249)",
            "rgb(247, 247, 247)",
            "rgb(255, 255, 255)",
            "rgb(254, 254, 254)",
            "rgb(254, 254, 254)",
            "rgb(254, 254, 254)",
            "rgb(253, 253, 253)",
            "rgb(173, 173, 173)",
            "rgb(171, 171, 171)",
            "rgb(170, 170, 170)",
            "rgb(169, 169, 169)",
            "rgb(169, 169, 169)",
            "rgb(224, 224, 224)",
            "rgb(224, 224, 224)",
            "rgb(224, 224, 224)",
            "rgb(224, 224, 224)",
            "rgb(224, 224, 224)"
           ],
           "width": 2
          },
          "opacity": 0.75,
          "size": 10,
          "symbol": "circle"
         },
         "mode": "markers",
         "name": "Support Vector Machine",
         "orientation": "v",
         "showlegend": true,
         "type": "scatter",
         "x": [
          15.391626358032227,
          15.275900840759277,
          15.084356307983398,
          15.29069709777832,
          15.065302848815918
         ],
         "xaxis": "x",
         "y": [
          21.86825180053711,
          21.950307846069336,
          22.152000427246094,
          22.28328514099121,
          21.715911865234375
         ],
         "yaxis": "y"
        },
        {
         "customdata": [
          [
           "Gaussian Naive Bayes<br>Performance: 0.7084"
          ],
          [
           "Gaussian Naive Bayes<br>Performance: 0.7084"
          ],
          [
           "Gaussian Naive Bayes<br>Performance: 0.7084"
          ],
          [
           "Gaussian Naive Bayes<br>Performance: 0.7084"
          ],
          [
           "Gaussian Naive Bayes<br>Performance: 0.7084"
          ]
         ],
         "hovertemplate": "<b>%{hovertext}</b><br><br>algorithm_name=Gaussian Naive Bayes<br>UMAP_1=%{x}<br>UMAP_2=%{y}<br>text=%{customdata[0]}<extra></extra>",
         "hovertext": [
          "Gaussian Naive Bayes<br>Performance: 0.7084",
          "Gaussian Naive Bayes<br>Performance: 0.7084",
          "Gaussian Naive Bayes<br>Performance: 0.7084",
          "Gaussian Naive Bayes<br>Performance: 0.7084",
          "Gaussian Naive Bayes<br>Performance: 0.7084"
         ],
         "legendgroup": "Gaussian Naive Bayes",
         "marker": {
          "color": "#00cc96",
          "line": {
           "color": [
            "rgb(147, 147, 147)",
            "rgb(146, 146, 146)",
            "rgb(144, 144, 144)",
            "rgb(144, 144, 144)",
            "rgb(144, 144, 144)",
            "rgb(144, 144, 144)",
            "rgb(144, 144, 144)",
            "rgb(144, 144, 144)",
            "rgb(144, 144, 144)",
            "rgb(144, 144, 144)",
            "rgb(118, 118, 118)",
            "rgb(118, 118, 118)",
            "rgb(118, 118, 118)",
            "rgb(118, 118, 118)",
            "rgb(118, 118, 118)",
            "rgb(97, 97, 97)",
            "rgb(97, 97, 97)",
            "rgb(97, 97, 97)",
            "rgb(96, 96, 96)",
            "rgb(96, 96, 96)",
            "rgb(151, 151, 151)",
            "rgb(151, 151, 151)",
            "rgb(149, 149, 149)",
            "rgb(149, 149, 149)",
            "rgb(148, 148, 148)",
            "rgb(135, 135, 135)",
            "rgb(135, 135, 135)",
            "rgb(28, 28, 28)",
            "rgb(28, 28, 28)",
            "rgb(0, 0, 0)",
            "rgb(148, 148, 148)",
            "rgb(148, 148, 148)",
            "rgb(148, 148, 148)",
            "rgb(148, 148, 148)",
            "rgb(148, 148, 148)",
            "rgb(249, 249, 249)",
            "rgb(249, 249, 249)",
            "rgb(249, 249, 249)",
            "rgb(249, 249, 249)",
            "rgb(247, 247, 247)",
            "rgb(255, 255, 255)",
            "rgb(254, 254, 254)",
            "rgb(254, 254, 254)",
            "rgb(254, 254, 254)",
            "rgb(253, 253, 253)",
            "rgb(173, 173, 173)",
            "rgb(171, 171, 171)",
            "rgb(170, 170, 170)",
            "rgb(169, 169, 169)",
            "rgb(169, 169, 169)",
            "rgb(224, 224, 224)",
            "rgb(224, 224, 224)",
            "rgb(224, 224, 224)",
            "rgb(224, 224, 224)",
            "rgb(224, 224, 224)"
           ],
           "width": 2
          },
          "opacity": 0.75,
          "size": 10,
          "symbol": "circle"
         },
         "mode": "markers",
         "name": "Gaussian Naive Bayes",
         "orientation": "v",
         "showlegend": true,
         "type": "scatter",
         "x": [
          0.09402287751436234,
          0.28832995891571045,
          0.03320792689919472,
          -0.0003482601314317435,
          0.20377285778522491
         ],
         "xaxis": "x",
         "y": [
          18.633628845214844,
          18.827909469604492,
          18.572711944580078,
          18.539194107055664,
          18.743520736694336
         ],
         "yaxis": "y"
        },
        {
         "customdata": [
          [
           "Multilayer Perceptron<br>Performance: 0.6931999999999999"
          ],
          [
           "Multilayer Perceptron<br>Performance: 0.6931999999999999"
          ],
          [
           "Multilayer Perceptron<br>Performance: 0.6931999999999999"
          ],
          [
           "Multilayer Perceptron<br>Performance: 0.6920000000000001"
          ],
          [
           "Multilayer Perceptron<br>Performance: 0.6920000000000001"
          ]
         ],
         "hovertemplate": "<b>%{hovertext}</b><br><br>algorithm_name=Multilayer Perceptron<br>UMAP_1=%{x}<br>UMAP_2=%{y}<br>text=%{customdata[0]}<extra></extra>",
         "hovertext": [
          "Multilayer Perceptron<br>Performance: 0.6931999999999999",
          "Multilayer Perceptron<br>Performance: 0.6931999999999999",
          "Multilayer Perceptron<br>Performance: 0.6931999999999999",
          "Multilayer Perceptron<br>Performance: 0.6920000000000001",
          "Multilayer Perceptron<br>Performance: 0.6920000000000001"
         ],
         "legendgroup": "Multilayer Perceptron",
         "marker": {
          "color": "#ab63fa",
          "line": {
           "color": [
            "rgb(147, 147, 147)",
            "rgb(146, 146, 146)",
            "rgb(144, 144, 144)",
            "rgb(144, 144, 144)",
            "rgb(144, 144, 144)",
            "rgb(144, 144, 144)",
            "rgb(144, 144, 144)",
            "rgb(144, 144, 144)",
            "rgb(144, 144, 144)",
            "rgb(144, 144, 144)",
            "rgb(118, 118, 118)",
            "rgb(118, 118, 118)",
            "rgb(118, 118, 118)",
            "rgb(118, 118, 118)",
            "rgb(118, 118, 118)",
            "rgb(97, 97, 97)",
            "rgb(97, 97, 97)",
            "rgb(97, 97, 97)",
            "rgb(96, 96, 96)",
            "rgb(96, 96, 96)",
            "rgb(151, 151, 151)",
            "rgb(151, 151, 151)",
            "rgb(149, 149, 149)",
            "rgb(149, 149, 149)",
            "rgb(148, 148, 148)",
            "rgb(135, 135, 135)",
            "rgb(135, 135, 135)",
            "rgb(28, 28, 28)",
            "rgb(28, 28, 28)",
            "rgb(0, 0, 0)",
            "rgb(148, 148, 148)",
            "rgb(148, 148, 148)",
            "rgb(148, 148, 148)",
            "rgb(148, 148, 148)",
            "rgb(148, 148, 148)",
            "rgb(249, 249, 249)",
            "rgb(249, 249, 249)",
            "rgb(249, 249, 249)",
            "rgb(249, 249, 249)",
            "rgb(247, 247, 247)",
            "rgb(255, 255, 255)",
            "rgb(254, 254, 254)",
            "rgb(254, 254, 254)",
            "rgb(254, 254, 254)",
            "rgb(253, 253, 253)",
            "rgb(173, 173, 173)",
            "rgb(171, 171, 171)",
            "rgb(170, 170, 170)",
            "rgb(169, 169, 169)",
            "rgb(169, 169, 169)",
            "rgb(224, 224, 224)",
            "rgb(224, 224, 224)",
            "rgb(224, 224, 224)",
            "rgb(224, 224, 224)",
            "rgb(224, 224, 224)"
           ],
           "width": 2
          },
          "opacity": 0.75,
          "size": 10,
          "symbol": "circle"
         },
         "mode": "markers",
         "name": "Multilayer Perceptron",
         "orientation": "v",
         "showlegend": true,
         "type": "scatter",
         "x": [
          8.063000679016113,
          8.075057983398438,
          7.888028621673584,
          7.98621129989624,
          7.86422061920166
         ],
         "xaxis": "x",
         "y": [
          -0.22266626358032227,
          -0.6557533144950867,
          -0.5274733304977417,
          -0.3154139518737793,
          -0.4416331946849823
         ],
         "yaxis": "y"
        },
        {
         "customdata": [
          [
           "Logistic Regression<br>Performance: 0.7321"
          ],
          [
           "Logistic Regression<br>Performance: 0.732"
          ],
          [
           "Logistic Regression<br>Performance: 0.731"
          ],
          [
           "Logistic Regression<br>Performance: 0.7308"
          ],
          [
           "Logistic Regression<br>Performance: 0.7298"
          ]
         ],
         "hovertemplate": "<b>%{hovertext}</b><br><br>algorithm_name=Logistic Regression<br>UMAP_1=%{x}<br>UMAP_2=%{y}<br>text=%{customdata[0]}<extra></extra>",
         "hovertext": [
          "Logistic Regression<br>Performance: 0.7321",
          "Logistic Regression<br>Performance: 0.732",
          "Logistic Regression<br>Performance: 0.731",
          "Logistic Regression<br>Performance: 0.7308",
          "Logistic Regression<br>Performance: 0.7298"
         ],
         "legendgroup": "Logistic Regression",
         "marker": {
          "color": "#FFA15A",
          "line": {
           "color": [
            "rgb(147, 147, 147)",
            "rgb(146, 146, 146)",
            "rgb(144, 144, 144)",
            "rgb(144, 144, 144)",
            "rgb(144, 144, 144)",
            "rgb(144, 144, 144)",
            "rgb(144, 144, 144)",
            "rgb(144, 144, 144)",
            "rgb(144, 144, 144)",
            "rgb(144, 144, 144)",
            "rgb(118, 118, 118)",
            "rgb(118, 118, 118)",
            "rgb(118, 118, 118)",
            "rgb(118, 118, 118)",
            "rgb(118, 118, 118)",
            "rgb(97, 97, 97)",
            "rgb(97, 97, 97)",
            "rgb(97, 97, 97)",
            "rgb(96, 96, 96)",
            "rgb(96, 96, 96)",
            "rgb(151, 151, 151)",
            "rgb(151, 151, 151)",
            "rgb(149, 149, 149)",
            "rgb(149, 149, 149)",
            "rgb(148, 148, 148)",
            "rgb(135, 135, 135)",
            "rgb(135, 135, 135)",
            "rgb(28, 28, 28)",
            "rgb(28, 28, 28)",
            "rgb(0, 0, 0)",
            "rgb(148, 148, 148)",
            "rgb(148, 148, 148)",
            "rgb(148, 148, 148)",
            "rgb(148, 148, 148)",
            "rgb(148, 148, 148)",
            "rgb(249, 249, 249)",
            "rgb(249, 249, 249)",
            "rgb(249, 249, 249)",
            "rgb(249, 249, 249)",
            "rgb(247, 247, 247)",
            "rgb(255, 255, 255)",
            "rgb(254, 254, 254)",
            "rgb(254, 254, 254)",
            "rgb(254, 254, 254)",
            "rgb(253, 253, 253)",
            "rgb(173, 173, 173)",
            "rgb(171, 171, 171)",
            "rgb(170, 170, 170)",
            "rgb(169, 169, 169)",
            "rgb(169, 169, 169)",
            "rgb(224, 224, 224)",
            "rgb(224, 224, 224)",
            "rgb(224, 224, 224)",
            "rgb(224, 224, 224)",
            "rgb(224, 224, 224)"
           ],
           "width": 2
          },
          "opacity": 0.75,
          "size": 10,
          "symbol": "circle"
         },
         "mode": "markers",
         "name": "Logistic Regression",
         "orientation": "v",
         "showlegend": true,
         "type": "scatter",
         "x": [
          16.075302124023438,
          16.076793670654297,
          16.229576110839844,
          16.343278884887695,
          16.42812728881836
         ],
         "xaxis": "x",
         "y": [
          22.163314819335938,
          22.527318954467773,
          22.323518753051758,
          22.441686630249023,
          22.16546058654785
         ],
         "yaxis": "y"
        },
        {
         "customdata": [
          [
           "Linear Discriminant Analysis<br>Performance: 0.7202"
          ],
          [
           "Linear Discriminant Analysis<br>Performance: 0.7202"
          ],
          [
           "Linear Discriminant Analysis<br>Performance: 0.6426999999999999"
          ],
          [
           "Linear Discriminant Analysis<br>Performance: 0.6426999999999999"
          ],
          [
           "Linear Discriminant Analysis<br>Performance: 0.622"
          ]
         ],
         "hovertemplate": "<b>%{hovertext}</b><br><br>algorithm_name=Linear Discriminant Analysis<br>UMAP_1=%{x}<br>UMAP_2=%{y}<br>text=%{customdata[0]}<extra></extra>",
         "hovertext": [
          "Linear Discriminant Analysis<br>Performance: 0.7202",
          "Linear Discriminant Analysis<br>Performance: 0.7202",
          "Linear Discriminant Analysis<br>Performance: 0.6426999999999999",
          "Linear Discriminant Analysis<br>Performance: 0.6426999999999999",
          "Linear Discriminant Analysis<br>Performance: 0.622"
         ],
         "legendgroup": "Linear Discriminant Analysis",
         "marker": {
          "color": "#19d3f3",
          "line": {
           "color": [
            "rgb(147, 147, 147)",
            "rgb(146, 146, 146)",
            "rgb(144, 144, 144)",
            "rgb(144, 144, 144)",
            "rgb(144, 144, 144)",
            "rgb(144, 144, 144)",
            "rgb(144, 144, 144)",
            "rgb(144, 144, 144)",
            "rgb(144, 144, 144)",
            "rgb(144, 144, 144)",
            "rgb(118, 118, 118)",
            "rgb(118, 118, 118)",
            "rgb(118, 118, 118)",
            "rgb(118, 118, 118)",
            "rgb(118, 118, 118)",
            "rgb(97, 97, 97)",
            "rgb(97, 97, 97)",
            "rgb(97, 97, 97)",
            "rgb(96, 96, 96)",
            "rgb(96, 96, 96)",
            "rgb(151, 151, 151)",
            "rgb(151, 151, 151)",
            "rgb(149, 149, 149)",
            "rgb(149, 149, 149)",
            "rgb(148, 148, 148)",
            "rgb(135, 135, 135)",
            "rgb(135, 135, 135)",
            "rgb(28, 28, 28)",
            "rgb(28, 28, 28)",
            "rgb(0, 0, 0)",
            "rgb(148, 148, 148)",
            "rgb(148, 148, 148)",
            "rgb(148, 148, 148)",
            "rgb(148, 148, 148)",
            "rgb(148, 148, 148)",
            "rgb(249, 249, 249)",
            "rgb(249, 249, 249)",
            "rgb(249, 249, 249)",
            "rgb(249, 249, 249)",
            "rgb(247, 247, 247)",
            "rgb(255, 255, 255)",
            "rgb(254, 254, 254)",
            "rgb(254, 254, 254)",
            "rgb(254, 254, 254)",
            "rgb(253, 253, 253)",
            "rgb(173, 173, 173)",
            "rgb(171, 171, 171)",
            "rgb(170, 170, 170)",
            "rgb(169, 169, 169)",
            "rgb(169, 169, 169)",
            "rgb(224, 224, 224)",
            "rgb(224, 224, 224)",
            "rgb(224, 224, 224)",
            "rgb(224, 224, 224)",
            "rgb(224, 224, 224)"
           ],
           "width": 2
          },
          "opacity": 0.75,
          "size": 10,
          "symbol": "circle"
         },
         "mode": "markers",
         "name": "Linear Discriminant Analysis",
         "orientation": "v",
         "showlegend": true,
         "type": "scatter",
         "x": [
          16.791954040527344,
          16.9930362701416,
          6.786499500274658,
          6.769059181213379,
          6.623870372772217
         ],
         "xaxis": "x",
         "y": [
          22.766437530517578,
          22.41607093811035,
          0.021034879609942436,
          0.22590884566307068,
          -0.07889964431524277
         ],
         "yaxis": "y"
        },
        {
         "customdata": [
          [
           "Quadratic Discriminant Analysis<br>Performance: 0.7301000000000001"
          ],
          [
           "Quadratic Discriminant Analysis<br>Performance: 0.7301000000000001"
          ],
          [
           "Quadratic Discriminant Analysis<br>Performance: 0.7301000000000001"
          ],
          [
           "Quadratic Discriminant Analysis<br>Performance: 0.7301000000000001"
          ],
          [
           "Quadratic Discriminant Analysis<br>Performance: 0.7301000000000001"
          ]
         ],
         "hovertemplate": "<b>%{hovertext}</b><br><br>algorithm_name=Quadratic Discriminant Analysis<br>UMAP_1=%{x}<br>UMAP_2=%{y}<br>text=%{customdata[0]}<extra></extra>",
         "hovertext": [
          "Quadratic Discriminant Analysis<br>Performance: 0.7301000000000001",
          "Quadratic Discriminant Analysis<br>Performance: 0.7301000000000001",
          "Quadratic Discriminant Analysis<br>Performance: 0.7301000000000001",
          "Quadratic Discriminant Analysis<br>Performance: 0.7301000000000001",
          "Quadratic Discriminant Analysis<br>Performance: 0.7301000000000001"
         ],
         "legendgroup": "Quadratic Discriminant Analysis",
         "marker": {
          "color": "#FF6692",
          "line": {
           "color": [
            "rgb(147, 147, 147)",
            "rgb(146, 146, 146)",
            "rgb(144, 144, 144)",
            "rgb(144, 144, 144)",
            "rgb(144, 144, 144)",
            "rgb(144, 144, 144)",
            "rgb(144, 144, 144)",
            "rgb(144, 144, 144)",
            "rgb(144, 144, 144)",
            "rgb(144, 144, 144)",
            "rgb(118, 118, 118)",
            "rgb(118, 118, 118)",
            "rgb(118, 118, 118)",
            "rgb(118, 118, 118)",
            "rgb(118, 118, 118)",
            "rgb(97, 97, 97)",
            "rgb(97, 97, 97)",
            "rgb(97, 97, 97)",
            "rgb(96, 96, 96)",
            "rgb(96, 96, 96)",
            "rgb(151, 151, 151)",
            "rgb(151, 151, 151)",
            "rgb(149, 149, 149)",
            "rgb(149, 149, 149)",
            "rgb(148, 148, 148)",
            "rgb(135, 135, 135)",
            "rgb(135, 135, 135)",
            "rgb(28, 28, 28)",
            "rgb(28, 28, 28)",
            "rgb(0, 0, 0)",
            "rgb(148, 148, 148)",
            "rgb(148, 148, 148)",
            "rgb(148, 148, 148)",
            "rgb(148, 148, 148)",
            "rgb(148, 148, 148)",
            "rgb(249, 249, 249)",
            "rgb(249, 249, 249)",
            "rgb(249, 249, 249)",
            "rgb(249, 249, 249)",
            "rgb(247, 247, 247)",
            "rgb(255, 255, 255)",
            "rgb(254, 254, 254)",
            "rgb(254, 254, 254)",
            "rgb(254, 254, 254)",
            "rgb(253, 253, 253)",
            "rgb(173, 173, 173)",
            "rgb(171, 171, 171)",
            "rgb(170, 170, 170)",
            "rgb(169, 169, 169)",
            "rgb(169, 169, 169)",
            "rgb(224, 224, 224)",
            "rgb(224, 224, 224)",
            "rgb(224, 224, 224)",
            "rgb(224, 224, 224)",
            "rgb(224, 224, 224)"
           ],
           "width": 2
          },
          "opacity": 0.75,
          "size": 10,
          "symbol": "circle"
         },
         "mode": "markers",
         "name": "Quadratic Discriminant Analysis",
         "orientation": "v",
         "showlegend": true,
         "type": "scatter",
         "x": [
          17.157243728637695,
          16.994741439819336,
          17.531644821166992,
          17.325864791870117,
          17.32093620300293
         ],
         "xaxis": "x",
         "y": [
          22.826757431030273,
          23.178775787353516,
          22.642074584960938,
          22.608339309692383,
          23.033483505249023
         ],
         "yaxis": "y"
        },
        {
         "customdata": [
          [
           "Random Forest<br>Performance: 0.8035"
          ],
          [
           "Random Forest<br>Performance: 0.8035"
          ],
          [
           "Random Forest<br>Performance: 0.8035"
          ],
          [
           "Random Forest<br>Performance: 0.8034"
          ],
          [
           "Random Forest<br>Performance: 0.8023"
          ]
         ],
         "hovertemplate": "<b>%{hovertext}</b><br><br>algorithm_name=Random Forest<br>UMAP_1=%{x}<br>UMAP_2=%{y}<br>text=%{customdata[0]}<extra></extra>",
         "hovertext": [
          "Random Forest<br>Performance: 0.8035",
          "Random Forest<br>Performance: 0.8035",
          "Random Forest<br>Performance: 0.8035",
          "Random Forest<br>Performance: 0.8034",
          "Random Forest<br>Performance: 0.8023"
         ],
         "legendgroup": "Random Forest",
         "marker": {
          "color": "#B6E880",
          "line": {
           "color": [
            "rgb(147, 147, 147)",
            "rgb(146, 146, 146)",
            "rgb(144, 144, 144)",
            "rgb(144, 144, 144)",
            "rgb(144, 144, 144)",
            "rgb(144, 144, 144)",
            "rgb(144, 144, 144)",
            "rgb(144, 144, 144)",
            "rgb(144, 144, 144)",
            "rgb(144, 144, 144)",
            "rgb(118, 118, 118)",
            "rgb(118, 118, 118)",
            "rgb(118, 118, 118)",
            "rgb(118, 118, 118)",
            "rgb(118, 118, 118)",
            "rgb(97, 97, 97)",
            "rgb(97, 97, 97)",
            "rgb(97, 97, 97)",
            "rgb(96, 96, 96)",
            "rgb(96, 96, 96)",
            "rgb(151, 151, 151)",
            "rgb(151, 151, 151)",
            "rgb(149, 149, 149)",
            "rgb(149, 149, 149)",
            "rgb(148, 148, 148)",
            "rgb(135, 135, 135)",
            "rgb(135, 135, 135)",
            "rgb(28, 28, 28)",
            "rgb(28, 28, 28)",
            "rgb(0, 0, 0)",
            "rgb(148, 148, 148)",
            "rgb(148, 148, 148)",
            "rgb(148, 148, 148)",
            "rgb(148, 148, 148)",
            "rgb(148, 148, 148)",
            "rgb(249, 249, 249)",
            "rgb(249, 249, 249)",
            "rgb(249, 249, 249)",
            "rgb(249, 249, 249)",
            "rgb(247, 247, 247)",
            "rgb(255, 255, 255)",
            "rgb(254, 254, 254)",
            "rgb(254, 254, 254)",
            "rgb(254, 254, 254)",
            "rgb(253, 253, 253)",
            "rgb(173, 173, 173)",
            "rgb(171, 171, 171)",
            "rgb(170, 170, 170)",
            "rgb(169, 169, 169)",
            "rgb(169, 169, 169)",
            "rgb(224, 224, 224)",
            "rgb(224, 224, 224)",
            "rgb(224, 224, 224)",
            "rgb(224, 224, 224)",
            "rgb(224, 224, 224)"
           ],
           "width": 2
          },
          "opacity": 0.75,
          "size": 10,
          "symbol": "circle"
         },
         "mode": "markers",
         "name": "Random Forest",
         "orientation": "v",
         "showlegend": true,
         "type": "scatter",
         "x": [
          9.546148300170898,
          9.439740180969238,
          9.254223823547363,
          9.364089012145996,
          9.168255805969238
         ],
         "xaxis": "x",
         "y": [
          12.891085624694824,
          12.968584060668945,
          12.81574821472168,
          12.7114896774292,
          12.551743507385254
         ],
         "yaxis": "y"
        },
        {
         "customdata": [
          [
           "Extra Trees<br>Performance: 0.8073999999999999"
          ],
          [
           "Extra Trees<br>Performance: 0.8070999999999999"
          ],
          [
           "Extra Trees<br>Performance: 0.8070999999999999"
          ],
          [
           "Extra Trees<br>Performance: 0.8067"
          ],
          [
           "Extra Trees<br>Performance: 0.8066"
          ]
         ],
         "hovertemplate": "<b>%{hovertext}</b><br><br>algorithm_name=Extra Trees<br>UMAP_1=%{x}<br>UMAP_2=%{y}<br>text=%{customdata[0]}<extra></extra>",
         "hovertext": [
          "Extra Trees<br>Performance: 0.8073999999999999",
          "Extra Trees<br>Performance: 0.8070999999999999",
          "Extra Trees<br>Performance: 0.8070999999999999",
          "Extra Trees<br>Performance: 0.8067",
          "Extra Trees<br>Performance: 0.8066"
         ],
         "legendgroup": "Extra Trees",
         "marker": {
          "color": "#FF97FF",
          "line": {
           "color": [
            "rgb(147, 147, 147)",
            "rgb(146, 146, 146)",
            "rgb(144, 144, 144)",
            "rgb(144, 144, 144)",
            "rgb(144, 144, 144)",
            "rgb(144, 144, 144)",
            "rgb(144, 144, 144)",
            "rgb(144, 144, 144)",
            "rgb(144, 144, 144)",
            "rgb(144, 144, 144)",
            "rgb(118, 118, 118)",
            "rgb(118, 118, 118)",
            "rgb(118, 118, 118)",
            "rgb(118, 118, 118)",
            "rgb(118, 118, 118)",
            "rgb(97, 97, 97)",
            "rgb(97, 97, 97)",
            "rgb(97, 97, 97)",
            "rgb(96, 96, 96)",
            "rgb(96, 96, 96)",
            "rgb(151, 151, 151)",
            "rgb(151, 151, 151)",
            "rgb(149, 149, 149)",
            "rgb(149, 149, 149)",
            "rgb(148, 148, 148)",
            "rgb(135, 135, 135)",
            "rgb(135, 135, 135)",
            "rgb(28, 28, 28)",
            "rgb(28, 28, 28)",
            "rgb(0, 0, 0)",
            "rgb(148, 148, 148)",
            "rgb(148, 148, 148)",
            "rgb(148, 148, 148)",
            "rgb(148, 148, 148)",
            "rgb(148, 148, 148)",
            "rgb(249, 249, 249)",
            "rgb(249, 249, 249)",
            "rgb(249, 249, 249)",
            "rgb(249, 249, 249)",
            "rgb(247, 247, 247)",
            "rgb(255, 255, 255)",
            "rgb(254, 254, 254)",
            "rgb(254, 254, 254)",
            "rgb(254, 254, 254)",
            "rgb(253, 253, 253)",
            "rgb(173, 173, 173)",
            "rgb(171, 171, 171)",
            "rgb(170, 170, 170)",
            "rgb(169, 169, 169)",
            "rgb(169, 169, 169)",
            "rgb(224, 224, 224)",
            "rgb(224, 224, 224)",
            "rgb(224, 224, 224)",
            "rgb(224, 224, 224)",
            "rgb(224, 224, 224)"
           ],
           "width": 2
          },
          "opacity": 0.75,
          "size": 10,
          "symbol": "circle"
         },
         "mode": "markers",
         "name": "Extra Trees",
         "orientation": "v",
         "showlegend": true,
         "type": "scatter",
         "x": [
          10.397590637207031,
          9.986064910888672,
          9.88125991821289,
          10.194313049316406,
          10.110406875610352
         ],
         "xaxis": "x",
         "y": [
          12.548508644104004,
          12.275701522827148,
          12.488298416137695,
          12.70119571685791,
          12.347465515136719
         ],
         "yaxis": "y"
        },
        {
         "customdata": [
          [
           "Adaptive Boosting<br>Performance: 0.748"
          ],
          [
           "Adaptive Boosting<br>Performance: 0.747"
          ],
          [
           "Adaptive Boosting<br>Performance: 0.7463"
          ],
          [
           "Adaptive Boosting<br>Performance: 0.7454000000000001"
          ],
          [
           "Adaptive Boosting<br>Performance: 0.7453"
          ]
         ],
         "hovertemplate": "<b>%{hovertext}</b><br><br>algorithm_name=Adaptive Boosting<br>UMAP_1=%{x}<br>UMAP_2=%{y}<br>text=%{customdata[0]}<extra></extra>",
         "hovertext": [
          "Adaptive Boosting<br>Performance: 0.748",
          "Adaptive Boosting<br>Performance: 0.747",
          "Adaptive Boosting<br>Performance: 0.7463",
          "Adaptive Boosting<br>Performance: 0.7454000000000001",
          "Adaptive Boosting<br>Performance: 0.7453"
         ],
         "legendgroup": "Adaptive Boosting",
         "marker": {
          "color": "#FECB52",
          "line": {
           "color": [
            "rgb(147, 147, 147)",
            "rgb(146, 146, 146)",
            "rgb(144, 144, 144)",
            "rgb(144, 144, 144)",
            "rgb(144, 144, 144)",
            "rgb(144, 144, 144)",
            "rgb(144, 144, 144)",
            "rgb(144, 144, 144)",
            "rgb(144, 144, 144)",
            "rgb(144, 144, 144)",
            "rgb(118, 118, 118)",
            "rgb(118, 118, 118)",
            "rgb(118, 118, 118)",
            "rgb(118, 118, 118)",
            "rgb(118, 118, 118)",
            "rgb(97, 97, 97)",
            "rgb(97, 97, 97)",
            "rgb(97, 97, 97)",
            "rgb(96, 96, 96)",
            "rgb(96, 96, 96)",
            "rgb(151, 151, 151)",
            "rgb(151, 151, 151)",
            "rgb(149, 149, 149)",
            "rgb(149, 149, 149)",
            "rgb(148, 148, 148)",
            "rgb(135, 135, 135)",
            "rgb(135, 135, 135)",
            "rgb(28, 28, 28)",
            "rgb(28, 28, 28)",
            "rgb(0, 0, 0)",
            "rgb(148, 148, 148)",
            "rgb(148, 148, 148)",
            "rgb(148, 148, 148)",
            "rgb(148, 148, 148)",
            "rgb(148, 148, 148)",
            "rgb(249, 249, 249)",
            "rgb(249, 249, 249)",
            "rgb(249, 249, 249)",
            "rgb(249, 249, 249)",
            "rgb(247, 247, 247)",
            "rgb(255, 255, 255)",
            "rgb(254, 254, 254)",
            "rgb(254, 254, 254)",
            "rgb(254, 254, 254)",
            "rgb(253, 253, 253)",
            "rgb(173, 173, 173)",
            "rgb(171, 171, 171)",
            "rgb(170, 170, 170)",
            "rgb(169, 169, 169)",
            "rgb(169, 169, 169)",
            "rgb(224, 224, 224)",
            "rgb(224, 224, 224)",
            "rgb(224, 224, 224)",
            "rgb(224, 224, 224)",
            "rgb(224, 224, 224)"
           ],
           "width": 2
          },
          "opacity": 0.75,
          "size": 10,
          "symbol": "circle"
         },
         "mode": "markers",
         "name": "Adaptive Boosting",
         "orientation": "v",
         "showlegend": true,
         "type": "scatter",
         "x": [
          4.442129611968994,
          4.254031181335449,
          4.618396759033203,
          4.281291484832764,
          4.331406116485596
         ],
         "xaxis": "x",
         "y": [
          1.6122366189956665,
          1.4673172235488892,
          1.6025995016098022,
          1.1554189920425415,
          1.3975942134857178
         ],
         "yaxis": "y"
        },
        {
         "customdata": [
          [
           "Gradient Boosting<br>Performance: 0.7855"
          ],
          [
           "Gradient Boosting<br>Performance: 0.7854000000000001"
          ],
          [
           "Gradient Boosting<br>Performance: 0.7854000000000001"
          ],
          [
           "Gradient Boosting<br>Performance: 0.7854000000000001"
          ],
          [
           "Gradient Boosting<br>Performance: 0.7853"
          ]
         ],
         "hovertemplate": "<b>%{hovertext}</b><br><br>algorithm_name=Gradient Boosting<br>UMAP_1=%{x}<br>UMAP_2=%{y}<br>text=%{customdata[0]}<extra></extra>",
         "hovertext": [
          "Gradient Boosting<br>Performance: 0.7855",
          "Gradient Boosting<br>Performance: 0.7854000000000001",
          "Gradient Boosting<br>Performance: 0.7854000000000001",
          "Gradient Boosting<br>Performance: 0.7854000000000001",
          "Gradient Boosting<br>Performance: 0.7853"
         ],
         "legendgroup": "Gradient Boosting",
         "marker": {
          "color": "#636efa",
          "line": {
           "color": [
            "rgb(147, 147, 147)",
            "rgb(146, 146, 146)",
            "rgb(144, 144, 144)",
            "rgb(144, 144, 144)",
            "rgb(144, 144, 144)",
            "rgb(144, 144, 144)",
            "rgb(144, 144, 144)",
            "rgb(144, 144, 144)",
            "rgb(144, 144, 144)",
            "rgb(144, 144, 144)",
            "rgb(118, 118, 118)",
            "rgb(118, 118, 118)",
            "rgb(118, 118, 118)",
            "rgb(118, 118, 118)",
            "rgb(118, 118, 118)",
            "rgb(97, 97, 97)",
            "rgb(97, 97, 97)",
            "rgb(97, 97, 97)",
            "rgb(96, 96, 96)",
            "rgb(96, 96, 96)",
            "rgb(151, 151, 151)",
            "rgb(151, 151, 151)",
            "rgb(149, 149, 149)",
            "rgb(149, 149, 149)",
            "rgb(148, 148, 148)",
            "rgb(135, 135, 135)",
            "rgb(135, 135, 135)",
            "rgb(28, 28, 28)",
            "rgb(28, 28, 28)",
            "rgb(0, 0, 0)",
            "rgb(148, 148, 148)",
            "rgb(148, 148, 148)",
            "rgb(148, 148, 148)",
            "rgb(148, 148, 148)",
            "rgb(148, 148, 148)",
            "rgb(249, 249, 249)",
            "rgb(249, 249, 249)",
            "rgb(249, 249, 249)",
            "rgb(249, 249, 249)",
            "rgb(247, 247, 247)",
            "rgb(255, 255, 255)",
            "rgb(254, 254, 254)",
            "rgb(254, 254, 254)",
            "rgb(254, 254, 254)",
            "rgb(253, 253, 253)",
            "rgb(173, 173, 173)",
            "rgb(171, 171, 171)",
            "rgb(170, 170, 170)",
            "rgb(169, 169, 169)",
            "rgb(169, 169, 169)",
            "rgb(224, 224, 224)",
            "rgb(224, 224, 224)",
            "rgb(224, 224, 224)",
            "rgb(224, 224, 224)",
            "rgb(224, 224, 224)"
           ],
           "width": 2
          },
          "opacity": 0.75,
          "size": 10,
          "symbol": "circle"
         },
         "mode": "markers",
         "name": "Gradient Boosting",
         "orientation": "v",
         "showlegend": true,
         "type": "scatter",
         "x": [
          4.92360258102417,
          4.843791484832764,
          5.064677715301514,
          4.697110652923584,
          4.816086769104004
         ],
         "xaxis": "x",
         "y": [
          13.860227584838867,
          13.938488006591797,
          13.720894813537598,
          14.092257499694824,
          13.967626571655273
         ],
         "yaxis": "y"
        }
       ],
       "layout": {
        "legend": {
         "title": {
          "text": "Algorithm"
         },
         "tracegroupgap": 0
        },
        "margin": {
         "t": 60
        },
        "template": {
         "data": {
          "bar": [
           {
            "error_x": {
             "color": "#2a3f5f"
            },
            "error_y": {
             "color": "#2a3f5f"
            },
            "marker": {
             "line": {
              "color": "#E5ECF6",
              "width": 0.5
             },
             "pattern": {
              "fillmode": "overlay",
              "size": 10,
              "solidity": 0.2
             }
            },
            "type": "bar"
           }
          ],
          "barpolar": [
           {
            "marker": {
             "line": {
              "color": "#E5ECF6",
              "width": 0.5
             },
             "pattern": {
              "fillmode": "overlay",
              "size": 10,
              "solidity": 0.2
             }
            },
            "type": "barpolar"
           }
          ],
          "carpet": [
           {
            "aaxis": {
             "endlinecolor": "#2a3f5f",
             "gridcolor": "white",
             "linecolor": "white",
             "minorgridcolor": "white",
             "startlinecolor": "#2a3f5f"
            },
            "baxis": {
             "endlinecolor": "#2a3f5f",
             "gridcolor": "white",
             "linecolor": "white",
             "minorgridcolor": "white",
             "startlinecolor": "#2a3f5f"
            },
            "type": "carpet"
           }
          ],
          "choropleth": [
           {
            "colorbar": {
             "outlinewidth": 0,
             "ticks": ""
            },
            "type": "choropleth"
           }
          ],
          "contour": [
           {
            "colorbar": {
             "outlinewidth": 0,
             "ticks": ""
            },
            "colorscale": [
             [
              0,
              "#0d0887"
             ],
             [
              0.1111111111111111,
              "#46039f"
             ],
             [
              0.2222222222222222,
              "#7201a8"
             ],
             [
              0.3333333333333333,
              "#9c179e"
             ],
             [
              0.4444444444444444,
              "#bd3786"
             ],
             [
              0.5555555555555556,
              "#d8576b"
             ],
             [
              0.6666666666666666,
              "#ed7953"
             ],
             [
              0.7777777777777778,
              "#fb9f3a"
             ],
             [
              0.8888888888888888,
              "#fdca26"
             ],
             [
              1,
              "#f0f921"
             ]
            ],
            "type": "contour"
           }
          ],
          "contourcarpet": [
           {
            "colorbar": {
             "outlinewidth": 0,
             "ticks": ""
            },
            "type": "contourcarpet"
           }
          ],
          "heatmap": [
           {
            "colorbar": {
             "outlinewidth": 0,
             "ticks": ""
            },
            "colorscale": [
             [
              0,
              "#0d0887"
             ],
             [
              0.1111111111111111,
              "#46039f"
             ],
             [
              0.2222222222222222,
              "#7201a8"
             ],
             [
              0.3333333333333333,
              "#9c179e"
             ],
             [
              0.4444444444444444,
              "#bd3786"
             ],
             [
              0.5555555555555556,
              "#d8576b"
             ],
             [
              0.6666666666666666,
              "#ed7953"
             ],
             [
              0.7777777777777778,
              "#fb9f3a"
             ],
             [
              0.8888888888888888,
              "#fdca26"
             ],
             [
              1,
              "#f0f921"
             ]
            ],
            "type": "heatmap"
           }
          ],
          "heatmapgl": [
           {
            "colorbar": {
             "outlinewidth": 0,
             "ticks": ""
            },
            "colorscale": [
             [
              0,
              "#0d0887"
             ],
             [
              0.1111111111111111,
              "#46039f"
             ],
             [
              0.2222222222222222,
              "#7201a8"
             ],
             [
              0.3333333333333333,
              "#9c179e"
             ],
             [
              0.4444444444444444,
              "#bd3786"
             ],
             [
              0.5555555555555556,
              "#d8576b"
             ],
             [
              0.6666666666666666,
              "#ed7953"
             ],
             [
              0.7777777777777778,
              "#fb9f3a"
             ],
             [
              0.8888888888888888,
              "#fdca26"
             ],
             [
              1,
              "#f0f921"
             ]
            ],
            "type": "heatmapgl"
           }
          ],
          "histogram": [
           {
            "marker": {
             "pattern": {
              "fillmode": "overlay",
              "size": 10,
              "solidity": 0.2
             }
            },
            "type": "histogram"
           }
          ],
          "histogram2d": [
           {
            "colorbar": {
             "outlinewidth": 0,
             "ticks": ""
            },
            "colorscale": [
             [
              0,
              "#0d0887"
             ],
             [
              0.1111111111111111,
              "#46039f"
             ],
             [
              0.2222222222222222,
              "#7201a8"
             ],
             [
              0.3333333333333333,
              "#9c179e"
             ],
             [
              0.4444444444444444,
              "#bd3786"
             ],
             [
              0.5555555555555556,
              "#d8576b"
             ],
             [
              0.6666666666666666,
              "#ed7953"
             ],
             [
              0.7777777777777778,
              "#fb9f3a"
             ],
             [
              0.8888888888888888,
              "#fdca26"
             ],
             [
              1,
              "#f0f921"
             ]
            ],
            "type": "histogram2d"
           }
          ],
          "histogram2dcontour": [
           {
            "colorbar": {
             "outlinewidth": 0,
             "ticks": ""
            },
            "colorscale": [
             [
              0,
              "#0d0887"
             ],
             [
              0.1111111111111111,
              "#46039f"
             ],
             [
              0.2222222222222222,
              "#7201a8"
             ],
             [
              0.3333333333333333,
              "#9c179e"
             ],
             [
              0.4444444444444444,
              "#bd3786"
             ],
             [
              0.5555555555555556,
              "#d8576b"
             ],
             [
              0.6666666666666666,
              "#ed7953"
             ],
             [
              0.7777777777777778,
              "#fb9f3a"
             ],
             [
              0.8888888888888888,
              "#fdca26"
             ],
             [
              1,
              "#f0f921"
             ]
            ],
            "type": "histogram2dcontour"
           }
          ],
          "mesh3d": [
           {
            "colorbar": {
             "outlinewidth": 0,
             "ticks": ""
            },
            "type": "mesh3d"
           }
          ],
          "parcoords": [
           {
            "line": {
             "colorbar": {
              "outlinewidth": 0,
              "ticks": ""
             }
            },
            "type": "parcoords"
           }
          ],
          "pie": [
           {
            "automargin": true,
            "type": "pie"
           }
          ],
          "scatter": [
           {
            "fillpattern": {
             "fillmode": "overlay",
             "size": 10,
             "solidity": 0.2
            },
            "type": "scatter"
           }
          ],
          "scatter3d": [
           {
            "line": {
             "colorbar": {
              "outlinewidth": 0,
              "ticks": ""
             }
            },
            "marker": {
             "colorbar": {
              "outlinewidth": 0,
              "ticks": ""
             }
            },
            "type": "scatter3d"
           }
          ],
          "scattercarpet": [
           {
            "marker": {
             "colorbar": {
              "outlinewidth": 0,
              "ticks": ""
             }
            },
            "type": "scattercarpet"
           }
          ],
          "scattergeo": [
           {
            "marker": {
             "colorbar": {
              "outlinewidth": 0,
              "ticks": ""
             }
            },
            "type": "scattergeo"
           }
          ],
          "scattergl": [
           {
            "marker": {
             "colorbar": {
              "outlinewidth": 0,
              "ticks": ""
             }
            },
            "type": "scattergl"
           }
          ],
          "scattermapbox": [
           {
            "marker": {
             "colorbar": {
              "outlinewidth": 0,
              "ticks": ""
             }
            },
            "type": "scattermapbox"
           }
          ],
          "scatterpolar": [
           {
            "marker": {
             "colorbar": {
              "outlinewidth": 0,
              "ticks": ""
             }
            },
            "type": "scatterpolar"
           }
          ],
          "scatterpolargl": [
           {
            "marker": {
             "colorbar": {
              "outlinewidth": 0,
              "ticks": ""
             }
            },
            "type": "scatterpolargl"
           }
          ],
          "scatterternary": [
           {
            "marker": {
             "colorbar": {
              "outlinewidth": 0,
              "ticks": ""
             }
            },
            "type": "scatterternary"
           }
          ],
          "surface": [
           {
            "colorbar": {
             "outlinewidth": 0,
             "ticks": ""
            },
            "colorscale": [
             [
              0,
              "#0d0887"
             ],
             [
              0.1111111111111111,
              "#46039f"
             ],
             [
              0.2222222222222222,
              "#7201a8"
             ],
             [
              0.3333333333333333,
              "#9c179e"
             ],
             [
              0.4444444444444444,
              "#bd3786"
             ],
             [
              0.5555555555555556,
              "#d8576b"
             ],
             [
              0.6666666666666666,
              "#ed7953"
             ],
             [
              0.7777777777777778,
              "#fb9f3a"
             ],
             [
              0.8888888888888888,
              "#fdca26"
             ],
             [
              1,
              "#f0f921"
             ]
            ],
            "type": "surface"
           }
          ],
          "table": [
           {
            "cells": {
             "fill": {
              "color": "#EBF0F8"
             },
             "line": {
              "color": "white"
             }
            },
            "header": {
             "fill": {
              "color": "#C8D4E3"
             },
             "line": {
              "color": "white"
             }
            },
            "type": "table"
           }
          ]
         },
         "layout": {
          "annotationdefaults": {
           "arrowcolor": "#2a3f5f",
           "arrowhead": 0,
           "arrowwidth": 1
          },
          "autotypenumbers": "strict",
          "coloraxis": {
           "colorbar": {
            "outlinewidth": 0,
            "ticks": ""
           }
          },
          "colorscale": {
           "diverging": [
            [
             0,
             "#8e0152"
            ],
            [
             0.1,
             "#c51b7d"
            ],
            [
             0.2,
             "#de77ae"
            ],
            [
             0.3,
             "#f1b6da"
            ],
            [
             0.4,
             "#fde0ef"
            ],
            [
             0.5,
             "#f7f7f7"
            ],
            [
             0.6,
             "#e6f5d0"
            ],
            [
             0.7,
             "#b8e186"
            ],
            [
             0.8,
             "#7fbc41"
            ],
            [
             0.9,
             "#4d9221"
            ],
            [
             1,
             "#276419"
            ]
           ],
           "sequential": [
            [
             0,
             "#0d0887"
            ],
            [
             0.1111111111111111,
             "#46039f"
            ],
            [
             0.2222222222222222,
             "#7201a8"
            ],
            [
             0.3333333333333333,
             "#9c179e"
            ],
            [
             0.4444444444444444,
             "#bd3786"
            ],
            [
             0.5555555555555556,
             "#d8576b"
            ],
            [
             0.6666666666666666,
             "#ed7953"
            ],
            [
             0.7777777777777778,
             "#fb9f3a"
            ],
            [
             0.8888888888888888,
             "#fdca26"
            ],
            [
             1,
             "#f0f921"
            ]
           ],
           "sequentialminus": [
            [
             0,
             "#0d0887"
            ],
            [
             0.1111111111111111,
             "#46039f"
            ],
            [
             0.2222222222222222,
             "#7201a8"
            ],
            [
             0.3333333333333333,
             "#9c179e"
            ],
            [
             0.4444444444444444,
             "#bd3786"
            ],
            [
             0.5555555555555556,
             "#d8576b"
            ],
            [
             0.6666666666666666,
             "#ed7953"
            ],
            [
             0.7777777777777778,
             "#fb9f3a"
            ],
            [
             0.8888888888888888,
             "#fdca26"
            ],
            [
             1,
             "#f0f921"
            ]
           ]
          },
          "colorway": [
           "#636efa",
           "#EF553B",
           "#00cc96",
           "#ab63fa",
           "#FFA15A",
           "#19d3f3",
           "#FF6692",
           "#B6E880",
           "#FF97FF",
           "#FECB52"
          ],
          "font": {
           "color": "#2a3f5f"
          },
          "geo": {
           "bgcolor": "white",
           "lakecolor": "white",
           "landcolor": "#E5ECF6",
           "showlakes": true,
           "showland": true,
           "subunitcolor": "white"
          },
          "hoverlabel": {
           "align": "left"
          },
          "hovermode": "closest",
          "mapbox": {
           "style": "light"
          },
          "paper_bgcolor": "white",
          "plot_bgcolor": "#E5ECF6",
          "polar": {
           "angularaxis": {
            "gridcolor": "white",
            "linecolor": "white",
            "ticks": ""
           },
           "bgcolor": "#E5ECF6",
           "radialaxis": {
            "gridcolor": "white",
            "linecolor": "white",
            "ticks": ""
           }
          },
          "scene": {
           "xaxis": {
            "backgroundcolor": "#E5ECF6",
            "gridcolor": "white",
            "gridwidth": 2,
            "linecolor": "white",
            "showbackground": true,
            "ticks": "",
            "zerolinecolor": "white"
           },
           "yaxis": {
            "backgroundcolor": "#E5ECF6",
            "gridcolor": "white",
            "gridwidth": 2,
            "linecolor": "white",
            "showbackground": true,
            "ticks": "",
            "zerolinecolor": "white"
           },
           "zaxis": {
            "backgroundcolor": "#E5ECF6",
            "gridcolor": "white",
            "gridwidth": 2,
            "linecolor": "white",
            "showbackground": true,
            "ticks": "",
            "zerolinecolor": "white"
           }
          },
          "shapedefaults": {
           "line": {
            "color": "#2a3f5f"
           }
          },
          "ternary": {
           "aaxis": {
            "gridcolor": "white",
            "linecolor": "white",
            "ticks": ""
           },
           "baxis": {
            "gridcolor": "white",
            "linecolor": "white",
            "ticks": ""
           },
           "bgcolor": "#E5ECF6",
           "caxis": {
            "gridcolor": "white",
            "linecolor": "white",
            "ticks": ""
           }
          },
          "title": {
           "x": 0.05
          },
          "xaxis": {
           "automargin": true,
           "gridcolor": "white",
           "linecolor": "white",
           "ticks": "",
           "title": {
            "standoff": 15
           },
           "zerolinecolor": "white",
           "zerolinewidth": 2
          },
          "yaxis": {
           "automargin": true,
           "gridcolor": "white",
           "linecolor": "white",
           "ticks": "",
           "title": {
            "standoff": 15
           },
           "zerolinecolor": "white",
           "zerolinewidth": 2
          }
         }
        },
        "title": {
         "text": "UMAP Plot"
        },
        "xaxis": {
         "anchor": "y",
         "domain": [
          0,
          1
         ],
         "title": {
          "text": "UMAP_1"
         }
        },
        "yaxis": {
         "anchor": "x",
         "domain": [
          0,
          1
         ],
         "title": {
          "text": "UMAP_2"
         }
        }
       }
      }
     },
     "metadata": {},
     "output_type": "display_data"
    }
   ],
   "source": [
    "fig = px.scatter(df_umap, x='UMAP_1', y='UMAP_2', color='algorithm_name',hover_name='text', hover_data=['text'])\n",
    "fig.update_layout(title_text='UMAP Plot')\n",
    "# change legend name to algorithm\n",
    "fig.update_layout(legend_title_text='Algorithm')\n",
    "# change size of points to 10, reduce opacity and change marker border color, based on performance\n",
    "fig.update_traces(marker=dict(size=10, opacity=0.75, line=dict(width=2, color=df_umap['color'])))\n",
    "#show figure with plotly\n",
    "fig.show()"
   ]
  },
  {
   "cell_type": "code",
   "execution_count": null,
   "metadata": {},
   "outputs": [],
   "source": []
  }
 ],
 "metadata": {
  "interpreter": {
   "hash": "613fe122287fdb1a4092b1ec324ab5e18de9ec977608057b646301948d1df577"
  },
  "kernelspec": {
   "display_name": "Python 3.9.7 ('base')",
   "language": "python",
   "name": "python3"
  },
  "language_info": {
   "codemirror_mode": {
    "name": "ipython",
    "version": 3
   },
   "file_extension": ".py",
   "mimetype": "text/x-python",
   "name": "python",
   "nbconvert_exporter": "python",
   "pygments_lexer": "ipython3",
   "version": "3.9.12"
  },
  "orig_nbformat": 4
 },
 "nbformat": 4,
 "nbformat_minor": 2
}
