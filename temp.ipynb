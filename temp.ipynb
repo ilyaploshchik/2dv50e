{
 "cells": [
  {
   "cell_type": "code",
   "execution_count": 1,
   "metadata": {},
   "outputs": [],
   "source": [
    "import pandas as pd\n",
    "import umap\n",
    "from sklearn import preprocessing\n",
    "import plotly.express as px"
   ]
  },
  {
   "cell_type": "code",
   "execution_count": 2,
   "metadata": {},
   "outputs": [],
   "source": [
    "path = r'D:\\github\\2dv50e\\Data\\1. Heart Disease'\n",
    "df_probabilities = pd.read_csv(path + r'\\topModelsProbabilities.csv')\n",
    "df_model = pd.read_csv(path + r'\\topModels.csv')\n",
    "algo_nr = df_model['algorithm_id']\n",
    "\n",
    "algos = {1:'K-Nearest Neighbor', 2:'Support Vector Machine', 3:'Gaussian Naive Bayes', 4:'Multilayer Perceptron', 5:'Logistic Regression',\n",
    "        6:'Linear Discriminant Analysis', 7:'Quadratic Discriminant Analysis', 8:'Random Forest', 9:'Extra Trees', 10:'Adaptive Boosting',\n",
    "        11:'Gradient Boosting'}"
   ]
  },
  {
   "cell_type": "code",
   "execution_count": 3,
   "metadata": {},
   "outputs": [],
   "source": [
    "umap_model = umap.UMAP()\n",
    "umap_embedding = umap_model.fit_transform(df_probabilities)"
   ]
  },
  {
   "cell_type": "code",
   "execution_count": 4,
   "metadata": {},
   "outputs": [],
   "source": [
    "#convert umap_embedding to dataframe\n",
    "df_umap = pd.DataFrame(umap_embedding, columns=['UMAP_1', 'UMAP_2'])\n",
    "# Add model name\n",
    "df_umap['algorithm_nr'] = algo_nr"
   ]
  },
  {
   "cell_type": "code",
   "execution_count": 5,
   "metadata": {},
   "outputs": [
    {
     "data": {
      "text/html": [
       "<div>\n",
       "<style scoped>\n",
       "    .dataframe tbody tr th:only-of-type {\n",
       "        vertical-align: middle;\n",
       "    }\n",
       "\n",
       "    .dataframe tbody tr th {\n",
       "        vertical-align: top;\n",
       "    }\n",
       "\n",
       "    .dataframe thead th {\n",
       "        text-align: right;\n",
       "    }\n",
       "</style>\n",
       "<table border=\"1\" class=\"dataframe\">\n",
       "  <thead>\n",
       "    <tr style=\"text-align: right;\">\n",
       "      <th></th>\n",
       "      <th>UMAP_1</th>\n",
       "      <th>UMAP_2</th>\n",
       "      <th>algorithm_nr</th>\n",
       "    </tr>\n",
       "  </thead>\n",
       "  <tbody>\n",
       "    <tr>\n",
       "      <th>0</th>\n",
       "      <td>-4.232199</td>\n",
       "      <td>5.979965</td>\n",
       "      <td>1</td>\n",
       "    </tr>\n",
       "    <tr>\n",
       "      <th>1</th>\n",
       "      <td>-4.681437</td>\n",
       "      <td>6.315194</td>\n",
       "      <td>1</td>\n",
       "    </tr>\n",
       "    <tr>\n",
       "      <th>2</th>\n",
       "      <td>-4.604728</td>\n",
       "      <td>6.133375</td>\n",
       "      <td>1</td>\n",
       "    </tr>\n",
       "    <tr>\n",
       "      <th>3</th>\n",
       "      <td>-4.745278</td>\n",
       "      <td>5.996721</td>\n",
       "      <td>1</td>\n",
       "    </tr>\n",
       "    <tr>\n",
       "      <th>4</th>\n",
       "      <td>-4.515416</td>\n",
       "      <td>6.209899</td>\n",
       "      <td>1</td>\n",
       "    </tr>\n",
       "  </tbody>\n",
       "</table>\n",
       "</div>"
      ],
      "text/plain": [
       "     UMAP_1    UMAP_2  algorithm_nr\n",
       "0 -4.232199  5.979965             1\n",
       "1 -4.681437  6.315194             1\n",
       "2 -4.604728  6.133375             1\n",
       "3 -4.745278  5.996721             1\n",
       "4 -4.515416  6.209899             1"
      ]
     },
     "execution_count": 5,
     "metadata": {},
     "output_type": "execute_result"
    }
   ],
   "source": [
    "df_umap.head()"
   ]
  },
  {
   "cell_type": "code",
   "execution_count": 6,
   "metadata": {},
   "outputs": [
    {
     "data": {
      "text/html": [
       "<div>\n",
       "<style scoped>\n",
       "    .dataframe tbody tr th:only-of-type {\n",
       "        vertical-align: middle;\n",
       "    }\n",
       "\n",
       "    .dataframe tbody tr th {\n",
       "        vertical-align: top;\n",
       "    }\n",
       "\n",
       "    .dataframe thead th {\n",
       "        text-align: right;\n",
       "    }\n",
       "</style>\n",
       "<table border=\"1\" class=\"dataframe\">\n",
       "  <thead>\n",
       "    <tr style=\"text-align: right;\">\n",
       "      <th></th>\n",
       "      <th>UMAP_1</th>\n",
       "      <th>UMAP_2</th>\n",
       "      <th>algorithm_nr</th>\n",
       "      <th>algorithm_name</th>\n",
       "      <th>performance</th>\n",
       "    </tr>\n",
       "  </thead>\n",
       "  <tbody>\n",
       "    <tr>\n",
       "      <th>0</th>\n",
       "      <td>-4.232199</td>\n",
       "      <td>5.979965</td>\n",
       "      <td>1</td>\n",
       "      <td>K-Nearest Neighbor</td>\n",
       "      <td>0.7293</td>\n",
       "    </tr>\n",
       "    <tr>\n",
       "      <th>1</th>\n",
       "      <td>-4.681437</td>\n",
       "      <td>6.315194</td>\n",
       "      <td>1</td>\n",
       "      <td>K-Nearest Neighbor</td>\n",
       "      <td>0.7287</td>\n",
       "    </tr>\n",
       "    <tr>\n",
       "      <th>2</th>\n",
       "      <td>-4.604728</td>\n",
       "      <td>6.133375</td>\n",
       "      <td>1</td>\n",
       "      <td>K-Nearest Neighbor</td>\n",
       "      <td>0.7274</td>\n",
       "    </tr>\n",
       "    <tr>\n",
       "      <th>3</th>\n",
       "      <td>-4.745278</td>\n",
       "      <td>5.996721</td>\n",
       "      <td>1</td>\n",
       "      <td>K-Nearest Neighbor</td>\n",
       "      <td>0.7273</td>\n",
       "    </tr>\n",
       "    <tr>\n",
       "      <th>4</th>\n",
       "      <td>-4.515416</td>\n",
       "      <td>6.209899</td>\n",
       "      <td>1</td>\n",
       "      <td>K-Nearest Neighbor</td>\n",
       "      <td>0.7272</td>\n",
       "    </tr>\n",
       "  </tbody>\n",
       "</table>\n",
       "</div>"
      ],
      "text/plain": [
       "     UMAP_1    UMAP_2  algorithm_nr      algorithm_name  performance\n",
       "0 -4.232199  5.979965             1  K-Nearest Neighbor       0.7293\n",
       "1 -4.681437  6.315194             1  K-Nearest Neighbor       0.7287\n",
       "2 -4.604728  6.133375             1  K-Nearest Neighbor       0.7274\n",
       "3 -4.745278  5.996721             1  K-Nearest Neighbor       0.7273\n",
       "4 -4.515416  6.209899             1  K-Nearest Neighbor       0.7272"
      ]
     },
     "execution_count": 6,
     "metadata": {},
     "output_type": "execute_result"
    }
   ],
   "source": [
    "df_umap['algorithm_name'] = df_umap['algorithm_nr'].map(algos)\n",
    "df_umap['performance'] = df_model['overall_performance']/100\n",
    "df_umap.head()"
   ]
  },
  {
   "cell_type": "code",
   "execution_count": 10,
   "metadata": {},
   "outputs": [
    {
     "name": "stdout",
     "output_type": "stream",
     "text": [
      "0.0 1.0\n"
     ]
    },
    {
     "data": {
      "text/html": [
       "<div>\n",
       "<style scoped>\n",
       "    .dataframe tbody tr th:only-of-type {\n",
       "        vertical-align: middle;\n",
       "    }\n",
       "\n",
       "    .dataframe tbody tr th {\n",
       "        vertical-align: top;\n",
       "    }\n",
       "\n",
       "    .dataframe thead th {\n",
       "        text-align: right;\n",
       "    }\n",
       "</style>\n",
       "<table border=\"1\" class=\"dataframe\">\n",
       "  <thead>\n",
       "    <tr style=\"text-align: right;\">\n",
       "      <th></th>\n",
       "      <th>UMAP_1</th>\n",
       "      <th>UMAP_2</th>\n",
       "      <th>algorithm_nr</th>\n",
       "      <th>algorithm_name</th>\n",
       "      <th>performance</th>\n",
       "      <th>performance_scaled</th>\n",
       "      <th>color</th>\n",
       "      <th>text</th>\n",
       "      <th>model_id</th>\n",
       "    </tr>\n",
       "  </thead>\n",
       "  <tbody>\n",
       "    <tr>\n",
       "      <th>0</th>\n",
       "      <td>-4.232199</td>\n",
       "      <td>5.979965</td>\n",
       "      <td>1</td>\n",
       "      <td>K-Nearest Neighbor</td>\n",
       "      <td>0.7293</td>\n",
       "      <td>0.578749</td>\n",
       "      <td>rgba(147, 147, 147, 1)</td>\n",
       "      <td>K-Nearest Neighbor&lt;br&gt;Performance: 0.729300000...</td>\n",
       "      <td>452</td>\n",
       "    </tr>\n",
       "    <tr>\n",
       "      <th>1</th>\n",
       "      <td>-4.681437</td>\n",
       "      <td>6.315194</td>\n",
       "      <td>1</td>\n",
       "      <td>K-Nearest Neighbor</td>\n",
       "      <td>0.7287</td>\n",
       "      <td>0.575512</td>\n",
       "      <td>rgba(146, 146, 146, 1)</td>\n",
       "      <td>K-Nearest Neighbor&lt;br&gt;Performance: 0.7287</td>\n",
       "      <td>288</td>\n",
       "    </tr>\n",
       "    <tr>\n",
       "      <th>2</th>\n",
       "      <td>-4.604728</td>\n",
       "      <td>6.133375</td>\n",
       "      <td>1</td>\n",
       "      <td>K-Nearest Neighbor</td>\n",
       "      <td>0.7274</td>\n",
       "      <td>0.568501</td>\n",
       "      <td>rgba(144, 144, 144, 1)</td>\n",
       "      <td>K-Nearest Neighbor&lt;br&gt;Performance: 0.727399999...</td>\n",
       "      <td>96</td>\n",
       "    </tr>\n",
       "    <tr>\n",
       "      <th>3</th>\n",
       "      <td>-4.745278</td>\n",
       "      <td>5.996721</td>\n",
       "      <td>1</td>\n",
       "      <td>K-Nearest Neighbor</td>\n",
       "      <td>0.7273</td>\n",
       "      <td>0.567961</td>\n",
       "      <td>rgba(144, 144, 144, 1)</td>\n",
       "      <td>K-Nearest Neighbor&lt;br&gt;Performance: 0.727300000...</td>\n",
       "      <td>480</td>\n",
       "    </tr>\n",
       "    <tr>\n",
       "      <th>4</th>\n",
       "      <td>-4.515416</td>\n",
       "      <td>6.209899</td>\n",
       "      <td>1</td>\n",
       "      <td>K-Nearest Neighbor</td>\n",
       "      <td>0.7272</td>\n",
       "      <td>0.567422</td>\n",
       "      <td>rgba(144, 144, 144, 1)</td>\n",
       "      <td>K-Nearest Neighbor&lt;br&gt;Performance: 0.7272</td>\n",
       "      <td>458</td>\n",
       "    </tr>\n",
       "  </tbody>\n",
       "</table>\n",
       "</div>"
      ],
      "text/plain": [
       "     UMAP_1    UMAP_2  algorithm_nr      algorithm_name  performance  \\\n",
       "0 -4.232199  5.979965             1  K-Nearest Neighbor       0.7293   \n",
       "1 -4.681437  6.315194             1  K-Nearest Neighbor       0.7287   \n",
       "2 -4.604728  6.133375             1  K-Nearest Neighbor       0.7274   \n",
       "3 -4.745278  5.996721             1  K-Nearest Neighbor       0.7273   \n",
       "4 -4.515416  6.209899             1  K-Nearest Neighbor       0.7272   \n",
       "\n",
       "   performance_scaled                   color  \\\n",
       "0            0.578749  rgba(147, 147, 147, 1)   \n",
       "1            0.575512  rgba(146, 146, 146, 1)   \n",
       "2            0.568501  rgba(144, 144, 144, 1)   \n",
       "3            0.567961  rgba(144, 144, 144, 1)   \n",
       "4            0.567422  rgba(144, 144, 144, 1)   \n",
       "\n",
       "                                                text  model_id  \n",
       "0  K-Nearest Neighbor<br>Performance: 0.729300000...       452  \n",
       "1          K-Nearest Neighbor<br>Performance: 0.7287       288  \n",
       "2  K-Nearest Neighbor<br>Performance: 0.727399999...        96  \n",
       "3  K-Nearest Neighbor<br>Performance: 0.727300000...       480  \n",
       "4          K-Nearest Neighbor<br>Performance: 0.7272       458  "
      ]
     },
     "execution_count": 10,
     "metadata": {},
     "output_type": "execute_result"
    }
   ],
   "source": [
    "# re-scale df.performance in scale from 0 to 1 and save as new column\n",
    "min_max_scaler = preprocessing.MinMaxScaler()\n",
    "# run min_max_scaler om df.perfromance_scaled in range 0 to 255\n",
    "df_umap['performance_scaled'] = min_max_scaler.fit_transform(df_umap['performance'].values.reshape(-1,1))\n",
    "# print min and max performance\n",
    "print(df_umap['performance_scaled'].min(), df_umap['performance_scaled'].max())\n",
    "df_umap['color'] = df_umap['performance_scaled'].apply(lambda x: 'rgba(' + str(int(x*255)) + ', '+ \n",
    "            str(int(x*255)) + ', '+ str(int(x*255)) + ', 1)')\n",
    "df_umap['model_id'] = df_model['model_id']\n",
    "df_umap['text'] = df_umap['algorithm_name'] + '<br>' + 'Performance: ' + df_umap['performance'].astype(str) + '<br>' + 'Model ID: ' + df_umap['model_id'].astype(str)\n",
    "df_umap.head()\n"
   ]
  },
  {
   "cell_type": "code",
   "execution_count": 11,
   "metadata": {},
   "outputs": [
    {
     "data": {
      "application/vnd.plotly.v1+json": {
       "config": {
        "plotlyServerURL": "https://plot.ly"
       },
       "data": [
        {
         "customdata": [
          [
           "K-Nearest Neighbor<br>Performance: 0.7293000000000001"
          ],
          [
           "K-Nearest Neighbor<br>Performance: 0.7287"
          ],
          [
           "K-Nearest Neighbor<br>Performance: 0.7273999999999999"
          ],
          [
           "K-Nearest Neighbor<br>Performance: 0.7273000000000001"
          ],
          [
           "K-Nearest Neighbor<br>Performance: 0.7272"
          ]
         ],
         "hovertemplate": "<b>%{hovertext}</b><br><br>algorithm_name=K-Nearest Neighbor<br>UMAP_1=%{x}<br>UMAP_2=%{y}<br>text=%{customdata[0]}<extra></extra>",
         "hovertext": [
          "K-Nearest Neighbor<br>Performance: 0.7293000000000001",
          "K-Nearest Neighbor<br>Performance: 0.7287",
          "K-Nearest Neighbor<br>Performance: 0.7273999999999999",
          "K-Nearest Neighbor<br>Performance: 0.7273000000000001",
          "K-Nearest Neighbor<br>Performance: 0.7272"
         ],
         "legendgroup": "K-Nearest Neighbor",
         "marker": {
          "color": "#636efa",
          "line": {
           "color": [
            "rgba(147, 147, 147, 1)",
            "rgba(146, 146, 146, 1)",
            "rgba(144, 144, 144, 1)",
            "rgba(144, 144, 144, 1)",
            "rgba(144, 144, 144, 1)",
            "rgba(144, 144, 144, 1)",
            "rgba(144, 144, 144, 1)",
            "rgba(144, 144, 144, 1)",
            "rgba(144, 144, 144, 1)",
            "rgba(144, 144, 144, 1)",
            "rgba(118, 118, 118, 1)",
            "rgba(118, 118, 118, 1)",
            "rgba(118, 118, 118, 1)",
            "rgba(118, 118, 118, 1)",
            "rgba(118, 118, 118, 1)",
            "rgba(97, 97, 97, 1)",
            "rgba(97, 97, 97, 1)",
            "rgba(97, 97, 97, 1)",
            "rgba(96, 96, 96, 1)",
            "rgba(96, 96, 96, 1)",
            "rgba(151, 151, 151, 1)",
            "rgba(151, 151, 151, 1)",
            "rgba(149, 149, 149, 1)",
            "rgba(149, 149, 149, 1)",
            "rgba(148, 148, 148, 1)",
            "rgba(135, 135, 135, 1)",
            "rgba(135, 135, 135, 1)",
            "rgba(28, 28, 28, 1)",
            "rgba(28, 28, 28, 1)",
            "rgba(0, 0, 0, 1)",
            "rgba(148, 148, 148, 1)",
            "rgba(148, 148, 148, 1)",
            "rgba(148, 148, 148, 1)",
            "rgba(148, 148, 148, 1)",
            "rgba(148, 148, 148, 1)",
            "rgba(249, 249, 249, 1)",
            "rgba(249, 249, 249, 1)",
            "rgba(249, 249, 249, 1)",
            "rgba(249, 249, 249, 1)",
            "rgba(247, 247, 247, 1)",
            "rgba(255, 255, 255, 1)",
            "rgba(254, 254, 254, 1)",
            "rgba(254, 254, 254, 1)",
            "rgba(254, 254, 254, 1)",
            "rgba(253, 253, 253, 1)",
            "rgba(173, 173, 173, 1)",
            "rgba(171, 171, 171, 1)",
            "rgba(170, 170, 170, 1)",
            "rgba(169, 169, 169, 1)",
            "rgba(169, 169, 169, 1)",
            "rgba(224, 224, 224, 1)",
            "rgba(224, 224, 224, 1)",
            "rgba(224, 224, 224, 1)",
            "rgba(224, 224, 224, 1)",
            "rgba(224, 224, 224, 1)"
           ],
           "width": 2
          },
          "opacity": 0.75,
          "size": 10,
          "symbol": "circle"
         },
         "mode": "markers",
         "name": "K-Nearest Neighbor",
         "orientation": "v",
         "showlegend": true,
         "type": "scatter",
         "x": [
          -4.232198715209961,
          -4.6814374923706055,
          -4.6047282218933105,
          -4.7452778816223145,
          -4.515415668487549
         ],
         "xaxis": "x",
         "y": [
          5.979964733123779,
          6.3151936531066895,
          6.1333746910095215,
          5.996721267700195,
          6.209899425506592
         ],
         "yaxis": "y"
        },
        {
         "customdata": [
          [
           "Support Vector Machine<br>Performance: 0.7271"
          ],
          [
           "Support Vector Machine<br>Performance: 0.727"
          ],
          [
           "Support Vector Machine<br>Performance: 0.727"
          ],
          [
           "Support Vector Machine<br>Performance: 0.727"
          ],
          [
           "Support Vector Machine<br>Performance: 0.7269"
          ]
         ],
         "hovertemplate": "<b>%{hovertext}</b><br><br>algorithm_name=Support Vector Machine<br>UMAP_1=%{x}<br>UMAP_2=%{y}<br>text=%{customdata[0]}<extra></extra>",
         "hovertext": [
          "Support Vector Machine<br>Performance: 0.7271",
          "Support Vector Machine<br>Performance: 0.727",
          "Support Vector Machine<br>Performance: 0.727",
          "Support Vector Machine<br>Performance: 0.727",
          "Support Vector Machine<br>Performance: 0.7269"
         ],
         "legendgroup": "Support Vector Machine",
         "marker": {
          "color": "#EF553B",
          "line": {
           "color": [
            "rgba(147, 147, 147, 1)",
            "rgba(146, 146, 146, 1)",
            "rgba(144, 144, 144, 1)",
            "rgba(144, 144, 144, 1)",
            "rgba(144, 144, 144, 1)",
            "rgba(144, 144, 144, 1)",
            "rgba(144, 144, 144, 1)",
            "rgba(144, 144, 144, 1)",
            "rgba(144, 144, 144, 1)",
            "rgba(144, 144, 144, 1)",
            "rgba(118, 118, 118, 1)",
            "rgba(118, 118, 118, 1)",
            "rgba(118, 118, 118, 1)",
            "rgba(118, 118, 118, 1)",
            "rgba(118, 118, 118, 1)",
            "rgba(97, 97, 97, 1)",
            "rgba(97, 97, 97, 1)",
            "rgba(97, 97, 97, 1)",
            "rgba(96, 96, 96, 1)",
            "rgba(96, 96, 96, 1)",
            "rgba(151, 151, 151, 1)",
            "rgba(151, 151, 151, 1)",
            "rgba(149, 149, 149, 1)",
            "rgba(149, 149, 149, 1)",
            "rgba(148, 148, 148, 1)",
            "rgba(135, 135, 135, 1)",
            "rgba(135, 135, 135, 1)",
            "rgba(28, 28, 28, 1)",
            "rgba(28, 28, 28, 1)",
            "rgba(0, 0, 0, 1)",
            "rgba(148, 148, 148, 1)",
            "rgba(148, 148, 148, 1)",
            "rgba(148, 148, 148, 1)",
            "rgba(148, 148, 148, 1)",
            "rgba(148, 148, 148, 1)",
            "rgba(249, 249, 249, 1)",
            "rgba(249, 249, 249, 1)",
            "rgba(249, 249, 249, 1)",
            "rgba(249, 249, 249, 1)",
            "rgba(247, 247, 247, 1)",
            "rgba(255, 255, 255, 1)",
            "rgba(254, 254, 254, 1)",
            "rgba(254, 254, 254, 1)",
            "rgba(254, 254, 254, 1)",
            "rgba(253, 253, 253, 1)",
            "rgba(173, 173, 173, 1)",
            "rgba(171, 171, 171, 1)",
            "rgba(170, 170, 170, 1)",
            "rgba(169, 169, 169, 1)",
            "rgba(169, 169, 169, 1)",
            "rgba(224, 224, 224, 1)",
            "rgba(224, 224, 224, 1)",
            "rgba(224, 224, 224, 1)",
            "rgba(224, 224, 224, 1)",
            "rgba(224, 224, 224, 1)"
           ],
           "width": 2
          },
          "opacity": 0.75,
          "size": 10,
          "symbol": "circle"
         },
         "mode": "markers",
         "name": "Support Vector Machine",
         "orientation": "v",
         "showlegend": true,
         "type": "scatter",
         "x": [
          14.35534381866455,
          14.596165657043457,
          14.378009796142578,
          14.19471263885498,
          14.64702320098877
         ],
         "xaxis": "x",
         "y": [
          6.4638285636901855,
          6.74241828918457,
          6.530768871307373,
          6.495065689086914,
          6.340780258178711
         ],
         "yaxis": "y"
        },
        {
         "customdata": [
          [
           "Gaussian Naive Bayes<br>Performance: 0.7084"
          ],
          [
           "Gaussian Naive Bayes<br>Performance: 0.7084"
          ],
          [
           "Gaussian Naive Bayes<br>Performance: 0.7084"
          ],
          [
           "Gaussian Naive Bayes<br>Performance: 0.7084"
          ],
          [
           "Gaussian Naive Bayes<br>Performance: 0.7084"
          ]
         ],
         "hovertemplate": "<b>%{hovertext}</b><br><br>algorithm_name=Gaussian Naive Bayes<br>UMAP_1=%{x}<br>UMAP_2=%{y}<br>text=%{customdata[0]}<extra></extra>",
         "hovertext": [
          "Gaussian Naive Bayes<br>Performance: 0.7084",
          "Gaussian Naive Bayes<br>Performance: 0.7084",
          "Gaussian Naive Bayes<br>Performance: 0.7084",
          "Gaussian Naive Bayes<br>Performance: 0.7084",
          "Gaussian Naive Bayes<br>Performance: 0.7084"
         ],
         "legendgroup": "Gaussian Naive Bayes",
         "marker": {
          "color": "#00cc96",
          "line": {
           "color": [
            "rgba(147, 147, 147, 1)",
            "rgba(146, 146, 146, 1)",
            "rgba(144, 144, 144, 1)",
            "rgba(144, 144, 144, 1)",
            "rgba(144, 144, 144, 1)",
            "rgba(144, 144, 144, 1)",
            "rgba(144, 144, 144, 1)",
            "rgba(144, 144, 144, 1)",
            "rgba(144, 144, 144, 1)",
            "rgba(144, 144, 144, 1)",
            "rgba(118, 118, 118, 1)",
            "rgba(118, 118, 118, 1)",
            "rgba(118, 118, 118, 1)",
            "rgba(118, 118, 118, 1)",
            "rgba(118, 118, 118, 1)",
            "rgba(97, 97, 97, 1)",
            "rgba(97, 97, 97, 1)",
            "rgba(97, 97, 97, 1)",
            "rgba(96, 96, 96, 1)",
            "rgba(96, 96, 96, 1)",
            "rgba(151, 151, 151, 1)",
            "rgba(151, 151, 151, 1)",
            "rgba(149, 149, 149, 1)",
            "rgba(149, 149, 149, 1)",
            "rgba(148, 148, 148, 1)",
            "rgba(135, 135, 135, 1)",
            "rgba(135, 135, 135, 1)",
            "rgba(28, 28, 28, 1)",
            "rgba(28, 28, 28, 1)",
            "rgba(0, 0, 0, 1)",
            "rgba(148, 148, 148, 1)",
            "rgba(148, 148, 148, 1)",
            "rgba(148, 148, 148, 1)",
            "rgba(148, 148, 148, 1)",
            "rgba(148, 148, 148, 1)",
            "rgba(249, 249, 249, 1)",
            "rgba(249, 249, 249, 1)",
            "rgba(249, 249, 249, 1)",
            "rgba(249, 249, 249, 1)",
            "rgba(247, 247, 247, 1)",
            "rgba(255, 255, 255, 1)",
            "rgba(254, 254, 254, 1)",
            "rgba(254, 254, 254, 1)",
            "rgba(254, 254, 254, 1)",
            "rgba(253, 253, 253, 1)",
            "rgba(173, 173, 173, 1)",
            "rgba(171, 171, 171, 1)",
            "rgba(170, 170, 170, 1)",
            "rgba(169, 169, 169, 1)",
            "rgba(169, 169, 169, 1)",
            "rgba(224, 224, 224, 1)",
            "rgba(224, 224, 224, 1)",
            "rgba(224, 224, 224, 1)",
            "rgba(224, 224, 224, 1)",
            "rgba(224, 224, 224, 1)"
           ],
           "width": 2
          },
          "opacity": 0.75,
          "size": 10,
          "symbol": "circle"
         },
         "mode": "markers",
         "name": "Gaussian Naive Bayes",
         "orientation": "v",
         "showlegend": true,
         "type": "scatter",
         "x": [
          -16.2581844329834,
          -16.43596649169922,
          -16.60906410217285,
          -16.541114807128906,
          -16.321969985961914
         ],
         "xaxis": "x",
         "y": [
          7.571923732757568,
          7.749648094177246,
          7.922293186187744,
          7.854865550994873,
          7.63580846786499
         ],
         "yaxis": "y"
        },
        {
         "customdata": [
          [
           "Multilayer Perceptron<br>Performance: 0.6931999999999999"
          ],
          [
           "Multilayer Perceptron<br>Performance: 0.6931999999999999"
          ],
          [
           "Multilayer Perceptron<br>Performance: 0.6931999999999999"
          ],
          [
           "Multilayer Perceptron<br>Performance: 0.6920000000000001"
          ],
          [
           "Multilayer Perceptron<br>Performance: 0.6920000000000001"
          ]
         ],
         "hovertemplate": "<b>%{hovertext}</b><br><br>algorithm_name=Multilayer Perceptron<br>UMAP_1=%{x}<br>UMAP_2=%{y}<br>text=%{customdata[0]}<extra></extra>",
         "hovertext": [
          "Multilayer Perceptron<br>Performance: 0.6931999999999999",
          "Multilayer Perceptron<br>Performance: 0.6931999999999999",
          "Multilayer Perceptron<br>Performance: 0.6931999999999999",
          "Multilayer Perceptron<br>Performance: 0.6920000000000001",
          "Multilayer Perceptron<br>Performance: 0.6920000000000001"
         ],
         "legendgroup": "Multilayer Perceptron",
         "marker": {
          "color": "#ab63fa",
          "line": {
           "color": [
            "rgba(147, 147, 147, 1)",
            "rgba(146, 146, 146, 1)",
            "rgba(144, 144, 144, 1)",
            "rgba(144, 144, 144, 1)",
            "rgba(144, 144, 144, 1)",
            "rgba(144, 144, 144, 1)",
            "rgba(144, 144, 144, 1)",
            "rgba(144, 144, 144, 1)",
            "rgba(144, 144, 144, 1)",
            "rgba(144, 144, 144, 1)",
            "rgba(118, 118, 118, 1)",
            "rgba(118, 118, 118, 1)",
            "rgba(118, 118, 118, 1)",
            "rgba(118, 118, 118, 1)",
            "rgba(118, 118, 118, 1)",
            "rgba(97, 97, 97, 1)",
            "rgba(97, 97, 97, 1)",
            "rgba(97, 97, 97, 1)",
            "rgba(96, 96, 96, 1)",
            "rgba(96, 96, 96, 1)",
            "rgba(151, 151, 151, 1)",
            "rgba(151, 151, 151, 1)",
            "rgba(149, 149, 149, 1)",
            "rgba(149, 149, 149, 1)",
            "rgba(148, 148, 148, 1)",
            "rgba(135, 135, 135, 1)",
            "rgba(135, 135, 135, 1)",
            "rgba(28, 28, 28, 1)",
            "rgba(28, 28, 28, 1)",
            "rgba(0, 0, 0, 1)",
            "rgba(148, 148, 148, 1)",
            "rgba(148, 148, 148, 1)",
            "rgba(148, 148, 148, 1)",
            "rgba(148, 148, 148, 1)",
            "rgba(148, 148, 148, 1)",
            "rgba(249, 249, 249, 1)",
            "rgba(249, 249, 249, 1)",
            "rgba(249, 249, 249, 1)",
            "rgba(249, 249, 249, 1)",
            "rgba(247, 247, 247, 1)",
            "rgba(255, 255, 255, 1)",
            "rgba(254, 254, 254, 1)",
            "rgba(254, 254, 254, 1)",
            "rgba(254, 254, 254, 1)",
            "rgba(253, 253, 253, 1)",
            "rgba(173, 173, 173, 1)",
            "rgba(171, 171, 171, 1)",
            "rgba(170, 170, 170, 1)",
            "rgba(169, 169, 169, 1)",
            "rgba(169, 169, 169, 1)",
            "rgba(224, 224, 224, 1)",
            "rgba(224, 224, 224, 1)",
            "rgba(224, 224, 224, 1)",
            "rgba(224, 224, 224, 1)",
            "rgba(224, 224, 224, 1)"
           ],
           "width": 2
          },
          "opacity": 0.75,
          "size": 10,
          "symbol": "circle"
         },
         "mode": "markers",
         "name": "Multilayer Perceptron",
         "orientation": "v",
         "showlegend": true,
         "type": "scatter",
         "x": [
          -2.825833559036255,
          -2.973924398422241,
          -2.6326160430908203,
          -2.6009390354156494,
          -2.757765769958496
         ],
         "xaxis": "x",
         "y": [
          6.810932636260986,
          6.452703952789307,
          6.624206066131592,
          6.750149726867676,
          6.695504665374756
         ],
         "yaxis": "y"
        },
        {
         "customdata": [
          [
           "Logistic Regression<br>Performance: 0.7321"
          ],
          [
           "Logistic Regression<br>Performance: 0.732"
          ],
          [
           "Logistic Regression<br>Performance: 0.731"
          ],
          [
           "Logistic Regression<br>Performance: 0.7308"
          ],
          [
           "Logistic Regression<br>Performance: 0.7298"
          ]
         ],
         "hovertemplate": "<b>%{hovertext}</b><br><br>algorithm_name=Logistic Regression<br>UMAP_1=%{x}<br>UMAP_2=%{y}<br>text=%{customdata[0]}<extra></extra>",
         "hovertext": [
          "Logistic Regression<br>Performance: 0.7321",
          "Logistic Regression<br>Performance: 0.732",
          "Logistic Regression<br>Performance: 0.731",
          "Logistic Regression<br>Performance: 0.7308",
          "Logistic Regression<br>Performance: 0.7298"
         ],
         "legendgroup": "Logistic Regression",
         "marker": {
          "color": "#FFA15A",
          "line": {
           "color": [
            "rgba(147, 147, 147, 1)",
            "rgba(146, 146, 146, 1)",
            "rgba(144, 144, 144, 1)",
            "rgba(144, 144, 144, 1)",
            "rgba(144, 144, 144, 1)",
            "rgba(144, 144, 144, 1)",
            "rgba(144, 144, 144, 1)",
            "rgba(144, 144, 144, 1)",
            "rgba(144, 144, 144, 1)",
            "rgba(144, 144, 144, 1)",
            "rgba(118, 118, 118, 1)",
            "rgba(118, 118, 118, 1)",
            "rgba(118, 118, 118, 1)",
            "rgba(118, 118, 118, 1)",
            "rgba(118, 118, 118, 1)",
            "rgba(97, 97, 97, 1)",
            "rgba(97, 97, 97, 1)",
            "rgba(97, 97, 97, 1)",
            "rgba(96, 96, 96, 1)",
            "rgba(96, 96, 96, 1)",
            "rgba(151, 151, 151, 1)",
            "rgba(151, 151, 151, 1)",
            "rgba(149, 149, 149, 1)",
            "rgba(149, 149, 149, 1)",
            "rgba(148, 148, 148, 1)",
            "rgba(135, 135, 135, 1)",
            "rgba(135, 135, 135, 1)",
            "rgba(28, 28, 28, 1)",
            "rgba(28, 28, 28, 1)",
            "rgba(0, 0, 0, 1)",
            "rgba(148, 148, 148, 1)",
            "rgba(148, 148, 148, 1)",
            "rgba(148, 148, 148, 1)",
            "rgba(148, 148, 148, 1)",
            "rgba(148, 148, 148, 1)",
            "rgba(249, 249, 249, 1)",
            "rgba(249, 249, 249, 1)",
            "rgba(249, 249, 249, 1)",
            "rgba(249, 249, 249, 1)",
            "rgba(247, 247, 247, 1)",
            "rgba(255, 255, 255, 1)",
            "rgba(254, 254, 254, 1)",
            "rgba(254, 254, 254, 1)",
            "rgba(254, 254, 254, 1)",
            "rgba(253, 253, 253, 1)",
            "rgba(173, 173, 173, 1)",
            "rgba(171, 171, 171, 1)",
            "rgba(170, 170, 170, 1)",
            "rgba(169, 169, 169, 1)",
            "rgba(169, 169, 169, 1)",
            "rgba(224, 224, 224, 1)",
            "rgba(224, 224, 224, 1)",
            "rgba(224, 224, 224, 1)",
            "rgba(224, 224, 224, 1)",
            "rgba(224, 224, 224, 1)"
           ],
           "width": 2
          },
          "opacity": 0.75,
          "size": 10,
          "symbol": "circle"
         },
         "mode": "markers",
         "name": "Logistic Regression",
         "orientation": "v",
         "showlegend": true,
         "type": "scatter",
         "x": [
          13.763213157653809,
          13.843055725097656,
          13.879183769226074,
          14.06633472442627,
          13.722265243530273
         ],
         "xaxis": "x",
         "y": [
          5.753951072692871,
          5.6667022705078125,
          5.505712032318115,
          5.374319076538086,
          5.306264877319336
         ],
         "yaxis": "y"
        },
        {
         "customdata": [
          [
           "Linear Discriminant Analysis<br>Performance: 0.7202"
          ],
          [
           "Linear Discriminant Analysis<br>Performance: 0.7202"
          ],
          [
           "Linear Discriminant Analysis<br>Performance: 0.6426999999999999"
          ],
          [
           "Linear Discriminant Analysis<br>Performance: 0.6426999999999999"
          ],
          [
           "Linear Discriminant Analysis<br>Performance: 0.622"
          ]
         ],
         "hovertemplate": "<b>%{hovertext}</b><br><br>algorithm_name=Linear Discriminant Analysis<br>UMAP_1=%{x}<br>UMAP_2=%{y}<br>text=%{customdata[0]}<extra></extra>",
         "hovertext": [
          "Linear Discriminant Analysis<br>Performance: 0.7202",
          "Linear Discriminant Analysis<br>Performance: 0.7202",
          "Linear Discriminant Analysis<br>Performance: 0.6426999999999999",
          "Linear Discriminant Analysis<br>Performance: 0.6426999999999999",
          "Linear Discriminant Analysis<br>Performance: 0.622"
         ],
         "legendgroup": "Linear Discriminant Analysis",
         "marker": {
          "color": "#19d3f3",
          "line": {
           "color": [
            "rgba(147, 147, 147, 1)",
            "rgba(146, 146, 146, 1)",
            "rgba(144, 144, 144, 1)",
            "rgba(144, 144, 144, 1)",
            "rgba(144, 144, 144, 1)",
            "rgba(144, 144, 144, 1)",
            "rgba(144, 144, 144, 1)",
            "rgba(144, 144, 144, 1)",
            "rgba(144, 144, 144, 1)",
            "rgba(144, 144, 144, 1)",
            "rgba(118, 118, 118, 1)",
            "rgba(118, 118, 118, 1)",
            "rgba(118, 118, 118, 1)",
            "rgba(118, 118, 118, 1)",
            "rgba(118, 118, 118, 1)",
            "rgba(97, 97, 97, 1)",
            "rgba(97, 97, 97, 1)",
            "rgba(97, 97, 97, 1)",
            "rgba(96, 96, 96, 1)",
            "rgba(96, 96, 96, 1)",
            "rgba(151, 151, 151, 1)",
            "rgba(151, 151, 151, 1)",
            "rgba(149, 149, 149, 1)",
            "rgba(149, 149, 149, 1)",
            "rgba(148, 148, 148, 1)",
            "rgba(135, 135, 135, 1)",
            "rgba(135, 135, 135, 1)",
            "rgba(28, 28, 28, 1)",
            "rgba(28, 28, 28, 1)",
            "rgba(0, 0, 0, 1)",
            "rgba(148, 148, 148, 1)",
            "rgba(148, 148, 148, 1)",
            "rgba(148, 148, 148, 1)",
            "rgba(148, 148, 148, 1)",
            "rgba(148, 148, 148, 1)",
            "rgba(249, 249, 249, 1)",
            "rgba(249, 249, 249, 1)",
            "rgba(249, 249, 249, 1)",
            "rgba(249, 249, 249, 1)",
            "rgba(247, 247, 247, 1)",
            "rgba(255, 255, 255, 1)",
            "rgba(254, 254, 254, 1)",
            "rgba(254, 254, 254, 1)",
            "rgba(254, 254, 254, 1)",
            "rgba(253, 253, 253, 1)",
            "rgba(173, 173, 173, 1)",
            "rgba(171, 171, 171, 1)",
            "rgba(170, 170, 170, 1)",
            "rgba(169, 169, 169, 1)",
            "rgba(169, 169, 169, 1)",
            "rgba(224, 224, 224, 1)",
            "rgba(224, 224, 224, 1)",
            "rgba(224, 224, 224, 1)",
            "rgba(224, 224, 224, 1)",
            "rgba(224, 224, 224, 1)"
           ],
           "width": 2
          },
          "opacity": 0.75,
          "size": 10,
          "symbol": "circle"
         },
         "mode": "markers",
         "name": "Linear Discriminant Analysis",
         "orientation": "v",
         "showlegend": true,
         "type": "scatter",
         "x": [
          13.368940353393555,
          13.175935745239258,
          -3.878796339035034,
          -4.04426908493042,
          -3.983954906463623
         ],
         "xaxis": "x",
         "y": [
          4.893466472625732,
          5.28550386428833,
          6.584113597869873,
          6.350140571594238,
          6.492103576660156
         ],
         "yaxis": "y"
        },
        {
         "customdata": [
          [
           "Quadratic Discriminant Analysis<br>Performance: 0.7301000000000001"
          ],
          [
           "Quadratic Discriminant Analysis<br>Performance: 0.7301000000000001"
          ],
          [
           "Quadratic Discriminant Analysis<br>Performance: 0.7301000000000001"
          ],
          [
           "Quadratic Discriminant Analysis<br>Performance: 0.7301000000000001"
          ],
          [
           "Quadratic Discriminant Analysis<br>Performance: 0.7301000000000001"
          ]
         ],
         "hovertemplate": "<b>%{hovertext}</b><br><br>algorithm_name=Quadratic Discriminant Analysis<br>UMAP_1=%{x}<br>UMAP_2=%{y}<br>text=%{customdata[0]}<extra></extra>",
         "hovertext": [
          "Quadratic Discriminant Analysis<br>Performance: 0.7301000000000001",
          "Quadratic Discriminant Analysis<br>Performance: 0.7301000000000001",
          "Quadratic Discriminant Analysis<br>Performance: 0.7301000000000001",
          "Quadratic Discriminant Analysis<br>Performance: 0.7301000000000001",
          "Quadratic Discriminant Analysis<br>Performance: 0.7301000000000001"
         ],
         "legendgroup": "Quadratic Discriminant Analysis",
         "marker": {
          "color": "#FF6692",
          "line": {
           "color": [
            "rgba(147, 147, 147, 1)",
            "rgba(146, 146, 146, 1)",
            "rgba(144, 144, 144, 1)",
            "rgba(144, 144, 144, 1)",
            "rgba(144, 144, 144, 1)",
            "rgba(144, 144, 144, 1)",
            "rgba(144, 144, 144, 1)",
            "rgba(144, 144, 144, 1)",
            "rgba(144, 144, 144, 1)",
            "rgba(144, 144, 144, 1)",
            "rgba(118, 118, 118, 1)",
            "rgba(118, 118, 118, 1)",
            "rgba(118, 118, 118, 1)",
            "rgba(118, 118, 118, 1)",
            "rgba(118, 118, 118, 1)",
            "rgba(97, 97, 97, 1)",
            "rgba(97, 97, 97, 1)",
            "rgba(97, 97, 97, 1)",
            "rgba(96, 96, 96, 1)",
            "rgba(96, 96, 96, 1)",
            "rgba(151, 151, 151, 1)",
            "rgba(151, 151, 151, 1)",
            "rgba(149, 149, 149, 1)",
            "rgba(149, 149, 149, 1)",
            "rgba(148, 148, 148, 1)",
            "rgba(135, 135, 135, 1)",
            "rgba(135, 135, 135, 1)",
            "rgba(28, 28, 28, 1)",
            "rgba(28, 28, 28, 1)",
            "rgba(0, 0, 0, 1)",
            "rgba(148, 148, 148, 1)",
            "rgba(148, 148, 148, 1)",
            "rgba(148, 148, 148, 1)",
            "rgba(148, 148, 148, 1)",
            "rgba(148, 148, 148, 1)",
            "rgba(249, 249, 249, 1)",
            "rgba(249, 249, 249, 1)",
            "rgba(249, 249, 249, 1)",
            "rgba(249, 249, 249, 1)",
            "rgba(247, 247, 247, 1)",
            "rgba(255, 255, 255, 1)",
            "rgba(254, 254, 254, 1)",
            "rgba(254, 254, 254, 1)",
            "rgba(254, 254, 254, 1)",
            "rgba(253, 253, 253, 1)",
            "rgba(173, 173, 173, 1)",
            "rgba(171, 171, 171, 1)",
            "rgba(170, 170, 170, 1)",
            "rgba(169, 169, 169, 1)",
            "rgba(169, 169, 169, 1)",
            "rgba(224, 224, 224, 1)",
            "rgba(224, 224, 224, 1)",
            "rgba(224, 224, 224, 1)",
            "rgba(224, 224, 224, 1)",
            "rgba(224, 224, 224, 1)"
           ],
           "width": 2
          },
          "opacity": 0.75,
          "size": 10,
          "symbol": "circle"
         },
         "mode": "markers",
         "name": "Quadratic Discriminant Analysis",
         "orientation": "v",
         "showlegend": true,
         "type": "scatter",
         "x": [
          12.808306694030762,
          13.086769104003906,
          13.101520538330078,
          12.743494033813477,
          12.96741771697998
         ],
         "xaxis": "x",
         "y": [
          5.133472919464111,
          4.945181369781494,
          4.726425647735596,
          4.638210296630859,
          4.81547212600708
         ],
         "yaxis": "y"
        },
        {
         "customdata": [
          [
           "Random Forest<br>Performance: 0.8035"
          ],
          [
           "Random Forest<br>Performance: 0.8035"
          ],
          [
           "Random Forest<br>Performance: 0.8035"
          ],
          [
           "Random Forest<br>Performance: 0.8034"
          ],
          [
           "Random Forest<br>Performance: 0.8023"
          ]
         ],
         "hovertemplate": "<b>%{hovertext}</b><br><br>algorithm_name=Random Forest<br>UMAP_1=%{x}<br>UMAP_2=%{y}<br>text=%{customdata[0]}<extra></extra>",
         "hovertext": [
          "Random Forest<br>Performance: 0.8035",
          "Random Forest<br>Performance: 0.8035",
          "Random Forest<br>Performance: 0.8035",
          "Random Forest<br>Performance: 0.8034",
          "Random Forest<br>Performance: 0.8023"
         ],
         "legendgroup": "Random Forest",
         "marker": {
          "color": "#B6E880",
          "line": {
           "color": [
            "rgba(147, 147, 147, 1)",
            "rgba(146, 146, 146, 1)",
            "rgba(144, 144, 144, 1)",
            "rgba(144, 144, 144, 1)",
            "rgba(144, 144, 144, 1)",
            "rgba(144, 144, 144, 1)",
            "rgba(144, 144, 144, 1)",
            "rgba(144, 144, 144, 1)",
            "rgba(144, 144, 144, 1)",
            "rgba(144, 144, 144, 1)",
            "rgba(118, 118, 118, 1)",
            "rgba(118, 118, 118, 1)",
            "rgba(118, 118, 118, 1)",
            "rgba(118, 118, 118, 1)",
            "rgba(118, 118, 118, 1)",
            "rgba(97, 97, 97, 1)",
            "rgba(97, 97, 97, 1)",
            "rgba(97, 97, 97, 1)",
            "rgba(96, 96, 96, 1)",
            "rgba(96, 96, 96, 1)",
            "rgba(151, 151, 151, 1)",
            "rgba(151, 151, 151, 1)",
            "rgba(149, 149, 149, 1)",
            "rgba(149, 149, 149, 1)",
            "rgba(148, 148, 148, 1)",
            "rgba(135, 135, 135, 1)",
            "rgba(135, 135, 135, 1)",
            "rgba(28, 28, 28, 1)",
            "rgba(28, 28, 28, 1)",
            "rgba(0, 0, 0, 1)",
            "rgba(148, 148, 148, 1)",
            "rgba(148, 148, 148, 1)",
            "rgba(148, 148, 148, 1)",
            "rgba(148, 148, 148, 1)",
            "rgba(148, 148, 148, 1)",
            "rgba(249, 249, 249, 1)",
            "rgba(249, 249, 249, 1)",
            "rgba(249, 249, 249, 1)",
            "rgba(249, 249, 249, 1)",
            "rgba(247, 247, 247, 1)",
            "rgba(255, 255, 255, 1)",
            "rgba(254, 254, 254, 1)",
            "rgba(254, 254, 254, 1)",
            "rgba(254, 254, 254, 1)",
            "rgba(253, 253, 253, 1)",
            "rgba(173, 173, 173, 1)",
            "rgba(171, 171, 171, 1)",
            "rgba(170, 170, 170, 1)",
            "rgba(169, 169, 169, 1)",
            "rgba(169, 169, 169, 1)",
            "rgba(224, 224, 224, 1)",
            "rgba(224, 224, 224, 1)",
            "rgba(224, 224, 224, 1)",
            "rgba(224, 224, 224, 1)",
            "rgba(224, 224, 224, 1)"
           ],
           "width": 2
          },
          "opacity": 0.75,
          "size": 10,
          "symbol": "circle"
         },
         "mode": "markers",
         "name": "Random Forest",
         "orientation": "v",
         "showlegend": true,
         "type": "scatter",
         "x": [
          8.230907440185547,
          7.922393321990967,
          8.076028823852539,
          7.967826843261719,
          7.875036239624023
         ],
         "xaxis": "x",
         "y": [
          9.88890552520752,
          9.624573707580566,
          9.722434043884277,
          10.009803771972656,
          9.770240783691406
         ],
         "yaxis": "y"
        },
        {
         "customdata": [
          [
           "Extra Trees<br>Performance: 0.8073999999999999"
          ],
          [
           "Extra Trees<br>Performance: 0.8070999999999999"
          ],
          [
           "Extra Trees<br>Performance: 0.8070999999999999"
          ],
          [
           "Extra Trees<br>Performance: 0.8067"
          ],
          [
           "Extra Trees<br>Performance: 0.8066"
          ]
         ],
         "hovertemplate": "<b>%{hovertext}</b><br><br>algorithm_name=Extra Trees<br>UMAP_1=%{x}<br>UMAP_2=%{y}<br>text=%{customdata[0]}<extra></extra>",
         "hovertext": [
          "Extra Trees<br>Performance: 0.8073999999999999",
          "Extra Trees<br>Performance: 0.8070999999999999",
          "Extra Trees<br>Performance: 0.8070999999999999",
          "Extra Trees<br>Performance: 0.8067",
          "Extra Trees<br>Performance: 0.8066"
         ],
         "legendgroup": "Extra Trees",
         "marker": {
          "color": "#FF97FF",
          "line": {
           "color": [
            "rgba(147, 147, 147, 1)",
            "rgba(146, 146, 146, 1)",
            "rgba(144, 144, 144, 1)",
            "rgba(144, 144, 144, 1)",
            "rgba(144, 144, 144, 1)",
            "rgba(144, 144, 144, 1)",
            "rgba(144, 144, 144, 1)",
            "rgba(144, 144, 144, 1)",
            "rgba(144, 144, 144, 1)",
            "rgba(144, 144, 144, 1)",
            "rgba(118, 118, 118, 1)",
            "rgba(118, 118, 118, 1)",
            "rgba(118, 118, 118, 1)",
            "rgba(118, 118, 118, 1)",
            "rgba(118, 118, 118, 1)",
            "rgba(97, 97, 97, 1)",
            "rgba(97, 97, 97, 1)",
            "rgba(97, 97, 97, 1)",
            "rgba(96, 96, 96, 1)",
            "rgba(96, 96, 96, 1)",
            "rgba(151, 151, 151, 1)",
            "rgba(151, 151, 151, 1)",
            "rgba(149, 149, 149, 1)",
            "rgba(149, 149, 149, 1)",
            "rgba(148, 148, 148, 1)",
            "rgba(135, 135, 135, 1)",
            "rgba(135, 135, 135, 1)",
            "rgba(28, 28, 28, 1)",
            "rgba(28, 28, 28, 1)",
            "rgba(0, 0, 0, 1)",
            "rgba(148, 148, 148, 1)",
            "rgba(148, 148, 148, 1)",
            "rgba(148, 148, 148, 1)",
            "rgba(148, 148, 148, 1)",
            "rgba(148, 148, 148, 1)",
            "rgba(249, 249, 249, 1)",
            "rgba(249, 249, 249, 1)",
            "rgba(249, 249, 249, 1)",
            "rgba(249, 249, 249, 1)",
            "rgba(247, 247, 247, 1)",
            "rgba(255, 255, 255, 1)",
            "rgba(254, 254, 254, 1)",
            "rgba(254, 254, 254, 1)",
            "rgba(254, 254, 254, 1)",
            "rgba(253, 253, 253, 1)",
            "rgba(173, 173, 173, 1)",
            "rgba(171, 171, 171, 1)",
            "rgba(170, 170, 170, 1)",
            "rgba(169, 169, 169, 1)",
            "rgba(169, 169, 169, 1)",
            "rgba(224, 224, 224, 1)",
            "rgba(224, 224, 224, 1)",
            "rgba(224, 224, 224, 1)",
            "rgba(224, 224, 224, 1)",
            "rgba(224, 224, 224, 1)"
           ],
           "width": 2
          },
          "opacity": 0.75,
          "size": 10,
          "symbol": "circle"
         },
         "mode": "markers",
         "name": "Extra Trees",
         "orientation": "v",
         "showlegend": true,
         "type": "scatter",
         "x": [
          8.138092994689941,
          8.610893249511719,
          8.387199401855469,
          8.522425651550293,
          8.30008602142334
         ],
         "xaxis": "x",
         "y": [
          8.847826957702637,
          8.736177444458008,
          9.024876594543457,
          9.237936973571777,
          9.057903289794922
         ],
         "yaxis": "y"
        },
        {
         "customdata": [
          [
           "Adaptive Boosting<br>Performance: 0.748"
          ],
          [
           "Adaptive Boosting<br>Performance: 0.747"
          ],
          [
           "Adaptive Boosting<br>Performance: 0.7463"
          ],
          [
           "Adaptive Boosting<br>Performance: 0.7454000000000001"
          ],
          [
           "Adaptive Boosting<br>Performance: 0.7453"
          ]
         ],
         "hovertemplate": "<b>%{hovertext}</b><br><br>algorithm_name=Adaptive Boosting<br>UMAP_1=%{x}<br>UMAP_2=%{y}<br>text=%{customdata[0]}<extra></extra>",
         "hovertext": [
          "Adaptive Boosting<br>Performance: 0.748",
          "Adaptive Boosting<br>Performance: 0.747",
          "Adaptive Boosting<br>Performance: 0.7463",
          "Adaptive Boosting<br>Performance: 0.7454000000000001",
          "Adaptive Boosting<br>Performance: 0.7453"
         ],
         "legendgroup": "Adaptive Boosting",
         "marker": {
          "color": "#FECB52",
          "line": {
           "color": [
            "rgba(147, 147, 147, 1)",
            "rgba(146, 146, 146, 1)",
            "rgba(144, 144, 144, 1)",
            "rgba(144, 144, 144, 1)",
            "rgba(144, 144, 144, 1)",
            "rgba(144, 144, 144, 1)",
            "rgba(144, 144, 144, 1)",
            "rgba(144, 144, 144, 1)",
            "rgba(144, 144, 144, 1)",
            "rgba(144, 144, 144, 1)",
            "rgba(118, 118, 118, 1)",
            "rgba(118, 118, 118, 1)",
            "rgba(118, 118, 118, 1)",
            "rgba(118, 118, 118, 1)",
            "rgba(118, 118, 118, 1)",
            "rgba(97, 97, 97, 1)",
            "rgba(97, 97, 97, 1)",
            "rgba(97, 97, 97, 1)",
            "rgba(96, 96, 96, 1)",
            "rgba(96, 96, 96, 1)",
            "rgba(151, 151, 151, 1)",
            "rgba(151, 151, 151, 1)",
            "rgba(149, 149, 149, 1)",
            "rgba(149, 149, 149, 1)",
            "rgba(148, 148, 148, 1)",
            "rgba(135, 135, 135, 1)",
            "rgba(135, 135, 135, 1)",
            "rgba(28, 28, 28, 1)",
            "rgba(28, 28, 28, 1)",
            "rgba(0, 0, 0, 1)",
            "rgba(148, 148, 148, 1)",
            "rgba(148, 148, 148, 1)",
            "rgba(148, 148, 148, 1)",
            "rgba(148, 148, 148, 1)",
            "rgba(148, 148, 148, 1)",
            "rgba(249, 249, 249, 1)",
            "rgba(249, 249, 249, 1)",
            "rgba(249, 249, 249, 1)",
            "rgba(249, 249, 249, 1)",
            "rgba(247, 247, 247, 1)",
            "rgba(255, 255, 255, 1)",
            "rgba(254, 254, 254, 1)",
            "rgba(254, 254, 254, 1)",
            "rgba(254, 254, 254, 1)",
            "rgba(253, 253, 253, 1)",
            "rgba(173, 173, 173, 1)",
            "rgba(171, 171, 171, 1)",
            "rgba(170, 170, 170, 1)",
            "rgba(169, 169, 169, 1)",
            "rgba(169, 169, 169, 1)",
            "rgba(224, 224, 224, 1)",
            "rgba(224, 224, 224, 1)",
            "rgba(224, 224, 224, 1)",
            "rgba(224, 224, 224, 1)",
            "rgba(224, 224, 224, 1)"
           ],
           "width": 2
          },
          "opacity": 0.75,
          "size": 10,
          "symbol": "circle"
         },
         "mode": "markers",
         "name": "Adaptive Boosting",
         "orientation": "v",
         "showlegend": true,
         "type": "scatter",
         "x": [
          -6.0791425704956055,
          -5.868165016174316,
          -6.094035625457764,
          -5.8540472984313965,
          -6.0443644523620605
         ],
         "xaxis": "x",
         "y": [
          5.038969039916992,
          5.302134037017822,
          5.539238929748535,
          5.1209492683410645,
          5.336589336395264
         ],
         "yaxis": "y"
        },
        {
         "customdata": [
          [
           "Gradient Boosting<br>Performance: 0.7855"
          ],
          [
           "Gradient Boosting<br>Performance: 0.7854000000000001"
          ],
          [
           "Gradient Boosting<br>Performance: 0.7854000000000001"
          ],
          [
           "Gradient Boosting<br>Performance: 0.7854000000000001"
          ],
          [
           "Gradient Boosting<br>Performance: 0.7853"
          ]
         ],
         "hovertemplate": "<b>%{hovertext}</b><br><br>algorithm_name=Gradient Boosting<br>UMAP_1=%{x}<br>UMAP_2=%{y}<br>text=%{customdata[0]}<extra></extra>",
         "hovertext": [
          "Gradient Boosting<br>Performance: 0.7855",
          "Gradient Boosting<br>Performance: 0.7854000000000001",
          "Gradient Boosting<br>Performance: 0.7854000000000001",
          "Gradient Boosting<br>Performance: 0.7854000000000001",
          "Gradient Boosting<br>Performance: 0.7853"
         ],
         "legendgroup": "Gradient Boosting",
         "marker": {
          "color": "#636efa",
          "line": {
           "color": [
            "rgba(147, 147, 147, 1)",
            "rgba(146, 146, 146, 1)",
            "rgba(144, 144, 144, 1)",
            "rgba(144, 144, 144, 1)",
            "rgba(144, 144, 144, 1)",
            "rgba(144, 144, 144, 1)",
            "rgba(144, 144, 144, 1)",
            "rgba(144, 144, 144, 1)",
            "rgba(144, 144, 144, 1)",
            "rgba(144, 144, 144, 1)",
            "rgba(118, 118, 118, 1)",
            "rgba(118, 118, 118, 1)",
            "rgba(118, 118, 118, 1)",
            "rgba(118, 118, 118, 1)",
            "rgba(118, 118, 118, 1)",
            "rgba(97, 97, 97, 1)",
            "rgba(97, 97, 97, 1)",
            "rgba(97, 97, 97, 1)",
            "rgba(96, 96, 96, 1)",
            "rgba(96, 96, 96, 1)",
            "rgba(151, 151, 151, 1)",
            "rgba(151, 151, 151, 1)",
            "rgba(149, 149, 149, 1)",
            "rgba(149, 149, 149, 1)",
            "rgba(148, 148, 148, 1)",
            "rgba(135, 135, 135, 1)",
            "rgba(135, 135, 135, 1)",
            "rgba(28, 28, 28, 1)",
            "rgba(28, 28, 28, 1)",
            "rgba(0, 0, 0, 1)",
            "rgba(148, 148, 148, 1)",
            "rgba(148, 148, 148, 1)",
            "rgba(148, 148, 148, 1)",
            "rgba(148, 148, 148, 1)",
            "rgba(148, 148, 148, 1)",
            "rgba(249, 249, 249, 1)",
            "rgba(249, 249, 249, 1)",
            "rgba(249, 249, 249, 1)",
            "rgba(249, 249, 249, 1)",
            "rgba(247, 247, 247, 1)",
            "rgba(255, 255, 255, 1)",
            "rgba(254, 254, 254, 1)",
            "rgba(254, 254, 254, 1)",
            "rgba(254, 254, 254, 1)",
            "rgba(253, 253, 253, 1)",
            "rgba(173, 173, 173, 1)",
            "rgba(171, 171, 171, 1)",
            "rgba(170, 170, 170, 1)",
            "rgba(169, 169, 169, 1)",
            "rgba(169, 169, 169, 1)",
            "rgba(224, 224, 224, 1)",
            "rgba(224, 224, 224, 1)",
            "rgba(224, 224, 224, 1)",
            "rgba(224, 224, 224, 1)",
            "rgba(224, 224, 224, 1)"
           ],
           "width": 2
          },
          "opacity": 0.75,
          "size": 10,
          "symbol": "circle"
         },
         "mode": "markers",
         "name": "Gradient Boosting",
         "orientation": "v",
         "showlegend": true,
         "type": "scatter",
         "x": [
          5.46250057220459,
          5.194945812225342,
          5.425208568572998,
          5.105011463165283,
          5.324187755584717
         ],
         "xaxis": "x",
         "y": [
          -20.84034538269043,
          -20.57537269592285,
          -20.804494857788086,
          -20.484285354614258,
          -20.7042293548584
         ],
         "yaxis": "y"
        }
       ],
       "layout": {
        "legend": {
         "title": {
          "text": "Algorithm"
         },
         "tracegroupgap": 0
        },
        "margin": {
         "t": 60
        },
        "template": {
         "data": {
          "bar": [
           {
            "error_x": {
             "color": "#2a3f5f"
            },
            "error_y": {
             "color": "#2a3f5f"
            },
            "marker": {
             "line": {
              "color": "#E5ECF6",
              "width": 0.5
             },
             "pattern": {
              "fillmode": "overlay",
              "size": 10,
              "solidity": 0.2
             }
            },
            "type": "bar"
           }
          ],
          "barpolar": [
           {
            "marker": {
             "line": {
              "color": "#E5ECF6",
              "width": 0.5
             },
             "pattern": {
              "fillmode": "overlay",
              "size": 10,
              "solidity": 0.2
             }
            },
            "type": "barpolar"
           }
          ],
          "carpet": [
           {
            "aaxis": {
             "endlinecolor": "#2a3f5f",
             "gridcolor": "white",
             "linecolor": "white",
             "minorgridcolor": "white",
             "startlinecolor": "#2a3f5f"
            },
            "baxis": {
             "endlinecolor": "#2a3f5f",
             "gridcolor": "white",
             "linecolor": "white",
             "minorgridcolor": "white",
             "startlinecolor": "#2a3f5f"
            },
            "type": "carpet"
           }
          ],
          "choropleth": [
           {
            "colorbar": {
             "outlinewidth": 0,
             "ticks": ""
            },
            "type": "choropleth"
           }
          ],
          "contour": [
           {
            "colorbar": {
             "outlinewidth": 0,
             "ticks": ""
            },
            "colorscale": [
             [
              0,
              "#0d0887"
             ],
             [
              0.1111111111111111,
              "#46039f"
             ],
             [
              0.2222222222222222,
              "#7201a8"
             ],
             [
              0.3333333333333333,
              "#9c179e"
             ],
             [
              0.4444444444444444,
              "#bd3786"
             ],
             [
              0.5555555555555556,
              "#d8576b"
             ],
             [
              0.6666666666666666,
              "#ed7953"
             ],
             [
              0.7777777777777778,
              "#fb9f3a"
             ],
             [
              0.8888888888888888,
              "#fdca26"
             ],
             [
              1,
              "#f0f921"
             ]
            ],
            "type": "contour"
           }
          ],
          "contourcarpet": [
           {
            "colorbar": {
             "outlinewidth": 0,
             "ticks": ""
            },
            "type": "contourcarpet"
           }
          ],
          "heatmap": [
           {
            "colorbar": {
             "outlinewidth": 0,
             "ticks": ""
            },
            "colorscale": [
             [
              0,
              "#0d0887"
             ],
             [
              0.1111111111111111,
              "#46039f"
             ],
             [
              0.2222222222222222,
              "#7201a8"
             ],
             [
              0.3333333333333333,
              "#9c179e"
             ],
             [
              0.4444444444444444,
              "#bd3786"
             ],
             [
              0.5555555555555556,
              "#d8576b"
             ],
             [
              0.6666666666666666,
              "#ed7953"
             ],
             [
              0.7777777777777778,
              "#fb9f3a"
             ],
             [
              0.8888888888888888,
              "#fdca26"
             ],
             [
              1,
              "#f0f921"
             ]
            ],
            "type": "heatmap"
           }
          ],
          "heatmapgl": [
           {
            "colorbar": {
             "outlinewidth": 0,
             "ticks": ""
            },
            "colorscale": [
             [
              0,
              "#0d0887"
             ],
             [
              0.1111111111111111,
              "#46039f"
             ],
             [
              0.2222222222222222,
              "#7201a8"
             ],
             [
              0.3333333333333333,
              "#9c179e"
             ],
             [
              0.4444444444444444,
              "#bd3786"
             ],
             [
              0.5555555555555556,
              "#d8576b"
             ],
             [
              0.6666666666666666,
              "#ed7953"
             ],
             [
              0.7777777777777778,
              "#fb9f3a"
             ],
             [
              0.8888888888888888,
              "#fdca26"
             ],
             [
              1,
              "#f0f921"
             ]
            ],
            "type": "heatmapgl"
           }
          ],
          "histogram": [
           {
            "marker": {
             "pattern": {
              "fillmode": "overlay",
              "size": 10,
              "solidity": 0.2
             }
            },
            "type": "histogram"
           }
          ],
          "histogram2d": [
           {
            "colorbar": {
             "outlinewidth": 0,
             "ticks": ""
            },
            "colorscale": [
             [
              0,
              "#0d0887"
             ],
             [
              0.1111111111111111,
              "#46039f"
             ],
             [
              0.2222222222222222,
              "#7201a8"
             ],
             [
              0.3333333333333333,
              "#9c179e"
             ],
             [
              0.4444444444444444,
              "#bd3786"
             ],
             [
              0.5555555555555556,
              "#d8576b"
             ],
             [
              0.6666666666666666,
              "#ed7953"
             ],
             [
              0.7777777777777778,
              "#fb9f3a"
             ],
             [
              0.8888888888888888,
              "#fdca26"
             ],
             [
              1,
              "#f0f921"
             ]
            ],
            "type": "histogram2d"
           }
          ],
          "histogram2dcontour": [
           {
            "colorbar": {
             "outlinewidth": 0,
             "ticks": ""
            },
            "colorscale": [
             [
              0,
              "#0d0887"
             ],
             [
              0.1111111111111111,
              "#46039f"
             ],
             [
              0.2222222222222222,
              "#7201a8"
             ],
             [
              0.3333333333333333,
              "#9c179e"
             ],
             [
              0.4444444444444444,
              "#bd3786"
             ],
             [
              0.5555555555555556,
              "#d8576b"
             ],
             [
              0.6666666666666666,
              "#ed7953"
             ],
             [
              0.7777777777777778,
              "#fb9f3a"
             ],
             [
              0.8888888888888888,
              "#fdca26"
             ],
             [
              1,
              "#f0f921"
             ]
            ],
            "type": "histogram2dcontour"
           }
          ],
          "mesh3d": [
           {
            "colorbar": {
             "outlinewidth": 0,
             "ticks": ""
            },
            "type": "mesh3d"
           }
          ],
          "parcoords": [
           {
            "line": {
             "colorbar": {
              "outlinewidth": 0,
              "ticks": ""
             }
            },
            "type": "parcoords"
           }
          ],
          "pie": [
           {
            "automargin": true,
            "type": "pie"
           }
          ],
          "scatter": [
           {
            "fillpattern": {
             "fillmode": "overlay",
             "size": 10,
             "solidity": 0.2
            },
            "type": "scatter"
           }
          ],
          "scatter3d": [
           {
            "line": {
             "colorbar": {
              "outlinewidth": 0,
              "ticks": ""
             }
            },
            "marker": {
             "colorbar": {
              "outlinewidth": 0,
              "ticks": ""
             }
            },
            "type": "scatter3d"
           }
          ],
          "scattercarpet": [
           {
            "marker": {
             "colorbar": {
              "outlinewidth": 0,
              "ticks": ""
             }
            },
            "type": "scattercarpet"
           }
          ],
          "scattergeo": [
           {
            "marker": {
             "colorbar": {
              "outlinewidth": 0,
              "ticks": ""
             }
            },
            "type": "scattergeo"
           }
          ],
          "scattergl": [
           {
            "marker": {
             "colorbar": {
              "outlinewidth": 0,
              "ticks": ""
             }
            },
            "type": "scattergl"
           }
          ],
          "scattermapbox": [
           {
            "marker": {
             "colorbar": {
              "outlinewidth": 0,
              "ticks": ""
             }
            },
            "type": "scattermapbox"
           }
          ],
          "scatterpolar": [
           {
            "marker": {
             "colorbar": {
              "outlinewidth": 0,
              "ticks": ""
             }
            },
            "type": "scatterpolar"
           }
          ],
          "scatterpolargl": [
           {
            "marker": {
             "colorbar": {
              "outlinewidth": 0,
              "ticks": ""
             }
            },
            "type": "scatterpolargl"
           }
          ],
          "scatterternary": [
           {
            "marker": {
             "colorbar": {
              "outlinewidth": 0,
              "ticks": ""
             }
            },
            "type": "scatterternary"
           }
          ],
          "surface": [
           {
            "colorbar": {
             "outlinewidth": 0,
             "ticks": ""
            },
            "colorscale": [
             [
              0,
              "#0d0887"
             ],
             [
              0.1111111111111111,
              "#46039f"
             ],
             [
              0.2222222222222222,
              "#7201a8"
             ],
             [
              0.3333333333333333,
              "#9c179e"
             ],
             [
              0.4444444444444444,
              "#bd3786"
             ],
             [
              0.5555555555555556,
              "#d8576b"
             ],
             [
              0.6666666666666666,
              "#ed7953"
             ],
             [
              0.7777777777777778,
              "#fb9f3a"
             ],
             [
              0.8888888888888888,
              "#fdca26"
             ],
             [
              1,
              "#f0f921"
             ]
            ],
            "type": "surface"
           }
          ],
          "table": [
           {
            "cells": {
             "fill": {
              "color": "#EBF0F8"
             },
             "line": {
              "color": "white"
             }
            },
            "header": {
             "fill": {
              "color": "#C8D4E3"
             },
             "line": {
              "color": "white"
             }
            },
            "type": "table"
           }
          ]
         },
         "layout": {
          "annotationdefaults": {
           "arrowcolor": "#2a3f5f",
           "arrowhead": 0,
           "arrowwidth": 1
          },
          "autotypenumbers": "strict",
          "coloraxis": {
           "colorbar": {
            "outlinewidth": 0,
            "ticks": ""
           }
          },
          "colorscale": {
           "diverging": [
            [
             0,
             "#8e0152"
            ],
            [
             0.1,
             "#c51b7d"
            ],
            [
             0.2,
             "#de77ae"
            ],
            [
             0.3,
             "#f1b6da"
            ],
            [
             0.4,
             "#fde0ef"
            ],
            [
             0.5,
             "#f7f7f7"
            ],
            [
             0.6,
             "#e6f5d0"
            ],
            [
             0.7,
             "#b8e186"
            ],
            [
             0.8,
             "#7fbc41"
            ],
            [
             0.9,
             "#4d9221"
            ],
            [
             1,
             "#276419"
            ]
           ],
           "sequential": [
            [
             0,
             "#0d0887"
            ],
            [
             0.1111111111111111,
             "#46039f"
            ],
            [
             0.2222222222222222,
             "#7201a8"
            ],
            [
             0.3333333333333333,
             "#9c179e"
            ],
            [
             0.4444444444444444,
             "#bd3786"
            ],
            [
             0.5555555555555556,
             "#d8576b"
            ],
            [
             0.6666666666666666,
             "#ed7953"
            ],
            [
             0.7777777777777778,
             "#fb9f3a"
            ],
            [
             0.8888888888888888,
             "#fdca26"
            ],
            [
             1,
             "#f0f921"
            ]
           ],
           "sequentialminus": [
            [
             0,
             "#0d0887"
            ],
            [
             0.1111111111111111,
             "#46039f"
            ],
            [
             0.2222222222222222,
             "#7201a8"
            ],
            [
             0.3333333333333333,
             "#9c179e"
            ],
            [
             0.4444444444444444,
             "#bd3786"
            ],
            [
             0.5555555555555556,
             "#d8576b"
            ],
            [
             0.6666666666666666,
             "#ed7953"
            ],
            [
             0.7777777777777778,
             "#fb9f3a"
            ],
            [
             0.8888888888888888,
             "#fdca26"
            ],
            [
             1,
             "#f0f921"
            ]
           ]
          },
          "colorway": [
           "#636efa",
           "#EF553B",
           "#00cc96",
           "#ab63fa",
           "#FFA15A",
           "#19d3f3",
           "#FF6692",
           "#B6E880",
           "#FF97FF",
           "#FECB52"
          ],
          "font": {
           "color": "#2a3f5f"
          },
          "geo": {
           "bgcolor": "white",
           "lakecolor": "white",
           "landcolor": "#E5ECF6",
           "showlakes": true,
           "showland": true,
           "subunitcolor": "white"
          },
          "hoverlabel": {
           "align": "left"
          },
          "hovermode": "closest",
          "mapbox": {
           "style": "light"
          },
          "paper_bgcolor": "white",
          "plot_bgcolor": "#E5ECF6",
          "polar": {
           "angularaxis": {
            "gridcolor": "white",
            "linecolor": "white",
            "ticks": ""
           },
           "bgcolor": "#E5ECF6",
           "radialaxis": {
            "gridcolor": "white",
            "linecolor": "white",
            "ticks": ""
           }
          },
          "scene": {
           "xaxis": {
            "backgroundcolor": "#E5ECF6",
            "gridcolor": "white",
            "gridwidth": 2,
            "linecolor": "white",
            "showbackground": true,
            "ticks": "",
            "zerolinecolor": "white"
           },
           "yaxis": {
            "backgroundcolor": "#E5ECF6",
            "gridcolor": "white",
            "gridwidth": 2,
            "linecolor": "white",
            "showbackground": true,
            "ticks": "",
            "zerolinecolor": "white"
           },
           "zaxis": {
            "backgroundcolor": "#E5ECF6",
            "gridcolor": "white",
            "gridwidth": 2,
            "linecolor": "white",
            "showbackground": true,
            "ticks": "",
            "zerolinecolor": "white"
           }
          },
          "shapedefaults": {
           "line": {
            "color": "#2a3f5f"
           }
          },
          "ternary": {
           "aaxis": {
            "gridcolor": "white",
            "linecolor": "white",
            "ticks": ""
           },
           "baxis": {
            "gridcolor": "white",
            "linecolor": "white",
            "ticks": ""
           },
           "bgcolor": "#E5ECF6",
           "caxis": {
            "gridcolor": "white",
            "linecolor": "white",
            "ticks": ""
           }
          },
          "title": {
           "x": 0.05
          },
          "xaxis": {
           "automargin": true,
           "gridcolor": "white",
           "linecolor": "white",
           "ticks": "",
           "title": {
            "standoff": 15
           },
           "zerolinecolor": "white",
           "zerolinewidth": 2
          },
          "yaxis": {
           "automargin": true,
           "gridcolor": "white",
           "linecolor": "white",
           "ticks": "",
           "title": {
            "standoff": 15
           },
           "zerolinecolor": "white",
           "zerolinewidth": 2
          }
         }
        },
        "title": {
         "text": "UMAP Plot"
        },
        "xaxis": {
         "anchor": "y",
         "domain": [
          0,
          1
         ],
         "title": {
          "text": "UMAP_1"
         }
        },
        "yaxis": {
         "anchor": "x",
         "domain": [
          0,
          1
         ],
         "title": {
          "text": "UMAP_2"
         }
        }
       }
      }
     },
     "metadata": {},
     "output_type": "display_data"
    }
   ],
   "source": [
    "fig = px.scatter(df_umap, x='UMAP_1', y='UMAP_2', color='algorithm_name',hover_name='text', hover_data=['text'])\n",
    "fig.update_layout(title_text='UMAP Plot')\n",
    "# change legend name to algorithm\n",
    "fig.update_layout(legend_title_text='Algorithm')\n",
    "# change size of points to 10, reduce opacity and change marker border color, based on performance\n",
    "fig.update_traces(marker=dict(size=10, opacity=0.75, line=dict(width=2, color=df_umap['color'])))\n",
    "#show figure with plotly\n",
    "fig.show()"
   ]
  },
  {
   "cell_type": "code",
   "execution_count": null,
   "metadata": {},
   "outputs": [],
   "source": []
  }
 ],
 "metadata": {
  "interpreter": {
   "hash": "613fe122287fdb1a4092b1ec324ab5e18de9ec977608057b646301948d1df577"
  },
  "kernelspec": {
   "display_name": "Python 3.9.7 ('base')",
   "language": "python",
   "name": "python3"
  },
  "language_info": {
   "codemirror_mode": {
    "name": "ipython",
    "version": 3
   },
   "file_extension": ".py",
   "mimetype": "text/x-python",
   "name": "python",
   "nbconvert_exporter": "python",
   "pygments_lexer": "ipython3",
   "version": "3.9.12"
  },
  "orig_nbformat": 4
 },
 "nbformat": 4,
 "nbformat_minor": 2
}
