{
 "cells": [
  {
   "cell_type": "code",
   "execution_count": 1,
   "id": "cf6273dd",
   "metadata": {},
   "outputs": [],
   "source": [
    "import pandas as pd\n",
    "import ast\n",
    "\n",
    "# Read CSVs\n",
    "performance = pd.read_csv('performance.csv')\n",
    "performance.iloc[:,2:].astype('float')\n",
    "performance.iloc[:,2:] = performance.iloc[:,2:].mul(100)\n",
    "performance['overall_performance'] = ((performance.iloc[:,2:9].sum(axis=1))/8)\n",
    "performance = performance.round(2)\n",
    "hyperparameters = pd.read_csv('hyperparameters.csv')\n",
    "models = pd.concat([performance, hyperparameters], axis=1)\n",
    "target = pd.read_csv('target.csv')\n",
    "target = target['class'].tolist()\n",
    "probabilities = pd.read_csv('probabilities.csv')"
   ]
  },
  {
   "cell_type": "code",
   "execution_count": 2,
   "id": "692f36e7",
   "metadata": {},
   "outputs": [],
   "source": [
    "topModels = 5\n",
    "topModelsDF = pd.DataFrame()\n",
    "for alg_loop in range(1, 12):\n",
    "    modelsFiltered = models[models['algorithm_id'] == alg_loop]\n",
    "    modelsFiltered = modelsFiltered.sort_values(by=['overall_performance'], ascending=False).head(topModels)\n",
    "    topModelsDF = pd.concat([topModelsDF, modelsFiltered])\n",
    "topProbabilitiesDF = probabilities.filter(items = topModelsDF.index, axis=0)\n",
    "copytopProbabilitiesDF = pd.DataFrame().reindex_like(topProbabilitiesDF)\n",
    "for index, row in topProbabilitiesDF.iterrows():\n",
    "    for idx, el in enumerate(row):\n",
    "        elementConvert = ast.literal_eval(el)\n",
    "        copytopProbabilitiesDF.at[index, str(idx)] = round(elementConvert[target[idx]]*100, 2)\n",
    "topModelsDF.to_csv('topModels.csv', index=False)\n",
    "copytopProbabilitiesDF.to_csv('topModelsProbabilities.csv', index=False)"
   ]
  }
 ],
 "metadata": {
  "kernelspec": {
   "display_name": "Python 3 (ipykernel)",
   "language": "python",
   "name": "python3"
  },
  "language_info": {
   "codemirror_mode": {
    "name": "ipython",
    "version": 3
   },
   "file_extension": ".py",
   "mimetype": "text/x-python",
   "name": "python",
   "nbconvert_exporter": "python",
   "pygments_lexer": "ipython3",
   "version": "3.9.7"
  }
 },
 "nbformat": 4,
 "nbformat_minor": 5
}
