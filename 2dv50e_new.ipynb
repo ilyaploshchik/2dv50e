{
 "cells": [
  {
   "cell_type": "markdown",
   "metadata": {},
   "source": [
    "### Initial Data exploration and wrangling"
   ]
  },
  {
   "cell_type": "markdown",
   "metadata": {},
   "source": [
    "##### Modul import"
   ]
  },
  {
   "cell_type": "code",
   "execution_count": 179,
   "metadata": {},
   "outputs": [],
   "source": [
    "import pandas as pd\n",
    "import umap\n",
    "from sklearn import preprocessing\n",
    "import plotly.express as px\n",
    "import plotly.graph_objects as go\n",
    "from plotly.subplots import make_subplots\n",
    "import numpy as np\n",
    "import ast\n",
    "from sklearn.neighbors import KNeighborsClassifier\n",
    "from sklearn.svm import SVC\n",
    "from sklearn.naive_bayes import GaussianNB\n",
    "from sklearn.neural_network import MLPClassifier\n",
    "from sklearn.linear_model import LogisticRegression\n",
    "from sklearn.discriminant_analysis import LinearDiscriminantAnalysis\n",
    "from sklearn.discriminant_analysis import QuadraticDiscriminantAnalysis\n",
    "from sklearn.ensemble import RandomForestClassifier\n",
    "from sklearn.ensemble import ExtraTreesClassifier\n",
    "from sklearn.ensemble import AdaBoostClassifier\n",
    "from sklearn.ensemble import GradientBoostingClassifier\n",
    "from sklearn.ensemble import StackingClassifier\n",
    "from sklearn.metrics import accuracy_score, precision_score, recall_score, roc_auc_score, matthews_corrcoef, f1_score, log_loss\n",
    "from sklearn import metrics\n",
    "from imblearn.metrics import geometric_mean_score\n",
    "import plotly.graph_objects as go\n",
    "from plotly.subplots import make_subplots\n",
    "\n",
    "# define random seed\n",
    "np.random.seed(42)\n"
   ]
  },
  {
   "cell_type": "markdown",
   "metadata": {},
   "source": [
    "#### Dataset import and wrangling"
   ]
  },
  {
   "cell_type": "code",
   "execution_count": 61,
   "metadata": {},
   "outputs": [],
   "source": [
    "path = r'D:\\github\\2dv50e\\Data\\1. Heart Disease'\n",
    "df_prob = pd.read_csv(path + r'\\topModelsProbabilities.csv')\n",
    "df_mod = pd.read_csv(path + r'\\topModels.csv')\n",
    "# add column target to df model from target.csv\n",
    "df_target = pd.read_csv(path + r'\\target.csv')\n",
    "y_train = df_target['class']\n",
    "target = df_target['class'].tolist()\n",
    "df_source = pd.read_csv(path + r'\\dataset.csv')\n",
    "\n",
    "algo_nr = df_mod['algorithm_id']"
   ]
  },
  {
   "cell_type": "code",
   "execution_count": 62,
   "metadata": {},
   "outputs": [],
   "source": [
    "# Print number of missing values per column in df_probabilities\n",
    "for col in df_prob.columns:\n",
    "    if df_prob[col].isnull().sum() > 0:\n",
    "        print(f'{col} has {df_prob[col].isnull().sum()} missing values.')"
   ]
  },
  {
   "cell_type": "code",
   "execution_count": 129,
   "metadata": {},
   "outputs": [],
   "source": [
    "# Apply scaler to df_source\n",
    "scaler = preprocessing.StandardScaler()\n",
    "df_source_scaled = pd.DataFrame(scaler.fit_transform(df_source), columns=df_source.columns)\n",
    "x_train = df_source_scaled.copy()"
   ]
  },
  {
   "cell_type": "code",
   "execution_count": 130,
   "metadata": {},
   "outputs": [
    {
     "data": {
      "text/html": [
       "<div>\n",
       "<style scoped>\n",
       "    .dataframe tbody tr th:only-of-type {\n",
       "        vertical-align: middle;\n",
       "    }\n",
       "\n",
       "    .dataframe tbody tr th {\n",
       "        vertical-align: top;\n",
       "    }\n",
       "\n",
       "    .dataframe thead th {\n",
       "        text-align: right;\n",
       "    }\n",
       "</style>\n",
       "<table border=\"1\" class=\"dataframe\">\n",
       "  <thead>\n",
       "    <tr style=\"text-align: right;\">\n",
       "      <th></th>\n",
       "      <th>Fbs</th>\n",
       "      <th>Slope</th>\n",
       "      <th>Trestbps</th>\n",
       "      <th>Exang</th>\n",
       "      <th>Thalach</th>\n",
       "      <th>Age</th>\n",
       "      <th>Chol</th>\n",
       "      <th>Sex</th>\n",
       "      <th>Oldpeak</th>\n",
       "      <th>Restecg</th>\n",
       "      <th>Cp</th>\n",
       "      <th>Ca</th>\n",
       "      <th>Thal</th>\n",
       "    </tr>\n",
       "  </thead>\n",
       "  <tbody>\n",
       "    <tr>\n",
       "      <th>0</th>\n",
       "      <td>2.394438</td>\n",
       "      <td>-2.274579</td>\n",
       "      <td>0.763956</td>\n",
       "      <td>-0.696631</td>\n",
       "      <td>0.015443</td>\n",
       "      <td>0.952197</td>\n",
       "      <td>-0.256334</td>\n",
       "      <td>0.681005</td>\n",
       "      <td>1.087338</td>\n",
       "      <td>-1.005832</td>\n",
       "      <td>1.973123</td>\n",
       "      <td>-0.714429</td>\n",
       "      <td>-2.148873</td>\n",
       "    </tr>\n",
       "    <tr>\n",
       "      <th>1</th>\n",
       "      <td>-0.417635</td>\n",
       "      <td>-2.274579</td>\n",
       "      <td>-0.092738</td>\n",
       "      <td>-0.696631</td>\n",
       "      <td>1.633471</td>\n",
       "      <td>-1.915313</td>\n",
       "      <td>0.072199</td>\n",
       "      <td>0.681005</td>\n",
       "      <td>2.122573</td>\n",
       "      <td>0.898962</td>\n",
       "      <td>1.002577</td>\n",
       "      <td>-0.714429</td>\n",
       "      <td>-0.512922</td>\n",
       "    </tr>\n",
       "    <tr>\n",
       "      <th>2</th>\n",
       "      <td>-0.417635</td>\n",
       "      <td>0.976352</td>\n",
       "      <td>-0.092738</td>\n",
       "      <td>-0.696631</td>\n",
       "      <td>0.977514</td>\n",
       "      <td>-1.474158</td>\n",
       "      <td>-0.816773</td>\n",
       "      <td>-1.468418</td>\n",
       "      <td>0.310912</td>\n",
       "      <td>-1.005832</td>\n",
       "      <td>0.032031</td>\n",
       "      <td>-0.714429</td>\n",
       "      <td>-0.512922</td>\n",
       "    </tr>\n",
       "    <tr>\n",
       "      <th>3</th>\n",
       "      <td>-0.417635</td>\n",
       "      <td>0.976352</td>\n",
       "      <td>-0.663867</td>\n",
       "      <td>-0.696631</td>\n",
       "      <td>1.239897</td>\n",
       "      <td>0.180175</td>\n",
       "      <td>-0.198357</td>\n",
       "      <td>0.681005</td>\n",
       "      <td>-0.206705</td>\n",
       "      <td>0.898962</td>\n",
       "      <td>0.032031</td>\n",
       "      <td>-0.714429</td>\n",
       "      <td>-0.512922</td>\n",
       "    </tr>\n",
       "    <tr>\n",
       "      <th>4</th>\n",
       "      <td>-0.417635</td>\n",
       "      <td>0.976352</td>\n",
       "      <td>-0.663867</td>\n",
       "      <td>1.435481</td>\n",
       "      <td>0.583939</td>\n",
       "      <td>0.290464</td>\n",
       "      <td>2.082050</td>\n",
       "      <td>-1.468418</td>\n",
       "      <td>-0.379244</td>\n",
       "      <td>0.898962</td>\n",
       "      <td>-0.938515</td>\n",
       "      <td>-0.714429</td>\n",
       "      <td>-0.512922</td>\n",
       "    </tr>\n",
       "  </tbody>\n",
       "</table>\n",
       "</div>"
      ],
      "text/plain": [
       "        Fbs     Slope  Trestbps     Exang   Thalach       Age      Chol  \\\n",
       "0  2.394438 -2.274579  0.763956 -0.696631  0.015443  0.952197 -0.256334   \n",
       "1 -0.417635 -2.274579 -0.092738 -0.696631  1.633471 -1.915313  0.072199   \n",
       "2 -0.417635  0.976352 -0.092738 -0.696631  0.977514 -1.474158 -0.816773   \n",
       "3 -0.417635  0.976352 -0.663867 -0.696631  1.239897  0.180175 -0.198357   \n",
       "4 -0.417635  0.976352 -0.663867  1.435481  0.583939  0.290464  2.082050   \n",
       "\n",
       "        Sex   Oldpeak   Restecg        Cp        Ca      Thal  \n",
       "0  0.681005  1.087338 -1.005832  1.973123 -0.714429 -2.148873  \n",
       "1  0.681005  2.122573  0.898962  1.002577 -0.714429 -0.512922  \n",
       "2 -1.468418  0.310912 -1.005832  0.032031 -0.714429 -0.512922  \n",
       "3  0.681005 -0.206705  0.898962  0.032031 -0.714429 -0.512922  \n",
       "4 -1.468418 -0.379244  0.898962 -0.938515 -0.714429 -0.512922  "
      ]
     },
     "execution_count": 130,
     "metadata": {},
     "output_type": "execute_result"
    }
   ],
   "source": [
    "x_train.head()"
   ]
  },
  {
   "cell_type": "code",
   "execution_count": 65,
   "metadata": {},
   "outputs": [
    {
     "name": "stdout",
     "output_type": "stream",
     "text": [
      "K-Nearest Neighbor\n"
     ]
    }
   ],
   "source": [
    "algos = {1:'K-Nearest Neighbor', 2:'Support Vector Machine', 3:'Gaussian Naive Bayes', 4:'Multilayer Perceptron', 5:'Logistic Regression',\n",
    "        6:'Linear Discriminant Analysis', 7:'Quadratic Discriminant Analysis', 8:'Random Forest', 9:'Extra Trees', 10:'Adaptive Boosting',\n",
    "        11:'Gradient Boosting'}"
   ]
  },
  {
   "cell_type": "code",
   "execution_count": 37,
   "metadata": {},
   "outputs": [],
   "source": [
    "df_model = df_mod.copy()\n",
    "# rename columns in df_model\n",
    "df_model.rename(columns={'params': 'hyperparameters', 'mean_test_accuracy': 'accuracy', 'mean_test_precision_weighted': 'precision', \n",
    "                        'mean_test_recall_weighted': 'recall', 'mean_test_roc_auc_ovo_weighted': 'roc_auc_score',\n",
    "                        'geometric_mean_score_weighted': 'geometric_mean_score'}, inplace=True)\n",
    "# remove overall perfromance column\n",
    "df_model.drop(columns=['overall_performance'], inplace=True)\n",
    "df_model['algorithm_name'] = df_model['algorithm_id'].map(algos)\n",
    "df_model['overall_performance'] = round((df_model['accuracy'] + df_model['precision'] + df_model['recall'] + df_model['roc_auc_score'] + \\\n",
    "                                df_model['geometric_mean_score'] + df_model['matthews_corrcoef'] + df_model['f1_weighted']) / 7, 2)\n",
    "# Sort columns\n",
    "df_model = df_model[['model_id', 'algorithm_id', 'algorithm_name', 'accuracy', 'precision', 'recall', 'roc_auc_score',\n",
    "                        'geometric_mean_score', 'matthews_corrcoef', 'f1_weighted', 'log_loss', 'overall_performance', 'hyperparameters']]\n",
    "\n"
   ]
  },
  {
   "cell_type": "markdown",
   "metadata": {},
   "source": [
    "Function to extract hyperparameters from the best performing model per algorithm"
   ]
  },
  {
   "cell_type": "code",
   "execution_count": 49,
   "metadata": {},
   "outputs": [],
   "source": [
    "def best_params(df):\n",
    "      # Select hyperparameters for best model in each algorithm\n",
    "      df_best = df.groupby('algorithm_id').apply(lambda x: x.sort_values('overall_performance', ascending=False).iloc[0])\n",
    "      # reset algorithm_nr as  index\n",
    "      df_best = df_best.reset_index(drop=True)\n",
    "      # keep only algorithm number, name, performance and hyperparameters\n",
    "      df_best = df_best[['algorithm_id', 'algorithm_name', 'overall_performance', 'hyperparameters']]\n",
    "      # rename overall_performance as performance\n",
    "      df_best.rename(columns={'overall_performance': 'performance'}, inplace=True)\n",
    "      return df_best"
   ]
  },
  {
   "cell_type": "markdown",
   "metadata": {},
   "source": [
    "Supporting functions to extract hyperparameters values"
   ]
  },
  {
   "cell_type": "code",
   "execution_count": 43,
   "metadata": {},
   "outputs": [],
   "source": [
    "# Return hyperparameters based on algorithm name\n",
    "def get_hyperparameters(df, algorithm_name):\n",
    "    return df[df['algorithm_name'] == algorithm_name]['hyperparameters']\n",
    "\n",
    "# return value of key in dictionary\n",
    "def get_value(dictionary, key):\n",
    "    return dictionary[key]\n",
    "\n",
    "# convert string to dictionary\n",
    "def string_to_dict(string):\n",
    "    return ast.literal_eval(string)\n"
   ]
  },
  {
   "cell_type": "markdown",
   "metadata": {},
   "source": [
    "Base layer estimators (top 5 per algorithm)"
   ]
  },
  {
   "cell_type": "code",
   "execution_count": 44,
   "metadata": {},
   "outputs": [],
   "source": [
    "# dictionaries with algorithm names and their hyperparameters\n",
    "\n",
    "knn_params = {int(k):v for k,v in get_hyperparameters(df_model, 'K-Nearest Neighbor').items()}\n",
    "svm_params = {int(k):v for k,v in get_hyperparameters(df_model, 'Support Vector Machine').items()}\n",
    "gnb_params = {int(k):v for k,v in get_hyperparameters(df_model, 'Gaussian Naive Bayes').items()}\n",
    "mlp_params = {int(k):v for k,v in get_hyperparameters(df_model, 'Multilayer Perceptron').items()}\n",
    "lr_params = {int(k):v for k,v in get_hyperparameters(df_model, 'Logistic Regression').items()}\n",
    "lda_params = {int(k):v for k,v in get_hyperparameters(df_model, 'Linear Discriminant Analysis').items()}\n",
    "qda_params = {int(k):v for k,v in get_hyperparameters(df_model, 'Quadratic Discriminant Analysis').items()}\n",
    "rf_params = {int(k):v for k,v in get_hyperparameters(df_model, 'Random Forest').items()}\n",
    "et_params = {int(k):v for k,v in get_hyperparameters(df_model, 'Extra Trees').items()}\n",
    "ab_params = {int(k):v for k,v in get_hyperparameters(df_model, 'Adaptive Boosting').items()}\n",
    "gb_params = {int(k):v for k,v in get_hyperparameters(df_model, 'Gradient Boosting').items()}"
   ]
  },
  {
   "cell_type": "code",
   "execution_count": 46,
   "metadata": {},
   "outputs": [],
   "source": [
    "# Estimators and hyperparameters for each algorithm\n",
    "estimators = []\n",
    "# populate list of estimators with all 55 top models\n",
    "count = 0\n",
    "for i in list(knn_params.keys()):\n",
    "                temp_dict = ast.literal_eval(knn_params[i])\n",
    "                estimators.append((f'knn_{count}', KNeighborsClassifier(algorithm=get_value(temp_dict, 'algorithm'), \n",
    "                                metric=get_value(temp_dict, 'metric'), n_neighbors= get_value(temp_dict, 'n_neighbors'), \n",
    "                                weights=get_value(temp_dict, 'weights'), n_jobs=-1)))\n",
    "                count += 1\n",
    "count = 0\n",
    "for i in list(svm_params.keys()):\n",
    "                temp_dict = ast.literal_eval(svm_params[i])\n",
    "                estimators.append((f'svm_{count}', SVC(C=get_value(temp_dict, 'C'), kernel=get_value(temp_dict, 'kernel'),probability=True, random_state=42)))\n",
    "                count += 1\n",
    "count = 0\n",
    "for i in list(gnb_params.keys()):\n",
    "                temp_dict = ast.literal_eval(gnb_params[i])\n",
    "                estimators.append((f'gnb_{count}', GaussianNB(var_smoothing=get_value(temp_dict, 'var_smoothing'))))\n",
    "                count += 1\n",
    "count = 0\n",
    "for i in list(mlp_params.keys()):\n",
    "                temp_dict = ast.literal_eval(mlp_params[i])\n",
    "                estimators.append((f'mlp_{count}', MLPClassifier(activation=get_value(temp_dict, 'activation'), \n",
    "                                alpha=get_value(temp_dict, 'alpha'),\n",
    "                                max_iter=get_value(temp_dict, 'max_iter'), solver=get_value(temp_dict, 'solver'), \n",
    "                                tol=get_value(temp_dict, 'tol'), random_state=42)))\n",
    "                count += 1\n",
    "count = 0\n",
    "for i in list(lr_params.keys()):\n",
    "                temp_dict = ast.literal_eval(lr_params[i])\n",
    "                estimators.append((f'lr_{count}', LogisticRegression(C=get_value(temp_dict, 'C'), max_iter=get_value(temp_dict, 'max_iter'), penalty=get_value(temp_dict, 'penalty'), solver=get_value(temp_dict, 'solver'), random_state=42, n_jobs=-1)))\n",
    "                count += 1\n",
    "count = 0\n",
    "for i in list(lda_params.keys()):\n",
    "                temp_dict = ast.literal_eval(lda_params[i])\n",
    "                estimators.append((f'lda_{count}', LinearDiscriminantAnalysis(shrinkage=get_value(temp_dict, 'shrinkage'), \n",
    "                                solver=get_value(temp_dict, 'solver'))))\n",
    "                count += 1\n",
    "count = 0\n",
    "for i in list(qda_params.keys()):\n",
    "                temp_dict = ast.literal_eval(qda_params[i])\n",
    "                estimators.append((f'qda_{count}', QuadraticDiscriminantAnalysis(reg_param=get_value(temp_dict, 'reg_param'), tol=get_value(temp_dict, 'tol'))))\n",
    "                count += 1\n",
    "count = 0\n",
    "for i in list(rf_params.keys()):\n",
    "                temp_dict = ast.literal_eval(rf_params[i])\n",
    "                estimators.append((f'rf_{count}', RandomForestClassifier(criterion=get_value(temp_dict, 'criterion'), \n",
    "                                n_estimators=get_value(temp_dict, 'n_estimators'), random_state=42, n_jobs=-1)))\n",
    "                count += 1\n",
    "count = 0\n",
    "for i in list(et_params.keys()):\n",
    "                temp_dict = ast.literal_eval(et_params[i])\n",
    "                estimators.append((f'et_{count}', ExtraTreesClassifier(criterion=get_value(temp_dict, 'criterion'),\n",
    "                                n_estimators=get_value(temp_dict, 'n_estimators'), random_state=42, n_jobs=-1)))\n",
    "                count += 1\n",
    "count = 0\n",
    "for i in list(ab_params.keys()):\n",
    "                temp_dict = ast.literal_eval(ab_params[i])\n",
    "                estimators.append((f'ab_{count}', AdaBoostClassifier(algorithm=get_value(temp_dict, 'algorithm'), \n",
    "                                learning_rate=get_value(temp_dict, 'learning_rate'), n_estimators=get_value(temp_dict, 'n_estimators'), random_state=42)))\n",
    "                count += 1\n",
    "count = 0\n",
    "for i in list(gb_params.keys()):\n",
    "                temp_dict = ast.literal_eval(gb_params[i])\n",
    "                estimators.append((f'gb_{count}', GradientBoostingClassifier(criterion=get_value(temp_dict, 'criterion'), \n",
    "                                learning_rate=get_value(temp_dict, 'learning_rate'), n_estimators=get_value(temp_dict, 'n_estimators'), random_state=42)))\n",
    "                count += 1"
   ]
  },
  {
   "cell_type": "markdown",
   "metadata": {},
   "source": [
    "##### Metamodel estimators (top 1 per algorithm)\n",
    "Hyperparameters will be extracted from the best performing model per algorithm. <br> The plan is to extract hyperparameters from the best performing model per algorithm and then apply these hyperparameters to the metamodels. Currently no functuonality to be added to allow end user to tune the hyperparameters for metamodels, instead they will rely on top performing ones from base layer models."
   ]
  },
  {
   "cell_type": "code",
   "execution_count": 132,
   "metadata": {},
   "outputs": [
    {
     "data": {
      "text/html": [
       "<div>\n",
       "<style scoped>\n",
       "    .dataframe tbody tr th:only-of-type {\n",
       "        vertical-align: middle;\n",
       "    }\n",
       "\n",
       "    .dataframe tbody tr th {\n",
       "        vertical-align: top;\n",
       "    }\n",
       "\n",
       "    .dataframe thead th {\n",
       "        text-align: right;\n",
       "    }\n",
       "</style>\n",
       "<table border=\"1\" class=\"dataframe\">\n",
       "  <thead>\n",
       "    <tr style=\"text-align: right;\">\n",
       "      <th></th>\n",
       "      <th>algorithm_id</th>\n",
       "      <th>algorithm_name</th>\n",
       "      <th>performance</th>\n",
       "      <th>hyperparameters</th>\n",
       "    </tr>\n",
       "  </thead>\n",
       "  <tbody>\n",
       "    <tr>\n",
       "      <th>0</th>\n",
       "      <td>1</td>\n",
       "      <td>K-Nearest Neighbor</td>\n",
       "      <td>83.35</td>\n",
       "      <td>{'algorithm': 'ball_tree', 'metric': 'euclidea...</td>\n",
       "    </tr>\n",
       "    <tr>\n",
       "      <th>1</th>\n",
       "      <td>2</td>\n",
       "      <td>Support Vector Machine</td>\n",
       "      <td>83.10</td>\n",
       "      <td>{'C': 1.75, 'kernel': 'rbf'}</td>\n",
       "    </tr>\n",
       "    <tr>\n",
       "      <th>2</th>\n",
       "      <td>3</td>\n",
       "      <td>Gaussian Naive Bayes</td>\n",
       "      <td>80.97</td>\n",
       "      <td>{'var_smoothing': 0.0}</td>\n",
       "    </tr>\n",
       "    <tr>\n",
       "      <th>3</th>\n",
       "      <td>4</td>\n",
       "      <td>Multilayer Perceptron</td>\n",
       "      <td>79.22</td>\n",
       "      <td>{'activation': 'relu', 'alpha': 0.00041, 'max_...</td>\n",
       "    </tr>\n",
       "    <tr>\n",
       "      <th>4</th>\n",
       "      <td>5</td>\n",
       "      <td>Logistic Regression</td>\n",
       "      <td>83.67</td>\n",
       "      <td>{'C': 1.4, 'max_iter': 50, 'penalty': 'l2', 's...</td>\n",
       "    </tr>\n",
       "    <tr>\n",
       "      <th>5</th>\n",
       "      <td>6</td>\n",
       "      <td>Linear Discriminant Analysis</td>\n",
       "      <td>82.31</td>\n",
       "      <td>{'shrinkage': 0.0, 'solver': 'lsqr'}</td>\n",
       "    </tr>\n",
       "    <tr>\n",
       "      <th>6</th>\n",
       "      <td>7</td>\n",
       "      <td>Quadratic Discriminant Analysis</td>\n",
       "      <td>83.44</td>\n",
       "      <td>{'reg_param': 0.5, 'tol': 1e-05}</td>\n",
       "    </tr>\n",
       "    <tr>\n",
       "      <th>7</th>\n",
       "      <td>8</td>\n",
       "      <td>Random Forest</td>\n",
       "      <td>91.83</td>\n",
       "      <td>{'criterion': 'entropy', 'n_estimators': 117}</td>\n",
       "    </tr>\n",
       "    <tr>\n",
       "      <th>8</th>\n",
       "      <td>9</td>\n",
       "      <td>Extra Trees</td>\n",
       "      <td>92.27</td>\n",
       "      <td>{'criterion': 'entropy', 'n_estimators': 132}</td>\n",
       "    </tr>\n",
       "    <tr>\n",
       "      <th>9</th>\n",
       "      <td>10</td>\n",
       "      <td>Adaptive Boosting</td>\n",
       "      <td>85.49</td>\n",
       "      <td>{'algorithm': 'SAMME', 'learning_rate': 1.2, '...</td>\n",
       "    </tr>\n",
       "    <tr>\n",
       "      <th>10</th>\n",
       "      <td>11</td>\n",
       "      <td>Gradient Boosting</td>\n",
       "      <td>89.77</td>\n",
       "      <td>{'criterion': 'friedman_mse', 'learning_rate':...</td>\n",
       "    </tr>\n",
       "  </tbody>\n",
       "</table>\n",
       "</div>"
      ],
      "text/plain": [
       "    algorithm_id                   algorithm_name  performance  \\\n",
       "0              1               K-Nearest Neighbor        83.35   \n",
       "1              2           Support Vector Machine        83.10   \n",
       "2              3             Gaussian Naive Bayes        80.97   \n",
       "3              4            Multilayer Perceptron        79.22   \n",
       "4              5              Logistic Regression        83.67   \n",
       "5              6     Linear Discriminant Analysis        82.31   \n",
       "6              7  Quadratic Discriminant Analysis        83.44   \n",
       "7              8                    Random Forest        91.83   \n",
       "8              9                      Extra Trees        92.27   \n",
       "9             10                Adaptive Boosting        85.49   \n",
       "10            11                Gradient Boosting        89.77   \n",
       "\n",
       "                                      hyperparameters  \n",
       "0   {'algorithm': 'ball_tree', 'metric': 'euclidea...  \n",
       "1                        {'C': 1.75, 'kernel': 'rbf'}  \n",
       "2                              {'var_smoothing': 0.0}  \n",
       "3   {'activation': 'relu', 'alpha': 0.00041, 'max_...  \n",
       "4   {'C': 1.4, 'max_iter': 50, 'penalty': 'l2', 's...  \n",
       "5                {'shrinkage': 0.0, 'solver': 'lsqr'}  \n",
       "6                    {'reg_param': 0.5, 'tol': 1e-05}  \n",
       "7       {'criterion': 'entropy', 'n_estimators': 117}  \n",
       "8       {'criterion': 'entropy', 'n_estimators': 132}  \n",
       "9   {'algorithm': 'SAMME', 'learning_rate': 1.2, '...  \n",
       "10  {'criterion': 'friedman_mse', 'learning_rate':...  "
      ]
     },
     "execution_count": 132,
     "metadata": {},
     "output_type": "execute_result"
    }
   ],
   "source": [
    "meta_params"
   ]
  },
  {
   "cell_type": "code",
   "execution_count": 133,
   "metadata": {},
   "outputs": [],
   "source": [
    "# Extract the top models from the dataframe with the respective hyperparameters\n",
    "meta_params = best_params(df_model)\n",
    "\n",
    "# return unique values of algorithm name\n",
    "algo = ['knn', 'svm', 'gnb', 'mlp', 'lr', 'lda', 'qda', 'rf', 'et', 'ab', 'gb']\n",
    "algo_names = meta_params['algorithm_name']\n",
    "\n",
    "# iterate through key and value pairs in algo\n",
    "i = 0\n",
    "for k,v in zip(algo, algo_names):\n",
    "    # Define hyperparameters for each  final estimator, based on top performing model from base layer\n",
    "    temp = get_hyperparameters(meta_params, v)\n",
    "    # convert to dictionary for easy access\n",
    "    temp_dict = {int(k):v for k,v in temp.items()}\n",
    "    # return first value\n",
    "    temp_dict = temp_dict[i]\n",
    "    # convert to dictionary for easy access, assign varibale name per algorithm\n",
    "    globals()[k + '_params'] = ast.literal_eval(temp_dict)\n",
    "    i += 1"
   ]
  },
  {
   "cell_type": "code",
   "execution_count": 134,
   "metadata": {},
   "outputs": [
    {
     "data": {
      "text/plain": [
       "{'algorithm': 'ball_tree',\n",
       " 'metric': 'euclidean',\n",
       " 'n_neighbors': 13,\n",
       " 'weights': 'uniform'}"
      ]
     },
     "execution_count": 134,
     "metadata": {},
     "output_type": "execute_result"
    }
   ],
   "source": [
    "knn_params"
   ]
  },
  {
   "cell_type": "code",
   "execution_count": 135,
   "metadata": {},
   "outputs": [],
   "source": [
    "# Add final estimators\n",
    "final_estimators = [('knn', KNeighborsClassifier(algorithm=get_value(knn_params, 'algorithm'), metric=get_value(knn_params, 'metric'), \n",
    "                n_neighbors= get_value(knn_params, 'n_neighbors'), weights=get_value(knn_params, 'weights'), n_jobs=-1)),\n",
    "                ('svm', SVC(C=get_value(svm_params, 'C'), kernel=get_value(svm_params, 'kernel'),probability=True, random_state=42)),\n",
    "                ('gnb', GaussianNB(var_smoothing=get_value(gnb_params, 'var_smoothing'))),\n",
    "                ('mlp', MLPClassifier(activation=get_value(mlp_params, 'activation'), alpha=get_value(mlp_params, 'alpha'), \n",
    "                max_iter=get_value(mlp_params, 'max_iter'), solver=get_value(mlp_params, 'solver'), tol=get_value(mlp_params, 'tol'), \n",
    "                random_state=42)),\n",
    "                ('lr', LogisticRegression(C=get_value(lr_params, 'C'), max_iter=get_value(lr_params, 'max_iter'),\n",
    "                penalty=get_value(lr_params, 'penalty'), solver=get_value(lr_params, 'solver'), random_state=42, n_jobs=-1)),\n",
    "                ('lda', LinearDiscriminantAnalysis(shrinkage=get_value(lda_params, 'shrinkage'), solver=get_value(lda_params, 'solver'))),\n",
    "                ('qda', QuadraticDiscriminantAnalysis(reg_param=get_value(qda_params, 'reg_param'), tol=get_value(qda_params, 'tol'))),\n",
    "                ('rf', RandomForestClassifier(criterion=get_value(rf_params, 'criterion'), n_estimators=get_value(rf_params, 'n_estimators'), \n",
    "                random_state=42, n_jobs=-1)),\n",
    "                ('et', ExtraTreesClassifier(criterion=get_value(et_params, 'criterion'), n_estimators=get_value(et_params, 'n_estimators'), \n",
    "                random_state=42, n_jobs=-1)),\n",
    "                ('ab', AdaBoostClassifier(algorithm=get_value(ab_params, 'algorithm'), learning_rate=get_value(ab_params, 'learning_rate'), \n",
    "                n_estimators=get_value(ab_params, 'n_estimators'), random_state=42)),\n",
    "                ('gb', GradientBoostingClassifier(criterion=get_value(gb_params, 'criterion'), \n",
    "                learning_rate=get_value(gb_params, 'learning_rate'), n_estimators=get_value(gb_params, 'n_estimators'), random_state=42))\n",
    "                ]"
   ]
  },
  {
   "cell_type": "markdown",
   "metadata": {},
   "source": [
    "Please note that for the average metric I did not include the logloss as using normalized version of logloss introduces bias to dataset"
   ]
  },
  {
   "cell_type": "code",
   "execution_count": 136,
   "metadata": {},
   "outputs": [
    {
     "data": {
      "text/html": [
       "<div>\n",
       "<style scoped>\n",
       "    .dataframe tbody tr th:only-of-type {\n",
       "        vertical-align: middle;\n",
       "    }\n",
       "\n",
       "    .dataframe tbody tr th {\n",
       "        vertical-align: top;\n",
       "    }\n",
       "\n",
       "    .dataframe thead th {\n",
       "        text-align: right;\n",
       "    }\n",
       "</style>\n",
       "<table border=\"1\" class=\"dataframe\">\n",
       "  <thead>\n",
       "    <tr style=\"text-align: right;\">\n",
       "      <th></th>\n",
       "      <th>0</th>\n",
       "      <th>1</th>\n",
       "      <th>2</th>\n",
       "      <th>3</th>\n",
       "      <th>4</th>\n",
       "      <th>5</th>\n",
       "      <th>6</th>\n",
       "      <th>7</th>\n",
       "      <th>8</th>\n",
       "      <th>9</th>\n",
       "      <th>...</th>\n",
       "      <th>293</th>\n",
       "      <th>294</th>\n",
       "      <th>295</th>\n",
       "      <th>296</th>\n",
       "      <th>297</th>\n",
       "      <th>298</th>\n",
       "      <th>299</th>\n",
       "      <th>300</th>\n",
       "      <th>301</th>\n",
       "      <th>302</th>\n",
       "    </tr>\n",
       "  </thead>\n",
       "  <tbody>\n",
       "    <tr>\n",
       "      <th>0</th>\n",
       "      <td>37.68</td>\n",
       "      <td>90.47</td>\n",
       "      <td>100.0</td>\n",
       "      <td>77.76</td>\n",
       "      <td>73.18</td>\n",
       "      <td>27.56</td>\n",
       "      <td>59.91</td>\n",
       "      <td>82.3</td>\n",
       "      <td>65.75</td>\n",
       "      <td>69.63</td>\n",
       "      <td>...</td>\n",
       "      <td>36.37</td>\n",
       "      <td>50.76</td>\n",
       "      <td>67.93</td>\n",
       "      <td>51.72</td>\n",
       "      <td>91.44</td>\n",
       "      <td>60.65</td>\n",
       "      <td>47.63</td>\n",
       "      <td>68.5</td>\n",
       "      <td>64.77</td>\n",
       "      <td>10.24</td>\n",
       "    </tr>\n",
       "  </tbody>\n",
       "</table>\n",
       "<p>1 rows × 303 columns</p>\n",
       "</div>"
      ],
      "text/plain": [
       "       0      1      2      3      4      5      6     7      8      9  ...  \\\n",
       "0  37.68  90.47  100.0  77.76  73.18  27.56  59.91  82.3  65.75  69.63  ...   \n",
       "\n",
       "     293    294    295    296    297    298    299   300    301    302  \n",
       "0  36.37  50.76  67.93  51.72  91.44  60.65  47.63  68.5  64.77  10.24  \n",
       "\n",
       "[1 rows x 303 columns]"
      ]
     },
     "execution_count": 136,
     "metadata": {},
     "output_type": "execute_result"
    }
   ],
   "source": [
    "df_prob.head(1)"
   ]
  },
  {
   "cell_type": "code",
   "execution_count": 137,
   "metadata": {},
   "outputs": [
    {
     "name": "stderr",
     "output_type": "stream",
     "text": [
      "d:\\Conda\\lib\\site-packages\\sklearn\\neural_network\\_multilayer_perceptron.py:692: ConvergenceWarning: Stochastic Optimizer: Maximum iterations (100) reached and the optimization hasn't converged yet.\n",
      "  warnings.warn(\n",
      "d:\\Conda\\lib\\site-packages\\sklearn\\linear_model\\_sag.py:352: ConvergenceWarning: The max_iter was reached which means the coef_ did not converge\n",
      "  warnings.warn(\n",
      "d:\\Conda\\lib\\site-packages\\sklearn\\discriminant_analysis.py:878: UserWarning: Variables are collinear\n",
      "  warnings.warn(\"Variables are collinear\")\n"
     ]
    }
   ],
   "source": [
    "# create dataframe for df_model_meta with columns names from df_model\n",
    "df_model_meta = pd.DataFrame(columns=df_model.columns)\n",
    "\n",
    "# create dataframes for meta models probabilities and predicted values\n",
    "df_pred_meta = pd.DataFrame()\n",
    "df_prob_meta = pd.DataFrame()\n",
    "\n",
    "for x in range(0, len(final_estimators)):\n",
    "        final_estimator = final_estimators[x][1]\n",
    "        clf = StackingClassifier(estimators=estimators, final_estimator=final_estimator, n_jobs=-1, cv=5)\n",
    "        clf.fit(x_train, y_train)\n",
    "        y_pred = clf.predict(x_train)\n",
    "        y_pred = pd.Series(y_pred)\n",
    "\n",
    "        # probabilities dataframe\n",
    "        y_pred_prob = clf.predict_proba(x_train)\n",
    "        y_pred_prob_df = pd.DataFrame(y_pred_prob, columns=['prob_0', 'prob_1'])\n",
    "        y_pred_prob_df['target'] = y_train\n",
    "        y_pred_prob_df['predicted'] = y_pred\n",
    "        # create new column, set value to prob_0 if target is 0 and prob_1 if target is 1\n",
    "        y_pred_prob_df['pred_prob'] = np.where(y_pred_prob_df['target'] == 0, y_pred_prob_df['prob_0'], y_pred_prob_df['prob_1'])\n",
    "        # remove prob_0 and prob_1 columns, target and predicted columns\n",
    "        y_pred_prob_df = y_pred_prob_df.drop(['prob_0', 'prob_1', 'target', 'predicted'], axis=1)\n",
    "        # transpose the data frame and convert values to %\n",
    "        y_pred_prob_df = y_pred_prob_df.T\n",
    "        y_pred_prob_df = y_pred_prob_df.apply(lambda x: x * 100).round(2)\n",
    "        # set index to x\n",
    "        y_pred_prob_df.index = [x]\n",
    "        # add row to df_prob_meta using pd.concat\n",
    "        df_prob_meta = pd.concat([df_prob_meta, y_pred_prob_df], axis=0)\n",
    "        \n",
    "        # prediction dataframe\n",
    "        # transpose the data frame\n",
    "        y_pred_df = pd.DataFrame(y_pred, columns=['Pred_class'])\n",
    "        y_pred_df = y_pred_df.T\n",
    "        # set index to x\n",
    "        y_pred_df.index = [x]\n",
    "        # add row to df_prob_meta using pd.concat\n",
    "        df_pred_meta = pd.concat([df_pred_meta, y_pred_df], axis=0)\n",
    "\n",
    "        # performance metrics dataframe\n",
    "        accuracy = round(accuracy_score(y_train, y_pred)*100, 2)\n",
    "        precision = round(precision_score(y_train, y_pred, average='weighted')*100, 2)\n",
    "        recall = round(recall_score(y_train, y_pred, average='weighted')*100, 2)\n",
    "        roc_auc = round(roc_auc_score(y_train, y_pred, average='weighted')*100, 2)\n",
    "        gmean = round(geometric_mean_score(y_train, y_pred, average='weighted')*100, 2)\n",
    "        mcc = round(matthews_corrcoef(y_train, y_pred)*100, 2)\n",
    "        f1_weighted = round(f1_score(y_train, y_pred, average='weighted')*100, 2)\n",
    "        log_loss = round(metrics.log_loss(y_train, y_pred, normalize=True)*100, 2)\n",
    "        average_metrics = (accuracy + precision + recall + roc_auc + gmean + mcc + f1_weighted) / 7\n",
    "        average_metrics = round(average_metrics, 2)\n",
    "        # add performance metrics to df_model_meta using pd.concat with index\n",
    "        df_model_meta = pd.concat([df_model_meta, pd.DataFrame([[f'meta_{x+1}', x+1, algos[x+1], accuracy, precision, recall, roc_auc, gmean, \\\n",
    "                        mcc, f1_weighted, log_loss, average_metrics, f'{final_estimator.get_params()}']], \n",
    "                        columns=df_model_meta.columns, index=[x])], axis=0)"
   ]
  },
  {
   "cell_type": "code",
   "execution_count": 145,
   "metadata": {},
   "outputs": [],
   "source": [
    "# Save all dataframes to csv\n",
    "df_model_meta.to_csv(f'{path}/MetaModelsPerformance.csv', index=False)\n",
    "df_prob_meta.to_csv(f'{path}/MetaModelsProbabilities.csv', index=False)\n",
    "df_pred_meta.to_csv(f'{path}/MetaModelsPredictions.csv', index=False)\n"
   ]
  },
  {
   "cell_type": "code",
   "execution_count": 138,
   "metadata": {},
   "outputs": [
    {
     "data": {
      "text/html": [
       "<div>\n",
       "<style scoped>\n",
       "    .dataframe tbody tr th:only-of-type {\n",
       "        vertical-align: middle;\n",
       "    }\n",
       "\n",
       "    .dataframe tbody tr th {\n",
       "        vertical-align: top;\n",
       "    }\n",
       "\n",
       "    .dataframe thead th {\n",
       "        text-align: right;\n",
       "    }\n",
       "</style>\n",
       "<table border=\"1\" class=\"dataframe\">\n",
       "  <thead>\n",
       "    <tr style=\"text-align: right;\">\n",
       "      <th></th>\n",
       "      <th>model_id</th>\n",
       "      <th>algorithm_id</th>\n",
       "      <th>algorithm_name</th>\n",
       "      <th>accuracy</th>\n",
       "      <th>precision</th>\n",
       "      <th>recall</th>\n",
       "      <th>roc_auc_score</th>\n",
       "      <th>geometric_mean_score</th>\n",
       "      <th>matthews_corrcoef</th>\n",
       "      <th>f1_weighted</th>\n",
       "      <th>log_loss</th>\n",
       "      <th>overall_performance</th>\n",
       "      <th>hyperparameters</th>\n",
       "    </tr>\n",
       "  </thead>\n",
       "  <tbody>\n",
       "    <tr>\n",
       "      <th>0</th>\n",
       "      <td>452</td>\n",
       "      <td>1</td>\n",
       "      <td>K-Nearest Neighbor</td>\n",
       "      <td>70.31</td>\n",
       "      <td>70.36</td>\n",
       "      <td>70.31</td>\n",
       "      <td>72.5</td>\n",
       "      <td>100.0</td>\n",
       "      <td>100.0</td>\n",
       "      <td>100.0</td>\n",
       "      <td>0.0</td>\n",
       "      <td>83.35</td>\n",
       "      <td>{'algorithm': 'ball_tree', 'metric': 'euclidea...</td>\n",
       "    </tr>\n",
       "  </tbody>\n",
       "</table>\n",
       "</div>"
      ],
      "text/plain": [
       "   model_id  algorithm_id      algorithm_name  accuracy  precision  recall  \\\n",
       "0       452             1  K-Nearest Neighbor     70.31      70.36   70.31   \n",
       "\n",
       "   roc_auc_score  geometric_mean_score  matthews_corrcoef  f1_weighted  \\\n",
       "0           72.5                 100.0              100.0        100.0   \n",
       "\n",
       "   log_loss  overall_performance  \\\n",
       "0       0.0                83.35   \n",
       "\n",
       "                                     hyperparameters  \n",
       "0  {'algorithm': 'ball_tree', 'metric': 'euclidea...  "
      ]
     },
     "execution_count": 138,
     "metadata": {},
     "output_type": "execute_result"
    }
   ],
   "source": [
    "df_model.head(1)"
   ]
  },
  {
   "cell_type": "code",
   "execution_count": 139,
   "metadata": {},
   "outputs": [
    {
     "data": {
      "text/html": [
       "<div>\n",
       "<style scoped>\n",
       "    .dataframe tbody tr th:only-of-type {\n",
       "        vertical-align: middle;\n",
       "    }\n",
       "\n",
       "    .dataframe tbody tr th {\n",
       "        vertical-align: top;\n",
       "    }\n",
       "\n",
       "    .dataframe thead th {\n",
       "        text-align: right;\n",
       "    }\n",
       "</style>\n",
       "<table border=\"1\" class=\"dataframe\">\n",
       "  <thead>\n",
       "    <tr style=\"text-align: right;\">\n",
       "      <th></th>\n",
       "      <th>model_id</th>\n",
       "      <th>algorithm_id</th>\n",
       "      <th>algorithm_name</th>\n",
       "      <th>accuracy</th>\n",
       "      <th>precision</th>\n",
       "      <th>recall</th>\n",
       "      <th>roc_auc_score</th>\n",
       "      <th>geometric_mean_score</th>\n",
       "      <th>matthews_corrcoef</th>\n",
       "      <th>f1_weighted</th>\n",
       "      <th>log_loss</th>\n",
       "      <th>overall_performance</th>\n",
       "      <th>hyperparameters</th>\n",
       "    </tr>\n",
       "  </thead>\n",
       "  <tbody>\n",
       "    <tr>\n",
       "      <th>0</th>\n",
       "      <td>meta_1</td>\n",
       "      <td>1</td>\n",
       "      <td>K-Nearest Neighbor</td>\n",
       "      <td>89.11</td>\n",
       "      <td>89.41</td>\n",
       "      <td>89.11</td>\n",
       "      <td>88.58</td>\n",
       "      <td>88.58</td>\n",
       "      <td>78.24</td>\n",
       "      <td>89.03</td>\n",
       "      <td>376.17</td>\n",
       "      <td>87.44</td>\n",
       "      <td>{'algorithm': 'ball_tree', 'leaf_size': 30, 'm...</td>\n",
       "    </tr>\n",
       "  </tbody>\n",
       "</table>\n",
       "</div>"
      ],
      "text/plain": [
       "  model_id algorithm_id      algorithm_name accuracy precision recall  \\\n",
       "0   meta_1            1  K-Nearest Neighbor    89.11     89.41  89.11   \n",
       "\n",
       "  roc_auc_score geometric_mean_score matthews_corrcoef f1_weighted log_loss  \\\n",
       "0         88.58                88.58             78.24       89.03   376.17   \n",
       "\n",
       "  overall_performance                                    hyperparameters  \n",
       "0               87.44  {'algorithm': 'ball_tree', 'leaf_size': 30, 'm...  "
      ]
     },
     "execution_count": 139,
     "metadata": {},
     "output_type": "execute_result"
    }
   ],
   "source": [
    "df_model_meta.head(1)"
   ]
  },
  {
   "cell_type": "code",
   "execution_count": 140,
   "metadata": {},
   "outputs": [],
   "source": [
    "# concatinate df_model and df_model_meta\n",
    "df_model_all = pd.concat([df_model, df_model_meta], axis=0)\n",
    "df_model_all = df_model_all.astype({'model_id': 'str', 'algorithm_id': 'int64', 'accuracy': 'float64', 'precision': 'float64', \n",
    "                               'recall': 'float64', 'roc_auc_score': 'float64', 'geometric_mean_score': 'float64', \n",
    "                               'matthews_corrcoef': 'float64', 'f1_weighted': 'float64', 'log_loss': 'float64', \n",
    "                               'overall_performance': 'float64'})\n",
    "# create new column \"size\", set to 2 for rows with \"meta\" in \"model_id\", else 1\n",
    "df_model_all['size'] = np.where(df_model_all['model_id'].str.contains('meta'), 2, 1)\n",
    "# create new column for text of points\n",
    "df_model_all['text'] = df_model_all['algorithm_name'] + '<br>' + 'Performance: ' + \\\n",
    "        df_model_all['overall_performance'].astype(str) + '%' + '<br>' + 'Model ID: ' + df_model_all['model_id'].astype(str) + \\\n",
    "        '<br>' + 'Accuracy: ' + df_model_all['accuracy'].astype(str) + '%' + '<br>' + 'Precision: ' + \\\n",
    "        df_model_all['precision'].astype(str) + '%' + '<br>' + 'Recall: ' + df_model_all['recall'].astype(str) + \\\n",
    "        '%' + '<br>' + 'ROC AUC: ' + df_model_all['roc_auc_score'].astype(str) + '<br>' + 'Geometric Mean: ' + \\\n",
    "        df_model_all['geometric_mean_score'].astype(str) + '<br>' + 'Matthews Correlation: ' + \\\n",
    "        df_model_all['matthews_corrcoef'].astype(str) + '<br>' + 'F1: ' + df_model_all['f1_weighted'].astype(str) + \\\n",
    "        '<br>' + 'Log Loss: ' + df_model_all['log_loss'].astype(str)"
   ]
  },
  {
   "cell_type": "code",
   "execution_count": 162,
   "metadata": {},
   "outputs": [
    {
     "data": {
      "text/plain": [
       "(66, 15)"
      ]
     },
     "execution_count": 162,
     "metadata": {},
     "output_type": "execute_result"
    }
   ],
   "source": [
    "df_model_all.shape"
   ]
  },
  {
   "cell_type": "code",
   "execution_count": 163,
   "metadata": {},
   "outputs": [
    {
     "data": {
      "text/plain": [
       "(66, 303)"
      ]
     },
     "execution_count": 163,
     "metadata": {},
     "output_type": "execute_result"
    }
   ],
   "source": [
    "# concatinate df_prob and df_prob_meta\n",
    "df_prob_all = pd.concat([df_prob, df_prob_meta], axis=0)\n",
    "df_prob_all.shape"
   ]
  },
  {
   "cell_type": "code",
   "execution_count": 165,
   "metadata": {},
   "outputs": [
    {
     "data": {
      "text/html": [
       "<div>\n",
       "<style scoped>\n",
       "    .dataframe tbody tr th:only-of-type {\n",
       "        vertical-align: middle;\n",
       "    }\n",
       "\n",
       "    .dataframe tbody tr th {\n",
       "        vertical-align: top;\n",
       "    }\n",
       "\n",
       "    .dataframe thead th {\n",
       "        text-align: right;\n",
       "    }\n",
       "</style>\n",
       "<table border=\"1\" class=\"dataframe\">\n",
       "  <thead>\n",
       "    <tr style=\"text-align: right;\">\n",
       "      <th></th>\n",
       "      <th>model_id</th>\n",
       "      <th>algorithm_id</th>\n",
       "      <th>algorithm_name</th>\n",
       "      <th>accuracy</th>\n",
       "      <th>precision</th>\n",
       "      <th>recall</th>\n",
       "      <th>roc_auc_score</th>\n",
       "      <th>geometric_mean_score</th>\n",
       "      <th>matthews_corrcoef</th>\n",
       "      <th>f1_weighted</th>\n",
       "      <th>log_loss</th>\n",
       "      <th>overall_performance</th>\n",
       "      <th>hyperparameters</th>\n",
       "      <th>size</th>\n",
       "      <th>text</th>\n",
       "    </tr>\n",
       "  </thead>\n",
       "  <tbody>\n",
       "    <tr>\n",
       "      <th>0</th>\n",
       "      <td>452</td>\n",
       "      <td>1</td>\n",
       "      <td>K-Nearest Neighbor</td>\n",
       "      <td>70.31</td>\n",
       "      <td>70.36</td>\n",
       "      <td>70.31</td>\n",
       "      <td>72.5</td>\n",
       "      <td>100.0</td>\n",
       "      <td>100.0</td>\n",
       "      <td>100.0</td>\n",
       "      <td>0.0</td>\n",
       "      <td>83.35</td>\n",
       "      <td>{'algorithm': 'ball_tree', 'metric': 'euclidea...</td>\n",
       "      <td>1</td>\n",
       "      <td>K-Nearest Neighbor&lt;br&gt;Performance: 83.35%&lt;br&gt;M...</td>\n",
       "    </tr>\n",
       "  </tbody>\n",
       "</table>\n",
       "</div>"
      ],
      "text/plain": [
       "  model_id  algorithm_id      algorithm_name  accuracy  precision  recall  \\\n",
       "0      452             1  K-Nearest Neighbor     70.31      70.36   70.31   \n",
       "\n",
       "   roc_auc_score  geometric_mean_score  matthews_corrcoef  f1_weighted  \\\n",
       "0           72.5                 100.0              100.0        100.0   \n",
       "\n",
       "   log_loss  overall_performance  \\\n",
       "0       0.0                83.35   \n",
       "\n",
       "                                     hyperparameters  size  \\\n",
       "0  {'algorithm': 'ball_tree', 'metric': 'euclidea...     1   \n",
       "\n",
       "                                                text  \n",
       "0  K-Nearest Neighbor<br>Performance: 83.35%<br>M...  "
      ]
     },
     "execution_count": 165,
     "metadata": {},
     "output_type": "execute_result"
    }
   ],
   "source": [
    "df_model_all.head(1)"
   ]
  },
  {
   "cell_type": "code",
   "execution_count": null,
   "metadata": {},
   "outputs": [],
   "source": [
    "# choose only accuracy, precision, recall, roc_auc, geometric_mean_score, matthews_corrcoef, f1_weighted from df_model_all\n",
    "df_model_all_metrics = df_model_all[['accuracy', 'precision', 'recall', 'roc_auc_score', 'geometric_mean_score', 'matthews_corrcoef', 'f1_weighted']]\n",
    "                                        "
   ]
  },
  {
   "cell_type": "code",
   "execution_count": 166,
   "metadata": {},
   "outputs": [
    {
     "data": {
      "text/html": [
       "<div>\n",
       "<style scoped>\n",
       "    .dataframe tbody tr th:only-of-type {\n",
       "        vertical-align: middle;\n",
       "    }\n",
       "\n",
       "    .dataframe tbody tr th {\n",
       "        vertical-align: top;\n",
       "    }\n",
       "\n",
       "    .dataframe thead th {\n",
       "        text-align: right;\n",
       "    }\n",
       "</style>\n",
       "<table border=\"1\" class=\"dataframe\">\n",
       "  <thead>\n",
       "    <tr style=\"text-align: right;\">\n",
       "      <th></th>\n",
       "      <th>0</th>\n",
       "      <th>1</th>\n",
       "      <th>2</th>\n",
       "      <th>3</th>\n",
       "      <th>4</th>\n",
       "      <th>5</th>\n",
       "      <th>6</th>\n",
       "      <th>7</th>\n",
       "      <th>8</th>\n",
       "      <th>9</th>\n",
       "      <th>...</th>\n",
       "      <th>293</th>\n",
       "      <th>294</th>\n",
       "      <th>295</th>\n",
       "      <th>296</th>\n",
       "      <th>297</th>\n",
       "      <th>298</th>\n",
       "      <th>299</th>\n",
       "      <th>300</th>\n",
       "      <th>301</th>\n",
       "      <th>302</th>\n",
       "    </tr>\n",
       "  </thead>\n",
       "  <tbody>\n",
       "    <tr>\n",
       "      <th>0</th>\n",
       "      <td>37.68</td>\n",
       "      <td>90.47</td>\n",
       "      <td>100.0</td>\n",
       "      <td>77.76</td>\n",
       "      <td>73.18</td>\n",
       "      <td>27.56</td>\n",
       "      <td>59.91</td>\n",
       "      <td>82.3</td>\n",
       "      <td>65.75</td>\n",
       "      <td>69.63</td>\n",
       "      <td>...</td>\n",
       "      <td>36.37</td>\n",
       "      <td>50.76</td>\n",
       "      <td>67.93</td>\n",
       "      <td>51.72</td>\n",
       "      <td>91.44</td>\n",
       "      <td>60.65</td>\n",
       "      <td>47.63</td>\n",
       "      <td>68.5</td>\n",
       "      <td>64.77</td>\n",
       "      <td>10.24</td>\n",
       "    </tr>\n",
       "  </tbody>\n",
       "</table>\n",
       "<p>1 rows × 303 columns</p>\n",
       "</div>"
      ],
      "text/plain": [
       "       0      1      2      3      4      5      6     7      8      9  ...  \\\n",
       "0  37.68  90.47  100.0  77.76  73.18  27.56  59.91  82.3  65.75  69.63  ...   \n",
       "\n",
       "     293    294    295    296    297    298    299   300    301    302  \n",
       "0  36.37  50.76  67.93  51.72  91.44  60.65  47.63  68.5  64.77  10.24  \n",
       "\n",
       "[1 rows x 303 columns]"
      ]
     },
     "execution_count": 166,
     "metadata": {},
     "output_type": "execute_result"
    }
   ],
   "source": [
    "df_prob_all.head(1)"
   ]
  },
  {
   "cell_type": "markdown",
   "metadata": {},
   "source": [
    "\n",
    "### UMAP dimension reduction algorithm"
   ]
  },
  {
   "cell_type": "code",
   "execution_count": 169,
   "metadata": {},
   "outputs": [],
   "source": [
    "# UMAP function\n",
    "def umap_model(df, parameter_umap_n_neighbors = 5, parameter_umap_min_dist = 0.5, parameter_umap_metric = 'euclidean'):\n",
    "\n",
    "        umap_model = umap.UMAP(n_neighbors=parameter_umap_n_neighbors, metric=parameter_umap_metric, min_dist=parameter_umap_min_dist)\n",
    "        #fit transform and convert to dataframe\n",
    "        df_umap = pd.DataFrame(umap_model.fit_transform(df), columns=['UMAP_1', 'UMAP_2'])\n",
    "        # add index to df_umap\n",
    "        df_umap.index = df.index\n",
    "        return df_umap"
   ]
  },
  {
   "cell_type": "code",
   "execution_count": 173,
   "metadata": {},
   "outputs": [
    {
     "name": "stderr",
     "output_type": "stream",
     "text": [
      "d:\\Conda\\lib\\site-packages\\sklearn\\manifold\\_spectral_embedding.py:260: UserWarning: Graph is not fully connected, spectral embedding may not work as expected.\n",
      "  warnings.warn(\n"
     ]
    }
   ],
   "source": [
    "# Create UMAP models for probabilities and perfromance metrics dataframes\n",
    "umap_prob = umap_model(df_prob_all)\n",
    "\n",
    "# choose only accuracy, precision, recall, roc_auc, geometric_mean_score, matthews_corrcoef, f1_weighted from df_model_all\n",
    "df_model_metrics = df_model_all[['accuracy', 'precision', 'recall', 'roc_auc_score', 'geometric_mean_score', 'matthews_corrcoef', 'f1_weighted']]\n",
    "\n",
    "umap_metrics = umap_model(df_model_metrics)"
   ]
  },
  {
   "cell_type": "code",
   "execution_count": 177,
   "metadata": {},
   "outputs": [],
   "source": [
    "# Add umap_prob to df_model_all and rename columns to 'UMAP_1_prob' and 'UMAP_2_prob'\n",
    "df_model_all = pd.concat([df_model_all, umap_prob], axis=1)\n",
    "df_model_all.rename(columns={'UMAP_1': 'UMAP_1_prob', 'UMAP_2': 'UMAP_2_prob'}, inplace=True)\n",
    "# Add umap_metrics to df_model_all and rename columns to 'UMAP_1_metrics' and 'UMAP_2_metrics'\n",
    "df_model_all = pd.concat([df_model_all, umap_metrics], axis=1)\n",
    "df_model_all.rename(columns={'UMAP_1': 'UMAP_1_metrics', 'UMAP_2': 'UMAP_2_metrics'}, inplace=True)\n",
    "\n"
   ]
  },
  {
   "cell_type": "code",
   "execution_count": 181,
   "metadata": {},
   "outputs": [
    {
     "data": {
      "text/html": [
       "<div>\n",
       "<style scoped>\n",
       "    .dataframe tbody tr th:only-of-type {\n",
       "        vertical-align: middle;\n",
       "    }\n",
       "\n",
       "    .dataframe tbody tr th {\n",
       "        vertical-align: top;\n",
       "    }\n",
       "\n",
       "    .dataframe thead th {\n",
       "        text-align: right;\n",
       "    }\n",
       "</style>\n",
       "<table border=\"1\" class=\"dataframe\">\n",
       "  <thead>\n",
       "    <tr style=\"text-align: right;\">\n",
       "      <th></th>\n",
       "      <th>model_id</th>\n",
       "      <th>algorithm_id</th>\n",
       "      <th>algorithm_name</th>\n",
       "      <th>accuracy</th>\n",
       "      <th>precision</th>\n",
       "      <th>recall</th>\n",
       "      <th>roc_auc_score</th>\n",
       "      <th>geometric_mean_score</th>\n",
       "      <th>matthews_corrcoef</th>\n",
       "      <th>f1_weighted</th>\n",
       "      <th>log_loss</th>\n",
       "      <th>overall_performance</th>\n",
       "      <th>hyperparameters</th>\n",
       "      <th>size</th>\n",
       "      <th>text</th>\n",
       "      <th>UMAP_1_prob</th>\n",
       "      <th>UMAP_2_prob</th>\n",
       "      <th>UMAP_1_metrics</th>\n",
       "      <th>UMAP_2_metrics</th>\n",
       "    </tr>\n",
       "  </thead>\n",
       "  <tbody>\n",
       "    <tr>\n",
       "      <th>0</th>\n",
       "      <td>452</td>\n",
       "      <td>1</td>\n",
       "      <td>K-Nearest Neighbor</td>\n",
       "      <td>70.31</td>\n",
       "      <td>70.36</td>\n",
       "      <td>70.31</td>\n",
       "      <td>72.5</td>\n",
       "      <td>100.0</td>\n",
       "      <td>100.0</td>\n",
       "      <td>100.0</td>\n",
       "      <td>0.0</td>\n",
       "      <td>83.35</td>\n",
       "      <td>{'algorithm': 'ball_tree', 'metric': 'euclidea...</td>\n",
       "      <td>1</td>\n",
       "      <td>K-Nearest Neighbor&lt;br&gt;Performance: 83.35%&lt;br&gt;M...</td>\n",
       "      <td>-8.72137</td>\n",
       "      <td>18.930132</td>\n",
       "      <td>27.97777</td>\n",
       "      <td>-0.117282</td>\n",
       "    </tr>\n",
       "  </tbody>\n",
       "</table>\n",
       "</div>"
      ],
      "text/plain": [
       "  model_id  algorithm_id      algorithm_name  accuracy  precision  recall  \\\n",
       "0      452             1  K-Nearest Neighbor     70.31      70.36   70.31   \n",
       "\n",
       "   roc_auc_score  geometric_mean_score  matthews_corrcoef  f1_weighted  \\\n",
       "0           72.5                 100.0              100.0        100.0   \n",
       "\n",
       "   log_loss  overall_performance  \\\n",
       "0       0.0                83.35   \n",
       "\n",
       "                                     hyperparameters  size  \\\n",
       "0  {'algorithm': 'ball_tree', 'metric': 'euclidea...     1   \n",
       "\n",
       "                                                text  UMAP_1_prob  \\\n",
       "0  K-Nearest Neighbor<br>Performance: 83.35%<br>M...     -8.72137   \n",
       "\n",
       "   UMAP_2_prob  UMAP_1_metrics  UMAP_2_metrics  \n",
       "0    18.930132        27.97777       -0.117282  "
      ]
     },
     "execution_count": 181,
     "metadata": {},
     "output_type": "execute_result"
    }
   ],
   "source": [
    "df_model_all.head(1)"
   ]
  },
  {
   "cell_type": "markdown",
   "metadata": {},
   "source": [
    "### UMAP chart"
   ]
  },
  {
   "cell_type": "code",
   "execution_count": 182,
   "metadata": {},
   "outputs": [
    {
     "data": {
      "application/vnd.plotly.v1+json": {
       "config": {
        "plotlyServerURL": "https://plot.ly"
       },
       "data": [
        {
         "hovertext": [
          "K-Nearest Neighbor<br>Performance: 83.35%<br>Model ID: 452<br>Accuracy: 70.31%<br>Precision: 70.36%<br>Recall: 70.31%<br>ROC AUC: 72.5<br>Geometric Mean: 100.0<br>Matthews Correlation: 100.0<br>F1: 100.0<br>Log Loss: 0.0",
          "K-Nearest Neighbor<br>Performance: 83.28%<br>Model ID: 288<br>Accuracy: 69.62%<br>Precision: 69.8%<br>Recall: 69.62%<br>ROC AUC: 73.91<br>Geometric Mean: 100.0<br>Matthews Correlation: 100.0<br>F1: 100.0<br>Log Loss: 0.0",
          "K-Nearest Neighbor<br>Performance: 83.13%<br>Model ID: 96<br>Accuracy: 69.29%<br>Precision: 69.48%<br>Recall: 69.29%<br>ROC AUC: 73.84<br>Geometric Mean: 100.0<br>Matthews Correlation: 100.0<br>F1: 100.0<br>Log Loss: 0.0",
          "K-Nearest Neighbor<br>Performance: 83.13%<br>Model ID: 480<br>Accuracy: 69.29%<br>Precision: 69.48%<br>Recall: 69.29%<br>ROC AUC: 73.82<br>Geometric Mean: 100.0<br>Matthews Correlation: 100.0<br>F1: 100.0<br>Log Loss: 0.0",
          "K-Nearest Neighbor<br>Performance: 83.11%<br>Model ID: 458<br>Accuracy: 69.64%<br>Precision: 69.61%<br>Recall: 69.64%<br>ROC AUC: 72.85<br>Geometric Mean: 100.0<br>Matthews Correlation: 100.0<br>F1: 100.0<br>Log Loss: 0.0",
          "Support Vector Machine<br>Performance: 83.1%<br>Model ID: 694<br>Accuracy: 82.5%<br>Precision: 82.92%<br>Recall: 82.5%<br>ROC AUC: 89.98<br>Geometric Mean: 85.43<br>Matthews Correlation: 72.38<br>F1: 85.99<br>Log Loss: 0.62",
          "Support Vector Machine<br>Performance: 83.08%<br>Model ID: 650<br>Accuracy: 82.83%<br>Precision: 83.3%<br>Recall: 82.83%<br>ROC AUC: 90.14<br>Geometric Mean: 85.07<br>Matthews Correlation: 71.75<br>F1: 85.65<br>Log Loss: 0.71",
          "Support Vector Machine<br>Performance: 83.08%<br>Model ID: 646<br>Accuracy: 82.83%<br>Precision: 83.3%<br>Recall: 82.83%<br>ROC AUC: 90.15<br>Geometric Mean: 85.07<br>Matthews Correlation: 71.75<br>F1: 85.65<br>Log Loss: 0.69",
          "Support Vector Machine<br>Performance: 83.09%<br>Model ID: 642<br>Accuracy: 82.83%<br>Precision: 83.3%<br>Recall: 82.83%<br>ROC AUC: 90.19<br>Geometric Mean: 85.07<br>Matthews Correlation: 71.75<br>F1: 85.65<br>Log Loss: 0.68",
          "Support Vector Machine<br>Performance: 83.07%<br>Model ID: 654<br>Accuracy: 82.83%<br>Precision: 83.3%<br>Recall: 82.83%<br>ROC AUC: 90.09<br>Geometric Mean: 85.07<br>Matthews Correlation: 71.75<br>F1: 85.65<br>Log Loss: 0.69",
          "Gaussian Naive Bayes<br>Performance: 80.97%<br>Model ID: 737<br>Accuracy: 80.51%<br>Precision: 80.65%<br>Recall: 80.51%<br>ROC AUC: 89.18<br>Geometric Mean: 83.79<br>Matthews Correlation: 68.01<br>F1: 84.11<br>Log Loss: 100.0",
          "Gaussian Naive Bayes<br>Performance: 80.97%<br>Model ID: 1066<br>Accuracy: 80.51%<br>Precision: 80.65%<br>Recall: 80.51%<br>ROC AUC: 89.18<br>Geometric Mean: 83.79<br>Matthews Correlation: 68.01<br>F1: 84.11<br>Log Loss: 34.0",
          "Gaussian Naive Bayes<br>Performance: 80.97%<br>Model ID: 1079<br>Accuracy: 80.51%<br>Precision: 80.65%<br>Recall: 80.51%<br>ROC AUC: 89.18<br>Geometric Mean: 83.79<br>Matthews Correlation: 68.01<br>F1: 84.11<br>Log Loss: 31.4",
          "Gaussian Naive Bayes<br>Performance: 80.97%<br>Model ID: 1078<br>Accuracy: 80.51%<br>Precision: 80.65%<br>Recall: 80.51%<br>ROC AUC: 89.18<br>Geometric Mean: 83.79<br>Matthews Correlation: 68.01<br>F1: 84.11<br>Log Loss: 31.6",
          "Gaussian Naive Bayes<br>Performance: 80.97%<br>Model ID: 1077<br>Accuracy: 80.51%<br>Precision: 80.65%<br>Recall: 80.51%<br>ROC AUC: 89.18<br>Geometric Mean: 83.79<br>Matthews Correlation: 68.01<br>F1: 84.11<br>Log Loss: 31.8",
          "Multilayer Perceptron<br>Performance: 79.22%<br>Model ID: 1262<br>Accuracy: 79.85%<br>Precision: 79.92%<br>Recall: 79.85%<br>ROC AUC: 85.88<br>Geometric Mean: 81.86<br>Matthews Correlation: 64.8<br>F1: 82.36<br>Log Loss: 17.56",
          "Multilayer Perceptron<br>Performance: 79.22%<br>Model ID: 1263<br>Accuracy: 79.85%<br>Precision: 79.92%<br>Recall: 79.85%<br>ROC AUC: 85.88<br>Geometric Mean: 81.86<br>Matthews Correlation: 64.8<br>F1: 82.36<br>Log Loss: 17.56",
          "Multilayer Perceptron<br>Performance: 79.22%<br>Model ID: 1261<br>Accuracy: 79.85%<br>Precision: 79.92%<br>Recall: 79.85%<br>ROC AUC: 85.88<br>Geometric Mean: 81.86<br>Matthews Correlation: 64.8<br>F1: 82.36<br>Log Loss: 17.56",
          "Multilayer Perceptron<br>Performance: 79.09%<br>Model ID: 1249<br>Accuracy: 79.52%<br>Precision: 79.59%<br>Recall: 79.52%<br>ROC AUC: 85.97<br>Geometric Mean: 81.86<br>Matthews Correlation: 64.8<br>F1: 82.36<br>Log Loss: 17.17",
          "Multilayer Perceptron<br>Performance: 79.09%<br>Model ID: 1251<br>Accuracy: 79.52%<br>Precision: 79.59%<br>Recall: 79.52%<br>ROC AUC: 85.97<br>Geometric Mean: 81.86<br>Matthews Correlation: 64.8<br>F1: 82.36<br>Log Loss: 17.17",
          "Logistic Regression<br>Performance: 83.67%<br>Model ID: 1677<br>Accuracy: 84.14%<br>Precision: 84.66%<br>Recall: 84.14%<br>ROC AUC: 90.32<br>Geometric Mean: 85.13<br>Matthews Correlation: 71.65<br>F1: 85.67<br>Log Loss: 3.51",
          "Logistic Regression<br>Performance: 83.66%<br>Model ID: 1741<br>Accuracy: 84.46%<br>Precision: 84.98%<br>Recall: 84.46%<br>ROC AUC: 90.58<br>Geometric Mean: 84.83<br>Matthews Correlation: 70.93<br>F1: 85.35<br>Log Loss: 3.37",
          "Logistic Regression<br>Performance: 83.54%<br>Model ID: 1901<br>Accuracy: 83.8%<br>Precision: 84.26%<br>Recall: 83.8%<br>ROC AUC: 90.5<br>Geometric Mean: 85.13<br>Matthews Correlation: 71.65<br>F1: 85.67<br>Log Loss: 3.41",
          "Logistic Regression<br>Performance: 83.53%<br>Model ID: 1773<br>Accuracy: 84.14%<br>Precision: 84.64%<br>Recall: 84.14%<br>ROC AUC: 90.65<br>Geometric Mean: 84.77<br>Matthews Correlation: 71.02<br>F1: 85.33<br>Log Loss: 3.23",
          "Logistic Regression<br>Performance: 83.41%<br>Model ID: 1869<br>Accuracy: 83.48%<br>Precision: 83.92%<br>Recall: 83.48%<br>ROC AUC: 90.54<br>Geometric Mean: 85.07<br>Matthews Correlation: 71.75<br>F1: 85.65<br>Log Loss: 2.97",
          "Linear Discriminant Analysis<br>Performance: 82.31%<br>Model ID: 1997<br>Accuracy: 83.16%<br>Precision: 84.11%<br>Recall: 83.16%<br>ROC AUC: 89.99<br>Geometric Mean: 83.32<br>Matthews Correlation: 68.51<br>F1: 83.94<br>Log Loss: 0.0",
          "Linear Discriminant Analysis<br>Performance: 82.31%<br>Model ID: 1998<br>Accuracy: 83.16%<br>Precision: 84.11%<br>Recall: 83.16%<br>ROC AUC: 89.99<br>Geometric Mean: 83.32<br>Matthews Correlation: 68.51<br>F1: 83.94<br>Log Loss: 0.0",
          "Linear Discriminant Analysis<br>Performance: 73.45%<br>Model ID: 1999<br>Accuracy: 75.89%<br>Precision: 76.41%<br>Recall: 75.89%<br>ROC AUC: 82.6<br>Geometric Mean: 75.39<br>Matthews Correlation: 52.04<br>F1: 75.95<br>Log Loss: 31.9",
          "Linear Discriminant Analysis<br>Performance: 73.45%<br>Model ID: 2000<br>Accuracy: 75.89%<br>Precision: 76.41%<br>Recall: 75.89%<br>ROC AUC: 82.6<br>Geometric Mean: 75.39<br>Matthews Correlation: 52.04<br>F1: 75.95<br>Log Loss: 31.9",
          "Linear Discriminant Analysis<br>Performance: 71.08%<br>Model ID: 2001<br>Accuracy: 74.25%<br>Precision: 74.65%<br>Recall: 74.25%<br>ROC AUC: 79.07<br>Geometric Mean: 73.45<br>Matthews Correlation: 47.92<br>F1: 73.99<br>Log Loss: 41.85",
          "Quadratic Discriminant Analysis<br>Performance: 83.44%<br>Model ID: 2227<br>Accuracy: 81.49%<br>Precision: 81.79%<br>Recall: 81.49%<br>ROC AUC: 88.84<br>Geometric Mean: 87.24<br>Matthews Correlation: 75.55<br>F1: 87.7<br>Log Loss: 0.03",
          "Quadratic Discriminant Analysis<br>Performance: 83.44%<br>Model ID: 2231<br>Accuracy: 81.49%<br>Precision: 81.79%<br>Recall: 81.49%<br>ROC AUC: 88.84<br>Geometric Mean: 87.24<br>Matthews Correlation: 75.55<br>F1: 87.7<br>Log Loss: 0.03",
          "Quadratic Discriminant Analysis<br>Performance: 83.44%<br>Model ID: 2230<br>Accuracy: 81.49%<br>Precision: 81.79%<br>Recall: 81.49%<br>ROC AUC: 88.84<br>Geometric Mean: 87.24<br>Matthews Correlation: 75.55<br>F1: 87.7<br>Log Loss: 0.03",
          "Quadratic Discriminant Analysis<br>Performance: 83.44%<br>Model ID: 2229<br>Accuracy: 81.49%<br>Precision: 81.79%<br>Recall: 81.49%<br>ROC AUC: 88.84<br>Geometric Mean: 87.24<br>Matthews Correlation: 75.55<br>F1: 87.7<br>Log Loss: 0.03",
          "Quadratic Discriminant Analysis<br>Performance: 83.44%<br>Model ID: 2228<br>Accuracy: 81.49%<br>Precision: 81.79%<br>Recall: 81.49%<br>ROC AUC: 88.84<br>Geometric Mean: 87.24<br>Matthews Correlation: 75.55<br>F1: 87.7<br>Log Loss: 0.03",
          "Random Forest<br>Performance: 91.82%<br>Model ID: 2488<br>Accuracy: 84.13%<br>Precision: 84.34%<br>Recall: 84.13%<br>ROC AUC: 90.17<br>Geometric Mean: 100.0<br>Matthews Correlation: 100.0<br>F1: 100.0<br>Log Loss: 59.71",
          "Random Forest<br>Performance: 91.83%<br>Model ID: 2490<br>Accuracy: 84.13%<br>Precision: 84.31%<br>Recall: 84.13%<br>ROC AUC: 90.21<br>Geometric Mean: 100.0<br>Matthews Correlation: 100.0<br>F1: 100.0<br>Log Loss: 52.76",
          "Random Forest<br>Performance: 91.83%<br>Model ID: 2489<br>Accuracy: 84.13%<br>Precision: 84.34%<br>Recall: 84.13%<br>ROC AUC: 90.22<br>Geometric Mean: 100.0<br>Matthews Correlation: 100.0<br>F1: 100.0<br>Log Loss: 54.75",
          "Random Forest<br>Performance: 91.82%<br>Model ID: 2494<br>Accuracy: 84.13%<br>Precision: 84.38%<br>Recall: 84.13%<br>ROC AUC: 90.11<br>Geometric Mean: 100.0<br>Matthews Correlation: 100.0<br>F1: 100.0<br>Log Loss: 58.36",
          "Random Forest<br>Performance: 91.69%<br>Model ID: 2493<br>Accuracy: 83.8%<br>Precision: 84.02%<br>Recall: 83.8%<br>ROC AUC: 90.22<br>Geometric Mean: 100.0<br>Matthews Correlation: 100.0<br>F1: 100.0<br>Log Loss: 57.04",
          "Extra Trees<br>Performance: 92.27%<br>Model ID: 2667<br>Accuracy: 84.81%<br>Precision: 85.07%<br>Recall: 84.81%<br>ROC AUC: 91.22<br>Geometric Mean: 100.0<br>Matthews Correlation: 100.0<br>F1: 100.0<br>Log Loss: 0.0",
          "Extra Trees<br>Performance: 92.24%<br>Model ID: 2659<br>Accuracy: 84.8%<br>Precision: 84.98%<br>Recall: 84.8%<br>ROC AUC: 91.07<br>Geometric Mean: 100.0<br>Matthews Correlation: 100.0<br>F1: 100.0<br>Log Loss: 0.0",
          "Extra Trees<br>Performance: 92.24%<br>Model ID: 2660<br>Accuracy: 84.8%<br>Precision: 84.98%<br>Recall: 84.8%<br>ROC AUC: 91.07<br>Geometric Mean: 100.0<br>Matthews Correlation: 100.0<br>F1: 100.0<br>Log Loss: 0.0",
          "Extra Trees<br>Performance: 92.19%<br>Model ID: 2714<br>Accuracy: 84.48%<br>Precision: 84.59%<br>Recall: 84.48%<br>ROC AUC: 91.8<br>Geometric Mean: 100.0<br>Matthews Correlation: 100.0<br>F1: 100.0<br>Log Loss: 0.0",
          "Extra Trees<br>Performance: 92.19%<br>Model ID: 2715<br>Accuracy: 84.48%<br>Precision: 84.59%<br>Recall: 84.48%<br>ROC AUC: 91.76<br>Geometric Mean: 100.0<br>Matthews Correlation: 100.0<br>F1: 100.0<br>Log Loss: 0.0",
          "Adaptive Boosting<br>Performance: 85.49%<br>Model ID: 2808<br>Accuracy: 80.83%<br>Precision: 81.1%<br>Recall: 80.83%<br>ROC AUC: 87.46<br>Geometric Mean: 92.08<br>Matthews Correlation: 84.06<br>F1: 92.08<br>Log Loss: 91.04",
          "Adaptive Boosting<br>Performance: 85.37%<br>Model ID: 2845<br>Accuracy: 80.16%<br>Precision: 80.31%<br>Recall: 80.16%<br>ROC AUC: 83.52<br>Geometric Mean: 93.35<br>Matthews Correlation: 86.69<br>F1: 93.4<br>Log Loss: 99.49",
          "Adaptive Boosting<br>Performance: 85.29%<br>Model ID: 2811<br>Accuracy: 80.5%<br>Precision: 80.76%<br>Recall: 80.5%<br>ROC AUC: 86.95<br>Geometric Mean: 92.13<br>Matthews Correlation: 84.1<br>F1: 92.09<br>Log Loss: 92.25",
          "Adaptive Boosting<br>Performance: 85.19%<br>Model ID: 2812<br>Accuracy: 80.16%<br>Precision: 80.52%<br>Recall: 80.16%<br>ROC AUC: 87.19<br>Geometric Mean: 92.13<br>Matthews Correlation: 84.1<br>F1: 92.09<br>Log Loss: 92.14",
          "Adaptive Boosting<br>Performance: 85.18%<br>Model ID: 2809<br>Accuracy: 80.17%<br>Precision: 80.42%<br>Recall: 80.17%<br>ROC AUC: 87.3<br>Geometric Mean: 92.08<br>Matthews Correlation: 84.06<br>F1: 92.08<br>Log Loss: 91.13",
          "Gradient Boosting<br>Performance: 89.77%<br>Model ID: 3030<br>Accuracy: 80.83%<br>Precision: 81.59%<br>Recall: 80.83%<br>ROC AUC: 87.84<br>Geometric Mean: 99.28<br>Matthews Correlation: 98.68<br>F1: 99.34<br>Log Loss: 3.39",
          "Gradient Boosting<br>Performance: 89.76%<br>Model ID: 3029<br>Accuracy: 80.83%<br>Precision: 81.59%<br>Recall: 80.83%<br>ROC AUC: 87.8<br>Geometric Mean: 99.28<br>Matthews Correlation: 98.68<br>F1: 99.34<br>Log Loss: 3.61",
          "Gradient Boosting<br>Performance: 89.76%<br>Model ID: 2969<br>Accuracy: 80.83%<br>Precision: 81.59%<br>Recall: 80.83%<br>ROC AUC: 87.77<br>Geometric Mean: 99.28<br>Matthews Correlation: 98.68<br>F1: 99.34<br>Log Loss: 3.61",
          "Gradient Boosting<br>Performance: 89.77%<br>Model ID: 2970<br>Accuracy: 80.83%<br>Precision: 81.59%<br>Recall: 80.83%<br>ROC AUC: 87.82<br>Geometric Mean: 99.28<br>Matthews Correlation: 98.68<br>F1: 99.34<br>Log Loss: 3.39",
          "Gradient Boosting<br>Performance: 89.75%<br>Model ID: 3026<br>Accuracy: 80.83%<br>Precision: 81.45%<br>Recall: 80.83%<br>ROC AUC: 87.84<br>Geometric Mean: 99.28<br>Matthews Correlation: 98.68<br>F1: 99.34<br>Log Loss: 4.1",
          "K-Nearest Neighbor<br>Performance: 87.44%<br>Model ID: meta_1<br>Accuracy: 89.11%<br>Precision: 89.41%<br>Recall: 89.11%<br>ROC AUC: 88.58<br>Geometric Mean: 88.58<br>Matthews Correlation: 78.24<br>F1: 89.03<br>Log Loss: 376.17",
          "Support Vector Machine<br>Performance: 92.41%<br>Model ID: meta_2<br>Accuracy: 93.4%<br>Precision: 93.4%<br>Recall: 93.4%<br>ROC AUC: 93.29<br>Geometric Mean: 93.29<br>Matthews Correlation: 86.68<br>F1: 93.4<br>Log Loss: 227.98",
          "Gaussian Naive Bayes<br>Performance: 93.21%<br>Model ID: meta_3<br>Accuracy: 94.06%<br>Precision: 94.07%<br>Recall: 94.06%<br>ROC AUC: 94.07<br>Geometric Mean: 94.07<br>Matthews Correlation: 88.05<br>F1: 94.06<br>Log Loss: 205.18",
          "Multilayer Perceptron<br>Performance: 100.0%<br>Model ID: meta_4<br>Accuracy: 100.0%<br>Precision: 100.0%<br>Recall: 100.0%<br>ROC AUC: 100.0<br>Geometric Mean: 100.0<br>Matthews Correlation: 100.0<br>F1: 100.0<br>Log Loss: 0.0",
          "Logistic Regression<br>Performance: 100.0%<br>Model ID: meta_5<br>Accuracy: 100.0%<br>Precision: 100.0%<br>Recall: 100.0%<br>ROC AUC: 100.0<br>Geometric Mean: 100.0<br>Matthews Correlation: 100.0<br>F1: 100.0<br>Log Loss: 0.0",
          "Linear Discriminant Analysis<br>Performance: 98.85%<br>Model ID: meta_6<br>Accuracy: 99.01%<br>Precision: 99.01%<br>Recall: 99.01%<br>ROC AUC: 98.97<br>Geometric Mean: 98.97<br>Matthews Correlation: 98.0<br>F1: 99.01<br>Log Loss: 34.2",
          "Quadratic Discriminant Analysis<br>Performance: 91.25%<br>Model ID: meta_7<br>Accuracy: 92.41%<br>Precision: 92.43%<br>Recall: 92.41%<br>ROC AUC: 92.2<br>Geometric Mean: 92.2<br>Matthews Correlation: 84.7<br>F1: 92.4<br>Log Loss: 262.18",
          "Random Forest<br>Performance: 90.91%<br>Model ID: meta_8<br>Accuracy: 92.08%<br>Precision: 92.08%<br>Recall: 92.08%<br>ROC AUC: 92.02<br>Geometric Mean: 92.02<br>Matthews Correlation: 84.03<br>F1: 92.08<br>Log Loss: 273.58",
          "Extra Trees<br>Performance: 96.33%<br>Model ID: meta_9<br>Accuracy: 96.7%<br>Precision: 96.85%<br>Recall: 96.7%<br>ROC AUC: 96.91<br>Geometric Mean: 96.91<br>Matthews Correlation: 93.51<br>F1: 96.71<br>Log Loss: 113.99",
          "Adaptive Boosting<br>Performance: 93.03%<br>Model ID: meta_10<br>Accuracy: 93.73%<br>Precision: 94.1%<br>Recall: 93.73%<br>ROC AUC: 94.06<br>Geometric Mean: 94.06<br>Matthews Correlation: 87.78<br>F1: 93.74<br>Log Loss: 216.58",
          "Gradient Boosting<br>Performance: 93.55%<br>Model ID: meta_11<br>Accuracy: 94.39%<br>Precision: 94.39%<br>Recall: 94.39%<br>ROC AUC: 94.31<br>Geometric Mean: 94.31<br>Matthews Correlation: 88.68<br>F1: 94.39<br>Log Loss: 193.78"
         ],
         "marker": {
          "color": [
           83.35,
           83.28,
           83.13,
           83.13,
           83.11,
           83.1,
           83.08,
           83.08,
           83.09,
           83.07,
           80.97,
           80.97,
           80.97,
           80.97,
           80.97,
           79.22,
           79.22,
           79.22,
           79.09,
           79.09,
           83.67,
           83.66,
           83.54,
           83.53,
           83.41,
           82.31,
           82.31,
           73.45,
           73.45,
           71.08,
           83.44,
           83.44,
           83.44,
           83.44,
           83.44,
           91.82,
           91.83,
           91.83,
           91.82,
           91.69,
           92.27,
           92.24,
           92.24,
           92.19,
           92.19,
           85.49,
           85.37,
           85.29,
           85.19,
           85.18,
           89.77,
           89.76,
           89.76,
           89.77,
           89.75,
           87.44,
           92.41,
           93.21,
           100,
           100,
           98.85,
           91.25,
           90.91,
           96.33,
           93.03,
           93.55
          ],
          "coloraxis": "coloraxis",
          "line": {
           "color": "Black",
           "width": 1
          },
          "opacity": 0.8,
          "size": [
           20,
           20,
           20,
           20,
           20,
           20,
           20,
           20,
           20,
           20,
           20,
           20,
           20,
           20,
           20,
           20,
           20,
           20,
           20,
           20,
           20,
           20,
           20,
           20,
           20,
           20,
           20,
           20,
           20,
           20,
           20,
           20,
           20,
           20,
           20,
           20,
           20,
           20,
           20,
           20,
           20,
           20,
           20,
           20,
           20,
           20,
           20,
           20,
           20,
           20,
           20,
           20,
           20,
           20,
           20,
           40,
           40,
           40,
           40,
           40,
           40,
           40,
           40,
           40,
           40,
           40
          ],
          "symbol": [
           "circle",
           "circle",
           "circle",
           "circle",
           "circle",
           "square",
           "square",
           "square",
           "square",
           "square",
           "x",
           "x",
           "x",
           "x",
           "x",
           "cross",
           "cross",
           "cross",
           "cross",
           "cross",
           "diamond",
           "diamond",
           "diamond",
           "diamond",
           "diamond",
           "star",
           "star",
           "star",
           "star",
           "star",
           "hexagram",
           "hexagram",
           "hexagram",
           "hexagram",
           "hexagram",
           "triangle-right",
           "triangle-right",
           "triangle-right",
           "triangle-right",
           "triangle-right",
           "triangle-left",
           "triangle-left",
           "triangle-left",
           "triangle-left",
           "triangle-left",
           "triangle-down",
           "triangle-down",
           "triangle-down",
           "triangle-down",
           "triangle-down",
           "triangle-up",
           "triangle-up",
           "triangle-up",
           "triangle-up",
           "triangle-up",
           "circle",
           "square",
           "x",
           "cross",
           "diamond",
           "star",
           "hexagram",
           "triangle-right",
           "triangle-left",
           "triangle-down",
           "triangle-up"
          ]
         },
         "mode": "markers",
         "type": "scatter",
         "x": [
          -8.721369743347168,
          -7.921507358551025,
          -8.274914741516113,
          -8.265822410583496,
          -8.657927513122559,
          35.397743225097656,
          35.90690231323242,
          35.58248519897461,
          36.11612319946289,
          35.711700439453125,
          4.135533332824707,
          3.9468650817871094,
          4.434343338012695,
          4.33638334274292,
          4.674755096435547,
          -7.7742204666137695,
          -7.08140754699707,
          -7.615838527679443,
          -7.195611000061035,
          -7.435218334197998,
          0.4817880094051361,
          0.12471146136522293,
          0.8128816485404968,
          0.7971873879432678,
          0.23269563913345337,
          0.04664299637079239,
          -0.2615150809288025,
          -7.119980335235596,
          -7.267102241516113,
          -7.432492733001709,
          -13.887463569641113,
          -14.426314353942871,
          -14.054129600524902,
          -13.684086799621582,
          -14.212512969970703,
          8.998418807983398,
          8.31853199005127,
          8.71733570098877,
          8.475533485412598,
          8.953548431396484,
          14.424958229064941,
          13.98906421661377,
          14.185677528381348,
          14.560359954833984,
          14.773099899291992,
          21.92753028869629,
          22.23808479309082,
          21.6881160736084,
          22.657655715942383,
          22.26599884033203,
          -11.986350059509277,
          -11.227753639221191,
          -11.807555198669434,
          -11.325055122375488,
          -11.5246000289917,
          4.874423980712891,
          4.427674293518066,
          5.006355285644531,
          4.127552509307861,
          3.6598193645477295,
          4.13072395324707,
          5.367592811584473,
          3.7013494968414307,
          3.9524590969085693,
          22.052202224731445,
          4.228174209594727
         ],
         "xaxis": "x",
         "y": [
          18.930131912231445,
          18.67207908630371,
          19.09609603881836,
          18.307788848876953,
          18.54472541809082,
          34.902095794677734,
          35.41126251220703,
          35.08683776855469,
          35.62051010131836,
          35.216064453125,
          -15.857479095458984,
          -16.04615592956543,
          -15.558730125427246,
          -15.656726837158203,
          -15.318323135375977,
          3.283794403076172,
          3.9772095680236816,
          3.441873073577881,
          3.863013505935669,
          3.6229069232940674,
          1.2266088724136353,
          1.1940475702285767,
          1.8309131860733032,
          1.2597111463546753,
          1.9803889989852905,
          2.5210657119750977,
          2.394536018371582,
          17.655656814575195,
          17.80784797668457,
          17.994096755981445,
          -42.002647399902344,
          -42.46821594238281,
          -42.804203033447266,
          -42.52385711669922,
          -42.18431091308594,
          2.4613447189331055,
          2.708069324493408,
          2.788381814956665,
          2.1264917850494385,
          2.180042266845703,
          40.29124069213867,
          39.85537338256836,
          40.051998138427734,
          40.42668151855469,
          40.63941955566406,
          -9.177938461303711,
          -8.992734909057617,
          -9.319358825683594,
          -9.0796480178833,
          -9.669073104858398,
          20.99913215637207,
          20.239459991455078,
          20.822280883789062,
          20.333566665649414,
          20.539113998413086,
          3.782430648803711,
          3.922771692276001,
          4.390354633331299,
          4.802221775054932,
          5.148714542388916,
          5.199326038360596,
          3.9773597717285156,
          3.5403261184692383,
          4.091172695159912,
          -8.759919166564941,
          3.321582794189453
         ],
         "yaxis": "y"
        },
        {
         "hovertext": [
          "K-Nearest Neighbor<br>Performance: 83.35%<br>Model ID: 452<br>Accuracy: 70.31%<br>Precision: 70.36%<br>Recall: 70.31%<br>ROC AUC: 72.5<br>Geometric Mean: 100.0<br>Matthews Correlation: 100.0<br>F1: 100.0<br>Log Loss: 0.0",
          "K-Nearest Neighbor<br>Performance: 83.28%<br>Model ID: 288<br>Accuracy: 69.62%<br>Precision: 69.8%<br>Recall: 69.62%<br>ROC AUC: 73.91<br>Geometric Mean: 100.0<br>Matthews Correlation: 100.0<br>F1: 100.0<br>Log Loss: 0.0",
          "K-Nearest Neighbor<br>Performance: 83.13%<br>Model ID: 96<br>Accuracy: 69.29%<br>Precision: 69.48%<br>Recall: 69.29%<br>ROC AUC: 73.84<br>Geometric Mean: 100.0<br>Matthews Correlation: 100.0<br>F1: 100.0<br>Log Loss: 0.0",
          "K-Nearest Neighbor<br>Performance: 83.13%<br>Model ID: 480<br>Accuracy: 69.29%<br>Precision: 69.48%<br>Recall: 69.29%<br>ROC AUC: 73.82<br>Geometric Mean: 100.0<br>Matthews Correlation: 100.0<br>F1: 100.0<br>Log Loss: 0.0",
          "K-Nearest Neighbor<br>Performance: 83.11%<br>Model ID: 458<br>Accuracy: 69.64%<br>Precision: 69.61%<br>Recall: 69.64%<br>ROC AUC: 72.85<br>Geometric Mean: 100.0<br>Matthews Correlation: 100.0<br>F1: 100.0<br>Log Loss: 0.0",
          "Support Vector Machine<br>Performance: 83.1%<br>Model ID: 694<br>Accuracy: 82.5%<br>Precision: 82.92%<br>Recall: 82.5%<br>ROC AUC: 89.98<br>Geometric Mean: 85.43<br>Matthews Correlation: 72.38<br>F1: 85.99<br>Log Loss: 0.62",
          "Support Vector Machine<br>Performance: 83.08%<br>Model ID: 650<br>Accuracy: 82.83%<br>Precision: 83.3%<br>Recall: 82.83%<br>ROC AUC: 90.14<br>Geometric Mean: 85.07<br>Matthews Correlation: 71.75<br>F1: 85.65<br>Log Loss: 0.71",
          "Support Vector Machine<br>Performance: 83.08%<br>Model ID: 646<br>Accuracy: 82.83%<br>Precision: 83.3%<br>Recall: 82.83%<br>ROC AUC: 90.15<br>Geometric Mean: 85.07<br>Matthews Correlation: 71.75<br>F1: 85.65<br>Log Loss: 0.69",
          "Support Vector Machine<br>Performance: 83.09%<br>Model ID: 642<br>Accuracy: 82.83%<br>Precision: 83.3%<br>Recall: 82.83%<br>ROC AUC: 90.19<br>Geometric Mean: 85.07<br>Matthews Correlation: 71.75<br>F1: 85.65<br>Log Loss: 0.68",
          "Support Vector Machine<br>Performance: 83.07%<br>Model ID: 654<br>Accuracy: 82.83%<br>Precision: 83.3%<br>Recall: 82.83%<br>ROC AUC: 90.09<br>Geometric Mean: 85.07<br>Matthews Correlation: 71.75<br>F1: 85.65<br>Log Loss: 0.69",
          "Gaussian Naive Bayes<br>Performance: 80.97%<br>Model ID: 737<br>Accuracy: 80.51%<br>Precision: 80.65%<br>Recall: 80.51%<br>ROC AUC: 89.18<br>Geometric Mean: 83.79<br>Matthews Correlation: 68.01<br>F1: 84.11<br>Log Loss: 100.0",
          "Gaussian Naive Bayes<br>Performance: 80.97%<br>Model ID: 1066<br>Accuracy: 80.51%<br>Precision: 80.65%<br>Recall: 80.51%<br>ROC AUC: 89.18<br>Geometric Mean: 83.79<br>Matthews Correlation: 68.01<br>F1: 84.11<br>Log Loss: 34.0",
          "Gaussian Naive Bayes<br>Performance: 80.97%<br>Model ID: 1079<br>Accuracy: 80.51%<br>Precision: 80.65%<br>Recall: 80.51%<br>ROC AUC: 89.18<br>Geometric Mean: 83.79<br>Matthews Correlation: 68.01<br>F1: 84.11<br>Log Loss: 31.4",
          "Gaussian Naive Bayes<br>Performance: 80.97%<br>Model ID: 1078<br>Accuracy: 80.51%<br>Precision: 80.65%<br>Recall: 80.51%<br>ROC AUC: 89.18<br>Geometric Mean: 83.79<br>Matthews Correlation: 68.01<br>F1: 84.11<br>Log Loss: 31.6",
          "Gaussian Naive Bayes<br>Performance: 80.97%<br>Model ID: 1077<br>Accuracy: 80.51%<br>Precision: 80.65%<br>Recall: 80.51%<br>ROC AUC: 89.18<br>Geometric Mean: 83.79<br>Matthews Correlation: 68.01<br>F1: 84.11<br>Log Loss: 31.8",
          "Multilayer Perceptron<br>Performance: 79.22%<br>Model ID: 1262<br>Accuracy: 79.85%<br>Precision: 79.92%<br>Recall: 79.85%<br>ROC AUC: 85.88<br>Geometric Mean: 81.86<br>Matthews Correlation: 64.8<br>F1: 82.36<br>Log Loss: 17.56",
          "Multilayer Perceptron<br>Performance: 79.22%<br>Model ID: 1263<br>Accuracy: 79.85%<br>Precision: 79.92%<br>Recall: 79.85%<br>ROC AUC: 85.88<br>Geometric Mean: 81.86<br>Matthews Correlation: 64.8<br>F1: 82.36<br>Log Loss: 17.56",
          "Multilayer Perceptron<br>Performance: 79.22%<br>Model ID: 1261<br>Accuracy: 79.85%<br>Precision: 79.92%<br>Recall: 79.85%<br>ROC AUC: 85.88<br>Geometric Mean: 81.86<br>Matthews Correlation: 64.8<br>F1: 82.36<br>Log Loss: 17.56",
          "Multilayer Perceptron<br>Performance: 79.09%<br>Model ID: 1249<br>Accuracy: 79.52%<br>Precision: 79.59%<br>Recall: 79.52%<br>ROC AUC: 85.97<br>Geometric Mean: 81.86<br>Matthews Correlation: 64.8<br>F1: 82.36<br>Log Loss: 17.17",
          "Multilayer Perceptron<br>Performance: 79.09%<br>Model ID: 1251<br>Accuracy: 79.52%<br>Precision: 79.59%<br>Recall: 79.52%<br>ROC AUC: 85.97<br>Geometric Mean: 81.86<br>Matthews Correlation: 64.8<br>F1: 82.36<br>Log Loss: 17.17",
          "Logistic Regression<br>Performance: 83.67%<br>Model ID: 1677<br>Accuracy: 84.14%<br>Precision: 84.66%<br>Recall: 84.14%<br>ROC AUC: 90.32<br>Geometric Mean: 85.13<br>Matthews Correlation: 71.65<br>F1: 85.67<br>Log Loss: 3.51",
          "Logistic Regression<br>Performance: 83.66%<br>Model ID: 1741<br>Accuracy: 84.46%<br>Precision: 84.98%<br>Recall: 84.46%<br>ROC AUC: 90.58<br>Geometric Mean: 84.83<br>Matthews Correlation: 70.93<br>F1: 85.35<br>Log Loss: 3.37",
          "Logistic Regression<br>Performance: 83.54%<br>Model ID: 1901<br>Accuracy: 83.8%<br>Precision: 84.26%<br>Recall: 83.8%<br>ROC AUC: 90.5<br>Geometric Mean: 85.13<br>Matthews Correlation: 71.65<br>F1: 85.67<br>Log Loss: 3.41",
          "Logistic Regression<br>Performance: 83.53%<br>Model ID: 1773<br>Accuracy: 84.14%<br>Precision: 84.64%<br>Recall: 84.14%<br>ROC AUC: 90.65<br>Geometric Mean: 84.77<br>Matthews Correlation: 71.02<br>F1: 85.33<br>Log Loss: 3.23",
          "Logistic Regression<br>Performance: 83.41%<br>Model ID: 1869<br>Accuracy: 83.48%<br>Precision: 83.92%<br>Recall: 83.48%<br>ROC AUC: 90.54<br>Geometric Mean: 85.07<br>Matthews Correlation: 71.75<br>F1: 85.65<br>Log Loss: 2.97",
          "Linear Discriminant Analysis<br>Performance: 82.31%<br>Model ID: 1997<br>Accuracy: 83.16%<br>Precision: 84.11%<br>Recall: 83.16%<br>ROC AUC: 89.99<br>Geometric Mean: 83.32<br>Matthews Correlation: 68.51<br>F1: 83.94<br>Log Loss: 0.0",
          "Linear Discriminant Analysis<br>Performance: 82.31%<br>Model ID: 1998<br>Accuracy: 83.16%<br>Precision: 84.11%<br>Recall: 83.16%<br>ROC AUC: 89.99<br>Geometric Mean: 83.32<br>Matthews Correlation: 68.51<br>F1: 83.94<br>Log Loss: 0.0",
          "Linear Discriminant Analysis<br>Performance: 73.45%<br>Model ID: 1999<br>Accuracy: 75.89%<br>Precision: 76.41%<br>Recall: 75.89%<br>ROC AUC: 82.6<br>Geometric Mean: 75.39<br>Matthews Correlation: 52.04<br>F1: 75.95<br>Log Loss: 31.9",
          "Linear Discriminant Analysis<br>Performance: 73.45%<br>Model ID: 2000<br>Accuracy: 75.89%<br>Precision: 76.41%<br>Recall: 75.89%<br>ROC AUC: 82.6<br>Geometric Mean: 75.39<br>Matthews Correlation: 52.04<br>F1: 75.95<br>Log Loss: 31.9",
          "Linear Discriminant Analysis<br>Performance: 71.08%<br>Model ID: 2001<br>Accuracy: 74.25%<br>Precision: 74.65%<br>Recall: 74.25%<br>ROC AUC: 79.07<br>Geometric Mean: 73.45<br>Matthews Correlation: 47.92<br>F1: 73.99<br>Log Loss: 41.85",
          "Quadratic Discriminant Analysis<br>Performance: 83.44%<br>Model ID: 2227<br>Accuracy: 81.49%<br>Precision: 81.79%<br>Recall: 81.49%<br>ROC AUC: 88.84<br>Geometric Mean: 87.24<br>Matthews Correlation: 75.55<br>F1: 87.7<br>Log Loss: 0.03",
          "Quadratic Discriminant Analysis<br>Performance: 83.44%<br>Model ID: 2231<br>Accuracy: 81.49%<br>Precision: 81.79%<br>Recall: 81.49%<br>ROC AUC: 88.84<br>Geometric Mean: 87.24<br>Matthews Correlation: 75.55<br>F1: 87.7<br>Log Loss: 0.03",
          "Quadratic Discriminant Analysis<br>Performance: 83.44%<br>Model ID: 2230<br>Accuracy: 81.49%<br>Precision: 81.79%<br>Recall: 81.49%<br>ROC AUC: 88.84<br>Geometric Mean: 87.24<br>Matthews Correlation: 75.55<br>F1: 87.7<br>Log Loss: 0.03",
          "Quadratic Discriminant Analysis<br>Performance: 83.44%<br>Model ID: 2229<br>Accuracy: 81.49%<br>Precision: 81.79%<br>Recall: 81.49%<br>ROC AUC: 88.84<br>Geometric Mean: 87.24<br>Matthews Correlation: 75.55<br>F1: 87.7<br>Log Loss: 0.03",
          "Quadratic Discriminant Analysis<br>Performance: 83.44%<br>Model ID: 2228<br>Accuracy: 81.49%<br>Precision: 81.79%<br>Recall: 81.49%<br>ROC AUC: 88.84<br>Geometric Mean: 87.24<br>Matthews Correlation: 75.55<br>F1: 87.7<br>Log Loss: 0.03",
          "Random Forest<br>Performance: 91.82%<br>Model ID: 2488<br>Accuracy: 84.13%<br>Precision: 84.34%<br>Recall: 84.13%<br>ROC AUC: 90.17<br>Geometric Mean: 100.0<br>Matthews Correlation: 100.0<br>F1: 100.0<br>Log Loss: 59.71",
          "Random Forest<br>Performance: 91.83%<br>Model ID: 2490<br>Accuracy: 84.13%<br>Precision: 84.31%<br>Recall: 84.13%<br>ROC AUC: 90.21<br>Geometric Mean: 100.0<br>Matthews Correlation: 100.0<br>F1: 100.0<br>Log Loss: 52.76",
          "Random Forest<br>Performance: 91.83%<br>Model ID: 2489<br>Accuracy: 84.13%<br>Precision: 84.34%<br>Recall: 84.13%<br>ROC AUC: 90.22<br>Geometric Mean: 100.0<br>Matthews Correlation: 100.0<br>F1: 100.0<br>Log Loss: 54.75",
          "Random Forest<br>Performance: 91.82%<br>Model ID: 2494<br>Accuracy: 84.13%<br>Precision: 84.38%<br>Recall: 84.13%<br>ROC AUC: 90.11<br>Geometric Mean: 100.0<br>Matthews Correlation: 100.0<br>F1: 100.0<br>Log Loss: 58.36",
          "Random Forest<br>Performance: 91.69%<br>Model ID: 2493<br>Accuracy: 83.8%<br>Precision: 84.02%<br>Recall: 83.8%<br>ROC AUC: 90.22<br>Geometric Mean: 100.0<br>Matthews Correlation: 100.0<br>F1: 100.0<br>Log Loss: 57.04",
          "Extra Trees<br>Performance: 92.27%<br>Model ID: 2667<br>Accuracy: 84.81%<br>Precision: 85.07%<br>Recall: 84.81%<br>ROC AUC: 91.22<br>Geometric Mean: 100.0<br>Matthews Correlation: 100.0<br>F1: 100.0<br>Log Loss: 0.0",
          "Extra Trees<br>Performance: 92.24%<br>Model ID: 2659<br>Accuracy: 84.8%<br>Precision: 84.98%<br>Recall: 84.8%<br>ROC AUC: 91.07<br>Geometric Mean: 100.0<br>Matthews Correlation: 100.0<br>F1: 100.0<br>Log Loss: 0.0",
          "Extra Trees<br>Performance: 92.24%<br>Model ID: 2660<br>Accuracy: 84.8%<br>Precision: 84.98%<br>Recall: 84.8%<br>ROC AUC: 91.07<br>Geometric Mean: 100.0<br>Matthews Correlation: 100.0<br>F1: 100.0<br>Log Loss: 0.0",
          "Extra Trees<br>Performance: 92.19%<br>Model ID: 2714<br>Accuracy: 84.48%<br>Precision: 84.59%<br>Recall: 84.48%<br>ROC AUC: 91.8<br>Geometric Mean: 100.0<br>Matthews Correlation: 100.0<br>F1: 100.0<br>Log Loss: 0.0",
          "Extra Trees<br>Performance: 92.19%<br>Model ID: 2715<br>Accuracy: 84.48%<br>Precision: 84.59%<br>Recall: 84.48%<br>ROC AUC: 91.76<br>Geometric Mean: 100.0<br>Matthews Correlation: 100.0<br>F1: 100.0<br>Log Loss: 0.0",
          "Adaptive Boosting<br>Performance: 85.49%<br>Model ID: 2808<br>Accuracy: 80.83%<br>Precision: 81.1%<br>Recall: 80.83%<br>ROC AUC: 87.46<br>Geometric Mean: 92.08<br>Matthews Correlation: 84.06<br>F1: 92.08<br>Log Loss: 91.04",
          "Adaptive Boosting<br>Performance: 85.37%<br>Model ID: 2845<br>Accuracy: 80.16%<br>Precision: 80.31%<br>Recall: 80.16%<br>ROC AUC: 83.52<br>Geometric Mean: 93.35<br>Matthews Correlation: 86.69<br>F1: 93.4<br>Log Loss: 99.49",
          "Adaptive Boosting<br>Performance: 85.29%<br>Model ID: 2811<br>Accuracy: 80.5%<br>Precision: 80.76%<br>Recall: 80.5%<br>ROC AUC: 86.95<br>Geometric Mean: 92.13<br>Matthews Correlation: 84.1<br>F1: 92.09<br>Log Loss: 92.25",
          "Adaptive Boosting<br>Performance: 85.19%<br>Model ID: 2812<br>Accuracy: 80.16%<br>Precision: 80.52%<br>Recall: 80.16%<br>ROC AUC: 87.19<br>Geometric Mean: 92.13<br>Matthews Correlation: 84.1<br>F1: 92.09<br>Log Loss: 92.14",
          "Adaptive Boosting<br>Performance: 85.18%<br>Model ID: 2809<br>Accuracy: 80.17%<br>Precision: 80.42%<br>Recall: 80.17%<br>ROC AUC: 87.3<br>Geometric Mean: 92.08<br>Matthews Correlation: 84.06<br>F1: 92.08<br>Log Loss: 91.13",
          "Gradient Boosting<br>Performance: 89.77%<br>Model ID: 3030<br>Accuracy: 80.83%<br>Precision: 81.59%<br>Recall: 80.83%<br>ROC AUC: 87.84<br>Geometric Mean: 99.28<br>Matthews Correlation: 98.68<br>F1: 99.34<br>Log Loss: 3.39",
          "Gradient Boosting<br>Performance: 89.76%<br>Model ID: 3029<br>Accuracy: 80.83%<br>Precision: 81.59%<br>Recall: 80.83%<br>ROC AUC: 87.8<br>Geometric Mean: 99.28<br>Matthews Correlation: 98.68<br>F1: 99.34<br>Log Loss: 3.61",
          "Gradient Boosting<br>Performance: 89.76%<br>Model ID: 2969<br>Accuracy: 80.83%<br>Precision: 81.59%<br>Recall: 80.83%<br>ROC AUC: 87.77<br>Geometric Mean: 99.28<br>Matthews Correlation: 98.68<br>F1: 99.34<br>Log Loss: 3.61",
          "Gradient Boosting<br>Performance: 89.77%<br>Model ID: 2970<br>Accuracy: 80.83%<br>Precision: 81.59%<br>Recall: 80.83%<br>ROC AUC: 87.82<br>Geometric Mean: 99.28<br>Matthews Correlation: 98.68<br>F1: 99.34<br>Log Loss: 3.39",
          "Gradient Boosting<br>Performance: 89.75%<br>Model ID: 3026<br>Accuracy: 80.83%<br>Precision: 81.45%<br>Recall: 80.83%<br>ROC AUC: 87.84<br>Geometric Mean: 99.28<br>Matthews Correlation: 98.68<br>F1: 99.34<br>Log Loss: 4.1",
          "K-Nearest Neighbor<br>Performance: 87.44%<br>Model ID: meta_1<br>Accuracy: 89.11%<br>Precision: 89.41%<br>Recall: 89.11%<br>ROC AUC: 88.58<br>Geometric Mean: 88.58<br>Matthews Correlation: 78.24<br>F1: 89.03<br>Log Loss: 376.17",
          "Support Vector Machine<br>Performance: 92.41%<br>Model ID: meta_2<br>Accuracy: 93.4%<br>Precision: 93.4%<br>Recall: 93.4%<br>ROC AUC: 93.29<br>Geometric Mean: 93.29<br>Matthews Correlation: 86.68<br>F1: 93.4<br>Log Loss: 227.98",
          "Gaussian Naive Bayes<br>Performance: 93.21%<br>Model ID: meta_3<br>Accuracy: 94.06%<br>Precision: 94.07%<br>Recall: 94.06%<br>ROC AUC: 94.07<br>Geometric Mean: 94.07<br>Matthews Correlation: 88.05<br>F1: 94.06<br>Log Loss: 205.18",
          "Multilayer Perceptron<br>Performance: 100.0%<br>Model ID: meta_4<br>Accuracy: 100.0%<br>Precision: 100.0%<br>Recall: 100.0%<br>ROC AUC: 100.0<br>Geometric Mean: 100.0<br>Matthews Correlation: 100.0<br>F1: 100.0<br>Log Loss: 0.0",
          "Logistic Regression<br>Performance: 100.0%<br>Model ID: meta_5<br>Accuracy: 100.0%<br>Precision: 100.0%<br>Recall: 100.0%<br>ROC AUC: 100.0<br>Geometric Mean: 100.0<br>Matthews Correlation: 100.0<br>F1: 100.0<br>Log Loss: 0.0",
          "Linear Discriminant Analysis<br>Performance: 98.85%<br>Model ID: meta_6<br>Accuracy: 99.01%<br>Precision: 99.01%<br>Recall: 99.01%<br>ROC AUC: 98.97<br>Geometric Mean: 98.97<br>Matthews Correlation: 98.0<br>F1: 99.01<br>Log Loss: 34.2",
          "Quadratic Discriminant Analysis<br>Performance: 91.25%<br>Model ID: meta_7<br>Accuracy: 92.41%<br>Precision: 92.43%<br>Recall: 92.41%<br>ROC AUC: 92.2<br>Geometric Mean: 92.2<br>Matthews Correlation: 84.7<br>F1: 92.4<br>Log Loss: 262.18",
          "Random Forest<br>Performance: 90.91%<br>Model ID: meta_8<br>Accuracy: 92.08%<br>Precision: 92.08%<br>Recall: 92.08%<br>ROC AUC: 92.02<br>Geometric Mean: 92.02<br>Matthews Correlation: 84.03<br>F1: 92.08<br>Log Loss: 273.58",
          "Extra Trees<br>Performance: 96.33%<br>Model ID: meta_9<br>Accuracy: 96.7%<br>Precision: 96.85%<br>Recall: 96.7%<br>ROC AUC: 96.91<br>Geometric Mean: 96.91<br>Matthews Correlation: 93.51<br>F1: 96.71<br>Log Loss: 113.99",
          "Adaptive Boosting<br>Performance: 93.03%<br>Model ID: meta_10<br>Accuracy: 93.73%<br>Precision: 94.1%<br>Recall: 93.73%<br>ROC AUC: 94.06<br>Geometric Mean: 94.06<br>Matthews Correlation: 87.78<br>F1: 93.74<br>Log Loss: 216.58",
          "Gradient Boosting<br>Performance: 93.55%<br>Model ID: meta_11<br>Accuracy: 94.39%<br>Precision: 94.39%<br>Recall: 94.39%<br>ROC AUC: 94.31<br>Geometric Mean: 94.31<br>Matthews Correlation: 88.68<br>F1: 94.39<br>Log Loss: 193.78"
         ],
         "marker": {
          "color": [
           83.35,
           83.28,
           83.13,
           83.13,
           83.11,
           83.1,
           83.08,
           83.08,
           83.09,
           83.07,
           80.97,
           80.97,
           80.97,
           80.97,
           80.97,
           79.22,
           79.22,
           79.22,
           79.09,
           79.09,
           83.67,
           83.66,
           83.54,
           83.53,
           83.41,
           82.31,
           82.31,
           73.45,
           73.45,
           71.08,
           83.44,
           83.44,
           83.44,
           83.44,
           83.44,
           91.82,
           91.83,
           91.83,
           91.82,
           91.69,
           92.27,
           92.24,
           92.24,
           92.19,
           92.19,
           85.49,
           85.37,
           85.29,
           85.19,
           85.18,
           89.77,
           89.76,
           89.76,
           89.77,
           89.75,
           87.44,
           92.41,
           93.21,
           100,
           100,
           98.85,
           91.25,
           90.91,
           96.33,
           93.03,
           93.55
          ],
          "coloraxis": "coloraxis",
          "line": {
           "color": "Black",
           "width": 1
          },
          "opacity": 0.8,
          "size": [
           20,
           20,
           20,
           20,
           20,
           20,
           20,
           20,
           20,
           20,
           20,
           20,
           20,
           20,
           20,
           20,
           20,
           20,
           20,
           20,
           20,
           20,
           20,
           20,
           20,
           20,
           20,
           20,
           20,
           20,
           20,
           20,
           20,
           20,
           20,
           20,
           20,
           20,
           20,
           20,
           20,
           20,
           20,
           20,
           20,
           20,
           20,
           20,
           20,
           20,
           20,
           20,
           20,
           20,
           20,
           40,
           40,
           40,
           40,
           40,
           40,
           40,
           40,
           40,
           40,
           40
          ],
          "symbol": [
           "circle",
           "circle",
           "circle",
           "circle",
           "circle",
           "square",
           "square",
           "square",
           "square",
           "square",
           "x",
           "x",
           "x",
           "x",
           "x",
           "cross",
           "cross",
           "cross",
           "cross",
           "cross",
           "diamond",
           "diamond",
           "diamond",
           "diamond",
           "diamond",
           "star",
           "star",
           "star",
           "star",
           "star",
           "hexagram",
           "hexagram",
           "hexagram",
           "hexagram",
           "hexagram",
           "triangle-right",
           "triangle-right",
           "triangle-right",
           "triangle-right",
           "triangle-right",
           "triangle-left",
           "triangle-left",
           "triangle-left",
           "triangle-left",
           "triangle-left",
           "triangle-down",
           "triangle-down",
           "triangle-down",
           "triangle-down",
           "triangle-down",
           "triangle-up",
           "triangle-up",
           "triangle-up",
           "triangle-up",
           "triangle-up",
           "circle",
           "square",
           "x",
           "cross",
           "diamond",
           "star",
           "hexagram",
           "triangle-right",
           "triangle-left",
           "triangle-down",
           "triangle-up"
          ]
         },
         "mode": "markers",
         "type": "scatter",
         "x": [
          27.97776985168457,
          28.730318069458008,
          28.02562141418457,
          28.11485481262207,
          28.374858856201172,
          1.7451139688491821,
          2.350592851638794,
          2.518059015274048,
          2.226705312728882,
          1.7426939010620117,
          40.435882568359375,
          41.05256271362305,
          40.696815490722656,
          40.970027923583984,
          40.58267593383789,
          14.877317428588867,
          14.32021427154541,
          14.533315658569336,
          14.63870906829834,
          14.247234344482422,
          4.063000679016113,
          4.454160213470459,
          3.569246768951416,
          4.268819808959961,
          3.2566986083984375,
          4.469409942626953,
          4.820155143737793,
          13.357115745544434,
          13.706256866455078,
          13.60062313079834,
          2.6880342960357666,
          2.7286393642425537,
          2.1170454025268555,
          2.503588914871216,
          2.359156608581543,
          25.63352394104004,
          25.281513214111328,
          25.971805572509766,
          25.469106674194336,
          25.935466766357422,
          15.739383697509766,
          16.029489517211914,
          15.39536190032959,
          15.394492149353027,
          15.671122550964355,
          23.65988540649414,
          24.24091339111328,
          24.011341094970703,
          23.805490493774414,
          23.434892654418945,
          -6.399926662445068,
          -6.5959625244140625,
          -6.939168930053711,
          -7.091723442077637,
          -6.591743469238281,
          13.46411418914795,
          14.676688194274902,
          14.635493278503418,
          15.207819938659668,
          14.972936630249023,
          14.762334823608398,
          14.152830123901367,
          13.894390106201172,
          14.815375328063965,
          14.771089553833008,
          15.105443000793457
         ],
         "xaxis": "x2",
         "y": [
          -0.11728233844041824,
          0.33079808950424194,
          0.2572333812713623,
          0.37279319763183594,
          -0.36487364768981934,
          -1.5345436334609985,
          -1.2280104160308838,
          -1.764836072921753,
          -1.992673635482788,
          -1.9615064859390259,
          -20.95939826965332,
          -20.664833068847656,
          -20.67353630065918,
          -21.15776252746582,
          -21.320964813232422,
          28.637920379638672,
          28.4038028717041,
          28.28681182861328,
          29.09910011291504,
          28.847978591918945,
          -2.3362579345703125,
          -2.4869933128356934,
          -2.668344736099243,
          -2.9931623935699463,
          -2.2787280082702637,
          -3.5022730827331543,
          -3.2682299613952637,
          29.384828567504883,
          29.821949005126953,
          29.68364906311035,
          25.739133834838867,
          25.77972984313965,
          25.168100357055664,
          25.553850173950195,
          25.411075592041016,
          -36.200172424316406,
          -36.280765533447266,
          -36.501277923583984,
          -35.87517166137695,
          -36.54618835449219,
          -0.543549120426178,
          -0.6800011396408081,
          -0.5114021897315979,
          -1.2107917070388794,
          -1.3576732873916626,
          3.077529191970825,
          2.9681906700134277,
          2.790170431137085,
          2.3807485103607178,
          2.736271858215332,
          9.555906295776367,
          9.417634010314941,
          9.4073486328125,
          9.836236000061035,
          10.046838760375977,
          -9.92659854888916,
          -10.273311614990234,
          -9.396652221679688,
          -7.889458656311035,
          -7.577503681182861,
          -7.8562164306640625,
          -9.981632232666016,
          -10.163543701171875,
          -8.502911567687988,
          -9.798382759094238,
          -9.501538276672363
         ],
         "yaxis": "y2"
        }
       ],
       "layout": {
        "annotations": [
         {
          "font": {
           "size": 16
          },
          "showarrow": false,
          "text": "UMAP Probabilities",
          "x": 0.2425,
          "xanchor": "center",
          "xref": "paper",
          "y": 1,
          "yanchor": "bottom",
          "yref": "paper"
         },
         {
          "font": {
           "size": 16
          },
          "showarrow": false,
          "text": "UMAP Performance metrics",
          "x": 0.7575000000000001,
          "xanchor": "center",
          "xref": "paper",
          "y": 1,
          "yanchor": "bottom",
          "yref": "paper"
         }
        ],
        "coloraxis": {
         "colorscale": [
          [
           0,
           "#440154"
          ],
          [
           0.1111111111111111,
           "#482878"
          ],
          [
           0.2222222222222222,
           "#3e4989"
          ],
          [
           0.3333333333333333,
           "#31688e"
          ],
          [
           0.4444444444444444,
           "#26828e"
          ],
          [
           0.5555555555555556,
           "#1f9e89"
          ],
          [
           0.6666666666666666,
           "#35b779"
          ],
          [
           0.7777777777777778,
           "#6ece58"
          ],
          [
           0.8888888888888888,
           "#b5de2b"
          ],
          [
           1,
           "#fde725"
          ]
         ]
        },
        "height": 600,
        "hoverlabel": {
         "bgcolor": "white",
         "font": {
          "family": "Rockwell",
          "size": 14
         }
        },
        "hovermode": "closest",
        "showlegend": false,
        "template": {
         "data": {
          "bar": [
           {
            "error_x": {
             "color": "#2a3f5f"
            },
            "error_y": {
             "color": "#2a3f5f"
            },
            "marker": {
             "line": {
              "color": "#E5ECF6",
              "width": 0.5
             },
             "pattern": {
              "fillmode": "overlay",
              "size": 10,
              "solidity": 0.2
             }
            },
            "type": "bar"
           }
          ],
          "barpolar": [
           {
            "marker": {
             "line": {
              "color": "#E5ECF6",
              "width": 0.5
             },
             "pattern": {
              "fillmode": "overlay",
              "size": 10,
              "solidity": 0.2
             }
            },
            "type": "barpolar"
           }
          ],
          "carpet": [
           {
            "aaxis": {
             "endlinecolor": "#2a3f5f",
             "gridcolor": "white",
             "linecolor": "white",
             "minorgridcolor": "white",
             "startlinecolor": "#2a3f5f"
            },
            "baxis": {
             "endlinecolor": "#2a3f5f",
             "gridcolor": "white",
             "linecolor": "white",
             "minorgridcolor": "white",
             "startlinecolor": "#2a3f5f"
            },
            "type": "carpet"
           }
          ],
          "choropleth": [
           {
            "colorbar": {
             "outlinewidth": 0,
             "ticks": ""
            },
            "type": "choropleth"
           }
          ],
          "contour": [
           {
            "colorbar": {
             "outlinewidth": 0,
             "ticks": ""
            },
            "colorscale": [
             [
              0,
              "#0d0887"
             ],
             [
              0.1111111111111111,
              "#46039f"
             ],
             [
              0.2222222222222222,
              "#7201a8"
             ],
             [
              0.3333333333333333,
              "#9c179e"
             ],
             [
              0.4444444444444444,
              "#bd3786"
             ],
             [
              0.5555555555555556,
              "#d8576b"
             ],
             [
              0.6666666666666666,
              "#ed7953"
             ],
             [
              0.7777777777777778,
              "#fb9f3a"
             ],
             [
              0.8888888888888888,
              "#fdca26"
             ],
             [
              1,
              "#f0f921"
             ]
            ],
            "type": "contour"
           }
          ],
          "contourcarpet": [
           {
            "colorbar": {
             "outlinewidth": 0,
             "ticks": ""
            },
            "type": "contourcarpet"
           }
          ],
          "heatmap": [
           {
            "colorbar": {
             "outlinewidth": 0,
             "ticks": ""
            },
            "colorscale": [
             [
              0,
              "#0d0887"
             ],
             [
              0.1111111111111111,
              "#46039f"
             ],
             [
              0.2222222222222222,
              "#7201a8"
             ],
             [
              0.3333333333333333,
              "#9c179e"
             ],
             [
              0.4444444444444444,
              "#bd3786"
             ],
             [
              0.5555555555555556,
              "#d8576b"
             ],
             [
              0.6666666666666666,
              "#ed7953"
             ],
             [
              0.7777777777777778,
              "#fb9f3a"
             ],
             [
              0.8888888888888888,
              "#fdca26"
             ],
             [
              1,
              "#f0f921"
             ]
            ],
            "type": "heatmap"
           }
          ],
          "heatmapgl": [
           {
            "colorbar": {
             "outlinewidth": 0,
             "ticks": ""
            },
            "colorscale": [
             [
              0,
              "#0d0887"
             ],
             [
              0.1111111111111111,
              "#46039f"
             ],
             [
              0.2222222222222222,
              "#7201a8"
             ],
             [
              0.3333333333333333,
              "#9c179e"
             ],
             [
              0.4444444444444444,
              "#bd3786"
             ],
             [
              0.5555555555555556,
              "#d8576b"
             ],
             [
              0.6666666666666666,
              "#ed7953"
             ],
             [
              0.7777777777777778,
              "#fb9f3a"
             ],
             [
              0.8888888888888888,
              "#fdca26"
             ],
             [
              1,
              "#f0f921"
             ]
            ],
            "type": "heatmapgl"
           }
          ],
          "histogram": [
           {
            "marker": {
             "pattern": {
              "fillmode": "overlay",
              "size": 10,
              "solidity": 0.2
             }
            },
            "type": "histogram"
           }
          ],
          "histogram2d": [
           {
            "colorbar": {
             "outlinewidth": 0,
             "ticks": ""
            },
            "colorscale": [
             [
              0,
              "#0d0887"
             ],
             [
              0.1111111111111111,
              "#46039f"
             ],
             [
              0.2222222222222222,
              "#7201a8"
             ],
             [
              0.3333333333333333,
              "#9c179e"
             ],
             [
              0.4444444444444444,
              "#bd3786"
             ],
             [
              0.5555555555555556,
              "#d8576b"
             ],
             [
              0.6666666666666666,
              "#ed7953"
             ],
             [
              0.7777777777777778,
              "#fb9f3a"
             ],
             [
              0.8888888888888888,
              "#fdca26"
             ],
             [
              1,
              "#f0f921"
             ]
            ],
            "type": "histogram2d"
           }
          ],
          "histogram2dcontour": [
           {
            "colorbar": {
             "outlinewidth": 0,
             "ticks": ""
            },
            "colorscale": [
             [
              0,
              "#0d0887"
             ],
             [
              0.1111111111111111,
              "#46039f"
             ],
             [
              0.2222222222222222,
              "#7201a8"
             ],
             [
              0.3333333333333333,
              "#9c179e"
             ],
             [
              0.4444444444444444,
              "#bd3786"
             ],
             [
              0.5555555555555556,
              "#d8576b"
             ],
             [
              0.6666666666666666,
              "#ed7953"
             ],
             [
              0.7777777777777778,
              "#fb9f3a"
             ],
             [
              0.8888888888888888,
              "#fdca26"
             ],
             [
              1,
              "#f0f921"
             ]
            ],
            "type": "histogram2dcontour"
           }
          ],
          "mesh3d": [
           {
            "colorbar": {
             "outlinewidth": 0,
             "ticks": ""
            },
            "type": "mesh3d"
           }
          ],
          "parcoords": [
           {
            "line": {
             "colorbar": {
              "outlinewidth": 0,
              "ticks": ""
             }
            },
            "type": "parcoords"
           }
          ],
          "pie": [
           {
            "automargin": true,
            "type": "pie"
           }
          ],
          "scatter": [
           {
            "fillpattern": {
             "fillmode": "overlay",
             "size": 10,
             "solidity": 0.2
            },
            "type": "scatter"
           }
          ],
          "scatter3d": [
           {
            "line": {
             "colorbar": {
              "outlinewidth": 0,
              "ticks": ""
             }
            },
            "marker": {
             "colorbar": {
              "outlinewidth": 0,
              "ticks": ""
             }
            },
            "type": "scatter3d"
           }
          ],
          "scattercarpet": [
           {
            "marker": {
             "colorbar": {
              "outlinewidth": 0,
              "ticks": ""
             }
            },
            "type": "scattercarpet"
           }
          ],
          "scattergeo": [
           {
            "marker": {
             "colorbar": {
              "outlinewidth": 0,
              "ticks": ""
             }
            },
            "type": "scattergeo"
           }
          ],
          "scattergl": [
           {
            "marker": {
             "colorbar": {
              "outlinewidth": 0,
              "ticks": ""
             }
            },
            "type": "scattergl"
           }
          ],
          "scattermapbox": [
           {
            "marker": {
             "colorbar": {
              "outlinewidth": 0,
              "ticks": ""
             }
            },
            "type": "scattermapbox"
           }
          ],
          "scatterpolar": [
           {
            "marker": {
             "colorbar": {
              "outlinewidth": 0,
              "ticks": ""
             }
            },
            "type": "scatterpolar"
           }
          ],
          "scatterpolargl": [
           {
            "marker": {
             "colorbar": {
              "outlinewidth": 0,
              "ticks": ""
             }
            },
            "type": "scatterpolargl"
           }
          ],
          "scatterternary": [
           {
            "marker": {
             "colorbar": {
              "outlinewidth": 0,
              "ticks": ""
             }
            },
            "type": "scatterternary"
           }
          ],
          "surface": [
           {
            "colorbar": {
             "outlinewidth": 0,
             "ticks": ""
            },
            "colorscale": [
             [
              0,
              "#0d0887"
             ],
             [
              0.1111111111111111,
              "#46039f"
             ],
             [
              0.2222222222222222,
              "#7201a8"
             ],
             [
              0.3333333333333333,
              "#9c179e"
             ],
             [
              0.4444444444444444,
              "#bd3786"
             ],
             [
              0.5555555555555556,
              "#d8576b"
             ],
             [
              0.6666666666666666,
              "#ed7953"
             ],
             [
              0.7777777777777778,
              "#fb9f3a"
             ],
             [
              0.8888888888888888,
              "#fdca26"
             ],
             [
              1,
              "#f0f921"
             ]
            ],
            "type": "surface"
           }
          ],
          "table": [
           {
            "cells": {
             "fill": {
              "color": "#EBF0F8"
             },
             "line": {
              "color": "white"
             }
            },
            "header": {
             "fill": {
              "color": "#C8D4E3"
             },
             "line": {
              "color": "white"
             }
            },
            "type": "table"
           }
          ]
         },
         "layout": {
          "annotationdefaults": {
           "arrowcolor": "#2a3f5f",
           "arrowhead": 0,
           "arrowwidth": 1
          },
          "autotypenumbers": "strict",
          "coloraxis": {
           "colorbar": {
            "outlinewidth": 0,
            "ticks": ""
           }
          },
          "colorscale": {
           "diverging": [
            [
             0,
             "#8e0152"
            ],
            [
             0.1,
             "#c51b7d"
            ],
            [
             0.2,
             "#de77ae"
            ],
            [
             0.3,
             "#f1b6da"
            ],
            [
             0.4,
             "#fde0ef"
            ],
            [
             0.5,
             "#f7f7f7"
            ],
            [
             0.6,
             "#e6f5d0"
            ],
            [
             0.7,
             "#b8e186"
            ],
            [
             0.8,
             "#7fbc41"
            ],
            [
             0.9,
             "#4d9221"
            ],
            [
             1,
             "#276419"
            ]
           ],
           "sequential": [
            [
             0,
             "#0d0887"
            ],
            [
             0.1111111111111111,
             "#46039f"
            ],
            [
             0.2222222222222222,
             "#7201a8"
            ],
            [
             0.3333333333333333,
             "#9c179e"
            ],
            [
             0.4444444444444444,
             "#bd3786"
            ],
            [
             0.5555555555555556,
             "#d8576b"
            ],
            [
             0.6666666666666666,
             "#ed7953"
            ],
            [
             0.7777777777777778,
             "#fb9f3a"
            ],
            [
             0.8888888888888888,
             "#fdca26"
            ],
            [
             1,
             "#f0f921"
            ]
           ],
           "sequentialminus": [
            [
             0,
             "#0d0887"
            ],
            [
             0.1111111111111111,
             "#46039f"
            ],
            [
             0.2222222222222222,
             "#7201a8"
            ],
            [
             0.3333333333333333,
             "#9c179e"
            ],
            [
             0.4444444444444444,
             "#bd3786"
            ],
            [
             0.5555555555555556,
             "#d8576b"
            ],
            [
             0.6666666666666666,
             "#ed7953"
            ],
            [
             0.7777777777777778,
             "#fb9f3a"
            ],
            [
             0.8888888888888888,
             "#fdca26"
            ],
            [
             1,
             "#f0f921"
            ]
           ]
          },
          "colorway": [
           "#636efa",
           "#EF553B",
           "#00cc96",
           "#ab63fa",
           "#FFA15A",
           "#19d3f3",
           "#FF6692",
           "#B6E880",
           "#FF97FF",
           "#FECB52"
          ],
          "font": {
           "color": "#2a3f5f"
          },
          "geo": {
           "bgcolor": "white",
           "lakecolor": "white",
           "landcolor": "#E5ECF6",
           "showlakes": true,
           "showland": true,
           "subunitcolor": "white"
          },
          "hoverlabel": {
           "align": "left"
          },
          "hovermode": "closest",
          "mapbox": {
           "style": "light"
          },
          "paper_bgcolor": "white",
          "plot_bgcolor": "#E5ECF6",
          "polar": {
           "angularaxis": {
            "gridcolor": "white",
            "linecolor": "white",
            "ticks": ""
           },
           "bgcolor": "#E5ECF6",
           "radialaxis": {
            "gridcolor": "white",
            "linecolor": "white",
            "ticks": ""
           }
          },
          "scene": {
           "xaxis": {
            "backgroundcolor": "#E5ECF6",
            "gridcolor": "white",
            "gridwidth": 2,
            "linecolor": "white",
            "showbackground": true,
            "ticks": "",
            "zerolinecolor": "white"
           },
           "yaxis": {
            "backgroundcolor": "#E5ECF6",
            "gridcolor": "white",
            "gridwidth": 2,
            "linecolor": "white",
            "showbackground": true,
            "ticks": "",
            "zerolinecolor": "white"
           },
           "zaxis": {
            "backgroundcolor": "#E5ECF6",
            "gridcolor": "white",
            "gridwidth": 2,
            "linecolor": "white",
            "showbackground": true,
            "ticks": "",
            "zerolinecolor": "white"
           }
          },
          "shapedefaults": {
           "line": {
            "color": "#2a3f5f"
           }
          },
          "ternary": {
           "aaxis": {
            "gridcolor": "white",
            "linecolor": "white",
            "ticks": ""
           },
           "baxis": {
            "gridcolor": "white",
            "linecolor": "white",
            "ticks": ""
           },
           "bgcolor": "#E5ECF6",
           "caxis": {
            "gridcolor": "white",
            "linecolor": "white",
            "ticks": ""
           }
          },
          "title": {
           "x": 0.05
          },
          "xaxis": {
           "automargin": true,
           "gridcolor": "white",
           "linecolor": "white",
           "ticks": "",
           "title": {
            "standoff": 15
           },
           "zerolinecolor": "white",
           "zerolinewidth": 2
          },
          "yaxis": {
           "automargin": true,
           "gridcolor": "white",
           "linecolor": "white",
           "ticks": "",
           "title": {
            "standoff": 15
           },
           "zerolinecolor": "white",
           "zerolinewidth": 2
          }
         }
        },
        "width": 1200,
        "xaxis": {
         "anchor": "y",
         "domain": [
          0,
          0.485
         ],
         "showticklabels": false
        },
        "xaxis2": {
         "anchor": "y2",
         "domain": [
          0.515,
          1
         ],
         "matches": "x"
        },
        "yaxis": {
         "anchor": "x",
         "domain": [
          0,
          1
         ],
         "showticklabels": false
        },
        "yaxis2": {
         "anchor": "x2",
         "domain": [
          0,
          1
         ],
         "matches": "y",
         "showticklabels": false
        }
       }
      }
     },
     "metadata": {},
     "output_type": "display_data"
    }
   ],
   "source": [
    "fig = go.Figure()\n",
    "\n",
    "\n",
    "symbols = ['circle', 'square', 'x', 'cross', 'diamond', 'star', 'hexagram', 'triangle-right', 'triangle-left', 'triangle-down', 'triangle-up']\n",
    "# convert symbols to dictionary with keys from 1 to 11\n",
    "symbols_dict = dict(zip(range(1, 12), symbols))\n",
    "\n",
    "fig = make_subplots(rows=1, cols=2, subplot_titles=('UMAP Probabilities', 'UMAP Performance metrics'), shared_yaxes='all', shared_xaxes='all',\n",
    "                    vertical_spacing=0.03, horizontal_spacing=0.03, specs=[[{'type': 'xy'}, {'type': 'xy'}]])\n",
    "\n",
    "# Plot UMAP, add hovertext and symbols, define colorscale by performance, add title\n",
    "fig.add_trace(go.Scatter(x=df_model_all['UMAP_1_prob'], y=df_model_all['UMAP_2_prob'], mode='markers', hovertext=df_model_all['text'], \n",
    "            marker=dict(size=df_model_all['size']*20, symbol = df_model_all['algorithm_id'].map(symbols_dict), \n",
    "            color=df_model_all['overall_performance'], coloraxis='coloraxis')), row=1, col=1)\n",
    "fig.add_trace(go.Scatter(x=df_model_all['UMAP_1_metrics'], y=df_model_all['UMAP_2_metrics'], mode='markers', hovertext=df_model_all['text'], \n",
    "            marker=dict(size=df_model_all['size']*20, symbol = df_model_all['algorithm_id'].map(symbols_dict), \n",
    "            color=df_model_all['overall_performance'], coloraxis='coloraxis')), row=1, col=2)\n",
    "\n",
    "# remove axes labels\n",
    "\n",
    "fig.update_layout(xaxis_showticklabels=False, yaxis_showticklabels=False)\n",
    "fig.update_traces(marker=dict(opacity=0.8, line=dict(width=1, color='Black')), selector=dict(mode='markers'))\n",
    "# define symbols for markers based on symbols defined\n",
    "fig.update_layout(hoverlabel=dict(bgcolor=\"white\", font_size=14, font_family=\"Rockwell\"), hovermode='closest')\n",
    "# define plot as square\n",
    "fig.update_layout(width=1200, height=600)\n",
    "# add tooltip\n",
    "fig.update_layout(hovermode='closest')\n",
    "fig.update_layout(coloraxis=dict(colorscale='Viridis'), showlegend=False)\n",
    "\n",
    "fig.show()"
   ]
  },
  {
   "cell_type": "markdown",
   "metadata": {},
   "source": []
  },
  {
   "cell_type": "markdown",
   "metadata": {},
   "source": [
    "### Scatter plot matrix with Correlation"
   ]
  },
  {
   "cell_type": "markdown",
   "metadata": {},
   "source": [
    "We will operate further only with prediction results, which are not the same for the all 11 meta models; the main idea is to investigate teh differencies and combinations of different metamodels. That can be cosidered as feature engineering to df_pred_meta dataframe (dataframe with all 11 meta models predictions per instance) to keep only the columns, which are not the same for all 11 meta models."
   ]
  },
  {
   "cell_type": "code",
   "execution_count": 359,
   "metadata": {},
   "outputs": [
    {
     "data": {
      "text/html": [
       "<div>\n",
       "<style scoped>\n",
       "    .dataframe tbody tr th:only-of-type {\n",
       "        vertical-align: middle;\n",
       "    }\n",
       "\n",
       "    .dataframe tbody tr th {\n",
       "        vertical-align: top;\n",
       "    }\n",
       "\n",
       "    .dataframe thead th {\n",
       "        text-align: right;\n",
       "    }\n",
       "</style>\n",
       "<table border=\"1\" class=\"dataframe\">\n",
       "  <thead>\n",
       "    <tr style=\"text-align: right;\">\n",
       "      <th></th>\n",
       "      <th>0</th>\n",
       "      <th>20</th>\n",
       "      <th>23</th>\n",
       "      <th>34</th>\n",
       "      <th>42</th>\n",
       "      <th>52</th>\n",
       "      <th>57</th>\n",
       "      <th>73</th>\n",
       "      <th>91</th>\n",
       "      <th>95</th>\n",
       "      <th>...</th>\n",
       "      <th>278</th>\n",
       "      <th>281</th>\n",
       "      <th>282</th>\n",
       "      <th>283</th>\n",
       "      <th>286</th>\n",
       "      <th>287</th>\n",
       "      <th>293</th>\n",
       "      <th>296</th>\n",
       "      <th>299</th>\n",
       "      <th>302</th>\n",
       "    </tr>\n",
       "  </thead>\n",
       "  <tbody>\n",
       "    <tr>\n",
       "      <th>0</th>\n",
       "      <td>0</td>\n",
       "      <td>0</td>\n",
       "      <td>0</td>\n",
       "      <td>0</td>\n",
       "      <td>1</td>\n",
       "      <td>1</td>\n",
       "      <td>0</td>\n",
       "      <td>0</td>\n",
       "      <td>0</td>\n",
       "      <td>1</td>\n",
       "      <td>...</td>\n",
       "      <td>0</td>\n",
       "      <td>1</td>\n",
       "      <td>0</td>\n",
       "      <td>0</td>\n",
       "      <td>0</td>\n",
       "      <td>0</td>\n",
       "      <td>0</td>\n",
       "      <td>0</td>\n",
       "      <td>0</td>\n",
       "      <td>0</td>\n",
       "    </tr>\n",
       "    <tr>\n",
       "      <th>1</th>\n",
       "      <td>0</td>\n",
       "      <td>0</td>\n",
       "      <td>0</td>\n",
       "      <td>0</td>\n",
       "      <td>1</td>\n",
       "      <td>1</td>\n",
       "      <td>0</td>\n",
       "      <td>0</td>\n",
       "      <td>0</td>\n",
       "      <td>1</td>\n",
       "      <td>...</td>\n",
       "      <td>0</td>\n",
       "      <td>1</td>\n",
       "      <td>1</td>\n",
       "      <td>1</td>\n",
       "      <td>0</td>\n",
       "      <td>0</td>\n",
       "      <td>1</td>\n",
       "      <td>1</td>\n",
       "      <td>1</td>\n",
       "      <td>0</td>\n",
       "    </tr>\n",
       "    <tr>\n",
       "      <th>2</th>\n",
       "      <td>0</td>\n",
       "      <td>0</td>\n",
       "      <td>0</td>\n",
       "      <td>0</td>\n",
       "      <td>1</td>\n",
       "      <td>1</td>\n",
       "      <td>0</td>\n",
       "      <td>0</td>\n",
       "      <td>1</td>\n",
       "      <td>1</td>\n",
       "      <td>...</td>\n",
       "      <td>0</td>\n",
       "      <td>1</td>\n",
       "      <td>1</td>\n",
       "      <td>1</td>\n",
       "      <td>0</td>\n",
       "      <td>1</td>\n",
       "      <td>1</td>\n",
       "      <td>1</td>\n",
       "      <td>1</td>\n",
       "      <td>0</td>\n",
       "    </tr>\n",
       "    <tr>\n",
       "      <th>3</th>\n",
       "      <td>0</td>\n",
       "      <td>0</td>\n",
       "      <td>0</td>\n",
       "      <td>0</td>\n",
       "      <td>0</td>\n",
       "      <td>0</td>\n",
       "      <td>0</td>\n",
       "      <td>0</td>\n",
       "      <td>0</td>\n",
       "      <td>0</td>\n",
       "      <td>...</td>\n",
       "      <td>1</td>\n",
       "      <td>1</td>\n",
       "      <td>1</td>\n",
       "      <td>1</td>\n",
       "      <td>1</td>\n",
       "      <td>1</td>\n",
       "      <td>1</td>\n",
       "      <td>1</td>\n",
       "      <td>1</td>\n",
       "      <td>1</td>\n",
       "    </tr>\n",
       "    <tr>\n",
       "      <th>4</th>\n",
       "      <td>0</td>\n",
       "      <td>0</td>\n",
       "      <td>0</td>\n",
       "      <td>0</td>\n",
       "      <td>0</td>\n",
       "      <td>0</td>\n",
       "      <td>0</td>\n",
       "      <td>0</td>\n",
       "      <td>0</td>\n",
       "      <td>0</td>\n",
       "      <td>...</td>\n",
       "      <td>1</td>\n",
       "      <td>1</td>\n",
       "      <td>1</td>\n",
       "      <td>1</td>\n",
       "      <td>1</td>\n",
       "      <td>1</td>\n",
       "      <td>1</td>\n",
       "      <td>1</td>\n",
       "      <td>1</td>\n",
       "      <td>1</td>\n",
       "    </tr>\n",
       "    <tr>\n",
       "      <th>5</th>\n",
       "      <td>0</td>\n",
       "      <td>0</td>\n",
       "      <td>0</td>\n",
       "      <td>0</td>\n",
       "      <td>0</td>\n",
       "      <td>0</td>\n",
       "      <td>0</td>\n",
       "      <td>0</td>\n",
       "      <td>0</td>\n",
       "      <td>0</td>\n",
       "      <td>...</td>\n",
       "      <td>1</td>\n",
       "      <td>1</td>\n",
       "      <td>1</td>\n",
       "      <td>1</td>\n",
       "      <td>1</td>\n",
       "      <td>1</td>\n",
       "      <td>1</td>\n",
       "      <td>1</td>\n",
       "      <td>1</td>\n",
       "      <td>1</td>\n",
       "    </tr>\n",
       "    <tr>\n",
       "      <th>6</th>\n",
       "      <td>0</td>\n",
       "      <td>0</td>\n",
       "      <td>0</td>\n",
       "      <td>0</td>\n",
       "      <td>1</td>\n",
       "      <td>1</td>\n",
       "      <td>0</td>\n",
       "      <td>0</td>\n",
       "      <td>0</td>\n",
       "      <td>1</td>\n",
       "      <td>...</td>\n",
       "      <td>0</td>\n",
       "      <td>1</td>\n",
       "      <td>1</td>\n",
       "      <td>0</td>\n",
       "      <td>0</td>\n",
       "      <td>0</td>\n",
       "      <td>1</td>\n",
       "      <td>1</td>\n",
       "      <td>0</td>\n",
       "      <td>0</td>\n",
       "    </tr>\n",
       "    <tr>\n",
       "      <th>7</th>\n",
       "      <td>0</td>\n",
       "      <td>0</td>\n",
       "      <td>1</td>\n",
       "      <td>0</td>\n",
       "      <td>1</td>\n",
       "      <td>1</td>\n",
       "      <td>0</td>\n",
       "      <td>0</td>\n",
       "      <td>1</td>\n",
       "      <td>1</td>\n",
       "      <td>...</td>\n",
       "      <td>1</td>\n",
       "      <td>1</td>\n",
       "      <td>1</td>\n",
       "      <td>1</td>\n",
       "      <td>0</td>\n",
       "      <td>1</td>\n",
       "      <td>0</td>\n",
       "      <td>0</td>\n",
       "      <td>1</td>\n",
       "      <td>0</td>\n",
       "    </tr>\n",
       "    <tr>\n",
       "      <th>8</th>\n",
       "      <td>0</td>\n",
       "      <td>0</td>\n",
       "      <td>0</td>\n",
       "      <td>0</td>\n",
       "      <td>1</td>\n",
       "      <td>1</td>\n",
       "      <td>0</td>\n",
       "      <td>0</td>\n",
       "      <td>0</td>\n",
       "      <td>1</td>\n",
       "      <td>...</td>\n",
       "      <td>1</td>\n",
       "      <td>1</td>\n",
       "      <td>1</td>\n",
       "      <td>1</td>\n",
       "      <td>1</td>\n",
       "      <td>1</td>\n",
       "      <td>1</td>\n",
       "      <td>1</td>\n",
       "      <td>1</td>\n",
       "      <td>1</td>\n",
       "    </tr>\n",
       "    <tr>\n",
       "      <th>9</th>\n",
       "      <td>1</td>\n",
       "      <td>1</td>\n",
       "      <td>0</td>\n",
       "      <td>1</td>\n",
       "      <td>0</td>\n",
       "      <td>1</td>\n",
       "      <td>1</td>\n",
       "      <td>1</td>\n",
       "      <td>0</td>\n",
       "      <td>1</td>\n",
       "      <td>...</td>\n",
       "      <td>1</td>\n",
       "      <td>0</td>\n",
       "      <td>1</td>\n",
       "      <td>1</td>\n",
       "      <td>1</td>\n",
       "      <td>1</td>\n",
       "      <td>1</td>\n",
       "      <td>1</td>\n",
       "      <td>1</td>\n",
       "      <td>1</td>\n",
       "    </tr>\n",
       "    <tr>\n",
       "      <th>10</th>\n",
       "      <td>0</td>\n",
       "      <td>0</td>\n",
       "      <td>0</td>\n",
       "      <td>1</td>\n",
       "      <td>1</td>\n",
       "      <td>1</td>\n",
       "      <td>0</td>\n",
       "      <td>0</td>\n",
       "      <td>0</td>\n",
       "      <td>1</td>\n",
       "      <td>...</td>\n",
       "      <td>1</td>\n",
       "      <td>1</td>\n",
       "      <td>1</td>\n",
       "      <td>0</td>\n",
       "      <td>0</td>\n",
       "      <td>1</td>\n",
       "      <td>0</td>\n",
       "      <td>1</td>\n",
       "      <td>1</td>\n",
       "      <td>1</td>\n",
       "    </tr>\n",
       "  </tbody>\n",
       "</table>\n",
       "<p>11 rows × 51 columns</p>\n",
       "</div>"
      ],
      "text/plain": [
       "    0    20   23   34   42   52   57   73   91   95   ...  278  281  282  283  \\\n",
       "0     0    0    0    0    1    1    0    0    0    1  ...    0    1    0    0   \n",
       "1     0    0    0    0    1    1    0    0    0    1  ...    0    1    1    1   \n",
       "2     0    0    0    0    1    1    0    0    1    1  ...    0    1    1    1   \n",
       "3     0    0    0    0    0    0    0    0    0    0  ...    1    1    1    1   \n",
       "4     0    0    0    0    0    0    0    0    0    0  ...    1    1    1    1   \n",
       "5     0    0    0    0    0    0    0    0    0    0  ...    1    1    1    1   \n",
       "6     0    0    0    0    1    1    0    0    0    1  ...    0    1    1    0   \n",
       "7     0    0    1    0    1    1    0    0    1    1  ...    1    1    1    1   \n",
       "8     0    0    0    0    1    1    0    0    0    1  ...    1    1    1    1   \n",
       "9     1    1    0    1    0    1    1    1    0    1  ...    1    0    1    1   \n",
       "10    0    0    0    1    1    1    0    0    0    1  ...    1    1    1    0   \n",
       "\n",
       "    286  287  293  296  299  302  \n",
       "0     0    0    0    0    0    0  \n",
       "1     0    0    1    1    1    0  \n",
       "2     0    1    1    1    1    0  \n",
       "3     1    1    1    1    1    1  \n",
       "4     1    1    1    1    1    1  \n",
       "5     1    1    1    1    1    1  \n",
       "6     0    0    1    1    0    0  \n",
       "7     0    1    0    0    1    0  \n",
       "8     1    1    1    1    1    1  \n",
       "9     1    1    1    1    1    1  \n",
       "10    0    1    0    1    1    1  \n",
       "\n",
       "[11 rows x 51 columns]"
      ]
     },
     "execution_count": 359,
     "metadata": {},
     "output_type": "execute_result"
    }
   ],
   "source": [
    "# find columns in df_pred_meta with the not the same values in the whole column\n",
    "df_pred_meta_red = df_pred_meta.copy()\n",
    "df_pred_meta_red = df_pred_meta_red.loc[:, df_pred_meta_red.apply(pd.Series.nunique, axis=0) != 1]\n",
    "df_pred_meta_red"
   ]
  },
  {
   "cell_type": "code",
   "execution_count": 356,
   "metadata": {},
   "outputs": [
    {
     "data": {
      "application/vnd.plotly.v1+json": {
       "config": {
        "plotlyServerURL": "https://plot.ly"
       },
       "data": [
        {
         "marker": {
          "color": [
           "rgb(0, 0, 0)",
           "rgb(16, 16, 16)",
           "rgb(38, 38, 38)",
           "rgb(59, 59, 59)",
           "rgb(81, 80, 80)",
           "rgb(102, 101, 101)",
           "rgb(124, 123, 122)",
           "rgb(146, 146, 145)",
           "rgb(171, 171, 170)",
           "rgb(197, 197, 195)",
           "rgb(224, 224, 223)",
           "rgb(254, 254, 253)"
          ]
         },
         "name": "meta_model_knn",
         "type": "bar",
         "x": [
          "mean_test_accuracy",
          "mean_test_precision_weighted",
          "mean_test_recall_weighted",
          "mean_test_roc_auc_ovo_weighted",
          "geometric_mean_score_weighted",
          "matthews_corrcoef",
          "f1_weighted"
         ],
         "xaxis": "x",
         "y": [
          89.11,
          89.41,
          89.11,
          88.58,
          88.58,
          78.24,
          89.03
         ],
         "yaxis": "y"
        },
        {
         "marker": {
          "color": [
           "rgb(0, 0, 0)",
           "rgb(16, 16, 16)",
           "rgb(38, 38, 38)",
           "rgb(59, 59, 59)",
           "rgb(81, 80, 80)",
           "rgb(102, 101, 101)",
           "rgb(124, 123, 122)",
           "rgb(146, 146, 145)",
           "rgb(171, 171, 170)",
           "rgb(197, 197, 195)",
           "rgb(224, 224, 223)",
           "rgb(254, 254, 253)"
          ]
         },
         "name": "meta_model_svm",
         "type": "bar",
         "x": [
          "mean_test_accuracy",
          "mean_test_precision_weighted",
          "mean_test_recall_weighted",
          "mean_test_roc_auc_ovo_weighted",
          "geometric_mean_score_weighted",
          "matthews_corrcoef",
          "f1_weighted"
         ],
         "xaxis": "x13",
         "y": [
          93.4,
          93.4,
          93.4,
          93.29,
          93.29,
          86.68,
          93.4
         ],
         "yaxis": "y13"
        },
        {
         "marker": {
          "color": [
           "rgb(0, 0, 0)",
           "rgb(16, 16, 16)",
           "rgb(38, 38, 38)",
           "rgb(59, 59, 59)",
           "rgb(81, 80, 80)",
           "rgb(102, 101, 101)",
           "rgb(124, 123, 122)",
           "rgb(146, 146, 145)",
           "rgb(171, 171, 170)",
           "rgb(197, 197, 195)",
           "rgb(224, 224, 223)",
           "rgb(254, 254, 253)"
          ]
         },
         "name": "meta_model_gnb",
         "type": "bar",
         "x": [
          "mean_test_accuracy",
          "mean_test_precision_weighted",
          "mean_test_recall_weighted",
          "mean_test_roc_auc_ovo_weighted",
          "geometric_mean_score_weighted",
          "matthews_corrcoef",
          "f1_weighted"
         ],
         "xaxis": "x25",
         "y": [
          94.06,
          94.07,
          94.06,
          94.07,
          94.07,
          88.05,
          94.06
         ],
         "yaxis": "y25"
        },
        {
         "marker": {
          "color": [
           "rgb(0, 0, 0)",
           "rgb(16, 16, 16)",
           "rgb(38, 38, 38)",
           "rgb(59, 59, 59)",
           "rgb(81, 80, 80)",
           "rgb(102, 101, 101)",
           "rgb(124, 123, 122)",
           "rgb(146, 146, 145)",
           "rgb(171, 171, 170)",
           "rgb(197, 197, 195)",
           "rgb(224, 224, 223)",
           "rgb(254, 254, 253)"
          ]
         },
         "name": "meta_model_mlp",
         "type": "bar",
         "x": [
          "mean_test_accuracy",
          "mean_test_precision_weighted",
          "mean_test_recall_weighted",
          "mean_test_roc_auc_ovo_weighted",
          "geometric_mean_score_weighted",
          "matthews_corrcoef",
          "f1_weighted"
         ],
         "xaxis": "x37",
         "y": [
          100,
          100,
          100,
          100,
          100,
          100,
          100
         ],
         "yaxis": "y37"
        },
        {
         "marker": {
          "color": [
           "rgb(0, 0, 0)",
           "rgb(16, 16, 16)",
           "rgb(38, 38, 38)",
           "rgb(59, 59, 59)",
           "rgb(81, 80, 80)",
           "rgb(102, 101, 101)",
           "rgb(124, 123, 122)",
           "rgb(146, 146, 145)",
           "rgb(171, 171, 170)",
           "rgb(197, 197, 195)",
           "rgb(224, 224, 223)",
           "rgb(254, 254, 253)"
          ]
         },
         "name": "meta_model_lr",
         "type": "bar",
         "x": [
          "mean_test_accuracy",
          "mean_test_precision_weighted",
          "mean_test_recall_weighted",
          "mean_test_roc_auc_ovo_weighted",
          "geometric_mean_score_weighted",
          "matthews_corrcoef",
          "f1_weighted"
         ],
         "xaxis": "x49",
         "y": [
          100,
          100,
          100,
          100,
          100,
          100,
          100
         ],
         "yaxis": "y49"
        },
        {
         "marker": {
          "color": [
           "rgb(0, 0, 0)",
           "rgb(16, 16, 16)",
           "rgb(38, 38, 38)",
           "rgb(59, 59, 59)",
           "rgb(81, 80, 80)",
           "rgb(102, 101, 101)",
           "rgb(124, 123, 122)",
           "rgb(146, 146, 145)",
           "rgb(171, 171, 170)",
           "rgb(197, 197, 195)",
           "rgb(224, 224, 223)",
           "rgb(254, 254, 253)"
          ]
         },
         "name": "meta_model_lda",
         "type": "bar",
         "x": [
          "mean_test_accuracy",
          "mean_test_precision_weighted",
          "mean_test_recall_weighted",
          "mean_test_roc_auc_ovo_weighted",
          "geometric_mean_score_weighted",
          "matthews_corrcoef",
          "f1_weighted"
         ],
         "xaxis": "x61",
         "y": [
          99.01,
          99.01,
          99.01,
          98.97,
          98.97,
          98,
          99.01
         ],
         "yaxis": "y61"
        },
        {
         "marker": {
          "color": [
           "rgb(0, 0, 0)",
           "rgb(16, 16, 16)",
           "rgb(38, 38, 38)",
           "rgb(59, 59, 59)",
           "rgb(81, 80, 80)",
           "rgb(102, 101, 101)",
           "rgb(124, 123, 122)",
           "rgb(146, 146, 145)",
           "rgb(171, 171, 170)",
           "rgb(197, 197, 195)",
           "rgb(224, 224, 223)",
           "rgb(254, 254, 253)"
          ]
         },
         "name": "meta_model_qda",
         "type": "bar",
         "x": [
          "mean_test_accuracy",
          "mean_test_precision_weighted",
          "mean_test_recall_weighted",
          "mean_test_roc_auc_ovo_weighted",
          "geometric_mean_score_weighted",
          "matthews_corrcoef",
          "f1_weighted"
         ],
         "xaxis": "x73",
         "y": [
          92.41,
          92.43,
          92.41,
          92.2,
          92.2,
          84.7,
          92.4
         ],
         "yaxis": "y73"
        },
        {
         "marker": {
          "color": [
           "rgb(0, 0, 0)",
           "rgb(16, 16, 16)",
           "rgb(38, 38, 38)",
           "rgb(59, 59, 59)",
           "rgb(81, 80, 80)",
           "rgb(102, 101, 101)",
           "rgb(124, 123, 122)",
           "rgb(146, 146, 145)",
           "rgb(171, 171, 170)",
           "rgb(197, 197, 195)",
           "rgb(224, 224, 223)",
           "rgb(254, 254, 253)"
          ]
         },
         "name": "meta_model_rf",
         "type": "bar",
         "x": [
          "mean_test_accuracy",
          "mean_test_precision_weighted",
          "mean_test_recall_weighted",
          "mean_test_roc_auc_ovo_weighted",
          "geometric_mean_score_weighted",
          "matthews_corrcoef",
          "f1_weighted"
         ],
         "xaxis": "x85",
         "y": [
          92.08,
          92.08,
          92.08,
          92.02,
          92.02,
          84.03,
          92.08
         ],
         "yaxis": "y85"
        },
        {
         "marker": {
          "color": [
           "rgb(0, 0, 0)",
           "rgb(16, 16, 16)",
           "rgb(38, 38, 38)",
           "rgb(59, 59, 59)",
           "rgb(81, 80, 80)",
           "rgb(102, 101, 101)",
           "rgb(124, 123, 122)",
           "rgb(146, 146, 145)",
           "rgb(171, 171, 170)",
           "rgb(197, 197, 195)",
           "rgb(224, 224, 223)",
           "rgb(254, 254, 253)"
          ]
         },
         "name": "meta_model_et",
         "type": "bar",
         "x": [
          "mean_test_accuracy",
          "mean_test_precision_weighted",
          "mean_test_recall_weighted",
          "mean_test_roc_auc_ovo_weighted",
          "geometric_mean_score_weighted",
          "matthews_corrcoef",
          "f1_weighted"
         ],
         "xaxis": "x97",
         "y": [
          96.7,
          96.85,
          96.7,
          96.91,
          96.91,
          93.51,
          96.71
         ],
         "yaxis": "y97"
        },
        {
         "marker": {
          "color": [
           "rgb(0, 0, 0)",
           "rgb(16, 16, 16)",
           "rgb(38, 38, 38)",
           "rgb(59, 59, 59)",
           "rgb(81, 80, 80)",
           "rgb(102, 101, 101)",
           "rgb(124, 123, 122)",
           "rgb(146, 146, 145)",
           "rgb(171, 171, 170)",
           "rgb(197, 197, 195)",
           "rgb(224, 224, 223)",
           "rgb(254, 254, 253)"
          ]
         },
         "name": "meta_model_ab",
         "type": "bar",
         "x": [
          "mean_test_accuracy",
          "mean_test_precision_weighted",
          "mean_test_recall_weighted",
          "mean_test_roc_auc_ovo_weighted",
          "geometric_mean_score_weighted",
          "matthews_corrcoef",
          "f1_weighted"
         ],
         "xaxis": "x109",
         "y": [
          93.73,
          94.1,
          93.73,
          94.06,
          94.06,
          87.78,
          93.74
         ],
         "yaxis": "y109"
        },
        {
         "marker": {
          "color": [
           "rgb(0, 0, 0)",
           "rgb(16, 16, 16)",
           "rgb(38, 38, 38)",
           "rgb(59, 59, 59)",
           "rgb(81, 80, 80)",
           "rgb(102, 101, 101)",
           "rgb(124, 123, 122)",
           "rgb(146, 146, 145)",
           "rgb(171, 171, 170)",
           "rgb(197, 197, 195)",
           "rgb(224, 224, 223)",
           "rgb(254, 254, 253)"
          ]
         },
         "name": "meta_model_gb",
         "type": "bar",
         "x": [
          "mean_test_accuracy",
          "mean_test_precision_weighted",
          "mean_test_recall_weighted",
          "mean_test_roc_auc_ovo_weighted",
          "geometric_mean_score_weighted",
          "matthews_corrcoef",
          "f1_weighted"
         ],
         "xaxis": "x121",
         "y": [
          94.39,
          94.39,
          94.39,
          94.31,
          94.31,
          88.68,
          94.39
         ],
         "yaxis": "y121"
        }
       ],
       "layout": {
        "height": 1000,
        "showlegend": false,
        "template": {
         "data": {
          "bar": [
           {
            "error_x": {
             "color": "#2a3f5f"
            },
            "error_y": {
             "color": "#2a3f5f"
            },
            "marker": {
             "line": {
              "color": "#E5ECF6",
              "width": 0.5
             },
             "pattern": {
              "fillmode": "overlay",
              "size": 10,
              "solidity": 0.2
             }
            },
            "type": "bar"
           }
          ],
          "barpolar": [
           {
            "marker": {
             "line": {
              "color": "#E5ECF6",
              "width": 0.5
             },
             "pattern": {
              "fillmode": "overlay",
              "size": 10,
              "solidity": 0.2
             }
            },
            "type": "barpolar"
           }
          ],
          "carpet": [
           {
            "aaxis": {
             "endlinecolor": "#2a3f5f",
             "gridcolor": "white",
             "linecolor": "white",
             "minorgridcolor": "white",
             "startlinecolor": "#2a3f5f"
            },
            "baxis": {
             "endlinecolor": "#2a3f5f",
             "gridcolor": "white",
             "linecolor": "white",
             "minorgridcolor": "white",
             "startlinecolor": "#2a3f5f"
            },
            "type": "carpet"
           }
          ],
          "choropleth": [
           {
            "colorbar": {
             "outlinewidth": 0,
             "ticks": ""
            },
            "type": "choropleth"
           }
          ],
          "contour": [
           {
            "colorbar": {
             "outlinewidth": 0,
             "ticks": ""
            },
            "colorscale": [
             [
              0,
              "#0d0887"
             ],
             [
              0.1111111111111111,
              "#46039f"
             ],
             [
              0.2222222222222222,
              "#7201a8"
             ],
             [
              0.3333333333333333,
              "#9c179e"
             ],
             [
              0.4444444444444444,
              "#bd3786"
             ],
             [
              0.5555555555555556,
              "#d8576b"
             ],
             [
              0.6666666666666666,
              "#ed7953"
             ],
             [
              0.7777777777777778,
              "#fb9f3a"
             ],
             [
              0.8888888888888888,
              "#fdca26"
             ],
             [
              1,
              "#f0f921"
             ]
            ],
            "type": "contour"
           }
          ],
          "contourcarpet": [
           {
            "colorbar": {
             "outlinewidth": 0,
             "ticks": ""
            },
            "type": "contourcarpet"
           }
          ],
          "heatmap": [
           {
            "colorbar": {
             "outlinewidth": 0,
             "ticks": ""
            },
            "colorscale": [
             [
              0,
              "#0d0887"
             ],
             [
              0.1111111111111111,
              "#46039f"
             ],
             [
              0.2222222222222222,
              "#7201a8"
             ],
             [
              0.3333333333333333,
              "#9c179e"
             ],
             [
              0.4444444444444444,
              "#bd3786"
             ],
             [
              0.5555555555555556,
              "#d8576b"
             ],
             [
              0.6666666666666666,
              "#ed7953"
             ],
             [
              0.7777777777777778,
              "#fb9f3a"
             ],
             [
              0.8888888888888888,
              "#fdca26"
             ],
             [
              1,
              "#f0f921"
             ]
            ],
            "type": "heatmap"
           }
          ],
          "heatmapgl": [
           {
            "colorbar": {
             "outlinewidth": 0,
             "ticks": ""
            },
            "colorscale": [
             [
              0,
              "#0d0887"
             ],
             [
              0.1111111111111111,
              "#46039f"
             ],
             [
              0.2222222222222222,
              "#7201a8"
             ],
             [
              0.3333333333333333,
              "#9c179e"
             ],
             [
              0.4444444444444444,
              "#bd3786"
             ],
             [
              0.5555555555555556,
              "#d8576b"
             ],
             [
              0.6666666666666666,
              "#ed7953"
             ],
             [
              0.7777777777777778,
              "#fb9f3a"
             ],
             [
              0.8888888888888888,
              "#fdca26"
             ],
             [
              1,
              "#f0f921"
             ]
            ],
            "type": "heatmapgl"
           }
          ],
          "histogram": [
           {
            "marker": {
             "pattern": {
              "fillmode": "overlay",
              "size": 10,
              "solidity": 0.2
             }
            },
            "type": "histogram"
           }
          ],
          "histogram2d": [
           {
            "colorbar": {
             "outlinewidth": 0,
             "ticks": ""
            },
            "colorscale": [
             [
              0,
              "#0d0887"
             ],
             [
              0.1111111111111111,
              "#46039f"
             ],
             [
              0.2222222222222222,
              "#7201a8"
             ],
             [
              0.3333333333333333,
              "#9c179e"
             ],
             [
              0.4444444444444444,
              "#bd3786"
             ],
             [
              0.5555555555555556,
              "#d8576b"
             ],
             [
              0.6666666666666666,
              "#ed7953"
             ],
             [
              0.7777777777777778,
              "#fb9f3a"
             ],
             [
              0.8888888888888888,
              "#fdca26"
             ],
             [
              1,
              "#f0f921"
             ]
            ],
            "type": "histogram2d"
           }
          ],
          "histogram2dcontour": [
           {
            "colorbar": {
             "outlinewidth": 0,
             "ticks": ""
            },
            "colorscale": [
             [
              0,
              "#0d0887"
             ],
             [
              0.1111111111111111,
              "#46039f"
             ],
             [
              0.2222222222222222,
              "#7201a8"
             ],
             [
              0.3333333333333333,
              "#9c179e"
             ],
             [
              0.4444444444444444,
              "#bd3786"
             ],
             [
              0.5555555555555556,
              "#d8576b"
             ],
             [
              0.6666666666666666,
              "#ed7953"
             ],
             [
              0.7777777777777778,
              "#fb9f3a"
             ],
             [
              0.8888888888888888,
              "#fdca26"
             ],
             [
              1,
              "#f0f921"
             ]
            ],
            "type": "histogram2dcontour"
           }
          ],
          "mesh3d": [
           {
            "colorbar": {
             "outlinewidth": 0,
             "ticks": ""
            },
            "type": "mesh3d"
           }
          ],
          "parcoords": [
           {
            "line": {
             "colorbar": {
              "outlinewidth": 0,
              "ticks": ""
             }
            },
            "type": "parcoords"
           }
          ],
          "pie": [
           {
            "automargin": true,
            "type": "pie"
           }
          ],
          "scatter": [
           {
            "fillpattern": {
             "fillmode": "overlay",
             "size": 10,
             "solidity": 0.2
            },
            "type": "scatter"
           }
          ],
          "scatter3d": [
           {
            "line": {
             "colorbar": {
              "outlinewidth": 0,
              "ticks": ""
             }
            },
            "marker": {
             "colorbar": {
              "outlinewidth": 0,
              "ticks": ""
             }
            },
            "type": "scatter3d"
           }
          ],
          "scattercarpet": [
           {
            "marker": {
             "colorbar": {
              "outlinewidth": 0,
              "ticks": ""
             }
            },
            "type": "scattercarpet"
           }
          ],
          "scattergeo": [
           {
            "marker": {
             "colorbar": {
              "outlinewidth": 0,
              "ticks": ""
             }
            },
            "type": "scattergeo"
           }
          ],
          "scattergl": [
           {
            "marker": {
             "colorbar": {
              "outlinewidth": 0,
              "ticks": ""
             }
            },
            "type": "scattergl"
           }
          ],
          "scattermapbox": [
           {
            "marker": {
             "colorbar": {
              "outlinewidth": 0,
              "ticks": ""
             }
            },
            "type": "scattermapbox"
           }
          ],
          "scatterpolar": [
           {
            "marker": {
             "colorbar": {
              "outlinewidth": 0,
              "ticks": ""
             }
            },
            "type": "scatterpolar"
           }
          ],
          "scatterpolargl": [
           {
            "marker": {
             "colorbar": {
              "outlinewidth": 0,
              "ticks": ""
             }
            },
            "type": "scatterpolargl"
           }
          ],
          "scatterternary": [
           {
            "marker": {
             "colorbar": {
              "outlinewidth": 0,
              "ticks": ""
             }
            },
            "type": "scatterternary"
           }
          ],
          "surface": [
           {
            "colorbar": {
             "outlinewidth": 0,
             "ticks": ""
            },
            "colorscale": [
             [
              0,
              "#0d0887"
             ],
             [
              0.1111111111111111,
              "#46039f"
             ],
             [
              0.2222222222222222,
              "#7201a8"
             ],
             [
              0.3333333333333333,
              "#9c179e"
             ],
             [
              0.4444444444444444,
              "#bd3786"
             ],
             [
              0.5555555555555556,
              "#d8576b"
             ],
             [
              0.6666666666666666,
              "#ed7953"
             ],
             [
              0.7777777777777778,
              "#fb9f3a"
             ],
             [
              0.8888888888888888,
              "#fdca26"
             ],
             [
              1,
              "#f0f921"
             ]
            ],
            "type": "surface"
           }
          ],
          "table": [
           {
            "cells": {
             "fill": {
              "color": "#EBF0F8"
             },
             "line": {
              "color": "white"
             }
            },
            "header": {
             "fill": {
              "color": "#C8D4E3"
             },
             "line": {
              "color": "white"
             }
            },
            "type": "table"
           }
          ]
         },
         "layout": {
          "annotationdefaults": {
           "arrowcolor": "#2a3f5f",
           "arrowhead": 0,
           "arrowwidth": 1
          },
          "autotypenumbers": "strict",
          "coloraxis": {
           "colorbar": {
            "outlinewidth": 0,
            "ticks": ""
           }
          },
          "colorscale": {
           "diverging": [
            [
             0,
             "#8e0152"
            ],
            [
             0.1,
             "#c51b7d"
            ],
            [
             0.2,
             "#de77ae"
            ],
            [
             0.3,
             "#f1b6da"
            ],
            [
             0.4,
             "#fde0ef"
            ],
            [
             0.5,
             "#f7f7f7"
            ],
            [
             0.6,
             "#e6f5d0"
            ],
            [
             0.7,
             "#b8e186"
            ],
            [
             0.8,
             "#7fbc41"
            ],
            [
             0.9,
             "#4d9221"
            ],
            [
             1,
             "#276419"
            ]
           ],
           "sequential": [
            [
             0,
             "#0d0887"
            ],
            [
             0.1111111111111111,
             "#46039f"
            ],
            [
             0.2222222222222222,
             "#7201a8"
            ],
            [
             0.3333333333333333,
             "#9c179e"
            ],
            [
             0.4444444444444444,
             "#bd3786"
            ],
            [
             0.5555555555555556,
             "#d8576b"
            ],
            [
             0.6666666666666666,
             "#ed7953"
            ],
            [
             0.7777777777777778,
             "#fb9f3a"
            ],
            [
             0.8888888888888888,
             "#fdca26"
            ],
            [
             1,
             "#f0f921"
            ]
           ],
           "sequentialminus": [
            [
             0,
             "#0d0887"
            ],
            [
             0.1111111111111111,
             "#46039f"
            ],
            [
             0.2222222222222222,
             "#7201a8"
            ],
            [
             0.3333333333333333,
             "#9c179e"
            ],
            [
             0.4444444444444444,
             "#bd3786"
            ],
            [
             0.5555555555555556,
             "#d8576b"
            ],
            [
             0.6666666666666666,
             "#ed7953"
            ],
            [
             0.7777777777777778,
             "#fb9f3a"
            ],
            [
             0.8888888888888888,
             "#fdca26"
            ],
            [
             1,
             "#f0f921"
            ]
           ]
          },
          "colorway": [
           "#636efa",
           "#EF553B",
           "#00cc96",
           "#ab63fa",
           "#FFA15A",
           "#19d3f3",
           "#FF6692",
           "#B6E880",
           "#FF97FF",
           "#FECB52"
          ],
          "font": {
           "color": "#2a3f5f"
          },
          "geo": {
           "bgcolor": "white",
           "lakecolor": "white",
           "landcolor": "#E5ECF6",
           "showlakes": true,
           "showland": true,
           "subunitcolor": "white"
          },
          "hoverlabel": {
           "align": "left"
          },
          "hovermode": "closest",
          "mapbox": {
           "style": "light"
          },
          "paper_bgcolor": "white",
          "plot_bgcolor": "#E5ECF6",
          "polar": {
           "angularaxis": {
            "gridcolor": "white",
            "linecolor": "white",
            "ticks": ""
           },
           "bgcolor": "#E5ECF6",
           "radialaxis": {
            "gridcolor": "white",
            "linecolor": "white",
            "ticks": ""
           }
          },
          "scene": {
           "xaxis": {
            "backgroundcolor": "#E5ECF6",
            "gridcolor": "white",
            "gridwidth": 2,
            "linecolor": "white",
            "showbackground": true,
            "ticks": "",
            "zerolinecolor": "white"
           },
           "yaxis": {
            "backgroundcolor": "#E5ECF6",
            "gridcolor": "white",
            "gridwidth": 2,
            "linecolor": "white",
            "showbackground": true,
            "ticks": "",
            "zerolinecolor": "white"
           },
           "zaxis": {
            "backgroundcolor": "#E5ECF6",
            "gridcolor": "white",
            "gridwidth": 2,
            "linecolor": "white",
            "showbackground": true,
            "ticks": "",
            "zerolinecolor": "white"
           }
          },
          "shapedefaults": {
           "line": {
            "color": "#2a3f5f"
           }
          },
          "ternary": {
           "aaxis": {
            "gridcolor": "white",
            "linecolor": "white",
            "ticks": ""
           },
           "baxis": {
            "gridcolor": "white",
            "linecolor": "white",
            "ticks": ""
           },
           "bgcolor": "#E5ECF6",
           "caxis": {
            "gridcolor": "white",
            "linecolor": "white",
            "ticks": ""
           }
          },
          "title": {
           "x": 0.05
          },
          "xaxis": {
           "automargin": true,
           "gridcolor": "white",
           "linecolor": "white",
           "ticks": "",
           "title": {
            "standoff": 15
           },
           "zerolinecolor": "white",
           "zerolinewidth": 2
          },
          "yaxis": {
           "automargin": true,
           "gridcolor": "white",
           "linecolor": "white",
           "ticks": "",
           "title": {
            "standoff": 15
           },
           "zerolinecolor": "white",
           "zerolinewidth": 2
          }
         }
        },
        "width": 1000,
        "xaxis": {
         "anchor": "y",
         "domain": [
          0,
          0.07272727272727274
         ],
         "matches": "x111",
         "showticklabels": false
        },
        "xaxis10": {
         "anchor": "y10",
         "domain": [
          0.8345454545454547,
          0.9072727272727275
         ],
         "matches": "x111",
         "showticklabels": false
        },
        "xaxis100": {
         "anchor": "y100",
         "domain": [
          0,
          0.07272727272727274
         ],
         "matches": "x111",
         "showticklabels": false
        },
        "xaxis101": {
         "anchor": "y101",
         "domain": [
          0.09272727272727274,
          0.16545454545454547
         ],
         "matches": "x111",
         "showticklabels": false
        },
        "xaxis102": {
         "anchor": "y102",
         "domain": [
          0.18545454545454548,
          0.25818181818181823
         ],
         "matches": "x111",
         "showticklabels": false
        },
        "xaxis103": {
         "anchor": "y103",
         "domain": [
          0.2781818181818182,
          0.35090909090909095
         ],
         "matches": "x111",
         "showticklabels": false
        },
        "xaxis104": {
         "anchor": "y104",
         "domain": [
          0.37090909090909097,
          0.4436363636363637
         ],
         "matches": "x111",
         "showticklabels": false
        },
        "xaxis105": {
         "anchor": "y105",
         "domain": [
          0.46363636363636374,
          0.5363636363636365
         ],
         "matches": "x111",
         "showticklabels": false
        },
        "xaxis106": {
         "anchor": "y106",
         "domain": [
          0.5563636363636364,
          0.6290909090909091
         ],
         "matches": "x111",
         "showticklabels": false
        },
        "xaxis107": {
         "anchor": "y107",
         "domain": [
          0.6490909090909092,
          0.7218181818181819
         ],
         "matches": "x111",
         "showticklabels": false
        },
        "xaxis108": {
         "anchor": "y108",
         "domain": [
          0.7418181818181819,
          0.8145454545454547
         ],
         "matches": "x111",
         "showticklabels": false
        },
        "xaxis109": {
         "anchor": "y109",
         "domain": [
          0.8345454545454547,
          0.9072727272727275
         ],
         "matches": "x111",
         "showticklabels": false
        },
        "xaxis11": {
         "anchor": "y11",
         "domain": [
          0.9272727272727275,
          1
         ],
         "matches": "x111",
         "showticklabels": false
        },
        "xaxis110": {
         "anchor": "y110",
         "domain": [
          0.9272727272727275,
          1
         ],
         "matches": "x111",
         "showticklabels": false
        },
        "xaxis111": {
         "anchor": "y111",
         "domain": [
          0,
          0.07272727272727274
         ],
         "showticklabels": false
        },
        "xaxis112": {
         "anchor": "y112",
         "domain": [
          0.09272727272727274,
          0.16545454545454547
         ],
         "matches": "x111",
         "showticklabels": false
        },
        "xaxis113": {
         "anchor": "y113",
         "domain": [
          0.18545454545454548,
          0.25818181818181823
         ],
         "matches": "x111",
         "showticklabels": false
        },
        "xaxis114": {
         "anchor": "y114",
         "domain": [
          0.2781818181818182,
          0.35090909090909095
         ],
         "matches": "x111",
         "showticklabels": false
        },
        "xaxis115": {
         "anchor": "y115",
         "domain": [
          0.37090909090909097,
          0.4436363636363637
         ],
         "matches": "x111",
         "showticklabels": false
        },
        "xaxis116": {
         "anchor": "y116",
         "domain": [
          0.46363636363636374,
          0.5363636363636365
         ],
         "matches": "x111",
         "showticklabels": false
        },
        "xaxis117": {
         "anchor": "y117",
         "domain": [
          0.5563636363636364,
          0.6290909090909091
         ],
         "matches": "x111",
         "showticklabels": false
        },
        "xaxis118": {
         "anchor": "y118",
         "domain": [
          0.6490909090909092,
          0.7218181818181819
         ],
         "matches": "x111",
         "showticklabels": false
        },
        "xaxis119": {
         "anchor": "y119",
         "domain": [
          0.7418181818181819,
          0.8145454545454547
         ],
         "matches": "x111",
         "showticklabels": false
        },
        "xaxis12": {
         "anchor": "y12",
         "domain": [
          0,
          0.07272727272727274
         ],
         "matches": "x111",
         "showticklabels": false
        },
        "xaxis120": {
         "anchor": "y120",
         "domain": [
          0.8345454545454547,
          0.9072727272727275
         ],
         "matches": "x111",
         "showticklabels": false
        },
        "xaxis121": {
         "anchor": "y121",
         "domain": [
          0.9272727272727275,
          1
         ],
         "matches": "x111",
         "showticklabels": false
        },
        "xaxis13": {
         "anchor": "y13",
         "domain": [
          0.09272727272727274,
          0.16545454545454547
         ],
         "matches": "x111",
         "showticklabels": false
        },
        "xaxis14": {
         "anchor": "y14",
         "domain": [
          0.18545454545454548,
          0.25818181818181823
         ],
         "matches": "x111",
         "showticklabels": false
        },
        "xaxis15": {
         "anchor": "y15",
         "domain": [
          0.2781818181818182,
          0.35090909090909095
         ],
         "matches": "x111",
         "showticklabels": false
        },
        "xaxis16": {
         "anchor": "y16",
         "domain": [
          0.37090909090909097,
          0.4436363636363637
         ],
         "matches": "x111",
         "showticklabels": false
        },
        "xaxis17": {
         "anchor": "y17",
         "domain": [
          0.46363636363636374,
          0.5363636363636365
         ],
         "matches": "x111",
         "showticklabels": false
        },
        "xaxis18": {
         "anchor": "y18",
         "domain": [
          0.5563636363636364,
          0.6290909090909091
         ],
         "matches": "x111",
         "showticklabels": false
        },
        "xaxis19": {
         "anchor": "y19",
         "domain": [
          0.6490909090909092,
          0.7218181818181819
         ],
         "matches": "x111",
         "showticklabels": false
        },
        "xaxis2": {
         "anchor": "y2",
         "domain": [
          0.09272727272727274,
          0.16545454545454547
         ],
         "matches": "x111",
         "showticklabels": false
        },
        "xaxis20": {
         "anchor": "y20",
         "domain": [
          0.7418181818181819,
          0.8145454545454547
         ],
         "matches": "x111",
         "showticklabels": false
        },
        "xaxis21": {
         "anchor": "y21",
         "domain": [
          0.8345454545454547,
          0.9072727272727275
         ],
         "matches": "x111",
         "showticklabels": false
        },
        "xaxis22": {
         "anchor": "y22",
         "domain": [
          0.9272727272727275,
          1
         ],
         "matches": "x111",
         "showticklabels": false
        },
        "xaxis23": {
         "anchor": "y23",
         "domain": [
          0,
          0.07272727272727274
         ],
         "matches": "x111",
         "showticklabels": false
        },
        "xaxis24": {
         "anchor": "y24",
         "domain": [
          0.09272727272727274,
          0.16545454545454547
         ],
         "matches": "x111",
         "showticklabels": false
        },
        "xaxis25": {
         "anchor": "y25",
         "domain": [
          0.18545454545454548,
          0.25818181818181823
         ],
         "matches": "x111",
         "showticklabels": false
        },
        "xaxis26": {
         "anchor": "y26",
         "domain": [
          0.2781818181818182,
          0.35090909090909095
         ],
         "matches": "x111",
         "showticklabels": false
        },
        "xaxis27": {
         "anchor": "y27",
         "domain": [
          0.37090909090909097,
          0.4436363636363637
         ],
         "matches": "x111",
         "showticklabels": false
        },
        "xaxis28": {
         "anchor": "y28",
         "domain": [
          0.46363636363636374,
          0.5363636363636365
         ],
         "matches": "x111",
         "showticklabels": false
        },
        "xaxis29": {
         "anchor": "y29",
         "domain": [
          0.5563636363636364,
          0.6290909090909091
         ],
         "matches": "x111",
         "showticklabels": false
        },
        "xaxis3": {
         "anchor": "y3",
         "domain": [
          0.18545454545454548,
          0.25818181818181823
         ],
         "matches": "x111",
         "showticklabels": false
        },
        "xaxis30": {
         "anchor": "y30",
         "domain": [
          0.6490909090909092,
          0.7218181818181819
         ],
         "matches": "x111",
         "showticklabels": false
        },
        "xaxis31": {
         "anchor": "y31",
         "domain": [
          0.7418181818181819,
          0.8145454545454547
         ],
         "matches": "x111",
         "showticklabels": false
        },
        "xaxis32": {
         "anchor": "y32",
         "domain": [
          0.8345454545454547,
          0.9072727272727275
         ],
         "matches": "x111",
         "showticklabels": false
        },
        "xaxis33": {
         "anchor": "y33",
         "domain": [
          0.9272727272727275,
          1
         ],
         "matches": "x111",
         "showticklabels": false
        },
        "xaxis34": {
         "anchor": "y34",
         "domain": [
          0,
          0.07272727272727274
         ],
         "matches": "x111",
         "showticklabels": false
        },
        "xaxis35": {
         "anchor": "y35",
         "domain": [
          0.09272727272727274,
          0.16545454545454547
         ],
         "matches": "x111",
         "showticklabels": false
        },
        "xaxis36": {
         "anchor": "y36",
         "domain": [
          0.18545454545454548,
          0.25818181818181823
         ],
         "matches": "x111",
         "showticklabels": false
        },
        "xaxis37": {
         "anchor": "y37",
         "domain": [
          0.2781818181818182,
          0.35090909090909095
         ],
         "matches": "x111",
         "showticklabels": false
        },
        "xaxis38": {
         "anchor": "y38",
         "domain": [
          0.37090909090909097,
          0.4436363636363637
         ],
         "matches": "x111",
         "showticklabels": false
        },
        "xaxis39": {
         "anchor": "y39",
         "domain": [
          0.46363636363636374,
          0.5363636363636365
         ],
         "matches": "x111",
         "showticklabels": false
        },
        "xaxis4": {
         "anchor": "y4",
         "domain": [
          0.2781818181818182,
          0.35090909090909095
         ],
         "matches": "x111",
         "showticklabels": false
        },
        "xaxis40": {
         "anchor": "y40",
         "domain": [
          0.5563636363636364,
          0.6290909090909091
         ],
         "matches": "x111",
         "showticklabels": false
        },
        "xaxis41": {
         "anchor": "y41",
         "domain": [
          0.6490909090909092,
          0.7218181818181819
         ],
         "matches": "x111",
         "showticklabels": false
        },
        "xaxis42": {
         "anchor": "y42",
         "domain": [
          0.7418181818181819,
          0.8145454545454547
         ],
         "matches": "x111",
         "showticklabels": false
        },
        "xaxis43": {
         "anchor": "y43",
         "domain": [
          0.8345454545454547,
          0.9072727272727275
         ],
         "matches": "x111",
         "showticklabels": false
        },
        "xaxis44": {
         "anchor": "y44",
         "domain": [
          0.9272727272727275,
          1
         ],
         "matches": "x111",
         "showticklabels": false
        },
        "xaxis45": {
         "anchor": "y45",
         "domain": [
          0,
          0.07272727272727274
         ],
         "matches": "x111",
         "showticklabels": false
        },
        "xaxis46": {
         "anchor": "y46",
         "domain": [
          0.09272727272727274,
          0.16545454545454547
         ],
         "matches": "x111",
         "showticklabels": false
        },
        "xaxis47": {
         "anchor": "y47",
         "domain": [
          0.18545454545454548,
          0.25818181818181823
         ],
         "matches": "x111",
         "showticklabels": false
        },
        "xaxis48": {
         "anchor": "y48",
         "domain": [
          0.2781818181818182,
          0.35090909090909095
         ],
         "matches": "x111",
         "showticklabels": false
        },
        "xaxis49": {
         "anchor": "y49",
         "domain": [
          0.37090909090909097,
          0.4436363636363637
         ],
         "matches": "x111",
         "showticklabels": false
        },
        "xaxis5": {
         "anchor": "y5",
         "domain": [
          0.37090909090909097,
          0.4436363636363637
         ],
         "matches": "x111",
         "showticklabels": false
        },
        "xaxis50": {
         "anchor": "y50",
         "domain": [
          0.46363636363636374,
          0.5363636363636365
         ],
         "matches": "x111",
         "showticklabels": false
        },
        "xaxis51": {
         "anchor": "y51",
         "domain": [
          0.5563636363636364,
          0.6290909090909091
         ],
         "matches": "x111",
         "showticklabels": false
        },
        "xaxis52": {
         "anchor": "y52",
         "domain": [
          0.6490909090909092,
          0.7218181818181819
         ],
         "matches": "x111",
         "showticklabels": false
        },
        "xaxis53": {
         "anchor": "y53",
         "domain": [
          0.7418181818181819,
          0.8145454545454547
         ],
         "matches": "x111",
         "showticklabels": false
        },
        "xaxis54": {
         "anchor": "y54",
         "domain": [
          0.8345454545454547,
          0.9072727272727275
         ],
         "matches": "x111",
         "showticklabels": false
        },
        "xaxis55": {
         "anchor": "y55",
         "domain": [
          0.9272727272727275,
          1
         ],
         "matches": "x111",
         "showticklabels": false
        },
        "xaxis56": {
         "anchor": "y56",
         "domain": [
          0,
          0.07272727272727274
         ],
         "matches": "x111",
         "showticklabels": false
        },
        "xaxis57": {
         "anchor": "y57",
         "domain": [
          0.09272727272727274,
          0.16545454545454547
         ],
         "matches": "x111",
         "showticklabels": false
        },
        "xaxis58": {
         "anchor": "y58",
         "domain": [
          0.18545454545454548,
          0.25818181818181823
         ],
         "matches": "x111",
         "showticklabels": false
        },
        "xaxis59": {
         "anchor": "y59",
         "domain": [
          0.2781818181818182,
          0.35090909090909095
         ],
         "matches": "x111",
         "showticklabels": false
        },
        "xaxis6": {
         "anchor": "y6",
         "domain": [
          0.46363636363636374,
          0.5363636363636365
         ],
         "matches": "x111",
         "showticklabels": false
        },
        "xaxis60": {
         "anchor": "y60",
         "domain": [
          0.37090909090909097,
          0.4436363636363637
         ],
         "matches": "x111",
         "showticklabels": false
        },
        "xaxis61": {
         "anchor": "y61",
         "domain": [
          0.46363636363636374,
          0.5363636363636365
         ],
         "matches": "x111",
         "showticklabels": false
        },
        "xaxis62": {
         "anchor": "y62",
         "domain": [
          0.5563636363636364,
          0.6290909090909091
         ],
         "matches": "x111",
         "showticklabels": false
        },
        "xaxis63": {
         "anchor": "y63",
         "domain": [
          0.6490909090909092,
          0.7218181818181819
         ],
         "matches": "x111",
         "showticklabels": false
        },
        "xaxis64": {
         "anchor": "y64",
         "domain": [
          0.7418181818181819,
          0.8145454545454547
         ],
         "matches": "x111",
         "showticklabels": false
        },
        "xaxis65": {
         "anchor": "y65",
         "domain": [
          0.8345454545454547,
          0.9072727272727275
         ],
         "matches": "x111",
         "showticklabels": false
        },
        "xaxis66": {
         "anchor": "y66",
         "domain": [
          0.9272727272727275,
          1
         ],
         "matches": "x111",
         "showticklabels": false
        },
        "xaxis67": {
         "anchor": "y67",
         "domain": [
          0,
          0.07272727272727274
         ],
         "matches": "x111",
         "showticklabels": false
        },
        "xaxis68": {
         "anchor": "y68",
         "domain": [
          0.09272727272727274,
          0.16545454545454547
         ],
         "matches": "x111",
         "showticklabels": false
        },
        "xaxis69": {
         "anchor": "y69",
         "domain": [
          0.18545454545454548,
          0.25818181818181823
         ],
         "matches": "x111",
         "showticklabels": false
        },
        "xaxis7": {
         "anchor": "y7",
         "domain": [
          0.5563636363636364,
          0.6290909090909091
         ],
         "matches": "x111",
         "showticklabels": false
        },
        "xaxis70": {
         "anchor": "y70",
         "domain": [
          0.2781818181818182,
          0.35090909090909095
         ],
         "matches": "x111",
         "showticklabels": false
        },
        "xaxis71": {
         "anchor": "y71",
         "domain": [
          0.37090909090909097,
          0.4436363636363637
         ],
         "matches": "x111",
         "showticklabels": false
        },
        "xaxis72": {
         "anchor": "y72",
         "domain": [
          0.46363636363636374,
          0.5363636363636365
         ],
         "matches": "x111",
         "showticklabels": false
        },
        "xaxis73": {
         "anchor": "y73",
         "domain": [
          0.5563636363636364,
          0.6290909090909091
         ],
         "matches": "x111",
         "showticklabels": false
        },
        "xaxis74": {
         "anchor": "y74",
         "domain": [
          0.6490909090909092,
          0.7218181818181819
         ],
         "matches": "x111",
         "showticklabels": false
        },
        "xaxis75": {
         "anchor": "y75",
         "domain": [
          0.7418181818181819,
          0.8145454545454547
         ],
         "matches": "x111",
         "showticklabels": false
        },
        "xaxis76": {
         "anchor": "y76",
         "domain": [
          0.8345454545454547,
          0.9072727272727275
         ],
         "matches": "x111",
         "showticklabels": false
        },
        "xaxis77": {
         "anchor": "y77",
         "domain": [
          0.9272727272727275,
          1
         ],
         "matches": "x111",
         "showticklabels": false
        },
        "xaxis78": {
         "anchor": "y78",
         "domain": [
          0,
          0.07272727272727274
         ],
         "matches": "x111",
         "showticklabels": false
        },
        "xaxis79": {
         "anchor": "y79",
         "domain": [
          0.09272727272727274,
          0.16545454545454547
         ],
         "matches": "x111",
         "showticklabels": false
        },
        "xaxis8": {
         "anchor": "y8",
         "domain": [
          0.6490909090909092,
          0.7218181818181819
         ],
         "matches": "x111",
         "showticklabels": false
        },
        "xaxis80": {
         "anchor": "y80",
         "domain": [
          0.18545454545454548,
          0.25818181818181823
         ],
         "matches": "x111",
         "showticklabels": false
        },
        "xaxis81": {
         "anchor": "y81",
         "domain": [
          0.2781818181818182,
          0.35090909090909095
         ],
         "matches": "x111",
         "showticklabels": false
        },
        "xaxis82": {
         "anchor": "y82",
         "domain": [
          0.37090909090909097,
          0.4436363636363637
         ],
         "matches": "x111",
         "showticklabels": false
        },
        "xaxis83": {
         "anchor": "y83",
         "domain": [
          0.46363636363636374,
          0.5363636363636365
         ],
         "matches": "x111",
         "showticklabels": false
        },
        "xaxis84": {
         "anchor": "y84",
         "domain": [
          0.5563636363636364,
          0.6290909090909091
         ],
         "matches": "x111",
         "showticklabels": false
        },
        "xaxis85": {
         "anchor": "y85",
         "domain": [
          0.6490909090909092,
          0.7218181818181819
         ],
         "matches": "x111",
         "showticklabels": false
        },
        "xaxis86": {
         "anchor": "y86",
         "domain": [
          0.7418181818181819,
          0.8145454545454547
         ],
         "matches": "x111",
         "showticklabels": false
        },
        "xaxis87": {
         "anchor": "y87",
         "domain": [
          0.8345454545454547,
          0.9072727272727275
         ],
         "matches": "x111",
         "showticklabels": false
        },
        "xaxis88": {
         "anchor": "y88",
         "domain": [
          0.9272727272727275,
          1
         ],
         "matches": "x111",
         "showticklabels": false
        },
        "xaxis89": {
         "anchor": "y89",
         "domain": [
          0,
          0.07272727272727274
         ],
         "matches": "x111",
         "showticklabels": false
        },
        "xaxis9": {
         "anchor": "y9",
         "domain": [
          0.7418181818181819,
          0.8145454545454547
         ],
         "matches": "x111",
         "showticklabels": false
        },
        "xaxis90": {
         "anchor": "y90",
         "domain": [
          0.09272727272727274,
          0.16545454545454547
         ],
         "matches": "x111",
         "showticklabels": false
        },
        "xaxis91": {
         "anchor": "y91",
         "domain": [
          0.18545454545454548,
          0.25818181818181823
         ],
         "matches": "x111",
         "showticklabels": false
        },
        "xaxis92": {
         "anchor": "y92",
         "domain": [
          0.2781818181818182,
          0.35090909090909095
         ],
         "matches": "x111",
         "showticklabels": false
        },
        "xaxis93": {
         "anchor": "y93",
         "domain": [
          0.37090909090909097,
          0.4436363636363637
         ],
         "matches": "x111",
         "showticklabels": false
        },
        "xaxis94": {
         "anchor": "y94",
         "domain": [
          0.46363636363636374,
          0.5363636363636365
         ],
         "matches": "x111",
         "showticklabels": false
        },
        "xaxis95": {
         "anchor": "y95",
         "domain": [
          0.5563636363636364,
          0.6290909090909091
         ],
         "matches": "x111",
         "showticklabels": false
        },
        "xaxis96": {
         "anchor": "y96",
         "domain": [
          0.6490909090909092,
          0.7218181818181819
         ],
         "matches": "x111",
         "showticklabels": false
        },
        "xaxis97": {
         "anchor": "y97",
         "domain": [
          0.7418181818181819,
          0.8145454545454547
         ],
         "matches": "x111",
         "showticklabels": false
        },
        "xaxis98": {
         "anchor": "y98",
         "domain": [
          0.8345454545454547,
          0.9072727272727275
         ],
         "matches": "x111",
         "showticklabels": false
        },
        "xaxis99": {
         "anchor": "y99",
         "domain": [
          0.9272727272727275,
          1
         ],
         "matches": "x111",
         "showticklabels": false
        },
        "yaxis": {
         "anchor": "x",
         "domain": [
          0.9272727272727275,
          1
         ],
         "matches": "y111",
         "showticklabels": false
        },
        "yaxis10": {
         "anchor": "x10",
         "domain": [
          0.9272727272727275,
          1
         ],
         "matches": "y111",
         "showticklabels": false
        },
        "yaxis100": {
         "anchor": "x100",
         "domain": [
          0.09272727272727274,
          0.16545454545454547
         ],
         "matches": "y111",
         "showticklabels": false
        },
        "yaxis101": {
         "anchor": "x101",
         "domain": [
          0.09272727272727274,
          0.16545454545454547
         ],
         "matches": "y111",
         "showticklabels": false
        },
        "yaxis102": {
         "anchor": "x102",
         "domain": [
          0.09272727272727274,
          0.16545454545454547
         ],
         "matches": "y111",
         "showticklabels": false
        },
        "yaxis103": {
         "anchor": "x103",
         "domain": [
          0.09272727272727274,
          0.16545454545454547
         ],
         "matches": "y111",
         "showticklabels": false
        },
        "yaxis104": {
         "anchor": "x104",
         "domain": [
          0.09272727272727274,
          0.16545454545454547
         ],
         "matches": "y111",
         "showticklabels": false
        },
        "yaxis105": {
         "anchor": "x105",
         "domain": [
          0.09272727272727274,
          0.16545454545454547
         ],
         "matches": "y111",
         "showticklabels": false
        },
        "yaxis106": {
         "anchor": "x106",
         "domain": [
          0.09272727272727274,
          0.16545454545454547
         ],
         "matches": "y111",
         "showticklabels": false
        },
        "yaxis107": {
         "anchor": "x107",
         "domain": [
          0.09272727272727274,
          0.16545454545454547
         ],
         "matches": "y111",
         "showticklabels": false
        },
        "yaxis108": {
         "anchor": "x108",
         "domain": [
          0.09272727272727274,
          0.16545454545454547
         ],
         "matches": "y111",
         "showticklabels": false
        },
        "yaxis109": {
         "anchor": "x109",
         "domain": [
          0.09272727272727274,
          0.16545454545454547
         ],
         "matches": "y111",
         "showticklabels": false
        },
        "yaxis11": {
         "anchor": "x11",
         "domain": [
          0.9272727272727275,
          1
         ],
         "matches": "y111",
         "showticklabels": false
        },
        "yaxis110": {
         "anchor": "x110",
         "domain": [
          0.09272727272727274,
          0.16545454545454547
         ],
         "matches": "y111",
         "showticklabels": false
        },
        "yaxis111": {
         "anchor": "x111",
         "domain": [
          0,
          0.07272727272727274
         ],
         "showticklabels": false
        },
        "yaxis112": {
         "anchor": "x112",
         "domain": [
          0,
          0.07272727272727274
         ],
         "matches": "y111",
         "showticklabels": false
        },
        "yaxis113": {
         "anchor": "x113",
         "domain": [
          0,
          0.07272727272727274
         ],
         "matches": "y111",
         "showticklabels": false
        },
        "yaxis114": {
         "anchor": "x114",
         "domain": [
          0,
          0.07272727272727274
         ],
         "matches": "y111",
         "showticklabels": false
        },
        "yaxis115": {
         "anchor": "x115",
         "domain": [
          0,
          0.07272727272727274
         ],
         "matches": "y111",
         "showticklabels": false
        },
        "yaxis116": {
         "anchor": "x116",
         "domain": [
          0,
          0.07272727272727274
         ],
         "matches": "y111",
         "showticklabels": false
        },
        "yaxis117": {
         "anchor": "x117",
         "domain": [
          0,
          0.07272727272727274
         ],
         "matches": "y111",
         "showticklabels": false
        },
        "yaxis118": {
         "anchor": "x118",
         "domain": [
          0,
          0.07272727272727274
         ],
         "matches": "y111",
         "showticklabels": false
        },
        "yaxis119": {
         "anchor": "x119",
         "domain": [
          0,
          0.07272727272727274
         ],
         "matches": "y111",
         "showticklabels": false
        },
        "yaxis12": {
         "anchor": "x12",
         "domain": [
          0.8345454545454547,
          0.9072727272727275
         ],
         "matches": "y111",
         "showticklabels": false
        },
        "yaxis120": {
         "anchor": "x120",
         "domain": [
          0,
          0.07272727272727274
         ],
         "matches": "y111",
         "showticklabels": false
        },
        "yaxis121": {
         "anchor": "x121",
         "domain": [
          0,
          0.07272727272727274
         ],
         "matches": "y111",
         "showticklabels": false
        },
        "yaxis13": {
         "anchor": "x13",
         "domain": [
          0.8345454545454547,
          0.9072727272727275
         ],
         "matches": "y111",
         "showticklabels": false
        },
        "yaxis14": {
         "anchor": "x14",
         "domain": [
          0.8345454545454547,
          0.9072727272727275
         ],
         "matches": "y111",
         "showticklabels": false
        },
        "yaxis15": {
         "anchor": "x15",
         "domain": [
          0.8345454545454547,
          0.9072727272727275
         ],
         "matches": "y111",
         "showticklabels": false
        },
        "yaxis16": {
         "anchor": "x16",
         "domain": [
          0.8345454545454547,
          0.9072727272727275
         ],
         "matches": "y111",
         "showticklabels": false
        },
        "yaxis17": {
         "anchor": "x17",
         "domain": [
          0.8345454545454547,
          0.9072727272727275
         ],
         "matches": "y111",
         "showticklabels": false
        },
        "yaxis18": {
         "anchor": "x18",
         "domain": [
          0.8345454545454547,
          0.9072727272727275
         ],
         "matches": "y111",
         "showticklabels": false
        },
        "yaxis19": {
         "anchor": "x19",
         "domain": [
          0.8345454545454547,
          0.9072727272727275
         ],
         "matches": "y111",
         "showticklabels": false
        },
        "yaxis2": {
         "anchor": "x2",
         "domain": [
          0.9272727272727275,
          1
         ],
         "matches": "y111",
         "showticklabels": false
        },
        "yaxis20": {
         "anchor": "x20",
         "domain": [
          0.8345454545454547,
          0.9072727272727275
         ],
         "matches": "y111",
         "showticklabels": false
        },
        "yaxis21": {
         "anchor": "x21",
         "domain": [
          0.8345454545454547,
          0.9072727272727275
         ],
         "matches": "y111",
         "showticklabels": false
        },
        "yaxis22": {
         "anchor": "x22",
         "domain": [
          0.8345454545454547,
          0.9072727272727275
         ],
         "matches": "y111",
         "showticklabels": false
        },
        "yaxis23": {
         "anchor": "x23",
         "domain": [
          0.7418181818181819,
          0.8145454545454547
         ],
         "matches": "y111",
         "showticklabels": false
        },
        "yaxis24": {
         "anchor": "x24",
         "domain": [
          0.7418181818181819,
          0.8145454545454547
         ],
         "matches": "y111",
         "showticklabels": false
        },
        "yaxis25": {
         "anchor": "x25",
         "domain": [
          0.7418181818181819,
          0.8145454545454547
         ],
         "matches": "y111",
         "showticklabels": false
        },
        "yaxis26": {
         "anchor": "x26",
         "domain": [
          0.7418181818181819,
          0.8145454545454547
         ],
         "matches": "y111",
         "showticklabels": false
        },
        "yaxis27": {
         "anchor": "x27",
         "domain": [
          0.7418181818181819,
          0.8145454545454547
         ],
         "matches": "y111",
         "showticklabels": false
        },
        "yaxis28": {
         "anchor": "x28",
         "domain": [
          0.7418181818181819,
          0.8145454545454547
         ],
         "matches": "y111",
         "showticklabels": false
        },
        "yaxis29": {
         "anchor": "x29",
         "domain": [
          0.7418181818181819,
          0.8145454545454547
         ],
         "matches": "y111",
         "showticklabels": false
        },
        "yaxis3": {
         "anchor": "x3",
         "domain": [
          0.9272727272727275,
          1
         ],
         "matches": "y111",
         "showticklabels": false
        },
        "yaxis30": {
         "anchor": "x30",
         "domain": [
          0.7418181818181819,
          0.8145454545454547
         ],
         "matches": "y111",
         "showticklabels": false
        },
        "yaxis31": {
         "anchor": "x31",
         "domain": [
          0.7418181818181819,
          0.8145454545454547
         ],
         "matches": "y111",
         "showticklabels": false
        },
        "yaxis32": {
         "anchor": "x32",
         "domain": [
          0.7418181818181819,
          0.8145454545454547
         ],
         "matches": "y111",
         "showticklabels": false
        },
        "yaxis33": {
         "anchor": "x33",
         "domain": [
          0.7418181818181819,
          0.8145454545454547
         ],
         "matches": "y111",
         "showticklabels": false
        },
        "yaxis34": {
         "anchor": "x34",
         "domain": [
          0.6490909090909092,
          0.7218181818181819
         ],
         "matches": "y111",
         "showticklabels": false
        },
        "yaxis35": {
         "anchor": "x35",
         "domain": [
          0.6490909090909092,
          0.7218181818181819
         ],
         "matches": "y111",
         "showticklabels": false
        },
        "yaxis36": {
         "anchor": "x36",
         "domain": [
          0.6490909090909092,
          0.7218181818181819
         ],
         "matches": "y111",
         "showticklabels": false
        },
        "yaxis37": {
         "anchor": "x37",
         "domain": [
          0.6490909090909092,
          0.7218181818181819
         ],
         "matches": "y111",
         "showticklabels": false
        },
        "yaxis38": {
         "anchor": "x38",
         "domain": [
          0.6490909090909092,
          0.7218181818181819
         ],
         "matches": "y111",
         "showticklabels": false
        },
        "yaxis39": {
         "anchor": "x39",
         "domain": [
          0.6490909090909092,
          0.7218181818181819
         ],
         "matches": "y111",
         "showticklabels": false
        },
        "yaxis4": {
         "anchor": "x4",
         "domain": [
          0.9272727272727275,
          1
         ],
         "matches": "y111",
         "showticklabels": false
        },
        "yaxis40": {
         "anchor": "x40",
         "domain": [
          0.6490909090909092,
          0.7218181818181819
         ],
         "matches": "y111",
         "showticklabels": false
        },
        "yaxis41": {
         "anchor": "x41",
         "domain": [
          0.6490909090909092,
          0.7218181818181819
         ],
         "matches": "y111",
         "showticklabels": false
        },
        "yaxis42": {
         "anchor": "x42",
         "domain": [
          0.6490909090909092,
          0.7218181818181819
         ],
         "matches": "y111",
         "showticklabels": false
        },
        "yaxis43": {
         "anchor": "x43",
         "domain": [
          0.6490909090909092,
          0.7218181818181819
         ],
         "matches": "y111",
         "showticklabels": false
        },
        "yaxis44": {
         "anchor": "x44",
         "domain": [
          0.6490909090909092,
          0.7218181818181819
         ],
         "matches": "y111",
         "showticklabels": false
        },
        "yaxis45": {
         "anchor": "x45",
         "domain": [
          0.5563636363636364,
          0.6290909090909091
         ],
         "matches": "y111",
         "showticklabels": false
        },
        "yaxis46": {
         "anchor": "x46",
         "domain": [
          0.5563636363636364,
          0.6290909090909091
         ],
         "matches": "y111",
         "showticklabels": false
        },
        "yaxis47": {
         "anchor": "x47",
         "domain": [
          0.5563636363636364,
          0.6290909090909091
         ],
         "matches": "y111",
         "showticklabels": false
        },
        "yaxis48": {
         "anchor": "x48",
         "domain": [
          0.5563636363636364,
          0.6290909090909091
         ],
         "matches": "y111",
         "showticklabels": false
        },
        "yaxis49": {
         "anchor": "x49",
         "domain": [
          0.5563636363636364,
          0.6290909090909091
         ],
         "matches": "y111",
         "showticklabels": false
        },
        "yaxis5": {
         "anchor": "x5",
         "domain": [
          0.9272727272727275,
          1
         ],
         "matches": "y111",
         "showticklabels": false
        },
        "yaxis50": {
         "anchor": "x50",
         "domain": [
          0.5563636363636364,
          0.6290909090909091
         ],
         "matches": "y111",
         "showticklabels": false
        },
        "yaxis51": {
         "anchor": "x51",
         "domain": [
          0.5563636363636364,
          0.6290909090909091
         ],
         "matches": "y111",
         "showticklabels": false
        },
        "yaxis52": {
         "anchor": "x52",
         "domain": [
          0.5563636363636364,
          0.6290909090909091
         ],
         "matches": "y111",
         "showticklabels": false
        },
        "yaxis53": {
         "anchor": "x53",
         "domain": [
          0.5563636363636364,
          0.6290909090909091
         ],
         "matches": "y111",
         "showticklabels": false
        },
        "yaxis54": {
         "anchor": "x54",
         "domain": [
          0.5563636363636364,
          0.6290909090909091
         ],
         "matches": "y111",
         "showticklabels": false
        },
        "yaxis55": {
         "anchor": "x55",
         "domain": [
          0.5563636363636364,
          0.6290909090909091
         ],
         "matches": "y111",
         "showticklabels": false
        },
        "yaxis56": {
         "anchor": "x56",
         "domain": [
          0.46363636363636374,
          0.5363636363636365
         ],
         "matches": "y111",
         "showticklabels": false
        },
        "yaxis57": {
         "anchor": "x57",
         "domain": [
          0.46363636363636374,
          0.5363636363636365
         ],
         "matches": "y111",
         "showticklabels": false
        },
        "yaxis58": {
         "anchor": "x58",
         "domain": [
          0.46363636363636374,
          0.5363636363636365
         ],
         "matches": "y111",
         "showticklabels": false
        },
        "yaxis59": {
         "anchor": "x59",
         "domain": [
          0.46363636363636374,
          0.5363636363636365
         ],
         "matches": "y111",
         "showticklabels": false
        },
        "yaxis6": {
         "anchor": "x6",
         "domain": [
          0.9272727272727275,
          1
         ],
         "matches": "y111",
         "showticklabels": false
        },
        "yaxis60": {
         "anchor": "x60",
         "domain": [
          0.46363636363636374,
          0.5363636363636365
         ],
         "matches": "y111",
         "showticklabels": false
        },
        "yaxis61": {
         "anchor": "x61",
         "domain": [
          0.46363636363636374,
          0.5363636363636365
         ],
         "matches": "y111",
         "showticklabels": false
        },
        "yaxis62": {
         "anchor": "x62",
         "domain": [
          0.46363636363636374,
          0.5363636363636365
         ],
         "matches": "y111",
         "showticklabels": false
        },
        "yaxis63": {
         "anchor": "x63",
         "domain": [
          0.46363636363636374,
          0.5363636363636365
         ],
         "matches": "y111",
         "showticklabels": false
        },
        "yaxis64": {
         "anchor": "x64",
         "domain": [
          0.46363636363636374,
          0.5363636363636365
         ],
         "matches": "y111",
         "showticklabels": false
        },
        "yaxis65": {
         "anchor": "x65",
         "domain": [
          0.46363636363636374,
          0.5363636363636365
         ],
         "matches": "y111",
         "showticklabels": false
        },
        "yaxis66": {
         "anchor": "x66",
         "domain": [
          0.46363636363636374,
          0.5363636363636365
         ],
         "matches": "y111",
         "showticklabels": false
        },
        "yaxis67": {
         "anchor": "x67",
         "domain": [
          0.37090909090909097,
          0.4436363636363637
         ],
         "matches": "y111",
         "showticklabels": false
        },
        "yaxis68": {
         "anchor": "x68",
         "domain": [
          0.37090909090909097,
          0.4436363636363637
         ],
         "matches": "y111",
         "showticklabels": false
        },
        "yaxis69": {
         "anchor": "x69",
         "domain": [
          0.37090909090909097,
          0.4436363636363637
         ],
         "matches": "y111",
         "showticklabels": false
        },
        "yaxis7": {
         "anchor": "x7",
         "domain": [
          0.9272727272727275,
          1
         ],
         "matches": "y111",
         "showticklabels": false
        },
        "yaxis70": {
         "anchor": "x70",
         "domain": [
          0.37090909090909097,
          0.4436363636363637
         ],
         "matches": "y111",
         "showticklabels": false
        },
        "yaxis71": {
         "anchor": "x71",
         "domain": [
          0.37090909090909097,
          0.4436363636363637
         ],
         "matches": "y111",
         "showticklabels": false
        },
        "yaxis72": {
         "anchor": "x72",
         "domain": [
          0.37090909090909097,
          0.4436363636363637
         ],
         "matches": "y111",
         "showticklabels": false
        },
        "yaxis73": {
         "anchor": "x73",
         "domain": [
          0.37090909090909097,
          0.4436363636363637
         ],
         "matches": "y111",
         "showticklabels": false
        },
        "yaxis74": {
         "anchor": "x74",
         "domain": [
          0.37090909090909097,
          0.4436363636363637
         ],
         "matches": "y111",
         "showticklabels": false
        },
        "yaxis75": {
         "anchor": "x75",
         "domain": [
          0.37090909090909097,
          0.4436363636363637
         ],
         "matches": "y111",
         "showticklabels": false
        },
        "yaxis76": {
         "anchor": "x76",
         "domain": [
          0.37090909090909097,
          0.4436363636363637
         ],
         "matches": "y111",
         "showticklabels": false
        },
        "yaxis77": {
         "anchor": "x77",
         "domain": [
          0.37090909090909097,
          0.4436363636363637
         ],
         "matches": "y111",
         "showticklabels": false
        },
        "yaxis78": {
         "anchor": "x78",
         "domain": [
          0.2781818181818182,
          0.35090909090909095
         ],
         "matches": "y111",
         "showticklabels": false
        },
        "yaxis79": {
         "anchor": "x79",
         "domain": [
          0.2781818181818182,
          0.35090909090909095
         ],
         "matches": "y111",
         "showticklabels": false
        },
        "yaxis8": {
         "anchor": "x8",
         "domain": [
          0.9272727272727275,
          1
         ],
         "matches": "y111",
         "showticklabels": false
        },
        "yaxis80": {
         "anchor": "x80",
         "domain": [
          0.2781818181818182,
          0.35090909090909095
         ],
         "matches": "y111",
         "showticklabels": false
        },
        "yaxis81": {
         "anchor": "x81",
         "domain": [
          0.2781818181818182,
          0.35090909090909095
         ],
         "matches": "y111",
         "showticklabels": false
        },
        "yaxis82": {
         "anchor": "x82",
         "domain": [
          0.2781818181818182,
          0.35090909090909095
         ],
         "matches": "y111",
         "showticklabels": false
        },
        "yaxis83": {
         "anchor": "x83",
         "domain": [
          0.2781818181818182,
          0.35090909090909095
         ],
         "matches": "y111",
         "showticklabels": false
        },
        "yaxis84": {
         "anchor": "x84",
         "domain": [
          0.2781818181818182,
          0.35090909090909095
         ],
         "matches": "y111",
         "showticklabels": false
        },
        "yaxis85": {
         "anchor": "x85",
         "domain": [
          0.2781818181818182,
          0.35090909090909095
         ],
         "matches": "y111",
         "showticklabels": false
        },
        "yaxis86": {
         "anchor": "x86",
         "domain": [
          0.2781818181818182,
          0.35090909090909095
         ],
         "matches": "y111",
         "showticklabels": false
        },
        "yaxis87": {
         "anchor": "x87",
         "domain": [
          0.2781818181818182,
          0.35090909090909095
         ],
         "matches": "y111",
         "showticklabels": false
        },
        "yaxis88": {
         "anchor": "x88",
         "domain": [
          0.2781818181818182,
          0.35090909090909095
         ],
         "matches": "y111",
         "showticklabels": false
        },
        "yaxis89": {
         "anchor": "x89",
         "domain": [
          0.18545454545454548,
          0.25818181818181823
         ],
         "matches": "y111",
         "showticklabels": false
        },
        "yaxis9": {
         "anchor": "x9",
         "domain": [
          0.9272727272727275,
          1
         ],
         "matches": "y111",
         "showticklabels": false
        },
        "yaxis90": {
         "anchor": "x90",
         "domain": [
          0.18545454545454548,
          0.25818181818181823
         ],
         "matches": "y111",
         "showticklabels": false
        },
        "yaxis91": {
         "anchor": "x91",
         "domain": [
          0.18545454545454548,
          0.25818181818181823
         ],
         "matches": "y111",
         "showticklabels": false
        },
        "yaxis92": {
         "anchor": "x92",
         "domain": [
          0.18545454545454548,
          0.25818181818181823
         ],
         "matches": "y111",
         "showticklabels": false
        },
        "yaxis93": {
         "anchor": "x93",
         "domain": [
          0.18545454545454548,
          0.25818181818181823
         ],
         "matches": "y111",
         "showticklabels": false
        },
        "yaxis94": {
         "anchor": "x94",
         "domain": [
          0.18545454545454548,
          0.25818181818181823
         ],
         "matches": "y111",
         "showticklabels": false
        },
        "yaxis95": {
         "anchor": "x95",
         "domain": [
          0.18545454545454548,
          0.25818181818181823
         ],
         "matches": "y111",
         "showticklabels": false
        },
        "yaxis96": {
         "anchor": "x96",
         "domain": [
          0.18545454545454548,
          0.25818181818181823
         ],
         "matches": "y111",
         "showticklabels": false
        },
        "yaxis97": {
         "anchor": "x97",
         "domain": [
          0.18545454545454548,
          0.25818181818181823
         ],
         "matches": "y111",
         "showticklabels": false
        },
        "yaxis98": {
         "anchor": "x98",
         "domain": [
          0.18545454545454548,
          0.25818181818181823
         ],
         "matches": "y111",
         "showticklabels": false
        },
        "yaxis99": {
         "anchor": "x99",
         "domain": [
          0.18545454545454548,
          0.25818181818181823
         ],
         "matches": "y111",
         "showticklabels": false
        }
       }
      }
     },
     "metadata": {},
     "output_type": "display_data"
    }
   ],
   "source": [
    "fig = go.Figure()\n",
    "fig = make_subplots(rows=11, cols=11, vertical_spacing=0.02, horizontal_spacing=0.02, shared_xaxes='all', shared_yaxes='all')\n",
    "\n",
    "# define subplot size\n",
    "fig.update_layout(width=1000, height=1000)\n",
    "\n",
    "# iterate through rows and cols\n",
    "for i in range(1, 12):\n",
    "    fig.add_trace(go.Bar(x = df_perf_meta.columns, y = df_perf_meta.iloc[i-1], marker_color=px.colors.sequential.gray, \n",
    "                name = f'meta_model_{algo[i-1]}'), row=i, col=i)\n",
    "    # remove legend and x axes labels\n",
    "    fig.update_layout(showlegend=False)\n",
    "    fig.update_xaxes(showticklabels=False)\n",
    "    fig.update_yaxes(showticklabels=False)\n",
    "    \n",
    "\n",
    "fig.show()"
   ]
  },
  {
   "cell_type": "code",
   "execution_count": null,
   "metadata": {},
   "outputs": [],
   "source": []
  }
 ],
 "metadata": {
  "interpreter": {
   "hash": "a0002ca97fa5ee54dc2e4008fbe9eabec60bb4400642f4fca2bafe1dfe14f90e"
  },
  "kernelspec": {
   "display_name": "Python 3.9.12 ('base')",
   "language": "python",
   "name": "python3"
  },
  "language_info": {
   "codemirror_mode": {
    "name": "ipython",
    "version": 3
   },
   "file_extension": ".py",
   "mimetype": "text/x-python",
   "name": "python",
   "nbconvert_exporter": "python",
   "pygments_lexer": "ipython3",
   "version": "3.9.12"
  },
  "orig_nbformat": 4
 },
 "nbformat": 4,
 "nbformat_minor": 2
}
