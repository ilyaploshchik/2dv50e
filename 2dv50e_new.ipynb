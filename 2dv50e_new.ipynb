{
 "cells": [
  {
   "cell_type": "markdown",
   "metadata": {},
   "source": [
    "### Initial Data exploration and wrangling"
   ]
  },
  {
   "cell_type": "markdown",
   "metadata": {},
   "source": [
    "##### Modul import"
   ]
  },
  {
   "cell_type": "code",
   "execution_count": 20,
   "metadata": {},
   "outputs": [],
   "source": [
    "import pandas as pd\n",
    "import umap\n",
    "from sklearn import preprocessing\n",
    "import plotly.express as px\n",
    "import plotly.graph_objects as go\n",
    "from plotly.subplots import make_subplots\n",
    "import numpy as np\n",
    "import ast\n",
    "from sklearn.neighbors import KNeighborsClassifier\n",
    "from sklearn.svm import SVC\n",
    "from sklearn.naive_bayes import GaussianNB\n",
    "from sklearn.neural_network import MLPClassifier\n",
    "from sklearn.linear_model import LogisticRegression\n",
    "from sklearn.discriminant_analysis import LinearDiscriminantAnalysis\n",
    "from sklearn.discriminant_analysis import QuadraticDiscriminantAnalysis\n",
    "from sklearn.ensemble import RandomForestClassifier\n",
    "from sklearn.ensemble import ExtraTreesClassifier\n",
    "from sklearn.ensemble import AdaBoostClassifier\n",
    "from sklearn.ensemble import GradientBoostingClassifier\n",
    "from sklearn.ensemble import StackingClassifier\n",
    "from sklearn.metrics import accuracy_score, precision_score, recall_score, roc_auc_score, matthews_corrcoef, f1_score, log_loss\n",
    "from sklearn import metrics\n",
    "from imblearn.metrics import geometric_mean_score\n",
    "import plotly.graph_objects as go\n",
    "from plotly.subplots import make_subplots\n",
    "\n",
    "# define random seed\n",
    "np.random.seed(42)\n"
   ]
  },
  {
   "cell_type": "markdown",
   "metadata": {},
   "source": [
    "#### Dataset import and wrangling"
   ]
  },
  {
   "cell_type": "code",
   "execution_count": 21,
   "metadata": {},
   "outputs": [],
   "source": [
    "path = r'D:\\github\\2dv50e\\Data\\1. Heart Disease'\n",
    "df_prob = pd.read_csv(path + r'\\topModelsProbabilities.csv')\n",
    "df_mod = pd.read_csv(path + r'\\topModels.csv')\n",
    "# add column target to df model from target.csv\n",
    "df_target = pd.read_csv(path + r'\\target.csv')\n",
    "y_train = df_target['class']\n",
    "target = df_target['class'].tolist()\n",
    "df_source = pd.read_csv(path + r'\\dataset.csv')\n",
    "\n",
    "algo_nr = df_mod['algorithm_id']"
   ]
  },
  {
   "cell_type": "code",
   "execution_count": 22,
   "metadata": {},
   "outputs": [],
   "source": [
    "# Print number of missing values per column in df_probabilities\n",
    "for col in df_prob.columns:\n",
    "    if df_prob[col].isnull().sum() > 0:\n",
    "        print(f'{col} has {df_prob[col].isnull().sum()} missing values.')"
   ]
  },
  {
   "cell_type": "code",
   "execution_count": 23,
   "metadata": {},
   "outputs": [],
   "source": [
    "# Apply scaler to df_source\n",
    "scaler = preprocessing.StandardScaler()\n",
    "df_source_scaled = pd.DataFrame(scaler.fit_transform(df_source), columns=df_source.columns)\n",
    "x_train = df_source_scaled.copy()"
   ]
  },
  {
   "cell_type": "code",
   "execution_count": 24,
   "metadata": {},
   "outputs": [],
   "source": [
    "algos = {1:'K-Nearest Neighbor', 2:'Support Vector Machine', 3:'Gaussian Naive Bayes', 4:'Multilayer Perceptron', 5:'Logistic Regression',\n",
    "        6:'Linear Discriminant Analysis', 7:'Quadratic Discriminant Analysis', 8:'Random Forest', 9:'Extra Trees', 10:'Adaptive Boosting',\n",
    "        11:'Gradient Boosting'}"
   ]
  },
  {
   "cell_type": "code",
   "execution_count": 25,
   "metadata": {},
   "outputs": [],
   "source": [
    "df_model = df_mod.copy()\n",
    "# rename columns in df_model\n",
    "df_model.rename(columns={'params': 'hyperparameters', 'mean_test_accuracy': 'accuracy', 'mean_test_precision_weighted': 'precision', \n",
    "                        'mean_test_recall_weighted': 'recall', 'mean_test_roc_auc_ovo_weighted': 'roc_auc_score',\n",
    "                        'geometric_mean_score_weighted': 'geometric_mean_score'}, inplace=True)\n",
    "# remove overall perfromance column\n",
    "df_model.drop(columns=['overall_performance'], inplace=True)\n",
    "df_model['algorithm_name'] = df_model['algorithm_id'].map(algos)\n",
    "df_model['overall_performance'] = round((df_model['accuracy'] + df_model['precision'] + df_model['recall'] + df_model['roc_auc_score'] + \\\n",
    "                                df_model['geometric_mean_score'] + df_model['matthews_corrcoef'] + df_model['f1_weighted']) / 7, 2)\n",
    "# Sort columns\n",
    "df_model = df_model[['model_id', 'algorithm_id', 'algorithm_name', 'accuracy', 'precision', 'recall', 'roc_auc_score',\n",
    "                        'geometric_mean_score', 'matthews_corrcoef', 'f1_weighted', 'log_loss', 'overall_performance', 'hyperparameters']]\n",
    "\n"
   ]
  },
  {
   "cell_type": "markdown",
   "metadata": {},
   "source": [
    "Function to extract hyperparameters from the best performing model per algorithm"
   ]
  },
  {
   "cell_type": "code",
   "execution_count": 26,
   "metadata": {},
   "outputs": [],
   "source": [
    "def best_params(df):\n",
    "      # Select hyperparameters for best model in each algorithm\n",
    "      df_best = df.groupby('algorithm_id').apply(lambda x: x.sort_values('overall_performance', ascending=False).iloc[0])\n",
    "      # reset algorithm_nr as  index\n",
    "      df_best = df_best.reset_index(drop=True)\n",
    "      # keep only algorithm number, name, performance and hyperparameters\n",
    "      df_best = df_best[['algorithm_id', 'algorithm_name', 'overall_performance', 'hyperparameters']]\n",
    "      # rename overall_performance as performance\n",
    "      df_best.rename(columns={'overall_performance': 'performance'}, inplace=True)\n",
    "      return df_best"
   ]
  },
  {
   "cell_type": "markdown",
   "metadata": {},
   "source": [
    "Supporting functions to extract hyperparameters values"
   ]
  },
  {
   "cell_type": "code",
   "execution_count": 27,
   "metadata": {},
   "outputs": [],
   "source": [
    "# Return hyperparameters based on algorithm name\n",
    "def get_hyperparameters(df, algorithm_name):\n",
    "    return df[df['algorithm_name'] == algorithm_name]['hyperparameters']\n",
    "\n",
    "# return value of key in dictionary\n",
    "def get_value(dictionary, key):\n",
    "    return dictionary[key]\n",
    "\n",
    "# convert string to dictionary\n",
    "def string_to_dict(string):\n",
    "    return ast.literal_eval(string)\n"
   ]
  },
  {
   "cell_type": "markdown",
   "metadata": {},
   "source": [
    "Base layer estimators (top 5 per algorithm)"
   ]
  },
  {
   "cell_type": "code",
   "execution_count": 28,
   "metadata": {},
   "outputs": [],
   "source": [
    "# dictionaries with algorithm names and their hyperparameters\n",
    "\n",
    "knn_params = {int(k):v for k,v in get_hyperparameters(df_model, 'K-Nearest Neighbor').items()}\n",
    "svm_params = {int(k):v for k,v in get_hyperparameters(df_model, 'Support Vector Machine').items()}\n",
    "gnb_params = {int(k):v for k,v in get_hyperparameters(df_model, 'Gaussian Naive Bayes').items()}\n",
    "mlp_params = {int(k):v for k,v in get_hyperparameters(df_model, 'Multilayer Perceptron').items()}\n",
    "lr_params = {int(k):v for k,v in get_hyperparameters(df_model, 'Logistic Regression').items()}\n",
    "lda_params = {int(k):v for k,v in get_hyperparameters(df_model, 'Linear Discriminant Analysis').items()}\n",
    "qda_params = {int(k):v for k,v in get_hyperparameters(df_model, 'Quadratic Discriminant Analysis').items()}\n",
    "rf_params = {int(k):v for k,v in get_hyperparameters(df_model, 'Random Forest').items()}\n",
    "et_params = {int(k):v for k,v in get_hyperparameters(df_model, 'Extra Trees').items()}\n",
    "ab_params = {int(k):v for k,v in get_hyperparameters(df_model, 'Adaptive Boosting').items()}\n",
    "gb_params = {int(k):v for k,v in get_hyperparameters(df_model, 'Gradient Boosting').items()}"
   ]
  },
  {
   "cell_type": "code",
   "execution_count": 29,
   "metadata": {},
   "outputs": [],
   "source": [
    "# Estimators and hyperparameters for each algorithm\n",
    "estimators = []\n",
    "# populate list of estimators with all 55 top models\n",
    "count = 0\n",
    "for i in list(knn_params.keys()):\n",
    "                temp_dict = ast.literal_eval(knn_params[i])\n",
    "                estimators.append((f'knn_{count}', KNeighborsClassifier(algorithm=get_value(temp_dict, 'algorithm'), \n",
    "                                metric=get_value(temp_dict, 'metric'), n_neighbors= get_value(temp_dict, 'n_neighbors'), \n",
    "                                weights=get_value(temp_dict, 'weights'), n_jobs=-1)))\n",
    "                count += 1\n",
    "count = 0\n",
    "for i in list(svm_params.keys()):\n",
    "                temp_dict = ast.literal_eval(svm_params[i])\n",
    "                estimators.append((f'svm_{count}', SVC(C=get_value(temp_dict, 'C'), kernel=get_value(temp_dict, 'kernel'),probability=True, random_state=42)))\n",
    "                count += 1\n",
    "count = 0\n",
    "for i in list(gnb_params.keys()):\n",
    "                temp_dict = ast.literal_eval(gnb_params[i])\n",
    "                estimators.append((f'gnb_{count}', GaussianNB(var_smoothing=get_value(temp_dict, 'var_smoothing'))))\n",
    "                count += 1\n",
    "count = 0\n",
    "for i in list(mlp_params.keys()):\n",
    "                temp_dict = ast.literal_eval(mlp_params[i])\n",
    "                estimators.append((f'mlp_{count}', MLPClassifier(activation=get_value(temp_dict, 'activation'), \n",
    "                                alpha=get_value(temp_dict, 'alpha'),\n",
    "                                max_iter=get_value(temp_dict, 'max_iter'), solver=get_value(temp_dict, 'solver'), \n",
    "                                tol=get_value(temp_dict, 'tol'), random_state=42)))\n",
    "                count += 1\n",
    "count = 0\n",
    "for i in list(lr_params.keys()):\n",
    "                temp_dict = ast.literal_eval(lr_params[i])\n",
    "                estimators.append((f'lr_{count}', LogisticRegression(C=get_value(temp_dict, 'C'), max_iter=get_value(temp_dict, 'max_iter'), penalty=get_value(temp_dict, 'penalty'), solver=get_value(temp_dict, 'solver'), random_state=42, n_jobs=-1)))\n",
    "                count += 1\n",
    "count = 0\n",
    "for i in list(lda_params.keys()):\n",
    "                temp_dict = ast.literal_eval(lda_params[i])\n",
    "                estimators.append((f'lda_{count}', LinearDiscriminantAnalysis(shrinkage=get_value(temp_dict, 'shrinkage'), \n",
    "                                solver=get_value(temp_dict, 'solver'))))\n",
    "                count += 1\n",
    "count = 0\n",
    "for i in list(qda_params.keys()):\n",
    "                temp_dict = ast.literal_eval(qda_params[i])\n",
    "                estimators.append((f'qda_{count}', QuadraticDiscriminantAnalysis(reg_param=get_value(temp_dict, 'reg_param'), tol=get_value(temp_dict, 'tol'))))\n",
    "                count += 1\n",
    "count = 0\n",
    "for i in list(rf_params.keys()):\n",
    "                temp_dict = ast.literal_eval(rf_params[i])\n",
    "                estimators.append((f'rf_{count}', RandomForestClassifier(criterion=get_value(temp_dict, 'criterion'), \n",
    "                                n_estimators=get_value(temp_dict, 'n_estimators'), random_state=42, n_jobs=-1)))\n",
    "                count += 1\n",
    "count = 0\n",
    "for i in list(et_params.keys()):\n",
    "                temp_dict = ast.literal_eval(et_params[i])\n",
    "                estimators.append((f'et_{count}', ExtraTreesClassifier(criterion=get_value(temp_dict, 'criterion'),\n",
    "                                n_estimators=get_value(temp_dict, 'n_estimators'), random_state=42, n_jobs=-1)))\n",
    "                count += 1\n",
    "count = 0\n",
    "for i in list(ab_params.keys()):\n",
    "                temp_dict = ast.literal_eval(ab_params[i])\n",
    "                estimators.append((f'ab_{count}', AdaBoostClassifier(algorithm=get_value(temp_dict, 'algorithm'), \n",
    "                                learning_rate=get_value(temp_dict, 'learning_rate'), n_estimators=get_value(temp_dict, 'n_estimators'), random_state=42)))\n",
    "                count += 1\n",
    "count = 0\n",
    "for i in list(gb_params.keys()):\n",
    "                temp_dict = ast.literal_eval(gb_params[i])\n",
    "                estimators.append((f'gb_{count}', GradientBoostingClassifier(criterion=get_value(temp_dict, 'criterion'), \n",
    "                                learning_rate=get_value(temp_dict, 'learning_rate'), n_estimators=get_value(temp_dict, 'n_estimators'), random_state=42)))\n",
    "                count += 1"
   ]
  },
  {
   "cell_type": "markdown",
   "metadata": {},
   "source": [
    "##### Metamodel estimators (top 1 per algorithm)\n",
    "Hyperparameters will be extracted from the best performing model per algorithm. <br> The plan is to extract hyperparameters from the best performing model per algorithm and then apply these hyperparameters to the metamodels. Currently no functuonality to be added to allow end user to tune the hyperparameters for metamodels, instead they will rely on top performing ones from base layer models."
   ]
  },
  {
   "cell_type": "code",
   "execution_count": 30,
   "metadata": {},
   "outputs": [],
   "source": [
    "# Extract the top models from the dataframe with the respective hyperparameters\n",
    "meta_params = best_params(df_model)\n",
    "\n",
    "# return unique values of algorithm name\n",
    "algo = ['knn', 'svm', 'gnb', 'mlp', 'lr', 'lda', 'qda', 'rf', 'et', 'ab', 'gb']\n",
    "algo_names = meta_params['algorithm_name']\n",
    "\n",
    "# iterate through key and value pairs in algo\n",
    "i = 0\n",
    "for k,v in zip(algo, algo_names):\n",
    "    # Define hyperparameters for each  final estimator, based on top performing model from base layer\n",
    "    temp = get_hyperparameters(meta_params, v)\n",
    "    # convert to dictionary for easy access\n",
    "    temp_dict = {int(k):v for k,v in temp.items()}\n",
    "    # return first value\n",
    "    temp_dict = temp_dict[i]\n",
    "    # convert to dictionary for easy access, assign varibale name per algorithm\n",
    "    globals()[k + '_params'] = ast.literal_eval(temp_dict)\n",
    "    i += 1"
   ]
  },
  {
   "cell_type": "code",
   "execution_count": 31,
   "metadata": {},
   "outputs": [],
   "source": [
    "# Add final estimators\n",
    "final_estimators = [('knn', KNeighborsClassifier(algorithm=get_value(knn_params, 'algorithm'), metric=get_value(knn_params, 'metric'), \n",
    "                n_neighbors= get_value(knn_params, 'n_neighbors'), weights=get_value(knn_params, 'weights'), n_jobs=-1)),\n",
    "                ('svm', SVC(C=get_value(svm_params, 'C'), kernel=get_value(svm_params, 'kernel'),probability=True, random_state=42)),\n",
    "                ('gnb', GaussianNB(var_smoothing=get_value(gnb_params, 'var_smoothing'))),\n",
    "                ('mlp', MLPClassifier(activation=get_value(mlp_params, 'activation'), alpha=get_value(mlp_params, 'alpha'), \n",
    "                max_iter=get_value(mlp_params, 'max_iter'), solver=get_value(mlp_params, 'solver'), tol=get_value(mlp_params, 'tol'), \n",
    "                random_state=42)),\n",
    "                ('lr', LogisticRegression(C=get_value(lr_params, 'C'), max_iter=get_value(lr_params, 'max_iter'),\n",
    "                penalty=get_value(lr_params, 'penalty'), solver=get_value(lr_params, 'solver'), random_state=42, n_jobs=-1)),\n",
    "                ('lda', LinearDiscriminantAnalysis(shrinkage=get_value(lda_params, 'shrinkage'), solver=get_value(lda_params, 'solver'))),\n",
    "                ('qda', QuadraticDiscriminantAnalysis(reg_param=get_value(qda_params, 'reg_param'), tol=get_value(qda_params, 'tol'))),\n",
    "                ('rf', RandomForestClassifier(criterion=get_value(rf_params, 'criterion'), n_estimators=get_value(rf_params, 'n_estimators'), \n",
    "                random_state=42, n_jobs=-1)),\n",
    "                ('et', ExtraTreesClassifier(criterion=get_value(et_params, 'criterion'), n_estimators=get_value(et_params, 'n_estimators'), \n",
    "                random_state=42, n_jobs=-1)),\n",
    "                ('ab', AdaBoostClassifier(algorithm=get_value(ab_params, 'algorithm'), learning_rate=get_value(ab_params, 'learning_rate'), \n",
    "                n_estimators=get_value(ab_params, 'n_estimators'), random_state=42)),\n",
    "                ('gb', GradientBoostingClassifier(criterion=get_value(gb_params, 'criterion'), \n",
    "                learning_rate=get_value(gb_params, 'learning_rate'), n_estimators=get_value(gb_params, 'n_estimators'), random_state=42))\n",
    "                ]"
   ]
  },
  {
   "cell_type": "markdown",
   "metadata": {},
   "source": [
    "Please note that for the average metric I did not include the logloss as using normalized version of logloss introduces bias to dataset"
   ]
  },
  {
   "cell_type": "code",
   "execution_count": 32,
   "metadata": {},
   "outputs": [
    {
     "name": "stderr",
     "output_type": "stream",
     "text": [
      "d:\\Conda\\lib\\site-packages\\sklearn\\neural_network\\_multilayer_perceptron.py:692: ConvergenceWarning: Stochastic Optimizer: Maximum iterations (100) reached and the optimization hasn't converged yet.\n",
      "  warnings.warn(\n",
      "d:\\Conda\\lib\\site-packages\\sklearn\\linear_model\\_sag.py:352: ConvergenceWarning: The max_iter was reached which means the coef_ did not converge\n",
      "  warnings.warn(\n",
      "d:\\Conda\\lib\\site-packages\\sklearn\\discriminant_analysis.py:878: UserWarning: Variables are collinear\n",
      "  warnings.warn(\"Variables are collinear\")\n"
     ]
    }
   ],
   "source": [
    "# create dataframe for df_model_meta with columns names from df_model\n",
    "df_model_meta = pd.DataFrame(columns=df_model.columns)\n",
    "\n",
    "# create dataframes for meta models probabilities and predicted values\n",
    "df_pred_meta = pd.DataFrame()\n",
    "df_prob_meta = pd.DataFrame()\n",
    "\n",
    "for x in range(0, len(final_estimators)):\n",
    "        final_estimator = final_estimators[x][1]\n",
    "        clf = StackingClassifier(estimators=estimators, final_estimator=final_estimator, n_jobs=-1, cv=5)\n",
    "        clf.fit(x_train, y_train)\n",
    "        y_pred = clf.predict(x_train)\n",
    "        y_pred = pd.Series(y_pred)\n",
    "\n",
    "        # probabilities dataframe\n",
    "        y_pred_prob = clf.predict_proba(x_train)\n",
    "        y_pred_prob_df = pd.DataFrame(y_pred_prob, columns=['prob_0', 'prob_1'])\n",
    "        y_pred_prob_df['target'] = y_train\n",
    "        y_pred_prob_df['predicted'] = y_pred\n",
    "        # create new column, set value to prob_0 if target is 0 and prob_1 if target is 1\n",
    "        y_pred_prob_df['pred_prob'] = np.where(y_pred_prob_df['target'] == 0, y_pred_prob_df['prob_0'], y_pred_prob_df['prob_1'])\n",
    "        # remove prob_0 and prob_1 columns, target and predicted columns\n",
    "        y_pred_prob_df = y_pred_prob_df.drop(['prob_0', 'prob_1', 'target', 'predicted'], axis=1)\n",
    "        # transpose the data frame and convert values to %\n",
    "        y_pred_prob_df = y_pred_prob_df.T\n",
    "        y_pred_prob_df = y_pred_prob_df.apply(lambda x: x * 100).round(2)\n",
    "        # set index to x\n",
    "        y_pred_prob_df.index = [x]\n",
    "        # add row to df_prob_meta using pd.concat\n",
    "        df_prob_meta = pd.concat([df_prob_meta, y_pred_prob_df], axis=0)\n",
    "        \n",
    "        # prediction dataframe\n",
    "        # transpose the data frame\n",
    "        y_pred_df = pd.DataFrame(y_pred, columns=['Pred_class'])\n",
    "        y_pred_df = y_pred_df.T\n",
    "        # set index to x\n",
    "        y_pred_df.index = [x]\n",
    "        # add row to df_prob_meta using pd.concat\n",
    "        df_pred_meta = pd.concat([df_pred_meta, y_pred_df], axis=0)\n",
    "\n",
    "        # performance metrics dataframe\n",
    "        accuracy = round(accuracy_score(y_train, y_pred)*100, 2)\n",
    "        precision = round(precision_score(y_train, y_pred, average='weighted')*100, 2)\n",
    "        recall = round(recall_score(y_train, y_pred, average='weighted')*100, 2)\n",
    "        roc_auc = round(roc_auc_score(y_train, y_pred, average='weighted')*100, 2)\n",
    "        gmean = round(geometric_mean_score(y_train, y_pred, average='weighted')*100, 2)\n",
    "        mcc = round(matthews_corrcoef(y_train, y_pred)*100, 2)\n",
    "        f1_weighted = round(f1_score(y_train, y_pred, average='weighted')*100, 2)\n",
    "        log_loss = round(metrics.log_loss(y_train, y_pred, normalize=True)*100, 2)\n",
    "        average_metrics = (accuracy + precision + recall + roc_auc + gmean + mcc + f1_weighted) / 7\n",
    "        average_metrics = round(average_metrics, 2)\n",
    "        # add performance metrics to df_model_meta using pd.concat with index\n",
    "        df_model_meta = pd.concat([df_model_meta, pd.DataFrame([[f'meta_{x+1}', x+1, algos[x+1], accuracy, precision, recall, roc_auc, gmean, \\\n",
    "                        mcc, f1_weighted, log_loss, average_metrics, f'{final_estimator.get_params()}']], \n",
    "                        columns=df_model_meta.columns, index=[x])], axis=0)"
   ]
  },
  {
   "cell_type": "code",
   "execution_count": 33,
   "metadata": {},
   "outputs": [],
   "source": [
    "# Save all dataframes to csv\n",
    "df_model_meta.to_csv(f'{path}/MetaModelsPerformance.csv', index=False)\n",
    "df_prob_meta.to_csv(f'{path}/MetaModelsProbabilities.csv', index=False)\n",
    "df_pred_meta.to_csv(f'{path}/MetaModelsPredictions.csv', index=False)"
   ]
  },
  {
   "cell_type": "code",
   "execution_count": 34,
   "metadata": {},
   "outputs": [],
   "source": [
    "# concatinate df_model and df_model_meta\n",
    "df_model_all = pd.concat([df_model, df_model_meta], axis=0)\n",
    "df_model_all = df_model_all.astype({'model_id': 'str', 'algorithm_id': 'int64', 'accuracy': 'float64', 'precision': 'float64', \n",
    "                               'recall': 'float64', 'roc_auc_score': 'float64', 'geometric_mean_score': 'float64', \n",
    "                               'matthews_corrcoef': 'float64', 'f1_weighted': 'float64', 'log_loss': 'float64', \n",
    "                               'overall_performance': 'float64'})\n",
    "# create new column \"size\", set to 2 for rows with \"meta\" in \"model_id\", else 1\n",
    "df_model_all['size'] = np.where(df_model_all['model_id'].str.contains('meta'), 2, 1)\n",
    "# create new column for text of points\n",
    "df_model_all['text'] = df_model_all['algorithm_name'] + '<br>' + 'Performance: ' + \\\n",
    "        df_model_all['overall_performance'].astype(str) + '%' + '<br>' + 'Model ID: ' + df_model_all['model_id'].astype(str) + \\\n",
    "        '<br>' + 'Accuracy: ' + df_model_all['accuracy'].astype(str) + '%' + '<br>' + 'Precision: ' + \\\n",
    "        df_model_all['precision'].astype(str) + '%' + '<br>' + 'Recall: ' + df_model_all['recall'].astype(str) + \\\n",
    "        '%' + '<br>' + 'ROC AUC: ' + df_model_all['roc_auc_score'].astype(str) + '<br>' + 'Geometric Mean: ' + \\\n",
    "        df_model_all['geometric_mean_score'].astype(str) + '<br>' + 'Matthews Correlation: ' + \\\n",
    "        df_model_all['matthews_corrcoef'].astype(str) + '<br>' + 'F1: ' + df_model_all['f1_weighted'].astype(str) + \\\n",
    "        '<br>' + 'Log Loss: ' + df_model_all['log_loss'].astype(str)"
   ]
  },
  {
   "cell_type": "code",
   "execution_count": 53,
   "metadata": {},
   "outputs": [
    {
     "data": {
      "text/html": [
       "<div>\n",
       "<style scoped>\n",
       "    .dataframe tbody tr th:only-of-type {\n",
       "        vertical-align: middle;\n",
       "    }\n",
       "\n",
       "    .dataframe tbody tr th {\n",
       "        vertical-align: top;\n",
       "    }\n",
       "\n",
       "    .dataframe thead th {\n",
       "        text-align: right;\n",
       "    }\n",
       "</style>\n",
       "<table border=\"1\" class=\"dataframe\">\n",
       "  <thead>\n",
       "    <tr style=\"text-align: right;\">\n",
       "      <th></th>\n",
       "      <th>model_id</th>\n",
       "      <th>algorithm_id</th>\n",
       "      <th>algorithm_name</th>\n",
       "      <th>accuracy</th>\n",
       "      <th>precision</th>\n",
       "      <th>recall</th>\n",
       "      <th>roc_auc_score</th>\n",
       "      <th>geometric_mean_score</th>\n",
       "      <th>matthews_corrcoef</th>\n",
       "      <th>f1_weighted</th>\n",
       "      <th>log_loss</th>\n",
       "      <th>overall_performance</th>\n",
       "      <th>hyperparameters</th>\n",
       "      <th>size</th>\n",
       "      <th>text</th>\n",
       "      <th>UMAP_1_prob</th>\n",
       "      <th>UMAP_2_prob</th>\n",
       "      <th>UMAP_1_metrics</th>\n",
       "      <th>UMAP_2_metrics</th>\n",
       "    </tr>\n",
       "  </thead>\n",
       "  <tbody>\n",
       "    <tr>\n",
       "      <th>4</th>\n",
       "      <td>meta_5</td>\n",
       "      <td>5</td>\n",
       "      <td>Logistic Regression</td>\n",
       "      <td>100.00</td>\n",
       "      <td>100.00</td>\n",
       "      <td>100.00</td>\n",
       "      <td>100.00</td>\n",
       "      <td>100.00</td>\n",
       "      <td>100.00</td>\n",
       "      <td>100.00</td>\n",
       "      <td>0.00</td>\n",
       "      <td>100.00</td>\n",
       "      <td>{'C': 1.4, 'class_weight': None, 'dual': False...</td>\n",
       "      <td>2</td>\n",
       "      <td>Logistic Regression&lt;br&gt;Performance: 100.0%&lt;br&gt;...</td>\n",
       "      <td>-0.373642</td>\n",
       "      <td>4.871645</td>\n",
       "      <td>10.783731</td>\n",
       "      <td>-6.904717</td>\n",
       "    </tr>\n",
       "    <tr>\n",
       "      <th>3</th>\n",
       "      <td>meta_4</td>\n",
       "      <td>4</td>\n",
       "      <td>Multilayer Perceptron</td>\n",
       "      <td>100.00</td>\n",
       "      <td>100.00</td>\n",
       "      <td>100.00</td>\n",
       "      <td>100.00</td>\n",
       "      <td>100.00</td>\n",
       "      <td>100.00</td>\n",
       "      <td>100.00</td>\n",
       "      <td>0.00</td>\n",
       "      <td>100.00</td>\n",
       "      <td>{'activation': 'relu', 'alpha': 0.00041, 'batc...</td>\n",
       "      <td>2</td>\n",
       "      <td>Multilayer Perceptron&lt;br&gt;Performance: 100.0%&lt;b...</td>\n",
       "      <td>-0.031543</td>\n",
       "      <td>5.243205</td>\n",
       "      <td>10.874353</td>\n",
       "      <td>-7.040355</td>\n",
       "    </tr>\n",
       "    <tr>\n",
       "      <th>5</th>\n",
       "      <td>meta_6</td>\n",
       "      <td>6</td>\n",
       "      <td>Linear Discriminant Analysis</td>\n",
       "      <td>99.01</td>\n",
       "      <td>99.01</td>\n",
       "      <td>99.01</td>\n",
       "      <td>98.97</td>\n",
       "      <td>98.97</td>\n",
       "      <td>98.00</td>\n",
       "      <td>99.01</td>\n",
       "      <td>34.20</td>\n",
       "      <td>98.85</td>\n",
       "      <td>{'covariance_estimator': None, 'n_components':...</td>\n",
       "      <td>2</td>\n",
       "      <td>Linear Discriminant Analysis&lt;br&gt;Performance: 9...</td>\n",
       "      <td>-0.728367</td>\n",
       "      <td>5.196533</td>\n",
       "      <td>10.437907</td>\n",
       "      <td>-6.621888</td>\n",
       "    </tr>\n",
       "    <tr>\n",
       "      <th>8</th>\n",
       "      <td>meta_9</td>\n",
       "      <td>9</td>\n",
       "      <td>Extra Trees</td>\n",
       "      <td>96.70</td>\n",
       "      <td>96.85</td>\n",
       "      <td>96.70</td>\n",
       "      <td>96.91</td>\n",
       "      <td>96.91</td>\n",
       "      <td>93.51</td>\n",
       "      <td>96.71</td>\n",
       "      <td>113.99</td>\n",
       "      <td>96.33</td>\n",
       "      <td>{'bootstrap': False, 'ccp_alpha': 0.0, 'class_...</td>\n",
       "      <td>2</td>\n",
       "      <td>Extra Trees&lt;br&gt;Performance: 96.33%&lt;br&gt;Model ID...</td>\n",
       "      <td>-0.049836</td>\n",
       "      <td>6.102156</td>\n",
       "      <td>9.696796</td>\n",
       "      <td>-6.523041</td>\n",
       "    </tr>\n",
       "    <tr>\n",
       "      <th>9</th>\n",
       "      <td>meta_10</td>\n",
       "      <td>10</td>\n",
       "      <td>Adaptive Boosting</td>\n",
       "      <td>96.70</td>\n",
       "      <td>96.74</td>\n",
       "      <td>96.70</td>\n",
       "      <td>96.79</td>\n",
       "      <td>96.79</td>\n",
       "      <td>93.40</td>\n",
       "      <td>96.70</td>\n",
       "      <td>113.99</td>\n",
       "      <td>96.26</td>\n",
       "      <td>{'algorithm': 'SAMME', 'base_estimator': None,...</td>\n",
       "      <td>2</td>\n",
       "      <td>Adaptive Boosting&lt;br&gt;Performance: 96.26%&lt;br&gt;Mo...</td>\n",
       "      <td>-4.494873</td>\n",
       "      <td>-11.543207</td>\n",
       "      <td>9.628210</td>\n",
       "      <td>-6.622332</td>\n",
       "    </tr>\n",
       "    <tr>\n",
       "      <th>...</th>\n",
       "      <td>...</td>\n",
       "      <td>...</td>\n",
       "      <td>...</td>\n",
       "      <td>...</td>\n",
       "      <td>...</td>\n",
       "      <td>...</td>\n",
       "      <td>...</td>\n",
       "      <td>...</td>\n",
       "      <td>...</td>\n",
       "      <td>...</td>\n",
       "      <td>...</td>\n",
       "      <td>...</td>\n",
       "      <td>...</td>\n",
       "      <td>...</td>\n",
       "      <td>...</td>\n",
       "      <td>...</td>\n",
       "      <td>...</td>\n",
       "      <td>...</td>\n",
       "      <td>...</td>\n",
       "    </tr>\n",
       "    <tr>\n",
       "      <th>18</th>\n",
       "      <td>1249</td>\n",
       "      <td>4</td>\n",
       "      <td>Multilayer Perceptron</td>\n",
       "      <td>79.52</td>\n",
       "      <td>79.59</td>\n",
       "      <td>79.52</td>\n",
       "      <td>85.97</td>\n",
       "      <td>81.86</td>\n",
       "      <td>64.80</td>\n",
       "      <td>82.36</td>\n",
       "      <td>17.17</td>\n",
       "      <td>79.09</td>\n",
       "      <td>{'activation': 'tanh', 'alpha': 0.00061, 'max_...</td>\n",
       "      <td>1</td>\n",
       "      <td>Multilayer Perceptron&lt;br&gt;Performance: 79.09%&lt;b...</td>\n",
       "      <td>8.640389</td>\n",
       "      <td>13.491083</td>\n",
       "      <td>0.022111</td>\n",
       "      <td>29.952684</td>\n",
       "    </tr>\n",
       "    <tr>\n",
       "      <th>19</th>\n",
       "      <td>1251</td>\n",
       "      <td>4</td>\n",
       "      <td>Multilayer Perceptron</td>\n",
       "      <td>79.52</td>\n",
       "      <td>79.59</td>\n",
       "      <td>79.52</td>\n",
       "      <td>85.97</td>\n",
       "      <td>81.86</td>\n",
       "      <td>64.80</td>\n",
       "      <td>82.36</td>\n",
       "      <td>17.17</td>\n",
       "      <td>79.09</td>\n",
       "      <td>{'activation': 'tanh', 'alpha': 0.00061, 'max_...</td>\n",
       "      <td>1</td>\n",
       "      <td>Multilayer Perceptron&lt;br&gt;Performance: 79.09%&lt;b...</td>\n",
       "      <td>8.921660</td>\n",
       "      <td>13.584888</td>\n",
       "      <td>-0.095462</td>\n",
       "      <td>30.591431</td>\n",
       "    </tr>\n",
       "    <tr>\n",
       "      <th>27</th>\n",
       "      <td>1999</td>\n",
       "      <td>6</td>\n",
       "      <td>Linear Discriminant Analysis</td>\n",
       "      <td>75.89</td>\n",
       "      <td>76.41</td>\n",
       "      <td>75.89</td>\n",
       "      <td>82.60</td>\n",
       "      <td>75.39</td>\n",
       "      <td>52.04</td>\n",
       "      <td>75.95</td>\n",
       "      <td>31.90</td>\n",
       "      <td>73.45</td>\n",
       "      <td>{'shrinkage': 0.05, 'solver': 'lsqr'}</td>\n",
       "      <td>1</td>\n",
       "      <td>Linear Discriminant Analysis&lt;br&gt;Performance: 7...</td>\n",
       "      <td>-2.949801</td>\n",
       "      <td>7.539630</td>\n",
       "      <td>0.269526</td>\n",
       "      <td>31.509756</td>\n",
       "    </tr>\n",
       "    <tr>\n",
       "      <th>28</th>\n",
       "      <td>2000</td>\n",
       "      <td>6</td>\n",
       "      <td>Linear Discriminant Analysis</td>\n",
       "      <td>75.89</td>\n",
       "      <td>76.41</td>\n",
       "      <td>75.89</td>\n",
       "      <td>82.60</td>\n",
       "      <td>75.39</td>\n",
       "      <td>52.04</td>\n",
       "      <td>75.95</td>\n",
       "      <td>31.90</td>\n",
       "      <td>73.45</td>\n",
       "      <td>{'shrinkage': 0.5, 'solver': 'lsqr'}</td>\n",
       "      <td>1</td>\n",
       "      <td>Linear Discriminant Analysis&lt;br&gt;Performance: 7...</td>\n",
       "      <td>-2.729314</td>\n",
       "      <td>7.848541</td>\n",
       "      <td>0.409960</td>\n",
       "      <td>31.626429</td>\n",
       "    </tr>\n",
       "    <tr>\n",
       "      <th>29</th>\n",
       "      <td>2001</td>\n",
       "      <td>6</td>\n",
       "      <td>Linear Discriminant Analysis</td>\n",
       "      <td>74.25</td>\n",
       "      <td>74.65</td>\n",
       "      <td>74.25</td>\n",
       "      <td>79.07</td>\n",
       "      <td>73.45</td>\n",
       "      <td>47.92</td>\n",
       "      <td>73.99</td>\n",
       "      <td>41.85</td>\n",
       "      <td>71.08</td>\n",
       "      <td>{'shrinkage': 0.5, 'solver': 'eigen'}</td>\n",
       "      <td>1</td>\n",
       "      <td>Linear Discriminant Analysis&lt;br&gt;Performance: 7...</td>\n",
       "      <td>-3.038294</td>\n",
       "      <td>7.452861</td>\n",
       "      <td>0.672259</td>\n",
       "      <td>31.858837</td>\n",
       "    </tr>\n",
       "  </tbody>\n",
       "</table>\n",
       "<p>66 rows × 19 columns</p>\n",
       "</div>"
      ],
      "text/plain": [
       "   model_id  algorithm_id                algorithm_name  accuracy  precision  \\\n",
       "4    meta_5             5           Logistic Regression    100.00     100.00   \n",
       "3    meta_4             4         Multilayer Perceptron    100.00     100.00   \n",
       "5    meta_6             6  Linear Discriminant Analysis     99.01      99.01   \n",
       "8    meta_9             9                   Extra Trees     96.70      96.85   \n",
       "9   meta_10            10             Adaptive Boosting     96.70      96.74   \n",
       "..      ...           ...                           ...       ...        ...   \n",
       "18     1249             4         Multilayer Perceptron     79.52      79.59   \n",
       "19     1251             4         Multilayer Perceptron     79.52      79.59   \n",
       "27     1999             6  Linear Discriminant Analysis     75.89      76.41   \n",
       "28     2000             6  Linear Discriminant Analysis     75.89      76.41   \n",
       "29     2001             6  Linear Discriminant Analysis     74.25      74.65   \n",
       "\n",
       "    recall  roc_auc_score  geometric_mean_score  matthews_corrcoef  \\\n",
       "4   100.00         100.00                100.00             100.00   \n",
       "3   100.00         100.00                100.00             100.00   \n",
       "5    99.01          98.97                 98.97              98.00   \n",
       "8    96.70          96.91                 96.91              93.51   \n",
       "9    96.70          96.79                 96.79              93.40   \n",
       "..     ...            ...                   ...                ...   \n",
       "18   79.52          85.97                 81.86              64.80   \n",
       "19   79.52          85.97                 81.86              64.80   \n",
       "27   75.89          82.60                 75.39              52.04   \n",
       "28   75.89          82.60                 75.39              52.04   \n",
       "29   74.25          79.07                 73.45              47.92   \n",
       "\n",
       "    f1_weighted  log_loss  overall_performance  \\\n",
       "4        100.00      0.00               100.00   \n",
       "3        100.00      0.00               100.00   \n",
       "5         99.01     34.20                98.85   \n",
       "8         96.71    113.99                96.33   \n",
       "9         96.70    113.99                96.26   \n",
       "..          ...       ...                  ...   \n",
       "18        82.36     17.17                79.09   \n",
       "19        82.36     17.17                79.09   \n",
       "27        75.95     31.90                73.45   \n",
       "28        75.95     31.90                73.45   \n",
       "29        73.99     41.85                71.08   \n",
       "\n",
       "                                      hyperparameters  size  \\\n",
       "4   {'C': 1.4, 'class_weight': None, 'dual': False...     2   \n",
       "3   {'activation': 'relu', 'alpha': 0.00041, 'batc...     2   \n",
       "5   {'covariance_estimator': None, 'n_components':...     2   \n",
       "8   {'bootstrap': False, 'ccp_alpha': 0.0, 'class_...     2   \n",
       "9   {'algorithm': 'SAMME', 'base_estimator': None,...     2   \n",
       "..                                                ...   ...   \n",
       "18  {'activation': 'tanh', 'alpha': 0.00061, 'max_...     1   \n",
       "19  {'activation': 'tanh', 'alpha': 0.00061, 'max_...     1   \n",
       "27              {'shrinkage': 0.05, 'solver': 'lsqr'}     1   \n",
       "28               {'shrinkage': 0.5, 'solver': 'lsqr'}     1   \n",
       "29              {'shrinkage': 0.5, 'solver': 'eigen'}     1   \n",
       "\n",
       "                                                 text  UMAP_1_prob  \\\n",
       "4   Logistic Regression<br>Performance: 100.0%<br>...    -0.373642   \n",
       "3   Multilayer Perceptron<br>Performance: 100.0%<b...    -0.031543   \n",
       "5   Linear Discriminant Analysis<br>Performance: 9...    -0.728367   \n",
       "8   Extra Trees<br>Performance: 96.33%<br>Model ID...    -0.049836   \n",
       "9   Adaptive Boosting<br>Performance: 96.26%<br>Mo...    -4.494873   \n",
       "..                                                ...          ...   \n",
       "18  Multilayer Perceptron<br>Performance: 79.09%<b...     8.640389   \n",
       "19  Multilayer Perceptron<br>Performance: 79.09%<b...     8.921660   \n",
       "27  Linear Discriminant Analysis<br>Performance: 7...    -2.949801   \n",
       "28  Linear Discriminant Analysis<br>Performance: 7...    -2.729314   \n",
       "29  Linear Discriminant Analysis<br>Performance: 7...    -3.038294   \n",
       "\n",
       "    UMAP_2_prob  UMAP_1_metrics  UMAP_2_metrics  \n",
       "4      4.871645       10.783731       -6.904717  \n",
       "3      5.243205       10.874353       -7.040355  \n",
       "5      5.196533       10.437907       -6.621888  \n",
       "8      6.102156        9.696796       -6.523041  \n",
       "9    -11.543207        9.628210       -6.622332  \n",
       "..          ...             ...             ...  \n",
       "18    13.491083        0.022111       29.952684  \n",
       "19    13.584888       -0.095462       30.591431  \n",
       "27     7.539630        0.269526       31.509756  \n",
       "28     7.848541        0.409960       31.626429  \n",
       "29     7.452861        0.672259       31.858837  \n",
       "\n",
       "[66 rows x 19 columns]"
      ]
     },
     "execution_count": 53,
     "metadata": {},
     "output_type": "execute_result"
    }
   ],
   "source": [
    "# show model with best performance\n",
    "df_model_all.sort_values(by=['overall_performance'], ascending=False)"
   ]
  },
  {
   "cell_type": "code",
   "execution_count": 47,
   "metadata": {},
   "outputs": [
    {
     "data": {
      "text/plain": [
       "(66, 303)"
      ]
     },
     "execution_count": 47,
     "metadata": {},
     "output_type": "execute_result"
    }
   ],
   "source": [
    "# set df_prob_meta columns as df_prob columns\n",
    "df_prob_meta.columns = df_prob.columns\n",
    "\n",
    "# concatinate df_prob and df_prob_meta\n",
    "df_prob_all = pd.concat([df_prob, df_prob_meta], axis=0)\n",
    "df_prob_all.shape"
   ]
  },
  {
   "cell_type": "markdown",
   "metadata": {},
   "source": [
    "\n",
    "### UMAP dimension reduction algorithm"
   ]
  },
  {
   "cell_type": "code",
   "execution_count": 48,
   "metadata": {},
   "outputs": [],
   "source": [
    "# UMAP function\n",
    "def umap_model(df, parameter_umap_n_neighbors = 5, parameter_umap_min_dist = 0.5, parameter_umap_metric = 'euclidean'):\n",
    "        umap_model = umap.UMAP(n_neighbors=parameter_umap_n_neighbors, metric=parameter_umap_metric, min_dist=parameter_umap_min_dist)\n",
    "        #fit transform and convert to dataframe\n",
    "        df_umap = pd.DataFrame(umap_model.fit_transform(df), columns=['UMAP_1', 'UMAP_2'])\n",
    "        # add index to df_umap\n",
    "        df_umap.index = df.index\n",
    "        return df_umap"
   ]
  },
  {
   "cell_type": "code",
   "execution_count": 50,
   "metadata": {},
   "outputs": [
    {
     "name": "stderr",
     "output_type": "stream",
     "text": [
      "d:\\Conda\\lib\\site-packages\\sklearn\\manifold\\_spectral_embedding.py:260: UserWarning: Graph is not fully connected, spectral embedding may not work as expected.\n",
      "  warnings.warn(\n"
     ]
    }
   ],
   "source": [
    "# Create UMAP models for probabilities and perfromance metrics dataframes\n",
    "umap_prob = umap_model(df_prob_all)\n",
    "\n",
    "# choose only accuracy, precision, recall, roc_auc, geometric_mean_score, matthews_corrcoef, f1_weighted from df_model_all\n",
    "df_model_metrics = df_model_all[['accuracy', 'precision', 'recall', 'roc_auc_score', 'geometric_mean_score', 'matthews_corrcoef', 'f1_weighted']]\n",
    "\n",
    "umap_metrics = umap_model(df_model_metrics)"
   ]
  },
  {
   "cell_type": "code",
   "execution_count": 51,
   "metadata": {},
   "outputs": [],
   "source": [
    "# Add umap_prob to df_model_all and rename columns to 'UMAP_1_prob' and 'UMAP_2_prob'\n",
    "df_model_all = pd.concat([df_model_all, umap_prob], axis=1)\n",
    "df_model_all.rename(columns={'UMAP_1': 'UMAP_1_prob', 'UMAP_2': 'UMAP_2_prob'}, inplace=True)\n",
    "# Add umap_metrics to df_model_all and rename columns to 'UMAP_1_metrics' and 'UMAP_2_metrics'\n",
    "df_model_all = pd.concat([df_model_all, umap_metrics], axis=1)\n",
    "df_model_all.rename(columns={'UMAP_1': 'UMAP_1_metrics', 'UMAP_2': 'UMAP_2_metrics'}, inplace=True)"
   ]
  },
  {
   "cell_type": "markdown",
   "metadata": {},
   "source": [
    "### UMAP chart"
   ]
  },
  {
   "cell_type": "code",
   "execution_count": 52,
   "metadata": {},
   "outputs": [
    {
     "data": {
      "application/vnd.plotly.v1+json": {
       "config": {
        "plotlyServerURL": "https://plot.ly"
       },
       "data": [
        {
         "hovertext": [
          "K-Nearest Neighbor<br>Performance: 83.35%<br>Model ID: 452<br>Accuracy: 70.31%<br>Precision: 70.36%<br>Recall: 70.31%<br>ROC AUC: 72.5<br>Geometric Mean: 100.0<br>Matthews Correlation: 100.0<br>F1: 100.0<br>Log Loss: 0.0",
          "K-Nearest Neighbor<br>Performance: 83.28%<br>Model ID: 288<br>Accuracy: 69.62%<br>Precision: 69.8%<br>Recall: 69.62%<br>ROC AUC: 73.91<br>Geometric Mean: 100.0<br>Matthews Correlation: 100.0<br>F1: 100.0<br>Log Loss: 0.0",
          "K-Nearest Neighbor<br>Performance: 83.13%<br>Model ID: 96<br>Accuracy: 69.29%<br>Precision: 69.48%<br>Recall: 69.29%<br>ROC AUC: 73.84<br>Geometric Mean: 100.0<br>Matthews Correlation: 100.0<br>F1: 100.0<br>Log Loss: 0.0",
          "K-Nearest Neighbor<br>Performance: 83.13%<br>Model ID: 480<br>Accuracy: 69.29%<br>Precision: 69.48%<br>Recall: 69.29%<br>ROC AUC: 73.82<br>Geometric Mean: 100.0<br>Matthews Correlation: 100.0<br>F1: 100.0<br>Log Loss: 0.0",
          "K-Nearest Neighbor<br>Performance: 83.11%<br>Model ID: 458<br>Accuracy: 69.64%<br>Precision: 69.61%<br>Recall: 69.64%<br>ROC AUC: 72.85<br>Geometric Mean: 100.0<br>Matthews Correlation: 100.0<br>F1: 100.0<br>Log Loss: 0.0",
          "Support Vector Machine<br>Performance: 83.1%<br>Model ID: 694<br>Accuracy: 82.5%<br>Precision: 82.92%<br>Recall: 82.5%<br>ROC AUC: 89.98<br>Geometric Mean: 85.43<br>Matthews Correlation: 72.38<br>F1: 85.99<br>Log Loss: 0.62",
          "Support Vector Machine<br>Performance: 83.08%<br>Model ID: 650<br>Accuracy: 82.83%<br>Precision: 83.3%<br>Recall: 82.83%<br>ROC AUC: 90.14<br>Geometric Mean: 85.07<br>Matthews Correlation: 71.75<br>F1: 85.65<br>Log Loss: 0.71",
          "Support Vector Machine<br>Performance: 83.08%<br>Model ID: 646<br>Accuracy: 82.83%<br>Precision: 83.3%<br>Recall: 82.83%<br>ROC AUC: 90.15<br>Geometric Mean: 85.07<br>Matthews Correlation: 71.75<br>F1: 85.65<br>Log Loss: 0.69",
          "Support Vector Machine<br>Performance: 83.09%<br>Model ID: 642<br>Accuracy: 82.83%<br>Precision: 83.3%<br>Recall: 82.83%<br>ROC AUC: 90.19<br>Geometric Mean: 85.07<br>Matthews Correlation: 71.75<br>F1: 85.65<br>Log Loss: 0.68",
          "Support Vector Machine<br>Performance: 83.07%<br>Model ID: 654<br>Accuracy: 82.83%<br>Precision: 83.3%<br>Recall: 82.83%<br>ROC AUC: 90.09<br>Geometric Mean: 85.07<br>Matthews Correlation: 71.75<br>F1: 85.65<br>Log Loss: 0.69",
          "Gaussian Naive Bayes<br>Performance: 80.97%<br>Model ID: 737<br>Accuracy: 80.51%<br>Precision: 80.65%<br>Recall: 80.51%<br>ROC AUC: 89.18<br>Geometric Mean: 83.79<br>Matthews Correlation: 68.01<br>F1: 84.11<br>Log Loss: 100.0",
          "Gaussian Naive Bayes<br>Performance: 80.97%<br>Model ID: 1066<br>Accuracy: 80.51%<br>Precision: 80.65%<br>Recall: 80.51%<br>ROC AUC: 89.18<br>Geometric Mean: 83.79<br>Matthews Correlation: 68.01<br>F1: 84.11<br>Log Loss: 34.0",
          "Gaussian Naive Bayes<br>Performance: 80.97%<br>Model ID: 1079<br>Accuracy: 80.51%<br>Precision: 80.65%<br>Recall: 80.51%<br>ROC AUC: 89.18<br>Geometric Mean: 83.79<br>Matthews Correlation: 68.01<br>F1: 84.11<br>Log Loss: 31.4",
          "Gaussian Naive Bayes<br>Performance: 80.97%<br>Model ID: 1078<br>Accuracy: 80.51%<br>Precision: 80.65%<br>Recall: 80.51%<br>ROC AUC: 89.18<br>Geometric Mean: 83.79<br>Matthews Correlation: 68.01<br>F1: 84.11<br>Log Loss: 31.6",
          "Gaussian Naive Bayes<br>Performance: 80.97%<br>Model ID: 1077<br>Accuracy: 80.51%<br>Precision: 80.65%<br>Recall: 80.51%<br>ROC AUC: 89.18<br>Geometric Mean: 83.79<br>Matthews Correlation: 68.01<br>F1: 84.11<br>Log Loss: 31.8",
          "Multilayer Perceptron<br>Performance: 79.22%<br>Model ID: 1262<br>Accuracy: 79.85%<br>Precision: 79.92%<br>Recall: 79.85%<br>ROC AUC: 85.88<br>Geometric Mean: 81.86<br>Matthews Correlation: 64.8<br>F1: 82.36<br>Log Loss: 17.56",
          "Multilayer Perceptron<br>Performance: 79.22%<br>Model ID: 1263<br>Accuracy: 79.85%<br>Precision: 79.92%<br>Recall: 79.85%<br>ROC AUC: 85.88<br>Geometric Mean: 81.86<br>Matthews Correlation: 64.8<br>F1: 82.36<br>Log Loss: 17.56",
          "Multilayer Perceptron<br>Performance: 79.22%<br>Model ID: 1261<br>Accuracy: 79.85%<br>Precision: 79.92%<br>Recall: 79.85%<br>ROC AUC: 85.88<br>Geometric Mean: 81.86<br>Matthews Correlation: 64.8<br>F1: 82.36<br>Log Loss: 17.56",
          "Multilayer Perceptron<br>Performance: 79.09%<br>Model ID: 1249<br>Accuracy: 79.52%<br>Precision: 79.59%<br>Recall: 79.52%<br>ROC AUC: 85.97<br>Geometric Mean: 81.86<br>Matthews Correlation: 64.8<br>F1: 82.36<br>Log Loss: 17.17",
          "Multilayer Perceptron<br>Performance: 79.09%<br>Model ID: 1251<br>Accuracy: 79.52%<br>Precision: 79.59%<br>Recall: 79.52%<br>ROC AUC: 85.97<br>Geometric Mean: 81.86<br>Matthews Correlation: 64.8<br>F1: 82.36<br>Log Loss: 17.17",
          "Logistic Regression<br>Performance: 83.67%<br>Model ID: 1677<br>Accuracy: 84.14%<br>Precision: 84.66%<br>Recall: 84.14%<br>ROC AUC: 90.32<br>Geometric Mean: 85.13<br>Matthews Correlation: 71.65<br>F1: 85.67<br>Log Loss: 3.51",
          "Logistic Regression<br>Performance: 83.66%<br>Model ID: 1741<br>Accuracy: 84.46%<br>Precision: 84.98%<br>Recall: 84.46%<br>ROC AUC: 90.58<br>Geometric Mean: 84.83<br>Matthews Correlation: 70.93<br>F1: 85.35<br>Log Loss: 3.37",
          "Logistic Regression<br>Performance: 83.54%<br>Model ID: 1901<br>Accuracy: 83.8%<br>Precision: 84.26%<br>Recall: 83.8%<br>ROC AUC: 90.5<br>Geometric Mean: 85.13<br>Matthews Correlation: 71.65<br>F1: 85.67<br>Log Loss: 3.41",
          "Logistic Regression<br>Performance: 83.53%<br>Model ID: 1773<br>Accuracy: 84.14%<br>Precision: 84.64%<br>Recall: 84.14%<br>ROC AUC: 90.65<br>Geometric Mean: 84.77<br>Matthews Correlation: 71.02<br>F1: 85.33<br>Log Loss: 3.23",
          "Logistic Regression<br>Performance: 83.41%<br>Model ID: 1869<br>Accuracy: 83.48%<br>Precision: 83.92%<br>Recall: 83.48%<br>ROC AUC: 90.54<br>Geometric Mean: 85.07<br>Matthews Correlation: 71.75<br>F1: 85.65<br>Log Loss: 2.97",
          "Linear Discriminant Analysis<br>Performance: 82.31%<br>Model ID: 1997<br>Accuracy: 83.16%<br>Precision: 84.11%<br>Recall: 83.16%<br>ROC AUC: 89.99<br>Geometric Mean: 83.32<br>Matthews Correlation: 68.51<br>F1: 83.94<br>Log Loss: 0.0",
          "Linear Discriminant Analysis<br>Performance: 82.31%<br>Model ID: 1998<br>Accuracy: 83.16%<br>Precision: 84.11%<br>Recall: 83.16%<br>ROC AUC: 89.99<br>Geometric Mean: 83.32<br>Matthews Correlation: 68.51<br>F1: 83.94<br>Log Loss: 0.0",
          "Linear Discriminant Analysis<br>Performance: 73.45%<br>Model ID: 1999<br>Accuracy: 75.89%<br>Precision: 76.41%<br>Recall: 75.89%<br>ROC AUC: 82.6<br>Geometric Mean: 75.39<br>Matthews Correlation: 52.04<br>F1: 75.95<br>Log Loss: 31.9",
          "Linear Discriminant Analysis<br>Performance: 73.45%<br>Model ID: 2000<br>Accuracy: 75.89%<br>Precision: 76.41%<br>Recall: 75.89%<br>ROC AUC: 82.6<br>Geometric Mean: 75.39<br>Matthews Correlation: 52.04<br>F1: 75.95<br>Log Loss: 31.9",
          "Linear Discriminant Analysis<br>Performance: 71.08%<br>Model ID: 2001<br>Accuracy: 74.25%<br>Precision: 74.65%<br>Recall: 74.25%<br>ROC AUC: 79.07<br>Geometric Mean: 73.45<br>Matthews Correlation: 47.92<br>F1: 73.99<br>Log Loss: 41.85",
          "Quadratic Discriminant Analysis<br>Performance: 83.44%<br>Model ID: 2227<br>Accuracy: 81.49%<br>Precision: 81.79%<br>Recall: 81.49%<br>ROC AUC: 88.84<br>Geometric Mean: 87.24<br>Matthews Correlation: 75.55<br>F1: 87.7<br>Log Loss: 0.03",
          "Quadratic Discriminant Analysis<br>Performance: 83.44%<br>Model ID: 2231<br>Accuracy: 81.49%<br>Precision: 81.79%<br>Recall: 81.49%<br>ROC AUC: 88.84<br>Geometric Mean: 87.24<br>Matthews Correlation: 75.55<br>F1: 87.7<br>Log Loss: 0.03",
          "Quadratic Discriminant Analysis<br>Performance: 83.44%<br>Model ID: 2230<br>Accuracy: 81.49%<br>Precision: 81.79%<br>Recall: 81.49%<br>ROC AUC: 88.84<br>Geometric Mean: 87.24<br>Matthews Correlation: 75.55<br>F1: 87.7<br>Log Loss: 0.03",
          "Quadratic Discriminant Analysis<br>Performance: 83.44%<br>Model ID: 2229<br>Accuracy: 81.49%<br>Precision: 81.79%<br>Recall: 81.49%<br>ROC AUC: 88.84<br>Geometric Mean: 87.24<br>Matthews Correlation: 75.55<br>F1: 87.7<br>Log Loss: 0.03",
          "Quadratic Discriminant Analysis<br>Performance: 83.44%<br>Model ID: 2228<br>Accuracy: 81.49%<br>Precision: 81.79%<br>Recall: 81.49%<br>ROC AUC: 88.84<br>Geometric Mean: 87.24<br>Matthews Correlation: 75.55<br>F1: 87.7<br>Log Loss: 0.03",
          "Random Forest<br>Performance: 91.82%<br>Model ID: 2488<br>Accuracy: 84.13%<br>Precision: 84.34%<br>Recall: 84.13%<br>ROC AUC: 90.17<br>Geometric Mean: 100.0<br>Matthews Correlation: 100.0<br>F1: 100.0<br>Log Loss: 59.71",
          "Random Forest<br>Performance: 91.83%<br>Model ID: 2490<br>Accuracy: 84.13%<br>Precision: 84.31%<br>Recall: 84.13%<br>ROC AUC: 90.21<br>Geometric Mean: 100.0<br>Matthews Correlation: 100.0<br>F1: 100.0<br>Log Loss: 52.76",
          "Random Forest<br>Performance: 91.83%<br>Model ID: 2489<br>Accuracy: 84.13%<br>Precision: 84.34%<br>Recall: 84.13%<br>ROC AUC: 90.22<br>Geometric Mean: 100.0<br>Matthews Correlation: 100.0<br>F1: 100.0<br>Log Loss: 54.75",
          "Random Forest<br>Performance: 91.82%<br>Model ID: 2494<br>Accuracy: 84.13%<br>Precision: 84.38%<br>Recall: 84.13%<br>ROC AUC: 90.11<br>Geometric Mean: 100.0<br>Matthews Correlation: 100.0<br>F1: 100.0<br>Log Loss: 58.36",
          "Random Forest<br>Performance: 91.69%<br>Model ID: 2493<br>Accuracy: 83.8%<br>Precision: 84.02%<br>Recall: 83.8%<br>ROC AUC: 90.22<br>Geometric Mean: 100.0<br>Matthews Correlation: 100.0<br>F1: 100.0<br>Log Loss: 57.04",
          "Extra Trees<br>Performance: 92.27%<br>Model ID: 2667<br>Accuracy: 84.81%<br>Precision: 85.07%<br>Recall: 84.81%<br>ROC AUC: 91.22<br>Geometric Mean: 100.0<br>Matthews Correlation: 100.0<br>F1: 100.0<br>Log Loss: 0.0",
          "Extra Trees<br>Performance: 92.24%<br>Model ID: 2659<br>Accuracy: 84.8%<br>Precision: 84.98%<br>Recall: 84.8%<br>ROC AUC: 91.07<br>Geometric Mean: 100.0<br>Matthews Correlation: 100.0<br>F1: 100.0<br>Log Loss: 0.0",
          "Extra Trees<br>Performance: 92.24%<br>Model ID: 2660<br>Accuracy: 84.8%<br>Precision: 84.98%<br>Recall: 84.8%<br>ROC AUC: 91.07<br>Geometric Mean: 100.0<br>Matthews Correlation: 100.0<br>F1: 100.0<br>Log Loss: 0.0",
          "Extra Trees<br>Performance: 92.19%<br>Model ID: 2714<br>Accuracy: 84.48%<br>Precision: 84.59%<br>Recall: 84.48%<br>ROC AUC: 91.8<br>Geometric Mean: 100.0<br>Matthews Correlation: 100.0<br>F1: 100.0<br>Log Loss: 0.0",
          "Extra Trees<br>Performance: 92.19%<br>Model ID: 2715<br>Accuracy: 84.48%<br>Precision: 84.59%<br>Recall: 84.48%<br>ROC AUC: 91.76<br>Geometric Mean: 100.0<br>Matthews Correlation: 100.0<br>F1: 100.0<br>Log Loss: 0.0",
          "Adaptive Boosting<br>Performance: 85.49%<br>Model ID: 2808<br>Accuracy: 80.83%<br>Precision: 81.1%<br>Recall: 80.83%<br>ROC AUC: 87.46<br>Geometric Mean: 92.08<br>Matthews Correlation: 84.06<br>F1: 92.08<br>Log Loss: 91.04",
          "Adaptive Boosting<br>Performance: 85.37%<br>Model ID: 2845<br>Accuracy: 80.16%<br>Precision: 80.31%<br>Recall: 80.16%<br>ROC AUC: 83.52<br>Geometric Mean: 93.35<br>Matthews Correlation: 86.69<br>F1: 93.4<br>Log Loss: 99.49",
          "Adaptive Boosting<br>Performance: 85.29%<br>Model ID: 2811<br>Accuracy: 80.5%<br>Precision: 80.76%<br>Recall: 80.5%<br>ROC AUC: 86.95<br>Geometric Mean: 92.13<br>Matthews Correlation: 84.1<br>F1: 92.09<br>Log Loss: 92.25",
          "Adaptive Boosting<br>Performance: 85.19%<br>Model ID: 2812<br>Accuracy: 80.16%<br>Precision: 80.52%<br>Recall: 80.16%<br>ROC AUC: 87.19<br>Geometric Mean: 92.13<br>Matthews Correlation: 84.1<br>F1: 92.09<br>Log Loss: 92.14",
          "Adaptive Boosting<br>Performance: 85.18%<br>Model ID: 2809<br>Accuracy: 80.17%<br>Precision: 80.42%<br>Recall: 80.17%<br>ROC AUC: 87.3<br>Geometric Mean: 92.08<br>Matthews Correlation: 84.06<br>F1: 92.08<br>Log Loss: 91.13",
          "Gradient Boosting<br>Performance: 89.77%<br>Model ID: 3030<br>Accuracy: 80.83%<br>Precision: 81.59%<br>Recall: 80.83%<br>ROC AUC: 87.84<br>Geometric Mean: 99.28<br>Matthews Correlation: 98.68<br>F1: 99.34<br>Log Loss: 3.39",
          "Gradient Boosting<br>Performance: 89.76%<br>Model ID: 3029<br>Accuracy: 80.83%<br>Precision: 81.59%<br>Recall: 80.83%<br>ROC AUC: 87.8<br>Geometric Mean: 99.28<br>Matthews Correlation: 98.68<br>F1: 99.34<br>Log Loss: 3.61",
          "Gradient Boosting<br>Performance: 89.76%<br>Model ID: 2969<br>Accuracy: 80.83%<br>Precision: 81.59%<br>Recall: 80.83%<br>ROC AUC: 87.77<br>Geometric Mean: 99.28<br>Matthews Correlation: 98.68<br>F1: 99.34<br>Log Loss: 3.61",
          "Gradient Boosting<br>Performance: 89.77%<br>Model ID: 2970<br>Accuracy: 80.83%<br>Precision: 81.59%<br>Recall: 80.83%<br>ROC AUC: 87.82<br>Geometric Mean: 99.28<br>Matthews Correlation: 98.68<br>F1: 99.34<br>Log Loss: 3.39",
          "Gradient Boosting<br>Performance: 89.75%<br>Model ID: 3026<br>Accuracy: 80.83%<br>Precision: 81.45%<br>Recall: 80.83%<br>ROC AUC: 87.84<br>Geometric Mean: 99.28<br>Matthews Correlation: 98.68<br>F1: 99.34<br>Log Loss: 4.1",
          "K-Nearest Neighbor<br>Performance: 87.44%<br>Model ID: meta_1<br>Accuracy: 89.11%<br>Precision: 89.41%<br>Recall: 89.11%<br>ROC AUC: 88.58<br>Geometric Mean: 88.58<br>Matthews Correlation: 78.24<br>F1: 89.03<br>Log Loss: 376.17",
          "Support Vector Machine<br>Performance: 92.41%<br>Model ID: meta_2<br>Accuracy: 93.4%<br>Precision: 93.4%<br>Recall: 93.4%<br>ROC AUC: 93.29<br>Geometric Mean: 93.29<br>Matthews Correlation: 86.68<br>F1: 93.4<br>Log Loss: 227.98",
          "Gaussian Naive Bayes<br>Performance: 93.21%<br>Model ID: meta_3<br>Accuracy: 94.06%<br>Precision: 94.07%<br>Recall: 94.06%<br>ROC AUC: 94.07<br>Geometric Mean: 94.07<br>Matthews Correlation: 88.05<br>F1: 94.06<br>Log Loss: 205.18",
          "Multilayer Perceptron<br>Performance: 100.0%<br>Model ID: meta_4<br>Accuracy: 100.0%<br>Precision: 100.0%<br>Recall: 100.0%<br>ROC AUC: 100.0<br>Geometric Mean: 100.0<br>Matthews Correlation: 100.0<br>F1: 100.0<br>Log Loss: 0.0",
          "Logistic Regression<br>Performance: 100.0%<br>Model ID: meta_5<br>Accuracy: 100.0%<br>Precision: 100.0%<br>Recall: 100.0%<br>ROC AUC: 100.0<br>Geometric Mean: 100.0<br>Matthews Correlation: 100.0<br>F1: 100.0<br>Log Loss: 0.0",
          "Linear Discriminant Analysis<br>Performance: 98.85%<br>Model ID: meta_6<br>Accuracy: 99.01%<br>Precision: 99.01%<br>Recall: 99.01%<br>ROC AUC: 98.97<br>Geometric Mean: 98.97<br>Matthews Correlation: 98.0<br>F1: 99.01<br>Log Loss: 34.2",
          "Quadratic Discriminant Analysis<br>Performance: 91.25%<br>Model ID: meta_7<br>Accuracy: 92.41%<br>Precision: 92.43%<br>Recall: 92.41%<br>ROC AUC: 92.2<br>Geometric Mean: 92.2<br>Matthews Correlation: 84.7<br>F1: 92.4<br>Log Loss: 262.18",
          "Random Forest<br>Performance: 90.91%<br>Model ID: meta_8<br>Accuracy: 92.08%<br>Precision: 92.08%<br>Recall: 92.08%<br>ROC AUC: 92.02<br>Geometric Mean: 92.02<br>Matthews Correlation: 84.03<br>F1: 92.08<br>Log Loss: 273.58",
          "Extra Trees<br>Performance: 96.33%<br>Model ID: meta_9<br>Accuracy: 96.7%<br>Precision: 96.85%<br>Recall: 96.7%<br>ROC AUC: 96.91<br>Geometric Mean: 96.91<br>Matthews Correlation: 93.51<br>F1: 96.71<br>Log Loss: 113.99",
          "Adaptive Boosting<br>Performance: 96.26%<br>Model ID: meta_10<br>Accuracy: 96.7%<br>Precision: 96.74%<br>Recall: 96.7%<br>ROC AUC: 96.79<br>Geometric Mean: 96.79<br>Matthews Correlation: 93.4<br>F1: 96.7<br>Log Loss: 113.99",
          "Gradient Boosting<br>Performance: 93.55%<br>Model ID: meta_11<br>Accuracy: 94.39%<br>Precision: 94.39%<br>Recall: 94.39%<br>ROC AUC: 94.31<br>Geometric Mean: 94.31<br>Matthews Correlation: 88.68<br>F1: 94.39<br>Log Loss: 193.78"
         ],
         "marker": {
          "color": [
           83.35,
           83.28,
           83.13,
           83.13,
           83.11,
           83.1,
           83.08,
           83.08,
           83.09,
           83.07,
           80.97,
           80.97,
           80.97,
           80.97,
           80.97,
           79.22,
           79.22,
           79.22,
           79.09,
           79.09,
           83.67,
           83.66,
           83.54,
           83.53,
           83.41,
           82.31,
           82.31,
           73.45,
           73.45,
           71.08,
           83.44,
           83.44,
           83.44,
           83.44,
           83.44,
           91.82,
           91.83,
           91.83,
           91.82,
           91.69,
           92.27,
           92.24,
           92.24,
           92.19,
           92.19,
           85.49,
           85.37,
           85.29,
           85.19,
           85.18,
           89.77,
           89.76,
           89.76,
           89.77,
           89.75,
           87.44,
           92.41,
           93.21,
           100,
           100,
           98.85,
           91.25,
           90.91,
           96.33,
           96.26,
           93.55
          ],
          "coloraxis": "coloraxis",
          "line": {
           "color": "Black",
           "width": 1
          },
          "opacity": 0.8,
          "size": [
           20,
           20,
           20,
           20,
           20,
           20,
           20,
           20,
           20,
           20,
           20,
           20,
           20,
           20,
           20,
           20,
           20,
           20,
           20,
           20,
           20,
           20,
           20,
           20,
           20,
           20,
           20,
           20,
           20,
           20,
           20,
           20,
           20,
           20,
           20,
           20,
           20,
           20,
           20,
           20,
           20,
           20,
           20,
           20,
           20,
           20,
           20,
           20,
           20,
           20,
           20,
           20,
           20,
           20,
           20,
           40,
           40,
           40,
           40,
           40,
           40,
           40,
           40,
           40,
           40,
           40
          ],
          "symbol": [
           "circle",
           "circle",
           "circle",
           "circle",
           "circle",
           "square",
           "square",
           "square",
           "square",
           "square",
           "x",
           "x",
           "x",
           "x",
           "x",
           "cross",
           "cross",
           "cross",
           "cross",
           "cross",
           "diamond",
           "diamond",
           "diamond",
           "diamond",
           "diamond",
           "star",
           "star",
           "star",
           "star",
           "star",
           "hexagram",
           "hexagram",
           "hexagram",
           "hexagram",
           "hexagram",
           "triangle-right",
           "triangle-right",
           "triangle-right",
           "triangle-right",
           "triangle-right",
           "triangle-left",
           "triangle-left",
           "triangle-left",
           "triangle-left",
           "triangle-left",
           "triangle-down",
           "triangle-down",
           "triangle-down",
           "triangle-down",
           "triangle-down",
           "triangle-up",
           "triangle-up",
           "triangle-up",
           "triangle-up",
           "triangle-up",
           "circle",
           "square",
           "x",
           "cross",
           "diamond",
           "star",
           "hexagram",
           "triangle-right",
           "triangle-left",
           "triangle-down",
           "triangle-up"
          ]
         },
         "mode": "markers",
         "type": "scatter",
         "x": [
          -3.7687511444091797,
          -4.074045658111572,
          -4.100975513458252,
          -3.721067428588867,
          -3.4605026245117188,
          3.3309688568115234,
          2.291712522506714,
          2.639497756958008,
          2.901554822921753,
          2.756150007247925,
          -3.5000879764556885,
          -3.3742105960845947,
          -2.8318705558776855,
          -3.179246425628662,
          -2.917311668395996,
          8.592138290405273,
          8.889163970947266,
          8.263422012329102,
          8.640389442443848,
          8.921660423278809,
          16.96984100341797,
          17.25861167907715,
          17.497316360473633,
          17.30582618713379,
          17.77732276916504,
          18.34964942932129,
          18.52792739868164,
          -2.949801445007324,
          -2.729314088821411,
          -3.0382943153381348,
          2.1996641159057617,
          1.9553565979003906,
          2.101313352584839,
          1.6917046308517456,
          1.5335187911987305,
          -5.651440620422363,
          -6.245198726654053,
          -5.720473766326904,
          -5.95911979675293,
          -6.328868389129639,
          13.415823936462402,
          13.05184555053711,
          13.09212589263916,
          13.738177299499512,
          13.664022445678711,
          -4.943406105041504,
          -4.816596508026123,
          -5.035402774810791,
          -4.508337020874023,
          -5.246543884277344,
          1.5826764106750488,
          1.2542864084243774,
          2.0720489025115967,
          1.680046796798706,
          1.083559274673462,
          0.6968205571174622,
          -0.1389411836862564,
          0.6278417706489563,
          -0.03154275193810463,
          -0.37364161014556885,
          -0.7283673286437988,
          0.5303180813789368,
          0.3844883441925049,
          -0.04983559250831604,
          -4.494873046875,
          -0.4293316602706909
         ],
         "xaxis": "x",
         "y": [
          9.040146827697754,
          8.39687728881836,
          8.734109878540039,
          8.205551147460938,
          8.797622680664062,
          16.207368850708008,
          15.167875289916992,
          15.514609336853027,
          15.777361869812012,
          15.632766723632812,
          -6.47144079208374,
          -6.925966739654541,
          -6.187283039093018,
          -6.565461158752441,
          -6.882089138031006,
          13.006672859191895,
          12.77405834197998,
          13.228625297546387,
          13.491083145141602,
          13.584887504577637,
          -14.855735778808594,
          -15.138411521911621,
          -15.356252670288086,
          -14.66176986694336,
          -15.09813117980957,
          -14.806511878967285,
          -14.998074531555176,
          7.539629936218262,
          7.848541259765625,
          7.4528608322143555,
          29.00723648071289,
          29.251657485961914,
          29.10569190979004,
          29.515243530273438,
          29.673383712768555,
          -0.1855381578207016,
          0.3195194900035858,
          0.3787810802459717,
          0.5215045213699341,
          0.12918326258659363,
          -10.37144660949707,
          -10.734125137329102,
          -10.694273948669434,
          -10.049878120422363,
          -10.124619483947754,
          -12.006458282470703,
          -12.49242115020752,
          -12.136222839355469,
          -12.003643035888672,
          -11.668798446655273,
          -12.086666107177734,
          -11.758918762207031,
          -12.576831817626953,
          -12.183626174926758,
          -11.587601661682129,
          5.934621334075928,
          5.868130207061768,
          5.2740478515625,
          5.243204593658447,
          4.871644973754883,
          5.196533203125,
          5.404820919036865,
          6.642072677612305,
          6.102156162261963,
          -11.543207168579102,
          6.429897308349609
         ],
         "yaxis": "y"
        },
        {
         "hovertext": [
          "K-Nearest Neighbor<br>Performance: 83.35%<br>Model ID: 452<br>Accuracy: 70.31%<br>Precision: 70.36%<br>Recall: 70.31%<br>ROC AUC: 72.5<br>Geometric Mean: 100.0<br>Matthews Correlation: 100.0<br>F1: 100.0<br>Log Loss: 0.0",
          "K-Nearest Neighbor<br>Performance: 83.28%<br>Model ID: 288<br>Accuracy: 69.62%<br>Precision: 69.8%<br>Recall: 69.62%<br>ROC AUC: 73.91<br>Geometric Mean: 100.0<br>Matthews Correlation: 100.0<br>F1: 100.0<br>Log Loss: 0.0",
          "K-Nearest Neighbor<br>Performance: 83.13%<br>Model ID: 96<br>Accuracy: 69.29%<br>Precision: 69.48%<br>Recall: 69.29%<br>ROC AUC: 73.84<br>Geometric Mean: 100.0<br>Matthews Correlation: 100.0<br>F1: 100.0<br>Log Loss: 0.0",
          "K-Nearest Neighbor<br>Performance: 83.13%<br>Model ID: 480<br>Accuracy: 69.29%<br>Precision: 69.48%<br>Recall: 69.29%<br>ROC AUC: 73.82<br>Geometric Mean: 100.0<br>Matthews Correlation: 100.0<br>F1: 100.0<br>Log Loss: 0.0",
          "K-Nearest Neighbor<br>Performance: 83.11%<br>Model ID: 458<br>Accuracy: 69.64%<br>Precision: 69.61%<br>Recall: 69.64%<br>ROC AUC: 72.85<br>Geometric Mean: 100.0<br>Matthews Correlation: 100.0<br>F1: 100.0<br>Log Loss: 0.0",
          "Support Vector Machine<br>Performance: 83.1%<br>Model ID: 694<br>Accuracy: 82.5%<br>Precision: 82.92%<br>Recall: 82.5%<br>ROC AUC: 89.98<br>Geometric Mean: 85.43<br>Matthews Correlation: 72.38<br>F1: 85.99<br>Log Loss: 0.62",
          "Support Vector Machine<br>Performance: 83.08%<br>Model ID: 650<br>Accuracy: 82.83%<br>Precision: 83.3%<br>Recall: 82.83%<br>ROC AUC: 90.14<br>Geometric Mean: 85.07<br>Matthews Correlation: 71.75<br>F1: 85.65<br>Log Loss: 0.71",
          "Support Vector Machine<br>Performance: 83.08%<br>Model ID: 646<br>Accuracy: 82.83%<br>Precision: 83.3%<br>Recall: 82.83%<br>ROC AUC: 90.15<br>Geometric Mean: 85.07<br>Matthews Correlation: 71.75<br>F1: 85.65<br>Log Loss: 0.69",
          "Support Vector Machine<br>Performance: 83.09%<br>Model ID: 642<br>Accuracy: 82.83%<br>Precision: 83.3%<br>Recall: 82.83%<br>ROC AUC: 90.19<br>Geometric Mean: 85.07<br>Matthews Correlation: 71.75<br>F1: 85.65<br>Log Loss: 0.68",
          "Support Vector Machine<br>Performance: 83.07%<br>Model ID: 654<br>Accuracy: 82.83%<br>Precision: 83.3%<br>Recall: 82.83%<br>ROC AUC: 90.09<br>Geometric Mean: 85.07<br>Matthews Correlation: 71.75<br>F1: 85.65<br>Log Loss: 0.69",
          "Gaussian Naive Bayes<br>Performance: 80.97%<br>Model ID: 737<br>Accuracy: 80.51%<br>Precision: 80.65%<br>Recall: 80.51%<br>ROC AUC: 89.18<br>Geometric Mean: 83.79<br>Matthews Correlation: 68.01<br>F1: 84.11<br>Log Loss: 100.0",
          "Gaussian Naive Bayes<br>Performance: 80.97%<br>Model ID: 1066<br>Accuracy: 80.51%<br>Precision: 80.65%<br>Recall: 80.51%<br>ROC AUC: 89.18<br>Geometric Mean: 83.79<br>Matthews Correlation: 68.01<br>F1: 84.11<br>Log Loss: 34.0",
          "Gaussian Naive Bayes<br>Performance: 80.97%<br>Model ID: 1079<br>Accuracy: 80.51%<br>Precision: 80.65%<br>Recall: 80.51%<br>ROC AUC: 89.18<br>Geometric Mean: 83.79<br>Matthews Correlation: 68.01<br>F1: 84.11<br>Log Loss: 31.4",
          "Gaussian Naive Bayes<br>Performance: 80.97%<br>Model ID: 1078<br>Accuracy: 80.51%<br>Precision: 80.65%<br>Recall: 80.51%<br>ROC AUC: 89.18<br>Geometric Mean: 83.79<br>Matthews Correlation: 68.01<br>F1: 84.11<br>Log Loss: 31.6",
          "Gaussian Naive Bayes<br>Performance: 80.97%<br>Model ID: 1077<br>Accuracy: 80.51%<br>Precision: 80.65%<br>Recall: 80.51%<br>ROC AUC: 89.18<br>Geometric Mean: 83.79<br>Matthews Correlation: 68.01<br>F1: 84.11<br>Log Loss: 31.8",
          "Multilayer Perceptron<br>Performance: 79.22%<br>Model ID: 1262<br>Accuracy: 79.85%<br>Precision: 79.92%<br>Recall: 79.85%<br>ROC AUC: 85.88<br>Geometric Mean: 81.86<br>Matthews Correlation: 64.8<br>F1: 82.36<br>Log Loss: 17.56",
          "Multilayer Perceptron<br>Performance: 79.22%<br>Model ID: 1263<br>Accuracy: 79.85%<br>Precision: 79.92%<br>Recall: 79.85%<br>ROC AUC: 85.88<br>Geometric Mean: 81.86<br>Matthews Correlation: 64.8<br>F1: 82.36<br>Log Loss: 17.56",
          "Multilayer Perceptron<br>Performance: 79.22%<br>Model ID: 1261<br>Accuracy: 79.85%<br>Precision: 79.92%<br>Recall: 79.85%<br>ROC AUC: 85.88<br>Geometric Mean: 81.86<br>Matthews Correlation: 64.8<br>F1: 82.36<br>Log Loss: 17.56",
          "Multilayer Perceptron<br>Performance: 79.09%<br>Model ID: 1249<br>Accuracy: 79.52%<br>Precision: 79.59%<br>Recall: 79.52%<br>ROC AUC: 85.97<br>Geometric Mean: 81.86<br>Matthews Correlation: 64.8<br>F1: 82.36<br>Log Loss: 17.17",
          "Multilayer Perceptron<br>Performance: 79.09%<br>Model ID: 1251<br>Accuracy: 79.52%<br>Precision: 79.59%<br>Recall: 79.52%<br>ROC AUC: 85.97<br>Geometric Mean: 81.86<br>Matthews Correlation: 64.8<br>F1: 82.36<br>Log Loss: 17.17",
          "Logistic Regression<br>Performance: 83.67%<br>Model ID: 1677<br>Accuracy: 84.14%<br>Precision: 84.66%<br>Recall: 84.14%<br>ROC AUC: 90.32<br>Geometric Mean: 85.13<br>Matthews Correlation: 71.65<br>F1: 85.67<br>Log Loss: 3.51",
          "Logistic Regression<br>Performance: 83.66%<br>Model ID: 1741<br>Accuracy: 84.46%<br>Precision: 84.98%<br>Recall: 84.46%<br>ROC AUC: 90.58<br>Geometric Mean: 84.83<br>Matthews Correlation: 70.93<br>F1: 85.35<br>Log Loss: 3.37",
          "Logistic Regression<br>Performance: 83.54%<br>Model ID: 1901<br>Accuracy: 83.8%<br>Precision: 84.26%<br>Recall: 83.8%<br>ROC AUC: 90.5<br>Geometric Mean: 85.13<br>Matthews Correlation: 71.65<br>F1: 85.67<br>Log Loss: 3.41",
          "Logistic Regression<br>Performance: 83.53%<br>Model ID: 1773<br>Accuracy: 84.14%<br>Precision: 84.64%<br>Recall: 84.14%<br>ROC AUC: 90.65<br>Geometric Mean: 84.77<br>Matthews Correlation: 71.02<br>F1: 85.33<br>Log Loss: 3.23",
          "Logistic Regression<br>Performance: 83.41%<br>Model ID: 1869<br>Accuracy: 83.48%<br>Precision: 83.92%<br>Recall: 83.48%<br>ROC AUC: 90.54<br>Geometric Mean: 85.07<br>Matthews Correlation: 71.75<br>F1: 85.65<br>Log Loss: 2.97",
          "Linear Discriminant Analysis<br>Performance: 82.31%<br>Model ID: 1997<br>Accuracy: 83.16%<br>Precision: 84.11%<br>Recall: 83.16%<br>ROC AUC: 89.99<br>Geometric Mean: 83.32<br>Matthews Correlation: 68.51<br>F1: 83.94<br>Log Loss: 0.0",
          "Linear Discriminant Analysis<br>Performance: 82.31%<br>Model ID: 1998<br>Accuracy: 83.16%<br>Precision: 84.11%<br>Recall: 83.16%<br>ROC AUC: 89.99<br>Geometric Mean: 83.32<br>Matthews Correlation: 68.51<br>F1: 83.94<br>Log Loss: 0.0",
          "Linear Discriminant Analysis<br>Performance: 73.45%<br>Model ID: 1999<br>Accuracy: 75.89%<br>Precision: 76.41%<br>Recall: 75.89%<br>ROC AUC: 82.6<br>Geometric Mean: 75.39<br>Matthews Correlation: 52.04<br>F1: 75.95<br>Log Loss: 31.9",
          "Linear Discriminant Analysis<br>Performance: 73.45%<br>Model ID: 2000<br>Accuracy: 75.89%<br>Precision: 76.41%<br>Recall: 75.89%<br>ROC AUC: 82.6<br>Geometric Mean: 75.39<br>Matthews Correlation: 52.04<br>F1: 75.95<br>Log Loss: 31.9",
          "Linear Discriminant Analysis<br>Performance: 71.08%<br>Model ID: 2001<br>Accuracy: 74.25%<br>Precision: 74.65%<br>Recall: 74.25%<br>ROC AUC: 79.07<br>Geometric Mean: 73.45<br>Matthews Correlation: 47.92<br>F1: 73.99<br>Log Loss: 41.85",
          "Quadratic Discriminant Analysis<br>Performance: 83.44%<br>Model ID: 2227<br>Accuracy: 81.49%<br>Precision: 81.79%<br>Recall: 81.49%<br>ROC AUC: 88.84<br>Geometric Mean: 87.24<br>Matthews Correlation: 75.55<br>F1: 87.7<br>Log Loss: 0.03",
          "Quadratic Discriminant Analysis<br>Performance: 83.44%<br>Model ID: 2231<br>Accuracy: 81.49%<br>Precision: 81.79%<br>Recall: 81.49%<br>ROC AUC: 88.84<br>Geometric Mean: 87.24<br>Matthews Correlation: 75.55<br>F1: 87.7<br>Log Loss: 0.03",
          "Quadratic Discriminant Analysis<br>Performance: 83.44%<br>Model ID: 2230<br>Accuracy: 81.49%<br>Precision: 81.79%<br>Recall: 81.49%<br>ROC AUC: 88.84<br>Geometric Mean: 87.24<br>Matthews Correlation: 75.55<br>F1: 87.7<br>Log Loss: 0.03",
          "Quadratic Discriminant Analysis<br>Performance: 83.44%<br>Model ID: 2229<br>Accuracy: 81.49%<br>Precision: 81.79%<br>Recall: 81.49%<br>ROC AUC: 88.84<br>Geometric Mean: 87.24<br>Matthews Correlation: 75.55<br>F1: 87.7<br>Log Loss: 0.03",
          "Quadratic Discriminant Analysis<br>Performance: 83.44%<br>Model ID: 2228<br>Accuracy: 81.49%<br>Precision: 81.79%<br>Recall: 81.49%<br>ROC AUC: 88.84<br>Geometric Mean: 87.24<br>Matthews Correlation: 75.55<br>F1: 87.7<br>Log Loss: 0.03",
          "Random Forest<br>Performance: 91.82%<br>Model ID: 2488<br>Accuracy: 84.13%<br>Precision: 84.34%<br>Recall: 84.13%<br>ROC AUC: 90.17<br>Geometric Mean: 100.0<br>Matthews Correlation: 100.0<br>F1: 100.0<br>Log Loss: 59.71",
          "Random Forest<br>Performance: 91.83%<br>Model ID: 2490<br>Accuracy: 84.13%<br>Precision: 84.31%<br>Recall: 84.13%<br>ROC AUC: 90.21<br>Geometric Mean: 100.0<br>Matthews Correlation: 100.0<br>F1: 100.0<br>Log Loss: 52.76",
          "Random Forest<br>Performance: 91.83%<br>Model ID: 2489<br>Accuracy: 84.13%<br>Precision: 84.34%<br>Recall: 84.13%<br>ROC AUC: 90.22<br>Geometric Mean: 100.0<br>Matthews Correlation: 100.0<br>F1: 100.0<br>Log Loss: 54.75",
          "Random Forest<br>Performance: 91.82%<br>Model ID: 2494<br>Accuracy: 84.13%<br>Precision: 84.38%<br>Recall: 84.13%<br>ROC AUC: 90.11<br>Geometric Mean: 100.0<br>Matthews Correlation: 100.0<br>F1: 100.0<br>Log Loss: 58.36",
          "Random Forest<br>Performance: 91.69%<br>Model ID: 2493<br>Accuracy: 83.8%<br>Precision: 84.02%<br>Recall: 83.8%<br>ROC AUC: 90.22<br>Geometric Mean: 100.0<br>Matthews Correlation: 100.0<br>F1: 100.0<br>Log Loss: 57.04",
          "Extra Trees<br>Performance: 92.27%<br>Model ID: 2667<br>Accuracy: 84.81%<br>Precision: 85.07%<br>Recall: 84.81%<br>ROC AUC: 91.22<br>Geometric Mean: 100.0<br>Matthews Correlation: 100.0<br>F1: 100.0<br>Log Loss: 0.0",
          "Extra Trees<br>Performance: 92.24%<br>Model ID: 2659<br>Accuracy: 84.8%<br>Precision: 84.98%<br>Recall: 84.8%<br>ROC AUC: 91.07<br>Geometric Mean: 100.0<br>Matthews Correlation: 100.0<br>F1: 100.0<br>Log Loss: 0.0",
          "Extra Trees<br>Performance: 92.24%<br>Model ID: 2660<br>Accuracy: 84.8%<br>Precision: 84.98%<br>Recall: 84.8%<br>ROC AUC: 91.07<br>Geometric Mean: 100.0<br>Matthews Correlation: 100.0<br>F1: 100.0<br>Log Loss: 0.0",
          "Extra Trees<br>Performance: 92.19%<br>Model ID: 2714<br>Accuracy: 84.48%<br>Precision: 84.59%<br>Recall: 84.48%<br>ROC AUC: 91.8<br>Geometric Mean: 100.0<br>Matthews Correlation: 100.0<br>F1: 100.0<br>Log Loss: 0.0",
          "Extra Trees<br>Performance: 92.19%<br>Model ID: 2715<br>Accuracy: 84.48%<br>Precision: 84.59%<br>Recall: 84.48%<br>ROC AUC: 91.76<br>Geometric Mean: 100.0<br>Matthews Correlation: 100.0<br>F1: 100.0<br>Log Loss: 0.0",
          "Adaptive Boosting<br>Performance: 85.49%<br>Model ID: 2808<br>Accuracy: 80.83%<br>Precision: 81.1%<br>Recall: 80.83%<br>ROC AUC: 87.46<br>Geometric Mean: 92.08<br>Matthews Correlation: 84.06<br>F1: 92.08<br>Log Loss: 91.04",
          "Adaptive Boosting<br>Performance: 85.37%<br>Model ID: 2845<br>Accuracy: 80.16%<br>Precision: 80.31%<br>Recall: 80.16%<br>ROC AUC: 83.52<br>Geometric Mean: 93.35<br>Matthews Correlation: 86.69<br>F1: 93.4<br>Log Loss: 99.49",
          "Adaptive Boosting<br>Performance: 85.29%<br>Model ID: 2811<br>Accuracy: 80.5%<br>Precision: 80.76%<br>Recall: 80.5%<br>ROC AUC: 86.95<br>Geometric Mean: 92.13<br>Matthews Correlation: 84.1<br>F1: 92.09<br>Log Loss: 92.25",
          "Adaptive Boosting<br>Performance: 85.19%<br>Model ID: 2812<br>Accuracy: 80.16%<br>Precision: 80.52%<br>Recall: 80.16%<br>ROC AUC: 87.19<br>Geometric Mean: 92.13<br>Matthews Correlation: 84.1<br>F1: 92.09<br>Log Loss: 92.14",
          "Adaptive Boosting<br>Performance: 85.18%<br>Model ID: 2809<br>Accuracy: 80.17%<br>Precision: 80.42%<br>Recall: 80.17%<br>ROC AUC: 87.3<br>Geometric Mean: 92.08<br>Matthews Correlation: 84.06<br>F1: 92.08<br>Log Loss: 91.13",
          "Gradient Boosting<br>Performance: 89.77%<br>Model ID: 3030<br>Accuracy: 80.83%<br>Precision: 81.59%<br>Recall: 80.83%<br>ROC AUC: 87.84<br>Geometric Mean: 99.28<br>Matthews Correlation: 98.68<br>F1: 99.34<br>Log Loss: 3.39",
          "Gradient Boosting<br>Performance: 89.76%<br>Model ID: 3029<br>Accuracy: 80.83%<br>Precision: 81.59%<br>Recall: 80.83%<br>ROC AUC: 87.8<br>Geometric Mean: 99.28<br>Matthews Correlation: 98.68<br>F1: 99.34<br>Log Loss: 3.61",
          "Gradient Boosting<br>Performance: 89.76%<br>Model ID: 2969<br>Accuracy: 80.83%<br>Precision: 81.59%<br>Recall: 80.83%<br>ROC AUC: 87.77<br>Geometric Mean: 99.28<br>Matthews Correlation: 98.68<br>F1: 99.34<br>Log Loss: 3.61",
          "Gradient Boosting<br>Performance: 89.77%<br>Model ID: 2970<br>Accuracy: 80.83%<br>Precision: 81.59%<br>Recall: 80.83%<br>ROC AUC: 87.82<br>Geometric Mean: 99.28<br>Matthews Correlation: 98.68<br>F1: 99.34<br>Log Loss: 3.39",
          "Gradient Boosting<br>Performance: 89.75%<br>Model ID: 3026<br>Accuracy: 80.83%<br>Precision: 81.45%<br>Recall: 80.83%<br>ROC AUC: 87.84<br>Geometric Mean: 99.28<br>Matthews Correlation: 98.68<br>F1: 99.34<br>Log Loss: 4.1",
          "K-Nearest Neighbor<br>Performance: 87.44%<br>Model ID: meta_1<br>Accuracy: 89.11%<br>Precision: 89.41%<br>Recall: 89.11%<br>ROC AUC: 88.58<br>Geometric Mean: 88.58<br>Matthews Correlation: 78.24<br>F1: 89.03<br>Log Loss: 376.17",
          "Support Vector Machine<br>Performance: 92.41%<br>Model ID: meta_2<br>Accuracy: 93.4%<br>Precision: 93.4%<br>Recall: 93.4%<br>ROC AUC: 93.29<br>Geometric Mean: 93.29<br>Matthews Correlation: 86.68<br>F1: 93.4<br>Log Loss: 227.98",
          "Gaussian Naive Bayes<br>Performance: 93.21%<br>Model ID: meta_3<br>Accuracy: 94.06%<br>Precision: 94.07%<br>Recall: 94.06%<br>ROC AUC: 94.07<br>Geometric Mean: 94.07<br>Matthews Correlation: 88.05<br>F1: 94.06<br>Log Loss: 205.18",
          "Multilayer Perceptron<br>Performance: 100.0%<br>Model ID: meta_4<br>Accuracy: 100.0%<br>Precision: 100.0%<br>Recall: 100.0%<br>ROC AUC: 100.0<br>Geometric Mean: 100.0<br>Matthews Correlation: 100.0<br>F1: 100.0<br>Log Loss: 0.0",
          "Logistic Regression<br>Performance: 100.0%<br>Model ID: meta_5<br>Accuracy: 100.0%<br>Precision: 100.0%<br>Recall: 100.0%<br>ROC AUC: 100.0<br>Geometric Mean: 100.0<br>Matthews Correlation: 100.0<br>F1: 100.0<br>Log Loss: 0.0",
          "Linear Discriminant Analysis<br>Performance: 98.85%<br>Model ID: meta_6<br>Accuracy: 99.01%<br>Precision: 99.01%<br>Recall: 99.01%<br>ROC AUC: 98.97<br>Geometric Mean: 98.97<br>Matthews Correlation: 98.0<br>F1: 99.01<br>Log Loss: 34.2",
          "Quadratic Discriminant Analysis<br>Performance: 91.25%<br>Model ID: meta_7<br>Accuracy: 92.41%<br>Precision: 92.43%<br>Recall: 92.41%<br>ROC AUC: 92.2<br>Geometric Mean: 92.2<br>Matthews Correlation: 84.7<br>F1: 92.4<br>Log Loss: 262.18",
          "Random Forest<br>Performance: 90.91%<br>Model ID: meta_8<br>Accuracy: 92.08%<br>Precision: 92.08%<br>Recall: 92.08%<br>ROC AUC: 92.02<br>Geometric Mean: 92.02<br>Matthews Correlation: 84.03<br>F1: 92.08<br>Log Loss: 273.58",
          "Extra Trees<br>Performance: 96.33%<br>Model ID: meta_9<br>Accuracy: 96.7%<br>Precision: 96.85%<br>Recall: 96.7%<br>ROC AUC: 96.91<br>Geometric Mean: 96.91<br>Matthews Correlation: 93.51<br>F1: 96.71<br>Log Loss: 113.99",
          "Adaptive Boosting<br>Performance: 96.26%<br>Model ID: meta_10<br>Accuracy: 96.7%<br>Precision: 96.74%<br>Recall: 96.7%<br>ROC AUC: 96.79<br>Geometric Mean: 96.79<br>Matthews Correlation: 93.4<br>F1: 96.7<br>Log Loss: 113.99",
          "Gradient Boosting<br>Performance: 93.55%<br>Model ID: meta_11<br>Accuracy: 94.39%<br>Precision: 94.39%<br>Recall: 94.39%<br>ROC AUC: 94.31<br>Geometric Mean: 94.31<br>Matthews Correlation: 88.68<br>F1: 94.39<br>Log Loss: 193.78"
         ],
         "marker": {
          "color": [
           83.35,
           83.28,
           83.13,
           83.13,
           83.11,
           83.1,
           83.08,
           83.08,
           83.09,
           83.07,
           80.97,
           80.97,
           80.97,
           80.97,
           80.97,
           79.22,
           79.22,
           79.22,
           79.09,
           79.09,
           83.67,
           83.66,
           83.54,
           83.53,
           83.41,
           82.31,
           82.31,
           73.45,
           73.45,
           71.08,
           83.44,
           83.44,
           83.44,
           83.44,
           83.44,
           91.82,
           91.83,
           91.83,
           91.82,
           91.69,
           92.27,
           92.24,
           92.24,
           92.19,
           92.19,
           85.49,
           85.37,
           85.29,
           85.19,
           85.18,
           89.77,
           89.76,
           89.76,
           89.77,
           89.75,
           87.44,
           92.41,
           93.21,
           100,
           100,
           98.85,
           91.25,
           90.91,
           96.33,
           96.26,
           93.55
          ],
          "coloraxis": "coloraxis",
          "line": {
           "color": "Black",
           "width": 1
          },
          "opacity": 0.8,
          "size": [
           20,
           20,
           20,
           20,
           20,
           20,
           20,
           20,
           20,
           20,
           20,
           20,
           20,
           20,
           20,
           20,
           20,
           20,
           20,
           20,
           20,
           20,
           20,
           20,
           20,
           20,
           20,
           20,
           20,
           20,
           20,
           20,
           20,
           20,
           20,
           20,
           20,
           20,
           20,
           20,
           20,
           20,
           20,
           20,
           20,
           20,
           20,
           20,
           20,
           20,
           20,
           20,
           20,
           20,
           20,
           40,
           40,
           40,
           40,
           40,
           40,
           40,
           40,
           40,
           40,
           40
          ],
          "symbol": [
           "circle",
           "circle",
           "circle",
           "circle",
           "circle",
           "square",
           "square",
           "square",
           "square",
           "square",
           "x",
           "x",
           "x",
           "x",
           "x",
           "cross",
           "cross",
           "cross",
           "cross",
           "cross",
           "diamond",
           "diamond",
           "diamond",
           "diamond",
           "diamond",
           "star",
           "star",
           "star",
           "star",
           "star",
           "hexagram",
           "hexagram",
           "hexagram",
           "hexagram",
           "hexagram",
           "triangle-right",
           "triangle-right",
           "triangle-right",
           "triangle-right",
           "triangle-right",
           "triangle-left",
           "triangle-left",
           "triangle-left",
           "triangle-left",
           "triangle-left",
           "triangle-down",
           "triangle-down",
           "triangle-down",
           "triangle-down",
           "triangle-down",
           "triangle-up",
           "triangle-up",
           "triangle-up",
           "triangle-up",
           "triangle-up",
           "circle",
           "square",
           "x",
           "cross",
           "diamond",
           "star",
           "hexagram",
           "triangle-right",
           "triangle-left",
           "triangle-down",
           "triangle-up"
          ]
         },
         "mode": "markers",
         "type": "scatter",
         "x": [
          20.32177734375,
          20.82236099243164,
          20.431621551513672,
          20.647409439086914,
          20.169225692749023,
          4.750962257385254,
          5.062236309051514,
          5.129268646240234,
          4.926829814910889,
          4.450809001922607,
          32.657257080078125,
          32.82427978515625,
          33.46516799926758,
          33.30378341674805,
          33.14198303222656,
          -0.4995298981666565,
          0.12060829997062683,
          -0.5970378518104553,
          0.02211104705929756,
          -0.09546210616827011,
          7.034317493438721,
          6.587484836578369,
          6.571553707122803,
          6.176108360290527,
          6.021350860595703,
          5.771069526672363,
          5.672574043273926,
          0.2695259749889374,
          0.4099603593349457,
          0.6722594499588013,
          29.539348602294922,
          29.427114486694336,
          29.83991050720215,
          29.977115631103516,
          30.05854034423828,
          -11.117409706115723,
          -10.941526412963867,
          -11.441383361816406,
          -11.397589683532715,
          -10.642410278320312,
          34.77273178100586,
          34.4918098449707,
          34.9589958190918,
          34.32147979736328,
          34.653560638427734,
          13.191206932067871,
          12.823463439941406,
          13.053658485412598,
          12.673439979553223,
          13.343169212341309,
          15.64199161529541,
          15.977399826049805,
          16.171133041381836,
          16.2980899810791,
          15.91118335723877,
          7.7935991287231445,
          8.175701141357422,
          8.747200012207031,
          10.874353408813477,
          10.783730506896973,
          10.437907218933105,
          7.93391752243042,
          8.334943771362305,
          9.696796417236328,
          9.628210067749023,
          8.703986167907715
         ],
         "xaxis": "x2",
         "y": [
          4.721562385559082,
          4.221595287322998,
          4.6125898361206055,
          4.396973133087158,
          4.87449312210083,
          -10.346094131469727,
          -10.181854248046875,
          -9.714202880859375,
          -9.681224822998047,
          -9.854723930358887,
          -13.88175106048584,
          -14.27038288116455,
          -14.383088111877441,
          -13.930548667907715,
          -14.291496276855469,
          30.019447326660156,
          30.307092666625977,
          30.3032283782959,
          29.95268440246582,
          30.5914306640625,
          -8.689071655273438,
          -8.418268203735352,
          -9.135078430175781,
          -8.47230339050293,
          -9.399040222167969,
          -8.19493579864502,
          -8.072017669677734,
          31.509756088256836,
          31.626428604125977,
          31.858837127685547,
          -1.3066504001617432,
          -1.1947141885757446,
          -1.6071897745132446,
          -1.7450287342071533,
          -1.8260750770568848,
          -32.65959167480469,
          -32.48369216918945,
          -32.983551025390625,
          -32.93976974487305,
          -32.18460464477539,
          26.147340774536133,
          26.428255081176758,
          25.9610538482666,
          26.598581314086914,
          26.266510009765625,
          -0.007243569474667311,
          0.3602837324142456,
          0.1301596462726593,
          0.5102837681770325,
          -0.1596294641494751,
          11.687084197998047,
          11.351908683776855,
          11.158069610595703,
          11.031257629394531,
          11.417786598205566,
          -7.6747283935546875,
          -6.400522708892822,
          -6.386690139770508,
          -7.040355205535889,
          -6.904717445373535,
          -6.621887683868408,
          -6.9357099533081055,
          -7.193138599395752,
          -6.523041248321533,
          -6.622331619262695,
          -6.755290508270264
         ],
         "yaxis": "y2"
        }
       ],
       "layout": {
        "annotations": [
         {
          "font": {
           "size": 16
          },
          "showarrow": false,
          "text": "UMAP Probabilities",
          "x": 0.2425,
          "xanchor": "center",
          "xref": "paper",
          "y": 1,
          "yanchor": "bottom",
          "yref": "paper"
         },
         {
          "font": {
           "size": 16
          },
          "showarrow": false,
          "text": "UMAP Performance metrics",
          "x": 0.7575000000000001,
          "xanchor": "center",
          "xref": "paper",
          "y": 1,
          "yanchor": "bottom",
          "yref": "paper"
         }
        ],
        "coloraxis": {
         "colorscale": [
          [
           0,
           "#440154"
          ],
          [
           0.1111111111111111,
           "#482878"
          ],
          [
           0.2222222222222222,
           "#3e4989"
          ],
          [
           0.3333333333333333,
           "#31688e"
          ],
          [
           0.4444444444444444,
           "#26828e"
          ],
          [
           0.5555555555555556,
           "#1f9e89"
          ],
          [
           0.6666666666666666,
           "#35b779"
          ],
          [
           0.7777777777777778,
           "#6ece58"
          ],
          [
           0.8888888888888888,
           "#b5de2b"
          ],
          [
           1,
           "#fde725"
          ]
         ]
        },
        "height": 600,
        "hoverlabel": {
         "bgcolor": "white",
         "font": {
          "family": "Rockwell",
          "size": 14
         }
        },
        "hovermode": "closest",
        "showlegend": false,
        "template": {
         "data": {
          "bar": [
           {
            "error_x": {
             "color": "#2a3f5f"
            },
            "error_y": {
             "color": "#2a3f5f"
            },
            "marker": {
             "line": {
              "color": "#E5ECF6",
              "width": 0.5
             },
             "pattern": {
              "fillmode": "overlay",
              "size": 10,
              "solidity": 0.2
             }
            },
            "type": "bar"
           }
          ],
          "barpolar": [
           {
            "marker": {
             "line": {
              "color": "#E5ECF6",
              "width": 0.5
             },
             "pattern": {
              "fillmode": "overlay",
              "size": 10,
              "solidity": 0.2
             }
            },
            "type": "barpolar"
           }
          ],
          "carpet": [
           {
            "aaxis": {
             "endlinecolor": "#2a3f5f",
             "gridcolor": "white",
             "linecolor": "white",
             "minorgridcolor": "white",
             "startlinecolor": "#2a3f5f"
            },
            "baxis": {
             "endlinecolor": "#2a3f5f",
             "gridcolor": "white",
             "linecolor": "white",
             "minorgridcolor": "white",
             "startlinecolor": "#2a3f5f"
            },
            "type": "carpet"
           }
          ],
          "choropleth": [
           {
            "colorbar": {
             "outlinewidth": 0,
             "ticks": ""
            },
            "type": "choropleth"
           }
          ],
          "contour": [
           {
            "colorbar": {
             "outlinewidth": 0,
             "ticks": ""
            },
            "colorscale": [
             [
              0,
              "#0d0887"
             ],
             [
              0.1111111111111111,
              "#46039f"
             ],
             [
              0.2222222222222222,
              "#7201a8"
             ],
             [
              0.3333333333333333,
              "#9c179e"
             ],
             [
              0.4444444444444444,
              "#bd3786"
             ],
             [
              0.5555555555555556,
              "#d8576b"
             ],
             [
              0.6666666666666666,
              "#ed7953"
             ],
             [
              0.7777777777777778,
              "#fb9f3a"
             ],
             [
              0.8888888888888888,
              "#fdca26"
             ],
             [
              1,
              "#f0f921"
             ]
            ],
            "type": "contour"
           }
          ],
          "contourcarpet": [
           {
            "colorbar": {
             "outlinewidth": 0,
             "ticks": ""
            },
            "type": "contourcarpet"
           }
          ],
          "heatmap": [
           {
            "colorbar": {
             "outlinewidth": 0,
             "ticks": ""
            },
            "colorscale": [
             [
              0,
              "#0d0887"
             ],
             [
              0.1111111111111111,
              "#46039f"
             ],
             [
              0.2222222222222222,
              "#7201a8"
             ],
             [
              0.3333333333333333,
              "#9c179e"
             ],
             [
              0.4444444444444444,
              "#bd3786"
             ],
             [
              0.5555555555555556,
              "#d8576b"
             ],
             [
              0.6666666666666666,
              "#ed7953"
             ],
             [
              0.7777777777777778,
              "#fb9f3a"
             ],
             [
              0.8888888888888888,
              "#fdca26"
             ],
             [
              1,
              "#f0f921"
             ]
            ],
            "type": "heatmap"
           }
          ],
          "heatmapgl": [
           {
            "colorbar": {
             "outlinewidth": 0,
             "ticks": ""
            },
            "colorscale": [
             [
              0,
              "#0d0887"
             ],
             [
              0.1111111111111111,
              "#46039f"
             ],
             [
              0.2222222222222222,
              "#7201a8"
             ],
             [
              0.3333333333333333,
              "#9c179e"
             ],
             [
              0.4444444444444444,
              "#bd3786"
             ],
             [
              0.5555555555555556,
              "#d8576b"
             ],
             [
              0.6666666666666666,
              "#ed7953"
             ],
             [
              0.7777777777777778,
              "#fb9f3a"
             ],
             [
              0.8888888888888888,
              "#fdca26"
             ],
             [
              1,
              "#f0f921"
             ]
            ],
            "type": "heatmapgl"
           }
          ],
          "histogram": [
           {
            "marker": {
             "pattern": {
              "fillmode": "overlay",
              "size": 10,
              "solidity": 0.2
             }
            },
            "type": "histogram"
           }
          ],
          "histogram2d": [
           {
            "colorbar": {
             "outlinewidth": 0,
             "ticks": ""
            },
            "colorscale": [
             [
              0,
              "#0d0887"
             ],
             [
              0.1111111111111111,
              "#46039f"
             ],
             [
              0.2222222222222222,
              "#7201a8"
             ],
             [
              0.3333333333333333,
              "#9c179e"
             ],
             [
              0.4444444444444444,
              "#bd3786"
             ],
             [
              0.5555555555555556,
              "#d8576b"
             ],
             [
              0.6666666666666666,
              "#ed7953"
             ],
             [
              0.7777777777777778,
              "#fb9f3a"
             ],
             [
              0.8888888888888888,
              "#fdca26"
             ],
             [
              1,
              "#f0f921"
             ]
            ],
            "type": "histogram2d"
           }
          ],
          "histogram2dcontour": [
           {
            "colorbar": {
             "outlinewidth": 0,
             "ticks": ""
            },
            "colorscale": [
             [
              0,
              "#0d0887"
             ],
             [
              0.1111111111111111,
              "#46039f"
             ],
             [
              0.2222222222222222,
              "#7201a8"
             ],
             [
              0.3333333333333333,
              "#9c179e"
             ],
             [
              0.4444444444444444,
              "#bd3786"
             ],
             [
              0.5555555555555556,
              "#d8576b"
             ],
             [
              0.6666666666666666,
              "#ed7953"
             ],
             [
              0.7777777777777778,
              "#fb9f3a"
             ],
             [
              0.8888888888888888,
              "#fdca26"
             ],
             [
              1,
              "#f0f921"
             ]
            ],
            "type": "histogram2dcontour"
           }
          ],
          "mesh3d": [
           {
            "colorbar": {
             "outlinewidth": 0,
             "ticks": ""
            },
            "type": "mesh3d"
           }
          ],
          "parcoords": [
           {
            "line": {
             "colorbar": {
              "outlinewidth": 0,
              "ticks": ""
             }
            },
            "type": "parcoords"
           }
          ],
          "pie": [
           {
            "automargin": true,
            "type": "pie"
           }
          ],
          "scatter": [
           {
            "fillpattern": {
             "fillmode": "overlay",
             "size": 10,
             "solidity": 0.2
            },
            "type": "scatter"
           }
          ],
          "scatter3d": [
           {
            "line": {
             "colorbar": {
              "outlinewidth": 0,
              "ticks": ""
             }
            },
            "marker": {
             "colorbar": {
              "outlinewidth": 0,
              "ticks": ""
             }
            },
            "type": "scatter3d"
           }
          ],
          "scattercarpet": [
           {
            "marker": {
             "colorbar": {
              "outlinewidth": 0,
              "ticks": ""
             }
            },
            "type": "scattercarpet"
           }
          ],
          "scattergeo": [
           {
            "marker": {
             "colorbar": {
              "outlinewidth": 0,
              "ticks": ""
             }
            },
            "type": "scattergeo"
           }
          ],
          "scattergl": [
           {
            "marker": {
             "colorbar": {
              "outlinewidth": 0,
              "ticks": ""
             }
            },
            "type": "scattergl"
           }
          ],
          "scattermapbox": [
           {
            "marker": {
             "colorbar": {
              "outlinewidth": 0,
              "ticks": ""
             }
            },
            "type": "scattermapbox"
           }
          ],
          "scatterpolar": [
           {
            "marker": {
             "colorbar": {
              "outlinewidth": 0,
              "ticks": ""
             }
            },
            "type": "scatterpolar"
           }
          ],
          "scatterpolargl": [
           {
            "marker": {
             "colorbar": {
              "outlinewidth": 0,
              "ticks": ""
             }
            },
            "type": "scatterpolargl"
           }
          ],
          "scatterternary": [
           {
            "marker": {
             "colorbar": {
              "outlinewidth": 0,
              "ticks": ""
             }
            },
            "type": "scatterternary"
           }
          ],
          "surface": [
           {
            "colorbar": {
             "outlinewidth": 0,
             "ticks": ""
            },
            "colorscale": [
             [
              0,
              "#0d0887"
             ],
             [
              0.1111111111111111,
              "#46039f"
             ],
             [
              0.2222222222222222,
              "#7201a8"
             ],
             [
              0.3333333333333333,
              "#9c179e"
             ],
             [
              0.4444444444444444,
              "#bd3786"
             ],
             [
              0.5555555555555556,
              "#d8576b"
             ],
             [
              0.6666666666666666,
              "#ed7953"
             ],
             [
              0.7777777777777778,
              "#fb9f3a"
             ],
             [
              0.8888888888888888,
              "#fdca26"
             ],
             [
              1,
              "#f0f921"
             ]
            ],
            "type": "surface"
           }
          ],
          "table": [
           {
            "cells": {
             "fill": {
              "color": "#EBF0F8"
             },
             "line": {
              "color": "white"
             }
            },
            "header": {
             "fill": {
              "color": "#C8D4E3"
             },
             "line": {
              "color": "white"
             }
            },
            "type": "table"
           }
          ]
         },
         "layout": {
          "annotationdefaults": {
           "arrowcolor": "#2a3f5f",
           "arrowhead": 0,
           "arrowwidth": 1
          },
          "autotypenumbers": "strict",
          "coloraxis": {
           "colorbar": {
            "outlinewidth": 0,
            "ticks": ""
           }
          },
          "colorscale": {
           "diverging": [
            [
             0,
             "#8e0152"
            ],
            [
             0.1,
             "#c51b7d"
            ],
            [
             0.2,
             "#de77ae"
            ],
            [
             0.3,
             "#f1b6da"
            ],
            [
             0.4,
             "#fde0ef"
            ],
            [
             0.5,
             "#f7f7f7"
            ],
            [
             0.6,
             "#e6f5d0"
            ],
            [
             0.7,
             "#b8e186"
            ],
            [
             0.8,
             "#7fbc41"
            ],
            [
             0.9,
             "#4d9221"
            ],
            [
             1,
             "#276419"
            ]
           ],
           "sequential": [
            [
             0,
             "#0d0887"
            ],
            [
             0.1111111111111111,
             "#46039f"
            ],
            [
             0.2222222222222222,
             "#7201a8"
            ],
            [
             0.3333333333333333,
             "#9c179e"
            ],
            [
             0.4444444444444444,
             "#bd3786"
            ],
            [
             0.5555555555555556,
             "#d8576b"
            ],
            [
             0.6666666666666666,
             "#ed7953"
            ],
            [
             0.7777777777777778,
             "#fb9f3a"
            ],
            [
             0.8888888888888888,
             "#fdca26"
            ],
            [
             1,
             "#f0f921"
            ]
           ],
           "sequentialminus": [
            [
             0,
             "#0d0887"
            ],
            [
             0.1111111111111111,
             "#46039f"
            ],
            [
             0.2222222222222222,
             "#7201a8"
            ],
            [
             0.3333333333333333,
             "#9c179e"
            ],
            [
             0.4444444444444444,
             "#bd3786"
            ],
            [
             0.5555555555555556,
             "#d8576b"
            ],
            [
             0.6666666666666666,
             "#ed7953"
            ],
            [
             0.7777777777777778,
             "#fb9f3a"
            ],
            [
             0.8888888888888888,
             "#fdca26"
            ],
            [
             1,
             "#f0f921"
            ]
           ]
          },
          "colorway": [
           "#636efa",
           "#EF553B",
           "#00cc96",
           "#ab63fa",
           "#FFA15A",
           "#19d3f3",
           "#FF6692",
           "#B6E880",
           "#FF97FF",
           "#FECB52"
          ],
          "font": {
           "color": "#2a3f5f"
          },
          "geo": {
           "bgcolor": "white",
           "lakecolor": "white",
           "landcolor": "#E5ECF6",
           "showlakes": true,
           "showland": true,
           "subunitcolor": "white"
          },
          "hoverlabel": {
           "align": "left"
          },
          "hovermode": "closest",
          "mapbox": {
           "style": "light"
          },
          "paper_bgcolor": "white",
          "plot_bgcolor": "#E5ECF6",
          "polar": {
           "angularaxis": {
            "gridcolor": "white",
            "linecolor": "white",
            "ticks": ""
           },
           "bgcolor": "#E5ECF6",
           "radialaxis": {
            "gridcolor": "white",
            "linecolor": "white",
            "ticks": ""
           }
          },
          "scene": {
           "xaxis": {
            "backgroundcolor": "#E5ECF6",
            "gridcolor": "white",
            "gridwidth": 2,
            "linecolor": "white",
            "showbackground": true,
            "ticks": "",
            "zerolinecolor": "white"
           },
           "yaxis": {
            "backgroundcolor": "#E5ECF6",
            "gridcolor": "white",
            "gridwidth": 2,
            "linecolor": "white",
            "showbackground": true,
            "ticks": "",
            "zerolinecolor": "white"
           },
           "zaxis": {
            "backgroundcolor": "#E5ECF6",
            "gridcolor": "white",
            "gridwidth": 2,
            "linecolor": "white",
            "showbackground": true,
            "ticks": "",
            "zerolinecolor": "white"
           }
          },
          "shapedefaults": {
           "line": {
            "color": "#2a3f5f"
           }
          },
          "ternary": {
           "aaxis": {
            "gridcolor": "white",
            "linecolor": "white",
            "ticks": ""
           },
           "baxis": {
            "gridcolor": "white",
            "linecolor": "white",
            "ticks": ""
           },
           "bgcolor": "#E5ECF6",
           "caxis": {
            "gridcolor": "white",
            "linecolor": "white",
            "ticks": ""
           }
          },
          "title": {
           "x": 0.05
          },
          "xaxis": {
           "automargin": true,
           "gridcolor": "white",
           "linecolor": "white",
           "ticks": "",
           "title": {
            "standoff": 15
           },
           "zerolinecolor": "white",
           "zerolinewidth": 2
          },
          "yaxis": {
           "automargin": true,
           "gridcolor": "white",
           "linecolor": "white",
           "ticks": "",
           "title": {
            "standoff": 15
           },
           "zerolinecolor": "white",
           "zerolinewidth": 2
          }
         }
        },
        "width": 1200,
        "xaxis": {
         "anchor": "y",
         "domain": [
          0,
          0.485
         ],
         "showticklabels": false
        },
        "xaxis2": {
         "anchor": "y2",
         "domain": [
          0.515,
          1
         ],
         "matches": "x"
        },
        "yaxis": {
         "anchor": "x",
         "domain": [
          0,
          1
         ],
         "showticklabels": false
        },
        "yaxis2": {
         "anchor": "x2",
         "domain": [
          0,
          1
         ],
         "matches": "y",
         "showticklabels": false
        }
       }
      }
     },
     "metadata": {},
     "output_type": "display_data"
    }
   ],
   "source": [
    "fig = go.Figure()\n",
    "\n",
    "symbols = ['circle', 'square', 'x', 'cross', 'diamond', 'star', 'hexagram', 'triangle-right', 'triangle-left', 'triangle-down', 'triangle-up']\n",
    "# convert symbols to dictionary with keys from 1 to 11\n",
    "symbols_dict = dict(zip(range(1, 12), symbols))\n",
    "\n",
    "fig = make_subplots(rows=1, cols=2, subplot_titles=('UMAP Probabilities', 'UMAP Performance metrics'), shared_yaxes='all', shared_xaxes='all',\n",
    "                    vertical_spacing=0.03, horizontal_spacing=0.03, specs=[[{'type': 'xy'}, {'type': 'xy'}]])\n",
    "\n",
    "# Plot UMAP, add hovertext and symbols, define colorscale by performance, add title\n",
    "fig.add_trace(go.Scatter(x=df_model_all['UMAP_1_prob'], y=df_model_all['UMAP_2_prob'], mode='markers', hovertext=df_model_all['text'], \n",
    "            marker=dict(size=df_model_all['size']*20, symbol = df_model_all['algorithm_id'].map(symbols_dict), \n",
    "            color=df_model_all['overall_performance'], coloraxis='coloraxis')), row=1, col=1)\n",
    "fig.add_trace(go.Scatter(x=df_model_all['UMAP_1_metrics'], y=df_model_all['UMAP_2_metrics'], mode='markers', hovertext=df_model_all['text'], \n",
    "            marker=dict(size=df_model_all['size']*20, symbol = df_model_all['algorithm_id'].map(symbols_dict), \n",
    "            color=df_model_all['overall_performance'], coloraxis='coloraxis')), row=1, col=2)\n",
    "\n",
    "# remove axes labels\n",
    "\n",
    "fig.update_layout(xaxis_showticklabels=False, yaxis_showticklabels=False)\n",
    "fig.update_traces(marker=dict(opacity=0.8, line=dict(width=1, color='Black')), selector=dict(mode='markers'))\n",
    "# define symbols for markers based on symbols defined\n",
    "fig.update_layout(hoverlabel=dict(bgcolor=\"white\", font_size=14, font_family=\"Rockwell\"), hovermode='closest')\n",
    "# define plot as square\n",
    "fig.update_layout(width=1200, height=600)\n",
    "# add tooltip\n",
    "fig.update_layout(hovermode='closest')\n",
    "fig.update_layout(coloraxis=dict(colorscale='Viridis'), showlegend=False)\n",
    "\n",
    "fig.show()"
   ]
  },
  {
   "cell_type": "markdown",
   "metadata": {},
   "source": [
    "### Scatter plot matrix with Correlation"
   ]
  },
  {
   "cell_type": "markdown",
   "metadata": {},
   "source": [
    "We will operate further only with prediction results, which are not the same for the all 11 meta models; the main idea is to investigate teh differencies and combinations of different metamodels. That can be cosidered as feature engineering to df_pred_meta dataframe (dataframe with all 11 meta models predictions per instance) to keep only the columns, which are not the same for all 11 meta models."
   ]
  },
  {
   "cell_type": "code",
   "execution_count": null,
   "metadata": {},
   "outputs": [
    {
     "data": {
      "text/html": [
       "<div>\n",
       "<style scoped>\n",
       "    .dataframe tbody tr th:only-of-type {\n",
       "        vertical-align: middle;\n",
       "    }\n",
       "\n",
       "    .dataframe tbody tr th {\n",
       "        vertical-align: top;\n",
       "    }\n",
       "\n",
       "    .dataframe thead th {\n",
       "        text-align: right;\n",
       "    }\n",
       "</style>\n",
       "<table border=\"1\" class=\"dataframe\">\n",
       "  <thead>\n",
       "    <tr style=\"text-align: right;\">\n",
       "      <th></th>\n",
       "      <th>0</th>\n",
       "      <th>20</th>\n",
       "      <th>23</th>\n",
       "      <th>34</th>\n",
       "      <th>42</th>\n",
       "      <th>52</th>\n",
       "      <th>57</th>\n",
       "      <th>73</th>\n",
       "      <th>91</th>\n",
       "      <th>95</th>\n",
       "      <th>...</th>\n",
       "      <th>278</th>\n",
       "      <th>281</th>\n",
       "      <th>282</th>\n",
       "      <th>283</th>\n",
       "      <th>286</th>\n",
       "      <th>287</th>\n",
       "      <th>293</th>\n",
       "      <th>296</th>\n",
       "      <th>299</th>\n",
       "      <th>302</th>\n",
       "    </tr>\n",
       "  </thead>\n",
       "  <tbody>\n",
       "    <tr>\n",
       "      <th>0</th>\n",
       "      <td>0</td>\n",
       "      <td>0</td>\n",
       "      <td>0</td>\n",
       "      <td>0</td>\n",
       "      <td>1</td>\n",
       "      <td>1</td>\n",
       "      <td>0</td>\n",
       "      <td>0</td>\n",
       "      <td>0</td>\n",
       "      <td>1</td>\n",
       "      <td>...</td>\n",
       "      <td>0</td>\n",
       "      <td>1</td>\n",
       "      <td>0</td>\n",
       "      <td>0</td>\n",
       "      <td>0</td>\n",
       "      <td>0</td>\n",
       "      <td>0</td>\n",
       "      <td>0</td>\n",
       "      <td>0</td>\n",
       "      <td>0</td>\n",
       "    </tr>\n",
       "    <tr>\n",
       "      <th>1</th>\n",
       "      <td>0</td>\n",
       "      <td>0</td>\n",
       "      <td>0</td>\n",
       "      <td>0</td>\n",
       "      <td>1</td>\n",
       "      <td>1</td>\n",
       "      <td>0</td>\n",
       "      <td>0</td>\n",
       "      <td>0</td>\n",
       "      <td>1</td>\n",
       "      <td>...</td>\n",
       "      <td>0</td>\n",
       "      <td>1</td>\n",
       "      <td>1</td>\n",
       "      <td>1</td>\n",
       "      <td>0</td>\n",
       "      <td>0</td>\n",
       "      <td>1</td>\n",
       "      <td>1</td>\n",
       "      <td>1</td>\n",
       "      <td>0</td>\n",
       "    </tr>\n",
       "    <tr>\n",
       "      <th>2</th>\n",
       "      <td>0</td>\n",
       "      <td>0</td>\n",
       "      <td>0</td>\n",
       "      <td>0</td>\n",
       "      <td>1</td>\n",
       "      <td>1</td>\n",
       "      <td>0</td>\n",
       "      <td>0</td>\n",
       "      <td>1</td>\n",
       "      <td>1</td>\n",
       "      <td>...</td>\n",
       "      <td>0</td>\n",
       "      <td>1</td>\n",
       "      <td>1</td>\n",
       "      <td>1</td>\n",
       "      <td>0</td>\n",
       "      <td>1</td>\n",
       "      <td>1</td>\n",
       "      <td>1</td>\n",
       "      <td>1</td>\n",
       "      <td>0</td>\n",
       "    </tr>\n",
       "    <tr>\n",
       "      <th>3</th>\n",
       "      <td>0</td>\n",
       "      <td>0</td>\n",
       "      <td>0</td>\n",
       "      <td>0</td>\n",
       "      <td>0</td>\n",
       "      <td>0</td>\n",
       "      <td>0</td>\n",
       "      <td>0</td>\n",
       "      <td>0</td>\n",
       "      <td>0</td>\n",
       "      <td>...</td>\n",
       "      <td>1</td>\n",
       "      <td>1</td>\n",
       "      <td>1</td>\n",
       "      <td>1</td>\n",
       "      <td>1</td>\n",
       "      <td>1</td>\n",
       "      <td>1</td>\n",
       "      <td>1</td>\n",
       "      <td>1</td>\n",
       "      <td>1</td>\n",
       "    </tr>\n",
       "    <tr>\n",
       "      <th>4</th>\n",
       "      <td>0</td>\n",
       "      <td>0</td>\n",
       "      <td>0</td>\n",
       "      <td>0</td>\n",
       "      <td>0</td>\n",
       "      <td>0</td>\n",
       "      <td>0</td>\n",
       "      <td>0</td>\n",
       "      <td>0</td>\n",
       "      <td>0</td>\n",
       "      <td>...</td>\n",
       "      <td>1</td>\n",
       "      <td>1</td>\n",
       "      <td>1</td>\n",
       "      <td>1</td>\n",
       "      <td>1</td>\n",
       "      <td>1</td>\n",
       "      <td>1</td>\n",
       "      <td>1</td>\n",
       "      <td>1</td>\n",
       "      <td>1</td>\n",
       "    </tr>\n",
       "    <tr>\n",
       "      <th>5</th>\n",
       "      <td>0</td>\n",
       "      <td>0</td>\n",
       "      <td>0</td>\n",
       "      <td>0</td>\n",
       "      <td>0</td>\n",
       "      <td>0</td>\n",
       "      <td>0</td>\n",
       "      <td>0</td>\n",
       "      <td>0</td>\n",
       "      <td>0</td>\n",
       "      <td>...</td>\n",
       "      <td>1</td>\n",
       "      <td>1</td>\n",
       "      <td>1</td>\n",
       "      <td>1</td>\n",
       "      <td>1</td>\n",
       "      <td>1</td>\n",
       "      <td>1</td>\n",
       "      <td>1</td>\n",
       "      <td>1</td>\n",
       "      <td>1</td>\n",
       "    </tr>\n",
       "    <tr>\n",
       "      <th>6</th>\n",
       "      <td>0</td>\n",
       "      <td>0</td>\n",
       "      <td>0</td>\n",
       "      <td>0</td>\n",
       "      <td>1</td>\n",
       "      <td>1</td>\n",
       "      <td>0</td>\n",
       "      <td>0</td>\n",
       "      <td>0</td>\n",
       "      <td>1</td>\n",
       "      <td>...</td>\n",
       "      <td>0</td>\n",
       "      <td>1</td>\n",
       "      <td>1</td>\n",
       "      <td>0</td>\n",
       "      <td>0</td>\n",
       "      <td>0</td>\n",
       "      <td>1</td>\n",
       "      <td>1</td>\n",
       "      <td>0</td>\n",
       "      <td>0</td>\n",
       "    </tr>\n",
       "    <tr>\n",
       "      <th>7</th>\n",
       "      <td>0</td>\n",
       "      <td>0</td>\n",
       "      <td>1</td>\n",
       "      <td>0</td>\n",
       "      <td>1</td>\n",
       "      <td>1</td>\n",
       "      <td>0</td>\n",
       "      <td>0</td>\n",
       "      <td>1</td>\n",
       "      <td>1</td>\n",
       "      <td>...</td>\n",
       "      <td>1</td>\n",
       "      <td>1</td>\n",
       "      <td>1</td>\n",
       "      <td>1</td>\n",
       "      <td>0</td>\n",
       "      <td>1</td>\n",
       "      <td>0</td>\n",
       "      <td>0</td>\n",
       "      <td>1</td>\n",
       "      <td>0</td>\n",
       "    </tr>\n",
       "    <tr>\n",
       "      <th>8</th>\n",
       "      <td>0</td>\n",
       "      <td>0</td>\n",
       "      <td>0</td>\n",
       "      <td>0</td>\n",
       "      <td>1</td>\n",
       "      <td>1</td>\n",
       "      <td>0</td>\n",
       "      <td>0</td>\n",
       "      <td>0</td>\n",
       "      <td>1</td>\n",
       "      <td>...</td>\n",
       "      <td>1</td>\n",
       "      <td>1</td>\n",
       "      <td>1</td>\n",
       "      <td>1</td>\n",
       "      <td>1</td>\n",
       "      <td>1</td>\n",
       "      <td>1</td>\n",
       "      <td>1</td>\n",
       "      <td>1</td>\n",
       "      <td>1</td>\n",
       "    </tr>\n",
       "    <tr>\n",
       "      <th>9</th>\n",
       "      <td>1</td>\n",
       "      <td>1</td>\n",
       "      <td>0</td>\n",
       "      <td>1</td>\n",
       "      <td>0</td>\n",
       "      <td>1</td>\n",
       "      <td>1</td>\n",
       "      <td>1</td>\n",
       "      <td>0</td>\n",
       "      <td>1</td>\n",
       "      <td>...</td>\n",
       "      <td>1</td>\n",
       "      <td>0</td>\n",
       "      <td>1</td>\n",
       "      <td>1</td>\n",
       "      <td>1</td>\n",
       "      <td>1</td>\n",
       "      <td>1</td>\n",
       "      <td>1</td>\n",
       "      <td>1</td>\n",
       "      <td>1</td>\n",
       "    </tr>\n",
       "    <tr>\n",
       "      <th>10</th>\n",
       "      <td>0</td>\n",
       "      <td>0</td>\n",
       "      <td>0</td>\n",
       "      <td>1</td>\n",
       "      <td>1</td>\n",
       "      <td>1</td>\n",
       "      <td>0</td>\n",
       "      <td>0</td>\n",
       "      <td>0</td>\n",
       "      <td>1</td>\n",
       "      <td>...</td>\n",
       "      <td>1</td>\n",
       "      <td>1</td>\n",
       "      <td>1</td>\n",
       "      <td>0</td>\n",
       "      <td>0</td>\n",
       "      <td>1</td>\n",
       "      <td>0</td>\n",
       "      <td>1</td>\n",
       "      <td>1</td>\n",
       "      <td>1</td>\n",
       "    </tr>\n",
       "  </tbody>\n",
       "</table>\n",
       "<p>11 rows × 51 columns</p>\n",
       "</div>"
      ],
      "text/plain": [
       "    0    20   23   34   42   52   57   73   91   95   ...  278  281  282  283  \\\n",
       "0     0    0    0    0    1    1    0    0    0    1  ...    0    1    0    0   \n",
       "1     0    0    0    0    1    1    0    0    0    1  ...    0    1    1    1   \n",
       "2     0    0    0    0    1    1    0    0    1    1  ...    0    1    1    1   \n",
       "3     0    0    0    0    0    0    0    0    0    0  ...    1    1    1    1   \n",
       "4     0    0    0    0    0    0    0    0    0    0  ...    1    1    1    1   \n",
       "5     0    0    0    0    0    0    0    0    0    0  ...    1    1    1    1   \n",
       "6     0    0    0    0    1    1    0    0    0    1  ...    0    1    1    0   \n",
       "7     0    0    1    0    1    1    0    0    1    1  ...    1    1    1    1   \n",
       "8     0    0    0    0    1    1    0    0    0    1  ...    1    1    1    1   \n",
       "9     1    1    0    1    0    1    1    1    0    1  ...    1    0    1    1   \n",
       "10    0    0    0    1    1    1    0    0    0    1  ...    1    1    1    0   \n",
       "\n",
       "    286  287  293  296  299  302  \n",
       "0     0    0    0    0    0    0  \n",
       "1     0    0    1    1    1    0  \n",
       "2     0    1    1    1    1    0  \n",
       "3     1    1    1    1    1    1  \n",
       "4     1    1    1    1    1    1  \n",
       "5     1    1    1    1    1    1  \n",
       "6     0    0    1    1    0    0  \n",
       "7     0    1    0    0    1    0  \n",
       "8     1    1    1    1    1    1  \n",
       "9     1    1    1    1    1    1  \n",
       "10    0    1    0    1    1    1  \n",
       "\n",
       "[11 rows x 51 columns]"
      ]
     },
     "execution_count": 359,
     "metadata": {},
     "output_type": "execute_result"
    }
   ],
   "source": [
    "# find columns in df_pred_meta with the not the same values in the whole column\n",
    "df_pred_meta_red = df_pred_meta.copy()\n",
    "df_pred_meta_red = df_pred_meta_red.loc[:, df_pred_meta_red.apply(pd.Series.nunique, axis=0) != 1]\n",
    "df_pred_meta_red"
   ]
  },
  {
   "cell_type": "code",
   "execution_count": null,
   "metadata": {},
   "outputs": [
    {
     "data": {
      "application/vnd.plotly.v1+json": {
       "config": {
        "plotlyServerURL": "https://plot.ly"
       },
       "data": [
        {
         "marker": {
          "color": [
           "rgb(0, 0, 0)",
           "rgb(16, 16, 16)",
           "rgb(38, 38, 38)",
           "rgb(59, 59, 59)",
           "rgb(81, 80, 80)",
           "rgb(102, 101, 101)",
           "rgb(124, 123, 122)",
           "rgb(146, 146, 145)",
           "rgb(171, 171, 170)",
           "rgb(197, 197, 195)",
           "rgb(224, 224, 223)",
           "rgb(254, 254, 253)"
          ]
         },
         "name": "meta_model_knn",
         "type": "bar",
         "x": [
          "mean_test_accuracy",
          "mean_test_precision_weighted",
          "mean_test_recall_weighted",
          "mean_test_roc_auc_ovo_weighted",
          "geometric_mean_score_weighted",
          "matthews_corrcoef",
          "f1_weighted"
         ],
         "xaxis": "x",
         "y": [
          89.11,
          89.41,
          89.11,
          88.58,
          88.58,
          78.24,
          89.03
         ],
         "yaxis": "y"
        },
        {
         "marker": {
          "color": [
           "rgb(0, 0, 0)",
           "rgb(16, 16, 16)",
           "rgb(38, 38, 38)",
           "rgb(59, 59, 59)",
           "rgb(81, 80, 80)",
           "rgb(102, 101, 101)",
           "rgb(124, 123, 122)",
           "rgb(146, 146, 145)",
           "rgb(171, 171, 170)",
           "rgb(197, 197, 195)",
           "rgb(224, 224, 223)",
           "rgb(254, 254, 253)"
          ]
         },
         "name": "meta_model_svm",
         "type": "bar",
         "x": [
          "mean_test_accuracy",
          "mean_test_precision_weighted",
          "mean_test_recall_weighted",
          "mean_test_roc_auc_ovo_weighted",
          "geometric_mean_score_weighted",
          "matthews_corrcoef",
          "f1_weighted"
         ],
         "xaxis": "x13",
         "y": [
          93.4,
          93.4,
          93.4,
          93.29,
          93.29,
          86.68,
          93.4
         ],
         "yaxis": "y13"
        },
        {
         "marker": {
          "color": [
           "rgb(0, 0, 0)",
           "rgb(16, 16, 16)",
           "rgb(38, 38, 38)",
           "rgb(59, 59, 59)",
           "rgb(81, 80, 80)",
           "rgb(102, 101, 101)",
           "rgb(124, 123, 122)",
           "rgb(146, 146, 145)",
           "rgb(171, 171, 170)",
           "rgb(197, 197, 195)",
           "rgb(224, 224, 223)",
           "rgb(254, 254, 253)"
          ]
         },
         "name": "meta_model_gnb",
         "type": "bar",
         "x": [
          "mean_test_accuracy",
          "mean_test_precision_weighted",
          "mean_test_recall_weighted",
          "mean_test_roc_auc_ovo_weighted",
          "geometric_mean_score_weighted",
          "matthews_corrcoef",
          "f1_weighted"
         ],
         "xaxis": "x25",
         "y": [
          94.06,
          94.07,
          94.06,
          94.07,
          94.07,
          88.05,
          94.06
         ],
         "yaxis": "y25"
        },
        {
         "marker": {
          "color": [
           "rgb(0, 0, 0)",
           "rgb(16, 16, 16)",
           "rgb(38, 38, 38)",
           "rgb(59, 59, 59)",
           "rgb(81, 80, 80)",
           "rgb(102, 101, 101)",
           "rgb(124, 123, 122)",
           "rgb(146, 146, 145)",
           "rgb(171, 171, 170)",
           "rgb(197, 197, 195)",
           "rgb(224, 224, 223)",
           "rgb(254, 254, 253)"
          ]
         },
         "name": "meta_model_mlp",
         "type": "bar",
         "x": [
          "mean_test_accuracy",
          "mean_test_precision_weighted",
          "mean_test_recall_weighted",
          "mean_test_roc_auc_ovo_weighted",
          "geometric_mean_score_weighted",
          "matthews_corrcoef",
          "f1_weighted"
         ],
         "xaxis": "x37",
         "y": [
          100,
          100,
          100,
          100,
          100,
          100,
          100
         ],
         "yaxis": "y37"
        },
        {
         "marker": {
          "color": [
           "rgb(0, 0, 0)",
           "rgb(16, 16, 16)",
           "rgb(38, 38, 38)",
           "rgb(59, 59, 59)",
           "rgb(81, 80, 80)",
           "rgb(102, 101, 101)",
           "rgb(124, 123, 122)",
           "rgb(146, 146, 145)",
           "rgb(171, 171, 170)",
           "rgb(197, 197, 195)",
           "rgb(224, 224, 223)",
           "rgb(254, 254, 253)"
          ]
         },
         "name": "meta_model_lr",
         "type": "bar",
         "x": [
          "mean_test_accuracy",
          "mean_test_precision_weighted",
          "mean_test_recall_weighted",
          "mean_test_roc_auc_ovo_weighted",
          "geometric_mean_score_weighted",
          "matthews_corrcoef",
          "f1_weighted"
         ],
         "xaxis": "x49",
         "y": [
          100,
          100,
          100,
          100,
          100,
          100,
          100
         ],
         "yaxis": "y49"
        },
        {
         "marker": {
          "color": [
           "rgb(0, 0, 0)",
           "rgb(16, 16, 16)",
           "rgb(38, 38, 38)",
           "rgb(59, 59, 59)",
           "rgb(81, 80, 80)",
           "rgb(102, 101, 101)",
           "rgb(124, 123, 122)",
           "rgb(146, 146, 145)",
           "rgb(171, 171, 170)",
           "rgb(197, 197, 195)",
           "rgb(224, 224, 223)",
           "rgb(254, 254, 253)"
          ]
         },
         "name": "meta_model_lda",
         "type": "bar",
         "x": [
          "mean_test_accuracy",
          "mean_test_precision_weighted",
          "mean_test_recall_weighted",
          "mean_test_roc_auc_ovo_weighted",
          "geometric_mean_score_weighted",
          "matthews_corrcoef",
          "f1_weighted"
         ],
         "xaxis": "x61",
         "y": [
          99.01,
          99.01,
          99.01,
          98.97,
          98.97,
          98,
          99.01
         ],
         "yaxis": "y61"
        },
        {
         "marker": {
          "color": [
           "rgb(0, 0, 0)",
           "rgb(16, 16, 16)",
           "rgb(38, 38, 38)",
           "rgb(59, 59, 59)",
           "rgb(81, 80, 80)",
           "rgb(102, 101, 101)",
           "rgb(124, 123, 122)",
           "rgb(146, 146, 145)",
           "rgb(171, 171, 170)",
           "rgb(197, 197, 195)",
           "rgb(224, 224, 223)",
           "rgb(254, 254, 253)"
          ]
         },
         "name": "meta_model_qda",
         "type": "bar",
         "x": [
          "mean_test_accuracy",
          "mean_test_precision_weighted",
          "mean_test_recall_weighted",
          "mean_test_roc_auc_ovo_weighted",
          "geometric_mean_score_weighted",
          "matthews_corrcoef",
          "f1_weighted"
         ],
         "xaxis": "x73",
         "y": [
          92.41,
          92.43,
          92.41,
          92.2,
          92.2,
          84.7,
          92.4
         ],
         "yaxis": "y73"
        },
        {
         "marker": {
          "color": [
           "rgb(0, 0, 0)",
           "rgb(16, 16, 16)",
           "rgb(38, 38, 38)",
           "rgb(59, 59, 59)",
           "rgb(81, 80, 80)",
           "rgb(102, 101, 101)",
           "rgb(124, 123, 122)",
           "rgb(146, 146, 145)",
           "rgb(171, 171, 170)",
           "rgb(197, 197, 195)",
           "rgb(224, 224, 223)",
           "rgb(254, 254, 253)"
          ]
         },
         "name": "meta_model_rf",
         "type": "bar",
         "x": [
          "mean_test_accuracy",
          "mean_test_precision_weighted",
          "mean_test_recall_weighted",
          "mean_test_roc_auc_ovo_weighted",
          "geometric_mean_score_weighted",
          "matthews_corrcoef",
          "f1_weighted"
         ],
         "xaxis": "x85",
         "y": [
          92.08,
          92.08,
          92.08,
          92.02,
          92.02,
          84.03,
          92.08
         ],
         "yaxis": "y85"
        },
        {
         "marker": {
          "color": [
           "rgb(0, 0, 0)",
           "rgb(16, 16, 16)",
           "rgb(38, 38, 38)",
           "rgb(59, 59, 59)",
           "rgb(81, 80, 80)",
           "rgb(102, 101, 101)",
           "rgb(124, 123, 122)",
           "rgb(146, 146, 145)",
           "rgb(171, 171, 170)",
           "rgb(197, 197, 195)",
           "rgb(224, 224, 223)",
           "rgb(254, 254, 253)"
          ]
         },
         "name": "meta_model_et",
         "type": "bar",
         "x": [
          "mean_test_accuracy",
          "mean_test_precision_weighted",
          "mean_test_recall_weighted",
          "mean_test_roc_auc_ovo_weighted",
          "geometric_mean_score_weighted",
          "matthews_corrcoef",
          "f1_weighted"
         ],
         "xaxis": "x97",
         "y": [
          96.7,
          96.85,
          96.7,
          96.91,
          96.91,
          93.51,
          96.71
         ],
         "yaxis": "y97"
        },
        {
         "marker": {
          "color": [
           "rgb(0, 0, 0)",
           "rgb(16, 16, 16)",
           "rgb(38, 38, 38)",
           "rgb(59, 59, 59)",
           "rgb(81, 80, 80)",
           "rgb(102, 101, 101)",
           "rgb(124, 123, 122)",
           "rgb(146, 146, 145)",
           "rgb(171, 171, 170)",
           "rgb(197, 197, 195)",
           "rgb(224, 224, 223)",
           "rgb(254, 254, 253)"
          ]
         },
         "name": "meta_model_ab",
         "type": "bar",
         "x": [
          "mean_test_accuracy",
          "mean_test_precision_weighted",
          "mean_test_recall_weighted",
          "mean_test_roc_auc_ovo_weighted",
          "geometric_mean_score_weighted",
          "matthews_corrcoef",
          "f1_weighted"
         ],
         "xaxis": "x109",
         "y": [
          93.73,
          94.1,
          93.73,
          94.06,
          94.06,
          87.78,
          93.74
         ],
         "yaxis": "y109"
        },
        {
         "marker": {
          "color": [
           "rgb(0, 0, 0)",
           "rgb(16, 16, 16)",
           "rgb(38, 38, 38)",
           "rgb(59, 59, 59)",
           "rgb(81, 80, 80)",
           "rgb(102, 101, 101)",
           "rgb(124, 123, 122)",
           "rgb(146, 146, 145)",
           "rgb(171, 171, 170)",
           "rgb(197, 197, 195)",
           "rgb(224, 224, 223)",
           "rgb(254, 254, 253)"
          ]
         },
         "name": "meta_model_gb",
         "type": "bar",
         "x": [
          "mean_test_accuracy",
          "mean_test_precision_weighted",
          "mean_test_recall_weighted",
          "mean_test_roc_auc_ovo_weighted",
          "geometric_mean_score_weighted",
          "matthews_corrcoef",
          "f1_weighted"
         ],
         "xaxis": "x121",
         "y": [
          94.39,
          94.39,
          94.39,
          94.31,
          94.31,
          88.68,
          94.39
         ],
         "yaxis": "y121"
        }
       ],
       "layout": {
        "height": 1000,
        "showlegend": false,
        "template": {
         "data": {
          "bar": [
           {
            "error_x": {
             "color": "#2a3f5f"
            },
            "error_y": {
             "color": "#2a3f5f"
            },
            "marker": {
             "line": {
              "color": "#E5ECF6",
              "width": 0.5
             },
             "pattern": {
              "fillmode": "overlay",
              "size": 10,
              "solidity": 0.2
             }
            },
            "type": "bar"
           }
          ],
          "barpolar": [
           {
            "marker": {
             "line": {
              "color": "#E5ECF6",
              "width": 0.5
             },
             "pattern": {
              "fillmode": "overlay",
              "size": 10,
              "solidity": 0.2
             }
            },
            "type": "barpolar"
           }
          ],
          "carpet": [
           {
            "aaxis": {
             "endlinecolor": "#2a3f5f",
             "gridcolor": "white",
             "linecolor": "white",
             "minorgridcolor": "white",
             "startlinecolor": "#2a3f5f"
            },
            "baxis": {
             "endlinecolor": "#2a3f5f",
             "gridcolor": "white",
             "linecolor": "white",
             "minorgridcolor": "white",
             "startlinecolor": "#2a3f5f"
            },
            "type": "carpet"
           }
          ],
          "choropleth": [
           {
            "colorbar": {
             "outlinewidth": 0,
             "ticks": ""
            },
            "type": "choropleth"
           }
          ],
          "contour": [
           {
            "colorbar": {
             "outlinewidth": 0,
             "ticks": ""
            },
            "colorscale": [
             [
              0,
              "#0d0887"
             ],
             [
              0.1111111111111111,
              "#46039f"
             ],
             [
              0.2222222222222222,
              "#7201a8"
             ],
             [
              0.3333333333333333,
              "#9c179e"
             ],
             [
              0.4444444444444444,
              "#bd3786"
             ],
             [
              0.5555555555555556,
              "#d8576b"
             ],
             [
              0.6666666666666666,
              "#ed7953"
             ],
             [
              0.7777777777777778,
              "#fb9f3a"
             ],
             [
              0.8888888888888888,
              "#fdca26"
             ],
             [
              1,
              "#f0f921"
             ]
            ],
            "type": "contour"
           }
          ],
          "contourcarpet": [
           {
            "colorbar": {
             "outlinewidth": 0,
             "ticks": ""
            },
            "type": "contourcarpet"
           }
          ],
          "heatmap": [
           {
            "colorbar": {
             "outlinewidth": 0,
             "ticks": ""
            },
            "colorscale": [
             [
              0,
              "#0d0887"
             ],
             [
              0.1111111111111111,
              "#46039f"
             ],
             [
              0.2222222222222222,
              "#7201a8"
             ],
             [
              0.3333333333333333,
              "#9c179e"
             ],
             [
              0.4444444444444444,
              "#bd3786"
             ],
             [
              0.5555555555555556,
              "#d8576b"
             ],
             [
              0.6666666666666666,
              "#ed7953"
             ],
             [
              0.7777777777777778,
              "#fb9f3a"
             ],
             [
              0.8888888888888888,
              "#fdca26"
             ],
             [
              1,
              "#f0f921"
             ]
            ],
            "type": "heatmap"
           }
          ],
          "heatmapgl": [
           {
            "colorbar": {
             "outlinewidth": 0,
             "ticks": ""
            },
            "colorscale": [
             [
              0,
              "#0d0887"
             ],
             [
              0.1111111111111111,
              "#46039f"
             ],
             [
              0.2222222222222222,
              "#7201a8"
             ],
             [
              0.3333333333333333,
              "#9c179e"
             ],
             [
              0.4444444444444444,
              "#bd3786"
             ],
             [
              0.5555555555555556,
              "#d8576b"
             ],
             [
              0.6666666666666666,
              "#ed7953"
             ],
             [
              0.7777777777777778,
              "#fb9f3a"
             ],
             [
              0.8888888888888888,
              "#fdca26"
             ],
             [
              1,
              "#f0f921"
             ]
            ],
            "type": "heatmapgl"
           }
          ],
          "histogram": [
           {
            "marker": {
             "pattern": {
              "fillmode": "overlay",
              "size": 10,
              "solidity": 0.2
             }
            },
            "type": "histogram"
           }
          ],
          "histogram2d": [
           {
            "colorbar": {
             "outlinewidth": 0,
             "ticks": ""
            },
            "colorscale": [
             [
              0,
              "#0d0887"
             ],
             [
              0.1111111111111111,
              "#46039f"
             ],
             [
              0.2222222222222222,
              "#7201a8"
             ],
             [
              0.3333333333333333,
              "#9c179e"
             ],
             [
              0.4444444444444444,
              "#bd3786"
             ],
             [
              0.5555555555555556,
              "#d8576b"
             ],
             [
              0.6666666666666666,
              "#ed7953"
             ],
             [
              0.7777777777777778,
              "#fb9f3a"
             ],
             [
              0.8888888888888888,
              "#fdca26"
             ],
             [
              1,
              "#f0f921"
             ]
            ],
            "type": "histogram2d"
           }
          ],
          "histogram2dcontour": [
           {
            "colorbar": {
             "outlinewidth": 0,
             "ticks": ""
            },
            "colorscale": [
             [
              0,
              "#0d0887"
             ],
             [
              0.1111111111111111,
              "#46039f"
             ],
             [
              0.2222222222222222,
              "#7201a8"
             ],
             [
              0.3333333333333333,
              "#9c179e"
             ],
             [
              0.4444444444444444,
              "#bd3786"
             ],
             [
              0.5555555555555556,
              "#d8576b"
             ],
             [
              0.6666666666666666,
              "#ed7953"
             ],
             [
              0.7777777777777778,
              "#fb9f3a"
             ],
             [
              0.8888888888888888,
              "#fdca26"
             ],
             [
              1,
              "#f0f921"
             ]
            ],
            "type": "histogram2dcontour"
           }
          ],
          "mesh3d": [
           {
            "colorbar": {
             "outlinewidth": 0,
             "ticks": ""
            },
            "type": "mesh3d"
           }
          ],
          "parcoords": [
           {
            "line": {
             "colorbar": {
              "outlinewidth": 0,
              "ticks": ""
             }
            },
            "type": "parcoords"
           }
          ],
          "pie": [
           {
            "automargin": true,
            "type": "pie"
           }
          ],
          "scatter": [
           {
            "fillpattern": {
             "fillmode": "overlay",
             "size": 10,
             "solidity": 0.2
            },
            "type": "scatter"
           }
          ],
          "scatter3d": [
           {
            "line": {
             "colorbar": {
              "outlinewidth": 0,
              "ticks": ""
             }
            },
            "marker": {
             "colorbar": {
              "outlinewidth": 0,
              "ticks": ""
             }
            },
            "type": "scatter3d"
           }
          ],
          "scattercarpet": [
           {
            "marker": {
             "colorbar": {
              "outlinewidth": 0,
              "ticks": ""
             }
            },
            "type": "scattercarpet"
           }
          ],
          "scattergeo": [
           {
            "marker": {
             "colorbar": {
              "outlinewidth": 0,
              "ticks": ""
             }
            },
            "type": "scattergeo"
           }
          ],
          "scattergl": [
           {
            "marker": {
             "colorbar": {
              "outlinewidth": 0,
              "ticks": ""
             }
            },
            "type": "scattergl"
           }
          ],
          "scattermapbox": [
           {
            "marker": {
             "colorbar": {
              "outlinewidth": 0,
              "ticks": ""
             }
            },
            "type": "scattermapbox"
           }
          ],
          "scatterpolar": [
           {
            "marker": {
             "colorbar": {
              "outlinewidth": 0,
              "ticks": ""
             }
            },
            "type": "scatterpolar"
           }
          ],
          "scatterpolargl": [
           {
            "marker": {
             "colorbar": {
              "outlinewidth": 0,
              "ticks": ""
             }
            },
            "type": "scatterpolargl"
           }
          ],
          "scatterternary": [
           {
            "marker": {
             "colorbar": {
              "outlinewidth": 0,
              "ticks": ""
             }
            },
            "type": "scatterternary"
           }
          ],
          "surface": [
           {
            "colorbar": {
             "outlinewidth": 0,
             "ticks": ""
            },
            "colorscale": [
             [
              0,
              "#0d0887"
             ],
             [
              0.1111111111111111,
              "#46039f"
             ],
             [
              0.2222222222222222,
              "#7201a8"
             ],
             [
              0.3333333333333333,
              "#9c179e"
             ],
             [
              0.4444444444444444,
              "#bd3786"
             ],
             [
              0.5555555555555556,
              "#d8576b"
             ],
             [
              0.6666666666666666,
              "#ed7953"
             ],
             [
              0.7777777777777778,
              "#fb9f3a"
             ],
             [
              0.8888888888888888,
              "#fdca26"
             ],
             [
              1,
              "#f0f921"
             ]
            ],
            "type": "surface"
           }
          ],
          "table": [
           {
            "cells": {
             "fill": {
              "color": "#EBF0F8"
             },
             "line": {
              "color": "white"
             }
            },
            "header": {
             "fill": {
              "color": "#C8D4E3"
             },
             "line": {
              "color": "white"
             }
            },
            "type": "table"
           }
          ]
         },
         "layout": {
          "annotationdefaults": {
           "arrowcolor": "#2a3f5f",
           "arrowhead": 0,
           "arrowwidth": 1
          },
          "autotypenumbers": "strict",
          "coloraxis": {
           "colorbar": {
            "outlinewidth": 0,
            "ticks": ""
           }
          },
          "colorscale": {
           "diverging": [
            [
             0,
             "#8e0152"
            ],
            [
             0.1,
             "#c51b7d"
            ],
            [
             0.2,
             "#de77ae"
            ],
            [
             0.3,
             "#f1b6da"
            ],
            [
             0.4,
             "#fde0ef"
            ],
            [
             0.5,
             "#f7f7f7"
            ],
            [
             0.6,
             "#e6f5d0"
            ],
            [
             0.7,
             "#b8e186"
            ],
            [
             0.8,
             "#7fbc41"
            ],
            [
             0.9,
             "#4d9221"
            ],
            [
             1,
             "#276419"
            ]
           ],
           "sequential": [
            [
             0,
             "#0d0887"
            ],
            [
             0.1111111111111111,
             "#46039f"
            ],
            [
             0.2222222222222222,
             "#7201a8"
            ],
            [
             0.3333333333333333,
             "#9c179e"
            ],
            [
             0.4444444444444444,
             "#bd3786"
            ],
            [
             0.5555555555555556,
             "#d8576b"
            ],
            [
             0.6666666666666666,
             "#ed7953"
            ],
            [
             0.7777777777777778,
             "#fb9f3a"
            ],
            [
             0.8888888888888888,
             "#fdca26"
            ],
            [
             1,
             "#f0f921"
            ]
           ],
           "sequentialminus": [
            [
             0,
             "#0d0887"
            ],
            [
             0.1111111111111111,
             "#46039f"
            ],
            [
             0.2222222222222222,
             "#7201a8"
            ],
            [
             0.3333333333333333,
             "#9c179e"
            ],
            [
             0.4444444444444444,
             "#bd3786"
            ],
            [
             0.5555555555555556,
             "#d8576b"
            ],
            [
             0.6666666666666666,
             "#ed7953"
            ],
            [
             0.7777777777777778,
             "#fb9f3a"
            ],
            [
             0.8888888888888888,
             "#fdca26"
            ],
            [
             1,
             "#f0f921"
            ]
           ]
          },
          "colorway": [
           "#636efa",
           "#EF553B",
           "#00cc96",
           "#ab63fa",
           "#FFA15A",
           "#19d3f3",
           "#FF6692",
           "#B6E880",
           "#FF97FF",
           "#FECB52"
          ],
          "font": {
           "color": "#2a3f5f"
          },
          "geo": {
           "bgcolor": "white",
           "lakecolor": "white",
           "landcolor": "#E5ECF6",
           "showlakes": true,
           "showland": true,
           "subunitcolor": "white"
          },
          "hoverlabel": {
           "align": "left"
          },
          "hovermode": "closest",
          "mapbox": {
           "style": "light"
          },
          "paper_bgcolor": "white",
          "plot_bgcolor": "#E5ECF6",
          "polar": {
           "angularaxis": {
            "gridcolor": "white",
            "linecolor": "white",
            "ticks": ""
           },
           "bgcolor": "#E5ECF6",
           "radialaxis": {
            "gridcolor": "white",
            "linecolor": "white",
            "ticks": ""
           }
          },
          "scene": {
           "xaxis": {
            "backgroundcolor": "#E5ECF6",
            "gridcolor": "white",
            "gridwidth": 2,
            "linecolor": "white",
            "showbackground": true,
            "ticks": "",
            "zerolinecolor": "white"
           },
           "yaxis": {
            "backgroundcolor": "#E5ECF6",
            "gridcolor": "white",
            "gridwidth": 2,
            "linecolor": "white",
            "showbackground": true,
            "ticks": "",
            "zerolinecolor": "white"
           },
           "zaxis": {
            "backgroundcolor": "#E5ECF6",
            "gridcolor": "white",
            "gridwidth": 2,
            "linecolor": "white",
            "showbackground": true,
            "ticks": "",
            "zerolinecolor": "white"
           }
          },
          "shapedefaults": {
           "line": {
            "color": "#2a3f5f"
           }
          },
          "ternary": {
           "aaxis": {
            "gridcolor": "white",
            "linecolor": "white",
            "ticks": ""
           },
           "baxis": {
            "gridcolor": "white",
            "linecolor": "white",
            "ticks": ""
           },
           "bgcolor": "#E5ECF6",
           "caxis": {
            "gridcolor": "white",
            "linecolor": "white",
            "ticks": ""
           }
          },
          "title": {
           "x": 0.05
          },
          "xaxis": {
           "automargin": true,
           "gridcolor": "white",
           "linecolor": "white",
           "ticks": "",
           "title": {
            "standoff": 15
           },
           "zerolinecolor": "white",
           "zerolinewidth": 2
          },
          "yaxis": {
           "automargin": true,
           "gridcolor": "white",
           "linecolor": "white",
           "ticks": "",
           "title": {
            "standoff": 15
           },
           "zerolinecolor": "white",
           "zerolinewidth": 2
          }
         }
        },
        "width": 1000,
        "xaxis": {
         "anchor": "y",
         "domain": [
          0,
          0.07272727272727274
         ],
         "matches": "x111",
         "showticklabels": false
        },
        "xaxis10": {
         "anchor": "y10",
         "domain": [
          0.8345454545454547,
          0.9072727272727275
         ],
         "matches": "x111",
         "showticklabels": false
        },
        "xaxis100": {
         "anchor": "y100",
         "domain": [
          0,
          0.07272727272727274
         ],
         "matches": "x111",
         "showticklabels": false
        },
        "xaxis101": {
         "anchor": "y101",
         "domain": [
          0.09272727272727274,
          0.16545454545454547
         ],
         "matches": "x111",
         "showticklabels": false
        },
        "xaxis102": {
         "anchor": "y102",
         "domain": [
          0.18545454545454548,
          0.25818181818181823
         ],
         "matches": "x111",
         "showticklabels": false
        },
        "xaxis103": {
         "anchor": "y103",
         "domain": [
          0.2781818181818182,
          0.35090909090909095
         ],
         "matches": "x111",
         "showticklabels": false
        },
        "xaxis104": {
         "anchor": "y104",
         "domain": [
          0.37090909090909097,
          0.4436363636363637
         ],
         "matches": "x111",
         "showticklabels": false
        },
        "xaxis105": {
         "anchor": "y105",
         "domain": [
          0.46363636363636374,
          0.5363636363636365
         ],
         "matches": "x111",
         "showticklabels": false
        },
        "xaxis106": {
         "anchor": "y106",
         "domain": [
          0.5563636363636364,
          0.6290909090909091
         ],
         "matches": "x111",
         "showticklabels": false
        },
        "xaxis107": {
         "anchor": "y107",
         "domain": [
          0.6490909090909092,
          0.7218181818181819
         ],
         "matches": "x111",
         "showticklabels": false
        },
        "xaxis108": {
         "anchor": "y108",
         "domain": [
          0.7418181818181819,
          0.8145454545454547
         ],
         "matches": "x111",
         "showticklabels": false
        },
        "xaxis109": {
         "anchor": "y109",
         "domain": [
          0.8345454545454547,
          0.9072727272727275
         ],
         "matches": "x111",
         "showticklabels": false
        },
        "xaxis11": {
         "anchor": "y11",
         "domain": [
          0.9272727272727275,
          1
         ],
         "matches": "x111",
         "showticklabels": false
        },
        "xaxis110": {
         "anchor": "y110",
         "domain": [
          0.9272727272727275,
          1
         ],
         "matches": "x111",
         "showticklabels": false
        },
        "xaxis111": {
         "anchor": "y111",
         "domain": [
          0,
          0.07272727272727274
         ],
         "showticklabels": false
        },
        "xaxis112": {
         "anchor": "y112",
         "domain": [
          0.09272727272727274,
          0.16545454545454547
         ],
         "matches": "x111",
         "showticklabels": false
        },
        "xaxis113": {
         "anchor": "y113",
         "domain": [
          0.18545454545454548,
          0.25818181818181823
         ],
         "matches": "x111",
         "showticklabels": false
        },
        "xaxis114": {
         "anchor": "y114",
         "domain": [
          0.2781818181818182,
          0.35090909090909095
         ],
         "matches": "x111",
         "showticklabels": false
        },
        "xaxis115": {
         "anchor": "y115",
         "domain": [
          0.37090909090909097,
          0.4436363636363637
         ],
         "matches": "x111",
         "showticklabels": false
        },
        "xaxis116": {
         "anchor": "y116",
         "domain": [
          0.46363636363636374,
          0.5363636363636365
         ],
         "matches": "x111",
         "showticklabels": false
        },
        "xaxis117": {
         "anchor": "y117",
         "domain": [
          0.5563636363636364,
          0.6290909090909091
         ],
         "matches": "x111",
         "showticklabels": false
        },
        "xaxis118": {
         "anchor": "y118",
         "domain": [
          0.6490909090909092,
          0.7218181818181819
         ],
         "matches": "x111",
         "showticklabels": false
        },
        "xaxis119": {
         "anchor": "y119",
         "domain": [
          0.7418181818181819,
          0.8145454545454547
         ],
         "matches": "x111",
         "showticklabels": false
        },
        "xaxis12": {
         "anchor": "y12",
         "domain": [
          0,
          0.07272727272727274
         ],
         "matches": "x111",
         "showticklabels": false
        },
        "xaxis120": {
         "anchor": "y120",
         "domain": [
          0.8345454545454547,
          0.9072727272727275
         ],
         "matches": "x111",
         "showticklabels": false
        },
        "xaxis121": {
         "anchor": "y121",
         "domain": [
          0.9272727272727275,
          1
         ],
         "matches": "x111",
         "showticklabels": false
        },
        "xaxis13": {
         "anchor": "y13",
         "domain": [
          0.09272727272727274,
          0.16545454545454547
         ],
         "matches": "x111",
         "showticklabels": false
        },
        "xaxis14": {
         "anchor": "y14",
         "domain": [
          0.18545454545454548,
          0.25818181818181823
         ],
         "matches": "x111",
         "showticklabels": false
        },
        "xaxis15": {
         "anchor": "y15",
         "domain": [
          0.2781818181818182,
          0.35090909090909095
         ],
         "matches": "x111",
         "showticklabels": false
        },
        "xaxis16": {
         "anchor": "y16",
         "domain": [
          0.37090909090909097,
          0.4436363636363637
         ],
         "matches": "x111",
         "showticklabels": false
        },
        "xaxis17": {
         "anchor": "y17",
         "domain": [
          0.46363636363636374,
          0.5363636363636365
         ],
         "matches": "x111",
         "showticklabels": false
        },
        "xaxis18": {
         "anchor": "y18",
         "domain": [
          0.5563636363636364,
          0.6290909090909091
         ],
         "matches": "x111",
         "showticklabels": false
        },
        "xaxis19": {
         "anchor": "y19",
         "domain": [
          0.6490909090909092,
          0.7218181818181819
         ],
         "matches": "x111",
         "showticklabels": false
        },
        "xaxis2": {
         "anchor": "y2",
         "domain": [
          0.09272727272727274,
          0.16545454545454547
         ],
         "matches": "x111",
         "showticklabels": false
        },
        "xaxis20": {
         "anchor": "y20",
         "domain": [
          0.7418181818181819,
          0.8145454545454547
         ],
         "matches": "x111",
         "showticklabels": false
        },
        "xaxis21": {
         "anchor": "y21",
         "domain": [
          0.8345454545454547,
          0.9072727272727275
         ],
         "matches": "x111",
         "showticklabels": false
        },
        "xaxis22": {
         "anchor": "y22",
         "domain": [
          0.9272727272727275,
          1
         ],
         "matches": "x111",
         "showticklabels": false
        },
        "xaxis23": {
         "anchor": "y23",
         "domain": [
          0,
          0.07272727272727274
         ],
         "matches": "x111",
         "showticklabels": false
        },
        "xaxis24": {
         "anchor": "y24",
         "domain": [
          0.09272727272727274,
          0.16545454545454547
         ],
         "matches": "x111",
         "showticklabels": false
        },
        "xaxis25": {
         "anchor": "y25",
         "domain": [
          0.18545454545454548,
          0.25818181818181823
         ],
         "matches": "x111",
         "showticklabels": false
        },
        "xaxis26": {
         "anchor": "y26",
         "domain": [
          0.2781818181818182,
          0.35090909090909095
         ],
         "matches": "x111",
         "showticklabels": false
        },
        "xaxis27": {
         "anchor": "y27",
         "domain": [
          0.37090909090909097,
          0.4436363636363637
         ],
         "matches": "x111",
         "showticklabels": false
        },
        "xaxis28": {
         "anchor": "y28",
         "domain": [
          0.46363636363636374,
          0.5363636363636365
         ],
         "matches": "x111",
         "showticklabels": false
        },
        "xaxis29": {
         "anchor": "y29",
         "domain": [
          0.5563636363636364,
          0.6290909090909091
         ],
         "matches": "x111",
         "showticklabels": false
        },
        "xaxis3": {
         "anchor": "y3",
         "domain": [
          0.18545454545454548,
          0.25818181818181823
         ],
         "matches": "x111",
         "showticklabels": false
        },
        "xaxis30": {
         "anchor": "y30",
         "domain": [
          0.6490909090909092,
          0.7218181818181819
         ],
         "matches": "x111",
         "showticklabels": false
        },
        "xaxis31": {
         "anchor": "y31",
         "domain": [
          0.7418181818181819,
          0.8145454545454547
         ],
         "matches": "x111",
         "showticklabels": false
        },
        "xaxis32": {
         "anchor": "y32",
         "domain": [
          0.8345454545454547,
          0.9072727272727275
         ],
         "matches": "x111",
         "showticklabels": false
        },
        "xaxis33": {
         "anchor": "y33",
         "domain": [
          0.9272727272727275,
          1
         ],
         "matches": "x111",
         "showticklabels": false
        },
        "xaxis34": {
         "anchor": "y34",
         "domain": [
          0,
          0.07272727272727274
         ],
         "matches": "x111",
         "showticklabels": false
        },
        "xaxis35": {
         "anchor": "y35",
         "domain": [
          0.09272727272727274,
          0.16545454545454547
         ],
         "matches": "x111",
         "showticklabels": false
        },
        "xaxis36": {
         "anchor": "y36",
         "domain": [
          0.18545454545454548,
          0.25818181818181823
         ],
         "matches": "x111",
         "showticklabels": false
        },
        "xaxis37": {
         "anchor": "y37",
         "domain": [
          0.2781818181818182,
          0.35090909090909095
         ],
         "matches": "x111",
         "showticklabels": false
        },
        "xaxis38": {
         "anchor": "y38",
         "domain": [
          0.37090909090909097,
          0.4436363636363637
         ],
         "matches": "x111",
         "showticklabels": false
        },
        "xaxis39": {
         "anchor": "y39",
         "domain": [
          0.46363636363636374,
          0.5363636363636365
         ],
         "matches": "x111",
         "showticklabels": false
        },
        "xaxis4": {
         "anchor": "y4",
         "domain": [
          0.2781818181818182,
          0.35090909090909095
         ],
         "matches": "x111",
         "showticklabels": false
        },
        "xaxis40": {
         "anchor": "y40",
         "domain": [
          0.5563636363636364,
          0.6290909090909091
         ],
         "matches": "x111",
         "showticklabels": false
        },
        "xaxis41": {
         "anchor": "y41",
         "domain": [
          0.6490909090909092,
          0.7218181818181819
         ],
         "matches": "x111",
         "showticklabels": false
        },
        "xaxis42": {
         "anchor": "y42",
         "domain": [
          0.7418181818181819,
          0.8145454545454547
         ],
         "matches": "x111",
         "showticklabels": false
        },
        "xaxis43": {
         "anchor": "y43",
         "domain": [
          0.8345454545454547,
          0.9072727272727275
         ],
         "matches": "x111",
         "showticklabels": false
        },
        "xaxis44": {
         "anchor": "y44",
         "domain": [
          0.9272727272727275,
          1
         ],
         "matches": "x111",
         "showticklabels": false
        },
        "xaxis45": {
         "anchor": "y45",
         "domain": [
          0,
          0.07272727272727274
         ],
         "matches": "x111",
         "showticklabels": false
        },
        "xaxis46": {
         "anchor": "y46",
         "domain": [
          0.09272727272727274,
          0.16545454545454547
         ],
         "matches": "x111",
         "showticklabels": false
        },
        "xaxis47": {
         "anchor": "y47",
         "domain": [
          0.18545454545454548,
          0.25818181818181823
         ],
         "matches": "x111",
         "showticklabels": false
        },
        "xaxis48": {
         "anchor": "y48",
         "domain": [
          0.2781818181818182,
          0.35090909090909095
         ],
         "matches": "x111",
         "showticklabels": false
        },
        "xaxis49": {
         "anchor": "y49",
         "domain": [
          0.37090909090909097,
          0.4436363636363637
         ],
         "matches": "x111",
         "showticklabels": false
        },
        "xaxis5": {
         "anchor": "y5",
         "domain": [
          0.37090909090909097,
          0.4436363636363637
         ],
         "matches": "x111",
         "showticklabels": false
        },
        "xaxis50": {
         "anchor": "y50",
         "domain": [
          0.46363636363636374,
          0.5363636363636365
         ],
         "matches": "x111",
         "showticklabels": false
        },
        "xaxis51": {
         "anchor": "y51",
         "domain": [
          0.5563636363636364,
          0.6290909090909091
         ],
         "matches": "x111",
         "showticklabels": false
        },
        "xaxis52": {
         "anchor": "y52",
         "domain": [
          0.6490909090909092,
          0.7218181818181819
         ],
         "matches": "x111",
         "showticklabels": false
        },
        "xaxis53": {
         "anchor": "y53",
         "domain": [
          0.7418181818181819,
          0.8145454545454547
         ],
         "matches": "x111",
         "showticklabels": false
        },
        "xaxis54": {
         "anchor": "y54",
         "domain": [
          0.8345454545454547,
          0.9072727272727275
         ],
         "matches": "x111",
         "showticklabels": false
        },
        "xaxis55": {
         "anchor": "y55",
         "domain": [
          0.9272727272727275,
          1
         ],
         "matches": "x111",
         "showticklabels": false
        },
        "xaxis56": {
         "anchor": "y56",
         "domain": [
          0,
          0.07272727272727274
         ],
         "matches": "x111",
         "showticklabels": false
        },
        "xaxis57": {
         "anchor": "y57",
         "domain": [
          0.09272727272727274,
          0.16545454545454547
         ],
         "matches": "x111",
         "showticklabels": false
        },
        "xaxis58": {
         "anchor": "y58",
         "domain": [
          0.18545454545454548,
          0.25818181818181823
         ],
         "matches": "x111",
         "showticklabels": false
        },
        "xaxis59": {
         "anchor": "y59",
         "domain": [
          0.2781818181818182,
          0.35090909090909095
         ],
         "matches": "x111",
         "showticklabels": false
        },
        "xaxis6": {
         "anchor": "y6",
         "domain": [
          0.46363636363636374,
          0.5363636363636365
         ],
         "matches": "x111",
         "showticklabels": false
        },
        "xaxis60": {
         "anchor": "y60",
         "domain": [
          0.37090909090909097,
          0.4436363636363637
         ],
         "matches": "x111",
         "showticklabels": false
        },
        "xaxis61": {
         "anchor": "y61",
         "domain": [
          0.46363636363636374,
          0.5363636363636365
         ],
         "matches": "x111",
         "showticklabels": false
        },
        "xaxis62": {
         "anchor": "y62",
         "domain": [
          0.5563636363636364,
          0.6290909090909091
         ],
         "matches": "x111",
         "showticklabels": false
        },
        "xaxis63": {
         "anchor": "y63",
         "domain": [
          0.6490909090909092,
          0.7218181818181819
         ],
         "matches": "x111",
         "showticklabels": false
        },
        "xaxis64": {
         "anchor": "y64",
         "domain": [
          0.7418181818181819,
          0.8145454545454547
         ],
         "matches": "x111",
         "showticklabels": false
        },
        "xaxis65": {
         "anchor": "y65",
         "domain": [
          0.8345454545454547,
          0.9072727272727275
         ],
         "matches": "x111",
         "showticklabels": false
        },
        "xaxis66": {
         "anchor": "y66",
         "domain": [
          0.9272727272727275,
          1
         ],
         "matches": "x111",
         "showticklabels": false
        },
        "xaxis67": {
         "anchor": "y67",
         "domain": [
          0,
          0.07272727272727274
         ],
         "matches": "x111",
         "showticklabels": false
        },
        "xaxis68": {
         "anchor": "y68",
         "domain": [
          0.09272727272727274,
          0.16545454545454547
         ],
         "matches": "x111",
         "showticklabels": false
        },
        "xaxis69": {
         "anchor": "y69",
         "domain": [
          0.18545454545454548,
          0.25818181818181823
         ],
         "matches": "x111",
         "showticklabels": false
        },
        "xaxis7": {
         "anchor": "y7",
         "domain": [
          0.5563636363636364,
          0.6290909090909091
         ],
         "matches": "x111",
         "showticklabels": false
        },
        "xaxis70": {
         "anchor": "y70",
         "domain": [
          0.2781818181818182,
          0.35090909090909095
         ],
         "matches": "x111",
         "showticklabels": false
        },
        "xaxis71": {
         "anchor": "y71",
         "domain": [
          0.37090909090909097,
          0.4436363636363637
         ],
         "matches": "x111",
         "showticklabels": false
        },
        "xaxis72": {
         "anchor": "y72",
         "domain": [
          0.46363636363636374,
          0.5363636363636365
         ],
         "matches": "x111",
         "showticklabels": false
        },
        "xaxis73": {
         "anchor": "y73",
         "domain": [
          0.5563636363636364,
          0.6290909090909091
         ],
         "matches": "x111",
         "showticklabels": false
        },
        "xaxis74": {
         "anchor": "y74",
         "domain": [
          0.6490909090909092,
          0.7218181818181819
         ],
         "matches": "x111",
         "showticklabels": false
        },
        "xaxis75": {
         "anchor": "y75",
         "domain": [
          0.7418181818181819,
          0.8145454545454547
         ],
         "matches": "x111",
         "showticklabels": false
        },
        "xaxis76": {
         "anchor": "y76",
         "domain": [
          0.8345454545454547,
          0.9072727272727275
         ],
         "matches": "x111",
         "showticklabels": false
        },
        "xaxis77": {
         "anchor": "y77",
         "domain": [
          0.9272727272727275,
          1
         ],
         "matches": "x111",
         "showticklabels": false
        },
        "xaxis78": {
         "anchor": "y78",
         "domain": [
          0,
          0.07272727272727274
         ],
         "matches": "x111",
         "showticklabels": false
        },
        "xaxis79": {
         "anchor": "y79",
         "domain": [
          0.09272727272727274,
          0.16545454545454547
         ],
         "matches": "x111",
         "showticklabels": false
        },
        "xaxis8": {
         "anchor": "y8",
         "domain": [
          0.6490909090909092,
          0.7218181818181819
         ],
         "matches": "x111",
         "showticklabels": false
        },
        "xaxis80": {
         "anchor": "y80",
         "domain": [
          0.18545454545454548,
          0.25818181818181823
         ],
         "matches": "x111",
         "showticklabels": false
        },
        "xaxis81": {
         "anchor": "y81",
         "domain": [
          0.2781818181818182,
          0.35090909090909095
         ],
         "matches": "x111",
         "showticklabels": false
        },
        "xaxis82": {
         "anchor": "y82",
         "domain": [
          0.37090909090909097,
          0.4436363636363637
         ],
         "matches": "x111",
         "showticklabels": false
        },
        "xaxis83": {
         "anchor": "y83",
         "domain": [
          0.46363636363636374,
          0.5363636363636365
         ],
         "matches": "x111",
         "showticklabels": false
        },
        "xaxis84": {
         "anchor": "y84",
         "domain": [
          0.5563636363636364,
          0.6290909090909091
         ],
         "matches": "x111",
         "showticklabels": false
        },
        "xaxis85": {
         "anchor": "y85",
         "domain": [
          0.6490909090909092,
          0.7218181818181819
         ],
         "matches": "x111",
         "showticklabels": false
        },
        "xaxis86": {
         "anchor": "y86",
         "domain": [
          0.7418181818181819,
          0.8145454545454547
         ],
         "matches": "x111",
         "showticklabels": false
        },
        "xaxis87": {
         "anchor": "y87",
         "domain": [
          0.8345454545454547,
          0.9072727272727275
         ],
         "matches": "x111",
         "showticklabels": false
        },
        "xaxis88": {
         "anchor": "y88",
         "domain": [
          0.9272727272727275,
          1
         ],
         "matches": "x111",
         "showticklabels": false
        },
        "xaxis89": {
         "anchor": "y89",
         "domain": [
          0,
          0.07272727272727274
         ],
         "matches": "x111",
         "showticklabels": false
        },
        "xaxis9": {
         "anchor": "y9",
         "domain": [
          0.7418181818181819,
          0.8145454545454547
         ],
         "matches": "x111",
         "showticklabels": false
        },
        "xaxis90": {
         "anchor": "y90",
         "domain": [
          0.09272727272727274,
          0.16545454545454547
         ],
         "matches": "x111",
         "showticklabels": false
        },
        "xaxis91": {
         "anchor": "y91",
         "domain": [
          0.18545454545454548,
          0.25818181818181823
         ],
         "matches": "x111",
         "showticklabels": false
        },
        "xaxis92": {
         "anchor": "y92",
         "domain": [
          0.2781818181818182,
          0.35090909090909095
         ],
         "matches": "x111",
         "showticklabels": false
        },
        "xaxis93": {
         "anchor": "y93",
         "domain": [
          0.37090909090909097,
          0.4436363636363637
         ],
         "matches": "x111",
         "showticklabels": false
        },
        "xaxis94": {
         "anchor": "y94",
         "domain": [
          0.46363636363636374,
          0.5363636363636365
         ],
         "matches": "x111",
         "showticklabels": false
        },
        "xaxis95": {
         "anchor": "y95",
         "domain": [
          0.5563636363636364,
          0.6290909090909091
         ],
         "matches": "x111",
         "showticklabels": false
        },
        "xaxis96": {
         "anchor": "y96",
         "domain": [
          0.6490909090909092,
          0.7218181818181819
         ],
         "matches": "x111",
         "showticklabels": false
        },
        "xaxis97": {
         "anchor": "y97",
         "domain": [
          0.7418181818181819,
          0.8145454545454547
         ],
         "matches": "x111",
         "showticklabels": false
        },
        "xaxis98": {
         "anchor": "y98",
         "domain": [
          0.8345454545454547,
          0.9072727272727275
         ],
         "matches": "x111",
         "showticklabels": false
        },
        "xaxis99": {
         "anchor": "y99",
         "domain": [
          0.9272727272727275,
          1
         ],
         "matches": "x111",
         "showticklabels": false
        },
        "yaxis": {
         "anchor": "x",
         "domain": [
          0.9272727272727275,
          1
         ],
         "matches": "y111",
         "showticklabels": false
        },
        "yaxis10": {
         "anchor": "x10",
         "domain": [
          0.9272727272727275,
          1
         ],
         "matches": "y111",
         "showticklabels": false
        },
        "yaxis100": {
         "anchor": "x100",
         "domain": [
          0.09272727272727274,
          0.16545454545454547
         ],
         "matches": "y111",
         "showticklabels": false
        },
        "yaxis101": {
         "anchor": "x101",
         "domain": [
          0.09272727272727274,
          0.16545454545454547
         ],
         "matches": "y111",
         "showticklabels": false
        },
        "yaxis102": {
         "anchor": "x102",
         "domain": [
          0.09272727272727274,
          0.16545454545454547
         ],
         "matches": "y111",
         "showticklabels": false
        },
        "yaxis103": {
         "anchor": "x103",
         "domain": [
          0.09272727272727274,
          0.16545454545454547
         ],
         "matches": "y111",
         "showticklabels": false
        },
        "yaxis104": {
         "anchor": "x104",
         "domain": [
          0.09272727272727274,
          0.16545454545454547
         ],
         "matches": "y111",
         "showticklabels": false
        },
        "yaxis105": {
         "anchor": "x105",
         "domain": [
          0.09272727272727274,
          0.16545454545454547
         ],
         "matches": "y111",
         "showticklabels": false
        },
        "yaxis106": {
         "anchor": "x106",
         "domain": [
          0.09272727272727274,
          0.16545454545454547
         ],
         "matches": "y111",
         "showticklabels": false
        },
        "yaxis107": {
         "anchor": "x107",
         "domain": [
          0.09272727272727274,
          0.16545454545454547
         ],
         "matches": "y111",
         "showticklabels": false
        },
        "yaxis108": {
         "anchor": "x108",
         "domain": [
          0.09272727272727274,
          0.16545454545454547
         ],
         "matches": "y111",
         "showticklabels": false
        },
        "yaxis109": {
         "anchor": "x109",
         "domain": [
          0.09272727272727274,
          0.16545454545454547
         ],
         "matches": "y111",
         "showticklabels": false
        },
        "yaxis11": {
         "anchor": "x11",
         "domain": [
          0.9272727272727275,
          1
         ],
         "matches": "y111",
         "showticklabels": false
        },
        "yaxis110": {
         "anchor": "x110",
         "domain": [
          0.09272727272727274,
          0.16545454545454547
         ],
         "matches": "y111",
         "showticklabels": false
        },
        "yaxis111": {
         "anchor": "x111",
         "domain": [
          0,
          0.07272727272727274
         ],
         "showticklabels": false
        },
        "yaxis112": {
         "anchor": "x112",
         "domain": [
          0,
          0.07272727272727274
         ],
         "matches": "y111",
         "showticklabels": false
        },
        "yaxis113": {
         "anchor": "x113",
         "domain": [
          0,
          0.07272727272727274
         ],
         "matches": "y111",
         "showticklabels": false
        },
        "yaxis114": {
         "anchor": "x114",
         "domain": [
          0,
          0.07272727272727274
         ],
         "matches": "y111",
         "showticklabels": false
        },
        "yaxis115": {
         "anchor": "x115",
         "domain": [
          0,
          0.07272727272727274
         ],
         "matches": "y111",
         "showticklabels": false
        },
        "yaxis116": {
         "anchor": "x116",
         "domain": [
          0,
          0.07272727272727274
         ],
         "matches": "y111",
         "showticklabels": false
        },
        "yaxis117": {
         "anchor": "x117",
         "domain": [
          0,
          0.07272727272727274
         ],
         "matches": "y111",
         "showticklabels": false
        },
        "yaxis118": {
         "anchor": "x118",
         "domain": [
          0,
          0.07272727272727274
         ],
         "matches": "y111",
         "showticklabels": false
        },
        "yaxis119": {
         "anchor": "x119",
         "domain": [
          0,
          0.07272727272727274
         ],
         "matches": "y111",
         "showticklabels": false
        },
        "yaxis12": {
         "anchor": "x12",
         "domain": [
          0.8345454545454547,
          0.9072727272727275
         ],
         "matches": "y111",
         "showticklabels": false
        },
        "yaxis120": {
         "anchor": "x120",
         "domain": [
          0,
          0.07272727272727274
         ],
         "matches": "y111",
         "showticklabels": false
        },
        "yaxis121": {
         "anchor": "x121",
         "domain": [
          0,
          0.07272727272727274
         ],
         "matches": "y111",
         "showticklabels": false
        },
        "yaxis13": {
         "anchor": "x13",
         "domain": [
          0.8345454545454547,
          0.9072727272727275
         ],
         "matches": "y111",
         "showticklabels": false
        },
        "yaxis14": {
         "anchor": "x14",
         "domain": [
          0.8345454545454547,
          0.9072727272727275
         ],
         "matches": "y111",
         "showticklabels": false
        },
        "yaxis15": {
         "anchor": "x15",
         "domain": [
          0.8345454545454547,
          0.9072727272727275
         ],
         "matches": "y111",
         "showticklabels": false
        },
        "yaxis16": {
         "anchor": "x16",
         "domain": [
          0.8345454545454547,
          0.9072727272727275
         ],
         "matches": "y111",
         "showticklabels": false
        },
        "yaxis17": {
         "anchor": "x17",
         "domain": [
          0.8345454545454547,
          0.9072727272727275
         ],
         "matches": "y111",
         "showticklabels": false
        },
        "yaxis18": {
         "anchor": "x18",
         "domain": [
          0.8345454545454547,
          0.9072727272727275
         ],
         "matches": "y111",
         "showticklabels": false
        },
        "yaxis19": {
         "anchor": "x19",
         "domain": [
          0.8345454545454547,
          0.9072727272727275
         ],
         "matches": "y111",
         "showticklabels": false
        },
        "yaxis2": {
         "anchor": "x2",
         "domain": [
          0.9272727272727275,
          1
         ],
         "matches": "y111",
         "showticklabels": false
        },
        "yaxis20": {
         "anchor": "x20",
         "domain": [
          0.8345454545454547,
          0.9072727272727275
         ],
         "matches": "y111",
         "showticklabels": false
        },
        "yaxis21": {
         "anchor": "x21",
         "domain": [
          0.8345454545454547,
          0.9072727272727275
         ],
         "matches": "y111",
         "showticklabels": false
        },
        "yaxis22": {
         "anchor": "x22",
         "domain": [
          0.8345454545454547,
          0.9072727272727275
         ],
         "matches": "y111",
         "showticklabels": false
        },
        "yaxis23": {
         "anchor": "x23",
         "domain": [
          0.7418181818181819,
          0.8145454545454547
         ],
         "matches": "y111",
         "showticklabels": false
        },
        "yaxis24": {
         "anchor": "x24",
         "domain": [
          0.7418181818181819,
          0.8145454545454547
         ],
         "matches": "y111",
         "showticklabels": false
        },
        "yaxis25": {
         "anchor": "x25",
         "domain": [
          0.7418181818181819,
          0.8145454545454547
         ],
         "matches": "y111",
         "showticklabels": false
        },
        "yaxis26": {
         "anchor": "x26",
         "domain": [
          0.7418181818181819,
          0.8145454545454547
         ],
         "matches": "y111",
         "showticklabels": false
        },
        "yaxis27": {
         "anchor": "x27",
         "domain": [
          0.7418181818181819,
          0.8145454545454547
         ],
         "matches": "y111",
         "showticklabels": false
        },
        "yaxis28": {
         "anchor": "x28",
         "domain": [
          0.7418181818181819,
          0.8145454545454547
         ],
         "matches": "y111",
         "showticklabels": false
        },
        "yaxis29": {
         "anchor": "x29",
         "domain": [
          0.7418181818181819,
          0.8145454545454547
         ],
         "matches": "y111",
         "showticklabels": false
        },
        "yaxis3": {
         "anchor": "x3",
         "domain": [
          0.9272727272727275,
          1
         ],
         "matches": "y111",
         "showticklabels": false
        },
        "yaxis30": {
         "anchor": "x30",
         "domain": [
          0.7418181818181819,
          0.8145454545454547
         ],
         "matches": "y111",
         "showticklabels": false
        },
        "yaxis31": {
         "anchor": "x31",
         "domain": [
          0.7418181818181819,
          0.8145454545454547
         ],
         "matches": "y111",
         "showticklabels": false
        },
        "yaxis32": {
         "anchor": "x32",
         "domain": [
          0.7418181818181819,
          0.8145454545454547
         ],
         "matches": "y111",
         "showticklabels": false
        },
        "yaxis33": {
         "anchor": "x33",
         "domain": [
          0.7418181818181819,
          0.8145454545454547
         ],
         "matches": "y111",
         "showticklabels": false
        },
        "yaxis34": {
         "anchor": "x34",
         "domain": [
          0.6490909090909092,
          0.7218181818181819
         ],
         "matches": "y111",
         "showticklabels": false
        },
        "yaxis35": {
         "anchor": "x35",
         "domain": [
          0.6490909090909092,
          0.7218181818181819
         ],
         "matches": "y111",
         "showticklabels": false
        },
        "yaxis36": {
         "anchor": "x36",
         "domain": [
          0.6490909090909092,
          0.7218181818181819
         ],
         "matches": "y111",
         "showticklabels": false
        },
        "yaxis37": {
         "anchor": "x37",
         "domain": [
          0.6490909090909092,
          0.7218181818181819
         ],
         "matches": "y111",
         "showticklabels": false
        },
        "yaxis38": {
         "anchor": "x38",
         "domain": [
          0.6490909090909092,
          0.7218181818181819
         ],
         "matches": "y111",
         "showticklabels": false
        },
        "yaxis39": {
         "anchor": "x39",
         "domain": [
          0.6490909090909092,
          0.7218181818181819
         ],
         "matches": "y111",
         "showticklabels": false
        },
        "yaxis4": {
         "anchor": "x4",
         "domain": [
          0.9272727272727275,
          1
         ],
         "matches": "y111",
         "showticklabels": false
        },
        "yaxis40": {
         "anchor": "x40",
         "domain": [
          0.6490909090909092,
          0.7218181818181819
         ],
         "matches": "y111",
         "showticklabels": false
        },
        "yaxis41": {
         "anchor": "x41",
         "domain": [
          0.6490909090909092,
          0.7218181818181819
         ],
         "matches": "y111",
         "showticklabels": false
        },
        "yaxis42": {
         "anchor": "x42",
         "domain": [
          0.6490909090909092,
          0.7218181818181819
         ],
         "matches": "y111",
         "showticklabels": false
        },
        "yaxis43": {
         "anchor": "x43",
         "domain": [
          0.6490909090909092,
          0.7218181818181819
         ],
         "matches": "y111",
         "showticklabels": false
        },
        "yaxis44": {
         "anchor": "x44",
         "domain": [
          0.6490909090909092,
          0.7218181818181819
         ],
         "matches": "y111",
         "showticklabels": false
        },
        "yaxis45": {
         "anchor": "x45",
         "domain": [
          0.5563636363636364,
          0.6290909090909091
         ],
         "matches": "y111",
         "showticklabels": false
        },
        "yaxis46": {
         "anchor": "x46",
         "domain": [
          0.5563636363636364,
          0.6290909090909091
         ],
         "matches": "y111",
         "showticklabels": false
        },
        "yaxis47": {
         "anchor": "x47",
         "domain": [
          0.5563636363636364,
          0.6290909090909091
         ],
         "matches": "y111",
         "showticklabels": false
        },
        "yaxis48": {
         "anchor": "x48",
         "domain": [
          0.5563636363636364,
          0.6290909090909091
         ],
         "matches": "y111",
         "showticklabels": false
        },
        "yaxis49": {
         "anchor": "x49",
         "domain": [
          0.5563636363636364,
          0.6290909090909091
         ],
         "matches": "y111",
         "showticklabels": false
        },
        "yaxis5": {
         "anchor": "x5",
         "domain": [
          0.9272727272727275,
          1
         ],
         "matches": "y111",
         "showticklabels": false
        },
        "yaxis50": {
         "anchor": "x50",
         "domain": [
          0.5563636363636364,
          0.6290909090909091
         ],
         "matches": "y111",
         "showticklabels": false
        },
        "yaxis51": {
         "anchor": "x51",
         "domain": [
          0.5563636363636364,
          0.6290909090909091
         ],
         "matches": "y111",
         "showticklabels": false
        },
        "yaxis52": {
         "anchor": "x52",
         "domain": [
          0.5563636363636364,
          0.6290909090909091
         ],
         "matches": "y111",
         "showticklabels": false
        },
        "yaxis53": {
         "anchor": "x53",
         "domain": [
          0.5563636363636364,
          0.6290909090909091
         ],
         "matches": "y111",
         "showticklabels": false
        },
        "yaxis54": {
         "anchor": "x54",
         "domain": [
          0.5563636363636364,
          0.6290909090909091
         ],
         "matches": "y111",
         "showticklabels": false
        },
        "yaxis55": {
         "anchor": "x55",
         "domain": [
          0.5563636363636364,
          0.6290909090909091
         ],
         "matches": "y111",
         "showticklabels": false
        },
        "yaxis56": {
         "anchor": "x56",
         "domain": [
          0.46363636363636374,
          0.5363636363636365
         ],
         "matches": "y111",
         "showticklabels": false
        },
        "yaxis57": {
         "anchor": "x57",
         "domain": [
          0.46363636363636374,
          0.5363636363636365
         ],
         "matches": "y111",
         "showticklabels": false
        },
        "yaxis58": {
         "anchor": "x58",
         "domain": [
          0.46363636363636374,
          0.5363636363636365
         ],
         "matches": "y111",
         "showticklabels": false
        },
        "yaxis59": {
         "anchor": "x59",
         "domain": [
          0.46363636363636374,
          0.5363636363636365
         ],
         "matches": "y111",
         "showticklabels": false
        },
        "yaxis6": {
         "anchor": "x6",
         "domain": [
          0.9272727272727275,
          1
         ],
         "matches": "y111",
         "showticklabels": false
        },
        "yaxis60": {
         "anchor": "x60",
         "domain": [
          0.46363636363636374,
          0.5363636363636365
         ],
         "matches": "y111",
         "showticklabels": false
        },
        "yaxis61": {
         "anchor": "x61",
         "domain": [
          0.46363636363636374,
          0.5363636363636365
         ],
         "matches": "y111",
         "showticklabels": false
        },
        "yaxis62": {
         "anchor": "x62",
         "domain": [
          0.46363636363636374,
          0.5363636363636365
         ],
         "matches": "y111",
         "showticklabels": false
        },
        "yaxis63": {
         "anchor": "x63",
         "domain": [
          0.46363636363636374,
          0.5363636363636365
         ],
         "matches": "y111",
         "showticklabels": false
        },
        "yaxis64": {
         "anchor": "x64",
         "domain": [
          0.46363636363636374,
          0.5363636363636365
         ],
         "matches": "y111",
         "showticklabels": false
        },
        "yaxis65": {
         "anchor": "x65",
         "domain": [
          0.46363636363636374,
          0.5363636363636365
         ],
         "matches": "y111",
         "showticklabels": false
        },
        "yaxis66": {
         "anchor": "x66",
         "domain": [
          0.46363636363636374,
          0.5363636363636365
         ],
         "matches": "y111",
         "showticklabels": false
        },
        "yaxis67": {
         "anchor": "x67",
         "domain": [
          0.37090909090909097,
          0.4436363636363637
         ],
         "matches": "y111",
         "showticklabels": false
        },
        "yaxis68": {
         "anchor": "x68",
         "domain": [
          0.37090909090909097,
          0.4436363636363637
         ],
         "matches": "y111",
         "showticklabels": false
        },
        "yaxis69": {
         "anchor": "x69",
         "domain": [
          0.37090909090909097,
          0.4436363636363637
         ],
         "matches": "y111",
         "showticklabels": false
        },
        "yaxis7": {
         "anchor": "x7",
         "domain": [
          0.9272727272727275,
          1
         ],
         "matches": "y111",
         "showticklabels": false
        },
        "yaxis70": {
         "anchor": "x70",
         "domain": [
          0.37090909090909097,
          0.4436363636363637
         ],
         "matches": "y111",
         "showticklabels": false
        },
        "yaxis71": {
         "anchor": "x71",
         "domain": [
          0.37090909090909097,
          0.4436363636363637
         ],
         "matches": "y111",
         "showticklabels": false
        },
        "yaxis72": {
         "anchor": "x72",
         "domain": [
          0.37090909090909097,
          0.4436363636363637
         ],
         "matches": "y111",
         "showticklabels": false
        },
        "yaxis73": {
         "anchor": "x73",
         "domain": [
          0.37090909090909097,
          0.4436363636363637
         ],
         "matches": "y111",
         "showticklabels": false
        },
        "yaxis74": {
         "anchor": "x74",
         "domain": [
          0.37090909090909097,
          0.4436363636363637
         ],
         "matches": "y111",
         "showticklabels": false
        },
        "yaxis75": {
         "anchor": "x75",
         "domain": [
          0.37090909090909097,
          0.4436363636363637
         ],
         "matches": "y111",
         "showticklabels": false
        },
        "yaxis76": {
         "anchor": "x76",
         "domain": [
          0.37090909090909097,
          0.4436363636363637
         ],
         "matches": "y111",
         "showticklabels": false
        },
        "yaxis77": {
         "anchor": "x77",
         "domain": [
          0.37090909090909097,
          0.4436363636363637
         ],
         "matches": "y111",
         "showticklabels": false
        },
        "yaxis78": {
         "anchor": "x78",
         "domain": [
          0.2781818181818182,
          0.35090909090909095
         ],
         "matches": "y111",
         "showticklabels": false
        },
        "yaxis79": {
         "anchor": "x79",
         "domain": [
          0.2781818181818182,
          0.35090909090909095
         ],
         "matches": "y111",
         "showticklabels": false
        },
        "yaxis8": {
         "anchor": "x8",
         "domain": [
          0.9272727272727275,
          1
         ],
         "matches": "y111",
         "showticklabels": false
        },
        "yaxis80": {
         "anchor": "x80",
         "domain": [
          0.2781818181818182,
          0.35090909090909095
         ],
         "matches": "y111",
         "showticklabels": false
        },
        "yaxis81": {
         "anchor": "x81",
         "domain": [
          0.2781818181818182,
          0.35090909090909095
         ],
         "matches": "y111",
         "showticklabels": false
        },
        "yaxis82": {
         "anchor": "x82",
         "domain": [
          0.2781818181818182,
          0.35090909090909095
         ],
         "matches": "y111",
         "showticklabels": false
        },
        "yaxis83": {
         "anchor": "x83",
         "domain": [
          0.2781818181818182,
          0.35090909090909095
         ],
         "matches": "y111",
         "showticklabels": false
        },
        "yaxis84": {
         "anchor": "x84",
         "domain": [
          0.2781818181818182,
          0.35090909090909095
         ],
         "matches": "y111",
         "showticklabels": false
        },
        "yaxis85": {
         "anchor": "x85",
         "domain": [
          0.2781818181818182,
          0.35090909090909095
         ],
         "matches": "y111",
         "showticklabels": false
        },
        "yaxis86": {
         "anchor": "x86",
         "domain": [
          0.2781818181818182,
          0.35090909090909095
         ],
         "matches": "y111",
         "showticklabels": false
        },
        "yaxis87": {
         "anchor": "x87",
         "domain": [
          0.2781818181818182,
          0.35090909090909095
         ],
         "matches": "y111",
         "showticklabels": false
        },
        "yaxis88": {
         "anchor": "x88",
         "domain": [
          0.2781818181818182,
          0.35090909090909095
         ],
         "matches": "y111",
         "showticklabels": false
        },
        "yaxis89": {
         "anchor": "x89",
         "domain": [
          0.18545454545454548,
          0.25818181818181823
         ],
         "matches": "y111",
         "showticklabels": false
        },
        "yaxis9": {
         "anchor": "x9",
         "domain": [
          0.9272727272727275,
          1
         ],
         "matches": "y111",
         "showticklabels": false
        },
        "yaxis90": {
         "anchor": "x90",
         "domain": [
          0.18545454545454548,
          0.25818181818181823
         ],
         "matches": "y111",
         "showticklabels": false
        },
        "yaxis91": {
         "anchor": "x91",
         "domain": [
          0.18545454545454548,
          0.25818181818181823
         ],
         "matches": "y111",
         "showticklabels": false
        },
        "yaxis92": {
         "anchor": "x92",
         "domain": [
          0.18545454545454548,
          0.25818181818181823
         ],
         "matches": "y111",
         "showticklabels": false
        },
        "yaxis93": {
         "anchor": "x93",
         "domain": [
          0.18545454545454548,
          0.25818181818181823
         ],
         "matches": "y111",
         "showticklabels": false
        },
        "yaxis94": {
         "anchor": "x94",
         "domain": [
          0.18545454545454548,
          0.25818181818181823
         ],
         "matches": "y111",
         "showticklabels": false
        },
        "yaxis95": {
         "anchor": "x95",
         "domain": [
          0.18545454545454548,
          0.25818181818181823
         ],
         "matches": "y111",
         "showticklabels": false
        },
        "yaxis96": {
         "anchor": "x96",
         "domain": [
          0.18545454545454548,
          0.25818181818181823
         ],
         "matches": "y111",
         "showticklabels": false
        },
        "yaxis97": {
         "anchor": "x97",
         "domain": [
          0.18545454545454548,
          0.25818181818181823
         ],
         "matches": "y111",
         "showticklabels": false
        },
        "yaxis98": {
         "anchor": "x98",
         "domain": [
          0.18545454545454548,
          0.25818181818181823
         ],
         "matches": "y111",
         "showticklabels": false
        },
        "yaxis99": {
         "anchor": "x99",
         "domain": [
          0.18545454545454548,
          0.25818181818181823
         ],
         "matches": "y111",
         "showticklabels": false
        }
       }
      }
     },
     "metadata": {},
     "output_type": "display_data"
    }
   ],
   "source": [
    "fig = go.Figure()\n",
    "fig = make_subplots(rows=11, cols=11, vertical_spacing=0.02, horizontal_spacing=0.02, shared_xaxes='all', shared_yaxes='all')\n",
    "\n",
    "# define subplot size\n",
    "fig.update_layout(width=1000, height=1000)\n",
    "\n",
    "# iterate through rows and cols\n",
    "for i in range(1, 12):\n",
    "    fig.add_trace(go.Bar(x = df_perf_meta.columns, y = df_perf_meta.iloc[i-1], marker_color=px.colors.sequential.gray, \n",
    "                name = f'meta_model_{algo[i-1]}'), row=i, col=i)\n",
    "    # remove legend and x axes labels\n",
    "    fig.update_layout(showlegend=False)\n",
    "    fig.update_xaxes(showticklabels=False)\n",
    "    fig.update_yaxes(showticklabels=False)\n",
    "    \n",
    "\n",
    "fig.show()"
   ]
  },
  {
   "cell_type": "code",
   "execution_count": null,
   "metadata": {},
   "outputs": [],
   "source": []
  }
 ],
 "metadata": {
  "interpreter": {
   "hash": "a0002ca97fa5ee54dc2e4008fbe9eabec60bb4400642f4fca2bafe1dfe14f90e"
  },
  "kernelspec": {
   "display_name": "Python 3.9.12 ('base')",
   "language": "python",
   "name": "python3"
  },
  "language_info": {
   "codemirror_mode": {
    "name": "ipython",
    "version": 3
   },
   "file_extension": ".py",
   "mimetype": "text/x-python",
   "name": "python",
   "nbconvert_exporter": "python",
   "pygments_lexer": "ipython3",
   "version": "3.9.12"
  },
  "orig_nbformat": 4
 },
 "nbformat": 4,
 "nbformat_minor": 2
}
