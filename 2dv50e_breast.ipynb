{
 "cells": [
  {
   "cell_type": "markdown",
   "metadata": {},
   "source": [
    "### Initial Data exploration and wrangling"
   ]
  },
  {
   "cell_type": "markdown",
   "metadata": {},
   "source": [
    "##### Modul import"
   ]
  },
  {
   "cell_type": "code",
   "execution_count": 1,
   "metadata": {},
   "outputs": [],
   "source": [
    "import pandas as pd\n",
    "import umap\n",
    "from sklearn import preprocessing\n",
    "import plotly.express as px\n",
    "import numpy as np\n",
    "import ast\n",
    "from sklearn.neighbors import KNeighborsClassifier\n",
    "from sklearn.svm import SVC\n",
    "from sklearn.naive_bayes import GaussianNB\n",
    "from sklearn.neural_network import MLPClassifier\n",
    "from sklearn.linear_model import LogisticRegression\n",
    "from sklearn.discriminant_analysis import LinearDiscriminantAnalysis\n",
    "from sklearn.discriminant_analysis import QuadraticDiscriminantAnalysis\n",
    "from sklearn.ensemble import RandomForestClassifier\n",
    "from sklearn.ensemble import ExtraTreesClassifier\n",
    "from sklearn.ensemble import AdaBoostClassifier\n",
    "from sklearn.ensemble import GradientBoostingClassifier\n",
    "from sklearn.ensemble import StackingClassifier\n",
    "from sklearn.metrics import accuracy_score, precision_score, recall_score, roc_auc_score, matthews_corrcoef, f1_score, log_loss\n",
    "from sklearn import metrics\n",
    "from imblearn.metrics import geometric_mean_score\n",
    "\n",
    "# define random seed\n",
    "np.random.seed(42)\n"
   ]
  },
  {
   "cell_type": "markdown",
   "metadata": {},
   "source": [
    "#### Dataset import and wrangling"
   ]
  },
  {
   "cell_type": "code",
   "execution_count": 2,
   "metadata": {},
   "outputs": [],
   "source": [
    "path = r'D:\\github\\2dv50e\\Data\\2. Breast Cancer Wisconsin (Diagnostic)'\n",
    "df_probabilities = pd.read_csv(path + r'\\topModelsProbabilities.csv')\n",
    "df_model = pd.read_csv(path + r'\\topModels.csv')\n",
    "# add column target to df model from target.csv\n",
    "df_target = pd.read_csv(path + r'\\target.csv')\n",
    "y_train = df_target['class']\n",
    "target = df_target['class'].tolist()\n",
    "df_source = pd.read_csv(path + r'\\dataset.csv')\n",
    "\n",
    "algo_nr = df_model['algorithm_id']"
   ]
  },
  {
   "cell_type": "code",
   "execution_count": 3,
   "metadata": {},
   "outputs": [],
   "source": [
    "# Print number of missing values per column in df_probabilities\n",
    "for col in df_probabilities.columns:\n",
    "    if df_probabilities[col].isnull().sum() > 0:\n",
    "        print(f'{col} has {df_probabilities[col].isnull().sum()} missing values.')\n",
    "    \n"
   ]
  },
  {
   "cell_type": "code",
   "execution_count": 4,
   "metadata": {},
   "outputs": [],
   "source": [
    "# Apply robust scaler to df_source\n",
    "scaler = preprocessing.RobustScaler()\n",
    "df_source_scaled = scaler.fit_transform(df_source)\n",
    "x_train = pd.DataFrame(df_source_scaled, columns=df_source.columns)"
   ]
  },
  {
   "cell_type": "markdown",
   "metadata": {},
   "source": [
    "### UMAP dimension reduction algorithm"
   ]
  },
  {
   "cell_type": "code",
   "execution_count": 5,
   "metadata": {},
   "outputs": [],
   "source": [
    "# UMAP function\n",
    "def umap_model (df_prob = df_probabilities, df_mod = df_model, parameter_umap_n_neighbors = 10, parameter_umap_min_dist = 0.5, \n",
    "                parameter_umap_metric = 'euclidean'):\n",
    "\n",
    "        algos = {1:'K-Nearest Neighbor', 2:'Support Vector Machine', 3:'Gaussian Naive Bayes', 4:'Multilayer Perceptron', 5:'Logistic Regression',\n",
    "        6:'Linear Discriminant Analysis', 7:'Quadratic Discriminant Analysis', 8:'Random Forest', 9:'Extra Trees', 10:'Adaptive Boosting',\n",
    "        11:'Gradient Boosting'}\n",
    "\n",
    "        umap_model = umap.UMAP(n_neighbors=parameter_umap_n_neighbors, metric=parameter_umap_metric, min_dist=parameter_umap_min_dist)\n",
    "        umap_embedding = umap_model.fit_transform(df_prob)\n",
    "        #convert umap_embedding to dataframe\n",
    "        df_umap = pd.DataFrame(umap_embedding, columns=['UMAP_1', 'UMAP_2'])\n",
    "        # Add algortim number (keeping in mind the same row structure in topModels.csv and topModelsProbabilities.csv)\n",
    "        df_umap['algorithm_id'] = df_mod['algorithm_id']\n",
    "        df_umap['algorithm_name'] = df_umap['algorithm_id'].map(algos)\n",
    "        df_umap['model_id'] = df_mod['model_id']\n",
    "        # add hyperparameters column\n",
    "        df_umap['hyperparameters'] = df_mod['params']\n",
    "        # Add model specific metrics\n",
    "        df_umap['accuracy'] = df_model['mean_test_accuracy']\n",
    "        df_umap['precision'] = df_model['mean_test_precision_weighted']\n",
    "        df_umap['recall'] = df_model['mean_test_recall_weighted']\n",
    "        df_umap['roc_auc_score'] = df_model['mean_test_roc_auc_ovo_weighted']\n",
    "        df_umap['geometric_mean_score'] = df_model['geometric_mean_score_weighted']\n",
    "        df_umap['matthews_corrcoef'] = df_model['matthews_corrcoef']\n",
    "        df_umap['f1_weighted'] = df_model['f1_weighted']\n",
    "        df_umap['log_loss'] = df_model['log_loss']\n",
    "        df_umap['performance'] = round((df_umap['accuracy'] + df_umap['precision'] + df_umap['recall'] + df_umap['roc_auc_score'] + \\\n",
    "                        df_umap['geometric_mean_score'] + df_umap['matthews_corrcoef'] + df_umap['f1_weighted']) / 7, 2)\n",
    "        df_umap = df_umap.astype({'UMAP_1': 'float64', 'UMAP_2': 'float64', 'performance': 'float64', 'algorithm_id': 'int64',\n",
    "                                    'algorithm_name': 'str', 'model_id': 'str', 'hyperparameters': 'str'})\n",
    "        # create new column \"size\", set to 2 for rows with \"meta\" in \"model_id\", else 1\n",
    "        df_umap['size'] = np.where(df_umap['model_id'].str.contains('meta'), 3, 1)\n",
    "        # create new column for text of points\n",
    "        df_umap['text'] = df_umap['algorithm_name'] + '<br>' + 'Performance: ' + \\\n",
    "                df_umap['performance'].astype(str) + '%' + '<br>' + 'Model ID: ' + df_umap['model_id'].astype(str) + \\\n",
    "                '<br>' + 'Accuracy: ' + df_umap['accuracy'].astype(str) + '%' + '<br>' + 'Precision: ' + \\\n",
    "                df_umap['precision'].astype(str) + '%' + '<br>' + 'Recall: ' + df_umap['recall'].astype(str) + \\\n",
    "                '%' + '<br>' + 'ROC AUC: ' + df_umap['roc_auc_score'].astype(str) + '<br>' + 'Geometric Mean: ' + \\\n",
    "                df_umap['geometric_mean_score'].astype(str) + '<br>' + 'Matthews Correlation: ' + \\\n",
    "                df_umap['matthews_corrcoef'].astype(str) + '<br>' + 'F1: ' + df_umap['f1_weighted'].astype(str) + \\\n",
    "                '<br>' + 'Log Loss: ' + df_umap['log_loss'].astype(str)\n",
    "        # drop metrics that are not needed\n",
    "        df_umap = df_umap.drop(columns=['accuracy', 'precision', 'recall', 'roc_auc_score', 'geometric_mean_score', \n",
    "                                        'matthews_corrcoef', 'f1_weighted', 'log_loss'])\n",
    "\n",
    "        return df_umap"
   ]
  },
  {
   "cell_type": "code",
   "execution_count": 6,
   "metadata": {},
   "outputs": [],
   "source": [
    "# UMAP plot function\n",
    "def umap_plot(df_umap):\n",
    "        # Define symbols for each algorithm\n",
    "        symbols = ['circle', 'square', 'x', 'cross', 'diamond', 'star', 'hexagram', 'triangle-right', 'triangle-left', 'triangle-down', 'triangle-up']\n",
    "        # Plot UMAP, add hovertext and symbols, define colorscale by performance, add title\n",
    "        fig = px.scatter(df_umap, x='UMAP_1', y='UMAP_2', color='performance', size='size', hover_name='text',\n",
    "                symbol = 'algorithm_id', symbol_sequence = symbols, labels=dict(UMAP_1='', UMAP_2='', performance='Performance'),\n",
    "                color_continuous_scale=px.colors.sequential.Viridis)\n",
    "        fig.update_layout(title_text='UMAP Plot')\n",
    "        fig.update_layout(showlegend=False)\n",
    "        fig.update_traces(marker=dict(opacity=0.8, line=dict(width=1, color='Black')), selector=dict(mode='markers'))\n",
    "        # Remove axis labels\n",
    "        fig.update_layout(xaxis=dict(showticklabels=False), yaxis=dict(showticklabels=False))\n",
    "        # define plot as square\n",
    "        fig.update_layout(width=800, height=800)\n",
    "        # add tooltip\n",
    "        fig.update_layout(hovermode='closest')\n",
    "        return fig"
   ]
  },
  {
   "cell_type": "markdown",
   "metadata": {},
   "source": [
    "### Stacking Classifier ensemble"
   ]
  },
  {
   "cell_type": "markdown",
   "metadata": {},
   "source": [
    "Function to extract hyperparameters from the best performing model per algorithm"
   ]
  },
  {
   "cell_type": "code",
   "execution_count": 7,
   "metadata": {},
   "outputs": [],
   "source": [
    "def best_params(df_umap):\n",
    "   # Select hyperparameters for best model in each algorithm\n",
    "    df_umap_best = df_umap.groupby('algorithm_id').apply(lambda x: x.sort_values('performance', ascending=False).iloc[0])\n",
    "    # reset algorithm_nr as  index\n",
    "    df_umap_best = df_umap_best.reset_index(drop=True)\n",
    "    # keep only algorithm number, name, performance and hyperparameters\n",
    "    df_umap_best = df_umap_best[['algorithm_id', 'algorithm_name', 'performance', 'hyperparameters']]\n",
    "    return df_umap_best"
   ]
  },
  {
   "cell_type": "markdown",
   "metadata": {},
   "source": [
    "Supporting functions to extract hyperparameters values"
   ]
  },
  {
   "cell_type": "code",
   "execution_count": 8,
   "metadata": {},
   "outputs": [],
   "source": [
    "# Return hyperparameters based on algorithm name from df_umap_best\n",
    "def get_hyperparameters(df_umap, algorithm_name):\n",
    "    return df_umap[df_umap['algorithm_name'] == algorithm_name]['hyperparameters']\n",
    "\n",
    "# return value of key in dictionary\n",
    "def get_value(dictionary, key):\n",
    "    return dictionary[key]\n",
    "\n",
    "# convert string to dictionary\n",
    "def string_to_dict(string):\n",
    "    return ast.literal_eval(string)\n"
   ]
  },
  {
   "cell_type": "markdown",
   "metadata": {},
   "source": [
    "Create umap dimension reduction dataset for original base layer model probabilities"
   ]
  },
  {
   "cell_type": "code",
   "execution_count": 9,
   "metadata": {},
   "outputs": [],
   "source": [
    "df_umap = umap_model(df_probabilities, df_model)"
   ]
  },
  {
   "cell_type": "markdown",
   "metadata": {},
   "source": [
    "Base layer estimators (top 5 per algorithm)"
   ]
  },
  {
   "cell_type": "code",
   "execution_count": 10,
   "metadata": {},
   "outputs": [],
   "source": [
    "# dictionaries with algorithm names and their hyperparameters\n",
    "\n",
    "knn_params = {int(k):v for k,v in get_hyperparameters(df_umap, 'K-Nearest Neighbor').items()}\n",
    "svm_params = {int(k):v for k,v in get_hyperparameters(df_umap, 'Support Vector Machine').items()}\n",
    "gnb_params = {int(k):v for k,v in get_hyperparameters(df_umap, 'Gaussian Naive Bayes').items()}\n",
    "mlp_params = {int(k):v for k,v in get_hyperparameters(df_umap, 'Multilayer Perceptron').items()}\n",
    "lr_params = {int(k):v for k,v in get_hyperparameters(df_umap, 'Logistic Regression').items()}\n",
    "lda_params = {int(k):v for k,v in get_hyperparameters(df_umap, 'Linear Discriminant Analysis').items()}\n",
    "qda_params = {int(k):v for k,v in get_hyperparameters(df_umap, 'Quadratic Discriminant Analysis').items()}\n",
    "rf_params = {int(k):v for k,v in get_hyperparameters(df_umap, 'Random Forest').items()}\n",
    "et_params = {int(k):v for k,v in get_hyperparameters(df_umap, 'Extra Trees').items()}\n",
    "ab_params = {int(k):v for k,v in get_hyperparameters(df_umap, 'Adaptive Boosting').items()}\n",
    "gb_params = {int(k):v for k,v in get_hyperparameters(df_umap, 'Gradient Boosting').items()}"
   ]
  },
  {
   "cell_type": "code",
   "execution_count": 11,
   "metadata": {},
   "outputs": [],
   "source": [
    "# Estimators and hyperparameters for each algorithm\n",
    "estimators = []\n",
    "# populate list of estimators with all 55 top models\n",
    "count = 0\n",
    "for i in list(knn_params.keys()):\n",
    "                temp_dict = ast.literal_eval(knn_params[i])\n",
    "                estimators.append((f'knn_{count}', KNeighborsClassifier(algorithm=get_value(temp_dict, 'algorithm'), \n",
    "                                metric=get_value(temp_dict, 'metric'), n_neighbors= get_value(temp_dict, 'n_neighbors'), \n",
    "                                weights=get_value(temp_dict, 'weights'), n_jobs=-1)))\n",
    "                count += 1\n",
    "count = 0\n",
    "for i in list(svm_params.keys()):\n",
    "                temp_dict = ast.literal_eval(svm_params[i])\n",
    "                estimators.append((f'svm_{count}', SVC(C=get_value(temp_dict, 'C'), kernel=get_value(temp_dict, 'kernel'),probability=True, random_state=42)))\n",
    "                count += 1\n",
    "count = 0\n",
    "for i in list(gnb_params.keys()):\n",
    "                temp_dict = ast.literal_eval(gnb_params[i])\n",
    "                estimators.append((f'gnb_{count}', GaussianNB(var_smoothing=get_value(temp_dict, 'var_smoothing'))))\n",
    "                count += 1\n",
    "count = 0\n",
    "for i in list(mlp_params.keys()):\n",
    "                temp_dict = ast.literal_eval(mlp_params[i])\n",
    "                estimators.append((f'mlp_{count}', MLPClassifier(activation=get_value(temp_dict, 'activation'), \n",
    "                                alpha=get_value(temp_dict, 'alpha'),\n",
    "                                max_iter=get_value(temp_dict, 'max_iter'), solver=get_value(temp_dict, 'solver'), \n",
    "                                tol=get_value(temp_dict, 'tol'), random_state=42)))\n",
    "                count += 1\n",
    "count = 0\n",
    "for i in list(lr_params.keys()):\n",
    "                temp_dict = ast.literal_eval(lr_params[i])\n",
    "                estimators.append((f'lr_{count}', LogisticRegression(C=get_value(temp_dict, 'C'), max_iter=get_value(temp_dict, 'max_iter'), penalty=get_value(temp_dict, 'penalty'), solver=get_value(temp_dict, 'solver'), random_state=42, n_jobs=-1)))\n",
    "                count += 1\n",
    "count = 0\n",
    "for i in list(lda_params.keys()):\n",
    "                temp_dict = ast.literal_eval(lda_params[i])\n",
    "                estimators.append((f'lda_{count}', LinearDiscriminantAnalysis(shrinkage=get_value(temp_dict, 'shrinkage'), \n",
    "                                solver=get_value(temp_dict, 'solver'))))\n",
    "                count += 1\n",
    "count = 0\n",
    "for i in list(qda_params.keys()):\n",
    "                temp_dict = ast.literal_eval(qda_params[i])\n",
    "                estimators.append((f'qda_{count}', QuadraticDiscriminantAnalysis(reg_param=get_value(temp_dict, 'reg_param'), tol=get_value(temp_dict, 'tol'))))\n",
    "                count += 1\n",
    "count = 0\n",
    "for i in list(rf_params.keys()):\n",
    "                temp_dict = ast.literal_eval(rf_params[i])\n",
    "                estimators.append((f'rf_{count}', RandomForestClassifier(criterion=get_value(temp_dict, 'criterion'), \n",
    "                                n_estimators=get_value(temp_dict, 'n_estimators'), random_state=42, n_jobs=-1)))\n",
    "                count += 1\n",
    "count = 0\n",
    "for i in list(et_params.keys()):\n",
    "                temp_dict = ast.literal_eval(et_params[i])\n",
    "                estimators.append((f'et_{count}', ExtraTreesClassifier(criterion=get_value(temp_dict, 'criterion'),\n",
    "                                n_estimators=get_value(temp_dict, 'n_estimators'), random_state=42, n_jobs=-1)))\n",
    "                count += 1\n",
    "count = 0\n",
    "for i in list(ab_params.keys()):\n",
    "                temp_dict = ast.literal_eval(ab_params[i])\n",
    "                estimators.append((f'ab_{count}', AdaBoostClassifier(algorithm=get_value(temp_dict, 'algorithm'), \n",
    "                                learning_rate=get_value(temp_dict, 'learning_rate'), n_estimators=get_value(temp_dict, 'n_estimators'), random_state=42)))\n",
    "                count += 1\n",
    "count = 0\n",
    "for i in list(gb_params.keys()):\n",
    "                temp_dict = ast.literal_eval(gb_params[i])\n",
    "                estimators.append((f'gb_{count}', GradientBoostingClassifier(criterion=get_value(temp_dict, 'criterion'), \n",
    "                                learning_rate=get_value(temp_dict, 'learning_rate'), n_estimators=get_value(temp_dict, 'n_estimators'), random_state=42)))\n",
    "                count += 1"
   ]
  },
  {
   "cell_type": "markdown",
   "metadata": {},
   "source": [
    "##### Metamodel estimators (top 1 per algorithm)\n",
    "Hyperparameters will be extracted from the best performing model per algorithm. <br> The plan is to extract hyperparameters from the best performing model per algorithm and then apply these hyperparameters to the metamodels. Currently no functuonality to be added to allow end user to tune the hyperparameters for metamodels, instead they will rely on top performing ones from base layer models."
   ]
  },
  {
   "cell_type": "code",
   "execution_count": 12,
   "metadata": {},
   "outputs": [
    {
     "data": {
      "text/html": [
       "<div>\n",
       "<style scoped>\n",
       "    .dataframe tbody tr th:only-of-type {\n",
       "        vertical-align: middle;\n",
       "    }\n",
       "\n",
       "    .dataframe tbody tr th {\n",
       "        vertical-align: top;\n",
       "    }\n",
       "\n",
       "    .dataframe thead th {\n",
       "        text-align: right;\n",
       "    }\n",
       "</style>\n",
       "<table border=\"1\" class=\"dataframe\">\n",
       "  <thead>\n",
       "    <tr style=\"text-align: right;\">\n",
       "      <th></th>\n",
       "      <th>algorithm_id</th>\n",
       "      <th>algorithm_name</th>\n",
       "      <th>performance</th>\n",
       "      <th>hyperparameters</th>\n",
       "    </tr>\n",
       "  </thead>\n",
       "  <tbody>\n",
       "    <tr>\n",
       "      <th>0</th>\n",
       "      <td>1</td>\n",
       "      <td>K-Nearest Neighbor</td>\n",
       "      <td>98.30</td>\n",
       "      <td>{'algorithm': 'kd_tree', 'metric': 'minkowski'...</td>\n",
       "    </tr>\n",
       "    <tr>\n",
       "      <th>1</th>\n",
       "      <td>2</td>\n",
       "      <td>Support Vector Machine</td>\n",
       "      <td>97.08</td>\n",
       "      <td>{'C': 2.3, 'kernel': 'linear'}</td>\n",
       "    </tr>\n",
       "    <tr>\n",
       "      <th>2</th>\n",
       "      <td>3</td>\n",
       "      <td>Gaussian Naive Bayes</td>\n",
       "      <td>95.69</td>\n",
       "      <td>{'var_smoothing': 0.0}</td>\n",
       "    </tr>\n",
       "    <tr>\n",
       "      <th>3</th>\n",
       "      <td>4</td>\n",
       "      <td>Multilayer Perceptron</td>\n",
       "      <td>96.47</td>\n",
       "      <td>{'activation': 'logistic', 'alpha': 0.00061, '...</td>\n",
       "    </tr>\n",
       "    <tr>\n",
       "      <th>4</th>\n",
       "      <td>5</td>\n",
       "      <td>Logistic Regression</td>\n",
       "      <td>96.46</td>\n",
       "      <td>{'C': 0.5, 'max_iter': 50, 'penalty': 'l2', 's...</td>\n",
       "    </tr>\n",
       "  </tbody>\n",
       "</table>\n",
       "</div>"
      ],
      "text/plain": [
       "   algorithm_id          algorithm_name  performance  \\\n",
       "0             1      K-Nearest Neighbor        98.30   \n",
       "1             2  Support Vector Machine        97.08   \n",
       "2             3    Gaussian Naive Bayes        95.69   \n",
       "3             4   Multilayer Perceptron        96.47   \n",
       "4             5     Logistic Regression        96.46   \n",
       "\n",
       "                                     hyperparameters  \n",
       "0  {'algorithm': 'kd_tree', 'metric': 'minkowski'...  \n",
       "1                     {'C': 2.3, 'kernel': 'linear'}  \n",
       "2                             {'var_smoothing': 0.0}  \n",
       "3  {'activation': 'logistic', 'alpha': 0.00061, '...  \n",
       "4  {'C': 0.5, 'max_iter': 50, 'penalty': 'l2', 's...  "
      ]
     },
     "execution_count": 12,
     "metadata": {},
     "output_type": "execute_result"
    }
   ],
   "source": [
    "# Exctrude the top models from the dataframe with the respective hyperparameters\n",
    "meta_params = best_params(df_umap)\n",
    "meta_params.head()"
   ]
  },
  {
   "cell_type": "code",
   "execution_count": 13,
   "metadata": {},
   "outputs": [],
   "source": [
    "algo = ['knn', 'svm', 'gnb', 'mlp', 'lr', 'lda', 'qda', 'rf', 'et', 'ab', 'gb']\n",
    "# return unique values of algorithm name\n",
    "meta_params = best_params(df_umap)\n",
    "algo_names = meta_params['algorithm_name'].unique()\n",
    "\n",
    "# iterate through key and value pairs in algo_dict\n",
    "i = 0\n",
    "for k,v in zip(algo, algo_names):\n",
    "    # Define hyperparameters for each  final estimator, based on top performing model from base layer\n",
    "    temp = get_hyperparameters(meta_params, v)\n",
    "    # convert to dictionary for easy access\n",
    "    temp_dict = {int(k):v for k,v in temp.items()}\n",
    "    # return first value\n",
    "    temp_dict = temp_dict[i]\n",
    "    # convert to dictionary for easy access, assign varibale name per algorithm\n",
    "    globals()['best_' +  k + '_params'] = ast.literal_eval(temp_dict)\n",
    "    i += 1"
   ]
  },
  {
   "cell_type": "code",
   "execution_count": 14,
   "metadata": {},
   "outputs": [],
   "source": [
    "# Add final estimators\n",
    "final_estimators = [('knn', KNeighborsClassifier(algorithm=get_value(best_knn_params, 'algorithm'), metric=get_value    (best_knn_params, 'metric'), n_neighbors= get_value(best_knn_params, 'n_neighbors'), weights=get_value(best_knn_params, 'weights'), n_jobs=-1)),\n",
    "        ('svm', SVC(C=get_value(best_svm_params, 'C'), kernel=get_value(best_svm_params, 'kernel'),probability=True, random_state=42)),\n",
    "        ('gnb', GaussianNB(var_smoothing=get_value(best_gnb_params, 'var_smoothing'))),\n",
    "        ('mlp', MLPClassifier(activation=get_value(best_mlp_params, 'activation'), alpha=get_value(best_mlp_params, 'alpha'), max_iter=get_value(best_mlp_params, 'max_iter'), solver=get_value(best_mlp_params, 'solver'), tol=get_value(best_mlp_params, 'tol'), random_state=42)),\n",
    "        ('lr', LogisticRegression(C=get_value(best_lr_params, 'C'), max_iter=get_value(best_lr_params, 'max_iter'),\n",
    "        penalty=get_value(best_lr_params, 'penalty'), solver=get_value(best_lr_params, 'solver'), random_state=42, n_jobs=-1)),\n",
    "        ('lda', LinearDiscriminantAnalysis(shrinkage=get_value(best_lda_params, 'shrinkage'), solver=get_value(best_lda_params, 'solver'))),\n",
    "        ('qda', QuadraticDiscriminantAnalysis(reg_param=get_value(best_qda_params, 'reg_param'), tol=get_value(best_qda_params, 'tol'))),\n",
    "        ('rf', RandomForestClassifier(criterion=get_value(best_rf_params, 'criterion'), n_estimators=get_value(best_rf_params, 'n_estimators'), random_state=42, n_jobs=-1)),\n",
    "        ('et', ExtraTreesClassifier(criterion=get_value(best_et_params, 'criterion'), n_estimators=get_value(best_et_params, 'n_estimators'), random_state=42, n_jobs=-1)),\n",
    "        ('ab', AdaBoostClassifier(algorithm=get_value(best_ab_params, 'algorithm'), learning_rate=get_value(best_ab_params, 'learning_rate'), n_estimators=get_value(best_ab_params, 'n_estimators'), random_state=42)),\n",
    "        ('gb', GradientBoostingClassifier(criterion=get_value(best_gb_params, 'criterion'), learning_rate=get_value(best_gb_params, 'learning_rate'), n_estimators=get_value(best_gb_params, 'n_estimators'), random_state=42))\n",
    "        ]"
   ]
  },
  {
   "cell_type": "markdown",
   "metadata": {},
   "source": [
    "Please note that for average metrix I did not include the logloss as using normalized version of logloss introduces bias to dataset"
   ]
  },
  {
   "cell_type": "code",
   "execution_count": 15,
   "metadata": {},
   "outputs": [
    {
     "name": "stderr",
     "output_type": "stream",
     "text": [
      "D:\\Conda\\lib\\site-packages\\sklearn\\discriminant_analysis.py:878: UserWarning: Variables are collinear\n",
      "  warnings.warn(\"Variables are collinear\")\n",
      "D:\\Conda\\lib\\site-packages\\sklearn\\ensemble\\_gb.py:1284: FutureWarning: criterion='mae' was deprecated in version 0.24 and will be removed in version 1.1 (renaming of 0.26). Use criterion='friedman_mse' or 'squared_error' instead, as trees should use a squared error criterion in Gradient Boosting.\n",
      "  warnings.warn(\n",
      "D:\\Conda\\lib\\site-packages\\sklearn\\tree\\_classes.py:366: FutureWarning: Criterion 'mae' was deprecated in v1.0 and will be removed in version 1.2. Use `criterion='absolute_error'` which is equivalent.\n",
      "  warnings.warn(\n",
      "D:\\Conda\\lib\\site-packages\\sklearn\\tree\\_classes.py:366: FutureWarning: Criterion 'mae' was deprecated in v1.0 and will be removed in version 1.2. Use `criterion='absolute_error'` which is equivalent.\n",
      "  warnings.warn(\n",
      "D:\\Conda\\lib\\site-packages\\sklearn\\tree\\_classes.py:366: FutureWarning: Criterion 'mae' was deprecated in v1.0 and will be removed in version 1.2. Use `criterion='absolute_error'` which is equivalent.\n",
      "  warnings.warn(\n",
      "D:\\Conda\\lib\\site-packages\\sklearn\\tree\\_classes.py:366: FutureWarning: Criterion 'mae' was deprecated in v1.0 and will be removed in version 1.2. Use `criterion='absolute_error'` which is equivalent.\n",
      "  warnings.warn(\n",
      "D:\\Conda\\lib\\site-packages\\sklearn\\tree\\_classes.py:366: FutureWarning: Criterion 'mae' was deprecated in v1.0 and will be removed in version 1.2. Use `criterion='absolute_error'` which is equivalent.\n",
      "  warnings.warn(\n",
      "D:\\Conda\\lib\\site-packages\\sklearn\\tree\\_classes.py:366: FutureWarning: Criterion 'mae' was deprecated in v1.0 and will be removed in version 1.2. Use `criterion='absolute_error'` which is equivalent.\n",
      "  warnings.warn(\n",
      "D:\\Conda\\lib\\site-packages\\sklearn\\tree\\_classes.py:366: FutureWarning: Criterion 'mae' was deprecated in v1.0 and will be removed in version 1.2. Use `criterion='absolute_error'` which is equivalent.\n",
      "  warnings.warn(\n",
      "D:\\Conda\\lib\\site-packages\\sklearn\\tree\\_classes.py:366: FutureWarning: Criterion 'mae' was deprecated in v1.0 and will be removed in version 1.2. Use `criterion='absolute_error'` which is equivalent.\n",
      "  warnings.warn(\n",
      "D:\\Conda\\lib\\site-packages\\sklearn\\tree\\_classes.py:366: FutureWarning: Criterion 'mae' was deprecated in v1.0 and will be removed in version 1.2. Use `criterion='absolute_error'` which is equivalent.\n",
      "  warnings.warn(\n",
      "D:\\Conda\\lib\\site-packages\\sklearn\\tree\\_classes.py:366: FutureWarning: Criterion 'mae' was deprecated in v1.0 and will be removed in version 1.2. Use `criterion='absolute_error'` which is equivalent.\n",
      "  warnings.warn(\n",
      "D:\\Conda\\lib\\site-packages\\sklearn\\tree\\_classes.py:366: FutureWarning: Criterion 'mae' was deprecated in v1.0 and will be removed in version 1.2. Use `criterion='absolute_error'` which is equivalent.\n",
      "  warnings.warn(\n",
      "D:\\Conda\\lib\\site-packages\\sklearn\\tree\\_classes.py:366: FutureWarning: Criterion 'mae' was deprecated in v1.0 and will be removed in version 1.2. Use `criterion='absolute_error'` which is equivalent.\n",
      "  warnings.warn(\n",
      "D:\\Conda\\lib\\site-packages\\sklearn\\tree\\_classes.py:366: FutureWarning: Criterion 'mae' was deprecated in v1.0 and will be removed in version 1.2. Use `criterion='absolute_error'` which is equivalent.\n",
      "  warnings.warn(\n",
      "D:\\Conda\\lib\\site-packages\\sklearn\\tree\\_classes.py:366: FutureWarning: Criterion 'mae' was deprecated in v1.0 and will be removed in version 1.2. Use `criterion='absolute_error'` which is equivalent.\n",
      "  warnings.warn(\n",
      "D:\\Conda\\lib\\site-packages\\sklearn\\tree\\_classes.py:366: FutureWarning: Criterion 'mae' was deprecated in v1.0 and will be removed in version 1.2. Use `criterion='absolute_error'` which is equivalent.\n",
      "  warnings.warn(\n",
      "D:\\Conda\\lib\\site-packages\\sklearn\\tree\\_classes.py:366: FutureWarning: Criterion 'mae' was deprecated in v1.0 and will be removed in version 1.2. Use `criterion='absolute_error'` which is equivalent.\n",
      "  warnings.warn(\n",
      "D:\\Conda\\lib\\site-packages\\sklearn\\tree\\_classes.py:366: FutureWarning: Criterion 'mae' was deprecated in v1.0 and will be removed in version 1.2. Use `criterion='absolute_error'` which is equivalent.\n",
      "  warnings.warn(\n",
      "D:\\Conda\\lib\\site-packages\\sklearn\\tree\\_classes.py:366: FutureWarning: Criterion 'mae' was deprecated in v1.0 and will be removed in version 1.2. Use `criterion='absolute_error'` which is equivalent.\n",
      "  warnings.warn(\n",
      "D:\\Conda\\lib\\site-packages\\sklearn\\tree\\_classes.py:366: FutureWarning: Criterion 'mae' was deprecated in v1.0 and will be removed in version 1.2. Use `criterion='absolute_error'` which is equivalent.\n",
      "  warnings.warn(\n",
      "D:\\Conda\\lib\\site-packages\\sklearn\\tree\\_classes.py:366: FutureWarning: Criterion 'mae' was deprecated in v1.0 and will be removed in version 1.2. Use `criterion='absolute_error'` which is equivalent.\n",
      "  warnings.warn(\n",
      "D:\\Conda\\lib\\site-packages\\sklearn\\tree\\_classes.py:366: FutureWarning: Criterion 'mae' was deprecated in v1.0 and will be removed in version 1.2. Use `criterion='absolute_error'` which is equivalent.\n",
      "  warnings.warn(\n",
      "D:\\Conda\\lib\\site-packages\\sklearn\\tree\\_classes.py:366: FutureWarning: Criterion 'mae' was deprecated in v1.0 and will be removed in version 1.2. Use `criterion='absolute_error'` which is equivalent.\n",
      "  warnings.warn(\n",
      "D:\\Conda\\lib\\site-packages\\sklearn\\tree\\_classes.py:366: FutureWarning: Criterion 'mae' was deprecated in v1.0 and will be removed in version 1.2. Use `criterion='absolute_error'` which is equivalent.\n",
      "  warnings.warn(\n",
      "D:\\Conda\\lib\\site-packages\\sklearn\\tree\\_classes.py:366: FutureWarning: Criterion 'mae' was deprecated in v1.0 and will be removed in version 1.2. Use `criterion='absolute_error'` which is equivalent.\n",
      "  warnings.warn(\n",
      "D:\\Conda\\lib\\site-packages\\sklearn\\tree\\_classes.py:366: FutureWarning: Criterion 'mae' was deprecated in v1.0 and will be removed in version 1.2. Use `criterion='absolute_error'` which is equivalent.\n",
      "  warnings.warn(\n",
      "D:\\Conda\\lib\\site-packages\\sklearn\\tree\\_classes.py:366: FutureWarning: Criterion 'mae' was deprecated in v1.0 and will be removed in version 1.2. Use `criterion='absolute_error'` which is equivalent.\n",
      "  warnings.warn(\n",
      "D:\\Conda\\lib\\site-packages\\sklearn\\tree\\_classes.py:366: FutureWarning: Criterion 'mae' was deprecated in v1.0 and will be removed in version 1.2. Use `criterion='absolute_error'` which is equivalent.\n",
      "  warnings.warn(\n",
      "D:\\Conda\\lib\\site-packages\\sklearn\\tree\\_classes.py:366: FutureWarning: Criterion 'mae' was deprecated in v1.0 and will be removed in version 1.2. Use `criterion='absolute_error'` which is equivalent.\n",
      "  warnings.warn(\n",
      "D:\\Conda\\lib\\site-packages\\sklearn\\tree\\_classes.py:366: FutureWarning: Criterion 'mae' was deprecated in v1.0 and will be removed in version 1.2. Use `criterion='absolute_error'` which is equivalent.\n",
      "  warnings.warn(\n",
      "D:\\Conda\\lib\\site-packages\\sklearn\\tree\\_classes.py:366: FutureWarning: Criterion 'mae' was deprecated in v1.0 and will be removed in version 1.2. Use `criterion='absolute_error'` which is equivalent.\n",
      "  warnings.warn(\n",
      "D:\\Conda\\lib\\site-packages\\sklearn\\tree\\_classes.py:366: FutureWarning: Criterion 'mae' was deprecated in v1.0 and will be removed in version 1.2. Use `criterion='absolute_error'` which is equivalent.\n",
      "  warnings.warn(\n",
      "D:\\Conda\\lib\\site-packages\\sklearn\\tree\\_classes.py:366: FutureWarning: Criterion 'mae' was deprecated in v1.0 and will be removed in version 1.2. Use `criterion='absolute_error'` which is equivalent.\n",
      "  warnings.warn(\n",
      "D:\\Conda\\lib\\site-packages\\sklearn\\tree\\_classes.py:366: FutureWarning: Criterion 'mae' was deprecated in v1.0 and will be removed in version 1.2. Use `criterion='absolute_error'` which is equivalent.\n",
      "  warnings.warn(\n",
      "D:\\Conda\\lib\\site-packages\\sklearn\\tree\\_classes.py:366: FutureWarning: Criterion 'mae' was deprecated in v1.0 and will be removed in version 1.2. Use `criterion='absolute_error'` which is equivalent.\n",
      "  warnings.warn(\n",
      "D:\\Conda\\lib\\site-packages\\sklearn\\tree\\_classes.py:366: FutureWarning: Criterion 'mae' was deprecated in v1.0 and will be removed in version 1.2. Use `criterion='absolute_error'` which is equivalent.\n",
      "  warnings.warn(\n",
      "D:\\Conda\\lib\\site-packages\\sklearn\\tree\\_classes.py:366: FutureWarning: Criterion 'mae' was deprecated in v1.0 and will be removed in version 1.2. Use `criterion='absolute_error'` which is equivalent.\n",
      "  warnings.warn(\n",
      "D:\\Conda\\lib\\site-packages\\sklearn\\tree\\_classes.py:366: FutureWarning: Criterion 'mae' was deprecated in v1.0 and will be removed in version 1.2. Use `criterion='absolute_error'` which is equivalent.\n",
      "  warnings.warn(\n",
      "D:\\Conda\\lib\\site-packages\\sklearn\\tree\\_classes.py:366: FutureWarning: Criterion 'mae' was deprecated in v1.0 and will be removed in version 1.2. Use `criterion='absolute_error'` which is equivalent.\n",
      "  warnings.warn(\n",
      "D:\\Conda\\lib\\site-packages\\sklearn\\tree\\_classes.py:366: FutureWarning: Criterion 'mae' was deprecated in v1.0 and will be removed in version 1.2. Use `criterion='absolute_error'` which is equivalent.\n",
      "  warnings.warn(\n",
      "D:\\Conda\\lib\\site-packages\\sklearn\\tree\\_classes.py:366: FutureWarning: Criterion 'mae' was deprecated in v1.0 and will be removed in version 1.2. Use `criterion='absolute_error'` which is equivalent.\n",
      "  warnings.warn(\n",
      "D:\\Conda\\lib\\site-packages\\sklearn\\tree\\_classes.py:366: FutureWarning: Criterion 'mae' was deprecated in v1.0 and will be removed in version 1.2. Use `criterion='absolute_error'` which is equivalent.\n",
      "  warnings.warn(\n",
      "D:\\Conda\\lib\\site-packages\\sklearn\\tree\\_classes.py:366: FutureWarning: Criterion 'mae' was deprecated in v1.0 and will be removed in version 1.2. Use `criterion='absolute_error'` which is equivalent.\n",
      "  warnings.warn(\n",
      "D:\\Conda\\lib\\site-packages\\sklearn\\tree\\_classes.py:366: FutureWarning: Criterion 'mae' was deprecated in v1.0 and will be removed in version 1.2. Use `criterion='absolute_error'` which is equivalent.\n",
      "  warnings.warn(\n",
      "D:\\Conda\\lib\\site-packages\\sklearn\\tree\\_classes.py:366: FutureWarning: Criterion 'mae' was deprecated in v1.0 and will be removed in version 1.2. Use `criterion='absolute_error'` which is equivalent.\n",
      "  warnings.warn(\n",
      "D:\\Conda\\lib\\site-packages\\sklearn\\tree\\_classes.py:366: FutureWarning: Criterion 'mae' was deprecated in v1.0 and will be removed in version 1.2. Use `criterion='absolute_error'` which is equivalent.\n",
      "  warnings.warn(\n",
      "D:\\Conda\\lib\\site-packages\\sklearn\\tree\\_classes.py:366: FutureWarning: Criterion 'mae' was deprecated in v1.0 and will be removed in version 1.2. Use `criterion='absolute_error'` which is equivalent.\n",
      "  warnings.warn(\n",
      "D:\\Conda\\lib\\site-packages\\sklearn\\tree\\_classes.py:366: FutureWarning: Criterion 'mae' was deprecated in v1.0 and will be removed in version 1.2. Use `criterion='absolute_error'` which is equivalent.\n",
      "  warnings.warn(\n",
      "D:\\Conda\\lib\\site-packages\\sklearn\\tree\\_classes.py:366: FutureWarning: Criterion 'mae' was deprecated in v1.0 and will be removed in version 1.2. Use `criterion='absolute_error'` which is equivalent.\n",
      "  warnings.warn(\n",
      "D:\\Conda\\lib\\site-packages\\sklearn\\tree\\_classes.py:366: FutureWarning: Criterion 'mae' was deprecated in v1.0 and will be removed in version 1.2. Use `criterion='absolute_error'` which is equivalent.\n",
      "  warnings.warn(\n",
      "D:\\Conda\\lib\\site-packages\\sklearn\\tree\\_classes.py:366: FutureWarning: Criterion 'mae' was deprecated in v1.0 and will be removed in version 1.2. Use `criterion='absolute_error'` which is equivalent.\n",
      "  warnings.warn(\n",
      "D:\\Conda\\lib\\site-packages\\sklearn\\tree\\_classes.py:366: FutureWarning: Criterion 'mae' was deprecated in v1.0 and will be removed in version 1.2. Use `criterion='absolute_error'` which is equivalent.\n",
      "  warnings.warn(\n",
      "D:\\Conda\\lib\\site-packages\\sklearn\\tree\\_classes.py:366: FutureWarning: Criterion 'mae' was deprecated in v1.0 and will be removed in version 1.2. Use `criterion='absolute_error'` which is equivalent.\n",
      "  warnings.warn(\n",
      "D:\\Conda\\lib\\site-packages\\sklearn\\tree\\_classes.py:366: FutureWarning: Criterion 'mae' was deprecated in v1.0 and will be removed in version 1.2. Use `criterion='absolute_error'` which is equivalent.\n",
      "  warnings.warn(\n",
      "D:\\Conda\\lib\\site-packages\\sklearn\\tree\\_classes.py:366: FutureWarning: Criterion 'mae' was deprecated in v1.0 and will be removed in version 1.2. Use `criterion='absolute_error'` which is equivalent.\n",
      "  warnings.warn(\n",
      "D:\\Conda\\lib\\site-packages\\sklearn\\tree\\_classes.py:366: FutureWarning: Criterion 'mae' was deprecated in v1.0 and will be removed in version 1.2. Use `criterion='absolute_error'` which is equivalent.\n",
      "  warnings.warn(\n",
      "D:\\Conda\\lib\\site-packages\\sklearn\\tree\\_classes.py:366: FutureWarning: Criterion 'mae' was deprecated in v1.0 and will be removed in version 1.2. Use `criterion='absolute_error'` which is equivalent.\n",
      "  warnings.warn(\n",
      "D:\\Conda\\lib\\site-packages\\sklearn\\tree\\_classes.py:366: FutureWarning: Criterion 'mae' was deprecated in v1.0 and will be removed in version 1.2. Use `criterion='absolute_error'` which is equivalent.\n",
      "  warnings.warn(\n",
      "D:\\Conda\\lib\\site-packages\\sklearn\\tree\\_classes.py:366: FutureWarning: Criterion 'mae' was deprecated in v1.0 and will be removed in version 1.2. Use `criterion='absolute_error'` which is equivalent.\n",
      "  warnings.warn(\n",
      "D:\\Conda\\lib\\site-packages\\sklearn\\tree\\_classes.py:366: FutureWarning: Criterion 'mae' was deprecated in v1.0 and will be removed in version 1.2. Use `criterion='absolute_error'` which is equivalent.\n",
      "  warnings.warn(\n",
      "D:\\Conda\\lib\\site-packages\\sklearn\\tree\\_classes.py:366: FutureWarning: Criterion 'mae' was deprecated in v1.0 and will be removed in version 1.2. Use `criterion='absolute_error'` which is equivalent.\n",
      "  warnings.warn(\n",
      "D:\\Conda\\lib\\site-packages\\sklearn\\tree\\_classes.py:366: FutureWarning: Criterion 'mae' was deprecated in v1.0 and will be removed in version 1.2. Use `criterion='absolute_error'` which is equivalent.\n",
      "  warnings.warn(\n",
      "D:\\Conda\\lib\\site-packages\\sklearn\\tree\\_classes.py:366: FutureWarning: Criterion 'mae' was deprecated in v1.0 and will be removed in version 1.2. Use `criterion='absolute_error'` which is equivalent.\n",
      "  warnings.warn(\n",
      "D:\\Conda\\lib\\site-packages\\sklearn\\tree\\_classes.py:366: FutureWarning: Criterion 'mae' was deprecated in v1.0 and will be removed in version 1.2. Use `criterion='absolute_error'` which is equivalent.\n",
      "  warnings.warn(\n",
      "D:\\Conda\\lib\\site-packages\\sklearn\\tree\\_classes.py:366: FutureWarning: Criterion 'mae' was deprecated in v1.0 and will be removed in version 1.2. Use `criterion='absolute_error'` which is equivalent.\n",
      "  warnings.warn(\n",
      "D:\\Conda\\lib\\site-packages\\sklearn\\tree\\_classes.py:366: FutureWarning: Criterion 'mae' was deprecated in v1.0 and will be removed in version 1.2. Use `criterion='absolute_error'` which is equivalent.\n",
      "  warnings.warn(\n",
      "D:\\Conda\\lib\\site-packages\\sklearn\\tree\\_classes.py:366: FutureWarning: Criterion 'mae' was deprecated in v1.0 and will be removed in version 1.2. Use `criterion='absolute_error'` which is equivalent.\n",
      "  warnings.warn(\n",
      "D:\\Conda\\lib\\site-packages\\sklearn\\tree\\_classes.py:366: FutureWarning: Criterion 'mae' was deprecated in v1.0 and will be removed in version 1.2. Use `criterion='absolute_error'` which is equivalent.\n",
      "  warnings.warn(\n",
      "D:\\Conda\\lib\\site-packages\\sklearn\\tree\\_classes.py:366: FutureWarning: Criterion 'mae' was deprecated in v1.0 and will be removed in version 1.2. Use `criterion='absolute_error'` which is equivalent.\n",
      "  warnings.warn(\n",
      "D:\\Conda\\lib\\site-packages\\sklearn\\tree\\_classes.py:366: FutureWarning: Criterion 'mae' was deprecated in v1.0 and will be removed in version 1.2. Use `criterion='absolute_error'` which is equivalent.\n",
      "  warnings.warn(\n",
      "D:\\Conda\\lib\\site-packages\\sklearn\\tree\\_classes.py:366: FutureWarning: Criterion 'mae' was deprecated in v1.0 and will be removed in version 1.2. Use `criterion='absolute_error'` which is equivalent.\n",
      "  warnings.warn(\n",
      "D:\\Conda\\lib\\site-packages\\sklearn\\tree\\_classes.py:366: FutureWarning: Criterion 'mae' was deprecated in v1.0 and will be removed in version 1.2. Use `criterion='absolute_error'` which is equivalent.\n",
      "  warnings.warn(\n",
      "D:\\Conda\\lib\\site-packages\\sklearn\\tree\\_classes.py:366: FutureWarning: Criterion 'mae' was deprecated in v1.0 and will be removed in version 1.2. Use `criterion='absolute_error'` which is equivalent.\n",
      "  warnings.warn(\n",
      "D:\\Conda\\lib\\site-packages\\sklearn\\tree\\_classes.py:366: FutureWarning: Criterion 'mae' was deprecated in v1.0 and will be removed in version 1.2. Use `criterion='absolute_error'` which is equivalent.\n",
      "  warnings.warn(\n",
      "D:\\Conda\\lib\\site-packages\\sklearn\\tree\\_classes.py:366: FutureWarning: Criterion 'mae' was deprecated in v1.0 and will be removed in version 1.2. Use `criterion='absolute_error'` which is equivalent.\n",
      "  warnings.warn(\n",
      "D:\\Conda\\lib\\site-packages\\sklearn\\tree\\_classes.py:366: FutureWarning: Criterion 'mae' was deprecated in v1.0 and will be removed in version 1.2. Use `criterion='absolute_error'` which is equivalent.\n",
      "  warnings.warn(\n",
      "D:\\Conda\\lib\\site-packages\\sklearn\\tree\\_classes.py:366: FutureWarning: Criterion 'mae' was deprecated in v1.0 and will be removed in version 1.2. Use `criterion='absolute_error'` which is equivalent.\n",
      "  warnings.warn(\n",
      "D:\\Conda\\lib\\site-packages\\sklearn\\tree\\_classes.py:366: FutureWarning: Criterion 'mae' was deprecated in v1.0 and will be removed in version 1.2. Use `criterion='absolute_error'` which is equivalent.\n",
      "  warnings.warn(\n",
      "D:\\Conda\\lib\\site-packages\\sklearn\\tree\\_classes.py:366: FutureWarning: Criterion 'mae' was deprecated in v1.0 and will be removed in version 1.2. Use `criterion='absolute_error'` which is equivalent.\n",
      "  warnings.warn(\n",
      "D:\\Conda\\lib\\site-packages\\sklearn\\tree\\_classes.py:366: FutureWarning: Criterion 'mae' was deprecated in v1.0 and will be removed in version 1.2. Use `criterion='absolute_error'` which is equivalent.\n",
      "  warnings.warn(\n",
      "D:\\Conda\\lib\\site-packages\\sklearn\\tree\\_classes.py:366: FutureWarning: Criterion 'mae' was deprecated in v1.0 and will be removed in version 1.2. Use `criterion='absolute_error'` which is equivalent.\n",
      "  warnings.warn(\n",
      "D:\\Conda\\lib\\site-packages\\sklearn\\tree\\_classes.py:366: FutureWarning: Criterion 'mae' was deprecated in v1.0 and will be removed in version 1.2. Use `criterion='absolute_error'` which is equivalent.\n",
      "  warnings.warn(\n",
      "D:\\Conda\\lib\\site-packages\\sklearn\\tree\\_classes.py:366: FutureWarning: Criterion 'mae' was deprecated in v1.0 and will be removed in version 1.2. Use `criterion='absolute_error'` which is equivalent.\n",
      "  warnings.warn(\n",
      "D:\\Conda\\lib\\site-packages\\sklearn\\tree\\_classes.py:366: FutureWarning: Criterion 'mae' was deprecated in v1.0 and will be removed in version 1.2. Use `criterion='absolute_error'` which is equivalent.\n",
      "  warnings.warn(\n",
      "D:\\Conda\\lib\\site-packages\\sklearn\\tree\\_classes.py:366: FutureWarning: Criterion 'mae' was deprecated in v1.0 and will be removed in version 1.2. Use `criterion='absolute_error'` which is equivalent.\n",
      "  warnings.warn(\n",
      "D:\\Conda\\lib\\site-packages\\sklearn\\tree\\_classes.py:366: FutureWarning: Criterion 'mae' was deprecated in v1.0 and will be removed in version 1.2. Use `criterion='absolute_error'` which is equivalent.\n",
      "  warnings.warn(\n",
      "D:\\Conda\\lib\\site-packages\\sklearn\\tree\\_classes.py:366: FutureWarning: Criterion 'mae' was deprecated in v1.0 and will be removed in version 1.2. Use `criterion='absolute_error'` which is equivalent.\n",
      "  warnings.warn(\n"
     ]
    }
   ],
   "source": [
    "# create dataframe for df_model_meta with columns names from df_model\n",
    "df_model_meta = pd.DataFrame(columns=df_model.columns)\n",
    "\n",
    "# create dataframe for top_models probabilities\n",
    "df_prob_meta = pd.DataFrame()\n",
    "\n",
    "for x in range(0, len(final_estimators)):\n",
    "        final_estimator = final_estimators[x][1]\n",
    "        clf = StackingClassifier(estimators=estimators, final_estimator=final_estimator, n_jobs=-1, cv=5)\n",
    "        clf.fit(x_train, y_train)\n",
    "        y_pred = clf.predict(x_train)\n",
    "        y_pred = pd.Series(y_pred)\n",
    "\n",
    "        # probabilities dataframe\n",
    "        y_pred_prob = clf.predict_proba(x_train)\n",
    "        y_pred_prob_df = pd.DataFrame(y_pred_prob, columns=['prob_0', 'prob_1'])\n",
    "        y_pred_prob_df['target'] = y_train\n",
    "        y_pred_prob_df['predicted'] = y_pred\n",
    "        # create new column, set value to prob_0 if target is 0 and prob_1 if target is 1\n",
    "        y_pred_prob_df['pred_prob'] = np.where(y_pred_prob_df['target'] == 0, y_pred_prob_df['prob_0'], y_pred_prob_df['prob_1'])\n",
    "        # remove prob_0 and prob_1 columns, target and rpected columns\n",
    "        y_pred_prob_df = y_pred_prob_df.drop(['prob_0', 'prob_1', 'target', 'predicted'], axis=1)\n",
    "        # transpose the data frame and convert values to %\n",
    "        y_pred_prob_df = y_pred_prob_df.T\n",
    "        y_pred_prob_df = y_pred_prob_df.apply(lambda x: x * 100).round(2)\n",
    "        # set index to x\n",
    "        y_pred_prob_df.index = [x]\n",
    "        # add row to df_prob_meta using pd.concat\n",
    "        df_prob_meta = pd.concat([df_prob_meta, y_pred_prob_df], axis=0)\n",
    "\n",
    "        # performance metrics dataframe\n",
    "        accuracy = round(accuracy_score(y_train, y_pred)*100, 2)\n",
    "        precision = round(precision_score(y_train, y_pred, average='weighted')*100, 2)\n",
    "        recall = round(recall_score(y_train, y_pred, average='weighted')*100, 2)\n",
    "        roc_auc = round(roc_auc_score(y_train, y_pred, average='weighted')*100, 2)\n",
    "        gmean = round(geometric_mean_score(y_train, y_pred, average='weighted')*100, 2)\n",
    "        mcc = round(matthews_corrcoef(y_train, y_pred)*100, 2)\n",
    "        f1_weighted = round(f1_score(y_train, y_pred, average='weighted')*100, 2)\n",
    "        log_loss = round(metrics.log_loss(y_train, y_pred, normalize=True)*100, 2)\n",
    "        average_metrics = (accuracy + precision + recall + roc_auc + gmean + mcc + f1_weighted) / 7\n",
    "        average_metrics = round(average_metrics, 2)\n",
    "        # add performance metrics to df_model_meta using pd.concat with index\n",
    "        df_model_meta = pd.concat([df_model_meta, pd.DataFrame([[f'meta_{x+1}', x+1, accuracy, precision, recall, roc_auc, gmean, \n",
    "                        mcc, f1_weighted, log_loss, average_metrics, f'{final_estimator.get_params()}']], \n",
    "                        columns=df_model_meta.columns, index=[x])], axis=0)"
   ]
  },
  {
   "cell_type": "markdown",
   "metadata": {},
   "source": [
    "Create umap dimension reduction dataset for metamodel probabilities anc concatinate with original base layer dataset"
   ]
  },
  {
   "cell_type": "code",
   "execution_count": 16,
   "metadata": {},
   "outputs": [],
   "source": [
    "df_umap_meta = umap_model(df_prob_meta, df_model_meta)\n",
    "\n",
    "# concat df_umap and df_umap_meta\n",
    "df_umap_all = pd.concat([df_umap, df_umap_meta], axis=0)"
   ]
  },
  {
   "cell_type": "markdown",
   "metadata": {},
   "source": [
    "### UMAP chart"
   ]
  },
  {
   "cell_type": "code",
   "execution_count": 17,
   "metadata": {},
   "outputs": [
    {
     "data": {
      "application/vnd.plotly.v1+json": {
       "config": {
        "plotlyServerURL": "https://plot.ly"
       },
       "data": [
        {
         "hovertemplate": "<b>%{hovertext}</b><br><br>algorithm_id=1<br>=%{y}<br>size=%{marker.size}<br>Performance=%{marker.color}<extra></extra>",
         "hovertext": [
          "K-Nearest Neighbor<br>Performance: 98.3%<br>Model ID: 298<br>Accuracy: 96.43%<br>Precision: 96.59%<br>Recall: 96.43%<br>ROC AUC: 98.64<br>Geometric Mean: 100.0<br>Matthews Correlation: 100.0<br>F1: 100.0<br>Log Loss: 0.0",
          "K-Nearest Neighbor<br>Performance: 98.3%<br>Model ID: 346<br>Accuracy: 96.43%<br>Precision: 96.59%<br>Recall: 96.43%<br>ROC AUC: 98.64<br>Geometric Mean: 100.0<br>Matthews Correlation: 100.0<br>F1: 100.0<br>Log Loss: 0.0",
          "K-Nearest Neighbor<br>Performance: 98.28%<br>Model ID: 490<br>Accuracy: 96.43%<br>Precision: 96.59%<br>Recall: 96.43%<br>ROC AUC: 98.54<br>Geometric Mean: 100.0<br>Matthews Correlation: 100.0<br>F1: 100.0<br>Log Loss: 0.0",
          "K-Nearest Neighbor<br>Performance: 98.28%<br>Model ID: 538<br>Accuracy: 96.43%<br>Precision: 96.59%<br>Recall: 96.43%<br>ROC AUC: 98.54<br>Geometric Mean: 100.0<br>Matthews Correlation: 100.0<br>F1: 100.0<br>Log Loss: 0.0",
          "K-Nearest Neighbor<br>Performance: 98.26%<br>Model ID: 544<br>Accuracy: 96.28%<br>Precision: 96.42%<br>Recall: 96.28%<br>ROC AUC: 98.82<br>Geometric Mean: 100.0<br>Matthews Correlation: 100.0<br>F1: 100.0<br>Log Loss: 0.0",
          "K-Nearest Neighbor<br>Performance: 98.3%<br>Model ID: meta_1<br>Accuracy: 96.43%<br>Precision: 96.59%<br>Recall: 96.43%<br>ROC AUC: 98.64<br>Geometric Mean: 100.0<br>Matthews Correlation: 100.0<br>F1: 100.0<br>Log Loss: 0.0"
         ],
         "legendgroup": "1",
         "marker": {
          "color": [
           98.3,
           98.3,
           98.28,
           98.28,
           98.26,
           98.3
          ],
          "coloraxis": "coloraxis",
          "line": {
           "color": "Black",
           "width": 1
          },
          "opacity": 0.8,
          "size": [
           1,
           1,
           1,
           1,
           1,
           3
          ],
          "sizemode": "area",
          "sizeref": 0.0075,
          "symbol": "circle"
         },
         "mode": "markers",
         "name": "1",
         "orientation": "v",
         "showlegend": true,
         "type": "scatter",
         "x": [
          24.26080894470215,
          24.78369140625,
          24.757230758666992,
          25.078092575073242,
          24.35357093811035,
          -10.934905052185059
         ],
         "xaxis": "x",
         "y": [
          -27.52361297607422,
          -28.48871421813965,
          -27.78455924987793,
          -27.99590301513672,
          -28.25028419494629,
          -1.0931310653686523
         ],
         "yaxis": "y"
        },
        {
         "hovertemplate": "<b>%{hovertext}</b><br><br>algorithm_id=2<br>=%{y}<br>size=%{marker.size}<br>Performance=%{marker.color}<extra></extra>",
         "hovertext": [
          "Support Vector Machine<br>Performance: 97.08%<br>Model ID: 717<br>Accuracy: 96.57%<br>Precision: 96.68%<br>Recall: 96.57%<br>ROC AUC: 98.7<br>Geometric Mean: 97.87<br>Matthews Correlation: 95.29<br>F1: 97.86<br>Log Loss: 2.56",
          "Support Vector Machine<br>Performance: 97.07%<br>Model ID: 697<br>Accuracy: 96.57%<br>Precision: 96.68%<br>Recall: 96.57%<br>ROC AUC: 98.67<br>Geometric Mean: 97.87<br>Matthews Correlation: 95.29<br>F1: 97.86<br>Log Loss: 6.78",
          "Support Vector Machine<br>Performance: 97.08%<br>Model ID: 713<br>Accuracy: 96.57%<br>Precision: 96.68%<br>Recall: 96.57%<br>ROC AUC: 98.69<br>Geometric Mean: 97.87<br>Matthews Correlation: 95.29<br>F1: 97.86<br>Log Loss: 3.35",
          "Support Vector Machine<br>Performance: 97.08%<br>Model ID: 709<br>Accuracy: 96.57%<br>Precision: 96.68%<br>Recall: 96.57%<br>ROC AUC: 98.69<br>Geometric Mean: 97.87<br>Matthews Correlation: 95.29<br>F1: 97.86<br>Log Loss: 4.15",
          "Support Vector Machine<br>Performance: 97.07%<br>Model ID: 677<br>Accuracy: 96.57%<br>Precision: 96.68%<br>Recall: 96.57%<br>ROC AUC: 98.67<br>Geometric Mean: 97.87<br>Matthews Correlation: 95.29<br>F1: 97.86<br>Log Loss: 11.57",
          "Support Vector Machine<br>Performance: 98.3%<br>Model ID: meta_2<br>Accuracy: 96.43%<br>Precision: 96.59%<br>Recall: 96.43%<br>ROC AUC: 98.64<br>Geometric Mean: 100.0<br>Matthews Correlation: 100.0<br>F1: 100.0<br>Log Loss: 0.0"
         ],
         "legendgroup": "2",
         "marker": {
          "color": [
           97.08,
           97.07,
           97.08,
           97.08,
           97.07,
           98.3
          ],
          "coloraxis": "coloraxis",
          "line": {
           "color": "Black",
           "width": 1
          },
          "opacity": 0.8,
          "size": [
           1,
           1,
           1,
           1,
           1,
           3
          ],
          "sizemode": "area",
          "sizeref": 0.0075,
          "symbol": "square"
         },
         "mode": "markers",
         "name": "2",
         "orientation": "v",
         "showlegend": true,
         "type": "scatter",
         "x": [
          34.1878662109375,
          34.5341796875,
          34.6088981628418,
          34.01988983154297,
          33.86729049682617,
          -12.041213035583496
         ],
         "xaxis": "x",
         "y": [
          -4.670369625091553,
          -5.30826473236084,
          -5.02871036529541,
          -5.092376232147217,
          -6.106569290161133,
          -0.9392969012260437
         ],
         "yaxis": "y"
        },
        {
         "hovertemplate": "<b>%{hovertext}</b><br><br>algorithm_id=3<br>=%{y}<br>size=%{marker.size}<br>Performance=%{marker.color}<extra></extra>",
         "hovertext": [
          "Gaussian Naive Bayes<br>Performance: 95.69%<br>Model ID: 737<br>Accuracy: 95.85%<br>Precision: 96.08%<br>Recall: 95.85%<br>ROC AUC: 99.0<br>Geometric Mean: 96.15<br>Matthews Correlation: 91.05<br>F1: 95.88<br>Log Loss: 100.0",
          "Gaussian Naive Bayes<br>Performance: 95.69%<br>Model ID: 1066<br>Accuracy: 95.85%<br>Precision: 96.08%<br>Recall: 95.85%<br>ROC AUC: 99.0<br>Geometric Mean: 96.15<br>Matthews Correlation: 91.05<br>F1: 95.88<br>Log Loss: 34.07",
          "Gaussian Naive Bayes<br>Performance: 95.69%<br>Model ID: 1079<br>Accuracy: 95.85%<br>Precision: 96.08%<br>Recall: 95.85%<br>ROC AUC: 99.0<br>Geometric Mean: 96.15<br>Matthews Correlation: 91.05<br>F1: 95.88<br>Log Loss: 31.46",
          "Gaussian Naive Bayes<br>Performance: 95.69%<br>Model ID: 1078<br>Accuracy: 95.85%<br>Precision: 96.08%<br>Recall: 95.85%<br>ROC AUC: 99.0<br>Geometric Mean: 96.15<br>Matthews Correlation: 91.05<br>F1: 95.88<br>Log Loss: 31.66",
          "Gaussian Naive Bayes<br>Performance: 95.69%<br>Model ID: 1077<br>Accuracy: 95.85%<br>Precision: 96.08%<br>Recall: 95.85%<br>ROC AUC: 99.0<br>Geometric Mean: 96.15<br>Matthews Correlation: 91.05<br>F1: 95.88<br>Log Loss: 31.86",
          "Gaussian Naive Bayes<br>Performance: 98.28%<br>Model ID: meta_3<br>Accuracy: 96.43%<br>Precision: 96.59%<br>Recall: 96.43%<br>ROC AUC: 98.54<br>Geometric Mean: 100.0<br>Matthews Correlation: 100.0<br>F1: 100.0<br>Log Loss: 0.0"
         ],
         "legendgroup": "3",
         "marker": {
          "color": [
           95.69,
           95.69,
           95.69,
           95.69,
           95.69,
           98.28
          ],
          "coloraxis": "coloraxis",
          "line": {
           "color": "Black",
           "width": 1
          },
          "opacity": 0.8,
          "size": [
           1,
           1,
           1,
           1,
           1,
           3
          ],
          "sizemode": "area",
          "sizeref": 0.0075,
          "symbol": "x"
         },
         "mode": "markers",
         "name": "3",
         "orientation": "v",
         "showlegend": true,
         "type": "scatter",
         "x": [
          33.23526382446289,
          34.119380950927734,
          33.458133697509766,
          34.46596145629883,
          33.984310150146484,
          -12.07672119140625
         ],
         "xaxis": "x",
         "y": [
          -8.148113250732422,
          -7.980179309844971,
          -7.0051984786987305,
          -7.429347038269043,
          -7.331368923187256,
          -2.413832426071167
         ],
         "yaxis": "y"
        },
        {
         "hovertemplate": "<b>%{hovertext}</b><br><br>algorithm_id=4<br>=%{y}<br>size=%{marker.size}<br>Performance=%{marker.color}<extra></extra>",
         "hovertext": [
          "Multilayer Perceptron<br>Performance: 96.47%<br>Model ID: 1334<br>Accuracy: 95.71%<br>Precision: 95.9%<br>Recall: 95.71%<br>ROC AUC: 98.72<br>Geometric Mean: 97.45<br>Matthews Correlation: 94.35<br>F1: 97.43<br>Log Loss: 0.0",
          "Multilayer Perceptron<br>Performance: 96.47%<br>Model ID: 1346<br>Accuracy: 95.71%<br>Precision: 95.9%<br>Recall: 95.71%<br>ROC AUC: 98.72<br>Geometric Mean: 97.45<br>Matthews Correlation: 94.35<br>F1: 97.43<br>Log Loss: 0.0",
          "Multilayer Perceptron<br>Performance: 96.47%<br>Model ID: 1333<br>Accuracy: 95.71%<br>Precision: 95.9%<br>Recall: 95.71%<br>ROC AUC: 98.72<br>Geometric Mean: 97.45<br>Matthews Correlation: 94.35<br>F1: 97.43<br>Log Loss: 0.0",
          "Multilayer Perceptron<br>Performance: 96.47%<br>Model ID: 1339<br>Accuracy: 95.71%<br>Precision: 95.9%<br>Recall: 95.71%<br>ROC AUC: 98.72<br>Geometric Mean: 97.45<br>Matthews Correlation: 94.35<br>F1: 97.43<br>Log Loss: 0.0",
          "Multilayer Perceptron<br>Performance: 96.47%<br>Model ID: 1340<br>Accuracy: 95.71%<br>Precision: 95.9%<br>Recall: 95.71%<br>ROC AUC: 98.72<br>Geometric Mean: 97.45<br>Matthews Correlation: 94.35<br>F1: 97.43<br>Log Loss: 0.0",
          "Multilayer Perceptron<br>Performance: 98.28%<br>Model ID: meta_4<br>Accuracy: 96.43%<br>Precision: 96.59%<br>Recall: 96.43%<br>ROC AUC: 98.54<br>Geometric Mean: 100.0<br>Matthews Correlation: 100.0<br>F1: 100.0<br>Log Loss: 0.0"
         ],
         "legendgroup": "4",
         "marker": {
          "color": [
           96.47,
           96.47,
           96.47,
           96.47,
           96.47,
           98.28
          ],
          "coloraxis": "coloraxis",
          "line": {
           "color": "Black",
           "width": 1
          },
          "opacity": 0.8,
          "size": [
           1,
           1,
           1,
           1,
           1,
           3
          ],
          "sizemode": "area",
          "sizeref": 0.0075,
          "symbol": "cross"
         },
         "mode": "markers",
         "name": "4",
         "orientation": "v",
         "showlegend": true,
         "type": "scatter",
         "x": [
          11.745102882385254,
          12.305998802185059,
          11.34891128540039,
          12.0902681350708,
          11.97651481628418,
          -13.826847076416016
         ],
         "xaxis": "x",
         "y": [
          -2.7406768798828125,
          -2.181910753250122,
          -3.1482229232788086,
          -2.3976407051086426,
          -2.511796474456787,
          -1.0095252990722656
         ],
         "yaxis": "y"
        },
        {
         "hovertemplate": "<b>%{hovertext}</b><br><br>algorithm_id=5<br>=%{y}<br>size=%{marker.size}<br>Performance=%{marker.color}<extra></extra>",
         "hovertext": [
          "Logistic Regression<br>Performance: 96.46%<br>Model ID: 1357<br>Accuracy: 96.43%<br>Precision: 96.52%<br>Recall: 96.43%<br>ROC AUC: 99.41<br>Geometric Mean: 96.52<br>Matthews Correlation: 93.03<br>F1: 96.85<br>Log Loss: 0.22",
          "Logistic Regression<br>Performance: 96.46%<br>Model ID: 1365<br>Accuracy: 96.43%<br>Precision: 96.52%<br>Recall: 96.43%<br>ROC AUC: 99.41<br>Geometric Mean: 96.52<br>Matthews Correlation: 93.03<br>F1: 96.85<br>Log Loss: 0.22",
          "Logistic Regression<br>Performance: 96.46%<br>Model ID: 1381<br>Accuracy: 96.43%<br>Precision: 96.52%<br>Recall: 96.43%<br>ROC AUC: 99.41<br>Geometric Mean: 96.52<br>Matthews Correlation: 93.03<br>F1: 96.85<br>Log Loss: 0.22",
          "Logistic Regression<br>Performance: 96.46%<br>Model ID: 1374<br>Accuracy: 96.43%<br>Precision: 96.52%<br>Recall: 96.43%<br>ROC AUC: 99.41<br>Geometric Mean: 96.52<br>Matthews Correlation: 93.03<br>F1: 96.85<br>Log Loss: 0.22",
          "Logistic Regression<br>Performance: 96.46%<br>Model ID: 1373<br>Accuracy: 96.43%<br>Precision: 96.52%<br>Recall: 96.43%<br>ROC AUC: 99.41<br>Geometric Mean: 96.52<br>Matthews Correlation: 93.03<br>F1: 96.85<br>Log Loss: 0.22",
          "Logistic Regression<br>Performance: 98.26%<br>Model ID: meta_5<br>Accuracy: 96.28%<br>Precision: 96.42%<br>Recall: 96.28%<br>ROC AUC: 98.82<br>Geometric Mean: 100.0<br>Matthews Correlation: 100.0<br>F1: 100.0<br>Log Loss: 0.0"
         ],
         "legendgroup": "5",
         "marker": {
          "color": [
           96.46,
           96.46,
           96.46,
           96.46,
           96.46,
           98.26
          ],
          "coloraxis": "coloraxis",
          "line": {
           "color": "Black",
           "width": 1
          },
          "opacity": 0.8,
          "size": [
           1,
           1,
           1,
           1,
           1,
           3
          ],
          "sizemode": "area",
          "sizeref": 0.0075,
          "symbol": "diamond"
         },
         "mode": "markers",
         "name": "5",
         "orientation": "v",
         "showlegend": true,
         "type": "scatter",
         "x": [
          22.455493927001953,
          22.644630432128906,
          22.85485076904297,
          23.137866973876953,
          23.40680503845215,
          -13.22624683380127
         ],
         "xaxis": "x",
         "y": [
          -0.2720046639442444,
          -0.6022418737411499,
          -0.7550014853477478,
          -0.20227625966072083,
          -0.5095128417015076,
          -0.06434454023838043
         ],
         "yaxis": "y"
        },
        {
         "hovertemplate": "<b>%{hovertext}</b><br><br>algorithm_id=6<br>=%{y}<br>size=%{marker.size}<br>Performance=%{marker.color}<extra></extra>",
         "hovertext": [
          "Linear Discriminant Analysis<br>Performance: 95.77%<br>Model ID: 2196<br>Accuracy: 95.71%<br>Precision: 95.88%<br>Recall: 95.71%<br>ROC AUC: 99.36<br>Geometric Mean: 95.69<br>Matthews Correlation: 91.74<br>F1: 96.27<br>Log Loss: 100.0",
          "Linear Discriminant Analysis<br>Performance: 95.77%<br>Model ID: 2195<br>Accuracy: 95.71%<br>Precision: 95.88%<br>Recall: 95.71%<br>ROC AUC: 99.36<br>Geometric Mean: 95.69<br>Matthews Correlation: 91.74<br>F1: 96.27<br>Log Loss: 100.0",
          "Linear Discriminant Analysis<br>Performance: 95.76%<br>Model ID: 2172<br>Accuracy: 95.71%<br>Precision: 95.88%<br>Recall: 95.71%<br>ROC AUC: 99.39<br>Geometric Mean: 95.59<br>Matthews Correlation: 91.74<br>F1: 96.27<br>Log Loss: 70.9",
          "Linear Discriminant Analysis<br>Performance: 95.76%<br>Model ID: 2170<br>Accuracy: 95.71%<br>Precision: 95.88%<br>Recall: 95.71%<br>ROC AUC: 99.39<br>Geometric Mean: 95.59<br>Matthews Correlation: 91.74<br>F1: 96.27<br>Log Loss: 68.95",
          "Linear Discriminant Analysis<br>Performance: 95.76%<br>Model ID: 2171<br>Accuracy: 95.71%<br>Precision: 95.88%<br>Recall: 95.71%<br>ROC AUC: 99.39<br>Geometric Mean: 95.59<br>Matthews Correlation: 91.74<br>F1: 96.27<br>Log Loss: 70.9",
          "Linear Discriminant Analysis<br>Performance: 97.08%<br>Model ID: meta_6<br>Accuracy: 96.57%<br>Precision: 96.68%<br>Recall: 96.57%<br>ROC AUC: 98.7<br>Geometric Mean: 97.87<br>Matthews Correlation: 95.29<br>F1: 97.86<br>Log Loss: 2.56"
         ],
         "legendgroup": "6",
         "marker": {
          "color": [
           95.77,
           95.77,
           95.76,
           95.76,
           95.76,
           97.08
          ],
          "coloraxis": "coloraxis",
          "line": {
           "color": "Black",
           "width": 1
          },
          "opacity": 0.8,
          "size": [
           1,
           1,
           1,
           1,
           1,
           3
          ],
          "sizemode": "area",
          "sizeref": 0.0075,
          "symbol": "star"
         },
         "mode": "markers",
         "name": "6",
         "orientation": "v",
         "showlegend": true,
         "type": "scatter",
         "x": [
          26.022201538085938,
          25.971553802490234,
          25.519079208374023,
          25.546998977661133,
          26.068700790405273,
          -12.840859413146973
         ],
         "xaxis": "x",
         "y": [
          -3.4671573638916016,
          -3.8199093341827393,
          -3.4717631340026855,
          -2.8628454208374023,
          -3.217726707458496,
          -1.4762994050979614
         ],
         "yaxis": "y"
        },
        {
         "hovertemplate": "<b>%{hovertext}</b><br><br>algorithm_id=7<br>=%{y}<br>size=%{marker.size}<br>Performance=%{marker.color}<extra></extra>",
         "hovertext": [
          "Quadratic Discriminant Analysis<br>Performance: 96.78%<br>Model ID: 2424<br>Accuracy: 96.86%<br>Precision: 96.96%<br>Recall: 96.86%<br>ROC AUC: 99.36<br>Geometric Mean: 97.02<br>Matthews Correlation: 93.42<br>F1: 97.01<br>Log Loss: 15.72",
          "Quadratic Discriminant Analysis<br>Performance: 96.78%<br>Model ID: 2423<br>Accuracy: 96.86%<br>Precision: 96.96%<br>Recall: 96.86%<br>ROC AUC: 99.36<br>Geometric Mean: 97.02<br>Matthews Correlation: 93.42<br>F1: 97.01<br>Log Loss: 15.72",
          "Quadratic Discriminant Analysis<br>Performance: 96.78%<br>Model ID: 2425<br>Accuracy: 96.86%<br>Precision: 96.96%<br>Recall: 96.86%<br>ROC AUC: 99.36<br>Geometric Mean: 97.02<br>Matthews Correlation: 93.42<br>F1: 97.01<br>Log Loss: 15.72",
          "Quadratic Discriminant Analysis<br>Performance: 96.78%<br>Model ID: 2426<br>Accuracy: 96.86%<br>Precision: 96.96%<br>Recall: 96.86%<br>ROC AUC: 99.36<br>Geometric Mean: 97.02<br>Matthews Correlation: 93.42<br>F1: 97.01<br>Log Loss: 15.72",
          "Quadratic Discriminant Analysis<br>Performance: 96.78%<br>Model ID: 2422<br>Accuracy: 96.86%<br>Precision: 96.96%<br>Recall: 96.86%<br>ROC AUC: 99.36<br>Geometric Mean: 97.02<br>Matthews Correlation: 93.42<br>F1: 97.01<br>Log Loss: 15.72",
          "Quadratic Discriminant Analysis<br>Performance: 97.07%<br>Model ID: meta_7<br>Accuracy: 96.57%<br>Precision: 96.68%<br>Recall: 96.57%<br>ROC AUC: 98.67<br>Geometric Mean: 97.87<br>Matthews Correlation: 95.29<br>F1: 97.86<br>Log Loss: 6.78"
         ],
         "legendgroup": "7",
         "marker": {
          "color": [
           96.78,
           96.78,
           96.78,
           96.78,
           96.78,
           97.07
          ],
          "coloraxis": "coloraxis",
          "line": {
           "color": "Black",
           "width": 1
          },
          "opacity": 0.8,
          "size": [
           1,
           1,
           1,
           1,
           1,
           3
          ],
          "sizemode": "area",
          "sizeref": 0.0075,
          "symbol": "hexagram"
         },
         "mode": "markers",
         "name": "7",
         "orientation": "v",
         "showlegend": true,
         "type": "scatter",
         "x": [
          33.809898376464844,
          32.88759231567383,
          33.65540313720703,
          33.19642639160156,
          33.50450897216797,
          -13.335527420043945
         ],
         "xaxis": "x",
         "y": [
          -7.582737445831299,
          -7.542112827301025,
          -6.678295612335205,
          -7.071258544921875,
          -7.76329231262207,
          -2.3866093158721924
         ],
         "yaxis": "y"
        },
        {
         "hovertemplate": "<b>%{hovertext}</b><br><br>algorithm_id=8<br>=%{y}<br>size=%{marker.size}<br>Performance=%{marker.color}<extra></extra>",
         "hovertext": [
          "Random Forest<br>Performance: 98.6%<br>Model ID: 2453<br>Accuracy: 97.0%<br>Precision: 97.1%<br>Recall: 97.0%<br>ROC AUC: 99.08<br>Geometric Mean: 100.0<br>Matthews Correlation: 100.0<br>F1: 100.0<br>Log Loss: 88.53",
          "Random Forest<br>Performance: 98.6%<br>Model ID: 2454<br>Accuracy: 97.0%<br>Precision: 97.1%<br>Recall: 97.0%<br>ROC AUC: 99.08<br>Geometric Mean: 100.0<br>Matthews Correlation: 100.0<br>F1: 100.0<br>Log Loss: 91.48",
          "Random Forest<br>Performance: 98.6%<br>Model ID: 2455<br>Accuracy: 97.0%<br>Precision: 97.1%<br>Recall: 97.0%<br>ROC AUC: 99.07<br>Geometric Mean: 100.0<br>Matthews Correlation: 100.0<br>F1: 100.0<br>Log Loss: 88.39",
          "Random Forest<br>Performance: 98.54%<br>Model ID: 2447<br>Accuracy: 96.86%<br>Precision: 96.96%<br>Recall: 96.86%<br>ROC AUC: 99.08<br>Geometric Mean: 100.0<br>Matthews Correlation: 100.0<br>F1: 100.0<br>Log Loss: 100.0",
          "Random Forest<br>Performance: 98.54%<br>Model ID: 2469<br>Accuracy: 96.86%<br>Precision: 96.96%<br>Recall: 96.86%<br>ROC AUC: 99.08<br>Geometric Mean: 100.0<br>Matthews Correlation: 100.0<br>F1: 100.0<br>Log Loss: 76.88",
          "Random Forest<br>Performance: 97.08%<br>Model ID: meta_8<br>Accuracy: 96.57%<br>Precision: 96.68%<br>Recall: 96.57%<br>ROC AUC: 98.69<br>Geometric Mean: 97.87<br>Matthews Correlation: 95.29<br>F1: 97.86<br>Log Loss: 3.35"
         ],
         "legendgroup": "8",
         "marker": {
          "color": [
           98.6,
           98.6,
           98.6,
           98.54,
           98.54,
           97.08
          ],
          "coloraxis": "coloraxis",
          "line": {
           "color": "Black",
           "width": 1
          },
          "opacity": 0.8,
          "size": [
           1,
           1,
           1,
           1,
           1,
           3
          ],
          "sizemode": "area",
          "sizeref": 0.0075,
          "symbol": "triangle-right"
         },
         "mode": "markers",
         "name": "8",
         "orientation": "v",
         "showlegend": true,
         "type": "scatter",
         "x": [
          11.678736686706543,
          11.813403129577637,
          12.241209983825684,
          12.029699325561523,
          11.38709831237793,
          -10.627285957336426
         ],
         "xaxis": "x",
         "y": [
          -13.558066368103027,
          -14.330533027648926,
          -13.573067665100098,
          -13.929920196533203,
          -14.071625709533691,
          0.21529275178909302
         ],
         "yaxis": "y"
        },
        {
         "hovertemplate": "<b>%{hovertext}</b><br><br>algorithm_id=9<br>=%{y}<br>size=%{marker.size}<br>Performance=%{marker.color}<extra></extra>",
         "hovertext": [
          "Extra Trees<br>Performance: 98.5%<br>Model ID: 2673<br>Accuracy: 96.71%<br>Precision: 96.83%<br>Recall: 96.71%<br>ROC AUC: 99.27<br>Geometric Mean: 100.0<br>Matthews Correlation: 100.0<br>F1: 100.0<br>Log Loss: 0.0",
          "Extra Trees<br>Performance: 98.44%<br>Model ID: 2607<br>Accuracy: 96.57%<br>Precision: 96.68%<br>Recall: 96.57%<br>ROC AUC: 99.26<br>Geometric Mean: 100.0<br>Matthews Correlation: 100.0<br>F1: 100.0<br>Log Loss: 0.0",
          "Extra Trees<br>Performance: 98.44%<br>Model ID: 2670<br>Accuracy: 96.57%<br>Precision: 96.69%<br>Recall: 96.57%<br>ROC AUC: 99.27<br>Geometric Mean: 100.0<br>Matthews Correlation: 100.0<br>F1: 100.0<br>Log Loss: 0.0",
          "Extra Trees<br>Performance: 98.44%<br>Model ID: 2676<br>Accuracy: 96.57%<br>Precision: 96.69%<br>Recall: 96.57%<br>ROC AUC: 99.27<br>Geometric Mean: 100.0<br>Matthews Correlation: 100.0<br>F1: 100.0<br>Log Loss: 0.0",
          "Extra Trees<br>Performance: 98.44%<br>Model ID: 2675<br>Accuracy: 96.57%<br>Precision: 96.69%<br>Recall: 96.57%<br>ROC AUC: 99.27<br>Geometric Mean: 100.0<br>Matthews Correlation: 100.0<br>F1: 100.0<br>Log Loss: 0.0",
          "Extra Trees<br>Performance: 97.08%<br>Model ID: meta_9<br>Accuracy: 96.57%<br>Precision: 96.68%<br>Recall: 96.57%<br>ROC AUC: 98.69<br>Geometric Mean: 97.87<br>Matthews Correlation: 95.29<br>F1: 97.86<br>Log Loss: 4.15"
         ],
         "legendgroup": "9",
         "marker": {
          "color": [
           98.5,
           98.44,
           98.44,
           98.44,
           98.44,
           97.08
          ],
          "coloraxis": "coloraxis",
          "line": {
           "color": "Black",
           "width": 1
          },
          "opacity": 0.8,
          "size": [
           1,
           1,
           1,
           1,
           1,
           3
          ],
          "sizemode": "area",
          "sizeref": 0.0075,
          "symbol": "triangle-left"
         },
         "mode": "markers",
         "name": "9",
         "orientation": "v",
         "showlegend": true,
         "type": "scatter",
         "x": [
          12.857585906982422,
          13.507209777832031,
          12.757329940795898,
          13.492871284484863,
          13.0348482131958,
          -11.825456619262695
         ],
         "xaxis": "x",
         "y": [
          -15.01952075958252,
          -15.07430648803711,
          -15.667819023132324,
          -15.768074989318848,
          -15.491043090820312,
          0.08989112824201584
         ],
         "yaxis": "y"
        },
        {
         "hovertemplate": "<b>%{hovertext}</b><br><br>algorithm_id=10<br>=%{y}<br>size=%{marker.size}<br>Performance=%{marker.color}<extra></extra>",
         "hovertext": [
          "Adaptive Boosting<br>Performance: 97.12%<br>Model ID: 2844<br>Accuracy: 94.99%<br>Precision: 95.2%<br>Recall: 94.99%<br>ROC AUC: 98.4<br>Geometric Mean: 99.05<br>Matthews Correlation: 98.1<br>F1: 99.14<br>Log Loss: 91.16",
          "Adaptive Boosting<br>Performance: 97.1%<br>Model ID: 2843<br>Accuracy: 95.28%<br>Precision: 95.51%<br>Recall: 95.28%<br>ROC AUC: 98.54<br>Geometric Mean: 98.73<br>Matthews Correlation: 97.47<br>F1: 98.86<br>Log Loss: 90.52",
          "Adaptive Boosting<br>Performance: 97.08%<br>Model ID: 2834<br>Accuracy: 94.99%<br>Precision: 95.21%<br>Recall: 94.99%<br>ROC AUC: 98.62<br>Geometric Mean: 98.94<br>Matthews Correlation: 97.79<br>F1: 99.0<br>Log Loss: 87.63",
          "Adaptive Boosting<br>Performance: 97.03%<br>Model ID: 2845<br>Accuracy: 94.99%<br>Precision: 95.21%<br>Recall: 94.99%<br>ROC AUC: 98.42<br>Geometric Mean: 98.84<br>Matthews Correlation: 97.78<br>F1: 99.0<br>Log Loss: 91.33",
          "Adaptive Boosting<br>Performance: 97.01%<br>Model ID: 2836<br>Accuracy: 94.85%<br>Precision: 95.04%<br>Recall: 94.85%<br>ROC AUC: 98.62<br>Geometric Mean: 98.94<br>Matthews Correlation: 97.79<br>F1: 99.0<br>Log Loss: 88.67",
          "Adaptive Boosting<br>Performance: 97.07%<br>Model ID: meta_10<br>Accuracy: 96.57%<br>Precision: 96.68%<br>Recall: 96.57%<br>ROC AUC: 98.67<br>Geometric Mean: 97.87<br>Matthews Correlation: 95.29<br>F1: 97.86<br>Log Loss: 11.57"
         ],
         "legendgroup": "10",
         "marker": {
          "color": [
           97.12,
           97.1,
           97.08,
           97.03,
           97.01,
           97.07
          ],
          "coloraxis": "coloraxis",
          "line": {
           "color": "Black",
           "width": 1
          },
          "opacity": 0.8,
          "size": [
           1,
           1,
           1,
           1,
           1,
           3
          ],
          "sizemode": "area",
          "sizeref": 0.0075,
          "symbol": "triangle-down"
         },
         "mode": "markers",
         "name": "10",
         "orientation": "v",
         "showlegend": true,
         "type": "scatter",
         "x": [
          -5.844539165496826,
          -6.319258689880371,
          -5.603859901428223,
          -5.94506311416626,
          -6.176450252532959,
          -11.296013832092285
         ],
         "xaxis": "x",
         "y": [
          10.174246788024902,
          10.649002075195312,
          9.933578491210938,
          10.274490356445312,
          10.506144523620605,
          1.0955498218536377
         ],
         "yaxis": "y"
        },
        {
         "hovertemplate": "<b>%{hovertext}</b><br><br>algorithm_id=11<br>=%{y}<br>size=%{marker.size}<br>Performance=%{marker.color}<extra></extra>",
         "hovertext": [
          "Gradient Boosting<br>Performance: 97.99%<br>Model ID: 2986<br>Accuracy: 95.57%<br>Precision: 95.67%<br>Recall: 95.57%<br>ROC AUC: 99.13<br>Geometric Mean: 100.0<br>Matthews Correlation: 100.0<br>F1: 100.0<br>Log Loss: 0.0",
          "Gradient Boosting<br>Performance: 97.99%<br>Model ID: 3045<br>Accuracy: 95.57%<br>Precision: 95.67%<br>Recall: 95.57%<br>ROC AUC: 99.12<br>Geometric Mean: 100.0<br>Matthews Correlation: 100.0<br>F1: 100.0<br>Log Loss: 0.11",
          "Gradient Boosting<br>Performance: 97.98%<br>Model ID: 2963<br>Accuracy: 95.57%<br>Precision: 95.68%<br>Recall: 95.57%<br>ROC AUC: 99.07<br>Geometric Mean: 100.0<br>Matthews Correlation: 100.0<br>F1: 100.0<br>Log Loss: 2.12",
          "Gradient Boosting<br>Performance: 97.99%<br>Model ID: 2964<br>Accuracy: 95.57%<br>Precision: 95.68%<br>Recall: 95.57%<br>ROC AUC: 99.08<br>Geometric Mean: 100.0<br>Matthews Correlation: 100.0<br>F1: 100.0<br>Log Loss: 1.95",
          "Gradient Boosting<br>Performance: 97.99%<br>Model ID: 2965<br>Accuracy: 95.57%<br>Precision: 95.68%<br>Recall: 95.57%<br>ROC AUC: 99.08<br>Geometric Mean: 100.0<br>Matthews Correlation: 100.0<br>F1: 100.0<br>Log Loss: 1.85",
          "Gradient Boosting<br>Performance: 95.69%<br>Model ID: meta_11<br>Accuracy: 95.85%<br>Precision: 96.08%<br>Recall: 95.85%<br>ROC AUC: 99.0<br>Geometric Mean: 96.15<br>Matthews Correlation: 91.05<br>F1: 95.88<br>Log Loss: 100.0"
         ],
         "legendgroup": "11",
         "marker": {
          "color": [
           97.99,
           97.99,
           97.98,
           97.99,
           97.99,
           95.69
          ],
          "coloraxis": "coloraxis",
          "line": {
           "color": "Black",
           "width": 1
          },
          "opacity": 0.8,
          "size": [
           1,
           1,
           1,
           1,
           1,
           3
          ],
          "sizemode": "area",
          "sizeref": 0.0075,
          "symbol": "triangle-up"
         },
         "mode": "markers",
         "name": "11",
         "orientation": "v",
         "showlegend": true,
         "type": "scatter",
         "x": [
          17.21169090270996,
          17.51227378845215,
          17.82488441467285,
          17.45492172241211,
          18.05195426940918,
          -12.628350257873535
         ],
         "xaxis": "x",
         "y": [
          4.5171966552734375,
          3.595121145248413,
          4.421736717224121,
          4.1252360343933105,
          4.010878562927246,
          0.7584937214851379
         ],
         "yaxis": "y"
        }
       ],
       "layout": {
        "coloraxis": {
         "colorbar": {
          "title": {
           "text": "Performance"
          }
         },
         "colorscale": [
          [
           0,
           "#440154"
          ],
          [
           0.1111111111111111,
           "#482878"
          ],
          [
           0.2222222222222222,
           "#3e4989"
          ],
          [
           0.3333333333333333,
           "#31688e"
          ],
          [
           0.4444444444444444,
           "#26828e"
          ],
          [
           0.5555555555555556,
           "#1f9e89"
          ],
          [
           0.6666666666666666,
           "#35b779"
          ],
          [
           0.7777777777777778,
           "#6ece58"
          ],
          [
           0.8888888888888888,
           "#b5de2b"
          ],
          [
           1,
           "#fde725"
          ]
         ]
        },
        "height": 800,
        "hovermode": "closest",
        "legend": {
         "itemsizing": "constant",
         "title": {
          "text": "algorithm_id"
         },
         "tracegroupgap": 0
        },
        "margin": {
         "t": 60
        },
        "showlegend": false,
        "template": {
         "data": {
          "bar": [
           {
            "error_x": {
             "color": "#2a3f5f"
            },
            "error_y": {
             "color": "#2a3f5f"
            },
            "marker": {
             "line": {
              "color": "#E5ECF6",
              "width": 0.5
             },
             "pattern": {
              "fillmode": "overlay",
              "size": 10,
              "solidity": 0.2
             }
            },
            "type": "bar"
           }
          ],
          "barpolar": [
           {
            "marker": {
             "line": {
              "color": "#E5ECF6",
              "width": 0.5
             },
             "pattern": {
              "fillmode": "overlay",
              "size": 10,
              "solidity": 0.2
             }
            },
            "type": "barpolar"
           }
          ],
          "carpet": [
           {
            "aaxis": {
             "endlinecolor": "#2a3f5f",
             "gridcolor": "white",
             "linecolor": "white",
             "minorgridcolor": "white",
             "startlinecolor": "#2a3f5f"
            },
            "baxis": {
             "endlinecolor": "#2a3f5f",
             "gridcolor": "white",
             "linecolor": "white",
             "minorgridcolor": "white",
             "startlinecolor": "#2a3f5f"
            },
            "type": "carpet"
           }
          ],
          "choropleth": [
           {
            "colorbar": {
             "outlinewidth": 0,
             "ticks": ""
            },
            "type": "choropleth"
           }
          ],
          "contour": [
           {
            "colorbar": {
             "outlinewidth": 0,
             "ticks": ""
            },
            "colorscale": [
             [
              0,
              "#0d0887"
             ],
             [
              0.1111111111111111,
              "#46039f"
             ],
             [
              0.2222222222222222,
              "#7201a8"
             ],
             [
              0.3333333333333333,
              "#9c179e"
             ],
             [
              0.4444444444444444,
              "#bd3786"
             ],
             [
              0.5555555555555556,
              "#d8576b"
             ],
             [
              0.6666666666666666,
              "#ed7953"
             ],
             [
              0.7777777777777778,
              "#fb9f3a"
             ],
             [
              0.8888888888888888,
              "#fdca26"
             ],
             [
              1,
              "#f0f921"
             ]
            ],
            "type": "contour"
           }
          ],
          "contourcarpet": [
           {
            "colorbar": {
             "outlinewidth": 0,
             "ticks": ""
            },
            "type": "contourcarpet"
           }
          ],
          "heatmap": [
           {
            "colorbar": {
             "outlinewidth": 0,
             "ticks": ""
            },
            "colorscale": [
             [
              0,
              "#0d0887"
             ],
             [
              0.1111111111111111,
              "#46039f"
             ],
             [
              0.2222222222222222,
              "#7201a8"
             ],
             [
              0.3333333333333333,
              "#9c179e"
             ],
             [
              0.4444444444444444,
              "#bd3786"
             ],
             [
              0.5555555555555556,
              "#d8576b"
             ],
             [
              0.6666666666666666,
              "#ed7953"
             ],
             [
              0.7777777777777778,
              "#fb9f3a"
             ],
             [
              0.8888888888888888,
              "#fdca26"
             ],
             [
              1,
              "#f0f921"
             ]
            ],
            "type": "heatmap"
           }
          ],
          "heatmapgl": [
           {
            "colorbar": {
             "outlinewidth": 0,
             "ticks": ""
            },
            "colorscale": [
             [
              0,
              "#0d0887"
             ],
             [
              0.1111111111111111,
              "#46039f"
             ],
             [
              0.2222222222222222,
              "#7201a8"
             ],
             [
              0.3333333333333333,
              "#9c179e"
             ],
             [
              0.4444444444444444,
              "#bd3786"
             ],
             [
              0.5555555555555556,
              "#d8576b"
             ],
             [
              0.6666666666666666,
              "#ed7953"
             ],
             [
              0.7777777777777778,
              "#fb9f3a"
             ],
             [
              0.8888888888888888,
              "#fdca26"
             ],
             [
              1,
              "#f0f921"
             ]
            ],
            "type": "heatmapgl"
           }
          ],
          "histogram": [
           {
            "marker": {
             "pattern": {
              "fillmode": "overlay",
              "size": 10,
              "solidity": 0.2
             }
            },
            "type": "histogram"
           }
          ],
          "histogram2d": [
           {
            "colorbar": {
             "outlinewidth": 0,
             "ticks": ""
            },
            "colorscale": [
             [
              0,
              "#0d0887"
             ],
             [
              0.1111111111111111,
              "#46039f"
             ],
             [
              0.2222222222222222,
              "#7201a8"
             ],
             [
              0.3333333333333333,
              "#9c179e"
             ],
             [
              0.4444444444444444,
              "#bd3786"
             ],
             [
              0.5555555555555556,
              "#d8576b"
             ],
             [
              0.6666666666666666,
              "#ed7953"
             ],
             [
              0.7777777777777778,
              "#fb9f3a"
             ],
             [
              0.8888888888888888,
              "#fdca26"
             ],
             [
              1,
              "#f0f921"
             ]
            ],
            "type": "histogram2d"
           }
          ],
          "histogram2dcontour": [
           {
            "colorbar": {
             "outlinewidth": 0,
             "ticks": ""
            },
            "colorscale": [
             [
              0,
              "#0d0887"
             ],
             [
              0.1111111111111111,
              "#46039f"
             ],
             [
              0.2222222222222222,
              "#7201a8"
             ],
             [
              0.3333333333333333,
              "#9c179e"
             ],
             [
              0.4444444444444444,
              "#bd3786"
             ],
             [
              0.5555555555555556,
              "#d8576b"
             ],
             [
              0.6666666666666666,
              "#ed7953"
             ],
             [
              0.7777777777777778,
              "#fb9f3a"
             ],
             [
              0.8888888888888888,
              "#fdca26"
             ],
             [
              1,
              "#f0f921"
             ]
            ],
            "type": "histogram2dcontour"
           }
          ],
          "mesh3d": [
           {
            "colorbar": {
             "outlinewidth": 0,
             "ticks": ""
            },
            "type": "mesh3d"
           }
          ],
          "parcoords": [
           {
            "line": {
             "colorbar": {
              "outlinewidth": 0,
              "ticks": ""
             }
            },
            "type": "parcoords"
           }
          ],
          "pie": [
           {
            "automargin": true,
            "type": "pie"
           }
          ],
          "scatter": [
           {
            "fillpattern": {
             "fillmode": "overlay",
             "size": 10,
             "solidity": 0.2
            },
            "type": "scatter"
           }
          ],
          "scatter3d": [
           {
            "line": {
             "colorbar": {
              "outlinewidth": 0,
              "ticks": ""
             }
            },
            "marker": {
             "colorbar": {
              "outlinewidth": 0,
              "ticks": ""
             }
            },
            "type": "scatter3d"
           }
          ],
          "scattercarpet": [
           {
            "marker": {
             "colorbar": {
              "outlinewidth": 0,
              "ticks": ""
             }
            },
            "type": "scattercarpet"
           }
          ],
          "scattergeo": [
           {
            "marker": {
             "colorbar": {
              "outlinewidth": 0,
              "ticks": ""
             }
            },
            "type": "scattergeo"
           }
          ],
          "scattergl": [
           {
            "marker": {
             "colorbar": {
              "outlinewidth": 0,
              "ticks": ""
             }
            },
            "type": "scattergl"
           }
          ],
          "scattermapbox": [
           {
            "marker": {
             "colorbar": {
              "outlinewidth": 0,
              "ticks": ""
             }
            },
            "type": "scattermapbox"
           }
          ],
          "scatterpolar": [
           {
            "marker": {
             "colorbar": {
              "outlinewidth": 0,
              "ticks": ""
             }
            },
            "type": "scatterpolar"
           }
          ],
          "scatterpolargl": [
           {
            "marker": {
             "colorbar": {
              "outlinewidth": 0,
              "ticks": ""
             }
            },
            "type": "scatterpolargl"
           }
          ],
          "scatterternary": [
           {
            "marker": {
             "colorbar": {
              "outlinewidth": 0,
              "ticks": ""
             }
            },
            "type": "scatterternary"
           }
          ],
          "surface": [
           {
            "colorbar": {
             "outlinewidth": 0,
             "ticks": ""
            },
            "colorscale": [
             [
              0,
              "#0d0887"
             ],
             [
              0.1111111111111111,
              "#46039f"
             ],
             [
              0.2222222222222222,
              "#7201a8"
             ],
             [
              0.3333333333333333,
              "#9c179e"
             ],
             [
              0.4444444444444444,
              "#bd3786"
             ],
             [
              0.5555555555555556,
              "#d8576b"
             ],
             [
              0.6666666666666666,
              "#ed7953"
             ],
             [
              0.7777777777777778,
              "#fb9f3a"
             ],
             [
              0.8888888888888888,
              "#fdca26"
             ],
             [
              1,
              "#f0f921"
             ]
            ],
            "type": "surface"
           }
          ],
          "table": [
           {
            "cells": {
             "fill": {
              "color": "#EBF0F8"
             },
             "line": {
              "color": "white"
             }
            },
            "header": {
             "fill": {
              "color": "#C8D4E3"
             },
             "line": {
              "color": "white"
             }
            },
            "type": "table"
           }
          ]
         },
         "layout": {
          "annotationdefaults": {
           "arrowcolor": "#2a3f5f",
           "arrowhead": 0,
           "arrowwidth": 1
          },
          "autotypenumbers": "strict",
          "coloraxis": {
           "colorbar": {
            "outlinewidth": 0,
            "ticks": ""
           }
          },
          "colorscale": {
           "diverging": [
            [
             0,
             "#8e0152"
            ],
            [
             0.1,
             "#c51b7d"
            ],
            [
             0.2,
             "#de77ae"
            ],
            [
             0.3,
             "#f1b6da"
            ],
            [
             0.4,
             "#fde0ef"
            ],
            [
             0.5,
             "#f7f7f7"
            ],
            [
             0.6,
             "#e6f5d0"
            ],
            [
             0.7,
             "#b8e186"
            ],
            [
             0.8,
             "#7fbc41"
            ],
            [
             0.9,
             "#4d9221"
            ],
            [
             1,
             "#276419"
            ]
           ],
           "sequential": [
            [
             0,
             "#0d0887"
            ],
            [
             0.1111111111111111,
             "#46039f"
            ],
            [
             0.2222222222222222,
             "#7201a8"
            ],
            [
             0.3333333333333333,
             "#9c179e"
            ],
            [
             0.4444444444444444,
             "#bd3786"
            ],
            [
             0.5555555555555556,
             "#d8576b"
            ],
            [
             0.6666666666666666,
             "#ed7953"
            ],
            [
             0.7777777777777778,
             "#fb9f3a"
            ],
            [
             0.8888888888888888,
             "#fdca26"
            ],
            [
             1,
             "#f0f921"
            ]
           ],
           "sequentialminus": [
            [
             0,
             "#0d0887"
            ],
            [
             0.1111111111111111,
             "#46039f"
            ],
            [
             0.2222222222222222,
             "#7201a8"
            ],
            [
             0.3333333333333333,
             "#9c179e"
            ],
            [
             0.4444444444444444,
             "#bd3786"
            ],
            [
             0.5555555555555556,
             "#d8576b"
            ],
            [
             0.6666666666666666,
             "#ed7953"
            ],
            [
             0.7777777777777778,
             "#fb9f3a"
            ],
            [
             0.8888888888888888,
             "#fdca26"
            ],
            [
             1,
             "#f0f921"
            ]
           ]
          },
          "colorway": [
           "#636efa",
           "#EF553B",
           "#00cc96",
           "#ab63fa",
           "#FFA15A",
           "#19d3f3",
           "#FF6692",
           "#B6E880",
           "#FF97FF",
           "#FECB52"
          ],
          "font": {
           "color": "#2a3f5f"
          },
          "geo": {
           "bgcolor": "white",
           "lakecolor": "white",
           "landcolor": "#E5ECF6",
           "showlakes": true,
           "showland": true,
           "subunitcolor": "white"
          },
          "hoverlabel": {
           "align": "left"
          },
          "hovermode": "closest",
          "mapbox": {
           "style": "light"
          },
          "paper_bgcolor": "white",
          "plot_bgcolor": "#E5ECF6",
          "polar": {
           "angularaxis": {
            "gridcolor": "white",
            "linecolor": "white",
            "ticks": ""
           },
           "bgcolor": "#E5ECF6",
           "radialaxis": {
            "gridcolor": "white",
            "linecolor": "white",
            "ticks": ""
           }
          },
          "scene": {
           "xaxis": {
            "backgroundcolor": "#E5ECF6",
            "gridcolor": "white",
            "gridwidth": 2,
            "linecolor": "white",
            "showbackground": true,
            "ticks": "",
            "zerolinecolor": "white"
           },
           "yaxis": {
            "backgroundcolor": "#E5ECF6",
            "gridcolor": "white",
            "gridwidth": 2,
            "linecolor": "white",
            "showbackground": true,
            "ticks": "",
            "zerolinecolor": "white"
           },
           "zaxis": {
            "backgroundcolor": "#E5ECF6",
            "gridcolor": "white",
            "gridwidth": 2,
            "linecolor": "white",
            "showbackground": true,
            "ticks": "",
            "zerolinecolor": "white"
           }
          },
          "shapedefaults": {
           "line": {
            "color": "#2a3f5f"
           }
          },
          "ternary": {
           "aaxis": {
            "gridcolor": "white",
            "linecolor": "white",
            "ticks": ""
           },
           "baxis": {
            "gridcolor": "white",
            "linecolor": "white",
            "ticks": ""
           },
           "bgcolor": "#E5ECF6",
           "caxis": {
            "gridcolor": "white",
            "linecolor": "white",
            "ticks": ""
           }
          },
          "title": {
           "x": 0.05
          },
          "xaxis": {
           "automargin": true,
           "gridcolor": "white",
           "linecolor": "white",
           "ticks": "",
           "title": {
            "standoff": 15
           },
           "zerolinecolor": "white",
           "zerolinewidth": 2
          },
          "yaxis": {
           "automargin": true,
           "gridcolor": "white",
           "linecolor": "white",
           "ticks": "",
           "title": {
            "standoff": 15
           },
           "zerolinecolor": "white",
           "zerolinewidth": 2
          }
         }
        },
        "title": {
         "text": "UMAP Plot"
        },
        "width": 800,
        "xaxis": {
         "anchor": "y",
         "domain": [
          0,
          1
         ],
         "showticklabels": false,
         "title": {
          "text": ""
         }
        },
        "yaxis": {
         "anchor": "x",
         "domain": [
          0,
          1
         ],
         "showticklabels": false,
         "title": {
          "text": ""
         }
        }
       }
      }
     },
     "metadata": {},
     "output_type": "display_data"
    }
   ],
   "source": [
    "fig = umap_plot(df_umap_all)\n",
    "\n",
    "fig.show()"
   ]
  },
  {
   "cell_type": "markdown",
   "metadata": {},
   "source": [
    "It seems like we are getting worse results for our stacked classifier compared to the original base layer models, particularly extra trees classifier, random forest and gradient boosting classifier.\n",
    " \n"
   ]
  },
  {
   "cell_type": "code",
   "execution_count": 18,
   "metadata": {},
   "outputs": [
    {
     "data": {
      "text/plain": [
       "'auto'"
      ]
     },
     "execution_count": 18,
     "metadata": {},
     "output_type": "execute_result"
    }
   ],
   "source": [
    "clf.stack_method"
   ]
  },
  {
   "cell_type": "code",
   "execution_count": null,
   "metadata": {},
   "outputs": [],
   "source": []
  }
 ],
 "metadata": {
  "interpreter": {
   "hash": "613fe122287fdb1a4092b1ec324ab5e18de9ec977608057b646301948d1df577"
  },
  "kernelspec": {
   "display_name": "Python 3.9.7 ('base')",
   "language": "python",
   "name": "python3"
  },
  "language_info": {
   "codemirror_mode": {
    "name": "ipython",
    "version": 3
   },
   "file_extension": ".py",
   "mimetype": "text/x-python",
   "name": "python",
   "nbconvert_exporter": "python",
   "pygments_lexer": "ipython3",
   "version": "3.9.12"
  },
  "orig_nbformat": 4
 },
 "nbformat": 4,
 "nbformat_minor": 2
}
