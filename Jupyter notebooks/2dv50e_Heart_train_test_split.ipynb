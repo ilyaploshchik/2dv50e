{
 "cells": [
  {
   "cell_type": "markdown",
   "metadata": {},
   "source": [
    "### Initial Data exploration and wrangling"
   ]
  },
  {
   "cell_type": "markdown",
   "metadata": {},
   "source": [
    "##### Module import"
   ]
  },
  {
   "cell_type": "code",
   "execution_count": 1,
   "metadata": {},
   "outputs": [],
   "source": [
    "import pandas as pd\n",
    "import umap\n",
    "from sklearn import preprocessing\n",
    "import plotly.graph_objects as go\n",
    "from plotly.subplots import make_subplots\n",
    "import numpy as np\n",
    "import ast\n",
    "from sklearn.neighbors import KNeighborsClassifier\n",
    "from sklearn.svm import SVC\n",
    "from sklearn.naive_bayes import GaussianNB\n",
    "from sklearn.neural_network import MLPClassifier\n",
    "from sklearn.linear_model import LogisticRegression\n",
    "from sklearn.discriminant_analysis import LinearDiscriminantAnalysis\n",
    "from sklearn.discriminant_analysis import QuadraticDiscriminantAnalysis\n",
    "from sklearn.ensemble import RandomForestClassifier\n",
    "from sklearn.ensemble import ExtraTreesClassifier\n",
    "from sklearn.ensemble import AdaBoostClassifier\n",
    "from sklearn.ensemble import GradientBoostingClassifier\n",
    "from sklearn.ensemble import StackingClassifier\n",
    "from sklearn.metrics import accuracy_score, precision_score, recall_score, roc_auc_score, matthews_corrcoef, f1_score, log_loss\n",
    "from sklearn import metrics\n",
    "from imblearn.metrics import geometric_mean_score\n",
    "import plotly.graph_objects as go\n",
    "from plotly.subplots import make_subplots\n",
    "import warnings\n",
    "warnings.filterwarnings('ignore')\n",
    "import os\n",
    "from PIL import Image\n",
    "import math\n",
    "import hdbscan\n",
    "from sklearn.preprocessing import minmax_scale\n",
    "import shutil\n",
    "\n",
    "# define random seed\n",
    "np.random.seed(42)\n",
    "\n",
    "# define plot size\n",
    "width=1100\n",
    "height=1100\n"
   ]
  },
  {
   "cell_type": "markdown",
   "metadata": {},
   "source": [
    "#### Dataset import and wrangling"
   ]
  },
  {
   "cell_type": "code",
   "execution_count": 2,
   "metadata": {},
   "outputs": [],
   "source": [
    "path = 'D:/github/2dv50e/Data_train_test_split/1. Heart Disease/'\n",
    "df_prob = pd.read_csv(path + 'topModelsProbabilities.csv')\n",
    "df_mod = pd.read_csv(path + 'topModels.csv')\n",
    "\n",
    "df_target_train = pd.read_csv(path + 'targetTrain.csv')\n",
    "y_train = df_target_train.copy()\n",
    "df_target_test = pd.read_csv(path + 'targetTest.csv')\n",
    "y_test = df_target_test.copy()\n",
    "df_source_train = pd.read_csv(path + 'datasetTrain.csv')\n",
    "df_source_test = pd.read_csv(path + 'datasetTest.csv')\n",
    "\n",
    "# Apply scaler to df_source\n",
    "scaler = preprocessing.StandardScaler()\n",
    "\n",
    "df_source_train_scaled = pd.DataFrame(scaler.fit_transform(df_source_train), columns=df_source_train.columns)\n",
    "x_train = df_source_train_scaled.copy()\n",
    "df_source_test_scaled = pd.DataFrame(scaler.fit_transform(df_source_test), columns=df_source_test.columns)\n",
    "x_test = df_source_test_scaled.copy()\n",
    "\n",
    "algo_nr = df_mod['algorithm_id']\n"
   ]
  },
  {
   "cell_type": "code",
   "execution_count": 3,
   "metadata": {},
   "outputs": [],
   "source": [
    "# Print number of missing values per column in df_probabilities\n",
    "for col in df_prob.columns:\n",
    "    if df_prob[col].isnull().sum() > 0:\n",
    "        print(f'{col} has {df_prob[col].isnull().sum()} missing values.')"
   ]
  },
  {
   "cell_type": "code",
   "execution_count": 4,
   "metadata": {},
   "outputs": [],
   "source": [
    "algos = {1:'K-Nearest Neighbor', 2:'Support Vector Machine', 3:'Gaussian Naive Bayes', 4:'Multilayer Perceptron', 5:'Logistic Regression',\n",
    "        6:'Linear Discriminant Analysis', 7:'Quadratic Discriminant Analysis', 8:'Random Forest', 9:'Extra Trees', 10:'Adaptive Boosting',\n",
    "        11:'Gradient Boosting'}\n",
    "\n",
    "symbols = ['circle', 'square', 'x', 'cross', 'diamond', 'star', 'hexagram', 'triangle-right', 'triangle-left', 'triangle-down', 'triangle-up']"
   ]
  },
  {
   "cell_type": "code",
   "execution_count": 5,
   "metadata": {},
   "outputs": [],
   "source": [
    "df_model = df_mod.copy()\n",
    "# rename columns in df_model\n",
    "df_model.rename(columns={'params': 'hyperparameters', 'mean_test_accuracy': 'accuracy', 'mean_test_precision_weighted': 'precision', \n",
    "                        'mean_test_recall_weighted': 'recall', 'mean_test_roc_auc_ovo_weighted': 'roc_auc_score',\n",
    "                        'geometric_mean_score_weighted': 'geometric_mean_score'}, inplace=True)\n",
    "# remove overall perfromance column\n",
    "df_model.drop(columns=['overall_performance'], inplace=True)\n",
    "df_model['algorithm_name'] = df_model['algorithm_id'].map(algos)\n",
    "df_model['overall_performance'] = round((df_model['accuracy'] + df_model['precision'] + df_model['recall'] + df_model['roc_auc_score'] + \\\n",
    "                                df_model['geometric_mean_score'] + df_model['matthews_corrcoef'] + df_model['f1_weighted']) / 7, 2)\n",
    "# Sort columns\n",
    "df_model = df_model[['model_id', 'algorithm_id', 'algorithm_name', 'accuracy', 'precision', 'recall', 'roc_auc_score',\n",
    "                        'geometric_mean_score', 'matthews_corrcoef', 'f1_weighted', 'log_loss', 'overall_performance', 'hyperparameters']]\n",
    "\n",
    "\n",
    "# create new pandas series with total number of models\n",
    "prob_base = []\n",
    "\n",
    "for i in range(df_prob.shape[0]):\n",
    "    prob = []\n",
    "    # calculate the confidence interval for each algorithm\n",
    "    for n in range(df_prob.shape[1]):\n",
    "            prob.append(df_prob.iloc[i, n])\n",
    "    prob_average = np.mean(prob).round(2)\n",
    "    prob_base.append(prob_average)\n",
    "    # add prob_meta to df_model_meta as new column \"average_probability\"\n",
    "    df_model['average_probability'] = pd.Series(prob_base)\n",
    "\n",
    "df_model['rank'] = df_model['overall_performance'] * df_model['average_probability'] / 10000\n",
    "# convert mathhews_corrcoef to absolute values\n",
    "df_model['matthews_corrcoef'] = df_model['matthews_corrcoef'].abs()"
   ]
  },
  {
   "cell_type": "markdown",
   "metadata": {},
   "source": [
    "Function to extract hyperparameters from the best performing model per algorithm"
   ]
  },
  {
   "cell_type": "code",
   "execution_count": 6,
   "metadata": {},
   "outputs": [],
   "source": [
    "def best_params(df):\n",
    "      # Select hyperparameters for best model in each algorithm\n",
    "      df_best = df.groupby('algorithm_id').apply(lambda x: x.sort_values('overall_performance', ascending=False).iloc[0])\n",
    "      # reset algorithm_nr as  index\n",
    "      df_best = df_best.reset_index(drop=True)\n",
    "      # keep only algorithm number, name, performance and hyperparameters\n",
    "      df_best = df_best[['algorithm_id', 'algorithm_name', 'overall_performance', 'hyperparameters']]\n",
    "      # rename overall_performance as performance\n",
    "      df_best.rename(columns={'overall_performance': 'performance'}, inplace=True)\n",
    "      return df_best"
   ]
  },
  {
   "cell_type": "markdown",
   "metadata": {},
   "source": [
    "Supporting functions to extract hyperparameters values"
   ]
  },
  {
   "cell_type": "code",
   "execution_count": 7,
   "metadata": {},
   "outputs": [],
   "source": [
    "# Return hyperparameters based on algorithm name\n",
    "def get_hyperparameters(df, algorithm_name):\n",
    "    return df[df['algorithm_name'] == algorithm_name]['hyperparameters']\n",
    "\n",
    "# return value of key in dictionary\n",
    "def get_value(dictionary, key):\n",
    "    return dictionary[key]\n",
    "\n",
    "# convert string to dictionary\n",
    "def string_to_dict(string):\n",
    "    return ast.literal_eval(string)"
   ]
  },
  {
   "cell_type": "markdown",
   "metadata": {},
   "source": [
    "##### Metamodel estimators (top 1 per algorithm)\n",
    "Hyperparameters will be extracted from the best performing model per algorithm. <br> The plan is to extract hyperparameters from the best performing model per algorithm and then apply these hyperparameters to the metamodels. Currently no functuonality to be added to allow end user to tune the hyperparameters for metamodels, instead they will rely on top performing ones from base layer models."
   ]
  },
  {
   "cell_type": "code",
   "execution_count": 8,
   "metadata": {},
   "outputs": [],
   "source": [
    "# Extract the top models from the dataframe with the respective hyperparameters\n",
    "meta_params = best_params(df_model)\n",
    "\n",
    "# return unique values of algorithm name\n",
    "algo = ['knn', 'svm', 'gnb', 'mlp', 'lr', 'lda', 'qda', 'rf', 'et', 'ab', 'gb']\n",
    "# convert all values in algo to capital letters\n",
    "algo_cap = [i.upper() for i in algo]\n",
    "\n",
    "algo_names = meta_params['algorithm_name'].copy()\n",
    "\n",
    "# iterate through key and value pairs in algo\n",
    "i = 0\n",
    "for k,v in zip(algo, algo_names):\n",
    "    # Define hyperparameters for each  final estimator, based on top performing model from base layer\n",
    "    temp = get_hyperparameters(meta_params, v)\n",
    "    # convert to dictionary for easy access\n",
    "    temp_dict = {int(k):v for k,v in temp.items()}\n",
    "    # return first value\n",
    "    temp_dict = temp_dict[i]\n",
    "    # convert to dictionary for easy access, assign varibale name per algorithm\n",
    "    globals()[k + '_best_params'] = ast.literal_eval(temp_dict)\n",
    "    i += 1\n",
    "\n",
    "# Add final estimators\n",
    "final_estimators = [\n",
    "                ('knn', KNeighborsClassifier(algorithm=get_value(knn_best_params, 'algorithm'), metric=get_value(knn_best_params, 'metric'), \n",
    "                n_neighbors= get_value(knn_best_params, 'n_neighbors'), weights=get_value(knn_best_params, 'weights'), n_jobs=-1)),\n",
    "                ('svm', SVC(C=get_value(svm_best_params, 'C'), kernel=get_value(svm_best_params, 'kernel'),probability=True, random_state=42)),\n",
    "                ('gnb', GaussianNB(var_smoothing=get_value(gnb_best_params, 'var_smoothing'))),\n",
    "                ('mlp', MLPClassifier(activation=get_value(mlp_best_params, 'activation'), alpha=get_value(mlp_best_params, 'alpha'), \n",
    "                max_iter=get_value(mlp_best_params, 'max_iter'), solver=get_value(mlp_best_params, 'solver'), tol=get_value(mlp_best_params, 'tol'), \n",
    "                random_state=42)),\n",
    "                ('lr', LogisticRegression(C=get_value(lr_best_params, 'C'), max_iter=get_value(lr_best_params, 'max_iter'),\n",
    "                penalty=get_value(lr_best_params, 'penalty'), solver=get_value(lr_best_params, 'solver'), random_state=42, n_jobs=-1)),\n",
    "                ('lda', LinearDiscriminantAnalysis(shrinkage=get_value(lda_best_params, 'shrinkage'), solver=get_value(lda_best_params, 'solver'))),\n",
    "                ('qda', QuadraticDiscriminantAnalysis(reg_param=get_value(qda_best_params, 'reg_param'), tol=get_value(qda_best_params, 'tol'))),\n",
    "                ('rf', RandomForestClassifier(criterion=get_value(rf_best_params, 'criterion'), n_estimators=get_value(rf_best_params, 'n_estimators'), \n",
    "                random_state=42, n_jobs=-1)),\n",
    "                ('et', ExtraTreesClassifier(criterion=get_value(et_best_params, 'criterion'), n_estimators=get_value(et_best_params, 'n_estimators'), \n",
    "                random_state=42, n_jobs=-1)),\n",
    "                ('ab', AdaBoostClassifier(algorithm=get_value(ab_best_params, 'algorithm'), learning_rate=get_value(ab_best_params, 'learning_rate'), \n",
    "                n_estimators=get_value(ab_best_params, 'n_estimators'), random_state=42)),\n",
    "                ('gb', GradientBoostingClassifier(learning_rate=get_value(gb_best_params, 'learning_rate'), \n",
    "                n_estimators=get_value(gb_best_params, 'n_estimators'), random_state=42))\n",
    "                ]"
   ]
  },
  {
   "cell_type": "markdown",
   "metadata": {},
   "source": [
    "### HDBSCAN"
   ]
  },
  {
   "cell_type": "markdown",
   "metadata": {},
   "source": [
    "Testing on probabilities dataset"
   ]
  },
  {
   "cell_type": "code",
   "execution_count": 9,
   "metadata": {},
   "outputs": [],
   "source": [
    "# create new dataframe with with columns min_cluster_size, min_samples and number_outliers\n",
    "df_cluster = pd.DataFrame(columns=['min_cluster_size', 'min_samples', 'metric', 'n_clusters', 'DBVC', 'Coverage'])\n",
    "\n",
    "row = 0\n",
    "\n",
    "# Apply hdbscan to df_prob\n",
    "for i in [3,4,5,6, 7, 8]:\n",
    "    for j in [5, 10, 15, 20, 25, 30, 40, 50]:\n",
    "        for metric in ['euclidean', 'manhattan', 'chebyshev']:\n",
    "            clusterer = hdbscan.HDBSCAN(min_cluster_size=i, min_samples=j, metric=metric, gen_min_span_tree=True)\n",
    "            clusterer.fit(df_prob)\n",
    "            labels = clusterer.labels_\n",
    "            cnts = pd.DataFrame(labels)[0].value_counts()\n",
    "            cnts = cnts.reset_index()\n",
    "            cnts.columns = ['cluster','count']\n",
    "            n_cluster = cnts.cluster.nunique()\n",
    "            # get DBVC\n",
    "            DBVC = clusterer.relative_validity_\n",
    "\n",
    "            clustered = (labels >= 0)\n",
    "\n",
    "            coverage = np.sum(clustered) / df_prob.shape[0]\n",
    "            # add values to dataframe\n",
    "            df_cluster.loc[row] = [i, j, metric, n_cluster, DBVC, coverage]\n",
    "\n",
    "            row += 1\n",
    "\n",
    "# add column with multiplication of DBVC and coverage\n",
    "df_cluster['DBVC_Coverage'] = df_cluster['DBVC'] * df_cluster['Coverage']\n",
    "# sort dataframe by DBVC_coverage\n",
    "df_cluster = df_cluster.sort_values('DBVC_Coverage', ascending=False)\n",
    "# group by DBVC_coverage\n",
    "df_cluster = df_cluster.groupby('DBVC_Coverage').apply(lambda x: x.sort_values('DBVC', ascending=False).iloc[0])\n",
    "# drop index and \n",
    "df_cluster = df_cluster.reset_index(drop=True)\n",
    "\n",
    "# # keep only rows with number of clusters 4 or 5\n",
    "# df_cluster = df_cluster[df_cluster['n_clusters'].isin([4,5])]\n",
    "# sort by DBVC_coverage\n",
    "df_cluster = df_cluster.sort_values('DBVC_Coverage', ascending=False)\n",
    "\n",
    "\n",
    "# get min_cluster_size and min_samples and from top row\n",
    "min_cluster_size = int(df_cluster.iloc[0]['min_cluster_size'])\n",
    "min_samples = int(df_cluster.iloc[0]['min_samples'])\n",
    "# get metric from top row\n",
    "metric = df_cluster.iloc[0]['metric']\n",
    "\n",
    "clusterer = hdbscan.HDBSCAN(min_cluster_size=min_cluster_size, min_samples=min_samples, metric=metric, gen_min_span_tree=True)\n",
    "clusterer.fit(df_prob)\n",
    "labels = clusterer.labels_\n",
    "\n",
    "cnts = pd.DataFrame(labels)[0].value_counts()\n",
    "cnts = cnts.reset_index()\n",
    "cnts.columns = ['cluster','count']\n",
    "# sort by cluster\n",
    "cnts = cnts.sort_values('cluster')\n",
    "\n",
    "# add labels to df_model\n",
    "df_model['labels'] = labels\n",
    "df_prob['labels'] = labels\n"
   ]
  },
  {
   "cell_type": "code",
   "execution_count": 10,
   "metadata": {},
   "outputs": [
    {
     "data": {
      "text/html": [
       "<style type=\"text/css\">\n",
       "#T_3f035_row0_col0, #T_3f035_row0_col1, #T_3f035_row0_col2, #T_3f035_row0_col3, #T_3f035_row0_col4, #T_3f035_row0_col5, #T_3f035_row0_col6, #T_3f035_row1_col0, #T_3f035_row1_col1, #T_3f035_row1_col2, #T_3f035_row1_col3, #T_3f035_row1_col4, #T_3f035_row1_col5, #T_3f035_row1_col6, #T_3f035_row2_col0, #T_3f035_row2_col1, #T_3f035_row2_col2, #T_3f035_row2_col3, #T_3f035_row2_col4, #T_3f035_row2_col5, #T_3f035_row2_col6, #T_3f035_row3_col0, #T_3f035_row3_col1, #T_3f035_row3_col2, #T_3f035_row3_col3, #T_3f035_row3_col4, #T_3f035_row3_col5, #T_3f035_row3_col6, #T_3f035_row4_col0, #T_3f035_row4_col1, #T_3f035_row4_col2, #T_3f035_row4_col3, #T_3f035_row4_col4, #T_3f035_row4_col5, #T_3f035_row4_col6 {\n",
       "  text-align: center;\n",
       "}\n",
       "</style>\n",
       "<table id=\"T_3f035\">\n",
       "  <thead>\n",
       "    <tr>\n",
       "      <th id=\"T_3f035_level0_col0\" class=\"col_heading level0 col0\" >min_cluster_size</th>\n",
       "      <th id=\"T_3f035_level0_col1\" class=\"col_heading level0 col1\" >min_samples</th>\n",
       "      <th id=\"T_3f035_level0_col2\" class=\"col_heading level0 col2\" >metric</th>\n",
       "      <th id=\"T_3f035_level0_col3\" class=\"col_heading level0 col3\" >n_clusters</th>\n",
       "      <th id=\"T_3f035_level0_col4\" class=\"col_heading level0 col4\" >DBVC</th>\n",
       "      <th id=\"T_3f035_level0_col5\" class=\"col_heading level0 col5\" >Coverage</th>\n",
       "      <th id=\"T_3f035_level0_col6\" class=\"col_heading level0 col6\" >DBVC_Coverage</th>\n",
       "    </tr>\n",
       "  </thead>\n",
       "  <tbody>\n",
       "    <tr>\n",
       "      <td id=\"T_3f035_row0_col0\" class=\"data row0 col0\" >3</td>\n",
       "      <td id=\"T_3f035_row0_col1\" class=\"data row0 col1\" >5</td>\n",
       "      <td id=\"T_3f035_row0_col2\" class=\"data row0 col2\" >manhattan</td>\n",
       "      <td id=\"T_3f035_row0_col3\" class=\"data row0 col3\" >5</td>\n",
       "      <td id=\"T_3f035_row0_col4\" class=\"data row0 col4\" >0.206600</td>\n",
       "      <td id=\"T_3f035_row0_col5\" class=\"data row0 col5\" >0.636364</td>\n",
       "      <td id=\"T_3f035_row0_col6\" class=\"data row0 col6\" >0.131473</td>\n",
       "    </tr>\n",
       "    <tr>\n",
       "      <td id=\"T_3f035_row1_col0\" class=\"data row1 col0\" >4</td>\n",
       "      <td id=\"T_3f035_row1_col1\" class=\"data row1 col1\" >5</td>\n",
       "      <td id=\"T_3f035_row1_col2\" class=\"data row1 col2\" >manhattan</td>\n",
       "      <td id=\"T_3f035_row1_col3\" class=\"data row1 col3\" >4</td>\n",
       "      <td id=\"T_3f035_row1_col4\" class=\"data row1 col4\" >0.171827</td>\n",
       "      <td id=\"T_3f035_row1_col5\" class=\"data row1 col5\" >0.581818</td>\n",
       "      <td id=\"T_3f035_row1_col6\" class=\"data row1 col6\" >0.099972</td>\n",
       "    </tr>\n",
       "    <tr>\n",
       "      <td id=\"T_3f035_row2_col0\" class=\"data row2 col0\" >3</td>\n",
       "      <td id=\"T_3f035_row2_col1\" class=\"data row2 col1\" >5</td>\n",
       "      <td id=\"T_3f035_row2_col2\" class=\"data row2 col2\" >chebyshev</td>\n",
       "      <td id=\"T_3f035_row2_col3\" class=\"data row2 col3\" >4</td>\n",
       "      <td id=\"T_3f035_row2_col4\" class=\"data row2 col4\" >0.196133</td>\n",
       "      <td id=\"T_3f035_row2_col5\" class=\"data row2 col5\" >0.472727</td>\n",
       "      <td id=\"T_3f035_row2_col6\" class=\"data row2 col6\" >0.092718</td>\n",
       "    </tr>\n",
       "    <tr>\n",
       "      <td id=\"T_3f035_row3_col0\" class=\"data row3 col0\" >8</td>\n",
       "      <td id=\"T_3f035_row3_col1\" class=\"data row3 col1\" >5</td>\n",
       "      <td id=\"T_3f035_row3_col2\" class=\"data row3 col2\" >chebyshev</td>\n",
       "      <td id=\"T_3f035_row3_col3\" class=\"data row3 col3\" >3</td>\n",
       "      <td id=\"T_3f035_row3_col4\" class=\"data row3 col4\" >0.155424</td>\n",
       "      <td id=\"T_3f035_row3_col5\" class=\"data row3 col5\" >0.400000</td>\n",
       "      <td id=\"T_3f035_row3_col6\" class=\"data row3 col6\" >0.062170</td>\n",
       "    </tr>\n",
       "    <tr>\n",
       "      <td id=\"T_3f035_row4_col0\" class=\"data row4 col0\" >5</td>\n",
       "      <td id=\"T_3f035_row4_col1\" class=\"data row4 col1\" >5</td>\n",
       "      <td id=\"T_3f035_row4_col2\" class=\"data row4 col2\" >euclidean</td>\n",
       "      <td id=\"T_3f035_row4_col3\" class=\"data row4 col3\" >3</td>\n",
       "      <td id=\"T_3f035_row4_col4\" class=\"data row4 col4\" >0.092380</td>\n",
       "      <td id=\"T_3f035_row4_col5\" class=\"data row4 col5\" >0.418182</td>\n",
       "      <td id=\"T_3f035_row4_col6\" class=\"data row4 col6\" >0.038632</td>\n",
       "    </tr>\n",
       "  </tbody>\n",
       "</table>\n"
      ],
      "text/plain": [
       "<pandas.io.formats.style.Styler at 0x2c39703b0a0>"
      ]
     },
     "execution_count": 10,
     "metadata": {},
     "output_type": "execute_result"
    }
   ],
   "source": [
    "test = df_cluster.head().style.set_properties(**{'text-align': 'center'}).hide_index()\n",
    "test"
   ]
  },
  {
   "cell_type": "code",
   "execution_count": 11,
   "metadata": {},
   "outputs": [
    {
     "data": {
      "text/html": [
       "<div>\n",
       "<style scoped>\n",
       "    .dataframe tbody tr th:only-of-type {\n",
       "        vertical-align: middle;\n",
       "    }\n",
       "\n",
       "    .dataframe tbody tr th {\n",
       "        vertical-align: top;\n",
       "    }\n",
       "\n",
       "    .dataframe thead th {\n",
       "        text-align: right;\n",
       "    }\n",
       "</style>\n",
       "<table border=\"1\" class=\"dataframe\">\n",
       "  <thead>\n",
       "    <tr style=\"text-align: right;\">\n",
       "      <th></th>\n",
       "      <th>min_cluster_size</th>\n",
       "      <th>min_samples</th>\n",
       "      <th>metric</th>\n",
       "      <th>n_clusters</th>\n",
       "      <th>DBVC</th>\n",
       "      <th>Coverage</th>\n",
       "      <th>DBVC_Coverage</th>\n",
       "    </tr>\n",
       "  </thead>\n",
       "  <tbody>\n",
       "    <tr>\n",
       "      <th>9</th>\n",
       "      <td>3</td>\n",
       "      <td>5</td>\n",
       "      <td>manhattan</td>\n",
       "      <td>5</td>\n",
       "      <td>0.206600</td>\n",
       "      <td>0.636364</td>\n",
       "      <td>0.131473</td>\n",
       "    </tr>\n",
       "    <tr>\n",
       "      <th>8</th>\n",
       "      <td>4</td>\n",
       "      <td>5</td>\n",
       "      <td>manhattan</td>\n",
       "      <td>4</td>\n",
       "      <td>0.171827</td>\n",
       "      <td>0.581818</td>\n",
       "      <td>0.099972</td>\n",
       "    </tr>\n",
       "    <tr>\n",
       "      <th>7</th>\n",
       "      <td>3</td>\n",
       "      <td>5</td>\n",
       "      <td>chebyshev</td>\n",
       "      <td>4</td>\n",
       "      <td>0.196133</td>\n",
       "      <td>0.472727</td>\n",
       "      <td>0.092718</td>\n",
       "    </tr>\n",
       "    <tr>\n",
       "      <th>6</th>\n",
       "      <td>8</td>\n",
       "      <td>5</td>\n",
       "      <td>chebyshev</td>\n",
       "      <td>3</td>\n",
       "      <td>0.155424</td>\n",
       "      <td>0.400000</td>\n",
       "      <td>0.062170</td>\n",
       "    </tr>\n",
       "    <tr>\n",
       "      <th>5</th>\n",
       "      <td>5</td>\n",
       "      <td>5</td>\n",
       "      <td>euclidean</td>\n",
       "      <td>3</td>\n",
       "      <td>0.092380</td>\n",
       "      <td>0.418182</td>\n",
       "      <td>0.038632</td>\n",
       "    </tr>\n",
       "  </tbody>\n",
       "</table>\n",
       "</div>"
      ],
      "text/plain": [
       "   min_cluster_size  min_samples     metric  n_clusters      DBVC  Coverage  \\\n",
       "9                 3            5  manhattan           5  0.206600  0.636364   \n",
       "8                 4            5  manhattan           4  0.171827  0.581818   \n",
       "7                 3            5  chebyshev           4  0.196133  0.472727   \n",
       "6                 8            5  chebyshev           3  0.155424  0.400000   \n",
       "5                 5            5  euclidean           3  0.092380  0.418182   \n",
       "\n",
       "   DBVC_Coverage  \n",
       "9       0.131473  \n",
       "8       0.099972  \n",
       "7       0.092718  \n",
       "6       0.062170  \n",
       "5       0.038632  "
      ]
     },
     "execution_count": 11,
     "metadata": {},
     "output_type": "execute_result"
    }
   ],
   "source": [
    "df_cluster.head()"
   ]
  },
  {
   "cell_type": "code",
   "execution_count": 12,
   "metadata": {},
   "outputs": [
    {
     "data": {
      "text/html": [
       "<style type=\"text/css\">\n",
       "#T_f79ac_row0_col0, #T_f79ac_row0_col1 {\n",
       "  background: lightgrey;\n",
       "  text-align: center;\n",
       "}\n",
       "#T_f79ac_row1_col0, #T_f79ac_row1_col1, #T_f79ac_row2_col0, #T_f79ac_row2_col1, #T_f79ac_row3_col0, #T_f79ac_row3_col1, #T_f79ac_row4_col0, #T_f79ac_row4_col1 {\n",
       "  text-align: center;\n",
       "}\n",
       "</style>\n",
       "<table id=\"T_f79ac\">\n",
       "  <thead>\n",
       "    <tr>\n",
       "      <th id=\"T_f79ac_level0_col0\" class=\"col_heading level0 col0\" >cluster</th>\n",
       "      <th id=\"T_f79ac_level0_col1\" class=\"col_heading level0 col1\" >count</th>\n",
       "    </tr>\n",
       "  </thead>\n",
       "  <tbody>\n",
       "    <tr>\n",
       "      <td id=\"T_f79ac_row0_col0\" class=\"data row0 col0\" >-1 (outliers)</td>\n",
       "      <td id=\"T_f79ac_row0_col1\" class=\"data row0 col1\" >20</td>\n",
       "    </tr>\n",
       "    <tr>\n",
       "      <td id=\"T_f79ac_row1_col0\" class=\"data row1 col0\" >0</td>\n",
       "      <td id=\"T_f79ac_row1_col1\" class=\"data row1 col1\" >3</td>\n",
       "    </tr>\n",
       "    <tr>\n",
       "      <td id=\"T_f79ac_row2_col0\" class=\"data row2 col0\" >1</td>\n",
       "      <td id=\"T_f79ac_row2_col1\" class=\"data row2 col1\" >10</td>\n",
       "    </tr>\n",
       "    <tr>\n",
       "      <td id=\"T_f79ac_row3_col0\" class=\"data row3 col0\" >2</td>\n",
       "      <td id=\"T_f79ac_row3_col1\" class=\"data row3 col1\" >12</td>\n",
       "    </tr>\n",
       "    <tr>\n",
       "      <td id=\"T_f79ac_row4_col0\" class=\"data row4 col0\" >3</td>\n",
       "      <td id=\"T_f79ac_row4_col1\" class=\"data row4 col1\" >10</td>\n",
       "    </tr>\n",
       "  </tbody>\n",
       "</table>\n"
      ],
      "text/plain": [
       "<pandas.io.formats.style.Styler at 0x2c39703b670>"
      ]
     },
     "execution_count": 12,
     "metadata": {},
     "output_type": "execute_result"
    }
   ],
   "source": [
    "for i in range(0, len(cnts)):\n",
    "    if cnts['cluster'][i] == -1:\n",
    "        cnts['cluster'][i] = '-1 (outliers)'\n",
    "\n",
    "cnts\n",
    "# grey out row with outliers\n",
    "cnts_style = cnts.style.apply(lambda x: ['background: lightgrey' if x.cluster == '-1 (outliers)' else '' for i in x], axis=1)\n",
    "# do not show index\n",
    "cnts_style = cnts_style.set_properties(**{'text-align': 'center'}).hide_index()\n",
    "\n",
    "cnts_style"
   ]
  },
  {
   "cell_type": "code",
   "execution_count": 13,
   "metadata": {},
   "outputs": [],
   "source": [
    "# sort dataframes by labels\n",
    "df_model = df_model.sort_values('labels')\n",
    "df_prob = df_prob.reindex(df_model.index)\n",
    "\n",
    "# reset index for df_model and df_prob\n",
    "df_model = df_model.reset_index(drop=True)\n",
    "df_prob = df_prob.reset_index(drop=True)\n"
   ]
  },
  {
   "cell_type": "code",
   "execution_count": 14,
   "metadata": {},
   "outputs": [],
   "source": [
    "# create empty dictionaries to store results fro all clusters of basemodels and metamodels results\n",
    "df_model_dict = {}\n",
    "df_prob_dict = {}\n",
    "df_pred_dict = {}\n",
    "\n",
    "df_model_dict_meta = {}\n",
    "df_prob_dict_meta = {}\n",
    "df_pred_dict_meta = {}\n",
    "\n",
    "algo_dict = {}\n",
    "algo_names_dict = {}\n",
    "\n",
    "# create new dictionary with df_model name and content\n",
    "df_model_dict = {'df_model_all': df_model}\n",
    "df_model_dict_meta = {'df_model_all_meta': None}\n",
    "\n",
    "# save df_model subsets based on labels\n",
    "for label in df_model.labels.unique():\n",
    "    if label == -1:\n",
    "        # append to dictionary\n",
    "        df_model_dict['df_model_outliers'] = df_model[df_model['labels'] == -1]\n",
    "        df_model_dict_meta['df_model_outliers_meta'] = None\n",
    "    else:\n",
    "        # append to dictionary\n",
    "        df_model_dict[f'df_model_cluster_{label}'] = df_model[df_model['labels'] == label]\n",
    "        df_model_dict_meta[f'df_model_cluster_{label}_meta'] = None\n",
    "\n",
    "\n",
    "# create new dictionary with df_prob name and content\n",
    "df_prob_dict = {'df_prob_all': df_prob}\n",
    "df_prob_dict_meta = {'df_prob_all_meta': None}\n",
    "\n",
    "# save df_prob subsets based on labels\n",
    "for label in df_prob.labels.unique():\n",
    "    if label == -1:\n",
    "        # append to dictionary\n",
    "        df_prob_dict['df_prob_outliers'] = df_prob[df_prob['labels'] == -1]\n",
    "        df_prob_dict_meta['df_prob_outliers_meta'] = None\n",
    "    else:\n",
    "        # append to dictionary\n",
    "        df_prob_dict[f'df_prob_cluster_{label}'] = df_prob[df_prob['labels'] == label]\n",
    "        df_prob_dict_meta[f'df_prob_cluster_{label}_meta'] = None\n",
    "\n",
    "# drop label column from all dataframes in df_prob_dict\n",
    "for key in df_prob_dict.keys():\n",
    "    df_prob_dict[key] = df_prob_dict[key].drop(columns=['labels'])\n",
    "\n",
    "\n",
    "# create new dictionary with predicitons\n",
    "df_pred_dict = {'df_pred_all': None}\n",
    "df_pred_dict_meta = {'df_pred_all_meta': None}\n",
    "# save df_prob subsets based on labels\n",
    "for label in df_prob.labels.unique():\n",
    "    if label == -1:\n",
    "        # append to dictionary\n",
    "        df_pred_dict['df_pred_outliers'] = None\n",
    "        df_pred_dict_meta['df_pred_outliers_meta'] = None\n",
    "    else:\n",
    "        # append to dictionary\n",
    "        df_pred_dict[f'df_pred_cluster_{label}'] = None\n",
    "        df_pred_dict_meta[f'df_pred_cluster_{label}_meta'] = None\n",
    "\n",
    "# create new dictionary with predicitons\n",
    "algo_dict = {'algo_all': None}\n",
    "# save df_prob subsets based on labels\n",
    "for label in df_prob.labels.unique():\n",
    "    if label == -1:\n",
    "        # append to dictionary\n",
    "        algo_dict['algo_outliers'] = None\n",
    "    else:\n",
    "        # append to dictionary\n",
    "        algo_dict[f'algo_cluster_{label}'] = None\n",
    "\n",
    "# create new dictionary with predicitons\n",
    "algo_names_dict = {'algo_all': None}\n",
    "# save df_prob subsets based on labels\n",
    "for label in df_prob.labels.unique():\n",
    "    if label == -1:\n",
    "        # append to dictionary\n",
    "        algo_names_dict['algo_outliers'] = None\n",
    "    else:\n",
    "        # append to dictionary\n",
    "        algo_names_dict[f'algo_cluster_{label}'] = None"
   ]
  },
  {
   "cell_type": "code",
   "execution_count": 15,
   "metadata": {},
   "outputs": [
    {
     "name": "stdout",
     "output_type": "stream",
     "text": [
      "df_model_all\n",
      "(55, 16)\n",
      "df_model_outliers\n",
      "(20, 16)\n",
      "df_model_cluster_0\n",
      "(3, 16)\n",
      "df_model_cluster_1\n",
      "(10, 16)\n",
      "df_model_cluster_2\n",
      "(12, 16)\n",
      "df_model_cluster_3\n",
      "(10, 16)\n"
     ]
    }
   ],
   "source": [
    "for key_model, key_prob, key_pred, key_algo, key_name_algo in zip (df_model_dict.keys(), df_prob_dict.keys(), \n",
    "                                                                df_pred_dict.keys(), algo_dict.keys(), algo_names_dict.keys()):\n",
    "    print(key_model)\n",
    "    print(df_model_dict[key_model].shape)\n",
    "\n",
    "    # dictionaries with algorithm names and their hyperparameters for all models\n",
    "    knn_params = {int(k):v for k,v in get_hyperparameters(df_model_dict[key_model], 'K-Nearest Neighbor').items()}\n",
    "    svm_params = {int(k):v for k,v in get_hyperparameters(df_model_dict[key_model], 'Support Vector Machine').items()}\n",
    "    gnb_params = {int(k):v for k,v in get_hyperparameters(df_model_dict[key_model], 'Gaussian Naive Bayes').items()}\n",
    "    mlp_params = {int(k):v for k,v in get_hyperparameters(df_model_dict[key_model], 'Multilayer Perceptron').items()}\n",
    "    lr_params = {int(k):v for k,v in get_hyperparameters(df_model_dict[key_model], 'Logistic Regression').items()}\n",
    "    lda_params = {int(k):v for k,v in get_hyperparameters(df_model_dict[key_model], 'Linear Discriminant Analysis').items()}\n",
    "    qda_params = {int(k):v for k,v in get_hyperparameters(df_model_dict[key_model], 'Quadratic Discriminant Analysis').items()}\n",
    "    rf_params = {int(k):v for k,v in get_hyperparameters(df_model_dict[key_model], 'Random Forest').items()}\n",
    "    et_params = {int(k):v for k,v in get_hyperparameters(df_model_dict[key_model], 'Extra Trees').items()}\n",
    "    ab_params = {int(k):v for k,v in get_hyperparameters(df_model_dict[key_model], 'Adaptive Boosting').items()}\n",
    "    gb_params = {int(k):v for k,v in get_hyperparameters(df_model_dict[key_model], 'Gradient Boosting').items()}\n",
    "\n",
    "    # Estimators and hyperparameters for each algorithm per df_model_cluster\n",
    "\n",
    "    estimators = []\n",
    "    # populate list of estimators with all 55 top models\n",
    "    count = 0\n",
    "    for i in list(knn_params.keys()):\n",
    "                    temp_dict = ast.literal_eval(knn_params[i])\n",
    "                    estimators.append((f'knn_{count}', KNeighborsClassifier(algorithm=get_value(temp_dict, 'algorithm'), \n",
    "                                    metric=get_value(temp_dict, 'metric'), n_neighbors= get_value(temp_dict, 'n_neighbors'), \n",
    "                                    weights=get_value(temp_dict, 'weights'), n_jobs=-1)))\n",
    "                    count += 1\n",
    "    count = 0\n",
    "    for i in list(svm_params.keys()):\n",
    "                    temp_dict = ast.literal_eval(svm_params[i])\n",
    "                    estimators.append((f'svm_{count}', SVC(C=get_value(temp_dict, 'C'), kernel=get_value(temp_dict, 'kernel'),probability=True, random_state=42)))\n",
    "                    count += 1\n",
    "    count = 0\n",
    "    for i in list(gnb_params.keys()):\n",
    "                    temp_dict = ast.literal_eval(gnb_params[i])\n",
    "                    estimators.append((f'gnb_{count}', GaussianNB(var_smoothing=get_value(temp_dict, 'var_smoothing'))))\n",
    "                    count += 1\n",
    "    count = 0\n",
    "    for i in list(mlp_params.keys()):\n",
    "                    temp_dict = ast.literal_eval(mlp_params[i])\n",
    "                    estimators.append((f'mlp_{count}', MLPClassifier(activation=get_value(temp_dict, 'activation'), \n",
    "                                    alpha=get_value(temp_dict, 'alpha'),\n",
    "                                    max_iter=get_value(temp_dict, 'max_iter'), solver=get_value(temp_dict, 'solver'), \n",
    "                                    tol=get_value(temp_dict, 'tol'), random_state=42)))\n",
    "                    count += 1\n",
    "    count = 0\n",
    "    for i in list(lr_params.keys()):\n",
    "                    temp_dict = ast.literal_eval(lr_params[i])\n",
    "                    estimators.append((f'lr_{count}', LogisticRegression(C=get_value(temp_dict, 'C'), max_iter=get_value(temp_dict, 'max_iter'), penalty=get_value(temp_dict, 'penalty'), solver=get_value(temp_dict, 'solver'), random_state=42, n_jobs=-1)))\n",
    "                    count += 1\n",
    "    count = 0\n",
    "    for i in list(lda_params.keys()):\n",
    "                    temp_dict = ast.literal_eval(lda_params[i])\n",
    "                    estimators.append((f'lda_{count}', LinearDiscriminantAnalysis(shrinkage=get_value(temp_dict, 'shrinkage'), \n",
    "                                    solver=get_value(temp_dict, 'solver'))))\n",
    "                    count += 1\n",
    "    count = 0\n",
    "    for i in list(qda_params.keys()):\n",
    "                    temp_dict = ast.literal_eval(qda_params[i])\n",
    "                    estimators.append((f'qda_{count}', QuadraticDiscriminantAnalysis(reg_param=get_value(temp_dict, 'reg_param'), tol=get_value(temp_dict, 'tol'))))\n",
    "                    count += 1\n",
    "    count = 0\n",
    "    for i in list(rf_params.keys()):\n",
    "                    temp_dict = ast.literal_eval(rf_params[i])\n",
    "                    estimators.append((f'rf_{count}', RandomForestClassifier(criterion=get_value(temp_dict, 'criterion'), \n",
    "                                    n_estimators=get_value(temp_dict, 'n_estimators'), random_state=42, n_jobs=-1)))\n",
    "                    count += 1\n",
    "    count = 0\n",
    "    for i in list(et_params.keys()):\n",
    "                    temp_dict = ast.literal_eval(et_params[i])\n",
    "                    estimators.append((f'et_{count}', ExtraTreesClassifier(criterion=get_value(temp_dict, 'criterion'),\n",
    "                                    n_estimators=get_value(temp_dict, 'n_estimators'), random_state=42, n_jobs=-1)))\n",
    "                    count += 1\n",
    "    count = 0\n",
    "    for i in list(ab_params.keys()):\n",
    "                    temp_dict = ast.literal_eval(ab_params[i])\n",
    "                    estimators.append((f'ab_{count}', AdaBoostClassifier(algorithm=get_value(temp_dict, 'algorithm'), \n",
    "                                    learning_rate=get_value(temp_dict, 'learning_rate'), n_estimators=get_value(temp_dict, 'n_estimators'), random_state=42)))\n",
    "                    count += 1\n",
    "    count = 0\n",
    "    for i in list(gb_params.keys()):\n",
    "                    temp_dict = ast.literal_eval(gb_params[i])\n",
    "                    # update criterion as mae is deprecated\n",
    "                    if get_value(temp_dict, 'criterion') == 'mae':\n",
    "                        estimators.append((f'gb_{count}', GradientBoostingClassifier(criterion='squared_error', \n",
    "                                    learning_rate=get_value(temp_dict, 'learning_rate'), n_estimators=get_value(temp_dict, 'n_estimators'), random_state=42)))\n",
    "                    else:\n",
    "                        estimators.append((f'gb_{count}', GradientBoostingClassifier(criterion=get_value(temp_dict, 'criterion'), \n",
    "                                    learning_rate=get_value(temp_dict, 'learning_rate'), n_estimators=get_value(temp_dict, 'n_estimators'), random_state=42)))\n",
    "                    count += 1\n",
    "\n",
    "    \n",
    "    # Please note that for the average metric we did not include the logloss as using normalized version of logloss introduces bias to dataset\n",
    "\n",
    "    # create dataframe for df_model_meta with columns names from df_model\n",
    "    df_model_meta = pd.DataFrame(columns=df_model.columns)\n",
    "    # drop average probability and rank columns from df_model_meta\n",
    "    df_model_meta = df_model_meta.drop(['average_probability', 'rank'], axis=1)\n",
    "\n",
    "    # create dataframes for meta models probabilities and predicted values\n",
    "    df_pred_meta = pd.DataFrame()\n",
    "    df_prob_meta = pd.DataFrame()\n",
    "\n",
    "    for x in range(0, len(final_estimators)):\n",
    "            final_estimator = final_estimators[x][1]\n",
    "            clf = StackingClassifier(estimators=estimators, final_estimator=final_estimator, n_jobs=-1, cv=None)\n",
    "            clf.fit(x_train, y_train)\n",
    "            y_pred = clf.predict(x_test)\n",
    "            y_pred = pd.Series(y_pred)\n",
    "\n",
    "            # probabilities dataframe\n",
    "            y_pred_prob = clf.predict_proba(x_test)\n",
    "            y_pred_prob_df = pd.DataFrame(y_pred_prob, columns=['prob_0', 'prob_1'])\n",
    "            y_pred_prob_df['target'] = y_test\n",
    "            y_pred_prob_df['predicted'] = y_pred\n",
    "            # create new column, set value to prob_0 if target is 0 and prob_1 if target is 1\n",
    "            y_pred_prob_df['pred_prob'] = np.where(y_pred_prob_df['target'] == 0, y_pred_prob_df['prob_0'], y_pred_prob_df['prob_1'])\n",
    "            # remove prob_0 and prob_1 columns, target and predicted columns\n",
    "            y_pred_prob_df = y_pred_prob_df.drop(['prob_0', 'prob_1', 'target', 'predicted'], axis=1)\n",
    "            # transpose the data frame and convert values to %\n",
    "            y_pred_prob_df = y_pred_prob_df.T\n",
    "            y_pred_prob_df = y_pred_prob_df.apply(lambda x: x * 100).round(2)\n",
    "            # set index to x\n",
    "            y_pred_prob_df.index = [x]\n",
    "            # add row to df_prob_meta using pd.concat\n",
    "            df_prob_meta = pd.concat([df_prob_meta, y_pred_prob_df], axis=0)\n",
    "            \n",
    "            # prediction dataframe\n",
    "            # transpose the data frame\n",
    "            y_pred_df = pd.DataFrame(y_pred, columns=['Pred_class'])\n",
    "            y_pred_df = y_pred_df.T\n",
    "            # set index to x\n",
    "            y_pred_df.index = [x]\n",
    "            # add row to df_prob_meta using pd.concat\n",
    "            df_pred_meta = pd.concat([df_pred_meta, y_pred_df], axis=0)\n",
    "\n",
    "            # performance metrics dataframe\n",
    "            accuracy = round(accuracy_score(y_test, y_pred)*100, 2)\n",
    "            precision = round(precision_score(y_test, y_pred, average='weighted')*100, 2)\n",
    "            recall = round(recall_score(y_test, y_pred, average='weighted')*100, 2)\n",
    "            roc_auc = round(roc_auc_score(y_test, y_pred, average='weighted')*100, 2)\n",
    "            gmean = round(geometric_mean_score(y_test, y_pred, average='weighted')*100, 2)\n",
    "            mcc = round(matthews_corrcoef(y_test, y_pred)*100, 2)\n",
    "            f1_weighted = round(f1_score(y_test, y_pred, average='weighted')*100, 2)\n",
    "            log_loss = round(metrics.log_loss(y_test, y_pred, normalize=True)*100, 2)\n",
    "            average_metrics = (accuracy + precision + recall + roc_auc + gmean + mcc + f1_weighted) / 7\n",
    "            average_metrics = round(average_metrics, 2)\n",
    "            # add performance metrics to df_model_meta using pd.concat with index\n",
    "            df_model_meta = pd.concat([df_model_meta, pd.DataFrame([['meta', x+1, algos[x+1], accuracy, precision, recall, roc_auc, gmean, \\\n",
    "                            mcc, f1_weighted, log_loss, average_metrics, f'{final_estimator.get_params()}', 'meta']], \n",
    "                            columns=df_model_meta.columns, index=[x])], axis=0)\n",
    "    df_model_meta['matthews_corrcoef'] = df_model_meta['matthews_corrcoef'].abs()\n",
    "\n",
    "    # Adding average probability for each model\n",
    "\n",
    "    df_prob_meta_t = df_prob_meta.transpose()\n",
    "\n",
    "    # total number of predictions\n",
    "    n_total = df_prob_meta_t.shape[0]\n",
    "\n",
    "    # create new pandas series with total number of models\n",
    "    prob_meta = []\n",
    "\n",
    "    for i in range(11):\n",
    "        prob = []\n",
    "        # calculate the confidence interval for each algorithm\n",
    "        for n in range(n_total):\n",
    "                prob.append(df_prob_meta_t.iloc[n, i])\n",
    "        prob_average = np.mean(prob).round(2)\n",
    "        # add prob_average to prob_meta\n",
    "        prob_meta.append(prob_average)\n",
    "\n",
    "    # add prob_meta to df_model_meta as new column \"average_probability\"\n",
    "    df_model_meta['average_probability'] = pd.Series(prob_meta)\n",
    "\n",
    "    df_model_meta['rank'] = df_model_meta['overall_performance'] * df_model_meta['average_probability'] / 10000\n",
    "    # df_model_meta sort by overall performance and average probability in descending order\n",
    "    df_model_meta = df_model_meta.sort_values(by=['rank'], ascending=False)\n",
    "    # sort values in df_prob_meta by df_temp index\n",
    "    df_prob_meta = df_prob_meta.reindex(df_model_meta.index)\n",
    "    # sort values in df_pred_meta by df_temp index\n",
    "    df_pred_meta = df_pred_meta.reindex(df_model_meta.index)\n",
    "    # sort values in algo by df_temp index\n",
    "    algo_meta = [algo[i] for i in df_model_meta.index].copy()\n",
    "    # sort values in algo_names by df_temp index\n",
    "    algo_names_meta = [algo_names[i] for i in df_model_meta.index].copy()\n",
    "\n",
    "\n",
    "    # reset indexes for all dataframes\n",
    "    df_model_meta = df_model_meta.reset_index(drop=True)\n",
    "    df_prob_meta = df_prob_meta.reset_index(drop=True)\n",
    "    df_pred_meta = df_pred_meta.reset_index(drop=True)\n",
    "\n",
    "    for x in range(11):\n",
    "        df_model_meta.model_id[x] = f'meta_{x+1}'\n",
    "\n",
    "    df_model_dict_meta[f'{key_model}_meta'] = df_model_meta\n",
    "    df_prob_dict_meta[f'{key_prob}_meta'] = df_prob_meta\n",
    "    df_pred_dict_meta[f'{key_pred}_meta'] = df_pred_meta\n",
    "    algo_dict[f'{key_algo}'] = algo_meta\n",
    "    algo_names_dict[f'{key_name_algo}'] = algo_names_meta\n",
    "    "
   ]
  },
  {
   "cell_type": "code",
   "execution_count": 16,
   "metadata": {},
   "outputs": [
    {
     "name": "stdout",
     "output_type": "stream",
     "text": [
      "df_model_all has 55 models\n",
      "df_model_outliers has 20 models\n",
      "df_model_cluster_0 has 3 models\n",
      "df_model_cluster_1 has 10 models\n",
      "df_model_cluster_2 has 12 models\n",
      "df_model_cluster_3 has 10 models\n"
     ]
    }
   ],
   "source": [
    "for key in df_model_dict.keys():\n",
    "    # print number of models\n",
    "    print(f'{key} has {df_model_dict[key].shape[0]} models')\n",
    "    "
   ]
  },
  {
   "cell_type": "code",
   "execution_count": 17,
   "metadata": {},
   "outputs": [
    {
     "data": {
      "text/html": [
       "<div>\n",
       "<style scoped>\n",
       "    .dataframe tbody tr th:only-of-type {\n",
       "        vertical-align: middle;\n",
       "    }\n",
       "\n",
       "    .dataframe tbody tr th {\n",
       "        vertical-align: top;\n",
       "    }\n",
       "\n",
       "    .dataframe thead th {\n",
       "        text-align: right;\n",
       "    }\n",
       "</style>\n",
       "<table border=\"1\" class=\"dataframe\">\n",
       "  <thead>\n",
       "    <tr style=\"text-align: right;\">\n",
       "      <th></th>\n",
       "      <th>model_id</th>\n",
       "      <th>algorithm_id</th>\n",
       "      <th>algorithm_name</th>\n",
       "      <th>accuracy</th>\n",
       "      <th>precision</th>\n",
       "      <th>recall</th>\n",
       "      <th>roc_auc_score</th>\n",
       "      <th>geometric_mean_score</th>\n",
       "      <th>matthews_corrcoef</th>\n",
       "      <th>f1_weighted</th>\n",
       "      <th>log_loss</th>\n",
       "      <th>overall_performance</th>\n",
       "      <th>hyperparameters</th>\n",
       "      <th>labels</th>\n",
       "      <th>average_probability</th>\n",
       "      <th>rank</th>\n",
       "      <th>cluster</th>\n",
       "    </tr>\n",
       "  </thead>\n",
       "  <tbody>\n",
       "    <tr>\n",
       "      <th>0</th>\n",
       "      <td>meta_1</td>\n",
       "      <td>3</td>\n",
       "      <td>Gaussian Naive Bayes</td>\n",
       "      <td>86.89</td>\n",
       "      <td>86.89</td>\n",
       "      <td>86.89</td>\n",
       "      <td>86.80</td>\n",
       "      <td>86.80</td>\n",
       "      <td>73.59</td>\n",
       "      <td>86.89</td>\n",
       "      <td>452.97</td>\n",
       "      <td>84.96</td>\n",
       "      <td>{'priors': None, 'var_smoothing': 0.0}</td>\n",
       "      <td>meta</td>\n",
       "      <td>86.75</td>\n",
       "      <td>0.737028</td>\n",
       "      <td>all (55 models)</td>\n",
       "    </tr>\n",
       "    <tr>\n",
       "      <th>1</th>\n",
       "      <td>meta_1</td>\n",
       "      <td>3</td>\n",
       "      <td>Gaussian Naive Bayes</td>\n",
       "      <td>86.89</td>\n",
       "      <td>86.89</td>\n",
       "      <td>86.89</td>\n",
       "      <td>86.80</td>\n",
       "      <td>86.80</td>\n",
       "      <td>73.59</td>\n",
       "      <td>86.89</td>\n",
       "      <td>452.97</td>\n",
       "      <td>84.96</td>\n",
       "      <td>{'priors': None, 'var_smoothing': 0.0}</td>\n",
       "      <td>meta</td>\n",
       "      <td>85.00</td>\n",
       "      <td>0.722160</td>\n",
       "      <td>cluster_0 (3 models)</td>\n",
       "    </tr>\n",
       "    <tr>\n",
       "      <th>2</th>\n",
       "      <td>meta_1</td>\n",
       "      <td>3</td>\n",
       "      <td>Gaussian Naive Bayes</td>\n",
       "      <td>85.25</td>\n",
       "      <td>85.48</td>\n",
       "      <td>85.25</td>\n",
       "      <td>84.74</td>\n",
       "      <td>84.74</td>\n",
       "      <td>70.40</td>\n",
       "      <td>85.15</td>\n",
       "      <td>509.59</td>\n",
       "      <td>83.00</td>\n",
       "      <td>{'priors': None, 'var_smoothing': 0.0}</td>\n",
       "      <td>meta</td>\n",
       "      <td>85.08</td>\n",
       "      <td>0.706164</td>\n",
       "      <td>cluster_2 (12 models)</td>\n",
       "    </tr>\n",
       "    <tr>\n",
       "      <th>3</th>\n",
       "      <td>meta_1</td>\n",
       "      <td>3</td>\n",
       "      <td>Gaussian Naive Bayes</td>\n",
       "      <td>83.61</td>\n",
       "      <td>83.66</td>\n",
       "      <td>83.61</td>\n",
       "      <td>83.23</td>\n",
       "      <td>83.22</td>\n",
       "      <td>66.96</td>\n",
       "      <td>83.54</td>\n",
       "      <td>566.21</td>\n",
       "      <td>81.12</td>\n",
       "      <td>{'priors': None, 'var_smoothing': 0.0}</td>\n",
       "      <td>meta</td>\n",
       "      <td>84.31</td>\n",
       "      <td>0.683923</td>\n",
       "      <td>outliers (20 models)</td>\n",
       "    </tr>\n",
       "    <tr>\n",
       "      <th>4</th>\n",
       "      <td>meta_1</td>\n",
       "      <td>3</td>\n",
       "      <td>Gaussian Naive Bayes</td>\n",
       "      <td>81.97</td>\n",
       "      <td>82.14</td>\n",
       "      <td>81.97</td>\n",
       "      <td>81.44</td>\n",
       "      <td>81.44</td>\n",
       "      <td>63.71</td>\n",
       "      <td>81.85</td>\n",
       "      <td>622.84</td>\n",
       "      <td>79.22</td>\n",
       "      <td>{'priors': None, 'var_smoothing': 0.0}</td>\n",
       "      <td>meta</td>\n",
       "      <td>82.57</td>\n",
       "      <td>0.654120</td>\n",
       "      <td>cluster_3 (10 models)</td>\n",
       "    </tr>\n",
       "    <tr>\n",
       "      <th>5</th>\n",
       "      <td>meta_1</td>\n",
       "      <td>3</td>\n",
       "      <td>Gaussian Naive Bayes</td>\n",
       "      <td>81.97</td>\n",
       "      <td>81.95</td>\n",
       "      <td>81.97</td>\n",
       "      <td>81.71</td>\n",
       "      <td>81.71</td>\n",
       "      <td>63.63</td>\n",
       "      <td>81.94</td>\n",
       "      <td>622.84</td>\n",
       "      <td>79.27</td>\n",
       "      <td>{'priors': None, 'var_smoothing': 0.0}</td>\n",
       "      <td>meta</td>\n",
       "      <td>81.99</td>\n",
       "      <td>0.649935</td>\n",
       "      <td>cluster_1 (10 models)</td>\n",
       "    </tr>\n",
       "  </tbody>\n",
       "</table>\n",
       "</div>"
      ],
      "text/plain": [
       "  model_id algorithm_id        algorithm_name  accuracy  precision  recall  \\\n",
       "0   meta_1            3  Gaussian Naive Bayes     86.89      86.89   86.89   \n",
       "1   meta_1            3  Gaussian Naive Bayes     86.89      86.89   86.89   \n",
       "2   meta_1            3  Gaussian Naive Bayes     85.25      85.48   85.25   \n",
       "3   meta_1            3  Gaussian Naive Bayes     83.61      83.66   83.61   \n",
       "4   meta_1            3  Gaussian Naive Bayes     81.97      82.14   81.97   \n",
       "5   meta_1            3  Gaussian Naive Bayes     81.97      81.95   81.97   \n",
       "\n",
       "   roc_auc_score  geometric_mean_score  matthews_corrcoef  f1_weighted  \\\n",
       "0          86.80                 86.80              73.59        86.89   \n",
       "1          86.80                 86.80              73.59        86.89   \n",
       "2          84.74                 84.74              70.40        85.15   \n",
       "3          83.23                 83.22              66.96        83.54   \n",
       "4          81.44                 81.44              63.71        81.85   \n",
       "5          81.71                 81.71              63.63        81.94   \n",
       "\n",
       "   log_loss  overall_performance                         hyperparameters  \\\n",
       "0    452.97                84.96  {'priors': None, 'var_smoothing': 0.0}   \n",
       "1    452.97                84.96  {'priors': None, 'var_smoothing': 0.0}   \n",
       "2    509.59                83.00  {'priors': None, 'var_smoothing': 0.0}   \n",
       "3    566.21                81.12  {'priors': None, 'var_smoothing': 0.0}   \n",
       "4    622.84                79.22  {'priors': None, 'var_smoothing': 0.0}   \n",
       "5    622.84                79.27  {'priors': None, 'var_smoothing': 0.0}   \n",
       "\n",
       "  labels  average_probability      rank                cluster  \n",
       "0   meta                86.75  0.737028        all (55 models)  \n",
       "1   meta                85.00  0.722160   cluster_0 (3 models)  \n",
       "2   meta                85.08  0.706164  cluster_2 (12 models)  \n",
       "3   meta                84.31  0.683923   outliers (20 models)  \n",
       "4   meta                82.57  0.654120  cluster_3 (10 models)  \n",
       "5   meta                81.99  0.649935  cluster_1 (10 models)  "
      ]
     },
     "execution_count": 17,
     "metadata": {},
     "output_type": "execute_result"
    }
   ],
   "source": [
    "# create empty dataframe\n",
    "df_top_rows = pd.DataFrame(columns=df_model_dict_meta['df_model_all_meta'].columns)\n",
    "df_top_rows['cluster'] = None\n",
    "\n",
    "for key in df_model_dict_meta.keys():\n",
    "\n",
    "    string = key.replace('df_model_', '')\n",
    "    string = string.replace('_meta', '')\n",
    "\n",
    "    # return row from f_model_dict_meta[key] with highest rank\n",
    "    highest_rank = df_model_dict_meta[key].sort_values(by=['rank'], ascending=False)['rank'].iloc[0]\n",
    "    rank_df = df_model_dict_meta[key][df_model_dict_meta[key]['rank'] == highest_rank]\n",
    "\n",
    "    key_base = key.replace('_meta', '')\n",
    "\n",
    "    rank_df['cluster'] = f'{string} ({df_model_dict[key_base].shape[0]} models)'\n",
    "\n",
    "    df_top_rows = pd.concat([df_top_rows, rank_df], axis=0)\n",
    "\n",
    "# sort by rank\n",
    "df_top_rows = df_top_rows.sort_values(by=['rank'], ascending=False)\n",
    "# reset index\n",
    "df_top_rows = df_top_rows.reset_index(drop=True)\n",
    "# add 'models' if cluster is 'all'\n",
    "df_top_rows['cluster'] = df_top_rows['cluster'].apply(lambda x: x + '_models' if x == 'all' else x)\n",
    "\n",
    "df_top_rows"
   ]
  },
  {
   "cell_type": "code",
   "execution_count": 18,
   "metadata": {},
   "outputs": [
    {
     "data": {
      "application/vnd.plotly.v1+json": {
       "config": {
        "plotlyServerURL": "https://plot.ly"
       },
       "data": [
        {
         "insidetextanchor": "middle",
         "marker": {
          "color": "#c6dfcd",
          "line": {
           "color": "#c6dfcd",
           "width": 3
          }
         },
         "name": "Accuracy",
         "orientation": "h",
         "text": [
          0.8689,
          0.8689,
          0.8525,
          0.8361,
          0.8197,
          0.8197
         ],
         "textposition": "inside",
         "texttemplate": "%{text:.2%}",
         "type": "bar",
         "x": [
          86.89,
          86.89,
          85.25,
          83.61,
          81.97,
          81.97
         ],
         "y": [
          "all (55 models)",
          "cluster_0 (3 models)",
          "cluster_2 (12 models)",
          "outliers (20 models)",
          "cluster_3 (10 models)",
          "cluster_1 (10 models)"
         ]
        },
        {
         "insidetextanchor": "middle",
         "marker": {
          "color": "#f5f2d3",
          "line": {
           "color": "#f5f2d3",
           "width": 3
          }
         },
         "name": "Precision",
         "orientation": "h",
         "text": [
          0.8689,
          0.8689,
          0.8548,
          0.8366,
          0.8214,
          0.8195
         ],
         "textposition": "inside",
         "texttemplate": "%{text:.2%}",
         "type": "bar",
         "x": [
          86.89,
          86.89,
          85.48,
          83.66,
          82.14,
          81.95
         ],
         "y": [
          "all (55 models)",
          "cluster_0 (3 models)",
          "cluster_2 (12 models)",
          "outliers (20 models)",
          "cluster_3 (10 models)",
          "cluster_1 (10 models)"
         ]
        },
        {
         "insidetextanchor": "middle",
         "marker": {
          "color": "#e6d5c3",
          "line": {
           "color": "#e6d5c3",
           "width": 3
          }
         },
         "name": "Recall",
         "orientation": "h",
         "text": [
          0.8689,
          0.8689,
          0.8525,
          0.8361,
          0.8197,
          0.8197
         ],
         "textposition": "inside",
         "texttemplate": "%{text:.2%}",
         "type": "bar",
         "x": [
          86.89,
          86.89,
          85.25,
          83.61,
          81.97,
          81.97
         ],
         "y": [
          "all (55 models)",
          "cluster_0 (3 models)",
          "cluster_2 (12 models)",
          "outliers (20 models)",
          "cluster_3 (10 models)",
          "cluster_1 (10 models)"
         ]
        },
        {
         "insidetextanchor": "middle",
         "marker": {
          "color": "#c9a8a0",
          "line": {
           "color": "#c9a8a0",
           "width": 3
          }
         },
         "name": "ROC AUC",
         "orientation": "h",
         "text": [
          0.868,
          0.868,
          0.8474,
          0.8323,
          0.8144,
          0.8171
         ],
         "textposition": "inside",
         "texttemplate": "%{text:.2%}",
         "type": "bar",
         "x": [
          86.8,
          86.8,
          84.74,
          83.23,
          81.44,
          81.71
         ],
         "y": [
          "all (55 models)",
          "cluster_0 (3 models)",
          "cluster_2 (12 models)",
          "outliers (20 models)",
          "cluster_3 (10 models)",
          "cluster_1 (10 models)"
         ]
        },
        {
         "insidetextanchor": "middle",
         "marker": {
          "color": "#737d89",
          "line": {
           "color": "#737d89",
           "width": 3
          }
         },
         "name": "Geometric Mean",
         "orientation": "h",
         "text": [
          0.868,
          0.868,
          0.8474,
          0.8322,
          0.8144,
          0.8171
         ],
         "textposition": "inside",
         "texttemplate": "%{text:.2%}",
         "type": "bar",
         "x": [
          86.8,
          86.8,
          84.74,
          83.22,
          81.44,
          81.71
         ],
         "y": [
          "all (55 models)",
          "cluster_0 (3 models)",
          "cluster_2 (12 models)",
          "outliers (20 models)",
          "cluster_3 (10 models)",
          "cluster_1 (10 models)"
         ]
        },
        {
         "insidetextanchor": "middle",
         "marker": {
          "color": "#869f9f",
          "line": {
           "color": "#869f9f",
           "width": 3
          }
         },
         "name": "Matthews CorrCoeff",
         "orientation": "h",
         "text": [
          0.7359,
          0.7359,
          0.704,
          0.6696,
          0.6371,
          0.6363
         ],
         "textposition": "inside",
         "texttemplate": "%{text:.2%}",
         "type": "bar",
         "x": [
          73.59,
          73.59,
          70.4,
          66.96,
          63.71,
          63.63
         ],
         "y": [
          "all (55 models)",
          "cluster_0 (3 models)",
          "cluster_2 (12 models)",
          "outliers (20 models)",
          "cluster_3 (10 models)",
          "cluster_1 (10 models)"
         ]
        },
        {
         "insidetextanchor": "middle",
         "marker": {
          "color": "#a3a0b8",
          "line": {
           "color": "#a3a0b8",
           "width": 3
          }
         },
         "name": "F1 Score",
         "orientation": "h",
         "text": [
          0.8689,
          0.8689,
          0.8515,
          0.8354,
          0.8185,
          0.8194
         ],
         "textposition": "inside",
         "texttemplate": "%{text:.2%}",
         "type": "bar",
         "x": [
          86.89,
          86.89,
          85.15,
          83.54,
          81.85,
          81.94
         ],
         "y": [
          "all (55 models)",
          "cluster_0 (3 models)",
          "cluster_2 (12 models)",
          "outliers (20 models)",
          "cluster_3 (10 models)",
          "cluster_1 (10 models)"
         ]
        },
        {
         "insidetextanchor": "middle",
         "marker": {
          "color": "#a7bed3",
          "line": {
           "color": "#a7bed3",
           "width": 3
          }
         },
         "name": "Confidence",
         "orientation": "h",
         "text": [
          0.8675,
          0.85,
          0.8508,
          0.8431,
          0.8257,
          0.8199
         ],
         "textposition": "inside",
         "texttemplate": "%{text:.2%}",
         "type": "bar",
         "x": [
          607.25,
          595,
          595.56,
          590.1700000000001,
          577.99,
          573.93
         ],
         "y": [
          "all (55 models)",
          "cluster_0 (3 models)",
          "cluster_2 (12 models)",
          "outliers (20 models)",
          "cluster_3 (10 models)",
          "cluster_1 (10 models)"
         ]
        }
       ],
       "layout": {
        "annotations": [
         {
          "font": {
           "size": 14
          },
          "showarrow": false,
          "text": "Best Performing Metamodel",
          "x": 1202,
          "xref": "x",
          "y": 6,
          "yref": "y"
         },
         {
          "font": {
           "size": 12
          },
          "showarrow": false,
          "text": "Gaussian Naive Bayes",
          "x": 1202,
          "xref": "x",
          "y": "all (55 models)",
          "yref": "y"
         },
         {
          "font": {
           "size": 12
          },
          "showarrow": false,
          "text": "Gaussian Naive Bayes",
          "x": 1202,
          "xref": "x",
          "y": "cluster_0 (3 models)",
          "yref": "y"
         },
         {
          "font": {
           "size": 12
          },
          "showarrow": false,
          "text": "Gaussian Naive Bayes",
          "x": 1202,
          "xref": "x",
          "y": "cluster_2 (12 models)",
          "yref": "y"
         },
         {
          "font": {
           "size": 12
          },
          "showarrow": false,
          "text": "Gaussian Naive Bayes",
          "x": 1202,
          "xref": "x",
          "y": "outliers (20 models)",
          "yref": "y"
         },
         {
          "font": {
           "size": 12
          },
          "showarrow": false,
          "text": "Gaussian Naive Bayes",
          "x": 1202,
          "xref": "x",
          "y": "cluster_3 (10 models)",
          "yref": "y"
         },
         {
          "font": {
           "size": 12
          },
          "showarrow": false,
          "text": "Gaussian Naive Bayes",
          "x": 1202,
          "xref": "x",
          "y": "cluster_1 (10 models)",
          "yref": "y"
         }
        ],
        "barmode": "stack",
        "height": 250,
        "legend": {
         "title": {
          "text": "Metrics"
         }
        },
        "margin": {
         "b": 0,
         "l": 0,
         "r": 0,
         "t": 0
        },
        "paper_bgcolor": "rgba(0,0,0,0)",
        "plot_bgcolor": "rgba(0,0,0,0)",
        "showlegend": true,
        "template": {
         "data": {
          "bar": [
           {
            "error_x": {
             "color": "#2a3f5f"
            },
            "error_y": {
             "color": "#2a3f5f"
            },
            "marker": {
             "line": {
              "color": "#E5ECF6",
              "width": 0.5
             },
             "pattern": {
              "fillmode": "overlay",
              "size": 10,
              "solidity": 0.2
             }
            },
            "type": "bar"
           }
          ],
          "barpolar": [
           {
            "marker": {
             "line": {
              "color": "#E5ECF6",
              "width": 0.5
             },
             "pattern": {
              "fillmode": "overlay",
              "size": 10,
              "solidity": 0.2
             }
            },
            "type": "barpolar"
           }
          ],
          "carpet": [
           {
            "aaxis": {
             "endlinecolor": "#2a3f5f",
             "gridcolor": "white",
             "linecolor": "white",
             "minorgridcolor": "white",
             "startlinecolor": "#2a3f5f"
            },
            "baxis": {
             "endlinecolor": "#2a3f5f",
             "gridcolor": "white",
             "linecolor": "white",
             "minorgridcolor": "white",
             "startlinecolor": "#2a3f5f"
            },
            "type": "carpet"
           }
          ],
          "choropleth": [
           {
            "colorbar": {
             "outlinewidth": 0,
             "ticks": ""
            },
            "type": "choropleth"
           }
          ],
          "contour": [
           {
            "colorbar": {
             "outlinewidth": 0,
             "ticks": ""
            },
            "colorscale": [
             [
              0,
              "#0d0887"
             ],
             [
              0.1111111111111111,
              "#46039f"
             ],
             [
              0.2222222222222222,
              "#7201a8"
             ],
             [
              0.3333333333333333,
              "#9c179e"
             ],
             [
              0.4444444444444444,
              "#bd3786"
             ],
             [
              0.5555555555555556,
              "#d8576b"
             ],
             [
              0.6666666666666666,
              "#ed7953"
             ],
             [
              0.7777777777777778,
              "#fb9f3a"
             ],
             [
              0.8888888888888888,
              "#fdca26"
             ],
             [
              1,
              "#f0f921"
             ]
            ],
            "type": "contour"
           }
          ],
          "contourcarpet": [
           {
            "colorbar": {
             "outlinewidth": 0,
             "ticks": ""
            },
            "type": "contourcarpet"
           }
          ],
          "heatmap": [
           {
            "colorbar": {
             "outlinewidth": 0,
             "ticks": ""
            },
            "colorscale": [
             [
              0,
              "#0d0887"
             ],
             [
              0.1111111111111111,
              "#46039f"
             ],
             [
              0.2222222222222222,
              "#7201a8"
             ],
             [
              0.3333333333333333,
              "#9c179e"
             ],
             [
              0.4444444444444444,
              "#bd3786"
             ],
             [
              0.5555555555555556,
              "#d8576b"
             ],
             [
              0.6666666666666666,
              "#ed7953"
             ],
             [
              0.7777777777777778,
              "#fb9f3a"
             ],
             [
              0.8888888888888888,
              "#fdca26"
             ],
             [
              1,
              "#f0f921"
             ]
            ],
            "type": "heatmap"
           }
          ],
          "heatmapgl": [
           {
            "colorbar": {
             "outlinewidth": 0,
             "ticks": ""
            },
            "colorscale": [
             [
              0,
              "#0d0887"
             ],
             [
              0.1111111111111111,
              "#46039f"
             ],
             [
              0.2222222222222222,
              "#7201a8"
             ],
             [
              0.3333333333333333,
              "#9c179e"
             ],
             [
              0.4444444444444444,
              "#bd3786"
             ],
             [
              0.5555555555555556,
              "#d8576b"
             ],
             [
              0.6666666666666666,
              "#ed7953"
             ],
             [
              0.7777777777777778,
              "#fb9f3a"
             ],
             [
              0.8888888888888888,
              "#fdca26"
             ],
             [
              1,
              "#f0f921"
             ]
            ],
            "type": "heatmapgl"
           }
          ],
          "histogram": [
           {
            "marker": {
             "pattern": {
              "fillmode": "overlay",
              "size": 10,
              "solidity": 0.2
             }
            },
            "type": "histogram"
           }
          ],
          "histogram2d": [
           {
            "colorbar": {
             "outlinewidth": 0,
             "ticks": ""
            },
            "colorscale": [
             [
              0,
              "#0d0887"
             ],
             [
              0.1111111111111111,
              "#46039f"
             ],
             [
              0.2222222222222222,
              "#7201a8"
             ],
             [
              0.3333333333333333,
              "#9c179e"
             ],
             [
              0.4444444444444444,
              "#bd3786"
             ],
             [
              0.5555555555555556,
              "#d8576b"
             ],
             [
              0.6666666666666666,
              "#ed7953"
             ],
             [
              0.7777777777777778,
              "#fb9f3a"
             ],
             [
              0.8888888888888888,
              "#fdca26"
             ],
             [
              1,
              "#f0f921"
             ]
            ],
            "type": "histogram2d"
           }
          ],
          "histogram2dcontour": [
           {
            "colorbar": {
             "outlinewidth": 0,
             "ticks": ""
            },
            "colorscale": [
             [
              0,
              "#0d0887"
             ],
             [
              0.1111111111111111,
              "#46039f"
             ],
             [
              0.2222222222222222,
              "#7201a8"
             ],
             [
              0.3333333333333333,
              "#9c179e"
             ],
             [
              0.4444444444444444,
              "#bd3786"
             ],
             [
              0.5555555555555556,
              "#d8576b"
             ],
             [
              0.6666666666666666,
              "#ed7953"
             ],
             [
              0.7777777777777778,
              "#fb9f3a"
             ],
             [
              0.8888888888888888,
              "#fdca26"
             ],
             [
              1,
              "#f0f921"
             ]
            ],
            "type": "histogram2dcontour"
           }
          ],
          "mesh3d": [
           {
            "colorbar": {
             "outlinewidth": 0,
             "ticks": ""
            },
            "type": "mesh3d"
           }
          ],
          "parcoords": [
           {
            "line": {
             "colorbar": {
              "outlinewidth": 0,
              "ticks": ""
             }
            },
            "type": "parcoords"
           }
          ],
          "pie": [
           {
            "automargin": true,
            "type": "pie"
           }
          ],
          "scatter": [
           {
            "fillpattern": {
             "fillmode": "overlay",
             "size": 10,
             "solidity": 0.2
            },
            "type": "scatter"
           }
          ],
          "scatter3d": [
           {
            "line": {
             "colorbar": {
              "outlinewidth": 0,
              "ticks": ""
             }
            },
            "marker": {
             "colorbar": {
              "outlinewidth": 0,
              "ticks": ""
             }
            },
            "type": "scatter3d"
           }
          ],
          "scattercarpet": [
           {
            "marker": {
             "colorbar": {
              "outlinewidth": 0,
              "ticks": ""
             }
            },
            "type": "scattercarpet"
           }
          ],
          "scattergeo": [
           {
            "marker": {
             "colorbar": {
              "outlinewidth": 0,
              "ticks": ""
             }
            },
            "type": "scattergeo"
           }
          ],
          "scattergl": [
           {
            "marker": {
             "colorbar": {
              "outlinewidth": 0,
              "ticks": ""
             }
            },
            "type": "scattergl"
           }
          ],
          "scattermapbox": [
           {
            "marker": {
             "colorbar": {
              "outlinewidth": 0,
              "ticks": ""
             }
            },
            "type": "scattermapbox"
           }
          ],
          "scatterpolar": [
           {
            "marker": {
             "colorbar": {
              "outlinewidth": 0,
              "ticks": ""
             }
            },
            "type": "scatterpolar"
           }
          ],
          "scatterpolargl": [
           {
            "marker": {
             "colorbar": {
              "outlinewidth": 0,
              "ticks": ""
             }
            },
            "type": "scatterpolargl"
           }
          ],
          "scatterternary": [
           {
            "marker": {
             "colorbar": {
              "outlinewidth": 0,
              "ticks": ""
             }
            },
            "type": "scatterternary"
           }
          ],
          "surface": [
           {
            "colorbar": {
             "outlinewidth": 0,
             "ticks": ""
            },
            "colorscale": [
             [
              0,
              "#0d0887"
             ],
             [
              0.1111111111111111,
              "#46039f"
             ],
             [
              0.2222222222222222,
              "#7201a8"
             ],
             [
              0.3333333333333333,
              "#9c179e"
             ],
             [
              0.4444444444444444,
              "#bd3786"
             ],
             [
              0.5555555555555556,
              "#d8576b"
             ],
             [
              0.6666666666666666,
              "#ed7953"
             ],
             [
              0.7777777777777778,
              "#fb9f3a"
             ],
             [
              0.8888888888888888,
              "#fdca26"
             ],
             [
              1,
              "#f0f921"
             ]
            ],
            "type": "surface"
           }
          ],
          "table": [
           {
            "cells": {
             "fill": {
              "color": "#EBF0F8"
             },
             "line": {
              "color": "white"
             }
            },
            "header": {
             "fill": {
              "color": "#C8D4E3"
             },
             "line": {
              "color": "white"
             }
            },
            "type": "table"
           }
          ]
         },
         "layout": {
          "annotationdefaults": {
           "arrowcolor": "#2a3f5f",
           "arrowhead": 0,
           "arrowwidth": 1
          },
          "autotypenumbers": "strict",
          "coloraxis": {
           "colorbar": {
            "outlinewidth": 0,
            "ticks": ""
           }
          },
          "colorscale": {
           "diverging": [
            [
             0,
             "#8e0152"
            ],
            [
             0.1,
             "#c51b7d"
            ],
            [
             0.2,
             "#de77ae"
            ],
            [
             0.3,
             "#f1b6da"
            ],
            [
             0.4,
             "#fde0ef"
            ],
            [
             0.5,
             "#f7f7f7"
            ],
            [
             0.6,
             "#e6f5d0"
            ],
            [
             0.7,
             "#b8e186"
            ],
            [
             0.8,
             "#7fbc41"
            ],
            [
             0.9,
             "#4d9221"
            ],
            [
             1,
             "#276419"
            ]
           ],
           "sequential": [
            [
             0,
             "#0d0887"
            ],
            [
             0.1111111111111111,
             "#46039f"
            ],
            [
             0.2222222222222222,
             "#7201a8"
            ],
            [
             0.3333333333333333,
             "#9c179e"
            ],
            [
             0.4444444444444444,
             "#bd3786"
            ],
            [
             0.5555555555555556,
             "#d8576b"
            ],
            [
             0.6666666666666666,
             "#ed7953"
            ],
            [
             0.7777777777777778,
             "#fb9f3a"
            ],
            [
             0.8888888888888888,
             "#fdca26"
            ],
            [
             1,
             "#f0f921"
            ]
           ],
           "sequentialminus": [
            [
             0,
             "#0d0887"
            ],
            [
             0.1111111111111111,
             "#46039f"
            ],
            [
             0.2222222222222222,
             "#7201a8"
            ],
            [
             0.3333333333333333,
             "#9c179e"
            ],
            [
             0.4444444444444444,
             "#bd3786"
            ],
            [
             0.5555555555555556,
             "#d8576b"
            ],
            [
             0.6666666666666666,
             "#ed7953"
            ],
            [
             0.7777777777777778,
             "#fb9f3a"
            ],
            [
             0.8888888888888888,
             "#fdca26"
            ],
            [
             1,
             "#f0f921"
            ]
           ]
          },
          "colorway": [
           "#636efa",
           "#EF553B",
           "#00cc96",
           "#ab63fa",
           "#FFA15A",
           "#19d3f3",
           "#FF6692",
           "#B6E880",
           "#FF97FF",
           "#FECB52"
          ],
          "font": {
           "color": "#2a3f5f"
          },
          "geo": {
           "bgcolor": "white",
           "lakecolor": "white",
           "landcolor": "#E5ECF6",
           "showlakes": true,
           "showland": true,
           "subunitcolor": "white"
          },
          "hoverlabel": {
           "align": "left"
          },
          "hovermode": "closest",
          "mapbox": {
           "style": "light"
          },
          "paper_bgcolor": "white",
          "plot_bgcolor": "#E5ECF6",
          "polar": {
           "angularaxis": {
            "gridcolor": "white",
            "linecolor": "white",
            "ticks": ""
           },
           "bgcolor": "#E5ECF6",
           "radialaxis": {
            "gridcolor": "white",
            "linecolor": "white",
            "ticks": ""
           }
          },
          "scene": {
           "xaxis": {
            "backgroundcolor": "#E5ECF6",
            "gridcolor": "white",
            "gridwidth": 2,
            "linecolor": "white",
            "showbackground": true,
            "ticks": "",
            "zerolinecolor": "white"
           },
           "yaxis": {
            "backgroundcolor": "#E5ECF6",
            "gridcolor": "white",
            "gridwidth": 2,
            "linecolor": "white",
            "showbackground": true,
            "ticks": "",
            "zerolinecolor": "white"
           },
           "zaxis": {
            "backgroundcolor": "#E5ECF6",
            "gridcolor": "white",
            "gridwidth": 2,
            "linecolor": "white",
            "showbackground": true,
            "ticks": "",
            "zerolinecolor": "white"
           }
          },
          "shapedefaults": {
           "line": {
            "color": "#2a3f5f"
           }
          },
          "ternary": {
           "aaxis": {
            "gridcolor": "white",
            "linecolor": "white",
            "ticks": ""
           },
           "baxis": {
            "gridcolor": "white",
            "linecolor": "white",
            "ticks": ""
           },
           "bgcolor": "#E5ECF6",
           "caxis": {
            "gridcolor": "white",
            "linecolor": "white",
            "ticks": ""
           }
          },
          "title": {
           "x": 0.05
          },
          "xaxis": {
           "automargin": true,
           "gridcolor": "white",
           "linecolor": "white",
           "ticks": "",
           "title": {
            "standoff": 15
           },
           "zerolinecolor": "white",
           "zerolinewidth": 2
          },
          "yaxis": {
           "automargin": true,
           "gridcolor": "white",
           "linecolor": "white",
           "ticks": "",
           "title": {
            "standoff": 15
           },
           "zerolinecolor": "white",
           "zerolinewidth": 2
          }
         }
        },
        "title": {
         "text": "Model Performance",
         "x": 0.5
        },
        "width": 1200,
        "xaxis": {
         "tickfont": {
          "size": 12
         },
         "title": {
          "font": {
           "size": 14
          },
          "text": "Overall Performance"
         }
        },
        "yaxis": {
         "categoryorder": "total ascending",
         "tickfont": {
          "size": 12
         },
         "title": {
          "font": {
           "size": 14
          },
          "text": "Cluster"
         }
        }
       }
      }
     },
     "metadata": {},
     "output_type": "display_data"
    }
   ],
   "source": [
    "fig = go.Figure()\n",
    "\n",
    "# https://plotly.com/python/horizontal-bar-charts/\n",
    "\n",
    "metrics = ['accuracy', 'precision', 'recall', 'roc_auc_score', 'geometric_mean_score', 'matthews_corrcoef', 'f1_weighted', 'average_probability']\n",
    "metrics_legend = ['Accuracy', 'Precision', 'Recall', 'ROC AUC', 'Geometric Mean', 'Matthews CorrCoeff', 'F1 Score', 'Confidence']\n",
    "colors = ['#c6dfcd', '#f5f2d3', '#e6d5c3', '#c9a8a0', '#737d89', '#869f9f', '#a3a0b8', '#a7bed3']\n",
    "\n",
    "# add cluster all row\n",
    "for i in range (8):\n",
    "    value = df_top_rows[f'{metrics[i]}']\n",
    "    if metrics[i] != 'average_probability':\n",
    "        fig.add_trace(go.Bar(y=df_top_rows.cluster, x=value, name=metrics_legend[i], orientation='h', \n",
    "                            text= np.round(value/100, 4), marker=dict(color=colors[i], line=dict(color=colors[i], width=3))))\n",
    "    else:\n",
    "        fig.add_trace(go.Bar(y=df_top_rows.cluster, x=value*7, name=metrics_legend[i], orientation='h', \n",
    "                            text= np.round(value/100, 4), marker=dict(color=colors[i], line=dict(color=colors[i], width=3)))) \n",
    "\n",
    "\n",
    "# update x values size\n",
    "fig.update_layout(yaxis_tickfont_size=12, xaxis_tickfont_size=12, title_text='Model Performance', title_x=0.5)\n",
    "\n",
    "fig.update_layout(barmode='stack', paper_bgcolor='rgba(0,0,0,0)', plot_bgcolor='rgba(0,0,0,0)',\n",
    "    margin=dict(l=0, r=0, t=0, b=0), showlegend=True, yaxis=dict(categoryorder = 'total ascending'))\n",
    "\n",
    "\n",
    "# add title for x axes and y axes\n",
    "fig.update_xaxes(title_text='Overall Performance', title_font=dict(size=14))\n",
    "fig.update_yaxes(title_text='Cluster', title_font=dict(size=14))\n",
    "\n",
    "# update legend names\n",
    "fig.update_layout(legend_title_text='Metrics')\n",
    "fig.update_traces(textposition='inside')\n",
    "fig.update_traces(insidetextanchor='middle')\n",
    "# add % to text\n",
    "fig.update_traces(texttemplate='%{text:.2%}')\n",
    "\n",
    "# get total length of bars\n",
    "total_length = 0\n",
    "for i in fig.data:\n",
    "    total_length += i.x[0]\n",
    "\n",
    "fig.add_annotation(xref='x', yref='y', x=total_length, y=df_top_rows.shape[0], text='Best Performing Metamodel', font = dict(size = 14), showarrow=False)\n",
    "\n",
    "for i in range (df_top_rows.shape[0]):\n",
    "    fig.add_annotation(xref='x', yref='y', x=total_length, y=df_top_rows.cluster[i], text=df_top_rows.algorithm_name[i], font = dict(size = 12), showarrow=False)\n",
    "\n",
    "\n",
    "# update figure size\n",
    "\n",
    "\n",
    "\n",
    "fig.update_layout(width=1200, height=250)\n",
    "\n",
    "fig.show()"
   ]
  },
  {
   "cell_type": "markdown",
   "metadata": {},
   "source": [
    "UMAP function"
   ]
  },
  {
   "cell_type": "code",
   "execution_count": 19,
   "metadata": {},
   "outputs": [],
   "source": [
    "def umap_model(df, parameter_umap_n_neighbors = 5, parameter_umap_min_dist =  0.5, parameter_umap_metric = 'euclidean'):\n",
    "        umap_model = umap.UMAP(n_neighbors=parameter_umap_n_neighbors, metric=parameter_umap_metric, min_dist=parameter_umap_min_dist)\n",
    "        #fit transform and convert to dataframe\n",
    "        df_umap = pd.DataFrame(umap_model.fit_transform(df), columns=['UMAP_1', 'UMAP_2'])\n",
    "        # add index to df_umap\n",
    "        df_umap.index = df.index\n",
    "        return df_umap\n",
    "\n",
    "def create_layout_button(n, neighb = 8):\n",
    "        list = [False] * (neighb*11 + 1)\n",
    "        list[-1] = True\n",
    "        if n == 0:\n",
    "                list[n] = True\n",
    "                for i in range(1, 11):\n",
    "                        list[i] = True\n",
    "        else:\n",
    "                list[11*n] = True\n",
    "                for i in range(11*n, 11*n + 11):\n",
    "                        list[i] = True\n",
    "        return dict(label = f'number of neighbours {n+3}',\n",
    "                        method = 'restyle',\n",
    "                        args = [{'visible': list}])"
   ]
  },
  {
   "cell_type": "markdown",
   "metadata": {},
   "source": [
    "Function to calculate the model comparison for 2 metamodels and plot it"
   ]
  },
  {
   "cell_type": "code",
   "execution_count": 20,
   "metadata": {},
   "outputs": [],
   "source": [
    "'''\n",
    "Function compares 2 metamodels abd plots the overall coverage, using following predefined colors:\n",
    "White box: both models predict the correct class\n",
    "Red box: 1st model predicts the correct class, 2nd model predicts the wrong class and combination predicts correct class\n",
    "Light red box: 1st model predicts the correct class, 2nd model predicts the wrong class and combination predicts wrong class\n",
    "Blue box: 1st model predicts the wrong class, while the 2nd model predicts the correct class and combination predicts correct class\n",
    "Light blue box: 1st model predicts the wrong class, while the 2nd model predicts the correct class and combination predicts correct class\n",
    "Black box: both models predict the wrong class\n",
    "'''\n",
    "def coverage(df, meta_1, meta_2):\n",
    "\n",
    "    # save meta_1, meta_2 and target in a new dataframe\n",
    "    df_temp = df[[f'{meta_1}', f'{meta_2}']].copy()\n",
    "    # rename columns to meta_1 and meta_2\n",
    "    df_temp.columns.values[0:2] = [f'meta_{i}' for i in range(1, 3)]\n",
    "    df_temp['mean'] = np.round((df_temp.meta_1 + df_temp.meta_2) / 2, 2)\n",
    "\n",
    "    # get square root of count length and round to integer. That is to define the number of rows and columns in the plot\n",
    "    n = int(np.ceil(np.sqrt(df_temp.shape[0])))\n",
    "\n",
    "    df_n = pd.DataFrame(np.zeros((n**2 - df_temp.shape[0], 3)))\n",
    "    # replace all values with nan\n",
    "    df_n.iloc[:, :] = np.nan\n",
    "\n",
    "    df_n.columns = ['meta_1', 'meta_2', 'mean']\n",
    "\n",
    "    # concatinate df_temp and df_n\n",
    "    df_temp = pd.concat([df_temp, df_n], axis=0)\n",
    "    # reset index\n",
    "    df_temp = df_temp.reset_index(drop=True)\n",
    "\n",
    "    # concate values form meta_1, meta_2 and mean as a list in a new column\n",
    "    df_temp['combination'] = df_temp[['meta_1', 'meta_2', 'mean']].values.tolist()\n",
    "\n",
    "    # create new dataframe with  with 8 rows and 8 columns\n",
    "    df_count = pd.DataFrame(df_temp.combination.values.reshape(n, n))\n",
    "\n",
    "    fig = go.Figure()\n",
    "    fig = make_subplots(rows=n, cols=n, vertical_spacing=0.02, horizontal_spacing=0.02, shared_xaxes='all', shared_yaxes='all')\n",
    "\n",
    "    # define subplot size\n",
    "    fig.update_layout(autosize=False, margin={'l': 0, 'r': 0, 't': 0, 'b': 50}, width=500, height=500)\n",
    "\n",
    "    # Set axes ranges\n",
    "    fig.update_xaxes(range=[0, 1])\n",
    "    fig.update_yaxes(range=[0, 1])\n",
    "\n",
    "    for i in range(n):\n",
    "        for j in range(n):\n",
    "            fig.add_shape(type='circle', x0=0, y0=0, x1=1, y1=1, line=dict(width=2), row=i+1, col=j+1)\n",
    "            fig.update_shapes(\n",
    "                fillcolor='#ffffff' if (df_count.iloc[i, j][0] >= 50 and df_count.iloc[i, j][1] >= 50) # white\n",
    "                else '#df9797' if (df_count.iloc[i, j][0] >= 50 and df_count.iloc[i, j][1] < 50 and  df_count.iloc[i, j][2] >= 50) # light red\n",
    "                else '#cd5c5c' if (df_count.iloc[i, j][0] >= 50 and df_count.iloc[i, j][1] < 50 and  df_count.iloc[i, j][2] < 50) # dark red\n",
    "                else '#91bad6' if (df_count.iloc[i, j][0] < 50 and df_count.iloc[i, j][1] >= 50 and  df_count.iloc[i, j][2] >= 50) # light blue\n",
    "                else '#2e5984' if (df_count.iloc[i, j][0] < 50 and df_count.iloc[i, j][1] >= 50 and  df_count.iloc[i, j][2] < 50) # dark blue\n",
    "                else '#ffd700' if (df_count.iloc[i, j][0] < 50 and df_count.iloc[i, j][1] < 50) # yellow\n",
    "                else '#ffffff', row=i+1, col=j+1) # white\n",
    "            fig.update_shapes(\n",
    "                line=dict(color='#675c57' if (df_count.iloc[i, j][0] >= 50 and df_count.iloc[i, j][1] >= 50)\n",
    "                else '#df9797' if (df_count.iloc[i, j][0] >= 50 and df_count.iloc[i, j][1] < 50 and  df_count.iloc[i, j][2] >= 50)\n",
    "                else '#cd5c5c' if (df_count.iloc[i, j][0] >= 50 and df_count.iloc[i, j][1] < 50 and  df_count.iloc[i, j][2] < 50)\n",
    "                else '#91bad6' if (df_count.iloc[i, j][0] < 50 and df_count.iloc[i, j][1] >= 50 and  df_count.iloc[i, j][2] >= 50) \n",
    "                else '#2e5984' if (df_count.iloc[i, j][0] < 50 and df_count.iloc[i, j][1] >= 50 and  df_count.iloc[i, j][2] < 50)\n",
    "                else '#ffd700' if (df_count.iloc[i, j][0] < 50 and df_count.iloc[i, j][1] < 50) \n",
    "                else '#ffffff'), row=i+1, col=j+1)\n",
    "\n",
    "    # remove background color\n",
    "    fig.update_layout(plot_bgcolor='white')\n",
    "\n",
    "    # remove legend and x axes labels\n",
    "    fig.update_layout(showlegend=False)\n",
    "    fig.update_xaxes(showticklabels=False)\n",
    "    fig.update_yaxes(showticklabels=False)\n",
    "        \n",
    "    return fig"
   ]
  },
  {
   "cell_type": "code",
   "execution_count": 21,
   "metadata": {},
   "outputs": [],
   "source": [
    "min_performance_all = []\n",
    "max_performance_all = []\n",
    "\n",
    "for key_model in df_model_dict:\n",
    "    # retrun min axn max overall perfromance\n",
    "    min = df_model_dict[key_model]['overall_performance'].min()\n",
    "    max = df_model_dict[key_model]['overall_performance'].max()\n",
    "    # add to list\n",
    "    min_performance_all.append(min)\n",
    "    max_performance_all.append(max)\n",
    "# convert to numpy array\n",
    "min_performance_all = np.array(min_performance_all)\n",
    "max_performance_all = np.array(max_performance_all)\n",
    "# return min value from min performance list and max value from max performance list\n",
    "min_performance = min_performance_all.min()\n",
    "# round down min value to closest ten\n",
    "min_performance= math.floor(min_performance/10)*10\n",
    "max_performance = max_performance_all.max()\n",
    "# round up max value to closest ten\n",
    "max_performance= math.ceil(max_performance/10)*10"
   ]
  },
  {
   "cell_type": "code",
   "execution_count": 89,
   "metadata": {},
   "outputs": [],
   "source": [
    "\n",
    "def plottingUMAP(df_model, df_model_meta, df_prob, df_prob_meta):\n",
    "    # concatinate df_model and df_model_meta\n",
    "    df_model_all = pd.concat([df_model, df_model_meta], axis=0)\n",
    "    df_model_all = df_model_all.astype({'model_id': 'str', 'algorithm_id': 'int64', 'accuracy': 'float64', 'precision': 'float64', \n",
    "                                'recall': 'float64', 'roc_auc_score': 'float64', 'geometric_mean_score': 'float64', \n",
    "                                'matthews_corrcoef': 'float64', 'f1_weighted': 'float64', 'log_loss': 'float64', \n",
    "                                'overall_performance': 'float64', 'average_probability': 'float64'})\n",
    "    # scale avarage probability in scale 0 to 1\n",
    "    df_model_all['average_probability_norm'] = np.round(minmax_scale(df_model_all['average_probability'], feature_range=(0.2, 1)), 1)\n",
    "\n",
    "    # create new column \"size\", set to 2 for rows with \"meta\" in \"model_id\", else 1\n",
    "    df_model_all['size'] = np.where(df_model_all['model_id'].str.contains('meta'), 2, 1)\n",
    "    # create new column for text of points\n",
    "    df_model_all['text'] = df_model_all['algorithm_name'] + '<br>' + 'Performance: ' + df_model_all['overall_performance'].astype(str) + '%' + '<br>' + 'Model ID: ' + df_model_all['model_id'].astype(str) + '<br>' + 'Accuracy: ' + df_model_all['accuracy'].astype(str) + '%' + '<br>' + 'Precision: ' + df_model_all['precision'].astype(str) + '%' + '<br>' + 'Recall: ' + df_model_all['recall'].astype(str) + '%' + '<br>' + 'ROC AUC: ' + df_model_all['roc_auc_score'].astype(str) + '<br>' + 'Geometric Mean: ' + df_model_all['geometric_mean_score'].astype(str) + '<br>' + 'Matthews Correlation: ' + df_model_all['matthews_corrcoef'].astype(str) + '<br>' + 'F1: ' + df_model_all['f1_weighted'].astype(str) + '<br>' + 'Average Probability: ' + df_model_all['average_probability'].astype(str)\n",
    "    # add metamodel  to text for metamodels\n",
    "    df_model_all['text'] = np.where(df_model_all['model_id'].str.contains('meta'), 'MetaModel' + '<br>' + df_model_all['text'], 'Base Model' + '<br>' + df_model_all['text'])\n",
    "\n",
    "    # set df_prob_meta columns as df_prob columns\n",
    "    df_prob_meta.columns = df_prob.columns\n",
    "\n",
    "    # concatinate df_prob and df_prob_meta\n",
    "    df_prob_all = pd.concat([df_prob, df_prob_meta], axis=0)\n",
    "\n",
    "    ######################################################################################################################\n",
    "\n",
    "    ### UMAP dimension reduction algorithm\n",
    "\n",
    "    # Add umap_prob to df_model_all and rename columns to 'UMAP_1_prob' and 'UMAP_2_prob' for different hyperparameter of number of neighbors\n",
    "\n",
    "    # define number of neighbors\n",
    "    neighb = 4\n",
    "\n",
    "    for i in range(3, 3 + neighb):\n",
    "        umap_prob = umap_model(df_prob_all, parameter_umap_n_neighbors = i)\n",
    "        df_model_all = pd.concat([df_model_all, umap_prob], axis=1)\n",
    "        df_model_all.rename(columns={'UMAP_1': f'UMAP_1_prob_{i}', 'UMAP_2': f'UMAP_2_prob_{i}'}, inplace=True)\n",
    "\n",
    "    fig = go.Figure()\n",
    "\n",
    "    # define subplot size\n",
    "    fig.update_layout(width=1000, height=800)\n",
    "\n",
    "    # convert symbols to dictionary with keys from 1 to 11\n",
    "    symbols_dict = dict(zip(range(1, 12), symbols))\n",
    "\n",
    "    # Plot UMAP, add hovertext and symbols, define colorscale by performance, add title\n",
    "    for i in range(3, 3 + neighb):\n",
    "        for key in algos.keys():\n",
    "            df_model_red = df_model_all[df_model_all['algorithm_id'] == key]\n",
    "            fig.add_trace(go.Scatter(x=df_model_red[f'UMAP_1_prob_{i}'], y=df_model_red[f'UMAP_2_prob_{i}'], mode='markers', hovertext=df_model_red['text'], \n",
    "                        marker=dict(size=df_model_red['size']*20, symbol = df_model_red['algorithm_id'].map(symbols_dict),\n",
    "                        opacity = df_model_red['average_probability_norm'], line=dict(width=df_model_red['size'], color='Black'),\n",
    "                        color=df_model_red['overall_performance'], coloraxis='coloraxis'), name = algos[key]))\n",
    "\n",
    "    # add new trace with algorithm name and corresponfing symbol, place it inside the plot\n",
    "    for key in algos.keys():\n",
    "        fig.add_trace(go.Scatter(x=[0], y=[0], mode='markers', marker=dict(size=0, symbol = key, opacity = 0, line=dict(width=0, color='Black'), color='Black'), name = algos[key]))\n",
    "\n",
    "    # show symbols for each algorithm in the legend\n",
    "\n",
    "    \n",
    "    fig.update_layout(paper_bgcolor='rgba(0,0,0,0)', plot_bgcolor='rgba(0,0,0,0)', margin=dict(l=0, r=0, t=0, b=0))\n",
    "\n",
    "    # remove axes labels\n",
    "    fig.update_xaxes(showticklabels=False)\n",
    "    fig.update_yaxes(showticklabels=False)\n",
    "\n",
    "    fig.update_traces(selector=dict(mode='markers'))\n",
    "    # define symbols for markers based on symbols defined\n",
    "    fig.update_layout(hoverlabel=dict(bgcolor=\"white\", font_size=14, font_family=\"Rockwell\"), hovermode='closest')\n",
    "    # add tooltip\n",
    "    fig.update_layout(coloraxis=dict(colorscale='Viridis'), showlegend=False)\n",
    "    # add title to colorbar\n",
    "    fig.update_layout(coloraxis_colorbar=dict(title='Metric-Based Performance', titleside='right'))\n",
    "\n",
    "    min_perf = math.floor(df_model_all['overall_performance'].min()/10)*10\n",
    "    max_perf = math.ceil(df_model_all['overall_performance'].max()/10)*10\n",
    "\n",
    "    # set min and max value for legend as min and max value of overall_performance\n",
    "    fig.update_layout(coloraxis=dict(cmin=min_perf, cmax=max_perf))\n",
    "\n",
    "    return fig"
   ]
  },
  {
   "cell_type": "code",
   "execution_count": 90,
   "metadata": {},
   "outputs": [],
   "source": [
    "fig = plottingUMAP(df_model_dict['df_model_cluster_1'], df_model_dict_meta['df_model_cluster_1_meta'], df_prob_dict['df_prob_cluster_1'], df_prob_dict_meta['df_prob_cluster_1_meta'])\n",
    "fig.update_layout(width=1000, height=500)\n",
    "# add title to the figure\n",
    "fig.update_layout(title_text=f'{key_model}')\n",
    "\n",
    "# save fig to json file\n",
    "fig.write_json('test_umap.json')\n"
   ]
  },
  {
   "cell_type": "code",
   "execution_count": 91,
   "metadata": {},
   "outputs": [
    {
     "data": {
      "application/vnd.plotly.v1+json": {
       "config": {
        "plotlyServerURL": "https://plot.ly"
       },
       "data": [
        {
         "hovertext": [
          "MetaModel<br>K-Nearest Neighbor<br>Performance: 79.27%<br>Model ID: meta_6<br>Accuracy: 81.97%<br>Precision: 81.95%<br>Recall: 81.97%<br>ROC AUC: 81.71<br>Geometric Mean: 81.71<br>Matthews Correlation: 63.63<br>F1: 81.94<br>Average Probability: 75.92"
         ],
         "marker": {
          "color": [
           79.27
          ],
          "coloraxis": "coloraxis",
          "line": {
           "color": "Black",
           "width": [
            2
           ]
          },
          "opacity": [
           0.8
          ],
          "size": [
           40
          ],
          "symbol": [
           "circle"
          ]
         },
         "mode": "markers",
         "name": "K-Nearest Neighbor",
         "type": "scatter",
         "x": [
          5.5485100746154785
         ],
         "y": [
          -3.65580677986145
         ]
        },
        {
         "hovertext": [
          "MetaModel<br>Support Vector Machine<br>Performance: 79.27%<br>Model ID: meta_10<br>Accuracy: 81.97%<br>Precision: 81.95%<br>Recall: 81.97%<br>ROC AUC: 81.71<br>Geometric Mean: 81.71<br>Matthews Correlation: 63.63<br>F1: 81.94<br>Average Probability: 72.84"
         ],
         "marker": {
          "color": [
           79.27
          ],
          "coloraxis": "coloraxis",
          "line": {
           "color": "Black",
           "width": [
            2
           ]
          },
          "opacity": [
           0.7
          ],
          "size": [
           40
          ],
          "symbol": [
           "square"
          ]
         },
         "mode": "markers",
         "name": "Support Vector Machine",
         "type": "scatter",
         "x": [
          5.4320292472839355
         ],
         "y": [
          -2.508744239807129
         ]
        },
        {
         "hovertext": [
          "Base Model<br>Gaussian Naive Bayes<br>Performance: 76.1%<br>Model ID: 1077<br>Accuracy: 78.69%<br>Precision: 79.75%<br>Recall: 78.69%<br>ROC AUC: 79.22<br>Geometric Mean: 79.22<br>Matthews Correlation: 58.44<br>F1: 78.69<br>Average Probability: 77.05",
          "Base Model<br>Gaussian Naive Bayes<br>Performance: 76.1%<br>Model ID: 1066<br>Accuracy: 78.69%<br>Precision: 79.75%<br>Recall: 78.69%<br>ROC AUC: 79.22<br>Geometric Mean: 79.22<br>Matthews Correlation: 58.44<br>F1: 78.69<br>Average Probability: 77.04",
          "Base Model<br>Gaussian Naive Bayes<br>Performance: 76.1%<br>Model ID: 1078<br>Accuracy: 78.69%<br>Precision: 79.75%<br>Recall: 78.69%<br>ROC AUC: 79.22<br>Geometric Mean: 79.22<br>Matthews Correlation: 58.44<br>F1: 78.69<br>Average Probability: 77.05",
          "Base Model<br>Gaussian Naive Bayes<br>Performance: 76.1%<br>Model ID: 1079<br>Accuracy: 78.69%<br>Precision: 79.75%<br>Recall: 78.69%<br>ROC AUC: 79.22<br>Geometric Mean: 79.22<br>Matthews Correlation: 58.44<br>F1: 78.69<br>Average Probability: 77.05",
          "Base Model<br>Gaussian Naive Bayes<br>Performance: 76.1%<br>Model ID: 737<br>Accuracy: 78.69%<br>Precision: 79.75%<br>Recall: 78.69%<br>ROC AUC: 79.22<br>Geometric Mean: 79.22<br>Matthews Correlation: 58.44<br>F1: 78.69<br>Average Probability: 77.04",
          "MetaModel<br>Gaussian Naive Bayes<br>Performance: 79.27%<br>Model ID: meta_1<br>Accuracy: 81.97%<br>Precision: 81.95%<br>Recall: 81.97%<br>ROC AUC: 81.71<br>Geometric Mean: 81.71<br>Matthews Correlation: 63.63<br>F1: 81.94<br>Average Probability: 81.99"
         ],
         "marker": {
          "color": [
           76.1,
           76.1,
           76.1,
           76.1,
           76.1,
           79.27
          ],
          "coloraxis": "coloraxis",
          "line": {
           "color": "Black",
           "width": [
            1,
            1,
            1,
            1,
            1,
            2
           ]
          },
          "opacity": [
           0.8,
           0.8,
           0.8,
           0.8,
           0.8,
           1
          ],
          "size": [
           20,
           20,
           20,
           20,
           20,
           40
          ],
          "symbol": [
           "x",
           "x",
           "x",
           "x",
           "x",
           "x"
          ]
         },
         "mode": "markers",
         "name": "Gaussian Naive Bayes",
         "type": "scatter",
         "x": [
          -9.776200294494629,
          -8.991280555725098,
          -9.62890911102295,
          -8.982293128967285,
          -8.632162094116211,
          2.9404141902923584
         ],
         "y": [
          14.171371459960938,
          14.746323585510254,
          13.28912353515625,
          13.5435791015625,
          14.593387603759766,
          -3.581841230392456
         ]
        },
        {
         "hovertext": [
          "MetaModel<br>Multilayer Perceptron<br>Performance: 79.27%<br>Model ID: meta_9<br>Accuracy: 81.97%<br>Precision: 81.95%<br>Recall: 81.97%<br>ROC AUC: 81.71<br>Geometric Mean: 81.71<br>Matthews Correlation: 63.63<br>F1: 81.94<br>Average Probability: 73.34"
         ],
         "marker": {
          "color": [
           79.27
          ],
          "coloraxis": "coloraxis",
          "line": {
           "color": "Black",
           "width": [
            2
           ]
          },
          "opacity": [
           0.7
          ],
          "size": [
           40
          ],
          "symbol": [
           "cross"
          ]
         },
         "mode": "markers",
         "name": "Multilayer Perceptron",
         "type": "scatter",
         "x": [
          5.8628764152526855
         ],
         "y": [
          -2.198127269744873
         ]
        },
        {
         "hovertext": [
          "MetaModel<br>Logistic Regression<br>Performance: 79.27%<br>Model ID: meta_8<br>Accuracy: 81.97%<br>Precision: 81.95%<br>Recall: 81.97%<br>ROC AUC: 81.71<br>Geometric Mean: 81.71<br>Matthews Correlation: 63.63<br>F1: 81.94<br>Average Probability: 74.5"
         ],
         "marker": {
          "color": [
           79.27
          ],
          "coloraxis": "coloraxis",
          "line": {
           "color": "Black",
           "width": [
            2
           ]
          },
          "opacity": [
           0.7
          ],
          "size": [
           40
          ],
          "symbol": [
           "diamond"
          ]
         },
         "mode": "markers",
         "name": "Logistic Regression",
         "type": "scatter",
         "x": [
          4.589419841766357
         ],
         "y": [
          -2.884894371032715
         ]
        },
        {
         "hovertext": [
          "MetaModel<br>Linear Discriminant Analysis<br>Performance: 79.27%<br>Model ID: meta_4<br>Accuracy: 81.97%<br>Precision: 81.95%<br>Recall: 81.97%<br>ROC AUC: 81.71<br>Geometric Mean: 81.71<br>Matthews Correlation: 63.63<br>F1: 81.94<br>Average Probability: 79.45"
         ],
         "marker": {
          "color": [
           79.27
          ],
          "coloraxis": "coloraxis",
          "line": {
           "color": "Black",
           "width": [
            2
           ]
          },
          "opacity": [
           0.9
          ],
          "size": [
           40
          ],
          "symbol": [
           "star"
          ]
         },
         "mode": "markers",
         "name": "Linear Discriminant Analysis",
         "type": "scatter",
         "x": [
          3.5931859016418457
         ],
         "y": [
          -3.978421211242676
         ]
        },
        {
         "hovertext": [
          "Base Model<br>Quadratic Discriminant Analysis<br>Performance: 81.12%<br>Model ID: 2271<br>Accuracy: 83.61%<br>Precision: 83.66%<br>Recall: 83.61%<br>ROC AUC: 83.23<br>Geometric Mean: 83.22<br>Matthews Correlation: 66.96<br>F1: 83.54<br>Average Probability: 77.54",
          "Base Model<br>Quadratic Discriminant Analysis<br>Performance: 81.12%<br>Model ID: 2272<br>Accuracy: 83.61%<br>Precision: 83.66%<br>Recall: 83.61%<br>ROC AUC: 83.23<br>Geometric Mean: 83.22<br>Matthews Correlation: 66.96<br>F1: 83.54<br>Average Probability: 77.54",
          "Base Model<br>Quadratic Discriminant Analysis<br>Performance: 81.12%<br>Model ID: 2273<br>Accuracy: 83.61%<br>Precision: 83.66%<br>Recall: 83.61%<br>ROC AUC: 83.23<br>Geometric Mean: 83.22<br>Matthews Correlation: 66.96<br>F1: 83.54<br>Average Probability: 77.54",
          "Base Model<br>Quadratic Discriminant Analysis<br>Performance: 81.12%<br>Model ID: 2274<br>Accuracy: 83.61%<br>Precision: 83.66%<br>Recall: 83.61%<br>ROC AUC: 83.23<br>Geometric Mean: 83.22<br>Matthews Correlation: 66.96<br>F1: 83.54<br>Average Probability: 77.54",
          "Base Model<br>Quadratic Discriminant Analysis<br>Performance: 81.12%<br>Model ID: 2264<br>Accuracy: 83.61%<br>Precision: 83.66%<br>Recall: 83.61%<br>ROC AUC: 83.23<br>Geometric Mean: 83.22<br>Matthews Correlation: 66.96<br>F1: 83.54<br>Average Probability: 77.54",
          "MetaModel<br>Quadratic Discriminant Analysis<br>Performance: 79.27%<br>Model ID: meta_5<br>Accuracy: 81.97%<br>Precision: 81.95%<br>Recall: 81.97%<br>ROC AUC: 81.71<br>Geometric Mean: 81.71<br>Matthews Correlation: 63.63<br>F1: 81.94<br>Average Probability: 78.5"
         ],
         "marker": {
          "color": [
           81.12,
           81.12,
           81.12,
           81.12,
           81.12,
           79.27
          ],
          "coloraxis": "coloraxis",
          "line": {
           "color": "Black",
           "width": [
            1,
            1,
            1,
            1,
            1,
            2
           ]
          },
          "opacity": [
           0.8,
           0.8,
           0.8,
           0.8,
           0.8,
           0.9
          ],
          "size": [
           20,
           20,
           20,
           20,
           20,
           40
          ],
          "symbol": [
           "hexagram",
           "hexagram",
           "hexagram",
           "hexagram",
           "hexagram",
           "hexagram"
          ]
         },
         "mode": "markers",
         "name": "Quadratic Discriminant Analysis",
         "type": "scatter",
         "x": [
          7.519649505615234,
          6.881357669830322,
          6.912425518035889,
          6.102996826171875,
          6.837820053100586,
          3.669894218444824
         ],
         "y": [
          -9.427644729614258,
          -10.32995891571045,
          -9.662494659423828,
          -10.008818626403809,
          -8.848484992980957,
          -3.094418525695801
         ]
        },
        {
         "hovertext": [
          "MetaModel<br>Random Forest<br>Performance: 81.36%<br>Model ID: meta_2<br>Accuracy: 83.61%<br>Precision: 83.84%<br>Recall: 83.61%<br>ROC AUC: 83.77<br>Geometric Mean: 83.77<br>Matthews Correlation: 67.31<br>F1: 83.63<br>Average Probability: 78.36"
         ],
         "marker": {
          "color": [
           81.36
          ],
          "coloraxis": "coloraxis",
          "line": {
           "color": "Black",
           "width": [
            2
           ]
          },
          "opacity": [
           0.9
          ],
          "size": [
           40
          ],
          "symbol": [
           "triangle-right"
          ]
         },
         "mode": "markers",
         "name": "Random Forest",
         "type": "scatter",
         "x": [
          6.644143104553223
         ],
         "y": [
          -3.410562038421631
         ]
        },
        {
         "hovertext": [
          "MetaModel<br>Extra Trees<br>Performance: 77.44%<br>Model ID: meta_7<br>Accuracy: 80.33%<br>Precision: 80.33%<br>Recall: 80.33%<br>ROC AUC: 80.19<br>Geometric Mean: 80.19<br>Matthews Correlation: 60.39<br>F1: 80.33<br>Average Probability: 77.57"
         ],
         "marker": {
          "color": [
           77.44
          ],
          "coloraxis": "coloraxis",
          "line": {
           "color": "Black",
           "width": [
            2
           ]
          },
          "opacity": [
           0.8
          ],
          "size": [
           40
          ],
          "symbol": [
           "triangle-left"
          ]
         },
         "mode": "markers",
         "name": "Extra Trees",
         "type": "scatter",
         "x": [
          6.333841800689697
         ],
         "y": [
          -4.087965965270996
         ]
        },
        {
         "hovertext": [
          "MetaModel<br>Adaptive Boosting<br>Performance: 81.12%<br>Model ID: meta_11<br>Accuracy: 83.61%<br>Precision: 83.66%<br>Recall: 83.61%<br>ROC AUC: 83.23<br>Geometric Mean: 83.22<br>Matthews Correlation: 66.96<br>F1: 83.54<br>Average Probability: 60.83"
         ],
         "marker": {
          "color": [
           81.12
          ],
          "coloraxis": "coloraxis",
          "line": {
           "color": "Black",
           "width": [
            2
           ]
          },
          "opacity": [
           0.2
          ],
          "size": [
           40
          ],
          "symbol": [
           "triangle-down"
          ]
         },
         "mode": "markers",
         "name": "Adaptive Boosting",
         "type": "scatter",
         "x": [
          5.267856597900391
         ],
         "y": [
          -1.6547801494598389
         ]
        },
        {
         "hovertext": [
          "MetaModel<br>Gradient Boosting<br>Performance: 81.92%<br>Model ID: meta_3<br>Accuracy: 83.61%<br>Precision: 85.19%<br>Recall: 83.61%<br>ROC AUC: 84.31<br>Geometric Mean: 84.3<br>Matthews Correlation: 68.84<br>F1: 83.58<br>Average Probability: 77.4"
         ],
         "marker": {
          "color": [
           81.92
          ],
          "coloraxis": "coloraxis",
          "line": {
           "color": "Black",
           "width": [
            2
           ]
          },
          "opacity": [
           0.8
          ],
          "size": [
           40
          ],
          "symbol": [
           "triangle-up"
          ]
         },
         "mode": "markers",
         "name": "Gradient Boosting",
         "type": "scatter",
         "x": [
          7.0282301902771
         ],
         "y": [
          -2.638319730758667
         ]
        },
        {
         "hovertext": [
          "MetaModel<br>K-Nearest Neighbor<br>Performance: 79.27%<br>Model ID: meta_6<br>Accuracy: 81.97%<br>Precision: 81.95%<br>Recall: 81.97%<br>ROC AUC: 81.71<br>Geometric Mean: 81.71<br>Matthews Correlation: 63.63<br>F1: 81.94<br>Average Probability: 75.92"
         ],
         "marker": {
          "color": [
           79.27
          ],
          "coloraxis": "coloraxis",
          "line": {
           "color": "Black",
           "width": [
            2
           ]
          },
          "opacity": [
           0.8
          ],
          "size": [
           40
          ],
          "symbol": [
           "circle"
          ]
         },
         "mode": "markers",
         "name": "K-Nearest Neighbor",
         "type": "scatter",
         "x": [
          10.679251670837402
         ],
         "y": [
          3.5353522300720215
         ]
        },
        {
         "hovertext": [
          "MetaModel<br>Support Vector Machine<br>Performance: 79.27%<br>Model ID: meta_10<br>Accuracy: 81.97%<br>Precision: 81.95%<br>Recall: 81.97%<br>ROC AUC: 81.71<br>Geometric Mean: 81.71<br>Matthews Correlation: 63.63<br>F1: 81.94<br>Average Probability: 72.84"
         ],
         "marker": {
          "color": [
           79.27
          ],
          "coloraxis": "coloraxis",
          "line": {
           "color": "Black",
           "width": [
            2
           ]
          },
          "opacity": [
           0.7
          ],
          "size": [
           40
          ],
          "symbol": [
           "square"
          ]
         },
         "mode": "markers",
         "name": "Support Vector Machine",
         "type": "scatter",
         "x": [
          9.288055419921875
         ],
         "y": [
          3.9474966526031494
         ]
        },
        {
         "hovertext": [
          "Base Model<br>Gaussian Naive Bayes<br>Performance: 76.1%<br>Model ID: 1077<br>Accuracy: 78.69%<br>Precision: 79.75%<br>Recall: 78.69%<br>ROC AUC: 79.22<br>Geometric Mean: 79.22<br>Matthews Correlation: 58.44<br>F1: 78.69<br>Average Probability: 77.05",
          "Base Model<br>Gaussian Naive Bayes<br>Performance: 76.1%<br>Model ID: 1066<br>Accuracy: 78.69%<br>Precision: 79.75%<br>Recall: 78.69%<br>ROC AUC: 79.22<br>Geometric Mean: 79.22<br>Matthews Correlation: 58.44<br>F1: 78.69<br>Average Probability: 77.04",
          "Base Model<br>Gaussian Naive Bayes<br>Performance: 76.1%<br>Model ID: 1078<br>Accuracy: 78.69%<br>Precision: 79.75%<br>Recall: 78.69%<br>ROC AUC: 79.22<br>Geometric Mean: 79.22<br>Matthews Correlation: 58.44<br>F1: 78.69<br>Average Probability: 77.05",
          "Base Model<br>Gaussian Naive Bayes<br>Performance: 76.1%<br>Model ID: 1079<br>Accuracy: 78.69%<br>Precision: 79.75%<br>Recall: 78.69%<br>ROC AUC: 79.22<br>Geometric Mean: 79.22<br>Matthews Correlation: 58.44<br>F1: 78.69<br>Average Probability: 77.05",
          "Base Model<br>Gaussian Naive Bayes<br>Performance: 76.1%<br>Model ID: 737<br>Accuracy: 78.69%<br>Precision: 79.75%<br>Recall: 78.69%<br>ROC AUC: 79.22<br>Geometric Mean: 79.22<br>Matthews Correlation: 58.44<br>F1: 78.69<br>Average Probability: 77.04",
          "MetaModel<br>Gaussian Naive Bayes<br>Performance: 79.27%<br>Model ID: meta_1<br>Accuracy: 81.97%<br>Precision: 81.95%<br>Recall: 81.97%<br>ROC AUC: 81.71<br>Geometric Mean: 81.71<br>Matthews Correlation: 63.63<br>F1: 81.94<br>Average Probability: 81.99"
         ],
         "marker": {
          "color": [
           76.1,
           76.1,
           76.1,
           76.1,
           76.1,
           79.27
          ],
          "coloraxis": "coloraxis",
          "line": {
           "color": "Black",
           "width": [
            1,
            1,
            1,
            1,
            1,
            2
           ]
          },
          "opacity": [
           0.8,
           0.8,
           0.8,
           0.8,
           0.8,
           1
          ],
          "size": [
           20,
           20,
           20,
           20,
           20,
           40
          ],
          "symbol": [
           "x",
           "x",
           "x",
           "x",
           "x",
           "x"
          ]
         },
         "mode": "markers",
         "name": "Gaussian Naive Bayes",
         "type": "scatter",
         "x": [
          -6.332828998565674,
          -5.498995304107666,
          -5.706170558929443,
          -5.26125955581665,
          -6.219401836395264,
          8.094552040100098
         ],
         "y": [
          17.593442916870117,
          18.263410568237305,
          17.13201141357422,
          17.52475357055664,
          18.538190841674805,
          3.202836036682129
         ]
        },
        {
         "hovertext": [
          "MetaModel<br>Multilayer Perceptron<br>Performance: 79.27%<br>Model ID: meta_9<br>Accuracy: 81.97%<br>Precision: 81.95%<br>Recall: 81.97%<br>ROC AUC: 81.71<br>Geometric Mean: 81.71<br>Matthews Correlation: 63.63<br>F1: 81.94<br>Average Probability: 73.34"
         ],
         "marker": {
          "color": [
           79.27
          ],
          "coloraxis": "coloraxis",
          "line": {
           "color": "Black",
           "width": [
            2
           ]
          },
          "opacity": [
           0.7
          ],
          "size": [
           40
          ],
          "symbol": [
           "cross"
          ]
         },
         "mode": "markers",
         "name": "Multilayer Perceptron",
         "type": "scatter",
         "x": [
          8.925880432128906
         ],
         "y": [
          4.491403579711914
         ]
        },
        {
         "hovertext": [
          "MetaModel<br>Logistic Regression<br>Performance: 79.27%<br>Model ID: meta_8<br>Accuracy: 81.97%<br>Precision: 81.95%<br>Recall: 81.97%<br>ROC AUC: 81.71<br>Geometric Mean: 81.71<br>Matthews Correlation: 63.63<br>F1: 81.94<br>Average Probability: 74.5"
         ],
         "marker": {
          "color": [
           79.27
          ],
          "coloraxis": "coloraxis",
          "line": {
           "color": "Black",
           "width": [
            2
           ]
          },
          "opacity": [
           0.7
          ],
          "size": [
           40
          ],
          "symbol": [
           "diamond"
          ]
         },
         "mode": "markers",
         "name": "Logistic Regression",
         "type": "scatter",
         "x": [
          9.85599136352539
         ],
         "y": [
          3.5591275691986084
         ]
        },
        {
         "hovertext": [
          "MetaModel<br>Linear Discriminant Analysis<br>Performance: 79.27%<br>Model ID: meta_4<br>Accuracy: 81.97%<br>Precision: 81.95%<br>Recall: 81.97%<br>ROC AUC: 81.71<br>Geometric Mean: 81.71<br>Matthews Correlation: 63.63<br>F1: 81.94<br>Average Probability: 79.45"
         ],
         "marker": {
          "color": [
           79.27
          ],
          "coloraxis": "coloraxis",
          "line": {
           "color": "Black",
           "width": [
            2
           ]
          },
          "opacity": [
           0.9
          ],
          "size": [
           40
          ],
          "symbol": [
           "star"
          ]
         },
         "mode": "markers",
         "name": "Linear Discriminant Analysis",
         "type": "scatter",
         "x": [
          8.42969036102295
         ],
         "y": [
          3.767723560333252
         ]
        },
        {
         "hovertext": [
          "Base Model<br>Quadratic Discriminant Analysis<br>Performance: 81.12%<br>Model ID: 2271<br>Accuracy: 83.61%<br>Precision: 83.66%<br>Recall: 83.61%<br>ROC AUC: 83.23<br>Geometric Mean: 83.22<br>Matthews Correlation: 66.96<br>F1: 83.54<br>Average Probability: 77.54",
          "Base Model<br>Quadratic Discriminant Analysis<br>Performance: 81.12%<br>Model ID: 2272<br>Accuracy: 83.61%<br>Precision: 83.66%<br>Recall: 83.61%<br>ROC AUC: 83.23<br>Geometric Mean: 83.22<br>Matthews Correlation: 66.96<br>F1: 83.54<br>Average Probability: 77.54",
          "Base Model<br>Quadratic Discriminant Analysis<br>Performance: 81.12%<br>Model ID: 2273<br>Accuracy: 83.61%<br>Precision: 83.66%<br>Recall: 83.61%<br>ROC AUC: 83.23<br>Geometric Mean: 83.22<br>Matthews Correlation: 66.96<br>F1: 83.54<br>Average Probability: 77.54",
          "Base Model<br>Quadratic Discriminant Analysis<br>Performance: 81.12%<br>Model ID: 2274<br>Accuracy: 83.61%<br>Precision: 83.66%<br>Recall: 83.61%<br>ROC AUC: 83.23<br>Geometric Mean: 83.22<br>Matthews Correlation: 66.96<br>F1: 83.54<br>Average Probability: 77.54",
          "Base Model<br>Quadratic Discriminant Analysis<br>Performance: 81.12%<br>Model ID: 2264<br>Accuracy: 83.61%<br>Precision: 83.66%<br>Recall: 83.61%<br>ROC AUC: 83.23<br>Geometric Mean: 83.22<br>Matthews Correlation: 66.96<br>F1: 83.54<br>Average Probability: 77.54",
          "MetaModel<br>Quadratic Discriminant Analysis<br>Performance: 79.27%<br>Model ID: meta_5<br>Accuracy: 81.97%<br>Precision: 81.95%<br>Recall: 81.97%<br>ROC AUC: 81.71<br>Geometric Mean: 81.71<br>Matthews Correlation: 63.63<br>F1: 81.94<br>Average Probability: 78.5"
         ],
         "marker": {
          "color": [
           81.12,
           81.12,
           81.12,
           81.12,
           81.12,
           79.27
          ],
          "coloraxis": "coloraxis",
          "line": {
           "color": "Black",
           "width": [
            1,
            1,
            1,
            1,
            1,
            2
           ]
          },
          "opacity": [
           0.8,
           0.8,
           0.8,
           0.8,
           0.8,
           0.9
          ],
          "size": [
           20,
           20,
           20,
           20,
           20,
           40
          ],
          "symbol": [
           "hexagram",
           "hexagram",
           "hexagram",
           "hexagram",
           "hexagram",
           "hexagram"
          ]
         },
         "mode": "markers",
         "name": "Quadratic Discriminant Analysis",
         "type": "scatter",
         "x": [
          -16.686100006103516,
          -17.05447769165039,
          -16.51725196838379,
          -17.34040641784668,
          -16.054466247558594,
          9.080768585205078
         ],
         "y": [
          14.681361198425293,
          13.6445894241333,
          13.578524589538574,
          14.40489387512207,
          14.225899696350098,
          3.148806095123291
         ]
        },
        {
         "hovertext": [
          "MetaModel<br>Random Forest<br>Performance: 81.36%<br>Model ID: meta_2<br>Accuracy: 83.61%<br>Precision: 83.84%<br>Recall: 83.61%<br>ROC AUC: 83.77<br>Geometric Mean: 83.77<br>Matthews Correlation: 67.31<br>F1: 83.63<br>Average Probability: 78.36"
         ],
         "marker": {
          "color": [
           81.36
          ],
          "coloraxis": "coloraxis",
          "line": {
           "color": "Black",
           "width": [
            2
           ]
          },
          "opacity": [
           0.9
          ],
          "size": [
           40
          ],
          "symbol": [
           "triangle-right"
          ]
         },
         "mode": "markers",
         "name": "Random Forest",
         "type": "scatter",
         "x": [
          11.473159790039062
         ],
         "y": [
          4.103888034820557
         ]
        },
        {
         "hovertext": [
          "MetaModel<br>Extra Trees<br>Performance: 77.44%<br>Model ID: meta_7<br>Accuracy: 80.33%<br>Precision: 80.33%<br>Recall: 80.33%<br>ROC AUC: 80.19<br>Geometric Mean: 80.19<br>Matthews Correlation: 60.39<br>F1: 80.33<br>Average Probability: 77.57"
         ],
         "marker": {
          "color": [
           77.44
          ],
          "coloraxis": "coloraxis",
          "line": {
           "color": "Black",
           "width": [
            2
           ]
          },
          "opacity": [
           0.8
          ],
          "size": [
           40
          ],
          "symbol": [
           "triangle-left"
          ]
         },
         "mode": "markers",
         "name": "Extra Trees",
         "type": "scatter",
         "x": [
          11.455196380615234
         ],
         "y": [
          3.2414186000823975
         ]
        },
        {
         "hovertext": [
          "MetaModel<br>Adaptive Boosting<br>Performance: 81.12%<br>Model ID: meta_11<br>Accuracy: 83.61%<br>Precision: 83.66%<br>Recall: 83.61%<br>ROC AUC: 83.23<br>Geometric Mean: 83.22<br>Matthews Correlation: 66.96<br>F1: 83.54<br>Average Probability: 60.83"
         ],
         "marker": {
          "color": [
           81.12
          ],
          "coloraxis": "coloraxis",
          "line": {
           "color": "Black",
           "width": [
            2
           ]
          },
          "opacity": [
           0.2
          ],
          "size": [
           40
          ],
          "symbol": [
           "triangle-down"
          ]
         },
         "mode": "markers",
         "name": "Adaptive Boosting",
         "type": "scatter",
         "x": [
          9.46685791015625
         ],
         "y": [
          5.081282615661621
         ]
        },
        {
         "hovertext": [
          "MetaModel<br>Gradient Boosting<br>Performance: 81.92%<br>Model ID: meta_3<br>Accuracy: 83.61%<br>Precision: 85.19%<br>Recall: 83.61%<br>ROC AUC: 84.31<br>Geometric Mean: 84.3<br>Matthews Correlation: 68.84<br>F1: 83.58<br>Average Probability: 77.4"
         ],
         "marker": {
          "color": [
           81.92
          ],
          "coloraxis": "coloraxis",
          "line": {
           "color": "Black",
           "width": [
            2
           ]
          },
          "opacity": [
           0.8
          ],
          "size": [
           40
          ],
          "symbol": [
           "triangle-up"
          ]
         },
         "mode": "markers",
         "name": "Gradient Boosting",
         "type": "scatter",
         "x": [
          10.766313552856445
         ],
         "y": [
          4.678757667541504
         ]
        },
        {
         "hovertext": [
          "MetaModel<br>K-Nearest Neighbor<br>Performance: 79.27%<br>Model ID: meta_6<br>Accuracy: 81.97%<br>Precision: 81.95%<br>Recall: 81.97%<br>ROC AUC: 81.71<br>Geometric Mean: 81.71<br>Matthews Correlation: 63.63<br>F1: 81.94<br>Average Probability: 75.92"
         ],
         "marker": {
          "color": [
           79.27
          ],
          "coloraxis": "coloraxis",
          "line": {
           "color": "Black",
           "width": [
            2
           ]
          },
          "opacity": [
           0.8
          ],
          "size": [
           40
          ],
          "symbol": [
           "circle"
          ]
         },
         "mode": "markers",
         "name": "K-Nearest Neighbor",
         "type": "scatter",
         "x": [
          7.233765602111816
         ],
         "y": [
          10.290600776672363
         ]
        },
        {
         "hovertext": [
          "MetaModel<br>Support Vector Machine<br>Performance: 79.27%<br>Model ID: meta_10<br>Accuracy: 81.97%<br>Precision: 81.95%<br>Recall: 81.97%<br>ROC AUC: 81.71<br>Geometric Mean: 81.71<br>Matthews Correlation: 63.63<br>F1: 81.94<br>Average Probability: 72.84"
         ],
         "marker": {
          "color": [
           79.27
          ],
          "coloraxis": "coloraxis",
          "line": {
           "color": "Black",
           "width": [
            2
           ]
          },
          "opacity": [
           0.7
          ],
          "size": [
           40
          ],
          "symbol": [
           "square"
          ]
         },
         "mode": "markers",
         "name": "Support Vector Machine",
         "type": "scatter",
         "x": [
          5.463934898376465
         ],
         "y": [
          9.713689804077148
         ]
        },
        {
         "hovertext": [
          "Base Model<br>Gaussian Naive Bayes<br>Performance: 76.1%<br>Model ID: 1077<br>Accuracy: 78.69%<br>Precision: 79.75%<br>Recall: 78.69%<br>ROC AUC: 79.22<br>Geometric Mean: 79.22<br>Matthews Correlation: 58.44<br>F1: 78.69<br>Average Probability: 77.05",
          "Base Model<br>Gaussian Naive Bayes<br>Performance: 76.1%<br>Model ID: 1066<br>Accuracy: 78.69%<br>Precision: 79.75%<br>Recall: 78.69%<br>ROC AUC: 79.22<br>Geometric Mean: 79.22<br>Matthews Correlation: 58.44<br>F1: 78.69<br>Average Probability: 77.04",
          "Base Model<br>Gaussian Naive Bayes<br>Performance: 76.1%<br>Model ID: 1078<br>Accuracy: 78.69%<br>Precision: 79.75%<br>Recall: 78.69%<br>ROC AUC: 79.22<br>Geometric Mean: 79.22<br>Matthews Correlation: 58.44<br>F1: 78.69<br>Average Probability: 77.05",
          "Base Model<br>Gaussian Naive Bayes<br>Performance: 76.1%<br>Model ID: 1079<br>Accuracy: 78.69%<br>Precision: 79.75%<br>Recall: 78.69%<br>ROC AUC: 79.22<br>Geometric Mean: 79.22<br>Matthews Correlation: 58.44<br>F1: 78.69<br>Average Probability: 77.05",
          "Base Model<br>Gaussian Naive Bayes<br>Performance: 76.1%<br>Model ID: 737<br>Accuracy: 78.69%<br>Precision: 79.75%<br>Recall: 78.69%<br>ROC AUC: 79.22<br>Geometric Mean: 79.22<br>Matthews Correlation: 58.44<br>F1: 78.69<br>Average Probability: 77.04",
          "MetaModel<br>Gaussian Naive Bayes<br>Performance: 79.27%<br>Model ID: meta_1<br>Accuracy: 81.97%<br>Precision: 81.95%<br>Recall: 81.97%<br>ROC AUC: 81.71<br>Geometric Mean: 81.71<br>Matthews Correlation: 63.63<br>F1: 81.94<br>Average Probability: 81.99"
         ],
         "marker": {
          "color": [
           76.1,
           76.1,
           76.1,
           76.1,
           76.1,
           79.27
          ],
          "coloraxis": "coloraxis",
          "line": {
           "color": "Black",
           "width": [
            1,
            1,
            1,
            1,
            1,
            2
           ]
          },
          "opacity": [
           0.8,
           0.8,
           0.8,
           0.8,
           0.8,
           1
          ],
          "size": [
           20,
           20,
           20,
           20,
           20,
           40
          ],
          "symbol": [
           "x",
           "x",
           "x",
           "x",
           "x",
           "x"
          ]
         },
         "mode": "markers",
         "name": "Gaussian Naive Bayes",
         "type": "scatter",
         "x": [
          8.858006477355957,
          7.838300704956055,
          7.431389808654785,
          8.107665061950684,
          8.593191146850586,
          4.638735771179199
         ],
         "y": [
          1.0236153602600098,
          0.43499109148979187,
          1.11263906955719,
          1.239952564239502,
          0.26622846722602844,
          10.256171226501465
         ]
        },
        {
         "hovertext": [
          "MetaModel<br>Multilayer Perceptron<br>Performance: 79.27%<br>Model ID: meta_9<br>Accuracy: 81.97%<br>Precision: 81.95%<br>Recall: 81.97%<br>ROC AUC: 81.71<br>Geometric Mean: 81.71<br>Matthews Correlation: 63.63<br>F1: 81.94<br>Average Probability: 73.34"
         ],
         "marker": {
          "color": [
           79.27
          ],
          "coloraxis": "coloraxis",
          "line": {
           "color": "Black",
           "width": [
            2
           ]
          },
          "opacity": [
           0.7
          ],
          "size": [
           40
          ],
          "symbol": [
           "cross"
          ]
         },
         "mode": "markers",
         "name": "Multilayer Perceptron",
         "type": "scatter",
         "x": [
          6.21029806137085
         ],
         "y": [
          11.18713665008545
         ]
        },
        {
         "hovertext": [
          "MetaModel<br>Logistic Regression<br>Performance: 79.27%<br>Model ID: meta_8<br>Accuracy: 81.97%<br>Precision: 81.95%<br>Recall: 81.97%<br>ROC AUC: 81.71<br>Geometric Mean: 81.71<br>Matthews Correlation: 63.63<br>F1: 81.94<br>Average Probability: 74.5"
         ],
         "marker": {
          "color": [
           79.27
          ],
          "coloraxis": "coloraxis",
          "line": {
           "color": "Black",
           "width": [
            2
           ]
          },
          "opacity": [
           0.7
          ],
          "size": [
           40
          ],
          "symbol": [
           "diamond"
          ]
         },
         "mode": "markers",
         "name": "Logistic Regression",
         "type": "scatter",
         "x": [
          6.223401069641113
         ],
         "y": [
          10.357917785644531
         ]
        },
        {
         "hovertext": [
          "MetaModel<br>Linear Discriminant Analysis<br>Performance: 79.27%<br>Model ID: meta_4<br>Accuracy: 81.97%<br>Precision: 81.95%<br>Recall: 81.97%<br>ROC AUC: 81.71<br>Geometric Mean: 81.71<br>Matthews Correlation: 63.63<br>F1: 81.94<br>Average Probability: 79.45"
         ],
         "marker": {
          "color": [
           79.27
          ],
          "coloraxis": "coloraxis",
          "line": {
           "color": "Black",
           "width": [
            2
           ]
          },
          "opacity": [
           0.9
          ],
          "size": [
           40
          ],
          "symbol": [
           "star"
          ]
         },
         "mode": "markers",
         "name": "Linear Discriminant Analysis",
         "type": "scatter",
         "x": [
          4.711228370666504
         ],
         "y": [
          10.938043594360352
         ]
        },
        {
         "hovertext": [
          "Base Model<br>Quadratic Discriminant Analysis<br>Performance: 81.12%<br>Model ID: 2271<br>Accuracy: 83.61%<br>Precision: 83.66%<br>Recall: 83.61%<br>ROC AUC: 83.23<br>Geometric Mean: 83.22<br>Matthews Correlation: 66.96<br>F1: 83.54<br>Average Probability: 77.54",
          "Base Model<br>Quadratic Discriminant Analysis<br>Performance: 81.12%<br>Model ID: 2272<br>Accuracy: 83.61%<br>Precision: 83.66%<br>Recall: 83.61%<br>ROC AUC: 83.23<br>Geometric Mean: 83.22<br>Matthews Correlation: 66.96<br>F1: 83.54<br>Average Probability: 77.54",
          "Base Model<br>Quadratic Discriminant Analysis<br>Performance: 81.12%<br>Model ID: 2273<br>Accuracy: 83.61%<br>Precision: 83.66%<br>Recall: 83.61%<br>ROC AUC: 83.23<br>Geometric Mean: 83.22<br>Matthews Correlation: 66.96<br>F1: 83.54<br>Average Probability: 77.54",
          "Base Model<br>Quadratic Discriminant Analysis<br>Performance: 81.12%<br>Model ID: 2274<br>Accuracy: 83.61%<br>Precision: 83.66%<br>Recall: 83.61%<br>ROC AUC: 83.23<br>Geometric Mean: 83.22<br>Matthews Correlation: 66.96<br>F1: 83.54<br>Average Probability: 77.54",
          "Base Model<br>Quadratic Discriminant Analysis<br>Performance: 81.12%<br>Model ID: 2264<br>Accuracy: 83.61%<br>Precision: 83.66%<br>Recall: 83.61%<br>ROC AUC: 83.23<br>Geometric Mean: 83.22<br>Matthews Correlation: 66.96<br>F1: 83.54<br>Average Probability: 77.54",
          "MetaModel<br>Quadratic Discriminant Analysis<br>Performance: 79.27%<br>Model ID: meta_5<br>Accuracy: 81.97%<br>Precision: 81.95%<br>Recall: 81.97%<br>ROC AUC: 81.71<br>Geometric Mean: 81.71<br>Matthews Correlation: 63.63<br>F1: 81.94<br>Average Probability: 78.5"
         ],
         "marker": {
          "color": [
           81.12,
           81.12,
           81.12,
           81.12,
           81.12,
           79.27
          ],
          "coloraxis": "coloraxis",
          "line": {
           "color": "Black",
           "width": [
            1,
            1,
            1,
            1,
            1,
            2
           ]
          },
          "opacity": [
           0.8,
           0.8,
           0.8,
           0.8,
           0.8,
           0.9
          ],
          "size": [
           20,
           20,
           20,
           20,
           20,
           40
          ],
          "symbol": [
           "hexagram",
           "hexagram",
           "hexagram",
           "hexagram",
           "hexagram",
           "hexagram"
          ]
         },
         "mode": "markers",
         "name": "Quadratic Discriminant Analysis",
         "type": "scatter",
         "x": [
          -3.757808208465576,
          -4.631699085235596,
          -4.050359725952148,
          -4.048535346984863,
          -3.2933154106140137,
          5.449746608734131
         ],
         "y": [
          18.612159729003906,
          18.083599090576172,
          17.89741325378418,
          17.232791900634766,
          17.94748306274414,
          10.682181358337402
         ]
        },
        {
         "hovertext": [
          "MetaModel<br>Random Forest<br>Performance: 81.36%<br>Model ID: meta_2<br>Accuracy: 83.61%<br>Precision: 83.84%<br>Recall: 83.61%<br>ROC AUC: 83.77<br>Geometric Mean: 83.77<br>Matthews Correlation: 67.31<br>F1: 83.63<br>Average Probability: 78.36"
         ],
         "marker": {
          "color": [
           81.36
          ],
          "coloraxis": "coloraxis",
          "line": {
           "color": "Black",
           "width": [
            2
           ]
          },
          "opacity": [
           0.9
          ],
          "size": [
           40
          ],
          "symbol": [
           "triangle-right"
          ]
         },
         "mode": "markers",
         "name": "Random Forest",
         "type": "scatter",
         "x": [
          8.301563262939453
         ],
         "y": [
          10.576786041259766
         ]
        },
        {
         "hovertext": [
          "MetaModel<br>Extra Trees<br>Performance: 77.44%<br>Model ID: meta_7<br>Accuracy: 80.33%<br>Precision: 80.33%<br>Recall: 80.33%<br>ROC AUC: 80.19<br>Geometric Mean: 80.19<br>Matthews Correlation: 60.39<br>F1: 80.33<br>Average Probability: 77.57"
         ],
         "marker": {
          "color": [
           77.44
          ],
          "coloraxis": "coloraxis",
          "line": {
           "color": "Black",
           "width": [
            2
           ]
          },
          "opacity": [
           0.8
          ],
          "size": [
           40
          ],
          "symbol": [
           "triangle-left"
          ]
         },
         "mode": "markers",
         "name": "Extra Trees",
         "type": "scatter",
         "x": [
          7.75623083114624
         ],
         "y": [
          10.781557083129883
         ]
        },
        {
         "hovertext": [
          "MetaModel<br>Adaptive Boosting<br>Performance: 81.12%<br>Model ID: meta_11<br>Accuracy: 83.61%<br>Precision: 83.66%<br>Recall: 83.61%<br>ROC AUC: 83.23<br>Geometric Mean: 83.22<br>Matthews Correlation: 66.96<br>F1: 83.54<br>Average Probability: 60.83"
         ],
         "marker": {
          "color": [
           81.12
          ],
          "coloraxis": "coloraxis",
          "line": {
           "color": "Black",
           "width": [
            2
           ]
          },
          "opacity": [
           0.2
          ],
          "size": [
           40
          ],
          "symbol": [
           "triangle-down"
          ]
         },
         "mode": "markers",
         "name": "Adaptive Boosting",
         "type": "scatter",
         "x": [
          6.4967942237854
         ],
         "y": [
          9.627924919128418
         ]
        },
        {
         "hovertext": [
          "MetaModel<br>Gradient Boosting<br>Performance: 81.92%<br>Model ID: meta_3<br>Accuracy: 83.61%<br>Precision: 85.19%<br>Recall: 83.61%<br>ROC AUC: 84.31<br>Geometric Mean: 84.3<br>Matthews Correlation: 68.84<br>F1: 83.58<br>Average Probability: 77.4"
         ],
         "marker": {
          "color": [
           81.92
          ],
          "coloraxis": "coloraxis",
          "line": {
           "color": "Black",
           "width": [
            2
           ]
          },
          "opacity": [
           0.8
          ],
          "size": [
           40
          ],
          "symbol": [
           "triangle-up"
          ]
         },
         "mode": "markers",
         "name": "Gradient Boosting",
         "type": "scatter",
         "x": [
          7.327826023101807
         ],
         "y": [
          11.472456932067871
         ]
        },
        {
         "hovertext": [
          "MetaModel<br>K-Nearest Neighbor<br>Performance: 79.27%<br>Model ID: meta_6<br>Accuracy: 81.97%<br>Precision: 81.95%<br>Recall: 81.97%<br>ROC AUC: 81.71<br>Geometric Mean: 81.71<br>Matthews Correlation: 63.63<br>F1: 81.94<br>Average Probability: 75.92"
         ],
         "marker": {
          "color": [
           79.27
          ],
          "coloraxis": "coloraxis",
          "line": {
           "color": "Black",
           "width": [
            2
           ]
          },
          "opacity": [
           0.8
          ],
          "size": [
           40
          ],
          "symbol": [
           "circle"
          ]
         },
         "mode": "markers",
         "name": "K-Nearest Neighbor",
         "type": "scatter",
         "x": [
          3.3705978393554688
         ],
         "y": [
          -5.252372741699219
         ]
        },
        {
         "hovertext": [
          "MetaModel<br>Support Vector Machine<br>Performance: 79.27%<br>Model ID: meta_10<br>Accuracy: 81.97%<br>Precision: 81.95%<br>Recall: 81.97%<br>ROC AUC: 81.71<br>Geometric Mean: 81.71<br>Matthews Correlation: 63.63<br>F1: 81.94<br>Average Probability: 72.84"
         ],
         "marker": {
          "color": [
           79.27
          ],
          "coloraxis": "coloraxis",
          "line": {
           "color": "Black",
           "width": [
            2
           ]
          },
          "opacity": [
           0.7
          ],
          "size": [
           40
          ],
          "symbol": [
           "square"
          ]
         },
         "mode": "markers",
         "name": "Support Vector Machine",
         "type": "scatter",
         "x": [
          5.059443950653076
         ],
         "y": [
          -3.5455000400543213
         ]
        },
        {
         "hovertext": [
          "Base Model<br>Gaussian Naive Bayes<br>Performance: 76.1%<br>Model ID: 1077<br>Accuracy: 78.69%<br>Precision: 79.75%<br>Recall: 78.69%<br>ROC AUC: 79.22<br>Geometric Mean: 79.22<br>Matthews Correlation: 58.44<br>F1: 78.69<br>Average Probability: 77.05",
          "Base Model<br>Gaussian Naive Bayes<br>Performance: 76.1%<br>Model ID: 1066<br>Accuracy: 78.69%<br>Precision: 79.75%<br>Recall: 78.69%<br>ROC AUC: 79.22<br>Geometric Mean: 79.22<br>Matthews Correlation: 58.44<br>F1: 78.69<br>Average Probability: 77.04",
          "Base Model<br>Gaussian Naive Bayes<br>Performance: 76.1%<br>Model ID: 1078<br>Accuracy: 78.69%<br>Precision: 79.75%<br>Recall: 78.69%<br>ROC AUC: 79.22<br>Geometric Mean: 79.22<br>Matthews Correlation: 58.44<br>F1: 78.69<br>Average Probability: 77.05",
          "Base Model<br>Gaussian Naive Bayes<br>Performance: 76.1%<br>Model ID: 1079<br>Accuracy: 78.69%<br>Precision: 79.75%<br>Recall: 78.69%<br>ROC AUC: 79.22<br>Geometric Mean: 79.22<br>Matthews Correlation: 58.44<br>F1: 78.69<br>Average Probability: 77.05",
          "Base Model<br>Gaussian Naive Bayes<br>Performance: 76.1%<br>Model ID: 737<br>Accuracy: 78.69%<br>Precision: 79.75%<br>Recall: 78.69%<br>ROC AUC: 79.22<br>Geometric Mean: 79.22<br>Matthews Correlation: 58.44<br>F1: 78.69<br>Average Probability: 77.04",
          "MetaModel<br>Gaussian Naive Bayes<br>Performance: 79.27%<br>Model ID: meta_1<br>Accuracy: 81.97%<br>Precision: 81.95%<br>Recall: 81.97%<br>ROC AUC: 81.71<br>Geometric Mean: 81.71<br>Matthews Correlation: 63.63<br>F1: 81.94<br>Average Probability: 81.99"
         ],
         "marker": {
          "color": [
           76.1,
           76.1,
           76.1,
           76.1,
           76.1,
           79.27
          ],
          "coloraxis": "coloraxis",
          "line": {
           "color": "Black",
           "width": [
            1,
            1,
            1,
            1,
            1,
            2
           ]
          },
          "opacity": [
           0.8,
           0.8,
           0.8,
           0.8,
           0.8,
           1
          ],
          "size": [
           20,
           20,
           20,
           20,
           20,
           40
          ],
          "symbol": [
           "x",
           "x",
           "x",
           "x",
           "x",
           "x"
          ]
         },
         "mode": "markers",
         "name": "Gaussian Naive Bayes",
         "type": "scatter",
         "x": [
          1.1210880279541016,
          0.4058320224285126,
          1.2506184577941895,
          0.1822703331708908,
          0.5644469261169434,
          5.49821138381958
         ],
         "y": [
          39.491397857666016,
          39.291648864746094,
          40.050323486328125,
          40.02383041381836,
          40.452022552490234,
          -5.114939212799072
         ]
        },
        {
         "hovertext": [
          "MetaModel<br>Multilayer Perceptron<br>Performance: 79.27%<br>Model ID: meta_9<br>Accuracy: 81.97%<br>Precision: 81.95%<br>Recall: 81.97%<br>ROC AUC: 81.71<br>Geometric Mean: 81.71<br>Matthews Correlation: 63.63<br>F1: 81.94<br>Average Probability: 73.34"
         ],
         "marker": {
          "color": [
           79.27
          ],
          "coloraxis": "coloraxis",
          "line": {
           "color": "Black",
           "width": [
            2
           ]
          },
          "opacity": [
           0.7
          ],
          "size": [
           40
          ],
          "symbol": [
           "cross"
          ]
         },
         "mode": "markers",
         "name": "Multilayer Perceptron",
         "type": "scatter",
         "x": [
          4.286462306976318
         ],
         "y": [
          -4.121199607849121
         ]
        },
        {
         "hovertext": [
          "MetaModel<br>Logistic Regression<br>Performance: 79.27%<br>Model ID: meta_8<br>Accuracy: 81.97%<br>Precision: 81.95%<br>Recall: 81.97%<br>ROC AUC: 81.71<br>Geometric Mean: 81.71<br>Matthews Correlation: 63.63<br>F1: 81.94<br>Average Probability: 74.5"
         ],
         "marker": {
          "color": [
           79.27
          ],
          "coloraxis": "coloraxis",
          "line": {
           "color": "Black",
           "width": [
            2
           ]
          },
          "opacity": [
           0.7
          ],
          "size": [
           40
          ],
          "symbol": [
           "diamond"
          ]
         },
         "mode": "markers",
         "name": "Logistic Regression",
         "type": "scatter",
         "x": [
          3.8729870319366455
         ],
         "y": [
          -4.6973876953125
         ]
        },
        {
         "hovertext": [
          "MetaModel<br>Linear Discriminant Analysis<br>Performance: 79.27%<br>Model ID: meta_4<br>Accuracy: 81.97%<br>Precision: 81.95%<br>Recall: 81.97%<br>ROC AUC: 81.71<br>Geometric Mean: 81.71<br>Matthews Correlation: 63.63<br>F1: 81.94<br>Average Probability: 79.45"
         ],
         "marker": {
          "color": [
           79.27
          ],
          "coloraxis": "coloraxis",
          "line": {
           "color": "Black",
           "width": [
            2
           ]
          },
          "opacity": [
           0.9
          ],
          "size": [
           40
          ],
          "symbol": [
           "star"
          ]
         },
         "mode": "markers",
         "name": "Linear Discriminant Analysis",
         "type": "scatter",
         "x": [
          4.761674404144287
         ],
         "y": [
          -5.061717987060547
         ]
        },
        {
         "hovertext": [
          "Base Model<br>Quadratic Discriminant Analysis<br>Performance: 81.12%<br>Model ID: 2271<br>Accuracy: 83.61%<br>Precision: 83.66%<br>Recall: 83.61%<br>ROC AUC: 83.23<br>Geometric Mean: 83.22<br>Matthews Correlation: 66.96<br>F1: 83.54<br>Average Probability: 77.54",
          "Base Model<br>Quadratic Discriminant Analysis<br>Performance: 81.12%<br>Model ID: 2272<br>Accuracy: 83.61%<br>Precision: 83.66%<br>Recall: 83.61%<br>ROC AUC: 83.23<br>Geometric Mean: 83.22<br>Matthews Correlation: 66.96<br>F1: 83.54<br>Average Probability: 77.54",
          "Base Model<br>Quadratic Discriminant Analysis<br>Performance: 81.12%<br>Model ID: 2273<br>Accuracy: 83.61%<br>Precision: 83.66%<br>Recall: 83.61%<br>ROC AUC: 83.23<br>Geometric Mean: 83.22<br>Matthews Correlation: 66.96<br>F1: 83.54<br>Average Probability: 77.54",
          "Base Model<br>Quadratic Discriminant Analysis<br>Performance: 81.12%<br>Model ID: 2274<br>Accuracy: 83.61%<br>Precision: 83.66%<br>Recall: 83.61%<br>ROC AUC: 83.23<br>Geometric Mean: 83.22<br>Matthews Correlation: 66.96<br>F1: 83.54<br>Average Probability: 77.54",
          "Base Model<br>Quadratic Discriminant Analysis<br>Performance: 81.12%<br>Model ID: 2264<br>Accuracy: 83.61%<br>Precision: 83.66%<br>Recall: 83.61%<br>ROC AUC: 83.23<br>Geometric Mean: 83.22<br>Matthews Correlation: 66.96<br>F1: 83.54<br>Average Probability: 77.54",
          "MetaModel<br>Quadratic Discriminant Analysis<br>Performance: 79.27%<br>Model ID: meta_5<br>Accuracy: 81.97%<br>Precision: 81.95%<br>Recall: 81.97%<br>ROC AUC: 81.71<br>Geometric Mean: 81.71<br>Matthews Correlation: 63.63<br>F1: 81.94<br>Average Probability: 78.5"
         ],
         "marker": {
          "color": [
           81.12,
           81.12,
           81.12,
           81.12,
           81.12,
           79.27
          ],
          "coloraxis": "coloraxis",
          "line": {
           "color": "Black",
           "width": [
            1,
            1,
            1,
            1,
            1,
            2
           ]
          },
          "opacity": [
           0.8,
           0.8,
           0.8,
           0.8,
           0.8,
           0.9
          ],
          "size": [
           20,
           20,
           20,
           20,
           20,
           40
          ],
          "symbol": [
           "hexagram",
           "hexagram",
           "hexagram",
           "hexagram",
           "hexagram",
           "hexagram"
          ]
         },
         "mode": "markers",
         "name": "Quadratic Discriminant Analysis",
         "type": "scatter",
         "x": [
          14.322449684143066,
          14.994711875915527,
          15.626352310180664,
          14.955697059631348,
          14.080513954162598,
          5.397736072540283
         ],
         "y": [
          13.480634689331055,
          13.269221305847168,
          13.904571533203125,
          14.125052452087402,
          14.21596622467041,
          -4.379021167755127
         ]
        },
        {
         "hovertext": [
          "MetaModel<br>Random Forest<br>Performance: 81.36%<br>Model ID: meta_2<br>Accuracy: 83.61%<br>Precision: 83.84%<br>Recall: 83.61%<br>ROC AUC: 83.77<br>Geometric Mean: 83.77<br>Matthews Correlation: 67.31<br>F1: 83.63<br>Average Probability: 78.36"
         ],
         "marker": {
          "color": [
           81.36
          ],
          "coloraxis": "coloraxis",
          "line": {
           "color": "Black",
           "width": [
            2
           ]
          },
          "opacity": [
           0.9
          ],
          "size": [
           40
          ],
          "symbol": [
           "triangle-right"
          ]
         },
         "mode": "markers",
         "name": "Random Forest",
         "type": "scatter",
         "x": [
          2.07316517829895
         ],
         "y": [
          -4.58358097076416
         ]
        },
        {
         "hovertext": [
          "MetaModel<br>Extra Trees<br>Performance: 77.44%<br>Model ID: meta_7<br>Accuracy: 80.33%<br>Precision: 80.33%<br>Recall: 80.33%<br>ROC AUC: 80.19<br>Geometric Mean: 80.19<br>Matthews Correlation: 60.39<br>F1: 80.33<br>Average Probability: 77.57"
         ],
         "marker": {
          "color": [
           77.44
          ],
          "coloraxis": "coloraxis",
          "line": {
           "color": "Black",
           "width": [
            2
           ]
          },
          "opacity": [
           0.8
          ],
          "size": [
           40
          ],
          "symbol": [
           "triangle-left"
          ]
         },
         "mode": "markers",
         "name": "Extra Trees",
         "type": "scatter",
         "x": [
          2.7222702503204346
         ],
         "y": [
          -4.638202667236328
         ]
        },
        {
         "hovertext": [
          "MetaModel<br>Adaptive Boosting<br>Performance: 81.12%<br>Model ID: meta_11<br>Accuracy: 83.61%<br>Precision: 83.66%<br>Recall: 83.61%<br>ROC AUC: 83.23<br>Geometric Mean: 83.22<br>Matthews Correlation: 66.96<br>F1: 83.54<br>Average Probability: 60.83"
         ],
         "marker": {
          "color": [
           81.12
          ],
          "coloraxis": "coloraxis",
          "line": {
           "color": "Black",
           "width": [
            2
           ]
          },
          "opacity": [
           0.2
          ],
          "size": [
           40
          ],
          "symbol": [
           "triangle-down"
          ]
         },
         "mode": "markers",
         "name": "Adaptive Boosting",
         "type": "scatter",
         "x": [
          4.028094291687012
         ],
         "y": [
          -3.477114677429199
         ]
        },
        {
         "hovertext": [
          "MetaModel<br>Gradient Boosting<br>Performance: 81.92%<br>Model ID: meta_3<br>Accuracy: 83.61%<br>Precision: 85.19%<br>Recall: 83.61%<br>ROC AUC: 84.31<br>Geometric Mean: 84.3<br>Matthews Correlation: 68.84<br>F1: 83.58<br>Average Probability: 77.4"
         ],
         "marker": {
          "color": [
           81.92
          ],
          "coloraxis": "coloraxis",
          "line": {
           "color": "Black",
           "width": [
            2
           ]
          },
          "opacity": [
           0.8
          ],
          "size": [
           40
          ],
          "symbol": [
           "triangle-up"
          ]
         },
         "mode": "markers",
         "name": "Gradient Boosting",
         "type": "scatter",
         "x": [
          2.4653842449188232
         ],
         "y": [
          -3.7190821170806885
         ]
        },
        {
         "marker": {
          "color": "Black",
          "line": {
           "color": "Black",
           "width": 0
          },
          "opacity": 0,
          "size": 0,
          "symbol": 1
         },
         "mode": "markers",
         "name": "K-Nearest Neighbor",
         "type": "scatter",
         "x": [
          0
         ],
         "y": [
          0
         ]
        },
        {
         "marker": {
          "color": "Black",
          "line": {
           "color": "Black",
           "width": 0
          },
          "opacity": 0,
          "size": 0,
          "symbol": 2
         },
         "mode": "markers",
         "name": "Support Vector Machine",
         "type": "scatter",
         "x": [
          0
         ],
         "y": [
          0
         ]
        },
        {
         "marker": {
          "color": "Black",
          "line": {
           "color": "Black",
           "width": 0
          },
          "opacity": 0,
          "size": 0,
          "symbol": 3
         },
         "mode": "markers",
         "name": "Gaussian Naive Bayes",
         "type": "scatter",
         "x": [
          0
         ],
         "y": [
          0
         ]
        },
        {
         "marker": {
          "color": "Black",
          "line": {
           "color": "Black",
           "width": 0
          },
          "opacity": 0,
          "size": 0,
          "symbol": 4
         },
         "mode": "markers",
         "name": "Multilayer Perceptron",
         "type": "scatter",
         "x": [
          0
         ],
         "y": [
          0
         ]
        },
        {
         "marker": {
          "color": "Black",
          "line": {
           "color": "Black",
           "width": 0
          },
          "opacity": 0,
          "size": 0,
          "symbol": 5
         },
         "mode": "markers",
         "name": "Logistic Regression",
         "type": "scatter",
         "x": [
          0
         ],
         "y": [
          0
         ]
        },
        {
         "marker": {
          "color": "Black",
          "line": {
           "color": "Black",
           "width": 0
          },
          "opacity": 0,
          "size": 0,
          "symbol": 6
         },
         "mode": "markers",
         "name": "Linear Discriminant Analysis",
         "type": "scatter",
         "x": [
          0
         ],
         "y": [
          0
         ]
        },
        {
         "marker": {
          "color": "Black",
          "line": {
           "color": "Black",
           "width": 0
          },
          "opacity": 0,
          "size": 0,
          "symbol": 7
         },
         "mode": "markers",
         "name": "Quadratic Discriminant Analysis",
         "type": "scatter",
         "x": [
          0
         ],
         "y": [
          0
         ]
        },
        {
         "marker": {
          "color": "Black",
          "line": {
           "color": "Black",
           "width": 0
          },
          "opacity": 0,
          "size": 0,
          "symbol": 8
         },
         "mode": "markers",
         "name": "Random Forest",
         "type": "scatter",
         "x": [
          0
         ],
         "y": [
          0
         ]
        },
        {
         "marker": {
          "color": "Black",
          "line": {
           "color": "Black",
           "width": 0
          },
          "opacity": 0,
          "size": 0,
          "symbol": 9
         },
         "mode": "markers",
         "name": "Extra Trees",
         "type": "scatter",
         "x": [
          0
         ],
         "y": [
          0
         ]
        },
        {
         "marker": {
          "color": "Black",
          "line": {
           "color": "Black",
           "width": 0
          },
          "opacity": 0,
          "size": 0,
          "symbol": 10
         },
         "mode": "markers",
         "name": "Adaptive Boosting",
         "type": "scatter",
         "x": [
          0
         ],
         "y": [
          0
         ]
        },
        {
         "marker": {
          "color": "Black",
          "line": {
           "color": "Black",
           "width": 0
          },
          "opacity": 0,
          "size": 0,
          "symbol": 11
         },
         "mode": "markers",
         "name": "Gradient Boosting",
         "type": "scatter",
         "x": [
          0
         ],
         "y": [
          0
         ]
        }
       ],
       "layout": {
        "coloraxis": {
         "cmax": 90,
         "cmin": 70,
         "colorbar": {
          "title": {
           "side": "right",
           "text": "Metric-Based Performance"
          }
         },
         "colorscale": [
          [
           0,
           "#440154"
          ],
          [
           0.1111111111111111,
           "#482878"
          ],
          [
           0.2222222222222222,
           "#3e4989"
          ],
          [
           0.3333333333333333,
           "#31688e"
          ],
          [
           0.4444444444444444,
           "#26828e"
          ],
          [
           0.5555555555555556,
           "#1f9e89"
          ],
          [
           0.6666666666666666,
           "#35b779"
          ],
          [
           0.7777777777777778,
           "#6ece58"
          ],
          [
           0.8888888888888888,
           "#b5de2b"
          ],
          [
           1,
           "#fde725"
          ]
         ]
        },
        "height": 500,
        "hoverlabel": {
         "bgcolor": "white",
         "font": {
          "family": "Rockwell",
          "size": 14
         }
        },
        "hovermode": "closest",
        "margin": {
         "b": 0,
         "l": 0,
         "r": 0,
         "t": 0
        },
        "paper_bgcolor": "rgba(0,0,0,0)",
        "plot_bgcolor": "rgba(0,0,0,0)",
        "showlegend": false,
        "template": {
         "data": {
          "bar": [
           {
            "error_x": {
             "color": "#2a3f5f"
            },
            "error_y": {
             "color": "#2a3f5f"
            },
            "marker": {
             "line": {
              "color": "#E5ECF6",
              "width": 0.5
             },
             "pattern": {
              "fillmode": "overlay",
              "size": 10,
              "solidity": 0.2
             }
            },
            "type": "bar"
           }
          ],
          "barpolar": [
           {
            "marker": {
             "line": {
              "color": "#E5ECF6",
              "width": 0.5
             },
             "pattern": {
              "fillmode": "overlay",
              "size": 10,
              "solidity": 0.2
             }
            },
            "type": "barpolar"
           }
          ],
          "carpet": [
           {
            "aaxis": {
             "endlinecolor": "#2a3f5f",
             "gridcolor": "white",
             "linecolor": "white",
             "minorgridcolor": "white",
             "startlinecolor": "#2a3f5f"
            },
            "baxis": {
             "endlinecolor": "#2a3f5f",
             "gridcolor": "white",
             "linecolor": "white",
             "minorgridcolor": "white",
             "startlinecolor": "#2a3f5f"
            },
            "type": "carpet"
           }
          ],
          "choropleth": [
           {
            "colorbar": {
             "outlinewidth": 0,
             "ticks": ""
            },
            "type": "choropleth"
           }
          ],
          "contour": [
           {
            "colorbar": {
             "outlinewidth": 0,
             "ticks": ""
            },
            "colorscale": [
             [
              0,
              "#0d0887"
             ],
             [
              0.1111111111111111,
              "#46039f"
             ],
             [
              0.2222222222222222,
              "#7201a8"
             ],
             [
              0.3333333333333333,
              "#9c179e"
             ],
             [
              0.4444444444444444,
              "#bd3786"
             ],
             [
              0.5555555555555556,
              "#d8576b"
             ],
             [
              0.6666666666666666,
              "#ed7953"
             ],
             [
              0.7777777777777778,
              "#fb9f3a"
             ],
             [
              0.8888888888888888,
              "#fdca26"
             ],
             [
              1,
              "#f0f921"
             ]
            ],
            "type": "contour"
           }
          ],
          "contourcarpet": [
           {
            "colorbar": {
             "outlinewidth": 0,
             "ticks": ""
            },
            "type": "contourcarpet"
           }
          ],
          "heatmap": [
           {
            "colorbar": {
             "outlinewidth": 0,
             "ticks": ""
            },
            "colorscale": [
             [
              0,
              "#0d0887"
             ],
             [
              0.1111111111111111,
              "#46039f"
             ],
             [
              0.2222222222222222,
              "#7201a8"
             ],
             [
              0.3333333333333333,
              "#9c179e"
             ],
             [
              0.4444444444444444,
              "#bd3786"
             ],
             [
              0.5555555555555556,
              "#d8576b"
             ],
             [
              0.6666666666666666,
              "#ed7953"
             ],
             [
              0.7777777777777778,
              "#fb9f3a"
             ],
             [
              0.8888888888888888,
              "#fdca26"
             ],
             [
              1,
              "#f0f921"
             ]
            ],
            "type": "heatmap"
           }
          ],
          "heatmapgl": [
           {
            "colorbar": {
             "outlinewidth": 0,
             "ticks": ""
            },
            "colorscale": [
             [
              0,
              "#0d0887"
             ],
             [
              0.1111111111111111,
              "#46039f"
             ],
             [
              0.2222222222222222,
              "#7201a8"
             ],
             [
              0.3333333333333333,
              "#9c179e"
             ],
             [
              0.4444444444444444,
              "#bd3786"
             ],
             [
              0.5555555555555556,
              "#d8576b"
             ],
             [
              0.6666666666666666,
              "#ed7953"
             ],
             [
              0.7777777777777778,
              "#fb9f3a"
             ],
             [
              0.8888888888888888,
              "#fdca26"
             ],
             [
              1,
              "#f0f921"
             ]
            ],
            "type": "heatmapgl"
           }
          ],
          "histogram": [
           {
            "marker": {
             "pattern": {
              "fillmode": "overlay",
              "size": 10,
              "solidity": 0.2
             }
            },
            "type": "histogram"
           }
          ],
          "histogram2d": [
           {
            "colorbar": {
             "outlinewidth": 0,
             "ticks": ""
            },
            "colorscale": [
             [
              0,
              "#0d0887"
             ],
             [
              0.1111111111111111,
              "#46039f"
             ],
             [
              0.2222222222222222,
              "#7201a8"
             ],
             [
              0.3333333333333333,
              "#9c179e"
             ],
             [
              0.4444444444444444,
              "#bd3786"
             ],
             [
              0.5555555555555556,
              "#d8576b"
             ],
             [
              0.6666666666666666,
              "#ed7953"
             ],
             [
              0.7777777777777778,
              "#fb9f3a"
             ],
             [
              0.8888888888888888,
              "#fdca26"
             ],
             [
              1,
              "#f0f921"
             ]
            ],
            "type": "histogram2d"
           }
          ],
          "histogram2dcontour": [
           {
            "colorbar": {
             "outlinewidth": 0,
             "ticks": ""
            },
            "colorscale": [
             [
              0,
              "#0d0887"
             ],
             [
              0.1111111111111111,
              "#46039f"
             ],
             [
              0.2222222222222222,
              "#7201a8"
             ],
             [
              0.3333333333333333,
              "#9c179e"
             ],
             [
              0.4444444444444444,
              "#bd3786"
             ],
             [
              0.5555555555555556,
              "#d8576b"
             ],
             [
              0.6666666666666666,
              "#ed7953"
             ],
             [
              0.7777777777777778,
              "#fb9f3a"
             ],
             [
              0.8888888888888888,
              "#fdca26"
             ],
             [
              1,
              "#f0f921"
             ]
            ],
            "type": "histogram2dcontour"
           }
          ],
          "mesh3d": [
           {
            "colorbar": {
             "outlinewidth": 0,
             "ticks": ""
            },
            "type": "mesh3d"
           }
          ],
          "parcoords": [
           {
            "line": {
             "colorbar": {
              "outlinewidth": 0,
              "ticks": ""
             }
            },
            "type": "parcoords"
           }
          ],
          "pie": [
           {
            "automargin": true,
            "type": "pie"
           }
          ],
          "scatter": [
           {
            "fillpattern": {
             "fillmode": "overlay",
             "size": 10,
             "solidity": 0.2
            },
            "type": "scatter"
           }
          ],
          "scatter3d": [
           {
            "line": {
             "colorbar": {
              "outlinewidth": 0,
              "ticks": ""
             }
            },
            "marker": {
             "colorbar": {
              "outlinewidth": 0,
              "ticks": ""
             }
            },
            "type": "scatter3d"
           }
          ],
          "scattercarpet": [
           {
            "marker": {
             "colorbar": {
              "outlinewidth": 0,
              "ticks": ""
             }
            },
            "type": "scattercarpet"
           }
          ],
          "scattergeo": [
           {
            "marker": {
             "colorbar": {
              "outlinewidth": 0,
              "ticks": ""
             }
            },
            "type": "scattergeo"
           }
          ],
          "scattergl": [
           {
            "marker": {
             "colorbar": {
              "outlinewidth": 0,
              "ticks": ""
             }
            },
            "type": "scattergl"
           }
          ],
          "scattermapbox": [
           {
            "marker": {
             "colorbar": {
              "outlinewidth": 0,
              "ticks": ""
             }
            },
            "type": "scattermapbox"
           }
          ],
          "scatterpolar": [
           {
            "marker": {
             "colorbar": {
              "outlinewidth": 0,
              "ticks": ""
             }
            },
            "type": "scatterpolar"
           }
          ],
          "scatterpolargl": [
           {
            "marker": {
             "colorbar": {
              "outlinewidth": 0,
              "ticks": ""
             }
            },
            "type": "scatterpolargl"
           }
          ],
          "scatterternary": [
           {
            "marker": {
             "colorbar": {
              "outlinewidth": 0,
              "ticks": ""
             }
            },
            "type": "scatterternary"
           }
          ],
          "surface": [
           {
            "colorbar": {
             "outlinewidth": 0,
             "ticks": ""
            },
            "colorscale": [
             [
              0,
              "#0d0887"
             ],
             [
              0.1111111111111111,
              "#46039f"
             ],
             [
              0.2222222222222222,
              "#7201a8"
             ],
             [
              0.3333333333333333,
              "#9c179e"
             ],
             [
              0.4444444444444444,
              "#bd3786"
             ],
             [
              0.5555555555555556,
              "#d8576b"
             ],
             [
              0.6666666666666666,
              "#ed7953"
             ],
             [
              0.7777777777777778,
              "#fb9f3a"
             ],
             [
              0.8888888888888888,
              "#fdca26"
             ],
             [
              1,
              "#f0f921"
             ]
            ],
            "type": "surface"
           }
          ],
          "table": [
           {
            "cells": {
             "fill": {
              "color": "#EBF0F8"
             },
             "line": {
              "color": "white"
             }
            },
            "header": {
             "fill": {
              "color": "#C8D4E3"
             },
             "line": {
              "color": "white"
             }
            },
            "type": "table"
           }
          ]
         },
         "layout": {
          "annotationdefaults": {
           "arrowcolor": "#2a3f5f",
           "arrowhead": 0,
           "arrowwidth": 1
          },
          "autotypenumbers": "strict",
          "coloraxis": {
           "colorbar": {
            "outlinewidth": 0,
            "ticks": ""
           }
          },
          "colorscale": {
           "diverging": [
            [
             0,
             "#8e0152"
            ],
            [
             0.1,
             "#c51b7d"
            ],
            [
             0.2,
             "#de77ae"
            ],
            [
             0.3,
             "#f1b6da"
            ],
            [
             0.4,
             "#fde0ef"
            ],
            [
             0.5,
             "#f7f7f7"
            ],
            [
             0.6,
             "#e6f5d0"
            ],
            [
             0.7,
             "#b8e186"
            ],
            [
             0.8,
             "#7fbc41"
            ],
            [
             0.9,
             "#4d9221"
            ],
            [
             1,
             "#276419"
            ]
           ],
           "sequential": [
            [
             0,
             "#0d0887"
            ],
            [
             0.1111111111111111,
             "#46039f"
            ],
            [
             0.2222222222222222,
             "#7201a8"
            ],
            [
             0.3333333333333333,
             "#9c179e"
            ],
            [
             0.4444444444444444,
             "#bd3786"
            ],
            [
             0.5555555555555556,
             "#d8576b"
            ],
            [
             0.6666666666666666,
             "#ed7953"
            ],
            [
             0.7777777777777778,
             "#fb9f3a"
            ],
            [
             0.8888888888888888,
             "#fdca26"
            ],
            [
             1,
             "#f0f921"
            ]
           ],
           "sequentialminus": [
            [
             0,
             "#0d0887"
            ],
            [
             0.1111111111111111,
             "#46039f"
            ],
            [
             0.2222222222222222,
             "#7201a8"
            ],
            [
             0.3333333333333333,
             "#9c179e"
            ],
            [
             0.4444444444444444,
             "#bd3786"
            ],
            [
             0.5555555555555556,
             "#d8576b"
            ],
            [
             0.6666666666666666,
             "#ed7953"
            ],
            [
             0.7777777777777778,
             "#fb9f3a"
            ],
            [
             0.8888888888888888,
             "#fdca26"
            ],
            [
             1,
             "#f0f921"
            ]
           ]
          },
          "colorway": [
           "#636efa",
           "#EF553B",
           "#00cc96",
           "#ab63fa",
           "#FFA15A",
           "#19d3f3",
           "#FF6692",
           "#B6E880",
           "#FF97FF",
           "#FECB52"
          ],
          "font": {
           "color": "#2a3f5f"
          },
          "geo": {
           "bgcolor": "white",
           "lakecolor": "white",
           "landcolor": "#E5ECF6",
           "showlakes": true,
           "showland": true,
           "subunitcolor": "white"
          },
          "hoverlabel": {
           "align": "left"
          },
          "hovermode": "closest",
          "mapbox": {
           "style": "light"
          },
          "paper_bgcolor": "white",
          "plot_bgcolor": "#E5ECF6",
          "polar": {
           "angularaxis": {
            "gridcolor": "white",
            "linecolor": "white",
            "ticks": ""
           },
           "bgcolor": "#E5ECF6",
           "radialaxis": {
            "gridcolor": "white",
            "linecolor": "white",
            "ticks": ""
           }
          },
          "scene": {
           "xaxis": {
            "backgroundcolor": "#E5ECF6",
            "gridcolor": "white",
            "gridwidth": 2,
            "linecolor": "white",
            "showbackground": true,
            "ticks": "",
            "zerolinecolor": "white"
           },
           "yaxis": {
            "backgroundcolor": "#E5ECF6",
            "gridcolor": "white",
            "gridwidth": 2,
            "linecolor": "white",
            "showbackground": true,
            "ticks": "",
            "zerolinecolor": "white"
           },
           "zaxis": {
            "backgroundcolor": "#E5ECF6",
            "gridcolor": "white",
            "gridwidth": 2,
            "linecolor": "white",
            "showbackground": true,
            "ticks": "",
            "zerolinecolor": "white"
           }
          },
          "shapedefaults": {
           "line": {
            "color": "#2a3f5f"
           }
          },
          "ternary": {
           "aaxis": {
            "gridcolor": "white",
            "linecolor": "white",
            "ticks": ""
           },
           "baxis": {
            "gridcolor": "white",
            "linecolor": "white",
            "ticks": ""
           },
           "bgcolor": "#E5ECF6",
           "caxis": {
            "gridcolor": "white",
            "linecolor": "white",
            "ticks": ""
           }
          },
          "title": {
           "x": 0.05
          },
          "xaxis": {
           "automargin": true,
           "gridcolor": "white",
           "linecolor": "white",
           "ticks": "",
           "title": {
            "standoff": 15
           },
           "zerolinecolor": "white",
           "zerolinewidth": 2
          },
          "yaxis": {
           "automargin": true,
           "gridcolor": "white",
           "linecolor": "white",
           "ticks": "",
           "title": {
            "standoff": 15
           },
           "zerolinecolor": "white",
           "zerolinewidth": 2
          }
         }
        },
        "title": {
         "text": "df_model_cluster_3"
        },
        "width": 1000,
        "xaxis": {
         "showticklabels": false
        },
        "yaxis": {
         "showticklabels": false
        }
       }
      }
     },
     "metadata": {},
     "output_type": "display_data"
    }
   ],
   "source": [
    "import plotly\n",
    "# read figure from json file\n",
    "fig = go.Figure(plotly.io.read_json('test_umap.json'))\n",
    "\n",
    "fig.show()"
   ]
  },
  {
   "cell_type": "code",
   "execution_count": 23,
   "metadata": {},
   "outputs": [
    {
     "data": {
      "application/vnd.plotly.v1+json": {
       "config": {
        "plotlyServerURL": "https://plot.ly"
       },
       "data": [
        {
         "hovertext": [
          "K-Nearest Neighbor<br>Performance: 73.54%<br>Model ID: 249<br>Accuracy: 77.05%<br>Precision: 77.78%<br>Recall: 77.05%<br>ROC AUC: 76.08<br>Geometric Mean: 76.08<br>Matthews Correlation: 54.13<br>F1: 76.63<br>Average Probability: 64.59",
          "K-Nearest Neighbor<br>Performance: 73.54%<br>Model ID: 440<br>Accuracy: 77.05%<br>Precision: 77.78%<br>Recall: 77.05%<br>ROC AUC: 76.08<br>Geometric Mean: 76.08<br>Matthews Correlation: 54.13<br>F1: 76.63<br>Average Probability: 67.94",
          "K-Nearest Neighbor<br>Performance: 73.54%<br>Model ID: 250<br>Accuracy: 77.05%<br>Precision: 77.78%<br>Recall: 77.05%<br>ROC AUC: 76.08<br>Geometric Mean: 76.08<br>Matthews Correlation: 54.13<br>F1: 76.63<br>Average Probability: 65.3",
          "K-Nearest Neighbor<br>Performance: 73.54%<br>Model ID: 252<br>Accuracy: 77.05%<br>Precision: 77.78%<br>Recall: 77.05%<br>ROC AUC: 76.08<br>Geometric Mean: 76.08<br>Matthews Correlation: 54.13<br>F1: 76.63<br>Average Probability: 64.41",
          "K-Nearest Neighbor<br>Performance: 73.54%<br>Model ID: 60<br>Accuracy: 77.05%<br>Precision: 77.78%<br>Recall: 77.05%<br>ROC AUC: 76.08<br>Geometric Mean: 76.08<br>Matthews Correlation: 54.13<br>F1: 76.63<br>Average Probability: 64.37",
          "K-Nearest Neighbor<br>Performance: 81.2%<br>Model ID: meta_6<br>Accuracy: 83.61%<br>Precision: 83.61%<br>Recall: 83.61%<br>ROC AUC: 83.5<br>Geometric Mean: 83.5<br>Matthews Correlation: 66.99<br>F1: 83.61<br>Average Probability: 76.03"
         ],
         "marker": {
          "color": [
           73.54,
           73.54,
           73.54,
           73.54,
           73.54,
           81.2
          ],
          "coloraxis": "coloraxis",
          "line": {
           "color": "Black",
           "width": 1
          },
          "opacity": [
           0.5,
           0.6,
           0.5,
           0.5,
           0.5,
           0.7
          ],
          "size": [
           20,
           20,
           20,
           20,
           20,
           40
          ],
          "symbol": [
           "circle",
           "circle",
           "circle",
           "circle",
           "circle",
           "circle"
          ]
         },
         "mode": "markers",
         "name": "K-Nearest Neighbor",
         "type": "scatter",
         "x": [
          -22.737600326538086,
          -22.032787322998047,
          -22.289419174194336,
          -22.961618423461914,
          -22.473724365234375,
          5.3298659324646
         ],
         "y": [
          4.157831192016602,
          4.863131523132324,
          4.607080936431885,
          3.934779405593872,
          4.422690391540527,
          -8.538297653198242
         ]
        },
        {
         "hovertext": [
          "Support Vector Machine<br>Performance: 83.03%<br>Model ID: 614<br>Accuracy: 85.25%<br>Precision: 85.24%<br>Recall: 85.25%<br>ROC AUC: 85.01<br>Geometric Mean: 85.01<br>Matthews Correlation: 70.25<br>F1: 85.22<br>Average Probability: 73.24",
          "Support Vector Machine<br>Performance: 83.03%<br>Model ID: 606<br>Accuracy: 85.25%<br>Precision: 85.24%<br>Recall: 85.25%<br>ROC AUC: 85.01<br>Geometric Mean: 85.01<br>Matthews Correlation: 70.25<br>F1: 85.22<br>Average Probability: 73.34",
          "Support Vector Machine<br>Performance: 83.03%<br>Model ID: 586<br>Accuracy: 85.25%<br>Precision: 85.24%<br>Recall: 85.25%<br>ROC AUC: 85.01<br>Geometric Mean: 85.01<br>Matthews Correlation: 70.25<br>F1: 85.22<br>Average Probability: 73.99",
          "Support Vector Machine<br>Performance: 83.03%<br>Model ID: 598<br>Accuracy: 85.25%<br>Precision: 85.24%<br>Recall: 85.25%<br>ROC AUC: 85.01<br>Geometric Mean: 85.01<br>Matthews Correlation: 70.25<br>F1: 85.22<br>Average Probability: 73.62",
          "Support Vector Machine<br>Performance: 83.03%<br>Model ID: 610<br>Accuracy: 85.25%<br>Precision: 85.24%<br>Recall: 85.25%<br>ROC AUC: 85.01<br>Geometric Mean: 85.01<br>Matthews Correlation: 70.25<br>F1: 85.22<br>Average Probability: 73.21",
          "Support Vector Machine<br>Performance: 83.15%<br>Model ID: meta_7<br>Accuracy: 85.25%<br>Precision: 85.32%<br>Recall: 85.25%<br>ROC AUC: 85.28<br>Geometric Mean: 85.28<br>Matthews Correlation: 70.41<br>F1: 85.26<br>Average Probability: 74.18"
         ],
         "marker": {
          "color": [
           83.03,
           83.03,
           83.03,
           83.03,
           83.03,
           83.15
          ],
          "coloraxis": "coloraxis",
          "line": {
           "color": "Black",
           "width": 1
          },
          "opacity": [
           0.7,
           0.7,
           0.7,
           0.7,
           0.7,
           0.7
          ],
          "size": [
           20,
           20,
           20,
           20,
           20,
           40
          ],
          "symbol": [
           "square",
           "square",
           "square",
           "square",
           "square",
           "square"
          ]
         },
         "mode": "markers",
         "name": "Support Vector Machine",
         "type": "scatter",
         "x": [
          21.297779083251953,
          20.476163864135742,
          20.200071334838867,
          20.567583084106445,
          20.872304916381836,
          3.899458408355713
         ],
         "y": [
          -7.232064247131348,
          -7.25721549987793,
          -6.61747407913208,
          -6.718744277954102,
          -7.077248573303223,
          -8.485185623168945
         ]
        },
        {
         "hovertext": [
          "Gaussian Naive Bayes<br>Performance: 76.1%<br>Model ID: 1077<br>Accuracy: 78.69%<br>Precision: 79.75%<br>Recall: 78.69%<br>ROC AUC: 79.22<br>Geometric Mean: 79.22<br>Matthews Correlation: 58.44<br>F1: 78.69<br>Average Probability: 77.05",
          "Gaussian Naive Bayes<br>Performance: 76.1%<br>Model ID: 1066<br>Accuracy: 78.69%<br>Precision: 79.75%<br>Recall: 78.69%<br>ROC AUC: 79.22<br>Geometric Mean: 79.22<br>Matthews Correlation: 58.44<br>F1: 78.69<br>Average Probability: 77.04",
          "Gaussian Naive Bayes<br>Performance: 76.1%<br>Model ID: 1078<br>Accuracy: 78.69%<br>Precision: 79.75%<br>Recall: 78.69%<br>ROC AUC: 79.22<br>Geometric Mean: 79.22<br>Matthews Correlation: 58.44<br>F1: 78.69<br>Average Probability: 77.05",
          "Gaussian Naive Bayes<br>Performance: 76.1%<br>Model ID: 1079<br>Accuracy: 78.69%<br>Precision: 79.75%<br>Recall: 78.69%<br>ROC AUC: 79.22<br>Geometric Mean: 79.22<br>Matthews Correlation: 58.44<br>F1: 78.69<br>Average Probability: 77.05",
          "Gaussian Naive Bayes<br>Performance: 76.1%<br>Model ID: 737<br>Accuracy: 78.69%<br>Precision: 79.75%<br>Recall: 78.69%<br>ROC AUC: 79.22<br>Geometric Mean: 79.22<br>Matthews Correlation: 58.44<br>F1: 78.69<br>Average Probability: 77.04",
          "Gaussian Naive Bayes<br>Performance: 84.96%<br>Model ID: meta_1<br>Accuracy: 86.89%<br>Precision: 86.89%<br>Recall: 86.89%<br>ROC AUC: 86.8<br>Geometric Mean: 86.8<br>Matthews Correlation: 73.59<br>F1: 86.89<br>Average Probability: 86.75"
         ],
         "marker": {
          "color": [
           76.1,
           76.1,
           76.1,
           76.1,
           76.1,
           84.96
          ],
          "coloraxis": "coloraxis",
          "line": {
           "color": "Black",
           "width": 1
          },
          "opacity": [
           0.8,
           0.8,
           0.8,
           0.8,
           0.8,
           1
          ],
          "size": [
           20,
           20,
           20,
           20,
           20,
           40
          ],
          "symbol": [
           "x",
           "x",
           "x",
           "x",
           "x",
           "x"
          ]
         },
         "mode": "markers",
         "name": "Gaussian Naive Bayes",
         "type": "scatter",
         "x": [
          14.486665725708008,
          14.083710670471191,
          13.979740142822266,
          13.869465827941895,
          14.202527046203613,
          3.70824933052063
         ],
         "y": [
          28.108442306518555,
          28.434314727783203,
          27.738725662231445,
          28.16433334350586,
          28.90810203552246,
          -7.72767972946167
         ]
        },
        {
         "hovertext": [
          "Multilayer Perceptron<br>Performance: 79.87%<br>Model ID: 1261<br>Accuracy: 81.97%<br>Precision: 83.08%<br>Recall: 81.97%<br>ROC AUC: 82.52<br>Geometric Mean: 82.52<br>Matthews Correlation: 65.04<br>F1: 81.97<br>Average Probability: 70.73",
          "Multilayer Perceptron<br>Performance: 79.87%<br>Model ID: 1262<br>Accuracy: 81.97%<br>Precision: 83.08%<br>Recall: 81.97%<br>ROC AUC: 82.52<br>Geometric Mean: 82.52<br>Matthews Correlation: 65.04<br>F1: 81.97<br>Average Probability: 70.73",
          "Multilayer Perceptron<br>Performance: 79.87%<br>Model ID: 1263<br>Accuracy: 81.97%<br>Precision: 83.08%<br>Recall: 81.97%<br>ROC AUC: 82.52<br>Geometric Mean: 82.52<br>Matthews Correlation: 65.04<br>F1: 81.97<br>Average Probability: 70.73",
          "Multilayer Perceptron<br>Performance: 79.87%<br>Model ID: 1249<br>Accuracy: 81.97%<br>Precision: 83.08%<br>Recall: 81.97%<br>ROC AUC: 82.52<br>Geometric Mean: 82.52<br>Matthews Correlation: 65.04<br>F1: 81.97<br>Average Probability: 70.95",
          "Multilayer Perceptron<br>Performance: 79.87%<br>Model ID: 1237<br>Accuracy: 81.97%<br>Precision: 83.08%<br>Recall: 81.97%<br>ROC AUC: 82.52<br>Geometric Mean: 82.52<br>Matthews Correlation: 65.04<br>F1: 81.97<br>Average Probability: 70.77",
          "Multilayer Perceptron<br>Performance: 79.27%<br>Model ID: meta_9<br>Accuracy: 81.97%<br>Precision: 81.95%<br>Recall: 81.97%<br>ROC AUC: 81.71<br>Geometric Mean: 81.71<br>Matthews Correlation: 63.63<br>F1: 81.94<br>Average Probability: 74.04"
         ],
         "marker": {
          "color": [
           79.87,
           79.87,
           79.87,
           79.87,
           79.87,
           79.27
          ],
          "coloraxis": "coloraxis",
          "line": {
           "color": "Black",
           "width": 1
          },
          "opacity": [
           0.6,
           0.6,
           0.6,
           0.6,
           0.6,
           0.7
          ],
          "size": [
           20,
           20,
           20,
           20,
           20,
           40
          ],
          "symbol": [
           "cross",
           "cross",
           "cross",
           "cross",
           "cross",
           "cross"
          ]
         },
         "mode": "markers",
         "name": "Multilayer Perceptron",
         "type": "scatter",
         "x": [
          -22.180809020996094,
          -22.372028350830078,
          -21.76504135131836,
          -22.215408325195312,
          -21.63042640686035,
          4.3794026374816895
         ],
         "y": [
          -21.63385009765625,
          -21.825063705444336,
          -21.21808433532715,
          -21.668441772460938,
          -21.083457946777344,
          -8.842132568359375
         ]
        },
        {
         "hovertext": [
          "Logistic Regression<br>Performance: 84.92%<br>Model ID: 1453<br>Accuracy: 86.89%<br>Precision: 87.4%<br>Recall: 86.89%<br>ROC AUC: 86.26<br>Geometric Mean: 86.25<br>Matthews Correlation: 73.97<br>F1: 86.76<br>Average Probability: 75.28",
          "Logistic Regression<br>Performance: 84.92%<br>Model ID: 1973<br>Accuracy: 86.89%<br>Precision: 87.4%<br>Recall: 86.89%<br>ROC AUC: 86.26<br>Geometric Mean: 86.25<br>Matthews Correlation: 73.97<br>F1: 86.76<br>Average Probability: 75.68",
          "Logistic Regression<br>Performance: 84.92%<br>Model ID: 1945<br>Accuracy: 86.89%<br>Precision: 87.4%<br>Recall: 86.89%<br>ROC AUC: 86.26<br>Geometric Mean: 86.25<br>Matthews Correlation: 73.97<br>F1: 86.76<br>Average Probability: 75.89",
          "Logistic Regression<br>Performance: 84.92%<br>Model ID: 1721<br>Accuracy: 86.89%<br>Precision: 87.4%<br>Recall: 86.89%<br>ROC AUC: 86.26<br>Geometric Mean: 86.25<br>Matthews Correlation: 73.97<br>F1: 86.76<br>Average Probability: 75.89",
          "Logistic Regression<br>Performance: 84.92%<br>Model ID: 1977<br>Accuracy: 86.89%<br>Precision: 87.4%<br>Recall: 86.89%<br>ROC AUC: 86.26<br>Geometric Mean: 86.25<br>Matthews Correlation: 73.97<br>F1: 86.76<br>Average Probability: 75.89",
          "Logistic Regression<br>Performance: 83.03%<br>Model ID: meta_3<br>Accuracy: 85.25%<br>Precision: 85.24%<br>Recall: 85.25%<br>ROC AUC: 85.01<br>Geometric Mean: 85.01<br>Matthews Correlation: 70.25<br>F1: 85.22<br>Average Probability: 75.48"
         ],
         "marker": {
          "color": [
           84.92,
           84.92,
           84.92,
           84.92,
           84.92,
           83.03
          ],
          "coloraxis": "coloraxis",
          "line": {
           "color": "Black",
           "width": 1
          },
          "opacity": [
           0.7,
           0.7,
           0.7,
           0.7,
           0.7,
           0.7
          ],
          "size": [
           20,
           20,
           20,
           20,
           20,
           40
          ],
          "symbol": [
           "diamond",
           "diamond",
           "diamond",
           "diamond",
           "diamond",
           "diamond"
          ]
         },
         "mode": "markers",
         "name": "Logistic Regression",
         "type": "scatter",
         "x": [
          23.920455932617188,
          24.1323299407959,
          24.50156593322754,
          24.539104461669922,
          24.697202682495117,
          4.572466850280762
         ],
         "y": [
          14.241504669189453,
          14.685672760009766,
          14.319997787475586,
          15.04601001739502,
          14.483031272888184,
          -8.644291877746582
         ]
        },
        {
         "hovertext": [
          "Linear Discriminant Analysis<br>Performance: 67.97%<br>Model ID: 2001<br>Accuracy: 72.13%<br>Precision: 72.08%<br>Recall: 72.13%<br>ROC AUC: 71.81<br>Geometric Mean: 71.81<br>Matthews Correlation: 43.76<br>F1: 72.09<br>Average Probability: 64.77",
          "Linear Discriminant Analysis<br>Performance: 69.8%<br>Model ID: 2000<br>Accuracy: 73.77%<br>Precision: 73.73%<br>Recall: 73.77%<br>ROC AUC: 73.32<br>Geometric Mean: 73.32<br>Matthews Correlation: 47.0<br>F1: 73.67<br>Average Probability: 66.94",
          "Linear Discriminant Analysis<br>Performance: 69.8%<br>Model ID: 1999<br>Accuracy: 73.77%<br>Precision: 73.73%<br>Recall: 73.77%<br>ROC AUC: 73.32<br>Geometric Mean: 73.32<br>Matthews Correlation: 47.0<br>F1: 73.67<br>Average Probability: 66.94",
          "Linear Discriminant Analysis<br>Performance: 84.92%<br>Model ID: 1998<br>Accuracy: 86.89%<br>Precision: 87.4%<br>Recall: 86.89%<br>ROC AUC: 86.26<br>Geometric Mean: 86.25<br>Matthews Correlation: 73.97<br>F1: 86.76<br>Average Probability: 77.23",
          "Linear Discriminant Analysis<br>Performance: 84.92%<br>Model ID: 1997<br>Accuracy: 86.89%<br>Precision: 87.4%<br>Recall: 86.89%<br>ROC AUC: 86.26<br>Geometric Mean: 86.25<br>Matthews Correlation: 73.97<br>F1: 86.76<br>Average Probability: 77.23",
          "Linear Discriminant Analysis<br>Performance: 73.68%<br>Model ID: meta_10<br>Accuracy: 77.05%<br>Precision: 77.05%<br>Recall: 77.05%<br>ROC AUC: 76.89<br>Geometric Mean: 76.89<br>Matthews Correlation: 53.79<br>F1: 77.05<br>Average Probability: 77.37"
         ],
         "marker": {
          "color": [
           67.97,
           69.8,
           69.8,
           84.92,
           84.92,
           73.68
          ],
          "coloraxis": "coloraxis",
          "line": {
           "color": "Black",
           "width": 1
          },
          "opacity": [
           0.5,
           0.5,
           0.5,
           0.8,
           0.8,
           0.8
          ],
          "size": [
           20,
           20,
           20,
           20,
           20,
           40
          ],
          "symbol": [
           "star",
           "star",
           "star",
           "star",
           "star",
           "star"
          ]
         },
         "mode": "markers",
         "name": "Linear Discriminant Analysis",
         "type": "scatter",
         "x": [
          -16.09248924255371,
          -15.66281795501709,
          -15.97268009185791,
          24.663043975830078,
          24.789752960205078,
          5.00222635269165
         ],
         "y": [
          6.0066680908203125,
          5.756742000579834,
          5.650706768035889,
          15.739831924438477,
          15.641018867492676,
          -8.347363471984863
         ]
        },
        {
         "hovertext": [
          "Quadratic Discriminant Analysis<br>Performance: 81.12%<br>Model ID: 2271<br>Accuracy: 83.61%<br>Precision: 83.66%<br>Recall: 83.61%<br>ROC AUC: 83.23<br>Geometric Mean: 83.22<br>Matthews Correlation: 66.96<br>F1: 83.54<br>Average Probability: 77.54",
          "Quadratic Discriminant Analysis<br>Performance: 81.12%<br>Model ID: 2272<br>Accuracy: 83.61%<br>Precision: 83.66%<br>Recall: 83.61%<br>ROC AUC: 83.23<br>Geometric Mean: 83.22<br>Matthews Correlation: 66.96<br>F1: 83.54<br>Average Probability: 77.54",
          "Quadratic Discriminant Analysis<br>Performance: 81.12%<br>Model ID: 2273<br>Accuracy: 83.61%<br>Precision: 83.66%<br>Recall: 83.61%<br>ROC AUC: 83.23<br>Geometric Mean: 83.22<br>Matthews Correlation: 66.96<br>F1: 83.54<br>Average Probability: 77.54",
          "Quadratic Discriminant Analysis<br>Performance: 81.12%<br>Model ID: 2274<br>Accuracy: 83.61%<br>Precision: 83.66%<br>Recall: 83.61%<br>ROC AUC: 83.23<br>Geometric Mean: 83.22<br>Matthews Correlation: 66.96<br>F1: 83.54<br>Average Probability: 77.54",
          "Quadratic Discriminant Analysis<br>Performance: 81.12%<br>Model ID: 2264<br>Accuracy: 83.61%<br>Precision: 83.66%<br>Recall: 83.61%<br>ROC AUC: 83.23<br>Geometric Mean: 83.22<br>Matthews Correlation: 66.96<br>F1: 83.54<br>Average Probability: 77.54",
          "Quadratic Discriminant Analysis<br>Performance: 84.96%<br>Model ID: meta_2<br>Accuracy: 86.89%<br>Precision: 86.89%<br>Recall: 86.89%<br>ROC AUC: 86.8<br>Geometric Mean: 86.8<br>Matthews Correlation: 73.59<br>F1: 86.89<br>Average Probability: 83.51"
         ],
         "marker": {
          "color": [
           81.12,
           81.12,
           81.12,
           81.12,
           81.12,
           84.96
          ],
          "coloraxis": "coloraxis",
          "line": {
           "color": "Black",
           "width": 1
          },
          "opacity": [
           0.8,
           0.8,
           0.8,
           0.8,
           0.8,
           0.9
          ],
          "size": [
           20,
           20,
           20,
           20,
           20,
           40
          ],
          "symbol": [
           "hexagram",
           "hexagram",
           "hexagram",
           "hexagram",
           "hexagram",
           "hexagram"
          ]
         },
         "mode": "markers",
         "name": "Quadratic Discriminant Analysis",
         "type": "scatter",
         "x": [
          -15.89749526977539,
          -16.231863021850586,
          -15.74665355682373,
          -16.298797607421875,
          -16.52021598815918,
          4.046678066253662
         ],
         "y": [
          12.88986873626709,
          12.951481819152832,
          12.512073516845703,
          12.362015724182129,
          13.202152252197266,
          -7.615386009216309
         ]
        },
        {
         "hovertext": [
          "Random Forest<br>Performance: 81.12%<br>Model ID: 2570<br>Accuracy: 83.61%<br>Precision: 83.66%<br>Recall: 83.61%<br>ROC AUC: 83.23<br>Geometric Mean: 83.22<br>Matthews Correlation: 66.96<br>F1: 83.54<br>Average Probability: 72.15",
          "Random Forest<br>Performance: 81.12%<br>Model ID: 2571<br>Accuracy: 83.61%<br>Precision: 83.66%<br>Recall: 83.61%<br>ROC AUC: 83.23<br>Geometric Mean: 83.22<br>Matthews Correlation: 66.96<br>F1: 83.54<br>Average Probability: 72.23",
          "Random Forest<br>Performance: 81.12%<br>Model ID: 2572<br>Accuracy: 83.61%<br>Precision: 83.66%<br>Recall: 83.61%<br>ROC AUC: 83.23<br>Geometric Mean: 83.22<br>Matthews Correlation: 66.96<br>F1: 83.54<br>Average Probability: 72.21",
          "Random Forest<br>Performance: 81.12%<br>Model ID: 2575<br>Accuracy: 83.61%<br>Precision: 83.66%<br>Recall: 83.61%<br>ROC AUC: 83.23<br>Geometric Mean: 83.22<br>Matthews Correlation: 66.96<br>F1: 83.54<br>Average Probability: 72.13",
          "Random Forest<br>Performance: 81.12%<br>Model ID: 2606<br>Accuracy: 83.61%<br>Precision: 83.66%<br>Recall: 83.61%<br>ROC AUC: 83.23<br>Geometric Mean: 83.22<br>Matthews Correlation: 66.96<br>F1: 83.54<br>Average Probability: 71.82",
          "Random Forest<br>Performance: 83.03%<br>Model ID: meta_5<br>Accuracy: 85.25%<br>Precision: 85.24%<br>Recall: 85.25%<br>ROC AUC: 85.01<br>Geometric Mean: 85.01<br>Matthews Correlation: 70.25<br>F1: 85.22<br>Average Probability: 74.7"
         ],
         "marker": {
          "color": [
           81.12,
           81.12,
           81.12,
           81.12,
           81.12,
           83.03
          ],
          "coloraxis": "coloraxis",
          "line": {
           "color": "Black",
           "width": 1
          },
          "opacity": [
           0.7,
           0.7,
           0.7,
           0.7,
           0.6,
           0.7
          ],
          "size": [
           20,
           20,
           20,
           20,
           20,
           40
          ],
          "symbol": [
           "triangle-right",
           "triangle-right",
           "triangle-right",
           "triangle-right",
           "triangle-right",
           "triangle-right"
          ]
         },
         "mode": "markers",
         "name": "Random Forest",
         "type": "scatter",
         "x": [
          10.363655090332031,
          10.606818199157715,
          10.830142974853516,
          11.045090675354004,
          11.267520904541016,
          5.671830654144287
         ],
         "y": [
          14.429566383361816,
          14.186311721801758,
          13.96288013458252,
          13.747139930725098,
          13.524752616882324,
          -7.747340679168701
         ]
        },
        {
         "hovertext": [
          "Extra Trees<br>Performance: 83.0%<br>Model ID: 2623<br>Accuracy: 85.25%<br>Precision: 85.48%<br>Recall: 85.25%<br>ROC AUC: 84.74<br>Geometric Mean: 84.74<br>Matthews Correlation: 70.4<br>F1: 85.15<br>Average Probability: 72.8",
          "Extra Trees<br>Performance: 83.0%<br>Model ID: 2717<br>Accuracy: 85.25%<br>Precision: 85.48%<br>Recall: 85.25%<br>ROC AUC: 84.74<br>Geometric Mean: 84.74<br>Matthews Correlation: 70.4<br>F1: 85.15<br>Average Probability: 73.48",
          "Extra Trees<br>Performance: 83.0%<br>Model ID: 2718<br>Accuracy: 85.25%<br>Precision: 85.48%<br>Recall: 85.25%<br>ROC AUC: 84.74<br>Geometric Mean: 84.74<br>Matthews Correlation: 70.4<br>F1: 85.15<br>Average Probability: 73.48",
          "Extra Trees<br>Performance: 83.0%<br>Model ID: 2625<br>Accuracy: 85.25%<br>Precision: 85.48%<br>Recall: 85.25%<br>ROC AUC: 84.74<br>Geometric Mean: 84.74<br>Matthews Correlation: 70.4<br>F1: 85.15<br>Average Probability: 72.72",
          "Extra Trees<br>Performance: 83.0%<br>Model ID: 2716<br>Accuracy: 85.25%<br>Precision: 85.48%<br>Recall: 85.25%<br>ROC AUC: 84.74<br>Geometric Mean: 84.74<br>Matthews Correlation: 70.4<br>F1: 85.15<br>Average Probability: 73.51",
          "Extra Trees<br>Performance: 83.15%<br>Model ID: meta_8<br>Accuracy: 85.25%<br>Precision: 85.32%<br>Recall: 85.25%<br>ROC AUC: 85.28<br>Geometric Mean: 85.28<br>Matthews Correlation: 70.41<br>F1: 85.26<br>Average Probability: 74.01"
         ],
         "marker": {
          "color": [
           83,
           83,
           83,
           83,
           83,
           83.15
          ],
          "coloraxis": "coloraxis",
          "line": {
           "color": "Black",
           "width": 1
          },
          "opacity": [
           0.7,
           0.7,
           0.7,
           0.7,
           0.7,
           0.7
          ],
          "size": [
           20,
           20,
           20,
           20,
           20,
           40
          ],
          "symbol": [
           "triangle-left",
           "triangle-left",
           "triangle-left",
           "triangle-left",
           "triangle-left",
           "triangle-left"
          ]
         },
         "mode": "markers",
         "name": "Extra Trees",
         "type": "scatter",
         "x": [
          2.9907455444335938,
          3.86179518699646,
          4.067659854888916,
          3.178417444229126,
          3.6436610221862793,
          5.3548583984375
         ],
         "y": [
          15.42695426940918,
          16.300813674926758,
          16.506467819213867,
          15.614409446716309,
          16.08198356628418,
          -7.338800430297852
         ]
        },
        {
         "hovertext": [
          "Adaptive Boosting<br>Performance: 83.0%<br>Model ID: 2921<br>Accuracy: 85.25%<br>Precision: 85.48%<br>Recall: 85.25%<br>ROC AUC: 84.74<br>Geometric Mean: 84.74<br>Matthews Correlation: 70.4<br>F1: 85.15<br>Average Probability: 52.96",
          "Adaptive Boosting<br>Performance: 83.0%<br>Model ID: 2920<br>Accuracy: 85.25%<br>Precision: 85.48%<br>Recall: 85.25%<br>ROC AUC: 84.74<br>Geometric Mean: 84.74<br>Matthews Correlation: 70.4<br>F1: 85.15<br>Average Probability: 52.99",
          "Adaptive Boosting<br>Performance: 83.0%<br>Model ID: 2919<br>Accuracy: 85.25%<br>Precision: 85.48%<br>Recall: 85.25%<br>ROC AUC: 84.74<br>Geometric Mean: 84.74<br>Matthews Correlation: 70.4<br>F1: 85.15<br>Average Probability: 53.01",
          "Adaptive Boosting<br>Performance: 83.0%<br>Model ID: 2917<br>Accuracy: 85.25%<br>Precision: 85.48%<br>Recall: 85.25%<br>ROC AUC: 84.74<br>Geometric Mean: 84.74<br>Matthews Correlation: 70.4<br>F1: 85.15<br>Average Probability: 53.05",
          "Adaptive Boosting<br>Performance: 86.8%<br>Model ID: 2918<br>Accuracy: 88.52%<br>Precision: 88.54%<br>Recall: 88.52%<br>ROC AUC: 88.31<br>Geometric Mean: 88.31<br>Matthews Correlation: 76.87<br>F1: 88.51<br>Average Probability: 53.03",
          "Adaptive Boosting<br>Performance: 83.0%<br>Model ID: meta_11<br>Accuracy: 85.25%<br>Precision: 85.48%<br>Recall: 85.25%<br>ROC AUC: 84.74<br>Geometric Mean: 84.74<br>Matthews Correlation: 70.4<br>F1: 85.15<br>Average Probability: 60.25"
         ],
         "marker": {
          "color": [
           83,
           83,
           83,
           83,
           86.8,
           83
          ],
          "coloraxis": "coloraxis",
          "line": {
           "color": "Black",
           "width": 1
          },
          "opacity": [
           0.2,
           0.2,
           0.2,
           0.2,
           0.2,
           0.4
          ],
          "size": [
           20,
           20,
           20,
           20,
           20,
           40
          ],
          "symbol": [
           "triangle-down",
           "triangle-down",
           "triangle-down",
           "triangle-down",
           "triangle-down",
           "triangle-down"
          ]
         },
         "mode": "markers",
         "name": "Adaptive Boosting",
         "type": "scatter",
         "x": [
          9.732283592224121,
          9.530374526977539,
          9.493486404418945,
          9.41594123840332,
          9.730493545532227,
          9.278804779052734
         ],
         "y": [
          27.074934005737305,
          25.636930465698242,
          26.3469295501709,
          27.29511070251465,
          25.852294921875,
          26.70100212097168
         ]
        },
        {
         "hovertext": [
          "Gradient Boosting<br>Performance: 79.22%<br>Model ID: 2986<br>Accuracy: 81.97%<br>Precision: 82.14%<br>Recall: 81.97%<br>ROC AUC: 81.44<br>Geometric Mean: 81.44<br>Matthews Correlation: 63.71<br>F1: 81.85<br>Average Probability: 76.73",
          "Gradient Boosting<br>Performance: 79.22%<br>Model ID: 3045<br>Accuracy: 81.97%<br>Precision: 82.14%<br>Recall: 81.97%<br>ROC AUC: 81.44<br>Geometric Mean: 81.44<br>Matthews Correlation: 63.71<br>F1: 81.85<br>Average Probability: 76.65",
          "Gradient Boosting<br>Performance: 79.22%<br>Model ID: 3046<br>Accuracy: 81.97%<br>Precision: 82.14%<br>Recall: 81.97%<br>ROC AUC: 81.44<br>Geometric Mean: 81.44<br>Matthews Correlation: 63.71<br>F1: 81.85<br>Average Probability: 76.73",
          "Gradient Boosting<br>Performance: 79.22%<br>Model ID: 2985<br>Accuracy: 81.97%<br>Precision: 82.14%<br>Recall: 81.97%<br>ROC AUC: 81.44<br>Geometric Mean: 81.44<br>Matthews Correlation: 63.71<br>F1: 81.85<br>Average Probability: 76.65",
          "Gradient Boosting<br>Performance: 77.34%<br>Model ID: 3017<br>Accuracy: 80.33%<br>Precision: 80.35%<br>Recall: 80.33%<br>ROC AUC: 79.92<br>Geometric Mean: 79.92<br>Matthews Correlation: 60.31<br>F1: 80.25<br>Average Probability: 76.26",
          "Gradient Boosting<br>Performance: 81.2%<br>Model ID: meta_4<br>Accuracy: 83.61%<br>Precision: 83.61%<br>Recall: 83.61%<br>ROC AUC: 83.5<br>Geometric Mean: 83.5<br>Matthews Correlation: 66.99<br>F1: 83.61<br>Average Probability: 76.94"
         ],
         "marker": {
          "color": [
           79.22,
           79.22,
           79.22,
           79.22,
           77.34,
           81.2
          ],
          "coloraxis": "coloraxis",
          "line": {
           "color": "Black",
           "width": 1
          },
          "opacity": [
           0.8,
           0.8,
           0.8,
           0.8,
           0.8,
           0.8
          ],
          "size": [
           20,
           20,
           20,
           20,
           20,
           40
          ],
          "symbol": [
           "triangle-up",
           "triangle-up",
           "triangle-up",
           "triangle-up",
           "triangle-up",
           "triangle-up"
          ]
         },
         "mode": "markers",
         "name": "Gradient Boosting",
         "type": "scatter",
         "x": [
          11.682324409484863,
          11.394759178161621,
          11.917728424072266,
          11.08680534362793,
          10.8922758102417,
          5.892136573791504
         ],
         "y": [
          -9.325374603271484,
          -9.615997314453125,
          -9.088441848754883,
          -9.923601150512695,
          -10.118773460388184,
          -8.296394348144531
         ]
        },
        {
         "hovertext": [
          "K-Nearest Neighbor<br>Performance: 73.54%<br>Model ID: 249<br>Accuracy: 77.05%<br>Precision: 77.78%<br>Recall: 77.05%<br>ROC AUC: 76.08<br>Geometric Mean: 76.08<br>Matthews Correlation: 54.13<br>F1: 76.63<br>Average Probability: 64.59",
          "K-Nearest Neighbor<br>Performance: 73.54%<br>Model ID: 440<br>Accuracy: 77.05%<br>Precision: 77.78%<br>Recall: 77.05%<br>ROC AUC: 76.08<br>Geometric Mean: 76.08<br>Matthews Correlation: 54.13<br>F1: 76.63<br>Average Probability: 67.94",
          "K-Nearest Neighbor<br>Performance: 73.54%<br>Model ID: 250<br>Accuracy: 77.05%<br>Precision: 77.78%<br>Recall: 77.05%<br>ROC AUC: 76.08<br>Geometric Mean: 76.08<br>Matthews Correlation: 54.13<br>F1: 76.63<br>Average Probability: 65.3",
          "K-Nearest Neighbor<br>Performance: 73.54%<br>Model ID: 252<br>Accuracy: 77.05%<br>Precision: 77.78%<br>Recall: 77.05%<br>ROC AUC: 76.08<br>Geometric Mean: 76.08<br>Matthews Correlation: 54.13<br>F1: 76.63<br>Average Probability: 64.41",
          "K-Nearest Neighbor<br>Performance: 73.54%<br>Model ID: 60<br>Accuracy: 77.05%<br>Precision: 77.78%<br>Recall: 77.05%<br>ROC AUC: 76.08<br>Geometric Mean: 76.08<br>Matthews Correlation: 54.13<br>F1: 76.63<br>Average Probability: 64.37",
          "K-Nearest Neighbor<br>Performance: 81.2%<br>Model ID: meta_6<br>Accuracy: 83.61%<br>Precision: 83.61%<br>Recall: 83.61%<br>ROC AUC: 83.5<br>Geometric Mean: 83.5<br>Matthews Correlation: 66.99<br>F1: 83.61<br>Average Probability: 76.03"
         ],
         "marker": {
          "color": [
           73.54,
           73.54,
           73.54,
           73.54,
           73.54,
           81.2
          ],
          "coloraxis": "coloraxis",
          "line": {
           "color": "Black",
           "width": 1
          },
          "opacity": [
           0.5,
           0.6,
           0.5,
           0.5,
           0.5,
           0.7
          ],
          "size": [
           20,
           20,
           20,
           20,
           20,
           40
          ],
          "symbol": [
           "circle",
           "circle",
           "circle",
           "circle",
           "circle",
           "circle"
          ]
         },
         "mode": "markers",
         "name": "K-Nearest Neighbor",
         "type": "scatter",
         "x": [
          15.21174144744873,
          14.28527545928955,
          14.688387870788574,
          14.94880485534668,
          14.909771919250488,
          -7.470296859741211
         ],
         "y": [
          16.81644630432129,
          17.737895965576172,
          17.34148406982422,
          17.08661651611328,
          17.119068145751953,
          4.8443732261657715
         ]
        },
        {
         "hovertext": [
          "Support Vector Machine<br>Performance: 83.03%<br>Model ID: 614<br>Accuracy: 85.25%<br>Precision: 85.24%<br>Recall: 85.25%<br>ROC AUC: 85.01<br>Geometric Mean: 85.01<br>Matthews Correlation: 70.25<br>F1: 85.22<br>Average Probability: 73.24",
          "Support Vector Machine<br>Performance: 83.03%<br>Model ID: 606<br>Accuracy: 85.25%<br>Precision: 85.24%<br>Recall: 85.25%<br>ROC AUC: 85.01<br>Geometric Mean: 85.01<br>Matthews Correlation: 70.25<br>F1: 85.22<br>Average Probability: 73.34",
          "Support Vector Machine<br>Performance: 83.03%<br>Model ID: 586<br>Accuracy: 85.25%<br>Precision: 85.24%<br>Recall: 85.25%<br>ROC AUC: 85.01<br>Geometric Mean: 85.01<br>Matthews Correlation: 70.25<br>F1: 85.22<br>Average Probability: 73.99",
          "Support Vector Machine<br>Performance: 83.03%<br>Model ID: 598<br>Accuracy: 85.25%<br>Precision: 85.24%<br>Recall: 85.25%<br>ROC AUC: 85.01<br>Geometric Mean: 85.01<br>Matthews Correlation: 70.25<br>F1: 85.22<br>Average Probability: 73.62",
          "Support Vector Machine<br>Performance: 83.03%<br>Model ID: 610<br>Accuracy: 85.25%<br>Precision: 85.24%<br>Recall: 85.25%<br>ROC AUC: 85.01<br>Geometric Mean: 85.01<br>Matthews Correlation: 70.25<br>F1: 85.22<br>Average Probability: 73.21",
          "Support Vector Machine<br>Performance: 83.15%<br>Model ID: meta_7<br>Accuracy: 85.25%<br>Precision: 85.32%<br>Recall: 85.25%<br>ROC AUC: 85.28<br>Geometric Mean: 85.28<br>Matthews Correlation: 70.41<br>F1: 85.26<br>Average Probability: 74.18"
         ],
         "marker": {
          "color": [
           83.03,
           83.03,
           83.03,
           83.03,
           83.03,
           83.15
          ],
          "coloraxis": "coloraxis",
          "line": {
           "color": "Black",
           "width": 1
          },
          "opacity": [
           0.7,
           0.7,
           0.7,
           0.7,
           0.7,
           0.7
          ],
          "size": [
           20,
           20,
           20,
           20,
           20,
           40
          ],
          "symbol": [
           "square",
           "square",
           "square",
           "square",
           "square",
           "square"
          ]
         },
         "mode": "markers",
         "name": "Support Vector Machine",
         "type": "scatter",
         "x": [
          4.948608875274658,
          4.5471930503845215,
          4.064983367919922,
          4.456535816192627,
          4.784146308898926,
          -7.02998161315918
         ],
         "y": [
          18.68518829345703,
          18.982025146484375,
          19.606184005737305,
          19.35174560546875,
          18.924442291259766,
          4.289794445037842
         ]
        },
        {
         "hovertext": [
          "Gaussian Naive Bayes<br>Performance: 76.1%<br>Model ID: 1077<br>Accuracy: 78.69%<br>Precision: 79.75%<br>Recall: 78.69%<br>ROC AUC: 79.22<br>Geometric Mean: 79.22<br>Matthews Correlation: 58.44<br>F1: 78.69<br>Average Probability: 77.05",
          "Gaussian Naive Bayes<br>Performance: 76.1%<br>Model ID: 1066<br>Accuracy: 78.69%<br>Precision: 79.75%<br>Recall: 78.69%<br>ROC AUC: 79.22<br>Geometric Mean: 79.22<br>Matthews Correlation: 58.44<br>F1: 78.69<br>Average Probability: 77.04",
          "Gaussian Naive Bayes<br>Performance: 76.1%<br>Model ID: 1078<br>Accuracy: 78.69%<br>Precision: 79.75%<br>Recall: 78.69%<br>ROC AUC: 79.22<br>Geometric Mean: 79.22<br>Matthews Correlation: 58.44<br>F1: 78.69<br>Average Probability: 77.05",
          "Gaussian Naive Bayes<br>Performance: 76.1%<br>Model ID: 1079<br>Accuracy: 78.69%<br>Precision: 79.75%<br>Recall: 78.69%<br>ROC AUC: 79.22<br>Geometric Mean: 79.22<br>Matthews Correlation: 58.44<br>F1: 78.69<br>Average Probability: 77.05",
          "Gaussian Naive Bayes<br>Performance: 76.1%<br>Model ID: 737<br>Accuracy: 78.69%<br>Precision: 79.75%<br>Recall: 78.69%<br>ROC AUC: 79.22<br>Geometric Mean: 79.22<br>Matthews Correlation: 58.44<br>F1: 78.69<br>Average Probability: 77.04",
          "Gaussian Naive Bayes<br>Performance: 84.96%<br>Model ID: meta_1<br>Accuracy: 86.89%<br>Precision: 86.89%<br>Recall: 86.89%<br>ROC AUC: 86.8<br>Geometric Mean: 86.8<br>Matthews Correlation: 73.59<br>F1: 86.89<br>Average Probability: 86.75"
         ],
         "marker": {
          "color": [
           76.1,
           76.1,
           76.1,
           76.1,
           76.1,
           84.96
          ],
          "coloraxis": "coloraxis",
          "line": {
           "color": "Black",
           "width": 1
          },
          "opacity": [
           0.8,
           0.8,
           0.8,
           0.8,
           0.8,
           1
          ],
          "size": [
           20,
           20,
           20,
           20,
           20,
           40
          ],
          "symbol": [
           "x",
           "x",
           "x",
           "x",
           "x",
           "x"
          ]
         },
         "mode": "markers",
         "name": "Gaussian Naive Bayes",
         "type": "scatter",
         "x": [
          11.425374031066895,
          11.77587890625,
          11.71257209777832,
          11.973848342895508,
          11.282032012939453,
          -6.7235307693481445
         ],
         "y": [
          11.17658519744873,
          11.52701473236084,
          11.464192390441895,
          11.72526741027832,
          11.033157348632812,
          3.6453638076782227
         ]
        },
        {
         "hovertext": [
          "Multilayer Perceptron<br>Performance: 79.87%<br>Model ID: 1261<br>Accuracy: 81.97%<br>Precision: 83.08%<br>Recall: 81.97%<br>ROC AUC: 82.52<br>Geometric Mean: 82.52<br>Matthews Correlation: 65.04<br>F1: 81.97<br>Average Probability: 70.73",
          "Multilayer Perceptron<br>Performance: 79.87%<br>Model ID: 1262<br>Accuracy: 81.97%<br>Precision: 83.08%<br>Recall: 81.97%<br>ROC AUC: 82.52<br>Geometric Mean: 82.52<br>Matthews Correlation: 65.04<br>F1: 81.97<br>Average Probability: 70.73",
          "Multilayer Perceptron<br>Performance: 79.87%<br>Model ID: 1263<br>Accuracy: 81.97%<br>Precision: 83.08%<br>Recall: 81.97%<br>ROC AUC: 82.52<br>Geometric Mean: 82.52<br>Matthews Correlation: 65.04<br>F1: 81.97<br>Average Probability: 70.73",
          "Multilayer Perceptron<br>Performance: 79.87%<br>Model ID: 1249<br>Accuracy: 81.97%<br>Precision: 83.08%<br>Recall: 81.97%<br>ROC AUC: 82.52<br>Geometric Mean: 82.52<br>Matthews Correlation: 65.04<br>F1: 81.97<br>Average Probability: 70.95",
          "Multilayer Perceptron<br>Performance: 79.87%<br>Model ID: 1237<br>Accuracy: 81.97%<br>Precision: 83.08%<br>Recall: 81.97%<br>ROC AUC: 82.52<br>Geometric Mean: 82.52<br>Matthews Correlation: 65.04<br>F1: 81.97<br>Average Probability: 70.77",
          "Multilayer Perceptron<br>Performance: 79.27%<br>Model ID: meta_9<br>Accuracy: 81.97%<br>Precision: 81.95%<br>Recall: 81.97%<br>ROC AUC: 81.71<br>Geometric Mean: 81.71<br>Matthews Correlation: 63.63<br>F1: 81.94<br>Average Probability: 74.04"
         ],
         "marker": {
          "color": [
           79.87,
           79.87,
           79.87,
           79.87,
           79.87,
           79.27
          ],
          "coloraxis": "coloraxis",
          "line": {
           "color": "Black",
           "width": 1
          },
          "opacity": [
           0.6,
           0.6,
           0.6,
           0.6,
           0.6,
           0.7
          ],
          "size": [
           20,
           20,
           20,
           20,
           20,
           40
          ],
          "symbol": [
           "cross",
           "cross",
           "cross",
           "cross",
           "cross",
           "cross"
          ]
         },
         "mode": "markers",
         "name": "Multilayer Perceptron",
         "type": "scatter",
         "x": [
          -5.827881813049316,
          -5.497501850128174,
          -6.228684425354004,
          -5.576934814453125,
          -6.04640007019043,
          -7.011936187744141
         ],
         "y": [
          -26.579641342163086,
          -26.249256134033203,
          -26.980388641357422,
          -26.328622817993164,
          -26.798093795776367,
          4.941835403442383
         ]
        },
        {
         "hovertext": [
          "Logistic Regression<br>Performance: 84.92%<br>Model ID: 1453<br>Accuracy: 86.89%<br>Precision: 87.4%<br>Recall: 86.89%<br>ROC AUC: 86.26<br>Geometric Mean: 86.25<br>Matthews Correlation: 73.97<br>F1: 86.76<br>Average Probability: 75.28",
          "Logistic Regression<br>Performance: 84.92%<br>Model ID: 1973<br>Accuracy: 86.89%<br>Precision: 87.4%<br>Recall: 86.89%<br>ROC AUC: 86.26<br>Geometric Mean: 86.25<br>Matthews Correlation: 73.97<br>F1: 86.76<br>Average Probability: 75.68",
          "Logistic Regression<br>Performance: 84.92%<br>Model ID: 1945<br>Accuracy: 86.89%<br>Precision: 87.4%<br>Recall: 86.89%<br>ROC AUC: 86.26<br>Geometric Mean: 86.25<br>Matthews Correlation: 73.97<br>F1: 86.76<br>Average Probability: 75.89",
          "Logistic Regression<br>Performance: 84.92%<br>Model ID: 1721<br>Accuracy: 86.89%<br>Precision: 87.4%<br>Recall: 86.89%<br>ROC AUC: 86.26<br>Geometric Mean: 86.25<br>Matthews Correlation: 73.97<br>F1: 86.76<br>Average Probability: 75.89",
          "Logistic Regression<br>Performance: 84.92%<br>Model ID: 1977<br>Accuracy: 86.89%<br>Precision: 87.4%<br>Recall: 86.89%<br>ROC AUC: 86.26<br>Geometric Mean: 86.25<br>Matthews Correlation: 73.97<br>F1: 86.76<br>Average Probability: 75.89",
          "Logistic Regression<br>Performance: 83.03%<br>Model ID: meta_3<br>Accuracy: 85.25%<br>Precision: 85.24%<br>Recall: 85.25%<br>ROC AUC: 85.01<br>Geometric Mean: 85.01<br>Matthews Correlation: 70.25<br>F1: 85.22<br>Average Probability: 75.48"
         ],
         "marker": {
          "color": [
           84.92,
           84.92,
           84.92,
           84.92,
           84.92,
           83.03
          ],
          "coloraxis": "coloraxis",
          "line": {
           "color": "Black",
           "width": 1
          },
          "opacity": [
           0.7,
           0.7,
           0.7,
           0.7,
           0.7,
           0.7
          ],
          "size": [
           20,
           20,
           20,
           20,
           20,
           40
          ],
          "symbol": [
           "diamond",
           "diamond",
           "diamond",
           "diamond",
           "diamond",
           "diamond"
          ]
         },
         "mode": "markers",
         "name": "Logistic Regression",
         "type": "scatter",
         "x": [
          -11.603906631469727,
          -11.899581909179688,
          -12.258444786071777,
          -12.62993335723877,
          -11.829476356506348,
          -6.619744300842285
         ],
         "y": [
          31.711854934692383,
          31.462759017944336,
          32.31492233276367,
          31.804058074951172,
          32.01777267456055,
          4.405664443969727
         ]
        },
        {
         "hovertext": [
          "Linear Discriminant Analysis<br>Performance: 67.97%<br>Model ID: 2001<br>Accuracy: 72.13%<br>Precision: 72.08%<br>Recall: 72.13%<br>ROC AUC: 71.81<br>Geometric Mean: 71.81<br>Matthews Correlation: 43.76<br>F1: 72.09<br>Average Probability: 64.77",
          "Linear Discriminant Analysis<br>Performance: 69.8%<br>Model ID: 2000<br>Accuracy: 73.77%<br>Precision: 73.73%<br>Recall: 73.77%<br>ROC AUC: 73.32<br>Geometric Mean: 73.32<br>Matthews Correlation: 47.0<br>F1: 73.67<br>Average Probability: 66.94",
          "Linear Discriminant Analysis<br>Performance: 69.8%<br>Model ID: 1999<br>Accuracy: 73.77%<br>Precision: 73.73%<br>Recall: 73.77%<br>ROC AUC: 73.32<br>Geometric Mean: 73.32<br>Matthews Correlation: 47.0<br>F1: 73.67<br>Average Probability: 66.94",
          "Linear Discriminant Analysis<br>Performance: 84.92%<br>Model ID: 1998<br>Accuracy: 86.89%<br>Precision: 87.4%<br>Recall: 86.89%<br>ROC AUC: 86.26<br>Geometric Mean: 86.25<br>Matthews Correlation: 73.97<br>F1: 86.76<br>Average Probability: 77.23",
          "Linear Discriminant Analysis<br>Performance: 84.92%<br>Model ID: 1997<br>Accuracy: 86.89%<br>Precision: 87.4%<br>Recall: 86.89%<br>ROC AUC: 86.26<br>Geometric Mean: 86.25<br>Matthews Correlation: 73.97<br>F1: 86.76<br>Average Probability: 77.23",
          "Linear Discriminant Analysis<br>Performance: 73.68%<br>Model ID: meta_10<br>Accuracy: 77.05%<br>Precision: 77.05%<br>Recall: 77.05%<br>ROC AUC: 76.89<br>Geometric Mean: 76.89<br>Matthews Correlation: 53.79<br>F1: 77.05<br>Average Probability: 77.37"
         ],
         "marker": {
          "color": [
           67.97,
           69.8,
           69.8,
           84.92,
           84.92,
           73.68
          ],
          "coloraxis": "coloraxis",
          "line": {
           "color": "Black",
           "width": 1
          },
          "opacity": [
           0.5,
           0.5,
           0.5,
           0.8,
           0.8,
           0.8
          ],
          "size": [
           20,
           20,
           20,
           20,
           20,
           40
          ],
          "symbol": [
           "star",
           "star",
           "star",
           "star",
           "star",
           "star"
          ]
         },
         "mode": "markers",
         "name": "Linear Discriminant Analysis",
         "type": "scatter",
         "x": [
          -4.263388633728027,
          -4.300002098083496,
          -4.567659854888916,
          -12.746759414672852,
          -13.068784713745117,
          -7.854305744171143
         ],
         "y": [
          -15.001533508300781,
          -14.67045783996582,
          -14.838096618652344,
          32.548526763916016,
          32.202293395996094,
          4.992306232452393
         ]
        },
        {
         "hovertext": [
          "Quadratic Discriminant Analysis<br>Performance: 81.12%<br>Model ID: 2271<br>Accuracy: 83.61%<br>Precision: 83.66%<br>Recall: 83.61%<br>ROC AUC: 83.23<br>Geometric Mean: 83.22<br>Matthews Correlation: 66.96<br>F1: 83.54<br>Average Probability: 77.54",
          "Quadratic Discriminant Analysis<br>Performance: 81.12%<br>Model ID: 2272<br>Accuracy: 83.61%<br>Precision: 83.66%<br>Recall: 83.61%<br>ROC AUC: 83.23<br>Geometric Mean: 83.22<br>Matthews Correlation: 66.96<br>F1: 83.54<br>Average Probability: 77.54",
          "Quadratic Discriminant Analysis<br>Performance: 81.12%<br>Model ID: 2273<br>Accuracy: 83.61%<br>Precision: 83.66%<br>Recall: 83.61%<br>ROC AUC: 83.23<br>Geometric Mean: 83.22<br>Matthews Correlation: 66.96<br>F1: 83.54<br>Average Probability: 77.54",
          "Quadratic Discriminant Analysis<br>Performance: 81.12%<br>Model ID: 2274<br>Accuracy: 83.61%<br>Precision: 83.66%<br>Recall: 83.61%<br>ROC AUC: 83.23<br>Geometric Mean: 83.22<br>Matthews Correlation: 66.96<br>F1: 83.54<br>Average Probability: 77.54",
          "Quadratic Discriminant Analysis<br>Performance: 81.12%<br>Model ID: 2264<br>Accuracy: 83.61%<br>Precision: 83.66%<br>Recall: 83.61%<br>ROC AUC: 83.23<br>Geometric Mean: 83.22<br>Matthews Correlation: 66.96<br>F1: 83.54<br>Average Probability: 77.54",
          "Quadratic Discriminant Analysis<br>Performance: 84.96%<br>Model ID: meta_2<br>Accuracy: 86.89%<br>Precision: 86.89%<br>Recall: 86.89%<br>ROC AUC: 86.8<br>Geometric Mean: 86.8<br>Matthews Correlation: 73.59<br>F1: 86.89<br>Average Probability: 83.51"
         ],
         "marker": {
          "color": [
           81.12,
           81.12,
           81.12,
           81.12,
           81.12,
           84.96
          ],
          "coloraxis": "coloraxis",
          "line": {
           "color": "Black",
           "width": 1
          },
          "opacity": [
           0.8,
           0.8,
           0.8,
           0.8,
           0.8,
           0.9
          ],
          "size": [
           20,
           20,
           20,
           20,
           20,
           40
          ],
          "symbol": [
           "hexagram",
           "hexagram",
           "hexagram",
           "hexagram",
           "hexagram",
           "hexagram"
          ]
         },
         "mode": "markers",
         "name": "Quadratic Discriminant Analysis",
         "type": "scatter",
         "x": [
          26.217790603637695,
          26.47759437561035,
          26.33189582824707,
          25.910877227783203,
          26.77410316467285,
          -6.319577217102051
         ],
         "y": [
          14.527827262878418,
          14.787622451782227,
          14.641963958740234,
          14.220880508422852,
          15.084304809570312,
          3.8456716537475586
         ]
        },
        {
         "hovertext": [
          "Random Forest<br>Performance: 81.12%<br>Model ID: 2570<br>Accuracy: 83.61%<br>Precision: 83.66%<br>Recall: 83.61%<br>ROC AUC: 83.23<br>Geometric Mean: 83.22<br>Matthews Correlation: 66.96<br>F1: 83.54<br>Average Probability: 72.15",
          "Random Forest<br>Performance: 81.12%<br>Model ID: 2571<br>Accuracy: 83.61%<br>Precision: 83.66%<br>Recall: 83.61%<br>ROC AUC: 83.23<br>Geometric Mean: 83.22<br>Matthews Correlation: 66.96<br>F1: 83.54<br>Average Probability: 72.23",
          "Random Forest<br>Performance: 81.12%<br>Model ID: 2572<br>Accuracy: 83.61%<br>Precision: 83.66%<br>Recall: 83.61%<br>ROC AUC: 83.23<br>Geometric Mean: 83.22<br>Matthews Correlation: 66.96<br>F1: 83.54<br>Average Probability: 72.21",
          "Random Forest<br>Performance: 81.12%<br>Model ID: 2575<br>Accuracy: 83.61%<br>Precision: 83.66%<br>Recall: 83.61%<br>ROC AUC: 83.23<br>Geometric Mean: 83.22<br>Matthews Correlation: 66.96<br>F1: 83.54<br>Average Probability: 72.13",
          "Random Forest<br>Performance: 81.12%<br>Model ID: 2606<br>Accuracy: 83.61%<br>Precision: 83.66%<br>Recall: 83.61%<br>ROC AUC: 83.23<br>Geometric Mean: 83.22<br>Matthews Correlation: 66.96<br>F1: 83.54<br>Average Probability: 71.82",
          "Random Forest<br>Performance: 83.03%<br>Model ID: meta_5<br>Accuracy: 85.25%<br>Precision: 85.24%<br>Recall: 85.25%<br>ROC AUC: 85.01<br>Geometric Mean: 85.01<br>Matthews Correlation: 70.25<br>F1: 85.22<br>Average Probability: 74.7"
         ],
         "marker": {
          "color": [
           81.12,
           81.12,
           81.12,
           81.12,
           81.12,
           83.03
          ],
          "coloraxis": "coloraxis",
          "line": {
           "color": "Black",
           "width": 1
          },
          "opacity": [
           0.7,
           0.7,
           0.7,
           0.7,
           0.6,
           0.7
          ],
          "size": [
           20,
           20,
           20,
           20,
           20,
           40
          ],
          "symbol": [
           "triangle-right",
           "triangle-right",
           "triangle-right",
           "triangle-right",
           "triangle-right",
           "triangle-right"
          ]
         },
         "mode": "markers",
         "name": "Random Forest",
         "type": "scatter",
         "x": [
          -23.596071243286133,
          -23.655242919921875,
          -23.270187377929688,
          -23.034534454345703,
          -22.81106948852539,
          -6.751886367797852
         ],
         "y": [
          31.55063247680664,
          31.60982894897461,
          31.224733352661133,
          30.989032745361328,
          30.7656192779541,
          5.253462791442871
         ]
        },
        {
         "hovertext": [
          "Extra Trees<br>Performance: 83.0%<br>Model ID: 2623<br>Accuracy: 85.25%<br>Precision: 85.48%<br>Recall: 85.25%<br>ROC AUC: 84.74<br>Geometric Mean: 84.74<br>Matthews Correlation: 70.4<br>F1: 85.15<br>Average Probability: 72.8",
          "Extra Trees<br>Performance: 83.0%<br>Model ID: 2717<br>Accuracy: 85.25%<br>Precision: 85.48%<br>Recall: 85.25%<br>ROC AUC: 84.74<br>Geometric Mean: 84.74<br>Matthews Correlation: 70.4<br>F1: 85.15<br>Average Probability: 73.48",
          "Extra Trees<br>Performance: 83.0%<br>Model ID: 2718<br>Accuracy: 85.25%<br>Precision: 85.48%<br>Recall: 85.25%<br>ROC AUC: 84.74<br>Geometric Mean: 84.74<br>Matthews Correlation: 70.4<br>F1: 85.15<br>Average Probability: 73.48",
          "Extra Trees<br>Performance: 83.0%<br>Model ID: 2625<br>Accuracy: 85.25%<br>Precision: 85.48%<br>Recall: 85.25%<br>ROC AUC: 84.74<br>Geometric Mean: 84.74<br>Matthews Correlation: 70.4<br>F1: 85.15<br>Average Probability: 72.72",
          "Extra Trees<br>Performance: 83.0%<br>Model ID: 2716<br>Accuracy: 85.25%<br>Precision: 85.48%<br>Recall: 85.25%<br>ROC AUC: 84.74<br>Geometric Mean: 84.74<br>Matthews Correlation: 70.4<br>F1: 85.15<br>Average Probability: 73.51",
          "Extra Trees<br>Performance: 83.15%<br>Model ID: meta_8<br>Accuracy: 85.25%<br>Precision: 85.32%<br>Recall: 85.25%<br>ROC AUC: 85.28<br>Geometric Mean: 85.28<br>Matthews Correlation: 70.41<br>F1: 85.26<br>Average Probability: 74.01"
         ],
         "marker": {
          "color": [
           83,
           83,
           83,
           83,
           83,
           83.15
          ],
          "coloraxis": "coloraxis",
          "line": {
           "color": "Black",
           "width": 1
          },
          "opacity": [
           0.7,
           0.7,
           0.7,
           0.7,
           0.7,
           0.7
          ],
          "size": [
           20,
           20,
           20,
           20,
           20,
           40
          ],
          "symbol": [
           "triangle-left",
           "triangle-left",
           "triangle-left",
           "triangle-left",
           "triangle-left",
           "triangle-left"
          ]
         },
         "mode": "markers",
         "name": "Extra Trees",
         "type": "scatter",
         "x": [
          -6.008321762084961,
          -6.9385175704956055,
          -6.683373928070068,
          -6.299962997436523,
          -6.441732406616211,
          -7.08220100402832
         ],
         "y": [
          -13.240933418273926,
          -12.314199447631836,
          -12.569231986999512,
          -12.951539993286133,
          -12.810501098632812,
          5.731289863586426
         ]
        },
        {
         "hovertext": [
          "Adaptive Boosting<br>Performance: 83.0%<br>Model ID: 2921<br>Accuracy: 85.25%<br>Precision: 85.48%<br>Recall: 85.25%<br>ROC AUC: 84.74<br>Geometric Mean: 84.74<br>Matthews Correlation: 70.4<br>F1: 85.15<br>Average Probability: 52.96",
          "Adaptive Boosting<br>Performance: 83.0%<br>Model ID: 2920<br>Accuracy: 85.25%<br>Precision: 85.48%<br>Recall: 85.25%<br>ROC AUC: 84.74<br>Geometric Mean: 84.74<br>Matthews Correlation: 70.4<br>F1: 85.15<br>Average Probability: 52.99",
          "Adaptive Boosting<br>Performance: 83.0%<br>Model ID: 2919<br>Accuracy: 85.25%<br>Precision: 85.48%<br>Recall: 85.25%<br>ROC AUC: 84.74<br>Geometric Mean: 84.74<br>Matthews Correlation: 70.4<br>F1: 85.15<br>Average Probability: 53.01",
          "Adaptive Boosting<br>Performance: 83.0%<br>Model ID: 2917<br>Accuracy: 85.25%<br>Precision: 85.48%<br>Recall: 85.25%<br>ROC AUC: 84.74<br>Geometric Mean: 84.74<br>Matthews Correlation: 70.4<br>F1: 85.15<br>Average Probability: 53.05",
          "Adaptive Boosting<br>Performance: 86.8%<br>Model ID: 2918<br>Accuracy: 88.52%<br>Precision: 88.54%<br>Recall: 88.52%<br>ROC AUC: 88.31<br>Geometric Mean: 88.31<br>Matthews Correlation: 76.87<br>F1: 88.51<br>Average Probability: 53.03",
          "Adaptive Boosting<br>Performance: 83.0%<br>Model ID: meta_11<br>Accuracy: 85.25%<br>Precision: 85.48%<br>Recall: 85.25%<br>ROC AUC: 84.74<br>Geometric Mean: 84.74<br>Matthews Correlation: 70.4<br>F1: 85.15<br>Average Probability: 60.25"
         ],
         "marker": {
          "color": [
           83,
           83,
           83,
           83,
           86.8,
           83
          ],
          "coloraxis": "coloraxis",
          "line": {
           "color": "Black",
           "width": 1
          },
          "opacity": [
           0.2,
           0.2,
           0.2,
           0.2,
           0.2,
           0.4
          ],
          "size": [
           20,
           20,
           20,
           20,
           20,
           40
          ],
          "symbol": [
           "triangle-down",
           "triangle-down",
           "triangle-down",
           "triangle-down",
           "triangle-down",
           "triangle-down"
          ]
         },
         "mode": "markers",
         "name": "Adaptive Boosting",
         "type": "scatter",
         "x": [
          20.710575103759766,
          20.798494338989258,
          21.26011085510254,
          20.40896987915039,
          20.95952796936035,
          21.074325561523438
         ],
         "y": [
          -1.7720032930374146,
          -2.892331838607788,
          -2.1979477405548096,
          -2.2469139099121094,
          -2.7825067043304443,
          -2.3975353240966797
         ]
        },
        {
         "hovertext": [
          "Gradient Boosting<br>Performance: 79.22%<br>Model ID: 2986<br>Accuracy: 81.97%<br>Precision: 82.14%<br>Recall: 81.97%<br>ROC AUC: 81.44<br>Geometric Mean: 81.44<br>Matthews Correlation: 63.71<br>F1: 81.85<br>Average Probability: 76.73",
          "Gradient Boosting<br>Performance: 79.22%<br>Model ID: 3045<br>Accuracy: 81.97%<br>Precision: 82.14%<br>Recall: 81.97%<br>ROC AUC: 81.44<br>Geometric Mean: 81.44<br>Matthews Correlation: 63.71<br>F1: 81.85<br>Average Probability: 76.65",
          "Gradient Boosting<br>Performance: 79.22%<br>Model ID: 3046<br>Accuracy: 81.97%<br>Precision: 82.14%<br>Recall: 81.97%<br>ROC AUC: 81.44<br>Geometric Mean: 81.44<br>Matthews Correlation: 63.71<br>F1: 81.85<br>Average Probability: 76.73",
          "Gradient Boosting<br>Performance: 79.22%<br>Model ID: 2985<br>Accuracy: 81.97%<br>Precision: 82.14%<br>Recall: 81.97%<br>ROC AUC: 81.44<br>Geometric Mean: 81.44<br>Matthews Correlation: 63.71<br>F1: 81.85<br>Average Probability: 76.65",
          "Gradient Boosting<br>Performance: 77.34%<br>Model ID: 3017<br>Accuracy: 80.33%<br>Precision: 80.35%<br>Recall: 80.33%<br>ROC AUC: 79.92<br>Geometric Mean: 79.92<br>Matthews Correlation: 60.31<br>F1: 80.25<br>Average Probability: 76.26",
          "Gradient Boosting<br>Performance: 81.2%<br>Model ID: meta_4<br>Accuracy: 83.61%<br>Precision: 83.61%<br>Recall: 83.61%<br>ROC AUC: 83.5<br>Geometric Mean: 83.5<br>Matthews Correlation: 66.99<br>F1: 83.61<br>Average Probability: 76.94"
         ],
         "marker": {
          "color": [
           79.22,
           79.22,
           79.22,
           79.22,
           77.34,
           81.2
          ],
          "coloraxis": "coloraxis",
          "line": {
           "color": "Black",
           "width": 1
          },
          "opacity": [
           0.8,
           0.8,
           0.8,
           0.8,
           0.8,
           0.8
          ],
          "size": [
           20,
           20,
           20,
           20,
           20,
           40
          ],
          "symbol": [
           "triangle-up",
           "triangle-up",
           "triangle-up",
           "triangle-up",
           "triangle-up",
           "triangle-up"
          ]
         },
         "mode": "markers",
         "name": "Gradient Boosting",
         "type": "scatter",
         "x": [
          5.1824164390563965,
          4.959431171417236,
          4.925910472869873,
          4.542332172393799,
          5.246838092803955,
          -7.544931888580322
         ],
         "y": [
          1.4693187475204468,
          2.105273723602295,
          1.6656525135040283,
          1.8411425352096558,
          2.290584087371826,
          5.4729719161987305
         ]
        },
        {
         "hovertext": [
          "K-Nearest Neighbor<br>Performance: 73.54%<br>Model ID: 249<br>Accuracy: 77.05%<br>Precision: 77.78%<br>Recall: 77.05%<br>ROC AUC: 76.08<br>Geometric Mean: 76.08<br>Matthews Correlation: 54.13<br>F1: 76.63<br>Average Probability: 64.59",
          "K-Nearest Neighbor<br>Performance: 73.54%<br>Model ID: 440<br>Accuracy: 77.05%<br>Precision: 77.78%<br>Recall: 77.05%<br>ROC AUC: 76.08<br>Geometric Mean: 76.08<br>Matthews Correlation: 54.13<br>F1: 76.63<br>Average Probability: 67.94",
          "K-Nearest Neighbor<br>Performance: 73.54%<br>Model ID: 250<br>Accuracy: 77.05%<br>Precision: 77.78%<br>Recall: 77.05%<br>ROC AUC: 76.08<br>Geometric Mean: 76.08<br>Matthews Correlation: 54.13<br>F1: 76.63<br>Average Probability: 65.3",
          "K-Nearest Neighbor<br>Performance: 73.54%<br>Model ID: 252<br>Accuracy: 77.05%<br>Precision: 77.78%<br>Recall: 77.05%<br>ROC AUC: 76.08<br>Geometric Mean: 76.08<br>Matthews Correlation: 54.13<br>F1: 76.63<br>Average Probability: 64.41",
          "K-Nearest Neighbor<br>Performance: 73.54%<br>Model ID: 60<br>Accuracy: 77.05%<br>Precision: 77.78%<br>Recall: 77.05%<br>ROC AUC: 76.08<br>Geometric Mean: 76.08<br>Matthews Correlation: 54.13<br>F1: 76.63<br>Average Probability: 64.37",
          "K-Nearest Neighbor<br>Performance: 81.2%<br>Model ID: meta_6<br>Accuracy: 83.61%<br>Precision: 83.61%<br>Recall: 83.61%<br>ROC AUC: 83.5<br>Geometric Mean: 83.5<br>Matthews Correlation: 66.99<br>F1: 83.61<br>Average Probability: 76.03"
         ],
         "marker": {
          "color": [
           73.54,
           73.54,
           73.54,
           73.54,
           73.54,
           81.2
          ],
          "coloraxis": "coloraxis",
          "line": {
           "color": "Black",
           "width": 1
          },
          "opacity": [
           0.5,
           0.6,
           0.5,
           0.5,
           0.5,
           0.7
          ],
          "size": [
           20,
           20,
           20,
           20,
           20,
           40
          ],
          "symbol": [
           "circle",
           "circle",
           "circle",
           "circle",
           "circle",
           "circle"
          ]
         },
         "mode": "markers",
         "name": "K-Nearest Neighbor",
         "type": "scatter",
         "x": [
          6.259880065917969,
          6.505399227142334,
          6.580533981323242,
          6.040806770324707,
          5.870265483856201,
          -0.40785035490989685
         ],
         "y": [
          9.245294570922852,
          9.965280532836914,
          9.535774230957031,
          9.794652938842773,
          9.564522743225098,
          9.085467338562012
         ]
        },
        {
         "hovertext": [
          "Support Vector Machine<br>Performance: 83.03%<br>Model ID: 614<br>Accuracy: 85.25%<br>Precision: 85.24%<br>Recall: 85.25%<br>ROC AUC: 85.01<br>Geometric Mean: 85.01<br>Matthews Correlation: 70.25<br>F1: 85.22<br>Average Probability: 73.24",
          "Support Vector Machine<br>Performance: 83.03%<br>Model ID: 606<br>Accuracy: 85.25%<br>Precision: 85.24%<br>Recall: 85.25%<br>ROC AUC: 85.01<br>Geometric Mean: 85.01<br>Matthews Correlation: 70.25<br>F1: 85.22<br>Average Probability: 73.34",
          "Support Vector Machine<br>Performance: 83.03%<br>Model ID: 586<br>Accuracy: 85.25%<br>Precision: 85.24%<br>Recall: 85.25%<br>ROC AUC: 85.01<br>Geometric Mean: 85.01<br>Matthews Correlation: 70.25<br>F1: 85.22<br>Average Probability: 73.99",
          "Support Vector Machine<br>Performance: 83.03%<br>Model ID: 598<br>Accuracy: 85.25%<br>Precision: 85.24%<br>Recall: 85.25%<br>ROC AUC: 85.01<br>Geometric Mean: 85.01<br>Matthews Correlation: 70.25<br>F1: 85.22<br>Average Probability: 73.62",
          "Support Vector Machine<br>Performance: 83.03%<br>Model ID: 610<br>Accuracy: 85.25%<br>Precision: 85.24%<br>Recall: 85.25%<br>ROC AUC: 85.01<br>Geometric Mean: 85.01<br>Matthews Correlation: 70.25<br>F1: 85.22<br>Average Probability: 73.21",
          "Support Vector Machine<br>Performance: 83.15%<br>Model ID: meta_7<br>Accuracy: 85.25%<br>Precision: 85.32%<br>Recall: 85.25%<br>ROC AUC: 85.28<br>Geometric Mean: 85.28<br>Matthews Correlation: 70.41<br>F1: 85.26<br>Average Probability: 74.18"
         ],
         "marker": {
          "color": [
           83.03,
           83.03,
           83.03,
           83.03,
           83.03,
           83.15
          ],
          "coloraxis": "coloraxis",
          "line": {
           "color": "Black",
           "width": 1
          },
          "opacity": [
           0.7,
           0.7,
           0.7,
           0.7,
           0.7,
           0.7
          ],
          "size": [
           20,
           20,
           20,
           20,
           20,
           40
          ],
          "symbol": [
           "square",
           "square",
           "square",
           "square",
           "square",
           "square"
          ]
         },
         "mode": "markers",
         "name": "Support Vector Machine",
         "type": "scatter",
         "x": [
          -13.335465431213379,
          -13.598101615905762,
          -14.11715030670166,
          -13.846553802490234,
          -13.497540473937988,
          0.02485612966120243
         ],
         "y": [
          -28.23847198486328,
          -27.97700309753418,
          -27.44837760925293,
          -27.722530364990234,
          -28.076459884643555,
          9.653436660766602
         ]
        },
        {
         "hovertext": [
          "Gaussian Naive Bayes<br>Performance: 76.1%<br>Model ID: 1077<br>Accuracy: 78.69%<br>Precision: 79.75%<br>Recall: 78.69%<br>ROC AUC: 79.22<br>Geometric Mean: 79.22<br>Matthews Correlation: 58.44<br>F1: 78.69<br>Average Probability: 77.05",
          "Gaussian Naive Bayes<br>Performance: 76.1%<br>Model ID: 1066<br>Accuracy: 78.69%<br>Precision: 79.75%<br>Recall: 78.69%<br>ROC AUC: 79.22<br>Geometric Mean: 79.22<br>Matthews Correlation: 58.44<br>F1: 78.69<br>Average Probability: 77.04",
          "Gaussian Naive Bayes<br>Performance: 76.1%<br>Model ID: 1078<br>Accuracy: 78.69%<br>Precision: 79.75%<br>Recall: 78.69%<br>ROC AUC: 79.22<br>Geometric Mean: 79.22<br>Matthews Correlation: 58.44<br>F1: 78.69<br>Average Probability: 77.05",
          "Gaussian Naive Bayes<br>Performance: 76.1%<br>Model ID: 1079<br>Accuracy: 78.69%<br>Precision: 79.75%<br>Recall: 78.69%<br>ROC AUC: 79.22<br>Geometric Mean: 79.22<br>Matthews Correlation: 58.44<br>F1: 78.69<br>Average Probability: 77.05",
          "Gaussian Naive Bayes<br>Performance: 76.1%<br>Model ID: 737<br>Accuracy: 78.69%<br>Precision: 79.75%<br>Recall: 78.69%<br>ROC AUC: 79.22<br>Geometric Mean: 79.22<br>Matthews Correlation: 58.44<br>F1: 78.69<br>Average Probability: 77.04",
          "Gaussian Naive Bayes<br>Performance: 84.96%<br>Model ID: meta_1<br>Accuracy: 86.89%<br>Precision: 86.89%<br>Recall: 86.89%<br>ROC AUC: 86.8<br>Geometric Mean: 86.8<br>Matthews Correlation: 73.59<br>F1: 86.89<br>Average Probability: 86.75"
         ],
         "marker": {
          "color": [
           76.1,
           76.1,
           76.1,
           76.1,
           76.1,
           84.96
          ],
          "coloraxis": "coloraxis",
          "line": {
           "color": "Black",
           "width": 1
          },
          "opacity": [
           0.8,
           0.8,
           0.8,
           0.8,
           0.8,
           1
          ],
          "size": [
           20,
           20,
           20,
           20,
           20,
           40
          ],
          "symbol": [
           "x",
           "x",
           "x",
           "x",
           "x",
           "x"
          ]
         },
         "mode": "markers",
         "name": "Gaussian Naive Bayes",
         "type": "scatter",
         "x": [
          -4.815362453460693,
          -5.257063388824463,
          -4.811185836791992,
          -5.081238746643066,
          -5.401437759399414,
          0.31938472390174866
         ],
         "y": [
          1.2329726219177246,
          1.674519419670105,
          1.2293262481689453,
          1.4991873502731323,
          1.819471836090088,
          9.93808364868164
         ]
        },
        {
         "hovertext": [
          "Multilayer Perceptron<br>Performance: 79.87%<br>Model ID: 1261<br>Accuracy: 81.97%<br>Precision: 83.08%<br>Recall: 81.97%<br>ROC AUC: 82.52<br>Geometric Mean: 82.52<br>Matthews Correlation: 65.04<br>F1: 81.97<br>Average Probability: 70.73",
          "Multilayer Perceptron<br>Performance: 79.87%<br>Model ID: 1262<br>Accuracy: 81.97%<br>Precision: 83.08%<br>Recall: 81.97%<br>ROC AUC: 82.52<br>Geometric Mean: 82.52<br>Matthews Correlation: 65.04<br>F1: 81.97<br>Average Probability: 70.73",
          "Multilayer Perceptron<br>Performance: 79.87%<br>Model ID: 1263<br>Accuracy: 81.97%<br>Precision: 83.08%<br>Recall: 81.97%<br>ROC AUC: 82.52<br>Geometric Mean: 82.52<br>Matthews Correlation: 65.04<br>F1: 81.97<br>Average Probability: 70.73",
          "Multilayer Perceptron<br>Performance: 79.87%<br>Model ID: 1249<br>Accuracy: 81.97%<br>Precision: 83.08%<br>Recall: 81.97%<br>ROC AUC: 82.52<br>Geometric Mean: 82.52<br>Matthews Correlation: 65.04<br>F1: 81.97<br>Average Probability: 70.95",
          "Multilayer Perceptron<br>Performance: 79.87%<br>Model ID: 1237<br>Accuracy: 81.97%<br>Precision: 83.08%<br>Recall: 81.97%<br>ROC AUC: 82.52<br>Geometric Mean: 82.52<br>Matthews Correlation: 65.04<br>F1: 81.97<br>Average Probability: 70.77",
          "Multilayer Perceptron<br>Performance: 79.27%<br>Model ID: meta_9<br>Accuracy: 81.97%<br>Precision: 81.95%<br>Recall: 81.97%<br>ROC AUC: 81.71<br>Geometric Mean: 81.71<br>Matthews Correlation: 63.63<br>F1: 81.94<br>Average Probability: 74.04"
         ],
         "marker": {
          "color": [
           79.87,
           79.87,
           79.87,
           79.87,
           79.87,
           79.27
          ],
          "coloraxis": "coloraxis",
          "line": {
           "color": "Black",
           "width": 1
          },
          "opacity": [
           0.6,
           0.6,
           0.6,
           0.6,
           0.6,
           0.7
          ],
          "size": [
           20,
           20,
           20,
           20,
           20,
           40
          ],
          "symbol": [
           "cross",
           "cross",
           "cross",
           "cross",
           "cross",
           "cross"
          ]
         },
         "mode": "markers",
         "name": "Multilayer Perceptron",
         "type": "scatter",
         "x": [
          -3.5734803676605225,
          -3.3832740783691406,
          -3.8836669921875,
          -3.1610846519470215,
          -3.7683660984039307,
          0.5331072211265564
         ],
         "y": [
          -18.09724998474121,
          -18.28626823425293,
          -17.787109375,
          -18.51308250427246,
          -17.901710510253906,
          9.031468391418457
         ]
        },
        {
         "hovertext": [
          "Logistic Regression<br>Performance: 84.92%<br>Model ID: 1453<br>Accuracy: 86.89%<br>Precision: 87.4%<br>Recall: 86.89%<br>ROC AUC: 86.26<br>Geometric Mean: 86.25<br>Matthews Correlation: 73.97<br>F1: 86.76<br>Average Probability: 75.28",
          "Logistic Regression<br>Performance: 84.92%<br>Model ID: 1973<br>Accuracy: 86.89%<br>Precision: 87.4%<br>Recall: 86.89%<br>ROC AUC: 86.26<br>Geometric Mean: 86.25<br>Matthews Correlation: 73.97<br>F1: 86.76<br>Average Probability: 75.68",
          "Logistic Regression<br>Performance: 84.92%<br>Model ID: 1945<br>Accuracy: 86.89%<br>Precision: 87.4%<br>Recall: 86.89%<br>ROC AUC: 86.26<br>Geometric Mean: 86.25<br>Matthews Correlation: 73.97<br>F1: 86.76<br>Average Probability: 75.89",
          "Logistic Regression<br>Performance: 84.92%<br>Model ID: 1721<br>Accuracy: 86.89%<br>Precision: 87.4%<br>Recall: 86.89%<br>ROC AUC: 86.26<br>Geometric Mean: 86.25<br>Matthews Correlation: 73.97<br>F1: 86.76<br>Average Probability: 75.89",
          "Logistic Regression<br>Performance: 84.92%<br>Model ID: 1977<br>Accuracy: 86.89%<br>Precision: 87.4%<br>Recall: 86.89%<br>ROC AUC: 86.26<br>Geometric Mean: 86.25<br>Matthews Correlation: 73.97<br>F1: 86.76<br>Average Probability: 75.89",
          "Logistic Regression<br>Performance: 83.03%<br>Model ID: meta_3<br>Accuracy: 85.25%<br>Precision: 85.24%<br>Recall: 85.25%<br>ROC AUC: 85.01<br>Geometric Mean: 85.01<br>Matthews Correlation: 70.25<br>F1: 85.22<br>Average Probability: 75.48"
         ],
         "marker": {
          "color": [
           84.92,
           84.92,
           84.92,
           84.92,
           84.92,
           83.03
          ],
          "coloraxis": "coloraxis",
          "line": {
           "color": "Black",
           "width": 1
          },
          "opacity": [
           0.7,
           0.7,
           0.7,
           0.7,
           0.7,
           0.7
          ],
          "size": [
           20,
           20,
           20,
           20,
           20,
           40
          ],
          "symbol": [
           "diamond",
           "diamond",
           "diamond",
           "diamond",
           "diamond",
           "diamond"
          ]
         },
         "mode": "markers",
         "name": "Logistic Regression",
         "type": "scatter",
         "x": [
          4.770027160644531,
          5.155518531799316,
          5.69474983215332,
          5.851162433624268,
          5.836445331573486,
          0.24807927012443542
         ],
         "y": [
          23.107751846313477,
          23.402179718017578,
          22.91474151611328,
          23.600379943847656,
          23.151687622070312,
          9.371599197387695
         ]
        },
        {
         "hovertext": [
          "Linear Discriminant Analysis<br>Performance: 67.97%<br>Model ID: 2001<br>Accuracy: 72.13%<br>Precision: 72.08%<br>Recall: 72.13%<br>ROC AUC: 71.81<br>Geometric Mean: 71.81<br>Matthews Correlation: 43.76<br>F1: 72.09<br>Average Probability: 64.77",
          "Linear Discriminant Analysis<br>Performance: 69.8%<br>Model ID: 2000<br>Accuracy: 73.77%<br>Precision: 73.73%<br>Recall: 73.77%<br>ROC AUC: 73.32<br>Geometric Mean: 73.32<br>Matthews Correlation: 47.0<br>F1: 73.67<br>Average Probability: 66.94",
          "Linear Discriminant Analysis<br>Performance: 69.8%<br>Model ID: 1999<br>Accuracy: 73.77%<br>Precision: 73.73%<br>Recall: 73.77%<br>ROC AUC: 73.32<br>Geometric Mean: 73.32<br>Matthews Correlation: 47.0<br>F1: 73.67<br>Average Probability: 66.94",
          "Linear Discriminant Analysis<br>Performance: 84.92%<br>Model ID: 1998<br>Accuracy: 86.89%<br>Precision: 87.4%<br>Recall: 86.89%<br>ROC AUC: 86.26<br>Geometric Mean: 86.25<br>Matthews Correlation: 73.97<br>F1: 86.76<br>Average Probability: 77.23",
          "Linear Discriminant Analysis<br>Performance: 84.92%<br>Model ID: 1997<br>Accuracy: 86.89%<br>Precision: 87.4%<br>Recall: 86.89%<br>ROC AUC: 86.26<br>Geometric Mean: 86.25<br>Matthews Correlation: 73.97<br>F1: 86.76<br>Average Probability: 77.23",
          "Linear Discriminant Analysis<br>Performance: 73.68%<br>Model ID: meta_10<br>Accuracy: 77.05%<br>Precision: 77.05%<br>Recall: 77.05%<br>ROC AUC: 76.89<br>Geometric Mean: 76.89<br>Matthews Correlation: 53.79<br>F1: 77.05<br>Average Probability: 77.37"
         ],
         "marker": {
          "color": [
           67.97,
           69.8,
           69.8,
           84.92,
           84.92,
           73.68
          ],
          "coloraxis": "coloraxis",
          "line": {
           "color": "Black",
           "width": 1
          },
          "opacity": [
           0.5,
           0.5,
           0.5,
           0.8,
           0.8,
           0.8
          ],
          "size": [
           20,
           20,
           20,
           20,
           20,
           40
          ],
          "symbol": [
           "star",
           "star",
           "star",
           "star",
           "star",
           "star"
          ]
         },
         "mode": "markers",
         "name": "Linear Discriminant Analysis",
         "type": "scatter",
         "x": [
          4.642222881317139,
          4.619481086730957,
          4.85151481628418,
          6.26889705657959,
          5.595638275146484,
          -0.6922255158424377
         ],
         "y": [
          9.94483470916748,
          9.46323013305664,
          9.646673202514648,
          23.149137496948242,
          23.629850387573242,
          9.325376510620117
         ]
        },
        {
         "hovertext": [
          "Quadratic Discriminant Analysis<br>Performance: 81.12%<br>Model ID: 2271<br>Accuracy: 83.61%<br>Precision: 83.66%<br>Recall: 83.61%<br>ROC AUC: 83.23<br>Geometric Mean: 83.22<br>Matthews Correlation: 66.96<br>F1: 83.54<br>Average Probability: 77.54",
          "Quadratic Discriminant Analysis<br>Performance: 81.12%<br>Model ID: 2272<br>Accuracy: 83.61%<br>Precision: 83.66%<br>Recall: 83.61%<br>ROC AUC: 83.23<br>Geometric Mean: 83.22<br>Matthews Correlation: 66.96<br>F1: 83.54<br>Average Probability: 77.54",
          "Quadratic Discriminant Analysis<br>Performance: 81.12%<br>Model ID: 2273<br>Accuracy: 83.61%<br>Precision: 83.66%<br>Recall: 83.61%<br>ROC AUC: 83.23<br>Geometric Mean: 83.22<br>Matthews Correlation: 66.96<br>F1: 83.54<br>Average Probability: 77.54",
          "Quadratic Discriminant Analysis<br>Performance: 81.12%<br>Model ID: 2274<br>Accuracy: 83.61%<br>Precision: 83.66%<br>Recall: 83.61%<br>ROC AUC: 83.23<br>Geometric Mean: 83.22<br>Matthews Correlation: 66.96<br>F1: 83.54<br>Average Probability: 77.54",
          "Quadratic Discriminant Analysis<br>Performance: 81.12%<br>Model ID: 2264<br>Accuracy: 83.61%<br>Precision: 83.66%<br>Recall: 83.61%<br>ROC AUC: 83.23<br>Geometric Mean: 83.22<br>Matthews Correlation: 66.96<br>F1: 83.54<br>Average Probability: 77.54",
          "Quadratic Discriminant Analysis<br>Performance: 84.96%<br>Model ID: meta_2<br>Accuracy: 86.89%<br>Precision: 86.89%<br>Recall: 86.89%<br>ROC AUC: 86.8<br>Geometric Mean: 86.8<br>Matthews Correlation: 73.59<br>F1: 86.89<br>Average Probability: 83.51"
         ],
         "marker": {
          "color": [
           81.12,
           81.12,
           81.12,
           81.12,
           81.12,
           84.96
          ],
          "coloraxis": "coloraxis",
          "line": {
           "color": "Black",
           "width": 1
          },
          "opacity": [
           0.8,
           0.8,
           0.8,
           0.8,
           0.8,
           0.9
          ],
          "size": [
           20,
           20,
           20,
           20,
           20,
           40
          ],
          "symbol": [
           "hexagram",
           "hexagram",
           "hexagram",
           "hexagram",
           "hexagram",
           "hexagram"
          ]
         },
         "mode": "markers",
         "name": "Quadratic Discriminant Analysis",
         "type": "scatter",
         "x": [
          33.217750549316406,
          33.062744140625,
          33.287235260009766,
          32.65398025512695,
          32.77592086791992,
          -0.1956096589565277
         ],
         "y": [
          12.208738327026367,
          12.05370807647705,
          12.278188705444336,
          11.64495849609375,
          11.766901016235352,
          10.060325622558594
         ]
        },
        {
         "hovertext": [
          "Random Forest<br>Performance: 81.12%<br>Model ID: 2570<br>Accuracy: 83.61%<br>Precision: 83.66%<br>Recall: 83.61%<br>ROC AUC: 83.23<br>Geometric Mean: 83.22<br>Matthews Correlation: 66.96<br>F1: 83.54<br>Average Probability: 72.15",
          "Random Forest<br>Performance: 81.12%<br>Model ID: 2571<br>Accuracy: 83.61%<br>Precision: 83.66%<br>Recall: 83.61%<br>ROC AUC: 83.23<br>Geometric Mean: 83.22<br>Matthews Correlation: 66.96<br>F1: 83.54<br>Average Probability: 72.23",
          "Random Forest<br>Performance: 81.12%<br>Model ID: 2572<br>Accuracy: 83.61%<br>Precision: 83.66%<br>Recall: 83.61%<br>ROC AUC: 83.23<br>Geometric Mean: 83.22<br>Matthews Correlation: 66.96<br>F1: 83.54<br>Average Probability: 72.21",
          "Random Forest<br>Performance: 81.12%<br>Model ID: 2575<br>Accuracy: 83.61%<br>Precision: 83.66%<br>Recall: 83.61%<br>ROC AUC: 83.23<br>Geometric Mean: 83.22<br>Matthews Correlation: 66.96<br>F1: 83.54<br>Average Probability: 72.13",
          "Random Forest<br>Performance: 81.12%<br>Model ID: 2606<br>Accuracy: 83.61%<br>Precision: 83.66%<br>Recall: 83.61%<br>ROC AUC: 83.23<br>Geometric Mean: 83.22<br>Matthews Correlation: 66.96<br>F1: 83.54<br>Average Probability: 71.82",
          "Random Forest<br>Performance: 83.03%<br>Model ID: meta_5<br>Accuracy: 85.25%<br>Precision: 85.24%<br>Recall: 85.25%<br>ROC AUC: 85.01<br>Geometric Mean: 85.01<br>Matthews Correlation: 70.25<br>F1: 85.22<br>Average Probability: 74.7"
         ],
         "marker": {
          "color": [
           81.12,
           81.12,
           81.12,
           81.12,
           81.12,
           83.03
          ],
          "coloraxis": "coloraxis",
          "line": {
           "color": "Black",
           "width": 1
          },
          "opacity": [
           0.7,
           0.7,
           0.7,
           0.7,
           0.6,
           0.7
          ],
          "size": [
           20,
           20,
           20,
           20,
           20,
           40
          ],
          "symbol": [
           "triangle-right",
           "triangle-right",
           "triangle-right",
           "triangle-right",
           "triangle-right",
           "triangle-right"
          ]
         },
         "mode": "markers",
         "name": "Random Forest",
         "type": "scatter",
         "x": [
          -26.429845809936523,
          -25.638669967651367,
          -25.914108276367188,
          -25.957149505615234,
          -26.226486206054688,
          0.3604136109352112
         ],
         "y": [
          -18.37827491760254,
          -17.58718490600586,
          -17.86271095275879,
          -17.905725479125977,
          -18.175045013427734,
          8.318439483642578
         ]
        },
        {
         "hovertext": [
          "Extra Trees<br>Performance: 83.0%<br>Model ID: 2623<br>Accuracy: 85.25%<br>Precision: 85.48%<br>Recall: 85.25%<br>ROC AUC: 84.74<br>Geometric Mean: 84.74<br>Matthews Correlation: 70.4<br>F1: 85.15<br>Average Probability: 72.8",
          "Extra Trees<br>Performance: 83.0%<br>Model ID: 2717<br>Accuracy: 85.25%<br>Precision: 85.48%<br>Recall: 85.25%<br>ROC AUC: 84.74<br>Geometric Mean: 84.74<br>Matthews Correlation: 70.4<br>F1: 85.15<br>Average Probability: 73.48",
          "Extra Trees<br>Performance: 83.0%<br>Model ID: 2718<br>Accuracy: 85.25%<br>Precision: 85.48%<br>Recall: 85.25%<br>ROC AUC: 84.74<br>Geometric Mean: 84.74<br>Matthews Correlation: 70.4<br>F1: 85.15<br>Average Probability: 73.48",
          "Extra Trees<br>Performance: 83.0%<br>Model ID: 2625<br>Accuracy: 85.25%<br>Precision: 85.48%<br>Recall: 85.25%<br>ROC AUC: 84.74<br>Geometric Mean: 84.74<br>Matthews Correlation: 70.4<br>F1: 85.15<br>Average Probability: 72.72",
          "Extra Trees<br>Performance: 83.0%<br>Model ID: 2716<br>Accuracy: 85.25%<br>Precision: 85.48%<br>Recall: 85.25%<br>ROC AUC: 84.74<br>Geometric Mean: 84.74<br>Matthews Correlation: 70.4<br>F1: 85.15<br>Average Probability: 73.51",
          "Extra Trees<br>Performance: 83.15%<br>Model ID: meta_8<br>Accuracy: 85.25%<br>Precision: 85.32%<br>Recall: 85.25%<br>ROC AUC: 85.28<br>Geometric Mean: 85.28<br>Matthews Correlation: 70.41<br>F1: 85.26<br>Average Probability: 74.01"
         ],
         "marker": {
          "color": [
           83,
           83,
           83,
           83,
           83,
           83.15
          ],
          "coloraxis": "coloraxis",
          "line": {
           "color": "Black",
           "width": 1
          },
          "opacity": [
           0.7,
           0.7,
           0.7,
           0.7,
           0.7,
           0.7
          ],
          "size": [
           20,
           20,
           20,
           20,
           20,
           40
          ],
          "symbol": [
           "triangle-left",
           "triangle-left",
           "triangle-left",
           "triangle-left",
           "triangle-left",
           "triangle-left"
          ]
         },
         "mode": "markers",
         "name": "Extra Trees",
         "type": "scatter",
         "x": [
          18.23482894897461,
          18.760305404663086,
          18.407608032226562,
          18.011249542236328,
          18.510295867919922,
          -0.05925474315881729
         ],
         "y": [
          2.8780107498168945,
          3.403803825378418,
          3.0512681007385254,
          2.654646873474121,
          3.153853178024292,
          8.687822341918945
         ]
        },
        {
         "hovertext": [
          "Adaptive Boosting<br>Performance: 83.0%<br>Model ID: 2921<br>Accuracy: 85.25%<br>Precision: 85.48%<br>Recall: 85.25%<br>ROC AUC: 84.74<br>Geometric Mean: 84.74<br>Matthews Correlation: 70.4<br>F1: 85.15<br>Average Probability: 52.96",
          "Adaptive Boosting<br>Performance: 83.0%<br>Model ID: 2920<br>Accuracy: 85.25%<br>Precision: 85.48%<br>Recall: 85.25%<br>ROC AUC: 84.74<br>Geometric Mean: 84.74<br>Matthews Correlation: 70.4<br>F1: 85.15<br>Average Probability: 52.99",
          "Adaptive Boosting<br>Performance: 83.0%<br>Model ID: 2919<br>Accuracy: 85.25%<br>Precision: 85.48%<br>Recall: 85.25%<br>ROC AUC: 84.74<br>Geometric Mean: 84.74<br>Matthews Correlation: 70.4<br>F1: 85.15<br>Average Probability: 53.01",
          "Adaptive Boosting<br>Performance: 83.0%<br>Model ID: 2917<br>Accuracy: 85.25%<br>Precision: 85.48%<br>Recall: 85.25%<br>ROC AUC: 84.74<br>Geometric Mean: 84.74<br>Matthews Correlation: 70.4<br>F1: 85.15<br>Average Probability: 53.05",
          "Adaptive Boosting<br>Performance: 86.8%<br>Model ID: 2918<br>Accuracy: 88.52%<br>Precision: 88.54%<br>Recall: 88.52%<br>ROC AUC: 88.31<br>Geometric Mean: 88.31<br>Matthews Correlation: 76.87<br>F1: 88.51<br>Average Probability: 53.03",
          "Adaptive Boosting<br>Performance: 83.0%<br>Model ID: meta_11<br>Accuracy: 85.25%<br>Precision: 85.48%<br>Recall: 85.25%<br>ROC AUC: 84.74<br>Geometric Mean: 84.74<br>Matthews Correlation: 70.4<br>F1: 85.15<br>Average Probability: 60.25"
         ],
         "marker": {
          "color": [
           83,
           83,
           83,
           83,
           86.8,
           83
          ],
          "coloraxis": "coloraxis",
          "line": {
           "color": "Black",
           "width": 1
          },
          "opacity": [
           0.2,
           0.2,
           0.2,
           0.2,
           0.2,
           0.4
          ],
          "size": [
           20,
           20,
           20,
           20,
           20,
           40
          ],
          "symbol": [
           "triangle-down",
           "triangle-down",
           "triangle-down",
           "triangle-down",
           "triangle-down",
           "triangle-down"
          ]
         },
         "mode": "markers",
         "name": "Adaptive Boosting",
         "type": "scatter",
         "x": [
          -9.263009071350098,
          -8.733983039855957,
          -8.328656196594238,
          -8.885265350341797,
          -8.522090911865234,
          -8.514753341674805
         ],
         "y": [
          -22.100372314453125,
          -22.319744110107422,
          -21.865062713623047,
          -21.5953369140625,
          -21.78702163696289,
          -21.236671447753906
         ]
        },
        {
         "hovertext": [
          "Gradient Boosting<br>Performance: 79.22%<br>Model ID: 2986<br>Accuracy: 81.97%<br>Precision: 82.14%<br>Recall: 81.97%<br>ROC AUC: 81.44<br>Geometric Mean: 81.44<br>Matthews Correlation: 63.71<br>F1: 81.85<br>Average Probability: 76.73",
          "Gradient Boosting<br>Performance: 79.22%<br>Model ID: 3045<br>Accuracy: 81.97%<br>Precision: 82.14%<br>Recall: 81.97%<br>ROC AUC: 81.44<br>Geometric Mean: 81.44<br>Matthews Correlation: 63.71<br>F1: 81.85<br>Average Probability: 76.65",
          "Gradient Boosting<br>Performance: 79.22%<br>Model ID: 3046<br>Accuracy: 81.97%<br>Precision: 82.14%<br>Recall: 81.97%<br>ROC AUC: 81.44<br>Geometric Mean: 81.44<br>Matthews Correlation: 63.71<br>F1: 81.85<br>Average Probability: 76.73",
          "Gradient Boosting<br>Performance: 79.22%<br>Model ID: 2985<br>Accuracy: 81.97%<br>Precision: 82.14%<br>Recall: 81.97%<br>ROC AUC: 81.44<br>Geometric Mean: 81.44<br>Matthews Correlation: 63.71<br>F1: 81.85<br>Average Probability: 76.65",
          "Gradient Boosting<br>Performance: 77.34%<br>Model ID: 3017<br>Accuracy: 80.33%<br>Precision: 80.35%<br>Recall: 80.33%<br>ROC AUC: 79.92<br>Geometric Mean: 79.92<br>Matthews Correlation: 60.31<br>F1: 80.25<br>Average Probability: 76.26",
          "Gradient Boosting<br>Performance: 81.2%<br>Model ID: meta_4<br>Accuracy: 83.61%<br>Precision: 83.61%<br>Recall: 83.61%<br>ROC AUC: 83.5<br>Geometric Mean: 83.5<br>Matthews Correlation: 66.99<br>F1: 83.61<br>Average Probability: 76.94"
         ],
         "marker": {
          "color": [
           79.22,
           79.22,
           79.22,
           79.22,
           77.34,
           81.2
          ],
          "coloraxis": "coloraxis",
          "line": {
           "color": "Black",
           "width": 1
          },
          "opacity": [
           0.8,
           0.8,
           0.8,
           0.8,
           0.8,
           0.8
          ],
          "size": [
           20,
           20,
           20,
           20,
           20,
           40
          ],
          "symbol": [
           "triangle-up",
           "triangle-up",
           "triangle-up",
           "triangle-up",
           "triangle-up",
           "triangle-up"
          ]
         },
         "mode": "markers",
         "name": "Gradient Boosting",
         "type": "scatter",
         "x": [
          6.957049369812012,
          6.391941070556641,
          6.2986016273498535,
          6.558784008026123,
          6.763629913330078,
          -0.19425053894519806
         ],
         "y": [
          28.936676025390625,
          29.50087547302246,
          29.59339141845703,
          29.334239959716797,
          29.129783630371094,
          8.333719253540039
         ]
        },
        {
         "hovertext": [
          "K-Nearest Neighbor<br>Performance: 73.54%<br>Model ID: 249<br>Accuracy: 77.05%<br>Precision: 77.78%<br>Recall: 77.05%<br>ROC AUC: 76.08<br>Geometric Mean: 76.08<br>Matthews Correlation: 54.13<br>F1: 76.63<br>Average Probability: 64.59",
          "K-Nearest Neighbor<br>Performance: 73.54%<br>Model ID: 440<br>Accuracy: 77.05%<br>Precision: 77.78%<br>Recall: 77.05%<br>ROC AUC: 76.08<br>Geometric Mean: 76.08<br>Matthews Correlation: 54.13<br>F1: 76.63<br>Average Probability: 67.94",
          "K-Nearest Neighbor<br>Performance: 73.54%<br>Model ID: 250<br>Accuracy: 77.05%<br>Precision: 77.78%<br>Recall: 77.05%<br>ROC AUC: 76.08<br>Geometric Mean: 76.08<br>Matthews Correlation: 54.13<br>F1: 76.63<br>Average Probability: 65.3",
          "K-Nearest Neighbor<br>Performance: 73.54%<br>Model ID: 252<br>Accuracy: 77.05%<br>Precision: 77.78%<br>Recall: 77.05%<br>ROC AUC: 76.08<br>Geometric Mean: 76.08<br>Matthews Correlation: 54.13<br>F1: 76.63<br>Average Probability: 64.41",
          "K-Nearest Neighbor<br>Performance: 73.54%<br>Model ID: 60<br>Accuracy: 77.05%<br>Precision: 77.78%<br>Recall: 77.05%<br>ROC AUC: 76.08<br>Geometric Mean: 76.08<br>Matthews Correlation: 54.13<br>F1: 76.63<br>Average Probability: 64.37",
          "K-Nearest Neighbor<br>Performance: 81.2%<br>Model ID: meta_6<br>Accuracy: 83.61%<br>Precision: 83.61%<br>Recall: 83.61%<br>ROC AUC: 83.5<br>Geometric Mean: 83.5<br>Matthews Correlation: 66.99<br>F1: 83.61<br>Average Probability: 76.03"
         ],
         "marker": {
          "color": [
           73.54,
           73.54,
           73.54,
           73.54,
           73.54,
           81.2
          ],
          "coloraxis": "coloraxis",
          "line": {
           "color": "Black",
           "width": 1
          },
          "opacity": [
           0.5,
           0.6,
           0.5,
           0.5,
           0.5,
           0.7
          ],
          "size": [
           20,
           20,
           20,
           20,
           20,
           40
          ],
          "symbol": [
           "circle",
           "circle",
           "circle",
           "circle",
           "circle",
           "circle"
          ]
         },
         "mode": "markers",
         "name": "K-Nearest Neighbor",
         "type": "scatter",
         "x": [
          -4.26051139831543,
          -4.471523761749268,
          -4.922145366668701,
          -4.716599464416504,
          -4.500654697418213,
          26.350479125976562
         ],
         "y": [
          -1.0051803588867188,
          -0.6792595982551575,
          -0.844795823097229,
          -1.4171130657196045,
          -1.3805904388427734,
          10.924616813659668
         ]
        },
        {
         "hovertext": [
          "Support Vector Machine<br>Performance: 83.03%<br>Model ID: 614<br>Accuracy: 85.25%<br>Precision: 85.24%<br>Recall: 85.25%<br>ROC AUC: 85.01<br>Geometric Mean: 85.01<br>Matthews Correlation: 70.25<br>F1: 85.22<br>Average Probability: 73.24",
          "Support Vector Machine<br>Performance: 83.03%<br>Model ID: 606<br>Accuracy: 85.25%<br>Precision: 85.24%<br>Recall: 85.25%<br>ROC AUC: 85.01<br>Geometric Mean: 85.01<br>Matthews Correlation: 70.25<br>F1: 85.22<br>Average Probability: 73.34",
          "Support Vector Machine<br>Performance: 83.03%<br>Model ID: 586<br>Accuracy: 85.25%<br>Precision: 85.24%<br>Recall: 85.25%<br>ROC AUC: 85.01<br>Geometric Mean: 85.01<br>Matthews Correlation: 70.25<br>F1: 85.22<br>Average Probability: 73.99",
          "Support Vector Machine<br>Performance: 83.03%<br>Model ID: 598<br>Accuracy: 85.25%<br>Precision: 85.24%<br>Recall: 85.25%<br>ROC AUC: 85.01<br>Geometric Mean: 85.01<br>Matthews Correlation: 70.25<br>F1: 85.22<br>Average Probability: 73.62",
          "Support Vector Machine<br>Performance: 83.03%<br>Model ID: 610<br>Accuracy: 85.25%<br>Precision: 85.24%<br>Recall: 85.25%<br>ROC AUC: 85.01<br>Geometric Mean: 85.01<br>Matthews Correlation: 70.25<br>F1: 85.22<br>Average Probability: 73.21",
          "Support Vector Machine<br>Performance: 83.15%<br>Model ID: meta_7<br>Accuracy: 85.25%<br>Precision: 85.32%<br>Recall: 85.25%<br>ROC AUC: 85.28<br>Geometric Mean: 85.28<br>Matthews Correlation: 70.41<br>F1: 85.26<br>Average Probability: 74.18"
         ],
         "marker": {
          "color": [
           83.03,
           83.03,
           83.03,
           83.03,
           83.03,
           83.15
          ],
          "coloraxis": "coloraxis",
          "line": {
           "color": "Black",
           "width": 1
          },
          "opacity": [
           0.7,
           0.7,
           0.7,
           0.7,
           0.7,
           0.7
          ],
          "size": [
           20,
           20,
           20,
           20,
           20,
           40
          ],
          "symbol": [
           "square",
           "square",
           "square",
           "square",
           "square",
           "square"
          ]
         },
         "mode": "markers",
         "name": "Support Vector Machine",
         "type": "scatter",
         "x": [
          14.076994895935059,
          13.043888092041016,
          13.317251205444336,
          13.695539474487305,
          13.517596244812012,
          27.235158920288086
         ],
         "y": [
          14.07367992401123,
          15.114185333251953,
          14.8247652053833,
          14.449237823486328,
          14.629363059997559,
          11.533575057983398
         ]
        },
        {
         "hovertext": [
          "Gaussian Naive Bayes<br>Performance: 76.1%<br>Model ID: 1077<br>Accuracy: 78.69%<br>Precision: 79.75%<br>Recall: 78.69%<br>ROC AUC: 79.22<br>Geometric Mean: 79.22<br>Matthews Correlation: 58.44<br>F1: 78.69<br>Average Probability: 77.05",
          "Gaussian Naive Bayes<br>Performance: 76.1%<br>Model ID: 1066<br>Accuracy: 78.69%<br>Precision: 79.75%<br>Recall: 78.69%<br>ROC AUC: 79.22<br>Geometric Mean: 79.22<br>Matthews Correlation: 58.44<br>F1: 78.69<br>Average Probability: 77.04",
          "Gaussian Naive Bayes<br>Performance: 76.1%<br>Model ID: 1078<br>Accuracy: 78.69%<br>Precision: 79.75%<br>Recall: 78.69%<br>ROC AUC: 79.22<br>Geometric Mean: 79.22<br>Matthews Correlation: 58.44<br>F1: 78.69<br>Average Probability: 77.05",
          "Gaussian Naive Bayes<br>Performance: 76.1%<br>Model ID: 1079<br>Accuracy: 78.69%<br>Precision: 79.75%<br>Recall: 78.69%<br>ROC AUC: 79.22<br>Geometric Mean: 79.22<br>Matthews Correlation: 58.44<br>F1: 78.69<br>Average Probability: 77.05",
          "Gaussian Naive Bayes<br>Performance: 76.1%<br>Model ID: 737<br>Accuracy: 78.69%<br>Precision: 79.75%<br>Recall: 78.69%<br>ROC AUC: 79.22<br>Geometric Mean: 79.22<br>Matthews Correlation: 58.44<br>F1: 78.69<br>Average Probability: 77.04",
          "Gaussian Naive Bayes<br>Performance: 84.96%<br>Model ID: meta_1<br>Accuracy: 86.89%<br>Precision: 86.89%<br>Recall: 86.89%<br>ROC AUC: 86.8<br>Geometric Mean: 86.8<br>Matthews Correlation: 73.59<br>F1: 86.89<br>Average Probability: 86.75"
         ],
         "marker": {
          "color": [
           76.1,
           76.1,
           76.1,
           76.1,
           76.1,
           84.96
          ],
          "coloraxis": "coloraxis",
          "line": {
           "color": "Black",
           "width": 1
          },
          "opacity": [
           0.8,
           0.8,
           0.8,
           0.8,
           0.8,
           1
          ],
          "size": [
           20,
           20,
           20,
           20,
           20,
           40
          ],
          "symbol": [
           "x",
           "x",
           "x",
           "x",
           "x",
           "x"
          ]
         },
         "mode": "markers",
         "name": "Gaussian Naive Bayes",
         "type": "scatter",
         "x": [
          -17.31679344177246,
          -17.013240814208984,
          -16.96773910522461,
          -16.595977783203125,
          -17.55661392211914,
          27.817737579345703
         ],
         "y": [
          12.851840019226074,
          12.595465660095215,
          13.310791015625,
          12.996783256530762,
          13.172067642211914,
          11.376697540283203
         ]
        },
        {
         "hovertext": [
          "Multilayer Perceptron<br>Performance: 79.87%<br>Model ID: 1261<br>Accuracy: 81.97%<br>Precision: 83.08%<br>Recall: 81.97%<br>ROC AUC: 82.52<br>Geometric Mean: 82.52<br>Matthews Correlation: 65.04<br>F1: 81.97<br>Average Probability: 70.73",
          "Multilayer Perceptron<br>Performance: 79.87%<br>Model ID: 1262<br>Accuracy: 81.97%<br>Precision: 83.08%<br>Recall: 81.97%<br>ROC AUC: 82.52<br>Geometric Mean: 82.52<br>Matthews Correlation: 65.04<br>F1: 81.97<br>Average Probability: 70.73",
          "Multilayer Perceptron<br>Performance: 79.87%<br>Model ID: 1263<br>Accuracy: 81.97%<br>Precision: 83.08%<br>Recall: 81.97%<br>ROC AUC: 82.52<br>Geometric Mean: 82.52<br>Matthews Correlation: 65.04<br>F1: 81.97<br>Average Probability: 70.73",
          "Multilayer Perceptron<br>Performance: 79.87%<br>Model ID: 1249<br>Accuracy: 81.97%<br>Precision: 83.08%<br>Recall: 81.97%<br>ROC AUC: 82.52<br>Geometric Mean: 82.52<br>Matthews Correlation: 65.04<br>F1: 81.97<br>Average Probability: 70.95",
          "Multilayer Perceptron<br>Performance: 79.87%<br>Model ID: 1237<br>Accuracy: 81.97%<br>Precision: 83.08%<br>Recall: 81.97%<br>ROC AUC: 82.52<br>Geometric Mean: 82.52<br>Matthews Correlation: 65.04<br>F1: 81.97<br>Average Probability: 70.77",
          "Multilayer Perceptron<br>Performance: 79.27%<br>Model ID: meta_9<br>Accuracy: 81.97%<br>Precision: 81.95%<br>Recall: 81.97%<br>ROC AUC: 81.71<br>Geometric Mean: 81.71<br>Matthews Correlation: 63.63<br>F1: 81.94<br>Average Probability: 74.04"
         ],
         "marker": {
          "color": [
           79.87,
           79.87,
           79.87,
           79.87,
           79.87,
           79.27
          ],
          "coloraxis": "coloraxis",
          "line": {
           "color": "Black",
           "width": 1
          },
          "opacity": [
           0.6,
           0.6,
           0.6,
           0.6,
           0.6,
           0.7
          ],
          "size": [
           20,
           20,
           20,
           20,
           20,
           40
          ],
          "symbol": [
           "cross",
           "cross",
           "cross",
           "cross",
           "cross",
           "cross"
          ]
         },
         "mode": "markers",
         "name": "Multilayer Perceptron",
         "type": "scatter",
         "x": [
          -2.724438428878784,
          -2.458043098449707,
          -3.1890904903411865,
          -2.5334935188293457,
          -2.9751813411712646,
          26.891271591186523
         ],
         "y": [
          38.44883728027344,
          38.182456970214844,
          38.913490295410156,
          38.25788116455078,
          38.69959259033203,
          11.728530883789062
         ]
        },
        {
         "hovertext": [
          "Logistic Regression<br>Performance: 84.92%<br>Model ID: 1453<br>Accuracy: 86.89%<br>Precision: 87.4%<br>Recall: 86.89%<br>ROC AUC: 86.26<br>Geometric Mean: 86.25<br>Matthews Correlation: 73.97<br>F1: 86.76<br>Average Probability: 75.28",
          "Logistic Regression<br>Performance: 84.92%<br>Model ID: 1973<br>Accuracy: 86.89%<br>Precision: 87.4%<br>Recall: 86.89%<br>ROC AUC: 86.26<br>Geometric Mean: 86.25<br>Matthews Correlation: 73.97<br>F1: 86.76<br>Average Probability: 75.68",
          "Logistic Regression<br>Performance: 84.92%<br>Model ID: 1945<br>Accuracy: 86.89%<br>Precision: 87.4%<br>Recall: 86.89%<br>ROC AUC: 86.26<br>Geometric Mean: 86.25<br>Matthews Correlation: 73.97<br>F1: 86.76<br>Average Probability: 75.89",
          "Logistic Regression<br>Performance: 84.92%<br>Model ID: 1721<br>Accuracy: 86.89%<br>Precision: 87.4%<br>Recall: 86.89%<br>ROC AUC: 86.26<br>Geometric Mean: 86.25<br>Matthews Correlation: 73.97<br>F1: 86.76<br>Average Probability: 75.89",
          "Logistic Regression<br>Performance: 84.92%<br>Model ID: 1977<br>Accuracy: 86.89%<br>Precision: 87.4%<br>Recall: 86.89%<br>ROC AUC: 86.26<br>Geometric Mean: 86.25<br>Matthews Correlation: 73.97<br>F1: 86.76<br>Average Probability: 75.89",
          "Logistic Regression<br>Performance: 83.03%<br>Model ID: meta_3<br>Accuracy: 85.25%<br>Precision: 85.24%<br>Recall: 85.25%<br>ROC AUC: 85.01<br>Geometric Mean: 85.01<br>Matthews Correlation: 70.25<br>F1: 85.22<br>Average Probability: 75.48"
         ],
         "marker": {
          "color": [
           84.92,
           84.92,
           84.92,
           84.92,
           84.92,
           83.03
          ],
          "coloraxis": "coloraxis",
          "line": {
           "color": "Black",
           "width": 1
          },
          "opacity": [
           0.7,
           0.7,
           0.7,
           0.7,
           0.7,
           0.7
          ],
          "size": [
           20,
           20,
           20,
           20,
           20,
           40
          ],
          "symbol": [
           "diamond",
           "diamond",
           "diamond",
           "diamond",
           "diamond",
           "diamond"
          ]
         },
         "mode": "markers",
         "name": "Logistic Regression",
         "type": "scatter",
         "x": [
          8.68440055847168,
          8.320984840393066,
          8.026827812194824,
          8.76474666595459,
          8.529584884643555,
          26.550020217895508
         ],
         "y": [
          -24.578807830810547,
          -24.59109115600586,
          -25.10100746154785,
          -25.037574768066406,
          -25.39125633239746,
          11.179106712341309
         ]
        },
        {
         "hovertext": [
          "Linear Discriminant Analysis<br>Performance: 67.97%<br>Model ID: 2001<br>Accuracy: 72.13%<br>Precision: 72.08%<br>Recall: 72.13%<br>ROC AUC: 71.81<br>Geometric Mean: 71.81<br>Matthews Correlation: 43.76<br>F1: 72.09<br>Average Probability: 64.77",
          "Linear Discriminant Analysis<br>Performance: 69.8%<br>Model ID: 2000<br>Accuracy: 73.77%<br>Precision: 73.73%<br>Recall: 73.77%<br>ROC AUC: 73.32<br>Geometric Mean: 73.32<br>Matthews Correlation: 47.0<br>F1: 73.67<br>Average Probability: 66.94",
          "Linear Discriminant Analysis<br>Performance: 69.8%<br>Model ID: 1999<br>Accuracy: 73.77%<br>Precision: 73.73%<br>Recall: 73.77%<br>ROC AUC: 73.32<br>Geometric Mean: 73.32<br>Matthews Correlation: 47.0<br>F1: 73.67<br>Average Probability: 66.94",
          "Linear Discriminant Analysis<br>Performance: 84.92%<br>Model ID: 1998<br>Accuracy: 86.89%<br>Precision: 87.4%<br>Recall: 86.89%<br>ROC AUC: 86.26<br>Geometric Mean: 86.25<br>Matthews Correlation: 73.97<br>F1: 86.76<br>Average Probability: 77.23",
          "Linear Discriminant Analysis<br>Performance: 84.92%<br>Model ID: 1997<br>Accuracy: 86.89%<br>Precision: 87.4%<br>Recall: 86.89%<br>ROC AUC: 86.26<br>Geometric Mean: 86.25<br>Matthews Correlation: 73.97<br>F1: 86.76<br>Average Probability: 77.23",
          "Linear Discriminant Analysis<br>Performance: 73.68%<br>Model ID: meta_10<br>Accuracy: 77.05%<br>Precision: 77.05%<br>Recall: 77.05%<br>ROC AUC: 76.89<br>Geometric Mean: 76.89<br>Matthews Correlation: 53.79<br>F1: 77.05<br>Average Probability: 77.37"
         ],
         "marker": {
          "color": [
           67.97,
           69.8,
           69.8,
           84.92,
           84.92,
           73.68
          ],
          "coloraxis": "coloraxis",
          "line": {
           "color": "Black",
           "width": 1
          },
          "opacity": [
           0.5,
           0.5,
           0.5,
           0.8,
           0.8,
           0.8
          ],
          "size": [
           20,
           20,
           20,
           20,
           20,
           40
          ],
          "symbol": [
           "star",
           "star",
           "star",
           "star",
           "star",
           "star"
          ]
         },
         "mode": "markers",
         "name": "Linear Discriminant Analysis",
         "type": "scatter",
         "x": [
          -4.714723587036133,
          -5.2368035316467285,
          -4.875411033630371,
          7.9656853675842285,
          8.300509452819824,
          27.06531524658203
         ],
         "y": [
          -2.0657894611358643,
          -2.5199806690216064,
          -2.3045835494995117,
          -25.663007736206055,
          -25.843589782714844,
          10.980472564697266
         ]
        },
        {
         "hovertext": [
          "Quadratic Discriminant Analysis<br>Performance: 81.12%<br>Model ID: 2271<br>Accuracy: 83.61%<br>Precision: 83.66%<br>Recall: 83.61%<br>ROC AUC: 83.23<br>Geometric Mean: 83.22<br>Matthews Correlation: 66.96<br>F1: 83.54<br>Average Probability: 77.54",
          "Quadratic Discriminant Analysis<br>Performance: 81.12%<br>Model ID: 2272<br>Accuracy: 83.61%<br>Precision: 83.66%<br>Recall: 83.61%<br>ROC AUC: 83.23<br>Geometric Mean: 83.22<br>Matthews Correlation: 66.96<br>F1: 83.54<br>Average Probability: 77.54",
          "Quadratic Discriminant Analysis<br>Performance: 81.12%<br>Model ID: 2273<br>Accuracy: 83.61%<br>Precision: 83.66%<br>Recall: 83.61%<br>ROC AUC: 83.23<br>Geometric Mean: 83.22<br>Matthews Correlation: 66.96<br>F1: 83.54<br>Average Probability: 77.54",
          "Quadratic Discriminant Analysis<br>Performance: 81.12%<br>Model ID: 2274<br>Accuracy: 83.61%<br>Precision: 83.66%<br>Recall: 83.61%<br>ROC AUC: 83.23<br>Geometric Mean: 83.22<br>Matthews Correlation: 66.96<br>F1: 83.54<br>Average Probability: 77.54",
          "Quadratic Discriminant Analysis<br>Performance: 81.12%<br>Model ID: 2264<br>Accuracy: 83.61%<br>Precision: 83.66%<br>Recall: 83.61%<br>ROC AUC: 83.23<br>Geometric Mean: 83.22<br>Matthews Correlation: 66.96<br>F1: 83.54<br>Average Probability: 77.54",
          "Quadratic Discriminant Analysis<br>Performance: 84.96%<br>Model ID: meta_2<br>Accuracy: 86.89%<br>Precision: 86.89%<br>Recall: 86.89%<br>ROC AUC: 86.8<br>Geometric Mean: 86.8<br>Matthews Correlation: 73.59<br>F1: 86.89<br>Average Probability: 83.51"
         ],
         "marker": {
          "color": [
           81.12,
           81.12,
           81.12,
           81.12,
           81.12,
           84.96
          ],
          "coloraxis": "coloraxis",
          "line": {
           "color": "Black",
           "width": 1
          },
          "opacity": [
           0.8,
           0.8,
           0.8,
           0.8,
           0.8,
           0.9
          ],
          "size": [
           20,
           20,
           20,
           20,
           20,
           40
          ],
          "symbol": [
           "hexagram",
           "hexagram",
           "hexagram",
           "hexagram",
           "hexagram",
           "hexagram"
          ]
         },
         "mode": "markers",
         "name": "Quadratic Discriminant Analysis",
         "type": "scatter",
         "x": [
          -16.026954650878906,
          -15.649683952331543,
          -15.293986320495605,
          -16.105844497680664,
          -15.532523155212402,
          27.470138549804688
         ],
         "y": [
          9.662712097167969,
          10.198576927185059,
          9.731098175048828,
          10.312705039978027,
          10.03695011138916,
          10.79223918914795
         ]
        },
        {
         "hovertext": [
          "Random Forest<br>Performance: 81.12%<br>Model ID: 2570<br>Accuracy: 83.61%<br>Precision: 83.66%<br>Recall: 83.61%<br>ROC AUC: 83.23<br>Geometric Mean: 83.22<br>Matthews Correlation: 66.96<br>F1: 83.54<br>Average Probability: 72.15",
          "Random Forest<br>Performance: 81.12%<br>Model ID: 2571<br>Accuracy: 83.61%<br>Precision: 83.66%<br>Recall: 83.61%<br>ROC AUC: 83.23<br>Geometric Mean: 83.22<br>Matthews Correlation: 66.96<br>F1: 83.54<br>Average Probability: 72.23",
          "Random Forest<br>Performance: 81.12%<br>Model ID: 2572<br>Accuracy: 83.61%<br>Precision: 83.66%<br>Recall: 83.61%<br>ROC AUC: 83.23<br>Geometric Mean: 83.22<br>Matthews Correlation: 66.96<br>F1: 83.54<br>Average Probability: 72.21",
          "Random Forest<br>Performance: 81.12%<br>Model ID: 2575<br>Accuracy: 83.61%<br>Precision: 83.66%<br>Recall: 83.61%<br>ROC AUC: 83.23<br>Geometric Mean: 83.22<br>Matthews Correlation: 66.96<br>F1: 83.54<br>Average Probability: 72.13",
          "Random Forest<br>Performance: 81.12%<br>Model ID: 2606<br>Accuracy: 83.61%<br>Precision: 83.66%<br>Recall: 83.61%<br>ROC AUC: 83.23<br>Geometric Mean: 83.22<br>Matthews Correlation: 66.96<br>F1: 83.54<br>Average Probability: 71.82",
          "Random Forest<br>Performance: 83.03%<br>Model ID: meta_5<br>Accuracy: 85.25%<br>Precision: 85.24%<br>Recall: 85.25%<br>ROC AUC: 85.01<br>Geometric Mean: 85.01<br>Matthews Correlation: 70.25<br>F1: 85.22<br>Average Probability: 74.7"
         ],
         "marker": {
          "color": [
           81.12,
           81.12,
           81.12,
           81.12,
           81.12,
           83.03
          ],
          "coloraxis": "coloraxis",
          "line": {
           "color": "Black",
           "width": 1
          },
          "opacity": [
           0.7,
           0.7,
           0.7,
           0.7,
           0.6,
           0.7
          ],
          "size": [
           20,
           20,
           20,
           20,
           20,
           40
          ],
          "symbol": [
           "triangle-right",
           "triangle-right",
           "triangle-right",
           "triangle-right",
           "triangle-right",
           "triangle-right"
          ]
         },
         "mode": "markers",
         "name": "Random Forest",
         "type": "scatter",
         "x": [
          -0.4083027243614197,
          -0.04603508114814758,
          0.03593244031071663,
          0.2439376264810562,
          0.5509899854660034,
          25.895166397094727
         ],
         "y": [
          -7.316843032836914,
          -7.639001846313477,
          -6.8792948722839355,
          -7.2765302658081055,
          -6.876575469970703,
          11.386603355407715
         ]
        },
        {
         "hovertext": [
          "Extra Trees<br>Performance: 83.0%<br>Model ID: 2623<br>Accuracy: 85.25%<br>Precision: 85.48%<br>Recall: 85.25%<br>ROC AUC: 84.74<br>Geometric Mean: 84.74<br>Matthews Correlation: 70.4<br>F1: 85.15<br>Average Probability: 72.8",
          "Extra Trees<br>Performance: 83.0%<br>Model ID: 2717<br>Accuracy: 85.25%<br>Precision: 85.48%<br>Recall: 85.25%<br>ROC AUC: 84.74<br>Geometric Mean: 84.74<br>Matthews Correlation: 70.4<br>F1: 85.15<br>Average Probability: 73.48",
          "Extra Trees<br>Performance: 83.0%<br>Model ID: 2718<br>Accuracy: 85.25%<br>Precision: 85.48%<br>Recall: 85.25%<br>ROC AUC: 84.74<br>Geometric Mean: 84.74<br>Matthews Correlation: 70.4<br>F1: 85.15<br>Average Probability: 73.48",
          "Extra Trees<br>Performance: 83.0%<br>Model ID: 2625<br>Accuracy: 85.25%<br>Precision: 85.48%<br>Recall: 85.25%<br>ROC AUC: 84.74<br>Geometric Mean: 84.74<br>Matthews Correlation: 70.4<br>F1: 85.15<br>Average Probability: 72.72",
          "Extra Trees<br>Performance: 83.0%<br>Model ID: 2716<br>Accuracy: 85.25%<br>Precision: 85.48%<br>Recall: 85.25%<br>ROC AUC: 84.74<br>Geometric Mean: 84.74<br>Matthews Correlation: 70.4<br>F1: 85.15<br>Average Probability: 73.51",
          "Extra Trees<br>Performance: 83.15%<br>Model ID: meta_8<br>Accuracy: 85.25%<br>Precision: 85.32%<br>Recall: 85.25%<br>ROC AUC: 85.28<br>Geometric Mean: 85.28<br>Matthews Correlation: 70.41<br>F1: 85.26<br>Average Probability: 74.01"
         ],
         "marker": {
          "color": [
           83,
           83,
           83,
           83,
           83,
           83.15
          ],
          "coloraxis": "coloraxis",
          "line": {
           "color": "Black",
           "width": 1
          },
          "opacity": [
           0.7,
           0.7,
           0.7,
           0.7,
           0.7,
           0.7
          ],
          "size": [
           20,
           20,
           20,
           20,
           20,
           40
          ],
          "symbol": [
           "triangle-left",
           "triangle-left",
           "triangle-left",
           "triangle-left",
           "triangle-left",
           "triangle-left"
          ]
         },
         "mode": "markers",
         "name": "Extra Trees",
         "type": "scatter",
         "x": [
          2.131418228149414,
          1.5363478660583496,
          1.2799863815307617,
          1.6881415843963623,
          1.7988816499710083,
          26.243741989135742
         ],
         "y": [
          -5.686435699462891,
          -5.117091178894043,
          -5.565797328948975,
          -5.966930866241455,
          -5.246647357940674,
          11.62974739074707
         ]
        },
        {
         "hovertext": [
          "Adaptive Boosting<br>Performance: 83.0%<br>Model ID: 2921<br>Accuracy: 85.25%<br>Precision: 85.48%<br>Recall: 85.25%<br>ROC AUC: 84.74<br>Geometric Mean: 84.74<br>Matthews Correlation: 70.4<br>F1: 85.15<br>Average Probability: 52.96",
          "Adaptive Boosting<br>Performance: 83.0%<br>Model ID: 2920<br>Accuracy: 85.25%<br>Precision: 85.48%<br>Recall: 85.25%<br>ROC AUC: 84.74<br>Geometric Mean: 84.74<br>Matthews Correlation: 70.4<br>F1: 85.15<br>Average Probability: 52.99",
          "Adaptive Boosting<br>Performance: 83.0%<br>Model ID: 2919<br>Accuracy: 85.25%<br>Precision: 85.48%<br>Recall: 85.25%<br>ROC AUC: 84.74<br>Geometric Mean: 84.74<br>Matthews Correlation: 70.4<br>F1: 85.15<br>Average Probability: 53.01",
          "Adaptive Boosting<br>Performance: 83.0%<br>Model ID: 2917<br>Accuracy: 85.25%<br>Precision: 85.48%<br>Recall: 85.25%<br>ROC AUC: 84.74<br>Geometric Mean: 84.74<br>Matthews Correlation: 70.4<br>F1: 85.15<br>Average Probability: 53.05",
          "Adaptive Boosting<br>Performance: 86.8%<br>Model ID: 2918<br>Accuracy: 88.52%<br>Precision: 88.54%<br>Recall: 88.52%<br>ROC AUC: 88.31<br>Geometric Mean: 88.31<br>Matthews Correlation: 76.87<br>F1: 88.51<br>Average Probability: 53.03",
          "Adaptive Boosting<br>Performance: 83.0%<br>Model ID: meta_11<br>Accuracy: 85.25%<br>Precision: 85.48%<br>Recall: 85.25%<br>ROC AUC: 84.74<br>Geometric Mean: 84.74<br>Matthews Correlation: 70.4<br>F1: 85.15<br>Average Probability: 60.25"
         ],
         "marker": {
          "color": [
           83,
           83,
           83,
           83,
           86.8,
           83
          ],
          "coloraxis": "coloraxis",
          "line": {
           "color": "Black",
           "width": 1
          },
          "opacity": [
           0.2,
           0.2,
           0.2,
           0.2,
           0.2,
           0.4
          ],
          "size": [
           20,
           20,
           20,
           20,
           20,
           40
          ],
          "symbol": [
           "triangle-down",
           "triangle-down",
           "triangle-down",
           "triangle-down",
           "triangle-down",
           "triangle-down"
          ]
         },
         "mode": "markers",
         "name": "Adaptive Boosting",
         "type": "scatter",
         "x": [
          -10.272083282470703,
          -10.412038803100586,
          -10.865562438964844,
          -10.483342170715332,
          -10.910247802734375,
          -10.106490135192871
         ],
         "y": [
          14.431840896606445,
          13.907524108886719,
          14.56716251373291,
          14.049249649047852,
          13.949907302856445,
          14.666131973266602
         ]
        },
        {
         "hovertext": [
          "Gradient Boosting<br>Performance: 79.22%<br>Model ID: 2986<br>Accuracy: 81.97%<br>Precision: 82.14%<br>Recall: 81.97%<br>ROC AUC: 81.44<br>Geometric Mean: 81.44<br>Matthews Correlation: 63.71<br>F1: 81.85<br>Average Probability: 76.73",
          "Gradient Boosting<br>Performance: 79.22%<br>Model ID: 3045<br>Accuracy: 81.97%<br>Precision: 82.14%<br>Recall: 81.97%<br>ROC AUC: 81.44<br>Geometric Mean: 81.44<br>Matthews Correlation: 63.71<br>F1: 81.85<br>Average Probability: 76.65",
          "Gradient Boosting<br>Performance: 79.22%<br>Model ID: 3046<br>Accuracy: 81.97%<br>Precision: 82.14%<br>Recall: 81.97%<br>ROC AUC: 81.44<br>Geometric Mean: 81.44<br>Matthews Correlation: 63.71<br>F1: 81.85<br>Average Probability: 76.73",
          "Gradient Boosting<br>Performance: 79.22%<br>Model ID: 2985<br>Accuracy: 81.97%<br>Precision: 82.14%<br>Recall: 81.97%<br>ROC AUC: 81.44<br>Geometric Mean: 81.44<br>Matthews Correlation: 63.71<br>F1: 81.85<br>Average Probability: 76.65",
          "Gradient Boosting<br>Performance: 77.34%<br>Model ID: 3017<br>Accuracy: 80.33%<br>Precision: 80.35%<br>Recall: 80.33%<br>ROC AUC: 79.92<br>Geometric Mean: 79.92<br>Matthews Correlation: 60.31<br>F1: 80.25<br>Average Probability: 76.26",
          "Gradient Boosting<br>Performance: 81.2%<br>Model ID: meta_4<br>Accuracy: 83.61%<br>Precision: 83.61%<br>Recall: 83.61%<br>ROC AUC: 83.5<br>Geometric Mean: 83.5<br>Matthews Correlation: 66.99<br>F1: 83.61<br>Average Probability: 76.94"
         ],
         "marker": {
          "color": [
           79.22,
           79.22,
           79.22,
           79.22,
           77.34,
           81.2
          ],
          "coloraxis": "coloraxis",
          "line": {
           "color": "Black",
           "width": 1
          },
          "opacity": [
           0.8,
           0.8,
           0.8,
           0.8,
           0.8,
           0.8
          ],
          "size": [
           20,
           20,
           20,
           20,
           20,
           40
          ],
          "symbol": [
           "triangle-up",
           "triangle-up",
           "triangle-up",
           "triangle-up",
           "triangle-up",
           "triangle-up"
          ]
         },
         "mode": "markers",
         "name": "Gradient Boosting",
         "type": "scatter",
         "x": [
          16.101097106933594,
          16.60857582092285,
          16.488483428955078,
          16.31910514831543,
          16.88322639465332,
          26.118637084960938
         ],
         "y": [
          11.311725616455078,
          10.822909355163574,
          10.943567276000977,
          11.123801231384277,
          10.547562599182129,
          10.660663604736328
         ]
        }
       ],
       "layout": {
        "coloraxis": {
         "cmax": 90,
         "cmin": 60,
         "colorbar": {
          "title": {
           "side": "right",
           "text": "Metric-Based Performance"
          }
         },
         "colorscale": [
          [
           0,
           "#440154"
          ],
          [
           0.1111111111111111,
           "#482878"
          ],
          [
           0.2222222222222222,
           "#3e4989"
          ],
          [
           0.3333333333333333,
           "#31688e"
          ],
          [
           0.4444444444444444,
           "#26828e"
          ],
          [
           0.5555555555555556,
           "#1f9e89"
          ],
          [
           0.6666666666666666,
           "#35b779"
          ],
          [
           0.7777777777777778,
           "#6ece58"
          ],
          [
           0.8888888888888888,
           "#b5de2b"
          ],
          [
           1,
           "#fde725"
          ]
         ]
        },
        "height": 800,
        "hoverlabel": {
         "bgcolor": "white",
         "font": {
          "family": "Rockwell",
          "size": 14
         }
        },
        "hovermode": "closest",
        "legend": {
         "title": {
          "text": "Algorithm"
         },
         "traceorder": "normal",
         "x": -0.4,
         "y": 1
        },
        "margin": {
         "b": 0,
         "l": 0,
         "r": 0,
         "t": 0
        },
        "paper_bgcolor": "rgba(0,0,0,0)",
        "plot_bgcolor": "rgba(0,0,0,0)",
        "showlegend": true,
        "template": {
         "data": {
          "bar": [
           {
            "error_x": {
             "color": "#2a3f5f"
            },
            "error_y": {
             "color": "#2a3f5f"
            },
            "marker": {
             "line": {
              "color": "#E5ECF6",
              "width": 0.5
             },
             "pattern": {
              "fillmode": "overlay",
              "size": 10,
              "solidity": 0.2
             }
            },
            "type": "bar"
           }
          ],
          "barpolar": [
           {
            "marker": {
             "line": {
              "color": "#E5ECF6",
              "width": 0.5
             },
             "pattern": {
              "fillmode": "overlay",
              "size": 10,
              "solidity": 0.2
             }
            },
            "type": "barpolar"
           }
          ],
          "carpet": [
           {
            "aaxis": {
             "endlinecolor": "#2a3f5f",
             "gridcolor": "white",
             "linecolor": "white",
             "minorgridcolor": "white",
             "startlinecolor": "#2a3f5f"
            },
            "baxis": {
             "endlinecolor": "#2a3f5f",
             "gridcolor": "white",
             "linecolor": "white",
             "minorgridcolor": "white",
             "startlinecolor": "#2a3f5f"
            },
            "type": "carpet"
           }
          ],
          "choropleth": [
           {
            "colorbar": {
             "outlinewidth": 0,
             "ticks": ""
            },
            "type": "choropleth"
           }
          ],
          "contour": [
           {
            "colorbar": {
             "outlinewidth": 0,
             "ticks": ""
            },
            "colorscale": [
             [
              0,
              "#0d0887"
             ],
             [
              0.1111111111111111,
              "#46039f"
             ],
             [
              0.2222222222222222,
              "#7201a8"
             ],
             [
              0.3333333333333333,
              "#9c179e"
             ],
             [
              0.4444444444444444,
              "#bd3786"
             ],
             [
              0.5555555555555556,
              "#d8576b"
             ],
             [
              0.6666666666666666,
              "#ed7953"
             ],
             [
              0.7777777777777778,
              "#fb9f3a"
             ],
             [
              0.8888888888888888,
              "#fdca26"
             ],
             [
              1,
              "#f0f921"
             ]
            ],
            "type": "contour"
           }
          ],
          "contourcarpet": [
           {
            "colorbar": {
             "outlinewidth": 0,
             "ticks": ""
            },
            "type": "contourcarpet"
           }
          ],
          "heatmap": [
           {
            "colorbar": {
             "outlinewidth": 0,
             "ticks": ""
            },
            "colorscale": [
             [
              0,
              "#0d0887"
             ],
             [
              0.1111111111111111,
              "#46039f"
             ],
             [
              0.2222222222222222,
              "#7201a8"
             ],
             [
              0.3333333333333333,
              "#9c179e"
             ],
             [
              0.4444444444444444,
              "#bd3786"
             ],
             [
              0.5555555555555556,
              "#d8576b"
             ],
             [
              0.6666666666666666,
              "#ed7953"
             ],
             [
              0.7777777777777778,
              "#fb9f3a"
             ],
             [
              0.8888888888888888,
              "#fdca26"
             ],
             [
              1,
              "#f0f921"
             ]
            ],
            "type": "heatmap"
           }
          ],
          "heatmapgl": [
           {
            "colorbar": {
             "outlinewidth": 0,
             "ticks": ""
            },
            "colorscale": [
             [
              0,
              "#0d0887"
             ],
             [
              0.1111111111111111,
              "#46039f"
             ],
             [
              0.2222222222222222,
              "#7201a8"
             ],
             [
              0.3333333333333333,
              "#9c179e"
             ],
             [
              0.4444444444444444,
              "#bd3786"
             ],
             [
              0.5555555555555556,
              "#d8576b"
             ],
             [
              0.6666666666666666,
              "#ed7953"
             ],
             [
              0.7777777777777778,
              "#fb9f3a"
             ],
             [
              0.8888888888888888,
              "#fdca26"
             ],
             [
              1,
              "#f0f921"
             ]
            ],
            "type": "heatmapgl"
           }
          ],
          "histogram": [
           {
            "marker": {
             "pattern": {
              "fillmode": "overlay",
              "size": 10,
              "solidity": 0.2
             }
            },
            "type": "histogram"
           }
          ],
          "histogram2d": [
           {
            "colorbar": {
             "outlinewidth": 0,
             "ticks": ""
            },
            "colorscale": [
             [
              0,
              "#0d0887"
             ],
             [
              0.1111111111111111,
              "#46039f"
             ],
             [
              0.2222222222222222,
              "#7201a8"
             ],
             [
              0.3333333333333333,
              "#9c179e"
             ],
             [
              0.4444444444444444,
              "#bd3786"
             ],
             [
              0.5555555555555556,
              "#d8576b"
             ],
             [
              0.6666666666666666,
              "#ed7953"
             ],
             [
              0.7777777777777778,
              "#fb9f3a"
             ],
             [
              0.8888888888888888,
              "#fdca26"
             ],
             [
              1,
              "#f0f921"
             ]
            ],
            "type": "histogram2d"
           }
          ],
          "histogram2dcontour": [
           {
            "colorbar": {
             "outlinewidth": 0,
             "ticks": ""
            },
            "colorscale": [
             [
              0,
              "#0d0887"
             ],
             [
              0.1111111111111111,
              "#46039f"
             ],
             [
              0.2222222222222222,
              "#7201a8"
             ],
             [
              0.3333333333333333,
              "#9c179e"
             ],
             [
              0.4444444444444444,
              "#bd3786"
             ],
             [
              0.5555555555555556,
              "#d8576b"
             ],
             [
              0.6666666666666666,
              "#ed7953"
             ],
             [
              0.7777777777777778,
              "#fb9f3a"
             ],
             [
              0.8888888888888888,
              "#fdca26"
             ],
             [
              1,
              "#f0f921"
             ]
            ],
            "type": "histogram2dcontour"
           }
          ],
          "mesh3d": [
           {
            "colorbar": {
             "outlinewidth": 0,
             "ticks": ""
            },
            "type": "mesh3d"
           }
          ],
          "parcoords": [
           {
            "line": {
             "colorbar": {
              "outlinewidth": 0,
              "ticks": ""
             }
            },
            "type": "parcoords"
           }
          ],
          "pie": [
           {
            "automargin": true,
            "type": "pie"
           }
          ],
          "scatter": [
           {
            "fillpattern": {
             "fillmode": "overlay",
             "size": 10,
             "solidity": 0.2
            },
            "type": "scatter"
           }
          ],
          "scatter3d": [
           {
            "line": {
             "colorbar": {
              "outlinewidth": 0,
              "ticks": ""
             }
            },
            "marker": {
             "colorbar": {
              "outlinewidth": 0,
              "ticks": ""
             }
            },
            "type": "scatter3d"
           }
          ],
          "scattercarpet": [
           {
            "marker": {
             "colorbar": {
              "outlinewidth": 0,
              "ticks": ""
             }
            },
            "type": "scattercarpet"
           }
          ],
          "scattergeo": [
           {
            "marker": {
             "colorbar": {
              "outlinewidth": 0,
              "ticks": ""
             }
            },
            "type": "scattergeo"
           }
          ],
          "scattergl": [
           {
            "marker": {
             "colorbar": {
              "outlinewidth": 0,
              "ticks": ""
             }
            },
            "type": "scattergl"
           }
          ],
          "scattermapbox": [
           {
            "marker": {
             "colorbar": {
              "outlinewidth": 0,
              "ticks": ""
             }
            },
            "type": "scattermapbox"
           }
          ],
          "scatterpolar": [
           {
            "marker": {
             "colorbar": {
              "outlinewidth": 0,
              "ticks": ""
             }
            },
            "type": "scatterpolar"
           }
          ],
          "scatterpolargl": [
           {
            "marker": {
             "colorbar": {
              "outlinewidth": 0,
              "ticks": ""
             }
            },
            "type": "scatterpolargl"
           }
          ],
          "scatterternary": [
           {
            "marker": {
             "colorbar": {
              "outlinewidth": 0,
              "ticks": ""
             }
            },
            "type": "scatterternary"
           }
          ],
          "surface": [
           {
            "colorbar": {
             "outlinewidth": 0,
             "ticks": ""
            },
            "colorscale": [
             [
              0,
              "#0d0887"
             ],
             [
              0.1111111111111111,
              "#46039f"
             ],
             [
              0.2222222222222222,
              "#7201a8"
             ],
             [
              0.3333333333333333,
              "#9c179e"
             ],
             [
              0.4444444444444444,
              "#bd3786"
             ],
             [
              0.5555555555555556,
              "#d8576b"
             ],
             [
              0.6666666666666666,
              "#ed7953"
             ],
             [
              0.7777777777777778,
              "#fb9f3a"
             ],
             [
              0.8888888888888888,
              "#fdca26"
             ],
             [
              1,
              "#f0f921"
             ]
            ],
            "type": "surface"
           }
          ],
          "table": [
           {
            "cells": {
             "fill": {
              "color": "#EBF0F8"
             },
             "line": {
              "color": "white"
             }
            },
            "header": {
             "fill": {
              "color": "#C8D4E3"
             },
             "line": {
              "color": "white"
             }
            },
            "type": "table"
           }
          ]
         },
         "layout": {
          "annotationdefaults": {
           "arrowcolor": "#2a3f5f",
           "arrowhead": 0,
           "arrowwidth": 1
          },
          "autotypenumbers": "strict",
          "coloraxis": {
           "colorbar": {
            "outlinewidth": 0,
            "ticks": ""
           }
          },
          "colorscale": {
           "diverging": [
            [
             0,
             "#8e0152"
            ],
            [
             0.1,
             "#c51b7d"
            ],
            [
             0.2,
             "#de77ae"
            ],
            [
             0.3,
             "#f1b6da"
            ],
            [
             0.4,
             "#fde0ef"
            ],
            [
             0.5,
             "#f7f7f7"
            ],
            [
             0.6,
             "#e6f5d0"
            ],
            [
             0.7,
             "#b8e186"
            ],
            [
             0.8,
             "#7fbc41"
            ],
            [
             0.9,
             "#4d9221"
            ],
            [
             1,
             "#276419"
            ]
           ],
           "sequential": [
            [
             0,
             "#0d0887"
            ],
            [
             0.1111111111111111,
             "#46039f"
            ],
            [
             0.2222222222222222,
             "#7201a8"
            ],
            [
             0.3333333333333333,
             "#9c179e"
            ],
            [
             0.4444444444444444,
             "#bd3786"
            ],
            [
             0.5555555555555556,
             "#d8576b"
            ],
            [
             0.6666666666666666,
             "#ed7953"
            ],
            [
             0.7777777777777778,
             "#fb9f3a"
            ],
            [
             0.8888888888888888,
             "#fdca26"
            ],
            [
             1,
             "#f0f921"
            ]
           ],
           "sequentialminus": [
            [
             0,
             "#0d0887"
            ],
            [
             0.1111111111111111,
             "#46039f"
            ],
            [
             0.2222222222222222,
             "#7201a8"
            ],
            [
             0.3333333333333333,
             "#9c179e"
            ],
            [
             0.4444444444444444,
             "#bd3786"
            ],
            [
             0.5555555555555556,
             "#d8576b"
            ],
            [
             0.6666666666666666,
             "#ed7953"
            ],
            [
             0.7777777777777778,
             "#fb9f3a"
            ],
            [
             0.8888888888888888,
             "#fdca26"
            ],
            [
             1,
             "#f0f921"
            ]
           ]
          },
          "colorway": [
           "#636efa",
           "#EF553B",
           "#00cc96",
           "#ab63fa",
           "#FFA15A",
           "#19d3f3",
           "#FF6692",
           "#B6E880",
           "#FF97FF",
           "#FECB52"
          ],
          "font": {
           "color": "#2a3f5f"
          },
          "geo": {
           "bgcolor": "white",
           "lakecolor": "white",
           "landcolor": "#E5ECF6",
           "showlakes": true,
           "showland": true,
           "subunitcolor": "white"
          },
          "hoverlabel": {
           "align": "left"
          },
          "hovermode": "closest",
          "mapbox": {
           "style": "light"
          },
          "paper_bgcolor": "white",
          "plot_bgcolor": "#E5ECF6",
          "polar": {
           "angularaxis": {
            "gridcolor": "white",
            "linecolor": "white",
            "ticks": ""
           },
           "bgcolor": "#E5ECF6",
           "radialaxis": {
            "gridcolor": "white",
            "linecolor": "white",
            "ticks": ""
           }
          },
          "scene": {
           "xaxis": {
            "backgroundcolor": "#E5ECF6",
            "gridcolor": "white",
            "gridwidth": 2,
            "linecolor": "white",
            "showbackground": true,
            "ticks": "",
            "zerolinecolor": "white"
           },
           "yaxis": {
            "backgroundcolor": "#E5ECF6",
            "gridcolor": "white",
            "gridwidth": 2,
            "linecolor": "white",
            "showbackground": true,
            "ticks": "",
            "zerolinecolor": "white"
           },
           "zaxis": {
            "backgroundcolor": "#E5ECF6",
            "gridcolor": "white",
            "gridwidth": 2,
            "linecolor": "white",
            "showbackground": true,
            "ticks": "",
            "zerolinecolor": "white"
           }
          },
          "shapedefaults": {
           "line": {
            "color": "#2a3f5f"
           }
          },
          "ternary": {
           "aaxis": {
            "gridcolor": "white",
            "linecolor": "white",
            "ticks": ""
           },
           "baxis": {
            "gridcolor": "white",
            "linecolor": "white",
            "ticks": ""
           },
           "bgcolor": "#E5ECF6",
           "caxis": {
            "gridcolor": "white",
            "linecolor": "white",
            "ticks": ""
           }
          },
          "title": {
           "x": 0.05
          },
          "xaxis": {
           "automargin": true,
           "gridcolor": "white",
           "linecolor": "white",
           "ticks": "",
           "title": {
            "standoff": 15
           },
           "zerolinecolor": "white",
           "zerolinewidth": 2
          },
          "yaxis": {
           "automargin": true,
           "gridcolor": "white",
           "linecolor": "white",
           "ticks": "",
           "title": {
            "standoff": 15
           },
           "zerolinecolor": "white",
           "zerolinewidth": 2
          }
         }
        },
        "title": {
         "text": "df_model_all"
        },
        "updatemenus": [
         {
          "active": 0,
          "buttons": [
           {
            "args": [
             {
              "visible": [
               true,
               true,
               true,
               true,
               true,
               true,
               true,
               true,
               true,
               true,
               true,
               false,
               false,
               false,
               false,
               false,
               false,
               false,
               false,
               false,
               false,
               false,
               false,
               false,
               false,
               false,
               false,
               false,
               false,
               false,
               false,
               false,
               false,
               false,
               false,
               false,
               false,
               false,
               false,
               false,
               false,
               false,
               false,
               false,
               false,
               false,
               false,
               false,
               false,
               false,
               false,
               false,
               false,
               false,
               false,
               false,
               false,
               false,
               false,
               false,
               false,
               false,
               false,
               false,
               false,
               false,
               false,
               false,
               false,
               false,
               false,
               false,
               false,
               false,
               false,
               false,
               false,
               false,
               false,
               false,
               false,
               false,
               false,
               false,
               false,
               false,
               false,
               false,
               true
              ]
             }
            ],
            "label": "number of neighbours 3",
            "method": "restyle"
           },
           {
            "args": [
             {
              "visible": [
               false,
               false,
               false,
               false,
               false,
               false,
               false,
               false,
               false,
               false,
               false,
               true,
               true,
               true,
               true,
               true,
               true,
               true,
               true,
               true,
               true,
               true,
               false,
               false,
               false,
               false,
               false,
               false,
               false,
               false,
               false,
               false,
               false,
               false,
               false,
               false,
               false,
               false,
               false,
               false,
               false,
               false,
               false,
               false,
               false,
               false,
               false,
               false,
               false,
               false,
               false,
               false,
               false,
               false,
               false,
               false,
               false,
               false,
               false,
               false,
               false,
               false,
               false,
               false,
               false,
               false,
               false,
               false,
               false,
               false,
               false,
               false,
               false,
               false,
               false,
               false,
               false,
               false,
               false,
               false,
               false,
               false,
               false,
               false,
               false,
               false,
               false,
               false,
               true
              ]
             }
            ],
            "label": "number of neighbours 4",
            "method": "restyle"
           },
           {
            "args": [
             {
              "visible": [
               false,
               false,
               false,
               false,
               false,
               false,
               false,
               false,
               false,
               false,
               false,
               false,
               false,
               false,
               false,
               false,
               false,
               false,
               false,
               false,
               false,
               false,
               true,
               true,
               true,
               true,
               true,
               true,
               true,
               true,
               true,
               true,
               true,
               false,
               false,
               false,
               false,
               false,
               false,
               false,
               false,
               false,
               false,
               false,
               false,
               false,
               false,
               false,
               false,
               false,
               false,
               false,
               false,
               false,
               false,
               false,
               false,
               false,
               false,
               false,
               false,
               false,
               false,
               false,
               false,
               false,
               false,
               false,
               false,
               false,
               false,
               false,
               false,
               false,
               false,
               false,
               false,
               false,
               false,
               false,
               false,
               false,
               false,
               false,
               false,
               false,
               false,
               false,
               true
              ]
             }
            ],
            "label": "number of neighbours 5",
            "method": "restyle"
           },
           {
            "args": [
             {
              "visible": [
               false,
               false,
               false,
               false,
               false,
               false,
               false,
               false,
               false,
               false,
               false,
               false,
               false,
               false,
               false,
               false,
               false,
               false,
               false,
               false,
               false,
               false,
               false,
               false,
               false,
               false,
               false,
               false,
               false,
               false,
               false,
               false,
               false,
               true,
               true,
               true,
               true,
               true,
               true,
               true,
               true,
               true,
               true,
               true,
               false,
               false,
               false,
               false,
               false,
               false,
               false,
               false,
               false,
               false,
               false,
               false,
               false,
               false,
               false,
               false,
               false,
               false,
               false,
               false,
               false,
               false,
               false,
               false,
               false,
               false,
               false,
               false,
               false,
               false,
               false,
               false,
               false,
               false,
               false,
               false,
               false,
               false,
               false,
               false,
               false,
               false,
               false,
               false,
               true
              ]
             }
            ],
            "label": "number of neighbours 6",
            "method": "restyle"
           }
          ],
          "direction": "down",
          "showactive": false
         }
        ],
        "width": 1000,
        "xaxis": {
         "showticklabels": false
        },
        "yaxis": {
         "showticklabels": false
        }
       }
      }
     },
     "metadata": {},
     "output_type": "display_data"
    },
    {
     "data": {
      "application/vnd.plotly.v1+json": {
       "config": {
        "plotlyServerURL": "https://plot.ly"
       },
       "data": [
        {
         "hovertext": [
          "K-Nearest Neighbor<br>Performance: 73.54%<br>Model ID: 249<br>Accuracy: 77.05%<br>Precision: 77.78%<br>Recall: 77.05%<br>ROC AUC: 76.08<br>Geometric Mean: 76.08<br>Matthews Correlation: 54.13<br>F1: 76.63<br>Average Probability: 64.59",
          "K-Nearest Neighbor<br>Performance: 73.54%<br>Model ID: 440<br>Accuracy: 77.05%<br>Precision: 77.78%<br>Recall: 77.05%<br>ROC AUC: 76.08<br>Geometric Mean: 76.08<br>Matthews Correlation: 54.13<br>F1: 76.63<br>Average Probability: 67.94",
          "K-Nearest Neighbor<br>Performance: 73.54%<br>Model ID: 250<br>Accuracy: 77.05%<br>Precision: 77.78%<br>Recall: 77.05%<br>ROC AUC: 76.08<br>Geometric Mean: 76.08<br>Matthews Correlation: 54.13<br>F1: 76.63<br>Average Probability: 65.3",
          "K-Nearest Neighbor<br>Performance: 83.06%<br>Model ID: meta_4<br>Accuracy: 85.25%<br>Precision: 86.04%<br>Recall: 85.25%<br>ROC AUC: 84.47<br>Geometric Mean: 84.47<br>Matthews Correlation: 70.88<br>F1: 85.04<br>Average Probability: 76.38"
         ],
         "marker": {
          "color": [
           73.54,
           73.54,
           73.54,
           83.06
          ],
          "coloraxis": "coloraxis",
          "line": {
           "color": "Black",
           "width": 1
          },
          "opacity": [
           0.5,
           0.6,
           0.5,
           0.8
          ],
          "size": [
           20,
           20,
           20,
           40
          ],
          "symbol": [
           "circle",
           "circle",
           "circle",
           "circle"
          ]
         },
         "mode": "markers",
         "name": "K-Nearest Neighbor",
         "type": "scatter",
         "x": [
          8.179072380065918,
          7.721871376037598,
          7.3848748207092285,
          13.408883094787598
         ],
         "y": [
          -8.696226119995117,
          -9.154790878295898,
          -9.486861228942871,
          16.888410568237305
         ]
        },
        {
         "hovertext": [
          "Support Vector Machine<br>Performance: 83.06%<br>Model ID: meta_9<br>Accuracy: 85.25%<br>Precision: 86.04%<br>Recall: 85.25%<br>ROC AUC: 84.47<br>Geometric Mean: 84.47<br>Matthews Correlation: 70.88<br>F1: 85.04<br>Average Probability: 73.94"
         ],
         "marker": {
          "color": [
           83.06
          ],
          "coloraxis": "coloraxis",
          "line": {
           "color": "Black",
           "width": 1
          },
          "opacity": [
           0.7
          ],
          "size": [
           40
          ],
          "symbol": [
           "square"
          ]
         },
         "mode": "markers",
         "name": "Support Vector Machine",
         "type": "scatter",
         "x": [
          12.335208892822266
         ],
         "y": [
          18.397417068481445
         ]
        },
        {
         "hovertext": [
          "Gaussian Naive Bayes<br>Performance: 81.12%<br>Model ID: meta_1<br>Accuracy: 83.61%<br>Precision: 83.66%<br>Recall: 83.61%<br>ROC AUC: 83.23<br>Geometric Mean: 83.22<br>Matthews Correlation: 66.96<br>F1: 83.54<br>Average Probability: 84.31"
         ],
         "marker": {
          "color": [
           81.12
          ],
          "coloraxis": "coloraxis",
          "line": {
           "color": "Black",
           "width": 1
          },
          "opacity": [
           1
          ],
          "size": [
           40
          ],
          "symbol": [
           "x"
          ]
         },
         "mode": "markers",
         "name": "Gaussian Naive Bayes",
         "type": "scatter",
         "x": [
          12.085204124450684
         ],
         "y": [
          17.723464965820312
         ]
        },
        {
         "hovertext": [
          "Multilayer Perceptron<br>Performance: 79.87%<br>Model ID: 1261<br>Accuracy: 81.97%<br>Precision: 83.08%<br>Recall: 81.97%<br>ROC AUC: 82.52<br>Geometric Mean: 82.52<br>Matthews Correlation: 65.04<br>F1: 81.97<br>Average Probability: 70.73",
          "Multilayer Perceptron<br>Performance: 79.87%<br>Model ID: 1262<br>Accuracy: 81.97%<br>Precision: 83.08%<br>Recall: 81.97%<br>ROC AUC: 82.52<br>Geometric Mean: 82.52<br>Matthews Correlation: 65.04<br>F1: 81.97<br>Average Probability: 70.73",
          "Multilayer Perceptron<br>Performance: 79.87%<br>Model ID: 1263<br>Accuracy: 81.97%<br>Precision: 83.08%<br>Recall: 81.97%<br>ROC AUC: 82.52<br>Geometric Mean: 82.52<br>Matthews Correlation: 65.04<br>F1: 81.97<br>Average Probability: 70.73",
          "Multilayer Perceptron<br>Performance: 79.87%<br>Model ID: 1249<br>Accuracy: 81.97%<br>Precision: 83.08%<br>Recall: 81.97%<br>ROC AUC: 82.52<br>Geometric Mean: 82.52<br>Matthews Correlation: 65.04<br>F1: 81.97<br>Average Probability: 70.95",
          "Multilayer Perceptron<br>Performance: 79.87%<br>Model ID: 1237<br>Accuracy: 81.97%<br>Precision: 83.08%<br>Recall: 81.97%<br>ROC AUC: 82.52<br>Geometric Mean: 82.52<br>Matthews Correlation: 65.04<br>F1: 81.97<br>Average Probability: 70.77",
          "Multilayer Perceptron<br>Performance: 83.03%<br>Model ID: meta_6<br>Accuracy: 85.25%<br>Precision: 85.24%<br>Recall: 85.25%<br>ROC AUC: 85.01<br>Geometric Mean: 85.01<br>Matthews Correlation: 70.25<br>F1: 85.22<br>Average Probability: 74.68"
         ],
         "marker": {
          "color": [
           79.87,
           79.87,
           79.87,
           79.87,
           79.87,
           83.03
          ],
          "coloraxis": "coloraxis",
          "line": {
           "color": "Black",
           "width": 1
          },
          "opacity": [
           0.7,
           0.7,
           0.7,
           0.7,
           0.7,
           0.8
          ],
          "size": [
           20,
           20,
           20,
           20,
           20,
           40
          ],
          "symbol": [
           "cross",
           "cross",
           "cross",
           "cross",
           "cross",
           "cross"
          ]
         },
         "mode": "markers",
         "name": "Multilayer Perceptron",
         "type": "scatter",
         "x": [
          -41.95627212524414,
          -41.40102767944336,
          -41.490821838378906,
          -42.19178009033203,
          -41.00124740600586,
          12.936287879943848
         ],
         "y": [
          -2.9579110145568848,
          -2.7021100521087646,
          -3.696826696395874,
          -3.47218918800354,
          -3.1421921253204346,
          17.561649322509766
         ]
        },
        {
         "hovertext": [
          "Logistic Regression<br>Performance: 83.06%<br>Model ID: meta_5<br>Accuracy: 85.25%<br>Precision: 86.04%<br>Recall: 85.25%<br>ROC AUC: 84.47<br>Geometric Mean: 84.47<br>Matthews Correlation: 70.88<br>F1: 85.04<br>Average Probability: 75.4"
         ],
         "marker": {
          "color": [
           83.06
          ],
          "coloraxis": "coloraxis",
          "line": {
           "color": "Black",
           "width": 1
          },
          "opacity": [
           0.8
          ],
          "size": [
           40
          ],
          "symbol": [
           "diamond"
          ]
         },
         "mode": "markers",
         "name": "Logistic Regression",
         "type": "scatter",
         "x": [
          13.629545211791992
         ],
         "y": [
          17.75784683227539
         ]
        },
        {
         "hovertext": [
          "Linear Discriminant Analysis<br>Performance: 67.97%<br>Model ID: 2001<br>Accuracy: 72.13%<br>Precision: 72.08%<br>Recall: 72.13%<br>ROC AUC: 71.81<br>Geometric Mean: 71.81<br>Matthews Correlation: 43.76<br>F1: 72.09<br>Average Probability: 64.77",
          "Linear Discriminant Analysis<br>Performance: 69.8%<br>Model ID: 2000<br>Accuracy: 73.77%<br>Precision: 73.73%<br>Recall: 73.77%<br>ROC AUC: 73.32<br>Geometric Mean: 73.32<br>Matthews Correlation: 47.0<br>F1: 73.67<br>Average Probability: 66.94",
          "Linear Discriminant Analysis<br>Performance: 83.03%<br>Model ID: meta_2<br>Accuracy: 85.25%<br>Precision: 85.24%<br>Recall: 85.25%<br>ROC AUC: 85.01<br>Geometric Mean: 85.01<br>Matthews Correlation: 70.25<br>F1: 85.22<br>Average Probability: 80.43"
         ],
         "marker": {
          "color": [
           67.97,
           69.8,
           83.03
          ],
          "coloraxis": "coloraxis",
          "line": {
           "color": "Black",
           "width": 1
          },
          "opacity": [
           0.5,
           0.6,
           0.9
          ],
          "size": [
           20,
           20,
           40
          ],
          "symbol": [
           "star",
           "star",
           "star"
          ]
         },
         "mode": "markers",
         "name": "Linear Discriminant Analysis",
         "type": "scatter",
         "x": [
          18.810388565063477,
          19.27628517150879,
          13.481038093566895
         ],
         "y": [
          23.711238861083984,
          23.70924186706543,
          18.55341148376465
         ]
        },
        {
         "hovertext": [
          "Quadratic Discriminant Analysis<br>Performance: 81.12%<br>Model ID: meta_3<br>Accuracy: 83.61%<br>Precision: 84.03%<br>Recall: 83.61%<br>ROC AUC: 82.95<br>Geometric Mean: 82.95<br>Matthews Correlation: 67.23<br>F1: 83.44<br>Average Probability: 79.32"
         ],
         "marker": {
          "color": [
           81.12
          ],
          "coloraxis": "coloraxis",
          "line": {
           "color": "Black",
           "width": 1
          },
          "opacity": [
           0.9
          ],
          "size": [
           40
          ],
          "symbol": [
           "hexagram"
          ]
         },
         "mode": "markers",
         "name": "Quadratic Discriminant Analysis",
         "type": "scatter",
         "x": [
          13.158785820007324
         ],
         "y": [
          18.11036491394043
         ]
        },
        {
         "hovertext": [
          "Random Forest<br>Performance: 81.2%<br>Model ID: meta_8<br>Accuracy: 83.61%<br>Precision: 83.61%<br>Recall: 83.61%<br>ROC AUC: 83.5<br>Geometric Mean: 83.5<br>Matthews Correlation: 66.99<br>F1: 83.61<br>Average Probability: 76.03"
         ],
         "marker": {
          "color": [
           81.2
          ],
          "coloraxis": "coloraxis",
          "line": {
           "color": "Black",
           "width": 1
          },
          "opacity": [
           0.8
          ],
          "size": [
           40
          ],
          "symbol": [
           "triangle-right"
          ]
         },
         "mode": "markers",
         "name": "Random Forest",
         "type": "scatter",
         "x": [
          14.537894248962402
         ],
         "y": [
          16.97797966003418
         ]
        },
        {
         "hovertext": [
          "Extra Trees<br>Performance: 81.12%<br>Model ID: meta_7<br>Accuracy: 83.61%<br>Precision: 84.03%<br>Recall: 83.61%<br>ROC AUC: 82.95<br>Geometric Mean: 82.95<br>Matthews Correlation: 67.23<br>F1: 83.44<br>Average Probability: 76.28"
         ],
         "marker": {
          "color": [
           81.12
          ],
          "coloraxis": "coloraxis",
          "line": {
           "color": "Black",
           "width": 1
          },
          "opacity": [
           0.8
          ],
          "size": [
           40
          ],
          "symbol": [
           "triangle-left"
          ]
         },
         "mode": "markers",
         "name": "Extra Trees",
         "type": "scatter",
         "x": [
          14.168647766113281
         ],
         "y": [
          16.44856834411621
         ]
        },
        {
         "hovertext": [
          "Adaptive Boosting<br>Performance: 83.0%<br>Model ID: 2921<br>Accuracy: 85.25%<br>Precision: 85.48%<br>Recall: 85.25%<br>ROC AUC: 84.74<br>Geometric Mean: 84.74<br>Matthews Correlation: 70.4<br>F1: 85.15<br>Average Probability: 52.96",
          "Adaptive Boosting<br>Performance: 83.0%<br>Model ID: 2920<br>Accuracy: 85.25%<br>Precision: 85.48%<br>Recall: 85.25%<br>ROC AUC: 84.74<br>Geometric Mean: 84.74<br>Matthews Correlation: 70.4<br>F1: 85.15<br>Average Probability: 52.99",
          "Adaptive Boosting<br>Performance: 83.0%<br>Model ID: 2919<br>Accuracy: 85.25%<br>Precision: 85.48%<br>Recall: 85.25%<br>ROC AUC: 84.74<br>Geometric Mean: 84.74<br>Matthews Correlation: 70.4<br>F1: 85.15<br>Average Probability: 53.01",
          "Adaptive Boosting<br>Performance: 83.0%<br>Model ID: 2917<br>Accuracy: 85.25%<br>Precision: 85.48%<br>Recall: 85.25%<br>ROC AUC: 84.74<br>Geometric Mean: 84.74<br>Matthews Correlation: 70.4<br>F1: 85.15<br>Average Probability: 53.05",
          "Adaptive Boosting<br>Performance: 86.8%<br>Model ID: 2918<br>Accuracy: 88.52%<br>Precision: 88.54%<br>Recall: 88.52%<br>ROC AUC: 88.31<br>Geometric Mean: 88.31<br>Matthews Correlation: 76.87<br>F1: 88.51<br>Average Probability: 53.03",
          "Adaptive Boosting<br>Performance: 79.22%<br>Model ID: meta_11<br>Accuracy: 81.97%<br>Precision: 82.14%<br>Recall: 81.97%<br>ROC AUC: 81.44<br>Geometric Mean: 81.44<br>Matthews Correlation: 63.71<br>F1: 81.85<br>Average Probability: 59.64"
         ],
         "marker": {
          "color": [
           83,
           83,
           83,
           83,
           86.8,
           79.22
          ],
          "coloraxis": "coloraxis",
          "line": {
           "color": "Black",
           "width": 1
          },
          "opacity": [
           0.2,
           0.2,
           0.2,
           0.2,
           0.2,
           0.4
          ],
          "size": [
           20,
           20,
           20,
           20,
           20,
           40
          ],
          "symbol": [
           "triangle-down",
           "triangle-down",
           "triangle-down",
           "triangle-down",
           "triangle-down",
           "triangle-down"
          ]
         },
         "mode": "markers",
         "name": "Adaptive Boosting",
         "type": "scatter",
         "x": [
          19.411500930786133,
          20.419939041137695,
          19.793134689331055,
          18.873733520507812,
          20.688112258911133,
          19.150325775146484
         ],
         "y": [
          25.728410720825195,
          24.867538452148438,
          25.150699615478516,
          25.36913299560547,
          25.378429412841797,
          24.44621467590332
         ]
        },
        {
         "hovertext": [
          "Gradient Boosting<br>Performance: 79.22%<br>Model ID: 2986<br>Accuracy: 81.97%<br>Precision: 82.14%<br>Recall: 81.97%<br>ROC AUC: 81.44<br>Geometric Mean: 81.44<br>Matthews Correlation: 63.71<br>F1: 81.85<br>Average Probability: 76.73",
          "Gradient Boosting<br>Performance: 79.22%<br>Model ID: 3045<br>Accuracy: 81.97%<br>Precision: 82.14%<br>Recall: 81.97%<br>ROC AUC: 81.44<br>Geometric Mean: 81.44<br>Matthews Correlation: 63.71<br>F1: 81.85<br>Average Probability: 76.65",
          "Gradient Boosting<br>Performance: 79.22%<br>Model ID: 3046<br>Accuracy: 81.97%<br>Precision: 82.14%<br>Recall: 81.97%<br>ROC AUC: 81.44<br>Geometric Mean: 81.44<br>Matthews Correlation: 63.71<br>F1: 81.85<br>Average Probability: 76.73",
          "Gradient Boosting<br>Performance: 79.22%<br>Model ID: 2985<br>Accuracy: 81.97%<br>Precision: 82.14%<br>Recall: 81.97%<br>ROC AUC: 81.44<br>Geometric Mean: 81.44<br>Matthews Correlation: 63.71<br>F1: 81.85<br>Average Probability: 76.65",
          "Gradient Boosting<br>Performance: 77.34%<br>Model ID: 3017<br>Accuracy: 80.33%<br>Precision: 80.35%<br>Recall: 80.33%<br>ROC AUC: 79.92<br>Geometric Mean: 79.92<br>Matthews Correlation: 60.31<br>F1: 80.25<br>Average Probability: 76.26",
          "Gradient Boosting<br>Performance: 77.44%<br>Model ID: meta_10<br>Accuracy: 80.33%<br>Precision: 80.33%<br>Recall: 80.33%<br>ROC AUC: 80.19<br>Geometric Mean: 80.19<br>Matthews Correlation: 60.39<br>F1: 80.33<br>Average Probability: 75.31"
         ],
         "marker": {
          "color": [
           79.22,
           79.22,
           79.22,
           79.22,
           77.34,
           77.44
          ],
          "coloraxis": "coloraxis",
          "line": {
           "color": "Black",
           "width": 1
          },
          "opacity": [
           0.8,
           0.8,
           0.8,
           0.8,
           0.8,
           0.8
          ],
          "size": [
           20,
           20,
           20,
           20,
           20,
           40
          ],
          "symbol": [
           "triangle-up",
           "triangle-up",
           "triangle-up",
           "triangle-up",
           "triangle-up",
           "triangle-up"
          ]
         },
         "mode": "markers",
         "name": "Gradient Boosting",
         "type": "scatter",
         "x": [
          32.00654220581055,
          32.28425216674805,
          32.186283111572266,
          32.76371765136719,
          32.14323806762695,
          14.896552085876465
         ],
         "y": [
          -7.795277118682861,
          -7.243300437927246,
          -8.338211059570312,
          -7.0678791999816895,
          -6.614981174468994,
          16.411937713623047
         ]
        },
        {
         "hovertext": [
          "K-Nearest Neighbor<br>Performance: 73.54%<br>Model ID: 249<br>Accuracy: 77.05%<br>Precision: 77.78%<br>Recall: 77.05%<br>ROC AUC: 76.08<br>Geometric Mean: 76.08<br>Matthews Correlation: 54.13<br>F1: 76.63<br>Average Probability: 64.59",
          "K-Nearest Neighbor<br>Performance: 73.54%<br>Model ID: 440<br>Accuracy: 77.05%<br>Precision: 77.78%<br>Recall: 77.05%<br>ROC AUC: 76.08<br>Geometric Mean: 76.08<br>Matthews Correlation: 54.13<br>F1: 76.63<br>Average Probability: 67.94",
          "K-Nearest Neighbor<br>Performance: 73.54%<br>Model ID: 250<br>Accuracy: 77.05%<br>Precision: 77.78%<br>Recall: 77.05%<br>ROC AUC: 76.08<br>Geometric Mean: 76.08<br>Matthews Correlation: 54.13<br>F1: 76.63<br>Average Probability: 65.3",
          "K-Nearest Neighbor<br>Performance: 83.06%<br>Model ID: meta_4<br>Accuracy: 85.25%<br>Precision: 86.04%<br>Recall: 85.25%<br>ROC AUC: 84.47<br>Geometric Mean: 84.47<br>Matthews Correlation: 70.88<br>F1: 85.04<br>Average Probability: 76.38"
         ],
         "marker": {
          "color": [
           73.54,
           73.54,
           73.54,
           83.06
          ],
          "coloraxis": "coloraxis",
          "line": {
           "color": "Black",
           "width": 1
          },
          "opacity": [
           0.5,
           0.6,
           0.5,
           0.8
          ],
          "size": [
           20,
           20,
           20,
           40
          ],
          "symbol": [
           "circle",
           "circle",
           "circle",
           "circle"
          ]
         },
         "mode": "markers",
         "name": "K-Nearest Neighbor",
         "type": "scatter",
         "x": [
          12.479463577270508,
          11.871829986572266,
          11.786653518676758,
          -11.015436172485352
         ],
         "y": [
          10.905192375183105,
          11.532815933227539,
          11.076362609863281,
          -21.866008758544922
         ]
        },
        {
         "hovertext": [
          "Support Vector Machine<br>Performance: 83.06%<br>Model ID: meta_9<br>Accuracy: 85.25%<br>Precision: 86.04%<br>Recall: 85.25%<br>ROC AUC: 84.47<br>Geometric Mean: 84.47<br>Matthews Correlation: 70.88<br>F1: 85.04<br>Average Probability: 73.94"
         ],
         "marker": {
          "color": [
           83.06
          ],
          "coloraxis": "coloraxis",
          "line": {
           "color": "Black",
           "width": 1
          },
          "opacity": [
           0.7
          ],
          "size": [
           40
          ],
          "symbol": [
           "square"
          ]
         },
         "mode": "markers",
         "name": "Support Vector Machine",
         "type": "scatter",
         "x": [
          -9.785058975219727
         ],
         "y": [
          -21.239965438842773
         ]
        },
        {
         "hovertext": [
          "Gaussian Naive Bayes<br>Performance: 81.12%<br>Model ID: meta_1<br>Accuracy: 83.61%<br>Precision: 83.66%<br>Recall: 83.61%<br>ROC AUC: 83.23<br>Geometric Mean: 83.22<br>Matthews Correlation: 66.96<br>F1: 83.54<br>Average Probability: 84.31"
         ],
         "marker": {
          "color": [
           81.12
          ],
          "coloraxis": "coloraxis",
          "line": {
           "color": "Black",
           "width": 1
          },
          "opacity": [
           1
          ],
          "size": [
           40
          ],
          "symbol": [
           "x"
          ]
         },
         "mode": "markers",
         "name": "Gaussian Naive Bayes",
         "type": "scatter",
         "x": [
          -9.099925994873047
         ],
         "y": [
          -21.268096923828125
         ]
        },
        {
         "hovertext": [
          "Multilayer Perceptron<br>Performance: 79.87%<br>Model ID: 1261<br>Accuracy: 81.97%<br>Precision: 83.08%<br>Recall: 81.97%<br>ROC AUC: 82.52<br>Geometric Mean: 82.52<br>Matthews Correlation: 65.04<br>F1: 81.97<br>Average Probability: 70.73",
          "Multilayer Perceptron<br>Performance: 79.87%<br>Model ID: 1262<br>Accuracy: 81.97%<br>Precision: 83.08%<br>Recall: 81.97%<br>ROC AUC: 82.52<br>Geometric Mean: 82.52<br>Matthews Correlation: 65.04<br>F1: 81.97<br>Average Probability: 70.73",
          "Multilayer Perceptron<br>Performance: 79.87%<br>Model ID: 1263<br>Accuracy: 81.97%<br>Precision: 83.08%<br>Recall: 81.97%<br>ROC AUC: 82.52<br>Geometric Mean: 82.52<br>Matthews Correlation: 65.04<br>F1: 81.97<br>Average Probability: 70.73",
          "Multilayer Perceptron<br>Performance: 79.87%<br>Model ID: 1249<br>Accuracy: 81.97%<br>Precision: 83.08%<br>Recall: 81.97%<br>ROC AUC: 82.52<br>Geometric Mean: 82.52<br>Matthews Correlation: 65.04<br>F1: 81.97<br>Average Probability: 70.95",
          "Multilayer Perceptron<br>Performance: 79.87%<br>Model ID: 1237<br>Accuracy: 81.97%<br>Precision: 83.08%<br>Recall: 81.97%<br>ROC AUC: 82.52<br>Geometric Mean: 82.52<br>Matthews Correlation: 65.04<br>F1: 81.97<br>Average Probability: 70.77",
          "Multilayer Perceptron<br>Performance: 83.03%<br>Model ID: meta_6<br>Accuracy: 85.25%<br>Precision: 85.24%<br>Recall: 85.25%<br>ROC AUC: 85.01<br>Geometric Mean: 85.01<br>Matthews Correlation: 70.25<br>F1: 85.22<br>Average Probability: 74.68"
         ],
         "marker": {
          "color": [
           79.87,
           79.87,
           79.87,
           79.87,
           79.87,
           83.03
          ],
          "coloraxis": "coloraxis",
          "line": {
           "color": "Black",
           "width": 1
          },
          "opacity": [
           0.7,
           0.7,
           0.7,
           0.7,
           0.7,
           0.8
          ],
          "size": [
           20,
           20,
           20,
           20,
           20,
           40
          ],
          "symbol": [
           "cross",
           "cross",
           "cross",
           "cross",
           "cross",
           "cross"
          ]
         },
         "mode": "markers",
         "name": "Multilayer Perceptron",
         "type": "scatter",
         "x": [
          12.31460189819336,
          11.154936790466309,
          11.705767631530762,
          11.76467227935791,
          11.518268585205078,
          -10.42870807647705
         ],
         "y": [
          19.054290771484375,
          18.894357681274414,
          18.79738426208496,
          18.154773712158203,
          19.45777702331543,
          -22.378910064697266
         ]
        },
        {
         "hovertext": [
          "Logistic Regression<br>Performance: 83.06%<br>Model ID: meta_5<br>Accuracy: 85.25%<br>Precision: 86.04%<br>Recall: 85.25%<br>ROC AUC: 84.47<br>Geometric Mean: 84.47<br>Matthews Correlation: 70.88<br>F1: 85.04<br>Average Probability: 75.4"
         ],
         "marker": {
          "color": [
           83.06
          ],
          "coloraxis": "coloraxis",
          "line": {
           "color": "Black",
           "width": 1
          },
          "opacity": [
           0.8
          ],
          "size": [
           40
          ],
          "symbol": [
           "diamond"
          ]
         },
         "mode": "markers",
         "name": "Logistic Regression",
         "type": "scatter",
         "x": [
          -10.347999572753906
         ],
         "y": [
          -21.747432708740234
         ]
        },
        {
         "hovertext": [
          "Linear Discriminant Analysis<br>Performance: 67.97%<br>Model ID: 2001<br>Accuracy: 72.13%<br>Precision: 72.08%<br>Recall: 72.13%<br>ROC AUC: 71.81<br>Geometric Mean: 71.81<br>Matthews Correlation: 43.76<br>F1: 72.09<br>Average Probability: 64.77",
          "Linear Discriminant Analysis<br>Performance: 69.8%<br>Model ID: 2000<br>Accuracy: 73.77%<br>Precision: 73.73%<br>Recall: 73.77%<br>ROC AUC: 73.32<br>Geometric Mean: 73.32<br>Matthews Correlation: 47.0<br>F1: 73.67<br>Average Probability: 66.94",
          "Linear Discriminant Analysis<br>Performance: 83.03%<br>Model ID: meta_2<br>Accuracy: 85.25%<br>Precision: 85.24%<br>Recall: 85.25%<br>ROC AUC: 85.01<br>Geometric Mean: 85.01<br>Matthews Correlation: 70.25<br>F1: 85.22<br>Average Probability: 80.43"
         ],
         "marker": {
          "color": [
           67.97,
           69.8,
           83.03
          ],
          "coloraxis": "coloraxis",
          "line": {
           "color": "Black",
           "width": 1
          },
          "opacity": [
           0.5,
           0.6,
           0.9
          ],
          "size": [
           20,
           20,
           40
          ],
          "symbol": [
           "star",
           "star",
           "star"
          ]
         },
         "mode": "markers",
         "name": "Linear Discriminant Analysis",
         "type": "scatter",
         "x": [
          12.892187118530273,
          13.413917541503906,
          -9.199660301208496
         ],
         "y": [
          12.050190925598145,
          11.73851203918457,
          -22.26233673095703
         ]
        },
        {
         "hovertext": [
          "Quadratic Discriminant Analysis<br>Performance: 81.12%<br>Model ID: meta_3<br>Accuracy: 83.61%<br>Precision: 84.03%<br>Recall: 83.61%<br>ROC AUC: 82.95<br>Geometric Mean: 82.95<br>Matthews Correlation: 67.23<br>F1: 83.44<br>Average Probability: 79.32"
         ],
         "marker": {
          "color": [
           81.12
          ],
          "coloraxis": "coloraxis",
          "line": {
           "color": "Black",
           "width": 1
          },
          "opacity": [
           0.9
          ],
          "size": [
           40
          ],
          "symbol": [
           "hexagram"
          ]
         },
         "mode": "markers",
         "name": "Quadratic Discriminant Analysis",
         "type": "scatter",
         "x": [
          -9.67989444732666
         ],
         "y": [
          -22.00637435913086
         ]
        },
        {
         "hovertext": [
          "Random Forest<br>Performance: 81.2%<br>Model ID: meta_8<br>Accuracy: 83.61%<br>Precision: 83.61%<br>Recall: 83.61%<br>ROC AUC: 83.5<br>Geometric Mean: 83.5<br>Matthews Correlation: 66.99<br>F1: 83.61<br>Average Probability: 76.03"
         ],
         "marker": {
          "color": [
           81.2
          ],
          "coloraxis": "coloraxis",
          "line": {
           "color": "Black",
           "width": 1
          },
          "opacity": [
           0.8
          ],
          "size": [
           40
          ],
          "symbol": [
           "triangle-right"
          ]
         },
         "mode": "markers",
         "name": "Random Forest",
         "type": "scatter",
         "x": [
          -10.720767974853516
         ],
         "y": [
          -20.972280502319336
         ]
        },
        {
         "hovertext": [
          "Extra Trees<br>Performance: 81.12%<br>Model ID: meta_7<br>Accuracy: 83.61%<br>Precision: 84.03%<br>Recall: 83.61%<br>ROC AUC: 82.95<br>Geometric Mean: 82.95<br>Matthews Correlation: 67.23<br>F1: 83.44<br>Average Probability: 76.28"
         ],
         "marker": {
          "color": [
           81.12
          ],
          "coloraxis": "coloraxis",
          "line": {
           "color": "Black",
           "width": 1
          },
          "opacity": [
           0.8
          ],
          "size": [
           40
          ],
          "symbol": [
           "triangle-left"
          ]
         },
         "mode": "markers",
         "name": "Extra Trees",
         "type": "scatter",
         "x": [
          -11.52498722076416
         ],
         "y": [
          -21.0974063873291
         ]
        },
        {
         "hovertext": [
          "Adaptive Boosting<br>Performance: 83.0%<br>Model ID: 2921<br>Accuracy: 85.25%<br>Precision: 85.48%<br>Recall: 85.25%<br>ROC AUC: 84.74<br>Geometric Mean: 84.74<br>Matthews Correlation: 70.4<br>F1: 85.15<br>Average Probability: 52.96",
          "Adaptive Boosting<br>Performance: 83.0%<br>Model ID: 2920<br>Accuracy: 85.25%<br>Precision: 85.48%<br>Recall: 85.25%<br>ROC AUC: 84.74<br>Geometric Mean: 84.74<br>Matthews Correlation: 70.4<br>F1: 85.15<br>Average Probability: 52.99",
          "Adaptive Boosting<br>Performance: 83.0%<br>Model ID: 2919<br>Accuracy: 85.25%<br>Precision: 85.48%<br>Recall: 85.25%<br>ROC AUC: 84.74<br>Geometric Mean: 84.74<br>Matthews Correlation: 70.4<br>F1: 85.15<br>Average Probability: 53.01",
          "Adaptive Boosting<br>Performance: 83.0%<br>Model ID: 2917<br>Accuracy: 85.25%<br>Precision: 85.48%<br>Recall: 85.25%<br>ROC AUC: 84.74<br>Geometric Mean: 84.74<br>Matthews Correlation: 70.4<br>F1: 85.15<br>Average Probability: 53.05",
          "Adaptive Boosting<br>Performance: 86.8%<br>Model ID: 2918<br>Accuracy: 88.52%<br>Precision: 88.54%<br>Recall: 88.52%<br>ROC AUC: 88.31<br>Geometric Mean: 88.31<br>Matthews Correlation: 76.87<br>F1: 88.51<br>Average Probability: 53.03",
          "Adaptive Boosting<br>Performance: 79.22%<br>Model ID: meta_11<br>Accuracy: 81.97%<br>Precision: 82.14%<br>Recall: 81.97%<br>ROC AUC: 81.44<br>Geometric Mean: 81.44<br>Matthews Correlation: 63.71<br>F1: 81.85<br>Average Probability: 59.64"
         ],
         "marker": {
          "color": [
           83,
           83,
           83,
           83,
           86.8,
           79.22
          ],
          "coloraxis": "coloraxis",
          "line": {
           "color": "Black",
           "width": 1
          },
          "opacity": [
           0.2,
           0.2,
           0.2,
           0.2,
           0.2,
           0.4
          ],
          "size": [
           20,
           20,
           20,
           20,
           20,
           40
          ],
          "symbol": [
           "triangle-down",
           "triangle-down",
           "triangle-down",
           "triangle-down",
           "triangle-down",
           "triangle-down"
          ]
         },
         "mode": "markers",
         "name": "Adaptive Boosting",
         "type": "scatter",
         "x": [
          15.626492500305176,
          16.011371612548828,
          15.27717113494873,
          14.98582649230957,
          15.951308250427246,
          14.39911937713623
         ],
         "y": [
          10.701852798461914,
          11.67790412902832,
          11.498942375183105,
          10.414791107177734,
          11.145899772644043,
          11.168153762817383
         ]
        },
        {
         "hovertext": [
          "Gradient Boosting<br>Performance: 79.22%<br>Model ID: 2986<br>Accuracy: 81.97%<br>Precision: 82.14%<br>Recall: 81.97%<br>ROC AUC: 81.44<br>Geometric Mean: 81.44<br>Matthews Correlation: 63.71<br>F1: 81.85<br>Average Probability: 76.73",
          "Gradient Boosting<br>Performance: 79.22%<br>Model ID: 3045<br>Accuracy: 81.97%<br>Precision: 82.14%<br>Recall: 81.97%<br>ROC AUC: 81.44<br>Geometric Mean: 81.44<br>Matthews Correlation: 63.71<br>F1: 81.85<br>Average Probability: 76.65",
          "Gradient Boosting<br>Performance: 79.22%<br>Model ID: 3046<br>Accuracy: 81.97%<br>Precision: 82.14%<br>Recall: 81.97%<br>ROC AUC: 81.44<br>Geometric Mean: 81.44<br>Matthews Correlation: 63.71<br>F1: 81.85<br>Average Probability: 76.73",
          "Gradient Boosting<br>Performance: 79.22%<br>Model ID: 2985<br>Accuracy: 81.97%<br>Precision: 82.14%<br>Recall: 81.97%<br>ROC AUC: 81.44<br>Geometric Mean: 81.44<br>Matthews Correlation: 63.71<br>F1: 81.85<br>Average Probability: 76.65",
          "Gradient Boosting<br>Performance: 77.34%<br>Model ID: 3017<br>Accuracy: 80.33%<br>Precision: 80.35%<br>Recall: 80.33%<br>ROC AUC: 79.92<br>Geometric Mean: 79.92<br>Matthews Correlation: 60.31<br>F1: 80.25<br>Average Probability: 76.26",
          "Gradient Boosting<br>Performance: 77.44%<br>Model ID: meta_10<br>Accuracy: 80.33%<br>Precision: 80.33%<br>Recall: 80.33%<br>ROC AUC: 80.19<br>Geometric Mean: 80.19<br>Matthews Correlation: 60.39<br>F1: 80.33<br>Average Probability: 75.31"
         ],
         "marker": {
          "color": [
           79.22,
           79.22,
           79.22,
           79.22,
           77.34,
           77.44
          ],
          "coloraxis": "coloraxis",
          "line": {
           "color": "Black",
           "width": 1
          },
          "opacity": [
           0.8,
           0.8,
           0.8,
           0.8,
           0.8,
           0.8
          ],
          "size": [
           20,
           20,
           20,
           20,
           20,
           40
          ],
          "symbol": [
           "triangle-up",
           "triangle-up",
           "triangle-up",
           "triangle-up",
           "triangle-up",
           "triangle-up"
          ]
         },
         "mode": "markers",
         "name": "Gradient Boosting",
         "type": "scatter",
         "x": [
          -26.619243621826172,
          -27.29561996459961,
          -26.38776397705078,
          -27.290836334228516,
          -27.826374053955078,
          -11.267081260681152
         ],
         "y": [
          0.6887532472610474,
          0.0035339058376848698,
          0.2549564838409424,
          0.8301846981048584,
          0.4988383948802948,
          -20.534547805786133
         ]
        },
        {
         "hovertext": [
          "K-Nearest Neighbor<br>Performance: 73.54%<br>Model ID: 249<br>Accuracy: 77.05%<br>Precision: 77.78%<br>Recall: 77.05%<br>ROC AUC: 76.08<br>Geometric Mean: 76.08<br>Matthews Correlation: 54.13<br>F1: 76.63<br>Average Probability: 64.59",
          "K-Nearest Neighbor<br>Performance: 73.54%<br>Model ID: 440<br>Accuracy: 77.05%<br>Precision: 77.78%<br>Recall: 77.05%<br>ROC AUC: 76.08<br>Geometric Mean: 76.08<br>Matthews Correlation: 54.13<br>F1: 76.63<br>Average Probability: 67.94",
          "K-Nearest Neighbor<br>Performance: 73.54%<br>Model ID: 250<br>Accuracy: 77.05%<br>Precision: 77.78%<br>Recall: 77.05%<br>ROC AUC: 76.08<br>Geometric Mean: 76.08<br>Matthews Correlation: 54.13<br>F1: 76.63<br>Average Probability: 65.3",
          "K-Nearest Neighbor<br>Performance: 83.06%<br>Model ID: meta_4<br>Accuracy: 85.25%<br>Precision: 86.04%<br>Recall: 85.25%<br>ROC AUC: 84.47<br>Geometric Mean: 84.47<br>Matthews Correlation: 70.88<br>F1: 85.04<br>Average Probability: 76.38"
         ],
         "marker": {
          "color": [
           73.54,
           73.54,
           73.54,
           83.06
          ],
          "coloraxis": "coloraxis",
          "line": {
           "color": "Black",
           "width": 1
          },
          "opacity": [
           0.5,
           0.6,
           0.5,
           0.8
          ],
          "size": [
           20,
           20,
           20,
           40
          ],
          "symbol": [
           "circle",
           "circle",
           "circle",
           "circle"
          ]
         },
         "mode": "markers",
         "name": "K-Nearest Neighbor",
         "type": "scatter",
         "x": [
          22.122892379760742,
          21.831649780273438,
          22.42681312561035,
          0.6941236853599548
         ],
         "y": [
          -19.778553009033203,
          -19.115095138549805,
          -19.35919761657715,
          17.458454132080078
         ]
        },
        {
         "hovertext": [
          "Support Vector Machine<br>Performance: 83.06%<br>Model ID: meta_9<br>Accuracy: 85.25%<br>Precision: 86.04%<br>Recall: 85.25%<br>ROC AUC: 84.47<br>Geometric Mean: 84.47<br>Matthews Correlation: 70.88<br>F1: 85.04<br>Average Probability: 73.94"
         ],
         "marker": {
          "color": [
           83.06
          ],
          "coloraxis": "coloraxis",
          "line": {
           "color": "Black",
           "width": 1
          },
          "opacity": [
           0.7
          ],
          "size": [
           40
          ],
          "symbol": [
           "square"
          ]
         },
         "mode": "markers",
         "name": "Support Vector Machine",
         "type": "scatter",
         "x": [
          1.3579094409942627
         ],
         "y": [
          16.68388557434082
         ]
        },
        {
         "hovertext": [
          "Gaussian Naive Bayes<br>Performance: 81.12%<br>Model ID: meta_1<br>Accuracy: 83.61%<br>Precision: 83.66%<br>Recall: 83.61%<br>ROC AUC: 83.23<br>Geometric Mean: 83.22<br>Matthews Correlation: 66.96<br>F1: 83.54<br>Average Probability: 84.31"
         ],
         "marker": {
          "color": [
           81.12
          ],
          "coloraxis": "coloraxis",
          "line": {
           "color": "Black",
           "width": 1
          },
          "opacity": [
           1
          ],
          "size": [
           40
          ],
          "symbol": [
           "x"
          ]
         },
         "mode": "markers",
         "name": "Gaussian Naive Bayes",
         "type": "scatter",
         "x": [
          1.2587320804595947
         ],
         "y": [
          16.103557586669922
         ]
        },
        {
         "hovertext": [
          "Multilayer Perceptron<br>Performance: 79.87%<br>Model ID: 1261<br>Accuracy: 81.97%<br>Precision: 83.08%<br>Recall: 81.97%<br>ROC AUC: 82.52<br>Geometric Mean: 82.52<br>Matthews Correlation: 65.04<br>F1: 81.97<br>Average Probability: 70.73",
          "Multilayer Perceptron<br>Performance: 79.87%<br>Model ID: 1262<br>Accuracy: 81.97%<br>Precision: 83.08%<br>Recall: 81.97%<br>ROC AUC: 82.52<br>Geometric Mean: 82.52<br>Matthews Correlation: 65.04<br>F1: 81.97<br>Average Probability: 70.73",
          "Multilayer Perceptron<br>Performance: 79.87%<br>Model ID: 1263<br>Accuracy: 81.97%<br>Precision: 83.08%<br>Recall: 81.97%<br>ROC AUC: 82.52<br>Geometric Mean: 82.52<br>Matthews Correlation: 65.04<br>F1: 81.97<br>Average Probability: 70.73",
          "Multilayer Perceptron<br>Performance: 79.87%<br>Model ID: 1249<br>Accuracy: 81.97%<br>Precision: 83.08%<br>Recall: 81.97%<br>ROC AUC: 82.52<br>Geometric Mean: 82.52<br>Matthews Correlation: 65.04<br>F1: 81.97<br>Average Probability: 70.95",
          "Multilayer Perceptron<br>Performance: 79.87%<br>Model ID: 1237<br>Accuracy: 81.97%<br>Precision: 83.08%<br>Recall: 81.97%<br>ROC AUC: 82.52<br>Geometric Mean: 82.52<br>Matthews Correlation: 65.04<br>F1: 81.97<br>Average Probability: 70.77",
          "Multilayer Perceptron<br>Performance: 83.03%<br>Model ID: meta_6<br>Accuracy: 85.25%<br>Precision: 85.24%<br>Recall: 85.25%<br>ROC AUC: 85.01<br>Geometric Mean: 85.01<br>Matthews Correlation: 70.25<br>F1: 85.22<br>Average Probability: 74.68"
         ],
         "marker": {
          "color": [
           79.87,
           79.87,
           79.87,
           79.87,
           79.87,
           83.03
          ],
          "coloraxis": "coloraxis",
          "line": {
           "color": "Black",
           "width": 1
          },
          "opacity": [
           0.7,
           0.7,
           0.7,
           0.7,
           0.7,
           0.8
          ],
          "size": [
           20,
           20,
           20,
           20,
           20,
           40
          ],
          "symbol": [
           "cross",
           "cross",
           "cross",
           "cross",
           "cross",
           "cross"
          ]
         },
         "mode": "markers",
         "name": "Multilayer Perceptron",
         "type": "scatter",
         "x": [
          21.936077117919922,
          21.414623260498047,
          21.024492263793945,
          21.04677963256836,
          21.955713272094727,
          0.5742430686950684
         ],
         "y": [
          -21.965286254882812,
          -22.35868263244629,
          -21.869462966918945,
          -21.258989334106445,
          -21.361108779907227,
          16.19858169555664
         ]
        },
        {
         "hovertext": [
          "Logistic Regression<br>Performance: 83.06%<br>Model ID: meta_5<br>Accuracy: 85.25%<br>Precision: 86.04%<br>Recall: 85.25%<br>ROC AUC: 84.47<br>Geometric Mean: 84.47<br>Matthews Correlation: 70.88<br>F1: 85.04<br>Average Probability: 75.4"
         ],
         "marker": {
          "color": [
           83.06
          ],
          "coloraxis": "coloraxis",
          "line": {
           "color": "Black",
           "width": 1
          },
          "opacity": [
           0.8
          ],
          "size": [
           40
          ],
          "symbol": [
           "diamond"
          ]
         },
         "mode": "markers",
         "name": "Logistic Regression",
         "type": "scatter",
         "x": [
          0.8338965773582458
         ],
         "y": [
          16.814109802246094
         ]
        },
        {
         "hovertext": [
          "Linear Discriminant Analysis<br>Performance: 67.97%<br>Model ID: 2001<br>Accuracy: 72.13%<br>Precision: 72.08%<br>Recall: 72.13%<br>ROC AUC: 71.81<br>Geometric Mean: 71.81<br>Matthews Correlation: 43.76<br>F1: 72.09<br>Average Probability: 64.77",
          "Linear Discriminant Analysis<br>Performance: 69.8%<br>Model ID: 2000<br>Accuracy: 73.77%<br>Precision: 73.73%<br>Recall: 73.77%<br>ROC AUC: 73.32<br>Geometric Mean: 73.32<br>Matthews Correlation: 47.0<br>F1: 73.67<br>Average Probability: 66.94",
          "Linear Discriminant Analysis<br>Performance: 83.03%<br>Model ID: meta_2<br>Accuracy: 85.25%<br>Precision: 85.24%<br>Recall: 85.25%<br>ROC AUC: 85.01<br>Geometric Mean: 85.01<br>Matthews Correlation: 70.25<br>F1: 85.22<br>Average Probability: 80.43"
         ],
         "marker": {
          "color": [
           67.97,
           69.8,
           83.03
          ],
          "coloraxis": "coloraxis",
          "line": {
           "color": "Black",
           "width": 1
          },
          "opacity": [
           0.5,
           0.6,
           0.9
          ],
          "size": [
           20,
           20,
           40
          ],
          "symbol": [
           "star",
           "star",
           "star"
          ]
         },
         "mode": "markers",
         "name": "Linear Discriminant Analysis",
         "type": "scatter",
         "x": [
          21.02534294128418,
          21.649898529052734,
          0.09007971733808517
         ],
         "y": [
          -20.02960205078125,
          -20.343402862548828,
          15.95609188079834
         ]
        },
        {
         "hovertext": [
          "Quadratic Discriminant Analysis<br>Performance: 81.12%<br>Model ID: meta_3<br>Accuracy: 83.61%<br>Precision: 84.03%<br>Recall: 83.61%<br>ROC AUC: 82.95<br>Geometric Mean: 82.95<br>Matthews Correlation: 67.23<br>F1: 83.44<br>Average Probability: 79.32"
         ],
         "marker": {
          "color": [
           81.12
          ],
          "coloraxis": "coloraxis",
          "line": {
           "color": "Black",
           "width": 1
          },
          "opacity": [
           0.9
          ],
          "size": [
           40
          ],
          "symbol": [
           "hexagram"
          ]
         },
         "mode": "markers",
         "name": "Quadratic Discriminant Analysis",
         "type": "scatter",
         "x": [
          0.004372481722384691
         ],
         "y": [
          16.65135383605957
         ]
        },
        {
         "hovertext": [
          "Random Forest<br>Performance: 81.2%<br>Model ID: meta_8<br>Accuracy: 83.61%<br>Precision: 83.61%<br>Recall: 83.61%<br>ROC AUC: 83.5<br>Geometric Mean: 83.5<br>Matthews Correlation: 66.99<br>F1: 83.61<br>Average Probability: 76.03"
         ],
         "marker": {
          "color": [
           81.2
          ],
          "coloraxis": "coloraxis",
          "line": {
           "color": "Black",
           "width": 1
          },
          "opacity": [
           0.8
          ],
          "size": [
           40
          ],
          "symbol": [
           "triangle-right"
          ]
         },
         "mode": "markers",
         "name": "Random Forest",
         "type": "scatter",
         "x": [
          -0.3037254512310028
         ],
         "y": [
          17.472288131713867
         ]
        },
        {
         "hovertext": [
          "Extra Trees<br>Performance: 81.12%<br>Model ID: meta_7<br>Accuracy: 83.61%<br>Precision: 84.03%<br>Recall: 83.61%<br>ROC AUC: 82.95<br>Geometric Mean: 82.95<br>Matthews Correlation: 67.23<br>F1: 83.44<br>Average Probability: 76.28"
         ],
         "marker": {
          "color": [
           81.12
          ],
          "coloraxis": "coloraxis",
          "line": {
           "color": "Black",
           "width": 1
          },
          "opacity": [
           0.8
          ],
          "size": [
           40
          ],
          "symbol": [
           "triangle-left"
          ]
         },
         "mode": "markers",
         "name": "Extra Trees",
         "type": "scatter",
         "x": [
          0.22297386825084686
         ],
         "y": [
          17.920347213745117
         ]
        },
        {
         "hovertext": [
          "Adaptive Boosting<br>Performance: 83.0%<br>Model ID: 2921<br>Accuracy: 85.25%<br>Precision: 85.48%<br>Recall: 85.25%<br>ROC AUC: 84.74<br>Geometric Mean: 84.74<br>Matthews Correlation: 70.4<br>F1: 85.15<br>Average Probability: 52.96",
          "Adaptive Boosting<br>Performance: 83.0%<br>Model ID: 2920<br>Accuracy: 85.25%<br>Precision: 85.48%<br>Recall: 85.25%<br>ROC AUC: 84.74<br>Geometric Mean: 84.74<br>Matthews Correlation: 70.4<br>F1: 85.15<br>Average Probability: 52.99",
          "Adaptive Boosting<br>Performance: 83.0%<br>Model ID: 2919<br>Accuracy: 85.25%<br>Precision: 85.48%<br>Recall: 85.25%<br>ROC AUC: 84.74<br>Geometric Mean: 84.74<br>Matthews Correlation: 70.4<br>F1: 85.15<br>Average Probability: 53.01",
          "Adaptive Boosting<br>Performance: 83.0%<br>Model ID: 2917<br>Accuracy: 85.25%<br>Precision: 85.48%<br>Recall: 85.25%<br>ROC AUC: 84.74<br>Geometric Mean: 84.74<br>Matthews Correlation: 70.4<br>F1: 85.15<br>Average Probability: 53.05",
          "Adaptive Boosting<br>Performance: 86.8%<br>Model ID: 2918<br>Accuracy: 88.52%<br>Precision: 88.54%<br>Recall: 88.52%<br>ROC AUC: 88.31<br>Geometric Mean: 88.31<br>Matthews Correlation: 76.87<br>F1: 88.51<br>Average Probability: 53.03",
          "Adaptive Boosting<br>Performance: 79.22%<br>Model ID: meta_11<br>Accuracy: 81.97%<br>Precision: 82.14%<br>Recall: 81.97%<br>ROC AUC: 81.44<br>Geometric Mean: 81.44<br>Matthews Correlation: 63.71<br>F1: 81.85<br>Average Probability: 59.64"
         ],
         "marker": {
          "color": [
           83,
           83,
           83,
           83,
           86.8,
           79.22
          ],
          "coloraxis": "coloraxis",
          "line": {
           "color": "Black",
           "width": 1
          },
          "opacity": [
           0.2,
           0.2,
           0.2,
           0.2,
           0.2,
           0.4
          ],
          "size": [
           20,
           20,
           20,
           20,
           20,
           40
          ],
          "symbol": [
           "triangle-down",
           "triangle-down",
           "triangle-down",
           "triangle-down",
           "triangle-down",
           "triangle-down"
          ]
         },
         "mode": "markers",
         "name": "Adaptive Boosting",
         "type": "scatter",
         "x": [
          24.742462158203125,
          24.75499725341797,
          24.04866600036621,
          24.314319610595703,
          23.933988571166992,
          23.366228103637695
         ],
         "y": [
          -2.7714803218841553,
          -2.3833658695220947,
          -2.063488721847534,
          -3.280424118041992,
          -2.644322156906128,
          -3.034435749053955
         ]
        },
        {
         "hovertext": [
          "Gradient Boosting<br>Performance: 79.22%<br>Model ID: 2986<br>Accuracy: 81.97%<br>Precision: 82.14%<br>Recall: 81.97%<br>ROC AUC: 81.44<br>Geometric Mean: 81.44<br>Matthews Correlation: 63.71<br>F1: 81.85<br>Average Probability: 76.73",
          "Gradient Boosting<br>Performance: 79.22%<br>Model ID: 3045<br>Accuracy: 81.97%<br>Precision: 82.14%<br>Recall: 81.97%<br>ROC AUC: 81.44<br>Geometric Mean: 81.44<br>Matthews Correlation: 63.71<br>F1: 81.85<br>Average Probability: 76.65",
          "Gradient Boosting<br>Performance: 79.22%<br>Model ID: 3046<br>Accuracy: 81.97%<br>Precision: 82.14%<br>Recall: 81.97%<br>ROC AUC: 81.44<br>Geometric Mean: 81.44<br>Matthews Correlation: 63.71<br>F1: 81.85<br>Average Probability: 76.73",
          "Gradient Boosting<br>Performance: 79.22%<br>Model ID: 2985<br>Accuracy: 81.97%<br>Precision: 82.14%<br>Recall: 81.97%<br>ROC AUC: 81.44<br>Geometric Mean: 81.44<br>Matthews Correlation: 63.71<br>F1: 81.85<br>Average Probability: 76.65",
          "Gradient Boosting<br>Performance: 77.34%<br>Model ID: 3017<br>Accuracy: 80.33%<br>Precision: 80.35%<br>Recall: 80.33%<br>ROC AUC: 79.92<br>Geometric Mean: 79.92<br>Matthews Correlation: 60.31<br>F1: 80.25<br>Average Probability: 76.26",
          "Gradient Boosting<br>Performance: 77.44%<br>Model ID: meta_10<br>Accuracy: 80.33%<br>Precision: 80.33%<br>Recall: 80.33%<br>ROC AUC: 80.19<br>Geometric Mean: 80.19<br>Matthews Correlation: 60.39<br>F1: 80.33<br>Average Probability: 75.31"
         ],
         "marker": {
          "color": [
           79.22,
           79.22,
           79.22,
           79.22,
           77.34,
           77.44
          ],
          "coloraxis": "coloraxis",
          "line": {
           "color": "Black",
           "width": 1
          },
          "opacity": [
           0.8,
           0.8,
           0.8,
           0.8,
           0.8,
           0.8
          ],
          "size": [
           20,
           20,
           20,
           20,
           20,
           40
          ],
          "symbol": [
           "triangle-up",
           "triangle-up",
           "triangle-up",
           "triangle-up",
           "triangle-up",
           "triangle-up"
          ]
         },
         "mode": "markers",
         "name": "Gradient Boosting",
         "type": "scatter",
         "x": [
          21.19040870666504,
          21.244909286499023,
          20.61248207092285,
          20.402841567993164,
          20.350292205810547,
          -0.5398805141448975
         ],
         "y": [
          9.992079734802246,
          9.331683158874512,
          9.463926315307617,
          8.953396797180176,
          9.81152057647705,
          17.185216903686523
         ]
        },
        {
         "hovertext": [
          "K-Nearest Neighbor<br>Performance: 73.54%<br>Model ID: 249<br>Accuracy: 77.05%<br>Precision: 77.78%<br>Recall: 77.05%<br>ROC AUC: 76.08<br>Geometric Mean: 76.08<br>Matthews Correlation: 54.13<br>F1: 76.63<br>Average Probability: 64.59",
          "K-Nearest Neighbor<br>Performance: 73.54%<br>Model ID: 440<br>Accuracy: 77.05%<br>Precision: 77.78%<br>Recall: 77.05%<br>ROC AUC: 76.08<br>Geometric Mean: 76.08<br>Matthews Correlation: 54.13<br>F1: 76.63<br>Average Probability: 67.94",
          "K-Nearest Neighbor<br>Performance: 73.54%<br>Model ID: 250<br>Accuracy: 77.05%<br>Precision: 77.78%<br>Recall: 77.05%<br>ROC AUC: 76.08<br>Geometric Mean: 76.08<br>Matthews Correlation: 54.13<br>F1: 76.63<br>Average Probability: 65.3",
          "K-Nearest Neighbor<br>Performance: 83.06%<br>Model ID: meta_4<br>Accuracy: 85.25%<br>Precision: 86.04%<br>Recall: 85.25%<br>ROC AUC: 84.47<br>Geometric Mean: 84.47<br>Matthews Correlation: 70.88<br>F1: 85.04<br>Average Probability: 76.38"
         ],
         "marker": {
          "color": [
           73.54,
           73.54,
           73.54,
           83.06
          ],
          "coloraxis": "coloraxis",
          "line": {
           "color": "Black",
           "width": 1
          },
          "opacity": [
           0.5,
           0.6,
           0.5,
           0.8
          ],
          "size": [
           20,
           20,
           20,
           40
          ],
          "symbol": [
           "circle",
           "circle",
           "circle",
           "circle"
          ]
         },
         "mode": "markers",
         "name": "K-Nearest Neighbor",
         "type": "scatter",
         "x": [
          7.926339149475098,
          8.310378074645996,
          8.405900955200195,
          -5.85599422454834
         ],
         "y": [
          1.3975281715393066,
          0.7741591334342957,
          1.4331251382827759,
          -4.769925117492676
         ]
        },
        {
         "hovertext": [
          "Support Vector Machine<br>Performance: 83.06%<br>Model ID: meta_9<br>Accuracy: 85.25%<br>Precision: 86.04%<br>Recall: 85.25%<br>ROC AUC: 84.47<br>Geometric Mean: 84.47<br>Matthews Correlation: 70.88<br>F1: 85.04<br>Average Probability: 73.94"
         ],
         "marker": {
          "color": [
           83.06
          ],
          "coloraxis": "coloraxis",
          "line": {
           "color": "Black",
           "width": 1
          },
          "opacity": [
           0.7
          ],
          "size": [
           40
          ],
          "symbol": [
           "square"
          ]
         },
         "mode": "markers",
         "name": "Support Vector Machine",
         "type": "scatter",
         "x": [
          -4.972712993621826
         ],
         "y": [
          -5.367522239685059
         ]
        },
        {
         "hovertext": [
          "Gaussian Naive Bayes<br>Performance: 81.12%<br>Model ID: meta_1<br>Accuracy: 83.61%<br>Precision: 83.66%<br>Recall: 83.61%<br>ROC AUC: 83.23<br>Geometric Mean: 83.22<br>Matthews Correlation: 66.96<br>F1: 83.54<br>Average Probability: 84.31"
         ],
         "marker": {
          "color": [
           81.12
          ],
          "coloraxis": "coloraxis",
          "line": {
           "color": "Black",
           "width": 1
          },
          "opacity": [
           1
          ],
          "size": [
           40
          ],
          "symbol": [
           "x"
          ]
         },
         "mode": "markers",
         "name": "Gaussian Naive Bayes",
         "type": "scatter",
         "x": [
          -6.201347351074219
         ],
         "y": [
          -6.603244781494141
         ]
        },
        {
         "hovertext": [
          "Multilayer Perceptron<br>Performance: 79.87%<br>Model ID: 1261<br>Accuracy: 81.97%<br>Precision: 83.08%<br>Recall: 81.97%<br>ROC AUC: 82.52<br>Geometric Mean: 82.52<br>Matthews Correlation: 65.04<br>F1: 81.97<br>Average Probability: 70.73",
          "Multilayer Perceptron<br>Performance: 79.87%<br>Model ID: 1262<br>Accuracy: 81.97%<br>Precision: 83.08%<br>Recall: 81.97%<br>ROC AUC: 82.52<br>Geometric Mean: 82.52<br>Matthews Correlation: 65.04<br>F1: 81.97<br>Average Probability: 70.73",
          "Multilayer Perceptron<br>Performance: 79.87%<br>Model ID: 1263<br>Accuracy: 81.97%<br>Precision: 83.08%<br>Recall: 81.97%<br>ROC AUC: 82.52<br>Geometric Mean: 82.52<br>Matthews Correlation: 65.04<br>F1: 81.97<br>Average Probability: 70.73",
          "Multilayer Perceptron<br>Performance: 79.87%<br>Model ID: 1249<br>Accuracy: 81.97%<br>Precision: 83.08%<br>Recall: 81.97%<br>ROC AUC: 82.52<br>Geometric Mean: 82.52<br>Matthews Correlation: 65.04<br>F1: 81.97<br>Average Probability: 70.95",
          "Multilayer Perceptron<br>Performance: 79.87%<br>Model ID: 1237<br>Accuracy: 81.97%<br>Precision: 83.08%<br>Recall: 81.97%<br>ROC AUC: 82.52<br>Geometric Mean: 82.52<br>Matthews Correlation: 65.04<br>F1: 81.97<br>Average Probability: 70.77",
          "Multilayer Perceptron<br>Performance: 83.03%<br>Model ID: meta_6<br>Accuracy: 85.25%<br>Precision: 85.24%<br>Recall: 85.25%<br>ROC AUC: 85.01<br>Geometric Mean: 85.01<br>Matthews Correlation: 70.25<br>F1: 85.22<br>Average Probability: 74.68"
         ],
         "marker": {
          "color": [
           79.87,
           79.87,
           79.87,
           79.87,
           79.87,
           83.03
          ],
          "coloraxis": "coloraxis",
          "line": {
           "color": "Black",
           "width": 1
          },
          "opacity": [
           0.7,
           0.7,
           0.7,
           0.7,
           0.7,
           0.8
          ],
          "size": [
           20,
           20,
           20,
           20,
           20,
           40
          ],
          "symbol": [
           "cross",
           "cross",
           "cross",
           "cross",
           "cross",
           "cross"
          ]
         },
         "mode": "markers",
         "name": "Multilayer Perceptron",
         "type": "scatter",
         "x": [
          5.635807514190674,
          5.357065200805664,
          5.740716457366943,
          5.9817633628845215,
          6.3941826820373535,
          -5.657873630523682
         ],
         "y": [
          2.350487470626831,
          3.063612461090088,
          3.573528289794922,
          2.8290157318115234,
          3.278392791748047,
          -5.233587741851807
         ]
        },
        {
         "hovertext": [
          "Logistic Regression<br>Performance: 83.06%<br>Model ID: meta_5<br>Accuracy: 85.25%<br>Precision: 86.04%<br>Recall: 85.25%<br>ROC AUC: 84.47<br>Geometric Mean: 84.47<br>Matthews Correlation: 70.88<br>F1: 85.04<br>Average Probability: 75.4"
         ],
         "marker": {
          "color": [
           83.06
          ],
          "coloraxis": "coloraxis",
          "line": {
           "color": "Black",
           "width": 1
          },
          "opacity": [
           0.8
          ],
          "size": [
           40
          ],
          "symbol": [
           "diamond"
          ]
         },
         "mode": "markers",
         "name": "Logistic Regression",
         "type": "scatter",
         "x": [
          -5.006002426147461
         ],
         "y": [
          -5.723852157592773
         ]
        },
        {
         "hovertext": [
          "Linear Discriminant Analysis<br>Performance: 67.97%<br>Model ID: 2001<br>Accuracy: 72.13%<br>Precision: 72.08%<br>Recall: 72.13%<br>ROC AUC: 71.81<br>Geometric Mean: 71.81<br>Matthews Correlation: 43.76<br>F1: 72.09<br>Average Probability: 64.77",
          "Linear Discriminant Analysis<br>Performance: 69.8%<br>Model ID: 2000<br>Accuracy: 73.77%<br>Precision: 73.73%<br>Recall: 73.77%<br>ROC AUC: 73.32<br>Geometric Mean: 73.32<br>Matthews Correlation: 47.0<br>F1: 73.67<br>Average Probability: 66.94",
          "Linear Discriminant Analysis<br>Performance: 83.03%<br>Model ID: meta_2<br>Accuracy: 85.25%<br>Precision: 85.24%<br>Recall: 85.25%<br>ROC AUC: 85.01<br>Geometric Mean: 85.01<br>Matthews Correlation: 70.25<br>F1: 85.22<br>Average Probability: 80.43"
         ],
         "marker": {
          "color": [
           67.97,
           69.8,
           83.03
          ],
          "coloraxis": "coloraxis",
          "line": {
           "color": "Black",
           "width": 1
          },
          "opacity": [
           0.5,
           0.6,
           0.9
          ],
          "size": [
           20,
           20,
           40
          ],
          "symbol": [
           "star",
           "star",
           "star"
          ]
         },
         "mode": "markers",
         "name": "Linear Discriminant Analysis",
         "type": "scatter",
         "x": [
          6.799314022064209,
          7.190582275390625,
          -5.112873077392578
         ],
         "y": [
          1.4863020181655884,
          2.0164377689361572,
          -6.605208873748779
         ]
        },
        {
         "hovertext": [
          "Quadratic Discriminant Analysis<br>Performance: 81.12%<br>Model ID: meta_3<br>Accuracy: 83.61%<br>Precision: 84.03%<br>Recall: 83.61%<br>ROC AUC: 82.95<br>Geometric Mean: 82.95<br>Matthews Correlation: 67.23<br>F1: 83.44<br>Average Probability: 79.32"
         ],
         "marker": {
          "color": [
           81.12
          ],
          "coloraxis": "coloraxis",
          "line": {
           "color": "Black",
           "width": 1
          },
          "opacity": [
           0.9
          ],
          "size": [
           40
          ],
          "symbol": [
           "hexagram"
          ]
         },
         "mode": "markers",
         "name": "Quadratic Discriminant Analysis",
         "type": "scatter",
         "x": [
          -5.606953144073486
         ],
         "y": [
          -6.16282320022583
         ]
        },
        {
         "hovertext": [
          "Random Forest<br>Performance: 81.2%<br>Model ID: meta_8<br>Accuracy: 83.61%<br>Precision: 83.61%<br>Recall: 83.61%<br>ROC AUC: 83.5<br>Geometric Mean: 83.5<br>Matthews Correlation: 66.99<br>F1: 83.61<br>Average Probability: 76.03"
         ],
         "marker": {
          "color": [
           81.2
          ],
          "coloraxis": "coloraxis",
          "line": {
           "color": "Black",
           "width": 1
          },
          "opacity": [
           0.8
          ],
          "size": [
           40
          ],
          "symbol": [
           "triangle-right"
          ]
         },
         "mode": "markers",
         "name": "Random Forest",
         "type": "scatter",
         "x": [
          -7.0192084312438965
         ],
         "y": [
          -5.626605033874512
         ]
        },
        {
         "hovertext": [
          "Extra Trees<br>Performance: 81.12%<br>Model ID: meta_7<br>Accuracy: 83.61%<br>Precision: 84.03%<br>Recall: 83.61%<br>ROC AUC: 82.95<br>Geometric Mean: 82.95<br>Matthews Correlation: 67.23<br>F1: 83.44<br>Average Probability: 76.28"
         ],
         "marker": {
          "color": [
           81.12
          ],
          "coloraxis": "coloraxis",
          "line": {
           "color": "Black",
           "width": 1
          },
          "opacity": [
           0.8
          ],
          "size": [
           40
          ],
          "symbol": [
           "triangle-left"
          ]
         },
         "mode": "markers",
         "name": "Extra Trees",
         "type": "scatter",
         "x": [
          -6.332423686981201
         ],
         "y": [
          -5.882742404937744
         ]
        },
        {
         "hovertext": [
          "Adaptive Boosting<br>Performance: 83.0%<br>Model ID: 2921<br>Accuracy: 85.25%<br>Precision: 85.48%<br>Recall: 85.25%<br>ROC AUC: 84.74<br>Geometric Mean: 84.74<br>Matthews Correlation: 70.4<br>F1: 85.15<br>Average Probability: 52.96",
          "Adaptive Boosting<br>Performance: 83.0%<br>Model ID: 2920<br>Accuracy: 85.25%<br>Precision: 85.48%<br>Recall: 85.25%<br>ROC AUC: 84.74<br>Geometric Mean: 84.74<br>Matthews Correlation: 70.4<br>F1: 85.15<br>Average Probability: 52.99",
          "Adaptive Boosting<br>Performance: 83.0%<br>Model ID: 2919<br>Accuracy: 85.25%<br>Precision: 85.48%<br>Recall: 85.25%<br>ROC AUC: 84.74<br>Geometric Mean: 84.74<br>Matthews Correlation: 70.4<br>F1: 85.15<br>Average Probability: 53.01",
          "Adaptive Boosting<br>Performance: 83.0%<br>Model ID: 2917<br>Accuracy: 85.25%<br>Precision: 85.48%<br>Recall: 85.25%<br>ROC AUC: 84.74<br>Geometric Mean: 84.74<br>Matthews Correlation: 70.4<br>F1: 85.15<br>Average Probability: 53.05",
          "Adaptive Boosting<br>Performance: 86.8%<br>Model ID: 2918<br>Accuracy: 88.52%<br>Precision: 88.54%<br>Recall: 88.52%<br>ROC AUC: 88.31<br>Geometric Mean: 88.31<br>Matthews Correlation: 76.87<br>F1: 88.51<br>Average Probability: 53.03",
          "Adaptive Boosting<br>Performance: 79.22%<br>Model ID: meta_11<br>Accuracy: 81.97%<br>Precision: 82.14%<br>Recall: 81.97%<br>ROC AUC: 81.44<br>Geometric Mean: 81.44<br>Matthews Correlation: 63.71<br>F1: 81.85<br>Average Probability: 59.64"
         ],
         "marker": {
          "color": [
           83,
           83,
           83,
           83,
           86.8,
           79.22
          ],
          "coloraxis": "coloraxis",
          "line": {
           "color": "Black",
           "width": 1
          },
          "opacity": [
           0.2,
           0.2,
           0.2,
           0.2,
           0.2,
           0.4
          ],
          "size": [
           20,
           20,
           20,
           20,
           20,
           40
          ],
          "symbol": [
           "triangle-down",
           "triangle-down",
           "triangle-down",
           "triangle-down",
           "triangle-down",
           "triangle-down"
          ]
         },
         "mode": "markers",
         "name": "Adaptive Boosting",
         "type": "scatter",
         "x": [
          9.304821014404297,
          8.935258865356445,
          8.509685516357422,
          8.681981086730957,
          8.337502479553223,
          8.047114372253418
         ],
         "y": [
          -1.3244335651397705,
          -1.9323692321777344,
          -1.7494038343429565,
          -0.8065151572227478,
          -1.3866729736328125,
          -0.3803509473800659
         ]
        },
        {
         "hovertext": [
          "Gradient Boosting<br>Performance: 79.22%<br>Model ID: 2986<br>Accuracy: 81.97%<br>Precision: 82.14%<br>Recall: 81.97%<br>ROC AUC: 81.44<br>Geometric Mean: 81.44<br>Matthews Correlation: 63.71<br>F1: 81.85<br>Average Probability: 76.73",
          "Gradient Boosting<br>Performance: 79.22%<br>Model ID: 3045<br>Accuracy: 81.97%<br>Precision: 82.14%<br>Recall: 81.97%<br>ROC AUC: 81.44<br>Geometric Mean: 81.44<br>Matthews Correlation: 63.71<br>F1: 81.85<br>Average Probability: 76.65",
          "Gradient Boosting<br>Performance: 79.22%<br>Model ID: 3046<br>Accuracy: 81.97%<br>Precision: 82.14%<br>Recall: 81.97%<br>ROC AUC: 81.44<br>Geometric Mean: 81.44<br>Matthews Correlation: 63.71<br>F1: 81.85<br>Average Probability: 76.73",
          "Gradient Boosting<br>Performance: 79.22%<br>Model ID: 2985<br>Accuracy: 81.97%<br>Precision: 82.14%<br>Recall: 81.97%<br>ROC AUC: 81.44<br>Geometric Mean: 81.44<br>Matthews Correlation: 63.71<br>F1: 81.85<br>Average Probability: 76.65",
          "Gradient Boosting<br>Performance: 77.34%<br>Model ID: 3017<br>Accuracy: 80.33%<br>Precision: 80.35%<br>Recall: 80.33%<br>ROC AUC: 79.92<br>Geometric Mean: 79.92<br>Matthews Correlation: 60.31<br>F1: 80.25<br>Average Probability: 76.26",
          "Gradient Boosting<br>Performance: 77.44%<br>Model ID: meta_10<br>Accuracy: 80.33%<br>Precision: 80.33%<br>Recall: 80.33%<br>ROC AUC: 80.19<br>Geometric Mean: 80.19<br>Matthews Correlation: 60.39<br>F1: 80.33<br>Average Probability: 75.31"
         ],
         "marker": {
          "color": [
           79.22,
           79.22,
           79.22,
           79.22,
           77.34,
           77.44
          ],
          "coloraxis": "coloraxis",
          "line": {
           "color": "Black",
           "width": 1
          },
          "opacity": [
           0.8,
           0.8,
           0.8,
           0.8,
           0.8,
           0.8
          ],
          "size": [
           20,
           20,
           20,
           20,
           20,
           40
          ],
          "symbol": [
           "triangle-up",
           "triangle-up",
           "triangle-up",
           "triangle-up",
           "triangle-up",
           "triangle-up"
          ]
         },
         "mode": "markers",
         "name": "Gradient Boosting",
         "type": "scatter",
         "x": [
          -16.150930404663086,
          -15.707945823669434,
          -16.2596435546875,
          -15.635236740112305,
          -15.343067169189453,
          -6.71455192565918
         ],
         "y": [
          5.13136625289917,
          5.395705223083496,
          4.446061611175537,
          4.25760555267334,
          4.861475944519043,
          -5.148325443267822
         ]
        }
       ],
       "layout": {
        "coloraxis": {
         "cmax": 90,
         "cmin": 60,
         "colorbar": {
          "title": {
           "side": "right",
           "text": "Metric-Based Performance"
          }
         },
         "colorscale": [
          [
           0,
           "#440154"
          ],
          [
           0.1111111111111111,
           "#482878"
          ],
          [
           0.2222222222222222,
           "#3e4989"
          ],
          [
           0.3333333333333333,
           "#31688e"
          ],
          [
           0.4444444444444444,
           "#26828e"
          ],
          [
           0.5555555555555556,
           "#1f9e89"
          ],
          [
           0.6666666666666666,
           "#35b779"
          ],
          [
           0.7777777777777778,
           "#6ece58"
          ],
          [
           0.8888888888888888,
           "#b5de2b"
          ],
          [
           1,
           "#fde725"
          ]
         ]
        },
        "height": 800,
        "hoverlabel": {
         "bgcolor": "white",
         "font": {
          "family": "Rockwell",
          "size": 14
         }
        },
        "hovermode": "closest",
        "legend": {
         "title": {
          "text": "Algorithm"
         },
         "traceorder": "normal",
         "x": -0.4,
         "y": 1
        },
        "margin": {
         "b": 0,
         "l": 0,
         "r": 0,
         "t": 0
        },
        "paper_bgcolor": "rgba(0,0,0,0)",
        "plot_bgcolor": "rgba(0,0,0,0)",
        "showlegend": true,
        "template": {
         "data": {
          "bar": [
           {
            "error_x": {
             "color": "#2a3f5f"
            },
            "error_y": {
             "color": "#2a3f5f"
            },
            "marker": {
             "line": {
              "color": "#E5ECF6",
              "width": 0.5
             },
             "pattern": {
              "fillmode": "overlay",
              "size": 10,
              "solidity": 0.2
             }
            },
            "type": "bar"
           }
          ],
          "barpolar": [
           {
            "marker": {
             "line": {
              "color": "#E5ECF6",
              "width": 0.5
             },
             "pattern": {
              "fillmode": "overlay",
              "size": 10,
              "solidity": 0.2
             }
            },
            "type": "barpolar"
           }
          ],
          "carpet": [
           {
            "aaxis": {
             "endlinecolor": "#2a3f5f",
             "gridcolor": "white",
             "linecolor": "white",
             "minorgridcolor": "white",
             "startlinecolor": "#2a3f5f"
            },
            "baxis": {
             "endlinecolor": "#2a3f5f",
             "gridcolor": "white",
             "linecolor": "white",
             "minorgridcolor": "white",
             "startlinecolor": "#2a3f5f"
            },
            "type": "carpet"
           }
          ],
          "choropleth": [
           {
            "colorbar": {
             "outlinewidth": 0,
             "ticks": ""
            },
            "type": "choropleth"
           }
          ],
          "contour": [
           {
            "colorbar": {
             "outlinewidth": 0,
             "ticks": ""
            },
            "colorscale": [
             [
              0,
              "#0d0887"
             ],
             [
              0.1111111111111111,
              "#46039f"
             ],
             [
              0.2222222222222222,
              "#7201a8"
             ],
             [
              0.3333333333333333,
              "#9c179e"
             ],
             [
              0.4444444444444444,
              "#bd3786"
             ],
             [
              0.5555555555555556,
              "#d8576b"
             ],
             [
              0.6666666666666666,
              "#ed7953"
             ],
             [
              0.7777777777777778,
              "#fb9f3a"
             ],
             [
              0.8888888888888888,
              "#fdca26"
             ],
             [
              1,
              "#f0f921"
             ]
            ],
            "type": "contour"
           }
          ],
          "contourcarpet": [
           {
            "colorbar": {
             "outlinewidth": 0,
             "ticks": ""
            },
            "type": "contourcarpet"
           }
          ],
          "heatmap": [
           {
            "colorbar": {
             "outlinewidth": 0,
             "ticks": ""
            },
            "colorscale": [
             [
              0,
              "#0d0887"
             ],
             [
              0.1111111111111111,
              "#46039f"
             ],
             [
              0.2222222222222222,
              "#7201a8"
             ],
             [
              0.3333333333333333,
              "#9c179e"
             ],
             [
              0.4444444444444444,
              "#bd3786"
             ],
             [
              0.5555555555555556,
              "#d8576b"
             ],
             [
              0.6666666666666666,
              "#ed7953"
             ],
             [
              0.7777777777777778,
              "#fb9f3a"
             ],
             [
              0.8888888888888888,
              "#fdca26"
             ],
             [
              1,
              "#f0f921"
             ]
            ],
            "type": "heatmap"
           }
          ],
          "heatmapgl": [
           {
            "colorbar": {
             "outlinewidth": 0,
             "ticks": ""
            },
            "colorscale": [
             [
              0,
              "#0d0887"
             ],
             [
              0.1111111111111111,
              "#46039f"
             ],
             [
              0.2222222222222222,
              "#7201a8"
             ],
             [
              0.3333333333333333,
              "#9c179e"
             ],
             [
              0.4444444444444444,
              "#bd3786"
             ],
             [
              0.5555555555555556,
              "#d8576b"
             ],
             [
              0.6666666666666666,
              "#ed7953"
             ],
             [
              0.7777777777777778,
              "#fb9f3a"
             ],
             [
              0.8888888888888888,
              "#fdca26"
             ],
             [
              1,
              "#f0f921"
             ]
            ],
            "type": "heatmapgl"
           }
          ],
          "histogram": [
           {
            "marker": {
             "pattern": {
              "fillmode": "overlay",
              "size": 10,
              "solidity": 0.2
             }
            },
            "type": "histogram"
           }
          ],
          "histogram2d": [
           {
            "colorbar": {
             "outlinewidth": 0,
             "ticks": ""
            },
            "colorscale": [
             [
              0,
              "#0d0887"
             ],
             [
              0.1111111111111111,
              "#46039f"
             ],
             [
              0.2222222222222222,
              "#7201a8"
             ],
             [
              0.3333333333333333,
              "#9c179e"
             ],
             [
              0.4444444444444444,
              "#bd3786"
             ],
             [
              0.5555555555555556,
              "#d8576b"
             ],
             [
              0.6666666666666666,
              "#ed7953"
             ],
             [
              0.7777777777777778,
              "#fb9f3a"
             ],
             [
              0.8888888888888888,
              "#fdca26"
             ],
             [
              1,
              "#f0f921"
             ]
            ],
            "type": "histogram2d"
           }
          ],
          "histogram2dcontour": [
           {
            "colorbar": {
             "outlinewidth": 0,
             "ticks": ""
            },
            "colorscale": [
             [
              0,
              "#0d0887"
             ],
             [
              0.1111111111111111,
              "#46039f"
             ],
             [
              0.2222222222222222,
              "#7201a8"
             ],
             [
              0.3333333333333333,
              "#9c179e"
             ],
             [
              0.4444444444444444,
              "#bd3786"
             ],
             [
              0.5555555555555556,
              "#d8576b"
             ],
             [
              0.6666666666666666,
              "#ed7953"
             ],
             [
              0.7777777777777778,
              "#fb9f3a"
             ],
             [
              0.8888888888888888,
              "#fdca26"
             ],
             [
              1,
              "#f0f921"
             ]
            ],
            "type": "histogram2dcontour"
           }
          ],
          "mesh3d": [
           {
            "colorbar": {
             "outlinewidth": 0,
             "ticks": ""
            },
            "type": "mesh3d"
           }
          ],
          "parcoords": [
           {
            "line": {
             "colorbar": {
              "outlinewidth": 0,
              "ticks": ""
             }
            },
            "type": "parcoords"
           }
          ],
          "pie": [
           {
            "automargin": true,
            "type": "pie"
           }
          ],
          "scatter": [
           {
            "fillpattern": {
             "fillmode": "overlay",
             "size": 10,
             "solidity": 0.2
            },
            "type": "scatter"
           }
          ],
          "scatter3d": [
           {
            "line": {
             "colorbar": {
              "outlinewidth": 0,
              "ticks": ""
             }
            },
            "marker": {
             "colorbar": {
              "outlinewidth": 0,
              "ticks": ""
             }
            },
            "type": "scatter3d"
           }
          ],
          "scattercarpet": [
           {
            "marker": {
             "colorbar": {
              "outlinewidth": 0,
              "ticks": ""
             }
            },
            "type": "scattercarpet"
           }
          ],
          "scattergeo": [
           {
            "marker": {
             "colorbar": {
              "outlinewidth": 0,
              "ticks": ""
             }
            },
            "type": "scattergeo"
           }
          ],
          "scattergl": [
           {
            "marker": {
             "colorbar": {
              "outlinewidth": 0,
              "ticks": ""
             }
            },
            "type": "scattergl"
           }
          ],
          "scattermapbox": [
           {
            "marker": {
             "colorbar": {
              "outlinewidth": 0,
              "ticks": ""
             }
            },
            "type": "scattermapbox"
           }
          ],
          "scatterpolar": [
           {
            "marker": {
             "colorbar": {
              "outlinewidth": 0,
              "ticks": ""
             }
            },
            "type": "scatterpolar"
           }
          ],
          "scatterpolargl": [
           {
            "marker": {
             "colorbar": {
              "outlinewidth": 0,
              "ticks": ""
             }
            },
            "type": "scatterpolargl"
           }
          ],
          "scatterternary": [
           {
            "marker": {
             "colorbar": {
              "outlinewidth": 0,
              "ticks": ""
             }
            },
            "type": "scatterternary"
           }
          ],
          "surface": [
           {
            "colorbar": {
             "outlinewidth": 0,
             "ticks": ""
            },
            "colorscale": [
             [
              0,
              "#0d0887"
             ],
             [
              0.1111111111111111,
              "#46039f"
             ],
             [
              0.2222222222222222,
              "#7201a8"
             ],
             [
              0.3333333333333333,
              "#9c179e"
             ],
             [
              0.4444444444444444,
              "#bd3786"
             ],
             [
              0.5555555555555556,
              "#d8576b"
             ],
             [
              0.6666666666666666,
              "#ed7953"
             ],
             [
              0.7777777777777778,
              "#fb9f3a"
             ],
             [
              0.8888888888888888,
              "#fdca26"
             ],
             [
              1,
              "#f0f921"
             ]
            ],
            "type": "surface"
           }
          ],
          "table": [
           {
            "cells": {
             "fill": {
              "color": "#EBF0F8"
             },
             "line": {
              "color": "white"
             }
            },
            "header": {
             "fill": {
              "color": "#C8D4E3"
             },
             "line": {
              "color": "white"
             }
            },
            "type": "table"
           }
          ]
         },
         "layout": {
          "annotationdefaults": {
           "arrowcolor": "#2a3f5f",
           "arrowhead": 0,
           "arrowwidth": 1
          },
          "autotypenumbers": "strict",
          "coloraxis": {
           "colorbar": {
            "outlinewidth": 0,
            "ticks": ""
           }
          },
          "colorscale": {
           "diverging": [
            [
             0,
             "#8e0152"
            ],
            [
             0.1,
             "#c51b7d"
            ],
            [
             0.2,
             "#de77ae"
            ],
            [
             0.3,
             "#f1b6da"
            ],
            [
             0.4,
             "#fde0ef"
            ],
            [
             0.5,
             "#f7f7f7"
            ],
            [
             0.6,
             "#e6f5d0"
            ],
            [
             0.7,
             "#b8e186"
            ],
            [
             0.8,
             "#7fbc41"
            ],
            [
             0.9,
             "#4d9221"
            ],
            [
             1,
             "#276419"
            ]
           ],
           "sequential": [
            [
             0,
             "#0d0887"
            ],
            [
             0.1111111111111111,
             "#46039f"
            ],
            [
             0.2222222222222222,
             "#7201a8"
            ],
            [
             0.3333333333333333,
             "#9c179e"
            ],
            [
             0.4444444444444444,
             "#bd3786"
            ],
            [
             0.5555555555555556,
             "#d8576b"
            ],
            [
             0.6666666666666666,
             "#ed7953"
            ],
            [
             0.7777777777777778,
             "#fb9f3a"
            ],
            [
             0.8888888888888888,
             "#fdca26"
            ],
            [
             1,
             "#f0f921"
            ]
           ],
           "sequentialminus": [
            [
             0,
             "#0d0887"
            ],
            [
             0.1111111111111111,
             "#46039f"
            ],
            [
             0.2222222222222222,
             "#7201a8"
            ],
            [
             0.3333333333333333,
             "#9c179e"
            ],
            [
             0.4444444444444444,
             "#bd3786"
            ],
            [
             0.5555555555555556,
             "#d8576b"
            ],
            [
             0.6666666666666666,
             "#ed7953"
            ],
            [
             0.7777777777777778,
             "#fb9f3a"
            ],
            [
             0.8888888888888888,
             "#fdca26"
            ],
            [
             1,
             "#f0f921"
            ]
           ]
          },
          "colorway": [
           "#636efa",
           "#EF553B",
           "#00cc96",
           "#ab63fa",
           "#FFA15A",
           "#19d3f3",
           "#FF6692",
           "#B6E880",
           "#FF97FF",
           "#FECB52"
          ],
          "font": {
           "color": "#2a3f5f"
          },
          "geo": {
           "bgcolor": "white",
           "lakecolor": "white",
           "landcolor": "#E5ECF6",
           "showlakes": true,
           "showland": true,
           "subunitcolor": "white"
          },
          "hoverlabel": {
           "align": "left"
          },
          "hovermode": "closest",
          "mapbox": {
           "style": "light"
          },
          "paper_bgcolor": "white",
          "plot_bgcolor": "#E5ECF6",
          "polar": {
           "angularaxis": {
            "gridcolor": "white",
            "linecolor": "white",
            "ticks": ""
           },
           "bgcolor": "#E5ECF6",
           "radialaxis": {
            "gridcolor": "white",
            "linecolor": "white",
            "ticks": ""
           }
          },
          "scene": {
           "xaxis": {
            "backgroundcolor": "#E5ECF6",
            "gridcolor": "white",
            "gridwidth": 2,
            "linecolor": "white",
            "showbackground": true,
            "ticks": "",
            "zerolinecolor": "white"
           },
           "yaxis": {
            "backgroundcolor": "#E5ECF6",
            "gridcolor": "white",
            "gridwidth": 2,
            "linecolor": "white",
            "showbackground": true,
            "ticks": "",
            "zerolinecolor": "white"
           },
           "zaxis": {
            "backgroundcolor": "#E5ECF6",
            "gridcolor": "white",
            "gridwidth": 2,
            "linecolor": "white",
            "showbackground": true,
            "ticks": "",
            "zerolinecolor": "white"
           }
          },
          "shapedefaults": {
           "line": {
            "color": "#2a3f5f"
           }
          },
          "ternary": {
           "aaxis": {
            "gridcolor": "white",
            "linecolor": "white",
            "ticks": ""
           },
           "baxis": {
            "gridcolor": "white",
            "linecolor": "white",
            "ticks": ""
           },
           "bgcolor": "#E5ECF6",
           "caxis": {
            "gridcolor": "white",
            "linecolor": "white",
            "ticks": ""
           }
          },
          "title": {
           "x": 0.05
          },
          "xaxis": {
           "automargin": true,
           "gridcolor": "white",
           "linecolor": "white",
           "ticks": "",
           "title": {
            "standoff": 15
           },
           "zerolinecolor": "white",
           "zerolinewidth": 2
          },
          "yaxis": {
           "automargin": true,
           "gridcolor": "white",
           "linecolor": "white",
           "ticks": "",
           "title": {
            "standoff": 15
           },
           "zerolinecolor": "white",
           "zerolinewidth": 2
          }
         }
        },
        "title": {
         "text": "df_model_outliers"
        },
        "updatemenus": [
         {
          "active": 0,
          "buttons": [
           {
            "args": [
             {
              "visible": [
               true,
               true,
               true,
               true,
               true,
               true,
               true,
               true,
               true,
               true,
               true,
               false,
               false,
               false,
               false,
               false,
               false,
               false,
               false,
               false,
               false,
               false,
               false,
               false,
               false,
               false,
               false,
               false,
               false,
               false,
               false,
               false,
               false,
               false,
               false,
               false,
               false,
               false,
               false,
               false,
               false,
               false,
               false,
               false,
               false,
               false,
               false,
               false,
               false,
               false,
               false,
               false,
               false,
               false,
               false,
               false,
               false,
               false,
               false,
               false,
               false,
               false,
               false,
               false,
               false,
               false,
               false,
               false,
               false,
               false,
               false,
               false,
               false,
               false,
               false,
               false,
               false,
               false,
               false,
               false,
               false,
               false,
               false,
               false,
               false,
               false,
               false,
               false,
               true
              ]
             }
            ],
            "label": "number of neighbours 3",
            "method": "restyle"
           },
           {
            "args": [
             {
              "visible": [
               false,
               false,
               false,
               false,
               false,
               false,
               false,
               false,
               false,
               false,
               false,
               true,
               true,
               true,
               true,
               true,
               true,
               true,
               true,
               true,
               true,
               true,
               false,
               false,
               false,
               false,
               false,
               false,
               false,
               false,
               false,
               false,
               false,
               false,
               false,
               false,
               false,
               false,
               false,
               false,
               false,
               false,
               false,
               false,
               false,
               false,
               false,
               false,
               false,
               false,
               false,
               false,
               false,
               false,
               false,
               false,
               false,
               false,
               false,
               false,
               false,
               false,
               false,
               false,
               false,
               false,
               false,
               false,
               false,
               false,
               false,
               false,
               false,
               false,
               false,
               false,
               false,
               false,
               false,
               false,
               false,
               false,
               false,
               false,
               false,
               false,
               false,
               false,
               true
              ]
             }
            ],
            "label": "number of neighbours 4",
            "method": "restyle"
           },
           {
            "args": [
             {
              "visible": [
               false,
               false,
               false,
               false,
               false,
               false,
               false,
               false,
               false,
               false,
               false,
               false,
               false,
               false,
               false,
               false,
               false,
               false,
               false,
               false,
               false,
               false,
               true,
               true,
               true,
               true,
               true,
               true,
               true,
               true,
               true,
               true,
               true,
               false,
               false,
               false,
               false,
               false,
               false,
               false,
               false,
               false,
               false,
               false,
               false,
               false,
               false,
               false,
               false,
               false,
               false,
               false,
               false,
               false,
               false,
               false,
               false,
               false,
               false,
               false,
               false,
               false,
               false,
               false,
               false,
               false,
               false,
               false,
               false,
               false,
               false,
               false,
               false,
               false,
               false,
               false,
               false,
               false,
               false,
               false,
               false,
               false,
               false,
               false,
               false,
               false,
               false,
               false,
               true
              ]
             }
            ],
            "label": "number of neighbours 5",
            "method": "restyle"
           },
           {
            "args": [
             {
              "visible": [
               false,
               false,
               false,
               false,
               false,
               false,
               false,
               false,
               false,
               false,
               false,
               false,
               false,
               false,
               false,
               false,
               false,
               false,
               false,
               false,
               false,
               false,
               false,
               false,
               false,
               false,
               false,
               false,
               false,
               false,
               false,
               false,
               false,
               true,
               true,
               true,
               true,
               true,
               true,
               true,
               true,
               true,
               true,
               true,
               false,
               false,
               false,
               false,
               false,
               false,
               false,
               false,
               false,
               false,
               false,
               false,
               false,
               false,
               false,
               false,
               false,
               false,
               false,
               false,
               false,
               false,
               false,
               false,
               false,
               false,
               false,
               false,
               false,
               false,
               false,
               false,
               false,
               false,
               false,
               false,
               false,
               false,
               false,
               false,
               false,
               false,
               false,
               false,
               true
              ]
             }
            ],
            "label": "number of neighbours 6",
            "method": "restyle"
           }
          ],
          "direction": "down",
          "showactive": false
         }
        ],
        "width": 1000,
        "xaxis": {
         "showticklabels": false
        },
        "yaxis": {
         "showticklabels": false
        }
       }
      }
     },
     "metadata": {},
     "output_type": "display_data"
    },
    {
     "data": {
      "application/vnd.plotly.v1+json": {
       "config": {
        "plotlyServerURL": "https://plot.ly"
       },
       "data": [
        {
         "hovertext": [
          "K-Nearest Neighbor<br>Performance: 73.54%<br>Model ID: 252<br>Accuracy: 77.05%<br>Precision: 77.78%<br>Recall: 77.05%<br>ROC AUC: 76.08<br>Geometric Mean: 76.08<br>Matthews Correlation: 54.13<br>F1: 76.63<br>Average Probability: 64.41",
          "K-Nearest Neighbor<br>Performance: 73.54%<br>Model ID: 60<br>Accuracy: 77.05%<br>Precision: 77.78%<br>Recall: 77.05%<br>ROC AUC: 76.08<br>Geometric Mean: 76.08<br>Matthews Correlation: 54.13<br>F1: 76.63<br>Average Probability: 64.37",
          "K-Nearest Neighbor<br>Performance: 83.0%<br>Model ID: meta_3<br>Accuracy: 85.25%<br>Precision: 85.48%<br>Recall: 85.25%<br>ROC AUC: 84.74<br>Geometric Mean: 84.74<br>Matthews Correlation: 70.4<br>F1: 85.15<br>Average Probability: 77.38"
         ],
         "marker": {
          "color": [
           73.54,
           73.54,
           83
          ],
          "coloraxis": "coloraxis",
          "line": {
           "color": "Black",
           "width": 1
          },
          "opacity": [
           0.3,
           0.3,
           0.7
          ],
          "size": [
           20,
           20,
           40
          ],
          "symbol": [
           "circle",
           "circle",
           "circle"
          ]
         },
         "mode": "markers",
         "name": "K-Nearest Neighbor",
         "type": "scatter",
         "x": [
          2.4924614429473877,
          2.740732431411743,
          7.978665351867676
         ],
         "y": [
          21.517810821533203,
          20.783344268798828,
          23.702787399291992
         ]
        },
        {
         "hovertext": [
          "Support Vector Machine<br>Performance: 83.03%<br>Model ID: meta_4<br>Accuracy: 85.25%<br>Precision: 85.24%<br>Recall: 85.25%<br>ROC AUC: 85.01<br>Geometric Mean: 85.01<br>Matthews Correlation: 70.25<br>F1: 85.22<br>Average Probability: 74.35"
         ],
         "marker": {
          "color": [
           83.03
          ],
          "coloraxis": "coloraxis",
          "line": {
           "color": "Black",
           "width": 1
          },
          "opacity": [
           0.6
          ],
          "size": [
           40
          ],
          "symbol": [
           "square"
          ]
         },
         "mode": "markers",
         "name": "Support Vector Machine",
         "type": "scatter",
         "x": [
          5.408819675445557
         ],
         "y": [
          23.940265655517578
         ]
        },
        {
         "hovertext": [
          "Gaussian Naive Bayes<br>Performance: 84.96%<br>Model ID: meta_1<br>Accuracy: 86.89%<br>Precision: 86.89%<br>Recall: 86.89%<br>ROC AUC: 86.8<br>Geometric Mean: 86.8<br>Matthews Correlation: 73.59<br>F1: 86.89<br>Average Probability: 85.0"
         ],
         "marker": {
          "color": [
           84.96
          ],
          "coloraxis": "coloraxis",
          "line": {
           "color": "Black",
           "width": 1
          },
          "opacity": [
           1
          ],
          "size": [
           40
          ],
          "symbol": [
           "x"
          ]
         },
         "mode": "markers",
         "name": "Gaussian Naive Bayes",
         "type": "scatter",
         "x": [
          6.411383628845215
         ],
         "y": [
          24.116243362426758
         ]
        },
        {
         "hovertext": [
          "Multilayer Perceptron<br>Performance: 84.96%<br>Model ID: meta_6<br>Accuracy: 86.89%<br>Precision: 86.89%<br>Recall: 86.89%<br>ROC AUC: 86.8<br>Geometric Mean: 86.8<br>Matthews Correlation: 73.59<br>F1: 86.89<br>Average Probability: 72.27"
         ],
         "marker": {
          "color": [
           84.96
          ],
          "coloraxis": "coloraxis",
          "line": {
           "color": "Black",
           "width": 1
          },
          "opacity": [
           0.6
          ],
          "size": [
           40
          ],
          "symbol": [
           "cross"
          ]
         },
         "mode": "markers",
         "name": "Multilayer Perceptron",
         "type": "scatter",
         "x": [
          4.802539825439453
         ],
         "y": [
          23.15327262878418
         ]
        },
        {
         "hovertext": [
          "Logistic Regression<br>Performance: 83.0%<br>Model ID: meta_5<br>Accuracy: 85.25%<br>Precision: 85.48%<br>Recall: 85.25%<br>ROC AUC: 84.74<br>Geometric Mean: 84.74<br>Matthews Correlation: 70.4<br>F1: 85.15<br>Average Probability: 74.07"
         ],
         "marker": {
          "color": [
           83
          ],
          "coloraxis": "coloraxis",
          "line": {
           "color": "Black",
           "width": 1
          },
          "opacity": [
           0.6
          ],
          "size": [
           40
          ],
          "symbol": [
           "diamond"
          ]
         },
         "mode": "markers",
         "name": "Logistic Regression",
         "type": "scatter",
         "x": [
          6.1180830001831055
         ],
         "y": [
          22.910152435302734
         ]
        },
        {
         "hovertext": [
          "Linear Discriminant Analysis<br>Performance: 69.8%<br>Model ID: 1999<br>Accuracy: 73.77%<br>Precision: 73.73%<br>Recall: 73.77%<br>ROC AUC: 73.32<br>Geometric Mean: 73.32<br>Matthews Correlation: 47.0<br>F1: 73.67<br>Average Probability: 66.94",
          "Linear Discriminant Analysis<br>Performance: 83.06%<br>Model ID: meta_2<br>Accuracy: 85.25%<br>Precision: 86.04%<br>Recall: 85.25%<br>ROC AUC: 84.47<br>Geometric Mean: 84.47<br>Matthews Correlation: 70.88<br>F1: 85.04<br>Average Probability: 79.55"
         ],
         "marker": {
          "color": [
           69.8,
           83.06
          ],
          "coloraxis": "coloraxis",
          "line": {
           "color": "Black",
           "width": 1
          },
          "opacity": [
           0.4,
           0.8
          ],
          "size": [
           20,
           40
          ],
          "symbol": [
           "star",
           "star"
          ]
         },
         "mode": "markers",
         "name": "Linear Discriminant Analysis",
         "type": "scatter",
         "x": [
          3.5382297039031982,
          7.065813064575195
         ],
         "y": [
          21.677555084228516,
          23.31200408935547
         ]
        },
        {
         "hovertext": [
          "Quadratic Discriminant Analysis<br>Performance: 83.06%<br>Model ID: meta_10<br>Accuracy: 85.25%<br>Precision: 86.04%<br>Recall: 85.25%<br>ROC AUC: 84.47<br>Geometric Mean: 84.47<br>Matthews Correlation: 70.88<br>F1: 85.04<br>Average Probability: 62.81"
         ],
         "marker": {
          "color": [
           83.06
          ],
          "coloraxis": "coloraxis",
          "line": {
           "color": "Black",
           "width": 1
          },
          "opacity": [
           0.2
          ],
          "size": [
           40
          ],
          "symbol": [
           "hexagram"
          ]
         },
         "mode": "markers",
         "name": "Quadratic Discriminant Analysis",
         "type": "scatter",
         "x": [
          3.6813387870788574
         ],
         "y": [
          22.63015365600586
         ]
        },
        {
         "hovertext": [
          "Random Forest<br>Performance: 73.57%<br>Model ID: meta_7<br>Accuracy: 77.05%<br>Precision: 77.04%<br>Recall: 77.05%<br>ROC AUC: 76.62<br>Geometric Mean: 76.62<br>Matthews Correlation: 53.65<br>F1: 76.96<br>Average Probability: 74.08"
         ],
         "marker": {
          "color": [
           73.57
          ],
          "coloraxis": "coloraxis",
          "line": {
           "color": "Black",
           "width": 1
          },
          "opacity": [
           0.6
          ],
          "size": [
           40
          ],
          "symbol": [
           "triangle-right"
          ]
         },
         "mode": "markers",
         "name": "Random Forest",
         "type": "scatter",
         "x": [
          9.245595932006836
         ],
         "y": [
          25.44337272644043
         ]
        },
        {
         "hovertext": [
          "Extra Trees<br>Performance: 69.92%<br>Model ID: meta_11<br>Accuracy: 73.77%<br>Precision: 73.77%<br>Recall: 73.77%<br>ROC AUC: 73.59<br>Geometric Mean: 73.59<br>Matthews Correlation: 47.19<br>F1: 73.77<br>Average Probability: 74.61"
         ],
         "marker": {
          "color": [
           69.92
          ],
          "coloraxis": "coloraxis",
          "line": {
           "color": "Black",
           "width": 1
          },
          "opacity": [
           0.6
          ],
          "size": [
           40
          ],
          "symbol": [
           "triangle-left"
          ]
         },
         "mode": "markers",
         "name": "Extra Trees",
         "type": "scatter",
         "x": [
          8.965336799621582
         ],
         "y": [
          24.65863037109375
         ]
        },
        {
         "hovertext": [
          "Adaptive Boosting<br>Performance: 86.78%<br>Model ID: meta_8<br>Accuracy: 88.52%<br>Precision: 88.81%<br>Recall: 88.52%<br>ROC AUC: 88.04<br>Geometric Mean: 88.04<br>Matthews Correlation: 77.09<br>F1: 88.45<br>Average Probability: 61.97"
         ],
         "marker": {
          "color": [
           86.78
          ],
          "coloraxis": "coloraxis",
          "line": {
           "color": "Black",
           "width": 1
          },
          "opacity": [
           0.2
          ],
          "size": [
           40
          ],
          "symbol": [
           "triangle-down"
          ]
         },
         "mode": "markers",
         "name": "Adaptive Boosting",
         "type": "scatter",
         "x": [
          4.51512336730957
         ],
         "y": [
          22.12571907043457
         ]
        },
        {
         "hovertext": [
          "Gradient Boosting<br>Performance: 72.08%<br>Model ID: meta_9<br>Accuracy: 75.41%<br>Precision: 75.85%<br>Recall: 75.41%<br>ROC AUC: 75.65<br>Geometric Mean: 75.65<br>Matthews Correlation: 51.13<br>F1: 75.45<br>Average Probability: 72.92"
         ],
         "marker": {
          "color": [
           72.08
          ],
          "coloraxis": "coloraxis",
          "line": {
           "color": "Black",
           "width": 1
          },
          "opacity": [
           0.6
          ],
          "size": [
           40
          ],
          "symbol": [
           "triangle-up"
          ]
         },
         "mode": "markers",
         "name": "Gradient Boosting",
         "type": "scatter",
         "x": [
          8.484355926513672
         ],
         "y": [
          25.61005210876465
         ]
        },
        {
         "hovertext": [
          "K-Nearest Neighbor<br>Performance: 73.54%<br>Model ID: 252<br>Accuracy: 77.05%<br>Precision: 77.78%<br>Recall: 77.05%<br>ROC AUC: 76.08<br>Geometric Mean: 76.08<br>Matthews Correlation: 54.13<br>F1: 76.63<br>Average Probability: 64.41",
          "K-Nearest Neighbor<br>Performance: 73.54%<br>Model ID: 60<br>Accuracy: 77.05%<br>Precision: 77.78%<br>Recall: 77.05%<br>ROC AUC: 76.08<br>Geometric Mean: 76.08<br>Matthews Correlation: 54.13<br>F1: 76.63<br>Average Probability: 64.37",
          "K-Nearest Neighbor<br>Performance: 83.0%<br>Model ID: meta_3<br>Accuracy: 85.25%<br>Precision: 85.48%<br>Recall: 85.25%<br>ROC AUC: 84.74<br>Geometric Mean: 84.74<br>Matthews Correlation: 70.4<br>F1: 85.15<br>Average Probability: 77.38"
         ],
         "marker": {
          "color": [
           73.54,
           73.54,
           83
          ],
          "coloraxis": "coloraxis",
          "line": {
           "color": "Black",
           "width": 1
          },
          "opacity": [
           0.3,
           0.3,
           0.7
          ],
          "size": [
           20,
           20,
           40
          ],
          "symbol": [
           "circle",
           "circle",
           "circle"
          ]
         },
         "mode": "markers",
         "name": "K-Nearest Neighbor",
         "type": "scatter",
         "x": [
          2.2973906993865967,
          3.283837080001831,
          7.372419834136963
         ],
         "y": [
          1.7563364505767822,
          1.7204355001449585,
          1.267351746559143
         ]
        },
        {
         "hovertext": [
          "Support Vector Machine<br>Performance: 83.03%<br>Model ID: meta_4<br>Accuracy: 85.25%<br>Precision: 85.24%<br>Recall: 85.25%<br>ROC AUC: 85.01<br>Geometric Mean: 85.01<br>Matthews Correlation: 70.25<br>F1: 85.22<br>Average Probability: 74.35"
         ],
         "marker": {
          "color": [
           83.03
          ],
          "coloraxis": "coloraxis",
          "line": {
           "color": "Black",
           "width": 1
          },
          "opacity": [
           0.6
          ],
          "size": [
           40
          ],
          "symbol": [
           "square"
          ]
         },
         "mode": "markers",
         "name": "Support Vector Machine",
         "type": "scatter",
         "x": [
          5.612673282623291
         ],
         "y": [
          0.5166769027709961
         ]
        },
        {
         "hovertext": [
          "Gaussian Naive Bayes<br>Performance: 84.96%<br>Model ID: meta_1<br>Accuracy: 86.89%<br>Precision: 86.89%<br>Recall: 86.89%<br>ROC AUC: 86.8<br>Geometric Mean: 86.8<br>Matthews Correlation: 73.59<br>F1: 86.89<br>Average Probability: 85.0"
         ],
         "marker": {
          "color": [
           84.96
          ],
          "coloraxis": "coloraxis",
          "line": {
           "color": "Black",
           "width": 1
          },
          "opacity": [
           1
          ],
          "size": [
           40
          ],
          "symbol": [
           "x"
          ]
         },
         "mode": "markers",
         "name": "Gaussian Naive Bayes",
         "type": "scatter",
         "x": [
          6.076868534088135
         ],
         "y": [
          1.3322480916976929
         ]
        },
        {
         "hovertext": [
          "Multilayer Perceptron<br>Performance: 84.96%<br>Model ID: meta_6<br>Accuracy: 86.89%<br>Precision: 86.89%<br>Recall: 86.89%<br>ROC AUC: 86.8<br>Geometric Mean: 86.8<br>Matthews Correlation: 73.59<br>F1: 86.89<br>Average Probability: 72.27"
         ],
         "marker": {
          "color": [
           84.96
          ],
          "coloraxis": "coloraxis",
          "line": {
           "color": "Black",
           "width": 1
          },
          "opacity": [
           0.6
          ],
          "size": [
           40
          ],
          "symbol": [
           "cross"
          ]
         },
         "mode": "markers",
         "name": "Multilayer Perceptron",
         "type": "scatter",
         "x": [
          4.660871505737305
         ],
         "y": [
          0.7613308429718018
         ]
        },
        {
         "hovertext": [
          "Logistic Regression<br>Performance: 83.0%<br>Model ID: meta_5<br>Accuracy: 85.25%<br>Precision: 85.48%<br>Recall: 85.25%<br>ROC AUC: 84.74<br>Geometric Mean: 84.74<br>Matthews Correlation: 70.4<br>F1: 85.15<br>Average Probability: 74.07"
         ],
         "marker": {
          "color": [
           83
          ],
          "coloraxis": "coloraxis",
          "line": {
           "color": "Black",
           "width": 1
          },
          "opacity": [
           0.6
          ],
          "size": [
           40
          ],
          "symbol": [
           "diamond"
          ]
         },
         "mode": "markers",
         "name": "Logistic Regression",
         "type": "scatter",
         "x": [
          5.206912517547607
         ],
         "y": [
          1.8935290575027466
         ]
        },
        {
         "hovertext": [
          "Linear Discriminant Analysis<br>Performance: 69.8%<br>Model ID: 1999<br>Accuracy: 73.77%<br>Precision: 73.73%<br>Recall: 73.77%<br>ROC AUC: 73.32<br>Geometric Mean: 73.32<br>Matthews Correlation: 47.0<br>F1: 73.67<br>Average Probability: 66.94",
          "Linear Discriminant Analysis<br>Performance: 83.06%<br>Model ID: meta_2<br>Accuracy: 85.25%<br>Precision: 86.04%<br>Recall: 85.25%<br>ROC AUC: 84.47<br>Geometric Mean: 84.47<br>Matthews Correlation: 70.88<br>F1: 85.04<br>Average Probability: 79.55"
         ],
         "marker": {
          "color": [
           69.8,
           83.06
          ],
          "coloraxis": "coloraxis",
          "line": {
           "color": "Black",
           "width": 1
          },
          "opacity": [
           0.4,
           0.8
          ],
          "size": [
           20,
           40
          ],
          "symbol": [
           "star",
           "star"
          ]
         },
         "mode": "markers",
         "name": "Linear Discriminant Analysis",
         "type": "scatter",
         "x": [
          2.677905797958374,
          6.39694356918335
         ],
         "y": [
          0.7301069498062134,
          2.035264730453491
         ]
        },
        {
         "hovertext": [
          "Quadratic Discriminant Analysis<br>Performance: 83.06%<br>Model ID: meta_10<br>Accuracy: 85.25%<br>Precision: 86.04%<br>Recall: 85.25%<br>ROC AUC: 84.47<br>Geometric Mean: 84.47<br>Matthews Correlation: 70.88<br>F1: 85.04<br>Average Probability: 62.81"
         ],
         "marker": {
          "color": [
           83.06
          ],
          "coloraxis": "coloraxis",
          "line": {
           "color": "Black",
           "width": 1
          },
          "opacity": [
           0.2
          ],
          "size": [
           40
          ],
          "symbol": [
           "hexagram"
          ]
         },
         "mode": "markers",
         "name": "Quadratic Discriminant Analysis",
         "type": "scatter",
         "x": [
          3.582467555999756
         ],
         "y": [
          0.9386408925056458
         ]
        },
        {
         "hovertext": [
          "Random Forest<br>Performance: 73.57%<br>Model ID: meta_7<br>Accuracy: 77.05%<br>Precision: 77.04%<br>Recall: 77.05%<br>ROC AUC: 76.62<br>Geometric Mean: 76.62<br>Matthews Correlation: 53.65<br>F1: 76.96<br>Average Probability: 74.08"
         ],
         "marker": {
          "color": [
           73.57
          ],
          "coloraxis": "coloraxis",
          "line": {
           "color": "Black",
           "width": 1
          },
          "opacity": [
           0.6
          ],
          "size": [
           40
          ],
          "symbol": [
           "triangle-right"
          ]
         },
         "mode": "markers",
         "name": "Random Forest",
         "type": "scatter",
         "x": [
          8.49119758605957
         ],
         "y": [
          -0.5263131260871887
         ]
        },
        {
         "hovertext": [
          "Extra Trees<br>Performance: 69.92%<br>Model ID: meta_11<br>Accuracy: 73.77%<br>Precision: 73.77%<br>Recall: 73.77%<br>ROC AUC: 73.59<br>Geometric Mean: 73.59<br>Matthews Correlation: 47.19<br>F1: 73.77<br>Average Probability: 74.61"
         ],
         "marker": {
          "color": [
           69.92
          ],
          "coloraxis": "coloraxis",
          "line": {
           "color": "Black",
           "width": 1
          },
          "opacity": [
           0.6
          ],
          "size": [
           40
          ],
          "symbol": [
           "triangle-left"
          ]
         },
         "mode": "markers",
         "name": "Extra Trees",
         "type": "scatter",
         "x": [
          7.879748821258545
         ],
         "y": [
          0.09162375330924988
         ]
        },
        {
         "hovertext": [
          "Adaptive Boosting<br>Performance: 86.78%<br>Model ID: meta_8<br>Accuracy: 88.52%<br>Precision: 88.81%<br>Recall: 88.52%<br>ROC AUC: 88.04<br>Geometric Mean: 88.04<br>Matthews Correlation: 77.09<br>F1: 88.45<br>Average Probability: 61.97"
         ],
         "marker": {
          "color": [
           86.78
          ],
          "coloraxis": "coloraxis",
          "line": {
           "color": "Black",
           "width": 1
          },
          "opacity": [
           0.2
          ],
          "size": [
           40
          ],
          "symbol": [
           "triangle-down"
          ]
         },
         "mode": "markers",
         "name": "Adaptive Boosting",
         "type": "scatter",
         "x": [
          3.6459474563598633
         ],
         "y": [
          -0.012575781904160976
         ]
        },
        {
         "hovertext": [
          "Gradient Boosting<br>Performance: 72.08%<br>Model ID: meta_9<br>Accuracy: 75.41%<br>Precision: 75.85%<br>Recall: 75.41%<br>ROC AUC: 75.65<br>Geometric Mean: 75.65<br>Matthews Correlation: 51.13<br>F1: 75.45<br>Average Probability: 72.92"
         ],
         "marker": {
          "color": [
           72.08
          ],
          "coloraxis": "coloraxis",
          "line": {
           "color": "Black",
           "width": 1
          },
          "opacity": [
           0.6
          ],
          "size": [
           40
          ],
          "symbol": [
           "triangle-up"
          ]
         },
         "mode": "markers",
         "name": "Gradient Boosting",
         "type": "scatter",
         "x": [
          8.814528465270996
         ],
         "y": [
          0.3234131336212158
         ]
        },
        {
         "hovertext": [
          "K-Nearest Neighbor<br>Performance: 73.54%<br>Model ID: 252<br>Accuracy: 77.05%<br>Precision: 77.78%<br>Recall: 77.05%<br>ROC AUC: 76.08<br>Geometric Mean: 76.08<br>Matthews Correlation: 54.13<br>F1: 76.63<br>Average Probability: 64.41",
          "K-Nearest Neighbor<br>Performance: 73.54%<br>Model ID: 60<br>Accuracy: 77.05%<br>Precision: 77.78%<br>Recall: 77.05%<br>ROC AUC: 76.08<br>Geometric Mean: 76.08<br>Matthews Correlation: 54.13<br>F1: 76.63<br>Average Probability: 64.37",
          "K-Nearest Neighbor<br>Performance: 83.0%<br>Model ID: meta_3<br>Accuracy: 85.25%<br>Precision: 85.48%<br>Recall: 85.25%<br>ROC AUC: 84.74<br>Geometric Mean: 84.74<br>Matthews Correlation: 70.4<br>F1: 85.15<br>Average Probability: 77.38"
         ],
         "marker": {
          "color": [
           73.54,
           73.54,
           83
          ],
          "coloraxis": "coloraxis",
          "line": {
           "color": "Black",
           "width": 1
          },
          "opacity": [
           0.3,
           0.3,
           0.7
          ],
          "size": [
           20,
           20,
           40
          ],
          "symbol": [
           "circle",
           "circle",
           "circle"
          ]
         },
         "mode": "markers",
         "name": "K-Nearest Neighbor",
         "type": "scatter",
         "x": [
          -7.775915145874023,
          -7.88533353805542,
          -6.177842140197754
         ],
         "y": [
          -0.8961209058761597,
          -1.684503436088562,
          -5.149062633514404
         ]
        },
        {
         "hovertext": [
          "Support Vector Machine<br>Performance: 83.03%<br>Model ID: meta_4<br>Accuracy: 85.25%<br>Precision: 85.24%<br>Recall: 85.25%<br>ROC AUC: 85.01<br>Geometric Mean: 85.01<br>Matthews Correlation: 70.25<br>F1: 85.22<br>Average Probability: 74.35"
         ],
         "marker": {
          "color": [
           83.03
          ],
          "coloraxis": "coloraxis",
          "line": {
           "color": "Black",
           "width": 1
          },
          "opacity": [
           0.6
          ],
          "size": [
           40
          ],
          "symbol": [
           "square"
          ]
         },
         "mode": "markers",
         "name": "Support Vector Machine",
         "type": "scatter",
         "x": [
          -8.054344177246094
         ],
         "y": [
          -4.543232440948486
         ]
        },
        {
         "hovertext": [
          "Gaussian Naive Bayes<br>Performance: 84.96%<br>Model ID: meta_1<br>Accuracy: 86.89%<br>Precision: 86.89%<br>Recall: 86.89%<br>ROC AUC: 86.8<br>Geometric Mean: 86.8<br>Matthews Correlation: 73.59<br>F1: 86.89<br>Average Probability: 85.0"
         ],
         "marker": {
          "color": [
           84.96
          ],
          "coloraxis": "coloraxis",
          "line": {
           "color": "Black",
           "width": 1
          },
          "opacity": [
           1
          ],
          "size": [
           40
          ],
          "symbol": [
           "x"
          ]
         },
         "mode": "markers",
         "name": "Gaussian Naive Bayes",
         "type": "scatter",
         "x": [
          -7.671095848083496
         ],
         "y": [
          -5.7112250328063965
         ]
        },
        {
         "hovertext": [
          "Multilayer Perceptron<br>Performance: 84.96%<br>Model ID: meta_6<br>Accuracy: 86.89%<br>Precision: 86.89%<br>Recall: 86.89%<br>ROC AUC: 86.8<br>Geometric Mean: 86.8<br>Matthews Correlation: 73.59<br>F1: 86.89<br>Average Probability: 72.27"
         ],
         "marker": {
          "color": [
           84.96
          ],
          "coloraxis": "coloraxis",
          "line": {
           "color": "Black",
           "width": 1
          },
          "opacity": [
           0.6
          ],
          "size": [
           40
          ],
          "symbol": [
           "cross"
          ]
         },
         "mode": "markers",
         "name": "Multilayer Perceptron",
         "type": "scatter",
         "x": [
          -7.507275104522705
         ],
         "y": [
          -3.605985641479492
         ]
        },
        {
         "hovertext": [
          "Logistic Regression<br>Performance: 83.0%<br>Model ID: meta_5<br>Accuracy: 85.25%<br>Precision: 85.48%<br>Recall: 85.25%<br>ROC AUC: 84.74<br>Geometric Mean: 84.74<br>Matthews Correlation: 70.4<br>F1: 85.15<br>Average Probability: 74.07"
         ],
         "marker": {
          "color": [
           83
          ],
          "coloraxis": "coloraxis",
          "line": {
           "color": "Black",
           "width": 1
          },
          "opacity": [
           0.6
          ],
          "size": [
           40
          ],
          "symbol": [
           "diamond"
          ]
         },
         "mode": "markers",
         "name": "Logistic Regression",
         "type": "scatter",
         "x": [
          -6.645650386810303
         ],
         "y": [
          -4.032085418701172
         ]
        },
        {
         "hovertext": [
          "Linear Discriminant Analysis<br>Performance: 69.8%<br>Model ID: 1999<br>Accuracy: 73.77%<br>Precision: 73.73%<br>Recall: 73.77%<br>ROC AUC: 73.32<br>Geometric Mean: 73.32<br>Matthews Correlation: 47.0<br>F1: 73.67<br>Average Probability: 66.94",
          "Linear Discriminant Analysis<br>Performance: 83.06%<br>Model ID: meta_2<br>Accuracy: 85.25%<br>Precision: 86.04%<br>Recall: 85.25%<br>ROC AUC: 84.47<br>Geometric Mean: 84.47<br>Matthews Correlation: 70.88<br>F1: 85.04<br>Average Probability: 79.55"
         ],
         "marker": {
          "color": [
           69.8,
           83.06
          ],
          "coloraxis": "coloraxis",
          "line": {
           "color": "Black",
           "width": 1
          },
          "opacity": [
           0.4,
           0.8
          ],
          "size": [
           20,
           40
          ],
          "symbol": [
           "star",
           "star"
          ]
         },
         "mode": "markers",
         "name": "Linear Discriminant Analysis",
         "type": "scatter",
         "x": [
          -6.964320182800293,
          -7.028645038604736
         ],
         "y": [
          -1.204757809638977,
          -5.029329299926758
         ]
        },
        {
         "hovertext": [
          "Quadratic Discriminant Analysis<br>Performance: 83.06%<br>Model ID: meta_10<br>Accuracy: 85.25%<br>Precision: 86.04%<br>Recall: 85.25%<br>ROC AUC: 84.47<br>Geometric Mean: 84.47<br>Matthews Correlation: 70.88<br>F1: 85.04<br>Average Probability: 62.81"
         ],
         "marker": {
          "color": [
           83.06
          ],
          "coloraxis": "coloraxis",
          "line": {
           "color": "Black",
           "width": 1
          },
          "opacity": [
           0.2
          ],
          "size": [
           40
          ],
          "symbol": [
           "hexagram"
          ]
         },
         "mode": "markers",
         "name": "Quadratic Discriminant Analysis",
         "type": "scatter",
         "x": [
          -6.188255786895752
         ],
         "y": [
          -1.7764190435409546
         ]
        },
        {
         "hovertext": [
          "Random Forest<br>Performance: 73.57%<br>Model ID: meta_7<br>Accuracy: 77.05%<br>Precision: 77.04%<br>Recall: 77.05%<br>ROC AUC: 76.62<br>Geometric Mean: 76.62<br>Matthews Correlation: 53.65<br>F1: 76.96<br>Average Probability: 74.08"
         ],
         "marker": {
          "color": [
           73.57
          ],
          "coloraxis": "coloraxis",
          "line": {
           "color": "Black",
           "width": 1
          },
          "opacity": [
           0.6
          ],
          "size": [
           40
          ],
          "symbol": [
           "triangle-right"
          ]
         },
         "mode": "markers",
         "name": "Random Forest",
         "type": "scatter",
         "x": [
          -4.8701863288879395
         ],
         "y": [
          -5.131142616271973
         ]
        },
        {
         "hovertext": [
          "Extra Trees<br>Performance: 69.92%<br>Model ID: meta_11<br>Accuracy: 73.77%<br>Precision: 73.77%<br>Recall: 73.77%<br>ROC AUC: 73.59<br>Geometric Mean: 73.59<br>Matthews Correlation: 47.19<br>F1: 73.77<br>Average Probability: 74.61"
         ],
         "marker": {
          "color": [
           69.92
          ],
          "coloraxis": "coloraxis",
          "line": {
           "color": "Black",
           "width": 1
          },
          "opacity": [
           0.6
          ],
          "size": [
           40
          ],
          "symbol": [
           "triangle-left"
          ]
         },
         "mode": "markers",
         "name": "Extra Trees",
         "type": "scatter",
         "x": [
          -5.4875922203063965
         ],
         "y": [
          -4.379765033721924
         ]
        },
        {
         "hovertext": [
          "Adaptive Boosting<br>Performance: 86.78%<br>Model ID: meta_8<br>Accuracy: 88.52%<br>Precision: 88.81%<br>Recall: 88.52%<br>ROC AUC: 88.04<br>Geometric Mean: 88.04<br>Matthews Correlation: 77.09<br>F1: 88.45<br>Average Probability: 61.97"
         ],
         "marker": {
          "color": [
           86.78
          ],
          "coloraxis": "coloraxis",
          "line": {
           "color": "Black",
           "width": 1
          },
          "opacity": [
           0.2
          ],
          "size": [
           40
          ],
          "symbol": [
           "triangle-down"
          ]
         },
         "mode": "markers",
         "name": "Adaptive Boosting",
         "type": "scatter",
         "x": [
          -6.897362232208252
         ],
         "y": [
          -2.4550929069519043
         ]
        },
        {
         "hovertext": [
          "Gradient Boosting<br>Performance: 72.08%<br>Model ID: meta_9<br>Accuracy: 75.41%<br>Precision: 75.85%<br>Recall: 75.41%<br>ROC AUC: 75.65<br>Geometric Mean: 75.65<br>Matthews Correlation: 51.13<br>F1: 75.45<br>Average Probability: 72.92"
         ],
         "marker": {
          "color": [
           72.08
          ],
          "coloraxis": "coloraxis",
          "line": {
           "color": "Black",
           "width": 1
          },
          "opacity": [
           0.6
          ],
          "size": [
           40
          ],
          "symbol": [
           "triangle-up"
          ]
         },
         "mode": "markers",
         "name": "Gradient Boosting",
         "type": "scatter",
         "x": [
          -4.62726354598999
         ],
         "y": [
          -4.173606872558594
         ]
        },
        {
         "hovertext": [
          "K-Nearest Neighbor<br>Performance: 73.54%<br>Model ID: 252<br>Accuracy: 77.05%<br>Precision: 77.78%<br>Recall: 77.05%<br>ROC AUC: 76.08<br>Geometric Mean: 76.08<br>Matthews Correlation: 54.13<br>F1: 76.63<br>Average Probability: 64.41",
          "K-Nearest Neighbor<br>Performance: 73.54%<br>Model ID: 60<br>Accuracy: 77.05%<br>Precision: 77.78%<br>Recall: 77.05%<br>ROC AUC: 76.08<br>Geometric Mean: 76.08<br>Matthews Correlation: 54.13<br>F1: 76.63<br>Average Probability: 64.37",
          "K-Nearest Neighbor<br>Performance: 83.0%<br>Model ID: meta_3<br>Accuracy: 85.25%<br>Precision: 85.48%<br>Recall: 85.25%<br>ROC AUC: 84.74<br>Geometric Mean: 84.74<br>Matthews Correlation: 70.4<br>F1: 85.15<br>Average Probability: 77.38"
         ],
         "marker": {
          "color": [
           73.54,
           73.54,
           83
          ],
          "coloraxis": "coloraxis",
          "line": {
           "color": "Black",
           "width": 1
          },
          "opacity": [
           0.3,
           0.3,
           0.7
          ],
          "size": [
           20,
           20,
           40
          ],
          "symbol": [
           "circle",
           "circle",
           "circle"
          ]
         },
         "mode": "markers",
         "name": "K-Nearest Neighbor",
         "type": "scatter",
         "x": [
          8.800920486450195,
          8.471014022827148,
          10.114548683166504
         ],
         "y": [
          -7.1567888259887695,
          -6.385842800140381,
          -9.711343765258789
         ]
        },
        {
         "hovertext": [
          "Support Vector Machine<br>Performance: 83.03%<br>Model ID: meta_4<br>Accuracy: 85.25%<br>Precision: 85.24%<br>Recall: 85.25%<br>ROC AUC: 85.01<br>Geometric Mean: 85.01<br>Matthews Correlation: 70.25<br>F1: 85.22<br>Average Probability: 74.35"
         ],
         "marker": {
          "color": [
           83.03
          ],
          "coloraxis": "coloraxis",
          "line": {
           "color": "Black",
           "width": 1
          },
          "opacity": [
           0.6
          ],
          "size": [
           40
          ],
          "symbol": [
           "square"
          ]
         },
         "mode": "markers",
         "name": "Support Vector Machine",
         "type": "scatter",
         "x": [
          11.310699462890625
         ],
         "y": [
          -8.172255516052246
         ]
        },
        {
         "hovertext": [
          "Gaussian Naive Bayes<br>Performance: 84.96%<br>Model ID: meta_1<br>Accuracy: 86.89%<br>Precision: 86.89%<br>Recall: 86.89%<br>ROC AUC: 86.8<br>Geometric Mean: 86.8<br>Matthews Correlation: 73.59<br>F1: 86.89<br>Average Probability: 85.0"
         ],
         "marker": {
          "color": [
           84.96
          ],
          "coloraxis": "coloraxis",
          "line": {
           "color": "Black",
           "width": 1
          },
          "opacity": [
           1
          ],
          "size": [
           40
          ],
          "symbol": [
           "x"
          ]
         },
         "mode": "markers",
         "name": "Gaussian Naive Bayes",
         "type": "scatter",
         "x": [
          11.759073257446289
         ],
         "y": [
          -9.222750663757324
         ]
        },
        {
         "hovertext": [
          "Multilayer Perceptron<br>Performance: 84.96%<br>Model ID: meta_6<br>Accuracy: 86.89%<br>Precision: 86.89%<br>Recall: 86.89%<br>ROC AUC: 86.8<br>Geometric Mean: 86.8<br>Matthews Correlation: 73.59<br>F1: 86.89<br>Average Probability: 72.27"
         ],
         "marker": {
          "color": [
           84.96
          ],
          "coloraxis": "coloraxis",
          "line": {
           "color": "Black",
           "width": 1
          },
          "opacity": [
           0.6
          ],
          "size": [
           40
          ],
          "symbol": [
           "cross"
          ]
         },
         "mode": "markers",
         "name": "Multilayer Perceptron",
         "type": "scatter",
         "x": [
          10.45467472076416
         ],
         "y": [
          -7.870289325714111
         ]
        },
        {
         "hovertext": [
          "Logistic Regression<br>Performance: 83.0%<br>Model ID: meta_5<br>Accuracy: 85.25%<br>Precision: 85.48%<br>Recall: 85.25%<br>ROC AUC: 84.74<br>Geometric Mean: 84.74<br>Matthews Correlation: 70.4<br>F1: 85.15<br>Average Probability: 74.07"
         ],
         "marker": {
          "color": [
           83
          ],
          "coloraxis": "coloraxis",
          "line": {
           "color": "Black",
           "width": 1
          },
          "opacity": [
           0.6
          ],
          "size": [
           40
          ],
          "symbol": [
           "diamond"
          ]
         },
         "mode": "markers",
         "name": "Logistic Regression",
         "type": "scatter",
         "x": [
          10.124963760375977
         ],
         "y": [
          -8.695897102355957
         ]
        },
        {
         "hovertext": [
          "Linear Discriminant Analysis<br>Performance: 69.8%<br>Model ID: 1999<br>Accuracy: 73.77%<br>Precision: 73.73%<br>Recall: 73.77%<br>ROC AUC: 73.32<br>Geometric Mean: 73.32<br>Matthews Correlation: 47.0<br>F1: 73.67<br>Average Probability: 66.94",
          "Linear Discriminant Analysis<br>Performance: 83.06%<br>Model ID: meta_2<br>Accuracy: 85.25%<br>Precision: 86.04%<br>Recall: 85.25%<br>ROC AUC: 84.47<br>Geometric Mean: 84.47<br>Matthews Correlation: 70.88<br>F1: 85.04<br>Average Probability: 79.55"
         ],
         "marker": {
          "color": [
           69.8,
           83.06
          ],
          "coloraxis": "coloraxis",
          "line": {
           "color": "Black",
           "width": 1
          },
          "opacity": [
           0.4,
           0.8
          ],
          "size": [
           20,
           40
          ],
          "symbol": [
           "star",
           "star"
          ]
         },
         "mode": "markers",
         "name": "Linear Discriminant Analysis",
         "type": "scatter",
         "x": [
          9.518380165100098,
          10.990408897399902
         ],
         "y": [
          -5.975492477416992,
          -9.620041847229004
         ]
        },
        {
         "hovertext": [
          "Quadratic Discriminant Analysis<br>Performance: 83.06%<br>Model ID: meta_10<br>Accuracy: 85.25%<br>Precision: 86.04%<br>Recall: 85.25%<br>ROC AUC: 84.47<br>Geometric Mean: 84.47<br>Matthews Correlation: 70.88<br>F1: 85.04<br>Average Probability: 62.81"
         ],
         "marker": {
          "color": [
           83.06
          ],
          "coloraxis": "coloraxis",
          "line": {
           "color": "Black",
           "width": 1
          },
          "opacity": [
           0.2
          ],
          "size": [
           40
          ],
          "symbol": [
           "hexagram"
          ]
         },
         "mode": "markers",
         "name": "Quadratic Discriminant Analysis",
         "type": "scatter",
         "x": [
          9.968035697937012
         ],
         "y": [
          -6.848635673522949
         ]
        },
        {
         "hovertext": [
          "Random Forest<br>Performance: 73.57%<br>Model ID: meta_7<br>Accuracy: 77.05%<br>Precision: 77.04%<br>Recall: 77.05%<br>ROC AUC: 76.62<br>Geometric Mean: 76.62<br>Matthews Correlation: 53.65<br>F1: 76.96<br>Average Probability: 74.08"
         ],
         "marker": {
          "color": [
           73.57
          ],
          "coloraxis": "coloraxis",
          "line": {
           "color": "Black",
           "width": 1
          },
          "opacity": [
           0.6
          ],
          "size": [
           40
          ],
          "symbol": [
           "triangle-right"
          ]
         },
         "mode": "markers",
         "name": "Random Forest",
         "type": "scatter",
         "x": [
          8.983271598815918
         ],
         "y": [
          -9.480788230895996
         ]
        },
        {
         "hovertext": [
          "Extra Trees<br>Performance: 69.92%<br>Model ID: meta_11<br>Accuracy: 73.77%<br>Precision: 73.77%<br>Recall: 73.77%<br>ROC AUC: 73.59<br>Geometric Mean: 73.59<br>Matthews Correlation: 47.19<br>F1: 73.77<br>Average Probability: 74.61"
         ],
         "marker": {
          "color": [
           69.92
          ],
          "coloraxis": "coloraxis",
          "line": {
           "color": "Black",
           "width": 1
          },
          "opacity": [
           0.6
          ],
          "size": [
           40
          ],
          "symbol": [
           "triangle-left"
          ]
         },
         "mode": "markers",
         "name": "Extra Trees",
         "type": "scatter",
         "x": [
          9.652018547058105
         ],
         "y": [
          -10.512636184692383
         ]
        },
        {
         "hovertext": [
          "Adaptive Boosting<br>Performance: 86.78%<br>Model ID: meta_8<br>Accuracy: 88.52%<br>Precision: 88.81%<br>Recall: 88.52%<br>ROC AUC: 88.04<br>Geometric Mean: 88.04<br>Matthews Correlation: 77.09<br>F1: 88.45<br>Average Probability: 61.97"
         ],
         "marker": {
          "color": [
           86.78
          ],
          "coloraxis": "coloraxis",
          "line": {
           "color": "Black",
           "width": 1
          },
          "opacity": [
           0.2
          ],
          "size": [
           40
          ],
          "symbol": [
           "triangle-down"
          ]
         },
         "mode": "markers",
         "name": "Adaptive Boosting",
         "type": "scatter",
         "x": [
          10.714319229125977
         ],
         "y": [
          -6.456068992614746
         ]
        },
        {
         "hovertext": [
          "Gradient Boosting<br>Performance: 72.08%<br>Model ID: meta_9<br>Accuracy: 75.41%<br>Precision: 75.85%<br>Recall: 75.41%<br>ROC AUC: 75.65<br>Geometric Mean: 75.65<br>Matthews Correlation: 51.13<br>F1: 75.45<br>Average Probability: 72.92"
         ],
         "marker": {
          "color": [
           72.08
          ],
          "coloraxis": "coloraxis",
          "line": {
           "color": "Black",
           "width": 1
          },
          "opacity": [
           0.6
          ],
          "size": [
           40
          ],
          "symbol": [
           "triangle-up"
          ]
         },
         "mode": "markers",
         "name": "Gradient Boosting",
         "type": "scatter",
         "x": [
          8.698369979858398
         ],
         "y": [
          -10.22303295135498
         ]
        }
       ],
       "layout": {
        "coloraxis": {
         "cmax": 90,
         "cmin": 60,
         "colorbar": {
          "title": {
           "side": "right",
           "text": "Metric-Based Performance"
          }
         },
         "colorscale": [
          [
           0,
           "#440154"
          ],
          [
           0.1111111111111111,
           "#482878"
          ],
          [
           0.2222222222222222,
           "#3e4989"
          ],
          [
           0.3333333333333333,
           "#31688e"
          ],
          [
           0.4444444444444444,
           "#26828e"
          ],
          [
           0.5555555555555556,
           "#1f9e89"
          ],
          [
           0.6666666666666666,
           "#35b779"
          ],
          [
           0.7777777777777778,
           "#6ece58"
          ],
          [
           0.8888888888888888,
           "#b5de2b"
          ],
          [
           1,
           "#fde725"
          ]
         ]
        },
        "height": 800,
        "hoverlabel": {
         "bgcolor": "white",
         "font": {
          "family": "Rockwell",
          "size": 14
         }
        },
        "hovermode": "closest",
        "legend": {
         "title": {
          "text": "Algorithm"
         },
         "traceorder": "normal",
         "x": -0.4,
         "y": 1
        },
        "margin": {
         "b": 0,
         "l": 0,
         "r": 0,
         "t": 0
        },
        "paper_bgcolor": "rgba(0,0,0,0)",
        "plot_bgcolor": "rgba(0,0,0,0)",
        "showlegend": true,
        "template": {
         "data": {
          "bar": [
           {
            "error_x": {
             "color": "#2a3f5f"
            },
            "error_y": {
             "color": "#2a3f5f"
            },
            "marker": {
             "line": {
              "color": "#E5ECF6",
              "width": 0.5
             },
             "pattern": {
              "fillmode": "overlay",
              "size": 10,
              "solidity": 0.2
             }
            },
            "type": "bar"
           }
          ],
          "barpolar": [
           {
            "marker": {
             "line": {
              "color": "#E5ECF6",
              "width": 0.5
             },
             "pattern": {
              "fillmode": "overlay",
              "size": 10,
              "solidity": 0.2
             }
            },
            "type": "barpolar"
           }
          ],
          "carpet": [
           {
            "aaxis": {
             "endlinecolor": "#2a3f5f",
             "gridcolor": "white",
             "linecolor": "white",
             "minorgridcolor": "white",
             "startlinecolor": "#2a3f5f"
            },
            "baxis": {
             "endlinecolor": "#2a3f5f",
             "gridcolor": "white",
             "linecolor": "white",
             "minorgridcolor": "white",
             "startlinecolor": "#2a3f5f"
            },
            "type": "carpet"
           }
          ],
          "choropleth": [
           {
            "colorbar": {
             "outlinewidth": 0,
             "ticks": ""
            },
            "type": "choropleth"
           }
          ],
          "contour": [
           {
            "colorbar": {
             "outlinewidth": 0,
             "ticks": ""
            },
            "colorscale": [
             [
              0,
              "#0d0887"
             ],
             [
              0.1111111111111111,
              "#46039f"
             ],
             [
              0.2222222222222222,
              "#7201a8"
             ],
             [
              0.3333333333333333,
              "#9c179e"
             ],
             [
              0.4444444444444444,
              "#bd3786"
             ],
             [
              0.5555555555555556,
              "#d8576b"
             ],
             [
              0.6666666666666666,
              "#ed7953"
             ],
             [
              0.7777777777777778,
              "#fb9f3a"
             ],
             [
              0.8888888888888888,
              "#fdca26"
             ],
             [
              1,
              "#f0f921"
             ]
            ],
            "type": "contour"
           }
          ],
          "contourcarpet": [
           {
            "colorbar": {
             "outlinewidth": 0,
             "ticks": ""
            },
            "type": "contourcarpet"
           }
          ],
          "heatmap": [
           {
            "colorbar": {
             "outlinewidth": 0,
             "ticks": ""
            },
            "colorscale": [
             [
              0,
              "#0d0887"
             ],
             [
              0.1111111111111111,
              "#46039f"
             ],
             [
              0.2222222222222222,
              "#7201a8"
             ],
             [
              0.3333333333333333,
              "#9c179e"
             ],
             [
              0.4444444444444444,
              "#bd3786"
             ],
             [
              0.5555555555555556,
              "#d8576b"
             ],
             [
              0.6666666666666666,
              "#ed7953"
             ],
             [
              0.7777777777777778,
              "#fb9f3a"
             ],
             [
              0.8888888888888888,
              "#fdca26"
             ],
             [
              1,
              "#f0f921"
             ]
            ],
            "type": "heatmap"
           }
          ],
          "heatmapgl": [
           {
            "colorbar": {
             "outlinewidth": 0,
             "ticks": ""
            },
            "colorscale": [
             [
              0,
              "#0d0887"
             ],
             [
              0.1111111111111111,
              "#46039f"
             ],
             [
              0.2222222222222222,
              "#7201a8"
             ],
             [
              0.3333333333333333,
              "#9c179e"
             ],
             [
              0.4444444444444444,
              "#bd3786"
             ],
             [
              0.5555555555555556,
              "#d8576b"
             ],
             [
              0.6666666666666666,
              "#ed7953"
             ],
             [
              0.7777777777777778,
              "#fb9f3a"
             ],
             [
              0.8888888888888888,
              "#fdca26"
             ],
             [
              1,
              "#f0f921"
             ]
            ],
            "type": "heatmapgl"
           }
          ],
          "histogram": [
           {
            "marker": {
             "pattern": {
              "fillmode": "overlay",
              "size": 10,
              "solidity": 0.2
             }
            },
            "type": "histogram"
           }
          ],
          "histogram2d": [
           {
            "colorbar": {
             "outlinewidth": 0,
             "ticks": ""
            },
            "colorscale": [
             [
              0,
              "#0d0887"
             ],
             [
              0.1111111111111111,
              "#46039f"
             ],
             [
              0.2222222222222222,
              "#7201a8"
             ],
             [
              0.3333333333333333,
              "#9c179e"
             ],
             [
              0.4444444444444444,
              "#bd3786"
             ],
             [
              0.5555555555555556,
              "#d8576b"
             ],
             [
              0.6666666666666666,
              "#ed7953"
             ],
             [
              0.7777777777777778,
              "#fb9f3a"
             ],
             [
              0.8888888888888888,
              "#fdca26"
             ],
             [
              1,
              "#f0f921"
             ]
            ],
            "type": "histogram2d"
           }
          ],
          "histogram2dcontour": [
           {
            "colorbar": {
             "outlinewidth": 0,
             "ticks": ""
            },
            "colorscale": [
             [
              0,
              "#0d0887"
             ],
             [
              0.1111111111111111,
              "#46039f"
             ],
             [
              0.2222222222222222,
              "#7201a8"
             ],
             [
              0.3333333333333333,
              "#9c179e"
             ],
             [
              0.4444444444444444,
              "#bd3786"
             ],
             [
              0.5555555555555556,
              "#d8576b"
             ],
             [
              0.6666666666666666,
              "#ed7953"
             ],
             [
              0.7777777777777778,
              "#fb9f3a"
             ],
             [
              0.8888888888888888,
              "#fdca26"
             ],
             [
              1,
              "#f0f921"
             ]
            ],
            "type": "histogram2dcontour"
           }
          ],
          "mesh3d": [
           {
            "colorbar": {
             "outlinewidth": 0,
             "ticks": ""
            },
            "type": "mesh3d"
           }
          ],
          "parcoords": [
           {
            "line": {
             "colorbar": {
              "outlinewidth": 0,
              "ticks": ""
             }
            },
            "type": "parcoords"
           }
          ],
          "pie": [
           {
            "automargin": true,
            "type": "pie"
           }
          ],
          "scatter": [
           {
            "fillpattern": {
             "fillmode": "overlay",
             "size": 10,
             "solidity": 0.2
            },
            "type": "scatter"
           }
          ],
          "scatter3d": [
           {
            "line": {
             "colorbar": {
              "outlinewidth": 0,
              "ticks": ""
             }
            },
            "marker": {
             "colorbar": {
              "outlinewidth": 0,
              "ticks": ""
             }
            },
            "type": "scatter3d"
           }
          ],
          "scattercarpet": [
           {
            "marker": {
             "colorbar": {
              "outlinewidth": 0,
              "ticks": ""
             }
            },
            "type": "scattercarpet"
           }
          ],
          "scattergeo": [
           {
            "marker": {
             "colorbar": {
              "outlinewidth": 0,
              "ticks": ""
             }
            },
            "type": "scattergeo"
           }
          ],
          "scattergl": [
           {
            "marker": {
             "colorbar": {
              "outlinewidth": 0,
              "ticks": ""
             }
            },
            "type": "scattergl"
           }
          ],
          "scattermapbox": [
           {
            "marker": {
             "colorbar": {
              "outlinewidth": 0,
              "ticks": ""
             }
            },
            "type": "scattermapbox"
           }
          ],
          "scatterpolar": [
           {
            "marker": {
             "colorbar": {
              "outlinewidth": 0,
              "ticks": ""
             }
            },
            "type": "scatterpolar"
           }
          ],
          "scatterpolargl": [
           {
            "marker": {
             "colorbar": {
              "outlinewidth": 0,
              "ticks": ""
             }
            },
            "type": "scatterpolargl"
           }
          ],
          "scatterternary": [
           {
            "marker": {
             "colorbar": {
              "outlinewidth": 0,
              "ticks": ""
             }
            },
            "type": "scatterternary"
           }
          ],
          "surface": [
           {
            "colorbar": {
             "outlinewidth": 0,
             "ticks": ""
            },
            "colorscale": [
             [
              0,
              "#0d0887"
             ],
             [
              0.1111111111111111,
              "#46039f"
             ],
             [
              0.2222222222222222,
              "#7201a8"
             ],
             [
              0.3333333333333333,
              "#9c179e"
             ],
             [
              0.4444444444444444,
              "#bd3786"
             ],
             [
              0.5555555555555556,
              "#d8576b"
             ],
             [
              0.6666666666666666,
              "#ed7953"
             ],
             [
              0.7777777777777778,
              "#fb9f3a"
             ],
             [
              0.8888888888888888,
              "#fdca26"
             ],
             [
              1,
              "#f0f921"
             ]
            ],
            "type": "surface"
           }
          ],
          "table": [
           {
            "cells": {
             "fill": {
              "color": "#EBF0F8"
             },
             "line": {
              "color": "white"
             }
            },
            "header": {
             "fill": {
              "color": "#C8D4E3"
             },
             "line": {
              "color": "white"
             }
            },
            "type": "table"
           }
          ]
         },
         "layout": {
          "annotationdefaults": {
           "arrowcolor": "#2a3f5f",
           "arrowhead": 0,
           "arrowwidth": 1
          },
          "autotypenumbers": "strict",
          "coloraxis": {
           "colorbar": {
            "outlinewidth": 0,
            "ticks": ""
           }
          },
          "colorscale": {
           "diverging": [
            [
             0,
             "#8e0152"
            ],
            [
             0.1,
             "#c51b7d"
            ],
            [
             0.2,
             "#de77ae"
            ],
            [
             0.3,
             "#f1b6da"
            ],
            [
             0.4,
             "#fde0ef"
            ],
            [
             0.5,
             "#f7f7f7"
            ],
            [
             0.6,
             "#e6f5d0"
            ],
            [
             0.7,
             "#b8e186"
            ],
            [
             0.8,
             "#7fbc41"
            ],
            [
             0.9,
             "#4d9221"
            ],
            [
             1,
             "#276419"
            ]
           ],
           "sequential": [
            [
             0,
             "#0d0887"
            ],
            [
             0.1111111111111111,
             "#46039f"
            ],
            [
             0.2222222222222222,
             "#7201a8"
            ],
            [
             0.3333333333333333,
             "#9c179e"
            ],
            [
             0.4444444444444444,
             "#bd3786"
            ],
            [
             0.5555555555555556,
             "#d8576b"
            ],
            [
             0.6666666666666666,
             "#ed7953"
            ],
            [
             0.7777777777777778,
             "#fb9f3a"
            ],
            [
             0.8888888888888888,
             "#fdca26"
            ],
            [
             1,
             "#f0f921"
            ]
           ],
           "sequentialminus": [
            [
             0,
             "#0d0887"
            ],
            [
             0.1111111111111111,
             "#46039f"
            ],
            [
             0.2222222222222222,
             "#7201a8"
            ],
            [
             0.3333333333333333,
             "#9c179e"
            ],
            [
             0.4444444444444444,
             "#bd3786"
            ],
            [
             0.5555555555555556,
             "#d8576b"
            ],
            [
             0.6666666666666666,
             "#ed7953"
            ],
            [
             0.7777777777777778,
             "#fb9f3a"
            ],
            [
             0.8888888888888888,
             "#fdca26"
            ],
            [
             1,
             "#f0f921"
            ]
           ]
          },
          "colorway": [
           "#636efa",
           "#EF553B",
           "#00cc96",
           "#ab63fa",
           "#FFA15A",
           "#19d3f3",
           "#FF6692",
           "#B6E880",
           "#FF97FF",
           "#FECB52"
          ],
          "font": {
           "color": "#2a3f5f"
          },
          "geo": {
           "bgcolor": "white",
           "lakecolor": "white",
           "landcolor": "#E5ECF6",
           "showlakes": true,
           "showland": true,
           "subunitcolor": "white"
          },
          "hoverlabel": {
           "align": "left"
          },
          "hovermode": "closest",
          "mapbox": {
           "style": "light"
          },
          "paper_bgcolor": "white",
          "plot_bgcolor": "#E5ECF6",
          "polar": {
           "angularaxis": {
            "gridcolor": "white",
            "linecolor": "white",
            "ticks": ""
           },
           "bgcolor": "#E5ECF6",
           "radialaxis": {
            "gridcolor": "white",
            "linecolor": "white",
            "ticks": ""
           }
          },
          "scene": {
           "xaxis": {
            "backgroundcolor": "#E5ECF6",
            "gridcolor": "white",
            "gridwidth": 2,
            "linecolor": "white",
            "showbackground": true,
            "ticks": "",
            "zerolinecolor": "white"
           },
           "yaxis": {
            "backgroundcolor": "#E5ECF6",
            "gridcolor": "white",
            "gridwidth": 2,
            "linecolor": "white",
            "showbackground": true,
            "ticks": "",
            "zerolinecolor": "white"
           },
           "zaxis": {
            "backgroundcolor": "#E5ECF6",
            "gridcolor": "white",
            "gridwidth": 2,
            "linecolor": "white",
            "showbackground": true,
            "ticks": "",
            "zerolinecolor": "white"
           }
          },
          "shapedefaults": {
           "line": {
            "color": "#2a3f5f"
           }
          },
          "ternary": {
           "aaxis": {
            "gridcolor": "white",
            "linecolor": "white",
            "ticks": ""
           },
           "baxis": {
            "gridcolor": "white",
            "linecolor": "white",
            "ticks": ""
           },
           "bgcolor": "#E5ECF6",
           "caxis": {
            "gridcolor": "white",
            "linecolor": "white",
            "ticks": ""
           }
          },
          "title": {
           "x": 0.05
          },
          "xaxis": {
           "automargin": true,
           "gridcolor": "white",
           "linecolor": "white",
           "ticks": "",
           "title": {
            "standoff": 15
           },
           "zerolinecolor": "white",
           "zerolinewidth": 2
          },
          "yaxis": {
           "automargin": true,
           "gridcolor": "white",
           "linecolor": "white",
           "ticks": "",
           "title": {
            "standoff": 15
           },
           "zerolinecolor": "white",
           "zerolinewidth": 2
          }
         }
        },
        "title": {
         "text": "df_model_cluster_0"
        },
        "updatemenus": [
         {
          "active": 0,
          "buttons": [
           {
            "args": [
             {
              "visible": [
               true,
               true,
               true,
               true,
               true,
               true,
               true,
               true,
               true,
               true,
               true,
               false,
               false,
               false,
               false,
               false,
               false,
               false,
               false,
               false,
               false,
               false,
               false,
               false,
               false,
               false,
               false,
               false,
               false,
               false,
               false,
               false,
               false,
               false,
               false,
               false,
               false,
               false,
               false,
               false,
               false,
               false,
               false,
               false,
               false,
               false,
               false,
               false,
               false,
               false,
               false,
               false,
               false,
               false,
               false,
               false,
               false,
               false,
               false,
               false,
               false,
               false,
               false,
               false,
               false,
               false,
               false,
               false,
               false,
               false,
               false,
               false,
               false,
               false,
               false,
               false,
               false,
               false,
               false,
               false,
               false,
               false,
               false,
               false,
               false,
               false,
               false,
               false,
               true
              ]
             }
            ],
            "label": "number of neighbours 3",
            "method": "restyle"
           },
           {
            "args": [
             {
              "visible": [
               false,
               false,
               false,
               false,
               false,
               false,
               false,
               false,
               false,
               false,
               false,
               true,
               true,
               true,
               true,
               true,
               true,
               true,
               true,
               true,
               true,
               true,
               false,
               false,
               false,
               false,
               false,
               false,
               false,
               false,
               false,
               false,
               false,
               false,
               false,
               false,
               false,
               false,
               false,
               false,
               false,
               false,
               false,
               false,
               false,
               false,
               false,
               false,
               false,
               false,
               false,
               false,
               false,
               false,
               false,
               false,
               false,
               false,
               false,
               false,
               false,
               false,
               false,
               false,
               false,
               false,
               false,
               false,
               false,
               false,
               false,
               false,
               false,
               false,
               false,
               false,
               false,
               false,
               false,
               false,
               false,
               false,
               false,
               false,
               false,
               false,
               false,
               false,
               true
              ]
             }
            ],
            "label": "number of neighbours 4",
            "method": "restyle"
           },
           {
            "args": [
             {
              "visible": [
               false,
               false,
               false,
               false,
               false,
               false,
               false,
               false,
               false,
               false,
               false,
               false,
               false,
               false,
               false,
               false,
               false,
               false,
               false,
               false,
               false,
               false,
               true,
               true,
               true,
               true,
               true,
               true,
               true,
               true,
               true,
               true,
               true,
               false,
               false,
               false,
               false,
               false,
               false,
               false,
               false,
               false,
               false,
               false,
               false,
               false,
               false,
               false,
               false,
               false,
               false,
               false,
               false,
               false,
               false,
               false,
               false,
               false,
               false,
               false,
               false,
               false,
               false,
               false,
               false,
               false,
               false,
               false,
               false,
               false,
               false,
               false,
               false,
               false,
               false,
               false,
               false,
               false,
               false,
               false,
               false,
               false,
               false,
               false,
               false,
               false,
               false,
               false,
               true
              ]
             }
            ],
            "label": "number of neighbours 5",
            "method": "restyle"
           },
           {
            "args": [
             {
              "visible": [
               false,
               false,
               false,
               false,
               false,
               false,
               false,
               false,
               false,
               false,
               false,
               false,
               false,
               false,
               false,
               false,
               false,
               false,
               false,
               false,
               false,
               false,
               false,
               false,
               false,
               false,
               false,
               false,
               false,
               false,
               false,
               false,
               false,
               true,
               true,
               true,
               true,
               true,
               true,
               true,
               true,
               true,
               true,
               true,
               false,
               false,
               false,
               false,
               false,
               false,
               false,
               false,
               false,
               false,
               false,
               false,
               false,
               false,
               false,
               false,
               false,
               false,
               false,
               false,
               false,
               false,
               false,
               false,
               false,
               false,
               false,
               false,
               false,
               false,
               false,
               false,
               false,
               false,
               false,
               false,
               false,
               false,
               false,
               false,
               false,
               false,
               false,
               false,
               true
              ]
             }
            ],
            "label": "number of neighbours 6",
            "method": "restyle"
           }
          ],
          "direction": "down",
          "showactive": false
         }
        ],
        "width": 1000,
        "xaxis": {
         "showticklabels": false
        },
        "yaxis": {
         "showticklabels": false
        }
       }
      }
     },
     "metadata": {},
     "output_type": "display_data"
    },
    {
     "data": {
      "application/vnd.plotly.v1+json": {
       "config": {
        "plotlyServerURL": "https://plot.ly"
       },
       "data": [
        {
         "hovertext": [
          "K-Nearest Neighbor<br>Performance: 79.27%<br>Model ID: meta_6<br>Accuracy: 81.97%<br>Precision: 81.95%<br>Recall: 81.97%<br>ROC AUC: 81.71<br>Geometric Mean: 81.71<br>Matthews Correlation: 63.63<br>F1: 81.94<br>Average Probability: 75.92"
         ],
         "marker": {
          "color": [
           79.27
          ],
          "coloraxis": "coloraxis",
          "line": {
           "color": "Black",
           "width": 1
          },
          "opacity": [
           0.8
          ],
          "size": [
           40
          ],
          "symbol": [
           "circle"
          ]
         },
         "mode": "markers",
         "name": "K-Nearest Neighbor",
         "type": "scatter",
         "x": [
          21.91199493408203
         ],
         "y": [
          -9.931915283203125
         ]
        },
        {
         "hovertext": [
          "Support Vector Machine<br>Performance: 79.27%<br>Model ID: meta_10<br>Accuracy: 81.97%<br>Precision: 81.95%<br>Recall: 81.97%<br>ROC AUC: 81.71<br>Geometric Mean: 81.71<br>Matthews Correlation: 63.63<br>F1: 81.94<br>Average Probability: 72.84"
         ],
         "marker": {
          "color": [
           79.27
          ],
          "coloraxis": "coloraxis",
          "line": {
           "color": "Black",
           "width": 1
          },
          "opacity": [
           0.7
          ],
          "size": [
           40
          ],
          "symbol": [
           "square"
          ]
         },
         "mode": "markers",
         "name": "Support Vector Machine",
         "type": "scatter",
         "x": [
          22.999549865722656
         ],
         "y": [
          -8.905496597290039
         ]
        },
        {
         "hovertext": [
          "Gaussian Naive Bayes<br>Performance: 76.1%<br>Model ID: 1077<br>Accuracy: 78.69%<br>Precision: 79.75%<br>Recall: 78.69%<br>ROC AUC: 79.22<br>Geometric Mean: 79.22<br>Matthews Correlation: 58.44<br>F1: 78.69<br>Average Probability: 77.05",
          "Gaussian Naive Bayes<br>Performance: 76.1%<br>Model ID: 1066<br>Accuracy: 78.69%<br>Precision: 79.75%<br>Recall: 78.69%<br>ROC AUC: 79.22<br>Geometric Mean: 79.22<br>Matthews Correlation: 58.44<br>F1: 78.69<br>Average Probability: 77.04",
          "Gaussian Naive Bayes<br>Performance: 76.1%<br>Model ID: 1078<br>Accuracy: 78.69%<br>Precision: 79.75%<br>Recall: 78.69%<br>ROC AUC: 79.22<br>Geometric Mean: 79.22<br>Matthews Correlation: 58.44<br>F1: 78.69<br>Average Probability: 77.05",
          "Gaussian Naive Bayes<br>Performance: 76.1%<br>Model ID: 1079<br>Accuracy: 78.69%<br>Precision: 79.75%<br>Recall: 78.69%<br>ROC AUC: 79.22<br>Geometric Mean: 79.22<br>Matthews Correlation: 58.44<br>F1: 78.69<br>Average Probability: 77.05",
          "Gaussian Naive Bayes<br>Performance: 76.1%<br>Model ID: 737<br>Accuracy: 78.69%<br>Precision: 79.75%<br>Recall: 78.69%<br>ROC AUC: 79.22<br>Geometric Mean: 79.22<br>Matthews Correlation: 58.44<br>F1: 78.69<br>Average Probability: 77.04",
          "Gaussian Naive Bayes<br>Performance: 79.27%<br>Model ID: meta_1<br>Accuracy: 81.97%<br>Precision: 81.95%<br>Recall: 81.97%<br>ROC AUC: 81.71<br>Geometric Mean: 81.71<br>Matthews Correlation: 63.63<br>F1: 81.94<br>Average Probability: 81.99"
         ],
         "marker": {
          "color": [
           76.1,
           76.1,
           76.1,
           76.1,
           76.1,
           79.27
          ],
          "coloraxis": "coloraxis",
          "line": {
           "color": "Black",
           "width": 1
          },
          "opacity": [
           0.8,
           0.8,
           0.8,
           0.8,
           0.8,
           1
          ],
          "size": [
           20,
           20,
           20,
           20,
           20,
           40
          ],
          "symbol": [
           "x",
           "x",
           "x",
           "x",
           "x",
           "x"
          ]
         },
         "mode": "markers",
         "name": "Gaussian Naive Bayes",
         "type": "scatter",
         "x": [
          4.349106311798096,
          3.406419038772583,
          4.66141939163208,
          3.9003849029541016,
          3.6533310413360596,
          23.57554054260254
         ],
         "y": [
          14.17861557006836,
          14.1686372756958,
          13.610489845275879,
          13.360703468322754,
          14.853178024291992,
          -6.5601911544799805
         ]
        },
        {
         "hovertext": [
          "Multilayer Perceptron<br>Performance: 79.27%<br>Model ID: meta_9<br>Accuracy: 81.97%<br>Precision: 81.95%<br>Recall: 81.97%<br>ROC AUC: 81.71<br>Geometric Mean: 81.71<br>Matthews Correlation: 63.63<br>F1: 81.94<br>Average Probability: 73.34"
         ],
         "marker": {
          "color": [
           79.27
          ],
          "coloraxis": "coloraxis",
          "line": {
           "color": "Black",
           "width": 1
          },
          "opacity": [
           0.7
          ],
          "size": [
           40
          ],
          "symbol": [
           "cross"
          ]
         },
         "mode": "markers",
         "name": "Multilayer Perceptron",
         "type": "scatter",
         "x": [
          21.999649047851562
         ],
         "y": [
          -9.194283485412598
         ]
        },
        {
         "hovertext": [
          "Logistic Regression<br>Performance: 79.27%<br>Model ID: meta_8<br>Accuracy: 81.97%<br>Precision: 81.95%<br>Recall: 81.97%<br>ROC AUC: 81.71<br>Geometric Mean: 81.71<br>Matthews Correlation: 63.63<br>F1: 81.94<br>Average Probability: 74.5"
         ],
         "marker": {
          "color": [
           79.27
          ],
          "coloraxis": "coloraxis",
          "line": {
           "color": "Black",
           "width": 1
          },
          "opacity": [
           0.7
          ],
          "size": [
           40
          ],
          "symbol": [
           "diamond"
          ]
         },
         "mode": "markers",
         "name": "Logistic Regression",
         "type": "scatter",
         "x": [
          22.611005783081055
         ],
         "y": [
          -9.021855354309082
         ]
        },
        {
         "hovertext": [
          "Linear Discriminant Analysis<br>Performance: 79.27%<br>Model ID: meta_4<br>Accuracy: 81.97%<br>Precision: 81.95%<br>Recall: 81.97%<br>ROC AUC: 81.71<br>Geometric Mean: 81.71<br>Matthews Correlation: 63.63<br>F1: 81.94<br>Average Probability: 79.45"
         ],
         "marker": {
          "color": [
           79.27
          ],
          "coloraxis": "coloraxis",
          "line": {
           "color": "Black",
           "width": 1
          },
          "opacity": [
           0.9
          ],
          "size": [
           40
          ],
          "symbol": [
           "star"
          ]
         },
         "mode": "markers",
         "name": "Linear Discriminant Analysis",
         "type": "scatter",
         "x": [
          22.986404418945312
         ],
         "y": [
          -7.0472564697265625
         ]
        },
        {
         "hovertext": [
          "Quadratic Discriminant Analysis<br>Performance: 81.12%<br>Model ID: 2271<br>Accuracy: 83.61%<br>Precision: 83.66%<br>Recall: 83.61%<br>ROC AUC: 83.23<br>Geometric Mean: 83.22<br>Matthews Correlation: 66.96<br>F1: 83.54<br>Average Probability: 77.54",
          "Quadratic Discriminant Analysis<br>Performance: 81.12%<br>Model ID: 2272<br>Accuracy: 83.61%<br>Precision: 83.66%<br>Recall: 83.61%<br>ROC AUC: 83.23<br>Geometric Mean: 83.22<br>Matthews Correlation: 66.96<br>F1: 83.54<br>Average Probability: 77.54",
          "Quadratic Discriminant Analysis<br>Performance: 81.12%<br>Model ID: 2273<br>Accuracy: 83.61%<br>Precision: 83.66%<br>Recall: 83.61%<br>ROC AUC: 83.23<br>Geometric Mean: 83.22<br>Matthews Correlation: 66.96<br>F1: 83.54<br>Average Probability: 77.54",
          "Quadratic Discriminant Analysis<br>Performance: 81.12%<br>Model ID: 2274<br>Accuracy: 83.61%<br>Precision: 83.66%<br>Recall: 83.61%<br>ROC AUC: 83.23<br>Geometric Mean: 83.22<br>Matthews Correlation: 66.96<br>F1: 83.54<br>Average Probability: 77.54",
          "Quadratic Discriminant Analysis<br>Performance: 81.12%<br>Model ID: 2264<br>Accuracy: 83.61%<br>Precision: 83.66%<br>Recall: 83.61%<br>ROC AUC: 83.23<br>Geometric Mean: 83.22<br>Matthews Correlation: 66.96<br>F1: 83.54<br>Average Probability: 77.54",
          "Quadratic Discriminant Analysis<br>Performance: 79.27%<br>Model ID: meta_5<br>Accuracy: 81.97%<br>Precision: 81.95%<br>Recall: 81.97%<br>ROC AUC: 81.71<br>Geometric Mean: 81.71<br>Matthews Correlation: 63.63<br>F1: 81.94<br>Average Probability: 78.5"
         ],
         "marker": {
          "color": [
           81.12,
           81.12,
           81.12,
           81.12,
           81.12,
           79.27
          ],
          "coloraxis": "coloraxis",
          "line": {
           "color": "Black",
           "width": 1
          },
          "opacity": [
           0.8,
           0.8,
           0.8,
           0.8,
           0.8,
           0.9
          ],
          "size": [
           20,
           20,
           20,
           20,
           20,
           40
          ],
          "symbol": [
           "hexagram",
           "hexagram",
           "hexagram",
           "hexagram",
           "hexagram",
           "hexagram"
          ]
         },
         "mode": "markers",
         "name": "Quadratic Discriminant Analysis",
         "type": "scatter",
         "x": [
          -2.9183547496795654,
          -2.470261573791504,
          -2.119525909423828,
          -1.6468030214309692,
          -3.431868553161621,
          23.697391510009766
         ],
         "y": [
          -24.344457626342773,
          -23.505273818969727,
          -24.436010360717773,
          -23.88326644897461,
          -23.89037322998047,
          -7.3588361740112305
         ]
        },
        {
         "hovertext": [
          "Random Forest<br>Performance: 81.36%<br>Model ID: meta_2<br>Accuracy: 83.61%<br>Precision: 83.84%<br>Recall: 83.61%<br>ROC AUC: 83.77<br>Geometric Mean: 83.77<br>Matthews Correlation: 67.31<br>F1: 83.63<br>Average Probability: 78.36"
         ],
         "marker": {
          "color": [
           81.36
          ],
          "coloraxis": "coloraxis",
          "line": {
           "color": "Black",
           "width": 1
          },
          "opacity": [
           0.9
          ],
          "size": [
           40
          ],
          "symbol": [
           "triangle-right"
          ]
         },
         "mode": "markers",
         "name": "Random Forest",
         "type": "scatter",
         "x": [
          20.799964904785156
         ],
         "y": [
          -9.792326927185059
         ]
        },
        {
         "hovertext": [
          "Extra Trees<br>Performance: 77.44%<br>Model ID: meta_7<br>Accuracy: 80.33%<br>Precision: 80.33%<br>Recall: 80.33%<br>ROC AUC: 80.19<br>Geometric Mean: 80.19<br>Matthews Correlation: 60.39<br>F1: 80.33<br>Average Probability: 77.57"
         ],
         "marker": {
          "color": [
           77.44
          ],
          "coloraxis": "coloraxis",
          "line": {
           "color": "Black",
           "width": 1
          },
          "opacity": [
           0.8
          ],
          "size": [
           40
          ],
          "symbol": [
           "triangle-left"
          ]
         },
         "mode": "markers",
         "name": "Extra Trees",
         "type": "scatter",
         "x": [
          21.293128967285156
         ],
         "y": [
          -10.338916778564453
         ]
        },
        {
         "hovertext": [
          "Adaptive Boosting<br>Performance: 81.12%<br>Model ID: meta_11<br>Accuracy: 83.61%<br>Precision: 83.66%<br>Recall: 83.61%<br>ROC AUC: 83.23<br>Geometric Mean: 83.22<br>Matthews Correlation: 66.96<br>F1: 83.54<br>Average Probability: 60.83"
         ],
         "marker": {
          "color": [
           81.12
          ],
          "coloraxis": "coloraxis",
          "line": {
           "color": "Black",
           "width": 1
          },
          "opacity": [
           0.2
          ],
          "size": [
           40
          ],
          "symbol": [
           "triangle-down"
          ]
         },
         "mode": "markers",
         "name": "Adaptive Boosting",
         "type": "scatter",
         "x": [
          21.981435775756836
         ],
         "y": [
          -8.374672889709473
         ]
        },
        {
         "hovertext": [
          "Gradient Boosting<br>Performance: 81.92%<br>Model ID: meta_3<br>Accuracy: 83.61%<br>Precision: 85.19%<br>Recall: 83.61%<br>ROC AUC: 84.31<br>Geometric Mean: 84.3<br>Matthews Correlation: 68.84<br>F1: 83.58<br>Average Probability: 77.4"
         ],
         "marker": {
          "color": [
           81.92
          ],
          "coloraxis": "coloraxis",
          "line": {
           "color": "Black",
           "width": 1
          },
          "opacity": [
           0.8
          ],
          "size": [
           40
          ],
          "symbol": [
           "triangle-up"
          ]
         },
         "mode": "markers",
         "name": "Gradient Boosting",
         "type": "scatter",
         "x": [
          20.754558563232422
         ],
         "y": [
          -8.957616806030273
         ]
        },
        {
         "hovertext": [
          "K-Nearest Neighbor<br>Performance: 79.27%<br>Model ID: meta_6<br>Accuracy: 81.97%<br>Precision: 81.95%<br>Recall: 81.97%<br>ROC AUC: 81.71<br>Geometric Mean: 81.71<br>Matthews Correlation: 63.63<br>F1: 81.94<br>Average Probability: 75.92"
         ],
         "marker": {
          "color": [
           79.27
          ],
          "coloraxis": "coloraxis",
          "line": {
           "color": "Black",
           "width": 1
          },
          "opacity": [
           0.8
          ],
          "size": [
           40
          ],
          "symbol": [
           "circle"
          ]
         },
         "mode": "markers",
         "name": "K-Nearest Neighbor",
         "type": "scatter",
         "x": [
          -9.976479530334473
         ],
         "y": [
          12.16546630859375
         ]
        },
        {
         "hovertext": [
          "Support Vector Machine<br>Performance: 79.27%<br>Model ID: meta_10<br>Accuracy: 81.97%<br>Precision: 81.95%<br>Recall: 81.97%<br>ROC AUC: 81.71<br>Geometric Mean: 81.71<br>Matthews Correlation: 63.63<br>F1: 81.94<br>Average Probability: 72.84"
         ],
         "marker": {
          "color": [
           79.27
          ],
          "coloraxis": "coloraxis",
          "line": {
           "color": "Black",
           "width": 1
          },
          "opacity": [
           0.7
          ],
          "size": [
           40
          ],
          "symbol": [
           "square"
          ]
         },
         "mode": "markers",
         "name": "Support Vector Machine",
         "type": "scatter",
         "x": [
          -10.861113548278809
         ],
         "y": [
          10.599440574645996
         ]
        },
        {
         "hovertext": [
          "Gaussian Naive Bayes<br>Performance: 76.1%<br>Model ID: 1077<br>Accuracy: 78.69%<br>Precision: 79.75%<br>Recall: 78.69%<br>ROC AUC: 79.22<br>Geometric Mean: 79.22<br>Matthews Correlation: 58.44<br>F1: 78.69<br>Average Probability: 77.05",
          "Gaussian Naive Bayes<br>Performance: 76.1%<br>Model ID: 1066<br>Accuracy: 78.69%<br>Precision: 79.75%<br>Recall: 78.69%<br>ROC AUC: 79.22<br>Geometric Mean: 79.22<br>Matthews Correlation: 58.44<br>F1: 78.69<br>Average Probability: 77.04",
          "Gaussian Naive Bayes<br>Performance: 76.1%<br>Model ID: 1078<br>Accuracy: 78.69%<br>Precision: 79.75%<br>Recall: 78.69%<br>ROC AUC: 79.22<br>Geometric Mean: 79.22<br>Matthews Correlation: 58.44<br>F1: 78.69<br>Average Probability: 77.05",
          "Gaussian Naive Bayes<br>Performance: 76.1%<br>Model ID: 1079<br>Accuracy: 78.69%<br>Precision: 79.75%<br>Recall: 78.69%<br>ROC AUC: 79.22<br>Geometric Mean: 79.22<br>Matthews Correlation: 58.44<br>F1: 78.69<br>Average Probability: 77.05",
          "Gaussian Naive Bayes<br>Performance: 76.1%<br>Model ID: 737<br>Accuracy: 78.69%<br>Precision: 79.75%<br>Recall: 78.69%<br>ROC AUC: 79.22<br>Geometric Mean: 79.22<br>Matthews Correlation: 58.44<br>F1: 78.69<br>Average Probability: 77.04",
          "Gaussian Naive Bayes<br>Performance: 79.27%<br>Model ID: meta_1<br>Accuracy: 81.97%<br>Precision: 81.95%<br>Recall: 81.97%<br>ROC AUC: 81.71<br>Geometric Mean: 81.71<br>Matthews Correlation: 63.63<br>F1: 81.94<br>Average Probability: 81.99"
         ],
         "marker": {
          "color": [
           76.1,
           76.1,
           76.1,
           76.1,
           76.1,
           79.27
          ],
          "coloraxis": "coloraxis",
          "line": {
           "color": "Black",
           "width": 1
          },
          "opacity": [
           0.8,
           0.8,
           0.8,
           0.8,
           0.8,
           1
          ],
          "size": [
           20,
           20,
           20,
           20,
           20,
           40
          ],
          "symbol": [
           "x",
           "x",
           "x",
           "x",
           "x",
           "x"
          ]
         },
         "mode": "markers",
         "name": "Gaussian Naive Bayes",
         "type": "scatter",
         "x": [
          16.837812423706055,
          17.22535514831543,
          17.513778686523438,
          17.007749557495117,
          17.78226089477539,
          -11.884840965270996
         ],
         "y": [
          -11.980697631835938,
          -12.661539077758789,
          -11.71042251586914,
          -11.156209945678711,
          -12.845479965209961,
          11.243640899658203
         ]
        },
        {
         "hovertext": [
          "Multilayer Perceptron<br>Performance: 79.27%<br>Model ID: meta_9<br>Accuracy: 81.97%<br>Precision: 81.95%<br>Recall: 81.97%<br>ROC AUC: 81.71<br>Geometric Mean: 81.71<br>Matthews Correlation: 63.63<br>F1: 81.94<br>Average Probability: 73.34"
         ],
         "marker": {
          "color": [
           79.27
          ],
          "coloraxis": "coloraxis",
          "line": {
           "color": "Black",
           "width": 1
          },
          "opacity": [
           0.7
          ],
          "size": [
           40
          ],
          "symbol": [
           "cross"
          ]
         },
         "mode": "markers",
         "name": "Multilayer Perceptron",
         "type": "scatter",
         "x": [
          -10.255186080932617
         ],
         "y": [
          11.131546974182129
         ]
        },
        {
         "hovertext": [
          "Logistic Regression<br>Performance: 79.27%<br>Model ID: meta_8<br>Accuracy: 81.97%<br>Precision: 81.95%<br>Recall: 81.97%<br>ROC AUC: 81.71<br>Geometric Mean: 81.71<br>Matthews Correlation: 63.63<br>F1: 81.94<br>Average Probability: 74.5"
         ],
         "marker": {
          "color": [
           79.27
          ],
          "coloraxis": "coloraxis",
          "line": {
           "color": "Black",
           "width": 1
          },
          "opacity": [
           0.7
          ],
          "size": [
           40
          ],
          "symbol": [
           "diamond"
          ]
         },
         "mode": "markers",
         "name": "Logistic Regression",
         "type": "scatter",
         "x": [
          -9.646156311035156
         ],
         "y": [
          11.534650802612305
         ]
        },
        {
         "hovertext": [
          "Linear Discriminant Analysis<br>Performance: 79.27%<br>Model ID: meta_4<br>Accuracy: 81.97%<br>Precision: 81.95%<br>Recall: 81.97%<br>ROC AUC: 81.71<br>Geometric Mean: 81.71<br>Matthews Correlation: 63.63<br>F1: 81.94<br>Average Probability: 79.45"
         ],
         "marker": {
          "color": [
           79.27
          ],
          "coloraxis": "coloraxis",
          "line": {
           "color": "Black",
           "width": 1
          },
          "opacity": [
           0.9
          ],
          "size": [
           40
          ],
          "symbol": [
           "star"
          ]
         },
         "mode": "markers",
         "name": "Linear Discriminant Analysis",
         "type": "scatter",
         "x": [
          -11.621452331542969
         ],
         "y": [
          12.142134666442871
         ]
        },
        {
         "hovertext": [
          "Quadratic Discriminant Analysis<br>Performance: 81.12%<br>Model ID: 2271<br>Accuracy: 83.61%<br>Precision: 83.66%<br>Recall: 83.61%<br>ROC AUC: 83.23<br>Geometric Mean: 83.22<br>Matthews Correlation: 66.96<br>F1: 83.54<br>Average Probability: 77.54",
          "Quadratic Discriminant Analysis<br>Performance: 81.12%<br>Model ID: 2272<br>Accuracy: 83.61%<br>Precision: 83.66%<br>Recall: 83.61%<br>ROC AUC: 83.23<br>Geometric Mean: 83.22<br>Matthews Correlation: 66.96<br>F1: 83.54<br>Average Probability: 77.54",
          "Quadratic Discriminant Analysis<br>Performance: 81.12%<br>Model ID: 2273<br>Accuracy: 83.61%<br>Precision: 83.66%<br>Recall: 83.61%<br>ROC AUC: 83.23<br>Geometric Mean: 83.22<br>Matthews Correlation: 66.96<br>F1: 83.54<br>Average Probability: 77.54",
          "Quadratic Discriminant Analysis<br>Performance: 81.12%<br>Model ID: 2274<br>Accuracy: 83.61%<br>Precision: 83.66%<br>Recall: 83.61%<br>ROC AUC: 83.23<br>Geometric Mean: 83.22<br>Matthews Correlation: 66.96<br>F1: 83.54<br>Average Probability: 77.54",
          "Quadratic Discriminant Analysis<br>Performance: 81.12%<br>Model ID: 2264<br>Accuracy: 83.61%<br>Precision: 83.66%<br>Recall: 83.61%<br>ROC AUC: 83.23<br>Geometric Mean: 83.22<br>Matthews Correlation: 66.96<br>F1: 83.54<br>Average Probability: 77.54",
          "Quadratic Discriminant Analysis<br>Performance: 79.27%<br>Model ID: meta_5<br>Accuracy: 81.97%<br>Precision: 81.95%<br>Recall: 81.97%<br>ROC AUC: 81.71<br>Geometric Mean: 81.71<br>Matthews Correlation: 63.63<br>F1: 81.94<br>Average Probability: 78.5"
         ],
         "marker": {
          "color": [
           81.12,
           81.12,
           81.12,
           81.12,
           81.12,
           79.27
          ],
          "coloraxis": "coloraxis",
          "line": {
           "color": "Black",
           "width": 1
          },
          "opacity": [
           0.8,
           0.8,
           0.8,
           0.8,
           0.8,
           0.9
          ],
          "size": [
           20,
           20,
           20,
           20,
           20,
           40
          ],
          "symbol": [
           "hexagram",
           "hexagram",
           "hexagram",
           "hexagram",
           "hexagram",
           "hexagram"
          ]
         },
         "mode": "markers",
         "name": "Quadratic Discriminant Analysis",
         "type": "scatter",
         "x": [
          31.09797477722168,
          32.10405349731445,
          31.335329055786133,
          31.733091354370117,
          30.61518669128418,
          -10.996063232421875
         ],
         "y": [
          -14.473409652709961,
          -13.560132026672363,
          -13.226140975952148,
          -14.041542053222656,
          -13.772686958312988,
          11.71530532836914
         ]
        },
        {
         "hovertext": [
          "Random Forest<br>Performance: 81.36%<br>Model ID: meta_2<br>Accuracy: 83.61%<br>Precision: 83.84%<br>Recall: 83.61%<br>ROC AUC: 83.77<br>Geometric Mean: 83.77<br>Matthews Correlation: 67.31<br>F1: 83.63<br>Average Probability: 78.36"
         ],
         "marker": {
          "color": [
           81.36
          ],
          "coloraxis": "coloraxis",
          "line": {
           "color": "Black",
           "width": 1
          },
          "opacity": [
           0.9
          ],
          "size": [
           40
          ],
          "symbol": [
           "triangle-right"
          ]
         },
         "mode": "markers",
         "name": "Random Forest",
         "type": "scatter",
         "x": [
          -9.405720710754395
         ],
         "y": [
          12.981203079223633
         ]
        },
        {
         "hovertext": [
          "Extra Trees<br>Performance: 77.44%<br>Model ID: meta_7<br>Accuracy: 80.33%<br>Precision: 80.33%<br>Recall: 80.33%<br>ROC AUC: 80.19<br>Geometric Mean: 80.19<br>Matthews Correlation: 60.39<br>F1: 80.33<br>Average Probability: 77.57"
         ],
         "marker": {
          "color": [
           77.44
          ],
          "coloraxis": "coloraxis",
          "line": {
           "color": "Black",
           "width": 1
          },
          "opacity": [
           0.8
          ],
          "size": [
           40
          ],
          "symbol": [
           "triangle-left"
          ]
         },
         "mode": "markers",
         "name": "Extra Trees",
         "type": "scatter",
         "x": [
          -10.161585807800293
         ],
         "y": [
          13.167882919311523
         ]
        },
        {
         "hovertext": [
          "Adaptive Boosting<br>Performance: 81.12%<br>Model ID: meta_11<br>Accuracy: 83.61%<br>Precision: 83.66%<br>Recall: 83.61%<br>ROC AUC: 83.23<br>Geometric Mean: 83.22<br>Matthews Correlation: 66.96<br>F1: 83.54<br>Average Probability: 60.83"
         ],
         "marker": {
          "color": [
           81.12
          ],
          "coloraxis": "coloraxis",
          "line": {
           "color": "Black",
           "width": 1
          },
          "opacity": [
           0.2
          ],
          "size": [
           40
          ],
          "symbol": [
           "triangle-down"
          ]
         },
         "mode": "markers",
         "name": "Adaptive Boosting",
         "type": "scatter",
         "x": [
          -9.805678367614746
         ],
         "y": [
          10.695523262023926
         ]
        },
        {
         "hovertext": [
          "Gradient Boosting<br>Performance: 81.92%<br>Model ID: meta_3<br>Accuracy: 83.61%<br>Precision: 85.19%<br>Recall: 83.61%<br>ROC AUC: 84.31<br>Geometric Mean: 84.3<br>Matthews Correlation: 68.84<br>F1: 83.58<br>Average Probability: 77.4"
         ],
         "marker": {
          "color": [
           81.92
          ],
          "coloraxis": "coloraxis",
          "line": {
           "color": "Black",
           "width": 1
          },
          "opacity": [
           0.8
          ],
          "size": [
           40
          ],
          "symbol": [
           "triangle-up"
          ]
         },
         "mode": "markers",
         "name": "Gradient Boosting",
         "type": "scatter",
         "x": [
          -8.886051177978516
         ],
         "y": [
          12.401458740234375
         ]
        },
        {
         "hovertext": [
          "K-Nearest Neighbor<br>Performance: 79.27%<br>Model ID: meta_6<br>Accuracy: 81.97%<br>Precision: 81.95%<br>Recall: 81.97%<br>ROC AUC: 81.71<br>Geometric Mean: 81.71<br>Matthews Correlation: 63.63<br>F1: 81.94<br>Average Probability: 75.92"
         ],
         "marker": {
          "color": [
           79.27
          ],
          "coloraxis": "coloraxis",
          "line": {
           "color": "Black",
           "width": 1
          },
          "opacity": [
           0.8
          ],
          "size": [
           40
          ],
          "symbol": [
           "circle"
          ]
         },
         "mode": "markers",
         "name": "K-Nearest Neighbor",
         "type": "scatter",
         "x": [
          1.088369369506836
         ],
         "y": [
          -5.055872440338135
         ]
        },
        {
         "hovertext": [
          "Support Vector Machine<br>Performance: 79.27%<br>Model ID: meta_10<br>Accuracy: 81.97%<br>Precision: 81.95%<br>Recall: 81.97%<br>ROC AUC: 81.71<br>Geometric Mean: 81.71<br>Matthews Correlation: 63.63<br>F1: 81.94<br>Average Probability: 72.84"
         ],
         "marker": {
          "color": [
           79.27
          ],
          "coloraxis": "coloraxis",
          "line": {
           "color": "Black",
           "width": 1
          },
          "opacity": [
           0.7
          ],
          "size": [
           40
          ],
          "symbol": [
           "square"
          ]
         },
         "mode": "markers",
         "name": "Support Vector Machine",
         "type": "scatter",
         "x": [
          2.361330270767212
         ],
         "y": [
          -6.504214763641357
         ]
        },
        {
         "hovertext": [
          "Gaussian Naive Bayes<br>Performance: 76.1%<br>Model ID: 1077<br>Accuracy: 78.69%<br>Precision: 79.75%<br>Recall: 78.69%<br>ROC AUC: 79.22<br>Geometric Mean: 79.22<br>Matthews Correlation: 58.44<br>F1: 78.69<br>Average Probability: 77.05",
          "Gaussian Naive Bayes<br>Performance: 76.1%<br>Model ID: 1066<br>Accuracy: 78.69%<br>Precision: 79.75%<br>Recall: 78.69%<br>ROC AUC: 79.22<br>Geometric Mean: 79.22<br>Matthews Correlation: 58.44<br>F1: 78.69<br>Average Probability: 77.04",
          "Gaussian Naive Bayes<br>Performance: 76.1%<br>Model ID: 1078<br>Accuracy: 78.69%<br>Precision: 79.75%<br>Recall: 78.69%<br>ROC AUC: 79.22<br>Geometric Mean: 79.22<br>Matthews Correlation: 58.44<br>F1: 78.69<br>Average Probability: 77.05",
          "Gaussian Naive Bayes<br>Performance: 76.1%<br>Model ID: 1079<br>Accuracy: 78.69%<br>Precision: 79.75%<br>Recall: 78.69%<br>ROC AUC: 79.22<br>Geometric Mean: 79.22<br>Matthews Correlation: 58.44<br>F1: 78.69<br>Average Probability: 77.05",
          "Gaussian Naive Bayes<br>Performance: 76.1%<br>Model ID: 737<br>Accuracy: 78.69%<br>Precision: 79.75%<br>Recall: 78.69%<br>ROC AUC: 79.22<br>Geometric Mean: 79.22<br>Matthews Correlation: 58.44<br>F1: 78.69<br>Average Probability: 77.04",
          "Gaussian Naive Bayes<br>Performance: 79.27%<br>Model ID: meta_1<br>Accuracy: 81.97%<br>Precision: 81.95%<br>Recall: 81.97%<br>ROC AUC: 81.71<br>Geometric Mean: 81.71<br>Matthews Correlation: 63.63<br>F1: 81.94<br>Average Probability: 81.99"
         ],
         "marker": {
          "color": [
           76.1,
           76.1,
           76.1,
           76.1,
           76.1,
           79.27
          ],
          "coloraxis": "coloraxis",
          "line": {
           "color": "Black",
           "width": 1
          },
          "opacity": [
           0.8,
           0.8,
           0.8,
           0.8,
           0.8,
           1
          ],
          "size": [
           20,
           20,
           20,
           20,
           20,
           40
          ],
          "symbol": [
           "x",
           "x",
           "x",
           "x",
           "x",
           "x"
          ]
         },
         "mode": "markers",
         "name": "Gaussian Naive Bayes",
         "type": "scatter",
         "x": [
          -16.887279510498047,
          -17.531572341918945,
          -16.771028518676758,
          -16.536270141601562,
          -17.620620727539062,
          3.3931920528411865
         ],
         "y": [
          -4.604930877685547,
          -5.628447532653809,
          -5.954509735107422,
          -5.2255659103393555,
          -4.8269500732421875,
          -5.476542949676514
         ]
        },
        {
         "hovertext": [
          "Multilayer Perceptron<br>Performance: 79.27%<br>Model ID: meta_9<br>Accuracy: 81.97%<br>Precision: 81.95%<br>Recall: 81.97%<br>ROC AUC: 81.71<br>Geometric Mean: 81.71<br>Matthews Correlation: 63.63<br>F1: 81.94<br>Average Probability: 73.34"
         ],
         "marker": {
          "color": [
           79.27
          ],
          "coloraxis": "coloraxis",
          "line": {
           "color": "Black",
           "width": 1
          },
          "opacity": [
           0.7
          ],
          "size": [
           40
          ],
          "symbol": [
           "cross"
          ]
         },
         "mode": "markers",
         "name": "Multilayer Perceptron",
         "type": "scatter",
         "x": [
          1.3860423564910889
         ],
         "y": [
          -6.448121547698975
         ]
        },
        {
         "hovertext": [
          "Logistic Regression<br>Performance: 79.27%<br>Model ID: meta_8<br>Accuracy: 81.97%<br>Precision: 81.95%<br>Recall: 81.97%<br>ROC AUC: 81.71<br>Geometric Mean: 81.71<br>Matthews Correlation: 63.63<br>F1: 81.94<br>Average Probability: 74.5"
         ],
         "marker": {
          "color": [
           79.27
          ],
          "coloraxis": "coloraxis",
          "line": {
           "color": "Black",
           "width": 1
          },
          "opacity": [
           0.7
          ],
          "size": [
           40
          ],
          "symbol": [
           "diamond"
          ]
         },
         "mode": "markers",
         "name": "Logistic Regression",
         "type": "scatter",
         "x": [
          1.7609397172927856
         ],
         "y": [
          -5.525274753570557
         ]
        },
        {
         "hovertext": [
          "Linear Discriminant Analysis<br>Performance: 79.27%<br>Model ID: meta_4<br>Accuracy: 81.97%<br>Precision: 81.95%<br>Recall: 81.97%<br>ROC AUC: 81.71<br>Geometric Mean: 81.71<br>Matthews Correlation: 63.63<br>F1: 81.94<br>Average Probability: 79.45"
         ],
         "marker": {
          "color": [
           79.27
          ],
          "coloraxis": "coloraxis",
          "line": {
           "color": "Black",
           "width": 1
          },
          "opacity": [
           0.9
          ],
          "size": [
           40
          ],
          "symbol": [
           "star"
          ]
         },
         "mode": "markers",
         "name": "Linear Discriminant Analysis",
         "type": "scatter",
         "x": [
          2.977031946182251
         ],
         "y": [
          -6.010384559631348
         ]
        },
        {
         "hovertext": [
          "Quadratic Discriminant Analysis<br>Performance: 81.12%<br>Model ID: 2271<br>Accuracy: 83.61%<br>Precision: 83.66%<br>Recall: 83.61%<br>ROC AUC: 83.23<br>Geometric Mean: 83.22<br>Matthews Correlation: 66.96<br>F1: 83.54<br>Average Probability: 77.54",
          "Quadratic Discriminant Analysis<br>Performance: 81.12%<br>Model ID: 2272<br>Accuracy: 83.61%<br>Precision: 83.66%<br>Recall: 83.61%<br>ROC AUC: 83.23<br>Geometric Mean: 83.22<br>Matthews Correlation: 66.96<br>F1: 83.54<br>Average Probability: 77.54",
          "Quadratic Discriminant Analysis<br>Performance: 81.12%<br>Model ID: 2273<br>Accuracy: 83.61%<br>Precision: 83.66%<br>Recall: 83.61%<br>ROC AUC: 83.23<br>Geometric Mean: 83.22<br>Matthews Correlation: 66.96<br>F1: 83.54<br>Average Probability: 77.54",
          "Quadratic Discriminant Analysis<br>Performance: 81.12%<br>Model ID: 2274<br>Accuracy: 83.61%<br>Precision: 83.66%<br>Recall: 83.61%<br>ROC AUC: 83.23<br>Geometric Mean: 83.22<br>Matthews Correlation: 66.96<br>F1: 83.54<br>Average Probability: 77.54",
          "Quadratic Discriminant Analysis<br>Performance: 81.12%<br>Model ID: 2264<br>Accuracy: 83.61%<br>Precision: 83.66%<br>Recall: 83.61%<br>ROC AUC: 83.23<br>Geometric Mean: 83.22<br>Matthews Correlation: 66.96<br>F1: 83.54<br>Average Probability: 77.54",
          "Quadratic Discriminant Analysis<br>Performance: 79.27%<br>Model ID: meta_5<br>Accuracy: 81.97%<br>Precision: 81.95%<br>Recall: 81.97%<br>ROC AUC: 81.71<br>Geometric Mean: 81.71<br>Matthews Correlation: 63.63<br>F1: 81.94<br>Average Probability: 78.5"
         ],
         "marker": {
          "color": [
           81.12,
           81.12,
           81.12,
           81.12,
           81.12,
           79.27
          ],
          "coloraxis": "coloraxis",
          "line": {
           "color": "Black",
           "width": 1
          },
          "opacity": [
           0.8,
           0.8,
           0.8,
           0.8,
           0.8,
           0.9
          ],
          "size": [
           20,
           20,
           20,
           20,
           20,
           40
          ],
          "symbol": [
           "hexagram",
           "hexagram",
           "hexagram",
           "hexagram",
           "hexagram",
           "hexagram"
          ]
         },
         "mode": "markers",
         "name": "Quadratic Discriminant Analysis",
         "type": "scatter",
         "x": [
          12.182212829589844,
          12.34553337097168,
          12.194131851196289,
          11.549391746520996,
          12.950716972351074,
          2.450080394744873
         ],
         "y": [
          4.846381187438965,
          4.186846733093262,
          3.4709255695343018,
          4.0630974769592285,
          4.309844017028809,
          -5.285601615905762
         ]
        },
        {
         "hovertext": [
          "Random Forest<br>Performance: 81.36%<br>Model ID: meta_2<br>Accuracy: 83.61%<br>Precision: 83.84%<br>Recall: 83.61%<br>ROC AUC: 83.77<br>Geometric Mean: 83.77<br>Matthews Correlation: 67.31<br>F1: 83.63<br>Average Probability: 78.36"
         ],
         "marker": {
          "color": [
           81.36
          ],
          "coloraxis": "coloraxis",
          "line": {
           "color": "Black",
           "width": 1
          },
          "opacity": [
           0.9
          ],
          "size": [
           40
          ],
          "symbol": [
           "triangle-right"
          ]
         },
         "mode": "markers",
         "name": "Random Forest",
         "type": "scatter",
         "x": [
          0.3367530107498169
         ],
         "y": [
          -4.704648017883301
         ]
        },
        {
         "hovertext": [
          "Extra Trees<br>Performance: 77.44%<br>Model ID: meta_7<br>Accuracy: 80.33%<br>Precision: 80.33%<br>Recall: 80.33%<br>ROC AUC: 80.19<br>Geometric Mean: 80.19<br>Matthews Correlation: 60.39<br>F1: 80.33<br>Average Probability: 77.57"
         ],
         "marker": {
          "color": [
           77.44
          ],
          "coloraxis": "coloraxis",
          "line": {
           "color": "Black",
           "width": 1
          },
          "opacity": [
           0.8
          ],
          "size": [
           40
          ],
          "symbol": [
           "triangle-left"
          ]
         },
         "mode": "markers",
         "name": "Extra Trees",
         "type": "scatter",
         "x": [
          -0.09083177894353867
         ],
         "y": [
          -5.291569709777832
         ]
        },
        {
         "hovertext": [
          "Adaptive Boosting<br>Performance: 81.12%<br>Model ID: meta_11<br>Accuracy: 83.61%<br>Precision: 83.66%<br>Recall: 83.61%<br>ROC AUC: 83.23<br>Geometric Mean: 83.22<br>Matthews Correlation: 66.96<br>F1: 83.54<br>Average Probability: 60.83"
         ],
         "marker": {
          "color": [
           81.12
          ],
          "coloraxis": "coloraxis",
          "line": {
           "color": "Black",
           "width": 1
          },
          "opacity": [
           0.2
          ],
          "size": [
           40
          ],
          "symbol": [
           "triangle-down"
          ]
         },
         "mode": "markers",
         "name": "Adaptive Boosting",
         "type": "scatter",
         "x": [
          1.7685133218765259
         ],
         "y": [
          -7.076629161834717
         ]
        },
        {
         "hovertext": [
          "Gradient Boosting<br>Performance: 81.92%<br>Model ID: meta_3<br>Accuracy: 83.61%<br>Precision: 85.19%<br>Recall: 83.61%<br>ROC AUC: 84.31<br>Geometric Mean: 84.3<br>Matthews Correlation: 68.84<br>F1: 83.58<br>Average Probability: 77.4"
         ],
         "marker": {
          "color": [
           81.92
          ],
          "coloraxis": "coloraxis",
          "line": {
           "color": "Black",
           "width": 1
          },
          "opacity": [
           0.8
          ],
          "size": [
           40
          ],
          "symbol": [
           "triangle-up"
          ]
         },
         "mode": "markers",
         "name": "Gradient Boosting",
         "type": "scatter",
         "x": [
          0.311760276556015
         ],
         "y": [
          -5.948966026306152
         ]
        },
        {
         "hovertext": [
          "K-Nearest Neighbor<br>Performance: 79.27%<br>Model ID: meta_6<br>Accuracy: 81.97%<br>Precision: 81.95%<br>Recall: 81.97%<br>ROC AUC: 81.71<br>Geometric Mean: 81.71<br>Matthews Correlation: 63.63<br>F1: 81.94<br>Average Probability: 75.92"
         ],
         "marker": {
          "color": [
           79.27
          ],
          "coloraxis": "coloraxis",
          "line": {
           "color": "Black",
           "width": 1
          },
          "opacity": [
           0.8
          ],
          "size": [
           40
          ],
          "symbol": [
           "circle"
          ]
         },
         "mode": "markers",
         "name": "K-Nearest Neighbor",
         "type": "scatter",
         "x": [
          8.467191696166992
         ],
         "y": [
          -7.035156726837158
         ]
        },
        {
         "hovertext": [
          "Support Vector Machine<br>Performance: 79.27%<br>Model ID: meta_10<br>Accuracy: 81.97%<br>Precision: 81.95%<br>Recall: 81.97%<br>ROC AUC: 81.71<br>Geometric Mean: 81.71<br>Matthews Correlation: 63.63<br>F1: 81.94<br>Average Probability: 72.84"
         ],
         "marker": {
          "color": [
           79.27
          ],
          "coloraxis": "coloraxis",
          "line": {
           "color": "Black",
           "width": 1
          },
          "opacity": [
           0.7
          ],
          "size": [
           40
          ],
          "symbol": [
           "square"
          ]
         },
         "mode": "markers",
         "name": "Support Vector Machine",
         "type": "scatter",
         "x": [
          7.612039566040039
         ],
         "y": [
          -5.1718621253967285
         ]
        },
        {
         "hovertext": [
          "Gaussian Naive Bayes<br>Performance: 76.1%<br>Model ID: 1077<br>Accuracy: 78.69%<br>Precision: 79.75%<br>Recall: 78.69%<br>ROC AUC: 79.22<br>Geometric Mean: 79.22<br>Matthews Correlation: 58.44<br>F1: 78.69<br>Average Probability: 77.05",
          "Gaussian Naive Bayes<br>Performance: 76.1%<br>Model ID: 1066<br>Accuracy: 78.69%<br>Precision: 79.75%<br>Recall: 78.69%<br>ROC AUC: 79.22<br>Geometric Mean: 79.22<br>Matthews Correlation: 58.44<br>F1: 78.69<br>Average Probability: 77.04",
          "Gaussian Naive Bayes<br>Performance: 76.1%<br>Model ID: 1078<br>Accuracy: 78.69%<br>Precision: 79.75%<br>Recall: 78.69%<br>ROC AUC: 79.22<br>Geometric Mean: 79.22<br>Matthews Correlation: 58.44<br>F1: 78.69<br>Average Probability: 77.05",
          "Gaussian Naive Bayes<br>Performance: 76.1%<br>Model ID: 1079<br>Accuracy: 78.69%<br>Precision: 79.75%<br>Recall: 78.69%<br>ROC AUC: 79.22<br>Geometric Mean: 79.22<br>Matthews Correlation: 58.44<br>F1: 78.69<br>Average Probability: 77.05",
          "Gaussian Naive Bayes<br>Performance: 76.1%<br>Model ID: 737<br>Accuracy: 78.69%<br>Precision: 79.75%<br>Recall: 78.69%<br>ROC AUC: 79.22<br>Geometric Mean: 79.22<br>Matthews Correlation: 58.44<br>F1: 78.69<br>Average Probability: 77.04",
          "Gaussian Naive Bayes<br>Performance: 79.27%<br>Model ID: meta_1<br>Accuracy: 81.97%<br>Precision: 81.95%<br>Recall: 81.97%<br>ROC AUC: 81.71<br>Geometric Mean: 81.71<br>Matthews Correlation: 63.63<br>F1: 81.94<br>Average Probability: 81.99"
         ],
         "marker": {
          "color": [
           76.1,
           76.1,
           76.1,
           76.1,
           76.1,
           79.27
          ],
          "coloraxis": "coloraxis",
          "line": {
           "color": "Black",
           "width": 1
          },
          "opacity": [
           0.8,
           0.8,
           0.8,
           0.8,
           0.8,
           1
          ],
          "size": [
           20,
           20,
           20,
           20,
           20,
           40
          ],
          "symbol": [
           "x",
           "x",
           "x",
           "x",
           "x",
           "x"
          ]
         },
         "mode": "markers",
         "name": "Gaussian Naive Bayes",
         "type": "scatter",
         "x": [
          -3.455648899078369,
          -2.7965991497039795,
          -2.8096930980682373,
          -3.398817777633667,
          -4.077679634094238,
          8.430878639221191
         ],
         "y": [
          13.263592720031738,
          14.495553970336914,
          13.62507438659668,
          14.14914608001709,
          13.785337448120117,
          -4.382254123687744
         ]
        },
        {
         "hovertext": [
          "Multilayer Perceptron<br>Performance: 79.27%<br>Model ID: meta_9<br>Accuracy: 81.97%<br>Precision: 81.95%<br>Recall: 81.97%<br>ROC AUC: 81.71<br>Geometric Mean: 81.71<br>Matthews Correlation: 63.63<br>F1: 81.94<br>Average Probability: 73.34"
         ],
         "marker": {
          "color": [
           79.27
          ],
          "coloraxis": "coloraxis",
          "line": {
           "color": "Black",
           "width": 1
          },
          "opacity": [
           0.7
          ],
          "size": [
           40
          ],
          "symbol": [
           "cross"
          ]
         },
         "mode": "markers",
         "name": "Multilayer Perceptron",
         "type": "scatter",
         "x": [
          8.932414054870605
         ],
         "y": [
          -6.285057067871094
         ]
        },
        {
         "hovertext": [
          "Logistic Regression<br>Performance: 79.27%<br>Model ID: meta_8<br>Accuracy: 81.97%<br>Precision: 81.95%<br>Recall: 81.97%<br>ROC AUC: 81.71<br>Geometric Mean: 81.71<br>Matthews Correlation: 63.63<br>F1: 81.94<br>Average Probability: 74.5"
         ],
         "marker": {
          "color": [
           79.27
          ],
          "coloraxis": "coloraxis",
          "line": {
           "color": "Black",
           "width": 1
          },
          "opacity": [
           0.7
          ],
          "size": [
           40
          ],
          "symbol": [
           "diamond"
          ]
         },
         "mode": "markers",
         "name": "Logistic Regression",
         "type": "scatter",
         "x": [
          8.056451797485352
         ],
         "y": [
          -6.192065715789795
         ]
        },
        {
         "hovertext": [
          "Linear Discriminant Analysis<br>Performance: 79.27%<br>Model ID: meta_4<br>Accuracy: 81.97%<br>Precision: 81.95%<br>Recall: 81.97%<br>ROC AUC: 81.71<br>Geometric Mean: 81.71<br>Matthews Correlation: 63.63<br>F1: 81.94<br>Average Probability: 79.45"
         ],
         "marker": {
          "color": [
           79.27
          ],
          "coloraxis": "coloraxis",
          "line": {
           "color": "Black",
           "width": 1
          },
          "opacity": [
           0.9
          ],
          "size": [
           40
          ],
          "symbol": [
           "star"
          ]
         },
         "mode": "markers",
         "name": "Linear Discriminant Analysis",
         "type": "scatter",
         "x": [
          8.573563575744629
         ],
         "y": [
          -5.331522464752197
         ]
        },
        {
         "hovertext": [
          "Quadratic Discriminant Analysis<br>Performance: 81.12%<br>Model ID: 2271<br>Accuracy: 83.61%<br>Precision: 83.66%<br>Recall: 83.61%<br>ROC AUC: 83.23<br>Geometric Mean: 83.22<br>Matthews Correlation: 66.96<br>F1: 83.54<br>Average Probability: 77.54",
          "Quadratic Discriminant Analysis<br>Performance: 81.12%<br>Model ID: 2272<br>Accuracy: 83.61%<br>Precision: 83.66%<br>Recall: 83.61%<br>ROC AUC: 83.23<br>Geometric Mean: 83.22<br>Matthews Correlation: 66.96<br>F1: 83.54<br>Average Probability: 77.54",
          "Quadratic Discriminant Analysis<br>Performance: 81.12%<br>Model ID: 2273<br>Accuracy: 83.61%<br>Precision: 83.66%<br>Recall: 83.61%<br>ROC AUC: 83.23<br>Geometric Mean: 83.22<br>Matthews Correlation: 66.96<br>F1: 83.54<br>Average Probability: 77.54",
          "Quadratic Discriminant Analysis<br>Performance: 81.12%<br>Model ID: 2274<br>Accuracy: 83.61%<br>Precision: 83.66%<br>Recall: 83.61%<br>ROC AUC: 83.23<br>Geometric Mean: 83.22<br>Matthews Correlation: 66.96<br>F1: 83.54<br>Average Probability: 77.54",
          "Quadratic Discriminant Analysis<br>Performance: 81.12%<br>Model ID: 2264<br>Accuracy: 83.61%<br>Precision: 83.66%<br>Recall: 83.61%<br>ROC AUC: 83.23<br>Geometric Mean: 83.22<br>Matthews Correlation: 66.96<br>F1: 83.54<br>Average Probability: 77.54",
          "Quadratic Discriminant Analysis<br>Performance: 79.27%<br>Model ID: meta_5<br>Accuracy: 81.97%<br>Precision: 81.95%<br>Recall: 81.97%<br>ROC AUC: 81.71<br>Geometric Mean: 81.71<br>Matthews Correlation: 63.63<br>F1: 81.94<br>Average Probability: 78.5"
         ],
         "marker": {
          "color": [
           81.12,
           81.12,
           81.12,
           81.12,
           81.12,
           79.27
          ],
          "coloraxis": "coloraxis",
          "line": {
           "color": "Black",
           "width": 1
          },
          "opacity": [
           0.8,
           0.8,
           0.8,
           0.8,
           0.8,
           0.9
          ],
          "size": [
           20,
           20,
           20,
           20,
           20,
           40
          ],
          "symbol": [
           "hexagram",
           "hexagram",
           "hexagram",
           "hexagram",
           "hexagram",
           "hexagram"
          ]
         },
         "mode": "markers",
         "name": "Quadratic Discriminant Analysis",
         "type": "scatter",
         "x": [
          13.403790473937988,
          13.338961601257324,
          12.49129867553711,
          12.594893455505371,
          13.593133926391602,
          9.165432929992676
         ],
         "y": [
          1.4232895374298096,
          2.173947811126709,
          1.9775434732437134,
          1.2829803228378296,
          1.022383451461792,
          -5.3964056968688965
         ]
        },
        {
         "hovertext": [
          "Random Forest<br>Performance: 81.36%<br>Model ID: meta_2<br>Accuracy: 83.61%<br>Precision: 83.84%<br>Recall: 83.61%<br>ROC AUC: 83.77<br>Geometric Mean: 83.77<br>Matthews Correlation: 67.31<br>F1: 83.63<br>Average Probability: 78.36"
         ],
         "marker": {
          "color": [
           81.36
          ],
          "coloraxis": "coloraxis",
          "line": {
           "color": "Black",
           "width": 1
          },
          "opacity": [
           0.9
          ],
          "size": [
           40
          ],
          "symbol": [
           "triangle-right"
          ]
         },
         "mode": "markers",
         "name": "Random Forest",
         "type": "scatter",
         "x": [
          7.236751079559326
         ],
         "y": [
          -7.850462436676025
         ]
        },
        {
         "hovertext": [
          "Extra Trees<br>Performance: 77.44%<br>Model ID: meta_7<br>Accuracy: 80.33%<br>Precision: 80.33%<br>Recall: 80.33%<br>ROC AUC: 80.19<br>Geometric Mean: 80.19<br>Matthews Correlation: 60.39<br>F1: 80.33<br>Average Probability: 77.57"
         ],
         "marker": {
          "color": [
           77.44
          ],
          "coloraxis": "coloraxis",
          "line": {
           "color": "Black",
           "width": 1
          },
          "opacity": [
           0.8
          ],
          "size": [
           40
          ],
          "symbol": [
           "triangle-left"
          ]
         },
         "mode": "markers",
         "name": "Extra Trees",
         "type": "scatter",
         "x": [
          7.870921611785889
         ],
         "y": [
          -7.8369574546813965
         ]
        },
        {
         "hovertext": [
          "Adaptive Boosting<br>Performance: 81.12%<br>Model ID: meta_11<br>Accuracy: 83.61%<br>Precision: 83.66%<br>Recall: 83.61%<br>ROC AUC: 83.23<br>Geometric Mean: 83.22<br>Matthews Correlation: 66.96<br>F1: 83.54<br>Average Probability: 60.83"
         ],
         "marker": {
          "color": [
           81.12
          ],
          "coloraxis": "coloraxis",
          "line": {
           "color": "Black",
           "width": 1
          },
          "opacity": [
           0.2
          ],
          "size": [
           40
          ],
          "symbol": [
           "triangle-down"
          ]
         },
         "mode": "markers",
         "name": "Adaptive Boosting",
         "type": "scatter",
         "x": [
          7.420623302459717
         ],
         "y": [
          -6.022590160369873
         ]
        },
        {
         "hovertext": [
          "Gradient Boosting<br>Performance: 81.92%<br>Model ID: meta_3<br>Accuracy: 83.61%<br>Precision: 85.19%<br>Recall: 83.61%<br>ROC AUC: 84.31<br>Geometric Mean: 84.3<br>Matthews Correlation: 68.84<br>F1: 83.58<br>Average Probability: 77.4"
         ],
         "marker": {
          "color": [
           81.92
          ],
          "coloraxis": "coloraxis",
          "line": {
           "color": "Black",
           "width": 1
          },
          "opacity": [
           0.8
          ],
          "size": [
           40
          ],
          "symbol": [
           "triangle-up"
          ]
         },
         "mode": "markers",
         "name": "Gradient Boosting",
         "type": "scatter",
         "x": [
          7.167835235595703
         ],
         "y": [
          -7.069888591766357
         ]
        }
       ],
       "layout": {
        "coloraxis": {
         "cmax": 90,
         "cmin": 70,
         "colorbar": {
          "title": {
           "side": "right",
           "text": "Metric-Based Performance"
          }
         },
         "colorscale": [
          [
           0,
           "#440154"
          ],
          [
           0.1111111111111111,
           "#482878"
          ],
          [
           0.2222222222222222,
           "#3e4989"
          ],
          [
           0.3333333333333333,
           "#31688e"
          ],
          [
           0.4444444444444444,
           "#26828e"
          ],
          [
           0.5555555555555556,
           "#1f9e89"
          ],
          [
           0.6666666666666666,
           "#35b779"
          ],
          [
           0.7777777777777778,
           "#6ece58"
          ],
          [
           0.8888888888888888,
           "#b5de2b"
          ],
          [
           1,
           "#fde725"
          ]
         ]
        },
        "height": 800,
        "hoverlabel": {
         "bgcolor": "white",
         "font": {
          "family": "Rockwell",
          "size": 14
         }
        },
        "hovermode": "closest",
        "legend": {
         "title": {
          "text": "Algorithm"
         },
         "traceorder": "normal",
         "x": -0.4,
         "y": 1
        },
        "margin": {
         "b": 0,
         "l": 0,
         "r": 0,
         "t": 0
        },
        "paper_bgcolor": "rgba(0,0,0,0)",
        "plot_bgcolor": "rgba(0,0,0,0)",
        "showlegend": true,
        "template": {
         "data": {
          "bar": [
           {
            "error_x": {
             "color": "#2a3f5f"
            },
            "error_y": {
             "color": "#2a3f5f"
            },
            "marker": {
             "line": {
              "color": "#E5ECF6",
              "width": 0.5
             },
             "pattern": {
              "fillmode": "overlay",
              "size": 10,
              "solidity": 0.2
             }
            },
            "type": "bar"
           }
          ],
          "barpolar": [
           {
            "marker": {
             "line": {
              "color": "#E5ECF6",
              "width": 0.5
             },
             "pattern": {
              "fillmode": "overlay",
              "size": 10,
              "solidity": 0.2
             }
            },
            "type": "barpolar"
           }
          ],
          "carpet": [
           {
            "aaxis": {
             "endlinecolor": "#2a3f5f",
             "gridcolor": "white",
             "linecolor": "white",
             "minorgridcolor": "white",
             "startlinecolor": "#2a3f5f"
            },
            "baxis": {
             "endlinecolor": "#2a3f5f",
             "gridcolor": "white",
             "linecolor": "white",
             "minorgridcolor": "white",
             "startlinecolor": "#2a3f5f"
            },
            "type": "carpet"
           }
          ],
          "choropleth": [
           {
            "colorbar": {
             "outlinewidth": 0,
             "ticks": ""
            },
            "type": "choropleth"
           }
          ],
          "contour": [
           {
            "colorbar": {
             "outlinewidth": 0,
             "ticks": ""
            },
            "colorscale": [
             [
              0,
              "#0d0887"
             ],
             [
              0.1111111111111111,
              "#46039f"
             ],
             [
              0.2222222222222222,
              "#7201a8"
             ],
             [
              0.3333333333333333,
              "#9c179e"
             ],
             [
              0.4444444444444444,
              "#bd3786"
             ],
             [
              0.5555555555555556,
              "#d8576b"
             ],
             [
              0.6666666666666666,
              "#ed7953"
             ],
             [
              0.7777777777777778,
              "#fb9f3a"
             ],
             [
              0.8888888888888888,
              "#fdca26"
             ],
             [
              1,
              "#f0f921"
             ]
            ],
            "type": "contour"
           }
          ],
          "contourcarpet": [
           {
            "colorbar": {
             "outlinewidth": 0,
             "ticks": ""
            },
            "type": "contourcarpet"
           }
          ],
          "heatmap": [
           {
            "colorbar": {
             "outlinewidth": 0,
             "ticks": ""
            },
            "colorscale": [
             [
              0,
              "#0d0887"
             ],
             [
              0.1111111111111111,
              "#46039f"
             ],
             [
              0.2222222222222222,
              "#7201a8"
             ],
             [
              0.3333333333333333,
              "#9c179e"
             ],
             [
              0.4444444444444444,
              "#bd3786"
             ],
             [
              0.5555555555555556,
              "#d8576b"
             ],
             [
              0.6666666666666666,
              "#ed7953"
             ],
             [
              0.7777777777777778,
              "#fb9f3a"
             ],
             [
              0.8888888888888888,
              "#fdca26"
             ],
             [
              1,
              "#f0f921"
             ]
            ],
            "type": "heatmap"
           }
          ],
          "heatmapgl": [
           {
            "colorbar": {
             "outlinewidth": 0,
             "ticks": ""
            },
            "colorscale": [
             [
              0,
              "#0d0887"
             ],
             [
              0.1111111111111111,
              "#46039f"
             ],
             [
              0.2222222222222222,
              "#7201a8"
             ],
             [
              0.3333333333333333,
              "#9c179e"
             ],
             [
              0.4444444444444444,
              "#bd3786"
             ],
             [
              0.5555555555555556,
              "#d8576b"
             ],
             [
              0.6666666666666666,
              "#ed7953"
             ],
             [
              0.7777777777777778,
              "#fb9f3a"
             ],
             [
              0.8888888888888888,
              "#fdca26"
             ],
             [
              1,
              "#f0f921"
             ]
            ],
            "type": "heatmapgl"
           }
          ],
          "histogram": [
           {
            "marker": {
             "pattern": {
              "fillmode": "overlay",
              "size": 10,
              "solidity": 0.2
             }
            },
            "type": "histogram"
           }
          ],
          "histogram2d": [
           {
            "colorbar": {
             "outlinewidth": 0,
             "ticks": ""
            },
            "colorscale": [
             [
              0,
              "#0d0887"
             ],
             [
              0.1111111111111111,
              "#46039f"
             ],
             [
              0.2222222222222222,
              "#7201a8"
             ],
             [
              0.3333333333333333,
              "#9c179e"
             ],
             [
              0.4444444444444444,
              "#bd3786"
             ],
             [
              0.5555555555555556,
              "#d8576b"
             ],
             [
              0.6666666666666666,
              "#ed7953"
             ],
             [
              0.7777777777777778,
              "#fb9f3a"
             ],
             [
              0.8888888888888888,
              "#fdca26"
             ],
             [
              1,
              "#f0f921"
             ]
            ],
            "type": "histogram2d"
           }
          ],
          "histogram2dcontour": [
           {
            "colorbar": {
             "outlinewidth": 0,
             "ticks": ""
            },
            "colorscale": [
             [
              0,
              "#0d0887"
             ],
             [
              0.1111111111111111,
              "#46039f"
             ],
             [
              0.2222222222222222,
              "#7201a8"
             ],
             [
              0.3333333333333333,
              "#9c179e"
             ],
             [
              0.4444444444444444,
              "#bd3786"
             ],
             [
              0.5555555555555556,
              "#d8576b"
             ],
             [
              0.6666666666666666,
              "#ed7953"
             ],
             [
              0.7777777777777778,
              "#fb9f3a"
             ],
             [
              0.8888888888888888,
              "#fdca26"
             ],
             [
              1,
              "#f0f921"
             ]
            ],
            "type": "histogram2dcontour"
           }
          ],
          "mesh3d": [
           {
            "colorbar": {
             "outlinewidth": 0,
             "ticks": ""
            },
            "type": "mesh3d"
           }
          ],
          "parcoords": [
           {
            "line": {
             "colorbar": {
              "outlinewidth": 0,
              "ticks": ""
             }
            },
            "type": "parcoords"
           }
          ],
          "pie": [
           {
            "automargin": true,
            "type": "pie"
           }
          ],
          "scatter": [
           {
            "fillpattern": {
             "fillmode": "overlay",
             "size": 10,
             "solidity": 0.2
            },
            "type": "scatter"
           }
          ],
          "scatter3d": [
           {
            "line": {
             "colorbar": {
              "outlinewidth": 0,
              "ticks": ""
             }
            },
            "marker": {
             "colorbar": {
              "outlinewidth": 0,
              "ticks": ""
             }
            },
            "type": "scatter3d"
           }
          ],
          "scattercarpet": [
           {
            "marker": {
             "colorbar": {
              "outlinewidth": 0,
              "ticks": ""
             }
            },
            "type": "scattercarpet"
           }
          ],
          "scattergeo": [
           {
            "marker": {
             "colorbar": {
              "outlinewidth": 0,
              "ticks": ""
             }
            },
            "type": "scattergeo"
           }
          ],
          "scattergl": [
           {
            "marker": {
             "colorbar": {
              "outlinewidth": 0,
              "ticks": ""
             }
            },
            "type": "scattergl"
           }
          ],
          "scattermapbox": [
           {
            "marker": {
             "colorbar": {
              "outlinewidth": 0,
              "ticks": ""
             }
            },
            "type": "scattermapbox"
           }
          ],
          "scatterpolar": [
           {
            "marker": {
             "colorbar": {
              "outlinewidth": 0,
              "ticks": ""
             }
            },
            "type": "scatterpolar"
           }
          ],
          "scatterpolargl": [
           {
            "marker": {
             "colorbar": {
              "outlinewidth": 0,
              "ticks": ""
             }
            },
            "type": "scatterpolargl"
           }
          ],
          "scatterternary": [
           {
            "marker": {
             "colorbar": {
              "outlinewidth": 0,
              "ticks": ""
             }
            },
            "type": "scatterternary"
           }
          ],
          "surface": [
           {
            "colorbar": {
             "outlinewidth": 0,
             "ticks": ""
            },
            "colorscale": [
             [
              0,
              "#0d0887"
             ],
             [
              0.1111111111111111,
              "#46039f"
             ],
             [
              0.2222222222222222,
              "#7201a8"
             ],
             [
              0.3333333333333333,
              "#9c179e"
             ],
             [
              0.4444444444444444,
              "#bd3786"
             ],
             [
              0.5555555555555556,
              "#d8576b"
             ],
             [
              0.6666666666666666,
              "#ed7953"
             ],
             [
              0.7777777777777778,
              "#fb9f3a"
             ],
             [
              0.8888888888888888,
              "#fdca26"
             ],
             [
              1,
              "#f0f921"
             ]
            ],
            "type": "surface"
           }
          ],
          "table": [
           {
            "cells": {
             "fill": {
              "color": "#EBF0F8"
             },
             "line": {
              "color": "white"
             }
            },
            "header": {
             "fill": {
              "color": "#C8D4E3"
             },
             "line": {
              "color": "white"
             }
            },
            "type": "table"
           }
          ]
         },
         "layout": {
          "annotationdefaults": {
           "arrowcolor": "#2a3f5f",
           "arrowhead": 0,
           "arrowwidth": 1
          },
          "autotypenumbers": "strict",
          "coloraxis": {
           "colorbar": {
            "outlinewidth": 0,
            "ticks": ""
           }
          },
          "colorscale": {
           "diverging": [
            [
             0,
             "#8e0152"
            ],
            [
             0.1,
             "#c51b7d"
            ],
            [
             0.2,
             "#de77ae"
            ],
            [
             0.3,
             "#f1b6da"
            ],
            [
             0.4,
             "#fde0ef"
            ],
            [
             0.5,
             "#f7f7f7"
            ],
            [
             0.6,
             "#e6f5d0"
            ],
            [
             0.7,
             "#b8e186"
            ],
            [
             0.8,
             "#7fbc41"
            ],
            [
             0.9,
             "#4d9221"
            ],
            [
             1,
             "#276419"
            ]
           ],
           "sequential": [
            [
             0,
             "#0d0887"
            ],
            [
             0.1111111111111111,
             "#46039f"
            ],
            [
             0.2222222222222222,
             "#7201a8"
            ],
            [
             0.3333333333333333,
             "#9c179e"
            ],
            [
             0.4444444444444444,
             "#bd3786"
            ],
            [
             0.5555555555555556,
             "#d8576b"
            ],
            [
             0.6666666666666666,
             "#ed7953"
            ],
            [
             0.7777777777777778,
             "#fb9f3a"
            ],
            [
             0.8888888888888888,
             "#fdca26"
            ],
            [
             1,
             "#f0f921"
            ]
           ],
           "sequentialminus": [
            [
             0,
             "#0d0887"
            ],
            [
             0.1111111111111111,
             "#46039f"
            ],
            [
             0.2222222222222222,
             "#7201a8"
            ],
            [
             0.3333333333333333,
             "#9c179e"
            ],
            [
             0.4444444444444444,
             "#bd3786"
            ],
            [
             0.5555555555555556,
             "#d8576b"
            ],
            [
             0.6666666666666666,
             "#ed7953"
            ],
            [
             0.7777777777777778,
             "#fb9f3a"
            ],
            [
             0.8888888888888888,
             "#fdca26"
            ],
            [
             1,
             "#f0f921"
            ]
           ]
          },
          "colorway": [
           "#636efa",
           "#EF553B",
           "#00cc96",
           "#ab63fa",
           "#FFA15A",
           "#19d3f3",
           "#FF6692",
           "#B6E880",
           "#FF97FF",
           "#FECB52"
          ],
          "font": {
           "color": "#2a3f5f"
          },
          "geo": {
           "bgcolor": "white",
           "lakecolor": "white",
           "landcolor": "#E5ECF6",
           "showlakes": true,
           "showland": true,
           "subunitcolor": "white"
          },
          "hoverlabel": {
           "align": "left"
          },
          "hovermode": "closest",
          "mapbox": {
           "style": "light"
          },
          "paper_bgcolor": "white",
          "plot_bgcolor": "#E5ECF6",
          "polar": {
           "angularaxis": {
            "gridcolor": "white",
            "linecolor": "white",
            "ticks": ""
           },
           "bgcolor": "#E5ECF6",
           "radialaxis": {
            "gridcolor": "white",
            "linecolor": "white",
            "ticks": ""
           }
          },
          "scene": {
           "xaxis": {
            "backgroundcolor": "#E5ECF6",
            "gridcolor": "white",
            "gridwidth": 2,
            "linecolor": "white",
            "showbackground": true,
            "ticks": "",
            "zerolinecolor": "white"
           },
           "yaxis": {
            "backgroundcolor": "#E5ECF6",
            "gridcolor": "white",
            "gridwidth": 2,
            "linecolor": "white",
            "showbackground": true,
            "ticks": "",
            "zerolinecolor": "white"
           },
           "zaxis": {
            "backgroundcolor": "#E5ECF6",
            "gridcolor": "white",
            "gridwidth": 2,
            "linecolor": "white",
            "showbackground": true,
            "ticks": "",
            "zerolinecolor": "white"
           }
          },
          "shapedefaults": {
           "line": {
            "color": "#2a3f5f"
           }
          },
          "ternary": {
           "aaxis": {
            "gridcolor": "white",
            "linecolor": "white",
            "ticks": ""
           },
           "baxis": {
            "gridcolor": "white",
            "linecolor": "white",
            "ticks": ""
           },
           "bgcolor": "#E5ECF6",
           "caxis": {
            "gridcolor": "white",
            "linecolor": "white",
            "ticks": ""
           }
          },
          "title": {
           "x": 0.05
          },
          "xaxis": {
           "automargin": true,
           "gridcolor": "white",
           "linecolor": "white",
           "ticks": "",
           "title": {
            "standoff": 15
           },
           "zerolinecolor": "white",
           "zerolinewidth": 2
          },
          "yaxis": {
           "automargin": true,
           "gridcolor": "white",
           "linecolor": "white",
           "ticks": "",
           "title": {
            "standoff": 15
           },
           "zerolinecolor": "white",
           "zerolinewidth": 2
          }
         }
        },
        "title": {
         "text": "df_model_cluster_1"
        },
        "updatemenus": [
         {
          "active": 0,
          "buttons": [
           {
            "args": [
             {
              "visible": [
               true,
               true,
               true,
               true,
               true,
               true,
               true,
               true,
               true,
               true,
               true,
               false,
               false,
               false,
               false,
               false,
               false,
               false,
               false,
               false,
               false,
               false,
               false,
               false,
               false,
               false,
               false,
               false,
               false,
               false,
               false,
               false,
               false,
               false,
               false,
               false,
               false,
               false,
               false,
               false,
               false,
               false,
               false,
               false,
               false,
               false,
               false,
               false,
               false,
               false,
               false,
               false,
               false,
               false,
               false,
               false,
               false,
               false,
               false,
               false,
               false,
               false,
               false,
               false,
               false,
               false,
               false,
               false,
               false,
               false,
               false,
               false,
               false,
               false,
               false,
               false,
               false,
               false,
               false,
               false,
               false,
               false,
               false,
               false,
               false,
               false,
               false,
               false,
               true
              ]
             }
            ],
            "label": "number of neighbours 3",
            "method": "restyle"
           },
           {
            "args": [
             {
              "visible": [
               false,
               false,
               false,
               false,
               false,
               false,
               false,
               false,
               false,
               false,
               false,
               true,
               true,
               true,
               true,
               true,
               true,
               true,
               true,
               true,
               true,
               true,
               false,
               false,
               false,
               false,
               false,
               false,
               false,
               false,
               false,
               false,
               false,
               false,
               false,
               false,
               false,
               false,
               false,
               false,
               false,
               false,
               false,
               false,
               false,
               false,
               false,
               false,
               false,
               false,
               false,
               false,
               false,
               false,
               false,
               false,
               false,
               false,
               false,
               false,
               false,
               false,
               false,
               false,
               false,
               false,
               false,
               false,
               false,
               false,
               false,
               false,
               false,
               false,
               false,
               false,
               false,
               false,
               false,
               false,
               false,
               false,
               false,
               false,
               false,
               false,
               false,
               false,
               true
              ]
             }
            ],
            "label": "number of neighbours 4",
            "method": "restyle"
           },
           {
            "args": [
             {
              "visible": [
               false,
               false,
               false,
               false,
               false,
               false,
               false,
               false,
               false,
               false,
               false,
               false,
               false,
               false,
               false,
               false,
               false,
               false,
               false,
               false,
               false,
               false,
               true,
               true,
               true,
               true,
               true,
               true,
               true,
               true,
               true,
               true,
               true,
               false,
               false,
               false,
               false,
               false,
               false,
               false,
               false,
               false,
               false,
               false,
               false,
               false,
               false,
               false,
               false,
               false,
               false,
               false,
               false,
               false,
               false,
               false,
               false,
               false,
               false,
               false,
               false,
               false,
               false,
               false,
               false,
               false,
               false,
               false,
               false,
               false,
               false,
               false,
               false,
               false,
               false,
               false,
               false,
               false,
               false,
               false,
               false,
               false,
               false,
               false,
               false,
               false,
               false,
               false,
               true
              ]
             }
            ],
            "label": "number of neighbours 5",
            "method": "restyle"
           },
           {
            "args": [
             {
              "visible": [
               false,
               false,
               false,
               false,
               false,
               false,
               false,
               false,
               false,
               false,
               false,
               false,
               false,
               false,
               false,
               false,
               false,
               false,
               false,
               false,
               false,
               false,
               false,
               false,
               false,
               false,
               false,
               false,
               false,
               false,
               false,
               false,
               false,
               true,
               true,
               true,
               true,
               true,
               true,
               true,
               true,
               true,
               true,
               true,
               false,
               false,
               false,
               false,
               false,
               false,
               false,
               false,
               false,
               false,
               false,
               false,
               false,
               false,
               false,
               false,
               false,
               false,
               false,
               false,
               false,
               false,
               false,
               false,
               false,
               false,
               false,
               false,
               false,
               false,
               false,
               false,
               false,
               false,
               false,
               false,
               false,
               false,
               false,
               false,
               false,
               false,
               false,
               false,
               true
              ]
             }
            ],
            "label": "number of neighbours 6",
            "method": "restyle"
           }
          ],
          "direction": "down",
          "showactive": false
         }
        ],
        "width": 1000,
        "xaxis": {
         "showticklabels": false
        },
        "yaxis": {
         "showticklabels": false
        }
       }
      }
     },
     "metadata": {},
     "output_type": "display_data"
    },
    {
     "data": {
      "application/vnd.plotly.v1+json": {
       "config": {
        "plotlyServerURL": "https://plot.ly"
       },
       "data": [
        {
         "hovertext": [
          "K-Nearest Neighbor<br>Performance: 83.03%<br>Model ID: meta_6<br>Accuracy: 85.25%<br>Precision: 85.24%<br>Recall: 85.25%<br>ROC AUC: 85.01<br>Geometric Mean: 85.01<br>Matthews Correlation: 70.25<br>F1: 85.22<br>Average Probability: 77.01"
         ],
         "marker": {
          "color": [
           83.03
          ],
          "coloraxis": "coloraxis",
          "line": {
           "color": "Black",
           "width": 1
          },
          "opacity": [
           0.7
          ],
          "size": [
           40
          ],
          "symbol": [
           "circle"
          ]
         },
         "mode": "markers",
         "name": "K-Nearest Neighbor",
         "type": "scatter",
         "x": [
          9.533329963684082
         ],
         "y": [
          2.2428624629974365
         ]
        },
        {
         "hovertext": [
          "Support Vector Machine<br>Performance: 83.03%<br>Model ID: 614<br>Accuracy: 85.25%<br>Precision: 85.24%<br>Recall: 85.25%<br>ROC AUC: 85.01<br>Geometric Mean: 85.01<br>Matthews Correlation: 70.25<br>F1: 85.22<br>Average Probability: 73.24",
          "Support Vector Machine<br>Performance: 83.03%<br>Model ID: 606<br>Accuracy: 85.25%<br>Precision: 85.24%<br>Recall: 85.25%<br>ROC AUC: 85.01<br>Geometric Mean: 85.01<br>Matthews Correlation: 70.25<br>F1: 85.22<br>Average Probability: 73.34",
          "Support Vector Machine<br>Performance: 83.03%<br>Model ID: 586<br>Accuracy: 85.25%<br>Precision: 85.24%<br>Recall: 85.25%<br>ROC AUC: 85.01<br>Geometric Mean: 85.01<br>Matthews Correlation: 70.25<br>F1: 85.22<br>Average Probability: 73.99",
          "Support Vector Machine<br>Performance: 83.03%<br>Model ID: 598<br>Accuracy: 85.25%<br>Precision: 85.24%<br>Recall: 85.25%<br>ROC AUC: 85.01<br>Geometric Mean: 85.01<br>Matthews Correlation: 70.25<br>F1: 85.22<br>Average Probability: 73.62",
          "Support Vector Machine<br>Performance: 83.03%<br>Model ID: 610<br>Accuracy: 85.25%<br>Precision: 85.24%<br>Recall: 85.25%<br>ROC AUC: 85.01<br>Geometric Mean: 85.01<br>Matthews Correlation: 70.25<br>F1: 85.22<br>Average Probability: 73.21",
          "Support Vector Machine<br>Performance: 84.92%<br>Model ID: meta_7<br>Accuracy: 86.89%<br>Precision: 87.4%<br>Recall: 86.89%<br>ROC AUC: 86.26<br>Geometric Mean: 86.25<br>Matthews Correlation: 73.97<br>F1: 86.76<br>Average Probability: 74.99"
         ],
         "marker": {
          "color": [
           83.03,
           83.03,
           83.03,
           83.03,
           83.03,
           84.92
          ],
          "coloraxis": "coloraxis",
          "line": {
           "color": "Black",
           "width": 1
          },
          "opacity": [
           0.6,
           0.6,
           0.6,
           0.6,
           0.6,
           0.7
          ],
          "size": [
           20,
           20,
           20,
           20,
           20,
           40
          ],
          "symbol": [
           "square",
           "square",
           "square",
           "square",
           "square",
           "square"
          ]
         },
         "mode": "markers",
         "name": "Support Vector Machine",
         "type": "scatter",
         "x": [
          -18.698341369628906,
          -17.79253387451172,
          -16.83502197265625,
          -17.230297088623047,
          -18.192245483398438,
          8.860461235046387
         ],
         "y": [
          -8.45877456665039,
          -8.454924583435059,
          -8.950325965881348,
          -8.307491302490234,
          -9.118526458740234,
          0.20734313130378723
         ]
        },
        {
         "hovertext": [
          "Gaussian Naive Bayes<br>Performance: 83.0%<br>Model ID: meta_1<br>Accuracy: 85.25%<br>Precision: 85.48%<br>Recall: 85.25%<br>ROC AUC: 84.74<br>Geometric Mean: 84.74<br>Matthews Correlation: 70.4<br>F1: 85.15<br>Average Probability: 85.08"
         ],
         "marker": {
          "color": [
           83
          ],
          "coloraxis": "coloraxis",
          "line": {
           "color": "Black",
           "width": 1
          },
          "opacity": [
           1
          ],
          "size": [
           40
          ],
          "symbol": [
           "x"
          ]
         },
         "mode": "markers",
         "name": "Gaussian Naive Bayes",
         "type": "scatter",
         "x": [
          9.681720733642578
         ],
         "y": [
          0.17250807583332062
         ]
        },
        {
         "hovertext": [
          "Multilayer Perceptron<br>Performance: 84.92%<br>Model ID: meta_9<br>Accuracy: 86.89%<br>Precision: 87.4%<br>Recall: 86.89%<br>ROC AUC: 86.26<br>Geometric Mean: 86.25<br>Matthews Correlation: 73.97<br>F1: 86.76<br>Average Probability: 72.95"
         ],
         "marker": {
          "color": [
           84.92
          ],
          "coloraxis": "coloraxis",
          "line": {
           "color": "Black",
           "width": 1
          },
          "opacity": [
           0.6
          ],
          "size": [
           40
          ],
          "symbol": [
           "cross"
          ]
         },
         "mode": "markers",
         "name": "Multilayer Perceptron",
         "type": "scatter",
         "x": [
          8.419329643249512
         ],
         "y": [
          0.9485340714454651
         ]
        },
        {
         "hovertext": [
          "Logistic Regression<br>Performance: 84.92%<br>Model ID: 1453<br>Accuracy: 86.89%<br>Precision: 87.4%<br>Recall: 86.89%<br>ROC AUC: 86.26<br>Geometric Mean: 86.25<br>Matthews Correlation: 73.97<br>F1: 86.76<br>Average Probability: 75.28",
          "Logistic Regression<br>Performance: 84.92%<br>Model ID: 1973<br>Accuracy: 86.89%<br>Precision: 87.4%<br>Recall: 86.89%<br>ROC AUC: 86.26<br>Geometric Mean: 86.25<br>Matthews Correlation: 73.97<br>F1: 86.76<br>Average Probability: 75.68",
          "Logistic Regression<br>Performance: 84.92%<br>Model ID: 1945<br>Accuracy: 86.89%<br>Precision: 87.4%<br>Recall: 86.89%<br>ROC AUC: 86.26<br>Geometric Mean: 86.25<br>Matthews Correlation: 73.97<br>F1: 86.76<br>Average Probability: 75.89",
          "Logistic Regression<br>Performance: 84.92%<br>Model ID: 1721<br>Accuracy: 86.89%<br>Precision: 87.4%<br>Recall: 86.89%<br>ROC AUC: 86.26<br>Geometric Mean: 86.25<br>Matthews Correlation: 73.97<br>F1: 86.76<br>Average Probability: 75.89",
          "Logistic Regression<br>Performance: 84.92%<br>Model ID: 1977<br>Accuracy: 86.89%<br>Precision: 87.4%<br>Recall: 86.89%<br>ROC AUC: 86.26<br>Geometric Mean: 86.25<br>Matthews Correlation: 73.97<br>F1: 86.76<br>Average Probability: 75.89",
          "Logistic Regression<br>Performance: 83.0%<br>Model ID: meta_8<br>Accuracy: 85.25%<br>Precision: 85.48%<br>Recall: 85.25%<br>ROC AUC: 84.74<br>Geometric Mean: 84.74<br>Matthews Correlation: 70.4<br>F1: 85.15<br>Average Probability: 75.31"
         ],
         "marker": {
          "color": [
           84.92,
           84.92,
           84.92,
           84.92,
           84.92,
           83
          ],
          "coloraxis": "coloraxis",
          "line": {
           "color": "Black",
           "width": 1
          },
          "opacity": [
           0.7,
           0.7,
           0.7,
           0.7,
           0.7,
           0.7
          ],
          "size": [
           20,
           20,
           20,
           20,
           20,
           40
          ],
          "symbol": [
           "diamond",
           "diamond",
           "diamond",
           "diamond",
           "diamond",
           "diamond"
          ]
         },
         "mode": "markers",
         "name": "Logistic Regression",
         "type": "scatter",
         "x": [
          -4.581235885620117,
          -5.212582588195801,
          -5.991396427154541,
          -5.825491905212402,
          -6.429490566253662,
          8.925454139709473
         ],
         "y": [
          2.135324001312256,
          2.7203359603881836,
          2.362767219543457,
          3.3119418621063232,
          3.2710399627685547,
          1.5035537481307983
         ]
        },
        {
         "hovertext": [
          "Linear Discriminant Analysis<br>Performance: 84.92%<br>Model ID: 1998<br>Accuracy: 86.89%<br>Precision: 87.4%<br>Recall: 86.89%<br>ROC AUC: 86.26<br>Geometric Mean: 86.25<br>Matthews Correlation: 73.97<br>F1: 86.76<br>Average Probability: 77.23",
          "Linear Discriminant Analysis<br>Performance: 84.92%<br>Model ID: 1997<br>Accuracy: 86.89%<br>Precision: 87.4%<br>Recall: 86.89%<br>ROC AUC: 86.26<br>Geometric Mean: 86.25<br>Matthews Correlation: 73.97<br>F1: 86.76<br>Average Probability: 77.23",
          "Linear Discriminant Analysis<br>Performance: 81.12%<br>Model ID: meta_4<br>Accuracy: 83.61%<br>Precision: 83.66%<br>Recall: 83.61%<br>ROC AUC: 83.23<br>Geometric Mean: 83.22<br>Matthews Correlation: 66.96<br>F1: 83.54<br>Average Probability: 78.86"
         ],
         "marker": {
          "color": [
           84.92,
           84.92,
           81.12
          ],
          "coloraxis": "coloraxis",
          "line": {
           "color": "Black",
           "width": 1
          },
          "opacity": [
           0.7,
           0.7,
           0.8
          ],
          "size": [
           20,
           20,
           40
          ],
          "symbol": [
           "star",
           "star",
           "star"
          ]
         },
         "mode": "markers",
         "name": "Linear Discriminant Analysis",
         "type": "scatter",
         "x": [
          -6.903059959411621,
          -6.396775722503662,
          10.101543426513672
         ],
         "y": [
          2.0228261947631836,
          1.5458076000213623,
          1.326659083366394
         ]
        },
        {
         "hovertext": [
          "Quadratic Discriminant Analysis<br>Performance: 83.0%<br>Model ID: meta_5<br>Accuracy: 85.25%<br>Precision: 85.48%<br>Recall: 85.25%<br>ROC AUC: 84.74<br>Geometric Mean: 84.74<br>Matthews Correlation: 70.4<br>F1: 85.15<br>Average Probability: 77.07"
         ],
         "marker": {
          "color": [
           83
          ],
          "coloraxis": "coloraxis",
          "line": {
           "color": "Black",
           "width": 1
          },
          "opacity": [
           0.7
          ],
          "size": [
           40
          ],
          "symbol": [
           "hexagram"
          ]
         },
         "mode": "markers",
         "name": "Quadratic Discriminant Analysis",
         "type": "scatter",
         "x": [
          9.527844429016113
         ],
         "y": [
          1.0427446365356445
         ]
        },
        {
         "hovertext": [
          "Random Forest<br>Performance: 85.12%<br>Model ID: meta_3<br>Accuracy: 86.89%<br>Precision: 87.11%<br>Recall: 86.89%<br>ROC AUC: 87.07<br>Geometric Mean: 87.07<br>Matthews Correlation: 73.89<br>F1: 86.91<br>Average Probability: 77.17"
         ],
         "marker": {
          "color": [
           85.12
          ],
          "coloraxis": "coloraxis",
          "line": {
           "color": "Black",
           "width": 1
          },
          "opacity": [
           0.7
          ],
          "size": [
           40
          ],
          "symbol": [
           "triangle-right"
          ]
         },
         "mode": "markers",
         "name": "Random Forest",
         "type": "scatter",
         "x": [
          8.864875793457031
         ],
         "y": [
          3.554889678955078
         ]
        },
        {
         "hovertext": [
          "Extra Trees<br>Performance: 86.8%<br>Model ID: meta_2<br>Accuracy: 88.52%<br>Precision: 88.54%<br>Recall: 88.52%<br>ROC AUC: 88.31<br>Geometric Mean: 88.31<br>Matthews Correlation: 76.87<br>F1: 88.51<br>Average Probability: 76.61"
         ],
         "marker": {
          "color": [
           86.8
          ],
          "coloraxis": "coloraxis",
          "line": {
           "color": "Black",
           "width": 1
          },
          "opacity": [
           0.7
          ],
          "size": [
           40
          ],
          "symbol": [
           "triangle-left"
          ]
         },
         "mode": "markers",
         "name": "Extra Trees",
         "type": "scatter",
         "x": [
          9.502392768859863
         ],
         "y": [
          3.209418773651123
         ]
        },
        {
         "hovertext": [
          "Adaptive Boosting<br>Performance: 84.9%<br>Model ID: meta_11<br>Accuracy: 86.89%<br>Precision: 86.98%<br>Recall: 86.89%<br>ROC AUC: 86.53<br>Geometric Mean: 86.53<br>Matthews Correlation: 73.61<br>F1: 86.84<br>Average Probability: 61.65"
         ],
         "marker": {
          "color": [
           84.9
          ],
          "coloraxis": "coloraxis",
          "line": {
           "color": "Black",
           "width": 1
          },
          "opacity": [
           0.2
          ],
          "size": [
           40
          ],
          "symbol": [
           "triangle-down"
          ]
         },
         "mode": "markers",
         "name": "Adaptive Boosting",
         "type": "scatter",
         "x": [
          7.5891900062561035
         ],
         "y": [
          0.7955777049064636
         ]
        },
        {
         "hovertext": [
          "Gradient Boosting<br>Performance: 73.57%<br>Model ID: meta_10<br>Accuracy: 77.05%<br>Precision: 77.04%<br>Recall: 77.05%<br>ROC AUC: 76.62<br>Geometric Mean: 76.62<br>Matthews Correlation: 53.65<br>F1: 76.96<br>Average Probability: 75.64"
         ],
         "marker": {
          "color": [
           73.57
          ],
          "coloraxis": "coloraxis",
          "line": {
           "color": "Black",
           "width": 1
          },
          "opacity": [
           0.7
          ],
          "size": [
           40
          ],
          "symbol": [
           "triangle-up"
          ]
         },
         "mode": "markers",
         "name": "Gradient Boosting",
         "type": "scatter",
         "x": [
          8.530487060546875
         ],
         "y": [
          4.051792144775391
         ]
        },
        {
         "hovertext": [
          "K-Nearest Neighbor<br>Performance: 83.03%<br>Model ID: meta_6<br>Accuracy: 85.25%<br>Precision: 85.24%<br>Recall: 85.25%<br>ROC AUC: 85.01<br>Geometric Mean: 85.01<br>Matthews Correlation: 70.25<br>F1: 85.22<br>Average Probability: 77.01"
         ],
         "marker": {
          "color": [
           83.03
          ],
          "coloraxis": "coloraxis",
          "line": {
           "color": "Black",
           "width": 1
          },
          "opacity": [
           0.7
          ],
          "size": [
           40
          ],
          "symbol": [
           "circle"
          ]
         },
         "mode": "markers",
         "name": "K-Nearest Neighbor",
         "type": "scatter",
         "x": [
          4.68934440612793
         ],
         "y": [
          -4.412709712982178
         ]
        },
        {
         "hovertext": [
          "Support Vector Machine<br>Performance: 83.03%<br>Model ID: 614<br>Accuracy: 85.25%<br>Precision: 85.24%<br>Recall: 85.25%<br>ROC AUC: 85.01<br>Geometric Mean: 85.01<br>Matthews Correlation: 70.25<br>F1: 85.22<br>Average Probability: 73.24",
          "Support Vector Machine<br>Performance: 83.03%<br>Model ID: 606<br>Accuracy: 85.25%<br>Precision: 85.24%<br>Recall: 85.25%<br>ROC AUC: 85.01<br>Geometric Mean: 85.01<br>Matthews Correlation: 70.25<br>F1: 85.22<br>Average Probability: 73.34",
          "Support Vector Machine<br>Performance: 83.03%<br>Model ID: 586<br>Accuracy: 85.25%<br>Precision: 85.24%<br>Recall: 85.25%<br>ROC AUC: 85.01<br>Geometric Mean: 85.01<br>Matthews Correlation: 70.25<br>F1: 85.22<br>Average Probability: 73.99",
          "Support Vector Machine<br>Performance: 83.03%<br>Model ID: 598<br>Accuracy: 85.25%<br>Precision: 85.24%<br>Recall: 85.25%<br>ROC AUC: 85.01<br>Geometric Mean: 85.01<br>Matthews Correlation: 70.25<br>F1: 85.22<br>Average Probability: 73.62",
          "Support Vector Machine<br>Performance: 83.03%<br>Model ID: 610<br>Accuracy: 85.25%<br>Precision: 85.24%<br>Recall: 85.25%<br>ROC AUC: 85.01<br>Geometric Mean: 85.01<br>Matthews Correlation: 70.25<br>F1: 85.22<br>Average Probability: 73.21",
          "Support Vector Machine<br>Performance: 84.92%<br>Model ID: meta_7<br>Accuracy: 86.89%<br>Precision: 87.4%<br>Recall: 86.89%<br>ROC AUC: 86.26<br>Geometric Mean: 86.25<br>Matthews Correlation: 73.97<br>F1: 86.76<br>Average Probability: 74.99"
         ],
         "marker": {
          "color": [
           83.03,
           83.03,
           83.03,
           83.03,
           83.03,
           84.92
          ],
          "coloraxis": "coloraxis",
          "line": {
           "color": "Black",
           "width": 1
          },
          "opacity": [
           0.6,
           0.6,
           0.6,
           0.6,
           0.6,
           0.7
          ],
          "size": [
           20,
           20,
           20,
           20,
           20,
           40
          ],
          "symbol": [
           "square",
           "square",
           "square",
           "square",
           "square",
           "square"
          ]
         },
         "mode": "markers",
         "name": "Support Vector Machine",
         "type": "scatter",
         "x": [
          9.413168907165527,
          9.525253295898438,
          9.864871978759766,
          10.384343147277832,
          10.08663558959961,
          6.632106781005859
         ],
         "y": [
          -4.273791790008545,
          -3.3903040885925293,
          -2.6066575050354004,
          -3.166748523712158,
          -4.091377258300781,
          -4.248854160308838
         ]
        },
        {
         "hovertext": [
          "Gaussian Naive Bayes<br>Performance: 83.0%<br>Model ID: meta_1<br>Accuracy: 85.25%<br>Precision: 85.48%<br>Recall: 85.25%<br>ROC AUC: 84.74<br>Geometric Mean: 84.74<br>Matthews Correlation: 70.4<br>F1: 85.15<br>Average Probability: 85.08"
         ],
         "marker": {
          "color": [
           83
          ],
          "coloraxis": "coloraxis",
          "line": {
           "color": "Black",
           "width": 1
          },
          "opacity": [
           1
          ],
          "size": [
           40
          ],
          "symbol": [
           "x"
          ]
         },
         "mode": "markers",
         "name": "Gaussian Naive Bayes",
         "type": "scatter",
         "x": [
          5.9514665603637695
         ],
         "y": [
          -3.82381534576416
         ]
        },
        {
         "hovertext": [
          "Multilayer Perceptron<br>Performance: 84.92%<br>Model ID: meta_9<br>Accuracy: 86.89%<br>Precision: 87.4%<br>Recall: 86.89%<br>ROC AUC: 86.26<br>Geometric Mean: 86.25<br>Matthews Correlation: 73.97<br>F1: 86.76<br>Average Probability: 72.95"
         ],
         "marker": {
          "color": [
           84.92
          ],
          "coloraxis": "coloraxis",
          "line": {
           "color": "Black",
           "width": 1
          },
          "opacity": [
           0.6
          ],
          "size": [
           40
          ],
          "symbol": [
           "cross"
          ]
         },
         "mode": "markers",
         "name": "Multilayer Perceptron",
         "type": "scatter",
         "x": [
          7.087250709533691
         ],
         "y": [
          -5.029088973999023
         ]
        },
        {
         "hovertext": [
          "Logistic Regression<br>Performance: 84.92%<br>Model ID: 1453<br>Accuracy: 86.89%<br>Precision: 87.4%<br>Recall: 86.89%<br>ROC AUC: 86.26<br>Geometric Mean: 86.25<br>Matthews Correlation: 73.97<br>F1: 86.76<br>Average Probability: 75.28",
          "Logistic Regression<br>Performance: 84.92%<br>Model ID: 1973<br>Accuracy: 86.89%<br>Precision: 87.4%<br>Recall: 86.89%<br>ROC AUC: 86.26<br>Geometric Mean: 86.25<br>Matthews Correlation: 73.97<br>F1: 86.76<br>Average Probability: 75.68",
          "Logistic Regression<br>Performance: 84.92%<br>Model ID: 1945<br>Accuracy: 86.89%<br>Precision: 87.4%<br>Recall: 86.89%<br>ROC AUC: 86.26<br>Geometric Mean: 86.25<br>Matthews Correlation: 73.97<br>F1: 86.76<br>Average Probability: 75.89",
          "Logistic Regression<br>Performance: 84.92%<br>Model ID: 1721<br>Accuracy: 86.89%<br>Precision: 87.4%<br>Recall: 86.89%<br>ROC AUC: 86.26<br>Geometric Mean: 86.25<br>Matthews Correlation: 73.97<br>F1: 86.76<br>Average Probability: 75.89",
          "Logistic Regression<br>Performance: 84.92%<br>Model ID: 1977<br>Accuracy: 86.89%<br>Precision: 87.4%<br>Recall: 86.89%<br>ROC AUC: 86.26<br>Geometric Mean: 86.25<br>Matthews Correlation: 73.97<br>F1: 86.76<br>Average Probability: 75.89",
          "Logistic Regression<br>Performance: 83.0%<br>Model ID: meta_8<br>Accuracy: 85.25%<br>Precision: 85.48%<br>Recall: 85.25%<br>ROC AUC: 84.74<br>Geometric Mean: 84.74<br>Matthews Correlation: 70.4<br>F1: 85.15<br>Average Probability: 75.31"
         ],
         "marker": {
          "color": [
           84.92,
           84.92,
           84.92,
           84.92,
           84.92,
           83
          ],
          "coloraxis": "coloraxis",
          "line": {
           "color": "Black",
           "width": 1
          },
          "opacity": [
           0.7,
           0.7,
           0.7,
           0.7,
           0.7,
           0.7
          ],
          "size": [
           20,
           20,
           20,
           20,
           20,
           40
          ],
          "symbol": [
           "diamond",
           "diamond",
           "diamond",
           "diamond",
           "diamond",
           "diamond"
          ]
         },
         "mode": "markers",
         "name": "Logistic Regression",
         "type": "scatter",
         "x": [
          0.31019923090934753,
          -0.38872307538986206,
          -0.839361310005188,
          -1.3105559349060059,
          -0.48502808809280396,
          6.041418552398682
         ],
         "y": [
          -2.9822046756744385,
          -3.2725555896759033,
          -2.65051531791687,
          -3.6651408672332764,
          -3.9819273948669434,
          -5.495448589324951
         ]
        },
        {
         "hovertext": [
          "Linear Discriminant Analysis<br>Performance: 84.92%<br>Model ID: 1998<br>Accuracy: 86.89%<br>Precision: 87.4%<br>Recall: 86.89%<br>ROC AUC: 86.26<br>Geometric Mean: 86.25<br>Matthews Correlation: 73.97<br>F1: 86.76<br>Average Probability: 77.23",
          "Linear Discriminant Analysis<br>Performance: 84.92%<br>Model ID: 1997<br>Accuracy: 86.89%<br>Precision: 87.4%<br>Recall: 86.89%<br>ROC AUC: 86.26<br>Geometric Mean: 86.25<br>Matthews Correlation: 73.97<br>F1: 86.76<br>Average Probability: 77.23",
          "Linear Discriminant Analysis<br>Performance: 81.12%<br>Model ID: meta_4<br>Accuracy: 83.61%<br>Precision: 83.66%<br>Recall: 83.61%<br>ROC AUC: 83.23<br>Geometric Mean: 83.22<br>Matthews Correlation: 66.96<br>F1: 83.54<br>Average Probability: 78.86"
         ],
         "marker": {
          "color": [
           84.92,
           84.92,
           81.12
          ],
          "coloraxis": "coloraxis",
          "line": {
           "color": "Black",
           "width": 1
          },
          "opacity": [
           0.7,
           0.7,
           0.8
          ],
          "size": [
           20,
           20,
           40
          ],
          "symbol": [
           "star",
           "star",
           "star"
          ]
         },
         "mode": "markers",
         "name": "Linear Discriminant Analysis",
         "type": "scatter",
         "x": [
          -1.7692174911499023,
          -1.8340429067611694,
          5.130557060241699
         ],
         "y": [
          -2.5790934562683105,
          -3.2499728202819824,
          -5.400990962982178
         ]
        },
        {
         "hovertext": [
          "Quadratic Discriminant Analysis<br>Performance: 83.0%<br>Model ID: meta_5<br>Accuracy: 85.25%<br>Precision: 85.48%<br>Recall: 85.25%<br>ROC AUC: 84.74<br>Geometric Mean: 84.74<br>Matthews Correlation: 70.4<br>F1: 85.15<br>Average Probability: 77.07"
         ],
         "marker": {
          "color": [
           83
          ],
          "coloraxis": "coloraxis",
          "line": {
           "color": "Black",
           "width": 1
          },
          "opacity": [
           0.7
          ],
          "size": [
           40
          ],
          "symbol": [
           "hexagram"
          ]
         },
         "mode": "markers",
         "name": "Quadratic Discriminant Analysis",
         "type": "scatter",
         "x": [
          5.665818691253662
         ],
         "y": [
          -4.6174516677856445
         ]
        },
        {
         "hovertext": [
          "Random Forest<br>Performance: 85.12%<br>Model ID: meta_3<br>Accuracy: 86.89%<br>Precision: 87.11%<br>Recall: 86.89%<br>ROC AUC: 87.07<br>Geometric Mean: 87.07<br>Matthews Correlation: 73.89<br>F1: 86.91<br>Average Probability: 77.17"
         ],
         "marker": {
          "color": [
           85.12
          ],
          "coloraxis": "coloraxis",
          "line": {
           "color": "Black",
           "width": 1
          },
          "opacity": [
           0.7
          ],
          "size": [
           40
          ],
          "symbol": [
           "triangle-right"
          ]
         },
         "mode": "markers",
         "name": "Random Forest",
         "type": "scatter",
         "x": [
          2.762437105178833
         ],
         "y": [
          -4.42073392868042
         ]
        },
        {
         "hovertext": [
          "Extra Trees<br>Performance: 86.8%<br>Model ID: meta_2<br>Accuracy: 88.52%<br>Precision: 88.54%<br>Recall: 88.52%<br>ROC AUC: 88.31<br>Geometric Mean: 88.31<br>Matthews Correlation: 76.87<br>F1: 88.51<br>Average Probability: 76.61"
         ],
         "marker": {
          "color": [
           86.8
          ],
          "coloraxis": "coloraxis",
          "line": {
           "color": "Black",
           "width": 1
          },
          "opacity": [
           0.7
          ],
          "size": [
           40
          ],
          "symbol": [
           "triangle-left"
          ]
         },
         "mode": "markers",
         "name": "Extra Trees",
         "type": "scatter",
         "x": [
          3.3199527263641357
         ],
         "y": [
          -3.9591009616851807
         ]
        },
        {
         "hovertext": [
          "Adaptive Boosting<br>Performance: 84.9%<br>Model ID: meta_11<br>Accuracy: 86.89%<br>Precision: 86.98%<br>Recall: 86.89%<br>ROC AUC: 86.53<br>Geometric Mean: 86.53<br>Matthews Correlation: 73.61<br>F1: 86.84<br>Average Probability: 61.65"
         ],
         "marker": {
          "color": [
           84.9
          ],
          "coloraxis": "coloraxis",
          "line": {
           "color": "Black",
           "width": 1
          },
          "opacity": [
           0.2
          ],
          "size": [
           40
          ],
          "symbol": [
           "triangle-down"
          ]
         },
         "mode": "markers",
         "name": "Adaptive Boosting",
         "type": "scatter",
         "x": [
          8.203840255737305
         ],
         "y": [
          -4.613164901733398
         ]
        },
        {
         "hovertext": [
          "Gradient Boosting<br>Performance: 73.57%<br>Model ID: meta_10<br>Accuracy: 77.05%<br>Precision: 77.04%<br>Recall: 77.05%<br>ROC AUC: 76.62<br>Geometric Mean: 76.62<br>Matthews Correlation: 53.65<br>F1: 76.96<br>Average Probability: 75.64"
         ],
         "marker": {
          "color": [
           73.57
          ],
          "coloraxis": "coloraxis",
          "line": {
           "color": "Black",
           "width": 1
          },
          "opacity": [
           0.7
          ],
          "size": [
           40
          ],
          "symbol": [
           "triangle-up"
          ]
         },
         "mode": "markers",
         "name": "Gradient Boosting",
         "type": "scatter",
         "x": [
          1.6692564487457275
         ],
         "y": [
          -4.016110897064209
         ]
        },
        {
         "hovertext": [
          "K-Nearest Neighbor<br>Performance: 83.03%<br>Model ID: meta_6<br>Accuracy: 85.25%<br>Precision: 85.24%<br>Recall: 85.25%<br>ROC AUC: 85.01<br>Geometric Mean: 85.01<br>Matthews Correlation: 70.25<br>F1: 85.22<br>Average Probability: 77.01"
         ],
         "marker": {
          "color": [
           83.03
          ],
          "coloraxis": "coloraxis",
          "line": {
           "color": "Black",
           "width": 1
          },
          "opacity": [
           0.7
          ],
          "size": [
           40
          ],
          "symbol": [
           "circle"
          ]
         },
         "mode": "markers",
         "name": "K-Nearest Neighbor",
         "type": "scatter",
         "x": [
          11.058296203613281
         ],
         "y": [
          24.991989135742188
         ]
        },
        {
         "hovertext": [
          "Support Vector Machine<br>Performance: 83.03%<br>Model ID: 614<br>Accuracy: 85.25%<br>Precision: 85.24%<br>Recall: 85.25%<br>ROC AUC: 85.01<br>Geometric Mean: 85.01<br>Matthews Correlation: 70.25<br>F1: 85.22<br>Average Probability: 73.24",
          "Support Vector Machine<br>Performance: 83.03%<br>Model ID: 606<br>Accuracy: 85.25%<br>Precision: 85.24%<br>Recall: 85.25%<br>ROC AUC: 85.01<br>Geometric Mean: 85.01<br>Matthews Correlation: 70.25<br>F1: 85.22<br>Average Probability: 73.34",
          "Support Vector Machine<br>Performance: 83.03%<br>Model ID: 586<br>Accuracy: 85.25%<br>Precision: 85.24%<br>Recall: 85.25%<br>ROC AUC: 85.01<br>Geometric Mean: 85.01<br>Matthews Correlation: 70.25<br>F1: 85.22<br>Average Probability: 73.99",
          "Support Vector Machine<br>Performance: 83.03%<br>Model ID: 598<br>Accuracy: 85.25%<br>Precision: 85.24%<br>Recall: 85.25%<br>ROC AUC: 85.01<br>Geometric Mean: 85.01<br>Matthews Correlation: 70.25<br>F1: 85.22<br>Average Probability: 73.62",
          "Support Vector Machine<br>Performance: 83.03%<br>Model ID: 610<br>Accuracy: 85.25%<br>Precision: 85.24%<br>Recall: 85.25%<br>ROC AUC: 85.01<br>Geometric Mean: 85.01<br>Matthews Correlation: 70.25<br>F1: 85.22<br>Average Probability: 73.21",
          "Support Vector Machine<br>Performance: 84.92%<br>Model ID: meta_7<br>Accuracy: 86.89%<br>Precision: 87.4%<br>Recall: 86.89%<br>ROC AUC: 86.26<br>Geometric Mean: 86.25<br>Matthews Correlation: 73.97<br>F1: 86.76<br>Average Probability: 74.99"
         ],
         "marker": {
          "color": [
           83.03,
           83.03,
           83.03,
           83.03,
           83.03,
           84.92
          ],
          "coloraxis": "coloraxis",
          "line": {
           "color": "Black",
           "width": 1
          },
          "opacity": [
           0.6,
           0.6,
           0.6,
           0.6,
           0.6,
           0.7
          ],
          "size": [
           20,
           20,
           20,
           20,
           20,
           40
          ],
          "symbol": [
           "square",
           "square",
           "square",
           "square",
           "square",
           "square"
          ]
         },
         "mode": "markers",
         "name": "Support Vector Machine",
         "type": "scatter",
         "x": [
          6.449690818786621,
          6.925042152404785,
          7.736152648925781,
          7.388700008392334,
          6.940866947174072,
          10.144157409667969
         ],
         "y": [
          22.009929656982422,
          22.637327194213867,
          21.535350799560547,
          22.097026824951172,
          21.349885940551758,
          23.511146545410156
         ]
        },
        {
         "hovertext": [
          "Gaussian Naive Bayes<br>Performance: 83.0%<br>Model ID: meta_1<br>Accuracy: 85.25%<br>Precision: 85.48%<br>Recall: 85.25%<br>ROC AUC: 84.74<br>Geometric Mean: 84.74<br>Matthews Correlation: 70.4<br>F1: 85.15<br>Average Probability: 85.08"
         ],
         "marker": {
          "color": [
           83
          ],
          "coloraxis": "coloraxis",
          "line": {
           "color": "Black",
           "width": 1
          },
          "opacity": [
           1
          ],
          "size": [
           40
          ],
          "symbol": [
           "x"
          ]
         },
         "mode": "markers",
         "name": "Gaussian Naive Bayes",
         "type": "scatter",
         "x": [
          10.943338394165039
         ],
         "y": [
          23.825252532958984
         ]
        },
        {
         "hovertext": [
          "Multilayer Perceptron<br>Performance: 84.92%<br>Model ID: meta_9<br>Accuracy: 86.89%<br>Precision: 87.4%<br>Recall: 86.89%<br>ROC AUC: 86.26<br>Geometric Mean: 86.25<br>Matthews Correlation: 73.97<br>F1: 86.76<br>Average Probability: 72.95"
         ],
         "marker": {
          "color": [
           84.92
          ],
          "coloraxis": "coloraxis",
          "line": {
           "color": "Black",
           "width": 1
          },
          "opacity": [
           0.6
          ],
          "size": [
           40
          ],
          "symbol": [
           "cross"
          ]
         },
         "mode": "markers",
         "name": "Multilayer Perceptron",
         "type": "scatter",
         "x": [
          9.264002799987793
         ],
         "y": [
          23.646047592163086
         ]
        },
        {
         "hovertext": [
          "Logistic Regression<br>Performance: 84.92%<br>Model ID: 1453<br>Accuracy: 86.89%<br>Precision: 87.4%<br>Recall: 86.89%<br>ROC AUC: 86.26<br>Geometric Mean: 86.25<br>Matthews Correlation: 73.97<br>F1: 86.76<br>Average Probability: 75.28",
          "Logistic Regression<br>Performance: 84.92%<br>Model ID: 1973<br>Accuracy: 86.89%<br>Precision: 87.4%<br>Recall: 86.89%<br>ROC AUC: 86.26<br>Geometric Mean: 86.25<br>Matthews Correlation: 73.97<br>F1: 86.76<br>Average Probability: 75.68",
          "Logistic Regression<br>Performance: 84.92%<br>Model ID: 1945<br>Accuracy: 86.89%<br>Precision: 87.4%<br>Recall: 86.89%<br>ROC AUC: 86.26<br>Geometric Mean: 86.25<br>Matthews Correlation: 73.97<br>F1: 86.76<br>Average Probability: 75.89",
          "Logistic Regression<br>Performance: 84.92%<br>Model ID: 1721<br>Accuracy: 86.89%<br>Precision: 87.4%<br>Recall: 86.89%<br>ROC AUC: 86.26<br>Geometric Mean: 86.25<br>Matthews Correlation: 73.97<br>F1: 86.76<br>Average Probability: 75.89",
          "Logistic Regression<br>Performance: 84.92%<br>Model ID: 1977<br>Accuracy: 86.89%<br>Precision: 87.4%<br>Recall: 86.89%<br>ROC AUC: 86.26<br>Geometric Mean: 86.25<br>Matthews Correlation: 73.97<br>F1: 86.76<br>Average Probability: 75.89",
          "Logistic Regression<br>Performance: 83.0%<br>Model ID: meta_8<br>Accuracy: 85.25%<br>Precision: 85.48%<br>Recall: 85.25%<br>ROC AUC: 84.74<br>Geometric Mean: 84.74<br>Matthews Correlation: 70.4<br>F1: 85.15<br>Average Probability: 75.31"
         ],
         "marker": {
          "color": [
           84.92,
           84.92,
           84.92,
           84.92,
           84.92,
           83
          ],
          "coloraxis": "coloraxis",
          "line": {
           "color": "Black",
           "width": 1
          },
          "opacity": [
           0.7,
           0.7,
           0.7,
           0.7,
           0.7,
           0.7
          ],
          "size": [
           20,
           20,
           20,
           20,
           20,
           40
          ],
          "symbol": [
           "diamond",
           "diamond",
           "diamond",
           "diamond",
           "diamond",
           "diamond"
          ]
         },
         "mode": "markers",
         "name": "Logistic Regression",
         "type": "scatter",
         "x": [
          12.22518539428711,
          11.57369613647461,
          11.017300605773926,
          11.438161849975586,
          10.618522644042969,
          9.736181259155273
         ],
         "y": [
          29.197113037109375,
          29.892377853393555,
          29.426124572753906,
          28.88430404663086,
          28.800010681152344,
          24.65705680847168
         ]
        },
        {
         "hovertext": [
          "Linear Discriminant Analysis<br>Performance: 84.92%<br>Model ID: 1998<br>Accuracy: 86.89%<br>Precision: 87.4%<br>Recall: 86.89%<br>ROC AUC: 86.26<br>Geometric Mean: 86.25<br>Matthews Correlation: 73.97<br>F1: 86.76<br>Average Probability: 77.23",
          "Linear Discriminant Analysis<br>Performance: 84.92%<br>Model ID: 1997<br>Accuracy: 86.89%<br>Precision: 87.4%<br>Recall: 86.89%<br>ROC AUC: 86.26<br>Geometric Mean: 86.25<br>Matthews Correlation: 73.97<br>F1: 86.76<br>Average Probability: 77.23",
          "Linear Discriminant Analysis<br>Performance: 81.12%<br>Model ID: meta_4<br>Accuracy: 83.61%<br>Precision: 83.66%<br>Recall: 83.61%<br>ROC AUC: 83.23<br>Geometric Mean: 83.22<br>Matthews Correlation: 66.96<br>F1: 83.54<br>Average Probability: 78.86"
         ],
         "marker": {
          "color": [
           84.92,
           84.92,
           81.12
          ],
          "coloraxis": "coloraxis",
          "line": {
           "color": "Black",
           "width": 1
          },
          "opacity": [
           0.7,
           0.7,
           0.8
          ],
          "size": [
           20,
           20,
           40
          ],
          "symbol": [
           "star",
           "star",
           "star"
          ]
         },
         "mode": "markers",
         "name": "Linear Discriminant Analysis",
         "type": "scatter",
         "x": [
          11.4559907913208,
          10.586585998535156,
          10.194180488586426
         ],
         "y": [
          28.062623977661133,
          28.160547256469727,
          25.668651580810547
         ]
        },
        {
         "hovertext": [
          "Quadratic Discriminant Analysis<br>Performance: 83.0%<br>Model ID: meta_5<br>Accuracy: 85.25%<br>Precision: 85.48%<br>Recall: 85.25%<br>ROC AUC: 84.74<br>Geometric Mean: 84.74<br>Matthews Correlation: 70.4<br>F1: 85.15<br>Average Probability: 77.07"
         ],
         "marker": {
          "color": [
           83
          ],
          "coloraxis": "coloraxis",
          "line": {
           "color": "Black",
           "width": 1
          },
          "opacity": [
           0.7
          ],
          "size": [
           40
          ],
          "symbol": [
           "hexagram"
          ]
         },
         "mode": "markers",
         "name": "Quadratic Discriminant Analysis",
         "type": "scatter",
         "x": [
          10.441811561584473
         ],
         "y": [
          24.49257469177246
         ]
        },
        {
         "hovertext": [
          "Random Forest<br>Performance: 85.12%<br>Model ID: meta_3<br>Accuracy: 86.89%<br>Precision: 87.11%<br>Recall: 86.89%<br>ROC AUC: 87.07<br>Geometric Mean: 87.07<br>Matthews Correlation: 73.89<br>F1: 86.91<br>Average Probability: 77.17"
         ],
         "marker": {
          "color": [
           85.12
          ],
          "coloraxis": "coloraxis",
          "line": {
           "color": "Black",
           "width": 1
          },
          "opacity": [
           0.7
          ],
          "size": [
           40
          ],
          "symbol": [
           "triangle-right"
          ]
         },
         "mode": "markers",
         "name": "Random Forest",
         "type": "scatter",
         "x": [
          11.519457817077637
         ],
         "y": [
          25.985652923583984
         ]
        },
        {
         "hovertext": [
          "Extra Trees<br>Performance: 86.8%<br>Model ID: meta_2<br>Accuracy: 88.52%<br>Precision: 88.54%<br>Recall: 88.52%<br>ROC AUC: 88.31<br>Geometric Mean: 88.31<br>Matthews Correlation: 76.87<br>F1: 88.51<br>Average Probability: 76.61"
         ],
         "marker": {
          "color": [
           86.8
          ],
          "coloraxis": "coloraxis",
          "line": {
           "color": "Black",
           "width": 1
          },
          "opacity": [
           0.7
          ],
          "size": [
           40
          ],
          "symbol": [
           "triangle-left"
          ]
         },
         "mode": "markers",
         "name": "Extra Trees",
         "type": "scatter",
         "x": [
          12.132165908813477
         ],
         "y": [
          25.808176040649414
         ]
        },
        {
         "hovertext": [
          "Adaptive Boosting<br>Performance: 84.9%<br>Model ID: meta_11<br>Accuracy: 86.89%<br>Precision: 86.98%<br>Recall: 86.89%<br>ROC AUC: 86.53<br>Geometric Mean: 86.53<br>Matthews Correlation: 73.61<br>F1: 86.84<br>Average Probability: 61.65"
         ],
         "marker": {
          "color": [
           84.9
          ],
          "coloraxis": "coloraxis",
          "line": {
           "color": "Black",
           "width": 1
          },
          "opacity": [
           0.2
          ],
          "size": [
           40
          ],
          "symbol": [
           "triangle-down"
          ]
         },
         "mode": "markers",
         "name": "Adaptive Boosting",
         "type": "scatter",
         "x": [
          8.383302688598633
         ],
         "y": [
          22.878129959106445
         ]
        },
        {
         "hovertext": [
          "Gradient Boosting<br>Performance: 73.57%<br>Model ID: meta_10<br>Accuracy: 77.05%<br>Precision: 77.04%<br>Recall: 77.05%<br>ROC AUC: 76.62<br>Geometric Mean: 76.62<br>Matthews Correlation: 53.65<br>F1: 76.96<br>Average Probability: 75.64"
         ],
         "marker": {
          "color": [
           73.57
          ],
          "coloraxis": "coloraxis",
          "line": {
           "color": "Black",
           "width": 1
          },
          "opacity": [
           0.7
          ],
          "size": [
           40
          ],
          "symbol": [
           "triangle-up"
          ]
         },
         "mode": "markers",
         "name": "Gradient Boosting",
         "type": "scatter",
         "x": [
          11.94117546081543
         ],
         "y": [
          27.04175567626953
         ]
        },
        {
         "hovertext": [
          "K-Nearest Neighbor<br>Performance: 83.03%<br>Model ID: meta_6<br>Accuracy: 85.25%<br>Precision: 85.24%<br>Recall: 85.25%<br>ROC AUC: 85.01<br>Geometric Mean: 85.01<br>Matthews Correlation: 70.25<br>F1: 85.22<br>Average Probability: 77.01"
         ],
         "marker": {
          "color": [
           83.03
          ],
          "coloraxis": "coloraxis",
          "line": {
           "color": "Black",
           "width": 1
          },
          "opacity": [
           0.7
          ],
          "size": [
           40
          ],
          "symbol": [
           "circle"
          ]
         },
         "mode": "markers",
         "name": "K-Nearest Neighbor",
         "type": "scatter",
         "x": [
          -9.325078964233398
         ],
         "y": [
          -1.6229033470153809
         ]
        },
        {
         "hovertext": [
          "Support Vector Machine<br>Performance: 83.03%<br>Model ID: 614<br>Accuracy: 85.25%<br>Precision: 85.24%<br>Recall: 85.25%<br>ROC AUC: 85.01<br>Geometric Mean: 85.01<br>Matthews Correlation: 70.25<br>F1: 85.22<br>Average Probability: 73.24",
          "Support Vector Machine<br>Performance: 83.03%<br>Model ID: 606<br>Accuracy: 85.25%<br>Precision: 85.24%<br>Recall: 85.25%<br>ROC AUC: 85.01<br>Geometric Mean: 85.01<br>Matthews Correlation: 70.25<br>F1: 85.22<br>Average Probability: 73.34",
          "Support Vector Machine<br>Performance: 83.03%<br>Model ID: 586<br>Accuracy: 85.25%<br>Precision: 85.24%<br>Recall: 85.25%<br>ROC AUC: 85.01<br>Geometric Mean: 85.01<br>Matthews Correlation: 70.25<br>F1: 85.22<br>Average Probability: 73.99",
          "Support Vector Machine<br>Performance: 83.03%<br>Model ID: 598<br>Accuracy: 85.25%<br>Precision: 85.24%<br>Recall: 85.25%<br>ROC AUC: 85.01<br>Geometric Mean: 85.01<br>Matthews Correlation: 70.25<br>F1: 85.22<br>Average Probability: 73.62",
          "Support Vector Machine<br>Performance: 83.03%<br>Model ID: 610<br>Accuracy: 85.25%<br>Precision: 85.24%<br>Recall: 85.25%<br>ROC AUC: 85.01<br>Geometric Mean: 85.01<br>Matthews Correlation: 70.25<br>F1: 85.22<br>Average Probability: 73.21",
          "Support Vector Machine<br>Performance: 84.92%<br>Model ID: meta_7<br>Accuracy: 86.89%<br>Precision: 87.4%<br>Recall: 86.89%<br>ROC AUC: 86.26<br>Geometric Mean: 86.25<br>Matthews Correlation: 73.97<br>F1: 86.76<br>Average Probability: 74.99"
         ],
         "marker": {
          "color": [
           83.03,
           83.03,
           83.03,
           83.03,
           83.03,
           84.92
          ],
          "coloraxis": "coloraxis",
          "line": {
           "color": "Black",
           "width": 1
          },
          "opacity": [
           0.6,
           0.6,
           0.6,
           0.6,
           0.6,
           0.7
          ],
          "size": [
           20,
           20,
           20,
           20,
           20,
           40
          ],
          "symbol": [
           "square",
           "square",
           "square",
           "square",
           "square",
           "square"
          ]
         },
         "mode": "markers",
         "name": "Support Vector Machine",
         "type": "scatter",
         "x": [
          -14.35665512084961,
          -13.613109588623047,
          -14.084657669067383,
          -13.192264556884766,
          -13.807284355163574,
          -10.792871475219727
         ],
         "y": [
          -1.8154515027999878,
          -1.6582340002059937,
          -3.030193328857422,
          -2.7884249687194824,
          -2.3199615478515625,
          -1.3311212062835693
         ]
        },
        {
         "hovertext": [
          "Gaussian Naive Bayes<br>Performance: 83.0%<br>Model ID: meta_1<br>Accuracy: 85.25%<br>Precision: 85.48%<br>Recall: 85.25%<br>ROC AUC: 84.74<br>Geometric Mean: 84.74<br>Matthews Correlation: 70.4<br>F1: 85.15<br>Average Probability: 85.08"
         ],
         "marker": {
          "color": [
           83
          ],
          "coloraxis": "coloraxis",
          "line": {
           "color": "Black",
           "width": 1
          },
          "opacity": [
           1
          ],
          "size": [
           40
          ],
          "symbol": [
           "x"
          ]
         },
         "mode": "markers",
         "name": "Gaussian Naive Bayes",
         "type": "scatter",
         "x": [
          -10.092023849487305
         ],
         "y": [
          -1.2691668272018433
         ]
        },
        {
         "hovertext": [
          "Multilayer Perceptron<br>Performance: 84.92%<br>Model ID: meta_9<br>Accuracy: 86.89%<br>Precision: 87.4%<br>Recall: 86.89%<br>ROC AUC: 86.26<br>Geometric Mean: 86.25<br>Matthews Correlation: 73.97<br>F1: 86.76<br>Average Probability: 72.95"
         ],
         "marker": {
          "color": [
           84.92
          ],
          "coloraxis": "coloraxis",
          "line": {
           "color": "Black",
           "width": 1
          },
          "opacity": [
           0.6
          ],
          "size": [
           40
          ],
          "symbol": [
           "cross"
          ]
         },
         "mode": "markers",
         "name": "Multilayer Perceptron",
         "type": "scatter",
         "x": [
          -11.340182304382324
         ],
         "y": [
          -2.0034587383270264
         ]
        },
        {
         "hovertext": [
          "Logistic Regression<br>Performance: 84.92%<br>Model ID: 1453<br>Accuracy: 86.89%<br>Precision: 87.4%<br>Recall: 86.89%<br>ROC AUC: 86.26<br>Geometric Mean: 86.25<br>Matthews Correlation: 73.97<br>F1: 86.76<br>Average Probability: 75.28",
          "Logistic Regression<br>Performance: 84.92%<br>Model ID: 1973<br>Accuracy: 86.89%<br>Precision: 87.4%<br>Recall: 86.89%<br>ROC AUC: 86.26<br>Geometric Mean: 86.25<br>Matthews Correlation: 73.97<br>F1: 86.76<br>Average Probability: 75.68",
          "Logistic Regression<br>Performance: 84.92%<br>Model ID: 1945<br>Accuracy: 86.89%<br>Precision: 87.4%<br>Recall: 86.89%<br>ROC AUC: 86.26<br>Geometric Mean: 86.25<br>Matthews Correlation: 73.97<br>F1: 86.76<br>Average Probability: 75.89",
          "Logistic Regression<br>Performance: 84.92%<br>Model ID: 1721<br>Accuracy: 86.89%<br>Precision: 87.4%<br>Recall: 86.89%<br>ROC AUC: 86.26<br>Geometric Mean: 86.25<br>Matthews Correlation: 73.97<br>F1: 86.76<br>Average Probability: 75.89",
          "Logistic Regression<br>Performance: 84.92%<br>Model ID: 1977<br>Accuracy: 86.89%<br>Precision: 87.4%<br>Recall: 86.89%<br>ROC AUC: 86.26<br>Geometric Mean: 86.25<br>Matthews Correlation: 73.97<br>F1: 86.76<br>Average Probability: 75.89",
          "Logistic Regression<br>Performance: 83.0%<br>Model ID: meta_8<br>Accuracy: 85.25%<br>Precision: 85.48%<br>Recall: 85.25%<br>ROC AUC: 84.74<br>Geometric Mean: 84.74<br>Matthews Correlation: 70.4<br>F1: 85.15<br>Average Probability: 75.31"
         ],
         "marker": {
          "color": [
           84.92,
           84.92,
           84.92,
           84.92,
           84.92,
           83
          ],
          "coloraxis": "coloraxis",
          "line": {
           "color": "Black",
           "width": 1
          },
          "opacity": [
           0.7,
           0.7,
           0.7,
           0.7,
           0.7,
           0.7
          ],
          "size": [
           20,
           20,
           20,
           20,
           20,
           40
          ],
          "symbol": [
           "diamond",
           "diamond",
           "diamond",
           "diamond",
           "diamond",
           "diamond"
          ]
         },
         "mode": "markers",
         "name": "Logistic Regression",
         "type": "scatter",
         "x": [
          -5.720597743988037,
          -5.203202247619629,
          -5.885242938995361,
          -5.986475467681885,
          -6.689779758453369,
          -10.157954216003418
         ],
         "y": [
          -1.0275685787200928,
          -0.28527241945266724,
          0.4712652862071991,
          -0.20945143699645996,
          -0.34196269512176514,
          -2.191525936126709
         ]
        },
        {
         "hovertext": [
          "Linear Discriminant Analysis<br>Performance: 84.92%<br>Model ID: 1998<br>Accuracy: 86.89%<br>Precision: 87.4%<br>Recall: 86.89%<br>ROC AUC: 86.26<br>Geometric Mean: 86.25<br>Matthews Correlation: 73.97<br>F1: 86.76<br>Average Probability: 77.23",
          "Linear Discriminant Analysis<br>Performance: 84.92%<br>Model ID: 1997<br>Accuracy: 86.89%<br>Precision: 87.4%<br>Recall: 86.89%<br>ROC AUC: 86.26<br>Geometric Mean: 86.25<br>Matthews Correlation: 73.97<br>F1: 86.76<br>Average Probability: 77.23",
          "Linear Discriminant Analysis<br>Performance: 81.12%<br>Model ID: meta_4<br>Accuracy: 83.61%<br>Precision: 83.66%<br>Recall: 83.61%<br>ROC AUC: 83.23<br>Geometric Mean: 83.22<br>Matthews Correlation: 66.96<br>F1: 83.54<br>Average Probability: 78.86"
         ],
         "marker": {
          "color": [
           84.92,
           84.92,
           81.12
          ],
          "coloraxis": "coloraxis",
          "line": {
           "color": "Black",
           "width": 1
          },
          "opacity": [
           0.7,
           0.7,
           0.8
          ],
          "size": [
           20,
           20,
           40
          ],
          "symbol": [
           "star",
           "star",
           "star"
          ]
         },
         "mode": "markers",
         "name": "Linear Discriminant Analysis",
         "type": "scatter",
         "x": [
          -6.567385673522949,
          -7.282739162445068,
          -9.150630950927734
         ],
         "y": [
          0.6100679636001587,
          0.3058764934539795,
          -0.40171635150909424
         ]
        },
        {
         "hovertext": [
          "Quadratic Discriminant Analysis<br>Performance: 83.0%<br>Model ID: meta_5<br>Accuracy: 85.25%<br>Precision: 85.48%<br>Recall: 85.25%<br>ROC AUC: 84.74<br>Geometric Mean: 84.74<br>Matthews Correlation: 70.4<br>F1: 85.15<br>Average Probability: 77.07"
         ],
         "marker": {
          "color": [
           83
          ],
          "coloraxis": "coloraxis",
          "line": {
           "color": "Black",
           "width": 1
          },
          "opacity": [
           0.7
          ],
          "size": [
           40
          ],
          "symbol": [
           "hexagram"
          ]
         },
         "mode": "markers",
         "name": "Quadratic Discriminant Analysis",
         "type": "scatter",
         "x": [
          -9.919145584106445
         ],
         "y": [
          -0.5464175343513489
         ]
        },
        {
         "hovertext": [
          "Random Forest<br>Performance: 85.12%<br>Model ID: meta_3<br>Accuracy: 86.89%<br>Precision: 87.11%<br>Recall: 86.89%<br>ROC AUC: 87.07<br>Geometric Mean: 87.07<br>Matthews Correlation: 73.89<br>F1: 86.91<br>Average Probability: 77.17"
         ],
         "marker": {
          "color": [
           85.12
          ],
          "coloraxis": "coloraxis",
          "line": {
           "color": "Black",
           "width": 1
          },
          "opacity": [
           0.7
          ],
          "size": [
           40
          ],
          "symbol": [
           "triangle-right"
          ]
         },
         "mode": "markers",
         "name": "Random Forest",
         "type": "scatter",
         "x": [
          -8.14684009552002
         ],
         "y": [
          -1.9372889995574951
         ]
        },
        {
         "hovertext": [
          "Extra Trees<br>Performance: 86.8%<br>Model ID: meta_2<br>Accuracy: 88.52%<br>Precision: 88.54%<br>Recall: 88.52%<br>ROC AUC: 88.31<br>Geometric Mean: 88.31<br>Matthews Correlation: 76.87<br>F1: 88.51<br>Average Probability: 76.61"
         ],
         "marker": {
          "color": [
           86.8
          ],
          "coloraxis": "coloraxis",
          "line": {
           "color": "Black",
           "width": 1
          },
          "opacity": [
           0.7
          ],
          "size": [
           40
          ],
          "symbol": [
           "triangle-left"
          ]
         },
         "mode": "markers",
         "name": "Extra Trees",
         "type": "scatter",
         "x": [
          -7.89939022064209
         ],
         "y": [
          -1.2234152555465698
         ]
        },
        {
         "hovertext": [
          "Adaptive Boosting<br>Performance: 84.9%<br>Model ID: meta_11<br>Accuracy: 86.89%<br>Precision: 86.98%<br>Recall: 86.89%<br>ROC AUC: 86.53<br>Geometric Mean: 86.53<br>Matthews Correlation: 73.61<br>F1: 86.84<br>Average Probability: 61.65"
         ],
         "marker": {
          "color": [
           84.9
          ],
          "coloraxis": "coloraxis",
          "line": {
           "color": "Black",
           "width": 1
          },
          "opacity": [
           0.2
          ],
          "size": [
           40
          ],
          "symbol": [
           "triangle-down"
          ]
         },
         "mode": "markers",
         "name": "Adaptive Boosting",
         "type": "scatter",
         "x": [
          -12.458794593811035
         ],
         "y": [
          -1.886185884475708
         ]
        },
        {
         "hovertext": [
          "Gradient Boosting<br>Performance: 73.57%<br>Model ID: meta_10<br>Accuracy: 77.05%<br>Precision: 77.04%<br>Recall: 77.05%<br>ROC AUC: 76.62<br>Geometric Mean: 76.62<br>Matthews Correlation: 53.65<br>F1: 76.96<br>Average Probability: 75.64"
         ],
         "marker": {
          "color": [
           73.57
          ],
          "coloraxis": "coloraxis",
          "line": {
           "color": "Black",
           "width": 1
          },
          "opacity": [
           0.7
          ],
          "size": [
           40
          ],
          "symbol": [
           "triangle-up"
          ]
         },
         "mode": "markers",
         "name": "Gradient Boosting",
         "type": "scatter",
         "x": [
          -6.8874406814575195
         ],
         "y": [
          -1.776235818862915
         ]
        }
       ],
       "layout": {
        "coloraxis": {
         "cmax": 90,
         "cmin": 70,
         "colorbar": {
          "title": {
           "side": "right",
           "text": "Metric-Based Performance"
          }
         },
         "colorscale": [
          [
           0,
           "#440154"
          ],
          [
           0.1111111111111111,
           "#482878"
          ],
          [
           0.2222222222222222,
           "#3e4989"
          ],
          [
           0.3333333333333333,
           "#31688e"
          ],
          [
           0.4444444444444444,
           "#26828e"
          ],
          [
           0.5555555555555556,
           "#1f9e89"
          ],
          [
           0.6666666666666666,
           "#35b779"
          ],
          [
           0.7777777777777778,
           "#6ece58"
          ],
          [
           0.8888888888888888,
           "#b5de2b"
          ],
          [
           1,
           "#fde725"
          ]
         ]
        },
        "height": 800,
        "hoverlabel": {
         "bgcolor": "white",
         "font": {
          "family": "Rockwell",
          "size": 14
         }
        },
        "hovermode": "closest",
        "legend": {
         "title": {
          "text": "Algorithm"
         },
         "traceorder": "normal",
         "x": -0.4,
         "y": 1
        },
        "margin": {
         "b": 0,
         "l": 0,
         "r": 0,
         "t": 0
        },
        "paper_bgcolor": "rgba(0,0,0,0)",
        "plot_bgcolor": "rgba(0,0,0,0)",
        "showlegend": true,
        "template": {
         "data": {
          "bar": [
           {
            "error_x": {
             "color": "#2a3f5f"
            },
            "error_y": {
             "color": "#2a3f5f"
            },
            "marker": {
             "line": {
              "color": "#E5ECF6",
              "width": 0.5
             },
             "pattern": {
              "fillmode": "overlay",
              "size": 10,
              "solidity": 0.2
             }
            },
            "type": "bar"
           }
          ],
          "barpolar": [
           {
            "marker": {
             "line": {
              "color": "#E5ECF6",
              "width": 0.5
             },
             "pattern": {
              "fillmode": "overlay",
              "size": 10,
              "solidity": 0.2
             }
            },
            "type": "barpolar"
           }
          ],
          "carpet": [
           {
            "aaxis": {
             "endlinecolor": "#2a3f5f",
             "gridcolor": "white",
             "linecolor": "white",
             "minorgridcolor": "white",
             "startlinecolor": "#2a3f5f"
            },
            "baxis": {
             "endlinecolor": "#2a3f5f",
             "gridcolor": "white",
             "linecolor": "white",
             "minorgridcolor": "white",
             "startlinecolor": "#2a3f5f"
            },
            "type": "carpet"
           }
          ],
          "choropleth": [
           {
            "colorbar": {
             "outlinewidth": 0,
             "ticks": ""
            },
            "type": "choropleth"
           }
          ],
          "contour": [
           {
            "colorbar": {
             "outlinewidth": 0,
             "ticks": ""
            },
            "colorscale": [
             [
              0,
              "#0d0887"
             ],
             [
              0.1111111111111111,
              "#46039f"
             ],
             [
              0.2222222222222222,
              "#7201a8"
             ],
             [
              0.3333333333333333,
              "#9c179e"
             ],
             [
              0.4444444444444444,
              "#bd3786"
             ],
             [
              0.5555555555555556,
              "#d8576b"
             ],
             [
              0.6666666666666666,
              "#ed7953"
             ],
             [
              0.7777777777777778,
              "#fb9f3a"
             ],
             [
              0.8888888888888888,
              "#fdca26"
             ],
             [
              1,
              "#f0f921"
             ]
            ],
            "type": "contour"
           }
          ],
          "contourcarpet": [
           {
            "colorbar": {
             "outlinewidth": 0,
             "ticks": ""
            },
            "type": "contourcarpet"
           }
          ],
          "heatmap": [
           {
            "colorbar": {
             "outlinewidth": 0,
             "ticks": ""
            },
            "colorscale": [
             [
              0,
              "#0d0887"
             ],
             [
              0.1111111111111111,
              "#46039f"
             ],
             [
              0.2222222222222222,
              "#7201a8"
             ],
             [
              0.3333333333333333,
              "#9c179e"
             ],
             [
              0.4444444444444444,
              "#bd3786"
             ],
             [
              0.5555555555555556,
              "#d8576b"
             ],
             [
              0.6666666666666666,
              "#ed7953"
             ],
             [
              0.7777777777777778,
              "#fb9f3a"
             ],
             [
              0.8888888888888888,
              "#fdca26"
             ],
             [
              1,
              "#f0f921"
             ]
            ],
            "type": "heatmap"
           }
          ],
          "heatmapgl": [
           {
            "colorbar": {
             "outlinewidth": 0,
             "ticks": ""
            },
            "colorscale": [
             [
              0,
              "#0d0887"
             ],
             [
              0.1111111111111111,
              "#46039f"
             ],
             [
              0.2222222222222222,
              "#7201a8"
             ],
             [
              0.3333333333333333,
              "#9c179e"
             ],
             [
              0.4444444444444444,
              "#bd3786"
             ],
             [
              0.5555555555555556,
              "#d8576b"
             ],
             [
              0.6666666666666666,
              "#ed7953"
             ],
             [
              0.7777777777777778,
              "#fb9f3a"
             ],
             [
              0.8888888888888888,
              "#fdca26"
             ],
             [
              1,
              "#f0f921"
             ]
            ],
            "type": "heatmapgl"
           }
          ],
          "histogram": [
           {
            "marker": {
             "pattern": {
              "fillmode": "overlay",
              "size": 10,
              "solidity": 0.2
             }
            },
            "type": "histogram"
           }
          ],
          "histogram2d": [
           {
            "colorbar": {
             "outlinewidth": 0,
             "ticks": ""
            },
            "colorscale": [
             [
              0,
              "#0d0887"
             ],
             [
              0.1111111111111111,
              "#46039f"
             ],
             [
              0.2222222222222222,
              "#7201a8"
             ],
             [
              0.3333333333333333,
              "#9c179e"
             ],
             [
              0.4444444444444444,
              "#bd3786"
             ],
             [
              0.5555555555555556,
              "#d8576b"
             ],
             [
              0.6666666666666666,
              "#ed7953"
             ],
             [
              0.7777777777777778,
              "#fb9f3a"
             ],
             [
              0.8888888888888888,
              "#fdca26"
             ],
             [
              1,
              "#f0f921"
             ]
            ],
            "type": "histogram2d"
           }
          ],
          "histogram2dcontour": [
           {
            "colorbar": {
             "outlinewidth": 0,
             "ticks": ""
            },
            "colorscale": [
             [
              0,
              "#0d0887"
             ],
             [
              0.1111111111111111,
              "#46039f"
             ],
             [
              0.2222222222222222,
              "#7201a8"
             ],
             [
              0.3333333333333333,
              "#9c179e"
             ],
             [
              0.4444444444444444,
              "#bd3786"
             ],
             [
              0.5555555555555556,
              "#d8576b"
             ],
             [
              0.6666666666666666,
              "#ed7953"
             ],
             [
              0.7777777777777778,
              "#fb9f3a"
             ],
             [
              0.8888888888888888,
              "#fdca26"
             ],
             [
              1,
              "#f0f921"
             ]
            ],
            "type": "histogram2dcontour"
           }
          ],
          "mesh3d": [
           {
            "colorbar": {
             "outlinewidth": 0,
             "ticks": ""
            },
            "type": "mesh3d"
           }
          ],
          "parcoords": [
           {
            "line": {
             "colorbar": {
              "outlinewidth": 0,
              "ticks": ""
             }
            },
            "type": "parcoords"
           }
          ],
          "pie": [
           {
            "automargin": true,
            "type": "pie"
           }
          ],
          "scatter": [
           {
            "fillpattern": {
             "fillmode": "overlay",
             "size": 10,
             "solidity": 0.2
            },
            "type": "scatter"
           }
          ],
          "scatter3d": [
           {
            "line": {
             "colorbar": {
              "outlinewidth": 0,
              "ticks": ""
             }
            },
            "marker": {
             "colorbar": {
              "outlinewidth": 0,
              "ticks": ""
             }
            },
            "type": "scatter3d"
           }
          ],
          "scattercarpet": [
           {
            "marker": {
             "colorbar": {
              "outlinewidth": 0,
              "ticks": ""
             }
            },
            "type": "scattercarpet"
           }
          ],
          "scattergeo": [
           {
            "marker": {
             "colorbar": {
              "outlinewidth": 0,
              "ticks": ""
             }
            },
            "type": "scattergeo"
           }
          ],
          "scattergl": [
           {
            "marker": {
             "colorbar": {
              "outlinewidth": 0,
              "ticks": ""
             }
            },
            "type": "scattergl"
           }
          ],
          "scattermapbox": [
           {
            "marker": {
             "colorbar": {
              "outlinewidth": 0,
              "ticks": ""
             }
            },
            "type": "scattermapbox"
           }
          ],
          "scatterpolar": [
           {
            "marker": {
             "colorbar": {
              "outlinewidth": 0,
              "ticks": ""
             }
            },
            "type": "scatterpolar"
           }
          ],
          "scatterpolargl": [
           {
            "marker": {
             "colorbar": {
              "outlinewidth": 0,
              "ticks": ""
             }
            },
            "type": "scatterpolargl"
           }
          ],
          "scatterternary": [
           {
            "marker": {
             "colorbar": {
              "outlinewidth": 0,
              "ticks": ""
             }
            },
            "type": "scatterternary"
           }
          ],
          "surface": [
           {
            "colorbar": {
             "outlinewidth": 0,
             "ticks": ""
            },
            "colorscale": [
             [
              0,
              "#0d0887"
             ],
             [
              0.1111111111111111,
              "#46039f"
             ],
             [
              0.2222222222222222,
              "#7201a8"
             ],
             [
              0.3333333333333333,
              "#9c179e"
             ],
             [
              0.4444444444444444,
              "#bd3786"
             ],
             [
              0.5555555555555556,
              "#d8576b"
             ],
             [
              0.6666666666666666,
              "#ed7953"
             ],
             [
              0.7777777777777778,
              "#fb9f3a"
             ],
             [
              0.8888888888888888,
              "#fdca26"
             ],
             [
              1,
              "#f0f921"
             ]
            ],
            "type": "surface"
           }
          ],
          "table": [
           {
            "cells": {
             "fill": {
              "color": "#EBF0F8"
             },
             "line": {
              "color": "white"
             }
            },
            "header": {
             "fill": {
              "color": "#C8D4E3"
             },
             "line": {
              "color": "white"
             }
            },
            "type": "table"
           }
          ]
         },
         "layout": {
          "annotationdefaults": {
           "arrowcolor": "#2a3f5f",
           "arrowhead": 0,
           "arrowwidth": 1
          },
          "autotypenumbers": "strict",
          "coloraxis": {
           "colorbar": {
            "outlinewidth": 0,
            "ticks": ""
           }
          },
          "colorscale": {
           "diverging": [
            [
             0,
             "#8e0152"
            ],
            [
             0.1,
             "#c51b7d"
            ],
            [
             0.2,
             "#de77ae"
            ],
            [
             0.3,
             "#f1b6da"
            ],
            [
             0.4,
             "#fde0ef"
            ],
            [
             0.5,
             "#f7f7f7"
            ],
            [
             0.6,
             "#e6f5d0"
            ],
            [
             0.7,
             "#b8e186"
            ],
            [
             0.8,
             "#7fbc41"
            ],
            [
             0.9,
             "#4d9221"
            ],
            [
             1,
             "#276419"
            ]
           ],
           "sequential": [
            [
             0,
             "#0d0887"
            ],
            [
             0.1111111111111111,
             "#46039f"
            ],
            [
             0.2222222222222222,
             "#7201a8"
            ],
            [
             0.3333333333333333,
             "#9c179e"
            ],
            [
             0.4444444444444444,
             "#bd3786"
            ],
            [
             0.5555555555555556,
             "#d8576b"
            ],
            [
             0.6666666666666666,
             "#ed7953"
            ],
            [
             0.7777777777777778,
             "#fb9f3a"
            ],
            [
             0.8888888888888888,
             "#fdca26"
            ],
            [
             1,
             "#f0f921"
            ]
           ],
           "sequentialminus": [
            [
             0,
             "#0d0887"
            ],
            [
             0.1111111111111111,
             "#46039f"
            ],
            [
             0.2222222222222222,
             "#7201a8"
            ],
            [
             0.3333333333333333,
             "#9c179e"
            ],
            [
             0.4444444444444444,
             "#bd3786"
            ],
            [
             0.5555555555555556,
             "#d8576b"
            ],
            [
             0.6666666666666666,
             "#ed7953"
            ],
            [
             0.7777777777777778,
             "#fb9f3a"
            ],
            [
             0.8888888888888888,
             "#fdca26"
            ],
            [
             1,
             "#f0f921"
            ]
           ]
          },
          "colorway": [
           "#636efa",
           "#EF553B",
           "#00cc96",
           "#ab63fa",
           "#FFA15A",
           "#19d3f3",
           "#FF6692",
           "#B6E880",
           "#FF97FF",
           "#FECB52"
          ],
          "font": {
           "color": "#2a3f5f"
          },
          "geo": {
           "bgcolor": "white",
           "lakecolor": "white",
           "landcolor": "#E5ECF6",
           "showlakes": true,
           "showland": true,
           "subunitcolor": "white"
          },
          "hoverlabel": {
           "align": "left"
          },
          "hovermode": "closest",
          "mapbox": {
           "style": "light"
          },
          "paper_bgcolor": "white",
          "plot_bgcolor": "#E5ECF6",
          "polar": {
           "angularaxis": {
            "gridcolor": "white",
            "linecolor": "white",
            "ticks": ""
           },
           "bgcolor": "#E5ECF6",
           "radialaxis": {
            "gridcolor": "white",
            "linecolor": "white",
            "ticks": ""
           }
          },
          "scene": {
           "xaxis": {
            "backgroundcolor": "#E5ECF6",
            "gridcolor": "white",
            "gridwidth": 2,
            "linecolor": "white",
            "showbackground": true,
            "ticks": "",
            "zerolinecolor": "white"
           },
           "yaxis": {
            "backgroundcolor": "#E5ECF6",
            "gridcolor": "white",
            "gridwidth": 2,
            "linecolor": "white",
            "showbackground": true,
            "ticks": "",
            "zerolinecolor": "white"
           },
           "zaxis": {
            "backgroundcolor": "#E5ECF6",
            "gridcolor": "white",
            "gridwidth": 2,
            "linecolor": "white",
            "showbackground": true,
            "ticks": "",
            "zerolinecolor": "white"
           }
          },
          "shapedefaults": {
           "line": {
            "color": "#2a3f5f"
           }
          },
          "ternary": {
           "aaxis": {
            "gridcolor": "white",
            "linecolor": "white",
            "ticks": ""
           },
           "baxis": {
            "gridcolor": "white",
            "linecolor": "white",
            "ticks": ""
           },
           "bgcolor": "#E5ECF6",
           "caxis": {
            "gridcolor": "white",
            "linecolor": "white",
            "ticks": ""
           }
          },
          "title": {
           "x": 0.05
          },
          "xaxis": {
           "automargin": true,
           "gridcolor": "white",
           "linecolor": "white",
           "ticks": "",
           "title": {
            "standoff": 15
           },
           "zerolinecolor": "white",
           "zerolinewidth": 2
          },
          "yaxis": {
           "automargin": true,
           "gridcolor": "white",
           "linecolor": "white",
           "ticks": "",
           "title": {
            "standoff": 15
           },
           "zerolinecolor": "white",
           "zerolinewidth": 2
          }
         }
        },
        "title": {
         "text": "df_model_cluster_2"
        },
        "updatemenus": [
         {
          "active": 0,
          "buttons": [
           {
            "args": [
             {
              "visible": [
               true,
               true,
               true,
               true,
               true,
               true,
               true,
               true,
               true,
               true,
               true,
               false,
               false,
               false,
               false,
               false,
               false,
               false,
               false,
               false,
               false,
               false,
               false,
               false,
               false,
               false,
               false,
               false,
               false,
               false,
               false,
               false,
               false,
               false,
               false,
               false,
               false,
               false,
               false,
               false,
               false,
               false,
               false,
               false,
               false,
               false,
               false,
               false,
               false,
               false,
               false,
               false,
               false,
               false,
               false,
               false,
               false,
               false,
               false,
               false,
               false,
               false,
               false,
               false,
               false,
               false,
               false,
               false,
               false,
               false,
               false,
               false,
               false,
               false,
               false,
               false,
               false,
               false,
               false,
               false,
               false,
               false,
               false,
               false,
               false,
               false,
               false,
               false,
               true
              ]
             }
            ],
            "label": "number of neighbours 3",
            "method": "restyle"
           },
           {
            "args": [
             {
              "visible": [
               false,
               false,
               false,
               false,
               false,
               false,
               false,
               false,
               false,
               false,
               false,
               true,
               true,
               true,
               true,
               true,
               true,
               true,
               true,
               true,
               true,
               true,
               false,
               false,
               false,
               false,
               false,
               false,
               false,
               false,
               false,
               false,
               false,
               false,
               false,
               false,
               false,
               false,
               false,
               false,
               false,
               false,
               false,
               false,
               false,
               false,
               false,
               false,
               false,
               false,
               false,
               false,
               false,
               false,
               false,
               false,
               false,
               false,
               false,
               false,
               false,
               false,
               false,
               false,
               false,
               false,
               false,
               false,
               false,
               false,
               false,
               false,
               false,
               false,
               false,
               false,
               false,
               false,
               false,
               false,
               false,
               false,
               false,
               false,
               false,
               false,
               false,
               false,
               true
              ]
             }
            ],
            "label": "number of neighbours 4",
            "method": "restyle"
           },
           {
            "args": [
             {
              "visible": [
               false,
               false,
               false,
               false,
               false,
               false,
               false,
               false,
               false,
               false,
               false,
               false,
               false,
               false,
               false,
               false,
               false,
               false,
               false,
               false,
               false,
               false,
               true,
               true,
               true,
               true,
               true,
               true,
               true,
               true,
               true,
               true,
               true,
               false,
               false,
               false,
               false,
               false,
               false,
               false,
               false,
               false,
               false,
               false,
               false,
               false,
               false,
               false,
               false,
               false,
               false,
               false,
               false,
               false,
               false,
               false,
               false,
               false,
               false,
               false,
               false,
               false,
               false,
               false,
               false,
               false,
               false,
               false,
               false,
               false,
               false,
               false,
               false,
               false,
               false,
               false,
               false,
               false,
               false,
               false,
               false,
               false,
               false,
               false,
               false,
               false,
               false,
               false,
               true
              ]
             }
            ],
            "label": "number of neighbours 5",
            "method": "restyle"
           },
           {
            "args": [
             {
              "visible": [
               false,
               false,
               false,
               false,
               false,
               false,
               false,
               false,
               false,
               false,
               false,
               false,
               false,
               false,
               false,
               false,
               false,
               false,
               false,
               false,
               false,
               false,
               false,
               false,
               false,
               false,
               false,
               false,
               false,
               false,
               false,
               false,
               false,
               true,
               true,
               true,
               true,
               true,
               true,
               true,
               true,
               true,
               true,
               true,
               false,
               false,
               false,
               false,
               false,
               false,
               false,
               false,
               false,
               false,
               false,
               false,
               false,
               false,
               false,
               false,
               false,
               false,
               false,
               false,
               false,
               false,
               false,
               false,
               false,
               false,
               false,
               false,
               false,
               false,
               false,
               false,
               false,
               false,
               false,
               false,
               false,
               false,
               false,
               false,
               false,
               false,
               false,
               false,
               true
              ]
             }
            ],
            "label": "number of neighbours 6",
            "method": "restyle"
           }
          ],
          "direction": "down",
          "showactive": false
         }
        ],
        "width": 1000,
        "xaxis": {
         "showticklabels": false
        },
        "yaxis": {
         "showticklabels": false
        }
       }
      }
     },
     "metadata": {},
     "output_type": "display_data"
    },
    {
     "data": {
      "application/vnd.plotly.v1+json": {
       "config": {
        "plotlyServerURL": "https://plot.ly"
       },
       "data": [
        {
         "hovertext": [
          "K-Nearest Neighbor<br>Performance: 79.22%<br>Model ID: meta_7<br>Accuracy: 81.97%<br>Precision: 82.14%<br>Recall: 81.97%<br>ROC AUC: 81.44<br>Geometric Mean: 81.44<br>Matthews Correlation: 63.71<br>F1: 81.85<br>Average Probability: 71.22"
         ],
         "marker": {
          "color": [
           79.22
          ],
          "coloraxis": "coloraxis",
          "line": {
           "color": "Black",
           "width": 1
          },
          "opacity": [
           0.6
          ],
          "size": [
           40
          ],
          "symbol": [
           "circle"
          ]
         },
         "mode": "markers",
         "name": "K-Nearest Neighbor",
         "type": "scatter",
         "x": [
          3.984017848968506
         ],
         "y": [
          6.018653869628906
         ]
        },
        {
         "hovertext": [
          "Support Vector Machine<br>Performance: 79.22%<br>Model ID: meta_5<br>Accuracy: 81.97%<br>Precision: 82.14%<br>Recall: 81.97%<br>ROC AUC: 81.44<br>Geometric Mean: 81.44<br>Matthews Correlation: 63.71<br>F1: 81.85<br>Average Probability: 72.21"
         ],
         "marker": {
          "color": [
           79.22
          ],
          "coloraxis": "coloraxis",
          "line": {
           "color": "Black",
           "width": 1
          },
          "opacity": [
           0.6
          ],
          "size": [
           40
          ],
          "symbol": [
           "square"
          ]
         },
         "mode": "markers",
         "name": "Support Vector Machine",
         "type": "scatter",
         "x": [
          5.8781280517578125
         ],
         "y": [
          3.053131580352783
         ]
        },
        {
         "hovertext": [
          "Gaussian Naive Bayes<br>Performance: 79.22%<br>Model ID: meta_1<br>Accuracy: 81.97%<br>Precision: 82.14%<br>Recall: 81.97%<br>ROC AUC: 81.44<br>Geometric Mean: 81.44<br>Matthews Correlation: 63.71<br>F1: 81.85<br>Average Probability: 82.57"
         ],
         "marker": {
          "color": [
           79.22
          ],
          "coloraxis": "coloraxis",
          "line": {
           "color": "Black",
           "width": 1
          },
          "opacity": [
           1
          ],
          "size": [
           40
          ],
          "symbol": [
           "x"
          ]
         },
         "mode": "markers",
         "name": "Gaussian Naive Bayes",
         "type": "scatter",
         "x": [
          6.357282638549805
         ],
         "y": [
          2.5264525413513184
         ]
        },
        {
         "hovertext": [
          "Multilayer Perceptron<br>Performance: 81.12%<br>Model ID: meta_4<br>Accuracy: 83.61%<br>Precision: 83.66%<br>Recall: 83.61%<br>ROC AUC: 83.23<br>Geometric Mean: 83.22<br>Matthews Correlation: 66.96<br>F1: 83.54<br>Average Probability: 71.23"
         ],
         "marker": {
          "color": [
           81.12
          ],
          "coloraxis": "coloraxis",
          "line": {
           "color": "Black",
           "width": 1
          },
          "opacity": [
           0.6
          ],
          "size": [
           40
          ],
          "symbol": [
           "cross"
          ]
         },
         "mode": "markers",
         "name": "Multilayer Perceptron",
         "type": "scatter",
         "x": [
          4.884034156799316
         ],
         "y": [
          3.7143502235412598
         ]
        },
        {
         "hovertext": [
          "Logistic Regression<br>Performance: 79.22%<br>Model ID: meta_3<br>Accuracy: 81.97%<br>Precision: 82.14%<br>Recall: 81.97%<br>ROC AUC: 81.44<br>Geometric Mean: 81.44<br>Matthews Correlation: 63.71<br>F1: 81.85<br>Average Probability: 73.32"
         ],
         "marker": {
          "color": [
           79.22
          ],
          "coloraxis": "coloraxis",
          "line": {
           "color": "Black",
           "width": 1
          },
          "opacity": [
           0.7
          ],
          "size": [
           40
          ],
          "symbol": [
           "diamond"
          ]
         },
         "mode": "markers",
         "name": "Logistic Regression",
         "type": "scatter",
         "x": [
          4.997900009155273
         ],
         "y": [
          2.603982925415039
         ]
        },
        {
         "hovertext": [
          "Linear Discriminant Analysis<br>Performance: 79.27%<br>Model ID: meta_2<br>Accuracy: 81.97%<br>Precision: 81.95%<br>Recall: 81.97%<br>ROC AUC: 81.71<br>Geometric Mean: 81.71<br>Matthews Correlation: 63.63<br>F1: 81.94<br>Average Probability: 77.86"
         ],
         "marker": {
          "color": [
           79.27
          ],
          "coloraxis": "coloraxis",
          "line": {
           "color": "Black",
           "width": 1
          },
          "opacity": [
           0.8
          ],
          "size": [
           40
          ],
          "symbol": [
           "star"
          ]
         },
         "mode": "markers",
         "name": "Linear Discriminant Analysis",
         "type": "scatter",
         "x": [
          5.523486137390137
         ],
         "y": [
          1.9089689254760742
         ]
        },
        {
         "hovertext": [
          "Quadratic Discriminant Analysis<br>Performance: 79.22%<br>Model ID: meta_6<br>Accuracy: 81.97%<br>Precision: 82.14%<br>Recall: 81.97%<br>ROC AUC: 81.44<br>Geometric Mean: 81.44<br>Matthews Correlation: 63.71<br>F1: 81.85<br>Average Probability: 71.93"
         ],
         "marker": {
          "color": [
           79.22
          ],
          "coloraxis": "coloraxis",
          "line": {
           "color": "Black",
           "width": 1
          },
          "opacity": [
           0.6
          ],
          "size": [
           40
          ],
          "symbol": [
           "hexagram"
          ]
         },
         "mode": "markers",
         "name": "Quadratic Discriminant Analysis",
         "type": "scatter",
         "x": [
          4.434295654296875
         ],
         "y": [
          3.1200528144836426
         ]
        },
        {
         "hovertext": [
          "Random Forest<br>Performance: 81.12%<br>Model ID: 2570<br>Accuracy: 83.61%<br>Precision: 83.66%<br>Recall: 83.61%<br>ROC AUC: 83.23<br>Geometric Mean: 83.22<br>Matthews Correlation: 66.96<br>F1: 83.54<br>Average Probability: 72.15",
          "Random Forest<br>Performance: 81.12%<br>Model ID: 2571<br>Accuracy: 83.61%<br>Precision: 83.66%<br>Recall: 83.61%<br>ROC AUC: 83.23<br>Geometric Mean: 83.22<br>Matthews Correlation: 66.96<br>F1: 83.54<br>Average Probability: 72.23",
          "Random Forest<br>Performance: 81.12%<br>Model ID: 2572<br>Accuracy: 83.61%<br>Precision: 83.66%<br>Recall: 83.61%<br>ROC AUC: 83.23<br>Geometric Mean: 83.22<br>Matthews Correlation: 66.96<br>F1: 83.54<br>Average Probability: 72.21",
          "Random Forest<br>Performance: 81.12%<br>Model ID: 2575<br>Accuracy: 83.61%<br>Precision: 83.66%<br>Recall: 83.61%<br>ROC AUC: 83.23<br>Geometric Mean: 83.22<br>Matthews Correlation: 66.96<br>F1: 83.54<br>Average Probability: 72.13",
          "Random Forest<br>Performance: 81.12%<br>Model ID: 2606<br>Accuracy: 83.61%<br>Precision: 83.66%<br>Recall: 83.61%<br>ROC AUC: 83.23<br>Geometric Mean: 83.22<br>Matthews Correlation: 66.96<br>F1: 83.54<br>Average Probability: 71.82",
          "Random Forest<br>Performance: 69.8%<br>Model ID: meta_11<br>Accuracy: 73.77%<br>Precision: 73.73%<br>Recall: 73.77%<br>ROC AUC: 73.32<br>Geometric Mean: 73.32<br>Matthews Correlation: 47.0<br>F1: 73.67<br>Average Probability: 67.79"
         ],
         "marker": {
          "color": [
           81.12,
           81.12,
           81.12,
           81.12,
           81.12,
           69.8
          ],
          "coloraxis": "coloraxis",
          "line": {
           "color": "Black",
           "width": 1
          },
          "opacity": [
           0.6,
           0.6,
           0.6,
           0.6,
           0.6,
           0.5
          ],
          "size": [
           20,
           20,
           20,
           20,
           20,
           40
          ],
          "symbol": [
           "triangle-right",
           "triangle-right",
           "triangle-right",
           "triangle-right",
           "triangle-right",
           "triangle-right"
          ]
         },
         "mode": "markers",
         "name": "Random Forest",
         "type": "scatter",
         "x": [
          7.134832859039307,
          6.717832565307617,
          6.258050918579102,
          5.575234413146973,
          4.856295585632324,
          2.916327953338623
         ],
         "y": [
          6.614312171936035,
          7.37253999710083,
          6.622288703918457,
          7.20971155166626,
          6.461623668670654,
          6.652229309082031
         ]
        },
        {
         "hovertext": [
          "Extra Trees<br>Performance: 83.0%<br>Model ID: 2623<br>Accuracy: 85.25%<br>Precision: 85.48%<br>Recall: 85.25%<br>ROC AUC: 84.74<br>Geometric Mean: 84.74<br>Matthews Correlation: 70.4<br>F1: 85.15<br>Average Probability: 72.8",
          "Extra Trees<br>Performance: 83.0%<br>Model ID: 2717<br>Accuracy: 85.25%<br>Precision: 85.48%<br>Recall: 85.25%<br>ROC AUC: 84.74<br>Geometric Mean: 84.74<br>Matthews Correlation: 70.4<br>F1: 85.15<br>Average Probability: 73.48",
          "Extra Trees<br>Performance: 83.0%<br>Model ID: 2718<br>Accuracy: 85.25%<br>Precision: 85.48%<br>Recall: 85.25%<br>ROC AUC: 84.74<br>Geometric Mean: 84.74<br>Matthews Correlation: 70.4<br>F1: 85.15<br>Average Probability: 73.48",
          "Extra Trees<br>Performance: 83.0%<br>Model ID: 2625<br>Accuracy: 85.25%<br>Precision: 85.48%<br>Recall: 85.25%<br>ROC AUC: 84.74<br>Geometric Mean: 84.74<br>Matthews Correlation: 70.4<br>F1: 85.15<br>Average Probability: 72.72",
          "Extra Trees<br>Performance: 83.0%<br>Model ID: 2716<br>Accuracy: 85.25%<br>Precision: 85.48%<br>Recall: 85.25%<br>ROC AUC: 84.74<br>Geometric Mean: 84.74<br>Matthews Correlation: 70.4<br>F1: 85.15<br>Average Probability: 73.51",
          "Extra Trees<br>Performance: 69.73%<br>Model ID: meta_10<br>Accuracy: 73.77%<br>Precision: 73.9%<br>Recall: 73.77%<br>ROC AUC: 73.05<br>Geometric Mean: 73.05<br>Matthews Correlation: 47.03<br>F1: 73.51<br>Average Probability: 68.4"
         ],
         "marker": {
          "color": [
           83,
           83,
           83,
           83,
           83,
           69.73
          ],
          "coloraxis": "coloraxis",
          "line": {
           "color": "Black",
           "width": 1
          },
          "opacity": [
           0.7,
           0.7,
           0.7,
           0.7,
           0.7,
           0.5
          ],
          "size": [
           20,
           20,
           20,
           20,
           20,
           40
          ],
          "symbol": [
           "triangle-left",
           "triangle-left",
           "triangle-left",
           "triangle-left",
           "triangle-left",
           "triangle-left"
          ]
         },
         "mode": "markers",
         "name": "Extra Trees",
         "type": "scatter",
         "x": [
          6.890002727508545,
          7.644744873046875,
          7.0129594802856445,
          7.537957191467285,
          7.68131685256958,
          2.3335378170013428
         ],
         "y": [
          -4.8389763832092285,
          -6.232560157775879,
          -6.248924255371094,
          -4.613531589508057,
          -5.50343132019043,
          6.901811122894287
         ]
        },
        {
         "hovertext": [
          "Adaptive Boosting<br>Performance: 81.12%<br>Model ID: meta_8<br>Accuracy: 83.61%<br>Precision: 83.66%<br>Recall: 83.61%<br>ROC AUC: 83.23<br>Geometric Mean: 83.22<br>Matthews Correlation: 66.96<br>F1: 83.54<br>Average Probability: 59.47"
         ],
         "marker": {
          "color": [
           81.12
          ],
          "coloraxis": "coloraxis",
          "line": {
           "color": "Black",
           "width": 1
          },
          "opacity": [
           0.2
          ],
          "size": [
           40
          ],
          "symbol": [
           "triangle-down"
          ]
         },
         "mode": "markers",
         "name": "Adaptive Boosting",
         "type": "scatter",
         "x": [
          4.955907344818115
         ],
         "y": [
          5.485679626464844
         ]
        },
        {
         "hovertext": [
          "Gradient Boosting<br>Performance: 67.97%<br>Model ID: meta_9<br>Accuracy: 72.13%<br>Precision: 72.08%<br>Recall: 72.13%<br>ROC AUC: 71.81<br>Geometric Mean: 71.81<br>Matthews Correlation: 43.76<br>F1: 72.09<br>Average Probability: 70.55"
         ],
         "marker": {
          "color": [
           67.97
          ],
          "coloraxis": "coloraxis",
          "line": {
           "color": "Black",
           "width": 1
          },
          "opacity": [
           0.6
          ],
          "size": [
           40
          ],
          "symbol": [
           "triangle-up"
          ]
         },
         "mode": "markers",
         "name": "Gradient Boosting",
         "type": "scatter",
         "x": [
          2.270653247833252
         ],
         "y": [
          7.484281063079834
         ]
        },
        {
         "hovertext": [
          "K-Nearest Neighbor<br>Performance: 79.22%<br>Model ID: meta_7<br>Accuracy: 81.97%<br>Precision: 82.14%<br>Recall: 81.97%<br>ROC AUC: 81.44<br>Geometric Mean: 81.44<br>Matthews Correlation: 63.71<br>F1: 81.85<br>Average Probability: 71.22"
         ],
         "marker": {
          "color": [
           79.22
          ],
          "coloraxis": "coloraxis",
          "line": {
           "color": "Black",
           "width": 1
          },
          "opacity": [
           0.6
          ],
          "size": [
           40
          ],
          "symbol": [
           "circle"
          ]
         },
         "mode": "markers",
         "name": "K-Nearest Neighbor",
         "type": "scatter",
         "x": [
          15.4412202835083
         ],
         "y": [
          20.634782791137695
         ]
        },
        {
         "hovertext": [
          "Support Vector Machine<br>Performance: 79.22%<br>Model ID: meta_5<br>Accuracy: 81.97%<br>Precision: 82.14%<br>Recall: 81.97%<br>ROC AUC: 81.44<br>Geometric Mean: 81.44<br>Matthews Correlation: 63.71<br>F1: 81.85<br>Average Probability: 72.21"
         ],
         "marker": {
          "color": [
           79.22
          ],
          "coloraxis": "coloraxis",
          "line": {
           "color": "Black",
           "width": 1
          },
          "opacity": [
           0.6
          ],
          "size": [
           40
          ],
          "symbol": [
           "square"
          ]
         },
         "mode": "markers",
         "name": "Support Vector Machine",
         "type": "scatter",
         "x": [
          14.870457649230957
         ],
         "y": [
          22.991981506347656
         ]
        },
        {
         "hovertext": [
          "Gaussian Naive Bayes<br>Performance: 79.22%<br>Model ID: meta_1<br>Accuracy: 81.97%<br>Precision: 82.14%<br>Recall: 81.97%<br>ROC AUC: 81.44<br>Geometric Mean: 81.44<br>Matthews Correlation: 63.71<br>F1: 81.85<br>Average Probability: 82.57"
         ],
         "marker": {
          "color": [
           79.22
          ],
          "coloraxis": "coloraxis",
          "line": {
           "color": "Black",
           "width": 1
          },
          "opacity": [
           1
          ],
          "size": [
           40
          ],
          "symbol": [
           "x"
          ]
         },
         "mode": "markers",
         "name": "Gaussian Naive Bayes",
         "type": "scatter",
         "x": [
          14.67796516418457
         ],
         "y": [
          23.81270980834961
         ]
        },
        {
         "hovertext": [
          "Multilayer Perceptron<br>Performance: 81.12%<br>Model ID: meta_4<br>Accuracy: 83.61%<br>Precision: 83.66%<br>Recall: 83.61%<br>ROC AUC: 83.23<br>Geometric Mean: 83.22<br>Matthews Correlation: 66.96<br>F1: 83.54<br>Average Probability: 71.23"
         ],
         "marker": {
          "color": [
           81.12
          ],
          "coloraxis": "coloraxis",
          "line": {
           "color": "Black",
           "width": 1
          },
          "opacity": [
           0.6
          ],
          "size": [
           40
          ],
          "symbol": [
           "cross"
          ]
         },
         "mode": "markers",
         "name": "Multilayer Perceptron",
         "type": "scatter",
         "x": [
          16.337369918823242
         ],
         "y": [
          22.986961364746094
         ]
        },
        {
         "hovertext": [
          "Logistic Regression<br>Performance: 79.22%<br>Model ID: meta_3<br>Accuracy: 81.97%<br>Precision: 82.14%<br>Recall: 81.97%<br>ROC AUC: 81.44<br>Geometric Mean: 81.44<br>Matthews Correlation: 63.71<br>F1: 81.85<br>Average Probability: 73.32"
         ],
         "marker": {
          "color": [
           79.22
          ],
          "coloraxis": "coloraxis",
          "line": {
           "color": "Black",
           "width": 1
          },
          "opacity": [
           0.7
          ],
          "size": [
           40
          ],
          "symbol": [
           "diamond"
          ]
         },
         "mode": "markers",
         "name": "Logistic Regression",
         "type": "scatter",
         "x": [
          15.684276580810547
         ],
         "y": [
          23.293676376342773
         ]
        },
        {
         "hovertext": [
          "Linear Discriminant Analysis<br>Performance: 79.27%<br>Model ID: meta_2<br>Accuracy: 81.97%<br>Precision: 81.95%<br>Recall: 81.97%<br>ROC AUC: 81.71<br>Geometric Mean: 81.71<br>Matthews Correlation: 63.63<br>F1: 81.94<br>Average Probability: 77.86"
         ],
         "marker": {
          "color": [
           79.27
          ],
          "coloraxis": "coloraxis",
          "line": {
           "color": "Black",
           "width": 1
          },
          "opacity": [
           0.8
          ],
          "size": [
           40
          ],
          "symbol": [
           "star"
          ]
         },
         "mode": "markers",
         "name": "Linear Discriminant Analysis",
         "type": "scatter",
         "x": [
          15.75108528137207
         ],
         "y": [
          24.260831832885742
         ]
        },
        {
         "hovertext": [
          "Quadratic Discriminant Analysis<br>Performance: 79.22%<br>Model ID: meta_6<br>Accuracy: 81.97%<br>Precision: 82.14%<br>Recall: 81.97%<br>ROC AUC: 81.44<br>Geometric Mean: 81.44<br>Matthews Correlation: 63.71<br>F1: 81.85<br>Average Probability: 71.93"
         ],
         "marker": {
          "color": [
           79.22
          ],
          "coloraxis": "coloraxis",
          "line": {
           "color": "Black",
           "width": 1
          },
          "opacity": [
           0.6
          ],
          "size": [
           40
          ],
          "symbol": [
           "hexagram"
          ]
         },
         "mode": "markers",
         "name": "Quadratic Discriminant Analysis",
         "type": "scatter",
         "x": [
          15.660212516784668
         ],
         "y": [
          22.39858055114746
         ]
        },
        {
         "hovertext": [
          "Random Forest<br>Performance: 81.12%<br>Model ID: 2570<br>Accuracy: 83.61%<br>Precision: 83.66%<br>Recall: 83.61%<br>ROC AUC: 83.23<br>Geometric Mean: 83.22<br>Matthews Correlation: 66.96<br>F1: 83.54<br>Average Probability: 72.15",
          "Random Forest<br>Performance: 81.12%<br>Model ID: 2571<br>Accuracy: 83.61%<br>Precision: 83.66%<br>Recall: 83.61%<br>ROC AUC: 83.23<br>Geometric Mean: 83.22<br>Matthews Correlation: 66.96<br>F1: 83.54<br>Average Probability: 72.23",
          "Random Forest<br>Performance: 81.12%<br>Model ID: 2572<br>Accuracy: 83.61%<br>Precision: 83.66%<br>Recall: 83.61%<br>ROC AUC: 83.23<br>Geometric Mean: 83.22<br>Matthews Correlation: 66.96<br>F1: 83.54<br>Average Probability: 72.21",
          "Random Forest<br>Performance: 81.12%<br>Model ID: 2575<br>Accuracy: 83.61%<br>Precision: 83.66%<br>Recall: 83.61%<br>ROC AUC: 83.23<br>Geometric Mean: 83.22<br>Matthews Correlation: 66.96<br>F1: 83.54<br>Average Probability: 72.13",
          "Random Forest<br>Performance: 81.12%<br>Model ID: 2606<br>Accuracy: 83.61%<br>Precision: 83.66%<br>Recall: 83.61%<br>ROC AUC: 83.23<br>Geometric Mean: 83.22<br>Matthews Correlation: 66.96<br>F1: 83.54<br>Average Probability: 71.82",
          "Random Forest<br>Performance: 69.8%<br>Model ID: meta_11<br>Accuracy: 73.77%<br>Precision: 73.73%<br>Recall: 73.77%<br>ROC AUC: 73.32<br>Geometric Mean: 73.32<br>Matthews Correlation: 47.0<br>F1: 73.67<br>Average Probability: 67.79"
         ],
         "marker": {
          "color": [
           81.12,
           81.12,
           81.12,
           81.12,
           81.12,
           69.8
          ],
          "coloraxis": "coloraxis",
          "line": {
           "color": "Black",
           "width": 1
          },
          "opacity": [
           0.6,
           0.6,
           0.6,
           0.6,
           0.6,
           0.5
          ],
          "size": [
           20,
           20,
           20,
           20,
           20,
           40
          ],
          "symbol": [
           "triangle-right",
           "triangle-right",
           "triangle-right",
           "triangle-right",
           "triangle-right",
           "triangle-right"
          ]
         },
         "mode": "markers",
         "name": "Random Forest",
         "type": "scatter",
         "x": [
          18.05174446105957,
          18.6278076171875,
          17.946046829223633,
          17.240724563598633,
          16.52569007873535,
          14.886505126953125
         ],
         "y": [
          20.124849319458008,
          20.685630798339844,
          21.057968139648438,
          20.541234970092773,
          20.696517944335938,
          19.445171356201172
         ]
        },
        {
         "hovertext": [
          "Extra Trees<br>Performance: 83.0%<br>Model ID: 2623<br>Accuracy: 85.25%<br>Precision: 85.48%<br>Recall: 85.25%<br>ROC AUC: 84.74<br>Geometric Mean: 84.74<br>Matthews Correlation: 70.4<br>F1: 85.15<br>Average Probability: 72.8",
          "Extra Trees<br>Performance: 83.0%<br>Model ID: 2717<br>Accuracy: 85.25%<br>Precision: 85.48%<br>Recall: 85.25%<br>ROC AUC: 84.74<br>Geometric Mean: 84.74<br>Matthews Correlation: 70.4<br>F1: 85.15<br>Average Probability: 73.48",
          "Extra Trees<br>Performance: 83.0%<br>Model ID: 2718<br>Accuracy: 85.25%<br>Precision: 85.48%<br>Recall: 85.25%<br>ROC AUC: 84.74<br>Geometric Mean: 84.74<br>Matthews Correlation: 70.4<br>F1: 85.15<br>Average Probability: 73.48",
          "Extra Trees<br>Performance: 83.0%<br>Model ID: 2625<br>Accuracy: 85.25%<br>Precision: 85.48%<br>Recall: 85.25%<br>ROC AUC: 84.74<br>Geometric Mean: 84.74<br>Matthews Correlation: 70.4<br>F1: 85.15<br>Average Probability: 72.72",
          "Extra Trees<br>Performance: 83.0%<br>Model ID: 2716<br>Accuracy: 85.25%<br>Precision: 85.48%<br>Recall: 85.25%<br>ROC AUC: 84.74<br>Geometric Mean: 84.74<br>Matthews Correlation: 70.4<br>F1: 85.15<br>Average Probability: 73.51",
          "Extra Trees<br>Performance: 69.73%<br>Model ID: meta_10<br>Accuracy: 73.77%<br>Precision: 73.9%<br>Recall: 73.77%<br>ROC AUC: 73.05<br>Geometric Mean: 73.05<br>Matthews Correlation: 47.03<br>F1: 73.51<br>Average Probability: 68.4"
         ],
         "marker": {
          "color": [
           83,
           83,
           83,
           83,
           83,
           69.73
          ],
          "coloraxis": "coloraxis",
          "line": {
           "color": "Black",
           "width": 1
          },
          "opacity": [
           0.7,
           0.7,
           0.7,
           0.7,
           0.7,
           0.5
          ],
          "size": [
           20,
           20,
           20,
           20,
           20,
           40
          ],
          "symbol": [
           "triangle-left",
           "triangle-left",
           "triangle-left",
           "triangle-left",
           "triangle-left",
           "triangle-left"
          ]
         },
         "mode": "markers",
         "name": "Extra Trees",
         "type": "scatter",
         "x": [
          6.824023246765137,
          6.2605133056640625,
          6.0381178855896,
          7.342896461486816,
          6.742096900939941,
          14.498954772949219
         ],
         "y": [
          12.988407135009766,
          14.397521018981934,
          13.5426607131958,
          13.439427375793457,
          14.00847053527832,
          20.0191593170166
         ]
        },
        {
         "hovertext": [
          "Adaptive Boosting<br>Performance: 81.12%<br>Model ID: meta_8<br>Accuracy: 83.61%<br>Precision: 83.66%<br>Recall: 83.61%<br>ROC AUC: 83.23<br>Geometric Mean: 83.22<br>Matthews Correlation: 66.96<br>F1: 83.54<br>Average Probability: 59.47"
         ],
         "marker": {
          "color": [
           81.12
          ],
          "coloraxis": "coloraxis",
          "line": {
           "color": "Black",
           "width": 1
          },
          "opacity": [
           0.2
          ],
          "size": [
           40
          ],
          "symbol": [
           "triangle-down"
          ]
         },
         "mode": "markers",
         "name": "Adaptive Boosting",
         "type": "scatter",
         "x": [
          16.736112594604492
         ],
         "y": [
          21.626218795776367
         ]
        },
        {
         "hovertext": [
          "Gradient Boosting<br>Performance: 67.97%<br>Model ID: meta_9<br>Accuracy: 72.13%<br>Precision: 72.08%<br>Recall: 72.13%<br>ROC AUC: 71.81<br>Geometric Mean: 71.81<br>Matthews Correlation: 43.76<br>F1: 72.09<br>Average Probability: 70.55"
         ],
         "marker": {
          "color": [
           67.97
          ],
          "coloraxis": "coloraxis",
          "line": {
           "color": "Black",
           "width": 1
          },
          "opacity": [
           0.6
          ],
          "size": [
           40
          ],
          "symbol": [
           "triangle-up"
          ]
         },
         "mode": "markers",
         "name": "Gradient Boosting",
         "type": "scatter",
         "x": [
          14.250894546508789
         ],
         "y": [
          19.204025268554688
         ]
        },
        {
         "hovertext": [
          "K-Nearest Neighbor<br>Performance: 79.22%<br>Model ID: meta_7<br>Accuracy: 81.97%<br>Precision: 82.14%<br>Recall: 81.97%<br>ROC AUC: 81.44<br>Geometric Mean: 81.44<br>Matthews Correlation: 63.71<br>F1: 81.85<br>Average Probability: 71.22"
         ],
         "marker": {
          "color": [
           79.22
          ],
          "coloraxis": "coloraxis",
          "line": {
           "color": "Black",
           "width": 1
          },
          "opacity": [
           0.6
          ],
          "size": [
           40
          ],
          "symbol": [
           "circle"
          ]
         },
         "mode": "markers",
         "name": "K-Nearest Neighbor",
         "type": "scatter",
         "x": [
          17.939096450805664
         ],
         "y": [
          18.818326950073242
         ]
        },
        {
         "hovertext": [
          "Support Vector Machine<br>Performance: 79.22%<br>Model ID: meta_5<br>Accuracy: 81.97%<br>Precision: 82.14%<br>Recall: 81.97%<br>ROC AUC: 81.44<br>Geometric Mean: 81.44<br>Matthews Correlation: 63.71<br>F1: 81.85<br>Average Probability: 72.21"
         ],
         "marker": {
          "color": [
           79.22
          ],
          "coloraxis": "coloraxis",
          "line": {
           "color": "Black",
           "width": 1
          },
          "opacity": [
           0.6
          ],
          "size": [
           40
          ],
          "symbol": [
           "square"
          ]
         },
         "mode": "markers",
         "name": "Support Vector Machine",
         "type": "scatter",
         "x": [
          20.571508407592773
         ],
         "y": [
          18.70172691345215
         ]
        },
        {
         "hovertext": [
          "Gaussian Naive Bayes<br>Performance: 79.22%<br>Model ID: meta_1<br>Accuracy: 81.97%<br>Precision: 82.14%<br>Recall: 81.97%<br>ROC AUC: 81.44<br>Geometric Mean: 81.44<br>Matthews Correlation: 63.71<br>F1: 81.85<br>Average Probability: 82.57"
         ],
         "marker": {
          "color": [
           79.22
          ],
          "coloraxis": "coloraxis",
          "line": {
           "color": "Black",
           "width": 1
          },
          "opacity": [
           1
          ],
          "size": [
           40
          ],
          "symbol": [
           "x"
          ]
         },
         "mode": "markers",
         "name": "Gaussian Naive Bayes",
         "type": "scatter",
         "x": [
          21.21236228942871
         ],
         "y": [
          19.387178421020508
         ]
        },
        {
         "hovertext": [
          "Multilayer Perceptron<br>Performance: 81.12%<br>Model ID: meta_4<br>Accuracy: 83.61%<br>Precision: 83.66%<br>Recall: 83.61%<br>ROC AUC: 83.23<br>Geometric Mean: 83.22<br>Matthews Correlation: 66.96<br>F1: 83.54<br>Average Probability: 71.23"
         ],
         "marker": {
          "color": [
           81.12
          ],
          "coloraxis": "coloraxis",
          "line": {
           "color": "Black",
           "width": 1
          },
          "opacity": [
           0.6
          ],
          "size": [
           40
          ],
          "symbol": [
           "cross"
          ]
         },
         "mode": "markers",
         "name": "Multilayer Perceptron",
         "type": "scatter",
         "x": [
          19.822654724121094
         ],
         "y": [
          18.204818725585938
         ]
        },
        {
         "hovertext": [
          "Logistic Regression<br>Performance: 79.22%<br>Model ID: meta_3<br>Accuracy: 81.97%<br>Precision: 82.14%<br>Recall: 81.97%<br>ROC AUC: 81.44<br>Geometric Mean: 81.44<br>Matthews Correlation: 63.71<br>F1: 81.85<br>Average Probability: 73.32"
         ],
         "marker": {
          "color": [
           79.22
          ],
          "coloraxis": "coloraxis",
          "line": {
           "color": "Black",
           "width": 1
          },
          "opacity": [
           0.7
          ],
          "size": [
           40
          ],
          "symbol": [
           "diamond"
          ]
         },
         "mode": "markers",
         "name": "Logistic Regression",
         "type": "scatter",
         "x": [
          20.012788772583008
         ],
         "y": [
          19.2668514251709
         ]
        },
        {
         "hovertext": [
          "Linear Discriminant Analysis<br>Performance: 79.27%<br>Model ID: meta_2<br>Accuracy: 81.97%<br>Precision: 81.95%<br>Recall: 81.97%<br>ROC AUC: 81.71<br>Geometric Mean: 81.71<br>Matthews Correlation: 63.63<br>F1: 81.94<br>Average Probability: 77.86"
         ],
         "marker": {
          "color": [
           79.27
          ],
          "coloraxis": "coloraxis",
          "line": {
           "color": "Black",
           "width": 1
          },
          "opacity": [
           0.8
          ],
          "size": [
           40
          ],
          "symbol": [
           "star"
          ]
         },
         "mode": "markers",
         "name": "Linear Discriminant Analysis",
         "type": "scatter",
         "x": [
          20.582094192504883
         ],
         "y": [
          19.93145179748535
         ]
        },
        {
         "hovertext": [
          "Quadratic Discriminant Analysis<br>Performance: 79.22%<br>Model ID: meta_6<br>Accuracy: 81.97%<br>Precision: 82.14%<br>Recall: 81.97%<br>ROC AUC: 81.44<br>Geometric Mean: 81.44<br>Matthews Correlation: 63.71<br>F1: 81.85<br>Average Probability: 71.93"
         ],
         "marker": {
          "color": [
           79.22
          ],
          "coloraxis": "coloraxis",
          "line": {
           "color": "Black",
           "width": 1
          },
          "opacity": [
           0.6
          ],
          "size": [
           40
          ],
          "symbol": [
           "hexagram"
          ]
         },
         "mode": "markers",
         "name": "Quadratic Discriminant Analysis",
         "type": "scatter",
         "x": [
          19.252403259277344
         ],
         "y": [
          19.03253936767578
         ]
        },
        {
         "hovertext": [
          "Random Forest<br>Performance: 81.12%<br>Model ID: 2570<br>Accuracy: 83.61%<br>Precision: 83.66%<br>Recall: 83.61%<br>ROC AUC: 83.23<br>Geometric Mean: 83.22<br>Matthews Correlation: 66.96<br>F1: 83.54<br>Average Probability: 72.15",
          "Random Forest<br>Performance: 81.12%<br>Model ID: 2571<br>Accuracy: 83.61%<br>Precision: 83.66%<br>Recall: 83.61%<br>ROC AUC: 83.23<br>Geometric Mean: 83.22<br>Matthews Correlation: 66.96<br>F1: 83.54<br>Average Probability: 72.23",
          "Random Forest<br>Performance: 81.12%<br>Model ID: 2572<br>Accuracy: 83.61%<br>Precision: 83.66%<br>Recall: 83.61%<br>ROC AUC: 83.23<br>Geometric Mean: 83.22<br>Matthews Correlation: 66.96<br>F1: 83.54<br>Average Probability: 72.21",
          "Random Forest<br>Performance: 81.12%<br>Model ID: 2575<br>Accuracy: 83.61%<br>Precision: 83.66%<br>Recall: 83.61%<br>ROC AUC: 83.23<br>Geometric Mean: 83.22<br>Matthews Correlation: 66.96<br>F1: 83.54<br>Average Probability: 72.13",
          "Random Forest<br>Performance: 81.12%<br>Model ID: 2606<br>Accuracy: 83.61%<br>Precision: 83.66%<br>Recall: 83.61%<br>ROC AUC: 83.23<br>Geometric Mean: 83.22<br>Matthews Correlation: 66.96<br>F1: 83.54<br>Average Probability: 71.82",
          "Random Forest<br>Performance: 69.8%<br>Model ID: meta_11<br>Accuracy: 73.77%<br>Precision: 73.73%<br>Recall: 73.77%<br>ROC AUC: 73.32<br>Geometric Mean: 73.32<br>Matthews Correlation: 47.0<br>F1: 73.67<br>Average Probability: 67.79"
         ],
         "marker": {
          "color": [
           81.12,
           81.12,
           81.12,
           81.12,
           81.12,
           69.8
          ],
          "coloraxis": "coloraxis",
          "line": {
           "color": "Black",
           "width": 1
          },
          "opacity": [
           0.6,
           0.6,
           0.6,
           0.6,
           0.6,
           0.5
          ],
          "size": [
           20,
           20,
           20,
           20,
           20,
           40
          ],
          "symbol": [
           "triangle-right",
           "triangle-right",
           "triangle-right",
           "triangle-right",
           "triangle-right",
           "triangle-right"
          ]
         },
         "mode": "markers",
         "name": "Random Forest",
         "type": "scatter",
         "x": [
          17.806373596191406,
          17.898231506347656,
          18.58470344543457,
          18.695209503173828,
          17.345834732055664,
          16.7379093170166
         ],
         "y": [
          16.765514373779297,
          16.079082489013672,
          16.56053924560547,
          17.516895294189453,
          17.9285888671875,
          19.67880630493164
         ]
        },
        {
         "hovertext": [
          "Extra Trees<br>Performance: 83.0%<br>Model ID: 2623<br>Accuracy: 85.25%<br>Precision: 85.48%<br>Recall: 85.25%<br>ROC AUC: 84.74<br>Geometric Mean: 84.74<br>Matthews Correlation: 70.4<br>F1: 85.15<br>Average Probability: 72.8",
          "Extra Trees<br>Performance: 83.0%<br>Model ID: 2717<br>Accuracy: 85.25%<br>Precision: 85.48%<br>Recall: 85.25%<br>ROC AUC: 84.74<br>Geometric Mean: 84.74<br>Matthews Correlation: 70.4<br>F1: 85.15<br>Average Probability: 73.48",
          "Extra Trees<br>Performance: 83.0%<br>Model ID: 2718<br>Accuracy: 85.25%<br>Precision: 85.48%<br>Recall: 85.25%<br>ROC AUC: 84.74<br>Geometric Mean: 84.74<br>Matthews Correlation: 70.4<br>F1: 85.15<br>Average Probability: 73.48",
          "Extra Trees<br>Performance: 83.0%<br>Model ID: 2625<br>Accuracy: 85.25%<br>Precision: 85.48%<br>Recall: 85.25%<br>ROC AUC: 84.74<br>Geometric Mean: 84.74<br>Matthews Correlation: 70.4<br>F1: 85.15<br>Average Probability: 72.72",
          "Extra Trees<br>Performance: 83.0%<br>Model ID: 2716<br>Accuracy: 85.25%<br>Precision: 85.48%<br>Recall: 85.25%<br>ROC AUC: 84.74<br>Geometric Mean: 84.74<br>Matthews Correlation: 70.4<br>F1: 85.15<br>Average Probability: 73.51",
          "Extra Trees<br>Performance: 69.73%<br>Model ID: meta_10<br>Accuracy: 73.77%<br>Precision: 73.9%<br>Recall: 73.77%<br>ROC AUC: 73.05<br>Geometric Mean: 73.05<br>Matthews Correlation: 47.03<br>F1: 73.51<br>Average Probability: 68.4"
         ],
         "marker": {
          "color": [
           83,
           83,
           83,
           83,
           83,
           69.73
          ],
          "coloraxis": "coloraxis",
          "line": {
           "color": "Black",
           "width": 1
          },
          "opacity": [
           0.7,
           0.7,
           0.7,
           0.7,
           0.7,
           0.5
          ],
          "size": [
           20,
           20,
           20,
           20,
           20,
           40
          ],
          "symbol": [
           "triangle-left",
           "triangle-left",
           "triangle-left",
           "triangle-left",
           "triangle-left",
           "triangle-left"
          ]
         },
         "mode": "markers",
         "name": "Extra Trees",
         "type": "scatter",
         "x": [
          25.653152465820312,
          25.18903350830078,
          25.18352508544922,
          26.043304443359375,
          26.015464782714844,
          16.82596206665039
         ],
         "y": [
          18.57874298095703,
          17.921056747436523,
          17.3516902923584,
          18.097307205200195,
          17.137866973876953,
          19.060022354125977
         ]
        },
        {
         "hovertext": [
          "Adaptive Boosting<br>Performance: 81.12%<br>Model ID: meta_8<br>Accuracy: 83.61%<br>Precision: 83.66%<br>Recall: 83.61%<br>ROC AUC: 83.23<br>Geometric Mean: 83.22<br>Matthews Correlation: 66.96<br>F1: 83.54<br>Average Probability: 59.47"
         ],
         "marker": {
          "color": [
           81.12
          ],
          "coloraxis": "coloraxis",
          "line": {
           "color": "Black",
           "width": 1
          },
          "opacity": [
           0.2
          ],
          "size": [
           40
          ],
          "symbol": [
           "triangle-down"
          ]
         },
         "mode": "markers",
         "name": "Adaptive Boosting",
         "type": "scatter",
         "x": [
          17.793737411499023
         ],
         "y": [
          17.453258514404297
         ]
        },
        {
         "hovertext": [
          "Gradient Boosting<br>Performance: 67.97%<br>Model ID: meta_9<br>Accuracy: 72.13%<br>Precision: 72.08%<br>Recall: 72.13%<br>ROC AUC: 71.81<br>Geometric Mean: 71.81<br>Matthews Correlation: 43.76<br>F1: 72.09<br>Average Probability: 70.55"
         ],
         "marker": {
          "color": [
           67.97
          ],
          "coloraxis": "coloraxis",
          "line": {
           "color": "Black",
           "width": 1
          },
          "opacity": [
           0.6
          ],
          "size": [
           40
          ],
          "symbol": [
           "triangle-up"
          ]
         },
         "mode": "markers",
         "name": "Gradient Boosting",
         "type": "scatter",
         "x": [
          17.280914306640625
         ],
         "y": [
          19.665021896362305
         ]
        },
        {
         "hovertext": [
          "K-Nearest Neighbor<br>Performance: 79.22%<br>Model ID: meta_7<br>Accuracy: 81.97%<br>Precision: 82.14%<br>Recall: 81.97%<br>ROC AUC: 81.44<br>Geometric Mean: 81.44<br>Matthews Correlation: 63.71<br>F1: 81.85<br>Average Probability: 71.22"
         ],
         "marker": {
          "color": [
           79.22
          ],
          "coloraxis": "coloraxis",
          "line": {
           "color": "Black",
           "width": 1
          },
          "opacity": [
           0.6
          ],
          "size": [
           40
          ],
          "symbol": [
           "circle"
          ]
         },
         "mode": "markers",
         "name": "K-Nearest Neighbor",
         "type": "scatter",
         "x": [
          3.403475522994995
         ],
         "y": [
          10.019758224487305
         ]
        },
        {
         "hovertext": [
          "Support Vector Machine<br>Performance: 79.22%<br>Model ID: meta_5<br>Accuracy: 81.97%<br>Precision: 82.14%<br>Recall: 81.97%<br>ROC AUC: 81.44<br>Geometric Mean: 81.44<br>Matthews Correlation: 63.71<br>F1: 81.85<br>Average Probability: 72.21"
         ],
         "marker": {
          "color": [
           79.22
          ],
          "coloraxis": "coloraxis",
          "line": {
           "color": "Black",
           "width": 1
          },
          "opacity": [
           0.6
          ],
          "size": [
           40
          ],
          "symbol": [
           "square"
          ]
         },
         "mode": "markers",
         "name": "Support Vector Machine",
         "type": "scatter",
         "x": [
          1.7948989868164062
         ],
         "y": [
          11.631184577941895
         ]
        },
        {
         "hovertext": [
          "Gaussian Naive Bayes<br>Performance: 79.22%<br>Model ID: meta_1<br>Accuracy: 81.97%<br>Precision: 82.14%<br>Recall: 81.97%<br>ROC AUC: 81.44<br>Geometric Mean: 81.44<br>Matthews Correlation: 63.71<br>F1: 81.85<br>Average Probability: 82.57"
         ],
         "marker": {
          "color": [
           79.22
          ],
          "coloraxis": "coloraxis",
          "line": {
           "color": "Black",
           "width": 1
          },
          "opacity": [
           1
          ],
          "size": [
           40
          ],
          "symbol": [
           "x"
          ]
         },
         "mode": "markers",
         "name": "Gaussian Naive Bayes",
         "type": "scatter",
         "x": [
          1.044605016708374
         ],
         "y": [
          11.800150871276855
         ]
        },
        {
         "hovertext": [
          "Multilayer Perceptron<br>Performance: 81.12%<br>Model ID: meta_4<br>Accuracy: 83.61%<br>Precision: 83.66%<br>Recall: 83.61%<br>ROC AUC: 83.23<br>Geometric Mean: 83.22<br>Matthews Correlation: 66.96<br>F1: 83.54<br>Average Probability: 71.23"
         ],
         "marker": {
          "color": [
           81.12
          ],
          "coloraxis": "coloraxis",
          "line": {
           "color": "Black",
           "width": 1
          },
          "opacity": [
           0.6
          ],
          "size": [
           40
          ],
          "symbol": [
           "cross"
          ]
         },
         "mode": "markers",
         "name": "Multilayer Perceptron",
         "type": "scatter",
         "x": [
          1.0857017040252686
         ],
         "y": [
          10.285515785217285
         ]
        },
        {
         "hovertext": [
          "Logistic Regression<br>Performance: 79.22%<br>Model ID: meta_3<br>Accuracy: 81.97%<br>Precision: 82.14%<br>Recall: 81.97%<br>ROC AUC: 81.44<br>Geometric Mean: 81.44<br>Matthews Correlation: 63.71<br>F1: 81.85<br>Average Probability: 73.32"
         ],
         "marker": {
          "color": [
           79.22
          ],
          "coloraxis": "coloraxis",
          "line": {
           "color": "Black",
           "width": 1
          },
          "opacity": [
           0.7
          ],
          "size": [
           40
          ],
          "symbol": [
           "diamond"
          ]
         },
         "mode": "markers",
         "name": "Logistic Regression",
         "type": "scatter",
         "x": [
          1.7585093975067139
         ],
         "y": [
          10.74331283569336
         ]
        },
        {
         "hovertext": [
          "Linear Discriminant Analysis<br>Performance: 79.27%<br>Model ID: meta_2<br>Accuracy: 81.97%<br>Precision: 81.95%<br>Recall: 81.97%<br>ROC AUC: 81.71<br>Geometric Mean: 81.71<br>Matthews Correlation: 63.63<br>F1: 81.94<br>Average Probability: 77.86"
         ],
         "marker": {
          "color": [
           79.27
          ],
          "coloraxis": "coloraxis",
          "line": {
           "color": "Black",
           "width": 1
          },
          "opacity": [
           0.8
          ],
          "size": [
           40
          ],
          "symbol": [
           "star"
          ]
         },
         "mode": "markers",
         "name": "Linear Discriminant Analysis",
         "type": "scatter",
         "x": [
          0.6393058896064758
         ],
         "y": [
          10.936223983764648
         ]
        },
        {
         "hovertext": [
          "Quadratic Discriminant Analysis<br>Performance: 79.22%<br>Model ID: meta_6<br>Accuracy: 81.97%<br>Precision: 82.14%<br>Recall: 81.97%<br>ROC AUC: 81.44<br>Geometric Mean: 81.44<br>Matthews Correlation: 63.71<br>F1: 81.85<br>Average Probability: 71.93"
         ],
         "marker": {
          "color": [
           79.22
          ],
          "coloraxis": "coloraxis",
          "line": {
           "color": "Black",
           "width": 1
          },
          "opacity": [
           0.6
          ],
          "size": [
           40
          ],
          "symbol": [
           "hexagram"
          ]
         },
         "mode": "markers",
         "name": "Quadratic Discriminant Analysis",
         "type": "scatter",
         "x": [
          0.5512857437133789
         ],
         "y": [
          9.819517135620117
         ]
        },
        {
         "hovertext": [
          "Random Forest<br>Performance: 81.12%<br>Model ID: 2570<br>Accuracy: 83.61%<br>Precision: 83.66%<br>Recall: 83.61%<br>ROC AUC: 83.23<br>Geometric Mean: 83.22<br>Matthews Correlation: 66.96<br>F1: 83.54<br>Average Probability: 72.15",
          "Random Forest<br>Performance: 81.12%<br>Model ID: 2571<br>Accuracy: 83.61%<br>Precision: 83.66%<br>Recall: 83.61%<br>ROC AUC: 83.23<br>Geometric Mean: 83.22<br>Matthews Correlation: 66.96<br>F1: 83.54<br>Average Probability: 72.23",
          "Random Forest<br>Performance: 81.12%<br>Model ID: 2572<br>Accuracy: 83.61%<br>Precision: 83.66%<br>Recall: 83.61%<br>ROC AUC: 83.23<br>Geometric Mean: 83.22<br>Matthews Correlation: 66.96<br>F1: 83.54<br>Average Probability: 72.21",
          "Random Forest<br>Performance: 81.12%<br>Model ID: 2575<br>Accuracy: 83.61%<br>Precision: 83.66%<br>Recall: 83.61%<br>ROC AUC: 83.23<br>Geometric Mean: 83.22<br>Matthews Correlation: 66.96<br>F1: 83.54<br>Average Probability: 72.13",
          "Random Forest<br>Performance: 81.12%<br>Model ID: 2606<br>Accuracy: 83.61%<br>Precision: 83.66%<br>Recall: 83.61%<br>ROC AUC: 83.23<br>Geometric Mean: 83.22<br>Matthews Correlation: 66.96<br>F1: 83.54<br>Average Probability: 71.82",
          "Random Forest<br>Performance: 69.8%<br>Model ID: meta_11<br>Accuracy: 73.77%<br>Precision: 73.73%<br>Recall: 73.77%<br>ROC AUC: 73.32<br>Geometric Mean: 73.32<br>Matthews Correlation: 47.0<br>F1: 73.67<br>Average Probability: 67.79"
         ],
         "marker": {
          "color": [
           81.12,
           81.12,
           81.12,
           81.12,
           81.12,
           69.8
          ],
          "coloraxis": "coloraxis",
          "line": {
           "color": "Black",
           "width": 1
          },
          "opacity": [
           0.6,
           0.6,
           0.6,
           0.6,
           0.6,
           0.5
          ],
          "size": [
           20,
           20,
           20,
           20,
           20,
           40
          ],
          "symbol": [
           "triangle-right",
           "triangle-right",
           "triangle-right",
           "triangle-right",
           "triangle-right",
           "triangle-right"
          ]
         },
         "mode": "markers",
         "name": "Random Forest",
         "type": "scatter",
         "x": [
          5.019708633422852,
          4.241571426391602,
          4.585529327392578,
          3.47717022895813,
          3.942781448364258,
          4.17057466506958
         ],
         "y": [
          11.6194486618042,
          11.773072242736816,
          12.42955493927002,
          12.115959167480469,
          10.788548469543457,
          9.545183181762695
         ]
        },
        {
         "hovertext": [
          "Extra Trees<br>Performance: 83.0%<br>Model ID: 2623<br>Accuracy: 85.25%<br>Precision: 85.48%<br>Recall: 85.25%<br>ROC AUC: 84.74<br>Geometric Mean: 84.74<br>Matthews Correlation: 70.4<br>F1: 85.15<br>Average Probability: 72.8",
          "Extra Trees<br>Performance: 83.0%<br>Model ID: 2717<br>Accuracy: 85.25%<br>Precision: 85.48%<br>Recall: 85.25%<br>ROC AUC: 84.74<br>Geometric Mean: 84.74<br>Matthews Correlation: 70.4<br>F1: 85.15<br>Average Probability: 73.48",
          "Extra Trees<br>Performance: 83.0%<br>Model ID: 2718<br>Accuracy: 85.25%<br>Precision: 85.48%<br>Recall: 85.25%<br>ROC AUC: 84.74<br>Geometric Mean: 84.74<br>Matthews Correlation: 70.4<br>F1: 85.15<br>Average Probability: 73.48",
          "Extra Trees<br>Performance: 83.0%<br>Model ID: 2625<br>Accuracy: 85.25%<br>Precision: 85.48%<br>Recall: 85.25%<br>ROC AUC: 84.74<br>Geometric Mean: 84.74<br>Matthews Correlation: 70.4<br>F1: 85.15<br>Average Probability: 72.72",
          "Extra Trees<br>Performance: 83.0%<br>Model ID: 2716<br>Accuracy: 85.25%<br>Precision: 85.48%<br>Recall: 85.25%<br>ROC AUC: 84.74<br>Geometric Mean: 84.74<br>Matthews Correlation: 70.4<br>F1: 85.15<br>Average Probability: 73.51",
          "Extra Trees<br>Performance: 69.73%<br>Model ID: meta_10<br>Accuracy: 73.77%<br>Precision: 73.9%<br>Recall: 73.77%<br>ROC AUC: 73.05<br>Geometric Mean: 73.05<br>Matthews Correlation: 47.03<br>F1: 73.51<br>Average Probability: 68.4"
         ],
         "marker": {
          "color": [
           83,
           83,
           83,
           83,
           83,
           69.73
          ],
          "coloraxis": "coloraxis",
          "line": {
           "color": "Black",
           "width": 1
          },
          "opacity": [
           0.7,
           0.7,
           0.7,
           0.7,
           0.7,
           0.5
          ],
          "size": [
           20,
           20,
           20,
           20,
           20,
           40
          ],
          "symbol": [
           "triangle-left",
           "triangle-left",
           "triangle-left",
           "triangle-left",
           "triangle-left",
           "triangle-left"
          ]
         },
         "mode": "markers",
         "name": "Extra Trees",
         "type": "scatter",
         "x": [
          -2.027515411376953,
          -0.6010492444038391,
          -0.7930346727371216,
          -1.6085680723190308,
          -1.1751419305801392,
          4.990901947021484
         ],
         "y": [
          10.263120651245117,
          10.367104530334473,
          9.588769912719727,
          9.792092323303223,
          10.76641845703125,
          9.940613746643066
         ]
        },
        {
         "hovertext": [
          "Adaptive Boosting<br>Performance: 81.12%<br>Model ID: meta_8<br>Accuracy: 83.61%<br>Precision: 83.66%<br>Recall: 83.61%<br>ROC AUC: 83.23<br>Geometric Mean: 83.22<br>Matthews Correlation: 66.96<br>F1: 83.54<br>Average Probability: 59.47"
         ],
         "marker": {
          "color": [
           81.12
          ],
          "coloraxis": "coloraxis",
          "line": {
           "color": "Black",
           "width": 1
          },
          "opacity": [
           0.2
          ],
          "size": [
           40
          ],
          "symbol": [
           "triangle-down"
          ]
         },
         "mode": "markers",
         "name": "Adaptive Boosting",
         "type": "scatter",
         "x": [
          3.2943942546844482
         ],
         "y": [
          11.291548728942871
         ]
        },
        {
         "hovertext": [
          "Gradient Boosting<br>Performance: 67.97%<br>Model ID: meta_9<br>Accuracy: 72.13%<br>Precision: 72.08%<br>Recall: 72.13%<br>ROC AUC: 71.81<br>Geometric Mean: 71.81<br>Matthews Correlation: 43.76<br>F1: 72.09<br>Average Probability: 70.55"
         ],
         "marker": {
          "color": [
           67.97
          ],
          "coloraxis": "coloraxis",
          "line": {
           "color": "Black",
           "width": 1
          },
          "opacity": [
           0.6
          ],
          "size": [
           40
          ],
          "symbol": [
           "triangle-up"
          ]
         },
         "mode": "markers",
         "name": "Gradient Boosting",
         "type": "scatter",
         "x": [
          4.854747772216797
         ],
         "y": [
          9.115459442138672
         ]
        }
       ],
       "layout": {
        "coloraxis": {
         "cmax": 90,
         "cmin": 60,
         "colorbar": {
          "title": {
           "side": "right",
           "text": "Metric-Based Performance"
          }
         },
         "colorscale": [
          [
           0,
           "#440154"
          ],
          [
           0.1111111111111111,
           "#482878"
          ],
          [
           0.2222222222222222,
           "#3e4989"
          ],
          [
           0.3333333333333333,
           "#31688e"
          ],
          [
           0.4444444444444444,
           "#26828e"
          ],
          [
           0.5555555555555556,
           "#1f9e89"
          ],
          [
           0.6666666666666666,
           "#35b779"
          ],
          [
           0.7777777777777778,
           "#6ece58"
          ],
          [
           0.8888888888888888,
           "#b5de2b"
          ],
          [
           1,
           "#fde725"
          ]
         ]
        },
        "height": 800,
        "hoverlabel": {
         "bgcolor": "white",
         "font": {
          "family": "Rockwell",
          "size": 14
         }
        },
        "hovermode": "closest",
        "legend": {
         "title": {
          "text": "Algorithm"
         },
         "traceorder": "normal",
         "x": -0.4,
         "y": 1
        },
        "margin": {
         "b": 0,
         "l": 0,
         "r": 0,
         "t": 0
        },
        "paper_bgcolor": "rgba(0,0,0,0)",
        "plot_bgcolor": "rgba(0,0,0,0)",
        "showlegend": true,
        "template": {
         "data": {
          "bar": [
           {
            "error_x": {
             "color": "#2a3f5f"
            },
            "error_y": {
             "color": "#2a3f5f"
            },
            "marker": {
             "line": {
              "color": "#E5ECF6",
              "width": 0.5
             },
             "pattern": {
              "fillmode": "overlay",
              "size": 10,
              "solidity": 0.2
             }
            },
            "type": "bar"
           }
          ],
          "barpolar": [
           {
            "marker": {
             "line": {
              "color": "#E5ECF6",
              "width": 0.5
             },
             "pattern": {
              "fillmode": "overlay",
              "size": 10,
              "solidity": 0.2
             }
            },
            "type": "barpolar"
           }
          ],
          "carpet": [
           {
            "aaxis": {
             "endlinecolor": "#2a3f5f",
             "gridcolor": "white",
             "linecolor": "white",
             "minorgridcolor": "white",
             "startlinecolor": "#2a3f5f"
            },
            "baxis": {
             "endlinecolor": "#2a3f5f",
             "gridcolor": "white",
             "linecolor": "white",
             "minorgridcolor": "white",
             "startlinecolor": "#2a3f5f"
            },
            "type": "carpet"
           }
          ],
          "choropleth": [
           {
            "colorbar": {
             "outlinewidth": 0,
             "ticks": ""
            },
            "type": "choropleth"
           }
          ],
          "contour": [
           {
            "colorbar": {
             "outlinewidth": 0,
             "ticks": ""
            },
            "colorscale": [
             [
              0,
              "#0d0887"
             ],
             [
              0.1111111111111111,
              "#46039f"
             ],
             [
              0.2222222222222222,
              "#7201a8"
             ],
             [
              0.3333333333333333,
              "#9c179e"
             ],
             [
              0.4444444444444444,
              "#bd3786"
             ],
             [
              0.5555555555555556,
              "#d8576b"
             ],
             [
              0.6666666666666666,
              "#ed7953"
             ],
             [
              0.7777777777777778,
              "#fb9f3a"
             ],
             [
              0.8888888888888888,
              "#fdca26"
             ],
             [
              1,
              "#f0f921"
             ]
            ],
            "type": "contour"
           }
          ],
          "contourcarpet": [
           {
            "colorbar": {
             "outlinewidth": 0,
             "ticks": ""
            },
            "type": "contourcarpet"
           }
          ],
          "heatmap": [
           {
            "colorbar": {
             "outlinewidth": 0,
             "ticks": ""
            },
            "colorscale": [
             [
              0,
              "#0d0887"
             ],
             [
              0.1111111111111111,
              "#46039f"
             ],
             [
              0.2222222222222222,
              "#7201a8"
             ],
             [
              0.3333333333333333,
              "#9c179e"
             ],
             [
              0.4444444444444444,
              "#bd3786"
             ],
             [
              0.5555555555555556,
              "#d8576b"
             ],
             [
              0.6666666666666666,
              "#ed7953"
             ],
             [
              0.7777777777777778,
              "#fb9f3a"
             ],
             [
              0.8888888888888888,
              "#fdca26"
             ],
             [
              1,
              "#f0f921"
             ]
            ],
            "type": "heatmap"
           }
          ],
          "heatmapgl": [
           {
            "colorbar": {
             "outlinewidth": 0,
             "ticks": ""
            },
            "colorscale": [
             [
              0,
              "#0d0887"
             ],
             [
              0.1111111111111111,
              "#46039f"
             ],
             [
              0.2222222222222222,
              "#7201a8"
             ],
             [
              0.3333333333333333,
              "#9c179e"
             ],
             [
              0.4444444444444444,
              "#bd3786"
             ],
             [
              0.5555555555555556,
              "#d8576b"
             ],
             [
              0.6666666666666666,
              "#ed7953"
             ],
             [
              0.7777777777777778,
              "#fb9f3a"
             ],
             [
              0.8888888888888888,
              "#fdca26"
             ],
             [
              1,
              "#f0f921"
             ]
            ],
            "type": "heatmapgl"
           }
          ],
          "histogram": [
           {
            "marker": {
             "pattern": {
              "fillmode": "overlay",
              "size": 10,
              "solidity": 0.2
             }
            },
            "type": "histogram"
           }
          ],
          "histogram2d": [
           {
            "colorbar": {
             "outlinewidth": 0,
             "ticks": ""
            },
            "colorscale": [
             [
              0,
              "#0d0887"
             ],
             [
              0.1111111111111111,
              "#46039f"
             ],
             [
              0.2222222222222222,
              "#7201a8"
             ],
             [
              0.3333333333333333,
              "#9c179e"
             ],
             [
              0.4444444444444444,
              "#bd3786"
             ],
             [
              0.5555555555555556,
              "#d8576b"
             ],
             [
              0.6666666666666666,
              "#ed7953"
             ],
             [
              0.7777777777777778,
              "#fb9f3a"
             ],
             [
              0.8888888888888888,
              "#fdca26"
             ],
             [
              1,
              "#f0f921"
             ]
            ],
            "type": "histogram2d"
           }
          ],
          "histogram2dcontour": [
           {
            "colorbar": {
             "outlinewidth": 0,
             "ticks": ""
            },
            "colorscale": [
             [
              0,
              "#0d0887"
             ],
             [
              0.1111111111111111,
              "#46039f"
             ],
             [
              0.2222222222222222,
              "#7201a8"
             ],
             [
              0.3333333333333333,
              "#9c179e"
             ],
             [
              0.4444444444444444,
              "#bd3786"
             ],
             [
              0.5555555555555556,
              "#d8576b"
             ],
             [
              0.6666666666666666,
              "#ed7953"
             ],
             [
              0.7777777777777778,
              "#fb9f3a"
             ],
             [
              0.8888888888888888,
              "#fdca26"
             ],
             [
              1,
              "#f0f921"
             ]
            ],
            "type": "histogram2dcontour"
           }
          ],
          "mesh3d": [
           {
            "colorbar": {
             "outlinewidth": 0,
             "ticks": ""
            },
            "type": "mesh3d"
           }
          ],
          "parcoords": [
           {
            "line": {
             "colorbar": {
              "outlinewidth": 0,
              "ticks": ""
             }
            },
            "type": "parcoords"
           }
          ],
          "pie": [
           {
            "automargin": true,
            "type": "pie"
           }
          ],
          "scatter": [
           {
            "fillpattern": {
             "fillmode": "overlay",
             "size": 10,
             "solidity": 0.2
            },
            "type": "scatter"
           }
          ],
          "scatter3d": [
           {
            "line": {
             "colorbar": {
              "outlinewidth": 0,
              "ticks": ""
             }
            },
            "marker": {
             "colorbar": {
              "outlinewidth": 0,
              "ticks": ""
             }
            },
            "type": "scatter3d"
           }
          ],
          "scattercarpet": [
           {
            "marker": {
             "colorbar": {
              "outlinewidth": 0,
              "ticks": ""
             }
            },
            "type": "scattercarpet"
           }
          ],
          "scattergeo": [
           {
            "marker": {
             "colorbar": {
              "outlinewidth": 0,
              "ticks": ""
             }
            },
            "type": "scattergeo"
           }
          ],
          "scattergl": [
           {
            "marker": {
             "colorbar": {
              "outlinewidth": 0,
              "ticks": ""
             }
            },
            "type": "scattergl"
           }
          ],
          "scattermapbox": [
           {
            "marker": {
             "colorbar": {
              "outlinewidth": 0,
              "ticks": ""
             }
            },
            "type": "scattermapbox"
           }
          ],
          "scatterpolar": [
           {
            "marker": {
             "colorbar": {
              "outlinewidth": 0,
              "ticks": ""
             }
            },
            "type": "scatterpolar"
           }
          ],
          "scatterpolargl": [
           {
            "marker": {
             "colorbar": {
              "outlinewidth": 0,
              "ticks": ""
             }
            },
            "type": "scatterpolargl"
           }
          ],
          "scatterternary": [
           {
            "marker": {
             "colorbar": {
              "outlinewidth": 0,
              "ticks": ""
             }
            },
            "type": "scatterternary"
           }
          ],
          "surface": [
           {
            "colorbar": {
             "outlinewidth": 0,
             "ticks": ""
            },
            "colorscale": [
             [
              0,
              "#0d0887"
             ],
             [
              0.1111111111111111,
              "#46039f"
             ],
             [
              0.2222222222222222,
              "#7201a8"
             ],
             [
              0.3333333333333333,
              "#9c179e"
             ],
             [
              0.4444444444444444,
              "#bd3786"
             ],
             [
              0.5555555555555556,
              "#d8576b"
             ],
             [
              0.6666666666666666,
              "#ed7953"
             ],
             [
              0.7777777777777778,
              "#fb9f3a"
             ],
             [
              0.8888888888888888,
              "#fdca26"
             ],
             [
              1,
              "#f0f921"
             ]
            ],
            "type": "surface"
           }
          ],
          "table": [
           {
            "cells": {
             "fill": {
              "color": "#EBF0F8"
             },
             "line": {
              "color": "white"
             }
            },
            "header": {
             "fill": {
              "color": "#C8D4E3"
             },
             "line": {
              "color": "white"
             }
            },
            "type": "table"
           }
          ]
         },
         "layout": {
          "annotationdefaults": {
           "arrowcolor": "#2a3f5f",
           "arrowhead": 0,
           "arrowwidth": 1
          },
          "autotypenumbers": "strict",
          "coloraxis": {
           "colorbar": {
            "outlinewidth": 0,
            "ticks": ""
           }
          },
          "colorscale": {
           "diverging": [
            [
             0,
             "#8e0152"
            ],
            [
             0.1,
             "#c51b7d"
            ],
            [
             0.2,
             "#de77ae"
            ],
            [
             0.3,
             "#f1b6da"
            ],
            [
             0.4,
             "#fde0ef"
            ],
            [
             0.5,
             "#f7f7f7"
            ],
            [
             0.6,
             "#e6f5d0"
            ],
            [
             0.7,
             "#b8e186"
            ],
            [
             0.8,
             "#7fbc41"
            ],
            [
             0.9,
             "#4d9221"
            ],
            [
             1,
             "#276419"
            ]
           ],
           "sequential": [
            [
             0,
             "#0d0887"
            ],
            [
             0.1111111111111111,
             "#46039f"
            ],
            [
             0.2222222222222222,
             "#7201a8"
            ],
            [
             0.3333333333333333,
             "#9c179e"
            ],
            [
             0.4444444444444444,
             "#bd3786"
            ],
            [
             0.5555555555555556,
             "#d8576b"
            ],
            [
             0.6666666666666666,
             "#ed7953"
            ],
            [
             0.7777777777777778,
             "#fb9f3a"
            ],
            [
             0.8888888888888888,
             "#fdca26"
            ],
            [
             1,
             "#f0f921"
            ]
           ],
           "sequentialminus": [
            [
             0,
             "#0d0887"
            ],
            [
             0.1111111111111111,
             "#46039f"
            ],
            [
             0.2222222222222222,
             "#7201a8"
            ],
            [
             0.3333333333333333,
             "#9c179e"
            ],
            [
             0.4444444444444444,
             "#bd3786"
            ],
            [
             0.5555555555555556,
             "#d8576b"
            ],
            [
             0.6666666666666666,
             "#ed7953"
            ],
            [
             0.7777777777777778,
             "#fb9f3a"
            ],
            [
             0.8888888888888888,
             "#fdca26"
            ],
            [
             1,
             "#f0f921"
            ]
           ]
          },
          "colorway": [
           "#636efa",
           "#EF553B",
           "#00cc96",
           "#ab63fa",
           "#FFA15A",
           "#19d3f3",
           "#FF6692",
           "#B6E880",
           "#FF97FF",
           "#FECB52"
          ],
          "font": {
           "color": "#2a3f5f"
          },
          "geo": {
           "bgcolor": "white",
           "lakecolor": "white",
           "landcolor": "#E5ECF6",
           "showlakes": true,
           "showland": true,
           "subunitcolor": "white"
          },
          "hoverlabel": {
           "align": "left"
          },
          "hovermode": "closest",
          "mapbox": {
           "style": "light"
          },
          "paper_bgcolor": "white",
          "plot_bgcolor": "#E5ECF6",
          "polar": {
           "angularaxis": {
            "gridcolor": "white",
            "linecolor": "white",
            "ticks": ""
           },
           "bgcolor": "#E5ECF6",
           "radialaxis": {
            "gridcolor": "white",
            "linecolor": "white",
            "ticks": ""
           }
          },
          "scene": {
           "xaxis": {
            "backgroundcolor": "#E5ECF6",
            "gridcolor": "white",
            "gridwidth": 2,
            "linecolor": "white",
            "showbackground": true,
            "ticks": "",
            "zerolinecolor": "white"
           },
           "yaxis": {
            "backgroundcolor": "#E5ECF6",
            "gridcolor": "white",
            "gridwidth": 2,
            "linecolor": "white",
            "showbackground": true,
            "ticks": "",
            "zerolinecolor": "white"
           },
           "zaxis": {
            "backgroundcolor": "#E5ECF6",
            "gridcolor": "white",
            "gridwidth": 2,
            "linecolor": "white",
            "showbackground": true,
            "ticks": "",
            "zerolinecolor": "white"
           }
          },
          "shapedefaults": {
           "line": {
            "color": "#2a3f5f"
           }
          },
          "ternary": {
           "aaxis": {
            "gridcolor": "white",
            "linecolor": "white",
            "ticks": ""
           },
           "baxis": {
            "gridcolor": "white",
            "linecolor": "white",
            "ticks": ""
           },
           "bgcolor": "#E5ECF6",
           "caxis": {
            "gridcolor": "white",
            "linecolor": "white",
            "ticks": ""
           }
          },
          "title": {
           "x": 0.05
          },
          "xaxis": {
           "automargin": true,
           "gridcolor": "white",
           "linecolor": "white",
           "ticks": "",
           "title": {
            "standoff": 15
           },
           "zerolinecolor": "white",
           "zerolinewidth": 2
          },
          "yaxis": {
           "automargin": true,
           "gridcolor": "white",
           "linecolor": "white",
           "ticks": "",
           "title": {
            "standoff": 15
           },
           "zerolinecolor": "white",
           "zerolinewidth": 2
          }
         }
        },
        "title": {
         "text": "df_model_cluster_3"
        },
        "updatemenus": [
         {
          "active": 0,
          "buttons": [
           {
            "args": [
             {
              "visible": [
               true,
               true,
               true,
               true,
               true,
               true,
               true,
               true,
               true,
               true,
               true,
               false,
               false,
               false,
               false,
               false,
               false,
               false,
               false,
               false,
               false,
               false,
               false,
               false,
               false,
               false,
               false,
               false,
               false,
               false,
               false,
               false,
               false,
               false,
               false,
               false,
               false,
               false,
               false,
               false,
               false,
               false,
               false,
               false,
               false,
               false,
               false,
               false,
               false,
               false,
               false,
               false,
               false,
               false,
               false,
               false,
               false,
               false,
               false,
               false,
               false,
               false,
               false,
               false,
               false,
               false,
               false,
               false,
               false,
               false,
               false,
               false,
               false,
               false,
               false,
               false,
               false,
               false,
               false,
               false,
               false,
               false,
               false,
               false,
               false,
               false,
               false,
               false,
               true
              ]
             }
            ],
            "label": "number of neighbours 3",
            "method": "restyle"
           },
           {
            "args": [
             {
              "visible": [
               false,
               false,
               false,
               false,
               false,
               false,
               false,
               false,
               false,
               false,
               false,
               true,
               true,
               true,
               true,
               true,
               true,
               true,
               true,
               true,
               true,
               true,
               false,
               false,
               false,
               false,
               false,
               false,
               false,
               false,
               false,
               false,
               false,
               false,
               false,
               false,
               false,
               false,
               false,
               false,
               false,
               false,
               false,
               false,
               false,
               false,
               false,
               false,
               false,
               false,
               false,
               false,
               false,
               false,
               false,
               false,
               false,
               false,
               false,
               false,
               false,
               false,
               false,
               false,
               false,
               false,
               false,
               false,
               false,
               false,
               false,
               false,
               false,
               false,
               false,
               false,
               false,
               false,
               false,
               false,
               false,
               false,
               false,
               false,
               false,
               false,
               false,
               false,
               true
              ]
             }
            ],
            "label": "number of neighbours 4",
            "method": "restyle"
           },
           {
            "args": [
             {
              "visible": [
               false,
               false,
               false,
               false,
               false,
               false,
               false,
               false,
               false,
               false,
               false,
               false,
               false,
               false,
               false,
               false,
               false,
               false,
               false,
               false,
               false,
               false,
               true,
               true,
               true,
               true,
               true,
               true,
               true,
               true,
               true,
               true,
               true,
               false,
               false,
               false,
               false,
               false,
               false,
               false,
               false,
               false,
               false,
               false,
               false,
               false,
               false,
               false,
               false,
               false,
               false,
               false,
               false,
               false,
               false,
               false,
               false,
               false,
               false,
               false,
               false,
               false,
               false,
               false,
               false,
               false,
               false,
               false,
               false,
               false,
               false,
               false,
               false,
               false,
               false,
               false,
               false,
               false,
               false,
               false,
               false,
               false,
               false,
               false,
               false,
               false,
               false,
               false,
               true
              ]
             }
            ],
            "label": "number of neighbours 5",
            "method": "restyle"
           },
           {
            "args": [
             {
              "visible": [
               false,
               false,
               false,
               false,
               false,
               false,
               false,
               false,
               false,
               false,
               false,
               false,
               false,
               false,
               false,
               false,
               false,
               false,
               false,
               false,
               false,
               false,
               false,
               false,
               false,
               false,
               false,
               false,
               false,
               false,
               false,
               false,
               false,
               true,
               true,
               true,
               true,
               true,
               true,
               true,
               true,
               true,
               true,
               true,
               false,
               false,
               false,
               false,
               false,
               false,
               false,
               false,
               false,
               false,
               false,
               false,
               false,
               false,
               false,
               false,
               false,
               false,
               false,
               false,
               false,
               false,
               false,
               false,
               false,
               false,
               false,
               false,
               false,
               false,
               false,
               false,
               false,
               false,
               false,
               false,
               false,
               false,
               false,
               false,
               false,
               false,
               false,
               false,
               true
              ]
             }
            ],
            "label": "number of neighbours 6",
            "method": "restyle"
           }
          ],
          "direction": "down",
          "showactive": false
         }
        ],
        "width": 1000,
        "xaxis": {
         "showticklabels": false
        },
        "yaxis": {
         "showticklabels": false
        }
       }
      }
     },
     "metadata": {},
     "output_type": "display_data"
    }
   ],
   "source": [
    "for key_model, key_model_meta, key_prob, key_prob_meta in zip(df_model_dict, df_model_dict_meta, df_prob_dict, df_prob_dict_meta):\n",
    "    fig = plottingUMAP(df_model_dict[key_model], df_model_dict_meta[key_model_meta], df_prob_dict[key_prob], df_prob_dict_meta[key_prob_meta])\n",
    "    fig.update_layout(width=1000, height=800)\n",
    "    # add title to the figure\n",
    "    fig.update_layout(title_text=f'{key_model}')\n",
    "    fig.show()"
   ]
  },
  {
   "cell_type": "markdown",
   "metadata": {},
   "source": [
    "### Scatter plot matrix with Correlation"
   ]
  },
  {
   "cell_type": "markdown",
   "metadata": {},
   "source": [
    "Probability average (deviation difference) for model probabilities for all models – confidence levels <br>\n",
    "Following approach presented: <br>\n",
    "- get probabilities for all 11 metamodels\n",
    "- then comparing 2 metamodels, find the one with better probability of correct class for each instance\n",
    "- add this value as top probability for each instance and calculate the mean value for all instances for both models"
   ]
  },
  {
   "cell_type": "markdown",
   "metadata": {},
   "source": [
    "We will operate further only with prediction results, which are not the same for the all 11 meta models; the main idea is to investigate the differencies and combinations of different metamodels. That can be cosidered as feature engineering to df_pred_meta dataframe (dataframe with all 11 meta models predictions per instance) to keep only the columns, which are not the same for all 11 meta models."
   ]
  },
  {
   "cell_type": "code",
   "execution_count": 24,
   "metadata": {},
   "outputs": [],
   "source": [
    "def plotting_comparison(df_model_meta, df_prob_meta, algo):\n",
    "\n",
    "    algo_cap = [i.upper() for i in algo].copy()\n",
    "\n",
    "\n",
    "    df_prob_meta_t = df_prob_meta.transpose()\n",
    "    # rename columns to correspond to algorithm names based on perfromance metrics\n",
    "    df_prob_meta_t.columns = [i for i in df_model_meta.model_id.unique()]\n",
    "\n",
    "    # total number of predictions\n",
    "    n_total = df_prob_meta_t.shape[0]\n",
    "\n",
    "    # create empty list\n",
    "    prob = []\n",
    "\n",
    "    df_prob_meta_cor = pd.DataFrame(index=df_prob_meta_t.columns, columns=df_prob_meta_t.columns)\n",
    "\n",
    "    for i in range(11):\n",
    "        for j in range(11):\n",
    "            if i != j:\n",
    "                prob = []\n",
    "                # calculate the probability of two models predicting the correct result\n",
    "                for n in range(n_total):\n",
    "                    if df_prob_meta_t.iloc[n, i] > df_prob_meta_t.iloc[n, j]:\n",
    "                        # append df_prob_meta_t.iloc[n, i] to prob\n",
    "                        prob.append(df_prob_meta_t.iloc[n, i])\n",
    "                    else:\n",
    "                        prob.append(df_prob_meta_t.iloc[n, j])\n",
    "                prob_average = np.mean(prob).round(2)\n",
    "                # add 2 models average probability to df_prob_meta_cor\n",
    "                df_prob_meta_cor.loc[f'meta_{i+1}', f'meta_{j+1}'] = prob_average\n",
    "\n",
    "    df_prob_meta_red = df_prob_meta_t[df_prob_meta_t.apply(lambda x: x.min() < 50, axis=1)]\n",
    "    # reset index for df_pred_meta_red and df_prob_meta_red\n",
    "    df_prob_meta_red.reset_index(drop=True, inplace=True)\n",
    "    # add new column to store the average probability for each instance\n",
    "    df_prob_meta_red['average_probability'] = round(df_prob_meta_red.iloc[:,1:].mean(axis=1), 2) \n",
    "    # sort by average_probability_norm\n",
    "    df_prob_meta_red.sort_values(by='average_probability', ascending=False, inplace=True)\n",
    "    # drop avergae_probability_norm column\n",
    "    df_prob_meta_red.drop(columns=['average_probability'], inplace=True)\n",
    "\n",
    "    # create new dataframe with rows and columns like columns in df_pred_meta_t\n",
    "    df_pred_meta_cor = pd.DataFrame(index=df_prob_meta_t.columns, columns=df_prob_meta_t.columns)\n",
    "  \n",
    "    for i in range(11):\n",
    "        for j in range(11):\n",
    "            if i != j:\n",
    "                # calculate how good two models can contribute to the prediction result\n",
    "                result = df_prob_meta_t.apply(lambda x: (x[f'meta_{i+1}'] >= 50) or (x[f'meta_{j+1}'] >= 50), axis=1)\n",
    "                # caclucate the number of wrong predictions for both models\n",
    "                n_wrong = result[result == False].shape[0]\n",
    "                # calculate the percentage of wrong predictions in total number of predictions\n",
    "                perc_correct = round((n_total - n_wrong) / n_total, 4) *100\n",
    "                # save the percentage in the dataframe\n",
    "                df_pred_meta_cor.loc[f'meta_{i+1}', f'meta_{j+1}'] = perc_correct\n",
    "    \n",
    "    # As Plotly does not support the subplot plotting inside another subplot, we have to save each subplot as a \n",
    "    # picture and then load it in the overall plot.\n",
    "\n",
    "    # create subfolder pictures under path\n",
    "    path_pictures_prob = path + './pictures/prob/'\n",
    "    if not os.path.exists(path_pictures_prob):\n",
    "        os.makedirs(path_pictures_prob)\n",
    "    else:\n",
    "        shutil.rmtree(path_pictures_prob)\n",
    "        os.makedirs(path_pictures_prob)\n",
    "\n",
    "    for i in range(1, 12):\n",
    "        for j in range(1, 12):\n",
    "            if i > j:\n",
    "                meta_1 = f'meta_{i}'\n",
    "                meta_2 = f'meta_{j}'\n",
    "                fig = coverage(df_prob_meta_red, meta_1, meta_2)\n",
    "                # save figure\n",
    "                # save fig to json file\n",
    "                fig.write_json(file = path_pictures_prob + f'prob_meta_{i}_meta_{j}.json')\n",
    "                # fig.write_image(file = path_pictures_prob + f'prob_meta_{i}_meta_{j}.webp')\n",
    "\n",
    "    fig = go.Figure()\n",
    "    fig = make_subplots(rows=12, cols=12, vertical_spacing=0.01, horizontal_spacing=0.01)\n",
    "\n",
    "    # define subplot size\n",
    "    fig.update_layout(width=width, height=height)\n",
    "\n",
    "    df_model_meta_metr = df_model_meta[['accuracy', 'precision', 'recall', 'roc_auc_score', 'geometric_mean_score', 'matthews_corrcoef', 'f1_weighted']]\n",
    "\n",
    "    # define colors for average probabilities\n",
    "    df_model_meta_color = pd.DataFrame()\n",
    "    df_model_meta_color['prob'] = df_model_meta.average_probability\n",
    "    # standarize df_test.prob from 0 to 1\n",
    "    df_model_meta_color['prob_norm'] = minmax_scale(df_model_meta_color['prob'], feature_range=(0,1))\n",
    "    # convert df_test.prob_norm to colors\n",
    "    df_model_meta_color['color'] = df_model_meta_color['prob_norm'] * (-225) +225\n",
    "    # convert to int\n",
    "    df_model_meta_color['color'] = df_model_meta_color['color'].astype(int)\n",
    "    # convert to hex\n",
    "    df_model_meta_color['color_hex'] = df_model_meta_color['color'].apply(lambda x: '#%02x%02x%02x' % (x, x, x))\n",
    "\n",
    "    ############################################################\n",
    "\n",
    "    # add subplots for algorithm contribution to end result\n",
    "\n",
    "    for i in range(11):\n",
    "        for j in range(11):\n",
    "            if i < j:\n",
    "\n",
    "                if df_pred_meta_cor.loc[f'meta_{i+1}', f'meta_{j+1}'] > df_prob_meta_cor.loc[f'meta_{i+1}', f'meta_{j+1}']:\n",
    "                    color='#9970ab'\n",
    "                else:\n",
    "                    color='#2ca25f'\n",
    "\n",
    "                fig.add_trace(go.Indicator(\n",
    "                    mode = 'gauge+number+delta',\n",
    "                    value =  df_pred_meta_cor.loc[f'meta_{i+1}', f'meta_{j+1}']/100,\n",
    "                    # add percentage sign to number and decimals to number\n",
    "                    number = {'valueformat':'.1%', 'font': {'size': 9}},\n",
    "                    delta = {'reference': (df_pred_meta_cor.loc[f'meta_{i+1}', f'meta_{j+1}'] - df_prob_meta_cor.loc[f'meta_{i+1}', f'meta_{j+1}'])/100, \n",
    "                            'increasing': {'color': color, 'symbol': ''}, 'decreasing': {'color': color, 'symbol': ''}, 'font': {'size': 9},\n",
    "                            'relative': False, 'valueformat':'.1%'},\n",
    "                    gauge = {\n",
    "                        'axis': {'range': [0.5, 1], 'tickwidth': 1, 'tickfont': {'size': 6}, 'ticklen' : 1, 'tickvals': [0.6, 0.7, 0.8, 0.9]},\n",
    "                        'bar': {'color': \"#fdbf6f\"},\n",
    "                        'steps' : [{'range': [0.5, df_prob_meta_cor.loc[f'meta_{i+1}', f'meta_{j+1}']/100], 'color': \"gray\"}],\n",
    "                        'threshold' : {'line': {'color': color, 'width': 4}, \n",
    "                        'thickness': 1, \n",
    "                        'value': df_prob_meta_cor.loc[f'meta_{i+1}', f'meta_{j+1}']/100}},\n",
    "                    domain = {'row': i+1, 'column': j+1}))\n",
    "\n",
    "    fig.update_layout(\n",
    "        grid = {'rows': 12, 'columns': 12, 'pattern': \"independent\"})\n",
    "                            \n",
    "    ############################################################\n",
    "    # add rows and columns names\n",
    "    for i in range(11):\n",
    "        fig.add_annotation(text=algo_cap[i], showarrow=False, font={\"size\":20, 'color':'#2E5984'}, row=1, col=i+2)\n",
    "    for i in range(11):\n",
    "        fig.add_annotation(text=algo_cap[i], showarrow=False, font={\"size\":20, 'color':'#cd5c5c'}, row=i+2, col=1)\n",
    "\n",
    "    ############################################################\n",
    "\n",
    "    # add subplots for metamodel comparison with color coding\n",
    "    # define sub_plot size\n",
    "    img_width = 500\n",
    "    img_height = 500\n",
    "\n",
    "    for i in range(11):\n",
    "        for j in range(11):\n",
    "            if i > j:\n",
    "                # img = Image.open(path_pictures_prob + f'prob_meta_{i+1}_meta_{j+1}.webp')\n",
    "\n",
    "                # # # Add invisible scatter trace.\n",
    "                # # # This trace is added to help the autoresize logic work.\n",
    "                # fig.add_trace(go.Scatter(x=[0, img_width], y=[0, img_height], mode=\"markers\", marker_opacity=0), row=i+2, col=j+2)\n",
    "\n",
    "                # # Add image\n",
    "                # fig.add_layout_image(dict(source=img, x=0, y = img_height-100, sizex=img_width, sizey=img_height, xref='paper', yref='paper', \n",
    "                #                         opacity=1.0), row=i+2, col=j+2)\n",
    "\n",
    "                fig.add_trace(go.Figure(plotly.io.read_json(path_pictures_prob + f'prob_meta_{i+1}_meta_{j+1}.json'), row=i+2, col=j+2))\n",
    "                \n",
    "                fig.update_layout(showlegend=False)\n",
    "                fig.update_xaxes(showticklabels=False)\n",
    "                fig.update_yaxes(showticklabels=False)\n",
    "\n",
    "    ############################################################\n",
    "\n",
    "    # add subplots for metrics in each algorithm\n",
    "\n",
    "    # return min value from df_model_meta_metr\n",
    "    y_min = df_model_meta_metr.min().min()\n",
    "    # return max value from df_model_meta_metr\n",
    "    y_max = df_model_meta_metr.max().max()\n",
    "\n",
    "    # round down min_value to closest ten\n",
    "    y_min = math.floor(y_min/10)*10\n",
    "    # round up max_value to closest ten\n",
    "    y_max = math.ceil(y_max/10)*10\n",
    "    limit = y_max - y_min\n",
    "\n",
    "    for i in range(11):\n",
    "\n",
    "        fig.add_trace(go.Bar(x = df_model_meta_metr.columns, y = df_model_meta_metr.iloc[i], marker_color=df_model_meta_color.color_hex.iloc[i],\n",
    "                    name = algo_cap[i]), row=i+2, col=i+2)\n",
    "                    # reduce text size\n",
    "        fig.add_annotation(text=f'Conf.: {df_model_meta.average_probability[i]}%', showarrow=False,\n",
    "                    xref=\"x domain\",yref=\"y domain\", yshift =40, \n",
    "                    font={\"size\":10, 'color':'#000000'}, row=i+2, col=i+2)\n",
    "        # update y axis range\n",
    "        fig.update_yaxes(range=[y_min, y_max], row=i+2, col=i+2)\n",
    "        # remove legend and x axes labels\n",
    "        fig.update_layout(showlegend=False)\n",
    "\n",
    "        # define ticklabels for x axis with only first letter uppercase and rotate x axis labels\n",
    "        metrics_capital = df_model_meta_metr.columns.str.capitalize().str[0:1]\n",
    "        # convert to list\n",
    "        metrics_capital = metrics_capital.tolist()\n",
    "        metrics_capital[3] = 'C' # convert to C for ROC_AUC_SCORE\n",
    "        fig.update_xaxes(tickvals=df_model_meta_metr.columns, ticktext=metrics_capital, tickfont= {\"size\":10, 'color':'#000000'}, tickangle=0, row=i+2, col=i+2)\n",
    "        # define ticklabels for y axis with values 70 to 90\n",
    "        if limit <= 10:\n",
    "            fig.update_yaxes(tickvals=[y_min], ticktext=[y_min], row=i+2, col=i+2)\n",
    "        else:\n",
    "            fig.update_yaxes(tickvals=[y_min, y_max-10], ticktext=[y_min, y_max-10], row=i+2, col=i+2)\n",
    "\n",
    "    ############################################################\n",
    "\n",
    "    fig.update_layout(showlegend=False)\n",
    "    fig.update_xaxes(showticklabels=False)\n",
    "    fig.update_yaxes(showticklabels=False)\n",
    "\n",
    "    # remove background color\n",
    "    fig.update_layout(plot_bgcolor='rgba(0,0,0,0)')\n",
    "\n",
    "\n",
    "    # show xaxis and yaxis labels\n",
    "    fig.update_layout(xaxis105_showticklabels=True, xaxis118_showticklabels=True, xaxis131_showticklabels=True, xaxis14_showticklabels=True,\n",
    "    xaxis144_showticklabels=True, xaxis27_showticklabels=True, xaxis40_showticklabels=True, xaxis53_showticklabels=True, xaxis66_showticklabels=True,\n",
    "    xaxis79_showticklabels=True, xaxis92_showticklabels=True)\n",
    "\n",
    "    fig.update_layout(yaxis105_showticklabels=True, yaxis118_showticklabels=True, yaxis131_showticklabels=True, yaxis14_showticklabels=True,\n",
    "    yaxis144_showticklabels=True, yaxis27_showticklabels=True, yaxis40_showticklabels=True, yaxis53_showticklabels=True, yaxis66_showticklabels=True,\n",
    "    yaxis79_showticklabels=True, yaxis92_showticklabels=True)\n",
    "\n",
    "    return fig"
   ]
  },
  {
   "cell_type": "code",
   "execution_count": 25,
   "metadata": {},
   "outputs": [],
   "source": [
    "df_model_meta, df_prob_meta, algo_meta = df_model_dict_meta['df_model_all_meta'], df_prob_dict_meta['df_prob_all_meta'], algo_dict['algo_all']\n",
    "\n",
    "algo_cap = [i.upper() for i in algo].copy()\n",
    "\n",
    "\n",
    "df_prob_meta_t = df_prob_meta.transpose()\n",
    "# rename columns to correspond to algorithm names based on perfromance metrics\n",
    "df_prob_meta_t.columns = [i for i in df_model_meta.model_id.unique()]\n",
    "\n",
    "# total number of predictions\n",
    "n_total = df_prob_meta_t.shape[0]\n",
    "\n",
    "# create empty list\n",
    "prob = []\n",
    "\n",
    "df_prob_meta_cor = pd.DataFrame(index=df_prob_meta_t.columns, columns=df_prob_meta_t.columns)\n",
    "\n",
    "for i in range(11):\n",
    "    for j in range(11):\n",
    "        if i != j:\n",
    "            prob = []\n",
    "            # calculate the probability of two models predicting the correct result\n",
    "            for n in range(n_total):\n",
    "                if df_prob_meta_t.iloc[n, i] > df_prob_meta_t.iloc[n, j]:\n",
    "                    # append df_prob_meta_t.iloc[n, i] to prob\n",
    "                    prob.append(df_prob_meta_t.iloc[n, i])\n",
    "                else:\n",
    "                    prob.append(df_prob_meta_t.iloc[n, j])\n",
    "            prob_average = np.mean(prob).round(2)\n",
    "            # add 2 models average probability to df_prob_meta_cor\n",
    "            df_prob_meta_cor.loc[f'meta_{i+1}', f'meta_{j+1}'] = prob_average\n",
    "\n",
    "df_prob_meta_red = df_prob_meta_t[df_prob_meta_t.apply(lambda x: x.min() < 50, axis=1)]\n",
    "# reset index for df_pred_meta_red and df_prob_meta_red\n",
    "df_prob_meta_red.reset_index(drop=True, inplace=True)\n",
    "# add new column to store the average probability for each instance\n",
    "df_prob_meta_red['average_probability'] = round(df_prob_meta_red.iloc[:,1:].mean(axis=1), 2) \n",
    "# sort by average_probability_norm\n",
    "df_prob_meta_red.sort_values(by='average_probability', ascending=False, inplace=True)\n",
    "# drop avergae_probability_norm column\n",
    "df_prob_meta_red.drop(columns=['average_probability'], inplace=True)\n",
    "\n",
    "# create new dataframe with rows and columns like columns in df_pred_meta_t\n",
    "df_pred_meta_cor = pd.DataFrame(index=df_prob_meta_t.columns, columns=df_prob_meta_t.columns)\n",
    "\n",
    "for i in range(11):\n",
    "    for j in range(11):\n",
    "        if i != j:\n",
    "            # calculate how good two models can contribute to the prediction result\n",
    "            result = df_prob_meta_t.apply(lambda x: (x[f'meta_{i+1}'] >= 50) or (x[f'meta_{j+1}'] >= 50), axis=1)\n",
    "            # caclucate the number of wrong predictions for both models\n",
    "            n_wrong = result[result == False].shape[0]\n",
    "            # calculate the percentage of wrong predictions in total number of predictions\n",
    "            perc_correct = round((n_total - n_wrong) / n_total, 4) *100\n",
    "            # save the percentage in the dataframe\n",
    "            df_pred_meta_cor.loc[f'meta_{i+1}', f'meta_{j+1}'] = perc_correct\n",
    "\n",
    "# As Plotly does not support the subplot plotting inside another subplot, we have to save each subplot as a \n",
    "# picture and then load it in the overall plot.\n",
    "\n",
    "# create subfolder pictures under path\n",
    "path_pictures_prob = path + './pictures/prob/'\n",
    "if not os.path.exists(path_pictures_prob):\n",
    "    os.makedirs(path_pictures_prob)\n",
    "else:\n",
    "    shutil.rmtree(path_pictures_prob)\n",
    "    os.makedirs(path_pictures_prob)\n",
    "\n",
    "for i in range(1, 12):\n",
    "    for j in range(1, 12):\n",
    "        if i > j:\n",
    "            meta_1 = f'meta_{i}'\n",
    "            meta_2 = f'meta_{j}'\n",
    "            fig = coverage(df_prob_meta_red, meta_1, meta_2)\n",
    "            # save figure\n",
    "            # save fig to json file\n",
    "            fig.write_json(file = path_pictures_prob + f'prob_meta_{i}_meta_{j}.json')\n",
    "            # fig.write_image(file = path_pictures_prob + f'prob_meta_{i}_meta_{j}.webp')"
   ]
  },
  {
   "cell_type": "code",
   "execution_count": 101,
   "metadata": {},
   "outputs": [
    {
     "ename": "ValueError",
     "evalue": "\n    Invalid element(s) received for the 'data' property of \n        Invalid elements include: [Figure({\n    'data': [],\n    'layout': {'autosize': False,\n               'height': 500,\n               'margin': {'b': 50, 'l': 0, 'r': 0, 't': 0},\n               'plot_bgcolor': 'white',\n               'shapes': [{'fillcolor': '#ffffff',\n                           'line': {'color': '#675c57', 'width': 2},\n                           'type': 'circle',\n                           'x0': 0,\n                           'x1': 1,\n                           'xref': 'x',\n                           'y0': 0,\n                           'y1': 1,\n                           'yref': 'y'},\n                          {'fillcolor': '#ffffff',\n                           'line': {'color': '#675c57', 'width': 2},\n                           'type': 'circle',\n                           'x0': 0,\n                           'x1': 1,\n                           'xref': 'x2',\n                           'y0': 0,\n                           'y1': 1,\n                           'yref': 'y2'},\n                          {'fillcolor': '#ffffff',\n                           'line': {'color': '#675c57', 'width': 2},\n                           'type': 'circle',\n                           'x0': 0,\n                           'x1': 1,\n                           'xref': 'x3',\n                           'y0': 0,\n                           'y1': 1,\n                           'yref': 'y3'},\n                          {'fillcolor': '#ffffff',\n                           'line': {'color': '#675c57', 'width': 2},\n                           'type': 'circle',\n                           'x0': 0,\n                           'x1': 1,\n                           'xref': 'x4',\n                           'y0': 0,\n                           'y1': 1,\n                           'yref': 'y4'},\n                          {'fillcolor': '#ffffff',\n                           'line': {'color': '#675c57', 'width': 2},\n                           'type': 'circle',\n                           'x0': 0,\n                           'x1': 1,\n                           'xref': 'x5',\n                           'y0': 0,\n                           'y1': 1,\n                           'yref': 'y5'},\n                          {'fillcolor': '#ffffff',\n                           'line': {'color': '#675c57', 'width': 2},\n                           'type': 'circle',\n                           'x0': 0,\n                           'x1': 1,\n                           'xref': 'x6',\n                           'y0': 0,\n                           'y1': 1,\n                           'yref': 'y6'},\n                          {'fillcolor': '#ffffff',\n                           'line': {'color': '#675c57', 'width': 2},\n                           'type': 'circle',\n                           'x0': 0,\n                           'x1': 1,\n                           'xref': 'x7',\n                           'y0': 0,\n                           'y1': 1,\n                           'yref': 'y7'},\n                          {'fillcolor': '#ffffff',\n                           'line': {'color': '#675c57', 'width': 2},\n                           'type': 'circle',\n                           'x0': 0,\n                           'x1': 1,\n                           'xref': 'x8',\n                           'y0': 0,\n                           'y1': 1,\n                           'yref': 'y8'},\n                          {'fillcolor': '#ffffff',\n                           'line': {'color': '#675c57', 'width': 2},\n                           'type': 'circle',\n                           'x0': 0,\n                           'x1': 1,\n                           'xref': 'x9',\n                           'y0': 0,\n                           'y1': 1,\n                           'yref': 'y9'},\n                          {'fillcolor': '#ffffff',\n                           'line': {'color': '#675c57', 'width': 2},\n                           'type': 'circle',\n                           'x0': 0,\n                           'x1': 1,\n                           'xref': 'x10',\n                           'y0': 0,\n                           'y1': 1,\n                           'yref': 'y10'},\n                          {'fillcolor': '#ffffff',\n                           'line': {'color': '#675c57', 'width': 2},\n                           'type': 'circle',\n                           'x0': 0,\n                           'x1': 1,\n                           'xref': 'x11',\n                           'y0': 0,\n                           'y1': 1,\n                           'yref': 'y11'},\n                          {'fillcolor': '#ffd700',\n                           'line': {'color': '#ffd700', 'width': 2},\n                           'type': 'circle',\n                           'x0': 0,\n                           'x1': 1,\n                           'xref': 'x12',\n                           'y0': 0,\n                           'y1': 1,\n                           'yref': 'y12'},\n                          {'fillcolor': '#ffd700',\n                           'line': {'color': '#ffd700', 'width': 2},\n                           'type': 'circle',\n                           'x0': 0,\n                           'x1': 1,\n                           'xref': 'x13',\n                           'y0': 0,\n                           'y1': 1,\n                           'yref': 'y13'},\n                          {'fillcolor': '#ffd700',\n                           'line': {'color': '#ffd700', 'width': 2},\n                           'type': 'circle',\n                           'x0': 0,\n                           'x1': 1,\n                           'xref': 'x14',\n                           'y0': 0,\n                           'y1': 1,\n                           'yref': 'y14'},\n                          {'fillcolor': '#ffd700',\n                           'line': {'color': '#ffd700', 'width': 2},\n                           'type': 'circle',\n                           'x0': 0,\n                           'x1': 1,\n                           'xref': 'x15',\n                           'y0': 0,\n                           'y1': 1,\n                           'yref': 'y15'},\n                          {'fillcolor': '#ffd700',\n                           'line': {'color': '#ffd700', 'width': 2},\n                           'type': 'circle',\n                           'x0': 0,\n                           'x1': 1,\n                           'xref': 'x16',\n                           'y0': 0,\n                           'y1': 1,\n                           'yref': 'y16'},\n                          {'fillcolor': '#ffd700',\n                           'line': {'color': '#ffd700', 'width': 2},\n                           'type': 'circle',\n                           'x0': 0,\n                           'x1': 1,\n                           'xref': 'x17',\n                           'y0': 0,\n                           'y1': 1,\n                           'yref': 'y17'},\n                          {'fillcolor': '#ffd700',\n                           'line': {'color': '#ffd700', 'width': 2},\n                           'type': 'circle',\n                           'x0': 0,\n                           'x1': 1,\n                           'xref': 'x18',\n                           'y0': 0,\n                           'y1': 1,\n                           'yref': 'y18'},\n                          {'fillcolor': '#ffd700',\n                           'line': {'color': '#ffd700', 'width': 2},\n                           'type': 'circle',\n                           'x0': 0,\n                           'x1': 1,\n                           'xref': 'x19',\n                           'y0': 0,\n                           'y1': 1,\n                           'yref': 'y19'},\n                          {'fillcolor': '#ffffff',\n                           'line': {'color': '#ffffff', 'width': 2},\n                           'type': 'circle',\n                           'x0': 0,\n                           'x1': 1,\n                           'xref': 'x20',\n                           'y0': 0,\n                           'y1': 1,\n                           'yref': 'y20'},\n                          {'fillcolor': '#ffffff',\n                           'line': {'color': '#ffffff', 'width': 2},\n                           'type': 'circle',\n                           'x0': 0,\n                           'x1': 1,\n                           'xref': 'x21',\n                           'y0': 0,\n                           'y1': 1,\n                           'yref': 'y21'},\n                          {'fillcolor': '#ffffff',\n                           'line': {'color': '#ffffff', 'width': 2},\n                           'type': 'circle',\n                           'x0': 0,\n                           'x1': 1,\n                           'xref': 'x22',\n                           'y0': 0,\n                           'y1': 1,\n                           'yref': 'y22'},\n                          {'fillcolor': '#ffffff',\n                           'line': {'color': '#ffffff', 'width': 2},\n                           'type': 'circle',\n                           'x0': 0,\n                           'x1': 1,\n                           'xref': 'x23',\n                           'y0': 0,\n                           'y1': 1,\n                           'yref': 'y23'},\n                          {'fillcolor': '#ffffff',\n                           'line': {'color': '#ffffff', 'width': 2},\n                           'type': 'circle',\n                           'x0': 0,\n                           'x1': 1,\n                           'xref': 'x24',\n                           'y0': 0,\n                           'y1': 1,\n                           'yref': 'y24'},\n                          {'fillcolor': '#ffffff',\n                           'line': {'color': '#ffffff', 'width': 2},\n                           'type': 'circle',\n                           'x0': 0,\n                           'x1': 1,\n                           'xref': 'x25',\n                           'y0': 0,\n                           'y1': 1,\n                           'yref': 'y25'}],\n               'showlegend': False,\n               'template': '...',\n               'width': 500,\n               'xaxis': {'anchor': 'y',\n                         'domain': [0.0, 0.184],\n                         'matches': 'x21',\n                         'range': [0, 1],\n                         'showticklabels': False},\n               'xaxis10': {'anchor': 'y10',\n                           'domain': [0.816, 1.0],\n                           'matches': 'x21',\n                           'range': [0, 1],\n                           'showticklabels': False},\n               'xaxis11': {'anchor': 'y11',\n                           'domain': [0.0, 0.184],\n                           'matches': 'x21',\n                           'range': [0, 1],\n                           'showticklabels': False},\n               'xaxis12': {'anchor': 'y12',\n                           'domain': [0.204, 0.388],\n                           'matches': 'x21',\n                           'range': [0, 1],\n                           'showticklabels': False},\n               'xaxis13': {'anchor': 'y13',\n                           'domain': [0.408, 0.592],\n                           'matches': 'x21',\n                           'range': [0, 1],\n                           'showticklabels': False},\n               'xaxis14': {'anchor': 'y14',\n                           'domain': [0.6120000000000001, 0.796],\n                           'matches': 'x21',\n                           'range': [0, 1],\n                           'showticklabels': False},\n               'xaxis15': {'anchor': 'y15',\n                           'domain': [0.816, 1.0],\n                           'matches': 'x21',\n                           'range': [0, 1],\n                           'showticklabels': False},\n               'xaxis16': {'anchor': 'y16',\n                           'domain': [0.0, 0.184],\n                           'matches': 'x21',\n                           'range': [0, 1],\n                           'showticklabels': False},\n               'xaxis17': {'anchor': 'y17',\n                           'domain': [0.204, 0.388],\n                           'matches': 'x21',\n                           'range': [0, 1],\n                           'showticklabels': False},\n               'xaxis18': {'anchor': 'y18',\n                           'domain': [0.408, 0.592],\n                           'matches': 'x21',\n                           'range': [0, 1],\n                           'showticklabels': False},\n               'xaxis19': {'anchor': 'y19',\n                           'domain': [0.6120000000000001, 0.796],\n                           'matches': 'x21',\n                           'range': [0, 1],\n                           'showticklabels': False},\n               'xaxis2': {'anchor': 'y2',\n                          'domain': [0.204, 0.388],\n                          'matches': 'x21',\n                          'range': [0, 1],\n                          'showticklabels': False},\n               'xaxis20': {'anchor': 'y20',\n                           'domain': [0.816, 1.0],\n                           'matches': 'x21',\n                           'range': [0, 1],\n                           'showticklabels': False},\n               'xaxis21': {'anchor': 'y21', 'domain': [0.0, 0.184], 'range': [0, 1], 'showticklabels': False},\n               'xaxis22': {'anchor': 'y22',\n                           'domain': [0.204, 0.388],\n                           'matches': 'x21',\n                           'range': [0, 1],\n                           'showticklabels': False},\n               'xaxis23': {'anchor': 'y23',\n                           'domain': [0.408, 0.592],\n                           'matches': 'x21',\n                           'range': [0, 1],\n                           'showticklabels': False},\n               'xaxis24': {'anchor': 'y24',\n                           'domain': [0.6120000000000001, 0.796],\n                           'matches': 'x21',\n                           'range': [0, 1],\n                           'showticklabels': False},\n               'xaxis25': {'anchor': 'y25',\n                           'domain': [0.816, 1.0],\n                           'matches': 'x21',\n                           'range': [0, 1],\n                           'showticklabels': False},\n               'xaxis3': {'anchor': 'y3',\n                          'domain': [0.408, 0.592],\n                          'matches': 'x21',\n                          'range': [0, 1],\n                          'showticklabels': False},\n               'xaxis4': {'anchor': 'y4',\n                          'domain': [0.6120000000000001, 0.796],\n                          'matches': 'x21',\n                          'range': [0, 1],\n                          'showticklabels': False},\n               'xaxis5': {'anchor': 'y5',\n                          'domain': [0.816, 1.0],\n                          'matches': 'x21',\n                          'range': [0, 1],\n                          'showticklabels': False},\n               'xaxis6': {'anchor': 'y6',\n                          'domain': [0.0, 0.184],\n                          'matches': 'x21',\n                          'range': [0, 1],\n                          'showticklabels': False},\n               'xaxis7': {'anchor': 'y7',\n                          'domain': [0.204, 0.388],\n                          'matches': 'x21',\n                          'range': [0, 1],\n                          'showticklabels': False},\n               'xaxis8': {'anchor': 'y8',\n                          'domain': [0.408, 0.592],\n                          'matches': 'x21',\n                          'range': [0, 1],\n                          'showticklabels': False},\n               'xaxis9': {'anchor': 'y9',\n                          'domain': [0.6120000000000001, 0.796],\n                          'matches': 'x21',\n                          'range': [0, 1],\n                          'showticklabels': False},\n               'yaxis': {'anchor': 'x',\n                         'domain': [0.816, 1.0],\n                         'matches': 'y21',\n                         'range': [0, 1],\n                         'showticklabels': False},\n               'yaxis10': {'anchor': 'x10',\n                           'domain': [0.6120000000000001, 0.796],\n                           'matches': 'y21',\n                           'range': [0, 1],\n                           'showticklabels': False},\n               'yaxis11': {'anchor': 'x11',\n                           'domain': [0.408, 0.592],\n                           'matches': 'y21',\n                           'range': [0, 1],\n                           'showticklabels': False},\n               'yaxis12': {'anchor': 'x12',\n                           'domain': [0.408, 0.592],\n                           'matches': 'y21',\n                           'range': [0, 1],\n                           'showticklabels': False},\n               'yaxis13': {'anchor': 'x13',\n                           'domain': [0.408, 0.592],\n                           'matches': 'y21',\n                           'range': [0, 1],\n                           'showticklabels': False},\n               'yaxis14': {'anchor': 'x14',\n                           'domain': [0.408, 0.592],\n                           'matches': 'y21',\n                           'range': [0, 1],\n                           'showticklabels': False},\n               'yaxis15': {'anchor': 'x15',\n                           'domain': [0.408, 0.592],\n                           'matches': 'y21',\n                           'range': [0, 1],\n                           'showticklabels': False},\n               'yaxis16': {'anchor': 'x16',\n                           'domain': [0.204, 0.388],\n                           'matches': 'y21',\n                           'range': [0, 1],\n                           'showticklabels': False},\n               'yaxis17': {'anchor': 'x17',\n                           'domain': [0.204, 0.388],\n                           'matches': 'y21',\n                           'range': [0, 1],\n                           'showticklabels': False},\n               'yaxis18': {'anchor': 'x18',\n                           'domain': [0.204, 0.388],\n                           'matches': 'y21',\n                           'range': [0, 1],\n                           'showticklabels': False},\n               'yaxis19': {'anchor': 'x19',\n                           'domain': [0.204, 0.388],\n                           'matches': 'y21',\n                           'range': [0, 1],\n                           'showticklabels': False},\n               'yaxis2': {'anchor': 'x2',\n                          'domain': [0.816, 1.0],\n                          'matches': 'y21',\n                          'range': [0, 1],\n                          'showticklabels': False},\n               'yaxis20': {'anchor': 'x20',\n                           'domain': [0.204, 0.388],\n                           'matches': 'y21',\n                           'range': [0, 1],\n                           'showticklabels': False},\n               'yaxis21': {'anchor': 'x21', 'domain': [0.0, 0.184], 'range': [0, 1], 'showticklabels': False},\n               'yaxis22': {'anchor': 'x22',\n                           'domain': [0.0, 0.184],\n                           'matches': 'y21',\n                           'range': [0, 1],\n                           'showticklabels': False},\n               'yaxis23': {'anchor': 'x23',\n                           'domain': [0.0, 0.184],\n                           'matches': 'y21',\n                           'range': [0, 1],\n                           'showticklabels': False},\n               'yaxis24': {'anchor': 'x24',\n                           'domain': [0.0, 0.184],\n                           'matches': 'y21',\n                           'range': [0, 1],\n                           'showticklabels': False},\n               'yaxis25': {'anchor': 'x25',\n                           'domain': [0.0, 0.184],\n                           'matches': 'y21',\n                           'range': [0, 1],\n                           'showticklabels': False},\n               'yaxis3': {'anchor': 'x3',\n                          'domain': [0.816, 1.0],\n                          'matches': 'y21',\n                          'range': [0, 1],\n                          'showticklabels': False},\n               'yaxis4': {'anchor': 'x4',\n                          'domain': [0.816, 1.0],\n                          'matches': 'y21',\n                          'range': [0, 1],\n                          'showticklabels': False},\n               'yaxis5': {'anchor': 'x5',\n                          'domain': [0.816, 1.0],\n                          'matches': 'y21',\n                          'range': [0, 1],\n                          'showticklabels': False},\n               'yaxis6': {'anchor': 'x6',\n                          'domain': [0.6120000000000001, 0.796],\n                          'matches': 'y21',\n                          'range': [0, 1],\n                          'showticklabels': False},\n               'yaxis7': {'anchor': 'x7',\n                          'domain': [0.6120000000000001, 0.796],\n                          'matches': 'y21',\n                          'range': [0, 1],\n                          'showticklabels': False},\n               'yaxis8': {'anchor': 'x8',\n                          'domain': [0.6120000000000001, 0.796],\n                          'matches': 'y21',\n                          'range': [0, 1],\n                          'showticklabels': False},\n               'yaxis9': {'anchor': 'x9',\n                          'domain': [0.6120000000000001, 0.796],\n                          'matches': 'y21',\n                          'range': [0, 1],\n                          'showticklabels': False}}\n})]\n\n    The 'data' property is a tuple of trace instances\n    that may be specified as:\n      - A list or tuple of trace instances\n        (e.g. [Scatter(...), Bar(...)])\n      - A single trace instance\n        (e.g. Scatter(...), Bar(...), etc.)\n      - A list or tuple of dicts of string/value properties where:\n        - The 'type' property specifies the trace type\n            One of: ['bar', 'barpolar', 'box', 'candlestick',\n                     'carpet', 'choropleth', 'choroplethmapbox',\n                     'cone', 'contour', 'contourcarpet',\n                     'densitymapbox', 'funnel', 'funnelarea',\n                     'heatmap', 'heatmapgl', 'histogram',\n                     'histogram2d', 'histogram2dcontour', 'icicle',\n                     'image', 'indicator', 'isosurface', 'mesh3d',\n                     'ohlc', 'parcats', 'parcoords', 'pie',\n                     'pointcloud', 'sankey', 'scatter',\n                     'scatter3d', 'scattercarpet', 'scattergeo',\n                     'scattergl', 'scattermapbox', 'scatterpolar',\n                     'scatterpolargl', 'scattersmith',\n                     'scatterternary', 'splom', 'streamtube',\n                     'sunburst', 'surface', 'table', 'treemap',\n                     'violin', 'volume', 'waterfall']\n\n        - All remaining properties are passed to the constructor of\n          the specified trace type\n\n        (e.g. [{'type': 'scatter', ...}, {'type': 'bar, ...}])",
     "output_type": "error",
     "traceback": [
      "\u001b[1;31m---------------------------------------------------------------------------\u001b[0m",
      "\u001b[1;31mValueError\u001b[0m                                Traceback (most recent call last)",
      "\u001b[1;32md:\\github\\2dv50e\\Jupyter notebooks\\2dv50e_Heart_train_test_split.ipynb Cell 41\u001b[0m in \u001b[0;36m<cell line: 65>\u001b[1;34m()\u001b[0m\n\u001b[0;32m     <a href='vscode-notebook-cell:/d%3A/github/2dv50e/Jupyter%20notebooks/2dv50e_Heart_train_test_split.ipynb#X53sZmlsZQ%3D%3D?line=65'>66</a>\u001b[0m \u001b[39mfor\u001b[39;00m j \u001b[39min\u001b[39;00m \u001b[39mrange\u001b[39m(\u001b[39m11\u001b[39m):\n\u001b[0;32m     <a href='vscode-notebook-cell:/d%3A/github/2dv50e/Jupyter%20notebooks/2dv50e_Heart_train_test_split.ipynb#X53sZmlsZQ%3D%3D?line=66'>67</a>\u001b[0m     \u001b[39mif\u001b[39;00m i \u001b[39m>\u001b[39m j:\n\u001b[0;32m     <a href='vscode-notebook-cell:/d%3A/github/2dv50e/Jupyter%20notebooks/2dv50e_Heart_train_test_split.ipynb#X53sZmlsZQ%3D%3D?line=67'>68</a>\u001b[0m         \u001b[39m# img = Image.open(path_pictures_prob + f'prob_meta_{i+1}_meta_{j+1}.webp')\u001b[39;00m\n\u001b[0;32m     <a href='vscode-notebook-cell:/d%3A/github/2dv50e/Jupyter%20notebooks/2dv50e_Heart_train_test_split.ipynb#X53sZmlsZQ%3D%3D?line=68'>69</a>\u001b[0m \n\u001b[1;32m   (...)\u001b[0m\n\u001b[0;32m     <a href='vscode-notebook-cell:/d%3A/github/2dv50e/Jupyter%20notebooks/2dv50e_Heart_train_test_split.ipynb#X53sZmlsZQ%3D%3D?line=74'>75</a>\u001b[0m         \u001b[39m# fig.add_layout_image(dict(source=img, x=0, y = img_height-100, sizex=img_width, sizey=img_height, xref='paper', yref='paper', \u001b[39;00m\n\u001b[0;32m     <a href='vscode-notebook-cell:/d%3A/github/2dv50e/Jupyter%20notebooks/2dv50e_Heart_train_test_split.ipynb#X53sZmlsZQ%3D%3D?line=75'>76</a>\u001b[0m         \u001b[39m#                         opacity=1.0), row=i+2, col=j+2)\u001b[39;00m\n\u001b[1;32m---> <a href='vscode-notebook-cell:/d%3A/github/2dv50e/Jupyter%20notebooks/2dv50e_Heart_train_test_split.ipynb#X53sZmlsZQ%3D%3D?line=77'>78</a>\u001b[0m         fig\u001b[39m.\u001b[39;49madd_trace(go\u001b[39m.\u001b[39;49mFigure(plotly\u001b[39m.\u001b[39;49mio\u001b[39m.\u001b[39;49mread_json(path_pictures_prob \u001b[39m+\u001b[39;49m \u001b[39mf\u001b[39;49m\u001b[39m'\u001b[39;49m\u001b[39mprob_meta_\u001b[39;49m\u001b[39m{\u001b[39;49;00mi\u001b[39m+\u001b[39;49m\u001b[39m1\u001b[39;49m\u001b[39m}\u001b[39;49;00m\u001b[39m_meta_\u001b[39;49m\u001b[39m{\u001b[39;49;00mj\u001b[39m+\u001b[39;49m\u001b[39m1\u001b[39;49m\u001b[39m}\u001b[39;49;00m\u001b[39m.json\u001b[39;49m\u001b[39m'\u001b[39;49m)), row\u001b[39m=\u001b[39;49mi\u001b[39m+\u001b[39;49m\u001b[39m2\u001b[39;49m, col\u001b[39m=\u001b[39;49mj\u001b[39m+\u001b[39;49m\u001b[39m2\u001b[39;49m)\n\u001b[0;32m     <a href='vscode-notebook-cell:/d%3A/github/2dv50e/Jupyter%20notebooks/2dv50e_Heart_train_test_split.ipynb#X53sZmlsZQ%3D%3D?line=79'>80</a>\u001b[0m         fig\u001b[39m.\u001b[39mupdate_layout(showlegend\u001b[39m=\u001b[39m\u001b[39mFalse\u001b[39;00m)\n\u001b[0;32m     <a href='vscode-notebook-cell:/d%3A/github/2dv50e/Jupyter%20notebooks/2dv50e_Heart_train_test_split.ipynb#X53sZmlsZQ%3D%3D?line=80'>81</a>\u001b[0m         fig\u001b[39m.\u001b[39mupdate_xaxes(showticklabels\u001b[39m=\u001b[39m\u001b[39mFalse\u001b[39;00m)\n",
      "File \u001b[1;32md:\\Conda\\envs\\myenv\\lib\\site-packages\\plotly\\graph_objs\\_figure.py:865\u001b[0m, in \u001b[0;36mFigure.add_trace\u001b[1;34m(self, trace, row, col, secondary_y, exclude_empty_subplots)\u001b[0m\n\u001b[0;32m    790\u001b[0m \u001b[39mdef\u001b[39;00m \u001b[39madd_trace\u001b[39m(\n\u001b[0;32m    791\u001b[0m     \u001b[39mself\u001b[39m, trace, row\u001b[39m=\u001b[39m\u001b[39mNone\u001b[39;00m, col\u001b[39m=\u001b[39m\u001b[39mNone\u001b[39;00m, secondary_y\u001b[39m=\u001b[39m\u001b[39mNone\u001b[39;00m, exclude_empty_subplots\u001b[39m=\u001b[39m\u001b[39mFalse\u001b[39;00m\n\u001b[0;32m    792\u001b[0m ) \u001b[39m-\u001b[39m\u001b[39m>\u001b[39m \u001b[39m\"\u001b[39m\u001b[39mFigure\u001b[39m\u001b[39m\"\u001b[39m:\n\u001b[0;32m    793\u001b[0m     \u001b[39m\"\"\"\u001b[39;00m\n\u001b[0;32m    794\u001b[0m \n\u001b[0;32m    795\u001b[0m \u001b[39m    Add a trace to the figure\u001b[39;00m\n\u001b[1;32m   (...)\u001b[0m\n\u001b[0;32m    863\u001b[0m \n\u001b[0;32m    864\u001b[0m \u001b[39m    \"\"\"\u001b[39;00m\n\u001b[1;32m--> 865\u001b[0m     \u001b[39mreturn\u001b[39;00m \u001b[39msuper\u001b[39;49m(Figure, \u001b[39mself\u001b[39;49m)\u001b[39m.\u001b[39;49madd_trace(\n\u001b[0;32m    866\u001b[0m         trace, row, col, secondary_y, exclude_empty_subplots\n\u001b[0;32m    867\u001b[0m     )\n",
      "File \u001b[1;32md:\\Conda\\envs\\myenv\\lib\\site-packages\\plotly\\basedatatypes.py:2097\u001b[0m, in \u001b[0;36mBaseFigure.add_trace\u001b[1;34m(self, trace, row, col, secondary_y, exclude_empty_subplots)\u001b[0m\n\u001b[0;32m   2088\u001b[0m         \u001b[39mself\u001b[39m\u001b[39m.\u001b[39madd_trace(\n\u001b[0;32m   2089\u001b[0m             trace,\n\u001b[0;32m   2090\u001b[0m             row\u001b[39m=\u001b[39mr,\n\u001b[1;32m   (...)\u001b[0m\n\u001b[0;32m   2093\u001b[0m             exclude_empty_subplots\u001b[39m=\u001b[39mexclude_empty_subplots,\n\u001b[0;32m   2094\u001b[0m         )\n\u001b[0;32m   2095\u001b[0m     \u001b[39mreturn\u001b[39;00m \u001b[39mself\u001b[39m\n\u001b[1;32m-> 2097\u001b[0m \u001b[39mreturn\u001b[39;00m \u001b[39mself\u001b[39;49m\u001b[39m.\u001b[39;49madd_traces(\n\u001b[0;32m   2098\u001b[0m     data\u001b[39m=\u001b[39;49m[trace],\n\u001b[0;32m   2099\u001b[0m     rows\u001b[39m=\u001b[39;49m[row] \u001b[39mif\u001b[39;49;00m row \u001b[39mis\u001b[39;49;00m \u001b[39mnot\u001b[39;49;00m \u001b[39mNone\u001b[39;49;00m \u001b[39melse\u001b[39;49;00m \u001b[39mNone\u001b[39;49;00m,\n\u001b[0;32m   2100\u001b[0m     cols\u001b[39m=\u001b[39;49m[col] \u001b[39mif\u001b[39;49;00m col \u001b[39mis\u001b[39;49;00m \u001b[39mnot\u001b[39;49;00m \u001b[39mNone\u001b[39;49;00m \u001b[39melse\u001b[39;49;00m \u001b[39mNone\u001b[39;49;00m,\n\u001b[0;32m   2101\u001b[0m     secondary_ys\u001b[39m=\u001b[39;49m[secondary_y] \u001b[39mif\u001b[39;49;00m secondary_y \u001b[39mis\u001b[39;49;00m \u001b[39mnot\u001b[39;49;00m \u001b[39mNone\u001b[39;49;00m \u001b[39melse\u001b[39;49;00m \u001b[39mNone\u001b[39;49;00m,\n\u001b[0;32m   2102\u001b[0m     exclude_empty_subplots\u001b[39m=\u001b[39;49mexclude_empty_subplots,\n\u001b[0;32m   2103\u001b[0m )\n",
      "File \u001b[1;32md:\\Conda\\envs\\myenv\\lib\\site-packages\\plotly\\graph_objs\\_figure.py:945\u001b[0m, in \u001b[0;36mFigure.add_traces\u001b[1;34m(self, data, rows, cols, secondary_ys, exclude_empty_subplots)\u001b[0m\n\u001b[0;32m    869\u001b[0m \u001b[39mdef\u001b[39;00m \u001b[39madd_traces\u001b[39m(\n\u001b[0;32m    870\u001b[0m     \u001b[39mself\u001b[39m,\n\u001b[0;32m    871\u001b[0m     data,\n\u001b[1;32m   (...)\u001b[0m\n\u001b[0;32m    875\u001b[0m     exclude_empty_subplots\u001b[39m=\u001b[39m\u001b[39mFalse\u001b[39;00m,\n\u001b[0;32m    876\u001b[0m ) \u001b[39m-\u001b[39m\u001b[39m>\u001b[39m \u001b[39m\"\u001b[39m\u001b[39mFigure\u001b[39m\u001b[39m\"\u001b[39m:\n\u001b[0;32m    877\u001b[0m     \u001b[39m\"\"\"\u001b[39;00m\n\u001b[0;32m    878\u001b[0m \n\u001b[0;32m    879\u001b[0m \u001b[39m    Add traces to the figure\u001b[39;00m\n\u001b[1;32m   (...)\u001b[0m\n\u001b[0;32m    943\u001b[0m \n\u001b[0;32m    944\u001b[0m \u001b[39m    \"\"\"\u001b[39;00m\n\u001b[1;32m--> 945\u001b[0m     \u001b[39mreturn\u001b[39;00m \u001b[39msuper\u001b[39;49m(Figure, \u001b[39mself\u001b[39;49m)\u001b[39m.\u001b[39;49madd_traces(\n\u001b[0;32m    946\u001b[0m         data, rows, cols, secondary_ys, exclude_empty_subplots\n\u001b[0;32m    947\u001b[0m     )\n",
      "File \u001b[1;32md:\\Conda\\envs\\myenv\\lib\\site-packages\\plotly\\basedatatypes.py:2181\u001b[0m, in \u001b[0;36mBaseFigure.add_traces\u001b[1;34m(self, data, rows, cols, secondary_ys, exclude_empty_subplots)\u001b[0m\n\u001b[0;32m   2113\u001b[0m \u001b[39m\"\"\"\u001b[39;00m\n\u001b[0;32m   2114\u001b[0m \u001b[39mAdd traces to the figure\u001b[39;00m\n\u001b[0;32m   2115\u001b[0m \n\u001b[1;32m   (...)\u001b[0m\n\u001b[0;32m   2177\u001b[0m \u001b[39mFigure(...)\u001b[39;00m\n\u001b[0;32m   2178\u001b[0m \u001b[39m\"\"\"\u001b[39;00m\n\u001b[0;32m   2180\u001b[0m \u001b[39m# Validate traces\u001b[39;00m\n\u001b[1;32m-> 2181\u001b[0m data \u001b[39m=\u001b[39m \u001b[39mself\u001b[39;49m\u001b[39m.\u001b[39;49m_data_validator\u001b[39m.\u001b[39;49mvalidate_coerce(data)\n\u001b[0;32m   2183\u001b[0m \u001b[39m# Set trace indexes\u001b[39;00m\n\u001b[0;32m   2184\u001b[0m \u001b[39mfor\u001b[39;00m ind, new_trace \u001b[39min\u001b[39;00m \u001b[39menumerate\u001b[39m(data):\n",
      "File \u001b[1;32md:\\Conda\\envs\\myenv\\lib\\site-packages\\_plotly_utils\\basevalidators.py:2682\u001b[0m, in \u001b[0;36mBaseDataValidator.validate_coerce\u001b[1;34m(self, v, skip_invalid, _validate)\u001b[0m\n\u001b[0;32m   2679\u001b[0m             invalid_els\u001b[39m.\u001b[39mappend(v_el)\n\u001b[0;32m   2681\u001b[0m \u001b[39mif\u001b[39;00m invalid_els:\n\u001b[1;32m-> 2682\u001b[0m     \u001b[39mself\u001b[39;49m\u001b[39m.\u001b[39;49mraise_invalid_elements(invalid_els)\n\u001b[0;32m   2684\u001b[0m v \u001b[39m=\u001b[39m to_scalar_or_list(res)\n\u001b[0;32m   2686\u001b[0m \u001b[39m# Set new UIDs\u001b[39;00m\n",
      "File \u001b[1;32md:\\Conda\\envs\\myenv\\lib\\site-packages\\_plotly_utils\\basevalidators.py:304\u001b[0m, in \u001b[0;36mBaseValidator.raise_invalid_elements\u001b[1;34m(self, invalid_els)\u001b[0m\n\u001b[0;32m    302\u001b[0m     \u001b[39mdef\u001b[39;00m \u001b[39mraise_invalid_elements\u001b[39m(\u001b[39mself\u001b[39m, invalid_els):\n\u001b[0;32m    303\u001b[0m         \u001b[39mif\u001b[39;00m invalid_els:\n\u001b[1;32m--> 304\u001b[0m             \u001b[39mraise\u001b[39;00m \u001b[39mValueError\u001b[39;00m(\n\u001b[0;32m    305\u001b[0m                 \u001b[39m\"\"\"\u001b[39;00m\n\u001b[0;32m    306\u001b[0m \u001b[39m    Invalid element(s) received for the '{name}' property of {pname}\u001b[39;00m\n\u001b[0;32m    307\u001b[0m \u001b[39m        Invalid elements include: {invalid}\u001b[39;00m\n\u001b[0;32m    308\u001b[0m \n\u001b[0;32m    309\u001b[0m \u001b[39m{valid_clr_desc}\"\"\"\u001b[39;00m\u001b[39m.\u001b[39mformat(\n\u001b[0;32m    310\u001b[0m                     name\u001b[39m=\u001b[39m\u001b[39mself\u001b[39m\u001b[39m.\u001b[39mplotly_name,\n\u001b[0;32m    311\u001b[0m                     pname\u001b[39m=\u001b[39m\u001b[39mself\u001b[39m\u001b[39m.\u001b[39mparent_name,\n\u001b[0;32m    312\u001b[0m                     invalid\u001b[39m=\u001b[39minvalid_els[:\u001b[39m10\u001b[39m],\n\u001b[0;32m    313\u001b[0m                     valid_clr_desc\u001b[39m=\u001b[39m\u001b[39mself\u001b[39m\u001b[39m.\u001b[39mdescription(),\n\u001b[0;32m    314\u001b[0m                 )\n\u001b[0;32m    315\u001b[0m             )\n",
      "\u001b[1;31mValueError\u001b[0m: \n    Invalid element(s) received for the 'data' property of \n        Invalid elements include: [Figure({\n    'data': [],\n    'layout': {'autosize': False,\n               'height': 500,\n               'margin': {'b': 50, 'l': 0, 'r': 0, 't': 0},\n               'plot_bgcolor': 'white',\n               'shapes': [{'fillcolor': '#ffffff',\n                           'line': {'color': '#675c57', 'width': 2},\n                           'type': 'circle',\n                           'x0': 0,\n                           'x1': 1,\n                           'xref': 'x',\n                           'y0': 0,\n                           'y1': 1,\n                           'yref': 'y'},\n                          {'fillcolor': '#ffffff',\n                           'line': {'color': '#675c57', 'width': 2},\n                           'type': 'circle',\n                           'x0': 0,\n                           'x1': 1,\n                           'xref': 'x2',\n                           'y0': 0,\n                           'y1': 1,\n                           'yref': 'y2'},\n                          {'fillcolor': '#ffffff',\n                           'line': {'color': '#675c57', 'width': 2},\n                           'type': 'circle',\n                           'x0': 0,\n                           'x1': 1,\n                           'xref': 'x3',\n                           'y0': 0,\n                           'y1': 1,\n                           'yref': 'y3'},\n                          {'fillcolor': '#ffffff',\n                           'line': {'color': '#675c57', 'width': 2},\n                           'type': 'circle',\n                           'x0': 0,\n                           'x1': 1,\n                           'xref': 'x4',\n                           'y0': 0,\n                           'y1': 1,\n                           'yref': 'y4'},\n                          {'fillcolor': '#ffffff',\n                           'line': {'color': '#675c57', 'width': 2},\n                           'type': 'circle',\n                           'x0': 0,\n                           'x1': 1,\n                           'xref': 'x5',\n                           'y0': 0,\n                           'y1': 1,\n                           'yref': 'y5'},\n                          {'fillcolor': '#ffffff',\n                           'line': {'color': '#675c57', 'width': 2},\n                           'type': 'circle',\n                           'x0': 0,\n                           'x1': 1,\n                           'xref': 'x6',\n                           'y0': 0,\n                           'y1': 1,\n                           'yref': 'y6'},\n                          {'fillcolor': '#ffffff',\n                           'line': {'color': '#675c57', 'width': 2},\n                           'type': 'circle',\n                           'x0': 0,\n                           'x1': 1,\n                           'xref': 'x7',\n                           'y0': 0,\n                           'y1': 1,\n                           'yref': 'y7'},\n                          {'fillcolor': '#ffffff',\n                           'line': {'color': '#675c57', 'width': 2},\n                           'type': 'circle',\n                           'x0': 0,\n                           'x1': 1,\n                           'xref': 'x8',\n                           'y0': 0,\n                           'y1': 1,\n                           'yref': 'y8'},\n                          {'fillcolor': '#ffffff',\n                           'line': {'color': '#675c57', 'width': 2},\n                           'type': 'circle',\n                           'x0': 0,\n                           'x1': 1,\n                           'xref': 'x9',\n                           'y0': 0,\n                           'y1': 1,\n                           'yref': 'y9'},\n                          {'fillcolor': '#ffffff',\n                           'line': {'color': '#675c57', 'width': 2},\n                           'type': 'circle',\n                           'x0': 0,\n                           'x1': 1,\n                           'xref': 'x10',\n                           'y0': 0,\n                           'y1': 1,\n                           'yref': 'y10'},\n                          {'fillcolor': '#ffffff',\n                           'line': {'color': '#675c57', 'width': 2},\n                           'type': 'circle',\n                           'x0': 0,\n                           'x1': 1,\n                           'xref': 'x11',\n                           'y0': 0,\n                           'y1': 1,\n                           'yref': 'y11'},\n                          {'fillcolor': '#ffd700',\n                           'line': {'color': '#ffd700', 'width': 2},\n                           'type': 'circle',\n                           'x0': 0,\n                           'x1': 1,\n                           'xref': 'x12',\n                           'y0': 0,\n                           'y1': 1,\n                           'yref': 'y12'},\n                          {'fillcolor': '#ffd700',\n                           'line': {'color': '#ffd700', 'width': 2},\n                           'type': 'circle',\n                           'x0': 0,\n                           'x1': 1,\n                           'xref': 'x13',\n                           'y0': 0,\n                           'y1': 1,\n                           'yref': 'y13'},\n                          {'fillcolor': '#ffd700',\n                           'line': {'color': '#ffd700', 'width': 2},\n                           'type': 'circle',\n                           'x0': 0,\n                           'x1': 1,\n                           'xref': 'x14',\n                           'y0': 0,\n                           'y1': 1,\n                           'yref': 'y14'},\n                          {'fillcolor': '#ffd700',\n                           'line': {'color': '#ffd700', 'width': 2},\n                           'type': 'circle',\n                           'x0': 0,\n                           'x1': 1,\n                           'xref': 'x15',\n                           'y0': 0,\n                           'y1': 1,\n                           'yref': 'y15'},\n                          {'fillcolor': '#ffd700',\n                           'line': {'color': '#ffd700', 'width': 2},\n                           'type': 'circle',\n                           'x0': 0,\n                           'x1': 1,\n                           'xref': 'x16',\n                           'y0': 0,\n                           'y1': 1,\n                           'yref': 'y16'},\n                          {'fillcolor': '#ffd700',\n                           'line': {'color': '#ffd700', 'width': 2},\n                           'type': 'circle',\n                           'x0': 0,\n                           'x1': 1,\n                           'xref': 'x17',\n                           'y0': 0,\n                           'y1': 1,\n                           'yref': 'y17'},\n                          {'fillcolor': '#ffd700',\n                           'line': {'color': '#ffd700', 'width': 2},\n                           'type': 'circle',\n                           'x0': 0,\n                           'x1': 1,\n                           'xref': 'x18',\n                           'y0': 0,\n                           'y1': 1,\n                           'yref': 'y18'},\n                          {'fillcolor': '#ffd700',\n                           'line': {'color': '#ffd700', 'width': 2},\n                           'type': 'circle',\n                           'x0': 0,\n                           'x1': 1,\n                           'xref': 'x19',\n                           'y0': 0,\n                           'y1': 1,\n                           'yref': 'y19'},\n                          {'fillcolor': '#ffffff',\n                           'line': {'color': '#ffffff', 'width': 2},\n                           'type': 'circle',\n                           'x0': 0,\n                           'x1': 1,\n                           'xref': 'x20',\n                           'y0': 0,\n                           'y1': 1,\n                           'yref': 'y20'},\n                          {'fillcolor': '#ffffff',\n                           'line': {'color': '#ffffff', 'width': 2},\n                           'type': 'circle',\n                           'x0': 0,\n                           'x1': 1,\n                           'xref': 'x21',\n                           'y0': 0,\n                           'y1': 1,\n                           'yref': 'y21'},\n                          {'fillcolor': '#ffffff',\n                           'line': {'color': '#ffffff', 'width': 2},\n                           'type': 'circle',\n                           'x0': 0,\n                           'x1': 1,\n                           'xref': 'x22',\n                           'y0': 0,\n                           'y1': 1,\n                           'yref': 'y22'},\n                          {'fillcolor': '#ffffff',\n                           'line': {'color': '#ffffff', 'width': 2},\n                           'type': 'circle',\n                           'x0': 0,\n                           'x1': 1,\n                           'xref': 'x23',\n                           'y0': 0,\n                           'y1': 1,\n                           'yref': 'y23'},\n                          {'fillcolor': '#ffffff',\n                           'line': {'color': '#ffffff', 'width': 2},\n                           'type': 'circle',\n                           'x0': 0,\n                           'x1': 1,\n                           'xref': 'x24',\n                           'y0': 0,\n                           'y1': 1,\n                           'yref': 'y24'},\n                          {'fillcolor': '#ffffff',\n                           'line': {'color': '#ffffff', 'width': 2},\n                           'type': 'circle',\n                           'x0': 0,\n                           'x1': 1,\n                           'xref': 'x25',\n                           'y0': 0,\n                           'y1': 1,\n                           'yref': 'y25'}],\n               'showlegend': False,\n               'template': '...',\n               'width': 500,\n               'xaxis': {'anchor': 'y',\n                         'domain': [0.0, 0.184],\n                         'matches': 'x21',\n                         'range': [0, 1],\n                         'showticklabels': False},\n               'xaxis10': {'anchor': 'y10',\n                           'domain': [0.816, 1.0],\n                           'matches': 'x21',\n                           'range': [0, 1],\n                           'showticklabels': False},\n               'xaxis11': {'anchor': 'y11',\n                           'domain': [0.0, 0.184],\n                           'matches': 'x21',\n                           'range': [0, 1],\n                           'showticklabels': False},\n               'xaxis12': {'anchor': 'y12',\n                           'domain': [0.204, 0.388],\n                           'matches': 'x21',\n                           'range': [0, 1],\n                           'showticklabels': False},\n               'xaxis13': {'anchor': 'y13',\n                           'domain': [0.408, 0.592],\n                           'matches': 'x21',\n                           'range': [0, 1],\n                           'showticklabels': False},\n               'xaxis14': {'anchor': 'y14',\n                           'domain': [0.6120000000000001, 0.796],\n                           'matches': 'x21',\n                           'range': [0, 1],\n                           'showticklabels': False},\n               'xaxis15': {'anchor': 'y15',\n                           'domain': [0.816, 1.0],\n                           'matches': 'x21',\n                           'range': [0, 1],\n                           'showticklabels': False},\n               'xaxis16': {'anchor': 'y16',\n                           'domain': [0.0, 0.184],\n                           'matches': 'x21',\n                           'range': [0, 1],\n                           'showticklabels': False},\n               'xaxis17': {'anchor': 'y17',\n                           'domain': [0.204, 0.388],\n                           'matches': 'x21',\n                           'range': [0, 1],\n                           'showticklabels': False},\n               'xaxis18': {'anchor': 'y18',\n                           'domain': [0.408, 0.592],\n                           'matches': 'x21',\n                           'range': [0, 1],\n                           'showticklabels': False},\n               'xaxis19': {'anchor': 'y19',\n                           'domain': [0.6120000000000001, 0.796],\n                           'matches': 'x21',\n                           'range': [0, 1],\n                           'showticklabels': False},\n               'xaxis2': {'anchor': 'y2',\n                          'domain': [0.204, 0.388],\n                          'matches': 'x21',\n                          'range': [0, 1],\n                          'showticklabels': False},\n               'xaxis20': {'anchor': 'y20',\n                           'domain': [0.816, 1.0],\n                           'matches': 'x21',\n                           'range': [0, 1],\n                           'showticklabels': False},\n               'xaxis21': {'anchor': 'y21', 'domain': [0.0, 0.184], 'range': [0, 1], 'showticklabels': False},\n               'xaxis22': {'anchor': 'y22',\n                           'domain': [0.204, 0.388],\n                           'matches': 'x21',\n                           'range': [0, 1],\n                           'showticklabels': False},\n               'xaxis23': {'anchor': 'y23',\n                           'domain': [0.408, 0.592],\n                           'matches': 'x21',\n                           'range': [0, 1],\n                           'showticklabels': False},\n               'xaxis24': {'anchor': 'y24',\n                           'domain': [0.6120000000000001, 0.796],\n                           'matches': 'x21',\n                           'range': [0, 1],\n                           'showticklabels': False},\n               'xaxis25': {'anchor': 'y25',\n                           'domain': [0.816, 1.0],\n                           'matches': 'x21',\n                           'range': [0, 1],\n                           'showticklabels': False},\n               'xaxis3': {'anchor': 'y3',\n                          'domain': [0.408, 0.592],\n                          'matches': 'x21',\n                          'range': [0, 1],\n                          'showticklabels': False},\n               'xaxis4': {'anchor': 'y4',\n                          'domain': [0.6120000000000001, 0.796],\n                          'matches': 'x21',\n                          'range': [0, 1],\n                          'showticklabels': False},\n               'xaxis5': {'anchor': 'y5',\n                          'domain': [0.816, 1.0],\n                          'matches': 'x21',\n                          'range': [0, 1],\n                          'showticklabels': False},\n               'xaxis6': {'anchor': 'y6',\n                          'domain': [0.0, 0.184],\n                          'matches': 'x21',\n                          'range': [0, 1],\n                          'showticklabels': False},\n               'xaxis7': {'anchor': 'y7',\n                          'domain': [0.204, 0.388],\n                          'matches': 'x21',\n                          'range': [0, 1],\n                          'showticklabels': False},\n               'xaxis8': {'anchor': 'y8',\n                          'domain': [0.408, 0.592],\n                          'matches': 'x21',\n                          'range': [0, 1],\n                          'showticklabels': False},\n               'xaxis9': {'anchor': 'y9',\n                          'domain': [0.6120000000000001, 0.796],\n                          'matches': 'x21',\n                          'range': [0, 1],\n                          'showticklabels': False},\n               'yaxis': {'anchor': 'x',\n                         'domain': [0.816, 1.0],\n                         'matches': 'y21',\n                         'range': [0, 1],\n                         'showticklabels': False},\n               'yaxis10': {'anchor': 'x10',\n                           'domain': [0.6120000000000001, 0.796],\n                           'matches': 'y21',\n                           'range': [0, 1],\n                           'showticklabels': False},\n               'yaxis11': {'anchor': 'x11',\n                           'domain': [0.408, 0.592],\n                           'matches': 'y21',\n                           'range': [0, 1],\n                           'showticklabels': False},\n               'yaxis12': {'anchor': 'x12',\n                           'domain': [0.408, 0.592],\n                           'matches': 'y21',\n                           'range': [0, 1],\n                           'showticklabels': False},\n               'yaxis13': {'anchor': 'x13',\n                           'domain': [0.408, 0.592],\n                           'matches': 'y21',\n                           'range': [0, 1],\n                           'showticklabels': False},\n               'yaxis14': {'anchor': 'x14',\n                           'domain': [0.408, 0.592],\n                           'matches': 'y21',\n                           'range': [0, 1],\n                           'showticklabels': False},\n               'yaxis15': {'anchor': 'x15',\n                           'domain': [0.408, 0.592],\n                           'matches': 'y21',\n                           'range': [0, 1],\n                           'showticklabels': False},\n               'yaxis16': {'anchor': 'x16',\n                           'domain': [0.204, 0.388],\n                           'matches': 'y21',\n                           'range': [0, 1],\n                           'showticklabels': False},\n               'yaxis17': {'anchor': 'x17',\n                           'domain': [0.204, 0.388],\n                           'matches': 'y21',\n                           'range': [0, 1],\n                           'showticklabels': False},\n               'yaxis18': {'anchor': 'x18',\n                           'domain': [0.204, 0.388],\n                           'matches': 'y21',\n                           'range': [0, 1],\n                           'showticklabels': False},\n               'yaxis19': {'anchor': 'x19',\n                           'domain': [0.204, 0.388],\n                           'matches': 'y21',\n                           'range': [0, 1],\n                           'showticklabels': False},\n               'yaxis2': {'anchor': 'x2',\n                          'domain': [0.816, 1.0],\n                          'matches': 'y21',\n                          'range': [0, 1],\n                          'showticklabels': False},\n               'yaxis20': {'anchor': 'x20',\n                           'domain': [0.204, 0.388],\n                           'matches': 'y21',\n                           'range': [0, 1],\n                           'showticklabels': False},\n               'yaxis21': {'anchor': 'x21', 'domain': [0.0, 0.184], 'range': [0, 1], 'showticklabels': False},\n               'yaxis22': {'anchor': 'x22',\n                           'domain': [0.0, 0.184],\n                           'matches': 'y21',\n                           'range': [0, 1],\n                           'showticklabels': False},\n               'yaxis23': {'anchor': 'x23',\n                           'domain': [0.0, 0.184],\n                           'matches': 'y21',\n                           'range': [0, 1],\n                           'showticklabels': False},\n               'yaxis24': {'anchor': 'x24',\n                           'domain': [0.0, 0.184],\n                           'matches': 'y21',\n                           'range': [0, 1],\n                           'showticklabels': False},\n               'yaxis25': {'anchor': 'x25',\n                           'domain': [0.0, 0.184],\n                           'matches': 'y21',\n                           'range': [0, 1],\n                           'showticklabels': False},\n               'yaxis3': {'anchor': 'x3',\n                          'domain': [0.816, 1.0],\n                          'matches': 'y21',\n                          'range': [0, 1],\n                          'showticklabels': False},\n               'yaxis4': {'anchor': 'x4',\n                          'domain': [0.816, 1.0],\n                          'matches': 'y21',\n                          'range': [0, 1],\n                          'showticklabels': False},\n               'yaxis5': {'anchor': 'x5',\n                          'domain': [0.816, 1.0],\n                          'matches': 'y21',\n                          'range': [0, 1],\n                          'showticklabels': False},\n               'yaxis6': {'anchor': 'x6',\n                          'domain': [0.6120000000000001, 0.796],\n                          'matches': 'y21',\n                          'range': [0, 1],\n                          'showticklabels': False},\n               'yaxis7': {'anchor': 'x7',\n                          'domain': [0.6120000000000001, 0.796],\n                          'matches': 'y21',\n                          'range': [0, 1],\n                          'showticklabels': False},\n               'yaxis8': {'anchor': 'x8',\n                          'domain': [0.6120000000000001, 0.796],\n                          'matches': 'y21',\n                          'range': [0, 1],\n                          'showticklabels': False},\n               'yaxis9': {'anchor': 'x9',\n                          'domain': [0.6120000000000001, 0.796],\n                          'matches': 'y21',\n                          'range': [0, 1],\n                          'showticklabels': False}}\n})]\n\n    The 'data' property is a tuple of trace instances\n    that may be specified as:\n      - A list or tuple of trace instances\n        (e.g. [Scatter(...), Bar(...)])\n      - A single trace instance\n        (e.g. Scatter(...), Bar(...), etc.)\n      - A list or tuple of dicts of string/value properties where:\n        - The 'type' property specifies the trace type\n            One of: ['bar', 'barpolar', 'box', 'candlestick',\n                     'carpet', 'choropleth', 'choroplethmapbox',\n                     'cone', 'contour', 'contourcarpet',\n                     'densitymapbox', 'funnel', 'funnelarea',\n                     'heatmap', 'heatmapgl', 'histogram',\n                     'histogram2d', 'histogram2dcontour', 'icicle',\n                     'image', 'indicator', 'isosurface', 'mesh3d',\n                     'ohlc', 'parcats', 'parcoords', 'pie',\n                     'pointcloud', 'sankey', 'scatter',\n                     'scatter3d', 'scattercarpet', 'scattergeo',\n                     'scattergl', 'scattermapbox', 'scatterpolar',\n                     'scatterpolargl', 'scattersmith',\n                     'scatterternary', 'splom', 'streamtube',\n                     'sunburst', 'surface', 'table', 'treemap',\n                     'violin', 'volume', 'waterfall']\n\n        - All remaining properties are passed to the constructor of\n          the specified trace type\n\n        (e.g. [{'type': 'scatter', ...}, {'type': 'bar, ...}])"
     ]
    }
   ],
   "source": [
    "fig = go.Figure()\n",
    "fig = make_subplots(rows=12, cols=12, vertical_spacing=0.01, horizontal_spacing=0.01)\n",
    "\n",
    "df_model_meta_metr = df_model_meta[['accuracy', 'precision', 'recall', 'roc_auc_score', 'geometric_mean_score', 'matthews_corrcoef', 'f1_weighted']]\n",
    "\n",
    "# define colors for average probabilities\n",
    "df_model_meta_color = pd.DataFrame()\n",
    "df_model_meta_color['prob'] = df_model_meta.average_probability\n",
    "# standarize df_test.prob from 0 to 1\n",
    "df_model_meta_color['prob_norm'] = minmax_scale(df_model_meta_color['prob'], feature_range=(0,1))\n",
    "# convert df_test.prob_norm to colors\n",
    "df_model_meta_color['color'] = df_model_meta_color['prob_norm'] * (-225) +225\n",
    "# convert to int\n",
    "df_model_meta_color['color'] = df_model_meta_color['color'].astype(int)\n",
    "# convert to hex\n",
    "df_model_meta_color['color_hex'] = df_model_meta_color['color'].apply(lambda x: '#%02x%02x%02x' % (x, x, x))\n",
    "\n",
    "############################################################\n",
    "\n",
    "# add subplots for algorithm contribution to end result\n",
    "\n",
    "for i in range(11):\n",
    "    for j in range(11):\n",
    "        if i < j:\n",
    "\n",
    "            if df_pred_meta_cor.loc[f'meta_{i+1}', f'meta_{j+1}'] > df_prob_meta_cor.loc[f'meta_{i+1}', f'meta_{j+1}']:\n",
    "                color='#9970ab'\n",
    "            else:\n",
    "                color='#2ca25f'\n",
    "\n",
    "            fig.add_trace(go.Indicator(\n",
    "                mode = 'gauge+number+delta',\n",
    "                value =  df_pred_meta_cor.loc[f'meta_{i+1}', f'meta_{j+1}']/100,\n",
    "                # add percentage sign to number and decimals to number\n",
    "                number = {'valueformat':'.1%', 'font': {'size': 9}},\n",
    "                delta = {'reference': (df_pred_meta_cor.loc[f'meta_{i+1}', f'meta_{j+1}'] - df_prob_meta_cor.loc[f'meta_{i+1}', f'meta_{j+1}'])/100, \n",
    "                        'increasing': {'color': color, 'symbol': ''}, 'decreasing': {'color': color, 'symbol': ''}, 'font': {'size': 9},\n",
    "                        'relative': False, 'valueformat':'.1%'},\n",
    "                gauge = {\n",
    "                    'axis': {'range': [0.5, 1], 'tickwidth': 1, 'tickfont': {'size': 6}, 'ticklen' : 1, 'tickvals': [0.6, 0.7, 0.8, 0.9]},\n",
    "                    'bar': {'color': \"#fdbf6f\"},\n",
    "                    'steps' : [{'range': [0.5, df_prob_meta_cor.loc[f'meta_{i+1}', f'meta_{j+1}']/100], 'color': \"gray\"}],\n",
    "                    'threshold' : {'line': {'color': color, 'width': 4}, \n",
    "                    'thickness': 1, \n",
    "                    'value': df_prob_meta_cor.loc[f'meta_{i+1}', f'meta_{j+1}']/100}},\n",
    "                domain = {'row': i+1, 'column': j+1}))\n",
    "\n",
    "fig.update_layout(\n",
    "    grid = {'rows': 12, 'columns': 12, 'pattern': \"independent\"})\n",
    "                        \n",
    "############################################################\n",
    "# add rows and columns names\n",
    "for i in range(11):\n",
    "    fig.add_annotation(text=algo_cap[i], showarrow=False, font={\"size\":20, 'color':'#2E5984'}, row=1, col=i+2)\n",
    "for i in range(11):\n",
    "    fig.add_annotation(text=algo_cap[i], showarrow=False, font={\"size\":20, 'color':'#cd5c5c'}, row=i+2, col=1)\n",
    "\n",
    "############################################################\n",
    "\n",
    "# add subplots for metamodel comparison with color coding\n",
    "# define sub_plot size\n",
    "img_width = 500\n",
    "img_height = 500\n",
    "\n",
    "for i in range(11):\n",
    "    for j in range(11):\n",
    "        if i > j:\n",
    "            # img = Image.open(path_pictures_prob + f'prob_meta_{i+1}_meta_{j+1}.webp')\n",
    "\n",
    "            # # # Add invisible scatter trace.\n",
    "            # # # This trace is added to help the autoresize logic work.\n",
    "            # fig.add_trace(go.Scatter(x=[0, img_width], y=[0, img_height], mode=\"markers\", marker_opacity=0), row=i+2, col=j+2)\n",
    "\n",
    "            # # Add image\n",
    "            # fig.add_layout_image(dict(source=img, x=0, y = img_height-100, sizex=img_width, sizey=img_height, xref='paper', yref='paper', \n",
    "            #                         opacity=1.0), row=i+2, col=j+2)\n",
    "\n",
    "            fig.add_trace(go.Figure(plotly.io.read_json(path_pictures_prob + f'prob_meta_{i+1}_meta_{j+1}.json')), row=i+2, col=j+2)\n",
    "            \n",
    "            fig.update_layout(showlegend=False)\n",
    "            fig.update_xaxes(showticklabels=False)\n",
    "            fig.update_yaxes(showticklabels=False)\n",
    "\n",
    "############################################################\n",
    "\n",
    "# add subplots for metrics in each algorithm\n",
    "\n",
    "# return min value from df_model_meta_metr\n",
    "y_min = df_model_meta_metr.min().min()\n",
    "# return max value from df_model_meta_metr\n",
    "y_max = df_model_meta_metr.max().max()\n",
    "\n",
    "# round down min_value to closest ten\n",
    "y_min = math.floor(y_min/10)*10\n",
    "# round up max_value to closest ten\n",
    "y_max = math.ceil(y_max/10)*10\n",
    "limit = y_max - y_min\n",
    "\n",
    "for i in range(11):\n",
    "\n",
    "    fig.add_trace(go.Bar(x = df_model_meta_metr.columns, y = df_model_meta_metr.iloc[i], marker_color=df_model_meta_color.color_hex.iloc[i],\n",
    "                name = algo_cap[i]), row=i+2, col=i+2)\n",
    "                # reduce text size\n",
    "    fig.add_annotation(text=f'Conf.: {df_model_meta.average_probability[i]}%', showarrow=False,\n",
    "                xref=\"x domain\",yref=\"y domain\", yshift =40, \n",
    "                font={\"size\":10, 'color':'#000000'}, row=i+2, col=i+2)\n",
    "    # update y axis range\n",
    "    fig.update_yaxes(range=[y_min, y_max], row=i+2, col=i+2)\n",
    "    # remove legend and x axes labels\n",
    "    fig.update_layout(showlegend=False)\n",
    "\n",
    "    # define ticklabels for x axis with only first letter uppercase and rotate x axis labels\n",
    "    metrics_capital = df_model_meta_metr.columns.str.capitalize().str[0:1]\n",
    "    # convert to list\n",
    "    metrics_capital = metrics_capital.tolist()\n",
    "    metrics_capital[3] = 'C' # convert to C for ROC_AUC_SCORE\n",
    "    fig.update_xaxes(tickvals=df_model_meta_metr.columns, ticktext=metrics_capital, tickfont= {\"size\":10, 'color':'#000000'}, tickangle=0, row=i+2, col=i+2)\n",
    "    # define ticklabels for y axis with values 70 to 90\n",
    "    if limit <= 10:\n",
    "        fig.update_yaxes(tickvals=[y_min], ticktext=[y_min], row=i+2, col=i+2)\n",
    "    else:\n",
    "        fig.update_yaxes(tickvals=[y_min, y_max-10], ticktext=[y_min, y_max-10], row=i+2, col=i+2)\n",
    "\n",
    "############################################################\n",
    "\n",
    "fig.update_layout(showlegend=False)\n",
    "fig.update_xaxes(showticklabels=False)\n",
    "fig.update_yaxes(showticklabels=False)\n",
    "\n",
    "# remove background color\n",
    "fig.update_layout(plot_bgcolor='rgba(0,0,0,0)')\n",
    "\n",
    "\n",
    "# show xaxis and yaxis labels\n",
    "fig.update_layout(xaxis105_showticklabels=True, xaxis118_showticklabels=True, xaxis131_showticklabels=True, xaxis14_showticklabels=True,\n",
    "xaxis144_showticklabels=True, xaxis27_showticklabels=True, xaxis40_showticklabels=True, xaxis53_showticklabels=True, xaxis66_showticklabels=True,\n",
    "xaxis79_showticklabels=True, xaxis92_showticklabels=True)\n",
    "\n",
    "fig.update_layout(yaxis105_showticklabels=True, yaxis118_showticklabels=True, yaxis131_showticklabels=True, yaxis14_showticklabels=True,\n",
    "yaxis144_showticklabels=True, yaxis27_showticklabels=True, yaxis40_showticklabels=True, yaxis53_showticklabels=True, yaxis66_showticklabels=True,\n",
    "yaxis79_showticklabels=True, yaxis92_showticklabels=True)"
   ]
  },
  {
   "cell_type": "code",
   "execution_count": null,
   "metadata": {},
   "outputs": [],
   "source": []
  },
  {
   "cell_type": "code",
   "execution_count": 102,
   "metadata": {},
   "outputs": [
    {
     "ename": "TypeError",
     "evalue": "'numpy.float64' object is not callable",
     "output_type": "error",
     "traceback": [
      "\u001b[1;31m---------------------------------------------------------------------------\u001b[0m",
      "\u001b[1;31mTypeError\u001b[0m                                 Traceback (most recent call last)",
      "\u001b[1;32md:\\github\\2dv50e\\Jupyter notebooks\\2dv50e_Heart_train_test_split.ipynb Cell 43\u001b[0m in \u001b[0;36m<cell line: 1>\u001b[1;34m()\u001b[0m\n\u001b[0;32m      <a href='vscode-notebook-cell:/d%3A/github/2dv50e/Jupyter%20notebooks/2dv50e_Heart_train_test_split.ipynb#X55sZmlsZQ%3D%3D?line=0'>1</a>\u001b[0m \u001b[39mfor\u001b[39;00m key_model_meta, key_prob_meta, key_dict \u001b[39min\u001b[39;00m \u001b[39mzip\u001b[39m(df_model_dict_meta, df_prob_dict_meta, algo_dict):\n\u001b[1;32m----> <a href='vscode-notebook-cell:/d%3A/github/2dv50e/Jupyter%20notebooks/2dv50e_Heart_train_test_split.ipynb#X55sZmlsZQ%3D%3D?line=1'>2</a>\u001b[0m     fig \u001b[39m=\u001b[39m plotting_comparison(df_model_dict_meta[key_model_meta], df_prob_dict_meta[key_prob_meta], algo_dict[key_dict])\n\u001b[0;32m      <a href='vscode-notebook-cell:/d%3A/github/2dv50e/Jupyter%20notebooks/2dv50e_Heart_train_test_split.ipynb#X55sZmlsZQ%3D%3D?line=2'>3</a>\u001b[0m     \u001b[39m# add title to the figure\u001b[39;00m\n\u001b[0;32m      <a href='vscode-notebook-cell:/d%3A/github/2dv50e/Jupyter%20notebooks/2dv50e_Heart_train_test_split.ipynb#X55sZmlsZQ%3D%3D?line=3'>4</a>\u001b[0m     fig\u001b[39m.\u001b[39mupdate_layout(title_text\u001b[39m=\u001b[39m\u001b[39mf\u001b[39m\u001b[39m'\u001b[39m\u001b[39m{\u001b[39;00mkey_model_meta\u001b[39m}\u001b[39;00m\u001b[39m'\u001b[39m)\n",
      "\u001b[1;32md:\\github\\2dv50e\\Jupyter notebooks\\2dv50e_Heart_train_test_split.ipynb Cell 43\u001b[0m in \u001b[0;36mplotting_comparison\u001b[1;34m(df_model_meta, df_prob_meta, algo)\u001b[0m\n\u001b[0;32m     <a href='vscode-notebook-cell:/d%3A/github/2dv50e/Jupyter%20notebooks/2dv50e_Heart_train_test_split.ipynb#X55sZmlsZQ%3D%3D?line=71'>72</a>\u001b[0m meta_1 \u001b[39m=\u001b[39m \u001b[39mf\u001b[39m\u001b[39m'\u001b[39m\u001b[39mmeta_\u001b[39m\u001b[39m{\u001b[39;00mi\u001b[39m}\u001b[39;00m\u001b[39m'\u001b[39m\n\u001b[0;32m     <a href='vscode-notebook-cell:/d%3A/github/2dv50e/Jupyter%20notebooks/2dv50e_Heart_train_test_split.ipynb#X55sZmlsZQ%3D%3D?line=72'>73</a>\u001b[0m meta_2 \u001b[39m=\u001b[39m \u001b[39mf\u001b[39m\u001b[39m'\u001b[39m\u001b[39mmeta_\u001b[39m\u001b[39m{\u001b[39;00mj\u001b[39m}\u001b[39;00m\u001b[39m'\u001b[39m\n\u001b[1;32m---> <a href='vscode-notebook-cell:/d%3A/github/2dv50e/Jupyter%20notebooks/2dv50e_Heart_train_test_split.ipynb#X55sZmlsZQ%3D%3D?line=73'>74</a>\u001b[0m fig \u001b[39m=\u001b[39m coverage(df_prob_meta_red, meta_1, meta_2)\n\u001b[0;32m     <a href='vscode-notebook-cell:/d%3A/github/2dv50e/Jupyter%20notebooks/2dv50e_Heart_train_test_split.ipynb#X55sZmlsZQ%3D%3D?line=74'>75</a>\u001b[0m \u001b[39m# save figure\u001b[39;00m\n\u001b[0;32m     <a href='vscode-notebook-cell:/d%3A/github/2dv50e/Jupyter%20notebooks/2dv50e_Heart_train_test_split.ipynb#X55sZmlsZQ%3D%3D?line=75'>76</a>\u001b[0m \u001b[39m# save fig to json file\u001b[39;00m\n\u001b[0;32m     <a href='vscode-notebook-cell:/d%3A/github/2dv50e/Jupyter%20notebooks/2dv50e_Heart_train_test_split.ipynb#X55sZmlsZQ%3D%3D?line=76'>77</a>\u001b[0m fig\u001b[39m.\u001b[39mwrite_json(file \u001b[39m=\u001b[39m path_pictures_prob \u001b[39m+\u001b[39m \u001b[39mf\u001b[39m\u001b[39m'\u001b[39m\u001b[39mprob_meta_\u001b[39m\u001b[39m{\u001b[39;00mi\u001b[39m}\u001b[39;00m\u001b[39m_meta_\u001b[39m\u001b[39m{\u001b[39;00mj\u001b[39m}\u001b[39;00m\u001b[39m.json\u001b[39m\u001b[39m'\u001b[39m)\n",
      "\u001b[1;31mTypeError\u001b[0m: 'numpy.float64' object is not callable"
     ]
    }
   ],
   "source": [
    "for key_model_meta, key_prob_meta, key_dict in zip(df_model_dict_meta, df_prob_dict_meta, algo_dict):\n",
    "    fig = plotting_comparison(df_model_dict_meta[key_model_meta], df_prob_dict_meta[key_prob_meta], algo_dict[key_dict])\n",
    "    # add title to the figure\n",
    "    fig.update_layout(title_text=f'{key_model_meta}')\n",
    "    fig.show()\n"
   ]
  },
  {
   "cell_type": "code",
   "execution_count": null,
   "metadata": {},
   "outputs": [],
   "source": []
  },
  {
   "cell_type": "code",
   "execution_count": null,
   "metadata": {},
   "outputs": [],
   "source": []
  },
  {
   "cell_type": "code",
   "execution_count": null,
   "metadata": {},
   "outputs": [],
   "source": []
  },
  {
   "cell_type": "code",
   "execution_count": null,
   "metadata": {},
   "outputs": [],
   "source": []
  },
  {
   "cell_type": "code",
   "execution_count": null,
   "metadata": {},
   "outputs": [],
   "source": []
  }
 ],
 "metadata": {
  "kernelspec": {
   "display_name": "Python 3.10.5 ('myenv')",
   "language": "python",
   "name": "python3"
  },
  "language_info": {
   "codemirror_mode": {
    "name": "ipython",
    "version": 3
   },
   "file_extension": ".py",
   "mimetype": "text/x-python",
   "name": "python",
   "nbconvert_exporter": "python",
   "pygments_lexer": "ipython3",
   "version": "3.10.5"
  },
  "orig_nbformat": 4,
  "vscode": {
   "interpreter": {
    "hash": "aeac42652bc9acf97691d90b65a834c2cc419c73e111c35c8eb6c861e80ae324"
   }
  }
 },
 "nbformat": 4,
 "nbformat_minor": 2
}
