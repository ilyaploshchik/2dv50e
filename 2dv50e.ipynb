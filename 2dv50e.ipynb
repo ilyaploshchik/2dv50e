{
 "cells": [
  {
   "cell_type": "markdown",
   "metadata": {},
   "source": [
    "### Initial Data exploration and wrangling"
   ]
  },
  {
   "cell_type": "markdown",
   "metadata": {},
   "source": [
    "##### Modul import"
   ]
  },
  {
   "cell_type": "code",
   "execution_count": 3,
   "metadata": {},
   "outputs": [],
   "source": [
    "import pandas as pd\n",
    "import umap\n",
    "from sklearn import preprocessing\n",
    "import plotly.express as px\n",
    "import numpy as np\n",
    "import ast\n",
    "\n",
    "from sklearn.neighbors import KNeighborsClassifier\n",
    "from sklearn.svm import SVC\n",
    "from sklearn.naive_bayes import GaussianNB\n",
    "from sklearn.neural_network import MLPClassifier\n",
    "from sklearn.linear_model import LogisticRegression\n",
    "from sklearn.discriminant_analysis import LinearDiscriminantAnalysis\n",
    "from sklearn.discriminant_analysis import QuadraticDiscriminantAnalysis\n",
    "from sklearn.ensemble import RandomForestClassifier\n",
    "from sklearn.ensemble import ExtraTreesClassifier\n",
    "from sklearn.ensemble import AdaBoostClassifier\n",
    "from sklearn.ensemble import GradientBoostingClassifier\n",
    "from sklearn.ensemble import StackingClassifier\n",
    "from sklearn.metrics import accuracy_score, precision_score, recall_score, roc_auc_score, matthews_corrcoef, f1_score, log_loss\n",
    "from sklearn import metrics\n",
    "from imblearn.metrics import geometric_mean_score\n"
   ]
  },
  {
   "cell_type": "markdown",
   "metadata": {},
   "source": [
    "#### Dataset import and wrangling"
   ]
  },
  {
   "cell_type": "code",
   "execution_count": 4,
   "metadata": {},
   "outputs": [],
   "source": [
    "path = r'D:\\github\\2dv50e\\Data\\1. Heart Disease'\n",
    "df_probabilities = pd.read_csv(path + r'\\topModelsProbabilities.csv')\n",
    "df_model = pd.read_csv(path + r'\\topModels.csv')\n",
    "# add column target to df model from target.csv\n",
    "df_target = pd.read_csv(path + r'\\target.csv')\n",
    "y_train = df_target['class']\n",
    "target = df_target['class'].tolist()\n",
    "df_source = pd.read_csv(path + r'\\dataset.csv')\n",
    "\n",
    "algo_nr = df_model['algorithm_id']"
   ]
  },
  {
   "cell_type": "code",
   "execution_count": 5,
   "metadata": {},
   "outputs": [],
   "source": [
    "# Print number of missing values per column in df_probabilities\n",
    "for col in df_probabilities.columns:\n",
    "    if df_probabilities[col].isnull().sum() > 0:\n",
    "        print(f'{col} has {df_probabilities[col].isnull().sum()} missing values.')\n",
    "    \n"
   ]
  },
  {
   "cell_type": "code",
   "execution_count": 6,
   "metadata": {},
   "outputs": [],
   "source": [
    "# Apply robust scaler to df_source\n",
    "scaler = preprocessing.RobustScaler()\n",
    "df_source_scaled = scaler.fit_transform(df_source)\n",
    "x_train = pd.DataFrame(df_source_scaled, columns=df_source.columns)"
   ]
  },
  {
   "cell_type": "markdown",
   "metadata": {},
   "source": [
    "### UMAP dimension reduction algorithm"
   ]
  },
  {
   "cell_type": "code",
   "execution_count": 31,
   "metadata": {},
   "outputs": [],
   "source": [
    "# UMAP function\n",
    "def umap_model (df_prob = df_probabilities, df_mod = df_model, parameter_umap_n_neighbors = 10, parameter_umap_min_dist = 0.5, \n",
    "                parameter_umap_metric = 'euclidean'):\n",
    "\n",
    "        algos = {1:'K-Nearest Neighbor', 2:'Support Vector Machine', 3:'Gaussian Naive Bayes', 4:'Multilayer Perceptron', 5:'Logistic Regression',\n",
    "        6:'Linear Discriminant Analysis', 7:'Quadratic Discriminant Analysis', 8:'Random Forest', 9:'Extra Trees', 10:'Adaptive Boosting',\n",
    "        11:'Gradient Boosting'}\n",
    "\n",
    "        umap_model = umap.UMAP(n_neighbors=parameter_umap_n_neighbors, metric=parameter_umap_metric, min_dist=parameter_umap_min_dist)\n",
    "        umap_embedding = umap_model.fit_transform(df_prob)\n",
    "        #convert umap_embedding to dataframe\n",
    "        df_umap = pd.DataFrame(umap_embedding, columns=['UMAP_1', 'UMAP_2'])\n",
    "        # Add algortim number (keeping in mind the same row structure in topModels.csv and topModelsProbabilities.csv)\n",
    "        df_umap['algorithm_id'] = df_mod['algorithm_id']\n",
    "        df_umap['algorithm_name'] = df_umap['algorithm_id'].map(algos)\n",
    "        df_umap['model_id'] = df_mod['model_id']\n",
    "        # add hyperparameters column\n",
    "        df_umap['hyperparameters'] = df_mod['params']\n",
    "        # Add model specific metrics\n",
    "        df_umap['accuracy'] = df_model['mean_test_accuracy']\n",
    "        df_umap['precision'] = df_model['mean_test_precision_weighted']\n",
    "        df_umap['recall'] = df_model['mean_test_recall_weighted']\n",
    "        df_umap['roc_auc_score'] = df_model['mean_test_roc_auc_ovo_weighted']\n",
    "        df_umap['geometric_mean_score'] = df_model['geometric_mean_score_weighted']\n",
    "        df_umap['matthews_corrcoef'] = df_model['matthews_corrcoef']\n",
    "        df_umap['f1_weighted'] = df_model['f1_weighted']\n",
    "        df_umap['log_loss'] = df_model['log_loss']\n",
    "        df_umap['performance'] = round((df_umap['accuracy'] + df_umap['precision'] + df_umap['recall'] + df_umap['roc_auc_score'] + \\\n",
    "                        df_umap['geometric_mean_score'] + df_umap['matthews_corrcoef'] + df_umap['f1_weighted']) / 7, 2)\n",
    "        # create new column for text of points\n",
    "        df_umap['text'] = df_umap['algorithm_name'] + '<br>' + 'Performance: ' + \\\n",
    "                df_umap['performance'].astype(str) + '%' + '<br>' + 'Model ID: ' + df_umap['model_id'].astype(str) + \\\n",
    "                '<br>' + 'Accuracy: ' + df_umap['accuracy'].astype(str) + '%' + '<br>' + 'Precision: ' + \\\n",
    "                df_umap['precision'].astype(str) + '%' + '<br>' + 'Recall: ' + df_umap['recall'].astype(str) + \\\n",
    "                '%' + '<br>' + 'ROC AUC: ' + df_umap['roc_auc_score'].astype(str) + '<br>' + 'Geometric Mean: ' + \\\n",
    "                df_umap['geometric_mean_score'].astype(str) + '<br>' + 'Matthews Correlation: ' + \\\n",
    "                df_umap['matthews_corrcoef'].astype(str) + '<br>' + 'F1: ' + df_umap['f1_weighted'].astype(str) + \\\n",
    "                '<br>' + 'Log Loss: ' + df_umap['log_loss'].astype(str)\n",
    "        # convert algorithm_id to int and perfromance to float\n",
    "        df_umap['algorithm_id'] = df_umap['algorithm_id'].astype(int)\n",
    "        df_umap['performance'] = df_umap['performance'].astype(float)\n",
    "        # drop metrics that are not needed\n",
    "        df_umap = df_umap.drop(columns=['accuracy', 'precision', 'recall', 'roc_auc_score', 'geometric_mean_score', \n",
    "                                        'matthews_corrcoef', 'f1_weighted', 'log_loss'])\n",
    "\n",
    "        return df_umap"
   ]
  },
  {
   "cell_type": "code",
   "execution_count": 32,
   "metadata": {},
   "outputs": [],
   "source": [
    "# UMAP plot function\n",
    "def umap_plot(df_umap):\n",
    "        # Define symbols for each algorithm\n",
    "        symbols = ['circle', 'square', 'x', 'cross', 'diamond', 'star', 'hexagram', 'triangle-right', 'triangle-left', 'triangle-down', 'triangle-up']\n",
    "        # Plot UMAP, add hovertext and symbols, define colorscale by performance, add title\n",
    "        fig = px.scatter(df_umap, x='UMAP_1', y='UMAP_2', color='performance', hover_name='text',\n",
    "                symbol = df_umap['algorithm_id'], symbol_sequence = symbols, labels=dict(UMAP_1='', UMAP_2='', performance='Performance'),\n",
    "                color_continuous_scale=px.colors.sequential.Viridis)\n",
    "        fig.update_layout(title_text='UMAP Plot')\n",
    "        fig.update_layout(showlegend=False)\n",
    "        # Set marker symbol shape based on algorithm\n",
    "        fig.update_traces(marker=dict(size=10, opacity=0.9, line=dict(width=1, color='Black')), selector=dict(mode='markers'))\n",
    "        # Remove axis labels\n",
    "        fig.update_layout(xaxis=dict(showticklabels=False), yaxis=dict(showticklabels=False))\n",
    "        # define plot as square\n",
    "        fig.update_layout(width=600, height=600)\n",
    "        # add tooltip\n",
    "        fig.update_layout(hovermode='closest')\n",
    "        return fig"
   ]
  },
  {
   "cell_type": "markdown",
   "metadata": {},
   "source": [
    "Since we see that all models perform quite similar within the same algorithm group, we decided to pick the best performing model per algorithm so that stacking will be based on 11 top base models, not the original 55 ones."
   ]
  },
  {
   "cell_type": "markdown",
   "metadata": {},
   "source": [
    "### Top-best performing models per algorithm. \n",
    "The plan is to extract hyperparameters from the best performing model per algorithm and then apply these hyperparameters to the metamodels. Currently no functuonality to be added to allow end user to tune the hyperparameters for metamodels, instead they will rely on top performing ones from base layer models"
   ]
  },
  {
   "cell_type": "code",
   "execution_count": 33,
   "metadata": {},
   "outputs": [
    {
     "name": "stderr",
     "output_type": "stream",
     "text": [
      "D:\\Conda\\lib\\site-packages\\sklearn\\manifold\\_spectral_embedding.py:260: UserWarning:\n",
      "\n",
      "Graph is not fully connected, spectral embedding may not work as expected.\n",
      "\n"
     ]
    }
   ],
   "source": [
    "df_umap = umap_model(df_probabilities, df_model)\n",
    "df_umap = df_umap.astype({'UMAP_1': 'float64', 'UMAP_2': 'float64', 'performance': 'float64', 'algorithm_id': 'int64',\n",
    "                                    'algorithm_name': 'str', 'model_id': 'str', 'hyperparameters': 'str', 'text': 'str'})"
   ]
  },
  {
   "cell_type": "code",
   "execution_count": 34,
   "metadata": {},
   "outputs": [
    {
     "data": {
      "text/html": [
       "<div>\n",
       "<style scoped>\n",
       "    .dataframe tbody tr th:only-of-type {\n",
       "        vertical-align: middle;\n",
       "    }\n",
       "\n",
       "    .dataframe tbody tr th {\n",
       "        vertical-align: top;\n",
       "    }\n",
       "\n",
       "    .dataframe thead th {\n",
       "        text-align: right;\n",
       "    }\n",
       "</style>\n",
       "<table border=\"1\" class=\"dataframe\">\n",
       "  <thead>\n",
       "    <tr style=\"text-align: right;\">\n",
       "      <th></th>\n",
       "      <th>UMAP_1</th>\n",
       "      <th>UMAP_2</th>\n",
       "      <th>algorithm_id</th>\n",
       "      <th>algorithm_name</th>\n",
       "      <th>model_id</th>\n",
       "      <th>hyperparameters</th>\n",
       "      <th>performance</th>\n",
       "      <th>text</th>\n",
       "    </tr>\n",
       "  </thead>\n",
       "  <tbody>\n",
       "    <tr>\n",
       "      <th>0</th>\n",
       "      <td>2.843772</td>\n",
       "      <td>-8.994795</td>\n",
       "      <td>1</td>\n",
       "      <td>K-Nearest Neighbor</td>\n",
       "      <td>452</td>\n",
       "      <td>{'algorithm': 'ball_tree', 'metric': 'euclidea...</td>\n",
       "      <td>83.35</td>\n",
       "      <td>K-Nearest Neighbor&lt;br&gt;Performance: 83.35%&lt;br&gt;M...</td>\n",
       "    </tr>\n",
       "    <tr>\n",
       "      <th>1</th>\n",
       "      <td>3.163442</td>\n",
       "      <td>-8.579783</td>\n",
       "      <td>1</td>\n",
       "      <td>K-Nearest Neighbor</td>\n",
       "      <td>288</td>\n",
       "      <td>{'algorithm': 'kd_tree', 'metric': 'minkowski'...</td>\n",
       "      <td>83.28</td>\n",
       "      <td>K-Nearest Neighbor&lt;br&gt;Performance: 83.28%&lt;br&gt;M...</td>\n",
       "    </tr>\n",
       "  </tbody>\n",
       "</table>\n",
       "</div>"
      ],
      "text/plain": [
       "     UMAP_1    UMAP_2  algorithm_id      algorithm_name model_id  \\\n",
       "0  2.843772 -8.994795             1  K-Nearest Neighbor      452   \n",
       "1  3.163442 -8.579783             1  K-Nearest Neighbor      288   \n",
       "\n",
       "                                     hyperparameters  performance  \\\n",
       "0  {'algorithm': 'ball_tree', 'metric': 'euclidea...        83.35   \n",
       "1  {'algorithm': 'kd_tree', 'metric': 'minkowski'...        83.28   \n",
       "\n",
       "                                                text  \n",
       "0  K-Nearest Neighbor<br>Performance: 83.35%<br>M...  \n",
       "1  K-Nearest Neighbor<br>Performance: 83.28%<br>M...  "
      ]
     },
     "execution_count": 34,
     "metadata": {},
     "output_type": "execute_result"
    }
   ],
   "source": [
    "df_umap.head(2)\n"
   ]
  },
  {
   "cell_type": "code",
   "execution_count": 44,
   "metadata": {},
   "outputs": [],
   "source": [
    "def umap_best(df_umap):\n",
    "   # Select hyperparameters for best model in each algorithm\n",
    "    df_umap_best = df_umap.groupby('algorithm_id').apply(lambda x: x.sort_values('performance', ascending=False).iloc[0])\n",
    "    # reset algorithm_nr as  index\n",
    "    df_umap_best = df_umap_best.reset_index(drop=True)\n",
    "    # keep only algorithm number, name, performance and hyperparameters\n",
    "    df_umap_best = df_umap_best[['algorithm_id', 'algorithm_name', 'performance', 'hyperparameters']]\n",
    "    return df_umap_best "
   ]
  },
  {
   "cell_type": "code",
   "execution_count": 45,
   "metadata": {},
   "outputs": [
    {
     "data": {
      "text/html": [
       "<div>\n",
       "<style scoped>\n",
       "    .dataframe tbody tr th:only-of-type {\n",
       "        vertical-align: middle;\n",
       "    }\n",
       "\n",
       "    .dataframe tbody tr th {\n",
       "        vertical-align: top;\n",
       "    }\n",
       "\n",
       "    .dataframe thead th {\n",
       "        text-align: right;\n",
       "    }\n",
       "</style>\n",
       "<table border=\"1\" class=\"dataframe\">\n",
       "  <thead>\n",
       "    <tr style=\"text-align: right;\">\n",
       "      <th></th>\n",
       "      <th>algorithm_id</th>\n",
       "      <th>algorithm_name</th>\n",
       "      <th>performance</th>\n",
       "      <th>hyperparameters</th>\n",
       "    </tr>\n",
       "  </thead>\n",
       "  <tbody>\n",
       "    <tr>\n",
       "      <th>0</th>\n",
       "      <td>1</td>\n",
       "      <td>K-Nearest Neighbor</td>\n",
       "      <td>83.35</td>\n",
       "      <td>{'algorithm': 'ball_tree', 'metric': 'euclidea...</td>\n",
       "    </tr>\n",
       "    <tr>\n",
       "      <th>1</th>\n",
       "      <td>2</td>\n",
       "      <td>Support Vector Machine</td>\n",
       "      <td>83.10</td>\n",
       "      <td>{'C': 1.75, 'kernel': 'rbf'}</td>\n",
       "    </tr>\n",
       "  </tbody>\n",
       "</table>\n",
       "</div>"
      ],
      "text/plain": [
       "   algorithm_id          algorithm_name  performance  \\\n",
       "0             1      K-Nearest Neighbor        83.35   \n",
       "1             2  Support Vector Machine        83.10   \n",
       "\n",
       "                                     hyperparameters  \n",
       "0  {'algorithm': 'ball_tree', 'metric': 'euclidea...  \n",
       "1                       {'C': 1.75, 'kernel': 'rbf'}  "
      ]
     },
     "execution_count": 45,
     "metadata": {},
     "output_type": "execute_result"
    }
   ],
   "source": [
    "df_umap_best = umap_best(df_umap)\n",
    "df_umap_best.head(2)"
   ]
  },
  {
   "cell_type": "markdown",
   "metadata": {},
   "source": [
    "#### Supporting functions to extract hyperparameters values"
   ]
  },
  {
   "cell_type": "code",
   "execution_count": 36,
   "metadata": {},
   "outputs": [],
   "source": [
    "# Return hyperparameters based on algorithm name from df_umap_best\n",
    "def get_hyperparameters(algorithm_name):\n",
    "    return df_umap_best[df_umap_best['algorithm_name'] == algorithm_name]['hyperparameters'].values[0]\n",
    "\n",
    "# return value of key in dictionary\n",
    "def get_value(dictionary, key):\n",
    "    return dictionary[key]\n",
    "\n",
    "# convert string to dictionary\n",
    "def string_to_dict(string):\n",
    "    return ast.literal_eval(string)"
   ]
  },
  {
   "cell_type": "markdown",
   "metadata": {},
   "source": [
    "Define hyperparameters for each  final estimator, based on top perfroming model from base layer"
   ]
  },
  {
   "cell_type": "code",
   "execution_count": 37,
   "metadata": {},
   "outputs": [],
   "source": [
    "knn_params = string_to_dict(get_hyperparameters('K-Nearest Neighbor'))\n",
    "svm_params = string_to_dict(get_hyperparameters('Support Vector Machine'))\n",
    "gnb_params = string_to_dict(get_hyperparameters('Gaussian Naive Bayes'))\n",
    "mlp_params = string_to_dict(get_hyperparameters('Multilayer Perceptron'))\n",
    "lr_params = string_to_dict(get_hyperparameters('Logistic Regression'))\n",
    "lda_params = string_to_dict(get_hyperparameters('Linear Discriminant Analysis'))\n",
    "qda_params = string_to_dict(get_hyperparameters('Quadratic Discriminant Analysis'))\n",
    "rf_params = string_to_dict(get_hyperparameters('Random Forest'))\n",
    "et_params = string_to_dict(get_hyperparameters('Extra Trees'))\n",
    "ab_params = string_to_dict(get_hyperparameters('Adaptive Boosting'))\n",
    "gb_params = string_to_dict(get_hyperparameters('Gradient Boosting'))"
   ]
  },
  {
   "cell_type": "markdown",
   "metadata": {},
   "source": [
    "Define base layer estimators (one per algorithm)"
   ]
  },
  {
   "cell_type": "code",
   "execution_count": 38,
   "metadata": {},
   "outputs": [],
   "source": [
    "# Add estimators\n",
    "estimators = [('knn', KNeighborsClassifier(algorithm=get_value(knn_params, 'algorithm'), metric=get_value(knn_params, 'metric'),\n",
    "        n_neighbors= get_value(knn_params, 'n_neighbors'), weights=get_value(knn_params, 'weights'))),\n",
    "        ('svm', SVC(C=get_value(svm_params, 'C'), kernel=get_value(svm_params, 'kernel'),probability=True)),\n",
    "        ('gnb', GaussianNB(var_smoothing=get_value(gnb_params, 'var_smoothing'))),\n",
    "        ('mlp', MLPClassifier(activation=get_value(mlp_params, 'activation'), alpha=get_value(mlp_params, 'alpha'),\n",
    "        max_iter=get_value(mlp_params, 'max_iter'), solver=get_value(mlp_params, 'solver'), tol=get_value(mlp_params, 'tol'))),\n",
    "        ('lr', LogisticRegression(C=get_value(lr_params, 'C'), max_iter=get_value(lr_params, 'max_iter'),\n",
    "        penalty=get_value(lr_params, 'penalty'), solver=get_value(lr_params, 'solver'))),\n",
    "        ('lda', LinearDiscriminantAnalysis(shrinkage=get_value(lda_params, 'shrinkage'), solver=get_value(lda_params, 'solver'))),\n",
    "        ('qda', QuadraticDiscriminantAnalysis(reg_param=get_value(qda_params, 'reg_param'), tol=get_value(qda_params, 'tol'))),\n",
    "        ('rf', RandomForestClassifier(criterion=get_value(rf_params, 'criterion'), n_estimators=get_value(rf_params, 'n_estimators'))),\n",
    "        ('et', ExtraTreesClassifier(criterion=get_value(et_params, 'criterion'), n_estimators=get_value(et_params, 'n_estimators'))),\n",
    "        ('ab', AdaBoostClassifier(algorithm=get_value(ab_params, 'algorithm'), learning_rate=get_value(ab_params, 'learning_rate'),\n",
    "        n_estimators=get_value(ab_params, 'n_estimators'))),\n",
    "        ('gb', GradientBoostingClassifier(criterion=get_value(gb_params, 'criterion'), learning_rate=get_value(gb_params, 'learning_rate'),\n",
    "        n_estimators=get_value(gb_params, 'n_estimators')))\n",
    "        ]\n"
   ]
  },
  {
   "cell_type": "markdown",
   "metadata": {},
   "source": [
    "Please note that for average metrix I did not include the logloss as using normalized version of logloss introduces bias to dataset"
   ]
  },
  {
   "cell_type": "code",
   "execution_count": 39,
   "metadata": {},
   "outputs": [
    {
     "name": "stderr",
     "output_type": "stream",
     "text": [
      "D:\\Conda\\lib\\site-packages\\sklearn\\linear_model\\_sag.py:352: ConvergenceWarning:\n",
      "\n",
      "The max_iter was reached which means the coef_ did not converge\n",
      "\n"
     ]
    }
   ],
   "source": [
    "# create dataframe for df_model_meta with columns names from df_model\n",
    "df_model_meta = pd.DataFrame(columns=df_model.columns)\n",
    "\n",
    "# create dataframe for top_models probabilities\n",
    "df_prob_meta = pd.DataFrame()\n",
    "\n",
    "for x in range(0, len(estimators)):\n",
    "        final_estimator = estimators[x][1]\n",
    "        clf = StackingClassifier(estimators=estimators, final_estimator=final_estimator, n_jobs=-1)\n",
    "        clf.fit(x_train, y_train)\n",
    "        y_pred = clf.predict(x_train)\n",
    "        y_pred = pd.Series(y_pred)\n",
    "\n",
    "        # probabilities dataframe\n",
    "        y_pred_prob = clf.predict_proba(x_train)\n",
    "        y_pred_prob_df = pd.DataFrame(y_pred_prob, columns=['prob_0', 'prob_1'])\n",
    "        y_pred_prob_df['target'] = y_train\n",
    "        y_pred_prob_df['predicted'] = y_pred\n",
    "        # create new column, set value to prob_0 if target is 0 and prob_1 if target is 1\n",
    "        y_pred_prob_df['pred_prob'] = np.where(y_pred_prob_df['target'] == 0, y_pred_prob_df['prob_0'], y_pred_prob_df['prob_1'])\n",
    "        # remove prob_0 and prob_1 columns, target and rpected columns\n",
    "        y_pred_prob_df = y_pred_prob_df.drop(['prob_0', 'prob_1', 'target', 'predicted'], axis=1)\n",
    "        # transpose the data frame and convert values to %\n",
    "        y_pred_prob_df = y_pred_prob_df.T\n",
    "        y_pred_prob_df = y_pred_prob_df.apply(lambda x: x * 100).round(2)\n",
    "        # set index to x\n",
    "        y_pred_prob_df.index = [x]\n",
    "        # add row to df_prob_meta using pd.concat\n",
    "        df_prob_meta = pd.concat([df_prob_meta, y_pred_prob_df], axis=0)\n",
    "\n",
    "        # performance metrics dataframe\n",
    "        accuracy = round(accuracy_score(y_train, y_pred)*100, 2)\n",
    "        precision = round(precision_score(y_train, y_pred, average='weighted')*100, 2)\n",
    "        recall = round(recall_score(y_train, y_pred, average='weighted')*100, 2)\n",
    "        roc_auc = round(roc_auc_score(y_train, y_pred, average='weighted')*100, 2)\n",
    "        gmean = round(geometric_mean_score(y_train, y_pred, average='weighted')*100, 2)\n",
    "        mcc = round(matthews_corrcoef(y_train, y_pred)*100, 2)\n",
    "        f1_weighted = round(f1_score(y_train, y_pred, average='weighted')*100, 2)\n",
    "        log_loss = round(metrics.log_loss(y_train, y_pred)*100, 2)\n",
    "        average_metrics = (accuracy + precision + recall + roc_auc + gmean + mcc + f1_weighted) / 7\n",
    "        average_metrics = round(average_metrics, 2)\n",
    "        # add performance metrics to df_model_meta using pd.concat with index\n",
    "        df_model_meta = pd.concat([df_model_meta, pd.DataFrame([[f'meta_{x+1}', x+1, accuracy, precision, recall, roc_auc, gmean, \n",
    "                        mcc, f1_weighted, log_loss, average_metrics, f'{final_estimator.get_params()}']], \n",
    "                        columns=df_model_meta.columns, index=[x])], axis=0)"
   ]
  },
  {
   "cell_type": "code",
   "execution_count": 40,
   "metadata": {},
   "outputs": [],
   "source": [
    "df_umap_meta = umap_model(df_prob_meta, df_model_meta)\n",
    "df_umap_meta = df_umap_meta.astype({'UMAP_1': 'float64', 'UMAP_2': 'float64', 'performance': 'float64', 'algorithm_id': 'int64',\n",
    "                                    'algorithm_name': 'str', 'model_id': 'str', 'hyperparameters': 'str', 'text': 'str'})\n",
    "\n",
    "# concat df_umap and df_umap_meta\n",
    "df_umap_all = pd.concat([df_umap, df_umap_meta], axis=0)"
   ]
  },
  {
   "cell_type": "markdown",
   "metadata": {},
   "source": [
    "### UMAP chart"
   ]
  },
  {
   "cell_type": "code",
   "execution_count": 41,
   "metadata": {},
   "outputs": [
    {
     "data": {
      "application/vnd.plotly.v1+json": {
       "config": {
        "plotlyServerURL": "https://plot.ly"
       },
       "data": [
        {
         "hovertemplate": "<b>%{hovertext}</b><br><br>algorithm_id=1<br>=%{y}<br>Performance=%{marker.color}<extra></extra>",
         "hovertext": [
          "K-Nearest Neighbor<br>Performance: 83.35%<br>Model ID: 452<br>Accuracy: 70.31%<br>Precision: 70.36%<br>Recall: 70.31%<br>ROC AUC: 72.5<br>Geometric Mean: 100.0<br>Matthews Correlation: 100.0<br>F1: 100.0<br>Log Loss: 0.0",
          "K-Nearest Neighbor<br>Performance: 83.28%<br>Model ID: 288<br>Accuracy: 69.62%<br>Precision: 69.8%<br>Recall: 69.62%<br>ROC AUC: 73.91<br>Geometric Mean: 100.0<br>Matthews Correlation: 100.0<br>F1: 100.0<br>Log Loss: 0.0",
          "K-Nearest Neighbor<br>Performance: 83.13%<br>Model ID: 96<br>Accuracy: 69.29%<br>Precision: 69.48%<br>Recall: 69.29%<br>ROC AUC: 73.84<br>Geometric Mean: 100.0<br>Matthews Correlation: 100.0<br>F1: 100.0<br>Log Loss: 0.0",
          "K-Nearest Neighbor<br>Performance: 83.13%<br>Model ID: 480<br>Accuracy: 69.29%<br>Precision: 69.48%<br>Recall: 69.29%<br>ROC AUC: 73.82<br>Geometric Mean: 100.0<br>Matthews Correlation: 100.0<br>F1: 100.0<br>Log Loss: 0.0",
          "K-Nearest Neighbor<br>Performance: 83.11%<br>Model ID: 458<br>Accuracy: 69.64%<br>Precision: 69.61%<br>Recall: 69.64%<br>ROC AUC: 72.85<br>Geometric Mean: 100.0<br>Matthews Correlation: 100.0<br>F1: 100.0<br>Log Loss: 0.0",
          "K-Nearest Neighbor<br>Performance: 83.35%<br>Model ID: meta_1<br>Accuracy: 70.31%<br>Precision: 70.36%<br>Recall: 70.31%<br>ROC AUC: 72.5<br>Geometric Mean: 100.0<br>Matthews Correlation: 100.0<br>F1: 100.0<br>Log Loss: 0.0"
         ],
         "legendgroup": "1",
         "marker": {
          "color": [
           83.35,
           83.28,
           83.13,
           83.13,
           83.11,
           83.35
          ],
          "coloraxis": "coloraxis",
          "line": {
           "color": "Black",
           "width": 1
          },
          "opacity": 0.9,
          "size": 10,
          "symbol": "circle"
         },
         "mode": "markers",
         "name": "1",
         "orientation": "v",
         "showlegend": true,
         "type": "scatter",
         "x": [
          2.8437721729278564,
          3.1634416580200195,
          3.516453504562378,
          3.1303601264953613,
          3.704458713531494,
          10.366533279418945
         ],
         "xaxis": "x",
         "y": [
          -8.994794845581055,
          -8.57978343963623,
          -9.25079345703125,
          -9.378865242004395,
          -8.864433288574219,
          14.045754432678223
         ],
         "yaxis": "y"
        },
        {
         "hovertemplate": "<b>%{hovertext}</b><br><br>algorithm_id=2<br>=%{y}<br>Performance=%{marker.color}<extra></extra>",
         "hovertext": [
          "Support Vector Machine<br>Performance: 83.1%<br>Model ID: 694<br>Accuracy: 82.5%<br>Precision: 82.92%<br>Recall: 82.5%<br>ROC AUC: 89.98<br>Geometric Mean: 85.43<br>Matthews Correlation: 72.38<br>F1: 85.99<br>Log Loss: 0.62",
          "Support Vector Machine<br>Performance: 83.08%<br>Model ID: 650<br>Accuracy: 82.83%<br>Precision: 83.3%<br>Recall: 82.83%<br>ROC AUC: 90.14<br>Geometric Mean: 85.07<br>Matthews Correlation: 71.75<br>F1: 85.65<br>Log Loss: 0.71",
          "Support Vector Machine<br>Performance: 83.08%<br>Model ID: 646<br>Accuracy: 82.83%<br>Precision: 83.3%<br>Recall: 82.83%<br>ROC AUC: 90.15<br>Geometric Mean: 85.07<br>Matthews Correlation: 71.75<br>F1: 85.65<br>Log Loss: 0.69",
          "Support Vector Machine<br>Performance: 83.09%<br>Model ID: 642<br>Accuracy: 82.83%<br>Precision: 83.3%<br>Recall: 82.83%<br>ROC AUC: 90.19<br>Geometric Mean: 85.07<br>Matthews Correlation: 71.75<br>F1: 85.65<br>Log Loss: 0.68",
          "Support Vector Machine<br>Performance: 83.07%<br>Model ID: 654<br>Accuracy: 82.83%<br>Precision: 83.3%<br>Recall: 82.83%<br>ROC AUC: 90.09<br>Geometric Mean: 85.07<br>Matthews Correlation: 71.75<br>F1: 85.65<br>Log Loss: 0.69",
          "Support Vector Machine<br>Performance: 83.28%<br>Model ID: meta_2<br>Accuracy: 69.62%<br>Precision: 69.8%<br>Recall: 69.62%<br>ROC AUC: 73.91<br>Geometric Mean: 100.0<br>Matthews Correlation: 100.0<br>F1: 100.0<br>Log Loss: 0.0"
         ],
         "legendgroup": "2",
         "marker": {
          "color": [
           83.1,
           83.08,
           83.08,
           83.09,
           83.07,
           83.28
          ],
          "coloraxis": "coloraxis",
          "line": {
           "color": "Black",
           "width": 1
          },
          "opacity": 0.9,
          "size": 10,
          "symbol": "square"
         },
         "mode": "markers",
         "name": "2",
         "orientation": "v",
         "showlegend": true,
         "type": "scatter",
         "x": [
          -2.282564640045166,
          -2.0562527179718018,
          -1.4665236473083496,
          -1.6581549644470215,
          -1.763307809829712,
          12.648815155029297
         ],
         "xaxis": "x",
         "y": [
          7.799225330352783,
          8.118614196777344,
          8.084162712097168,
          7.540793418884277,
          8.513422966003418,
          15.864295959472656
         ],
         "yaxis": "y"
        },
        {
         "hovertemplate": "<b>%{hovertext}</b><br><br>algorithm_id=3<br>=%{y}<br>Performance=%{marker.color}<extra></extra>",
         "hovertext": [
          "Gaussian Naive Bayes<br>Performance: 80.97%<br>Model ID: 737<br>Accuracy: 80.51%<br>Precision: 80.65%<br>Recall: 80.51%<br>ROC AUC: 89.18<br>Geometric Mean: 83.79<br>Matthews Correlation: 68.01<br>F1: 84.11<br>Log Loss: 100.0",
          "Gaussian Naive Bayes<br>Performance: 80.97%<br>Model ID: 1066<br>Accuracy: 80.51%<br>Precision: 80.65%<br>Recall: 80.51%<br>ROC AUC: 89.18<br>Geometric Mean: 83.79<br>Matthews Correlation: 68.01<br>F1: 84.11<br>Log Loss: 34.0",
          "Gaussian Naive Bayes<br>Performance: 80.97%<br>Model ID: 1079<br>Accuracy: 80.51%<br>Precision: 80.65%<br>Recall: 80.51%<br>ROC AUC: 89.18<br>Geometric Mean: 83.79<br>Matthews Correlation: 68.01<br>F1: 84.11<br>Log Loss: 31.4",
          "Gaussian Naive Bayes<br>Performance: 80.97%<br>Model ID: 1078<br>Accuracy: 80.51%<br>Precision: 80.65%<br>Recall: 80.51%<br>ROC AUC: 89.18<br>Geometric Mean: 83.79<br>Matthews Correlation: 68.01<br>F1: 84.11<br>Log Loss: 31.6",
          "Gaussian Naive Bayes<br>Performance: 80.97%<br>Model ID: 1077<br>Accuracy: 80.51%<br>Precision: 80.65%<br>Recall: 80.51%<br>ROC AUC: 89.18<br>Geometric Mean: 83.79<br>Matthews Correlation: 68.01<br>F1: 84.11<br>Log Loss: 31.8",
          "Gaussian Naive Bayes<br>Performance: 83.13%<br>Model ID: meta_3<br>Accuracy: 69.29%<br>Precision: 69.48%<br>Recall: 69.29%<br>ROC AUC: 73.84<br>Geometric Mean: 100.0<br>Matthews Correlation: 100.0<br>F1: 100.0<br>Log Loss: 0.0"
         ],
         "legendgroup": "3",
         "marker": {
          "color": [
           80.97,
           80.97,
           80.97,
           80.97,
           80.97,
           83.13
          ],
          "coloraxis": "coloraxis",
          "line": {
           "color": "Black",
           "width": 1
          },
          "opacity": 0.9,
          "size": 10,
          "symbol": "x"
         },
         "mode": "markers",
         "name": "3",
         "orientation": "v",
         "showlegend": true,
         "type": "scatter",
         "x": [
          -10.448980331420898,
          -10.146594047546387,
          -10.88237476348877,
          -10.477869033813477,
          -9.854866981506348,
          13.501322746276855
         ],
         "xaxis": "x",
         "y": [
          3.9436888694763184,
          3.64532732963562,
          3.646702766418457,
          3.1882927417755127,
          3.3239967823028564,
          14.138161659240723
         ],
         "yaxis": "y"
        },
        {
         "hovertemplate": "<b>%{hovertext}</b><br><br>algorithm_id=4<br>=%{y}<br>Performance=%{marker.color}<extra></extra>",
         "hovertext": [
          "Multilayer Perceptron<br>Performance: 79.22%<br>Model ID: 1262<br>Accuracy: 79.85%<br>Precision: 79.92%<br>Recall: 79.85%<br>ROC AUC: 85.88<br>Geometric Mean: 81.86<br>Matthews Correlation: 64.8<br>F1: 82.36<br>Log Loss: 17.56",
          "Multilayer Perceptron<br>Performance: 79.22%<br>Model ID: 1263<br>Accuracy: 79.85%<br>Precision: 79.92%<br>Recall: 79.85%<br>ROC AUC: 85.88<br>Geometric Mean: 81.86<br>Matthews Correlation: 64.8<br>F1: 82.36<br>Log Loss: 17.56",
          "Multilayer Perceptron<br>Performance: 79.22%<br>Model ID: 1261<br>Accuracy: 79.85%<br>Precision: 79.92%<br>Recall: 79.85%<br>ROC AUC: 85.88<br>Geometric Mean: 81.86<br>Matthews Correlation: 64.8<br>F1: 82.36<br>Log Loss: 17.56",
          "Multilayer Perceptron<br>Performance: 79.09%<br>Model ID: 1249<br>Accuracy: 79.52%<br>Precision: 79.59%<br>Recall: 79.52%<br>ROC AUC: 85.97<br>Geometric Mean: 81.86<br>Matthews Correlation: 64.8<br>F1: 82.36<br>Log Loss: 17.17",
          "Multilayer Perceptron<br>Performance: 79.09%<br>Model ID: 1251<br>Accuracy: 79.52%<br>Precision: 79.59%<br>Recall: 79.52%<br>ROC AUC: 85.97<br>Geometric Mean: 81.86<br>Matthews Correlation: 64.8<br>F1: 82.36<br>Log Loss: 17.17",
          "Multilayer Perceptron<br>Performance: 83.13%<br>Model ID: meta_4<br>Accuracy: 69.29%<br>Precision: 69.48%<br>Recall: 69.29%<br>ROC AUC: 73.82<br>Geometric Mean: 100.0<br>Matthews Correlation: 100.0<br>F1: 100.0<br>Log Loss: 0.0"
         ],
         "legendgroup": "4",
         "marker": {
          "color": [
           79.22,
           79.22,
           79.22,
           79.09,
           79.09,
           83.13
          ],
          "coloraxis": "coloraxis",
          "line": {
           "color": "Black",
           "width": 1
          },
          "opacity": 0.9,
          "size": 10,
          "symbol": "cross"
         },
         "mode": "markers",
         "name": "4",
         "orientation": "v",
         "showlegend": true,
         "type": "scatter",
         "x": [
          5.549825191497803,
          5.832704067230225,
          5.7205705642700195,
          6.297956466674805,
          6.221133232116699,
          11.875069618225098
         ],
         "xaxis": "x",
         "y": [
          -9.68836498260498,
          -9.250774383544922,
          -9.025979995727539,
          -9.308354377746582,
          -9.867449760437012,
          15.324090003967285
         ],
         "yaxis": "y"
        },
        {
         "hovertemplate": "<b>%{hovertext}</b><br><br>algorithm_id=5<br>=%{y}<br>Performance=%{marker.color}<extra></extra>",
         "hovertext": [
          "Logistic Regression<br>Performance: 83.67%<br>Model ID: 1677<br>Accuracy: 84.14%<br>Precision: 84.66%<br>Recall: 84.14%<br>ROC AUC: 90.32<br>Geometric Mean: 85.13<br>Matthews Correlation: 71.65<br>F1: 85.67<br>Log Loss: 3.51",
          "Logistic Regression<br>Performance: 83.66%<br>Model ID: 1741<br>Accuracy: 84.46%<br>Precision: 84.98%<br>Recall: 84.46%<br>ROC AUC: 90.58<br>Geometric Mean: 84.83<br>Matthews Correlation: 70.93<br>F1: 85.35<br>Log Loss: 3.37",
          "Logistic Regression<br>Performance: 83.54%<br>Model ID: 1901<br>Accuracy: 83.8%<br>Precision: 84.26%<br>Recall: 83.8%<br>ROC AUC: 90.5<br>Geometric Mean: 85.13<br>Matthews Correlation: 71.65<br>F1: 85.67<br>Log Loss: 3.41",
          "Logistic Regression<br>Performance: 83.53%<br>Model ID: 1773<br>Accuracy: 84.14%<br>Precision: 84.64%<br>Recall: 84.14%<br>ROC AUC: 90.65<br>Geometric Mean: 84.77<br>Matthews Correlation: 71.02<br>F1: 85.33<br>Log Loss: 3.23",
          "Logistic Regression<br>Performance: 83.41%<br>Model ID: 1869<br>Accuracy: 83.48%<br>Precision: 83.92%<br>Recall: 83.48%<br>ROC AUC: 90.54<br>Geometric Mean: 85.07<br>Matthews Correlation: 71.75<br>F1: 85.65<br>Log Loss: 2.97",
          "Logistic Regression<br>Performance: 83.11%<br>Model ID: meta_5<br>Accuracy: 69.64%<br>Precision: 69.61%<br>Recall: 69.64%<br>ROC AUC: 72.85<br>Geometric Mean: 100.0<br>Matthews Correlation: 100.0<br>F1: 100.0<br>Log Loss: 0.0"
         ],
         "legendgroup": "5",
         "marker": {
          "color": [
           83.67,
           83.66,
           83.54,
           83.53,
           83.41,
           83.11
          ],
          "coloraxis": "coloraxis",
          "line": {
           "color": "Black",
           "width": 1
          },
          "opacity": 0.9,
          "size": 10,
          "symbol": "diamond"
         },
         "mode": "markers",
         "name": "5",
         "orientation": "v",
         "showlegend": true,
         "type": "scatter",
         "x": [
          0.3427426517009735,
          0.19069330394268036,
          -0.46533167362213135,
          -0.18631595373153687,
          0.42266637086868286,
          12.426214218139648
         ],
         "xaxis": "x",
         "y": [
          7.264877796173096,
          6.873223304748535,
          6.487592697143555,
          6.548973083496094,
          6.25705099105835,
          14.444581985473633
         ],
         "yaxis": "y"
        },
        {
         "hovertemplate": "<b>%{hovertext}</b><br><br>algorithm_id=6<br>=%{y}<br>Performance=%{marker.color}<extra></extra>",
         "hovertext": [
          "Linear Discriminant Analysis<br>Performance: 82.31%<br>Model ID: 1997<br>Accuracy: 83.16%<br>Precision: 84.11%<br>Recall: 83.16%<br>ROC AUC: 89.99<br>Geometric Mean: 83.32<br>Matthews Correlation: 68.51<br>F1: 83.94<br>Log Loss: 0.0",
          "Linear Discriminant Analysis<br>Performance: 82.31%<br>Model ID: 1998<br>Accuracy: 83.16%<br>Precision: 84.11%<br>Recall: 83.16%<br>ROC AUC: 89.99<br>Geometric Mean: 83.32<br>Matthews Correlation: 68.51<br>F1: 83.94<br>Log Loss: 0.0",
          "Linear Discriminant Analysis<br>Performance: 73.45%<br>Model ID: 1999<br>Accuracy: 75.89%<br>Precision: 76.41%<br>Recall: 75.89%<br>ROC AUC: 82.6<br>Geometric Mean: 75.39<br>Matthews Correlation: 52.04<br>F1: 75.95<br>Log Loss: 31.9",
          "Linear Discriminant Analysis<br>Performance: 73.45%<br>Model ID: 2000<br>Accuracy: 75.89%<br>Precision: 76.41%<br>Recall: 75.89%<br>ROC AUC: 82.6<br>Geometric Mean: 75.39<br>Matthews Correlation: 52.04<br>F1: 75.95<br>Log Loss: 31.9",
          "Linear Discriminant Analysis<br>Performance: 71.08%<br>Model ID: 2001<br>Accuracy: 74.25%<br>Precision: 74.65%<br>Recall: 74.25%<br>ROC AUC: 79.07<br>Geometric Mean: 73.45<br>Matthews Correlation: 47.92<br>F1: 73.99<br>Log Loss: 41.85",
          "Linear Discriminant Analysis<br>Performance: 83.1%<br>Model ID: meta_6<br>Accuracy: 82.5%<br>Precision: 82.92%<br>Recall: 82.5%<br>ROC AUC: 89.98<br>Geometric Mean: 85.43<br>Matthews Correlation: 72.38<br>F1: 85.99<br>Log Loss: 0.62"
         ],
         "legendgroup": "6",
         "marker": {
          "color": [
           82.31,
           82.31,
           73.45,
           73.45,
           71.08,
           83.1
          ],
          "coloraxis": "coloraxis",
          "line": {
           "color": "Black",
           "width": 1
          },
          "opacity": 0.9,
          "size": 10,
          "symbol": "star"
         },
         "mode": "markers",
         "name": "6",
         "orientation": "v",
         "showlegend": true,
         "type": "scatter",
         "x": [
          0.5199128985404968,
          -0.078402079641819,
          4.369302749633789,
          4.177003860473633,
          3.689439296722412,
          12.560774803161621
         ],
         "xaxis": "x",
         "y": [
          5.535437107086182,
          5.545021057128906,
          -9.059507369995117,
          -9.660063743591309,
          -9.703433990478516,
          13.350693702697754
         ],
         "yaxis": "y"
        },
        {
         "hovertemplate": "<b>%{hovertext}</b><br><br>algorithm_id=7<br>=%{y}<br>Performance=%{marker.color}<extra></extra>",
         "hovertext": [
          "Quadratic Discriminant Analysis<br>Performance: 83.44%<br>Model ID: 2227<br>Accuracy: 81.49%<br>Precision: 81.79%<br>Recall: 81.49%<br>ROC AUC: 88.84<br>Geometric Mean: 87.24<br>Matthews Correlation: 75.55<br>F1: 87.7<br>Log Loss: 0.03",
          "Quadratic Discriminant Analysis<br>Performance: 83.44%<br>Model ID: 2231<br>Accuracy: 81.49%<br>Precision: 81.79%<br>Recall: 81.49%<br>ROC AUC: 88.84<br>Geometric Mean: 87.24<br>Matthews Correlation: 75.55<br>F1: 87.7<br>Log Loss: 0.03",
          "Quadratic Discriminant Analysis<br>Performance: 83.44%<br>Model ID: 2230<br>Accuracy: 81.49%<br>Precision: 81.79%<br>Recall: 81.49%<br>ROC AUC: 88.84<br>Geometric Mean: 87.24<br>Matthews Correlation: 75.55<br>F1: 87.7<br>Log Loss: 0.03",
          "Quadratic Discriminant Analysis<br>Performance: 83.44%<br>Model ID: 2229<br>Accuracy: 81.49%<br>Precision: 81.79%<br>Recall: 81.49%<br>ROC AUC: 88.84<br>Geometric Mean: 87.24<br>Matthews Correlation: 75.55<br>F1: 87.7<br>Log Loss: 0.03",
          "Quadratic Discriminant Analysis<br>Performance: 83.44%<br>Model ID: 2228<br>Accuracy: 81.49%<br>Precision: 81.79%<br>Recall: 81.49%<br>ROC AUC: 88.84<br>Geometric Mean: 87.24<br>Matthews Correlation: 75.55<br>F1: 87.7<br>Log Loss: 0.03",
          "Quadratic Discriminant Analysis<br>Performance: 83.08%<br>Model ID: meta_7<br>Accuracy: 82.83%<br>Precision: 83.3%<br>Recall: 82.83%<br>ROC AUC: 90.14<br>Geometric Mean: 85.07<br>Matthews Correlation: 71.75<br>F1: 85.65<br>Log Loss: 0.71"
         ],
         "legendgroup": "7",
         "marker": {
          "color": [
           83.44,
           83.44,
           83.44,
           83.44,
           83.44,
           83.08
          ],
          "coloraxis": "coloraxis",
          "line": {
           "color": "Black",
           "width": 1
          },
          "opacity": 0.9,
          "size": 10,
          "symbol": "hexagram"
         },
         "mode": "markers",
         "name": "7",
         "orientation": "v",
         "showlegend": true,
         "type": "scatter",
         "x": [
          0.5627359747886658,
          -0.38802778720855713,
          0.05704635754227638,
          0.34616538882255554,
          -0.19087530672550201,
          11.293115615844727
         ],
         "xaxis": "x",
         "y": [
          4.948892593383789,
          4.479409217834473,
          4.928549766540527,
          4.3385748863220215,
          4.902156352996826,
          13.536252975463867
         ],
         "yaxis": "y"
        },
        {
         "hovertemplate": "<b>%{hovertext}</b><br><br>algorithm_id=8<br>=%{y}<br>Performance=%{marker.color}<extra></extra>",
         "hovertext": [
          "Random Forest<br>Performance: 91.82%<br>Model ID: 2488<br>Accuracy: 84.13%<br>Precision: 84.34%<br>Recall: 84.13%<br>ROC AUC: 90.17<br>Geometric Mean: 100.0<br>Matthews Correlation: 100.0<br>F1: 100.0<br>Log Loss: 59.71",
          "Random Forest<br>Performance: 91.83%<br>Model ID: 2490<br>Accuracy: 84.13%<br>Precision: 84.31%<br>Recall: 84.13%<br>ROC AUC: 90.21<br>Geometric Mean: 100.0<br>Matthews Correlation: 100.0<br>F1: 100.0<br>Log Loss: 52.76",
          "Random Forest<br>Performance: 91.83%<br>Model ID: 2489<br>Accuracy: 84.13%<br>Precision: 84.34%<br>Recall: 84.13%<br>ROC AUC: 90.22<br>Geometric Mean: 100.0<br>Matthews Correlation: 100.0<br>F1: 100.0<br>Log Loss: 54.75",
          "Random Forest<br>Performance: 91.82%<br>Model ID: 2494<br>Accuracy: 84.13%<br>Precision: 84.38%<br>Recall: 84.13%<br>ROC AUC: 90.11<br>Geometric Mean: 100.0<br>Matthews Correlation: 100.0<br>F1: 100.0<br>Log Loss: 58.36",
          "Random Forest<br>Performance: 91.69%<br>Model ID: 2493<br>Accuracy: 83.8%<br>Precision: 84.02%<br>Recall: 83.8%<br>ROC AUC: 90.22<br>Geometric Mean: 100.0<br>Matthews Correlation: 100.0<br>F1: 100.0<br>Log Loss: 57.04",
          "Random Forest<br>Performance: 83.08%<br>Model ID: meta_8<br>Accuracy: 82.83%<br>Precision: 83.3%<br>Recall: 82.83%<br>ROC AUC: 90.15<br>Geometric Mean: 85.07<br>Matthews Correlation: 71.75<br>F1: 85.65<br>Log Loss: 0.69"
         ],
         "legendgroup": "8",
         "marker": {
          "color": [
           91.82,
           91.83,
           91.83,
           91.82,
           91.69,
           83.08
          ],
          "coloraxis": "coloraxis",
          "line": {
           "color": "Black",
           "width": 1
          },
          "opacity": 0.9,
          "size": 10,
          "symbol": "triangle-right"
         },
         "mode": "markers",
         "name": "8",
         "orientation": "v",
         "showlegend": true,
         "type": "scatter",
         "x": [
          -3.775592565536499,
          -4.287485599517822,
          -4.196678161621094,
          -4.059025764465332,
          -4.017798900604248,
          10.188446998596191
         ],
         "xaxis": "x",
         "y": [
          16.88252830505371,
          17.020662307739258,
          16.601091384887695,
          17.360898971557617,
          16.282442092895508,
          15.29407787322998
         ],
         "yaxis": "y"
        },
        {
         "hovertemplate": "<b>%{hovertext}</b><br><br>algorithm_id=9<br>=%{y}<br>Performance=%{marker.color}<extra></extra>",
         "hovertext": [
          "Extra Trees<br>Performance: 92.27%<br>Model ID: 2667<br>Accuracy: 84.81%<br>Precision: 85.07%<br>Recall: 84.81%<br>ROC AUC: 91.22<br>Geometric Mean: 100.0<br>Matthews Correlation: 100.0<br>F1: 100.0<br>Log Loss: 0.0",
          "Extra Trees<br>Performance: 92.24%<br>Model ID: 2659<br>Accuracy: 84.8%<br>Precision: 84.98%<br>Recall: 84.8%<br>ROC AUC: 91.07<br>Geometric Mean: 100.0<br>Matthews Correlation: 100.0<br>F1: 100.0<br>Log Loss: 0.0",
          "Extra Trees<br>Performance: 92.24%<br>Model ID: 2660<br>Accuracy: 84.8%<br>Precision: 84.98%<br>Recall: 84.8%<br>ROC AUC: 91.07<br>Geometric Mean: 100.0<br>Matthews Correlation: 100.0<br>F1: 100.0<br>Log Loss: 0.0",
          "Extra Trees<br>Performance: 92.19%<br>Model ID: 2714<br>Accuracy: 84.48%<br>Precision: 84.59%<br>Recall: 84.48%<br>ROC AUC: 91.8<br>Geometric Mean: 100.0<br>Matthews Correlation: 100.0<br>F1: 100.0<br>Log Loss: 0.0",
          "Extra Trees<br>Performance: 92.19%<br>Model ID: 2715<br>Accuracy: 84.48%<br>Precision: 84.59%<br>Recall: 84.48%<br>ROC AUC: 91.76<br>Geometric Mean: 100.0<br>Matthews Correlation: 100.0<br>F1: 100.0<br>Log Loss: 0.0",
          "Extra Trees<br>Performance: 83.09%<br>Model ID: meta_9<br>Accuracy: 82.83%<br>Precision: 83.3%<br>Recall: 82.83%<br>ROC AUC: 90.19<br>Geometric Mean: 85.07<br>Matthews Correlation: 71.75<br>F1: 85.65<br>Log Loss: 0.68"
         ],
         "legendgroup": "9",
         "marker": {
          "color": [
           92.27,
           92.24,
           92.24,
           92.19,
           92.19,
           83.09
          ],
          "coloraxis": "coloraxis",
          "line": {
           "color": "Black",
           "width": 1
          },
          "opacity": 0.9,
          "size": 10,
          "symbol": "triangle-left"
         },
         "mode": "markers",
         "name": "9",
         "orientation": "v",
         "showlegend": true,
         "type": "scatter",
         "x": [
          -5.661609649658203,
          -5.731934070587158,
          -6.029191493988037,
          -5.205646991729736,
          -5.212093830108643,
          11.141434669494629
         ],
         "xaxis": "x",
         "y": [
          16.16039276123047,
          16.631128311157227,
          15.955414772033691,
          16.36616325378418,
          15.919344902038574,
          14.924640655517578
         ],
         "yaxis": "y"
        },
        {
         "hovertemplate": "<b>%{hovertext}</b><br><br>algorithm_id=10<br>=%{y}<br>Performance=%{marker.color}<extra></extra>",
         "hovertext": [
          "Adaptive Boosting<br>Performance: 85.49%<br>Model ID: 2808<br>Accuracy: 80.83%<br>Precision: 81.1%<br>Recall: 80.83%<br>ROC AUC: 87.46<br>Geometric Mean: 92.08<br>Matthews Correlation: 84.06<br>F1: 92.08<br>Log Loss: 91.04",
          "Adaptive Boosting<br>Performance: 85.37%<br>Model ID: 2845<br>Accuracy: 80.16%<br>Precision: 80.31%<br>Recall: 80.16%<br>ROC AUC: 83.52<br>Geometric Mean: 93.35<br>Matthews Correlation: 86.69<br>F1: 93.4<br>Log Loss: 99.49",
          "Adaptive Boosting<br>Performance: 85.29%<br>Model ID: 2811<br>Accuracy: 80.5%<br>Precision: 80.76%<br>Recall: 80.5%<br>ROC AUC: 86.95<br>Geometric Mean: 92.13<br>Matthews Correlation: 84.1<br>F1: 92.09<br>Log Loss: 92.25",
          "Adaptive Boosting<br>Performance: 85.19%<br>Model ID: 2812<br>Accuracy: 80.16%<br>Precision: 80.52%<br>Recall: 80.16%<br>ROC AUC: 87.19<br>Geometric Mean: 92.13<br>Matthews Correlation: 84.1<br>F1: 92.09<br>Log Loss: 92.14",
          "Adaptive Boosting<br>Performance: 85.18%<br>Model ID: 2809<br>Accuracy: 80.17%<br>Precision: 80.42%<br>Recall: 80.17%<br>ROC AUC: 87.3<br>Geometric Mean: 92.08<br>Matthews Correlation: 84.06<br>F1: 92.08<br>Log Loss: 91.13",
          "Adaptive Boosting<br>Performance: 83.07%<br>Model ID: meta_10<br>Accuracy: 82.83%<br>Precision: 83.3%<br>Recall: 82.83%<br>ROC AUC: 90.09<br>Geometric Mean: 85.07<br>Matthews Correlation: 71.75<br>F1: 85.65<br>Log Loss: 0.69"
         ],
         "legendgroup": "10",
         "marker": {
          "color": [
           85.49,
           85.37,
           85.29,
           85.19,
           85.18,
           83.07
          ],
          "coloraxis": "coloraxis",
          "line": {
           "color": "Black",
           "width": 1
          },
          "opacity": 0.9,
          "size": 10,
          "symbol": "triangle-down"
         },
         "mode": "markers",
         "name": "10",
         "orientation": "v",
         "showlegend": true,
         "type": "scatter",
         "x": [
          -0.6335923671722412,
          -0.3301547169685364,
          -1.343034029006958,
          -0.9662442207336426,
          -0.6175189018249512,
          11.75023365020752
         ],
         "xaxis": "x",
         "y": [
          -5.114738464355469,
          -4.9775190353393555,
          -4.992413520812988,
          -4.70290994644165,
          -4.345663070678711,
          16.903879165649414
         ],
         "yaxis": "y"
        },
        {
         "hovertemplate": "<b>%{hovertext}</b><br><br>algorithm_id=11<br>=%{y}<br>Performance=%{marker.color}<extra></extra>",
         "hovertext": [
          "Gradient Boosting<br>Performance: 89.77%<br>Model ID: 3030<br>Accuracy: 80.83%<br>Precision: 81.59%<br>Recall: 80.83%<br>ROC AUC: 87.84<br>Geometric Mean: 99.28<br>Matthews Correlation: 98.68<br>F1: 99.34<br>Log Loss: 3.39",
          "Gradient Boosting<br>Performance: 89.76%<br>Model ID: 3029<br>Accuracy: 80.83%<br>Precision: 81.59%<br>Recall: 80.83%<br>ROC AUC: 87.8<br>Geometric Mean: 99.28<br>Matthews Correlation: 98.68<br>F1: 99.34<br>Log Loss: 3.61",
          "Gradient Boosting<br>Performance: 89.76%<br>Model ID: 2969<br>Accuracy: 80.83%<br>Precision: 81.59%<br>Recall: 80.83%<br>ROC AUC: 87.77<br>Geometric Mean: 99.28<br>Matthews Correlation: 98.68<br>F1: 99.34<br>Log Loss: 3.61",
          "Gradient Boosting<br>Performance: 89.77%<br>Model ID: 2970<br>Accuracy: 80.83%<br>Precision: 81.59%<br>Recall: 80.83%<br>ROC AUC: 87.82<br>Geometric Mean: 99.28<br>Matthews Correlation: 98.68<br>F1: 99.34<br>Log Loss: 3.39",
          "Gradient Boosting<br>Performance: 89.75%<br>Model ID: 3026<br>Accuracy: 80.83%<br>Precision: 81.45%<br>Recall: 80.83%<br>ROC AUC: 87.84<br>Geometric Mean: 99.28<br>Matthews Correlation: 98.68<br>F1: 99.34<br>Log Loss: 4.1",
          "Gradient Boosting<br>Performance: 80.97%<br>Model ID: meta_11<br>Accuracy: 80.51%<br>Precision: 80.65%<br>Recall: 80.51%<br>ROC AUC: 89.18<br>Geometric Mean: 83.79<br>Matthews Correlation: 68.01<br>F1: 84.11<br>Log Loss: 100.0"
         ],
         "legendgroup": "11",
         "marker": {
          "color": [
           89.77,
           89.76,
           89.76,
           89.77,
           89.75,
           80.97
          ],
          "coloraxis": "coloraxis",
          "line": {
           "color": "Black",
           "width": 1
          },
          "opacity": 0.9,
          "size": 10,
          "symbol": "triangle-up"
         },
         "mode": "markers",
         "name": "11",
         "orientation": "v",
         "showlegend": true,
         "type": "scatter",
         "x": [
          -0.8054909110069275,
          -1.0631310939788818,
          -0.5074865221977234,
          -0.77735835313797,
          -0.34615492820739746,
          10.892495155334473
         ],
         "xaxis": "x",
         "y": [
          26.600582122802734,
          26.131145477294922,
          26.328176498413086,
          25.737083435058594,
          26.127273559570312,
          16.22891616821289
         ],
         "yaxis": "y"
        }
       ],
       "layout": {
        "coloraxis": {
         "colorbar": {
          "title": {
           "text": "Performance"
          }
         },
         "colorscale": [
          [
           0,
           "#440154"
          ],
          [
           0.1111111111111111,
           "#482878"
          ],
          [
           0.2222222222222222,
           "#3e4989"
          ],
          [
           0.3333333333333333,
           "#31688e"
          ],
          [
           0.4444444444444444,
           "#26828e"
          ],
          [
           0.5555555555555556,
           "#1f9e89"
          ],
          [
           0.6666666666666666,
           "#35b779"
          ],
          [
           0.7777777777777778,
           "#6ece58"
          ],
          [
           0.8888888888888888,
           "#b5de2b"
          ],
          [
           1,
           "#fde725"
          ]
         ]
        },
        "height": 600,
        "hovermode": "closest",
        "legend": {
         "title": {
          "text": "algorithm_id"
         },
         "tracegroupgap": 0
        },
        "margin": {
         "t": 60
        },
        "showlegend": false,
        "template": {
         "data": {
          "bar": [
           {
            "error_x": {
             "color": "#2a3f5f"
            },
            "error_y": {
             "color": "#2a3f5f"
            },
            "marker": {
             "line": {
              "color": "#E5ECF6",
              "width": 0.5
             },
             "pattern": {
              "fillmode": "overlay",
              "size": 10,
              "solidity": 0.2
             }
            },
            "type": "bar"
           }
          ],
          "barpolar": [
           {
            "marker": {
             "line": {
              "color": "#E5ECF6",
              "width": 0.5
             },
             "pattern": {
              "fillmode": "overlay",
              "size": 10,
              "solidity": 0.2
             }
            },
            "type": "barpolar"
           }
          ],
          "carpet": [
           {
            "aaxis": {
             "endlinecolor": "#2a3f5f",
             "gridcolor": "white",
             "linecolor": "white",
             "minorgridcolor": "white",
             "startlinecolor": "#2a3f5f"
            },
            "baxis": {
             "endlinecolor": "#2a3f5f",
             "gridcolor": "white",
             "linecolor": "white",
             "minorgridcolor": "white",
             "startlinecolor": "#2a3f5f"
            },
            "type": "carpet"
           }
          ],
          "choropleth": [
           {
            "colorbar": {
             "outlinewidth": 0,
             "ticks": ""
            },
            "type": "choropleth"
           }
          ],
          "contour": [
           {
            "colorbar": {
             "outlinewidth": 0,
             "ticks": ""
            },
            "colorscale": [
             [
              0,
              "#0d0887"
             ],
             [
              0.1111111111111111,
              "#46039f"
             ],
             [
              0.2222222222222222,
              "#7201a8"
             ],
             [
              0.3333333333333333,
              "#9c179e"
             ],
             [
              0.4444444444444444,
              "#bd3786"
             ],
             [
              0.5555555555555556,
              "#d8576b"
             ],
             [
              0.6666666666666666,
              "#ed7953"
             ],
             [
              0.7777777777777778,
              "#fb9f3a"
             ],
             [
              0.8888888888888888,
              "#fdca26"
             ],
             [
              1,
              "#f0f921"
             ]
            ],
            "type": "contour"
           }
          ],
          "contourcarpet": [
           {
            "colorbar": {
             "outlinewidth": 0,
             "ticks": ""
            },
            "type": "contourcarpet"
           }
          ],
          "heatmap": [
           {
            "colorbar": {
             "outlinewidth": 0,
             "ticks": ""
            },
            "colorscale": [
             [
              0,
              "#0d0887"
             ],
             [
              0.1111111111111111,
              "#46039f"
             ],
             [
              0.2222222222222222,
              "#7201a8"
             ],
             [
              0.3333333333333333,
              "#9c179e"
             ],
             [
              0.4444444444444444,
              "#bd3786"
             ],
             [
              0.5555555555555556,
              "#d8576b"
             ],
             [
              0.6666666666666666,
              "#ed7953"
             ],
             [
              0.7777777777777778,
              "#fb9f3a"
             ],
             [
              0.8888888888888888,
              "#fdca26"
             ],
             [
              1,
              "#f0f921"
             ]
            ],
            "type": "heatmap"
           }
          ],
          "heatmapgl": [
           {
            "colorbar": {
             "outlinewidth": 0,
             "ticks": ""
            },
            "colorscale": [
             [
              0,
              "#0d0887"
             ],
             [
              0.1111111111111111,
              "#46039f"
             ],
             [
              0.2222222222222222,
              "#7201a8"
             ],
             [
              0.3333333333333333,
              "#9c179e"
             ],
             [
              0.4444444444444444,
              "#bd3786"
             ],
             [
              0.5555555555555556,
              "#d8576b"
             ],
             [
              0.6666666666666666,
              "#ed7953"
             ],
             [
              0.7777777777777778,
              "#fb9f3a"
             ],
             [
              0.8888888888888888,
              "#fdca26"
             ],
             [
              1,
              "#f0f921"
             ]
            ],
            "type": "heatmapgl"
           }
          ],
          "histogram": [
           {
            "marker": {
             "pattern": {
              "fillmode": "overlay",
              "size": 10,
              "solidity": 0.2
             }
            },
            "type": "histogram"
           }
          ],
          "histogram2d": [
           {
            "colorbar": {
             "outlinewidth": 0,
             "ticks": ""
            },
            "colorscale": [
             [
              0,
              "#0d0887"
             ],
             [
              0.1111111111111111,
              "#46039f"
             ],
             [
              0.2222222222222222,
              "#7201a8"
             ],
             [
              0.3333333333333333,
              "#9c179e"
             ],
             [
              0.4444444444444444,
              "#bd3786"
             ],
             [
              0.5555555555555556,
              "#d8576b"
             ],
             [
              0.6666666666666666,
              "#ed7953"
             ],
             [
              0.7777777777777778,
              "#fb9f3a"
             ],
             [
              0.8888888888888888,
              "#fdca26"
             ],
             [
              1,
              "#f0f921"
             ]
            ],
            "type": "histogram2d"
           }
          ],
          "histogram2dcontour": [
           {
            "colorbar": {
             "outlinewidth": 0,
             "ticks": ""
            },
            "colorscale": [
             [
              0,
              "#0d0887"
             ],
             [
              0.1111111111111111,
              "#46039f"
             ],
             [
              0.2222222222222222,
              "#7201a8"
             ],
             [
              0.3333333333333333,
              "#9c179e"
             ],
             [
              0.4444444444444444,
              "#bd3786"
             ],
             [
              0.5555555555555556,
              "#d8576b"
             ],
             [
              0.6666666666666666,
              "#ed7953"
             ],
             [
              0.7777777777777778,
              "#fb9f3a"
             ],
             [
              0.8888888888888888,
              "#fdca26"
             ],
             [
              1,
              "#f0f921"
             ]
            ],
            "type": "histogram2dcontour"
           }
          ],
          "mesh3d": [
           {
            "colorbar": {
             "outlinewidth": 0,
             "ticks": ""
            },
            "type": "mesh3d"
           }
          ],
          "parcoords": [
           {
            "line": {
             "colorbar": {
              "outlinewidth": 0,
              "ticks": ""
             }
            },
            "type": "parcoords"
           }
          ],
          "pie": [
           {
            "automargin": true,
            "type": "pie"
           }
          ],
          "scatter": [
           {
            "fillpattern": {
             "fillmode": "overlay",
             "size": 10,
             "solidity": 0.2
            },
            "type": "scatter"
           }
          ],
          "scatter3d": [
           {
            "line": {
             "colorbar": {
              "outlinewidth": 0,
              "ticks": ""
             }
            },
            "marker": {
             "colorbar": {
              "outlinewidth": 0,
              "ticks": ""
             }
            },
            "type": "scatter3d"
           }
          ],
          "scattercarpet": [
           {
            "marker": {
             "colorbar": {
              "outlinewidth": 0,
              "ticks": ""
             }
            },
            "type": "scattercarpet"
           }
          ],
          "scattergeo": [
           {
            "marker": {
             "colorbar": {
              "outlinewidth": 0,
              "ticks": ""
             }
            },
            "type": "scattergeo"
           }
          ],
          "scattergl": [
           {
            "marker": {
             "colorbar": {
              "outlinewidth": 0,
              "ticks": ""
             }
            },
            "type": "scattergl"
           }
          ],
          "scattermapbox": [
           {
            "marker": {
             "colorbar": {
              "outlinewidth": 0,
              "ticks": ""
             }
            },
            "type": "scattermapbox"
           }
          ],
          "scatterpolar": [
           {
            "marker": {
             "colorbar": {
              "outlinewidth": 0,
              "ticks": ""
             }
            },
            "type": "scatterpolar"
           }
          ],
          "scatterpolargl": [
           {
            "marker": {
             "colorbar": {
              "outlinewidth": 0,
              "ticks": ""
             }
            },
            "type": "scatterpolargl"
           }
          ],
          "scatterternary": [
           {
            "marker": {
             "colorbar": {
              "outlinewidth": 0,
              "ticks": ""
             }
            },
            "type": "scatterternary"
           }
          ],
          "surface": [
           {
            "colorbar": {
             "outlinewidth": 0,
             "ticks": ""
            },
            "colorscale": [
             [
              0,
              "#0d0887"
             ],
             [
              0.1111111111111111,
              "#46039f"
             ],
             [
              0.2222222222222222,
              "#7201a8"
             ],
             [
              0.3333333333333333,
              "#9c179e"
             ],
             [
              0.4444444444444444,
              "#bd3786"
             ],
             [
              0.5555555555555556,
              "#d8576b"
             ],
             [
              0.6666666666666666,
              "#ed7953"
             ],
             [
              0.7777777777777778,
              "#fb9f3a"
             ],
             [
              0.8888888888888888,
              "#fdca26"
             ],
             [
              1,
              "#f0f921"
             ]
            ],
            "type": "surface"
           }
          ],
          "table": [
           {
            "cells": {
             "fill": {
              "color": "#EBF0F8"
             },
             "line": {
              "color": "white"
             }
            },
            "header": {
             "fill": {
              "color": "#C8D4E3"
             },
             "line": {
              "color": "white"
             }
            },
            "type": "table"
           }
          ]
         },
         "layout": {
          "annotationdefaults": {
           "arrowcolor": "#2a3f5f",
           "arrowhead": 0,
           "arrowwidth": 1
          },
          "autotypenumbers": "strict",
          "coloraxis": {
           "colorbar": {
            "outlinewidth": 0,
            "ticks": ""
           }
          },
          "colorscale": {
           "diverging": [
            [
             0,
             "#8e0152"
            ],
            [
             0.1,
             "#c51b7d"
            ],
            [
             0.2,
             "#de77ae"
            ],
            [
             0.3,
             "#f1b6da"
            ],
            [
             0.4,
             "#fde0ef"
            ],
            [
             0.5,
             "#f7f7f7"
            ],
            [
             0.6,
             "#e6f5d0"
            ],
            [
             0.7,
             "#b8e186"
            ],
            [
             0.8,
             "#7fbc41"
            ],
            [
             0.9,
             "#4d9221"
            ],
            [
             1,
             "#276419"
            ]
           ],
           "sequential": [
            [
             0,
             "#0d0887"
            ],
            [
             0.1111111111111111,
             "#46039f"
            ],
            [
             0.2222222222222222,
             "#7201a8"
            ],
            [
             0.3333333333333333,
             "#9c179e"
            ],
            [
             0.4444444444444444,
             "#bd3786"
            ],
            [
             0.5555555555555556,
             "#d8576b"
            ],
            [
             0.6666666666666666,
             "#ed7953"
            ],
            [
             0.7777777777777778,
             "#fb9f3a"
            ],
            [
             0.8888888888888888,
             "#fdca26"
            ],
            [
             1,
             "#f0f921"
            ]
           ],
           "sequentialminus": [
            [
             0,
             "#0d0887"
            ],
            [
             0.1111111111111111,
             "#46039f"
            ],
            [
             0.2222222222222222,
             "#7201a8"
            ],
            [
             0.3333333333333333,
             "#9c179e"
            ],
            [
             0.4444444444444444,
             "#bd3786"
            ],
            [
             0.5555555555555556,
             "#d8576b"
            ],
            [
             0.6666666666666666,
             "#ed7953"
            ],
            [
             0.7777777777777778,
             "#fb9f3a"
            ],
            [
             0.8888888888888888,
             "#fdca26"
            ],
            [
             1,
             "#f0f921"
            ]
           ]
          },
          "colorway": [
           "#636efa",
           "#EF553B",
           "#00cc96",
           "#ab63fa",
           "#FFA15A",
           "#19d3f3",
           "#FF6692",
           "#B6E880",
           "#FF97FF",
           "#FECB52"
          ],
          "font": {
           "color": "#2a3f5f"
          },
          "geo": {
           "bgcolor": "white",
           "lakecolor": "white",
           "landcolor": "#E5ECF6",
           "showlakes": true,
           "showland": true,
           "subunitcolor": "white"
          },
          "hoverlabel": {
           "align": "left"
          },
          "hovermode": "closest",
          "mapbox": {
           "style": "light"
          },
          "paper_bgcolor": "white",
          "plot_bgcolor": "#E5ECF6",
          "polar": {
           "angularaxis": {
            "gridcolor": "white",
            "linecolor": "white",
            "ticks": ""
           },
           "bgcolor": "#E5ECF6",
           "radialaxis": {
            "gridcolor": "white",
            "linecolor": "white",
            "ticks": ""
           }
          },
          "scene": {
           "xaxis": {
            "backgroundcolor": "#E5ECF6",
            "gridcolor": "white",
            "gridwidth": 2,
            "linecolor": "white",
            "showbackground": true,
            "ticks": "",
            "zerolinecolor": "white"
           },
           "yaxis": {
            "backgroundcolor": "#E5ECF6",
            "gridcolor": "white",
            "gridwidth": 2,
            "linecolor": "white",
            "showbackground": true,
            "ticks": "",
            "zerolinecolor": "white"
           },
           "zaxis": {
            "backgroundcolor": "#E5ECF6",
            "gridcolor": "white",
            "gridwidth": 2,
            "linecolor": "white",
            "showbackground": true,
            "ticks": "",
            "zerolinecolor": "white"
           }
          },
          "shapedefaults": {
           "line": {
            "color": "#2a3f5f"
           }
          },
          "ternary": {
           "aaxis": {
            "gridcolor": "white",
            "linecolor": "white",
            "ticks": ""
           },
           "baxis": {
            "gridcolor": "white",
            "linecolor": "white",
            "ticks": ""
           },
           "bgcolor": "#E5ECF6",
           "caxis": {
            "gridcolor": "white",
            "linecolor": "white",
            "ticks": ""
           }
          },
          "title": {
           "x": 0.05
          },
          "xaxis": {
           "automargin": true,
           "gridcolor": "white",
           "linecolor": "white",
           "ticks": "",
           "title": {
            "standoff": 15
           },
           "zerolinecolor": "white",
           "zerolinewidth": 2
          },
          "yaxis": {
           "automargin": true,
           "gridcolor": "white",
           "linecolor": "white",
           "ticks": "",
           "title": {
            "standoff": 15
           },
           "zerolinecolor": "white",
           "zerolinewidth": 2
          }
         }
        },
        "title": {
         "text": "UMAP Plot"
        },
        "width": 600,
        "xaxis": {
         "anchor": "y",
         "domain": [
          0,
          1
         ],
         "showticklabels": false,
         "title": {
          "text": ""
         }
        },
        "yaxis": {
         "anchor": "x",
         "domain": [
          0,
          1
         ],
         "showticklabels": false,
         "title": {
          "text": ""
         }
        }
       }
      }
     },
     "metadata": {},
     "output_type": "display_data"
    }
   ],
   "source": [
    "fig = umap_plot(df_umap_all)  \n",
    "\n",
    "fig.show()"
   ]
  }
 ],
 "metadata": {
  "interpreter": {
   "hash": "613fe122287fdb1a4092b1ec324ab5e18de9ec977608057b646301948d1df577"
  },
  "kernelspec": {
   "display_name": "Python 3.9.7 ('base')",
   "language": "python",
   "name": "python3"
  },
  "language_info": {
   "codemirror_mode": {
    "name": "ipython",
    "version": 3
   },
   "file_extension": ".py",
   "mimetype": "text/x-python",
   "name": "python",
   "nbconvert_exporter": "python",
   "pygments_lexer": "ipython3",
   "version": "3.9.12"
  },
  "orig_nbformat": 4
 },
 "nbformat": 4,
 "nbformat_minor": 2
}
