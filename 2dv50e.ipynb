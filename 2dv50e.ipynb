{
 "cells": [
  {
   "cell_type": "markdown",
   "metadata": {},
   "source": [
    "### Initial Data exploration and wrangling"
   ]
  },
  {
   "cell_type": "markdown",
   "metadata": {},
   "source": [
    "##### Modul import"
   ]
  },
  {
   "cell_type": "code",
   "execution_count": 103,
   "metadata": {},
   "outputs": [],
   "source": [
    "import pandas as pd\n",
    "import umap\n",
    "from sklearn import preprocessing\n",
    "import plotly.express as px\n",
    "import plotly.graph_objects as go\n",
    "from plotly.subplots import make_subplots\n",
    "import numpy as np\n",
    "import ast\n",
    "from sklearn.neighbors import KNeighborsClassifier\n",
    "from sklearn.svm import SVC\n",
    "from sklearn.naive_bayes import GaussianNB\n",
    "from sklearn.neural_network import MLPClassifier\n",
    "from sklearn.linear_model import LogisticRegression\n",
    "from sklearn.discriminant_analysis import LinearDiscriminantAnalysis\n",
    "from sklearn.discriminant_analysis import QuadraticDiscriminantAnalysis\n",
    "from sklearn.ensemble import RandomForestClassifier\n",
    "from sklearn.ensemble import ExtraTreesClassifier\n",
    "from sklearn.ensemble import AdaBoostClassifier\n",
    "from sklearn.ensemble import GradientBoostingClassifier\n",
    "from sklearn.ensemble import StackingClassifier\n",
    "from sklearn.metrics import accuracy_score, precision_score, recall_score, roc_auc_score, matthews_corrcoef, f1_score, log_loss\n",
    "from sklearn import metrics\n",
    "from imblearn.metrics import geometric_mean_score\n",
    "import plotly.graph_objects as go\n",
    "from plotly.subplots import make_subplots\n",
    "import warnings\n",
    "warnings.filterwarnings('ignore')\n",
    "\n",
    "# define random seed\n",
    "np.random.seed(42)\n"
   ]
  },
  {
   "cell_type": "markdown",
   "metadata": {},
   "source": [
    "#### Dataset import and wrangling"
   ]
  },
  {
   "cell_type": "code",
   "execution_count": 165,
   "metadata": {},
   "outputs": [],
   "source": [
    "path = r'D:\\github\\2dv50e\\Data\\1. Heart Disease'\n",
    "df_prob = pd.read_csv(path + r'\\topModelsProbabilities.csv')\n",
    "df_mod = pd.read_csv(path + r'\\topModels.csv')\n",
    "# add column target to df model from target.csv\n",
    "df_target = pd.read_csv(path + r'\\target.csv')\n",
    "y_train = df_target['class']\n",
    "target = df_target['class'].tolist()\n",
    "df_source = pd.read_csv(path + r'\\dataset.csv')\n",
    "\n",
    "algo_nr = df_mod['algorithm_id']"
   ]
  },
  {
   "cell_type": "code",
   "execution_count": 84,
   "metadata": {},
   "outputs": [],
   "source": [
    "# Print number of missing values per column in df_probabilities\n",
    "for col in df_prob.columns:\n",
    "    if df_prob[col].isnull().sum() > 0:\n",
    "        print(f'{col} has {df_prob[col].isnull().sum()} missing values.')"
   ]
  },
  {
   "cell_type": "code",
   "execution_count": 85,
   "metadata": {},
   "outputs": [],
   "source": [
    "# Apply scaler to df_source\n",
    "scaler = preprocessing.StandardScaler()\n",
    "df_source_scaled = pd.DataFrame(scaler.fit_transform(df_source), columns=df_source.columns)\n",
    "x_train = df_source_scaled.copy()"
   ]
  },
  {
   "cell_type": "code",
   "execution_count": 144,
   "metadata": {},
   "outputs": [
    {
     "data": {
      "text/plain": [
       "'K-Nearest Neighbor'"
      ]
     },
     "execution_count": 144,
     "metadata": {},
     "output_type": "execute_result"
    }
   ],
   "source": [
    "algos = {1:'K-Nearest Neighbor', 2:'Support Vector Machine', 3:'Gaussian Naive Bayes', 4:'Multilayer Perceptron', 5:'Logistic Regression',\n",
    "        6:'Linear Discriminant Analysis', 7:'Quadratic Discriminant Analysis', 8:'Random Forest', 9:'Extra Trees', 10:'Adaptive Boosting',\n",
    "        11:'Gradient Boosting'}\n",
    "# get value of the 1st key in algos\n",
    "list(algos.values())[0]\n",
    "\n"
   ]
  },
  {
   "cell_type": "code",
   "execution_count": 87,
   "metadata": {},
   "outputs": [],
   "source": [
    "df_model = df_mod.copy()\n",
    "# rename columns in df_model\n",
    "df_model.rename(columns={'params': 'hyperparameters', 'mean_test_accuracy': 'accuracy', 'mean_test_precision_weighted': 'precision', \n",
    "                        'mean_test_recall_weighted': 'recall', 'mean_test_roc_auc_ovo_weighted': 'roc_auc_score',\n",
    "                        'geometric_mean_score_weighted': 'geometric_mean_score'}, inplace=True)\n",
    "# remove overall perfromance column\n",
    "df_model.drop(columns=['overall_performance'], inplace=True)\n",
    "df_model['algorithm_name'] = df_model['algorithm_id'].map(algos)\n",
    "df_model['overall_performance'] = round((df_model['accuracy'] + df_model['precision'] + df_model['recall'] + df_model['roc_auc_score'] + \\\n",
    "                                df_model['geometric_mean_score'] + df_model['matthews_corrcoef'] + df_model['f1_weighted']) / 7, 2)\n",
    "# Sort columns\n",
    "df_model = df_model[['model_id', 'algorithm_id', 'algorithm_name', 'accuracy', 'precision', 'recall', 'roc_auc_score',\n",
    "                        'geometric_mean_score', 'matthews_corrcoef', 'f1_weighted', 'log_loss', 'overall_performance', 'hyperparameters']]\n",
    "\n"
   ]
  },
  {
   "cell_type": "markdown",
   "metadata": {},
   "source": [
    "Function to extract hyperparameters from the best performing model per algorithm"
   ]
  },
  {
   "cell_type": "code",
   "execution_count": 88,
   "metadata": {},
   "outputs": [],
   "source": [
    "def best_params(df):\n",
    "      # Select hyperparameters for best model in each algorithm\n",
    "      df_best = df.groupby('algorithm_id').apply(lambda x: x.sort_values('overall_performance', ascending=False).iloc[0])\n",
    "      # reset algorithm_nr as  index\n",
    "      df_best = df_best.reset_index(drop=True)\n",
    "      # keep only algorithm number, name, performance and hyperparameters\n",
    "      df_best = df_best[['algorithm_id', 'algorithm_name', 'overall_performance', 'hyperparameters']]\n",
    "      # rename overall_performance as performance\n",
    "      df_best.rename(columns={'overall_performance': 'performance'}, inplace=True)\n",
    "      return df_best"
   ]
  },
  {
   "cell_type": "markdown",
   "metadata": {},
   "source": [
    "Supporting functions to extract hyperparameters values"
   ]
  },
  {
   "cell_type": "code",
   "execution_count": 89,
   "metadata": {},
   "outputs": [],
   "source": [
    "# Return hyperparameters based on algorithm name\n",
    "def get_hyperparameters(df, algorithm_name):\n",
    "    return df[df['algorithm_name'] == algorithm_name]['hyperparameters']\n",
    "\n",
    "# return value of key in dictionary\n",
    "def get_value(dictionary, key):\n",
    "    return dictionary[key]\n",
    "\n",
    "# convert string to dictionary\n",
    "def string_to_dict(string):\n",
    "    return ast.literal_eval(string)\n"
   ]
  },
  {
   "cell_type": "markdown",
   "metadata": {},
   "source": [
    "Base layer estimators (top 5 per algorithm)"
   ]
  },
  {
   "cell_type": "code",
   "execution_count": 90,
   "metadata": {},
   "outputs": [],
   "source": [
    "# dictionaries with algorithm names and their hyperparameters\n",
    "\n",
    "knn_params = {int(k):v for k,v in get_hyperparameters(df_model, 'K-Nearest Neighbor').items()}\n",
    "svm_params = {int(k):v for k,v in get_hyperparameters(df_model, 'Support Vector Machine').items()}\n",
    "gnb_params = {int(k):v for k,v in get_hyperparameters(df_model, 'Gaussian Naive Bayes').items()}\n",
    "mlp_params = {int(k):v for k,v in get_hyperparameters(df_model, 'Multilayer Perceptron').items()}\n",
    "lr_params = {int(k):v for k,v in get_hyperparameters(df_model, 'Logistic Regression').items()}\n",
    "lda_params = {int(k):v for k,v in get_hyperparameters(df_model, 'Linear Discriminant Analysis').items()}\n",
    "qda_params = {int(k):v for k,v in get_hyperparameters(df_model, 'Quadratic Discriminant Analysis').items()}\n",
    "rf_params = {int(k):v for k,v in get_hyperparameters(df_model, 'Random Forest').items()}\n",
    "et_params = {int(k):v for k,v in get_hyperparameters(df_model, 'Extra Trees').items()}\n",
    "ab_params = {int(k):v for k,v in get_hyperparameters(df_model, 'Adaptive Boosting').items()}\n",
    "gb_params = {int(k):v for k,v in get_hyperparameters(df_model, 'Gradient Boosting').items()}"
   ]
  },
  {
   "cell_type": "code",
   "execution_count": 91,
   "metadata": {},
   "outputs": [],
   "source": [
    "# Estimators and hyperparameters for each algorithm\n",
    "estimators = []\n",
    "# populate list of estimators with all 55 top models\n",
    "count = 0\n",
    "for i in list(knn_params.keys()):\n",
    "                temp_dict = ast.literal_eval(knn_params[i])\n",
    "                estimators.append((f'knn_{count}', KNeighborsClassifier(algorithm=get_value(temp_dict, 'algorithm'), \n",
    "                                metric=get_value(temp_dict, 'metric'), n_neighbors= get_value(temp_dict, 'n_neighbors'), \n",
    "                                weights=get_value(temp_dict, 'weights'), n_jobs=-1)))\n",
    "                count += 1\n",
    "count = 0\n",
    "for i in list(svm_params.keys()):\n",
    "                temp_dict = ast.literal_eval(svm_params[i])\n",
    "                estimators.append((f'svm_{count}', SVC(C=get_value(temp_dict, 'C'), kernel=get_value(temp_dict, 'kernel'),probability=True, random_state=42)))\n",
    "                count += 1\n",
    "count = 0\n",
    "for i in list(gnb_params.keys()):\n",
    "                temp_dict = ast.literal_eval(gnb_params[i])\n",
    "                estimators.append((f'gnb_{count}', GaussianNB(var_smoothing=get_value(temp_dict, 'var_smoothing'))))\n",
    "                count += 1\n",
    "count = 0\n",
    "for i in list(mlp_params.keys()):\n",
    "                temp_dict = ast.literal_eval(mlp_params[i])\n",
    "                estimators.append((f'mlp_{count}', MLPClassifier(activation=get_value(temp_dict, 'activation'), \n",
    "                                alpha=get_value(temp_dict, 'alpha'),\n",
    "                                max_iter=get_value(temp_dict, 'max_iter'), solver=get_value(temp_dict, 'solver'), \n",
    "                                tol=get_value(temp_dict, 'tol'), random_state=42)))\n",
    "                count += 1\n",
    "count = 0\n",
    "for i in list(lr_params.keys()):\n",
    "                temp_dict = ast.literal_eval(lr_params[i])\n",
    "                estimators.append((f'lr_{count}', LogisticRegression(C=get_value(temp_dict, 'C'), max_iter=get_value(temp_dict, 'max_iter'), penalty=get_value(temp_dict, 'penalty'), solver=get_value(temp_dict, 'solver'), random_state=42, n_jobs=-1)))\n",
    "                count += 1\n",
    "count = 0\n",
    "for i in list(lda_params.keys()):\n",
    "                temp_dict = ast.literal_eval(lda_params[i])\n",
    "                estimators.append((f'lda_{count}', LinearDiscriminantAnalysis(shrinkage=get_value(temp_dict, 'shrinkage'), \n",
    "                                solver=get_value(temp_dict, 'solver'))))\n",
    "                count += 1\n",
    "count = 0\n",
    "for i in list(qda_params.keys()):\n",
    "                temp_dict = ast.literal_eval(qda_params[i])\n",
    "                estimators.append((f'qda_{count}', QuadraticDiscriminantAnalysis(reg_param=get_value(temp_dict, 'reg_param'), tol=get_value(temp_dict, 'tol'))))\n",
    "                count += 1\n",
    "count = 0\n",
    "for i in list(rf_params.keys()):\n",
    "                temp_dict = ast.literal_eval(rf_params[i])\n",
    "                estimators.append((f'rf_{count}', RandomForestClassifier(criterion=get_value(temp_dict, 'criterion'), \n",
    "                                n_estimators=get_value(temp_dict, 'n_estimators'), random_state=42, n_jobs=-1)))\n",
    "                count += 1\n",
    "count = 0\n",
    "for i in list(et_params.keys()):\n",
    "                temp_dict = ast.literal_eval(et_params[i])\n",
    "                estimators.append((f'et_{count}', ExtraTreesClassifier(criterion=get_value(temp_dict, 'criterion'),\n",
    "                                n_estimators=get_value(temp_dict, 'n_estimators'), random_state=42, n_jobs=-1)))\n",
    "                count += 1\n",
    "count = 0\n",
    "for i in list(ab_params.keys()):\n",
    "                temp_dict = ast.literal_eval(ab_params[i])\n",
    "                estimators.append((f'ab_{count}', AdaBoostClassifier(algorithm=get_value(temp_dict, 'algorithm'), \n",
    "                                learning_rate=get_value(temp_dict, 'learning_rate'), n_estimators=get_value(temp_dict, 'n_estimators'), random_state=42)))\n",
    "                count += 1\n",
    "count = 0\n",
    "for i in list(gb_params.keys()):\n",
    "                temp_dict = ast.literal_eval(gb_params[i])\n",
    "                estimators.append((f'gb_{count}', GradientBoostingClassifier(criterion=get_value(temp_dict, 'criterion'), \n",
    "                                learning_rate=get_value(temp_dict, 'learning_rate'), n_estimators=get_value(temp_dict, 'n_estimators'), random_state=42)))\n",
    "                count += 1"
   ]
  },
  {
   "cell_type": "markdown",
   "metadata": {},
   "source": [
    "##### Metamodel estimators (top 1 per algorithm)\n",
    "Hyperparameters will be extracted from the best performing model per algorithm. <br> The plan is to extract hyperparameters from the best performing model per algorithm and then apply these hyperparameters to the metamodels. Currently no functuonality to be added to allow end user to tune the hyperparameters for metamodels, instead they will rely on top performing ones from base layer models."
   ]
  },
  {
   "cell_type": "code",
   "execution_count": 146,
   "metadata": {},
   "outputs": [],
   "source": [
    "# Extract the top models from the dataframe with the respective hyperparameters\n",
    "meta_params = best_params(df_model)\n",
    "\n",
    "# return unique values of algorithm name\n",
    "algo = ['knn', 'svm', 'gnb', 'mlp', 'lr', 'lda', 'qda', 'rf', 'et', 'ab', 'gb']\n",
    "# convert all values in algo to capital letters\n",
    "algo_cap = [i.upper() for i in algo]\n",
    "\n",
    "algo_names = meta_params['algorithm_name']\n",
    "\n",
    "# iterate through key and value pairs in algo\n",
    "i = 0\n",
    "for k,v in zip(algo, algo_names):\n",
    "    # Define hyperparameters for each  final estimator, based on top performing model from base layer\n",
    "    temp = get_hyperparameters(meta_params, v)\n",
    "    # convert to dictionary for easy access\n",
    "    temp_dict = {int(k):v for k,v in temp.items()}\n",
    "    # return first value\n",
    "    temp_dict = temp_dict[i]\n",
    "    # convert to dictionary for easy access, assign varibale name per algorithm\n",
    "    globals()[k + '_params'] = ast.literal_eval(temp_dict)\n",
    "    i += 1"
   ]
  },
  {
   "cell_type": "code",
   "execution_count": 93,
   "metadata": {},
   "outputs": [],
   "source": [
    "# Add final estimators\n",
    "final_estimators = [('knn', KNeighborsClassifier(algorithm=get_value(knn_params, 'algorithm'), metric=get_value(knn_params, 'metric'), \n",
    "                n_neighbors= get_value(knn_params, 'n_neighbors'), weights=get_value(knn_params, 'weights'), n_jobs=-1)),\n",
    "                ('svm', SVC(C=get_value(svm_params, 'C'), kernel=get_value(svm_params, 'kernel'),probability=True, random_state=42)),\n",
    "                ('gnb', GaussianNB(var_smoothing=get_value(gnb_params, 'var_smoothing'))),\n",
    "                ('mlp', MLPClassifier(activation=get_value(mlp_params, 'activation'), alpha=get_value(mlp_params, 'alpha'), \n",
    "                max_iter=get_value(mlp_params, 'max_iter'), solver=get_value(mlp_params, 'solver'), tol=get_value(mlp_params, 'tol'), \n",
    "                random_state=42)),\n",
    "                ('lr', LogisticRegression(C=get_value(lr_params, 'C'), max_iter=get_value(lr_params, 'max_iter'),\n",
    "                penalty=get_value(lr_params, 'penalty'), solver=get_value(lr_params, 'solver'), random_state=42, n_jobs=-1)),\n",
    "                ('lda', LinearDiscriminantAnalysis(shrinkage=get_value(lda_params, 'shrinkage'), solver=get_value(lda_params, 'solver'))),\n",
    "                ('qda', QuadraticDiscriminantAnalysis(reg_param=get_value(qda_params, 'reg_param'), tol=get_value(qda_params, 'tol'))),\n",
    "                ('rf', RandomForestClassifier(criterion=get_value(rf_params, 'criterion'), n_estimators=get_value(rf_params, 'n_estimators'), \n",
    "                random_state=42, n_jobs=-1)),\n",
    "                ('et', ExtraTreesClassifier(criterion=get_value(et_params, 'criterion'), n_estimators=get_value(et_params, 'n_estimators'), \n",
    "                random_state=42, n_jobs=-1)),\n",
    "                ('ab', AdaBoostClassifier(algorithm=get_value(ab_params, 'algorithm'), learning_rate=get_value(ab_params, 'learning_rate'), \n",
    "                n_estimators=get_value(ab_params, 'n_estimators'), random_state=42)),\n",
    "                ('gb', GradientBoostingClassifier(criterion=get_value(gb_params, 'criterion'), \n",
    "                learning_rate=get_value(gb_params, 'learning_rate'), n_estimators=get_value(gb_params, 'n_estimators'), random_state=42))\n",
    "                ]"
   ]
  },
  {
   "cell_type": "markdown",
   "metadata": {},
   "source": [
    "Please note that for the average metric I did not include the logloss as using normalized version of logloss introduces bias to dataset"
   ]
  },
  {
   "cell_type": "code",
   "execution_count": 94,
   "metadata": {},
   "outputs": [
    {
     "name": "stderr",
     "output_type": "stream",
     "text": [
      "d:\\Conda\\lib\\site-packages\\sklearn\\neural_network\\_multilayer_perceptron.py:692: ConvergenceWarning:\n",
      "\n",
      "Stochastic Optimizer: Maximum iterations (100) reached and the optimization hasn't converged yet.\n",
      "\n",
      "d:\\Conda\\lib\\site-packages\\sklearn\\linear_model\\_sag.py:352: ConvergenceWarning:\n",
      "\n",
      "The max_iter was reached which means the coef_ did not converge\n",
      "\n",
      "d:\\Conda\\lib\\site-packages\\sklearn\\discriminant_analysis.py:878: UserWarning:\n",
      "\n",
      "Variables are collinear\n",
      "\n"
     ]
    }
   ],
   "source": [
    "# create dataframe for df_model_meta with columns names from df_model\n",
    "df_model_meta = pd.DataFrame(columns=df_model.columns)\n",
    "\n",
    "# create dataframes for meta models probabilities and predicted values\n",
    "df_pred_meta = pd.DataFrame()\n",
    "df_prob_meta = pd.DataFrame()\n",
    "\n",
    "for x in range(0, len(final_estimators)):\n",
    "        final_estimator = final_estimators[x][1]\n",
    "        clf = StackingClassifier(estimators=estimators, final_estimator=final_estimator, n_jobs=-1, cv=5)\n",
    "        clf.fit(x_train, y_train)\n",
    "        y_pred = clf.predict(x_train)\n",
    "        y_pred = pd.Series(y_pred)\n",
    "\n",
    "        # probabilities dataframe\n",
    "        y_pred_prob = clf.predict_proba(x_train)\n",
    "        y_pred_prob_df = pd.DataFrame(y_pred_prob, columns=['prob_0', 'prob_1'])\n",
    "        y_pred_prob_df['target'] = y_train\n",
    "        y_pred_prob_df['predicted'] = y_pred\n",
    "        # create new column, set value to prob_0 if target is 0 and prob_1 if target is 1\n",
    "        y_pred_prob_df['pred_prob'] = np.where(y_pred_prob_df['target'] == 0, y_pred_prob_df['prob_0'], y_pred_prob_df['prob_1'])\n",
    "        # remove prob_0 and prob_1 columns, target and predicted columns\n",
    "        y_pred_prob_df = y_pred_prob_df.drop(['prob_0', 'prob_1', 'target', 'predicted'], axis=1)\n",
    "        # transpose the data frame and convert values to %\n",
    "        y_pred_prob_df = y_pred_prob_df.T\n",
    "        y_pred_prob_df = y_pred_prob_df.apply(lambda x: x * 100).round(2)\n",
    "        # set index to x\n",
    "        y_pred_prob_df.index = [x]\n",
    "        # add row to df_prob_meta using pd.concat\n",
    "        df_prob_meta = pd.concat([df_prob_meta, y_pred_prob_df], axis=0)\n",
    "        \n",
    "        # prediction dataframe\n",
    "        # transpose the data frame\n",
    "        y_pred_df = pd.DataFrame(y_pred, columns=['Pred_class'])\n",
    "        y_pred_df = y_pred_df.T\n",
    "        # set index to x\n",
    "        y_pred_df.index = [x]\n",
    "        # add row to df_prob_meta using pd.concat\n",
    "        df_pred_meta = pd.concat([df_pred_meta, y_pred_df], axis=0)\n",
    "\n",
    "        # performance metrics dataframe\n",
    "        accuracy = round(accuracy_score(y_train, y_pred)*100, 2)\n",
    "        precision = round(precision_score(y_train, y_pred, average='weighted')*100, 2)\n",
    "        recall = round(recall_score(y_train, y_pred, average='weighted')*100, 2)\n",
    "        roc_auc = round(roc_auc_score(y_train, y_pred, average='weighted')*100, 2)\n",
    "        gmean = round(geometric_mean_score(y_train, y_pred, average='weighted')*100, 2)\n",
    "        mcc = round(matthews_corrcoef(y_train, y_pred)*100, 2)\n",
    "        f1_weighted = round(f1_score(y_train, y_pred, average='weighted')*100, 2)\n",
    "        log_loss = round(metrics.log_loss(y_train, y_pred, normalize=True)*100, 2)\n",
    "        average_metrics = (accuracy + precision + recall + roc_auc + gmean + mcc + f1_weighted) / 7\n",
    "        average_metrics = round(average_metrics, 2)\n",
    "        # add performance metrics to df_model_meta using pd.concat with index\n",
    "        df_model_meta = pd.concat([df_model_meta, pd.DataFrame([[f'meta_{x+1}', x+1, algos[x+1], accuracy, precision, recall, roc_auc, gmean, \\\n",
    "                        mcc, f1_weighted, log_loss, average_metrics, f'{final_estimator.get_params()}']], \n",
    "                        columns=df_model_meta.columns, index=[x])], axis=0)"
   ]
  },
  {
   "cell_type": "code",
   "execution_count": 95,
   "metadata": {},
   "outputs": [],
   "source": [
    "# Save all dataframes to csv\n",
    "df_model_meta.to_csv(f'{path}/MetaModelsPerformance.csv', index=False)\n",
    "df_prob_meta.to_csv(f'{path}/MetaModelsProbabilities.csv', index=False)\n",
    "df_pred_meta.to_csv(f'{path}/MetaModelsPredictions.csv', index=False)"
   ]
  },
  {
   "cell_type": "code",
   "execution_count": 109,
   "metadata": {},
   "outputs": [],
   "source": [
    "# concatinate df_model and df_model_meta\n",
    "df_model_all = pd.concat([df_model, df_model_meta], axis=0)\n",
    "df_model_all = df_model_all.astype({'model_id': 'str', 'algorithm_id': 'int64', 'accuracy': 'float64', 'precision': 'float64', \n",
    "                               'recall': 'float64', 'roc_auc_score': 'float64', 'geometric_mean_score': 'float64', \n",
    "                               'matthews_corrcoef': 'float64', 'f1_weighted': 'float64', 'log_loss': 'float64', \n",
    "                               'overall_performance': 'float64'})\n",
    "# create new column \"size\", set to 2 for rows with \"meta\" in \"model_id\", else 1\n",
    "df_model_all['size'] = np.where(df_model_all['model_id'].str.contains('meta'), 2, 1)\n",
    "# create new column for text of points\n",
    "df_model_all['text'] = df_model_all['algorithm_name'] + '<br>' + 'Performance: ' + \\\n",
    "        df_model_all['overall_performance'].astype(str) + '%' + '<br>' + 'Model ID: ' + df_model_all['model_id'].astype(str) + \\\n",
    "        '<br>' + 'Accuracy: ' + df_model_all['accuracy'].astype(str) + '%' + '<br>' + 'Precision: ' + \\\n",
    "        df_model_all['precision'].astype(str) + '%' + '<br>' + 'Recall: ' + df_model_all['recall'].astype(str) + \\\n",
    "        '%' + '<br>' + 'ROC AUC: ' + df_model_all['roc_auc_score'].astype(str) + '<br>' + 'Geometric Mean: ' + \\\n",
    "        df_model_all['geometric_mean_score'].astype(str) + '<br>' + 'Matthews Correlation: ' + \\\n",
    "        df_model_all['matthews_corrcoef'].astype(str) + '<br>' + 'F1: ' + df_model_all['f1_weighted'].astype(str) + \\\n",
    "        '<br>' + 'Log Loss: ' + df_model_all['log_loss'].astype(str)"
   ]
  },
  {
   "cell_type": "code",
   "execution_count": 183,
   "metadata": {},
   "outputs": [
    {
     "data": {
      "text/html": [
       "<div>\n",
       "<style scoped>\n",
       "    .dataframe tbody tr th:only-of-type {\n",
       "        vertical-align: middle;\n",
       "    }\n",
       "\n",
       "    .dataframe tbody tr th {\n",
       "        vertical-align: top;\n",
       "    }\n",
       "\n",
       "    .dataframe thead th {\n",
       "        text-align: right;\n",
       "    }\n",
       "</style>\n",
       "<table border=\"1\" class=\"dataframe\">\n",
       "  <thead>\n",
       "    <tr style=\"text-align: right;\">\n",
       "      <th></th>\n",
       "      <th>model_id</th>\n",
       "      <th>algorithm_id</th>\n",
       "      <th>algorithm_name</th>\n",
       "      <th>accuracy</th>\n",
       "      <th>precision</th>\n",
       "      <th>recall</th>\n",
       "      <th>roc_auc_score</th>\n",
       "      <th>geometric_mean_score</th>\n",
       "      <th>matthews_corrcoef</th>\n",
       "      <th>f1_weighted</th>\n",
       "      <th>...</th>\n",
       "      <th>UMAP_1_prob_12</th>\n",
       "      <th>UMAP_2_prob_12</th>\n",
       "      <th>UMAP_1_prob_13</th>\n",
       "      <th>UMAP_2_prob_13</th>\n",
       "      <th>UMAP_1_prob_14</th>\n",
       "      <th>UMAP_2_prob_14</th>\n",
       "      <th>UMAP_1_prob_15</th>\n",
       "      <th>UMAP_2_prob_15</th>\n",
       "      <th>UMAP_1_metrics</th>\n",
       "      <th>UMAP_2_metrics</th>\n",
       "    </tr>\n",
       "  </thead>\n",
       "  <tbody>\n",
       "    <tr>\n",
       "      <th>4</th>\n",
       "      <td>meta_5</td>\n",
       "      <td>5</td>\n",
       "      <td>Logistic Regression</td>\n",
       "      <td>100.00</td>\n",
       "      <td>100.00</td>\n",
       "      <td>100.00</td>\n",
       "      <td>100.00</td>\n",
       "      <td>100.00</td>\n",
       "      <td>100.00</td>\n",
       "      <td>100.00</td>\n",
       "      <td>...</td>\n",
       "      <td>-3.040077</td>\n",
       "      <td>9.490225</td>\n",
       "      <td>22.042971</td>\n",
       "      <td>10.924244</td>\n",
       "      <td>16.240372</td>\n",
       "      <td>7.495212</td>\n",
       "      <td>24.721155</td>\n",
       "      <td>16.502460</td>\n",
       "      <td>9.410354</td>\n",
       "      <td>-5.435411</td>\n",
       "    </tr>\n",
       "    <tr>\n",
       "      <th>3</th>\n",
       "      <td>meta_4</td>\n",
       "      <td>4</td>\n",
       "      <td>Multilayer Perceptron</td>\n",
       "      <td>100.00</td>\n",
       "      <td>100.00</td>\n",
       "      <td>100.00</td>\n",
       "      <td>100.00</td>\n",
       "      <td>100.00</td>\n",
       "      <td>100.00</td>\n",
       "      <td>100.00</td>\n",
       "      <td>...</td>\n",
       "      <td>-3.360888</td>\n",
       "      <td>9.390528</td>\n",
       "      <td>21.477184</td>\n",
       "      <td>10.900955</td>\n",
       "      <td>16.016262</td>\n",
       "      <td>7.116207</td>\n",
       "      <td>24.296114</td>\n",
       "      <td>16.928558</td>\n",
       "      <td>9.026981</td>\n",
       "      <td>-5.338016</td>\n",
       "    </tr>\n",
       "    <tr>\n",
       "      <th>5</th>\n",
       "      <td>meta_6</td>\n",
       "      <td>6</td>\n",
       "      <td>Linear Discriminant Analysis</td>\n",
       "      <td>99.01</td>\n",
       "      <td>99.01</td>\n",
       "      <td>99.01</td>\n",
       "      <td>98.97</td>\n",
       "      <td>98.97</td>\n",
       "      <td>98.00</td>\n",
       "      <td>99.01</td>\n",
       "      <td>...</td>\n",
       "      <td>-3.736999</td>\n",
       "      <td>9.823585</td>\n",
       "      <td>21.661364</td>\n",
       "      <td>11.192067</td>\n",
       "      <td>16.386545</td>\n",
       "      <td>7.205141</td>\n",
       "      <td>24.943916</td>\n",
       "      <td>16.976082</td>\n",
       "      <td>8.947378</td>\n",
       "      <td>-5.826300</td>\n",
       "    </tr>\n",
       "    <tr>\n",
       "      <th>8</th>\n",
       "      <td>meta_9</td>\n",
       "      <td>9</td>\n",
       "      <td>Extra Trees</td>\n",
       "      <td>96.70</td>\n",
       "      <td>96.85</td>\n",
       "      <td>96.70</td>\n",
       "      <td>96.91</td>\n",
       "      <td>96.91</td>\n",
       "      <td>93.51</td>\n",
       "      <td>96.71</td>\n",
       "      <td>...</td>\n",
       "      <td>-3.117346</td>\n",
       "      <td>9.927255</td>\n",
       "      <td>21.753565</td>\n",
       "      <td>10.095781</td>\n",
       "      <td>16.844675</td>\n",
       "      <td>6.948421</td>\n",
       "      <td>24.427200</td>\n",
       "      <td>16.092485</td>\n",
       "      <td>8.193128</td>\n",
       "      <td>-5.788495</td>\n",
       "    </tr>\n",
       "    <tr>\n",
       "      <th>10</th>\n",
       "      <td>meta_11</td>\n",
       "      <td>11</td>\n",
       "      <td>Gradient Boosting</td>\n",
       "      <td>94.39</td>\n",
       "      <td>94.39</td>\n",
       "      <td>94.39</td>\n",
       "      <td>94.31</td>\n",
       "      <td>94.31</td>\n",
       "      <td>88.68</td>\n",
       "      <td>94.39</td>\n",
       "      <td>...</td>\n",
       "      <td>-4.700479</td>\n",
       "      <td>9.175013</td>\n",
       "      <td>20.500097</td>\n",
       "      <td>9.689886</td>\n",
       "      <td>17.752052</td>\n",
       "      <td>6.979928</td>\n",
       "      <td>24.182859</td>\n",
       "      <td>14.840538</td>\n",
       "      <td>7.531434</td>\n",
       "      <td>-5.646962</td>\n",
       "    </tr>\n",
       "    <tr>\n",
       "      <th>2</th>\n",
       "      <td>meta_3</td>\n",
       "      <td>3</td>\n",
       "      <td>Gaussian Naive Bayes</td>\n",
       "      <td>94.06</td>\n",
       "      <td>94.07</td>\n",
       "      <td>94.06</td>\n",
       "      <td>94.07</td>\n",
       "      <td>94.07</td>\n",
       "      <td>88.05</td>\n",
       "      <td>94.06</td>\n",
       "      <td>...</td>\n",
       "      <td>-3.749273</td>\n",
       "      <td>10.722417</td>\n",
       "      <td>22.715328</td>\n",
       "      <td>11.111186</td>\n",
       "      <td>15.586329</td>\n",
       "      <td>6.667593</td>\n",
       "      <td>24.535641</td>\n",
       "      <td>17.255373</td>\n",
       "      <td>7.128560</td>\n",
       "      <td>-5.958305</td>\n",
       "    </tr>\n",
       "    <tr>\n",
       "      <th>9</th>\n",
       "      <td>meta_10</td>\n",
       "      <td>10</td>\n",
       "      <td>Adaptive Boosting</td>\n",
       "      <td>93.73</td>\n",
       "      <td>94.10</td>\n",
       "      <td>93.73</td>\n",
       "      <td>94.06</td>\n",
       "      <td>94.06</td>\n",
       "      <td>87.78</td>\n",
       "      <td>93.74</td>\n",
       "      <td>...</td>\n",
       "      <td>24.354633</td>\n",
       "      <td>8.889613</td>\n",
       "      <td>-0.752478</td>\n",
       "      <td>-6.218706</td>\n",
       "      <td>7.980253</td>\n",
       "      <td>8.789330</td>\n",
       "      <td>1.704657</td>\n",
       "      <td>17.605661</td>\n",
       "      <td>7.321858</td>\n",
       "      <td>-6.462540</td>\n",
       "    </tr>\n",
       "    <tr>\n",
       "      <th>1</th>\n",
       "      <td>meta_2</td>\n",
       "      <td>2</td>\n",
       "      <td>Support Vector Machine</td>\n",
       "      <td>93.40</td>\n",
       "      <td>93.40</td>\n",
       "      <td>93.40</td>\n",
       "      <td>93.29</td>\n",
       "      <td>93.29</td>\n",
       "      <td>86.68</td>\n",
       "      <td>93.40</td>\n",
       "      <td>...</td>\n",
       "      <td>-3.926199</td>\n",
       "      <td>9.582665</td>\n",
       "      <td>21.234682</td>\n",
       "      <td>10.146255</td>\n",
       "      <td>16.910147</td>\n",
       "      <td>6.668741</td>\n",
       "      <td>23.795580</td>\n",
       "      <td>15.742167</td>\n",
       "      <td>6.881520</td>\n",
       "      <td>-6.148349</td>\n",
       "    </tr>\n",
       "    <tr>\n",
       "      <th>40</th>\n",
       "      <td>2667</td>\n",
       "      <td>9</td>\n",
       "      <td>Extra Trees</td>\n",
       "      <td>84.81</td>\n",
       "      <td>85.07</td>\n",
       "      <td>84.81</td>\n",
       "      <td>91.22</td>\n",
       "      <td>100.00</td>\n",
       "      <td>100.00</td>\n",
       "      <td>100.00</td>\n",
       "      <td>...</td>\n",
       "      <td>-5.520854</td>\n",
       "      <td>7.483089</td>\n",
       "      <td>19.637468</td>\n",
       "      <td>7.868376</td>\n",
       "      <td>18.204117</td>\n",
       "      <td>8.557732</td>\n",
       "      <td>25.511396</td>\n",
       "      <td>14.080583</td>\n",
       "      <td>19.162878</td>\n",
       "      <td>1.929647</td>\n",
       "    </tr>\n",
       "    <tr>\n",
       "      <th>41</th>\n",
       "      <td>2659</td>\n",
       "      <td>9</td>\n",
       "      <td>Extra Trees</td>\n",
       "      <td>84.80</td>\n",
       "      <td>84.98</td>\n",
       "      <td>84.80</td>\n",
       "      <td>91.07</td>\n",
       "      <td>100.00</td>\n",
       "      <td>100.00</td>\n",
       "      <td>100.00</td>\n",
       "      <td>...</td>\n",
       "      <td>-5.404990</td>\n",
       "      <td>7.213951</td>\n",
       "      <td>18.962248</td>\n",
       "      <td>8.197308</td>\n",
       "      <td>18.262796</td>\n",
       "      <td>7.678268</td>\n",
       "      <td>25.280031</td>\n",
       "      <td>13.641338</td>\n",
       "      <td>18.578409</td>\n",
       "      <td>2.513859</td>\n",
       "    </tr>\n",
       "  </tbody>\n",
       "</table>\n",
       "<p>10 rows × 43 columns</p>\n",
       "</div>"
      ],
      "text/plain": [
       "   model_id  algorithm_id                algorithm_name  accuracy  precision  \\\n",
       "4    meta_5             5           Logistic Regression    100.00     100.00   \n",
       "3    meta_4             4         Multilayer Perceptron    100.00     100.00   \n",
       "5    meta_6             6  Linear Discriminant Analysis     99.01      99.01   \n",
       "8    meta_9             9                   Extra Trees     96.70      96.85   \n",
       "10  meta_11            11             Gradient Boosting     94.39      94.39   \n",
       "2    meta_3             3          Gaussian Naive Bayes     94.06      94.07   \n",
       "9   meta_10            10             Adaptive Boosting     93.73      94.10   \n",
       "1    meta_2             2        Support Vector Machine     93.40      93.40   \n",
       "40     2667             9                   Extra Trees     84.81      85.07   \n",
       "41     2659             9                   Extra Trees     84.80      84.98   \n",
       "\n",
       "    recall  roc_auc_score  geometric_mean_score  matthews_corrcoef  \\\n",
       "4   100.00         100.00                100.00             100.00   \n",
       "3   100.00         100.00                100.00             100.00   \n",
       "5    99.01          98.97                 98.97              98.00   \n",
       "8    96.70          96.91                 96.91              93.51   \n",
       "10   94.39          94.31                 94.31              88.68   \n",
       "2    94.06          94.07                 94.07              88.05   \n",
       "9    93.73          94.06                 94.06              87.78   \n",
       "1    93.40          93.29                 93.29              86.68   \n",
       "40   84.81          91.22                100.00             100.00   \n",
       "41   84.80          91.07                100.00             100.00   \n",
       "\n",
       "    f1_weighted  ...  UMAP_1_prob_12  UMAP_2_prob_12 UMAP_1_prob_13  \\\n",
       "4        100.00  ...       -3.040077        9.490225      22.042971   \n",
       "3        100.00  ...       -3.360888        9.390528      21.477184   \n",
       "5         99.01  ...       -3.736999        9.823585      21.661364   \n",
       "8         96.71  ...       -3.117346        9.927255      21.753565   \n",
       "10        94.39  ...       -4.700479        9.175013      20.500097   \n",
       "2         94.06  ...       -3.749273       10.722417      22.715328   \n",
       "9         93.74  ...       24.354633        8.889613      -0.752478   \n",
       "1         93.40  ...       -3.926199        9.582665      21.234682   \n",
       "40       100.00  ...       -5.520854        7.483089      19.637468   \n",
       "41       100.00  ...       -5.404990        7.213951      18.962248   \n",
       "\n",
       "    UMAP_2_prob_13 UMAP_1_prob_14  UMAP_2_prob_14  UMAP_1_prob_15  \\\n",
       "4        10.924244      16.240372        7.495212       24.721155   \n",
       "3        10.900955      16.016262        7.116207       24.296114   \n",
       "5        11.192067      16.386545        7.205141       24.943916   \n",
       "8        10.095781      16.844675        6.948421       24.427200   \n",
       "10        9.689886      17.752052        6.979928       24.182859   \n",
       "2        11.111186      15.586329        6.667593       24.535641   \n",
       "9        -6.218706       7.980253        8.789330        1.704657   \n",
       "1        10.146255      16.910147        6.668741       23.795580   \n",
       "40        7.868376      18.204117        8.557732       25.511396   \n",
       "41        8.197308      18.262796        7.678268       25.280031   \n",
       "\n",
       "    UMAP_2_prob_15  UMAP_1_metrics  UMAP_2_metrics  \n",
       "4        16.502460        9.410354       -5.435411  \n",
       "3        16.928558        9.026981       -5.338016  \n",
       "5        16.976082        8.947378       -5.826300  \n",
       "8        16.092485        8.193128       -5.788495  \n",
       "10       14.840538        7.531434       -5.646962  \n",
       "2        17.255373        7.128560       -5.958305  \n",
       "9        17.605661        7.321858       -6.462540  \n",
       "1        15.742167        6.881520       -6.148349  \n",
       "40       14.080583       19.162878        1.929647  \n",
       "41       13.641338       18.578409        2.513859  \n",
       "\n",
       "[10 rows x 43 columns]"
      ]
     },
     "execution_count": 183,
     "metadata": {},
     "output_type": "execute_result"
    }
   ],
   "source": [
    "# show  top 5 models with best performance\n",
    "df_model_all.sort_values(by=['overall_performance'], ascending=False).head(10)"
   ]
  },
  {
   "cell_type": "code",
   "execution_count": 111,
   "metadata": {},
   "outputs": [
    {
     "data": {
      "text/plain": [
       "(66, 303)"
      ]
     },
     "execution_count": 111,
     "metadata": {},
     "output_type": "execute_result"
    }
   ],
   "source": [
    "# set df_prob_meta columns as df_prob columns\n",
    "df_prob_meta.columns = df_prob.columns\n",
    "\n",
    "# concatinate df_prob and df_prob_meta\n",
    "df_prob_all = pd.concat([df_prob, df_prob_meta], axis=0)\n",
    "df_prob_all.shape"
   ]
  },
  {
   "cell_type": "markdown",
   "metadata": {},
   "source": [
    "\n",
    "### UMAP dimension reduction algorithm"
   ]
  },
  {
   "cell_type": "code",
   "execution_count": 112,
   "metadata": {},
   "outputs": [],
   "source": [
    "# UMAP function\n",
    "def umap_model(df, parameter_umap_n_neighbors = 5, parameter_umap_min_dist = 0.5, parameter_umap_metric = 'euclidean'):\n",
    "        umap_model = umap.UMAP(n_neighbors=parameter_umap_n_neighbors, metric=parameter_umap_metric, min_dist=parameter_umap_min_dist)\n",
    "        #fit transform and convert to dataframe\n",
    "        df_umap = pd.DataFrame(umap_model.fit_transform(df), columns=['UMAP_1', 'UMAP_2'])\n",
    "        # add index to df_umap\n",
    "        df_umap.index = df.index\n",
    "        return df_umap"
   ]
  },
  {
   "cell_type": "code",
   "execution_count": 113,
   "metadata": {},
   "outputs": [],
   "source": [
    "# Create UMAP models for probabilities and perfromance metrics dataframes\n",
    "umap_prob = umap_model(df_prob_all)\n",
    "\n",
    "# choose only accuracy, precision, recall, roc_auc, geometric_mean_score, matthews_corrcoef, f1_weighted from df_model_all\n",
    "df_model_metrics = df_model_all[['accuracy', 'precision', 'recall', 'roc_auc_score', 'geometric_mean_score', 'matthews_corrcoef', 'f1_weighted']]\n",
    "\n",
    "umap_metrics = umap_model(df_model_metrics)"
   ]
  },
  {
   "cell_type": "code",
   "execution_count": 114,
   "metadata": {},
   "outputs": [],
   "source": [
    "# Add umap_prob to df_model_all and rename columns to 'UMAP_1_prob' and 'UMAP_2_prob' for different hyperparameter of number of neighbors\n",
    "\n",
    "for i in range(3,16):\n",
    "    umap_prob = umap_model(df_prob_all, parameter_umap_n_neighbors = i)\n",
    "    df_model_all = pd.concat([df_model_all, umap_prob], axis=1)\n",
    "    df_model_all.rename(columns={'UMAP_1': f'UMAP_1_prob_{i}', 'UMAP_2': f'UMAP_2_prob_{i}'}, inplace=True)"
   ]
  },
  {
   "cell_type": "code",
   "execution_count": 115,
   "metadata": {},
   "outputs": [],
   "source": [
    "# Add umap_metrics to df_model_all and rename columns to 'UMAP_1_metrics' and 'UMAP_2_metrics'\n",
    "df_model_all = pd.concat([df_model_all, umap_metrics], axis=1)\n",
    "df_model_all.rename(columns={'UMAP_1': 'UMAP_1_metrics', 'UMAP_2': 'UMAP_2_metrics'}, inplace=True)"
   ]
  },
  {
   "cell_type": "markdown",
   "metadata": {},
   "source": [
    "### UMAP chart"
   ]
  },
  {
   "cell_type": "code",
   "execution_count": 135,
   "metadata": {},
   "outputs": [
    {
     "data": {
      "application/vnd.plotly.v1+json": {
       "config": {
        "plotlyServerURL": "https://plot.ly"
       },
       "data": [
        {
         "hovertext": [
          "K-Nearest Neighbor<br>Performance: 83.35%<br>Model ID: 452<br>Accuracy: 70.31%<br>Precision: 70.36%<br>Recall: 70.31%<br>ROC AUC: 72.5<br>Geometric Mean: 100.0<br>Matthews Correlation: 100.0<br>F1: 100.0<br>Log Loss: 0.0",
          "K-Nearest Neighbor<br>Performance: 83.28%<br>Model ID: 288<br>Accuracy: 69.62%<br>Precision: 69.8%<br>Recall: 69.62%<br>ROC AUC: 73.91<br>Geometric Mean: 100.0<br>Matthews Correlation: 100.0<br>F1: 100.0<br>Log Loss: 0.0",
          "K-Nearest Neighbor<br>Performance: 83.13%<br>Model ID: 96<br>Accuracy: 69.29%<br>Precision: 69.48%<br>Recall: 69.29%<br>ROC AUC: 73.84<br>Geometric Mean: 100.0<br>Matthews Correlation: 100.0<br>F1: 100.0<br>Log Loss: 0.0",
          "K-Nearest Neighbor<br>Performance: 83.13%<br>Model ID: 480<br>Accuracy: 69.29%<br>Precision: 69.48%<br>Recall: 69.29%<br>ROC AUC: 73.82<br>Geometric Mean: 100.0<br>Matthews Correlation: 100.0<br>F1: 100.0<br>Log Loss: 0.0",
          "K-Nearest Neighbor<br>Performance: 83.11%<br>Model ID: 458<br>Accuracy: 69.64%<br>Precision: 69.61%<br>Recall: 69.64%<br>ROC AUC: 72.85<br>Geometric Mean: 100.0<br>Matthews Correlation: 100.0<br>F1: 100.0<br>Log Loss: 0.0",
          "Support Vector Machine<br>Performance: 83.1%<br>Model ID: 694<br>Accuracy: 82.5%<br>Precision: 82.92%<br>Recall: 82.5%<br>ROC AUC: 89.98<br>Geometric Mean: 85.43<br>Matthews Correlation: 72.38<br>F1: 85.99<br>Log Loss: 0.62",
          "Support Vector Machine<br>Performance: 83.08%<br>Model ID: 650<br>Accuracy: 82.83%<br>Precision: 83.3%<br>Recall: 82.83%<br>ROC AUC: 90.14<br>Geometric Mean: 85.07<br>Matthews Correlation: 71.75<br>F1: 85.65<br>Log Loss: 0.71",
          "Support Vector Machine<br>Performance: 83.08%<br>Model ID: 646<br>Accuracy: 82.83%<br>Precision: 83.3%<br>Recall: 82.83%<br>ROC AUC: 90.15<br>Geometric Mean: 85.07<br>Matthews Correlation: 71.75<br>F1: 85.65<br>Log Loss: 0.69",
          "Support Vector Machine<br>Performance: 83.09%<br>Model ID: 642<br>Accuracy: 82.83%<br>Precision: 83.3%<br>Recall: 82.83%<br>ROC AUC: 90.19<br>Geometric Mean: 85.07<br>Matthews Correlation: 71.75<br>F1: 85.65<br>Log Loss: 0.68",
          "Support Vector Machine<br>Performance: 83.07%<br>Model ID: 654<br>Accuracy: 82.83%<br>Precision: 83.3%<br>Recall: 82.83%<br>ROC AUC: 90.09<br>Geometric Mean: 85.07<br>Matthews Correlation: 71.75<br>F1: 85.65<br>Log Loss: 0.69",
          "Gaussian Naive Bayes<br>Performance: 80.97%<br>Model ID: 737<br>Accuracy: 80.51%<br>Precision: 80.65%<br>Recall: 80.51%<br>ROC AUC: 89.18<br>Geometric Mean: 83.79<br>Matthews Correlation: 68.01<br>F1: 84.11<br>Log Loss: 100.0",
          "Gaussian Naive Bayes<br>Performance: 80.97%<br>Model ID: 1066<br>Accuracy: 80.51%<br>Precision: 80.65%<br>Recall: 80.51%<br>ROC AUC: 89.18<br>Geometric Mean: 83.79<br>Matthews Correlation: 68.01<br>F1: 84.11<br>Log Loss: 34.0",
          "Gaussian Naive Bayes<br>Performance: 80.97%<br>Model ID: 1079<br>Accuracy: 80.51%<br>Precision: 80.65%<br>Recall: 80.51%<br>ROC AUC: 89.18<br>Geometric Mean: 83.79<br>Matthews Correlation: 68.01<br>F1: 84.11<br>Log Loss: 31.4",
          "Gaussian Naive Bayes<br>Performance: 80.97%<br>Model ID: 1078<br>Accuracy: 80.51%<br>Precision: 80.65%<br>Recall: 80.51%<br>ROC AUC: 89.18<br>Geometric Mean: 83.79<br>Matthews Correlation: 68.01<br>F1: 84.11<br>Log Loss: 31.6",
          "Gaussian Naive Bayes<br>Performance: 80.97%<br>Model ID: 1077<br>Accuracy: 80.51%<br>Precision: 80.65%<br>Recall: 80.51%<br>ROC AUC: 89.18<br>Geometric Mean: 83.79<br>Matthews Correlation: 68.01<br>F1: 84.11<br>Log Loss: 31.8",
          "Multilayer Perceptron<br>Performance: 79.22%<br>Model ID: 1262<br>Accuracy: 79.85%<br>Precision: 79.92%<br>Recall: 79.85%<br>ROC AUC: 85.88<br>Geometric Mean: 81.86<br>Matthews Correlation: 64.8<br>F1: 82.36<br>Log Loss: 17.56",
          "Multilayer Perceptron<br>Performance: 79.22%<br>Model ID: 1263<br>Accuracy: 79.85%<br>Precision: 79.92%<br>Recall: 79.85%<br>ROC AUC: 85.88<br>Geometric Mean: 81.86<br>Matthews Correlation: 64.8<br>F1: 82.36<br>Log Loss: 17.56",
          "Multilayer Perceptron<br>Performance: 79.22%<br>Model ID: 1261<br>Accuracy: 79.85%<br>Precision: 79.92%<br>Recall: 79.85%<br>ROC AUC: 85.88<br>Geometric Mean: 81.86<br>Matthews Correlation: 64.8<br>F1: 82.36<br>Log Loss: 17.56",
          "Multilayer Perceptron<br>Performance: 79.09%<br>Model ID: 1249<br>Accuracy: 79.52%<br>Precision: 79.59%<br>Recall: 79.52%<br>ROC AUC: 85.97<br>Geometric Mean: 81.86<br>Matthews Correlation: 64.8<br>F1: 82.36<br>Log Loss: 17.17",
          "Multilayer Perceptron<br>Performance: 79.09%<br>Model ID: 1251<br>Accuracy: 79.52%<br>Precision: 79.59%<br>Recall: 79.52%<br>ROC AUC: 85.97<br>Geometric Mean: 81.86<br>Matthews Correlation: 64.8<br>F1: 82.36<br>Log Loss: 17.17",
          "Logistic Regression<br>Performance: 83.67%<br>Model ID: 1677<br>Accuracy: 84.14%<br>Precision: 84.66%<br>Recall: 84.14%<br>ROC AUC: 90.32<br>Geometric Mean: 85.13<br>Matthews Correlation: 71.65<br>F1: 85.67<br>Log Loss: 3.51",
          "Logistic Regression<br>Performance: 83.66%<br>Model ID: 1741<br>Accuracy: 84.46%<br>Precision: 84.98%<br>Recall: 84.46%<br>ROC AUC: 90.58<br>Geometric Mean: 84.83<br>Matthews Correlation: 70.93<br>F1: 85.35<br>Log Loss: 3.37",
          "Logistic Regression<br>Performance: 83.54%<br>Model ID: 1901<br>Accuracy: 83.8%<br>Precision: 84.26%<br>Recall: 83.8%<br>ROC AUC: 90.5<br>Geometric Mean: 85.13<br>Matthews Correlation: 71.65<br>F1: 85.67<br>Log Loss: 3.41",
          "Logistic Regression<br>Performance: 83.53%<br>Model ID: 1773<br>Accuracy: 84.14%<br>Precision: 84.64%<br>Recall: 84.14%<br>ROC AUC: 90.65<br>Geometric Mean: 84.77<br>Matthews Correlation: 71.02<br>F1: 85.33<br>Log Loss: 3.23",
          "Logistic Regression<br>Performance: 83.41%<br>Model ID: 1869<br>Accuracy: 83.48%<br>Precision: 83.92%<br>Recall: 83.48%<br>ROC AUC: 90.54<br>Geometric Mean: 85.07<br>Matthews Correlation: 71.75<br>F1: 85.65<br>Log Loss: 2.97",
          "Linear Discriminant Analysis<br>Performance: 82.31%<br>Model ID: 1997<br>Accuracy: 83.16%<br>Precision: 84.11%<br>Recall: 83.16%<br>ROC AUC: 89.99<br>Geometric Mean: 83.32<br>Matthews Correlation: 68.51<br>F1: 83.94<br>Log Loss: 0.0",
          "Linear Discriminant Analysis<br>Performance: 82.31%<br>Model ID: 1998<br>Accuracy: 83.16%<br>Precision: 84.11%<br>Recall: 83.16%<br>ROC AUC: 89.99<br>Geometric Mean: 83.32<br>Matthews Correlation: 68.51<br>F1: 83.94<br>Log Loss: 0.0",
          "Linear Discriminant Analysis<br>Performance: 73.45%<br>Model ID: 1999<br>Accuracy: 75.89%<br>Precision: 76.41%<br>Recall: 75.89%<br>ROC AUC: 82.6<br>Geometric Mean: 75.39<br>Matthews Correlation: 52.04<br>F1: 75.95<br>Log Loss: 31.9",
          "Linear Discriminant Analysis<br>Performance: 73.45%<br>Model ID: 2000<br>Accuracy: 75.89%<br>Precision: 76.41%<br>Recall: 75.89%<br>ROC AUC: 82.6<br>Geometric Mean: 75.39<br>Matthews Correlation: 52.04<br>F1: 75.95<br>Log Loss: 31.9",
          "Linear Discriminant Analysis<br>Performance: 71.08%<br>Model ID: 2001<br>Accuracy: 74.25%<br>Precision: 74.65%<br>Recall: 74.25%<br>ROC AUC: 79.07<br>Geometric Mean: 73.45<br>Matthews Correlation: 47.92<br>F1: 73.99<br>Log Loss: 41.85",
          "Quadratic Discriminant Analysis<br>Performance: 83.44%<br>Model ID: 2227<br>Accuracy: 81.49%<br>Precision: 81.79%<br>Recall: 81.49%<br>ROC AUC: 88.84<br>Geometric Mean: 87.24<br>Matthews Correlation: 75.55<br>F1: 87.7<br>Log Loss: 0.03",
          "Quadratic Discriminant Analysis<br>Performance: 83.44%<br>Model ID: 2231<br>Accuracy: 81.49%<br>Precision: 81.79%<br>Recall: 81.49%<br>ROC AUC: 88.84<br>Geometric Mean: 87.24<br>Matthews Correlation: 75.55<br>F1: 87.7<br>Log Loss: 0.03",
          "Quadratic Discriminant Analysis<br>Performance: 83.44%<br>Model ID: 2230<br>Accuracy: 81.49%<br>Precision: 81.79%<br>Recall: 81.49%<br>ROC AUC: 88.84<br>Geometric Mean: 87.24<br>Matthews Correlation: 75.55<br>F1: 87.7<br>Log Loss: 0.03",
          "Quadratic Discriminant Analysis<br>Performance: 83.44%<br>Model ID: 2229<br>Accuracy: 81.49%<br>Precision: 81.79%<br>Recall: 81.49%<br>ROC AUC: 88.84<br>Geometric Mean: 87.24<br>Matthews Correlation: 75.55<br>F1: 87.7<br>Log Loss: 0.03",
          "Quadratic Discriminant Analysis<br>Performance: 83.44%<br>Model ID: 2228<br>Accuracy: 81.49%<br>Precision: 81.79%<br>Recall: 81.49%<br>ROC AUC: 88.84<br>Geometric Mean: 87.24<br>Matthews Correlation: 75.55<br>F1: 87.7<br>Log Loss: 0.03",
          "Random Forest<br>Performance: 91.82%<br>Model ID: 2488<br>Accuracy: 84.13%<br>Precision: 84.34%<br>Recall: 84.13%<br>ROC AUC: 90.17<br>Geometric Mean: 100.0<br>Matthews Correlation: 100.0<br>F1: 100.0<br>Log Loss: 59.71",
          "Random Forest<br>Performance: 91.83%<br>Model ID: 2490<br>Accuracy: 84.13%<br>Precision: 84.31%<br>Recall: 84.13%<br>ROC AUC: 90.21<br>Geometric Mean: 100.0<br>Matthews Correlation: 100.0<br>F1: 100.0<br>Log Loss: 52.76",
          "Random Forest<br>Performance: 91.83%<br>Model ID: 2489<br>Accuracy: 84.13%<br>Precision: 84.34%<br>Recall: 84.13%<br>ROC AUC: 90.22<br>Geometric Mean: 100.0<br>Matthews Correlation: 100.0<br>F1: 100.0<br>Log Loss: 54.75",
          "Random Forest<br>Performance: 91.82%<br>Model ID: 2494<br>Accuracy: 84.13%<br>Precision: 84.38%<br>Recall: 84.13%<br>ROC AUC: 90.11<br>Geometric Mean: 100.0<br>Matthews Correlation: 100.0<br>F1: 100.0<br>Log Loss: 58.36",
          "Random Forest<br>Performance: 91.69%<br>Model ID: 2493<br>Accuracy: 83.8%<br>Precision: 84.02%<br>Recall: 83.8%<br>ROC AUC: 90.22<br>Geometric Mean: 100.0<br>Matthews Correlation: 100.0<br>F1: 100.0<br>Log Loss: 57.04",
          "Extra Trees<br>Performance: 92.27%<br>Model ID: 2667<br>Accuracy: 84.81%<br>Precision: 85.07%<br>Recall: 84.81%<br>ROC AUC: 91.22<br>Geometric Mean: 100.0<br>Matthews Correlation: 100.0<br>F1: 100.0<br>Log Loss: 0.0",
          "Extra Trees<br>Performance: 92.24%<br>Model ID: 2659<br>Accuracy: 84.8%<br>Precision: 84.98%<br>Recall: 84.8%<br>ROC AUC: 91.07<br>Geometric Mean: 100.0<br>Matthews Correlation: 100.0<br>F1: 100.0<br>Log Loss: 0.0",
          "Extra Trees<br>Performance: 92.24%<br>Model ID: 2660<br>Accuracy: 84.8%<br>Precision: 84.98%<br>Recall: 84.8%<br>ROC AUC: 91.07<br>Geometric Mean: 100.0<br>Matthews Correlation: 100.0<br>F1: 100.0<br>Log Loss: 0.0",
          "Extra Trees<br>Performance: 92.19%<br>Model ID: 2714<br>Accuracy: 84.48%<br>Precision: 84.59%<br>Recall: 84.48%<br>ROC AUC: 91.8<br>Geometric Mean: 100.0<br>Matthews Correlation: 100.0<br>F1: 100.0<br>Log Loss: 0.0",
          "Extra Trees<br>Performance: 92.19%<br>Model ID: 2715<br>Accuracy: 84.48%<br>Precision: 84.59%<br>Recall: 84.48%<br>ROC AUC: 91.76<br>Geometric Mean: 100.0<br>Matthews Correlation: 100.0<br>F1: 100.0<br>Log Loss: 0.0",
          "Adaptive Boosting<br>Performance: 85.49%<br>Model ID: 2808<br>Accuracy: 80.83%<br>Precision: 81.1%<br>Recall: 80.83%<br>ROC AUC: 87.46<br>Geometric Mean: 92.08<br>Matthews Correlation: 84.06<br>F1: 92.08<br>Log Loss: 91.04",
          "Adaptive Boosting<br>Performance: 85.37%<br>Model ID: 2845<br>Accuracy: 80.16%<br>Precision: 80.31%<br>Recall: 80.16%<br>ROC AUC: 83.52<br>Geometric Mean: 93.35<br>Matthews Correlation: 86.69<br>F1: 93.4<br>Log Loss: 99.49",
          "Adaptive Boosting<br>Performance: 85.29%<br>Model ID: 2811<br>Accuracy: 80.5%<br>Precision: 80.76%<br>Recall: 80.5%<br>ROC AUC: 86.95<br>Geometric Mean: 92.13<br>Matthews Correlation: 84.1<br>F1: 92.09<br>Log Loss: 92.25",
          "Adaptive Boosting<br>Performance: 85.19%<br>Model ID: 2812<br>Accuracy: 80.16%<br>Precision: 80.52%<br>Recall: 80.16%<br>ROC AUC: 87.19<br>Geometric Mean: 92.13<br>Matthews Correlation: 84.1<br>F1: 92.09<br>Log Loss: 92.14",
          "Adaptive Boosting<br>Performance: 85.18%<br>Model ID: 2809<br>Accuracy: 80.17%<br>Precision: 80.42%<br>Recall: 80.17%<br>ROC AUC: 87.3<br>Geometric Mean: 92.08<br>Matthews Correlation: 84.06<br>F1: 92.08<br>Log Loss: 91.13",
          "Gradient Boosting<br>Performance: 89.77%<br>Model ID: 3030<br>Accuracy: 80.83%<br>Precision: 81.59%<br>Recall: 80.83%<br>ROC AUC: 87.84<br>Geometric Mean: 99.28<br>Matthews Correlation: 98.68<br>F1: 99.34<br>Log Loss: 3.39",
          "Gradient Boosting<br>Performance: 89.76%<br>Model ID: 3029<br>Accuracy: 80.83%<br>Precision: 81.59%<br>Recall: 80.83%<br>ROC AUC: 87.8<br>Geometric Mean: 99.28<br>Matthews Correlation: 98.68<br>F1: 99.34<br>Log Loss: 3.61",
          "Gradient Boosting<br>Performance: 89.76%<br>Model ID: 2969<br>Accuracy: 80.83%<br>Precision: 81.59%<br>Recall: 80.83%<br>ROC AUC: 87.77<br>Geometric Mean: 99.28<br>Matthews Correlation: 98.68<br>F1: 99.34<br>Log Loss: 3.61",
          "Gradient Boosting<br>Performance: 89.77%<br>Model ID: 2970<br>Accuracy: 80.83%<br>Precision: 81.59%<br>Recall: 80.83%<br>ROC AUC: 87.82<br>Geometric Mean: 99.28<br>Matthews Correlation: 98.68<br>F1: 99.34<br>Log Loss: 3.39",
          "Gradient Boosting<br>Performance: 89.75%<br>Model ID: 3026<br>Accuracy: 80.83%<br>Precision: 81.45%<br>Recall: 80.83%<br>ROC AUC: 87.84<br>Geometric Mean: 99.28<br>Matthews Correlation: 98.68<br>F1: 99.34<br>Log Loss: 4.1",
          "K-Nearest Neighbor<br>Performance: 87.44%<br>Model ID: meta_1<br>Accuracy: 89.11%<br>Precision: 89.41%<br>Recall: 89.11%<br>ROC AUC: 88.58<br>Geometric Mean: 88.58<br>Matthews Correlation: 78.24<br>F1: 89.03<br>Log Loss: 376.17",
          "Support Vector Machine<br>Performance: 92.41%<br>Model ID: meta_2<br>Accuracy: 93.4%<br>Precision: 93.4%<br>Recall: 93.4%<br>ROC AUC: 93.29<br>Geometric Mean: 93.29<br>Matthews Correlation: 86.68<br>F1: 93.4<br>Log Loss: 227.98",
          "Gaussian Naive Bayes<br>Performance: 93.21%<br>Model ID: meta_3<br>Accuracy: 94.06%<br>Precision: 94.07%<br>Recall: 94.06%<br>ROC AUC: 94.07<br>Geometric Mean: 94.07<br>Matthews Correlation: 88.05<br>F1: 94.06<br>Log Loss: 205.18",
          "Multilayer Perceptron<br>Performance: 100.0%<br>Model ID: meta_4<br>Accuracy: 100.0%<br>Precision: 100.0%<br>Recall: 100.0%<br>ROC AUC: 100.0<br>Geometric Mean: 100.0<br>Matthews Correlation: 100.0<br>F1: 100.0<br>Log Loss: 0.0",
          "Logistic Regression<br>Performance: 100.0%<br>Model ID: meta_5<br>Accuracy: 100.0%<br>Precision: 100.0%<br>Recall: 100.0%<br>ROC AUC: 100.0<br>Geometric Mean: 100.0<br>Matthews Correlation: 100.0<br>F1: 100.0<br>Log Loss: 0.0",
          "Linear Discriminant Analysis<br>Performance: 98.85%<br>Model ID: meta_6<br>Accuracy: 99.01%<br>Precision: 99.01%<br>Recall: 99.01%<br>ROC AUC: 98.97<br>Geometric Mean: 98.97<br>Matthews Correlation: 98.0<br>F1: 99.01<br>Log Loss: 34.2",
          "Quadratic Discriminant Analysis<br>Performance: 91.25%<br>Model ID: meta_7<br>Accuracy: 92.41%<br>Precision: 92.43%<br>Recall: 92.41%<br>ROC AUC: 92.2<br>Geometric Mean: 92.2<br>Matthews Correlation: 84.7<br>F1: 92.4<br>Log Loss: 262.18",
          "Random Forest<br>Performance: 90.91%<br>Model ID: meta_8<br>Accuracy: 92.08%<br>Precision: 92.08%<br>Recall: 92.08%<br>ROC AUC: 92.02<br>Geometric Mean: 92.02<br>Matthews Correlation: 84.03<br>F1: 92.08<br>Log Loss: 273.58",
          "Extra Trees<br>Performance: 96.33%<br>Model ID: meta_9<br>Accuracy: 96.7%<br>Precision: 96.85%<br>Recall: 96.7%<br>ROC AUC: 96.91<br>Geometric Mean: 96.91<br>Matthews Correlation: 93.51<br>F1: 96.71<br>Log Loss: 113.99",
          "Adaptive Boosting<br>Performance: 93.03%<br>Model ID: meta_10<br>Accuracy: 93.73%<br>Precision: 94.1%<br>Recall: 93.73%<br>ROC AUC: 94.06<br>Geometric Mean: 94.06<br>Matthews Correlation: 87.78<br>F1: 93.74<br>Log Loss: 216.58",
          "Gradient Boosting<br>Performance: 93.55%<br>Model ID: meta_11<br>Accuracy: 94.39%<br>Precision: 94.39%<br>Recall: 94.39%<br>ROC AUC: 94.31<br>Geometric Mean: 94.31<br>Matthews Correlation: 88.68<br>F1: 94.39<br>Log Loss: 193.78"
         ],
         "marker": {
          "color": [
           83.35,
           83.28,
           83.13,
           83.13,
           83.11,
           83.1,
           83.08,
           83.08,
           83.09,
           83.07,
           80.97,
           80.97,
           80.97,
           80.97,
           80.97,
           79.22,
           79.22,
           79.22,
           79.09,
           79.09,
           83.67,
           83.66,
           83.54,
           83.53,
           83.41,
           82.31,
           82.31,
           73.45,
           73.45,
           71.08,
           83.44,
           83.44,
           83.44,
           83.44,
           83.44,
           91.82,
           91.83,
           91.83,
           91.82,
           91.69,
           92.27,
           92.24,
           92.24,
           92.19,
           92.19,
           85.49,
           85.37,
           85.29,
           85.19,
           85.18,
           89.77,
           89.76,
           89.76,
           89.77,
           89.75,
           87.44,
           92.41,
           93.21,
           100,
           100,
           98.85,
           91.25,
           90.91,
           96.33,
           93.03,
           93.55
          ],
          "coloraxis": "coloraxis",
          "line": {
           "color": "Black",
           "width": 1
          },
          "opacity": 0.8,
          "size": [
           20,
           20,
           20,
           20,
           20,
           20,
           20,
           20,
           20,
           20,
           20,
           20,
           20,
           20,
           20,
           20,
           20,
           20,
           20,
           20,
           20,
           20,
           20,
           20,
           20,
           20,
           20,
           20,
           20,
           20,
           20,
           20,
           20,
           20,
           20,
           20,
           20,
           20,
           20,
           20,
           20,
           20,
           20,
           20,
           20,
           20,
           20,
           20,
           20,
           20,
           20,
           20,
           20,
           20,
           20,
           40,
           40,
           40,
           40,
           40,
           40,
           40,
           40,
           40,
           40,
           40
          ],
          "symbol": [
           "circle",
           "circle",
           "circle",
           "circle",
           "circle",
           "square",
           "square",
           "square",
           "square",
           "square",
           "x",
           "x",
           "x",
           "x",
           "x",
           "cross",
           "cross",
           "cross",
           "cross",
           "cross",
           "diamond",
           "diamond",
           "diamond",
           "diamond",
           "diamond",
           "star",
           "star",
           "star",
           "star",
           "star",
           "hexagram",
           "hexagram",
           "hexagram",
           "hexagram",
           "hexagram",
           "triangle-right",
           "triangle-right",
           "triangle-right",
           "triangle-right",
           "triangle-right",
           "triangle-left",
           "triangle-left",
           "triangle-left",
           "triangle-left",
           "triangle-left",
           "triangle-down",
           "triangle-down",
           "triangle-down",
           "triangle-down",
           "triangle-down",
           "triangle-up",
           "triangle-up",
           "triangle-up",
           "triangle-up",
           "triangle-up",
           "circle",
           "square",
           "x",
           "cross",
           "diamond",
           "star",
           "hexagram",
           "triangle-right",
           "triangle-left",
           "triangle-down",
           "triangle-up"
          ]
         },
         "mode": "markers",
         "type": "scatter",
         "x": [
          14.8958740234375,
          15.634175300598145,
          15.966873168945312,
          15.668827056884766,
          15.052210807800293,
          3.466573476791382,
          4.097534656524658,
          3.983130931854248,
          4.314529895782471,
          3.673321008682251,
          7.068613529205322,
          6.701953411102295,
          7.400263786315918,
          7.013558387756348,
          7.3475728034973145,
          0.02040424570441246,
          -0.5411940813064575,
          -0.12050561606884003,
          0.30907586216926575,
          0.41222310066223145,
          4.818238258361816,
          4.814632415771484,
          3.8133907318115234,
          4.277242183685303,
          3.946781873703003,
          4.342858791351318,
          3.9946370124816895,
          -5.099583625793457,
          -5.569711208343506,
          -5.262468338012695,
          -33.55254364013672,
          -34.18049240112305,
          -33.50237274169922,
          -33.97630310058594,
          -33.879695892333984,
          -12.177403450012207,
          -12.496513366699219,
          -11.906027793884277,
          -12.729583740234375,
          -13.025632858276367,
          -7.954378604888916,
          -8.29595947265625,
          -8.137078285217285,
          -7.854235649108887,
          -7.592128753662109,
          9.76466178894043,
          10.943167686462402,
          10.375533103942871,
          10.673523902893066,
          10.176977157592773,
          -3.2382423877716064,
          -2.772259473800659,
          -3.6307806968688965,
          -3.4729785919189453,
          -2.87789249420166,
          16.909101486206055,
          17.419803619384766,
          16.202564239501953,
          -12.406198501586914,
          -12.695892333984375,
          -12.947556495666504,
          16.203168869018555,
          16.937183380126953,
          17.42453956604004,
          11.032085418701172,
          17.149383544921875
         ],
         "xaxis": "x",
         "y": [
          6.0887651443481445,
          5.503381252288818,
          5.111605167388916,
          4.934914588928223,
          5.968411445617676,
          14.3646821975708,
          14.995759010314941,
          14.881220817565918,
          15.212352752685547,
          14.571624755859375,
          -2.5354413986206055,
          -2.0917282104492188,
          -1.3591023683547974,
          -1.4620603322982788,
          -1.9737685918807983,
          -17.427955627441406,
          -17.17548370361328,
          -16.840587615966797,
          -17.71991729736328,
          -17.808393478393555,
          2.193805456161499,
          2.7390754222869873,
          2.9470975399017334,
          2.5710160732269287,
          3.3179502487182617,
          3.5542547702789307,
          3.8398635387420654,
          -11.080284118652344,
          -11.549695014953613,
          -11.24269962310791,
          0.5279543995857239,
          -0.11191590875387192,
          0.5699805617332458,
          0.0983848124742508,
          0.19449199736118317,
          6.2958550453186035,
          6.125243186950684,
          5.8820624351501465,
          5.376946926116943,
          5.71986198425293,
          4.206150054931641,
          3.766619920730591,
          3.577587604522705,
          4.7195844650268555,
          4.95896053314209,
          1.4523645639419556,
          0.47449880838394165,
          1.100461721420288,
          1.041045904159546,
          1.7718379497528076,
          5.670706748962402,
          5.168747425079346,
          6.038626670837402,
          5.892739295959473,
          5.283941745758057,
          -5.426827430725098,
          -4.87819242477417,
          -4.8373260498046875,
          -1.5676699876785278,
          -1.857245922088623,
          -2.108792543411255,
          -5.335221290588379,
          -5.049989700317383,
          -5.554538726806641,
          1.197854995727539,
          -4.506576061248779
         ],
         "yaxis": "y"
        },
        {
         "hovertext": [
          "K-Nearest Neighbor<br>Performance: 83.35%<br>Model ID: 452<br>Accuracy: 70.31%<br>Precision: 70.36%<br>Recall: 70.31%<br>ROC AUC: 72.5<br>Geometric Mean: 100.0<br>Matthews Correlation: 100.0<br>F1: 100.0<br>Log Loss: 0.0",
          "K-Nearest Neighbor<br>Performance: 83.28%<br>Model ID: 288<br>Accuracy: 69.62%<br>Precision: 69.8%<br>Recall: 69.62%<br>ROC AUC: 73.91<br>Geometric Mean: 100.0<br>Matthews Correlation: 100.0<br>F1: 100.0<br>Log Loss: 0.0",
          "K-Nearest Neighbor<br>Performance: 83.13%<br>Model ID: 96<br>Accuracy: 69.29%<br>Precision: 69.48%<br>Recall: 69.29%<br>ROC AUC: 73.84<br>Geometric Mean: 100.0<br>Matthews Correlation: 100.0<br>F1: 100.0<br>Log Loss: 0.0",
          "K-Nearest Neighbor<br>Performance: 83.13%<br>Model ID: 480<br>Accuracy: 69.29%<br>Precision: 69.48%<br>Recall: 69.29%<br>ROC AUC: 73.82<br>Geometric Mean: 100.0<br>Matthews Correlation: 100.0<br>F1: 100.0<br>Log Loss: 0.0",
          "K-Nearest Neighbor<br>Performance: 83.11%<br>Model ID: 458<br>Accuracy: 69.64%<br>Precision: 69.61%<br>Recall: 69.64%<br>ROC AUC: 72.85<br>Geometric Mean: 100.0<br>Matthews Correlation: 100.0<br>F1: 100.0<br>Log Loss: 0.0",
          "Support Vector Machine<br>Performance: 83.1%<br>Model ID: 694<br>Accuracy: 82.5%<br>Precision: 82.92%<br>Recall: 82.5%<br>ROC AUC: 89.98<br>Geometric Mean: 85.43<br>Matthews Correlation: 72.38<br>F1: 85.99<br>Log Loss: 0.62",
          "Support Vector Machine<br>Performance: 83.08%<br>Model ID: 650<br>Accuracy: 82.83%<br>Precision: 83.3%<br>Recall: 82.83%<br>ROC AUC: 90.14<br>Geometric Mean: 85.07<br>Matthews Correlation: 71.75<br>F1: 85.65<br>Log Loss: 0.71",
          "Support Vector Machine<br>Performance: 83.08%<br>Model ID: 646<br>Accuracy: 82.83%<br>Precision: 83.3%<br>Recall: 82.83%<br>ROC AUC: 90.15<br>Geometric Mean: 85.07<br>Matthews Correlation: 71.75<br>F1: 85.65<br>Log Loss: 0.69",
          "Support Vector Machine<br>Performance: 83.09%<br>Model ID: 642<br>Accuracy: 82.83%<br>Precision: 83.3%<br>Recall: 82.83%<br>ROC AUC: 90.19<br>Geometric Mean: 85.07<br>Matthews Correlation: 71.75<br>F1: 85.65<br>Log Loss: 0.68",
          "Support Vector Machine<br>Performance: 83.07%<br>Model ID: 654<br>Accuracy: 82.83%<br>Precision: 83.3%<br>Recall: 82.83%<br>ROC AUC: 90.09<br>Geometric Mean: 85.07<br>Matthews Correlation: 71.75<br>F1: 85.65<br>Log Loss: 0.69",
          "Gaussian Naive Bayes<br>Performance: 80.97%<br>Model ID: 737<br>Accuracy: 80.51%<br>Precision: 80.65%<br>Recall: 80.51%<br>ROC AUC: 89.18<br>Geometric Mean: 83.79<br>Matthews Correlation: 68.01<br>F1: 84.11<br>Log Loss: 100.0",
          "Gaussian Naive Bayes<br>Performance: 80.97%<br>Model ID: 1066<br>Accuracy: 80.51%<br>Precision: 80.65%<br>Recall: 80.51%<br>ROC AUC: 89.18<br>Geometric Mean: 83.79<br>Matthews Correlation: 68.01<br>F1: 84.11<br>Log Loss: 34.0",
          "Gaussian Naive Bayes<br>Performance: 80.97%<br>Model ID: 1079<br>Accuracy: 80.51%<br>Precision: 80.65%<br>Recall: 80.51%<br>ROC AUC: 89.18<br>Geometric Mean: 83.79<br>Matthews Correlation: 68.01<br>F1: 84.11<br>Log Loss: 31.4",
          "Gaussian Naive Bayes<br>Performance: 80.97%<br>Model ID: 1078<br>Accuracy: 80.51%<br>Precision: 80.65%<br>Recall: 80.51%<br>ROC AUC: 89.18<br>Geometric Mean: 83.79<br>Matthews Correlation: 68.01<br>F1: 84.11<br>Log Loss: 31.6",
          "Gaussian Naive Bayes<br>Performance: 80.97%<br>Model ID: 1077<br>Accuracy: 80.51%<br>Precision: 80.65%<br>Recall: 80.51%<br>ROC AUC: 89.18<br>Geometric Mean: 83.79<br>Matthews Correlation: 68.01<br>F1: 84.11<br>Log Loss: 31.8",
          "Multilayer Perceptron<br>Performance: 79.22%<br>Model ID: 1262<br>Accuracy: 79.85%<br>Precision: 79.92%<br>Recall: 79.85%<br>ROC AUC: 85.88<br>Geometric Mean: 81.86<br>Matthews Correlation: 64.8<br>F1: 82.36<br>Log Loss: 17.56",
          "Multilayer Perceptron<br>Performance: 79.22%<br>Model ID: 1263<br>Accuracy: 79.85%<br>Precision: 79.92%<br>Recall: 79.85%<br>ROC AUC: 85.88<br>Geometric Mean: 81.86<br>Matthews Correlation: 64.8<br>F1: 82.36<br>Log Loss: 17.56",
          "Multilayer Perceptron<br>Performance: 79.22%<br>Model ID: 1261<br>Accuracy: 79.85%<br>Precision: 79.92%<br>Recall: 79.85%<br>ROC AUC: 85.88<br>Geometric Mean: 81.86<br>Matthews Correlation: 64.8<br>F1: 82.36<br>Log Loss: 17.56",
          "Multilayer Perceptron<br>Performance: 79.09%<br>Model ID: 1249<br>Accuracy: 79.52%<br>Precision: 79.59%<br>Recall: 79.52%<br>ROC AUC: 85.97<br>Geometric Mean: 81.86<br>Matthews Correlation: 64.8<br>F1: 82.36<br>Log Loss: 17.17",
          "Multilayer Perceptron<br>Performance: 79.09%<br>Model ID: 1251<br>Accuracy: 79.52%<br>Precision: 79.59%<br>Recall: 79.52%<br>ROC AUC: 85.97<br>Geometric Mean: 81.86<br>Matthews Correlation: 64.8<br>F1: 82.36<br>Log Loss: 17.17",
          "Logistic Regression<br>Performance: 83.67%<br>Model ID: 1677<br>Accuracy: 84.14%<br>Precision: 84.66%<br>Recall: 84.14%<br>ROC AUC: 90.32<br>Geometric Mean: 85.13<br>Matthews Correlation: 71.65<br>F1: 85.67<br>Log Loss: 3.51",
          "Logistic Regression<br>Performance: 83.66%<br>Model ID: 1741<br>Accuracy: 84.46%<br>Precision: 84.98%<br>Recall: 84.46%<br>ROC AUC: 90.58<br>Geometric Mean: 84.83<br>Matthews Correlation: 70.93<br>F1: 85.35<br>Log Loss: 3.37",
          "Logistic Regression<br>Performance: 83.54%<br>Model ID: 1901<br>Accuracy: 83.8%<br>Precision: 84.26%<br>Recall: 83.8%<br>ROC AUC: 90.5<br>Geometric Mean: 85.13<br>Matthews Correlation: 71.65<br>F1: 85.67<br>Log Loss: 3.41",
          "Logistic Regression<br>Performance: 83.53%<br>Model ID: 1773<br>Accuracy: 84.14%<br>Precision: 84.64%<br>Recall: 84.14%<br>ROC AUC: 90.65<br>Geometric Mean: 84.77<br>Matthews Correlation: 71.02<br>F1: 85.33<br>Log Loss: 3.23",
          "Logistic Regression<br>Performance: 83.41%<br>Model ID: 1869<br>Accuracy: 83.48%<br>Precision: 83.92%<br>Recall: 83.48%<br>ROC AUC: 90.54<br>Geometric Mean: 85.07<br>Matthews Correlation: 71.75<br>F1: 85.65<br>Log Loss: 2.97",
          "Linear Discriminant Analysis<br>Performance: 82.31%<br>Model ID: 1997<br>Accuracy: 83.16%<br>Precision: 84.11%<br>Recall: 83.16%<br>ROC AUC: 89.99<br>Geometric Mean: 83.32<br>Matthews Correlation: 68.51<br>F1: 83.94<br>Log Loss: 0.0",
          "Linear Discriminant Analysis<br>Performance: 82.31%<br>Model ID: 1998<br>Accuracy: 83.16%<br>Precision: 84.11%<br>Recall: 83.16%<br>ROC AUC: 89.99<br>Geometric Mean: 83.32<br>Matthews Correlation: 68.51<br>F1: 83.94<br>Log Loss: 0.0",
          "Linear Discriminant Analysis<br>Performance: 73.45%<br>Model ID: 1999<br>Accuracy: 75.89%<br>Precision: 76.41%<br>Recall: 75.89%<br>ROC AUC: 82.6<br>Geometric Mean: 75.39<br>Matthews Correlation: 52.04<br>F1: 75.95<br>Log Loss: 31.9",
          "Linear Discriminant Analysis<br>Performance: 73.45%<br>Model ID: 2000<br>Accuracy: 75.89%<br>Precision: 76.41%<br>Recall: 75.89%<br>ROC AUC: 82.6<br>Geometric Mean: 75.39<br>Matthews Correlation: 52.04<br>F1: 75.95<br>Log Loss: 31.9",
          "Linear Discriminant Analysis<br>Performance: 71.08%<br>Model ID: 2001<br>Accuracy: 74.25%<br>Precision: 74.65%<br>Recall: 74.25%<br>ROC AUC: 79.07<br>Geometric Mean: 73.45<br>Matthews Correlation: 47.92<br>F1: 73.99<br>Log Loss: 41.85",
          "Quadratic Discriminant Analysis<br>Performance: 83.44%<br>Model ID: 2227<br>Accuracy: 81.49%<br>Precision: 81.79%<br>Recall: 81.49%<br>ROC AUC: 88.84<br>Geometric Mean: 87.24<br>Matthews Correlation: 75.55<br>F1: 87.7<br>Log Loss: 0.03",
          "Quadratic Discriminant Analysis<br>Performance: 83.44%<br>Model ID: 2231<br>Accuracy: 81.49%<br>Precision: 81.79%<br>Recall: 81.49%<br>ROC AUC: 88.84<br>Geometric Mean: 87.24<br>Matthews Correlation: 75.55<br>F1: 87.7<br>Log Loss: 0.03",
          "Quadratic Discriminant Analysis<br>Performance: 83.44%<br>Model ID: 2230<br>Accuracy: 81.49%<br>Precision: 81.79%<br>Recall: 81.49%<br>ROC AUC: 88.84<br>Geometric Mean: 87.24<br>Matthews Correlation: 75.55<br>F1: 87.7<br>Log Loss: 0.03",
          "Quadratic Discriminant Analysis<br>Performance: 83.44%<br>Model ID: 2229<br>Accuracy: 81.49%<br>Precision: 81.79%<br>Recall: 81.49%<br>ROC AUC: 88.84<br>Geometric Mean: 87.24<br>Matthews Correlation: 75.55<br>F1: 87.7<br>Log Loss: 0.03",
          "Quadratic Discriminant Analysis<br>Performance: 83.44%<br>Model ID: 2228<br>Accuracy: 81.49%<br>Precision: 81.79%<br>Recall: 81.49%<br>ROC AUC: 88.84<br>Geometric Mean: 87.24<br>Matthews Correlation: 75.55<br>F1: 87.7<br>Log Loss: 0.03",
          "Random Forest<br>Performance: 91.82%<br>Model ID: 2488<br>Accuracy: 84.13%<br>Precision: 84.34%<br>Recall: 84.13%<br>ROC AUC: 90.17<br>Geometric Mean: 100.0<br>Matthews Correlation: 100.0<br>F1: 100.0<br>Log Loss: 59.71",
          "Random Forest<br>Performance: 91.83%<br>Model ID: 2490<br>Accuracy: 84.13%<br>Precision: 84.31%<br>Recall: 84.13%<br>ROC AUC: 90.21<br>Geometric Mean: 100.0<br>Matthews Correlation: 100.0<br>F1: 100.0<br>Log Loss: 52.76",
          "Random Forest<br>Performance: 91.83%<br>Model ID: 2489<br>Accuracy: 84.13%<br>Precision: 84.34%<br>Recall: 84.13%<br>ROC AUC: 90.22<br>Geometric Mean: 100.0<br>Matthews Correlation: 100.0<br>F1: 100.0<br>Log Loss: 54.75",
          "Random Forest<br>Performance: 91.82%<br>Model ID: 2494<br>Accuracy: 84.13%<br>Precision: 84.38%<br>Recall: 84.13%<br>ROC AUC: 90.11<br>Geometric Mean: 100.0<br>Matthews Correlation: 100.0<br>F1: 100.0<br>Log Loss: 58.36",
          "Random Forest<br>Performance: 91.69%<br>Model ID: 2493<br>Accuracy: 83.8%<br>Precision: 84.02%<br>Recall: 83.8%<br>ROC AUC: 90.22<br>Geometric Mean: 100.0<br>Matthews Correlation: 100.0<br>F1: 100.0<br>Log Loss: 57.04",
          "Extra Trees<br>Performance: 92.27%<br>Model ID: 2667<br>Accuracy: 84.81%<br>Precision: 85.07%<br>Recall: 84.81%<br>ROC AUC: 91.22<br>Geometric Mean: 100.0<br>Matthews Correlation: 100.0<br>F1: 100.0<br>Log Loss: 0.0",
          "Extra Trees<br>Performance: 92.24%<br>Model ID: 2659<br>Accuracy: 84.8%<br>Precision: 84.98%<br>Recall: 84.8%<br>ROC AUC: 91.07<br>Geometric Mean: 100.0<br>Matthews Correlation: 100.0<br>F1: 100.0<br>Log Loss: 0.0",
          "Extra Trees<br>Performance: 92.24%<br>Model ID: 2660<br>Accuracy: 84.8%<br>Precision: 84.98%<br>Recall: 84.8%<br>ROC AUC: 91.07<br>Geometric Mean: 100.0<br>Matthews Correlation: 100.0<br>F1: 100.0<br>Log Loss: 0.0",
          "Extra Trees<br>Performance: 92.19%<br>Model ID: 2714<br>Accuracy: 84.48%<br>Precision: 84.59%<br>Recall: 84.48%<br>ROC AUC: 91.8<br>Geometric Mean: 100.0<br>Matthews Correlation: 100.0<br>F1: 100.0<br>Log Loss: 0.0",
          "Extra Trees<br>Performance: 92.19%<br>Model ID: 2715<br>Accuracy: 84.48%<br>Precision: 84.59%<br>Recall: 84.48%<br>ROC AUC: 91.76<br>Geometric Mean: 100.0<br>Matthews Correlation: 100.0<br>F1: 100.0<br>Log Loss: 0.0",
          "Adaptive Boosting<br>Performance: 85.49%<br>Model ID: 2808<br>Accuracy: 80.83%<br>Precision: 81.1%<br>Recall: 80.83%<br>ROC AUC: 87.46<br>Geometric Mean: 92.08<br>Matthews Correlation: 84.06<br>F1: 92.08<br>Log Loss: 91.04",
          "Adaptive Boosting<br>Performance: 85.37%<br>Model ID: 2845<br>Accuracy: 80.16%<br>Precision: 80.31%<br>Recall: 80.16%<br>ROC AUC: 83.52<br>Geometric Mean: 93.35<br>Matthews Correlation: 86.69<br>F1: 93.4<br>Log Loss: 99.49",
          "Adaptive Boosting<br>Performance: 85.29%<br>Model ID: 2811<br>Accuracy: 80.5%<br>Precision: 80.76%<br>Recall: 80.5%<br>ROC AUC: 86.95<br>Geometric Mean: 92.13<br>Matthews Correlation: 84.1<br>F1: 92.09<br>Log Loss: 92.25",
          "Adaptive Boosting<br>Performance: 85.19%<br>Model ID: 2812<br>Accuracy: 80.16%<br>Precision: 80.52%<br>Recall: 80.16%<br>ROC AUC: 87.19<br>Geometric Mean: 92.13<br>Matthews Correlation: 84.1<br>F1: 92.09<br>Log Loss: 92.14",
          "Adaptive Boosting<br>Performance: 85.18%<br>Model ID: 2809<br>Accuracy: 80.17%<br>Precision: 80.42%<br>Recall: 80.17%<br>ROC AUC: 87.3<br>Geometric Mean: 92.08<br>Matthews Correlation: 84.06<br>F1: 92.08<br>Log Loss: 91.13",
          "Gradient Boosting<br>Performance: 89.77%<br>Model ID: 3030<br>Accuracy: 80.83%<br>Precision: 81.59%<br>Recall: 80.83%<br>ROC AUC: 87.84<br>Geometric Mean: 99.28<br>Matthews Correlation: 98.68<br>F1: 99.34<br>Log Loss: 3.39",
          "Gradient Boosting<br>Performance: 89.76%<br>Model ID: 3029<br>Accuracy: 80.83%<br>Precision: 81.59%<br>Recall: 80.83%<br>ROC AUC: 87.8<br>Geometric Mean: 99.28<br>Matthews Correlation: 98.68<br>F1: 99.34<br>Log Loss: 3.61",
          "Gradient Boosting<br>Performance: 89.76%<br>Model ID: 2969<br>Accuracy: 80.83%<br>Precision: 81.59%<br>Recall: 80.83%<br>ROC AUC: 87.77<br>Geometric Mean: 99.28<br>Matthews Correlation: 98.68<br>F1: 99.34<br>Log Loss: 3.61",
          "Gradient Boosting<br>Performance: 89.77%<br>Model ID: 2970<br>Accuracy: 80.83%<br>Precision: 81.59%<br>Recall: 80.83%<br>ROC AUC: 87.82<br>Geometric Mean: 99.28<br>Matthews Correlation: 98.68<br>F1: 99.34<br>Log Loss: 3.39",
          "Gradient Boosting<br>Performance: 89.75%<br>Model ID: 3026<br>Accuracy: 80.83%<br>Precision: 81.45%<br>Recall: 80.83%<br>ROC AUC: 87.84<br>Geometric Mean: 99.28<br>Matthews Correlation: 98.68<br>F1: 99.34<br>Log Loss: 4.1",
          "K-Nearest Neighbor<br>Performance: 87.44%<br>Model ID: meta_1<br>Accuracy: 89.11%<br>Precision: 89.41%<br>Recall: 89.11%<br>ROC AUC: 88.58<br>Geometric Mean: 88.58<br>Matthews Correlation: 78.24<br>F1: 89.03<br>Log Loss: 376.17",
          "Support Vector Machine<br>Performance: 92.41%<br>Model ID: meta_2<br>Accuracy: 93.4%<br>Precision: 93.4%<br>Recall: 93.4%<br>ROC AUC: 93.29<br>Geometric Mean: 93.29<br>Matthews Correlation: 86.68<br>F1: 93.4<br>Log Loss: 227.98",
          "Gaussian Naive Bayes<br>Performance: 93.21%<br>Model ID: meta_3<br>Accuracy: 94.06%<br>Precision: 94.07%<br>Recall: 94.06%<br>ROC AUC: 94.07<br>Geometric Mean: 94.07<br>Matthews Correlation: 88.05<br>F1: 94.06<br>Log Loss: 205.18",
          "Multilayer Perceptron<br>Performance: 100.0%<br>Model ID: meta_4<br>Accuracy: 100.0%<br>Precision: 100.0%<br>Recall: 100.0%<br>ROC AUC: 100.0<br>Geometric Mean: 100.0<br>Matthews Correlation: 100.0<br>F1: 100.0<br>Log Loss: 0.0",
          "Logistic Regression<br>Performance: 100.0%<br>Model ID: meta_5<br>Accuracy: 100.0%<br>Precision: 100.0%<br>Recall: 100.0%<br>ROC AUC: 100.0<br>Geometric Mean: 100.0<br>Matthews Correlation: 100.0<br>F1: 100.0<br>Log Loss: 0.0",
          "Linear Discriminant Analysis<br>Performance: 98.85%<br>Model ID: meta_6<br>Accuracy: 99.01%<br>Precision: 99.01%<br>Recall: 99.01%<br>ROC AUC: 98.97<br>Geometric Mean: 98.97<br>Matthews Correlation: 98.0<br>F1: 99.01<br>Log Loss: 34.2",
          "Quadratic Discriminant Analysis<br>Performance: 91.25%<br>Model ID: meta_7<br>Accuracy: 92.41%<br>Precision: 92.43%<br>Recall: 92.41%<br>ROC AUC: 92.2<br>Geometric Mean: 92.2<br>Matthews Correlation: 84.7<br>F1: 92.4<br>Log Loss: 262.18",
          "Random Forest<br>Performance: 90.91%<br>Model ID: meta_8<br>Accuracy: 92.08%<br>Precision: 92.08%<br>Recall: 92.08%<br>ROC AUC: 92.02<br>Geometric Mean: 92.02<br>Matthews Correlation: 84.03<br>F1: 92.08<br>Log Loss: 273.58",
          "Extra Trees<br>Performance: 96.33%<br>Model ID: meta_9<br>Accuracy: 96.7%<br>Precision: 96.85%<br>Recall: 96.7%<br>ROC AUC: 96.91<br>Geometric Mean: 96.91<br>Matthews Correlation: 93.51<br>F1: 96.71<br>Log Loss: 113.99",
          "Adaptive Boosting<br>Performance: 93.03%<br>Model ID: meta_10<br>Accuracy: 93.73%<br>Precision: 94.1%<br>Recall: 93.73%<br>ROC AUC: 94.06<br>Geometric Mean: 94.06<br>Matthews Correlation: 87.78<br>F1: 93.74<br>Log Loss: 216.58",
          "Gradient Boosting<br>Performance: 93.55%<br>Model ID: meta_11<br>Accuracy: 94.39%<br>Precision: 94.39%<br>Recall: 94.39%<br>ROC AUC: 94.31<br>Geometric Mean: 94.31<br>Matthews Correlation: 88.68<br>F1: 94.39<br>Log Loss: 193.78"
         ],
         "marker": {
          "color": [
           83.35,
           83.28,
           83.13,
           83.13,
           83.11,
           83.1,
           83.08,
           83.08,
           83.09,
           83.07,
           80.97,
           80.97,
           80.97,
           80.97,
           80.97,
           79.22,
           79.22,
           79.22,
           79.09,
           79.09,
           83.67,
           83.66,
           83.54,
           83.53,
           83.41,
           82.31,
           82.31,
           73.45,
           73.45,
           71.08,
           83.44,
           83.44,
           83.44,
           83.44,
           83.44,
           91.82,
           91.83,
           91.83,
           91.82,
           91.69,
           92.27,
           92.24,
           92.24,
           92.19,
           92.19,
           85.49,
           85.37,
           85.29,
           85.19,
           85.18,
           89.77,
           89.76,
           89.76,
           89.77,
           89.75,
           87.44,
           92.41,
           93.21,
           100,
           100,
           98.85,
           91.25,
           90.91,
           96.33,
           93.03,
           93.55
          ],
          "coloraxis": "coloraxis",
          "line": {
           "color": "Black",
           "width": 1
          },
          "opacity": 0.8,
          "size": [
           20,
           20,
           20,
           20,
           20,
           20,
           20,
           20,
           20,
           20,
           20,
           20,
           20,
           20,
           20,
           20,
           20,
           20,
           20,
           20,
           20,
           20,
           20,
           20,
           20,
           20,
           20,
           20,
           20,
           20,
           20,
           20,
           20,
           20,
           20,
           20,
           20,
           20,
           20,
           20,
           20,
           20,
           20,
           20,
           20,
           20,
           20,
           20,
           20,
           20,
           20,
           20,
           20,
           20,
           20,
           40,
           40,
           40,
           40,
           40,
           40,
           40,
           40,
           40,
           40,
           40
          ],
          "symbol": [
           "circle",
           "circle",
           "circle",
           "circle",
           "circle",
           "square",
           "square",
           "square",
           "square",
           "square",
           "x",
           "x",
           "x",
           "x",
           "x",
           "cross",
           "cross",
           "cross",
           "cross",
           "cross",
           "diamond",
           "diamond",
           "diamond",
           "diamond",
           "diamond",
           "star",
           "star",
           "star",
           "star",
           "star",
           "hexagram",
           "hexagram",
           "hexagram",
           "hexagram",
           "hexagram",
           "triangle-right",
           "triangle-right",
           "triangle-right",
           "triangle-right",
           "triangle-right",
           "triangle-left",
           "triangle-left",
           "triangle-left",
           "triangle-left",
           "triangle-left",
           "triangle-down",
           "triangle-down",
           "triangle-down",
           "triangle-down",
           "triangle-down",
           "triangle-up",
           "triangle-up",
           "triangle-up",
           "triangle-up",
           "triangle-up",
           "circle",
           "square",
           "x",
           "cross",
           "diamond",
           "star",
           "hexagram",
           "triangle-right",
           "triangle-left",
           "triangle-down",
           "triangle-up"
          ]
         },
         "mode": "markers",
         "type": "scatter",
         "x": [
          1.2448079586029053,
          1.185523271560669,
          0.5038433074951172,
          0.7019482851028442,
          0.8931714296340942,
          -15.321060180664062,
          -15.307743072509766,
          -15.639302253723145,
          -15.230323791503906,
          -14.889262199401855,
          -19.418737411499023,
          -19.786348342895508,
          -19.201580047607422,
          -19.883455276489258,
          -19.51945686340332,
          16.7662353515625,
          16.24808692932129,
          16.56671905517578,
          16.070999145507812,
          16.37586784362793,
          -11.561605453491211,
          -12.010946273803711,
          -12.112597465515137,
          -11.818954467773438,
          -12.67665958404541,
          -13.093877792358398,
          -13.179126739501953,
          -13.793381690979004,
          -14.132451057434082,
          -14.280930519104004,
          0.3950180113315582,
          0.5997491478919983,
          0.24985091388225555,
          0.11194881051778793,
          -0.12929703295230865,
          4.80987548828125,
          4.144408702850342,
          4.538463592529297,
          4.610478401184082,
          4.968011379241943,
          29.337757110595703,
          29.414716720581055,
          29.095474243164062,
          28.894224166870117,
          28.79534339904785,
          0.5479362607002258,
          0.34604257345199585,
          0.02078223042190075,
          1.020589828491211,
          0.309264600276947,
          10.217263221740723,
          9.571393966674805,
          9.873230934143066,
          10.33367919921875,
          9.505609512329102,
          1.5825352668762207,
          1.9414682388305664,
          1.9993735551834106,
          -0.7494052648544312,
          -0.445854127407074,
          -0.7272263765335083,
          2.1692793369293213,
          1.5555262565612793,
          1.1700341701507568,
          0.7092053890228271,
          2.421538829803467
         ],
         "xaxis": "x",
         "y": [
          20.870262145996094,
          20.38313102722168,
          20.040456771850586,
          20.4117488861084,
          21.10474967956543,
          8.391411781311035,
          8.40200138092041,
          8.071282386779785,
          8.481122016906738,
          8.822104454040527,
          14.170467376708984,
          14.537837028503418,
          13.95337963104248,
          14.634906768798828,
          14.271220207214355,
          9.251129150390625,
          9.769170761108398,
          9.450636863708496,
          9.9463472366333,
          9.641456604003906,
          -2.3447442054748535,
          -1.874503254890442,
          -2.486948251724243,
          -1.8412474393844604,
          -2.0552282333374023,
          -2.0284721851348877,
          -2.500105619430542,
          22.70442771911621,
          22.36538314819336,
          22.21689224243164,
          1.681278109550476,
          1.8860324621200562,
          1.5362120866775513,
          1.3987289667129517,
          1.157792568206787,
          9.331003189086914,
          8.856725692749023,
          9.031920433044434,
          8.21916675567627,
          8.588979721069336,
          -12.4674072265625,
          -12.544366836547852,
          -12.225112915039062,
          -12.023872375488281,
          -11.924979209899902,
          -7.621205806732178,
          -6.965795516967773,
          -7.021023750305176,
          -7.091618537902832,
          -7.458576202392578,
          -11.620195388793945,
          -10.97411823272705,
          -11.276124000549316,
          -11.736600875854492,
          -10.908452033996582,
          10.486294746398926,
          10.098073959350586,
          10.91942310333252,
          9.645211219787598,
          9.826895713806152,
          10.2279691696167,
          11.011780738830566,
          9.60915756225586,
          9.898043632507324,
          -6.553327560424805,
          9.675576210021973
         ],
         "yaxis": "y"
        },
        {
         "hovertext": [
          "K-Nearest Neighbor<br>Performance: 83.35%<br>Model ID: 452<br>Accuracy: 70.31%<br>Precision: 70.36%<br>Recall: 70.31%<br>ROC AUC: 72.5<br>Geometric Mean: 100.0<br>Matthews Correlation: 100.0<br>F1: 100.0<br>Log Loss: 0.0",
          "K-Nearest Neighbor<br>Performance: 83.28%<br>Model ID: 288<br>Accuracy: 69.62%<br>Precision: 69.8%<br>Recall: 69.62%<br>ROC AUC: 73.91<br>Geometric Mean: 100.0<br>Matthews Correlation: 100.0<br>F1: 100.0<br>Log Loss: 0.0",
          "K-Nearest Neighbor<br>Performance: 83.13%<br>Model ID: 96<br>Accuracy: 69.29%<br>Precision: 69.48%<br>Recall: 69.29%<br>ROC AUC: 73.84<br>Geometric Mean: 100.0<br>Matthews Correlation: 100.0<br>F1: 100.0<br>Log Loss: 0.0",
          "K-Nearest Neighbor<br>Performance: 83.13%<br>Model ID: 480<br>Accuracy: 69.29%<br>Precision: 69.48%<br>Recall: 69.29%<br>ROC AUC: 73.82<br>Geometric Mean: 100.0<br>Matthews Correlation: 100.0<br>F1: 100.0<br>Log Loss: 0.0",
          "K-Nearest Neighbor<br>Performance: 83.11%<br>Model ID: 458<br>Accuracy: 69.64%<br>Precision: 69.61%<br>Recall: 69.64%<br>ROC AUC: 72.85<br>Geometric Mean: 100.0<br>Matthews Correlation: 100.0<br>F1: 100.0<br>Log Loss: 0.0",
          "Support Vector Machine<br>Performance: 83.1%<br>Model ID: 694<br>Accuracy: 82.5%<br>Precision: 82.92%<br>Recall: 82.5%<br>ROC AUC: 89.98<br>Geometric Mean: 85.43<br>Matthews Correlation: 72.38<br>F1: 85.99<br>Log Loss: 0.62",
          "Support Vector Machine<br>Performance: 83.08%<br>Model ID: 650<br>Accuracy: 82.83%<br>Precision: 83.3%<br>Recall: 82.83%<br>ROC AUC: 90.14<br>Geometric Mean: 85.07<br>Matthews Correlation: 71.75<br>F1: 85.65<br>Log Loss: 0.71",
          "Support Vector Machine<br>Performance: 83.08%<br>Model ID: 646<br>Accuracy: 82.83%<br>Precision: 83.3%<br>Recall: 82.83%<br>ROC AUC: 90.15<br>Geometric Mean: 85.07<br>Matthews Correlation: 71.75<br>F1: 85.65<br>Log Loss: 0.69",
          "Support Vector Machine<br>Performance: 83.09%<br>Model ID: 642<br>Accuracy: 82.83%<br>Precision: 83.3%<br>Recall: 82.83%<br>ROC AUC: 90.19<br>Geometric Mean: 85.07<br>Matthews Correlation: 71.75<br>F1: 85.65<br>Log Loss: 0.68",
          "Support Vector Machine<br>Performance: 83.07%<br>Model ID: 654<br>Accuracy: 82.83%<br>Precision: 83.3%<br>Recall: 82.83%<br>ROC AUC: 90.09<br>Geometric Mean: 85.07<br>Matthews Correlation: 71.75<br>F1: 85.65<br>Log Loss: 0.69",
          "Gaussian Naive Bayes<br>Performance: 80.97%<br>Model ID: 737<br>Accuracy: 80.51%<br>Precision: 80.65%<br>Recall: 80.51%<br>ROC AUC: 89.18<br>Geometric Mean: 83.79<br>Matthews Correlation: 68.01<br>F1: 84.11<br>Log Loss: 100.0",
          "Gaussian Naive Bayes<br>Performance: 80.97%<br>Model ID: 1066<br>Accuracy: 80.51%<br>Precision: 80.65%<br>Recall: 80.51%<br>ROC AUC: 89.18<br>Geometric Mean: 83.79<br>Matthews Correlation: 68.01<br>F1: 84.11<br>Log Loss: 34.0",
          "Gaussian Naive Bayes<br>Performance: 80.97%<br>Model ID: 1079<br>Accuracy: 80.51%<br>Precision: 80.65%<br>Recall: 80.51%<br>ROC AUC: 89.18<br>Geometric Mean: 83.79<br>Matthews Correlation: 68.01<br>F1: 84.11<br>Log Loss: 31.4",
          "Gaussian Naive Bayes<br>Performance: 80.97%<br>Model ID: 1078<br>Accuracy: 80.51%<br>Precision: 80.65%<br>Recall: 80.51%<br>ROC AUC: 89.18<br>Geometric Mean: 83.79<br>Matthews Correlation: 68.01<br>F1: 84.11<br>Log Loss: 31.6",
          "Gaussian Naive Bayes<br>Performance: 80.97%<br>Model ID: 1077<br>Accuracy: 80.51%<br>Precision: 80.65%<br>Recall: 80.51%<br>ROC AUC: 89.18<br>Geometric Mean: 83.79<br>Matthews Correlation: 68.01<br>F1: 84.11<br>Log Loss: 31.8",
          "Multilayer Perceptron<br>Performance: 79.22%<br>Model ID: 1262<br>Accuracy: 79.85%<br>Precision: 79.92%<br>Recall: 79.85%<br>ROC AUC: 85.88<br>Geometric Mean: 81.86<br>Matthews Correlation: 64.8<br>F1: 82.36<br>Log Loss: 17.56",
          "Multilayer Perceptron<br>Performance: 79.22%<br>Model ID: 1263<br>Accuracy: 79.85%<br>Precision: 79.92%<br>Recall: 79.85%<br>ROC AUC: 85.88<br>Geometric Mean: 81.86<br>Matthews Correlation: 64.8<br>F1: 82.36<br>Log Loss: 17.56",
          "Multilayer Perceptron<br>Performance: 79.22%<br>Model ID: 1261<br>Accuracy: 79.85%<br>Precision: 79.92%<br>Recall: 79.85%<br>ROC AUC: 85.88<br>Geometric Mean: 81.86<br>Matthews Correlation: 64.8<br>F1: 82.36<br>Log Loss: 17.56",
          "Multilayer Perceptron<br>Performance: 79.09%<br>Model ID: 1249<br>Accuracy: 79.52%<br>Precision: 79.59%<br>Recall: 79.52%<br>ROC AUC: 85.97<br>Geometric Mean: 81.86<br>Matthews Correlation: 64.8<br>F1: 82.36<br>Log Loss: 17.17",
          "Multilayer Perceptron<br>Performance: 79.09%<br>Model ID: 1251<br>Accuracy: 79.52%<br>Precision: 79.59%<br>Recall: 79.52%<br>ROC AUC: 85.97<br>Geometric Mean: 81.86<br>Matthews Correlation: 64.8<br>F1: 82.36<br>Log Loss: 17.17",
          "Logistic Regression<br>Performance: 83.67%<br>Model ID: 1677<br>Accuracy: 84.14%<br>Precision: 84.66%<br>Recall: 84.14%<br>ROC AUC: 90.32<br>Geometric Mean: 85.13<br>Matthews Correlation: 71.65<br>F1: 85.67<br>Log Loss: 3.51",
          "Logistic Regression<br>Performance: 83.66%<br>Model ID: 1741<br>Accuracy: 84.46%<br>Precision: 84.98%<br>Recall: 84.46%<br>ROC AUC: 90.58<br>Geometric Mean: 84.83<br>Matthews Correlation: 70.93<br>F1: 85.35<br>Log Loss: 3.37",
          "Logistic Regression<br>Performance: 83.54%<br>Model ID: 1901<br>Accuracy: 83.8%<br>Precision: 84.26%<br>Recall: 83.8%<br>ROC AUC: 90.5<br>Geometric Mean: 85.13<br>Matthews Correlation: 71.65<br>F1: 85.67<br>Log Loss: 3.41",
          "Logistic Regression<br>Performance: 83.53%<br>Model ID: 1773<br>Accuracy: 84.14%<br>Precision: 84.64%<br>Recall: 84.14%<br>ROC AUC: 90.65<br>Geometric Mean: 84.77<br>Matthews Correlation: 71.02<br>F1: 85.33<br>Log Loss: 3.23",
          "Logistic Regression<br>Performance: 83.41%<br>Model ID: 1869<br>Accuracy: 83.48%<br>Precision: 83.92%<br>Recall: 83.48%<br>ROC AUC: 90.54<br>Geometric Mean: 85.07<br>Matthews Correlation: 71.75<br>F1: 85.65<br>Log Loss: 2.97",
          "Linear Discriminant Analysis<br>Performance: 82.31%<br>Model ID: 1997<br>Accuracy: 83.16%<br>Precision: 84.11%<br>Recall: 83.16%<br>ROC AUC: 89.99<br>Geometric Mean: 83.32<br>Matthews Correlation: 68.51<br>F1: 83.94<br>Log Loss: 0.0",
          "Linear Discriminant Analysis<br>Performance: 82.31%<br>Model ID: 1998<br>Accuracy: 83.16%<br>Precision: 84.11%<br>Recall: 83.16%<br>ROC AUC: 89.99<br>Geometric Mean: 83.32<br>Matthews Correlation: 68.51<br>F1: 83.94<br>Log Loss: 0.0",
          "Linear Discriminant Analysis<br>Performance: 73.45%<br>Model ID: 1999<br>Accuracy: 75.89%<br>Precision: 76.41%<br>Recall: 75.89%<br>ROC AUC: 82.6<br>Geometric Mean: 75.39<br>Matthews Correlation: 52.04<br>F1: 75.95<br>Log Loss: 31.9",
          "Linear Discriminant Analysis<br>Performance: 73.45%<br>Model ID: 2000<br>Accuracy: 75.89%<br>Precision: 76.41%<br>Recall: 75.89%<br>ROC AUC: 82.6<br>Geometric Mean: 75.39<br>Matthews Correlation: 52.04<br>F1: 75.95<br>Log Loss: 31.9",
          "Linear Discriminant Analysis<br>Performance: 71.08%<br>Model ID: 2001<br>Accuracy: 74.25%<br>Precision: 74.65%<br>Recall: 74.25%<br>ROC AUC: 79.07<br>Geometric Mean: 73.45<br>Matthews Correlation: 47.92<br>F1: 73.99<br>Log Loss: 41.85",
          "Quadratic Discriminant Analysis<br>Performance: 83.44%<br>Model ID: 2227<br>Accuracy: 81.49%<br>Precision: 81.79%<br>Recall: 81.49%<br>ROC AUC: 88.84<br>Geometric Mean: 87.24<br>Matthews Correlation: 75.55<br>F1: 87.7<br>Log Loss: 0.03",
          "Quadratic Discriminant Analysis<br>Performance: 83.44%<br>Model ID: 2231<br>Accuracy: 81.49%<br>Precision: 81.79%<br>Recall: 81.49%<br>ROC AUC: 88.84<br>Geometric Mean: 87.24<br>Matthews Correlation: 75.55<br>F1: 87.7<br>Log Loss: 0.03",
          "Quadratic Discriminant Analysis<br>Performance: 83.44%<br>Model ID: 2230<br>Accuracy: 81.49%<br>Precision: 81.79%<br>Recall: 81.49%<br>ROC AUC: 88.84<br>Geometric Mean: 87.24<br>Matthews Correlation: 75.55<br>F1: 87.7<br>Log Loss: 0.03",
          "Quadratic Discriminant Analysis<br>Performance: 83.44%<br>Model ID: 2229<br>Accuracy: 81.49%<br>Precision: 81.79%<br>Recall: 81.49%<br>ROC AUC: 88.84<br>Geometric Mean: 87.24<br>Matthews Correlation: 75.55<br>F1: 87.7<br>Log Loss: 0.03",
          "Quadratic Discriminant Analysis<br>Performance: 83.44%<br>Model ID: 2228<br>Accuracy: 81.49%<br>Precision: 81.79%<br>Recall: 81.49%<br>ROC AUC: 88.84<br>Geometric Mean: 87.24<br>Matthews Correlation: 75.55<br>F1: 87.7<br>Log Loss: 0.03",
          "Random Forest<br>Performance: 91.82%<br>Model ID: 2488<br>Accuracy: 84.13%<br>Precision: 84.34%<br>Recall: 84.13%<br>ROC AUC: 90.17<br>Geometric Mean: 100.0<br>Matthews Correlation: 100.0<br>F1: 100.0<br>Log Loss: 59.71",
          "Random Forest<br>Performance: 91.83%<br>Model ID: 2490<br>Accuracy: 84.13%<br>Precision: 84.31%<br>Recall: 84.13%<br>ROC AUC: 90.21<br>Geometric Mean: 100.0<br>Matthews Correlation: 100.0<br>F1: 100.0<br>Log Loss: 52.76",
          "Random Forest<br>Performance: 91.83%<br>Model ID: 2489<br>Accuracy: 84.13%<br>Precision: 84.34%<br>Recall: 84.13%<br>ROC AUC: 90.22<br>Geometric Mean: 100.0<br>Matthews Correlation: 100.0<br>F1: 100.0<br>Log Loss: 54.75",
          "Random Forest<br>Performance: 91.82%<br>Model ID: 2494<br>Accuracy: 84.13%<br>Precision: 84.38%<br>Recall: 84.13%<br>ROC AUC: 90.11<br>Geometric Mean: 100.0<br>Matthews Correlation: 100.0<br>F1: 100.0<br>Log Loss: 58.36",
          "Random Forest<br>Performance: 91.69%<br>Model ID: 2493<br>Accuracy: 83.8%<br>Precision: 84.02%<br>Recall: 83.8%<br>ROC AUC: 90.22<br>Geometric Mean: 100.0<br>Matthews Correlation: 100.0<br>F1: 100.0<br>Log Loss: 57.04",
          "Extra Trees<br>Performance: 92.27%<br>Model ID: 2667<br>Accuracy: 84.81%<br>Precision: 85.07%<br>Recall: 84.81%<br>ROC AUC: 91.22<br>Geometric Mean: 100.0<br>Matthews Correlation: 100.0<br>F1: 100.0<br>Log Loss: 0.0",
          "Extra Trees<br>Performance: 92.24%<br>Model ID: 2659<br>Accuracy: 84.8%<br>Precision: 84.98%<br>Recall: 84.8%<br>ROC AUC: 91.07<br>Geometric Mean: 100.0<br>Matthews Correlation: 100.0<br>F1: 100.0<br>Log Loss: 0.0",
          "Extra Trees<br>Performance: 92.24%<br>Model ID: 2660<br>Accuracy: 84.8%<br>Precision: 84.98%<br>Recall: 84.8%<br>ROC AUC: 91.07<br>Geometric Mean: 100.0<br>Matthews Correlation: 100.0<br>F1: 100.0<br>Log Loss: 0.0",
          "Extra Trees<br>Performance: 92.19%<br>Model ID: 2714<br>Accuracy: 84.48%<br>Precision: 84.59%<br>Recall: 84.48%<br>ROC AUC: 91.8<br>Geometric Mean: 100.0<br>Matthews Correlation: 100.0<br>F1: 100.0<br>Log Loss: 0.0",
          "Extra Trees<br>Performance: 92.19%<br>Model ID: 2715<br>Accuracy: 84.48%<br>Precision: 84.59%<br>Recall: 84.48%<br>ROC AUC: 91.76<br>Geometric Mean: 100.0<br>Matthews Correlation: 100.0<br>F1: 100.0<br>Log Loss: 0.0",
          "Adaptive Boosting<br>Performance: 85.49%<br>Model ID: 2808<br>Accuracy: 80.83%<br>Precision: 81.1%<br>Recall: 80.83%<br>ROC AUC: 87.46<br>Geometric Mean: 92.08<br>Matthews Correlation: 84.06<br>F1: 92.08<br>Log Loss: 91.04",
          "Adaptive Boosting<br>Performance: 85.37%<br>Model ID: 2845<br>Accuracy: 80.16%<br>Precision: 80.31%<br>Recall: 80.16%<br>ROC AUC: 83.52<br>Geometric Mean: 93.35<br>Matthews Correlation: 86.69<br>F1: 93.4<br>Log Loss: 99.49",
          "Adaptive Boosting<br>Performance: 85.29%<br>Model ID: 2811<br>Accuracy: 80.5%<br>Precision: 80.76%<br>Recall: 80.5%<br>ROC AUC: 86.95<br>Geometric Mean: 92.13<br>Matthews Correlation: 84.1<br>F1: 92.09<br>Log Loss: 92.25",
          "Adaptive Boosting<br>Performance: 85.19%<br>Model ID: 2812<br>Accuracy: 80.16%<br>Precision: 80.52%<br>Recall: 80.16%<br>ROC AUC: 87.19<br>Geometric Mean: 92.13<br>Matthews Correlation: 84.1<br>F1: 92.09<br>Log Loss: 92.14",
          "Adaptive Boosting<br>Performance: 85.18%<br>Model ID: 2809<br>Accuracy: 80.17%<br>Precision: 80.42%<br>Recall: 80.17%<br>ROC AUC: 87.3<br>Geometric Mean: 92.08<br>Matthews Correlation: 84.06<br>F1: 92.08<br>Log Loss: 91.13",
          "Gradient Boosting<br>Performance: 89.77%<br>Model ID: 3030<br>Accuracy: 80.83%<br>Precision: 81.59%<br>Recall: 80.83%<br>ROC AUC: 87.84<br>Geometric Mean: 99.28<br>Matthews Correlation: 98.68<br>F1: 99.34<br>Log Loss: 3.39",
          "Gradient Boosting<br>Performance: 89.76%<br>Model ID: 3029<br>Accuracy: 80.83%<br>Precision: 81.59%<br>Recall: 80.83%<br>ROC AUC: 87.8<br>Geometric Mean: 99.28<br>Matthews Correlation: 98.68<br>F1: 99.34<br>Log Loss: 3.61",
          "Gradient Boosting<br>Performance: 89.76%<br>Model ID: 2969<br>Accuracy: 80.83%<br>Precision: 81.59%<br>Recall: 80.83%<br>ROC AUC: 87.77<br>Geometric Mean: 99.28<br>Matthews Correlation: 98.68<br>F1: 99.34<br>Log Loss: 3.61",
          "Gradient Boosting<br>Performance: 89.77%<br>Model ID: 2970<br>Accuracy: 80.83%<br>Precision: 81.59%<br>Recall: 80.83%<br>ROC AUC: 87.82<br>Geometric Mean: 99.28<br>Matthews Correlation: 98.68<br>F1: 99.34<br>Log Loss: 3.39",
          "Gradient Boosting<br>Performance: 89.75%<br>Model ID: 3026<br>Accuracy: 80.83%<br>Precision: 81.45%<br>Recall: 80.83%<br>ROC AUC: 87.84<br>Geometric Mean: 99.28<br>Matthews Correlation: 98.68<br>F1: 99.34<br>Log Loss: 4.1",
          "K-Nearest Neighbor<br>Performance: 87.44%<br>Model ID: meta_1<br>Accuracy: 89.11%<br>Precision: 89.41%<br>Recall: 89.11%<br>ROC AUC: 88.58<br>Geometric Mean: 88.58<br>Matthews Correlation: 78.24<br>F1: 89.03<br>Log Loss: 376.17",
          "Support Vector Machine<br>Performance: 92.41%<br>Model ID: meta_2<br>Accuracy: 93.4%<br>Precision: 93.4%<br>Recall: 93.4%<br>ROC AUC: 93.29<br>Geometric Mean: 93.29<br>Matthews Correlation: 86.68<br>F1: 93.4<br>Log Loss: 227.98",
          "Gaussian Naive Bayes<br>Performance: 93.21%<br>Model ID: meta_3<br>Accuracy: 94.06%<br>Precision: 94.07%<br>Recall: 94.06%<br>ROC AUC: 94.07<br>Geometric Mean: 94.07<br>Matthews Correlation: 88.05<br>F1: 94.06<br>Log Loss: 205.18",
          "Multilayer Perceptron<br>Performance: 100.0%<br>Model ID: meta_4<br>Accuracy: 100.0%<br>Precision: 100.0%<br>Recall: 100.0%<br>ROC AUC: 100.0<br>Geometric Mean: 100.0<br>Matthews Correlation: 100.0<br>F1: 100.0<br>Log Loss: 0.0",
          "Logistic Regression<br>Performance: 100.0%<br>Model ID: meta_5<br>Accuracy: 100.0%<br>Precision: 100.0%<br>Recall: 100.0%<br>ROC AUC: 100.0<br>Geometric Mean: 100.0<br>Matthews Correlation: 100.0<br>F1: 100.0<br>Log Loss: 0.0",
          "Linear Discriminant Analysis<br>Performance: 98.85%<br>Model ID: meta_6<br>Accuracy: 99.01%<br>Precision: 99.01%<br>Recall: 99.01%<br>ROC AUC: 98.97<br>Geometric Mean: 98.97<br>Matthews Correlation: 98.0<br>F1: 99.01<br>Log Loss: 34.2",
          "Quadratic Discriminant Analysis<br>Performance: 91.25%<br>Model ID: meta_7<br>Accuracy: 92.41%<br>Precision: 92.43%<br>Recall: 92.41%<br>ROC AUC: 92.2<br>Geometric Mean: 92.2<br>Matthews Correlation: 84.7<br>F1: 92.4<br>Log Loss: 262.18",
          "Random Forest<br>Performance: 90.91%<br>Model ID: meta_8<br>Accuracy: 92.08%<br>Precision: 92.08%<br>Recall: 92.08%<br>ROC AUC: 92.02<br>Geometric Mean: 92.02<br>Matthews Correlation: 84.03<br>F1: 92.08<br>Log Loss: 273.58",
          "Extra Trees<br>Performance: 96.33%<br>Model ID: meta_9<br>Accuracy: 96.7%<br>Precision: 96.85%<br>Recall: 96.7%<br>ROC AUC: 96.91<br>Geometric Mean: 96.91<br>Matthews Correlation: 93.51<br>F1: 96.71<br>Log Loss: 113.99",
          "Adaptive Boosting<br>Performance: 93.03%<br>Model ID: meta_10<br>Accuracy: 93.73%<br>Precision: 94.1%<br>Recall: 93.73%<br>ROC AUC: 94.06<br>Geometric Mean: 94.06<br>Matthews Correlation: 87.78<br>F1: 93.74<br>Log Loss: 216.58",
          "Gradient Boosting<br>Performance: 93.55%<br>Model ID: meta_11<br>Accuracy: 94.39%<br>Precision: 94.39%<br>Recall: 94.39%<br>ROC AUC: 94.31<br>Geometric Mean: 94.31<br>Matthews Correlation: 88.68<br>F1: 94.39<br>Log Loss: 193.78"
         ],
         "marker": {
          "color": [
           83.35,
           83.28,
           83.13,
           83.13,
           83.11,
           83.1,
           83.08,
           83.08,
           83.09,
           83.07,
           80.97,
           80.97,
           80.97,
           80.97,
           80.97,
           79.22,
           79.22,
           79.22,
           79.09,
           79.09,
           83.67,
           83.66,
           83.54,
           83.53,
           83.41,
           82.31,
           82.31,
           73.45,
           73.45,
           71.08,
           83.44,
           83.44,
           83.44,
           83.44,
           83.44,
           91.82,
           91.83,
           91.83,
           91.82,
           91.69,
           92.27,
           92.24,
           92.24,
           92.19,
           92.19,
           85.49,
           85.37,
           85.29,
           85.19,
           85.18,
           89.77,
           89.76,
           89.76,
           89.77,
           89.75,
           87.44,
           92.41,
           93.21,
           100,
           100,
           98.85,
           91.25,
           90.91,
           96.33,
           93.03,
           93.55
          ],
          "coloraxis": "coloraxis",
          "line": {
           "color": "Black",
           "width": 1
          },
          "opacity": 0.8,
          "size": [
           20,
           20,
           20,
           20,
           20,
           20,
           20,
           20,
           20,
           20,
           20,
           20,
           20,
           20,
           20,
           20,
           20,
           20,
           20,
           20,
           20,
           20,
           20,
           20,
           20,
           20,
           20,
           20,
           20,
           20,
           20,
           20,
           20,
           20,
           20,
           20,
           20,
           20,
           20,
           20,
           20,
           20,
           20,
           20,
           20,
           20,
           20,
           20,
           20,
           20,
           20,
           20,
           20,
           20,
           20,
           40,
           40,
           40,
           40,
           40,
           40,
           40,
           40,
           40,
           40,
           40
          ],
          "symbol": [
           "circle",
           "circle",
           "circle",
           "circle",
           "circle",
           "square",
           "square",
           "square",
           "square",
           "square",
           "x",
           "x",
           "x",
           "x",
           "x",
           "cross",
           "cross",
           "cross",
           "cross",
           "cross",
           "diamond",
           "diamond",
           "diamond",
           "diamond",
           "diamond",
           "star",
           "star",
           "star",
           "star",
           "star",
           "hexagram",
           "hexagram",
           "hexagram",
           "hexagram",
           "hexagram",
           "triangle-right",
           "triangle-right",
           "triangle-right",
           "triangle-right",
           "triangle-right",
           "triangle-left",
           "triangle-left",
           "triangle-left",
           "triangle-left",
           "triangle-left",
           "triangle-down",
           "triangle-down",
           "triangle-down",
           "triangle-down",
           "triangle-down",
           "triangle-up",
           "triangle-up",
           "triangle-up",
           "triangle-up",
           "triangle-up",
           "circle",
           "square",
           "x",
           "cross",
           "diamond",
           "star",
           "hexagram",
           "triangle-right",
           "triangle-left",
           "triangle-down",
           "triangle-up"
          ]
         },
         "mode": "markers",
         "type": "scatter",
         "x": [
          -9.82953929901123,
          -9.202249526977539,
          -9.306127548217773,
          -9.105997085571289,
          -9.71252155303955,
          3.346992254257202,
          3.2306065559387207,
          3.6567764282226562,
          3.6232900619506836,
          3.748913288116455,
          20.70306968688965,
          20.040212631225586,
          20.512516021728516,
          20.32657241821289,
          19.988737106323242,
          4.512997150421143,
          4.981278419494629,
          4.232052803039551,
          4.925172805786133,
          4.5704145431518555,
          10.26728343963623,
          10.623665809631348,
          10.335027694702148,
          10.951929092407227,
          10.902443885803223,
          10.770546913146973,
          10.956671714782715,
          -8.185699462890625,
          -8.261176109313965,
          -8.004416465759277,
          35.74234390258789,
          35.04230880737305,
          35.19375991821289,
          35.4816780090332,
          35.50486755371094,
          -5.213923454284668,
          -5.026105880737305,
          -5.359888076782227,
          -5.129411697387695,
          -5.634301662445068,
          2.622187614440918,
          2.8328115940093994,
          2.961794376373291,
          3.388040065765381,
          3.2802436351776123,
          29.960922241210938,
          29.205341339111328,
          29.670085906982422,
          30.13424301147461,
          29.618410110473633,
          -18.64205551147461,
          -18.012592315673828,
          -17.846359252929688,
          -18.43303680419922,
          -18.290353775024414,
          -3.0592715740203857,
          -2.9069716930389404,
          -2.4559993743896484,
          -1.9942084550857544,
          -2.201685667037964,
          -1.7755120992660522,
          -2.8071839809417725,
          -3.3754212856292725,
          -2.8002374172210693,
          29.998580932617188,
          -3.489386558532715
         ],
         "xaxis": "x",
         "y": [
          31.78276252746582,
          31.591341018676758,
          31.787677764892578,
          32.17546463012695,
          32.119720458984375,
          -5.017467498779297,
          -4.917588710784912,
          -5.390573024749756,
          -4.631826400756836,
          -4.795235633850098,
          2.798198938369751,
          2.134864330291748,
          2.6070547103881836,
          2.4211173057556152,
          2.0833487510681152,
          27.97620391845703,
          28.34641456604004,
          28.289081573486328,
          27.89036750793457,
          28.426395416259766,
          10.04871940612793,
          10.300408363342285,
          10.676393508911133,
          10.00816822052002,
          10.649087905883789,
          11.252463340759277,
          11.447256088256836,
          32.398582458496094,
          31.785947799682617,
          32.1197509765625,
          -32.437461853027344,
          -31.73749351501465,
          -31.888975143432617,
          -32.17681121826172,
          -32.19870376586914,
          0.09107863903045654,
          -0.5924802422523499,
          -0.739345908164978,
          -0.15042336285114288,
          -0.30086812376976013,
          9.692371368408203,
          9.481098175048828,
          9.352749824523926,
          8.92626667022705,
          9.03426742553711,
          -21.594863891601562,
          -21.30422592163086,
          -20.95452880859375,
          -21.41025161743164,
          -21.72319221496582,
          19.748865127563477,
          19.11946678161621,
          18.95295524597168,
          19.54253578186035,
          19.39679718017578,
          -2.8600850105285645,
          -2.319549322128296,
          -3.0970230102539062,
          -2.287060499191284,
          -1.777145266532898,
          -1.777665138244629,
          -3.5207910537719727,
          -2.553926706314087,
          -2.1874494552612305,
          -20.786205291748047,
          -1.967647910118103
         ],
         "yaxis": "y"
        },
        {
         "hovertext": [
          "K-Nearest Neighbor<br>Performance: 83.35%<br>Model ID: 452<br>Accuracy: 70.31%<br>Precision: 70.36%<br>Recall: 70.31%<br>ROC AUC: 72.5<br>Geometric Mean: 100.0<br>Matthews Correlation: 100.0<br>F1: 100.0<br>Log Loss: 0.0",
          "K-Nearest Neighbor<br>Performance: 83.28%<br>Model ID: 288<br>Accuracy: 69.62%<br>Precision: 69.8%<br>Recall: 69.62%<br>ROC AUC: 73.91<br>Geometric Mean: 100.0<br>Matthews Correlation: 100.0<br>F1: 100.0<br>Log Loss: 0.0",
          "K-Nearest Neighbor<br>Performance: 83.13%<br>Model ID: 96<br>Accuracy: 69.29%<br>Precision: 69.48%<br>Recall: 69.29%<br>ROC AUC: 73.84<br>Geometric Mean: 100.0<br>Matthews Correlation: 100.0<br>F1: 100.0<br>Log Loss: 0.0",
          "K-Nearest Neighbor<br>Performance: 83.13%<br>Model ID: 480<br>Accuracy: 69.29%<br>Precision: 69.48%<br>Recall: 69.29%<br>ROC AUC: 73.82<br>Geometric Mean: 100.0<br>Matthews Correlation: 100.0<br>F1: 100.0<br>Log Loss: 0.0",
          "K-Nearest Neighbor<br>Performance: 83.11%<br>Model ID: 458<br>Accuracy: 69.64%<br>Precision: 69.61%<br>Recall: 69.64%<br>ROC AUC: 72.85<br>Geometric Mean: 100.0<br>Matthews Correlation: 100.0<br>F1: 100.0<br>Log Loss: 0.0",
          "Support Vector Machine<br>Performance: 83.1%<br>Model ID: 694<br>Accuracy: 82.5%<br>Precision: 82.92%<br>Recall: 82.5%<br>ROC AUC: 89.98<br>Geometric Mean: 85.43<br>Matthews Correlation: 72.38<br>F1: 85.99<br>Log Loss: 0.62",
          "Support Vector Machine<br>Performance: 83.08%<br>Model ID: 650<br>Accuracy: 82.83%<br>Precision: 83.3%<br>Recall: 82.83%<br>ROC AUC: 90.14<br>Geometric Mean: 85.07<br>Matthews Correlation: 71.75<br>F1: 85.65<br>Log Loss: 0.71",
          "Support Vector Machine<br>Performance: 83.08%<br>Model ID: 646<br>Accuracy: 82.83%<br>Precision: 83.3%<br>Recall: 82.83%<br>ROC AUC: 90.15<br>Geometric Mean: 85.07<br>Matthews Correlation: 71.75<br>F1: 85.65<br>Log Loss: 0.69",
          "Support Vector Machine<br>Performance: 83.09%<br>Model ID: 642<br>Accuracy: 82.83%<br>Precision: 83.3%<br>Recall: 82.83%<br>ROC AUC: 90.19<br>Geometric Mean: 85.07<br>Matthews Correlation: 71.75<br>F1: 85.65<br>Log Loss: 0.68",
          "Support Vector Machine<br>Performance: 83.07%<br>Model ID: 654<br>Accuracy: 82.83%<br>Precision: 83.3%<br>Recall: 82.83%<br>ROC AUC: 90.09<br>Geometric Mean: 85.07<br>Matthews Correlation: 71.75<br>F1: 85.65<br>Log Loss: 0.69",
          "Gaussian Naive Bayes<br>Performance: 80.97%<br>Model ID: 737<br>Accuracy: 80.51%<br>Precision: 80.65%<br>Recall: 80.51%<br>ROC AUC: 89.18<br>Geometric Mean: 83.79<br>Matthews Correlation: 68.01<br>F1: 84.11<br>Log Loss: 100.0",
          "Gaussian Naive Bayes<br>Performance: 80.97%<br>Model ID: 1066<br>Accuracy: 80.51%<br>Precision: 80.65%<br>Recall: 80.51%<br>ROC AUC: 89.18<br>Geometric Mean: 83.79<br>Matthews Correlation: 68.01<br>F1: 84.11<br>Log Loss: 34.0",
          "Gaussian Naive Bayes<br>Performance: 80.97%<br>Model ID: 1079<br>Accuracy: 80.51%<br>Precision: 80.65%<br>Recall: 80.51%<br>ROC AUC: 89.18<br>Geometric Mean: 83.79<br>Matthews Correlation: 68.01<br>F1: 84.11<br>Log Loss: 31.4",
          "Gaussian Naive Bayes<br>Performance: 80.97%<br>Model ID: 1078<br>Accuracy: 80.51%<br>Precision: 80.65%<br>Recall: 80.51%<br>ROC AUC: 89.18<br>Geometric Mean: 83.79<br>Matthews Correlation: 68.01<br>F1: 84.11<br>Log Loss: 31.6",
          "Gaussian Naive Bayes<br>Performance: 80.97%<br>Model ID: 1077<br>Accuracy: 80.51%<br>Precision: 80.65%<br>Recall: 80.51%<br>ROC AUC: 89.18<br>Geometric Mean: 83.79<br>Matthews Correlation: 68.01<br>F1: 84.11<br>Log Loss: 31.8",
          "Multilayer Perceptron<br>Performance: 79.22%<br>Model ID: 1262<br>Accuracy: 79.85%<br>Precision: 79.92%<br>Recall: 79.85%<br>ROC AUC: 85.88<br>Geometric Mean: 81.86<br>Matthews Correlation: 64.8<br>F1: 82.36<br>Log Loss: 17.56",
          "Multilayer Perceptron<br>Performance: 79.22%<br>Model ID: 1263<br>Accuracy: 79.85%<br>Precision: 79.92%<br>Recall: 79.85%<br>ROC AUC: 85.88<br>Geometric Mean: 81.86<br>Matthews Correlation: 64.8<br>F1: 82.36<br>Log Loss: 17.56",
          "Multilayer Perceptron<br>Performance: 79.22%<br>Model ID: 1261<br>Accuracy: 79.85%<br>Precision: 79.92%<br>Recall: 79.85%<br>ROC AUC: 85.88<br>Geometric Mean: 81.86<br>Matthews Correlation: 64.8<br>F1: 82.36<br>Log Loss: 17.56",
          "Multilayer Perceptron<br>Performance: 79.09%<br>Model ID: 1249<br>Accuracy: 79.52%<br>Precision: 79.59%<br>Recall: 79.52%<br>ROC AUC: 85.97<br>Geometric Mean: 81.86<br>Matthews Correlation: 64.8<br>F1: 82.36<br>Log Loss: 17.17",
          "Multilayer Perceptron<br>Performance: 79.09%<br>Model ID: 1251<br>Accuracy: 79.52%<br>Precision: 79.59%<br>Recall: 79.52%<br>ROC AUC: 85.97<br>Geometric Mean: 81.86<br>Matthews Correlation: 64.8<br>F1: 82.36<br>Log Loss: 17.17",
          "Logistic Regression<br>Performance: 83.67%<br>Model ID: 1677<br>Accuracy: 84.14%<br>Precision: 84.66%<br>Recall: 84.14%<br>ROC AUC: 90.32<br>Geometric Mean: 85.13<br>Matthews Correlation: 71.65<br>F1: 85.67<br>Log Loss: 3.51",
          "Logistic Regression<br>Performance: 83.66%<br>Model ID: 1741<br>Accuracy: 84.46%<br>Precision: 84.98%<br>Recall: 84.46%<br>ROC AUC: 90.58<br>Geometric Mean: 84.83<br>Matthews Correlation: 70.93<br>F1: 85.35<br>Log Loss: 3.37",
          "Logistic Regression<br>Performance: 83.54%<br>Model ID: 1901<br>Accuracy: 83.8%<br>Precision: 84.26%<br>Recall: 83.8%<br>ROC AUC: 90.5<br>Geometric Mean: 85.13<br>Matthews Correlation: 71.65<br>F1: 85.67<br>Log Loss: 3.41",
          "Logistic Regression<br>Performance: 83.53%<br>Model ID: 1773<br>Accuracy: 84.14%<br>Precision: 84.64%<br>Recall: 84.14%<br>ROC AUC: 90.65<br>Geometric Mean: 84.77<br>Matthews Correlation: 71.02<br>F1: 85.33<br>Log Loss: 3.23",
          "Logistic Regression<br>Performance: 83.41%<br>Model ID: 1869<br>Accuracy: 83.48%<br>Precision: 83.92%<br>Recall: 83.48%<br>ROC AUC: 90.54<br>Geometric Mean: 85.07<br>Matthews Correlation: 71.75<br>F1: 85.65<br>Log Loss: 2.97",
          "Linear Discriminant Analysis<br>Performance: 82.31%<br>Model ID: 1997<br>Accuracy: 83.16%<br>Precision: 84.11%<br>Recall: 83.16%<br>ROC AUC: 89.99<br>Geometric Mean: 83.32<br>Matthews Correlation: 68.51<br>F1: 83.94<br>Log Loss: 0.0",
          "Linear Discriminant Analysis<br>Performance: 82.31%<br>Model ID: 1998<br>Accuracy: 83.16%<br>Precision: 84.11%<br>Recall: 83.16%<br>ROC AUC: 89.99<br>Geometric Mean: 83.32<br>Matthews Correlation: 68.51<br>F1: 83.94<br>Log Loss: 0.0",
          "Linear Discriminant Analysis<br>Performance: 73.45%<br>Model ID: 1999<br>Accuracy: 75.89%<br>Precision: 76.41%<br>Recall: 75.89%<br>ROC AUC: 82.6<br>Geometric Mean: 75.39<br>Matthews Correlation: 52.04<br>F1: 75.95<br>Log Loss: 31.9",
          "Linear Discriminant Analysis<br>Performance: 73.45%<br>Model ID: 2000<br>Accuracy: 75.89%<br>Precision: 76.41%<br>Recall: 75.89%<br>ROC AUC: 82.6<br>Geometric Mean: 75.39<br>Matthews Correlation: 52.04<br>F1: 75.95<br>Log Loss: 31.9",
          "Linear Discriminant Analysis<br>Performance: 71.08%<br>Model ID: 2001<br>Accuracy: 74.25%<br>Precision: 74.65%<br>Recall: 74.25%<br>ROC AUC: 79.07<br>Geometric Mean: 73.45<br>Matthews Correlation: 47.92<br>F1: 73.99<br>Log Loss: 41.85",
          "Quadratic Discriminant Analysis<br>Performance: 83.44%<br>Model ID: 2227<br>Accuracy: 81.49%<br>Precision: 81.79%<br>Recall: 81.49%<br>ROC AUC: 88.84<br>Geometric Mean: 87.24<br>Matthews Correlation: 75.55<br>F1: 87.7<br>Log Loss: 0.03",
          "Quadratic Discriminant Analysis<br>Performance: 83.44%<br>Model ID: 2231<br>Accuracy: 81.49%<br>Precision: 81.79%<br>Recall: 81.49%<br>ROC AUC: 88.84<br>Geometric Mean: 87.24<br>Matthews Correlation: 75.55<br>F1: 87.7<br>Log Loss: 0.03",
          "Quadratic Discriminant Analysis<br>Performance: 83.44%<br>Model ID: 2230<br>Accuracy: 81.49%<br>Precision: 81.79%<br>Recall: 81.49%<br>ROC AUC: 88.84<br>Geometric Mean: 87.24<br>Matthews Correlation: 75.55<br>F1: 87.7<br>Log Loss: 0.03",
          "Quadratic Discriminant Analysis<br>Performance: 83.44%<br>Model ID: 2229<br>Accuracy: 81.49%<br>Precision: 81.79%<br>Recall: 81.49%<br>ROC AUC: 88.84<br>Geometric Mean: 87.24<br>Matthews Correlation: 75.55<br>F1: 87.7<br>Log Loss: 0.03",
          "Quadratic Discriminant Analysis<br>Performance: 83.44%<br>Model ID: 2228<br>Accuracy: 81.49%<br>Precision: 81.79%<br>Recall: 81.49%<br>ROC AUC: 88.84<br>Geometric Mean: 87.24<br>Matthews Correlation: 75.55<br>F1: 87.7<br>Log Loss: 0.03",
          "Random Forest<br>Performance: 91.82%<br>Model ID: 2488<br>Accuracy: 84.13%<br>Precision: 84.34%<br>Recall: 84.13%<br>ROC AUC: 90.17<br>Geometric Mean: 100.0<br>Matthews Correlation: 100.0<br>F1: 100.0<br>Log Loss: 59.71",
          "Random Forest<br>Performance: 91.83%<br>Model ID: 2490<br>Accuracy: 84.13%<br>Precision: 84.31%<br>Recall: 84.13%<br>ROC AUC: 90.21<br>Geometric Mean: 100.0<br>Matthews Correlation: 100.0<br>F1: 100.0<br>Log Loss: 52.76",
          "Random Forest<br>Performance: 91.83%<br>Model ID: 2489<br>Accuracy: 84.13%<br>Precision: 84.34%<br>Recall: 84.13%<br>ROC AUC: 90.22<br>Geometric Mean: 100.0<br>Matthews Correlation: 100.0<br>F1: 100.0<br>Log Loss: 54.75",
          "Random Forest<br>Performance: 91.82%<br>Model ID: 2494<br>Accuracy: 84.13%<br>Precision: 84.38%<br>Recall: 84.13%<br>ROC AUC: 90.11<br>Geometric Mean: 100.0<br>Matthews Correlation: 100.0<br>F1: 100.0<br>Log Loss: 58.36",
          "Random Forest<br>Performance: 91.69%<br>Model ID: 2493<br>Accuracy: 83.8%<br>Precision: 84.02%<br>Recall: 83.8%<br>ROC AUC: 90.22<br>Geometric Mean: 100.0<br>Matthews Correlation: 100.0<br>F1: 100.0<br>Log Loss: 57.04",
          "Extra Trees<br>Performance: 92.27%<br>Model ID: 2667<br>Accuracy: 84.81%<br>Precision: 85.07%<br>Recall: 84.81%<br>ROC AUC: 91.22<br>Geometric Mean: 100.0<br>Matthews Correlation: 100.0<br>F1: 100.0<br>Log Loss: 0.0",
          "Extra Trees<br>Performance: 92.24%<br>Model ID: 2659<br>Accuracy: 84.8%<br>Precision: 84.98%<br>Recall: 84.8%<br>ROC AUC: 91.07<br>Geometric Mean: 100.0<br>Matthews Correlation: 100.0<br>F1: 100.0<br>Log Loss: 0.0",
          "Extra Trees<br>Performance: 92.24%<br>Model ID: 2660<br>Accuracy: 84.8%<br>Precision: 84.98%<br>Recall: 84.8%<br>ROC AUC: 91.07<br>Geometric Mean: 100.0<br>Matthews Correlation: 100.0<br>F1: 100.0<br>Log Loss: 0.0",
          "Extra Trees<br>Performance: 92.19%<br>Model ID: 2714<br>Accuracy: 84.48%<br>Precision: 84.59%<br>Recall: 84.48%<br>ROC AUC: 91.8<br>Geometric Mean: 100.0<br>Matthews Correlation: 100.0<br>F1: 100.0<br>Log Loss: 0.0",
          "Extra Trees<br>Performance: 92.19%<br>Model ID: 2715<br>Accuracy: 84.48%<br>Precision: 84.59%<br>Recall: 84.48%<br>ROC AUC: 91.76<br>Geometric Mean: 100.0<br>Matthews Correlation: 100.0<br>F1: 100.0<br>Log Loss: 0.0",
          "Adaptive Boosting<br>Performance: 85.49%<br>Model ID: 2808<br>Accuracy: 80.83%<br>Precision: 81.1%<br>Recall: 80.83%<br>ROC AUC: 87.46<br>Geometric Mean: 92.08<br>Matthews Correlation: 84.06<br>F1: 92.08<br>Log Loss: 91.04",
          "Adaptive Boosting<br>Performance: 85.37%<br>Model ID: 2845<br>Accuracy: 80.16%<br>Precision: 80.31%<br>Recall: 80.16%<br>ROC AUC: 83.52<br>Geometric Mean: 93.35<br>Matthews Correlation: 86.69<br>F1: 93.4<br>Log Loss: 99.49",
          "Adaptive Boosting<br>Performance: 85.29%<br>Model ID: 2811<br>Accuracy: 80.5%<br>Precision: 80.76%<br>Recall: 80.5%<br>ROC AUC: 86.95<br>Geometric Mean: 92.13<br>Matthews Correlation: 84.1<br>F1: 92.09<br>Log Loss: 92.25",
          "Adaptive Boosting<br>Performance: 85.19%<br>Model ID: 2812<br>Accuracy: 80.16%<br>Precision: 80.52%<br>Recall: 80.16%<br>ROC AUC: 87.19<br>Geometric Mean: 92.13<br>Matthews Correlation: 84.1<br>F1: 92.09<br>Log Loss: 92.14",
          "Adaptive Boosting<br>Performance: 85.18%<br>Model ID: 2809<br>Accuracy: 80.17%<br>Precision: 80.42%<br>Recall: 80.17%<br>ROC AUC: 87.3<br>Geometric Mean: 92.08<br>Matthews Correlation: 84.06<br>F1: 92.08<br>Log Loss: 91.13",
          "Gradient Boosting<br>Performance: 89.77%<br>Model ID: 3030<br>Accuracy: 80.83%<br>Precision: 81.59%<br>Recall: 80.83%<br>ROC AUC: 87.84<br>Geometric Mean: 99.28<br>Matthews Correlation: 98.68<br>F1: 99.34<br>Log Loss: 3.39",
          "Gradient Boosting<br>Performance: 89.76%<br>Model ID: 3029<br>Accuracy: 80.83%<br>Precision: 81.59%<br>Recall: 80.83%<br>ROC AUC: 87.8<br>Geometric Mean: 99.28<br>Matthews Correlation: 98.68<br>F1: 99.34<br>Log Loss: 3.61",
          "Gradient Boosting<br>Performance: 89.76%<br>Model ID: 2969<br>Accuracy: 80.83%<br>Precision: 81.59%<br>Recall: 80.83%<br>ROC AUC: 87.77<br>Geometric Mean: 99.28<br>Matthews Correlation: 98.68<br>F1: 99.34<br>Log Loss: 3.61",
          "Gradient Boosting<br>Performance: 89.77%<br>Model ID: 2970<br>Accuracy: 80.83%<br>Precision: 81.59%<br>Recall: 80.83%<br>ROC AUC: 87.82<br>Geometric Mean: 99.28<br>Matthews Correlation: 98.68<br>F1: 99.34<br>Log Loss: 3.39",
          "Gradient Boosting<br>Performance: 89.75%<br>Model ID: 3026<br>Accuracy: 80.83%<br>Precision: 81.45%<br>Recall: 80.83%<br>ROC AUC: 87.84<br>Geometric Mean: 99.28<br>Matthews Correlation: 98.68<br>F1: 99.34<br>Log Loss: 4.1",
          "K-Nearest Neighbor<br>Performance: 87.44%<br>Model ID: meta_1<br>Accuracy: 89.11%<br>Precision: 89.41%<br>Recall: 89.11%<br>ROC AUC: 88.58<br>Geometric Mean: 88.58<br>Matthews Correlation: 78.24<br>F1: 89.03<br>Log Loss: 376.17",
          "Support Vector Machine<br>Performance: 92.41%<br>Model ID: meta_2<br>Accuracy: 93.4%<br>Precision: 93.4%<br>Recall: 93.4%<br>ROC AUC: 93.29<br>Geometric Mean: 93.29<br>Matthews Correlation: 86.68<br>F1: 93.4<br>Log Loss: 227.98",
          "Gaussian Naive Bayes<br>Performance: 93.21%<br>Model ID: meta_3<br>Accuracy: 94.06%<br>Precision: 94.07%<br>Recall: 94.06%<br>ROC AUC: 94.07<br>Geometric Mean: 94.07<br>Matthews Correlation: 88.05<br>F1: 94.06<br>Log Loss: 205.18",
          "Multilayer Perceptron<br>Performance: 100.0%<br>Model ID: meta_4<br>Accuracy: 100.0%<br>Precision: 100.0%<br>Recall: 100.0%<br>ROC AUC: 100.0<br>Geometric Mean: 100.0<br>Matthews Correlation: 100.0<br>F1: 100.0<br>Log Loss: 0.0",
          "Logistic Regression<br>Performance: 100.0%<br>Model ID: meta_5<br>Accuracy: 100.0%<br>Precision: 100.0%<br>Recall: 100.0%<br>ROC AUC: 100.0<br>Geometric Mean: 100.0<br>Matthews Correlation: 100.0<br>F1: 100.0<br>Log Loss: 0.0",
          "Linear Discriminant Analysis<br>Performance: 98.85%<br>Model ID: meta_6<br>Accuracy: 99.01%<br>Precision: 99.01%<br>Recall: 99.01%<br>ROC AUC: 98.97<br>Geometric Mean: 98.97<br>Matthews Correlation: 98.0<br>F1: 99.01<br>Log Loss: 34.2",
          "Quadratic Discriminant Analysis<br>Performance: 91.25%<br>Model ID: meta_7<br>Accuracy: 92.41%<br>Precision: 92.43%<br>Recall: 92.41%<br>ROC AUC: 92.2<br>Geometric Mean: 92.2<br>Matthews Correlation: 84.7<br>F1: 92.4<br>Log Loss: 262.18",
          "Random Forest<br>Performance: 90.91%<br>Model ID: meta_8<br>Accuracy: 92.08%<br>Precision: 92.08%<br>Recall: 92.08%<br>ROC AUC: 92.02<br>Geometric Mean: 92.02<br>Matthews Correlation: 84.03<br>F1: 92.08<br>Log Loss: 273.58",
          "Extra Trees<br>Performance: 96.33%<br>Model ID: meta_9<br>Accuracy: 96.7%<br>Precision: 96.85%<br>Recall: 96.7%<br>ROC AUC: 96.91<br>Geometric Mean: 96.91<br>Matthews Correlation: 93.51<br>F1: 96.71<br>Log Loss: 113.99",
          "Adaptive Boosting<br>Performance: 93.03%<br>Model ID: meta_10<br>Accuracy: 93.73%<br>Precision: 94.1%<br>Recall: 93.73%<br>ROC AUC: 94.06<br>Geometric Mean: 94.06<br>Matthews Correlation: 87.78<br>F1: 93.74<br>Log Loss: 216.58",
          "Gradient Boosting<br>Performance: 93.55%<br>Model ID: meta_11<br>Accuracy: 94.39%<br>Precision: 94.39%<br>Recall: 94.39%<br>ROC AUC: 94.31<br>Geometric Mean: 94.31<br>Matthews Correlation: 88.68<br>F1: 94.39<br>Log Loss: 193.78"
         ],
         "marker": {
          "color": [
           83.35,
           83.28,
           83.13,
           83.13,
           83.11,
           83.1,
           83.08,
           83.08,
           83.09,
           83.07,
           80.97,
           80.97,
           80.97,
           80.97,
           80.97,
           79.22,
           79.22,
           79.22,
           79.09,
           79.09,
           83.67,
           83.66,
           83.54,
           83.53,
           83.41,
           82.31,
           82.31,
           73.45,
           73.45,
           71.08,
           83.44,
           83.44,
           83.44,
           83.44,
           83.44,
           91.82,
           91.83,
           91.83,
           91.82,
           91.69,
           92.27,
           92.24,
           92.24,
           92.19,
           92.19,
           85.49,
           85.37,
           85.29,
           85.19,
           85.18,
           89.77,
           89.76,
           89.76,
           89.77,
           89.75,
           87.44,
           92.41,
           93.21,
           100,
           100,
           98.85,
           91.25,
           90.91,
           96.33,
           93.03,
           93.55
          ],
          "coloraxis": "coloraxis",
          "line": {
           "color": "Black",
           "width": 1
          },
          "opacity": 0.8,
          "size": [
           20,
           20,
           20,
           20,
           20,
           20,
           20,
           20,
           20,
           20,
           20,
           20,
           20,
           20,
           20,
           20,
           20,
           20,
           20,
           20,
           20,
           20,
           20,
           20,
           20,
           20,
           20,
           20,
           20,
           20,
           20,
           20,
           20,
           20,
           20,
           20,
           20,
           20,
           20,
           20,
           20,
           20,
           20,
           20,
           20,
           20,
           20,
           20,
           20,
           20,
           20,
           20,
           20,
           20,
           20,
           40,
           40,
           40,
           40,
           40,
           40,
           40,
           40,
           40,
           40,
           40
          ],
          "symbol": [
           "circle",
           "circle",
           "circle",
           "circle",
           "circle",
           "square",
           "square",
           "square",
           "square",
           "square",
           "x",
           "x",
           "x",
           "x",
           "x",
           "cross",
           "cross",
           "cross",
           "cross",
           "cross",
           "diamond",
           "diamond",
           "diamond",
           "diamond",
           "diamond",
           "star",
           "star",
           "star",
           "star",
           "star",
           "hexagram",
           "hexagram",
           "hexagram",
           "hexagram",
           "hexagram",
           "triangle-right",
           "triangle-right",
           "triangle-right",
           "triangle-right",
           "triangle-right",
           "triangle-left",
           "triangle-left",
           "triangle-left",
           "triangle-left",
           "triangle-left",
           "triangle-down",
           "triangle-down",
           "triangle-down",
           "triangle-down",
           "triangle-down",
           "triangle-up",
           "triangle-up",
           "triangle-up",
           "triangle-up",
           "triangle-up",
           "circle",
           "square",
           "x",
           "cross",
           "diamond",
           "star",
           "hexagram",
           "triangle-right",
           "triangle-left",
           "triangle-down",
           "triangle-up"
          ]
         },
         "mode": "markers",
         "type": "scatter",
         "x": [
          3.1489102840423584,
          2.9170618057250977,
          3.2533769607543945,
          2.7093958854675293,
          3.476141929626465,
          6.0434675216674805,
          6.523767471313477,
          6.401766777038574,
          6.043111801147461,
          6.628681659698486,
          -5.287094593048096,
          -5.015157699584961,
          -5.099423885345459,
          -5.505438804626465,
          -4.747922897338867,
          -13.470871925354004,
          -14.053126335144043,
          -13.82201862335205,
          -14.264629364013672,
          -13.719200134277344,
          -0.12926074862480164,
          0.02581956796348095,
          0.38722699880599976,
          0.36727041006088257,
          0.5992056131362915,
          1.2145729064941406,
          1.7283015251159668,
          2.1508021354675293,
          2.4360852241516113,
          2.2583863735198975,
          2.520456552505493,
          2.0860233306884766,
          2.839411497116089,
          2.3657639026641846,
          2.540834665298462,
          16.06087303161621,
          15.538692474365234,
          16.213550567626953,
          15.441679954528809,
          15.7084379196167,
          1.0577070713043213,
          1.0027602910995483,
          0.828927218914032,
          1.4899481534957886,
          1.376034140586853,
          19.24986457824707,
          19.54412078857422,
          19.356157302856445,
          20.054128646850586,
          19.5936336517334,
          13.529621124267578,
          13.344063758850098,
          12.812167167663574,
          13.083197593688965,
          13.180376052856445,
          13.810514450073242,
          14.147198677062988,
          13.820074081420898,
          14.53774356842041,
          14.879515647888184,
          15.006485939025879,
          13.493910789489746,
          13.962791442871094,
          14.427448272705078,
          19.854169845581055,
          14.588628768920898
         ],
         "xaxis": "x",
         "y": [
          -10.859299659729004,
          -11.50368595123291,
          -11.791313171386719,
          -11.159076690673828,
          -11.226204872131348,
          12.112213134765625,
          12.548747062683105,
          11.946138381958008,
          11.559741973876953,
          11.861709594726562,
          6.623327255249023,
          6.205184459686279,
          7.095768451690674,
          6.7076497077941895,
          6.683154106140137,
          9.818399429321289,
          10.400717735290527,
          10.169617652893066,
          10.61220932006836,
          10.066750526428223,
          16.19251823425293,
          16.654756546020508,
          16.29464340209961,
          15.942666053771973,
          16.72150230407715,
          16.357032775878906,
          15.808369636535645,
          -12.298428535461426,
          -12.167640686035156,
          -11.81135368347168,
          15.403398513793945,
          15.004349708557129,
          15.45633316040039,
          15.600809097290039,
          14.947901725769043,
          15.1261568069458,
          15.716557502746582,
          15.38448715209961,
          15.167593955993652,
          15.554154396057129,
          -20.0629940032959,
          -19.682390213012695,
          -19.631637573242188,
          -19.626665115356445,
          -19.352535247802734,
          -26.28069496154785,
          -27.061294555664062,
          -26.6016845703125,
          -26.362638473510742,
          -26.135025024414062,
          37.04232406616211,
          36.856834411621094,
          36.32506561279297,
          36.59590148925781,
          36.69308090209961,
          13.269967079162598,
          13.385083198547363,
          12.47375774383545,
          12.495058059692383,
          12.817526817321777,
          12.959894180297852,
          12.801143646240234,
          14.088526725769043,
          13.533533096313477,
          -26.841835021972656,
          14.433582305908203
         ],
         "yaxis": "y"
        },
        {
         "hovertext": [
          "K-Nearest Neighbor<br>Performance: 83.35%<br>Model ID: 452<br>Accuracy: 70.31%<br>Precision: 70.36%<br>Recall: 70.31%<br>ROC AUC: 72.5<br>Geometric Mean: 100.0<br>Matthews Correlation: 100.0<br>F1: 100.0<br>Log Loss: 0.0",
          "K-Nearest Neighbor<br>Performance: 83.28%<br>Model ID: 288<br>Accuracy: 69.62%<br>Precision: 69.8%<br>Recall: 69.62%<br>ROC AUC: 73.91<br>Geometric Mean: 100.0<br>Matthews Correlation: 100.0<br>F1: 100.0<br>Log Loss: 0.0",
          "K-Nearest Neighbor<br>Performance: 83.13%<br>Model ID: 96<br>Accuracy: 69.29%<br>Precision: 69.48%<br>Recall: 69.29%<br>ROC AUC: 73.84<br>Geometric Mean: 100.0<br>Matthews Correlation: 100.0<br>F1: 100.0<br>Log Loss: 0.0",
          "K-Nearest Neighbor<br>Performance: 83.13%<br>Model ID: 480<br>Accuracy: 69.29%<br>Precision: 69.48%<br>Recall: 69.29%<br>ROC AUC: 73.82<br>Geometric Mean: 100.0<br>Matthews Correlation: 100.0<br>F1: 100.0<br>Log Loss: 0.0",
          "K-Nearest Neighbor<br>Performance: 83.11%<br>Model ID: 458<br>Accuracy: 69.64%<br>Precision: 69.61%<br>Recall: 69.64%<br>ROC AUC: 72.85<br>Geometric Mean: 100.0<br>Matthews Correlation: 100.0<br>F1: 100.0<br>Log Loss: 0.0",
          "Support Vector Machine<br>Performance: 83.1%<br>Model ID: 694<br>Accuracy: 82.5%<br>Precision: 82.92%<br>Recall: 82.5%<br>ROC AUC: 89.98<br>Geometric Mean: 85.43<br>Matthews Correlation: 72.38<br>F1: 85.99<br>Log Loss: 0.62",
          "Support Vector Machine<br>Performance: 83.08%<br>Model ID: 650<br>Accuracy: 82.83%<br>Precision: 83.3%<br>Recall: 82.83%<br>ROC AUC: 90.14<br>Geometric Mean: 85.07<br>Matthews Correlation: 71.75<br>F1: 85.65<br>Log Loss: 0.71",
          "Support Vector Machine<br>Performance: 83.08%<br>Model ID: 646<br>Accuracy: 82.83%<br>Precision: 83.3%<br>Recall: 82.83%<br>ROC AUC: 90.15<br>Geometric Mean: 85.07<br>Matthews Correlation: 71.75<br>F1: 85.65<br>Log Loss: 0.69",
          "Support Vector Machine<br>Performance: 83.09%<br>Model ID: 642<br>Accuracy: 82.83%<br>Precision: 83.3%<br>Recall: 82.83%<br>ROC AUC: 90.19<br>Geometric Mean: 85.07<br>Matthews Correlation: 71.75<br>F1: 85.65<br>Log Loss: 0.68",
          "Support Vector Machine<br>Performance: 83.07%<br>Model ID: 654<br>Accuracy: 82.83%<br>Precision: 83.3%<br>Recall: 82.83%<br>ROC AUC: 90.09<br>Geometric Mean: 85.07<br>Matthews Correlation: 71.75<br>F1: 85.65<br>Log Loss: 0.69",
          "Gaussian Naive Bayes<br>Performance: 80.97%<br>Model ID: 737<br>Accuracy: 80.51%<br>Precision: 80.65%<br>Recall: 80.51%<br>ROC AUC: 89.18<br>Geometric Mean: 83.79<br>Matthews Correlation: 68.01<br>F1: 84.11<br>Log Loss: 100.0",
          "Gaussian Naive Bayes<br>Performance: 80.97%<br>Model ID: 1066<br>Accuracy: 80.51%<br>Precision: 80.65%<br>Recall: 80.51%<br>ROC AUC: 89.18<br>Geometric Mean: 83.79<br>Matthews Correlation: 68.01<br>F1: 84.11<br>Log Loss: 34.0",
          "Gaussian Naive Bayes<br>Performance: 80.97%<br>Model ID: 1079<br>Accuracy: 80.51%<br>Precision: 80.65%<br>Recall: 80.51%<br>ROC AUC: 89.18<br>Geometric Mean: 83.79<br>Matthews Correlation: 68.01<br>F1: 84.11<br>Log Loss: 31.4",
          "Gaussian Naive Bayes<br>Performance: 80.97%<br>Model ID: 1078<br>Accuracy: 80.51%<br>Precision: 80.65%<br>Recall: 80.51%<br>ROC AUC: 89.18<br>Geometric Mean: 83.79<br>Matthews Correlation: 68.01<br>F1: 84.11<br>Log Loss: 31.6",
          "Gaussian Naive Bayes<br>Performance: 80.97%<br>Model ID: 1077<br>Accuracy: 80.51%<br>Precision: 80.65%<br>Recall: 80.51%<br>ROC AUC: 89.18<br>Geometric Mean: 83.79<br>Matthews Correlation: 68.01<br>F1: 84.11<br>Log Loss: 31.8",
          "Multilayer Perceptron<br>Performance: 79.22%<br>Model ID: 1262<br>Accuracy: 79.85%<br>Precision: 79.92%<br>Recall: 79.85%<br>ROC AUC: 85.88<br>Geometric Mean: 81.86<br>Matthews Correlation: 64.8<br>F1: 82.36<br>Log Loss: 17.56",
          "Multilayer Perceptron<br>Performance: 79.22%<br>Model ID: 1263<br>Accuracy: 79.85%<br>Precision: 79.92%<br>Recall: 79.85%<br>ROC AUC: 85.88<br>Geometric Mean: 81.86<br>Matthews Correlation: 64.8<br>F1: 82.36<br>Log Loss: 17.56",
          "Multilayer Perceptron<br>Performance: 79.22%<br>Model ID: 1261<br>Accuracy: 79.85%<br>Precision: 79.92%<br>Recall: 79.85%<br>ROC AUC: 85.88<br>Geometric Mean: 81.86<br>Matthews Correlation: 64.8<br>F1: 82.36<br>Log Loss: 17.56",
          "Multilayer Perceptron<br>Performance: 79.09%<br>Model ID: 1249<br>Accuracy: 79.52%<br>Precision: 79.59%<br>Recall: 79.52%<br>ROC AUC: 85.97<br>Geometric Mean: 81.86<br>Matthews Correlation: 64.8<br>F1: 82.36<br>Log Loss: 17.17",
          "Multilayer Perceptron<br>Performance: 79.09%<br>Model ID: 1251<br>Accuracy: 79.52%<br>Precision: 79.59%<br>Recall: 79.52%<br>ROC AUC: 85.97<br>Geometric Mean: 81.86<br>Matthews Correlation: 64.8<br>F1: 82.36<br>Log Loss: 17.17",
          "Logistic Regression<br>Performance: 83.67%<br>Model ID: 1677<br>Accuracy: 84.14%<br>Precision: 84.66%<br>Recall: 84.14%<br>ROC AUC: 90.32<br>Geometric Mean: 85.13<br>Matthews Correlation: 71.65<br>F1: 85.67<br>Log Loss: 3.51",
          "Logistic Regression<br>Performance: 83.66%<br>Model ID: 1741<br>Accuracy: 84.46%<br>Precision: 84.98%<br>Recall: 84.46%<br>ROC AUC: 90.58<br>Geometric Mean: 84.83<br>Matthews Correlation: 70.93<br>F1: 85.35<br>Log Loss: 3.37",
          "Logistic Regression<br>Performance: 83.54%<br>Model ID: 1901<br>Accuracy: 83.8%<br>Precision: 84.26%<br>Recall: 83.8%<br>ROC AUC: 90.5<br>Geometric Mean: 85.13<br>Matthews Correlation: 71.65<br>F1: 85.67<br>Log Loss: 3.41",
          "Logistic Regression<br>Performance: 83.53%<br>Model ID: 1773<br>Accuracy: 84.14%<br>Precision: 84.64%<br>Recall: 84.14%<br>ROC AUC: 90.65<br>Geometric Mean: 84.77<br>Matthews Correlation: 71.02<br>F1: 85.33<br>Log Loss: 3.23",
          "Logistic Regression<br>Performance: 83.41%<br>Model ID: 1869<br>Accuracy: 83.48%<br>Precision: 83.92%<br>Recall: 83.48%<br>ROC AUC: 90.54<br>Geometric Mean: 85.07<br>Matthews Correlation: 71.75<br>F1: 85.65<br>Log Loss: 2.97",
          "Linear Discriminant Analysis<br>Performance: 82.31%<br>Model ID: 1997<br>Accuracy: 83.16%<br>Precision: 84.11%<br>Recall: 83.16%<br>ROC AUC: 89.99<br>Geometric Mean: 83.32<br>Matthews Correlation: 68.51<br>F1: 83.94<br>Log Loss: 0.0",
          "Linear Discriminant Analysis<br>Performance: 82.31%<br>Model ID: 1998<br>Accuracy: 83.16%<br>Precision: 84.11%<br>Recall: 83.16%<br>ROC AUC: 89.99<br>Geometric Mean: 83.32<br>Matthews Correlation: 68.51<br>F1: 83.94<br>Log Loss: 0.0",
          "Linear Discriminant Analysis<br>Performance: 73.45%<br>Model ID: 1999<br>Accuracy: 75.89%<br>Precision: 76.41%<br>Recall: 75.89%<br>ROC AUC: 82.6<br>Geometric Mean: 75.39<br>Matthews Correlation: 52.04<br>F1: 75.95<br>Log Loss: 31.9",
          "Linear Discriminant Analysis<br>Performance: 73.45%<br>Model ID: 2000<br>Accuracy: 75.89%<br>Precision: 76.41%<br>Recall: 75.89%<br>ROC AUC: 82.6<br>Geometric Mean: 75.39<br>Matthews Correlation: 52.04<br>F1: 75.95<br>Log Loss: 31.9",
          "Linear Discriminant Analysis<br>Performance: 71.08%<br>Model ID: 2001<br>Accuracy: 74.25%<br>Precision: 74.65%<br>Recall: 74.25%<br>ROC AUC: 79.07<br>Geometric Mean: 73.45<br>Matthews Correlation: 47.92<br>F1: 73.99<br>Log Loss: 41.85",
          "Quadratic Discriminant Analysis<br>Performance: 83.44%<br>Model ID: 2227<br>Accuracy: 81.49%<br>Precision: 81.79%<br>Recall: 81.49%<br>ROC AUC: 88.84<br>Geometric Mean: 87.24<br>Matthews Correlation: 75.55<br>F1: 87.7<br>Log Loss: 0.03",
          "Quadratic Discriminant Analysis<br>Performance: 83.44%<br>Model ID: 2231<br>Accuracy: 81.49%<br>Precision: 81.79%<br>Recall: 81.49%<br>ROC AUC: 88.84<br>Geometric Mean: 87.24<br>Matthews Correlation: 75.55<br>F1: 87.7<br>Log Loss: 0.03",
          "Quadratic Discriminant Analysis<br>Performance: 83.44%<br>Model ID: 2230<br>Accuracy: 81.49%<br>Precision: 81.79%<br>Recall: 81.49%<br>ROC AUC: 88.84<br>Geometric Mean: 87.24<br>Matthews Correlation: 75.55<br>F1: 87.7<br>Log Loss: 0.03",
          "Quadratic Discriminant Analysis<br>Performance: 83.44%<br>Model ID: 2229<br>Accuracy: 81.49%<br>Precision: 81.79%<br>Recall: 81.49%<br>ROC AUC: 88.84<br>Geometric Mean: 87.24<br>Matthews Correlation: 75.55<br>F1: 87.7<br>Log Loss: 0.03",
          "Quadratic Discriminant Analysis<br>Performance: 83.44%<br>Model ID: 2228<br>Accuracy: 81.49%<br>Precision: 81.79%<br>Recall: 81.49%<br>ROC AUC: 88.84<br>Geometric Mean: 87.24<br>Matthews Correlation: 75.55<br>F1: 87.7<br>Log Loss: 0.03",
          "Random Forest<br>Performance: 91.82%<br>Model ID: 2488<br>Accuracy: 84.13%<br>Precision: 84.34%<br>Recall: 84.13%<br>ROC AUC: 90.17<br>Geometric Mean: 100.0<br>Matthews Correlation: 100.0<br>F1: 100.0<br>Log Loss: 59.71",
          "Random Forest<br>Performance: 91.83%<br>Model ID: 2490<br>Accuracy: 84.13%<br>Precision: 84.31%<br>Recall: 84.13%<br>ROC AUC: 90.21<br>Geometric Mean: 100.0<br>Matthews Correlation: 100.0<br>F1: 100.0<br>Log Loss: 52.76",
          "Random Forest<br>Performance: 91.83%<br>Model ID: 2489<br>Accuracy: 84.13%<br>Precision: 84.34%<br>Recall: 84.13%<br>ROC AUC: 90.22<br>Geometric Mean: 100.0<br>Matthews Correlation: 100.0<br>F1: 100.0<br>Log Loss: 54.75",
          "Random Forest<br>Performance: 91.82%<br>Model ID: 2494<br>Accuracy: 84.13%<br>Precision: 84.38%<br>Recall: 84.13%<br>ROC AUC: 90.11<br>Geometric Mean: 100.0<br>Matthews Correlation: 100.0<br>F1: 100.0<br>Log Loss: 58.36",
          "Random Forest<br>Performance: 91.69%<br>Model ID: 2493<br>Accuracy: 83.8%<br>Precision: 84.02%<br>Recall: 83.8%<br>ROC AUC: 90.22<br>Geometric Mean: 100.0<br>Matthews Correlation: 100.0<br>F1: 100.0<br>Log Loss: 57.04",
          "Extra Trees<br>Performance: 92.27%<br>Model ID: 2667<br>Accuracy: 84.81%<br>Precision: 85.07%<br>Recall: 84.81%<br>ROC AUC: 91.22<br>Geometric Mean: 100.0<br>Matthews Correlation: 100.0<br>F1: 100.0<br>Log Loss: 0.0",
          "Extra Trees<br>Performance: 92.24%<br>Model ID: 2659<br>Accuracy: 84.8%<br>Precision: 84.98%<br>Recall: 84.8%<br>ROC AUC: 91.07<br>Geometric Mean: 100.0<br>Matthews Correlation: 100.0<br>F1: 100.0<br>Log Loss: 0.0",
          "Extra Trees<br>Performance: 92.24%<br>Model ID: 2660<br>Accuracy: 84.8%<br>Precision: 84.98%<br>Recall: 84.8%<br>ROC AUC: 91.07<br>Geometric Mean: 100.0<br>Matthews Correlation: 100.0<br>F1: 100.0<br>Log Loss: 0.0",
          "Extra Trees<br>Performance: 92.19%<br>Model ID: 2714<br>Accuracy: 84.48%<br>Precision: 84.59%<br>Recall: 84.48%<br>ROC AUC: 91.8<br>Geometric Mean: 100.0<br>Matthews Correlation: 100.0<br>F1: 100.0<br>Log Loss: 0.0",
          "Extra Trees<br>Performance: 92.19%<br>Model ID: 2715<br>Accuracy: 84.48%<br>Precision: 84.59%<br>Recall: 84.48%<br>ROC AUC: 91.76<br>Geometric Mean: 100.0<br>Matthews Correlation: 100.0<br>F1: 100.0<br>Log Loss: 0.0",
          "Adaptive Boosting<br>Performance: 85.49%<br>Model ID: 2808<br>Accuracy: 80.83%<br>Precision: 81.1%<br>Recall: 80.83%<br>ROC AUC: 87.46<br>Geometric Mean: 92.08<br>Matthews Correlation: 84.06<br>F1: 92.08<br>Log Loss: 91.04",
          "Adaptive Boosting<br>Performance: 85.37%<br>Model ID: 2845<br>Accuracy: 80.16%<br>Precision: 80.31%<br>Recall: 80.16%<br>ROC AUC: 83.52<br>Geometric Mean: 93.35<br>Matthews Correlation: 86.69<br>F1: 93.4<br>Log Loss: 99.49",
          "Adaptive Boosting<br>Performance: 85.29%<br>Model ID: 2811<br>Accuracy: 80.5%<br>Precision: 80.76%<br>Recall: 80.5%<br>ROC AUC: 86.95<br>Geometric Mean: 92.13<br>Matthews Correlation: 84.1<br>F1: 92.09<br>Log Loss: 92.25",
          "Adaptive Boosting<br>Performance: 85.19%<br>Model ID: 2812<br>Accuracy: 80.16%<br>Precision: 80.52%<br>Recall: 80.16%<br>ROC AUC: 87.19<br>Geometric Mean: 92.13<br>Matthews Correlation: 84.1<br>F1: 92.09<br>Log Loss: 92.14",
          "Adaptive Boosting<br>Performance: 85.18%<br>Model ID: 2809<br>Accuracy: 80.17%<br>Precision: 80.42%<br>Recall: 80.17%<br>ROC AUC: 87.3<br>Geometric Mean: 92.08<br>Matthews Correlation: 84.06<br>F1: 92.08<br>Log Loss: 91.13",
          "Gradient Boosting<br>Performance: 89.77%<br>Model ID: 3030<br>Accuracy: 80.83%<br>Precision: 81.59%<br>Recall: 80.83%<br>ROC AUC: 87.84<br>Geometric Mean: 99.28<br>Matthews Correlation: 98.68<br>F1: 99.34<br>Log Loss: 3.39",
          "Gradient Boosting<br>Performance: 89.76%<br>Model ID: 3029<br>Accuracy: 80.83%<br>Precision: 81.59%<br>Recall: 80.83%<br>ROC AUC: 87.8<br>Geometric Mean: 99.28<br>Matthews Correlation: 98.68<br>F1: 99.34<br>Log Loss: 3.61",
          "Gradient Boosting<br>Performance: 89.76%<br>Model ID: 2969<br>Accuracy: 80.83%<br>Precision: 81.59%<br>Recall: 80.83%<br>ROC AUC: 87.77<br>Geometric Mean: 99.28<br>Matthews Correlation: 98.68<br>F1: 99.34<br>Log Loss: 3.61",
          "Gradient Boosting<br>Performance: 89.77%<br>Model ID: 2970<br>Accuracy: 80.83%<br>Precision: 81.59%<br>Recall: 80.83%<br>ROC AUC: 87.82<br>Geometric Mean: 99.28<br>Matthews Correlation: 98.68<br>F1: 99.34<br>Log Loss: 3.39",
          "Gradient Boosting<br>Performance: 89.75%<br>Model ID: 3026<br>Accuracy: 80.83%<br>Precision: 81.45%<br>Recall: 80.83%<br>ROC AUC: 87.84<br>Geometric Mean: 99.28<br>Matthews Correlation: 98.68<br>F1: 99.34<br>Log Loss: 4.1",
          "K-Nearest Neighbor<br>Performance: 87.44%<br>Model ID: meta_1<br>Accuracy: 89.11%<br>Precision: 89.41%<br>Recall: 89.11%<br>ROC AUC: 88.58<br>Geometric Mean: 88.58<br>Matthews Correlation: 78.24<br>F1: 89.03<br>Log Loss: 376.17",
          "Support Vector Machine<br>Performance: 92.41%<br>Model ID: meta_2<br>Accuracy: 93.4%<br>Precision: 93.4%<br>Recall: 93.4%<br>ROC AUC: 93.29<br>Geometric Mean: 93.29<br>Matthews Correlation: 86.68<br>F1: 93.4<br>Log Loss: 227.98",
          "Gaussian Naive Bayes<br>Performance: 93.21%<br>Model ID: meta_3<br>Accuracy: 94.06%<br>Precision: 94.07%<br>Recall: 94.06%<br>ROC AUC: 94.07<br>Geometric Mean: 94.07<br>Matthews Correlation: 88.05<br>F1: 94.06<br>Log Loss: 205.18",
          "Multilayer Perceptron<br>Performance: 100.0%<br>Model ID: meta_4<br>Accuracy: 100.0%<br>Precision: 100.0%<br>Recall: 100.0%<br>ROC AUC: 100.0<br>Geometric Mean: 100.0<br>Matthews Correlation: 100.0<br>F1: 100.0<br>Log Loss: 0.0",
          "Logistic Regression<br>Performance: 100.0%<br>Model ID: meta_5<br>Accuracy: 100.0%<br>Precision: 100.0%<br>Recall: 100.0%<br>ROC AUC: 100.0<br>Geometric Mean: 100.0<br>Matthews Correlation: 100.0<br>F1: 100.0<br>Log Loss: 0.0",
          "Linear Discriminant Analysis<br>Performance: 98.85%<br>Model ID: meta_6<br>Accuracy: 99.01%<br>Precision: 99.01%<br>Recall: 99.01%<br>ROC AUC: 98.97<br>Geometric Mean: 98.97<br>Matthews Correlation: 98.0<br>F1: 99.01<br>Log Loss: 34.2",
          "Quadratic Discriminant Analysis<br>Performance: 91.25%<br>Model ID: meta_7<br>Accuracy: 92.41%<br>Precision: 92.43%<br>Recall: 92.41%<br>ROC AUC: 92.2<br>Geometric Mean: 92.2<br>Matthews Correlation: 84.7<br>F1: 92.4<br>Log Loss: 262.18",
          "Random Forest<br>Performance: 90.91%<br>Model ID: meta_8<br>Accuracy: 92.08%<br>Precision: 92.08%<br>Recall: 92.08%<br>ROC AUC: 92.02<br>Geometric Mean: 92.02<br>Matthews Correlation: 84.03<br>F1: 92.08<br>Log Loss: 273.58",
          "Extra Trees<br>Performance: 96.33%<br>Model ID: meta_9<br>Accuracy: 96.7%<br>Precision: 96.85%<br>Recall: 96.7%<br>ROC AUC: 96.91<br>Geometric Mean: 96.91<br>Matthews Correlation: 93.51<br>F1: 96.71<br>Log Loss: 113.99",
          "Adaptive Boosting<br>Performance: 93.03%<br>Model ID: meta_10<br>Accuracy: 93.73%<br>Precision: 94.1%<br>Recall: 93.73%<br>ROC AUC: 94.06<br>Geometric Mean: 94.06<br>Matthews Correlation: 87.78<br>F1: 93.74<br>Log Loss: 216.58",
          "Gradient Boosting<br>Performance: 93.55%<br>Model ID: meta_11<br>Accuracy: 94.39%<br>Precision: 94.39%<br>Recall: 94.39%<br>ROC AUC: 94.31<br>Geometric Mean: 94.31<br>Matthews Correlation: 88.68<br>F1: 94.39<br>Log Loss: 193.78"
         ],
         "marker": {
          "color": [
           83.35,
           83.28,
           83.13,
           83.13,
           83.11,
           83.1,
           83.08,
           83.08,
           83.09,
           83.07,
           80.97,
           80.97,
           80.97,
           80.97,
           80.97,
           79.22,
           79.22,
           79.22,
           79.09,
           79.09,
           83.67,
           83.66,
           83.54,
           83.53,
           83.41,
           82.31,
           82.31,
           73.45,
           73.45,
           71.08,
           83.44,
           83.44,
           83.44,
           83.44,
           83.44,
           91.82,
           91.83,
           91.83,
           91.82,
           91.69,
           92.27,
           92.24,
           92.24,
           92.19,
           92.19,
           85.49,
           85.37,
           85.29,
           85.19,
           85.18,
           89.77,
           89.76,
           89.76,
           89.77,
           89.75,
           87.44,
           92.41,
           93.21,
           100,
           100,
           98.85,
           91.25,
           90.91,
           96.33,
           93.03,
           93.55
          ],
          "coloraxis": "coloraxis",
          "line": {
           "color": "Black",
           "width": 1
          },
          "opacity": 0.8,
          "size": [
           20,
           20,
           20,
           20,
           20,
           20,
           20,
           20,
           20,
           20,
           20,
           20,
           20,
           20,
           20,
           20,
           20,
           20,
           20,
           20,
           20,
           20,
           20,
           20,
           20,
           20,
           20,
           20,
           20,
           20,
           20,
           20,
           20,
           20,
           20,
           20,
           20,
           20,
           20,
           20,
           20,
           20,
           20,
           20,
           20,
           20,
           20,
           20,
           20,
           20,
           20,
           20,
           20,
           20,
           20,
           40,
           40,
           40,
           40,
           40,
           40,
           40,
           40,
           40,
           40,
           40
          ],
          "symbol": [
           "circle",
           "circle",
           "circle",
           "circle",
           "circle",
           "square",
           "square",
           "square",
           "square",
           "square",
           "x",
           "x",
           "x",
           "x",
           "x",
           "cross",
           "cross",
           "cross",
           "cross",
           "cross",
           "diamond",
           "diamond",
           "diamond",
           "diamond",
           "diamond",
           "star",
           "star",
           "star",
           "star",
           "star",
           "hexagram",
           "hexagram",
           "hexagram",
           "hexagram",
           "hexagram",
           "triangle-right",
           "triangle-right",
           "triangle-right",
           "triangle-right",
           "triangle-right",
           "triangle-left",
           "triangle-left",
           "triangle-left",
           "triangle-left",
           "triangle-left",
           "triangle-down",
           "triangle-down",
           "triangle-down",
           "triangle-down",
           "triangle-down",
           "triangle-up",
           "triangle-up",
           "triangle-up",
           "triangle-up",
           "triangle-up",
           "circle",
           "square",
           "x",
           "cross",
           "diamond",
           "star",
           "hexagram",
           "triangle-right",
           "triangle-left",
           "triangle-down",
           "triangle-up"
          ]
         },
         "mode": "markers",
         "type": "scatter",
         "x": [
          -1.5830254554748535,
          -1.4616738557815552,
          -1.210882306098938,
          -1.0311200618743896,
          -1.9203699827194214,
          -9.451109886169434,
          -9.728402137756348,
          -9.067811012268066,
          -8.843348503112793,
          -9.45873737335205,
          20.439239501953125,
          20.851581573486328,
          20.715662002563477,
          20.172401428222656,
          20.300167083740234,
          -5.432424068450928,
          -4.926461219787598,
          -4.820206165313721,
          -4.724454879760742,
          -5.182807445526123,
          6.737008571624756,
          7.07066535949707,
          6.911295413970947,
          7.461930274963379,
          7.011793613433838,
          7.3937296867370605,
          7.824677467346191,
          -0.4489790201187134,
          -0.41451534628868103,
          -0.8266386985778809,
          8.30695915222168,
          8.130224227905273,
          7.848303318023682,
          8.564493179321289,
          8.045209884643555,
          4.13728141784668,
          4.819562911987305,
          4.625216960906982,
          4.23883581161499,
          4.345652103424072,
          5.251368045806885,
          6.0764617919921875,
          5.808323860168457,
          5.735190391540527,
          5.421538829803467,
          13.6285982131958,
          14.301034927368164,
          13.472758293151855,
          14.006516456604004,
          13.539992332458496,
          9.187942504882812,
          8.857914924621582,
          9.67484188079834,
          9.489251136779785,
          9.170994758605957,
          -0.5942575335502625,
          -0.9516381025314331,
          -0.1756865382194519,
          0.4211266338825226,
          0.12442898750305176,
          0.3941880166530609,
          -0.17079350352287292,
          -1.0761613845825195,
          -0.6046032905578613,
          13.887960433959961,
          -1.4671838283538818
         ],
         "xaxis": "x",
         "y": [
          18.16817283630371,
          17.189010620117188,
          17.66031265258789,
          17.940811157226562,
          17.474285125732422,
          -4.659087181091309,
          -4.906018257141113,
          -4.987037181854248,
          -4.628007411956787,
          -5.3292388916015625,
          4.557102680206299,
          4.974758625030518,
          4.843797206878662,
          4.308328151702881,
          4.422482967376709,
          5.417618751525879,
          4.911631107330322,
          4.805661201477051,
          4.709543228149414,
          5.1681036949157715,
          -8.398284912109375,
          -8.727879524230957,
          -8.008193016052246,
          -8.333931922912598,
          -7.857588291168213,
          -7.023370742797852,
          -7.403684616088867,
          17.091033935546875,
          17.696739196777344,
          17.453317642211914,
          -7.347851276397705,
          -6.413207530975342,
          -6.810734748840332,
          -6.937431812286377,
          -6.6894941329956055,
          12.412841796875,
          12.13989543914795,
          12.721787452697754,
          11.913840293884277,
          12.117995262145996,
          10.070611000061035,
          10.232839584350586,
          9.940153121948242,
          10.777915000915527,
          10.649474143981934,
          29.99857521057129,
          30.256715774536133,
          29.85955810546875,
          30.518627166748047,
          30.62087059020996,
          -12.834504127502441,
          -13.074098587036133,
          -12.903131484985352,
          -13.172812461853027,
          -13.454032897949219,
          -1.2222411632537842,
          -1.428984522819519,
          -1.9716126918792725,
          -1.3035643100738525,
          -0.6979051232337952,
          -0.7050343751907349,
          -1.4049787521362305,
          -0.6836603283882141,
          -0.6467955708503723,
          29.834285736083984,
          -0.9398452043533325
         ],
         "yaxis": "y"
        },
        {
         "hovertext": [
          "K-Nearest Neighbor<br>Performance: 83.35%<br>Model ID: 452<br>Accuracy: 70.31%<br>Precision: 70.36%<br>Recall: 70.31%<br>ROC AUC: 72.5<br>Geometric Mean: 100.0<br>Matthews Correlation: 100.0<br>F1: 100.0<br>Log Loss: 0.0",
          "K-Nearest Neighbor<br>Performance: 83.28%<br>Model ID: 288<br>Accuracy: 69.62%<br>Precision: 69.8%<br>Recall: 69.62%<br>ROC AUC: 73.91<br>Geometric Mean: 100.0<br>Matthews Correlation: 100.0<br>F1: 100.0<br>Log Loss: 0.0",
          "K-Nearest Neighbor<br>Performance: 83.13%<br>Model ID: 96<br>Accuracy: 69.29%<br>Precision: 69.48%<br>Recall: 69.29%<br>ROC AUC: 73.84<br>Geometric Mean: 100.0<br>Matthews Correlation: 100.0<br>F1: 100.0<br>Log Loss: 0.0",
          "K-Nearest Neighbor<br>Performance: 83.13%<br>Model ID: 480<br>Accuracy: 69.29%<br>Precision: 69.48%<br>Recall: 69.29%<br>ROC AUC: 73.82<br>Geometric Mean: 100.0<br>Matthews Correlation: 100.0<br>F1: 100.0<br>Log Loss: 0.0",
          "K-Nearest Neighbor<br>Performance: 83.11%<br>Model ID: 458<br>Accuracy: 69.64%<br>Precision: 69.61%<br>Recall: 69.64%<br>ROC AUC: 72.85<br>Geometric Mean: 100.0<br>Matthews Correlation: 100.0<br>F1: 100.0<br>Log Loss: 0.0",
          "Support Vector Machine<br>Performance: 83.1%<br>Model ID: 694<br>Accuracy: 82.5%<br>Precision: 82.92%<br>Recall: 82.5%<br>ROC AUC: 89.98<br>Geometric Mean: 85.43<br>Matthews Correlation: 72.38<br>F1: 85.99<br>Log Loss: 0.62",
          "Support Vector Machine<br>Performance: 83.08%<br>Model ID: 650<br>Accuracy: 82.83%<br>Precision: 83.3%<br>Recall: 82.83%<br>ROC AUC: 90.14<br>Geometric Mean: 85.07<br>Matthews Correlation: 71.75<br>F1: 85.65<br>Log Loss: 0.71",
          "Support Vector Machine<br>Performance: 83.08%<br>Model ID: 646<br>Accuracy: 82.83%<br>Precision: 83.3%<br>Recall: 82.83%<br>ROC AUC: 90.15<br>Geometric Mean: 85.07<br>Matthews Correlation: 71.75<br>F1: 85.65<br>Log Loss: 0.69",
          "Support Vector Machine<br>Performance: 83.09%<br>Model ID: 642<br>Accuracy: 82.83%<br>Precision: 83.3%<br>Recall: 82.83%<br>ROC AUC: 90.19<br>Geometric Mean: 85.07<br>Matthews Correlation: 71.75<br>F1: 85.65<br>Log Loss: 0.68",
          "Support Vector Machine<br>Performance: 83.07%<br>Model ID: 654<br>Accuracy: 82.83%<br>Precision: 83.3%<br>Recall: 82.83%<br>ROC AUC: 90.09<br>Geometric Mean: 85.07<br>Matthews Correlation: 71.75<br>F1: 85.65<br>Log Loss: 0.69",
          "Gaussian Naive Bayes<br>Performance: 80.97%<br>Model ID: 737<br>Accuracy: 80.51%<br>Precision: 80.65%<br>Recall: 80.51%<br>ROC AUC: 89.18<br>Geometric Mean: 83.79<br>Matthews Correlation: 68.01<br>F1: 84.11<br>Log Loss: 100.0",
          "Gaussian Naive Bayes<br>Performance: 80.97%<br>Model ID: 1066<br>Accuracy: 80.51%<br>Precision: 80.65%<br>Recall: 80.51%<br>ROC AUC: 89.18<br>Geometric Mean: 83.79<br>Matthews Correlation: 68.01<br>F1: 84.11<br>Log Loss: 34.0",
          "Gaussian Naive Bayes<br>Performance: 80.97%<br>Model ID: 1079<br>Accuracy: 80.51%<br>Precision: 80.65%<br>Recall: 80.51%<br>ROC AUC: 89.18<br>Geometric Mean: 83.79<br>Matthews Correlation: 68.01<br>F1: 84.11<br>Log Loss: 31.4",
          "Gaussian Naive Bayes<br>Performance: 80.97%<br>Model ID: 1078<br>Accuracy: 80.51%<br>Precision: 80.65%<br>Recall: 80.51%<br>ROC AUC: 89.18<br>Geometric Mean: 83.79<br>Matthews Correlation: 68.01<br>F1: 84.11<br>Log Loss: 31.6",
          "Gaussian Naive Bayes<br>Performance: 80.97%<br>Model ID: 1077<br>Accuracy: 80.51%<br>Precision: 80.65%<br>Recall: 80.51%<br>ROC AUC: 89.18<br>Geometric Mean: 83.79<br>Matthews Correlation: 68.01<br>F1: 84.11<br>Log Loss: 31.8",
          "Multilayer Perceptron<br>Performance: 79.22%<br>Model ID: 1262<br>Accuracy: 79.85%<br>Precision: 79.92%<br>Recall: 79.85%<br>ROC AUC: 85.88<br>Geometric Mean: 81.86<br>Matthews Correlation: 64.8<br>F1: 82.36<br>Log Loss: 17.56",
          "Multilayer Perceptron<br>Performance: 79.22%<br>Model ID: 1263<br>Accuracy: 79.85%<br>Precision: 79.92%<br>Recall: 79.85%<br>ROC AUC: 85.88<br>Geometric Mean: 81.86<br>Matthews Correlation: 64.8<br>F1: 82.36<br>Log Loss: 17.56",
          "Multilayer Perceptron<br>Performance: 79.22%<br>Model ID: 1261<br>Accuracy: 79.85%<br>Precision: 79.92%<br>Recall: 79.85%<br>ROC AUC: 85.88<br>Geometric Mean: 81.86<br>Matthews Correlation: 64.8<br>F1: 82.36<br>Log Loss: 17.56",
          "Multilayer Perceptron<br>Performance: 79.09%<br>Model ID: 1249<br>Accuracy: 79.52%<br>Precision: 79.59%<br>Recall: 79.52%<br>ROC AUC: 85.97<br>Geometric Mean: 81.86<br>Matthews Correlation: 64.8<br>F1: 82.36<br>Log Loss: 17.17",
          "Multilayer Perceptron<br>Performance: 79.09%<br>Model ID: 1251<br>Accuracy: 79.52%<br>Precision: 79.59%<br>Recall: 79.52%<br>ROC AUC: 85.97<br>Geometric Mean: 81.86<br>Matthews Correlation: 64.8<br>F1: 82.36<br>Log Loss: 17.17",
          "Logistic Regression<br>Performance: 83.67%<br>Model ID: 1677<br>Accuracy: 84.14%<br>Precision: 84.66%<br>Recall: 84.14%<br>ROC AUC: 90.32<br>Geometric Mean: 85.13<br>Matthews Correlation: 71.65<br>F1: 85.67<br>Log Loss: 3.51",
          "Logistic Regression<br>Performance: 83.66%<br>Model ID: 1741<br>Accuracy: 84.46%<br>Precision: 84.98%<br>Recall: 84.46%<br>ROC AUC: 90.58<br>Geometric Mean: 84.83<br>Matthews Correlation: 70.93<br>F1: 85.35<br>Log Loss: 3.37",
          "Logistic Regression<br>Performance: 83.54%<br>Model ID: 1901<br>Accuracy: 83.8%<br>Precision: 84.26%<br>Recall: 83.8%<br>ROC AUC: 90.5<br>Geometric Mean: 85.13<br>Matthews Correlation: 71.65<br>F1: 85.67<br>Log Loss: 3.41",
          "Logistic Regression<br>Performance: 83.53%<br>Model ID: 1773<br>Accuracy: 84.14%<br>Precision: 84.64%<br>Recall: 84.14%<br>ROC AUC: 90.65<br>Geometric Mean: 84.77<br>Matthews Correlation: 71.02<br>F1: 85.33<br>Log Loss: 3.23",
          "Logistic Regression<br>Performance: 83.41%<br>Model ID: 1869<br>Accuracy: 83.48%<br>Precision: 83.92%<br>Recall: 83.48%<br>ROC AUC: 90.54<br>Geometric Mean: 85.07<br>Matthews Correlation: 71.75<br>F1: 85.65<br>Log Loss: 2.97",
          "Linear Discriminant Analysis<br>Performance: 82.31%<br>Model ID: 1997<br>Accuracy: 83.16%<br>Precision: 84.11%<br>Recall: 83.16%<br>ROC AUC: 89.99<br>Geometric Mean: 83.32<br>Matthews Correlation: 68.51<br>F1: 83.94<br>Log Loss: 0.0",
          "Linear Discriminant Analysis<br>Performance: 82.31%<br>Model ID: 1998<br>Accuracy: 83.16%<br>Precision: 84.11%<br>Recall: 83.16%<br>ROC AUC: 89.99<br>Geometric Mean: 83.32<br>Matthews Correlation: 68.51<br>F1: 83.94<br>Log Loss: 0.0",
          "Linear Discriminant Analysis<br>Performance: 73.45%<br>Model ID: 1999<br>Accuracy: 75.89%<br>Precision: 76.41%<br>Recall: 75.89%<br>ROC AUC: 82.6<br>Geometric Mean: 75.39<br>Matthews Correlation: 52.04<br>F1: 75.95<br>Log Loss: 31.9",
          "Linear Discriminant Analysis<br>Performance: 73.45%<br>Model ID: 2000<br>Accuracy: 75.89%<br>Precision: 76.41%<br>Recall: 75.89%<br>ROC AUC: 82.6<br>Geometric Mean: 75.39<br>Matthews Correlation: 52.04<br>F1: 75.95<br>Log Loss: 31.9",
          "Linear Discriminant Analysis<br>Performance: 71.08%<br>Model ID: 2001<br>Accuracy: 74.25%<br>Precision: 74.65%<br>Recall: 74.25%<br>ROC AUC: 79.07<br>Geometric Mean: 73.45<br>Matthews Correlation: 47.92<br>F1: 73.99<br>Log Loss: 41.85",
          "Quadratic Discriminant Analysis<br>Performance: 83.44%<br>Model ID: 2227<br>Accuracy: 81.49%<br>Precision: 81.79%<br>Recall: 81.49%<br>ROC AUC: 88.84<br>Geometric Mean: 87.24<br>Matthews Correlation: 75.55<br>F1: 87.7<br>Log Loss: 0.03",
          "Quadratic Discriminant Analysis<br>Performance: 83.44%<br>Model ID: 2231<br>Accuracy: 81.49%<br>Precision: 81.79%<br>Recall: 81.49%<br>ROC AUC: 88.84<br>Geometric Mean: 87.24<br>Matthews Correlation: 75.55<br>F1: 87.7<br>Log Loss: 0.03",
          "Quadratic Discriminant Analysis<br>Performance: 83.44%<br>Model ID: 2230<br>Accuracy: 81.49%<br>Precision: 81.79%<br>Recall: 81.49%<br>ROC AUC: 88.84<br>Geometric Mean: 87.24<br>Matthews Correlation: 75.55<br>F1: 87.7<br>Log Loss: 0.03",
          "Quadratic Discriminant Analysis<br>Performance: 83.44%<br>Model ID: 2229<br>Accuracy: 81.49%<br>Precision: 81.79%<br>Recall: 81.49%<br>ROC AUC: 88.84<br>Geometric Mean: 87.24<br>Matthews Correlation: 75.55<br>F1: 87.7<br>Log Loss: 0.03",
          "Quadratic Discriminant Analysis<br>Performance: 83.44%<br>Model ID: 2228<br>Accuracy: 81.49%<br>Precision: 81.79%<br>Recall: 81.49%<br>ROC AUC: 88.84<br>Geometric Mean: 87.24<br>Matthews Correlation: 75.55<br>F1: 87.7<br>Log Loss: 0.03",
          "Random Forest<br>Performance: 91.82%<br>Model ID: 2488<br>Accuracy: 84.13%<br>Precision: 84.34%<br>Recall: 84.13%<br>ROC AUC: 90.17<br>Geometric Mean: 100.0<br>Matthews Correlation: 100.0<br>F1: 100.0<br>Log Loss: 59.71",
          "Random Forest<br>Performance: 91.83%<br>Model ID: 2490<br>Accuracy: 84.13%<br>Precision: 84.31%<br>Recall: 84.13%<br>ROC AUC: 90.21<br>Geometric Mean: 100.0<br>Matthews Correlation: 100.0<br>F1: 100.0<br>Log Loss: 52.76",
          "Random Forest<br>Performance: 91.83%<br>Model ID: 2489<br>Accuracy: 84.13%<br>Precision: 84.34%<br>Recall: 84.13%<br>ROC AUC: 90.22<br>Geometric Mean: 100.0<br>Matthews Correlation: 100.0<br>F1: 100.0<br>Log Loss: 54.75",
          "Random Forest<br>Performance: 91.82%<br>Model ID: 2494<br>Accuracy: 84.13%<br>Precision: 84.38%<br>Recall: 84.13%<br>ROC AUC: 90.11<br>Geometric Mean: 100.0<br>Matthews Correlation: 100.0<br>F1: 100.0<br>Log Loss: 58.36",
          "Random Forest<br>Performance: 91.69%<br>Model ID: 2493<br>Accuracy: 83.8%<br>Precision: 84.02%<br>Recall: 83.8%<br>ROC AUC: 90.22<br>Geometric Mean: 100.0<br>Matthews Correlation: 100.0<br>F1: 100.0<br>Log Loss: 57.04",
          "Extra Trees<br>Performance: 92.27%<br>Model ID: 2667<br>Accuracy: 84.81%<br>Precision: 85.07%<br>Recall: 84.81%<br>ROC AUC: 91.22<br>Geometric Mean: 100.0<br>Matthews Correlation: 100.0<br>F1: 100.0<br>Log Loss: 0.0",
          "Extra Trees<br>Performance: 92.24%<br>Model ID: 2659<br>Accuracy: 84.8%<br>Precision: 84.98%<br>Recall: 84.8%<br>ROC AUC: 91.07<br>Geometric Mean: 100.0<br>Matthews Correlation: 100.0<br>F1: 100.0<br>Log Loss: 0.0",
          "Extra Trees<br>Performance: 92.24%<br>Model ID: 2660<br>Accuracy: 84.8%<br>Precision: 84.98%<br>Recall: 84.8%<br>ROC AUC: 91.07<br>Geometric Mean: 100.0<br>Matthews Correlation: 100.0<br>F1: 100.0<br>Log Loss: 0.0",
          "Extra Trees<br>Performance: 92.19%<br>Model ID: 2714<br>Accuracy: 84.48%<br>Precision: 84.59%<br>Recall: 84.48%<br>ROC AUC: 91.8<br>Geometric Mean: 100.0<br>Matthews Correlation: 100.0<br>F1: 100.0<br>Log Loss: 0.0",
          "Extra Trees<br>Performance: 92.19%<br>Model ID: 2715<br>Accuracy: 84.48%<br>Precision: 84.59%<br>Recall: 84.48%<br>ROC AUC: 91.76<br>Geometric Mean: 100.0<br>Matthews Correlation: 100.0<br>F1: 100.0<br>Log Loss: 0.0",
          "Adaptive Boosting<br>Performance: 85.49%<br>Model ID: 2808<br>Accuracy: 80.83%<br>Precision: 81.1%<br>Recall: 80.83%<br>ROC AUC: 87.46<br>Geometric Mean: 92.08<br>Matthews Correlation: 84.06<br>F1: 92.08<br>Log Loss: 91.04",
          "Adaptive Boosting<br>Performance: 85.37%<br>Model ID: 2845<br>Accuracy: 80.16%<br>Precision: 80.31%<br>Recall: 80.16%<br>ROC AUC: 83.52<br>Geometric Mean: 93.35<br>Matthews Correlation: 86.69<br>F1: 93.4<br>Log Loss: 99.49",
          "Adaptive Boosting<br>Performance: 85.29%<br>Model ID: 2811<br>Accuracy: 80.5%<br>Precision: 80.76%<br>Recall: 80.5%<br>ROC AUC: 86.95<br>Geometric Mean: 92.13<br>Matthews Correlation: 84.1<br>F1: 92.09<br>Log Loss: 92.25",
          "Adaptive Boosting<br>Performance: 85.19%<br>Model ID: 2812<br>Accuracy: 80.16%<br>Precision: 80.52%<br>Recall: 80.16%<br>ROC AUC: 87.19<br>Geometric Mean: 92.13<br>Matthews Correlation: 84.1<br>F1: 92.09<br>Log Loss: 92.14",
          "Adaptive Boosting<br>Performance: 85.18%<br>Model ID: 2809<br>Accuracy: 80.17%<br>Precision: 80.42%<br>Recall: 80.17%<br>ROC AUC: 87.3<br>Geometric Mean: 92.08<br>Matthews Correlation: 84.06<br>F1: 92.08<br>Log Loss: 91.13",
          "Gradient Boosting<br>Performance: 89.77%<br>Model ID: 3030<br>Accuracy: 80.83%<br>Precision: 81.59%<br>Recall: 80.83%<br>ROC AUC: 87.84<br>Geometric Mean: 99.28<br>Matthews Correlation: 98.68<br>F1: 99.34<br>Log Loss: 3.39",
          "Gradient Boosting<br>Performance: 89.76%<br>Model ID: 3029<br>Accuracy: 80.83%<br>Precision: 81.59%<br>Recall: 80.83%<br>ROC AUC: 87.8<br>Geometric Mean: 99.28<br>Matthews Correlation: 98.68<br>F1: 99.34<br>Log Loss: 3.61",
          "Gradient Boosting<br>Performance: 89.76%<br>Model ID: 2969<br>Accuracy: 80.83%<br>Precision: 81.59%<br>Recall: 80.83%<br>ROC AUC: 87.77<br>Geometric Mean: 99.28<br>Matthews Correlation: 98.68<br>F1: 99.34<br>Log Loss: 3.61",
          "Gradient Boosting<br>Performance: 89.77%<br>Model ID: 2970<br>Accuracy: 80.83%<br>Precision: 81.59%<br>Recall: 80.83%<br>ROC AUC: 87.82<br>Geometric Mean: 99.28<br>Matthews Correlation: 98.68<br>F1: 99.34<br>Log Loss: 3.39",
          "Gradient Boosting<br>Performance: 89.75%<br>Model ID: 3026<br>Accuracy: 80.83%<br>Precision: 81.45%<br>Recall: 80.83%<br>ROC AUC: 87.84<br>Geometric Mean: 99.28<br>Matthews Correlation: 98.68<br>F1: 99.34<br>Log Loss: 4.1",
          "K-Nearest Neighbor<br>Performance: 87.44%<br>Model ID: meta_1<br>Accuracy: 89.11%<br>Precision: 89.41%<br>Recall: 89.11%<br>ROC AUC: 88.58<br>Geometric Mean: 88.58<br>Matthews Correlation: 78.24<br>F1: 89.03<br>Log Loss: 376.17",
          "Support Vector Machine<br>Performance: 92.41%<br>Model ID: meta_2<br>Accuracy: 93.4%<br>Precision: 93.4%<br>Recall: 93.4%<br>ROC AUC: 93.29<br>Geometric Mean: 93.29<br>Matthews Correlation: 86.68<br>F1: 93.4<br>Log Loss: 227.98",
          "Gaussian Naive Bayes<br>Performance: 93.21%<br>Model ID: meta_3<br>Accuracy: 94.06%<br>Precision: 94.07%<br>Recall: 94.06%<br>ROC AUC: 94.07<br>Geometric Mean: 94.07<br>Matthews Correlation: 88.05<br>F1: 94.06<br>Log Loss: 205.18",
          "Multilayer Perceptron<br>Performance: 100.0%<br>Model ID: meta_4<br>Accuracy: 100.0%<br>Precision: 100.0%<br>Recall: 100.0%<br>ROC AUC: 100.0<br>Geometric Mean: 100.0<br>Matthews Correlation: 100.0<br>F1: 100.0<br>Log Loss: 0.0",
          "Logistic Regression<br>Performance: 100.0%<br>Model ID: meta_5<br>Accuracy: 100.0%<br>Precision: 100.0%<br>Recall: 100.0%<br>ROC AUC: 100.0<br>Geometric Mean: 100.0<br>Matthews Correlation: 100.0<br>F1: 100.0<br>Log Loss: 0.0",
          "Linear Discriminant Analysis<br>Performance: 98.85%<br>Model ID: meta_6<br>Accuracy: 99.01%<br>Precision: 99.01%<br>Recall: 99.01%<br>ROC AUC: 98.97<br>Geometric Mean: 98.97<br>Matthews Correlation: 98.0<br>F1: 99.01<br>Log Loss: 34.2",
          "Quadratic Discriminant Analysis<br>Performance: 91.25%<br>Model ID: meta_7<br>Accuracy: 92.41%<br>Precision: 92.43%<br>Recall: 92.41%<br>ROC AUC: 92.2<br>Geometric Mean: 92.2<br>Matthews Correlation: 84.7<br>F1: 92.4<br>Log Loss: 262.18",
          "Random Forest<br>Performance: 90.91%<br>Model ID: meta_8<br>Accuracy: 92.08%<br>Precision: 92.08%<br>Recall: 92.08%<br>ROC AUC: 92.02<br>Geometric Mean: 92.02<br>Matthews Correlation: 84.03<br>F1: 92.08<br>Log Loss: 273.58",
          "Extra Trees<br>Performance: 96.33%<br>Model ID: meta_9<br>Accuracy: 96.7%<br>Precision: 96.85%<br>Recall: 96.7%<br>ROC AUC: 96.91<br>Geometric Mean: 96.91<br>Matthews Correlation: 93.51<br>F1: 96.71<br>Log Loss: 113.99",
          "Adaptive Boosting<br>Performance: 93.03%<br>Model ID: meta_10<br>Accuracy: 93.73%<br>Precision: 94.1%<br>Recall: 93.73%<br>ROC AUC: 94.06<br>Geometric Mean: 94.06<br>Matthews Correlation: 87.78<br>F1: 93.74<br>Log Loss: 216.58",
          "Gradient Boosting<br>Performance: 93.55%<br>Model ID: meta_11<br>Accuracy: 94.39%<br>Precision: 94.39%<br>Recall: 94.39%<br>ROC AUC: 94.31<br>Geometric Mean: 94.31<br>Matthews Correlation: 88.68<br>F1: 94.39<br>Log Loss: 193.78"
         ],
         "marker": {
          "color": [
           83.35,
           83.28,
           83.13,
           83.13,
           83.11,
           83.1,
           83.08,
           83.08,
           83.09,
           83.07,
           80.97,
           80.97,
           80.97,
           80.97,
           80.97,
           79.22,
           79.22,
           79.22,
           79.09,
           79.09,
           83.67,
           83.66,
           83.54,
           83.53,
           83.41,
           82.31,
           82.31,
           73.45,
           73.45,
           71.08,
           83.44,
           83.44,
           83.44,
           83.44,
           83.44,
           91.82,
           91.83,
           91.83,
           91.82,
           91.69,
           92.27,
           92.24,
           92.24,
           92.19,
           92.19,
           85.49,
           85.37,
           85.29,
           85.19,
           85.18,
           89.77,
           89.76,
           89.76,
           89.77,
           89.75,
           87.44,
           92.41,
           93.21,
           100,
           100,
           98.85,
           91.25,
           90.91,
           96.33,
           93.03,
           93.55
          ],
          "coloraxis": "coloraxis",
          "line": {
           "color": "Black",
           "width": 1
          },
          "opacity": 0.8,
          "size": [
           20,
           20,
           20,
           20,
           20,
           20,
           20,
           20,
           20,
           20,
           20,
           20,
           20,
           20,
           20,
           20,
           20,
           20,
           20,
           20,
           20,
           20,
           20,
           20,
           20,
           20,
           20,
           20,
           20,
           20,
           20,
           20,
           20,
           20,
           20,
           20,
           20,
           20,
           20,
           20,
           20,
           20,
           20,
           20,
           20,
           20,
           20,
           20,
           20,
           20,
           20,
           20,
           20,
           20,
           20,
           40,
           40,
           40,
           40,
           40,
           40,
           40,
           40,
           40,
           40,
           40
          ],
          "symbol": [
           "circle",
           "circle",
           "circle",
           "circle",
           "circle",
           "square",
           "square",
           "square",
           "square",
           "square",
           "x",
           "x",
           "x",
           "x",
           "x",
           "cross",
           "cross",
           "cross",
           "cross",
           "cross",
           "diamond",
           "diamond",
           "diamond",
           "diamond",
           "diamond",
           "star",
           "star",
           "star",
           "star",
           "star",
           "hexagram",
           "hexagram",
           "hexagram",
           "hexagram",
           "hexagram",
           "triangle-right",
           "triangle-right",
           "triangle-right",
           "triangle-right",
           "triangle-right",
           "triangle-left",
           "triangle-left",
           "triangle-left",
           "triangle-left",
           "triangle-left",
           "triangle-down",
           "triangle-down",
           "triangle-down",
           "triangle-down",
           "triangle-down",
           "triangle-up",
           "triangle-up",
           "triangle-up",
           "triangle-up",
           "triangle-up",
           "circle",
           "square",
           "x",
           "cross",
           "diamond",
           "star",
           "hexagram",
           "triangle-right",
           "triangle-left",
           "triangle-down",
           "triangle-up"
          ]
         },
         "mode": "markers",
         "type": "scatter",
         "x": [
          -11.390588760375977,
          -11.02601146697998,
          -11.638814926147461,
          -11.462875366210938,
          -10.93159008026123,
          -9.660822868347168,
          -9.471733093261719,
          -9.402103424072266,
          -8.865968704223633,
          -9.170394897460938,
          21.75738525390625,
          21.553333282470703,
          22.338970184326172,
          22.164867401123047,
          21.961029052734375,
          -5.170553207397461,
          -5.3852763175964355,
          -5.028857707977295,
          -5.787717342376709,
          -5.4261980056762695,
          4.9430670738220215,
          4.370776176452637,
          4.527277946472168,
          4.660612106323242,
          4.017704963684082,
          3.9837138652801514,
          3.5379345417022705,
          -11.572338104248047,
          -11.417693138122559,
          -12.083526611328125,
          3.6512393951416016,
          3.1953301429748535,
          3.3302359580993652,
          3.906067371368408,
          3.095304250717163,
          11.536151885986328,
          12.10808277130127,
          11.999459266662598,
          12.370818138122559,
          11.912457466125488,
          12.996899604797363,
          13.250818252563477,
          13.561298370361328,
          13.231654167175293,
          13.66158676147461,
          23.53285026550293,
          23.9632625579834,
          23.940061569213867,
          24.19728660583496,
          23.720312118530273,
          -9.52609634399414,
          -8.85224437713623,
          -9.223067283630371,
          -8.982505798339844,
          -9.614419937133789,
          13.58828067779541,
          13.595909118652344,
          13.87523078918457,
          12.872946739196777,
          12.951369285583496,
          13.293623924255371,
          14.06038761138916,
          13.244704246520996,
          14.219403266906738,
          23.61058235168457,
          13.094636917114258
         ],
         "xaxis": "x",
         "y": [
          4.120485782623291,
          3.2577245235443115,
          3.860166072845459,
          3.3884787559509277,
          3.7748911380767822,
          19.524675369262695,
          20.043161392211914,
          19.457307815551758,
          19.671405792236328,
          19.912487030029297,
          13.396075248718262,
          13.602569580078125,
          12.816673278808594,
          12.990777969360352,
          13.193248748779297,
          8.780900001525879,
          9.323433876037598,
          8.624987602233887,
          8.899359703063965,
          8.484546661376953,
          6.073196887969971,
          5.77232027053833,
          6.621549606323242,
          6.285341262817383,
          6.393207550048828,
          7.18079137802124,
          7.178034782409668,
          2.5661542415618896,
          2.908231258392334,
          3.036435842514038,
          8.122818946838379,
          8.013142585754395,
          7.472568035125732,
          7.699350833892822,
          7.5983452796936035,
          7.3235344886779785,
          7.547356128692627,
          7.750714302062988,
          7.300428867340088,
          6.917247772216797,
          9.085685729980469,
          8.782059669494629,
          9.076399803161621,
          8.205366134643555,
          8.500504493713379,
          2.600761890411377,
          2.8189995288848877,
          3.5557777881622314,
          3.0596225261688232,
          2.746417284011841,
          15.613933563232422,
          16.059276580810547,
          15.870920181274414,
          16.359886169433594,
          16.323156356811523,
          5.189288139343262,
          5.500871658325195,
          4.814522743225098,
          5.011443138122559,
          4.364022254943848,
          4.438891410827637,
          4.685638427734375,
          5.554317474365234,
          5.48681116104126,
          3.2455499172210693,
          6.335338592529297
         ],
         "yaxis": "y"
        },
        {
         "hovertext": [
          "K-Nearest Neighbor<br>Performance: 83.35%<br>Model ID: 452<br>Accuracy: 70.31%<br>Precision: 70.36%<br>Recall: 70.31%<br>ROC AUC: 72.5<br>Geometric Mean: 100.0<br>Matthews Correlation: 100.0<br>F1: 100.0<br>Log Loss: 0.0",
          "K-Nearest Neighbor<br>Performance: 83.28%<br>Model ID: 288<br>Accuracy: 69.62%<br>Precision: 69.8%<br>Recall: 69.62%<br>ROC AUC: 73.91<br>Geometric Mean: 100.0<br>Matthews Correlation: 100.0<br>F1: 100.0<br>Log Loss: 0.0",
          "K-Nearest Neighbor<br>Performance: 83.13%<br>Model ID: 96<br>Accuracy: 69.29%<br>Precision: 69.48%<br>Recall: 69.29%<br>ROC AUC: 73.84<br>Geometric Mean: 100.0<br>Matthews Correlation: 100.0<br>F1: 100.0<br>Log Loss: 0.0",
          "K-Nearest Neighbor<br>Performance: 83.13%<br>Model ID: 480<br>Accuracy: 69.29%<br>Precision: 69.48%<br>Recall: 69.29%<br>ROC AUC: 73.82<br>Geometric Mean: 100.0<br>Matthews Correlation: 100.0<br>F1: 100.0<br>Log Loss: 0.0",
          "K-Nearest Neighbor<br>Performance: 83.11%<br>Model ID: 458<br>Accuracy: 69.64%<br>Precision: 69.61%<br>Recall: 69.64%<br>ROC AUC: 72.85<br>Geometric Mean: 100.0<br>Matthews Correlation: 100.0<br>F1: 100.0<br>Log Loss: 0.0",
          "Support Vector Machine<br>Performance: 83.1%<br>Model ID: 694<br>Accuracy: 82.5%<br>Precision: 82.92%<br>Recall: 82.5%<br>ROC AUC: 89.98<br>Geometric Mean: 85.43<br>Matthews Correlation: 72.38<br>F1: 85.99<br>Log Loss: 0.62",
          "Support Vector Machine<br>Performance: 83.08%<br>Model ID: 650<br>Accuracy: 82.83%<br>Precision: 83.3%<br>Recall: 82.83%<br>ROC AUC: 90.14<br>Geometric Mean: 85.07<br>Matthews Correlation: 71.75<br>F1: 85.65<br>Log Loss: 0.71",
          "Support Vector Machine<br>Performance: 83.08%<br>Model ID: 646<br>Accuracy: 82.83%<br>Precision: 83.3%<br>Recall: 82.83%<br>ROC AUC: 90.15<br>Geometric Mean: 85.07<br>Matthews Correlation: 71.75<br>F1: 85.65<br>Log Loss: 0.69",
          "Support Vector Machine<br>Performance: 83.09%<br>Model ID: 642<br>Accuracy: 82.83%<br>Precision: 83.3%<br>Recall: 82.83%<br>ROC AUC: 90.19<br>Geometric Mean: 85.07<br>Matthews Correlation: 71.75<br>F1: 85.65<br>Log Loss: 0.68",
          "Support Vector Machine<br>Performance: 83.07%<br>Model ID: 654<br>Accuracy: 82.83%<br>Precision: 83.3%<br>Recall: 82.83%<br>ROC AUC: 90.09<br>Geometric Mean: 85.07<br>Matthews Correlation: 71.75<br>F1: 85.65<br>Log Loss: 0.69",
          "Gaussian Naive Bayes<br>Performance: 80.97%<br>Model ID: 737<br>Accuracy: 80.51%<br>Precision: 80.65%<br>Recall: 80.51%<br>ROC AUC: 89.18<br>Geometric Mean: 83.79<br>Matthews Correlation: 68.01<br>F1: 84.11<br>Log Loss: 100.0",
          "Gaussian Naive Bayes<br>Performance: 80.97%<br>Model ID: 1066<br>Accuracy: 80.51%<br>Precision: 80.65%<br>Recall: 80.51%<br>ROC AUC: 89.18<br>Geometric Mean: 83.79<br>Matthews Correlation: 68.01<br>F1: 84.11<br>Log Loss: 34.0",
          "Gaussian Naive Bayes<br>Performance: 80.97%<br>Model ID: 1079<br>Accuracy: 80.51%<br>Precision: 80.65%<br>Recall: 80.51%<br>ROC AUC: 89.18<br>Geometric Mean: 83.79<br>Matthews Correlation: 68.01<br>F1: 84.11<br>Log Loss: 31.4",
          "Gaussian Naive Bayes<br>Performance: 80.97%<br>Model ID: 1078<br>Accuracy: 80.51%<br>Precision: 80.65%<br>Recall: 80.51%<br>ROC AUC: 89.18<br>Geometric Mean: 83.79<br>Matthews Correlation: 68.01<br>F1: 84.11<br>Log Loss: 31.6",
          "Gaussian Naive Bayes<br>Performance: 80.97%<br>Model ID: 1077<br>Accuracy: 80.51%<br>Precision: 80.65%<br>Recall: 80.51%<br>ROC AUC: 89.18<br>Geometric Mean: 83.79<br>Matthews Correlation: 68.01<br>F1: 84.11<br>Log Loss: 31.8",
          "Multilayer Perceptron<br>Performance: 79.22%<br>Model ID: 1262<br>Accuracy: 79.85%<br>Precision: 79.92%<br>Recall: 79.85%<br>ROC AUC: 85.88<br>Geometric Mean: 81.86<br>Matthews Correlation: 64.8<br>F1: 82.36<br>Log Loss: 17.56",
          "Multilayer Perceptron<br>Performance: 79.22%<br>Model ID: 1263<br>Accuracy: 79.85%<br>Precision: 79.92%<br>Recall: 79.85%<br>ROC AUC: 85.88<br>Geometric Mean: 81.86<br>Matthews Correlation: 64.8<br>F1: 82.36<br>Log Loss: 17.56",
          "Multilayer Perceptron<br>Performance: 79.22%<br>Model ID: 1261<br>Accuracy: 79.85%<br>Precision: 79.92%<br>Recall: 79.85%<br>ROC AUC: 85.88<br>Geometric Mean: 81.86<br>Matthews Correlation: 64.8<br>F1: 82.36<br>Log Loss: 17.56",
          "Multilayer Perceptron<br>Performance: 79.09%<br>Model ID: 1249<br>Accuracy: 79.52%<br>Precision: 79.59%<br>Recall: 79.52%<br>ROC AUC: 85.97<br>Geometric Mean: 81.86<br>Matthews Correlation: 64.8<br>F1: 82.36<br>Log Loss: 17.17",
          "Multilayer Perceptron<br>Performance: 79.09%<br>Model ID: 1251<br>Accuracy: 79.52%<br>Precision: 79.59%<br>Recall: 79.52%<br>ROC AUC: 85.97<br>Geometric Mean: 81.86<br>Matthews Correlation: 64.8<br>F1: 82.36<br>Log Loss: 17.17",
          "Logistic Regression<br>Performance: 83.67%<br>Model ID: 1677<br>Accuracy: 84.14%<br>Precision: 84.66%<br>Recall: 84.14%<br>ROC AUC: 90.32<br>Geometric Mean: 85.13<br>Matthews Correlation: 71.65<br>F1: 85.67<br>Log Loss: 3.51",
          "Logistic Regression<br>Performance: 83.66%<br>Model ID: 1741<br>Accuracy: 84.46%<br>Precision: 84.98%<br>Recall: 84.46%<br>ROC AUC: 90.58<br>Geometric Mean: 84.83<br>Matthews Correlation: 70.93<br>F1: 85.35<br>Log Loss: 3.37",
          "Logistic Regression<br>Performance: 83.54%<br>Model ID: 1901<br>Accuracy: 83.8%<br>Precision: 84.26%<br>Recall: 83.8%<br>ROC AUC: 90.5<br>Geometric Mean: 85.13<br>Matthews Correlation: 71.65<br>F1: 85.67<br>Log Loss: 3.41",
          "Logistic Regression<br>Performance: 83.53%<br>Model ID: 1773<br>Accuracy: 84.14%<br>Precision: 84.64%<br>Recall: 84.14%<br>ROC AUC: 90.65<br>Geometric Mean: 84.77<br>Matthews Correlation: 71.02<br>F1: 85.33<br>Log Loss: 3.23",
          "Logistic Regression<br>Performance: 83.41%<br>Model ID: 1869<br>Accuracy: 83.48%<br>Precision: 83.92%<br>Recall: 83.48%<br>ROC AUC: 90.54<br>Geometric Mean: 85.07<br>Matthews Correlation: 71.75<br>F1: 85.65<br>Log Loss: 2.97",
          "Linear Discriminant Analysis<br>Performance: 82.31%<br>Model ID: 1997<br>Accuracy: 83.16%<br>Precision: 84.11%<br>Recall: 83.16%<br>ROC AUC: 89.99<br>Geometric Mean: 83.32<br>Matthews Correlation: 68.51<br>F1: 83.94<br>Log Loss: 0.0",
          "Linear Discriminant Analysis<br>Performance: 82.31%<br>Model ID: 1998<br>Accuracy: 83.16%<br>Precision: 84.11%<br>Recall: 83.16%<br>ROC AUC: 89.99<br>Geometric Mean: 83.32<br>Matthews Correlation: 68.51<br>F1: 83.94<br>Log Loss: 0.0",
          "Linear Discriminant Analysis<br>Performance: 73.45%<br>Model ID: 1999<br>Accuracy: 75.89%<br>Precision: 76.41%<br>Recall: 75.89%<br>ROC AUC: 82.6<br>Geometric Mean: 75.39<br>Matthews Correlation: 52.04<br>F1: 75.95<br>Log Loss: 31.9",
          "Linear Discriminant Analysis<br>Performance: 73.45%<br>Model ID: 2000<br>Accuracy: 75.89%<br>Precision: 76.41%<br>Recall: 75.89%<br>ROC AUC: 82.6<br>Geometric Mean: 75.39<br>Matthews Correlation: 52.04<br>F1: 75.95<br>Log Loss: 31.9",
          "Linear Discriminant Analysis<br>Performance: 71.08%<br>Model ID: 2001<br>Accuracy: 74.25%<br>Precision: 74.65%<br>Recall: 74.25%<br>ROC AUC: 79.07<br>Geometric Mean: 73.45<br>Matthews Correlation: 47.92<br>F1: 73.99<br>Log Loss: 41.85",
          "Quadratic Discriminant Analysis<br>Performance: 83.44%<br>Model ID: 2227<br>Accuracy: 81.49%<br>Precision: 81.79%<br>Recall: 81.49%<br>ROC AUC: 88.84<br>Geometric Mean: 87.24<br>Matthews Correlation: 75.55<br>F1: 87.7<br>Log Loss: 0.03",
          "Quadratic Discriminant Analysis<br>Performance: 83.44%<br>Model ID: 2231<br>Accuracy: 81.49%<br>Precision: 81.79%<br>Recall: 81.49%<br>ROC AUC: 88.84<br>Geometric Mean: 87.24<br>Matthews Correlation: 75.55<br>F1: 87.7<br>Log Loss: 0.03",
          "Quadratic Discriminant Analysis<br>Performance: 83.44%<br>Model ID: 2230<br>Accuracy: 81.49%<br>Precision: 81.79%<br>Recall: 81.49%<br>ROC AUC: 88.84<br>Geometric Mean: 87.24<br>Matthews Correlation: 75.55<br>F1: 87.7<br>Log Loss: 0.03",
          "Quadratic Discriminant Analysis<br>Performance: 83.44%<br>Model ID: 2229<br>Accuracy: 81.49%<br>Precision: 81.79%<br>Recall: 81.49%<br>ROC AUC: 88.84<br>Geometric Mean: 87.24<br>Matthews Correlation: 75.55<br>F1: 87.7<br>Log Loss: 0.03",
          "Quadratic Discriminant Analysis<br>Performance: 83.44%<br>Model ID: 2228<br>Accuracy: 81.49%<br>Precision: 81.79%<br>Recall: 81.49%<br>ROC AUC: 88.84<br>Geometric Mean: 87.24<br>Matthews Correlation: 75.55<br>F1: 87.7<br>Log Loss: 0.03",
          "Random Forest<br>Performance: 91.82%<br>Model ID: 2488<br>Accuracy: 84.13%<br>Precision: 84.34%<br>Recall: 84.13%<br>ROC AUC: 90.17<br>Geometric Mean: 100.0<br>Matthews Correlation: 100.0<br>F1: 100.0<br>Log Loss: 59.71",
          "Random Forest<br>Performance: 91.83%<br>Model ID: 2490<br>Accuracy: 84.13%<br>Precision: 84.31%<br>Recall: 84.13%<br>ROC AUC: 90.21<br>Geometric Mean: 100.0<br>Matthews Correlation: 100.0<br>F1: 100.0<br>Log Loss: 52.76",
          "Random Forest<br>Performance: 91.83%<br>Model ID: 2489<br>Accuracy: 84.13%<br>Precision: 84.34%<br>Recall: 84.13%<br>ROC AUC: 90.22<br>Geometric Mean: 100.0<br>Matthews Correlation: 100.0<br>F1: 100.0<br>Log Loss: 54.75",
          "Random Forest<br>Performance: 91.82%<br>Model ID: 2494<br>Accuracy: 84.13%<br>Precision: 84.38%<br>Recall: 84.13%<br>ROC AUC: 90.11<br>Geometric Mean: 100.0<br>Matthews Correlation: 100.0<br>F1: 100.0<br>Log Loss: 58.36",
          "Random Forest<br>Performance: 91.69%<br>Model ID: 2493<br>Accuracy: 83.8%<br>Precision: 84.02%<br>Recall: 83.8%<br>ROC AUC: 90.22<br>Geometric Mean: 100.0<br>Matthews Correlation: 100.0<br>F1: 100.0<br>Log Loss: 57.04",
          "Extra Trees<br>Performance: 92.27%<br>Model ID: 2667<br>Accuracy: 84.81%<br>Precision: 85.07%<br>Recall: 84.81%<br>ROC AUC: 91.22<br>Geometric Mean: 100.0<br>Matthews Correlation: 100.0<br>F1: 100.0<br>Log Loss: 0.0",
          "Extra Trees<br>Performance: 92.24%<br>Model ID: 2659<br>Accuracy: 84.8%<br>Precision: 84.98%<br>Recall: 84.8%<br>ROC AUC: 91.07<br>Geometric Mean: 100.0<br>Matthews Correlation: 100.0<br>F1: 100.0<br>Log Loss: 0.0",
          "Extra Trees<br>Performance: 92.24%<br>Model ID: 2660<br>Accuracy: 84.8%<br>Precision: 84.98%<br>Recall: 84.8%<br>ROC AUC: 91.07<br>Geometric Mean: 100.0<br>Matthews Correlation: 100.0<br>F1: 100.0<br>Log Loss: 0.0",
          "Extra Trees<br>Performance: 92.19%<br>Model ID: 2714<br>Accuracy: 84.48%<br>Precision: 84.59%<br>Recall: 84.48%<br>ROC AUC: 91.8<br>Geometric Mean: 100.0<br>Matthews Correlation: 100.0<br>F1: 100.0<br>Log Loss: 0.0",
          "Extra Trees<br>Performance: 92.19%<br>Model ID: 2715<br>Accuracy: 84.48%<br>Precision: 84.59%<br>Recall: 84.48%<br>ROC AUC: 91.76<br>Geometric Mean: 100.0<br>Matthews Correlation: 100.0<br>F1: 100.0<br>Log Loss: 0.0",
          "Adaptive Boosting<br>Performance: 85.49%<br>Model ID: 2808<br>Accuracy: 80.83%<br>Precision: 81.1%<br>Recall: 80.83%<br>ROC AUC: 87.46<br>Geometric Mean: 92.08<br>Matthews Correlation: 84.06<br>F1: 92.08<br>Log Loss: 91.04",
          "Adaptive Boosting<br>Performance: 85.37%<br>Model ID: 2845<br>Accuracy: 80.16%<br>Precision: 80.31%<br>Recall: 80.16%<br>ROC AUC: 83.52<br>Geometric Mean: 93.35<br>Matthews Correlation: 86.69<br>F1: 93.4<br>Log Loss: 99.49",
          "Adaptive Boosting<br>Performance: 85.29%<br>Model ID: 2811<br>Accuracy: 80.5%<br>Precision: 80.76%<br>Recall: 80.5%<br>ROC AUC: 86.95<br>Geometric Mean: 92.13<br>Matthews Correlation: 84.1<br>F1: 92.09<br>Log Loss: 92.25",
          "Adaptive Boosting<br>Performance: 85.19%<br>Model ID: 2812<br>Accuracy: 80.16%<br>Precision: 80.52%<br>Recall: 80.16%<br>ROC AUC: 87.19<br>Geometric Mean: 92.13<br>Matthews Correlation: 84.1<br>F1: 92.09<br>Log Loss: 92.14",
          "Adaptive Boosting<br>Performance: 85.18%<br>Model ID: 2809<br>Accuracy: 80.17%<br>Precision: 80.42%<br>Recall: 80.17%<br>ROC AUC: 87.3<br>Geometric Mean: 92.08<br>Matthews Correlation: 84.06<br>F1: 92.08<br>Log Loss: 91.13",
          "Gradient Boosting<br>Performance: 89.77%<br>Model ID: 3030<br>Accuracy: 80.83%<br>Precision: 81.59%<br>Recall: 80.83%<br>ROC AUC: 87.84<br>Geometric Mean: 99.28<br>Matthews Correlation: 98.68<br>F1: 99.34<br>Log Loss: 3.39",
          "Gradient Boosting<br>Performance: 89.76%<br>Model ID: 3029<br>Accuracy: 80.83%<br>Precision: 81.59%<br>Recall: 80.83%<br>ROC AUC: 87.8<br>Geometric Mean: 99.28<br>Matthews Correlation: 98.68<br>F1: 99.34<br>Log Loss: 3.61",
          "Gradient Boosting<br>Performance: 89.76%<br>Model ID: 2969<br>Accuracy: 80.83%<br>Precision: 81.59%<br>Recall: 80.83%<br>ROC AUC: 87.77<br>Geometric Mean: 99.28<br>Matthews Correlation: 98.68<br>F1: 99.34<br>Log Loss: 3.61",
          "Gradient Boosting<br>Performance: 89.77%<br>Model ID: 2970<br>Accuracy: 80.83%<br>Precision: 81.59%<br>Recall: 80.83%<br>ROC AUC: 87.82<br>Geometric Mean: 99.28<br>Matthews Correlation: 98.68<br>F1: 99.34<br>Log Loss: 3.39",
          "Gradient Boosting<br>Performance: 89.75%<br>Model ID: 3026<br>Accuracy: 80.83%<br>Precision: 81.45%<br>Recall: 80.83%<br>ROC AUC: 87.84<br>Geometric Mean: 99.28<br>Matthews Correlation: 98.68<br>F1: 99.34<br>Log Loss: 4.1",
          "K-Nearest Neighbor<br>Performance: 87.44%<br>Model ID: meta_1<br>Accuracy: 89.11%<br>Precision: 89.41%<br>Recall: 89.11%<br>ROC AUC: 88.58<br>Geometric Mean: 88.58<br>Matthews Correlation: 78.24<br>F1: 89.03<br>Log Loss: 376.17",
          "Support Vector Machine<br>Performance: 92.41%<br>Model ID: meta_2<br>Accuracy: 93.4%<br>Precision: 93.4%<br>Recall: 93.4%<br>ROC AUC: 93.29<br>Geometric Mean: 93.29<br>Matthews Correlation: 86.68<br>F1: 93.4<br>Log Loss: 227.98",
          "Gaussian Naive Bayes<br>Performance: 93.21%<br>Model ID: meta_3<br>Accuracy: 94.06%<br>Precision: 94.07%<br>Recall: 94.06%<br>ROC AUC: 94.07<br>Geometric Mean: 94.07<br>Matthews Correlation: 88.05<br>F1: 94.06<br>Log Loss: 205.18",
          "Multilayer Perceptron<br>Performance: 100.0%<br>Model ID: meta_4<br>Accuracy: 100.0%<br>Precision: 100.0%<br>Recall: 100.0%<br>ROC AUC: 100.0<br>Geometric Mean: 100.0<br>Matthews Correlation: 100.0<br>F1: 100.0<br>Log Loss: 0.0",
          "Logistic Regression<br>Performance: 100.0%<br>Model ID: meta_5<br>Accuracy: 100.0%<br>Precision: 100.0%<br>Recall: 100.0%<br>ROC AUC: 100.0<br>Geometric Mean: 100.0<br>Matthews Correlation: 100.0<br>F1: 100.0<br>Log Loss: 0.0",
          "Linear Discriminant Analysis<br>Performance: 98.85%<br>Model ID: meta_6<br>Accuracy: 99.01%<br>Precision: 99.01%<br>Recall: 99.01%<br>ROC AUC: 98.97<br>Geometric Mean: 98.97<br>Matthews Correlation: 98.0<br>F1: 99.01<br>Log Loss: 34.2",
          "Quadratic Discriminant Analysis<br>Performance: 91.25%<br>Model ID: meta_7<br>Accuracy: 92.41%<br>Precision: 92.43%<br>Recall: 92.41%<br>ROC AUC: 92.2<br>Geometric Mean: 92.2<br>Matthews Correlation: 84.7<br>F1: 92.4<br>Log Loss: 262.18",
          "Random Forest<br>Performance: 90.91%<br>Model ID: meta_8<br>Accuracy: 92.08%<br>Precision: 92.08%<br>Recall: 92.08%<br>ROC AUC: 92.02<br>Geometric Mean: 92.02<br>Matthews Correlation: 84.03<br>F1: 92.08<br>Log Loss: 273.58",
          "Extra Trees<br>Performance: 96.33%<br>Model ID: meta_9<br>Accuracy: 96.7%<br>Precision: 96.85%<br>Recall: 96.7%<br>ROC AUC: 96.91<br>Geometric Mean: 96.91<br>Matthews Correlation: 93.51<br>F1: 96.71<br>Log Loss: 113.99",
          "Adaptive Boosting<br>Performance: 93.03%<br>Model ID: meta_10<br>Accuracy: 93.73%<br>Precision: 94.1%<br>Recall: 93.73%<br>ROC AUC: 94.06<br>Geometric Mean: 94.06<br>Matthews Correlation: 87.78<br>F1: 93.74<br>Log Loss: 216.58",
          "Gradient Boosting<br>Performance: 93.55%<br>Model ID: meta_11<br>Accuracy: 94.39%<br>Precision: 94.39%<br>Recall: 94.39%<br>ROC AUC: 94.31<br>Geometric Mean: 94.31<br>Matthews Correlation: 88.68<br>F1: 94.39<br>Log Loss: 193.78"
         ],
         "marker": {
          "color": [
           83.35,
           83.28,
           83.13,
           83.13,
           83.11,
           83.1,
           83.08,
           83.08,
           83.09,
           83.07,
           80.97,
           80.97,
           80.97,
           80.97,
           80.97,
           79.22,
           79.22,
           79.22,
           79.09,
           79.09,
           83.67,
           83.66,
           83.54,
           83.53,
           83.41,
           82.31,
           82.31,
           73.45,
           73.45,
           71.08,
           83.44,
           83.44,
           83.44,
           83.44,
           83.44,
           91.82,
           91.83,
           91.83,
           91.82,
           91.69,
           92.27,
           92.24,
           92.24,
           92.19,
           92.19,
           85.49,
           85.37,
           85.29,
           85.19,
           85.18,
           89.77,
           89.76,
           89.76,
           89.77,
           89.75,
           87.44,
           92.41,
           93.21,
           100,
           100,
           98.85,
           91.25,
           90.91,
           96.33,
           93.03,
           93.55
          ],
          "coloraxis": "coloraxis",
          "line": {
           "color": "Black",
           "width": 1
          },
          "opacity": 0.8,
          "size": [
           20,
           20,
           20,
           20,
           20,
           20,
           20,
           20,
           20,
           20,
           20,
           20,
           20,
           20,
           20,
           20,
           20,
           20,
           20,
           20,
           20,
           20,
           20,
           20,
           20,
           20,
           20,
           20,
           20,
           20,
           20,
           20,
           20,
           20,
           20,
           20,
           20,
           20,
           20,
           20,
           20,
           20,
           20,
           20,
           20,
           20,
           20,
           20,
           20,
           20,
           20,
           20,
           20,
           20,
           20,
           40,
           40,
           40,
           40,
           40,
           40,
           40,
           40,
           40,
           40,
           40
          ],
          "symbol": [
           "circle",
           "circle",
           "circle",
           "circle",
           "circle",
           "square",
           "square",
           "square",
           "square",
           "square",
           "x",
           "x",
           "x",
           "x",
           "x",
           "cross",
           "cross",
           "cross",
           "cross",
           "cross",
           "diamond",
           "diamond",
           "diamond",
           "diamond",
           "diamond",
           "star",
           "star",
           "star",
           "star",
           "star",
           "hexagram",
           "hexagram",
           "hexagram",
           "hexagram",
           "hexagram",
           "triangle-right",
           "triangle-right",
           "triangle-right",
           "triangle-right",
           "triangle-right",
           "triangle-left",
           "triangle-left",
           "triangle-left",
           "triangle-left",
           "triangle-left",
           "triangle-down",
           "triangle-down",
           "triangle-down",
           "triangle-down",
           "triangle-down",
           "triangle-up",
           "triangle-up",
           "triangle-up",
           "triangle-up",
           "triangle-up",
           "circle",
           "square",
           "x",
           "cross",
           "diamond",
           "star",
           "hexagram",
           "triangle-right",
           "triangle-left",
           "triangle-down",
           "triangle-up"
          ]
         },
         "mode": "markers",
         "type": "scatter",
         "x": [
          19.602664947509766,
          19.409820556640625,
          18.802404403686523,
          18.988557815551758,
          19.513988494873047,
          2.145803451538086,
          2.469742774963379,
          1.8441113233566284,
          2.0852701663970947,
          1.634766697883606,
          -3.6172142028808594,
          -3.599215269088745,
          -3.8137903213500977,
          -4.196021556854248,
          -3.976762056350708,
          21.355710983276367,
          21.33787727355957,
          21.725582122802734,
          21.43192481994629,
          20.941783905029297,
          5.0148162841796875,
          4.574782371520996,
          4.183264255523682,
          4.720433712005615,
          4.026872158050537,
          3.3550500869750977,
          3.3194525241851807,
          19.23734474182129,
          18.990276336669922,
          18.6768741607666,
          2.4504706859588623,
          2.2459828853607178,
          2.623788833618164,
          2.6122701168060303,
          2.853559970855713,
          3.5553359985351562,
          4.147441387176514,
          3.911583662033081,
          3.811566114425659,
          4.2926554679870605,
          2.338833808898926,
          2.008103847503662,
          2.598270893096924,
          2.487055540084839,
          2.620011806488037,
          -6.216596603393555,
          -5.844201564788818,
          -5.90138578414917,
          -6.306027889251709,
          -5.8997015953063965,
          1.5238462686538696,
          1.6512011289596558,
          1.2367228269577026,
          0.9453388452529907,
          1.3774055242538452,
          4.047096252441406,
          3.8906726837158203,
          3.7619218826293945,
          3.2057764530181885,
          2.9223880767822266,
          3.422410249710083,
          4.031935691833496,
          3.521507740020752,
          3.1465229988098145,
          -6.579327583312988,
          3.8241727352142334
         ],
         "xaxis": "x",
         "y": [
          0.3331339955329895,
          0.009331597946584225,
          0.04100773483514786,
          -0.1301722526550293,
          0.5219910740852356,
          -3.547630786895752,
          -2.848729133605957,
          -2.860276222229004,
          -3.43188214302063,
          -3.257136821746826,
          -1.8154292106628418,
          -1.7978301048278809,
          -2.012071132659912,
          -2.3954553604125977,
          -2.1768925189971924,
          3.3342373371124268,
          2.7221336364746094,
          2.539539337158203,
          3.0557947158813477,
          2.7694783210754395,
          -0.8348923921585083,
          -0.9857844710350037,
          -1.3158025741577148,
          -1.344527006149292,
          -0.7034637928009033,
          -0.5707623362541199,
          -1.1500009298324585,
          1.0481020212173462,
          1.0841786861419678,
          0.6309614777565002,
          -0.24791322648525238,
          -1.0228290557861328,
          -1.2974721193313599,
          -0.7140538096427917,
          -0.5645028948783875,
          9.262207984924316,
          9.464216232299805,
          8.989349365234375,
          9.784594535827637,
          9.177468299865723,
          10.76050090789795,
          10.059380531311035,
          10.106217384338379,
          9.541644096374512,
          10.302456855773926,
          17.892822265625,
          17.170007705688477,
          18.019119262695312,
          17.078140258789062,
          17.466556549072266,
          -7.514489650726318,
          -7.618138790130615,
          -7.216551303863525,
          -6.922184467315674,
          -7.355737209320068,
          6.68259334564209,
          7.14501953125,
          6.096280097961426,
          6.560244083404541,
          6.533481597900391,
          6.103330135345459,
          6.2958784103393555,
          7.363319396972656,
          7.098897457122803,
          17.453941345214844,
          8.125214576721191
         ],
         "yaxis": "y"
        },
        {
         "hovertext": [
          "K-Nearest Neighbor<br>Performance: 83.35%<br>Model ID: 452<br>Accuracy: 70.31%<br>Precision: 70.36%<br>Recall: 70.31%<br>ROC AUC: 72.5<br>Geometric Mean: 100.0<br>Matthews Correlation: 100.0<br>F1: 100.0<br>Log Loss: 0.0",
          "K-Nearest Neighbor<br>Performance: 83.28%<br>Model ID: 288<br>Accuracy: 69.62%<br>Precision: 69.8%<br>Recall: 69.62%<br>ROC AUC: 73.91<br>Geometric Mean: 100.0<br>Matthews Correlation: 100.0<br>F1: 100.0<br>Log Loss: 0.0",
          "K-Nearest Neighbor<br>Performance: 83.13%<br>Model ID: 96<br>Accuracy: 69.29%<br>Precision: 69.48%<br>Recall: 69.29%<br>ROC AUC: 73.84<br>Geometric Mean: 100.0<br>Matthews Correlation: 100.0<br>F1: 100.0<br>Log Loss: 0.0",
          "K-Nearest Neighbor<br>Performance: 83.13%<br>Model ID: 480<br>Accuracy: 69.29%<br>Precision: 69.48%<br>Recall: 69.29%<br>ROC AUC: 73.82<br>Geometric Mean: 100.0<br>Matthews Correlation: 100.0<br>F1: 100.0<br>Log Loss: 0.0",
          "K-Nearest Neighbor<br>Performance: 83.11%<br>Model ID: 458<br>Accuracy: 69.64%<br>Precision: 69.61%<br>Recall: 69.64%<br>ROC AUC: 72.85<br>Geometric Mean: 100.0<br>Matthews Correlation: 100.0<br>F1: 100.0<br>Log Loss: 0.0",
          "Support Vector Machine<br>Performance: 83.1%<br>Model ID: 694<br>Accuracy: 82.5%<br>Precision: 82.92%<br>Recall: 82.5%<br>ROC AUC: 89.98<br>Geometric Mean: 85.43<br>Matthews Correlation: 72.38<br>F1: 85.99<br>Log Loss: 0.62",
          "Support Vector Machine<br>Performance: 83.08%<br>Model ID: 650<br>Accuracy: 82.83%<br>Precision: 83.3%<br>Recall: 82.83%<br>ROC AUC: 90.14<br>Geometric Mean: 85.07<br>Matthews Correlation: 71.75<br>F1: 85.65<br>Log Loss: 0.71",
          "Support Vector Machine<br>Performance: 83.08%<br>Model ID: 646<br>Accuracy: 82.83%<br>Precision: 83.3%<br>Recall: 82.83%<br>ROC AUC: 90.15<br>Geometric Mean: 85.07<br>Matthews Correlation: 71.75<br>F1: 85.65<br>Log Loss: 0.69",
          "Support Vector Machine<br>Performance: 83.09%<br>Model ID: 642<br>Accuracy: 82.83%<br>Precision: 83.3%<br>Recall: 82.83%<br>ROC AUC: 90.19<br>Geometric Mean: 85.07<br>Matthews Correlation: 71.75<br>F1: 85.65<br>Log Loss: 0.68",
          "Support Vector Machine<br>Performance: 83.07%<br>Model ID: 654<br>Accuracy: 82.83%<br>Precision: 83.3%<br>Recall: 82.83%<br>ROC AUC: 90.09<br>Geometric Mean: 85.07<br>Matthews Correlation: 71.75<br>F1: 85.65<br>Log Loss: 0.69",
          "Gaussian Naive Bayes<br>Performance: 80.97%<br>Model ID: 737<br>Accuracy: 80.51%<br>Precision: 80.65%<br>Recall: 80.51%<br>ROC AUC: 89.18<br>Geometric Mean: 83.79<br>Matthews Correlation: 68.01<br>F1: 84.11<br>Log Loss: 100.0",
          "Gaussian Naive Bayes<br>Performance: 80.97%<br>Model ID: 1066<br>Accuracy: 80.51%<br>Precision: 80.65%<br>Recall: 80.51%<br>ROC AUC: 89.18<br>Geometric Mean: 83.79<br>Matthews Correlation: 68.01<br>F1: 84.11<br>Log Loss: 34.0",
          "Gaussian Naive Bayes<br>Performance: 80.97%<br>Model ID: 1079<br>Accuracy: 80.51%<br>Precision: 80.65%<br>Recall: 80.51%<br>ROC AUC: 89.18<br>Geometric Mean: 83.79<br>Matthews Correlation: 68.01<br>F1: 84.11<br>Log Loss: 31.4",
          "Gaussian Naive Bayes<br>Performance: 80.97%<br>Model ID: 1078<br>Accuracy: 80.51%<br>Precision: 80.65%<br>Recall: 80.51%<br>ROC AUC: 89.18<br>Geometric Mean: 83.79<br>Matthews Correlation: 68.01<br>F1: 84.11<br>Log Loss: 31.6",
          "Gaussian Naive Bayes<br>Performance: 80.97%<br>Model ID: 1077<br>Accuracy: 80.51%<br>Precision: 80.65%<br>Recall: 80.51%<br>ROC AUC: 89.18<br>Geometric Mean: 83.79<br>Matthews Correlation: 68.01<br>F1: 84.11<br>Log Loss: 31.8",
          "Multilayer Perceptron<br>Performance: 79.22%<br>Model ID: 1262<br>Accuracy: 79.85%<br>Precision: 79.92%<br>Recall: 79.85%<br>ROC AUC: 85.88<br>Geometric Mean: 81.86<br>Matthews Correlation: 64.8<br>F1: 82.36<br>Log Loss: 17.56",
          "Multilayer Perceptron<br>Performance: 79.22%<br>Model ID: 1263<br>Accuracy: 79.85%<br>Precision: 79.92%<br>Recall: 79.85%<br>ROC AUC: 85.88<br>Geometric Mean: 81.86<br>Matthews Correlation: 64.8<br>F1: 82.36<br>Log Loss: 17.56",
          "Multilayer Perceptron<br>Performance: 79.22%<br>Model ID: 1261<br>Accuracy: 79.85%<br>Precision: 79.92%<br>Recall: 79.85%<br>ROC AUC: 85.88<br>Geometric Mean: 81.86<br>Matthews Correlation: 64.8<br>F1: 82.36<br>Log Loss: 17.56",
          "Multilayer Perceptron<br>Performance: 79.09%<br>Model ID: 1249<br>Accuracy: 79.52%<br>Precision: 79.59%<br>Recall: 79.52%<br>ROC AUC: 85.97<br>Geometric Mean: 81.86<br>Matthews Correlation: 64.8<br>F1: 82.36<br>Log Loss: 17.17",
          "Multilayer Perceptron<br>Performance: 79.09%<br>Model ID: 1251<br>Accuracy: 79.52%<br>Precision: 79.59%<br>Recall: 79.52%<br>ROC AUC: 85.97<br>Geometric Mean: 81.86<br>Matthews Correlation: 64.8<br>F1: 82.36<br>Log Loss: 17.17",
          "Logistic Regression<br>Performance: 83.67%<br>Model ID: 1677<br>Accuracy: 84.14%<br>Precision: 84.66%<br>Recall: 84.14%<br>ROC AUC: 90.32<br>Geometric Mean: 85.13<br>Matthews Correlation: 71.65<br>F1: 85.67<br>Log Loss: 3.51",
          "Logistic Regression<br>Performance: 83.66%<br>Model ID: 1741<br>Accuracy: 84.46%<br>Precision: 84.98%<br>Recall: 84.46%<br>ROC AUC: 90.58<br>Geometric Mean: 84.83<br>Matthews Correlation: 70.93<br>F1: 85.35<br>Log Loss: 3.37",
          "Logistic Regression<br>Performance: 83.54%<br>Model ID: 1901<br>Accuracy: 83.8%<br>Precision: 84.26%<br>Recall: 83.8%<br>ROC AUC: 90.5<br>Geometric Mean: 85.13<br>Matthews Correlation: 71.65<br>F1: 85.67<br>Log Loss: 3.41",
          "Logistic Regression<br>Performance: 83.53%<br>Model ID: 1773<br>Accuracy: 84.14%<br>Precision: 84.64%<br>Recall: 84.14%<br>ROC AUC: 90.65<br>Geometric Mean: 84.77<br>Matthews Correlation: 71.02<br>F1: 85.33<br>Log Loss: 3.23",
          "Logistic Regression<br>Performance: 83.41%<br>Model ID: 1869<br>Accuracy: 83.48%<br>Precision: 83.92%<br>Recall: 83.48%<br>ROC AUC: 90.54<br>Geometric Mean: 85.07<br>Matthews Correlation: 71.75<br>F1: 85.65<br>Log Loss: 2.97",
          "Linear Discriminant Analysis<br>Performance: 82.31%<br>Model ID: 1997<br>Accuracy: 83.16%<br>Precision: 84.11%<br>Recall: 83.16%<br>ROC AUC: 89.99<br>Geometric Mean: 83.32<br>Matthews Correlation: 68.51<br>F1: 83.94<br>Log Loss: 0.0",
          "Linear Discriminant Analysis<br>Performance: 82.31%<br>Model ID: 1998<br>Accuracy: 83.16%<br>Precision: 84.11%<br>Recall: 83.16%<br>ROC AUC: 89.99<br>Geometric Mean: 83.32<br>Matthews Correlation: 68.51<br>F1: 83.94<br>Log Loss: 0.0",
          "Linear Discriminant Analysis<br>Performance: 73.45%<br>Model ID: 1999<br>Accuracy: 75.89%<br>Precision: 76.41%<br>Recall: 75.89%<br>ROC AUC: 82.6<br>Geometric Mean: 75.39<br>Matthews Correlation: 52.04<br>F1: 75.95<br>Log Loss: 31.9",
          "Linear Discriminant Analysis<br>Performance: 73.45%<br>Model ID: 2000<br>Accuracy: 75.89%<br>Precision: 76.41%<br>Recall: 75.89%<br>ROC AUC: 82.6<br>Geometric Mean: 75.39<br>Matthews Correlation: 52.04<br>F1: 75.95<br>Log Loss: 31.9",
          "Linear Discriminant Analysis<br>Performance: 71.08%<br>Model ID: 2001<br>Accuracy: 74.25%<br>Precision: 74.65%<br>Recall: 74.25%<br>ROC AUC: 79.07<br>Geometric Mean: 73.45<br>Matthews Correlation: 47.92<br>F1: 73.99<br>Log Loss: 41.85",
          "Quadratic Discriminant Analysis<br>Performance: 83.44%<br>Model ID: 2227<br>Accuracy: 81.49%<br>Precision: 81.79%<br>Recall: 81.49%<br>ROC AUC: 88.84<br>Geometric Mean: 87.24<br>Matthews Correlation: 75.55<br>F1: 87.7<br>Log Loss: 0.03",
          "Quadratic Discriminant Analysis<br>Performance: 83.44%<br>Model ID: 2231<br>Accuracy: 81.49%<br>Precision: 81.79%<br>Recall: 81.49%<br>ROC AUC: 88.84<br>Geometric Mean: 87.24<br>Matthews Correlation: 75.55<br>F1: 87.7<br>Log Loss: 0.03",
          "Quadratic Discriminant Analysis<br>Performance: 83.44%<br>Model ID: 2230<br>Accuracy: 81.49%<br>Precision: 81.79%<br>Recall: 81.49%<br>ROC AUC: 88.84<br>Geometric Mean: 87.24<br>Matthews Correlation: 75.55<br>F1: 87.7<br>Log Loss: 0.03",
          "Quadratic Discriminant Analysis<br>Performance: 83.44%<br>Model ID: 2229<br>Accuracy: 81.49%<br>Precision: 81.79%<br>Recall: 81.49%<br>ROC AUC: 88.84<br>Geometric Mean: 87.24<br>Matthews Correlation: 75.55<br>F1: 87.7<br>Log Loss: 0.03",
          "Quadratic Discriminant Analysis<br>Performance: 83.44%<br>Model ID: 2228<br>Accuracy: 81.49%<br>Precision: 81.79%<br>Recall: 81.49%<br>ROC AUC: 88.84<br>Geometric Mean: 87.24<br>Matthews Correlation: 75.55<br>F1: 87.7<br>Log Loss: 0.03",
          "Random Forest<br>Performance: 91.82%<br>Model ID: 2488<br>Accuracy: 84.13%<br>Precision: 84.34%<br>Recall: 84.13%<br>ROC AUC: 90.17<br>Geometric Mean: 100.0<br>Matthews Correlation: 100.0<br>F1: 100.0<br>Log Loss: 59.71",
          "Random Forest<br>Performance: 91.83%<br>Model ID: 2490<br>Accuracy: 84.13%<br>Precision: 84.31%<br>Recall: 84.13%<br>ROC AUC: 90.21<br>Geometric Mean: 100.0<br>Matthews Correlation: 100.0<br>F1: 100.0<br>Log Loss: 52.76",
          "Random Forest<br>Performance: 91.83%<br>Model ID: 2489<br>Accuracy: 84.13%<br>Precision: 84.34%<br>Recall: 84.13%<br>ROC AUC: 90.22<br>Geometric Mean: 100.0<br>Matthews Correlation: 100.0<br>F1: 100.0<br>Log Loss: 54.75",
          "Random Forest<br>Performance: 91.82%<br>Model ID: 2494<br>Accuracy: 84.13%<br>Precision: 84.38%<br>Recall: 84.13%<br>ROC AUC: 90.11<br>Geometric Mean: 100.0<br>Matthews Correlation: 100.0<br>F1: 100.0<br>Log Loss: 58.36",
          "Random Forest<br>Performance: 91.69%<br>Model ID: 2493<br>Accuracy: 83.8%<br>Precision: 84.02%<br>Recall: 83.8%<br>ROC AUC: 90.22<br>Geometric Mean: 100.0<br>Matthews Correlation: 100.0<br>F1: 100.0<br>Log Loss: 57.04",
          "Extra Trees<br>Performance: 92.27%<br>Model ID: 2667<br>Accuracy: 84.81%<br>Precision: 85.07%<br>Recall: 84.81%<br>ROC AUC: 91.22<br>Geometric Mean: 100.0<br>Matthews Correlation: 100.0<br>F1: 100.0<br>Log Loss: 0.0",
          "Extra Trees<br>Performance: 92.24%<br>Model ID: 2659<br>Accuracy: 84.8%<br>Precision: 84.98%<br>Recall: 84.8%<br>ROC AUC: 91.07<br>Geometric Mean: 100.0<br>Matthews Correlation: 100.0<br>F1: 100.0<br>Log Loss: 0.0",
          "Extra Trees<br>Performance: 92.24%<br>Model ID: 2660<br>Accuracy: 84.8%<br>Precision: 84.98%<br>Recall: 84.8%<br>ROC AUC: 91.07<br>Geometric Mean: 100.0<br>Matthews Correlation: 100.0<br>F1: 100.0<br>Log Loss: 0.0",
          "Extra Trees<br>Performance: 92.19%<br>Model ID: 2714<br>Accuracy: 84.48%<br>Precision: 84.59%<br>Recall: 84.48%<br>ROC AUC: 91.8<br>Geometric Mean: 100.0<br>Matthews Correlation: 100.0<br>F1: 100.0<br>Log Loss: 0.0",
          "Extra Trees<br>Performance: 92.19%<br>Model ID: 2715<br>Accuracy: 84.48%<br>Precision: 84.59%<br>Recall: 84.48%<br>ROC AUC: 91.76<br>Geometric Mean: 100.0<br>Matthews Correlation: 100.0<br>F1: 100.0<br>Log Loss: 0.0",
          "Adaptive Boosting<br>Performance: 85.49%<br>Model ID: 2808<br>Accuracy: 80.83%<br>Precision: 81.1%<br>Recall: 80.83%<br>ROC AUC: 87.46<br>Geometric Mean: 92.08<br>Matthews Correlation: 84.06<br>F1: 92.08<br>Log Loss: 91.04",
          "Adaptive Boosting<br>Performance: 85.37%<br>Model ID: 2845<br>Accuracy: 80.16%<br>Precision: 80.31%<br>Recall: 80.16%<br>ROC AUC: 83.52<br>Geometric Mean: 93.35<br>Matthews Correlation: 86.69<br>F1: 93.4<br>Log Loss: 99.49",
          "Adaptive Boosting<br>Performance: 85.29%<br>Model ID: 2811<br>Accuracy: 80.5%<br>Precision: 80.76%<br>Recall: 80.5%<br>ROC AUC: 86.95<br>Geometric Mean: 92.13<br>Matthews Correlation: 84.1<br>F1: 92.09<br>Log Loss: 92.25",
          "Adaptive Boosting<br>Performance: 85.19%<br>Model ID: 2812<br>Accuracy: 80.16%<br>Precision: 80.52%<br>Recall: 80.16%<br>ROC AUC: 87.19<br>Geometric Mean: 92.13<br>Matthews Correlation: 84.1<br>F1: 92.09<br>Log Loss: 92.14",
          "Adaptive Boosting<br>Performance: 85.18%<br>Model ID: 2809<br>Accuracy: 80.17%<br>Precision: 80.42%<br>Recall: 80.17%<br>ROC AUC: 87.3<br>Geometric Mean: 92.08<br>Matthews Correlation: 84.06<br>F1: 92.08<br>Log Loss: 91.13",
          "Gradient Boosting<br>Performance: 89.77%<br>Model ID: 3030<br>Accuracy: 80.83%<br>Precision: 81.59%<br>Recall: 80.83%<br>ROC AUC: 87.84<br>Geometric Mean: 99.28<br>Matthews Correlation: 98.68<br>F1: 99.34<br>Log Loss: 3.39",
          "Gradient Boosting<br>Performance: 89.76%<br>Model ID: 3029<br>Accuracy: 80.83%<br>Precision: 81.59%<br>Recall: 80.83%<br>ROC AUC: 87.8<br>Geometric Mean: 99.28<br>Matthews Correlation: 98.68<br>F1: 99.34<br>Log Loss: 3.61",
          "Gradient Boosting<br>Performance: 89.76%<br>Model ID: 2969<br>Accuracy: 80.83%<br>Precision: 81.59%<br>Recall: 80.83%<br>ROC AUC: 87.77<br>Geometric Mean: 99.28<br>Matthews Correlation: 98.68<br>F1: 99.34<br>Log Loss: 3.61",
          "Gradient Boosting<br>Performance: 89.77%<br>Model ID: 2970<br>Accuracy: 80.83%<br>Precision: 81.59%<br>Recall: 80.83%<br>ROC AUC: 87.82<br>Geometric Mean: 99.28<br>Matthews Correlation: 98.68<br>F1: 99.34<br>Log Loss: 3.39",
          "Gradient Boosting<br>Performance: 89.75%<br>Model ID: 3026<br>Accuracy: 80.83%<br>Precision: 81.45%<br>Recall: 80.83%<br>ROC AUC: 87.84<br>Geometric Mean: 99.28<br>Matthews Correlation: 98.68<br>F1: 99.34<br>Log Loss: 4.1",
          "K-Nearest Neighbor<br>Performance: 87.44%<br>Model ID: meta_1<br>Accuracy: 89.11%<br>Precision: 89.41%<br>Recall: 89.11%<br>ROC AUC: 88.58<br>Geometric Mean: 88.58<br>Matthews Correlation: 78.24<br>F1: 89.03<br>Log Loss: 376.17",
          "Support Vector Machine<br>Performance: 92.41%<br>Model ID: meta_2<br>Accuracy: 93.4%<br>Precision: 93.4%<br>Recall: 93.4%<br>ROC AUC: 93.29<br>Geometric Mean: 93.29<br>Matthews Correlation: 86.68<br>F1: 93.4<br>Log Loss: 227.98",
          "Gaussian Naive Bayes<br>Performance: 93.21%<br>Model ID: meta_3<br>Accuracy: 94.06%<br>Precision: 94.07%<br>Recall: 94.06%<br>ROC AUC: 94.07<br>Geometric Mean: 94.07<br>Matthews Correlation: 88.05<br>F1: 94.06<br>Log Loss: 205.18",
          "Multilayer Perceptron<br>Performance: 100.0%<br>Model ID: meta_4<br>Accuracy: 100.0%<br>Precision: 100.0%<br>Recall: 100.0%<br>ROC AUC: 100.0<br>Geometric Mean: 100.0<br>Matthews Correlation: 100.0<br>F1: 100.0<br>Log Loss: 0.0",
          "Logistic Regression<br>Performance: 100.0%<br>Model ID: meta_5<br>Accuracy: 100.0%<br>Precision: 100.0%<br>Recall: 100.0%<br>ROC AUC: 100.0<br>Geometric Mean: 100.0<br>Matthews Correlation: 100.0<br>F1: 100.0<br>Log Loss: 0.0",
          "Linear Discriminant Analysis<br>Performance: 98.85%<br>Model ID: meta_6<br>Accuracy: 99.01%<br>Precision: 99.01%<br>Recall: 99.01%<br>ROC AUC: 98.97<br>Geometric Mean: 98.97<br>Matthews Correlation: 98.0<br>F1: 99.01<br>Log Loss: 34.2",
          "Quadratic Discriminant Analysis<br>Performance: 91.25%<br>Model ID: meta_7<br>Accuracy: 92.41%<br>Precision: 92.43%<br>Recall: 92.41%<br>ROC AUC: 92.2<br>Geometric Mean: 92.2<br>Matthews Correlation: 84.7<br>F1: 92.4<br>Log Loss: 262.18",
          "Random Forest<br>Performance: 90.91%<br>Model ID: meta_8<br>Accuracy: 92.08%<br>Precision: 92.08%<br>Recall: 92.08%<br>ROC AUC: 92.02<br>Geometric Mean: 92.02<br>Matthews Correlation: 84.03<br>F1: 92.08<br>Log Loss: 273.58",
          "Extra Trees<br>Performance: 96.33%<br>Model ID: meta_9<br>Accuracy: 96.7%<br>Precision: 96.85%<br>Recall: 96.7%<br>ROC AUC: 96.91<br>Geometric Mean: 96.91<br>Matthews Correlation: 93.51<br>F1: 96.71<br>Log Loss: 113.99",
          "Adaptive Boosting<br>Performance: 93.03%<br>Model ID: meta_10<br>Accuracy: 93.73%<br>Precision: 94.1%<br>Recall: 93.73%<br>ROC AUC: 94.06<br>Geometric Mean: 94.06<br>Matthews Correlation: 87.78<br>F1: 93.74<br>Log Loss: 216.58",
          "Gradient Boosting<br>Performance: 93.55%<br>Model ID: meta_11<br>Accuracy: 94.39%<br>Precision: 94.39%<br>Recall: 94.39%<br>ROC AUC: 94.31<br>Geometric Mean: 94.31<br>Matthews Correlation: 88.68<br>F1: 94.39<br>Log Loss: 193.78"
         ],
         "marker": {
          "color": [
           83.35,
           83.28,
           83.13,
           83.13,
           83.11,
           83.1,
           83.08,
           83.08,
           83.09,
           83.07,
           80.97,
           80.97,
           80.97,
           80.97,
           80.97,
           79.22,
           79.22,
           79.22,
           79.09,
           79.09,
           83.67,
           83.66,
           83.54,
           83.53,
           83.41,
           82.31,
           82.31,
           73.45,
           73.45,
           71.08,
           83.44,
           83.44,
           83.44,
           83.44,
           83.44,
           91.82,
           91.83,
           91.83,
           91.82,
           91.69,
           92.27,
           92.24,
           92.24,
           92.19,
           92.19,
           85.49,
           85.37,
           85.29,
           85.19,
           85.18,
           89.77,
           89.76,
           89.76,
           89.77,
           89.75,
           87.44,
           92.41,
           93.21,
           100,
           100,
           98.85,
           91.25,
           90.91,
           96.33,
           93.03,
           93.55
          ],
          "coloraxis": "coloraxis",
          "line": {
           "color": "Black",
           "width": 1
          },
          "opacity": 0.8,
          "size": [
           20,
           20,
           20,
           20,
           20,
           20,
           20,
           20,
           20,
           20,
           20,
           20,
           20,
           20,
           20,
           20,
           20,
           20,
           20,
           20,
           20,
           20,
           20,
           20,
           20,
           20,
           20,
           20,
           20,
           20,
           20,
           20,
           20,
           20,
           20,
           20,
           20,
           20,
           20,
           20,
           20,
           20,
           20,
           20,
           20,
           20,
           20,
           20,
           20,
           20,
           20,
           20,
           20,
           20,
           20,
           40,
           40,
           40,
           40,
           40,
           40,
           40,
           40,
           40,
           40,
           40
          ],
          "symbol": [
           "circle",
           "circle",
           "circle",
           "circle",
           "circle",
           "square",
           "square",
           "square",
           "square",
           "square",
           "x",
           "x",
           "x",
           "x",
           "x",
           "cross",
           "cross",
           "cross",
           "cross",
           "cross",
           "diamond",
           "diamond",
           "diamond",
           "diamond",
           "diamond",
           "star",
           "star",
           "star",
           "star",
           "star",
           "hexagram",
           "hexagram",
           "hexagram",
           "hexagram",
           "hexagram",
           "triangle-right",
           "triangle-right",
           "triangle-right",
           "triangle-right",
           "triangle-right",
           "triangle-left",
           "triangle-left",
           "triangle-left",
           "triangle-left",
           "triangle-left",
           "triangle-down",
           "triangle-down",
           "triangle-down",
           "triangle-down",
           "triangle-down",
           "triangle-up",
           "triangle-up",
           "triangle-up",
           "triangle-up",
           "triangle-up",
           "circle",
           "square",
           "x",
           "cross",
           "diamond",
           "star",
           "hexagram",
           "triangle-right",
           "triangle-left",
           "triangle-down",
           "triangle-up"
          ]
         },
         "mode": "markers",
         "type": "scatter",
         "x": [
          10.25340747833252,
          10.619887351989746,
          10.440201759338379,
          10.085875511169434,
          9.746317863464355,
          -1.4216030836105347,
          -2.067962408065796,
          -1.773817777633667,
          -2.4262115955352783,
          -1.9588333368301392,
          11.846527099609375,
          11.698700904846191,
          11.476648330688477,
          11.203425407409668,
          11.121593475341797,
          4.7500433921813965,
          5.298786163330078,
          5.754749298095703,
          5.26951265335083,
          4.986734867095947,
          -2.813511610031128,
          -3.1053054332733154,
          -3.261136054992676,
          -2.7752506732940674,
          -3.6806070804595947,
          -4.19758415222168,
          -4.187832355499268,
          9.637161254882812,
          9.875731468200684,
          10.347041130065918,
          -4.849417209625244,
          -4.527520179748535,
          -5.054142475128174,
          -4.767295837402344,
          -4.5886945724487305,
          -0.9398722648620605,
          -1.1944456100463867,
          -0.5503507256507874,
          -1.268766164779663,
          -0.9232603907585144,
          -2.575119972229004,
          -2.0936410427093506,
          -2.4422948360443115,
          -2.064265727996826,
          -1.9887423515319824,
          24.394731521606445,
          23.723770141601562,
          24.173751831054688,
          24.499507904052734,
          23.955215454101562,
          8.124236106872559,
          8.574784278869629,
          8.389545440673828,
          7.83371639251709,
          8.213641166687012,
          -0.03374488651752472,
          -0.8773080706596375,
          -0.19267068803310394,
          -0.6666322350502014,
          -0.9537960290908813,
          -1.0209791660308838,
          0.06868506968021393,
          -0.696284830570221,
          -0.2841646671295166,
          24.678136825561523,
          -0.8408606052398682
         ],
         "xaxis": "x",
         "y": [
          24.732725143432617,
          24.57260513305664,
          24.160982131958008,
          24.207326889038086,
          24.553361892700195,
          -4.632648468017578,
          -4.968390464782715,
          -4.4987287521362305,
          -4.426455974578857,
          -4.1501946449279785,
          15.854514122009277,
          16.002288818359375,
          16.22430419921875,
          16.4973201751709,
          16.57904815673828,
          21.493999481201172,
          21.795320510864258,
          21.45347785949707,
          21.163190841674805,
          21.272409439086914,
          -6.217881679534912,
          -5.954359531402588,
          -6.379893779754639,
          -5.728845596313477,
          -6.253718376159668,
          -5.623710632324219,
          -6.306127071380615,
          24.864492416381836,
          25.312414169311523,
          25.04412841796875,
          -5.850826263427734,
          -5.106978893280029,
          -5.479556560516357,
          -6.078300952911377,
          -5.406341075897217,
          3.119128704071045,
          3.7859888076782227,
          3.514207363128662,
          2.9181790351867676,
          3.2616701126098633,
          3.9816715717315674,
          3.765383720397949,
          3.4650354385375977,
          4.425923824310303,
          4.188530921936035,
          -21.52014923095703,
          -22.362470626831055,
          -22.278919219970703,
          -22.42367172241211,
          -22.013469696044922,
          -6.782836437225342,
          -6.332229137420654,
          -6.517423629760742,
          -7.07330322265625,
          -6.693232536315918,
          6.320575714111328,
          6.043318271636963,
          7.138615608215332,
          6.638517379760742,
          6.924416542053223,
          7.160765647888184,
          6.826453685760498,
          5.871737003326416,
          5.916266918182373,
          -21.90711784362793,
          5.046767711639404
         ],
         "yaxis": "y"
        },
        {
         "hovertext": [
          "K-Nearest Neighbor<br>Performance: 83.35%<br>Model ID: 452<br>Accuracy: 70.31%<br>Precision: 70.36%<br>Recall: 70.31%<br>ROC AUC: 72.5<br>Geometric Mean: 100.0<br>Matthews Correlation: 100.0<br>F1: 100.0<br>Log Loss: 0.0",
          "K-Nearest Neighbor<br>Performance: 83.28%<br>Model ID: 288<br>Accuracy: 69.62%<br>Precision: 69.8%<br>Recall: 69.62%<br>ROC AUC: 73.91<br>Geometric Mean: 100.0<br>Matthews Correlation: 100.0<br>F1: 100.0<br>Log Loss: 0.0",
          "K-Nearest Neighbor<br>Performance: 83.13%<br>Model ID: 96<br>Accuracy: 69.29%<br>Precision: 69.48%<br>Recall: 69.29%<br>ROC AUC: 73.84<br>Geometric Mean: 100.0<br>Matthews Correlation: 100.0<br>F1: 100.0<br>Log Loss: 0.0",
          "K-Nearest Neighbor<br>Performance: 83.13%<br>Model ID: 480<br>Accuracy: 69.29%<br>Precision: 69.48%<br>Recall: 69.29%<br>ROC AUC: 73.82<br>Geometric Mean: 100.0<br>Matthews Correlation: 100.0<br>F1: 100.0<br>Log Loss: 0.0",
          "K-Nearest Neighbor<br>Performance: 83.11%<br>Model ID: 458<br>Accuracy: 69.64%<br>Precision: 69.61%<br>Recall: 69.64%<br>ROC AUC: 72.85<br>Geometric Mean: 100.0<br>Matthews Correlation: 100.0<br>F1: 100.0<br>Log Loss: 0.0",
          "Support Vector Machine<br>Performance: 83.1%<br>Model ID: 694<br>Accuracy: 82.5%<br>Precision: 82.92%<br>Recall: 82.5%<br>ROC AUC: 89.98<br>Geometric Mean: 85.43<br>Matthews Correlation: 72.38<br>F1: 85.99<br>Log Loss: 0.62",
          "Support Vector Machine<br>Performance: 83.08%<br>Model ID: 650<br>Accuracy: 82.83%<br>Precision: 83.3%<br>Recall: 82.83%<br>ROC AUC: 90.14<br>Geometric Mean: 85.07<br>Matthews Correlation: 71.75<br>F1: 85.65<br>Log Loss: 0.71",
          "Support Vector Machine<br>Performance: 83.08%<br>Model ID: 646<br>Accuracy: 82.83%<br>Precision: 83.3%<br>Recall: 82.83%<br>ROC AUC: 90.15<br>Geometric Mean: 85.07<br>Matthews Correlation: 71.75<br>F1: 85.65<br>Log Loss: 0.69",
          "Support Vector Machine<br>Performance: 83.09%<br>Model ID: 642<br>Accuracy: 82.83%<br>Precision: 83.3%<br>Recall: 82.83%<br>ROC AUC: 90.19<br>Geometric Mean: 85.07<br>Matthews Correlation: 71.75<br>F1: 85.65<br>Log Loss: 0.68",
          "Support Vector Machine<br>Performance: 83.07%<br>Model ID: 654<br>Accuracy: 82.83%<br>Precision: 83.3%<br>Recall: 82.83%<br>ROC AUC: 90.09<br>Geometric Mean: 85.07<br>Matthews Correlation: 71.75<br>F1: 85.65<br>Log Loss: 0.69",
          "Gaussian Naive Bayes<br>Performance: 80.97%<br>Model ID: 737<br>Accuracy: 80.51%<br>Precision: 80.65%<br>Recall: 80.51%<br>ROC AUC: 89.18<br>Geometric Mean: 83.79<br>Matthews Correlation: 68.01<br>F1: 84.11<br>Log Loss: 100.0",
          "Gaussian Naive Bayes<br>Performance: 80.97%<br>Model ID: 1066<br>Accuracy: 80.51%<br>Precision: 80.65%<br>Recall: 80.51%<br>ROC AUC: 89.18<br>Geometric Mean: 83.79<br>Matthews Correlation: 68.01<br>F1: 84.11<br>Log Loss: 34.0",
          "Gaussian Naive Bayes<br>Performance: 80.97%<br>Model ID: 1079<br>Accuracy: 80.51%<br>Precision: 80.65%<br>Recall: 80.51%<br>ROC AUC: 89.18<br>Geometric Mean: 83.79<br>Matthews Correlation: 68.01<br>F1: 84.11<br>Log Loss: 31.4",
          "Gaussian Naive Bayes<br>Performance: 80.97%<br>Model ID: 1078<br>Accuracy: 80.51%<br>Precision: 80.65%<br>Recall: 80.51%<br>ROC AUC: 89.18<br>Geometric Mean: 83.79<br>Matthews Correlation: 68.01<br>F1: 84.11<br>Log Loss: 31.6",
          "Gaussian Naive Bayes<br>Performance: 80.97%<br>Model ID: 1077<br>Accuracy: 80.51%<br>Precision: 80.65%<br>Recall: 80.51%<br>ROC AUC: 89.18<br>Geometric Mean: 83.79<br>Matthews Correlation: 68.01<br>F1: 84.11<br>Log Loss: 31.8",
          "Multilayer Perceptron<br>Performance: 79.22%<br>Model ID: 1262<br>Accuracy: 79.85%<br>Precision: 79.92%<br>Recall: 79.85%<br>ROC AUC: 85.88<br>Geometric Mean: 81.86<br>Matthews Correlation: 64.8<br>F1: 82.36<br>Log Loss: 17.56",
          "Multilayer Perceptron<br>Performance: 79.22%<br>Model ID: 1263<br>Accuracy: 79.85%<br>Precision: 79.92%<br>Recall: 79.85%<br>ROC AUC: 85.88<br>Geometric Mean: 81.86<br>Matthews Correlation: 64.8<br>F1: 82.36<br>Log Loss: 17.56",
          "Multilayer Perceptron<br>Performance: 79.22%<br>Model ID: 1261<br>Accuracy: 79.85%<br>Precision: 79.92%<br>Recall: 79.85%<br>ROC AUC: 85.88<br>Geometric Mean: 81.86<br>Matthews Correlation: 64.8<br>F1: 82.36<br>Log Loss: 17.56",
          "Multilayer Perceptron<br>Performance: 79.09%<br>Model ID: 1249<br>Accuracy: 79.52%<br>Precision: 79.59%<br>Recall: 79.52%<br>ROC AUC: 85.97<br>Geometric Mean: 81.86<br>Matthews Correlation: 64.8<br>F1: 82.36<br>Log Loss: 17.17",
          "Multilayer Perceptron<br>Performance: 79.09%<br>Model ID: 1251<br>Accuracy: 79.52%<br>Precision: 79.59%<br>Recall: 79.52%<br>ROC AUC: 85.97<br>Geometric Mean: 81.86<br>Matthews Correlation: 64.8<br>F1: 82.36<br>Log Loss: 17.17",
          "Logistic Regression<br>Performance: 83.67%<br>Model ID: 1677<br>Accuracy: 84.14%<br>Precision: 84.66%<br>Recall: 84.14%<br>ROC AUC: 90.32<br>Geometric Mean: 85.13<br>Matthews Correlation: 71.65<br>F1: 85.67<br>Log Loss: 3.51",
          "Logistic Regression<br>Performance: 83.66%<br>Model ID: 1741<br>Accuracy: 84.46%<br>Precision: 84.98%<br>Recall: 84.46%<br>ROC AUC: 90.58<br>Geometric Mean: 84.83<br>Matthews Correlation: 70.93<br>F1: 85.35<br>Log Loss: 3.37",
          "Logistic Regression<br>Performance: 83.54%<br>Model ID: 1901<br>Accuracy: 83.8%<br>Precision: 84.26%<br>Recall: 83.8%<br>ROC AUC: 90.5<br>Geometric Mean: 85.13<br>Matthews Correlation: 71.65<br>F1: 85.67<br>Log Loss: 3.41",
          "Logistic Regression<br>Performance: 83.53%<br>Model ID: 1773<br>Accuracy: 84.14%<br>Precision: 84.64%<br>Recall: 84.14%<br>ROC AUC: 90.65<br>Geometric Mean: 84.77<br>Matthews Correlation: 71.02<br>F1: 85.33<br>Log Loss: 3.23",
          "Logistic Regression<br>Performance: 83.41%<br>Model ID: 1869<br>Accuracy: 83.48%<br>Precision: 83.92%<br>Recall: 83.48%<br>ROC AUC: 90.54<br>Geometric Mean: 85.07<br>Matthews Correlation: 71.75<br>F1: 85.65<br>Log Loss: 2.97",
          "Linear Discriminant Analysis<br>Performance: 82.31%<br>Model ID: 1997<br>Accuracy: 83.16%<br>Precision: 84.11%<br>Recall: 83.16%<br>ROC AUC: 89.99<br>Geometric Mean: 83.32<br>Matthews Correlation: 68.51<br>F1: 83.94<br>Log Loss: 0.0",
          "Linear Discriminant Analysis<br>Performance: 82.31%<br>Model ID: 1998<br>Accuracy: 83.16%<br>Precision: 84.11%<br>Recall: 83.16%<br>ROC AUC: 89.99<br>Geometric Mean: 83.32<br>Matthews Correlation: 68.51<br>F1: 83.94<br>Log Loss: 0.0",
          "Linear Discriminant Analysis<br>Performance: 73.45%<br>Model ID: 1999<br>Accuracy: 75.89%<br>Precision: 76.41%<br>Recall: 75.89%<br>ROC AUC: 82.6<br>Geometric Mean: 75.39<br>Matthews Correlation: 52.04<br>F1: 75.95<br>Log Loss: 31.9",
          "Linear Discriminant Analysis<br>Performance: 73.45%<br>Model ID: 2000<br>Accuracy: 75.89%<br>Precision: 76.41%<br>Recall: 75.89%<br>ROC AUC: 82.6<br>Geometric Mean: 75.39<br>Matthews Correlation: 52.04<br>F1: 75.95<br>Log Loss: 31.9",
          "Linear Discriminant Analysis<br>Performance: 71.08%<br>Model ID: 2001<br>Accuracy: 74.25%<br>Precision: 74.65%<br>Recall: 74.25%<br>ROC AUC: 79.07<br>Geometric Mean: 73.45<br>Matthews Correlation: 47.92<br>F1: 73.99<br>Log Loss: 41.85",
          "Quadratic Discriminant Analysis<br>Performance: 83.44%<br>Model ID: 2227<br>Accuracy: 81.49%<br>Precision: 81.79%<br>Recall: 81.49%<br>ROC AUC: 88.84<br>Geometric Mean: 87.24<br>Matthews Correlation: 75.55<br>F1: 87.7<br>Log Loss: 0.03",
          "Quadratic Discriminant Analysis<br>Performance: 83.44%<br>Model ID: 2231<br>Accuracy: 81.49%<br>Precision: 81.79%<br>Recall: 81.49%<br>ROC AUC: 88.84<br>Geometric Mean: 87.24<br>Matthews Correlation: 75.55<br>F1: 87.7<br>Log Loss: 0.03",
          "Quadratic Discriminant Analysis<br>Performance: 83.44%<br>Model ID: 2230<br>Accuracy: 81.49%<br>Precision: 81.79%<br>Recall: 81.49%<br>ROC AUC: 88.84<br>Geometric Mean: 87.24<br>Matthews Correlation: 75.55<br>F1: 87.7<br>Log Loss: 0.03",
          "Quadratic Discriminant Analysis<br>Performance: 83.44%<br>Model ID: 2229<br>Accuracy: 81.49%<br>Precision: 81.79%<br>Recall: 81.49%<br>ROC AUC: 88.84<br>Geometric Mean: 87.24<br>Matthews Correlation: 75.55<br>F1: 87.7<br>Log Loss: 0.03",
          "Quadratic Discriminant Analysis<br>Performance: 83.44%<br>Model ID: 2228<br>Accuracy: 81.49%<br>Precision: 81.79%<br>Recall: 81.49%<br>ROC AUC: 88.84<br>Geometric Mean: 87.24<br>Matthews Correlation: 75.55<br>F1: 87.7<br>Log Loss: 0.03",
          "Random Forest<br>Performance: 91.82%<br>Model ID: 2488<br>Accuracy: 84.13%<br>Precision: 84.34%<br>Recall: 84.13%<br>ROC AUC: 90.17<br>Geometric Mean: 100.0<br>Matthews Correlation: 100.0<br>F1: 100.0<br>Log Loss: 59.71",
          "Random Forest<br>Performance: 91.83%<br>Model ID: 2490<br>Accuracy: 84.13%<br>Precision: 84.31%<br>Recall: 84.13%<br>ROC AUC: 90.21<br>Geometric Mean: 100.0<br>Matthews Correlation: 100.0<br>F1: 100.0<br>Log Loss: 52.76",
          "Random Forest<br>Performance: 91.83%<br>Model ID: 2489<br>Accuracy: 84.13%<br>Precision: 84.34%<br>Recall: 84.13%<br>ROC AUC: 90.22<br>Geometric Mean: 100.0<br>Matthews Correlation: 100.0<br>F1: 100.0<br>Log Loss: 54.75",
          "Random Forest<br>Performance: 91.82%<br>Model ID: 2494<br>Accuracy: 84.13%<br>Precision: 84.38%<br>Recall: 84.13%<br>ROC AUC: 90.11<br>Geometric Mean: 100.0<br>Matthews Correlation: 100.0<br>F1: 100.0<br>Log Loss: 58.36",
          "Random Forest<br>Performance: 91.69%<br>Model ID: 2493<br>Accuracy: 83.8%<br>Precision: 84.02%<br>Recall: 83.8%<br>ROC AUC: 90.22<br>Geometric Mean: 100.0<br>Matthews Correlation: 100.0<br>F1: 100.0<br>Log Loss: 57.04",
          "Extra Trees<br>Performance: 92.27%<br>Model ID: 2667<br>Accuracy: 84.81%<br>Precision: 85.07%<br>Recall: 84.81%<br>ROC AUC: 91.22<br>Geometric Mean: 100.0<br>Matthews Correlation: 100.0<br>F1: 100.0<br>Log Loss: 0.0",
          "Extra Trees<br>Performance: 92.24%<br>Model ID: 2659<br>Accuracy: 84.8%<br>Precision: 84.98%<br>Recall: 84.8%<br>ROC AUC: 91.07<br>Geometric Mean: 100.0<br>Matthews Correlation: 100.0<br>F1: 100.0<br>Log Loss: 0.0",
          "Extra Trees<br>Performance: 92.24%<br>Model ID: 2660<br>Accuracy: 84.8%<br>Precision: 84.98%<br>Recall: 84.8%<br>ROC AUC: 91.07<br>Geometric Mean: 100.0<br>Matthews Correlation: 100.0<br>F1: 100.0<br>Log Loss: 0.0",
          "Extra Trees<br>Performance: 92.19%<br>Model ID: 2714<br>Accuracy: 84.48%<br>Precision: 84.59%<br>Recall: 84.48%<br>ROC AUC: 91.8<br>Geometric Mean: 100.0<br>Matthews Correlation: 100.0<br>F1: 100.0<br>Log Loss: 0.0",
          "Extra Trees<br>Performance: 92.19%<br>Model ID: 2715<br>Accuracy: 84.48%<br>Precision: 84.59%<br>Recall: 84.48%<br>ROC AUC: 91.76<br>Geometric Mean: 100.0<br>Matthews Correlation: 100.0<br>F1: 100.0<br>Log Loss: 0.0",
          "Adaptive Boosting<br>Performance: 85.49%<br>Model ID: 2808<br>Accuracy: 80.83%<br>Precision: 81.1%<br>Recall: 80.83%<br>ROC AUC: 87.46<br>Geometric Mean: 92.08<br>Matthews Correlation: 84.06<br>F1: 92.08<br>Log Loss: 91.04",
          "Adaptive Boosting<br>Performance: 85.37%<br>Model ID: 2845<br>Accuracy: 80.16%<br>Precision: 80.31%<br>Recall: 80.16%<br>ROC AUC: 83.52<br>Geometric Mean: 93.35<br>Matthews Correlation: 86.69<br>F1: 93.4<br>Log Loss: 99.49",
          "Adaptive Boosting<br>Performance: 85.29%<br>Model ID: 2811<br>Accuracy: 80.5%<br>Precision: 80.76%<br>Recall: 80.5%<br>ROC AUC: 86.95<br>Geometric Mean: 92.13<br>Matthews Correlation: 84.1<br>F1: 92.09<br>Log Loss: 92.25",
          "Adaptive Boosting<br>Performance: 85.19%<br>Model ID: 2812<br>Accuracy: 80.16%<br>Precision: 80.52%<br>Recall: 80.16%<br>ROC AUC: 87.19<br>Geometric Mean: 92.13<br>Matthews Correlation: 84.1<br>F1: 92.09<br>Log Loss: 92.14",
          "Adaptive Boosting<br>Performance: 85.18%<br>Model ID: 2809<br>Accuracy: 80.17%<br>Precision: 80.42%<br>Recall: 80.17%<br>ROC AUC: 87.3<br>Geometric Mean: 92.08<br>Matthews Correlation: 84.06<br>F1: 92.08<br>Log Loss: 91.13",
          "Gradient Boosting<br>Performance: 89.77%<br>Model ID: 3030<br>Accuracy: 80.83%<br>Precision: 81.59%<br>Recall: 80.83%<br>ROC AUC: 87.84<br>Geometric Mean: 99.28<br>Matthews Correlation: 98.68<br>F1: 99.34<br>Log Loss: 3.39",
          "Gradient Boosting<br>Performance: 89.76%<br>Model ID: 3029<br>Accuracy: 80.83%<br>Precision: 81.59%<br>Recall: 80.83%<br>ROC AUC: 87.8<br>Geometric Mean: 99.28<br>Matthews Correlation: 98.68<br>F1: 99.34<br>Log Loss: 3.61",
          "Gradient Boosting<br>Performance: 89.76%<br>Model ID: 2969<br>Accuracy: 80.83%<br>Precision: 81.59%<br>Recall: 80.83%<br>ROC AUC: 87.77<br>Geometric Mean: 99.28<br>Matthews Correlation: 98.68<br>F1: 99.34<br>Log Loss: 3.61",
          "Gradient Boosting<br>Performance: 89.77%<br>Model ID: 2970<br>Accuracy: 80.83%<br>Precision: 81.59%<br>Recall: 80.83%<br>ROC AUC: 87.82<br>Geometric Mean: 99.28<br>Matthews Correlation: 98.68<br>F1: 99.34<br>Log Loss: 3.39",
          "Gradient Boosting<br>Performance: 89.75%<br>Model ID: 3026<br>Accuracy: 80.83%<br>Precision: 81.45%<br>Recall: 80.83%<br>ROC AUC: 87.84<br>Geometric Mean: 99.28<br>Matthews Correlation: 98.68<br>F1: 99.34<br>Log Loss: 4.1",
          "K-Nearest Neighbor<br>Performance: 87.44%<br>Model ID: meta_1<br>Accuracy: 89.11%<br>Precision: 89.41%<br>Recall: 89.11%<br>ROC AUC: 88.58<br>Geometric Mean: 88.58<br>Matthews Correlation: 78.24<br>F1: 89.03<br>Log Loss: 376.17",
          "Support Vector Machine<br>Performance: 92.41%<br>Model ID: meta_2<br>Accuracy: 93.4%<br>Precision: 93.4%<br>Recall: 93.4%<br>ROC AUC: 93.29<br>Geometric Mean: 93.29<br>Matthews Correlation: 86.68<br>F1: 93.4<br>Log Loss: 227.98",
          "Gaussian Naive Bayes<br>Performance: 93.21%<br>Model ID: meta_3<br>Accuracy: 94.06%<br>Precision: 94.07%<br>Recall: 94.06%<br>ROC AUC: 94.07<br>Geometric Mean: 94.07<br>Matthews Correlation: 88.05<br>F1: 94.06<br>Log Loss: 205.18",
          "Multilayer Perceptron<br>Performance: 100.0%<br>Model ID: meta_4<br>Accuracy: 100.0%<br>Precision: 100.0%<br>Recall: 100.0%<br>ROC AUC: 100.0<br>Geometric Mean: 100.0<br>Matthews Correlation: 100.0<br>F1: 100.0<br>Log Loss: 0.0",
          "Logistic Regression<br>Performance: 100.0%<br>Model ID: meta_5<br>Accuracy: 100.0%<br>Precision: 100.0%<br>Recall: 100.0%<br>ROC AUC: 100.0<br>Geometric Mean: 100.0<br>Matthews Correlation: 100.0<br>F1: 100.0<br>Log Loss: 0.0",
          "Linear Discriminant Analysis<br>Performance: 98.85%<br>Model ID: meta_6<br>Accuracy: 99.01%<br>Precision: 99.01%<br>Recall: 99.01%<br>ROC AUC: 98.97<br>Geometric Mean: 98.97<br>Matthews Correlation: 98.0<br>F1: 99.01<br>Log Loss: 34.2",
          "Quadratic Discriminant Analysis<br>Performance: 91.25%<br>Model ID: meta_7<br>Accuracy: 92.41%<br>Precision: 92.43%<br>Recall: 92.41%<br>ROC AUC: 92.2<br>Geometric Mean: 92.2<br>Matthews Correlation: 84.7<br>F1: 92.4<br>Log Loss: 262.18",
          "Random Forest<br>Performance: 90.91%<br>Model ID: meta_8<br>Accuracy: 92.08%<br>Precision: 92.08%<br>Recall: 92.08%<br>ROC AUC: 92.02<br>Geometric Mean: 92.02<br>Matthews Correlation: 84.03<br>F1: 92.08<br>Log Loss: 273.58",
          "Extra Trees<br>Performance: 96.33%<br>Model ID: meta_9<br>Accuracy: 96.7%<br>Precision: 96.85%<br>Recall: 96.7%<br>ROC AUC: 96.91<br>Geometric Mean: 96.91<br>Matthews Correlation: 93.51<br>F1: 96.71<br>Log Loss: 113.99",
          "Adaptive Boosting<br>Performance: 93.03%<br>Model ID: meta_10<br>Accuracy: 93.73%<br>Precision: 94.1%<br>Recall: 93.73%<br>ROC AUC: 94.06<br>Geometric Mean: 94.06<br>Matthews Correlation: 87.78<br>F1: 93.74<br>Log Loss: 216.58",
          "Gradient Boosting<br>Performance: 93.55%<br>Model ID: meta_11<br>Accuracy: 94.39%<br>Precision: 94.39%<br>Recall: 94.39%<br>ROC AUC: 94.31<br>Geometric Mean: 94.31<br>Matthews Correlation: 88.68<br>F1: 94.39<br>Log Loss: 193.78"
         ],
         "marker": {
          "color": [
           83.35,
           83.28,
           83.13,
           83.13,
           83.11,
           83.1,
           83.08,
           83.08,
           83.09,
           83.07,
           80.97,
           80.97,
           80.97,
           80.97,
           80.97,
           79.22,
           79.22,
           79.22,
           79.09,
           79.09,
           83.67,
           83.66,
           83.54,
           83.53,
           83.41,
           82.31,
           82.31,
           73.45,
           73.45,
           71.08,
           83.44,
           83.44,
           83.44,
           83.44,
           83.44,
           91.82,
           91.83,
           91.83,
           91.82,
           91.69,
           92.27,
           92.24,
           92.24,
           92.19,
           92.19,
           85.49,
           85.37,
           85.29,
           85.19,
           85.18,
           89.77,
           89.76,
           89.76,
           89.77,
           89.75,
           87.44,
           92.41,
           93.21,
           100,
           100,
           98.85,
           91.25,
           90.91,
           96.33,
           93.03,
           93.55
          ],
          "coloraxis": "coloraxis",
          "line": {
           "color": "Black",
           "width": 1
          },
          "opacity": 0.8,
          "size": [
           20,
           20,
           20,
           20,
           20,
           20,
           20,
           20,
           20,
           20,
           20,
           20,
           20,
           20,
           20,
           20,
           20,
           20,
           20,
           20,
           20,
           20,
           20,
           20,
           20,
           20,
           20,
           20,
           20,
           20,
           20,
           20,
           20,
           20,
           20,
           20,
           20,
           20,
           20,
           20,
           20,
           20,
           20,
           20,
           20,
           20,
           20,
           20,
           20,
           20,
           20,
           20,
           20,
           20,
           20,
           40,
           40,
           40,
           40,
           40,
           40,
           40,
           40,
           40,
           40,
           40
          ],
          "symbol": [
           "circle",
           "circle",
           "circle",
           "circle",
           "circle",
           "square",
           "square",
           "square",
           "square",
           "square",
           "x",
           "x",
           "x",
           "x",
           "x",
           "cross",
           "cross",
           "cross",
           "cross",
           "cross",
           "diamond",
           "diamond",
           "diamond",
           "diamond",
           "diamond",
           "star",
           "star",
           "star",
           "star",
           "star",
           "hexagram",
           "hexagram",
           "hexagram",
           "hexagram",
           "hexagram",
           "triangle-right",
           "triangle-right",
           "triangle-right",
           "triangle-right",
           "triangle-right",
           "triangle-left",
           "triangle-left",
           "triangle-left",
           "triangle-left",
           "triangle-left",
           "triangle-down",
           "triangle-down",
           "triangle-down",
           "triangle-down",
           "triangle-down",
           "triangle-up",
           "triangle-up",
           "triangle-up",
           "triangle-up",
           "triangle-up",
           "circle",
           "square",
           "x",
           "cross",
           "diamond",
           "star",
           "hexagram",
           "triangle-right",
           "triangle-left",
           "triangle-down",
           "triangle-up"
          ]
         },
         "mode": "markers",
         "type": "scatter",
         "x": [
          11.378193855285645,
          11.641887664794922,
          11.327466011047363,
          11.897945404052734,
          11.66329574584961,
          14.315619468688965,
          15.113738059997559,
          14.484648704528809,
          14.779607772827148,
          15.127338409423828,
          4.783175468444824,
          4.619214057922363,
          4.472947597503662,
          4.285109043121338,
          4.8551788330078125,
          9.318085670471191,
          9.792811393737793,
          9.608208656311035,
          10.029430389404297,
          9.594489097595215,
          15.98326587677002,
          15.60528564453125,
          15.268647193908691,
          16.070280075073242,
          15.415727615356445,
          15.116073608398438,
          15.734344482421875,
          10.729047775268555,
          10.807962417602539,
          10.766130447387695,
          15.382577896118164,
          15.775029182434082,
          15.245549201965332,
          15.76889419555664,
          15.94373893737793,
          5.799977779388428,
          5.454209327697754,
          6.284308910369873,
          6.179691314697266,
          5.667297840118408,
          4.490757465362549,
          4.750156402587891,
          5.032509803771973,
          5.188187122344971,
          4.807989120483398,
          11.912281036376953,
          12.326875686645508,
          11.582984924316406,
          12.222822189331055,
          11.357237815856934,
          31.39080810546875,
          30.894479751586914,
          31.10813331604004,
          30.947546005249023,
          31.536407470703125,
          7.696956157684326,
          7.26809024810791,
          7.672486782073975,
          7.250168323516846,
          6.971436977386475,
          7.804006099700928,
          8.002731323242188,
          6.540090560913086,
          7.001591205596924,
          11.72362232208252,
          6.58015251159668
         ],
         "xaxis": "x",
         "y": [
          8.763947486877441,
          7.425316333770752,
          7.765176773071289,
          7.9591450691223145,
          8.408842086791992,
          12.578693389892578,
          12.545207023620605,
          12.85971450805664,
          12.180025100708008,
          12.497438430786133,
          -10.062681198120117,
          -10.226628303527832,
          -10.372903823852539,
          -10.560734748840332,
          -9.990684509277344,
          9.536412239074707,
          9.695061683654785,
          9.335711479187012,
          9.283385276794434,
          8.916380882263184,
          11.523731231689453,
          11.590059280395508,
          11.157979011535645,
          11.08045768737793,
          11.041158676147461,
          10.404364585876465,
          10.326987266540527,
          8.53410530090332,
          7.927281856536865,
          8.038933753967285,
          9.191964149475098,
          9.503250122070312,
          9.690783500671387,
          10.101914405822754,
          9.63410472869873,
          18.97492027282715,
          18.607336044311523,
          18.89883804321289,
          18.202394485473633,
          18.575294494628906,
          17.695669174194336,
          17.9802188873291,
          17.86008071899414,
          17.6403865814209,
          18.488601684570312,
          4.218328475952148,
          4.221986770629883,
          3.8065860271453857,
          4.7902631759643555,
          4.5622429847717285,
          1.7188124656677246,
          2.2158257961273193,
          2.0019805431365967,
          2.162599563598633,
          1.5736567974090576,
          16.265113830566406,
          16.678194046020508,
          15.387959480285645,
          15.747051239013672,
          15.512778282165527,
          15.652480125427246,
          16.229244232177734,
          16.06770133972168,
          16.365732192993164,
          4.43037223815918,
          17.283432006835938
         ],
         "yaxis": "y"
        },
        {
         "hovertext": [
          "K-Nearest Neighbor<br>Performance: 83.35%<br>Model ID: 452<br>Accuracy: 70.31%<br>Precision: 70.36%<br>Recall: 70.31%<br>ROC AUC: 72.5<br>Geometric Mean: 100.0<br>Matthews Correlation: 100.0<br>F1: 100.0<br>Log Loss: 0.0",
          "K-Nearest Neighbor<br>Performance: 83.28%<br>Model ID: 288<br>Accuracy: 69.62%<br>Precision: 69.8%<br>Recall: 69.62%<br>ROC AUC: 73.91<br>Geometric Mean: 100.0<br>Matthews Correlation: 100.0<br>F1: 100.0<br>Log Loss: 0.0",
          "K-Nearest Neighbor<br>Performance: 83.13%<br>Model ID: 96<br>Accuracy: 69.29%<br>Precision: 69.48%<br>Recall: 69.29%<br>ROC AUC: 73.84<br>Geometric Mean: 100.0<br>Matthews Correlation: 100.0<br>F1: 100.0<br>Log Loss: 0.0",
          "K-Nearest Neighbor<br>Performance: 83.13%<br>Model ID: 480<br>Accuracy: 69.29%<br>Precision: 69.48%<br>Recall: 69.29%<br>ROC AUC: 73.82<br>Geometric Mean: 100.0<br>Matthews Correlation: 100.0<br>F1: 100.0<br>Log Loss: 0.0",
          "K-Nearest Neighbor<br>Performance: 83.11%<br>Model ID: 458<br>Accuracy: 69.64%<br>Precision: 69.61%<br>Recall: 69.64%<br>ROC AUC: 72.85<br>Geometric Mean: 100.0<br>Matthews Correlation: 100.0<br>F1: 100.0<br>Log Loss: 0.0",
          "Support Vector Machine<br>Performance: 83.1%<br>Model ID: 694<br>Accuracy: 82.5%<br>Precision: 82.92%<br>Recall: 82.5%<br>ROC AUC: 89.98<br>Geometric Mean: 85.43<br>Matthews Correlation: 72.38<br>F1: 85.99<br>Log Loss: 0.62",
          "Support Vector Machine<br>Performance: 83.08%<br>Model ID: 650<br>Accuracy: 82.83%<br>Precision: 83.3%<br>Recall: 82.83%<br>ROC AUC: 90.14<br>Geometric Mean: 85.07<br>Matthews Correlation: 71.75<br>F1: 85.65<br>Log Loss: 0.71",
          "Support Vector Machine<br>Performance: 83.08%<br>Model ID: 646<br>Accuracy: 82.83%<br>Precision: 83.3%<br>Recall: 82.83%<br>ROC AUC: 90.15<br>Geometric Mean: 85.07<br>Matthews Correlation: 71.75<br>F1: 85.65<br>Log Loss: 0.69",
          "Support Vector Machine<br>Performance: 83.09%<br>Model ID: 642<br>Accuracy: 82.83%<br>Precision: 83.3%<br>Recall: 82.83%<br>ROC AUC: 90.19<br>Geometric Mean: 85.07<br>Matthews Correlation: 71.75<br>F1: 85.65<br>Log Loss: 0.68",
          "Support Vector Machine<br>Performance: 83.07%<br>Model ID: 654<br>Accuracy: 82.83%<br>Precision: 83.3%<br>Recall: 82.83%<br>ROC AUC: 90.09<br>Geometric Mean: 85.07<br>Matthews Correlation: 71.75<br>F1: 85.65<br>Log Loss: 0.69",
          "Gaussian Naive Bayes<br>Performance: 80.97%<br>Model ID: 737<br>Accuracy: 80.51%<br>Precision: 80.65%<br>Recall: 80.51%<br>ROC AUC: 89.18<br>Geometric Mean: 83.79<br>Matthews Correlation: 68.01<br>F1: 84.11<br>Log Loss: 100.0",
          "Gaussian Naive Bayes<br>Performance: 80.97%<br>Model ID: 1066<br>Accuracy: 80.51%<br>Precision: 80.65%<br>Recall: 80.51%<br>ROC AUC: 89.18<br>Geometric Mean: 83.79<br>Matthews Correlation: 68.01<br>F1: 84.11<br>Log Loss: 34.0",
          "Gaussian Naive Bayes<br>Performance: 80.97%<br>Model ID: 1079<br>Accuracy: 80.51%<br>Precision: 80.65%<br>Recall: 80.51%<br>ROC AUC: 89.18<br>Geometric Mean: 83.79<br>Matthews Correlation: 68.01<br>F1: 84.11<br>Log Loss: 31.4",
          "Gaussian Naive Bayes<br>Performance: 80.97%<br>Model ID: 1078<br>Accuracy: 80.51%<br>Precision: 80.65%<br>Recall: 80.51%<br>ROC AUC: 89.18<br>Geometric Mean: 83.79<br>Matthews Correlation: 68.01<br>F1: 84.11<br>Log Loss: 31.6",
          "Gaussian Naive Bayes<br>Performance: 80.97%<br>Model ID: 1077<br>Accuracy: 80.51%<br>Precision: 80.65%<br>Recall: 80.51%<br>ROC AUC: 89.18<br>Geometric Mean: 83.79<br>Matthews Correlation: 68.01<br>F1: 84.11<br>Log Loss: 31.8",
          "Multilayer Perceptron<br>Performance: 79.22%<br>Model ID: 1262<br>Accuracy: 79.85%<br>Precision: 79.92%<br>Recall: 79.85%<br>ROC AUC: 85.88<br>Geometric Mean: 81.86<br>Matthews Correlation: 64.8<br>F1: 82.36<br>Log Loss: 17.56",
          "Multilayer Perceptron<br>Performance: 79.22%<br>Model ID: 1263<br>Accuracy: 79.85%<br>Precision: 79.92%<br>Recall: 79.85%<br>ROC AUC: 85.88<br>Geometric Mean: 81.86<br>Matthews Correlation: 64.8<br>F1: 82.36<br>Log Loss: 17.56",
          "Multilayer Perceptron<br>Performance: 79.22%<br>Model ID: 1261<br>Accuracy: 79.85%<br>Precision: 79.92%<br>Recall: 79.85%<br>ROC AUC: 85.88<br>Geometric Mean: 81.86<br>Matthews Correlation: 64.8<br>F1: 82.36<br>Log Loss: 17.56",
          "Multilayer Perceptron<br>Performance: 79.09%<br>Model ID: 1249<br>Accuracy: 79.52%<br>Precision: 79.59%<br>Recall: 79.52%<br>ROC AUC: 85.97<br>Geometric Mean: 81.86<br>Matthews Correlation: 64.8<br>F1: 82.36<br>Log Loss: 17.17",
          "Multilayer Perceptron<br>Performance: 79.09%<br>Model ID: 1251<br>Accuracy: 79.52%<br>Precision: 79.59%<br>Recall: 79.52%<br>ROC AUC: 85.97<br>Geometric Mean: 81.86<br>Matthews Correlation: 64.8<br>F1: 82.36<br>Log Loss: 17.17",
          "Logistic Regression<br>Performance: 83.67%<br>Model ID: 1677<br>Accuracy: 84.14%<br>Precision: 84.66%<br>Recall: 84.14%<br>ROC AUC: 90.32<br>Geometric Mean: 85.13<br>Matthews Correlation: 71.65<br>F1: 85.67<br>Log Loss: 3.51",
          "Logistic Regression<br>Performance: 83.66%<br>Model ID: 1741<br>Accuracy: 84.46%<br>Precision: 84.98%<br>Recall: 84.46%<br>ROC AUC: 90.58<br>Geometric Mean: 84.83<br>Matthews Correlation: 70.93<br>F1: 85.35<br>Log Loss: 3.37",
          "Logistic Regression<br>Performance: 83.54%<br>Model ID: 1901<br>Accuracy: 83.8%<br>Precision: 84.26%<br>Recall: 83.8%<br>ROC AUC: 90.5<br>Geometric Mean: 85.13<br>Matthews Correlation: 71.65<br>F1: 85.67<br>Log Loss: 3.41",
          "Logistic Regression<br>Performance: 83.53%<br>Model ID: 1773<br>Accuracy: 84.14%<br>Precision: 84.64%<br>Recall: 84.14%<br>ROC AUC: 90.65<br>Geometric Mean: 84.77<br>Matthews Correlation: 71.02<br>F1: 85.33<br>Log Loss: 3.23",
          "Logistic Regression<br>Performance: 83.41%<br>Model ID: 1869<br>Accuracy: 83.48%<br>Precision: 83.92%<br>Recall: 83.48%<br>ROC AUC: 90.54<br>Geometric Mean: 85.07<br>Matthews Correlation: 71.75<br>F1: 85.65<br>Log Loss: 2.97",
          "Linear Discriminant Analysis<br>Performance: 82.31%<br>Model ID: 1997<br>Accuracy: 83.16%<br>Precision: 84.11%<br>Recall: 83.16%<br>ROC AUC: 89.99<br>Geometric Mean: 83.32<br>Matthews Correlation: 68.51<br>F1: 83.94<br>Log Loss: 0.0",
          "Linear Discriminant Analysis<br>Performance: 82.31%<br>Model ID: 1998<br>Accuracy: 83.16%<br>Precision: 84.11%<br>Recall: 83.16%<br>ROC AUC: 89.99<br>Geometric Mean: 83.32<br>Matthews Correlation: 68.51<br>F1: 83.94<br>Log Loss: 0.0",
          "Linear Discriminant Analysis<br>Performance: 73.45%<br>Model ID: 1999<br>Accuracy: 75.89%<br>Precision: 76.41%<br>Recall: 75.89%<br>ROC AUC: 82.6<br>Geometric Mean: 75.39<br>Matthews Correlation: 52.04<br>F1: 75.95<br>Log Loss: 31.9",
          "Linear Discriminant Analysis<br>Performance: 73.45%<br>Model ID: 2000<br>Accuracy: 75.89%<br>Precision: 76.41%<br>Recall: 75.89%<br>ROC AUC: 82.6<br>Geometric Mean: 75.39<br>Matthews Correlation: 52.04<br>F1: 75.95<br>Log Loss: 31.9",
          "Linear Discriminant Analysis<br>Performance: 71.08%<br>Model ID: 2001<br>Accuracy: 74.25%<br>Precision: 74.65%<br>Recall: 74.25%<br>ROC AUC: 79.07<br>Geometric Mean: 73.45<br>Matthews Correlation: 47.92<br>F1: 73.99<br>Log Loss: 41.85",
          "Quadratic Discriminant Analysis<br>Performance: 83.44%<br>Model ID: 2227<br>Accuracy: 81.49%<br>Precision: 81.79%<br>Recall: 81.49%<br>ROC AUC: 88.84<br>Geometric Mean: 87.24<br>Matthews Correlation: 75.55<br>F1: 87.7<br>Log Loss: 0.03",
          "Quadratic Discriminant Analysis<br>Performance: 83.44%<br>Model ID: 2231<br>Accuracy: 81.49%<br>Precision: 81.79%<br>Recall: 81.49%<br>ROC AUC: 88.84<br>Geometric Mean: 87.24<br>Matthews Correlation: 75.55<br>F1: 87.7<br>Log Loss: 0.03",
          "Quadratic Discriminant Analysis<br>Performance: 83.44%<br>Model ID: 2230<br>Accuracy: 81.49%<br>Precision: 81.79%<br>Recall: 81.49%<br>ROC AUC: 88.84<br>Geometric Mean: 87.24<br>Matthews Correlation: 75.55<br>F1: 87.7<br>Log Loss: 0.03",
          "Quadratic Discriminant Analysis<br>Performance: 83.44%<br>Model ID: 2229<br>Accuracy: 81.49%<br>Precision: 81.79%<br>Recall: 81.49%<br>ROC AUC: 88.84<br>Geometric Mean: 87.24<br>Matthews Correlation: 75.55<br>F1: 87.7<br>Log Loss: 0.03",
          "Quadratic Discriminant Analysis<br>Performance: 83.44%<br>Model ID: 2228<br>Accuracy: 81.49%<br>Precision: 81.79%<br>Recall: 81.49%<br>ROC AUC: 88.84<br>Geometric Mean: 87.24<br>Matthews Correlation: 75.55<br>F1: 87.7<br>Log Loss: 0.03",
          "Random Forest<br>Performance: 91.82%<br>Model ID: 2488<br>Accuracy: 84.13%<br>Precision: 84.34%<br>Recall: 84.13%<br>ROC AUC: 90.17<br>Geometric Mean: 100.0<br>Matthews Correlation: 100.0<br>F1: 100.0<br>Log Loss: 59.71",
          "Random Forest<br>Performance: 91.83%<br>Model ID: 2490<br>Accuracy: 84.13%<br>Precision: 84.31%<br>Recall: 84.13%<br>ROC AUC: 90.21<br>Geometric Mean: 100.0<br>Matthews Correlation: 100.0<br>F1: 100.0<br>Log Loss: 52.76",
          "Random Forest<br>Performance: 91.83%<br>Model ID: 2489<br>Accuracy: 84.13%<br>Precision: 84.34%<br>Recall: 84.13%<br>ROC AUC: 90.22<br>Geometric Mean: 100.0<br>Matthews Correlation: 100.0<br>F1: 100.0<br>Log Loss: 54.75",
          "Random Forest<br>Performance: 91.82%<br>Model ID: 2494<br>Accuracy: 84.13%<br>Precision: 84.38%<br>Recall: 84.13%<br>ROC AUC: 90.11<br>Geometric Mean: 100.0<br>Matthews Correlation: 100.0<br>F1: 100.0<br>Log Loss: 58.36",
          "Random Forest<br>Performance: 91.69%<br>Model ID: 2493<br>Accuracy: 83.8%<br>Precision: 84.02%<br>Recall: 83.8%<br>ROC AUC: 90.22<br>Geometric Mean: 100.0<br>Matthews Correlation: 100.0<br>F1: 100.0<br>Log Loss: 57.04",
          "Extra Trees<br>Performance: 92.27%<br>Model ID: 2667<br>Accuracy: 84.81%<br>Precision: 85.07%<br>Recall: 84.81%<br>ROC AUC: 91.22<br>Geometric Mean: 100.0<br>Matthews Correlation: 100.0<br>F1: 100.0<br>Log Loss: 0.0",
          "Extra Trees<br>Performance: 92.24%<br>Model ID: 2659<br>Accuracy: 84.8%<br>Precision: 84.98%<br>Recall: 84.8%<br>ROC AUC: 91.07<br>Geometric Mean: 100.0<br>Matthews Correlation: 100.0<br>F1: 100.0<br>Log Loss: 0.0",
          "Extra Trees<br>Performance: 92.24%<br>Model ID: 2660<br>Accuracy: 84.8%<br>Precision: 84.98%<br>Recall: 84.8%<br>ROC AUC: 91.07<br>Geometric Mean: 100.0<br>Matthews Correlation: 100.0<br>F1: 100.0<br>Log Loss: 0.0",
          "Extra Trees<br>Performance: 92.19%<br>Model ID: 2714<br>Accuracy: 84.48%<br>Precision: 84.59%<br>Recall: 84.48%<br>ROC AUC: 91.8<br>Geometric Mean: 100.0<br>Matthews Correlation: 100.0<br>F1: 100.0<br>Log Loss: 0.0",
          "Extra Trees<br>Performance: 92.19%<br>Model ID: 2715<br>Accuracy: 84.48%<br>Precision: 84.59%<br>Recall: 84.48%<br>ROC AUC: 91.76<br>Geometric Mean: 100.0<br>Matthews Correlation: 100.0<br>F1: 100.0<br>Log Loss: 0.0",
          "Adaptive Boosting<br>Performance: 85.49%<br>Model ID: 2808<br>Accuracy: 80.83%<br>Precision: 81.1%<br>Recall: 80.83%<br>ROC AUC: 87.46<br>Geometric Mean: 92.08<br>Matthews Correlation: 84.06<br>F1: 92.08<br>Log Loss: 91.04",
          "Adaptive Boosting<br>Performance: 85.37%<br>Model ID: 2845<br>Accuracy: 80.16%<br>Precision: 80.31%<br>Recall: 80.16%<br>ROC AUC: 83.52<br>Geometric Mean: 93.35<br>Matthews Correlation: 86.69<br>F1: 93.4<br>Log Loss: 99.49",
          "Adaptive Boosting<br>Performance: 85.29%<br>Model ID: 2811<br>Accuracy: 80.5%<br>Precision: 80.76%<br>Recall: 80.5%<br>ROC AUC: 86.95<br>Geometric Mean: 92.13<br>Matthews Correlation: 84.1<br>F1: 92.09<br>Log Loss: 92.25",
          "Adaptive Boosting<br>Performance: 85.19%<br>Model ID: 2812<br>Accuracy: 80.16%<br>Precision: 80.52%<br>Recall: 80.16%<br>ROC AUC: 87.19<br>Geometric Mean: 92.13<br>Matthews Correlation: 84.1<br>F1: 92.09<br>Log Loss: 92.14",
          "Adaptive Boosting<br>Performance: 85.18%<br>Model ID: 2809<br>Accuracy: 80.17%<br>Precision: 80.42%<br>Recall: 80.17%<br>ROC AUC: 87.3<br>Geometric Mean: 92.08<br>Matthews Correlation: 84.06<br>F1: 92.08<br>Log Loss: 91.13",
          "Gradient Boosting<br>Performance: 89.77%<br>Model ID: 3030<br>Accuracy: 80.83%<br>Precision: 81.59%<br>Recall: 80.83%<br>ROC AUC: 87.84<br>Geometric Mean: 99.28<br>Matthews Correlation: 98.68<br>F1: 99.34<br>Log Loss: 3.39",
          "Gradient Boosting<br>Performance: 89.76%<br>Model ID: 3029<br>Accuracy: 80.83%<br>Precision: 81.59%<br>Recall: 80.83%<br>ROC AUC: 87.8<br>Geometric Mean: 99.28<br>Matthews Correlation: 98.68<br>F1: 99.34<br>Log Loss: 3.61",
          "Gradient Boosting<br>Performance: 89.76%<br>Model ID: 2969<br>Accuracy: 80.83%<br>Precision: 81.59%<br>Recall: 80.83%<br>ROC AUC: 87.77<br>Geometric Mean: 99.28<br>Matthews Correlation: 98.68<br>F1: 99.34<br>Log Loss: 3.61",
          "Gradient Boosting<br>Performance: 89.77%<br>Model ID: 2970<br>Accuracy: 80.83%<br>Precision: 81.59%<br>Recall: 80.83%<br>ROC AUC: 87.82<br>Geometric Mean: 99.28<br>Matthews Correlation: 98.68<br>F1: 99.34<br>Log Loss: 3.39",
          "Gradient Boosting<br>Performance: 89.75%<br>Model ID: 3026<br>Accuracy: 80.83%<br>Precision: 81.45%<br>Recall: 80.83%<br>ROC AUC: 87.84<br>Geometric Mean: 99.28<br>Matthews Correlation: 98.68<br>F1: 99.34<br>Log Loss: 4.1",
          "K-Nearest Neighbor<br>Performance: 87.44%<br>Model ID: meta_1<br>Accuracy: 89.11%<br>Precision: 89.41%<br>Recall: 89.11%<br>ROC AUC: 88.58<br>Geometric Mean: 88.58<br>Matthews Correlation: 78.24<br>F1: 89.03<br>Log Loss: 376.17",
          "Support Vector Machine<br>Performance: 92.41%<br>Model ID: meta_2<br>Accuracy: 93.4%<br>Precision: 93.4%<br>Recall: 93.4%<br>ROC AUC: 93.29<br>Geometric Mean: 93.29<br>Matthews Correlation: 86.68<br>F1: 93.4<br>Log Loss: 227.98",
          "Gaussian Naive Bayes<br>Performance: 93.21%<br>Model ID: meta_3<br>Accuracy: 94.06%<br>Precision: 94.07%<br>Recall: 94.06%<br>ROC AUC: 94.07<br>Geometric Mean: 94.07<br>Matthews Correlation: 88.05<br>F1: 94.06<br>Log Loss: 205.18",
          "Multilayer Perceptron<br>Performance: 100.0%<br>Model ID: meta_4<br>Accuracy: 100.0%<br>Precision: 100.0%<br>Recall: 100.0%<br>ROC AUC: 100.0<br>Geometric Mean: 100.0<br>Matthews Correlation: 100.0<br>F1: 100.0<br>Log Loss: 0.0",
          "Logistic Regression<br>Performance: 100.0%<br>Model ID: meta_5<br>Accuracy: 100.0%<br>Precision: 100.0%<br>Recall: 100.0%<br>ROC AUC: 100.0<br>Geometric Mean: 100.0<br>Matthews Correlation: 100.0<br>F1: 100.0<br>Log Loss: 0.0",
          "Linear Discriminant Analysis<br>Performance: 98.85%<br>Model ID: meta_6<br>Accuracy: 99.01%<br>Precision: 99.01%<br>Recall: 99.01%<br>ROC AUC: 98.97<br>Geometric Mean: 98.97<br>Matthews Correlation: 98.0<br>F1: 99.01<br>Log Loss: 34.2",
          "Quadratic Discriminant Analysis<br>Performance: 91.25%<br>Model ID: meta_7<br>Accuracy: 92.41%<br>Precision: 92.43%<br>Recall: 92.41%<br>ROC AUC: 92.2<br>Geometric Mean: 92.2<br>Matthews Correlation: 84.7<br>F1: 92.4<br>Log Loss: 262.18",
          "Random Forest<br>Performance: 90.91%<br>Model ID: meta_8<br>Accuracy: 92.08%<br>Precision: 92.08%<br>Recall: 92.08%<br>ROC AUC: 92.02<br>Geometric Mean: 92.02<br>Matthews Correlation: 84.03<br>F1: 92.08<br>Log Loss: 273.58",
          "Extra Trees<br>Performance: 96.33%<br>Model ID: meta_9<br>Accuracy: 96.7%<br>Precision: 96.85%<br>Recall: 96.7%<br>ROC AUC: 96.91<br>Geometric Mean: 96.91<br>Matthews Correlation: 93.51<br>F1: 96.71<br>Log Loss: 113.99",
          "Adaptive Boosting<br>Performance: 93.03%<br>Model ID: meta_10<br>Accuracy: 93.73%<br>Precision: 94.1%<br>Recall: 93.73%<br>ROC AUC: 94.06<br>Geometric Mean: 94.06<br>Matthews Correlation: 87.78<br>F1: 93.74<br>Log Loss: 216.58",
          "Gradient Boosting<br>Performance: 93.55%<br>Model ID: meta_11<br>Accuracy: 94.39%<br>Precision: 94.39%<br>Recall: 94.39%<br>ROC AUC: 94.31<br>Geometric Mean: 94.31<br>Matthews Correlation: 88.68<br>F1: 94.39<br>Log Loss: 193.78"
         ],
         "marker": {
          "color": [
           83.35,
           83.28,
           83.13,
           83.13,
           83.11,
           83.1,
           83.08,
           83.08,
           83.09,
           83.07,
           80.97,
           80.97,
           80.97,
           80.97,
           80.97,
           79.22,
           79.22,
           79.22,
           79.09,
           79.09,
           83.67,
           83.66,
           83.54,
           83.53,
           83.41,
           82.31,
           82.31,
           73.45,
           73.45,
           71.08,
           83.44,
           83.44,
           83.44,
           83.44,
           83.44,
           91.82,
           91.83,
           91.83,
           91.82,
           91.69,
           92.27,
           92.24,
           92.24,
           92.19,
           92.19,
           85.49,
           85.37,
           85.29,
           85.19,
           85.18,
           89.77,
           89.76,
           89.76,
           89.77,
           89.75,
           87.44,
           92.41,
           93.21,
           100,
           100,
           98.85,
           91.25,
           90.91,
           96.33,
           93.03,
           93.55
          ],
          "coloraxis": "coloraxis",
          "line": {
           "color": "Black",
           "width": 1
          },
          "opacity": 0.8,
          "size": [
           20,
           20,
           20,
           20,
           20,
           20,
           20,
           20,
           20,
           20,
           20,
           20,
           20,
           20,
           20,
           20,
           20,
           20,
           20,
           20,
           20,
           20,
           20,
           20,
           20,
           20,
           20,
           20,
           20,
           20,
           20,
           20,
           20,
           20,
           20,
           20,
           20,
           20,
           20,
           20,
           20,
           20,
           20,
           20,
           20,
           20,
           20,
           20,
           20,
           20,
           20,
           20,
           20,
           20,
           20,
           40,
           40,
           40,
           40,
           40,
           40,
           40,
           40,
           40,
           40,
           40
          ],
          "symbol": [
           "circle",
           "circle",
           "circle",
           "circle",
           "circle",
           "square",
           "square",
           "square",
           "square",
           "square",
           "x",
           "x",
           "x",
           "x",
           "x",
           "cross",
           "cross",
           "cross",
           "cross",
           "cross",
           "diamond",
           "diamond",
           "diamond",
           "diamond",
           "diamond",
           "star",
           "star",
           "star",
           "star",
           "star",
           "hexagram",
           "hexagram",
           "hexagram",
           "hexagram",
           "hexagram",
           "triangle-right",
           "triangle-right",
           "triangle-right",
           "triangle-right",
           "triangle-right",
           "triangle-left",
           "triangle-left",
           "triangle-left",
           "triangle-left",
           "triangle-left",
           "triangle-down",
           "triangle-down",
           "triangle-down",
           "triangle-down",
           "triangle-down",
           "triangle-up",
           "triangle-up",
           "triangle-up",
           "triangle-up",
           "triangle-up",
           "circle",
           "square",
           "x",
           "cross",
           "diamond",
           "star",
           "hexagram",
           "triangle-right",
           "triangle-left",
           "triangle-down",
           "triangle-up"
          ]
         },
         "mode": "markers",
         "type": "scatter",
         "x": [
          22.06600570678711,
          21.7733154296875,
          22.06192398071289,
          22.354679107666016,
          21.737146377563477,
          -5.380477428436279,
          -4.5559258460998535,
          -4.856125354766846,
          -5.051864147186279,
          -4.82658576965332,
          -6.000782012939453,
          -5.572453022003174,
          -5.928558826446533,
          -5.291538715362549,
          -5.745020866394043,
          24.03805923461914,
          24.62222671508789,
          24.329105377197266,
          24.2065486907959,
          24.683591842651367,
          -6.6430158615112305,
          -6.42578125,
          -6.391666889190674,
          -7.036593437194824,
          -6.361212730407715,
          -7.13329553604126,
          -6.633391857147217,
          22.924142837524414,
          23.12718963623047,
          22.616802215576172,
          -7.657419204711914,
          -6.660364151000977,
          -7.010595321655273,
          -7.49423885345459,
          -7.251346111297607,
          -6.068717002868652,
          -6.2589311599731445,
          -6.342246055603027,
          -6.447305202484131,
          -5.794832706451416,
          -5.520854473114014,
          -5.404990196228027,
          -4.925813674926758,
          -4.792367458343506,
          -5.246152877807617,
          23.714889526367188,
          24.472686767578125,
          24.18085479736328,
          23.73867416381836,
          23.792034149169922,
          13.694846153259277,
          13.440183639526367,
          13.263445854187012,
          13.059645652770996,
          13.607699394226074,
          -3.7221851348876953,
          -3.926199197769165,
          -3.7492728233337402,
          -3.3608882427215576,
          -3.040076971054077,
          -3.736999034881592,
          -3.415207624435425,
          -4.427816390991211,
          -3.1173460483551025,
          24.354633331298828,
          -4.700479030609131
         ],
         "xaxis": "x",
         "y": [
          13.33045768737793,
          14.288935661315918,
          14.070825576782227,
          14.022159576416016,
          13.53211784362793,
          14.926322937011719,
          14.997735023498535,
          14.333680152893066,
          14.537005424499512,
          15.13914966583252,
          23.795015335083008,
          24.14410400390625,
          23.97279930114746,
          23.878326416015625,
          23.416749954223633,
          13.485925674438477,
          12.789835929870605,
          13.053786277770996,
          12.433802604675293,
          13.215603828430176,
          13.998854637145996,
          14.4293851852417,
          14.979657173156738,
          14.615670204162598,
          15.13524055480957,
          15.730926513671875,
          15.996297836303711,
          13.79859447479248,
          13.449823379516602,
          13.202349662780762,
          16.463537216186523,
          16.53825569152832,
          16.717063903808594,
          16.30977439880371,
          16.953575134277344,
          9.273773193359375,
          8.494438171386719,
          8.995171546936035,
          8.805685043334961,
          8.96792984008789,
          7.483089447021484,
          7.213951110839844,
          7.7214250564575195,
          8.297309875488281,
          8.04289722442627,
          9.196385383605957,
          9.087200164794922,
          9.560749053955078,
          8.750536918640137,
          9.353816986083984,
          -8.107749938964844,
          -7.853099346160889,
          -7.676367282867432,
          -7.4725518226623535,
          -8.020593643188477,
          10.067328453063965,
          9.58266544342041,
          10.722416877746582,
          9.390527725219727,
          9.490224838256836,
          9.82358455657959,
          10.42782211303711,
          10.07772445678711,
          9.927254676818848,
          8.889613151550293,
          9.175012588500977
         ],
         "yaxis": "y"
        },
        {
         "hovertext": [
          "K-Nearest Neighbor<br>Performance: 83.35%<br>Model ID: 452<br>Accuracy: 70.31%<br>Precision: 70.36%<br>Recall: 70.31%<br>ROC AUC: 72.5<br>Geometric Mean: 100.0<br>Matthews Correlation: 100.0<br>F1: 100.0<br>Log Loss: 0.0",
          "K-Nearest Neighbor<br>Performance: 83.28%<br>Model ID: 288<br>Accuracy: 69.62%<br>Precision: 69.8%<br>Recall: 69.62%<br>ROC AUC: 73.91<br>Geometric Mean: 100.0<br>Matthews Correlation: 100.0<br>F1: 100.0<br>Log Loss: 0.0",
          "K-Nearest Neighbor<br>Performance: 83.13%<br>Model ID: 96<br>Accuracy: 69.29%<br>Precision: 69.48%<br>Recall: 69.29%<br>ROC AUC: 73.84<br>Geometric Mean: 100.0<br>Matthews Correlation: 100.0<br>F1: 100.0<br>Log Loss: 0.0",
          "K-Nearest Neighbor<br>Performance: 83.13%<br>Model ID: 480<br>Accuracy: 69.29%<br>Precision: 69.48%<br>Recall: 69.29%<br>ROC AUC: 73.82<br>Geometric Mean: 100.0<br>Matthews Correlation: 100.0<br>F1: 100.0<br>Log Loss: 0.0",
          "K-Nearest Neighbor<br>Performance: 83.11%<br>Model ID: 458<br>Accuracy: 69.64%<br>Precision: 69.61%<br>Recall: 69.64%<br>ROC AUC: 72.85<br>Geometric Mean: 100.0<br>Matthews Correlation: 100.0<br>F1: 100.0<br>Log Loss: 0.0",
          "Support Vector Machine<br>Performance: 83.1%<br>Model ID: 694<br>Accuracy: 82.5%<br>Precision: 82.92%<br>Recall: 82.5%<br>ROC AUC: 89.98<br>Geometric Mean: 85.43<br>Matthews Correlation: 72.38<br>F1: 85.99<br>Log Loss: 0.62",
          "Support Vector Machine<br>Performance: 83.08%<br>Model ID: 650<br>Accuracy: 82.83%<br>Precision: 83.3%<br>Recall: 82.83%<br>ROC AUC: 90.14<br>Geometric Mean: 85.07<br>Matthews Correlation: 71.75<br>F1: 85.65<br>Log Loss: 0.71",
          "Support Vector Machine<br>Performance: 83.08%<br>Model ID: 646<br>Accuracy: 82.83%<br>Precision: 83.3%<br>Recall: 82.83%<br>ROC AUC: 90.15<br>Geometric Mean: 85.07<br>Matthews Correlation: 71.75<br>F1: 85.65<br>Log Loss: 0.69",
          "Support Vector Machine<br>Performance: 83.09%<br>Model ID: 642<br>Accuracy: 82.83%<br>Precision: 83.3%<br>Recall: 82.83%<br>ROC AUC: 90.19<br>Geometric Mean: 85.07<br>Matthews Correlation: 71.75<br>F1: 85.65<br>Log Loss: 0.68",
          "Support Vector Machine<br>Performance: 83.07%<br>Model ID: 654<br>Accuracy: 82.83%<br>Precision: 83.3%<br>Recall: 82.83%<br>ROC AUC: 90.09<br>Geometric Mean: 85.07<br>Matthews Correlation: 71.75<br>F1: 85.65<br>Log Loss: 0.69",
          "Gaussian Naive Bayes<br>Performance: 80.97%<br>Model ID: 737<br>Accuracy: 80.51%<br>Precision: 80.65%<br>Recall: 80.51%<br>ROC AUC: 89.18<br>Geometric Mean: 83.79<br>Matthews Correlation: 68.01<br>F1: 84.11<br>Log Loss: 100.0",
          "Gaussian Naive Bayes<br>Performance: 80.97%<br>Model ID: 1066<br>Accuracy: 80.51%<br>Precision: 80.65%<br>Recall: 80.51%<br>ROC AUC: 89.18<br>Geometric Mean: 83.79<br>Matthews Correlation: 68.01<br>F1: 84.11<br>Log Loss: 34.0",
          "Gaussian Naive Bayes<br>Performance: 80.97%<br>Model ID: 1079<br>Accuracy: 80.51%<br>Precision: 80.65%<br>Recall: 80.51%<br>ROC AUC: 89.18<br>Geometric Mean: 83.79<br>Matthews Correlation: 68.01<br>F1: 84.11<br>Log Loss: 31.4",
          "Gaussian Naive Bayes<br>Performance: 80.97%<br>Model ID: 1078<br>Accuracy: 80.51%<br>Precision: 80.65%<br>Recall: 80.51%<br>ROC AUC: 89.18<br>Geometric Mean: 83.79<br>Matthews Correlation: 68.01<br>F1: 84.11<br>Log Loss: 31.6",
          "Gaussian Naive Bayes<br>Performance: 80.97%<br>Model ID: 1077<br>Accuracy: 80.51%<br>Precision: 80.65%<br>Recall: 80.51%<br>ROC AUC: 89.18<br>Geometric Mean: 83.79<br>Matthews Correlation: 68.01<br>F1: 84.11<br>Log Loss: 31.8",
          "Multilayer Perceptron<br>Performance: 79.22%<br>Model ID: 1262<br>Accuracy: 79.85%<br>Precision: 79.92%<br>Recall: 79.85%<br>ROC AUC: 85.88<br>Geometric Mean: 81.86<br>Matthews Correlation: 64.8<br>F1: 82.36<br>Log Loss: 17.56",
          "Multilayer Perceptron<br>Performance: 79.22%<br>Model ID: 1263<br>Accuracy: 79.85%<br>Precision: 79.92%<br>Recall: 79.85%<br>ROC AUC: 85.88<br>Geometric Mean: 81.86<br>Matthews Correlation: 64.8<br>F1: 82.36<br>Log Loss: 17.56",
          "Multilayer Perceptron<br>Performance: 79.22%<br>Model ID: 1261<br>Accuracy: 79.85%<br>Precision: 79.92%<br>Recall: 79.85%<br>ROC AUC: 85.88<br>Geometric Mean: 81.86<br>Matthews Correlation: 64.8<br>F1: 82.36<br>Log Loss: 17.56",
          "Multilayer Perceptron<br>Performance: 79.09%<br>Model ID: 1249<br>Accuracy: 79.52%<br>Precision: 79.59%<br>Recall: 79.52%<br>ROC AUC: 85.97<br>Geometric Mean: 81.86<br>Matthews Correlation: 64.8<br>F1: 82.36<br>Log Loss: 17.17",
          "Multilayer Perceptron<br>Performance: 79.09%<br>Model ID: 1251<br>Accuracy: 79.52%<br>Precision: 79.59%<br>Recall: 79.52%<br>ROC AUC: 85.97<br>Geometric Mean: 81.86<br>Matthews Correlation: 64.8<br>F1: 82.36<br>Log Loss: 17.17",
          "Logistic Regression<br>Performance: 83.67%<br>Model ID: 1677<br>Accuracy: 84.14%<br>Precision: 84.66%<br>Recall: 84.14%<br>ROC AUC: 90.32<br>Geometric Mean: 85.13<br>Matthews Correlation: 71.65<br>F1: 85.67<br>Log Loss: 3.51",
          "Logistic Regression<br>Performance: 83.66%<br>Model ID: 1741<br>Accuracy: 84.46%<br>Precision: 84.98%<br>Recall: 84.46%<br>ROC AUC: 90.58<br>Geometric Mean: 84.83<br>Matthews Correlation: 70.93<br>F1: 85.35<br>Log Loss: 3.37",
          "Logistic Regression<br>Performance: 83.54%<br>Model ID: 1901<br>Accuracy: 83.8%<br>Precision: 84.26%<br>Recall: 83.8%<br>ROC AUC: 90.5<br>Geometric Mean: 85.13<br>Matthews Correlation: 71.65<br>F1: 85.67<br>Log Loss: 3.41",
          "Logistic Regression<br>Performance: 83.53%<br>Model ID: 1773<br>Accuracy: 84.14%<br>Precision: 84.64%<br>Recall: 84.14%<br>ROC AUC: 90.65<br>Geometric Mean: 84.77<br>Matthews Correlation: 71.02<br>F1: 85.33<br>Log Loss: 3.23",
          "Logistic Regression<br>Performance: 83.41%<br>Model ID: 1869<br>Accuracy: 83.48%<br>Precision: 83.92%<br>Recall: 83.48%<br>ROC AUC: 90.54<br>Geometric Mean: 85.07<br>Matthews Correlation: 71.75<br>F1: 85.65<br>Log Loss: 2.97",
          "Linear Discriminant Analysis<br>Performance: 82.31%<br>Model ID: 1997<br>Accuracy: 83.16%<br>Precision: 84.11%<br>Recall: 83.16%<br>ROC AUC: 89.99<br>Geometric Mean: 83.32<br>Matthews Correlation: 68.51<br>F1: 83.94<br>Log Loss: 0.0",
          "Linear Discriminant Analysis<br>Performance: 82.31%<br>Model ID: 1998<br>Accuracy: 83.16%<br>Precision: 84.11%<br>Recall: 83.16%<br>ROC AUC: 89.99<br>Geometric Mean: 83.32<br>Matthews Correlation: 68.51<br>F1: 83.94<br>Log Loss: 0.0",
          "Linear Discriminant Analysis<br>Performance: 73.45%<br>Model ID: 1999<br>Accuracy: 75.89%<br>Precision: 76.41%<br>Recall: 75.89%<br>ROC AUC: 82.6<br>Geometric Mean: 75.39<br>Matthews Correlation: 52.04<br>F1: 75.95<br>Log Loss: 31.9",
          "Linear Discriminant Analysis<br>Performance: 73.45%<br>Model ID: 2000<br>Accuracy: 75.89%<br>Precision: 76.41%<br>Recall: 75.89%<br>ROC AUC: 82.6<br>Geometric Mean: 75.39<br>Matthews Correlation: 52.04<br>F1: 75.95<br>Log Loss: 31.9",
          "Linear Discriminant Analysis<br>Performance: 71.08%<br>Model ID: 2001<br>Accuracy: 74.25%<br>Precision: 74.65%<br>Recall: 74.25%<br>ROC AUC: 79.07<br>Geometric Mean: 73.45<br>Matthews Correlation: 47.92<br>F1: 73.99<br>Log Loss: 41.85",
          "Quadratic Discriminant Analysis<br>Performance: 83.44%<br>Model ID: 2227<br>Accuracy: 81.49%<br>Precision: 81.79%<br>Recall: 81.49%<br>ROC AUC: 88.84<br>Geometric Mean: 87.24<br>Matthews Correlation: 75.55<br>F1: 87.7<br>Log Loss: 0.03",
          "Quadratic Discriminant Analysis<br>Performance: 83.44%<br>Model ID: 2231<br>Accuracy: 81.49%<br>Precision: 81.79%<br>Recall: 81.49%<br>ROC AUC: 88.84<br>Geometric Mean: 87.24<br>Matthews Correlation: 75.55<br>F1: 87.7<br>Log Loss: 0.03",
          "Quadratic Discriminant Analysis<br>Performance: 83.44%<br>Model ID: 2230<br>Accuracy: 81.49%<br>Precision: 81.79%<br>Recall: 81.49%<br>ROC AUC: 88.84<br>Geometric Mean: 87.24<br>Matthews Correlation: 75.55<br>F1: 87.7<br>Log Loss: 0.03",
          "Quadratic Discriminant Analysis<br>Performance: 83.44%<br>Model ID: 2229<br>Accuracy: 81.49%<br>Precision: 81.79%<br>Recall: 81.49%<br>ROC AUC: 88.84<br>Geometric Mean: 87.24<br>Matthews Correlation: 75.55<br>F1: 87.7<br>Log Loss: 0.03",
          "Quadratic Discriminant Analysis<br>Performance: 83.44%<br>Model ID: 2228<br>Accuracy: 81.49%<br>Precision: 81.79%<br>Recall: 81.49%<br>ROC AUC: 88.84<br>Geometric Mean: 87.24<br>Matthews Correlation: 75.55<br>F1: 87.7<br>Log Loss: 0.03",
          "Random Forest<br>Performance: 91.82%<br>Model ID: 2488<br>Accuracy: 84.13%<br>Precision: 84.34%<br>Recall: 84.13%<br>ROC AUC: 90.17<br>Geometric Mean: 100.0<br>Matthews Correlation: 100.0<br>F1: 100.0<br>Log Loss: 59.71",
          "Random Forest<br>Performance: 91.83%<br>Model ID: 2490<br>Accuracy: 84.13%<br>Precision: 84.31%<br>Recall: 84.13%<br>ROC AUC: 90.21<br>Geometric Mean: 100.0<br>Matthews Correlation: 100.0<br>F1: 100.0<br>Log Loss: 52.76",
          "Random Forest<br>Performance: 91.83%<br>Model ID: 2489<br>Accuracy: 84.13%<br>Precision: 84.34%<br>Recall: 84.13%<br>ROC AUC: 90.22<br>Geometric Mean: 100.0<br>Matthews Correlation: 100.0<br>F1: 100.0<br>Log Loss: 54.75",
          "Random Forest<br>Performance: 91.82%<br>Model ID: 2494<br>Accuracy: 84.13%<br>Precision: 84.38%<br>Recall: 84.13%<br>ROC AUC: 90.11<br>Geometric Mean: 100.0<br>Matthews Correlation: 100.0<br>F1: 100.0<br>Log Loss: 58.36",
          "Random Forest<br>Performance: 91.69%<br>Model ID: 2493<br>Accuracy: 83.8%<br>Precision: 84.02%<br>Recall: 83.8%<br>ROC AUC: 90.22<br>Geometric Mean: 100.0<br>Matthews Correlation: 100.0<br>F1: 100.0<br>Log Loss: 57.04",
          "Extra Trees<br>Performance: 92.27%<br>Model ID: 2667<br>Accuracy: 84.81%<br>Precision: 85.07%<br>Recall: 84.81%<br>ROC AUC: 91.22<br>Geometric Mean: 100.0<br>Matthews Correlation: 100.0<br>F1: 100.0<br>Log Loss: 0.0",
          "Extra Trees<br>Performance: 92.24%<br>Model ID: 2659<br>Accuracy: 84.8%<br>Precision: 84.98%<br>Recall: 84.8%<br>ROC AUC: 91.07<br>Geometric Mean: 100.0<br>Matthews Correlation: 100.0<br>F1: 100.0<br>Log Loss: 0.0",
          "Extra Trees<br>Performance: 92.24%<br>Model ID: 2660<br>Accuracy: 84.8%<br>Precision: 84.98%<br>Recall: 84.8%<br>ROC AUC: 91.07<br>Geometric Mean: 100.0<br>Matthews Correlation: 100.0<br>F1: 100.0<br>Log Loss: 0.0",
          "Extra Trees<br>Performance: 92.19%<br>Model ID: 2714<br>Accuracy: 84.48%<br>Precision: 84.59%<br>Recall: 84.48%<br>ROC AUC: 91.8<br>Geometric Mean: 100.0<br>Matthews Correlation: 100.0<br>F1: 100.0<br>Log Loss: 0.0",
          "Extra Trees<br>Performance: 92.19%<br>Model ID: 2715<br>Accuracy: 84.48%<br>Precision: 84.59%<br>Recall: 84.48%<br>ROC AUC: 91.76<br>Geometric Mean: 100.0<br>Matthews Correlation: 100.0<br>F1: 100.0<br>Log Loss: 0.0",
          "Adaptive Boosting<br>Performance: 85.49%<br>Model ID: 2808<br>Accuracy: 80.83%<br>Precision: 81.1%<br>Recall: 80.83%<br>ROC AUC: 87.46<br>Geometric Mean: 92.08<br>Matthews Correlation: 84.06<br>F1: 92.08<br>Log Loss: 91.04",
          "Adaptive Boosting<br>Performance: 85.37%<br>Model ID: 2845<br>Accuracy: 80.16%<br>Precision: 80.31%<br>Recall: 80.16%<br>ROC AUC: 83.52<br>Geometric Mean: 93.35<br>Matthews Correlation: 86.69<br>F1: 93.4<br>Log Loss: 99.49",
          "Adaptive Boosting<br>Performance: 85.29%<br>Model ID: 2811<br>Accuracy: 80.5%<br>Precision: 80.76%<br>Recall: 80.5%<br>ROC AUC: 86.95<br>Geometric Mean: 92.13<br>Matthews Correlation: 84.1<br>F1: 92.09<br>Log Loss: 92.25",
          "Adaptive Boosting<br>Performance: 85.19%<br>Model ID: 2812<br>Accuracy: 80.16%<br>Precision: 80.52%<br>Recall: 80.16%<br>ROC AUC: 87.19<br>Geometric Mean: 92.13<br>Matthews Correlation: 84.1<br>F1: 92.09<br>Log Loss: 92.14",
          "Adaptive Boosting<br>Performance: 85.18%<br>Model ID: 2809<br>Accuracy: 80.17%<br>Precision: 80.42%<br>Recall: 80.17%<br>ROC AUC: 87.3<br>Geometric Mean: 92.08<br>Matthews Correlation: 84.06<br>F1: 92.08<br>Log Loss: 91.13",
          "Gradient Boosting<br>Performance: 89.77%<br>Model ID: 3030<br>Accuracy: 80.83%<br>Precision: 81.59%<br>Recall: 80.83%<br>ROC AUC: 87.84<br>Geometric Mean: 99.28<br>Matthews Correlation: 98.68<br>F1: 99.34<br>Log Loss: 3.39",
          "Gradient Boosting<br>Performance: 89.76%<br>Model ID: 3029<br>Accuracy: 80.83%<br>Precision: 81.59%<br>Recall: 80.83%<br>ROC AUC: 87.8<br>Geometric Mean: 99.28<br>Matthews Correlation: 98.68<br>F1: 99.34<br>Log Loss: 3.61",
          "Gradient Boosting<br>Performance: 89.76%<br>Model ID: 2969<br>Accuracy: 80.83%<br>Precision: 81.59%<br>Recall: 80.83%<br>ROC AUC: 87.77<br>Geometric Mean: 99.28<br>Matthews Correlation: 98.68<br>F1: 99.34<br>Log Loss: 3.61",
          "Gradient Boosting<br>Performance: 89.77%<br>Model ID: 2970<br>Accuracy: 80.83%<br>Precision: 81.59%<br>Recall: 80.83%<br>ROC AUC: 87.82<br>Geometric Mean: 99.28<br>Matthews Correlation: 98.68<br>F1: 99.34<br>Log Loss: 3.39",
          "Gradient Boosting<br>Performance: 89.75%<br>Model ID: 3026<br>Accuracy: 80.83%<br>Precision: 81.45%<br>Recall: 80.83%<br>ROC AUC: 87.84<br>Geometric Mean: 99.28<br>Matthews Correlation: 98.68<br>F1: 99.34<br>Log Loss: 4.1",
          "K-Nearest Neighbor<br>Performance: 87.44%<br>Model ID: meta_1<br>Accuracy: 89.11%<br>Precision: 89.41%<br>Recall: 89.11%<br>ROC AUC: 88.58<br>Geometric Mean: 88.58<br>Matthews Correlation: 78.24<br>F1: 89.03<br>Log Loss: 376.17",
          "Support Vector Machine<br>Performance: 92.41%<br>Model ID: meta_2<br>Accuracy: 93.4%<br>Precision: 93.4%<br>Recall: 93.4%<br>ROC AUC: 93.29<br>Geometric Mean: 93.29<br>Matthews Correlation: 86.68<br>F1: 93.4<br>Log Loss: 227.98",
          "Gaussian Naive Bayes<br>Performance: 93.21%<br>Model ID: meta_3<br>Accuracy: 94.06%<br>Precision: 94.07%<br>Recall: 94.06%<br>ROC AUC: 94.07<br>Geometric Mean: 94.07<br>Matthews Correlation: 88.05<br>F1: 94.06<br>Log Loss: 205.18",
          "Multilayer Perceptron<br>Performance: 100.0%<br>Model ID: meta_4<br>Accuracy: 100.0%<br>Precision: 100.0%<br>Recall: 100.0%<br>ROC AUC: 100.0<br>Geometric Mean: 100.0<br>Matthews Correlation: 100.0<br>F1: 100.0<br>Log Loss: 0.0",
          "Logistic Regression<br>Performance: 100.0%<br>Model ID: meta_5<br>Accuracy: 100.0%<br>Precision: 100.0%<br>Recall: 100.0%<br>ROC AUC: 100.0<br>Geometric Mean: 100.0<br>Matthews Correlation: 100.0<br>F1: 100.0<br>Log Loss: 0.0",
          "Linear Discriminant Analysis<br>Performance: 98.85%<br>Model ID: meta_6<br>Accuracy: 99.01%<br>Precision: 99.01%<br>Recall: 99.01%<br>ROC AUC: 98.97<br>Geometric Mean: 98.97<br>Matthews Correlation: 98.0<br>F1: 99.01<br>Log Loss: 34.2",
          "Quadratic Discriminant Analysis<br>Performance: 91.25%<br>Model ID: meta_7<br>Accuracy: 92.41%<br>Precision: 92.43%<br>Recall: 92.41%<br>ROC AUC: 92.2<br>Geometric Mean: 92.2<br>Matthews Correlation: 84.7<br>F1: 92.4<br>Log Loss: 262.18",
          "Random Forest<br>Performance: 90.91%<br>Model ID: meta_8<br>Accuracy: 92.08%<br>Precision: 92.08%<br>Recall: 92.08%<br>ROC AUC: 92.02<br>Geometric Mean: 92.02<br>Matthews Correlation: 84.03<br>F1: 92.08<br>Log Loss: 273.58",
          "Extra Trees<br>Performance: 96.33%<br>Model ID: meta_9<br>Accuracy: 96.7%<br>Precision: 96.85%<br>Recall: 96.7%<br>ROC AUC: 96.91<br>Geometric Mean: 96.91<br>Matthews Correlation: 93.51<br>F1: 96.71<br>Log Loss: 113.99",
          "Adaptive Boosting<br>Performance: 93.03%<br>Model ID: meta_10<br>Accuracy: 93.73%<br>Precision: 94.1%<br>Recall: 93.73%<br>ROC AUC: 94.06<br>Geometric Mean: 94.06<br>Matthews Correlation: 87.78<br>F1: 93.74<br>Log Loss: 216.58",
          "Gradient Boosting<br>Performance: 93.55%<br>Model ID: meta_11<br>Accuracy: 94.39%<br>Precision: 94.39%<br>Recall: 94.39%<br>ROC AUC: 94.31<br>Geometric Mean: 94.31<br>Matthews Correlation: 88.68<br>F1: 94.39<br>Log Loss: 193.78"
         ],
         "marker": {
          "color": [
           83.35,
           83.28,
           83.13,
           83.13,
           83.11,
           83.1,
           83.08,
           83.08,
           83.09,
           83.07,
           80.97,
           80.97,
           80.97,
           80.97,
           80.97,
           79.22,
           79.22,
           79.22,
           79.09,
           79.09,
           83.67,
           83.66,
           83.54,
           83.53,
           83.41,
           82.31,
           82.31,
           73.45,
           73.45,
           71.08,
           83.44,
           83.44,
           83.44,
           83.44,
           83.44,
           91.82,
           91.83,
           91.83,
           91.82,
           91.69,
           92.27,
           92.24,
           92.24,
           92.19,
           92.19,
           85.49,
           85.37,
           85.29,
           85.19,
           85.18,
           89.77,
           89.76,
           89.76,
           89.77,
           89.75,
           87.44,
           92.41,
           93.21,
           100,
           100,
           98.85,
           91.25,
           90.91,
           96.33,
           93.03,
           93.55
          ],
          "coloraxis": "coloraxis",
          "line": {
           "color": "Black",
           "width": 1
          },
          "opacity": 0.8,
          "size": [
           20,
           20,
           20,
           20,
           20,
           20,
           20,
           20,
           20,
           20,
           20,
           20,
           20,
           20,
           20,
           20,
           20,
           20,
           20,
           20,
           20,
           20,
           20,
           20,
           20,
           20,
           20,
           20,
           20,
           20,
           20,
           20,
           20,
           20,
           20,
           20,
           20,
           20,
           20,
           20,
           20,
           20,
           20,
           20,
           20,
           20,
           20,
           20,
           20,
           20,
           20,
           20,
           20,
           20,
           20,
           40,
           40,
           40,
           40,
           40,
           40,
           40,
           40,
           40,
           40,
           40
          ],
          "symbol": [
           "circle",
           "circle",
           "circle",
           "circle",
           "circle",
           "square",
           "square",
           "square",
           "square",
           "square",
           "x",
           "x",
           "x",
           "x",
           "x",
           "cross",
           "cross",
           "cross",
           "cross",
           "cross",
           "diamond",
           "diamond",
           "diamond",
           "diamond",
           "diamond",
           "star",
           "star",
           "star",
           "star",
           "star",
           "hexagram",
           "hexagram",
           "hexagram",
           "hexagram",
           "hexagram",
           "triangle-right",
           "triangle-right",
           "triangle-right",
           "triangle-right",
           "triangle-right",
           "triangle-left",
           "triangle-left",
           "triangle-left",
           "triangle-left",
           "triangle-left",
           "triangle-down",
           "triangle-down",
           "triangle-down",
           "triangle-down",
           "triangle-down",
           "triangle-up",
           "triangle-up",
           "triangle-up",
           "triangle-up",
           "triangle-up",
           "circle",
           "square",
           "x",
           "cross",
           "diamond",
           "star",
           "hexagram",
           "triangle-right",
           "triangle-left",
           "triangle-down",
           "triangle-up"
          ]
         },
         "mode": "markers",
         "type": "scatter",
         "x": [
          -3.5589640140533447,
          -2.745699405670166,
          -3.1214053630828857,
          -3.055229425430298,
          -3.4098803997039795,
          23.882057189941406,
          24.09532928466797,
          24.44690704345703,
          23.711807250976562,
          24.55065155029297,
          40.16027069091797,
          40.02949142456055,
          39.832542419433594,
          40.514339447021484,
          40.3415412902832,
          -4.827358245849609,
          -5.078971862792969,
          -4.746092796325684,
          -5.116658687591553,
          -5.199157238006592,
          24.217693328857422,
          24.507692337036133,
          25.013816833496094,
          24.692726135253906,
          25.198833465576172,
          26.011123657226562,
          25.741985321044922,
          -3.740649700164795,
          -4.219482898712158,
          -4.008406162261963,
          26.717754364013672,
          25.960954666137695,
          26.795434951782227,
          26.658733367919922,
          26.244810104370117,
          18.808185577392578,
          19.322175979614258,
          18.559648513793945,
          18.905406951904297,
          19.401060104370117,
          19.637468338012695,
          18.962247848510742,
          19.378334045410156,
          19.813884735107422,
          19.980295181274414,
          -0.3773820698261261,
          -0.03987036272883415,
          -0.43873193860054016,
          -0.9265368580818176,
          -0.653355062007904,
          14.626060485839844,
          15.102218627929688,
          14.454289436340332,
          14.925809860229492,
          14.692695617675781,
          22.168136596679688,
          21.234682083129883,
          22.715328216552734,
          21.477184295654297,
          22.042970657348633,
          21.66136360168457,
          22.44734764099121,
          22.06930923461914,
          21.753564834594727,
          -0.7524781227111816,
          20.500097274780273
         ],
         "xaxis": "x",
         "y": [
          -5.9639058113098145,
          -6.67962121963501,
          -6.594947814941406,
          -6.0722784996032715,
          -6.3024163246154785,
          8.149829864501953,
          8.731963157653809,
          8.36259651184082,
          8.55302906036377,
          8.0603609085083,
          -31.43267059326172,
          -31.3018798828125,
          -31.104942321777344,
          -31.7867431640625,
          -31.61396026611328,
          -7.432549476623535,
          -8.350481986999512,
          -8.004233360290527,
          -8.012195587158203,
          -7.646974086761475,
          10.026261329650879,
          9.868219375610352,
          10.206127166748047,
          9.40673542022705,
          9.87157917022705,
          9.987947463989258,
          9.255640029907227,
          -7.124271392822266,
          -6.786993026733398,
          -6.561497688293457,
          8.919459342956543,
          8.99167537689209,
          9.546360969543457,
          8.969778060913086,
          9.428450584411621,
          9.521647453308105,
          9.356674194335938,
          9.062533378601074,
          8.904662132263184,
          9.40146541595459,
          7.8683762550354,
          8.197307586669922,
          7.999861717224121,
          8.619234085083008,
          8.46410846710205,
          -6.544155597686768,
          -5.990515232086182,
          -5.670968532562256,
          -6.173624515533447,
          -5.642704486846924,
          -3.1279618740081787,
          -2.7642264366149902,
          -2.652067184448242,
          -3.072543144226074,
          -2.4613022804260254,
          10.508601188659668,
          10.146255493164062,
          11.111186027526855,
          10.900955200195312,
          10.924243927001953,
          11.19206714630127,
          10.905020713806152,
          9.913165092468262,
          10.095781326293945,
          -6.218706130981445,
          9.689886093139648
         ],
         "yaxis": "y"
        },
        {
         "hovertext": [
          "K-Nearest Neighbor<br>Performance: 83.35%<br>Model ID: 452<br>Accuracy: 70.31%<br>Precision: 70.36%<br>Recall: 70.31%<br>ROC AUC: 72.5<br>Geometric Mean: 100.0<br>Matthews Correlation: 100.0<br>F1: 100.0<br>Log Loss: 0.0",
          "K-Nearest Neighbor<br>Performance: 83.28%<br>Model ID: 288<br>Accuracy: 69.62%<br>Precision: 69.8%<br>Recall: 69.62%<br>ROC AUC: 73.91<br>Geometric Mean: 100.0<br>Matthews Correlation: 100.0<br>F1: 100.0<br>Log Loss: 0.0",
          "K-Nearest Neighbor<br>Performance: 83.13%<br>Model ID: 96<br>Accuracy: 69.29%<br>Precision: 69.48%<br>Recall: 69.29%<br>ROC AUC: 73.84<br>Geometric Mean: 100.0<br>Matthews Correlation: 100.0<br>F1: 100.0<br>Log Loss: 0.0",
          "K-Nearest Neighbor<br>Performance: 83.13%<br>Model ID: 480<br>Accuracy: 69.29%<br>Precision: 69.48%<br>Recall: 69.29%<br>ROC AUC: 73.82<br>Geometric Mean: 100.0<br>Matthews Correlation: 100.0<br>F1: 100.0<br>Log Loss: 0.0",
          "K-Nearest Neighbor<br>Performance: 83.11%<br>Model ID: 458<br>Accuracy: 69.64%<br>Precision: 69.61%<br>Recall: 69.64%<br>ROC AUC: 72.85<br>Geometric Mean: 100.0<br>Matthews Correlation: 100.0<br>F1: 100.0<br>Log Loss: 0.0",
          "Support Vector Machine<br>Performance: 83.1%<br>Model ID: 694<br>Accuracy: 82.5%<br>Precision: 82.92%<br>Recall: 82.5%<br>ROC AUC: 89.98<br>Geometric Mean: 85.43<br>Matthews Correlation: 72.38<br>F1: 85.99<br>Log Loss: 0.62",
          "Support Vector Machine<br>Performance: 83.08%<br>Model ID: 650<br>Accuracy: 82.83%<br>Precision: 83.3%<br>Recall: 82.83%<br>ROC AUC: 90.14<br>Geometric Mean: 85.07<br>Matthews Correlation: 71.75<br>F1: 85.65<br>Log Loss: 0.71",
          "Support Vector Machine<br>Performance: 83.08%<br>Model ID: 646<br>Accuracy: 82.83%<br>Precision: 83.3%<br>Recall: 82.83%<br>ROC AUC: 90.15<br>Geometric Mean: 85.07<br>Matthews Correlation: 71.75<br>F1: 85.65<br>Log Loss: 0.69",
          "Support Vector Machine<br>Performance: 83.09%<br>Model ID: 642<br>Accuracy: 82.83%<br>Precision: 83.3%<br>Recall: 82.83%<br>ROC AUC: 90.19<br>Geometric Mean: 85.07<br>Matthews Correlation: 71.75<br>F1: 85.65<br>Log Loss: 0.68",
          "Support Vector Machine<br>Performance: 83.07%<br>Model ID: 654<br>Accuracy: 82.83%<br>Precision: 83.3%<br>Recall: 82.83%<br>ROC AUC: 90.09<br>Geometric Mean: 85.07<br>Matthews Correlation: 71.75<br>F1: 85.65<br>Log Loss: 0.69",
          "Gaussian Naive Bayes<br>Performance: 80.97%<br>Model ID: 737<br>Accuracy: 80.51%<br>Precision: 80.65%<br>Recall: 80.51%<br>ROC AUC: 89.18<br>Geometric Mean: 83.79<br>Matthews Correlation: 68.01<br>F1: 84.11<br>Log Loss: 100.0",
          "Gaussian Naive Bayes<br>Performance: 80.97%<br>Model ID: 1066<br>Accuracy: 80.51%<br>Precision: 80.65%<br>Recall: 80.51%<br>ROC AUC: 89.18<br>Geometric Mean: 83.79<br>Matthews Correlation: 68.01<br>F1: 84.11<br>Log Loss: 34.0",
          "Gaussian Naive Bayes<br>Performance: 80.97%<br>Model ID: 1079<br>Accuracy: 80.51%<br>Precision: 80.65%<br>Recall: 80.51%<br>ROC AUC: 89.18<br>Geometric Mean: 83.79<br>Matthews Correlation: 68.01<br>F1: 84.11<br>Log Loss: 31.4",
          "Gaussian Naive Bayes<br>Performance: 80.97%<br>Model ID: 1078<br>Accuracy: 80.51%<br>Precision: 80.65%<br>Recall: 80.51%<br>ROC AUC: 89.18<br>Geometric Mean: 83.79<br>Matthews Correlation: 68.01<br>F1: 84.11<br>Log Loss: 31.6",
          "Gaussian Naive Bayes<br>Performance: 80.97%<br>Model ID: 1077<br>Accuracy: 80.51%<br>Precision: 80.65%<br>Recall: 80.51%<br>ROC AUC: 89.18<br>Geometric Mean: 83.79<br>Matthews Correlation: 68.01<br>F1: 84.11<br>Log Loss: 31.8",
          "Multilayer Perceptron<br>Performance: 79.22%<br>Model ID: 1262<br>Accuracy: 79.85%<br>Precision: 79.92%<br>Recall: 79.85%<br>ROC AUC: 85.88<br>Geometric Mean: 81.86<br>Matthews Correlation: 64.8<br>F1: 82.36<br>Log Loss: 17.56",
          "Multilayer Perceptron<br>Performance: 79.22%<br>Model ID: 1263<br>Accuracy: 79.85%<br>Precision: 79.92%<br>Recall: 79.85%<br>ROC AUC: 85.88<br>Geometric Mean: 81.86<br>Matthews Correlation: 64.8<br>F1: 82.36<br>Log Loss: 17.56",
          "Multilayer Perceptron<br>Performance: 79.22%<br>Model ID: 1261<br>Accuracy: 79.85%<br>Precision: 79.92%<br>Recall: 79.85%<br>ROC AUC: 85.88<br>Geometric Mean: 81.86<br>Matthews Correlation: 64.8<br>F1: 82.36<br>Log Loss: 17.56",
          "Multilayer Perceptron<br>Performance: 79.09%<br>Model ID: 1249<br>Accuracy: 79.52%<br>Precision: 79.59%<br>Recall: 79.52%<br>ROC AUC: 85.97<br>Geometric Mean: 81.86<br>Matthews Correlation: 64.8<br>F1: 82.36<br>Log Loss: 17.17",
          "Multilayer Perceptron<br>Performance: 79.09%<br>Model ID: 1251<br>Accuracy: 79.52%<br>Precision: 79.59%<br>Recall: 79.52%<br>ROC AUC: 85.97<br>Geometric Mean: 81.86<br>Matthews Correlation: 64.8<br>F1: 82.36<br>Log Loss: 17.17",
          "Logistic Regression<br>Performance: 83.67%<br>Model ID: 1677<br>Accuracy: 84.14%<br>Precision: 84.66%<br>Recall: 84.14%<br>ROC AUC: 90.32<br>Geometric Mean: 85.13<br>Matthews Correlation: 71.65<br>F1: 85.67<br>Log Loss: 3.51",
          "Logistic Regression<br>Performance: 83.66%<br>Model ID: 1741<br>Accuracy: 84.46%<br>Precision: 84.98%<br>Recall: 84.46%<br>ROC AUC: 90.58<br>Geometric Mean: 84.83<br>Matthews Correlation: 70.93<br>F1: 85.35<br>Log Loss: 3.37",
          "Logistic Regression<br>Performance: 83.54%<br>Model ID: 1901<br>Accuracy: 83.8%<br>Precision: 84.26%<br>Recall: 83.8%<br>ROC AUC: 90.5<br>Geometric Mean: 85.13<br>Matthews Correlation: 71.65<br>F1: 85.67<br>Log Loss: 3.41",
          "Logistic Regression<br>Performance: 83.53%<br>Model ID: 1773<br>Accuracy: 84.14%<br>Precision: 84.64%<br>Recall: 84.14%<br>ROC AUC: 90.65<br>Geometric Mean: 84.77<br>Matthews Correlation: 71.02<br>F1: 85.33<br>Log Loss: 3.23",
          "Logistic Regression<br>Performance: 83.41%<br>Model ID: 1869<br>Accuracy: 83.48%<br>Precision: 83.92%<br>Recall: 83.48%<br>ROC AUC: 90.54<br>Geometric Mean: 85.07<br>Matthews Correlation: 71.75<br>F1: 85.65<br>Log Loss: 2.97",
          "Linear Discriminant Analysis<br>Performance: 82.31%<br>Model ID: 1997<br>Accuracy: 83.16%<br>Precision: 84.11%<br>Recall: 83.16%<br>ROC AUC: 89.99<br>Geometric Mean: 83.32<br>Matthews Correlation: 68.51<br>F1: 83.94<br>Log Loss: 0.0",
          "Linear Discriminant Analysis<br>Performance: 82.31%<br>Model ID: 1998<br>Accuracy: 83.16%<br>Precision: 84.11%<br>Recall: 83.16%<br>ROC AUC: 89.99<br>Geometric Mean: 83.32<br>Matthews Correlation: 68.51<br>F1: 83.94<br>Log Loss: 0.0",
          "Linear Discriminant Analysis<br>Performance: 73.45%<br>Model ID: 1999<br>Accuracy: 75.89%<br>Precision: 76.41%<br>Recall: 75.89%<br>ROC AUC: 82.6<br>Geometric Mean: 75.39<br>Matthews Correlation: 52.04<br>F1: 75.95<br>Log Loss: 31.9",
          "Linear Discriminant Analysis<br>Performance: 73.45%<br>Model ID: 2000<br>Accuracy: 75.89%<br>Precision: 76.41%<br>Recall: 75.89%<br>ROC AUC: 82.6<br>Geometric Mean: 75.39<br>Matthews Correlation: 52.04<br>F1: 75.95<br>Log Loss: 31.9",
          "Linear Discriminant Analysis<br>Performance: 71.08%<br>Model ID: 2001<br>Accuracy: 74.25%<br>Precision: 74.65%<br>Recall: 74.25%<br>ROC AUC: 79.07<br>Geometric Mean: 73.45<br>Matthews Correlation: 47.92<br>F1: 73.99<br>Log Loss: 41.85",
          "Quadratic Discriminant Analysis<br>Performance: 83.44%<br>Model ID: 2227<br>Accuracy: 81.49%<br>Precision: 81.79%<br>Recall: 81.49%<br>ROC AUC: 88.84<br>Geometric Mean: 87.24<br>Matthews Correlation: 75.55<br>F1: 87.7<br>Log Loss: 0.03",
          "Quadratic Discriminant Analysis<br>Performance: 83.44%<br>Model ID: 2231<br>Accuracy: 81.49%<br>Precision: 81.79%<br>Recall: 81.49%<br>ROC AUC: 88.84<br>Geometric Mean: 87.24<br>Matthews Correlation: 75.55<br>F1: 87.7<br>Log Loss: 0.03",
          "Quadratic Discriminant Analysis<br>Performance: 83.44%<br>Model ID: 2230<br>Accuracy: 81.49%<br>Precision: 81.79%<br>Recall: 81.49%<br>ROC AUC: 88.84<br>Geometric Mean: 87.24<br>Matthews Correlation: 75.55<br>F1: 87.7<br>Log Loss: 0.03",
          "Quadratic Discriminant Analysis<br>Performance: 83.44%<br>Model ID: 2229<br>Accuracy: 81.49%<br>Precision: 81.79%<br>Recall: 81.49%<br>ROC AUC: 88.84<br>Geometric Mean: 87.24<br>Matthews Correlation: 75.55<br>F1: 87.7<br>Log Loss: 0.03",
          "Quadratic Discriminant Analysis<br>Performance: 83.44%<br>Model ID: 2228<br>Accuracy: 81.49%<br>Precision: 81.79%<br>Recall: 81.49%<br>ROC AUC: 88.84<br>Geometric Mean: 87.24<br>Matthews Correlation: 75.55<br>F1: 87.7<br>Log Loss: 0.03",
          "Random Forest<br>Performance: 91.82%<br>Model ID: 2488<br>Accuracy: 84.13%<br>Precision: 84.34%<br>Recall: 84.13%<br>ROC AUC: 90.17<br>Geometric Mean: 100.0<br>Matthews Correlation: 100.0<br>F1: 100.0<br>Log Loss: 59.71",
          "Random Forest<br>Performance: 91.83%<br>Model ID: 2490<br>Accuracy: 84.13%<br>Precision: 84.31%<br>Recall: 84.13%<br>ROC AUC: 90.21<br>Geometric Mean: 100.0<br>Matthews Correlation: 100.0<br>F1: 100.0<br>Log Loss: 52.76",
          "Random Forest<br>Performance: 91.83%<br>Model ID: 2489<br>Accuracy: 84.13%<br>Precision: 84.34%<br>Recall: 84.13%<br>ROC AUC: 90.22<br>Geometric Mean: 100.0<br>Matthews Correlation: 100.0<br>F1: 100.0<br>Log Loss: 54.75",
          "Random Forest<br>Performance: 91.82%<br>Model ID: 2494<br>Accuracy: 84.13%<br>Precision: 84.38%<br>Recall: 84.13%<br>ROC AUC: 90.11<br>Geometric Mean: 100.0<br>Matthews Correlation: 100.0<br>F1: 100.0<br>Log Loss: 58.36",
          "Random Forest<br>Performance: 91.69%<br>Model ID: 2493<br>Accuracy: 83.8%<br>Precision: 84.02%<br>Recall: 83.8%<br>ROC AUC: 90.22<br>Geometric Mean: 100.0<br>Matthews Correlation: 100.0<br>F1: 100.0<br>Log Loss: 57.04",
          "Extra Trees<br>Performance: 92.27%<br>Model ID: 2667<br>Accuracy: 84.81%<br>Precision: 85.07%<br>Recall: 84.81%<br>ROC AUC: 91.22<br>Geometric Mean: 100.0<br>Matthews Correlation: 100.0<br>F1: 100.0<br>Log Loss: 0.0",
          "Extra Trees<br>Performance: 92.24%<br>Model ID: 2659<br>Accuracy: 84.8%<br>Precision: 84.98%<br>Recall: 84.8%<br>ROC AUC: 91.07<br>Geometric Mean: 100.0<br>Matthews Correlation: 100.0<br>F1: 100.0<br>Log Loss: 0.0",
          "Extra Trees<br>Performance: 92.24%<br>Model ID: 2660<br>Accuracy: 84.8%<br>Precision: 84.98%<br>Recall: 84.8%<br>ROC AUC: 91.07<br>Geometric Mean: 100.0<br>Matthews Correlation: 100.0<br>F1: 100.0<br>Log Loss: 0.0",
          "Extra Trees<br>Performance: 92.19%<br>Model ID: 2714<br>Accuracy: 84.48%<br>Precision: 84.59%<br>Recall: 84.48%<br>ROC AUC: 91.8<br>Geometric Mean: 100.0<br>Matthews Correlation: 100.0<br>F1: 100.0<br>Log Loss: 0.0",
          "Extra Trees<br>Performance: 92.19%<br>Model ID: 2715<br>Accuracy: 84.48%<br>Precision: 84.59%<br>Recall: 84.48%<br>ROC AUC: 91.76<br>Geometric Mean: 100.0<br>Matthews Correlation: 100.0<br>F1: 100.0<br>Log Loss: 0.0",
          "Adaptive Boosting<br>Performance: 85.49%<br>Model ID: 2808<br>Accuracy: 80.83%<br>Precision: 81.1%<br>Recall: 80.83%<br>ROC AUC: 87.46<br>Geometric Mean: 92.08<br>Matthews Correlation: 84.06<br>F1: 92.08<br>Log Loss: 91.04",
          "Adaptive Boosting<br>Performance: 85.37%<br>Model ID: 2845<br>Accuracy: 80.16%<br>Precision: 80.31%<br>Recall: 80.16%<br>ROC AUC: 83.52<br>Geometric Mean: 93.35<br>Matthews Correlation: 86.69<br>F1: 93.4<br>Log Loss: 99.49",
          "Adaptive Boosting<br>Performance: 85.29%<br>Model ID: 2811<br>Accuracy: 80.5%<br>Precision: 80.76%<br>Recall: 80.5%<br>ROC AUC: 86.95<br>Geometric Mean: 92.13<br>Matthews Correlation: 84.1<br>F1: 92.09<br>Log Loss: 92.25",
          "Adaptive Boosting<br>Performance: 85.19%<br>Model ID: 2812<br>Accuracy: 80.16%<br>Precision: 80.52%<br>Recall: 80.16%<br>ROC AUC: 87.19<br>Geometric Mean: 92.13<br>Matthews Correlation: 84.1<br>F1: 92.09<br>Log Loss: 92.14",
          "Adaptive Boosting<br>Performance: 85.18%<br>Model ID: 2809<br>Accuracy: 80.17%<br>Precision: 80.42%<br>Recall: 80.17%<br>ROC AUC: 87.3<br>Geometric Mean: 92.08<br>Matthews Correlation: 84.06<br>F1: 92.08<br>Log Loss: 91.13",
          "Gradient Boosting<br>Performance: 89.77%<br>Model ID: 3030<br>Accuracy: 80.83%<br>Precision: 81.59%<br>Recall: 80.83%<br>ROC AUC: 87.84<br>Geometric Mean: 99.28<br>Matthews Correlation: 98.68<br>F1: 99.34<br>Log Loss: 3.39",
          "Gradient Boosting<br>Performance: 89.76%<br>Model ID: 3029<br>Accuracy: 80.83%<br>Precision: 81.59%<br>Recall: 80.83%<br>ROC AUC: 87.8<br>Geometric Mean: 99.28<br>Matthews Correlation: 98.68<br>F1: 99.34<br>Log Loss: 3.61",
          "Gradient Boosting<br>Performance: 89.76%<br>Model ID: 2969<br>Accuracy: 80.83%<br>Precision: 81.59%<br>Recall: 80.83%<br>ROC AUC: 87.77<br>Geometric Mean: 99.28<br>Matthews Correlation: 98.68<br>F1: 99.34<br>Log Loss: 3.61",
          "Gradient Boosting<br>Performance: 89.77%<br>Model ID: 2970<br>Accuracy: 80.83%<br>Precision: 81.59%<br>Recall: 80.83%<br>ROC AUC: 87.82<br>Geometric Mean: 99.28<br>Matthews Correlation: 98.68<br>F1: 99.34<br>Log Loss: 3.39",
          "Gradient Boosting<br>Performance: 89.75%<br>Model ID: 3026<br>Accuracy: 80.83%<br>Precision: 81.45%<br>Recall: 80.83%<br>ROC AUC: 87.84<br>Geometric Mean: 99.28<br>Matthews Correlation: 98.68<br>F1: 99.34<br>Log Loss: 4.1",
          "K-Nearest Neighbor<br>Performance: 87.44%<br>Model ID: meta_1<br>Accuracy: 89.11%<br>Precision: 89.41%<br>Recall: 89.11%<br>ROC AUC: 88.58<br>Geometric Mean: 88.58<br>Matthews Correlation: 78.24<br>F1: 89.03<br>Log Loss: 376.17",
          "Support Vector Machine<br>Performance: 92.41%<br>Model ID: meta_2<br>Accuracy: 93.4%<br>Precision: 93.4%<br>Recall: 93.4%<br>ROC AUC: 93.29<br>Geometric Mean: 93.29<br>Matthews Correlation: 86.68<br>F1: 93.4<br>Log Loss: 227.98",
          "Gaussian Naive Bayes<br>Performance: 93.21%<br>Model ID: meta_3<br>Accuracy: 94.06%<br>Precision: 94.07%<br>Recall: 94.06%<br>ROC AUC: 94.07<br>Geometric Mean: 94.07<br>Matthews Correlation: 88.05<br>F1: 94.06<br>Log Loss: 205.18",
          "Multilayer Perceptron<br>Performance: 100.0%<br>Model ID: meta_4<br>Accuracy: 100.0%<br>Precision: 100.0%<br>Recall: 100.0%<br>ROC AUC: 100.0<br>Geometric Mean: 100.0<br>Matthews Correlation: 100.0<br>F1: 100.0<br>Log Loss: 0.0",
          "Logistic Regression<br>Performance: 100.0%<br>Model ID: meta_5<br>Accuracy: 100.0%<br>Precision: 100.0%<br>Recall: 100.0%<br>ROC AUC: 100.0<br>Geometric Mean: 100.0<br>Matthews Correlation: 100.0<br>F1: 100.0<br>Log Loss: 0.0",
          "Linear Discriminant Analysis<br>Performance: 98.85%<br>Model ID: meta_6<br>Accuracy: 99.01%<br>Precision: 99.01%<br>Recall: 99.01%<br>ROC AUC: 98.97<br>Geometric Mean: 98.97<br>Matthews Correlation: 98.0<br>F1: 99.01<br>Log Loss: 34.2",
          "Quadratic Discriminant Analysis<br>Performance: 91.25%<br>Model ID: meta_7<br>Accuracy: 92.41%<br>Precision: 92.43%<br>Recall: 92.41%<br>ROC AUC: 92.2<br>Geometric Mean: 92.2<br>Matthews Correlation: 84.7<br>F1: 92.4<br>Log Loss: 262.18",
          "Random Forest<br>Performance: 90.91%<br>Model ID: meta_8<br>Accuracy: 92.08%<br>Precision: 92.08%<br>Recall: 92.08%<br>ROC AUC: 92.02<br>Geometric Mean: 92.02<br>Matthews Correlation: 84.03<br>F1: 92.08<br>Log Loss: 273.58",
          "Extra Trees<br>Performance: 96.33%<br>Model ID: meta_9<br>Accuracy: 96.7%<br>Precision: 96.85%<br>Recall: 96.7%<br>ROC AUC: 96.91<br>Geometric Mean: 96.91<br>Matthews Correlation: 93.51<br>F1: 96.71<br>Log Loss: 113.99",
          "Adaptive Boosting<br>Performance: 93.03%<br>Model ID: meta_10<br>Accuracy: 93.73%<br>Precision: 94.1%<br>Recall: 93.73%<br>ROC AUC: 94.06<br>Geometric Mean: 94.06<br>Matthews Correlation: 87.78<br>F1: 93.74<br>Log Loss: 216.58",
          "Gradient Boosting<br>Performance: 93.55%<br>Model ID: meta_11<br>Accuracy: 94.39%<br>Precision: 94.39%<br>Recall: 94.39%<br>ROC AUC: 94.31<br>Geometric Mean: 94.31<br>Matthews Correlation: 88.68<br>F1: 94.39<br>Log Loss: 193.78"
         ],
         "marker": {
          "color": [
           83.35,
           83.28,
           83.13,
           83.13,
           83.11,
           83.1,
           83.08,
           83.08,
           83.09,
           83.07,
           80.97,
           80.97,
           80.97,
           80.97,
           80.97,
           79.22,
           79.22,
           79.22,
           79.09,
           79.09,
           83.67,
           83.66,
           83.54,
           83.53,
           83.41,
           82.31,
           82.31,
           73.45,
           73.45,
           71.08,
           83.44,
           83.44,
           83.44,
           83.44,
           83.44,
           91.82,
           91.83,
           91.83,
           91.82,
           91.69,
           92.27,
           92.24,
           92.24,
           92.19,
           92.19,
           85.49,
           85.37,
           85.29,
           85.19,
           85.18,
           89.77,
           89.76,
           89.76,
           89.77,
           89.75,
           87.44,
           92.41,
           93.21,
           100,
           100,
           98.85,
           91.25,
           90.91,
           96.33,
           93.03,
           93.55
          ],
          "coloraxis": "coloraxis",
          "line": {
           "color": "Black",
           "width": 1
          },
          "opacity": 0.8,
          "size": [
           20,
           20,
           20,
           20,
           20,
           20,
           20,
           20,
           20,
           20,
           20,
           20,
           20,
           20,
           20,
           20,
           20,
           20,
           20,
           20,
           20,
           20,
           20,
           20,
           20,
           20,
           20,
           20,
           20,
           20,
           20,
           20,
           20,
           20,
           20,
           20,
           20,
           20,
           20,
           20,
           20,
           20,
           20,
           20,
           20,
           20,
           20,
           20,
           20,
           20,
           20,
           20,
           20,
           20,
           20,
           40,
           40,
           40,
           40,
           40,
           40,
           40,
           40,
           40,
           40,
           40
          ],
          "symbol": [
           "circle",
           "circle",
           "circle",
           "circle",
           "circle",
           "square",
           "square",
           "square",
           "square",
           "square",
           "x",
           "x",
           "x",
           "x",
           "x",
           "cross",
           "cross",
           "cross",
           "cross",
           "cross",
           "diamond",
           "diamond",
           "diamond",
           "diamond",
           "diamond",
           "star",
           "star",
           "star",
           "star",
           "star",
           "hexagram",
           "hexagram",
           "hexagram",
           "hexagram",
           "hexagram",
           "triangle-right",
           "triangle-right",
           "triangle-right",
           "triangle-right",
           "triangle-right",
           "triangle-left",
           "triangle-left",
           "triangle-left",
           "triangle-left",
           "triangle-left",
           "triangle-down",
           "triangle-down",
           "triangle-down",
           "triangle-down",
           "triangle-down",
           "triangle-up",
           "triangle-up",
           "triangle-up",
           "triangle-up",
           "triangle-up",
           "circle",
           "square",
           "x",
           "cross",
           "diamond",
           "star",
           "hexagram",
           "triangle-right",
           "triangle-left",
           "triangle-down",
           "triangle-up"
          ]
         },
         "mode": "markers",
         "type": "scatter",
         "x": [
          7.294191360473633,
          8.054143905639648,
          7.601654529571533,
          7.15320348739624,
          7.699870586395264,
          16.163328170776367,
          15.595556259155273,
          15.697797775268555,
          16.217226028442383,
          16.4781494140625,
          -4.602120876312256,
          -4.606914043426514,
          -4.865992546081543,
          -4.988134384155273,
          -4.362730026245117,
          5.417477130889893,
          5.8661065101623535,
          4.985069751739502,
          5.606728553771973,
          5.3052263259887695,
          15.935407638549805,
          15.913537979125977,
          16.33858871459961,
          16.405384063720703,
          16.81951904296875,
          17.61077880859375,
          17.316661834716797,
          6.500975131988525,
          6.8544793128967285,
          6.7744903564453125,
          18.526079177856445,
          17.991344451904297,
          18.110597610473633,
          18.272010803222656,
          18.610063552856445,
          19.272354125976562,
          18.98862075805664,
          19.54044532775879,
          19.13792610168457,
          19.497251510620117,
          18.204116821289062,
          18.26279640197754,
          18.44981575012207,
          17.836444854736328,
          18.691970825195312,
          8.086332321166992,
          8.412467956542969,
          8.640556335449219,
          8.32726001739502,
          8.716338157653809,
          3.9939770698547363,
          4.512622833251953,
          4.795222759246826,
          4.603824615478516,
          4.200641632080078,
          16.16278648376465,
          16.910146713256836,
          15.586328506469727,
          16.01626205444336,
          16.240371704101562,
          16.386545181274414,
          16.270217895507812,
          16.93031883239746,
          16.844675064086914,
          7.980252742767334,
          17.752052307128906
         ],
         "xaxis": "x",
         "y": [
          11.389717102050781,
          10.921075820922852,
          10.772334098815918,
          10.77891731262207,
          11.436126708984375,
          2.933682918548584,
          2.939861536026001,
          3.3176052570343018,
          3.2625558376312256,
          2.597489833831787,
          -5.749924182891846,
          -5.7546586990356445,
          -6.013791084289551,
          -6.135932445526123,
          -5.510526657104492,
          12.282068252563477,
          12.391526222229004,
          12.476949691772461,
          13.03626823425293,
          12.818747520446777,
          4.774717330932617,
          4.5480852127075195,
          4.120541095733643,
          4.834546089172363,
          4.409697532653809,
          4.408766746520996,
          3.872805595397949,
          11.78927230834961,
          11.971735954284668,
          11.33203411102295,
          4.562941551208496,
          3.8792238235473633,
          3.6877241134643555,
          4.240002155303955,
          4.171010971069336,
          7.872692108154297,
          7.242010116577148,
          7.557284832000732,
          6.892279624938965,
          7.170996189117432,
          8.557731628417969,
          7.678267955780029,
          8.247807502746582,
          7.979145050048828,
          7.956137657165527,
          8.858726501464844,
          8.536831855773926,
          9.160577774047852,
          9.40958023071289,
          8.655696868896484,
          7.379390716552734,
          6.7252984046936035,
          7.097586154937744,
          7.431403160095215,
          7.096593856811523,
          6.186885833740234,
          6.668741226196289,
          6.667593002319336,
          7.116206645965576,
          7.495212078094482,
          7.205141067504883,
          6.448703765869141,
          6.145288467407227,
          6.948420524597168,
          8.789329528808594,
          6.979928493499756
         ],
         "yaxis": "y"
        },
        {
         "hovertext": [
          "K-Nearest Neighbor<br>Performance: 83.35%<br>Model ID: 452<br>Accuracy: 70.31%<br>Precision: 70.36%<br>Recall: 70.31%<br>ROC AUC: 72.5<br>Geometric Mean: 100.0<br>Matthews Correlation: 100.0<br>F1: 100.0<br>Log Loss: 0.0",
          "K-Nearest Neighbor<br>Performance: 83.28%<br>Model ID: 288<br>Accuracy: 69.62%<br>Precision: 69.8%<br>Recall: 69.62%<br>ROC AUC: 73.91<br>Geometric Mean: 100.0<br>Matthews Correlation: 100.0<br>F1: 100.0<br>Log Loss: 0.0",
          "K-Nearest Neighbor<br>Performance: 83.13%<br>Model ID: 96<br>Accuracy: 69.29%<br>Precision: 69.48%<br>Recall: 69.29%<br>ROC AUC: 73.84<br>Geometric Mean: 100.0<br>Matthews Correlation: 100.0<br>F1: 100.0<br>Log Loss: 0.0",
          "K-Nearest Neighbor<br>Performance: 83.13%<br>Model ID: 480<br>Accuracy: 69.29%<br>Precision: 69.48%<br>Recall: 69.29%<br>ROC AUC: 73.82<br>Geometric Mean: 100.0<br>Matthews Correlation: 100.0<br>F1: 100.0<br>Log Loss: 0.0",
          "K-Nearest Neighbor<br>Performance: 83.11%<br>Model ID: 458<br>Accuracy: 69.64%<br>Precision: 69.61%<br>Recall: 69.64%<br>ROC AUC: 72.85<br>Geometric Mean: 100.0<br>Matthews Correlation: 100.0<br>F1: 100.0<br>Log Loss: 0.0",
          "Support Vector Machine<br>Performance: 83.1%<br>Model ID: 694<br>Accuracy: 82.5%<br>Precision: 82.92%<br>Recall: 82.5%<br>ROC AUC: 89.98<br>Geometric Mean: 85.43<br>Matthews Correlation: 72.38<br>F1: 85.99<br>Log Loss: 0.62",
          "Support Vector Machine<br>Performance: 83.08%<br>Model ID: 650<br>Accuracy: 82.83%<br>Precision: 83.3%<br>Recall: 82.83%<br>ROC AUC: 90.14<br>Geometric Mean: 85.07<br>Matthews Correlation: 71.75<br>F1: 85.65<br>Log Loss: 0.71",
          "Support Vector Machine<br>Performance: 83.08%<br>Model ID: 646<br>Accuracy: 82.83%<br>Precision: 83.3%<br>Recall: 82.83%<br>ROC AUC: 90.15<br>Geometric Mean: 85.07<br>Matthews Correlation: 71.75<br>F1: 85.65<br>Log Loss: 0.69",
          "Support Vector Machine<br>Performance: 83.09%<br>Model ID: 642<br>Accuracy: 82.83%<br>Precision: 83.3%<br>Recall: 82.83%<br>ROC AUC: 90.19<br>Geometric Mean: 85.07<br>Matthews Correlation: 71.75<br>F1: 85.65<br>Log Loss: 0.68",
          "Support Vector Machine<br>Performance: 83.07%<br>Model ID: 654<br>Accuracy: 82.83%<br>Precision: 83.3%<br>Recall: 82.83%<br>ROC AUC: 90.09<br>Geometric Mean: 85.07<br>Matthews Correlation: 71.75<br>F1: 85.65<br>Log Loss: 0.69",
          "Gaussian Naive Bayes<br>Performance: 80.97%<br>Model ID: 737<br>Accuracy: 80.51%<br>Precision: 80.65%<br>Recall: 80.51%<br>ROC AUC: 89.18<br>Geometric Mean: 83.79<br>Matthews Correlation: 68.01<br>F1: 84.11<br>Log Loss: 100.0",
          "Gaussian Naive Bayes<br>Performance: 80.97%<br>Model ID: 1066<br>Accuracy: 80.51%<br>Precision: 80.65%<br>Recall: 80.51%<br>ROC AUC: 89.18<br>Geometric Mean: 83.79<br>Matthews Correlation: 68.01<br>F1: 84.11<br>Log Loss: 34.0",
          "Gaussian Naive Bayes<br>Performance: 80.97%<br>Model ID: 1079<br>Accuracy: 80.51%<br>Precision: 80.65%<br>Recall: 80.51%<br>ROC AUC: 89.18<br>Geometric Mean: 83.79<br>Matthews Correlation: 68.01<br>F1: 84.11<br>Log Loss: 31.4",
          "Gaussian Naive Bayes<br>Performance: 80.97%<br>Model ID: 1078<br>Accuracy: 80.51%<br>Precision: 80.65%<br>Recall: 80.51%<br>ROC AUC: 89.18<br>Geometric Mean: 83.79<br>Matthews Correlation: 68.01<br>F1: 84.11<br>Log Loss: 31.6",
          "Gaussian Naive Bayes<br>Performance: 80.97%<br>Model ID: 1077<br>Accuracy: 80.51%<br>Precision: 80.65%<br>Recall: 80.51%<br>ROC AUC: 89.18<br>Geometric Mean: 83.79<br>Matthews Correlation: 68.01<br>F1: 84.11<br>Log Loss: 31.8",
          "Multilayer Perceptron<br>Performance: 79.22%<br>Model ID: 1262<br>Accuracy: 79.85%<br>Precision: 79.92%<br>Recall: 79.85%<br>ROC AUC: 85.88<br>Geometric Mean: 81.86<br>Matthews Correlation: 64.8<br>F1: 82.36<br>Log Loss: 17.56",
          "Multilayer Perceptron<br>Performance: 79.22%<br>Model ID: 1263<br>Accuracy: 79.85%<br>Precision: 79.92%<br>Recall: 79.85%<br>ROC AUC: 85.88<br>Geometric Mean: 81.86<br>Matthews Correlation: 64.8<br>F1: 82.36<br>Log Loss: 17.56",
          "Multilayer Perceptron<br>Performance: 79.22%<br>Model ID: 1261<br>Accuracy: 79.85%<br>Precision: 79.92%<br>Recall: 79.85%<br>ROC AUC: 85.88<br>Geometric Mean: 81.86<br>Matthews Correlation: 64.8<br>F1: 82.36<br>Log Loss: 17.56",
          "Multilayer Perceptron<br>Performance: 79.09%<br>Model ID: 1249<br>Accuracy: 79.52%<br>Precision: 79.59%<br>Recall: 79.52%<br>ROC AUC: 85.97<br>Geometric Mean: 81.86<br>Matthews Correlation: 64.8<br>F1: 82.36<br>Log Loss: 17.17",
          "Multilayer Perceptron<br>Performance: 79.09%<br>Model ID: 1251<br>Accuracy: 79.52%<br>Precision: 79.59%<br>Recall: 79.52%<br>ROC AUC: 85.97<br>Geometric Mean: 81.86<br>Matthews Correlation: 64.8<br>F1: 82.36<br>Log Loss: 17.17",
          "Logistic Regression<br>Performance: 83.67%<br>Model ID: 1677<br>Accuracy: 84.14%<br>Precision: 84.66%<br>Recall: 84.14%<br>ROC AUC: 90.32<br>Geometric Mean: 85.13<br>Matthews Correlation: 71.65<br>F1: 85.67<br>Log Loss: 3.51",
          "Logistic Regression<br>Performance: 83.66%<br>Model ID: 1741<br>Accuracy: 84.46%<br>Precision: 84.98%<br>Recall: 84.46%<br>ROC AUC: 90.58<br>Geometric Mean: 84.83<br>Matthews Correlation: 70.93<br>F1: 85.35<br>Log Loss: 3.37",
          "Logistic Regression<br>Performance: 83.54%<br>Model ID: 1901<br>Accuracy: 83.8%<br>Precision: 84.26%<br>Recall: 83.8%<br>ROC AUC: 90.5<br>Geometric Mean: 85.13<br>Matthews Correlation: 71.65<br>F1: 85.67<br>Log Loss: 3.41",
          "Logistic Regression<br>Performance: 83.53%<br>Model ID: 1773<br>Accuracy: 84.14%<br>Precision: 84.64%<br>Recall: 84.14%<br>ROC AUC: 90.65<br>Geometric Mean: 84.77<br>Matthews Correlation: 71.02<br>F1: 85.33<br>Log Loss: 3.23",
          "Logistic Regression<br>Performance: 83.41%<br>Model ID: 1869<br>Accuracy: 83.48%<br>Precision: 83.92%<br>Recall: 83.48%<br>ROC AUC: 90.54<br>Geometric Mean: 85.07<br>Matthews Correlation: 71.75<br>F1: 85.65<br>Log Loss: 2.97",
          "Linear Discriminant Analysis<br>Performance: 82.31%<br>Model ID: 1997<br>Accuracy: 83.16%<br>Precision: 84.11%<br>Recall: 83.16%<br>ROC AUC: 89.99<br>Geometric Mean: 83.32<br>Matthews Correlation: 68.51<br>F1: 83.94<br>Log Loss: 0.0",
          "Linear Discriminant Analysis<br>Performance: 82.31%<br>Model ID: 1998<br>Accuracy: 83.16%<br>Precision: 84.11%<br>Recall: 83.16%<br>ROC AUC: 89.99<br>Geometric Mean: 83.32<br>Matthews Correlation: 68.51<br>F1: 83.94<br>Log Loss: 0.0",
          "Linear Discriminant Analysis<br>Performance: 73.45%<br>Model ID: 1999<br>Accuracy: 75.89%<br>Precision: 76.41%<br>Recall: 75.89%<br>ROC AUC: 82.6<br>Geometric Mean: 75.39<br>Matthews Correlation: 52.04<br>F1: 75.95<br>Log Loss: 31.9",
          "Linear Discriminant Analysis<br>Performance: 73.45%<br>Model ID: 2000<br>Accuracy: 75.89%<br>Precision: 76.41%<br>Recall: 75.89%<br>ROC AUC: 82.6<br>Geometric Mean: 75.39<br>Matthews Correlation: 52.04<br>F1: 75.95<br>Log Loss: 31.9",
          "Linear Discriminant Analysis<br>Performance: 71.08%<br>Model ID: 2001<br>Accuracy: 74.25%<br>Precision: 74.65%<br>Recall: 74.25%<br>ROC AUC: 79.07<br>Geometric Mean: 73.45<br>Matthews Correlation: 47.92<br>F1: 73.99<br>Log Loss: 41.85",
          "Quadratic Discriminant Analysis<br>Performance: 83.44%<br>Model ID: 2227<br>Accuracy: 81.49%<br>Precision: 81.79%<br>Recall: 81.49%<br>ROC AUC: 88.84<br>Geometric Mean: 87.24<br>Matthews Correlation: 75.55<br>F1: 87.7<br>Log Loss: 0.03",
          "Quadratic Discriminant Analysis<br>Performance: 83.44%<br>Model ID: 2231<br>Accuracy: 81.49%<br>Precision: 81.79%<br>Recall: 81.49%<br>ROC AUC: 88.84<br>Geometric Mean: 87.24<br>Matthews Correlation: 75.55<br>F1: 87.7<br>Log Loss: 0.03",
          "Quadratic Discriminant Analysis<br>Performance: 83.44%<br>Model ID: 2230<br>Accuracy: 81.49%<br>Precision: 81.79%<br>Recall: 81.49%<br>ROC AUC: 88.84<br>Geometric Mean: 87.24<br>Matthews Correlation: 75.55<br>F1: 87.7<br>Log Loss: 0.03",
          "Quadratic Discriminant Analysis<br>Performance: 83.44%<br>Model ID: 2229<br>Accuracy: 81.49%<br>Precision: 81.79%<br>Recall: 81.49%<br>ROC AUC: 88.84<br>Geometric Mean: 87.24<br>Matthews Correlation: 75.55<br>F1: 87.7<br>Log Loss: 0.03",
          "Quadratic Discriminant Analysis<br>Performance: 83.44%<br>Model ID: 2228<br>Accuracy: 81.49%<br>Precision: 81.79%<br>Recall: 81.49%<br>ROC AUC: 88.84<br>Geometric Mean: 87.24<br>Matthews Correlation: 75.55<br>F1: 87.7<br>Log Loss: 0.03",
          "Random Forest<br>Performance: 91.82%<br>Model ID: 2488<br>Accuracy: 84.13%<br>Precision: 84.34%<br>Recall: 84.13%<br>ROC AUC: 90.17<br>Geometric Mean: 100.0<br>Matthews Correlation: 100.0<br>F1: 100.0<br>Log Loss: 59.71",
          "Random Forest<br>Performance: 91.83%<br>Model ID: 2490<br>Accuracy: 84.13%<br>Precision: 84.31%<br>Recall: 84.13%<br>ROC AUC: 90.21<br>Geometric Mean: 100.0<br>Matthews Correlation: 100.0<br>F1: 100.0<br>Log Loss: 52.76",
          "Random Forest<br>Performance: 91.83%<br>Model ID: 2489<br>Accuracy: 84.13%<br>Precision: 84.34%<br>Recall: 84.13%<br>ROC AUC: 90.22<br>Geometric Mean: 100.0<br>Matthews Correlation: 100.0<br>F1: 100.0<br>Log Loss: 54.75",
          "Random Forest<br>Performance: 91.82%<br>Model ID: 2494<br>Accuracy: 84.13%<br>Precision: 84.38%<br>Recall: 84.13%<br>ROC AUC: 90.11<br>Geometric Mean: 100.0<br>Matthews Correlation: 100.0<br>F1: 100.0<br>Log Loss: 58.36",
          "Random Forest<br>Performance: 91.69%<br>Model ID: 2493<br>Accuracy: 83.8%<br>Precision: 84.02%<br>Recall: 83.8%<br>ROC AUC: 90.22<br>Geometric Mean: 100.0<br>Matthews Correlation: 100.0<br>F1: 100.0<br>Log Loss: 57.04",
          "Extra Trees<br>Performance: 92.27%<br>Model ID: 2667<br>Accuracy: 84.81%<br>Precision: 85.07%<br>Recall: 84.81%<br>ROC AUC: 91.22<br>Geometric Mean: 100.0<br>Matthews Correlation: 100.0<br>F1: 100.0<br>Log Loss: 0.0",
          "Extra Trees<br>Performance: 92.24%<br>Model ID: 2659<br>Accuracy: 84.8%<br>Precision: 84.98%<br>Recall: 84.8%<br>ROC AUC: 91.07<br>Geometric Mean: 100.0<br>Matthews Correlation: 100.0<br>F1: 100.0<br>Log Loss: 0.0",
          "Extra Trees<br>Performance: 92.24%<br>Model ID: 2660<br>Accuracy: 84.8%<br>Precision: 84.98%<br>Recall: 84.8%<br>ROC AUC: 91.07<br>Geometric Mean: 100.0<br>Matthews Correlation: 100.0<br>F1: 100.0<br>Log Loss: 0.0",
          "Extra Trees<br>Performance: 92.19%<br>Model ID: 2714<br>Accuracy: 84.48%<br>Precision: 84.59%<br>Recall: 84.48%<br>ROC AUC: 91.8<br>Geometric Mean: 100.0<br>Matthews Correlation: 100.0<br>F1: 100.0<br>Log Loss: 0.0",
          "Extra Trees<br>Performance: 92.19%<br>Model ID: 2715<br>Accuracy: 84.48%<br>Precision: 84.59%<br>Recall: 84.48%<br>ROC AUC: 91.76<br>Geometric Mean: 100.0<br>Matthews Correlation: 100.0<br>F1: 100.0<br>Log Loss: 0.0",
          "Adaptive Boosting<br>Performance: 85.49%<br>Model ID: 2808<br>Accuracy: 80.83%<br>Precision: 81.1%<br>Recall: 80.83%<br>ROC AUC: 87.46<br>Geometric Mean: 92.08<br>Matthews Correlation: 84.06<br>F1: 92.08<br>Log Loss: 91.04",
          "Adaptive Boosting<br>Performance: 85.37%<br>Model ID: 2845<br>Accuracy: 80.16%<br>Precision: 80.31%<br>Recall: 80.16%<br>ROC AUC: 83.52<br>Geometric Mean: 93.35<br>Matthews Correlation: 86.69<br>F1: 93.4<br>Log Loss: 99.49",
          "Adaptive Boosting<br>Performance: 85.29%<br>Model ID: 2811<br>Accuracy: 80.5%<br>Precision: 80.76%<br>Recall: 80.5%<br>ROC AUC: 86.95<br>Geometric Mean: 92.13<br>Matthews Correlation: 84.1<br>F1: 92.09<br>Log Loss: 92.25",
          "Adaptive Boosting<br>Performance: 85.19%<br>Model ID: 2812<br>Accuracy: 80.16%<br>Precision: 80.52%<br>Recall: 80.16%<br>ROC AUC: 87.19<br>Geometric Mean: 92.13<br>Matthews Correlation: 84.1<br>F1: 92.09<br>Log Loss: 92.14",
          "Adaptive Boosting<br>Performance: 85.18%<br>Model ID: 2809<br>Accuracy: 80.17%<br>Precision: 80.42%<br>Recall: 80.17%<br>ROC AUC: 87.3<br>Geometric Mean: 92.08<br>Matthews Correlation: 84.06<br>F1: 92.08<br>Log Loss: 91.13",
          "Gradient Boosting<br>Performance: 89.77%<br>Model ID: 3030<br>Accuracy: 80.83%<br>Precision: 81.59%<br>Recall: 80.83%<br>ROC AUC: 87.84<br>Geometric Mean: 99.28<br>Matthews Correlation: 98.68<br>F1: 99.34<br>Log Loss: 3.39",
          "Gradient Boosting<br>Performance: 89.76%<br>Model ID: 3029<br>Accuracy: 80.83%<br>Precision: 81.59%<br>Recall: 80.83%<br>ROC AUC: 87.8<br>Geometric Mean: 99.28<br>Matthews Correlation: 98.68<br>F1: 99.34<br>Log Loss: 3.61",
          "Gradient Boosting<br>Performance: 89.76%<br>Model ID: 2969<br>Accuracy: 80.83%<br>Precision: 81.59%<br>Recall: 80.83%<br>ROC AUC: 87.77<br>Geometric Mean: 99.28<br>Matthews Correlation: 98.68<br>F1: 99.34<br>Log Loss: 3.61",
          "Gradient Boosting<br>Performance: 89.77%<br>Model ID: 2970<br>Accuracy: 80.83%<br>Precision: 81.59%<br>Recall: 80.83%<br>ROC AUC: 87.82<br>Geometric Mean: 99.28<br>Matthews Correlation: 98.68<br>F1: 99.34<br>Log Loss: 3.39",
          "Gradient Boosting<br>Performance: 89.75%<br>Model ID: 3026<br>Accuracy: 80.83%<br>Precision: 81.45%<br>Recall: 80.83%<br>ROC AUC: 87.84<br>Geometric Mean: 99.28<br>Matthews Correlation: 98.68<br>F1: 99.34<br>Log Loss: 4.1",
          "K-Nearest Neighbor<br>Performance: 87.44%<br>Model ID: meta_1<br>Accuracy: 89.11%<br>Precision: 89.41%<br>Recall: 89.11%<br>ROC AUC: 88.58<br>Geometric Mean: 88.58<br>Matthews Correlation: 78.24<br>F1: 89.03<br>Log Loss: 376.17",
          "Support Vector Machine<br>Performance: 92.41%<br>Model ID: meta_2<br>Accuracy: 93.4%<br>Precision: 93.4%<br>Recall: 93.4%<br>ROC AUC: 93.29<br>Geometric Mean: 93.29<br>Matthews Correlation: 86.68<br>F1: 93.4<br>Log Loss: 227.98",
          "Gaussian Naive Bayes<br>Performance: 93.21%<br>Model ID: meta_3<br>Accuracy: 94.06%<br>Precision: 94.07%<br>Recall: 94.06%<br>ROC AUC: 94.07<br>Geometric Mean: 94.07<br>Matthews Correlation: 88.05<br>F1: 94.06<br>Log Loss: 205.18",
          "Multilayer Perceptron<br>Performance: 100.0%<br>Model ID: meta_4<br>Accuracy: 100.0%<br>Precision: 100.0%<br>Recall: 100.0%<br>ROC AUC: 100.0<br>Geometric Mean: 100.0<br>Matthews Correlation: 100.0<br>F1: 100.0<br>Log Loss: 0.0",
          "Logistic Regression<br>Performance: 100.0%<br>Model ID: meta_5<br>Accuracy: 100.0%<br>Precision: 100.0%<br>Recall: 100.0%<br>ROC AUC: 100.0<br>Geometric Mean: 100.0<br>Matthews Correlation: 100.0<br>F1: 100.0<br>Log Loss: 0.0",
          "Linear Discriminant Analysis<br>Performance: 98.85%<br>Model ID: meta_6<br>Accuracy: 99.01%<br>Precision: 99.01%<br>Recall: 99.01%<br>ROC AUC: 98.97<br>Geometric Mean: 98.97<br>Matthews Correlation: 98.0<br>F1: 99.01<br>Log Loss: 34.2",
          "Quadratic Discriminant Analysis<br>Performance: 91.25%<br>Model ID: meta_7<br>Accuracy: 92.41%<br>Precision: 92.43%<br>Recall: 92.41%<br>ROC AUC: 92.2<br>Geometric Mean: 92.2<br>Matthews Correlation: 84.7<br>F1: 92.4<br>Log Loss: 262.18",
          "Random Forest<br>Performance: 90.91%<br>Model ID: meta_8<br>Accuracy: 92.08%<br>Precision: 92.08%<br>Recall: 92.08%<br>ROC AUC: 92.02<br>Geometric Mean: 92.02<br>Matthews Correlation: 84.03<br>F1: 92.08<br>Log Loss: 273.58",
          "Extra Trees<br>Performance: 96.33%<br>Model ID: meta_9<br>Accuracy: 96.7%<br>Precision: 96.85%<br>Recall: 96.7%<br>ROC AUC: 96.91<br>Geometric Mean: 96.91<br>Matthews Correlation: 93.51<br>F1: 96.71<br>Log Loss: 113.99",
          "Adaptive Boosting<br>Performance: 93.03%<br>Model ID: meta_10<br>Accuracy: 93.73%<br>Precision: 94.1%<br>Recall: 93.73%<br>ROC AUC: 94.06<br>Geometric Mean: 94.06<br>Matthews Correlation: 87.78<br>F1: 93.74<br>Log Loss: 216.58",
          "Gradient Boosting<br>Performance: 93.55%<br>Model ID: meta_11<br>Accuracy: 94.39%<br>Precision: 94.39%<br>Recall: 94.39%<br>ROC AUC: 94.31<br>Geometric Mean: 94.31<br>Matthews Correlation: 88.68<br>F1: 94.39<br>Log Loss: 193.78"
         ],
         "marker": {
          "color": [
           83.35,
           83.28,
           83.13,
           83.13,
           83.11,
           83.1,
           83.08,
           83.08,
           83.09,
           83.07,
           80.97,
           80.97,
           80.97,
           80.97,
           80.97,
           79.22,
           79.22,
           79.22,
           79.09,
           79.09,
           83.67,
           83.66,
           83.54,
           83.53,
           83.41,
           82.31,
           82.31,
           73.45,
           73.45,
           71.08,
           83.44,
           83.44,
           83.44,
           83.44,
           83.44,
           91.82,
           91.83,
           91.83,
           91.82,
           91.69,
           92.27,
           92.24,
           92.24,
           92.19,
           92.19,
           85.49,
           85.37,
           85.29,
           85.19,
           85.18,
           89.77,
           89.76,
           89.76,
           89.77,
           89.75,
           87.44,
           92.41,
           93.21,
           100,
           100,
           98.85,
           91.25,
           90.91,
           96.33,
           93.03,
           93.55
          ],
          "coloraxis": "coloraxis",
          "line": {
           "color": "Black",
           "width": 1
          },
          "opacity": 0.8,
          "size": [
           20,
           20,
           20,
           20,
           20,
           20,
           20,
           20,
           20,
           20,
           20,
           20,
           20,
           20,
           20,
           20,
           20,
           20,
           20,
           20,
           20,
           20,
           20,
           20,
           20,
           20,
           20,
           20,
           20,
           20,
           20,
           20,
           20,
           20,
           20,
           20,
           20,
           20,
           20,
           20,
           20,
           20,
           20,
           20,
           20,
           20,
           20,
           20,
           20,
           20,
           20,
           20,
           20,
           20,
           20,
           40,
           40,
           40,
           40,
           40,
           40,
           40,
           40,
           40,
           40,
           40
          ],
          "symbol": [
           "circle",
           "circle",
           "circle",
           "circle",
           "circle",
           "square",
           "square",
           "square",
           "square",
           "square",
           "x",
           "x",
           "x",
           "x",
           "x",
           "cross",
           "cross",
           "cross",
           "cross",
           "cross",
           "diamond",
           "diamond",
           "diamond",
           "diamond",
           "diamond",
           "star",
           "star",
           "star",
           "star",
           "star",
           "hexagram",
           "hexagram",
           "hexagram",
           "hexagram",
           "hexagram",
           "triangle-right",
           "triangle-right",
           "triangle-right",
           "triangle-right",
           "triangle-right",
           "triangle-left",
           "triangle-left",
           "triangle-left",
           "triangle-left",
           "triangle-left",
           "triangle-down",
           "triangle-down",
           "triangle-down",
           "triangle-down",
           "triangle-down",
           "triangle-up",
           "triangle-up",
           "triangle-up",
           "triangle-up",
           "triangle-up",
           "circle",
           "square",
           "x",
           "cross",
           "diamond",
           "star",
           "hexagram",
           "triangle-right",
           "triangle-left",
           "triangle-down",
           "triangle-up"
          ]
         },
         "mode": "markers",
         "type": "scatter",
         "x": [
          0.5967009663581848,
          1.3000330924987793,
          0.9049564003944397,
          1.8279157876968384,
          1.1876856088638306,
          27.48357582092285,
          26.867813110351562,
          27.030691146850586,
          27.498653411865234,
          27.878055572509766,
          6.8377532958984375,
          7.611626625061035,
          7.085081100463867,
          7.3530707359313965,
          7.001321315765381,
          -0.0977785661816597,
          0.42785942554473877,
          0.6687936186790466,
          0.09079325944185257,
          0.3177453577518463,
          26.305896759033203,
          26.861772537231445,
          27.219160079956055,
          26.54253578186035,
          27.06537437438965,
          28.183942794799805,
          27.67186737060547,
          1.113380789756775,
          1.1836365461349487,
          1.5076570510864258,
          28.441755294799805,
          28.297142028808594,
          28.517343521118164,
          27.951583862304688,
          28.760082244873047,
          24.307214736938477,
          23.651134490966797,
          23.886228561401367,
          24.423198699951172,
          23.936124801635742,
          25.511396408081055,
          25.280031204223633,
          25.083730697631836,
          24.682382583618164,
          24.93761444091797,
          2.130512237548828,
          2.3147504329681396,
          2.396033525466919,
          2.0534706115722656,
          2.6019625663757324,
          32.20625305175781,
          32.08405303955078,
          32.48127746582031,
          32.859256744384766,
          32.69779968261719,
          24.155799865722656,
          23.79557991027832,
          24.535640716552734,
          24.296113967895508,
          24.721155166625977,
          24.94391632080078,
          23.817996978759766,
          24.770788192749023,
          24.427200317382812,
          1.7046573162078857,
          24.182859420776367
         ],
         "xaxis": "x",
         "y": [
          15.1967191696167,
          16.06279945373535,
          15.698760986328125,
          15.4673433303833,
          15.508867263793945,
          15.51099967956543,
          15.508002281188965,
          15.962645530700684,
          16.173877716064453,
          15.91014575958252,
          21.671018600463867,
          20.897327423095703,
          21.425273895263672,
          21.157451629638672,
          21.508081436157227,
          13.98740291595459,
          13.401501655578613,
          13.732375144958496,
          13.516276359558105,
          14.162517547607422,
          16.867013931274414,
          17.022594451904297,
          17.121915817260742,
          17.48587417602539,
          17.60065460205078,
          17.783832550048828,
          18.07880973815918,
          14.843039512634277,
          14.717525482177734,
          14.689781188964844,
          19.0312557220459,
          18.667579650878906,
          18.455463409423828,
          18.664838790893555,
          18.227252960205078,
          12.590059280395508,
          13.396677017211914,
          12.827311515808105,
          13.122944831848145,
          13.156265258789062,
          14.080582618713379,
          13.641338348388672,
          13.467791557312012,
          13.886961936950684,
          14.282623291015625,
          17.226778030395508,
          18.004554748535156,
          17.7602596282959,
          17.526805877685547,
          17.57544708251953,
          -7.286828517913818,
          -7.1666059494018555,
          -7.560847282409668,
          -7.930657386779785,
          -7.781852722167969,
          16.226045608520508,
          15.742166519165039,
          17.255373001098633,
          16.928558349609375,
          16.502460479736328,
          16.97608184814453,
          16.67300796508789,
          15.827875137329102,
          16.092485427856445,
          17.605661392211914,
          14.840538024902344
         ],
         "yaxis": "y"
        },
        {
         "hovertext": [
          "K-Nearest Neighbor<br>Performance: 83.35%<br>Model ID: 452<br>Accuracy: 70.31%<br>Precision: 70.36%<br>Recall: 70.31%<br>ROC AUC: 72.5<br>Geometric Mean: 100.0<br>Matthews Correlation: 100.0<br>F1: 100.0<br>Log Loss: 0.0",
          "K-Nearest Neighbor<br>Performance: 83.28%<br>Model ID: 288<br>Accuracy: 69.62%<br>Precision: 69.8%<br>Recall: 69.62%<br>ROC AUC: 73.91<br>Geometric Mean: 100.0<br>Matthews Correlation: 100.0<br>F1: 100.0<br>Log Loss: 0.0",
          "K-Nearest Neighbor<br>Performance: 83.13%<br>Model ID: 96<br>Accuracy: 69.29%<br>Precision: 69.48%<br>Recall: 69.29%<br>ROC AUC: 73.84<br>Geometric Mean: 100.0<br>Matthews Correlation: 100.0<br>F1: 100.0<br>Log Loss: 0.0",
          "K-Nearest Neighbor<br>Performance: 83.13%<br>Model ID: 480<br>Accuracy: 69.29%<br>Precision: 69.48%<br>Recall: 69.29%<br>ROC AUC: 73.82<br>Geometric Mean: 100.0<br>Matthews Correlation: 100.0<br>F1: 100.0<br>Log Loss: 0.0",
          "K-Nearest Neighbor<br>Performance: 83.11%<br>Model ID: 458<br>Accuracy: 69.64%<br>Precision: 69.61%<br>Recall: 69.64%<br>ROC AUC: 72.85<br>Geometric Mean: 100.0<br>Matthews Correlation: 100.0<br>F1: 100.0<br>Log Loss: 0.0",
          "Support Vector Machine<br>Performance: 83.1%<br>Model ID: 694<br>Accuracy: 82.5%<br>Precision: 82.92%<br>Recall: 82.5%<br>ROC AUC: 89.98<br>Geometric Mean: 85.43<br>Matthews Correlation: 72.38<br>F1: 85.99<br>Log Loss: 0.62",
          "Support Vector Machine<br>Performance: 83.08%<br>Model ID: 650<br>Accuracy: 82.83%<br>Precision: 83.3%<br>Recall: 82.83%<br>ROC AUC: 90.14<br>Geometric Mean: 85.07<br>Matthews Correlation: 71.75<br>F1: 85.65<br>Log Loss: 0.71",
          "Support Vector Machine<br>Performance: 83.08%<br>Model ID: 646<br>Accuracy: 82.83%<br>Precision: 83.3%<br>Recall: 82.83%<br>ROC AUC: 90.15<br>Geometric Mean: 85.07<br>Matthews Correlation: 71.75<br>F1: 85.65<br>Log Loss: 0.69",
          "Support Vector Machine<br>Performance: 83.09%<br>Model ID: 642<br>Accuracy: 82.83%<br>Precision: 83.3%<br>Recall: 82.83%<br>ROC AUC: 90.19<br>Geometric Mean: 85.07<br>Matthews Correlation: 71.75<br>F1: 85.65<br>Log Loss: 0.68",
          "Support Vector Machine<br>Performance: 83.07%<br>Model ID: 654<br>Accuracy: 82.83%<br>Precision: 83.3%<br>Recall: 82.83%<br>ROC AUC: 90.09<br>Geometric Mean: 85.07<br>Matthews Correlation: 71.75<br>F1: 85.65<br>Log Loss: 0.69",
          "Gaussian Naive Bayes<br>Performance: 80.97%<br>Model ID: 737<br>Accuracy: 80.51%<br>Precision: 80.65%<br>Recall: 80.51%<br>ROC AUC: 89.18<br>Geometric Mean: 83.79<br>Matthews Correlation: 68.01<br>F1: 84.11<br>Log Loss: 100.0",
          "Gaussian Naive Bayes<br>Performance: 80.97%<br>Model ID: 1066<br>Accuracy: 80.51%<br>Precision: 80.65%<br>Recall: 80.51%<br>ROC AUC: 89.18<br>Geometric Mean: 83.79<br>Matthews Correlation: 68.01<br>F1: 84.11<br>Log Loss: 34.0",
          "Gaussian Naive Bayes<br>Performance: 80.97%<br>Model ID: 1079<br>Accuracy: 80.51%<br>Precision: 80.65%<br>Recall: 80.51%<br>ROC AUC: 89.18<br>Geometric Mean: 83.79<br>Matthews Correlation: 68.01<br>F1: 84.11<br>Log Loss: 31.4",
          "Gaussian Naive Bayes<br>Performance: 80.97%<br>Model ID: 1078<br>Accuracy: 80.51%<br>Precision: 80.65%<br>Recall: 80.51%<br>ROC AUC: 89.18<br>Geometric Mean: 83.79<br>Matthews Correlation: 68.01<br>F1: 84.11<br>Log Loss: 31.6",
          "Gaussian Naive Bayes<br>Performance: 80.97%<br>Model ID: 1077<br>Accuracy: 80.51%<br>Precision: 80.65%<br>Recall: 80.51%<br>ROC AUC: 89.18<br>Geometric Mean: 83.79<br>Matthews Correlation: 68.01<br>F1: 84.11<br>Log Loss: 31.8",
          "Multilayer Perceptron<br>Performance: 79.22%<br>Model ID: 1262<br>Accuracy: 79.85%<br>Precision: 79.92%<br>Recall: 79.85%<br>ROC AUC: 85.88<br>Geometric Mean: 81.86<br>Matthews Correlation: 64.8<br>F1: 82.36<br>Log Loss: 17.56",
          "Multilayer Perceptron<br>Performance: 79.22%<br>Model ID: 1263<br>Accuracy: 79.85%<br>Precision: 79.92%<br>Recall: 79.85%<br>ROC AUC: 85.88<br>Geometric Mean: 81.86<br>Matthews Correlation: 64.8<br>F1: 82.36<br>Log Loss: 17.56",
          "Multilayer Perceptron<br>Performance: 79.22%<br>Model ID: 1261<br>Accuracy: 79.85%<br>Precision: 79.92%<br>Recall: 79.85%<br>ROC AUC: 85.88<br>Geometric Mean: 81.86<br>Matthews Correlation: 64.8<br>F1: 82.36<br>Log Loss: 17.56",
          "Multilayer Perceptron<br>Performance: 79.09%<br>Model ID: 1249<br>Accuracy: 79.52%<br>Precision: 79.59%<br>Recall: 79.52%<br>ROC AUC: 85.97<br>Geometric Mean: 81.86<br>Matthews Correlation: 64.8<br>F1: 82.36<br>Log Loss: 17.17",
          "Multilayer Perceptron<br>Performance: 79.09%<br>Model ID: 1251<br>Accuracy: 79.52%<br>Precision: 79.59%<br>Recall: 79.52%<br>ROC AUC: 85.97<br>Geometric Mean: 81.86<br>Matthews Correlation: 64.8<br>F1: 82.36<br>Log Loss: 17.17",
          "Logistic Regression<br>Performance: 83.67%<br>Model ID: 1677<br>Accuracy: 84.14%<br>Precision: 84.66%<br>Recall: 84.14%<br>ROC AUC: 90.32<br>Geometric Mean: 85.13<br>Matthews Correlation: 71.65<br>F1: 85.67<br>Log Loss: 3.51",
          "Logistic Regression<br>Performance: 83.66%<br>Model ID: 1741<br>Accuracy: 84.46%<br>Precision: 84.98%<br>Recall: 84.46%<br>ROC AUC: 90.58<br>Geometric Mean: 84.83<br>Matthews Correlation: 70.93<br>F1: 85.35<br>Log Loss: 3.37",
          "Logistic Regression<br>Performance: 83.54%<br>Model ID: 1901<br>Accuracy: 83.8%<br>Precision: 84.26%<br>Recall: 83.8%<br>ROC AUC: 90.5<br>Geometric Mean: 85.13<br>Matthews Correlation: 71.65<br>F1: 85.67<br>Log Loss: 3.41",
          "Logistic Regression<br>Performance: 83.53%<br>Model ID: 1773<br>Accuracy: 84.14%<br>Precision: 84.64%<br>Recall: 84.14%<br>ROC AUC: 90.65<br>Geometric Mean: 84.77<br>Matthews Correlation: 71.02<br>F1: 85.33<br>Log Loss: 3.23",
          "Logistic Regression<br>Performance: 83.41%<br>Model ID: 1869<br>Accuracy: 83.48%<br>Precision: 83.92%<br>Recall: 83.48%<br>ROC AUC: 90.54<br>Geometric Mean: 85.07<br>Matthews Correlation: 71.75<br>F1: 85.65<br>Log Loss: 2.97",
          "Linear Discriminant Analysis<br>Performance: 82.31%<br>Model ID: 1997<br>Accuracy: 83.16%<br>Precision: 84.11%<br>Recall: 83.16%<br>ROC AUC: 89.99<br>Geometric Mean: 83.32<br>Matthews Correlation: 68.51<br>F1: 83.94<br>Log Loss: 0.0",
          "Linear Discriminant Analysis<br>Performance: 82.31%<br>Model ID: 1998<br>Accuracy: 83.16%<br>Precision: 84.11%<br>Recall: 83.16%<br>ROC AUC: 89.99<br>Geometric Mean: 83.32<br>Matthews Correlation: 68.51<br>F1: 83.94<br>Log Loss: 0.0",
          "Linear Discriminant Analysis<br>Performance: 73.45%<br>Model ID: 1999<br>Accuracy: 75.89%<br>Precision: 76.41%<br>Recall: 75.89%<br>ROC AUC: 82.6<br>Geometric Mean: 75.39<br>Matthews Correlation: 52.04<br>F1: 75.95<br>Log Loss: 31.9",
          "Linear Discriminant Analysis<br>Performance: 73.45%<br>Model ID: 2000<br>Accuracy: 75.89%<br>Precision: 76.41%<br>Recall: 75.89%<br>ROC AUC: 82.6<br>Geometric Mean: 75.39<br>Matthews Correlation: 52.04<br>F1: 75.95<br>Log Loss: 31.9",
          "Linear Discriminant Analysis<br>Performance: 71.08%<br>Model ID: 2001<br>Accuracy: 74.25%<br>Precision: 74.65%<br>Recall: 74.25%<br>ROC AUC: 79.07<br>Geometric Mean: 73.45<br>Matthews Correlation: 47.92<br>F1: 73.99<br>Log Loss: 41.85",
          "Quadratic Discriminant Analysis<br>Performance: 83.44%<br>Model ID: 2227<br>Accuracy: 81.49%<br>Precision: 81.79%<br>Recall: 81.49%<br>ROC AUC: 88.84<br>Geometric Mean: 87.24<br>Matthews Correlation: 75.55<br>F1: 87.7<br>Log Loss: 0.03",
          "Quadratic Discriminant Analysis<br>Performance: 83.44%<br>Model ID: 2231<br>Accuracy: 81.49%<br>Precision: 81.79%<br>Recall: 81.49%<br>ROC AUC: 88.84<br>Geometric Mean: 87.24<br>Matthews Correlation: 75.55<br>F1: 87.7<br>Log Loss: 0.03",
          "Quadratic Discriminant Analysis<br>Performance: 83.44%<br>Model ID: 2230<br>Accuracy: 81.49%<br>Precision: 81.79%<br>Recall: 81.49%<br>ROC AUC: 88.84<br>Geometric Mean: 87.24<br>Matthews Correlation: 75.55<br>F1: 87.7<br>Log Loss: 0.03",
          "Quadratic Discriminant Analysis<br>Performance: 83.44%<br>Model ID: 2229<br>Accuracy: 81.49%<br>Precision: 81.79%<br>Recall: 81.49%<br>ROC AUC: 88.84<br>Geometric Mean: 87.24<br>Matthews Correlation: 75.55<br>F1: 87.7<br>Log Loss: 0.03",
          "Quadratic Discriminant Analysis<br>Performance: 83.44%<br>Model ID: 2228<br>Accuracy: 81.49%<br>Precision: 81.79%<br>Recall: 81.49%<br>ROC AUC: 88.84<br>Geometric Mean: 87.24<br>Matthews Correlation: 75.55<br>F1: 87.7<br>Log Loss: 0.03",
          "Random Forest<br>Performance: 91.82%<br>Model ID: 2488<br>Accuracy: 84.13%<br>Precision: 84.34%<br>Recall: 84.13%<br>ROC AUC: 90.17<br>Geometric Mean: 100.0<br>Matthews Correlation: 100.0<br>F1: 100.0<br>Log Loss: 59.71",
          "Random Forest<br>Performance: 91.83%<br>Model ID: 2490<br>Accuracy: 84.13%<br>Precision: 84.31%<br>Recall: 84.13%<br>ROC AUC: 90.21<br>Geometric Mean: 100.0<br>Matthews Correlation: 100.0<br>F1: 100.0<br>Log Loss: 52.76",
          "Random Forest<br>Performance: 91.83%<br>Model ID: 2489<br>Accuracy: 84.13%<br>Precision: 84.34%<br>Recall: 84.13%<br>ROC AUC: 90.22<br>Geometric Mean: 100.0<br>Matthews Correlation: 100.0<br>F1: 100.0<br>Log Loss: 54.75",
          "Random Forest<br>Performance: 91.82%<br>Model ID: 2494<br>Accuracy: 84.13%<br>Precision: 84.38%<br>Recall: 84.13%<br>ROC AUC: 90.11<br>Geometric Mean: 100.0<br>Matthews Correlation: 100.0<br>F1: 100.0<br>Log Loss: 58.36",
          "Random Forest<br>Performance: 91.69%<br>Model ID: 2493<br>Accuracy: 83.8%<br>Precision: 84.02%<br>Recall: 83.8%<br>ROC AUC: 90.22<br>Geometric Mean: 100.0<br>Matthews Correlation: 100.0<br>F1: 100.0<br>Log Loss: 57.04",
          "Extra Trees<br>Performance: 92.27%<br>Model ID: 2667<br>Accuracy: 84.81%<br>Precision: 85.07%<br>Recall: 84.81%<br>ROC AUC: 91.22<br>Geometric Mean: 100.0<br>Matthews Correlation: 100.0<br>F1: 100.0<br>Log Loss: 0.0",
          "Extra Trees<br>Performance: 92.24%<br>Model ID: 2659<br>Accuracy: 84.8%<br>Precision: 84.98%<br>Recall: 84.8%<br>ROC AUC: 91.07<br>Geometric Mean: 100.0<br>Matthews Correlation: 100.0<br>F1: 100.0<br>Log Loss: 0.0",
          "Extra Trees<br>Performance: 92.24%<br>Model ID: 2660<br>Accuracy: 84.8%<br>Precision: 84.98%<br>Recall: 84.8%<br>ROC AUC: 91.07<br>Geometric Mean: 100.0<br>Matthews Correlation: 100.0<br>F1: 100.0<br>Log Loss: 0.0",
          "Extra Trees<br>Performance: 92.19%<br>Model ID: 2714<br>Accuracy: 84.48%<br>Precision: 84.59%<br>Recall: 84.48%<br>ROC AUC: 91.8<br>Geometric Mean: 100.0<br>Matthews Correlation: 100.0<br>F1: 100.0<br>Log Loss: 0.0",
          "Extra Trees<br>Performance: 92.19%<br>Model ID: 2715<br>Accuracy: 84.48%<br>Precision: 84.59%<br>Recall: 84.48%<br>ROC AUC: 91.76<br>Geometric Mean: 100.0<br>Matthews Correlation: 100.0<br>F1: 100.0<br>Log Loss: 0.0",
          "Adaptive Boosting<br>Performance: 85.49%<br>Model ID: 2808<br>Accuracy: 80.83%<br>Precision: 81.1%<br>Recall: 80.83%<br>ROC AUC: 87.46<br>Geometric Mean: 92.08<br>Matthews Correlation: 84.06<br>F1: 92.08<br>Log Loss: 91.04",
          "Adaptive Boosting<br>Performance: 85.37%<br>Model ID: 2845<br>Accuracy: 80.16%<br>Precision: 80.31%<br>Recall: 80.16%<br>ROC AUC: 83.52<br>Geometric Mean: 93.35<br>Matthews Correlation: 86.69<br>F1: 93.4<br>Log Loss: 99.49",
          "Adaptive Boosting<br>Performance: 85.29%<br>Model ID: 2811<br>Accuracy: 80.5%<br>Precision: 80.76%<br>Recall: 80.5%<br>ROC AUC: 86.95<br>Geometric Mean: 92.13<br>Matthews Correlation: 84.1<br>F1: 92.09<br>Log Loss: 92.25",
          "Adaptive Boosting<br>Performance: 85.19%<br>Model ID: 2812<br>Accuracy: 80.16%<br>Precision: 80.52%<br>Recall: 80.16%<br>ROC AUC: 87.19<br>Geometric Mean: 92.13<br>Matthews Correlation: 84.1<br>F1: 92.09<br>Log Loss: 92.14",
          "Adaptive Boosting<br>Performance: 85.18%<br>Model ID: 2809<br>Accuracy: 80.17%<br>Precision: 80.42%<br>Recall: 80.17%<br>ROC AUC: 87.3<br>Geometric Mean: 92.08<br>Matthews Correlation: 84.06<br>F1: 92.08<br>Log Loss: 91.13",
          "Gradient Boosting<br>Performance: 89.77%<br>Model ID: 3030<br>Accuracy: 80.83%<br>Precision: 81.59%<br>Recall: 80.83%<br>ROC AUC: 87.84<br>Geometric Mean: 99.28<br>Matthews Correlation: 98.68<br>F1: 99.34<br>Log Loss: 3.39",
          "Gradient Boosting<br>Performance: 89.76%<br>Model ID: 3029<br>Accuracy: 80.83%<br>Precision: 81.59%<br>Recall: 80.83%<br>ROC AUC: 87.8<br>Geometric Mean: 99.28<br>Matthews Correlation: 98.68<br>F1: 99.34<br>Log Loss: 3.61",
          "Gradient Boosting<br>Performance: 89.76%<br>Model ID: 2969<br>Accuracy: 80.83%<br>Precision: 81.59%<br>Recall: 80.83%<br>ROC AUC: 87.77<br>Geometric Mean: 99.28<br>Matthews Correlation: 98.68<br>F1: 99.34<br>Log Loss: 3.61",
          "Gradient Boosting<br>Performance: 89.77%<br>Model ID: 2970<br>Accuracy: 80.83%<br>Precision: 81.59%<br>Recall: 80.83%<br>ROC AUC: 87.82<br>Geometric Mean: 99.28<br>Matthews Correlation: 98.68<br>F1: 99.34<br>Log Loss: 3.39",
          "Gradient Boosting<br>Performance: 89.75%<br>Model ID: 3026<br>Accuracy: 80.83%<br>Precision: 81.45%<br>Recall: 80.83%<br>ROC AUC: 87.84<br>Geometric Mean: 99.28<br>Matthews Correlation: 98.68<br>F1: 99.34<br>Log Loss: 4.1",
          "K-Nearest Neighbor<br>Performance: 87.44%<br>Model ID: meta_1<br>Accuracy: 89.11%<br>Precision: 89.41%<br>Recall: 89.11%<br>ROC AUC: 88.58<br>Geometric Mean: 88.58<br>Matthews Correlation: 78.24<br>F1: 89.03<br>Log Loss: 376.17",
          "Support Vector Machine<br>Performance: 92.41%<br>Model ID: meta_2<br>Accuracy: 93.4%<br>Precision: 93.4%<br>Recall: 93.4%<br>ROC AUC: 93.29<br>Geometric Mean: 93.29<br>Matthews Correlation: 86.68<br>F1: 93.4<br>Log Loss: 227.98",
          "Gaussian Naive Bayes<br>Performance: 93.21%<br>Model ID: meta_3<br>Accuracy: 94.06%<br>Precision: 94.07%<br>Recall: 94.06%<br>ROC AUC: 94.07<br>Geometric Mean: 94.07<br>Matthews Correlation: 88.05<br>F1: 94.06<br>Log Loss: 205.18",
          "Multilayer Perceptron<br>Performance: 100.0%<br>Model ID: meta_4<br>Accuracy: 100.0%<br>Precision: 100.0%<br>Recall: 100.0%<br>ROC AUC: 100.0<br>Geometric Mean: 100.0<br>Matthews Correlation: 100.0<br>F1: 100.0<br>Log Loss: 0.0",
          "Logistic Regression<br>Performance: 100.0%<br>Model ID: meta_5<br>Accuracy: 100.0%<br>Precision: 100.0%<br>Recall: 100.0%<br>ROC AUC: 100.0<br>Geometric Mean: 100.0<br>Matthews Correlation: 100.0<br>F1: 100.0<br>Log Loss: 0.0",
          "Linear Discriminant Analysis<br>Performance: 98.85%<br>Model ID: meta_6<br>Accuracy: 99.01%<br>Precision: 99.01%<br>Recall: 99.01%<br>ROC AUC: 98.97<br>Geometric Mean: 98.97<br>Matthews Correlation: 98.0<br>F1: 99.01<br>Log Loss: 34.2",
          "Quadratic Discriminant Analysis<br>Performance: 91.25%<br>Model ID: meta_7<br>Accuracy: 92.41%<br>Precision: 92.43%<br>Recall: 92.41%<br>ROC AUC: 92.2<br>Geometric Mean: 92.2<br>Matthews Correlation: 84.7<br>F1: 92.4<br>Log Loss: 262.18",
          "Random Forest<br>Performance: 90.91%<br>Model ID: meta_8<br>Accuracy: 92.08%<br>Precision: 92.08%<br>Recall: 92.08%<br>ROC AUC: 92.02<br>Geometric Mean: 92.02<br>Matthews Correlation: 84.03<br>F1: 92.08<br>Log Loss: 273.58",
          "Extra Trees<br>Performance: 96.33%<br>Model ID: meta_9<br>Accuracy: 96.7%<br>Precision: 96.85%<br>Recall: 96.7%<br>ROC AUC: 96.91<br>Geometric Mean: 96.91<br>Matthews Correlation: 93.51<br>F1: 96.71<br>Log Loss: 113.99",
          "Adaptive Boosting<br>Performance: 93.03%<br>Model ID: meta_10<br>Accuracy: 93.73%<br>Precision: 94.1%<br>Recall: 93.73%<br>ROC AUC: 94.06<br>Geometric Mean: 94.06<br>Matthews Correlation: 87.78<br>F1: 93.74<br>Log Loss: 216.58",
          "Gradient Boosting<br>Performance: 93.55%<br>Model ID: meta_11<br>Accuracy: 94.39%<br>Precision: 94.39%<br>Recall: 94.39%<br>ROC AUC: 94.31<br>Geometric Mean: 94.31<br>Matthews Correlation: 88.68<br>F1: 94.39<br>Log Loss: 193.78"
         ],
         "marker": {
          "color": [
           83.35,
           83.28,
           83.13,
           83.13,
           83.11,
           83.1,
           83.08,
           83.08,
           83.09,
           83.07,
           80.97,
           80.97,
           80.97,
           80.97,
           80.97,
           79.22,
           79.22,
           79.22,
           79.09,
           79.09,
           83.67,
           83.66,
           83.54,
           83.53,
           83.41,
           82.31,
           82.31,
           73.45,
           73.45,
           71.08,
           83.44,
           83.44,
           83.44,
           83.44,
           83.44,
           91.82,
           91.83,
           91.83,
           91.82,
           91.69,
           92.27,
           92.24,
           92.24,
           92.19,
           92.19,
           85.49,
           85.37,
           85.29,
           85.19,
           85.18,
           89.77,
           89.76,
           89.76,
           89.77,
           89.75,
           87.44,
           92.41,
           93.21,
           100,
           100,
           98.85,
           91.25,
           90.91,
           96.33,
           93.03,
           93.55
          ],
          "coloraxis": "coloraxis",
          "line": {
           "color": "Black",
           "width": 1
          },
          "opacity": 0.8,
          "size": [
           20,
           20,
           20,
           20,
           20,
           20,
           20,
           20,
           20,
           20,
           20,
           20,
           20,
           20,
           20,
           20,
           20,
           20,
           20,
           20,
           20,
           20,
           20,
           20,
           20,
           20,
           20,
           20,
           20,
           20,
           20,
           20,
           20,
           20,
           20,
           20,
           20,
           20,
           20,
           20,
           20,
           20,
           20,
           20,
           20,
           20,
           20,
           20,
           20,
           20,
           20,
           20,
           20,
           20,
           20,
           40,
           40,
           40,
           40,
           40,
           40,
           40,
           40,
           40,
           40,
           40
          ],
          "symbol": [
           "circle",
           "circle",
           "circle",
           "circle",
           "circle",
           "square",
           "square",
           "square",
           "square",
           "square",
           "x",
           "x",
           "x",
           "x",
           "x",
           "cross",
           "cross",
           "cross",
           "cross",
           "cross",
           "diamond",
           "diamond",
           "diamond",
           "diamond",
           "diamond",
           "star",
           "star",
           "star",
           "star",
           "star",
           "hexagram",
           "hexagram",
           "hexagram",
           "hexagram",
           "hexagram",
           "triangle-right",
           "triangle-right",
           "triangle-right",
           "triangle-right",
           "triangle-right",
           "triangle-left",
           "triangle-left",
           "triangle-left",
           "triangle-left",
           "triangle-left",
           "triangle-down",
           "triangle-down",
           "triangle-down",
           "triangle-down",
           "triangle-down",
           "triangle-up",
           "triangle-up",
           "triangle-up",
           "triangle-up",
           "triangle-up",
           "circle",
           "square",
           "x",
           "cross",
           "diamond",
           "star",
           "hexagram",
           "triangle-right",
           "triangle-left",
           "triangle-down",
           "triangle-up"
          ]
         },
         "mode": "markers",
         "type": "scatter",
         "x": [
          8.710492134094238,
          8.091594696044922,
          9.05278491973877,
          8.513151168823242,
          8.580646514892578,
          -4.702370643615723,
          -5.3164191246032715,
          -4.867832183837891,
          -5.439308166503906,
          -5.0848870277404785,
          4.614865303039551,
          5.422450542449951,
          4.881943702697754,
          5.087875843048096,
          5.2016801834106445,
          11.236841201782227,
          10.699124336242676,
          11.254261016845703,
          10.624305725097656,
          11.072591781616211,
          -5.12440299987793,
          -4.761828422546387,
          -5.392446041107178,
          -4.454460620880127,
          -5.333645820617676,
          -4.046163558959961,
          -3.98286509513855,
          10.965417861938477,
          11.409708023071289,
          11.209720611572266,
          26.5087947845459,
          26.200387954711914,
          26.278413772583008,
          26.885358810424805,
          26.673402786254883,
          14.498785972595215,
          13.958629608154297,
          14.150300025939941,
          14.47150993347168,
          14.298381805419922,
          19.162878036499023,
          18.57840919494629,
          18.496185302734375,
          18.87051010131836,
          18.93390655517578,
          10.953865051269531,
          10.082236289978027,
          10.530864715576172,
          10.321430206298828,
          10.612687110900879,
          24.885751724243164,
          24.438251495361328,
          24.498001098632812,
          24.715709686279297,
          25.112648010253906,
          5.593515396118164,
          6.881519794464111,
          7.128559589385986,
          9.026981353759766,
          9.410353660583496,
          8.947378158569336,
          6.422628402709961,
          6.073405742645264,
          8.193127632141113,
          7.321857929229736,
          7.531433582305908
         ],
         "xaxis": "x2",
         "y": [
          24.039005279541016,
          24.276681900024414,
          24.46650505065918,
          24.82437515258789,
          24.41258430480957,
          -1.6509050130844116,
          -1.874436378479004,
          -2.3929550647735596,
          -2.1832962036132812,
          -1.6407052278518677,
          0.7541667222976685,
          1.5613603591918945,
          1.0208467245101929,
          1.2269666194915771,
          1.3410288095474243,
          21.22598648071289,
          20.984262466430664,
          21.017614364624023,
          20.52182960510254,
          20.542024612426758,
          -4.548967361450195,
          -3.992918014526367,
          -4.026655673980713,
          -4.345800876617432,
          -3.253734827041626,
          -3.889514446258545,
          -4.113964080810547,
          19.57039451599121,
          19.49492835998535,
          19.143198013305664,
          5.945863246917725,
          5.637427806854248,
          5.715312480926514,
          6.3224029541015625,
          6.110365867614746,
          -2.440253496170044,
          -2.980628252029419,
          -2.7887356281280518,
          -2.4670023918151855,
          -2.640064239501953,
          1.9296472072601318,
          2.5138590335845947,
          2.597050905227661,
          2.2212154865264893,
          2.1579627990722656,
          -8.964061737060547,
          -8.81525993347168,
          -8.724379539489746,
          -9.131237030029297,
          -9.383368492126465,
          -13.405036926269531,
          -12.95828914642334,
          -13.018247604370117,
          -13.235801696777344,
          -13.632570266723633,
          -6.389123439788818,
          -6.148348808288574,
          -5.9583048820495605,
          -5.338016033172607,
          -5.43541145324707,
          -5.826300144195557,
          -6.534180641174316,
          -6.385278701782227,
          -5.78849458694458,
          -6.462540149688721,
          -5.6469621658325195
         ],
         "yaxis": "y2"
        }
       ],
       "layout": {
        "annotations": [
         {
          "font": {
           "size": 16
          },
          "showarrow": false,
          "text": "UMAP Probabilities",
          "x": 0.2425,
          "xanchor": "center",
          "xref": "paper",
          "y": 1,
          "yanchor": "bottom",
          "yref": "paper"
         },
         {
          "font": {
           "size": 16
          },
          "showarrow": false,
          "text": "UMAP Performance metrics",
          "x": 0.7575000000000001,
          "xanchor": "center",
          "xref": "paper",
          "y": 1,
          "yanchor": "bottom",
          "yref": "paper"
         }
        ],
        "coloraxis": {
         "colorscale": [
          [
           0,
           "#440154"
          ],
          [
           0.1111111111111111,
           "#482878"
          ],
          [
           0.2222222222222222,
           "#3e4989"
          ],
          [
           0.3333333333333333,
           "#31688e"
          ],
          [
           0.4444444444444444,
           "#26828e"
          ],
          [
           0.5555555555555556,
           "#1f9e89"
          ],
          [
           0.6666666666666666,
           "#35b779"
          ],
          [
           0.7777777777777778,
           "#6ece58"
          ],
          [
           0.8888888888888888,
           "#b5de2b"
          ],
          [
           1,
           "#fde725"
          ]
         ]
        },
        "height": 600,
        "hoverlabel": {
         "bgcolor": "white",
         "font": {
          "family": "Rockwell",
          "size": 14
         }
        },
        "hovermode": "closest",
        "showlegend": false,
        "template": {
         "data": {
          "bar": [
           {
            "error_x": {
             "color": "#2a3f5f"
            },
            "error_y": {
             "color": "#2a3f5f"
            },
            "marker": {
             "line": {
              "color": "#E5ECF6",
              "width": 0.5
             },
             "pattern": {
              "fillmode": "overlay",
              "size": 10,
              "solidity": 0.2
             }
            },
            "type": "bar"
           }
          ],
          "barpolar": [
           {
            "marker": {
             "line": {
              "color": "#E5ECF6",
              "width": 0.5
             },
             "pattern": {
              "fillmode": "overlay",
              "size": 10,
              "solidity": 0.2
             }
            },
            "type": "barpolar"
           }
          ],
          "carpet": [
           {
            "aaxis": {
             "endlinecolor": "#2a3f5f",
             "gridcolor": "white",
             "linecolor": "white",
             "minorgridcolor": "white",
             "startlinecolor": "#2a3f5f"
            },
            "baxis": {
             "endlinecolor": "#2a3f5f",
             "gridcolor": "white",
             "linecolor": "white",
             "minorgridcolor": "white",
             "startlinecolor": "#2a3f5f"
            },
            "type": "carpet"
           }
          ],
          "choropleth": [
           {
            "colorbar": {
             "outlinewidth": 0,
             "ticks": ""
            },
            "type": "choropleth"
           }
          ],
          "contour": [
           {
            "colorbar": {
             "outlinewidth": 0,
             "ticks": ""
            },
            "colorscale": [
             [
              0,
              "#0d0887"
             ],
             [
              0.1111111111111111,
              "#46039f"
             ],
             [
              0.2222222222222222,
              "#7201a8"
             ],
             [
              0.3333333333333333,
              "#9c179e"
             ],
             [
              0.4444444444444444,
              "#bd3786"
             ],
             [
              0.5555555555555556,
              "#d8576b"
             ],
             [
              0.6666666666666666,
              "#ed7953"
             ],
             [
              0.7777777777777778,
              "#fb9f3a"
             ],
             [
              0.8888888888888888,
              "#fdca26"
             ],
             [
              1,
              "#f0f921"
             ]
            ],
            "type": "contour"
           }
          ],
          "contourcarpet": [
           {
            "colorbar": {
             "outlinewidth": 0,
             "ticks": ""
            },
            "type": "contourcarpet"
           }
          ],
          "heatmap": [
           {
            "colorbar": {
             "outlinewidth": 0,
             "ticks": ""
            },
            "colorscale": [
             [
              0,
              "#0d0887"
             ],
             [
              0.1111111111111111,
              "#46039f"
             ],
             [
              0.2222222222222222,
              "#7201a8"
             ],
             [
              0.3333333333333333,
              "#9c179e"
             ],
             [
              0.4444444444444444,
              "#bd3786"
             ],
             [
              0.5555555555555556,
              "#d8576b"
             ],
             [
              0.6666666666666666,
              "#ed7953"
             ],
             [
              0.7777777777777778,
              "#fb9f3a"
             ],
             [
              0.8888888888888888,
              "#fdca26"
             ],
             [
              1,
              "#f0f921"
             ]
            ],
            "type": "heatmap"
           }
          ],
          "heatmapgl": [
           {
            "colorbar": {
             "outlinewidth": 0,
             "ticks": ""
            },
            "colorscale": [
             [
              0,
              "#0d0887"
             ],
             [
              0.1111111111111111,
              "#46039f"
             ],
             [
              0.2222222222222222,
              "#7201a8"
             ],
             [
              0.3333333333333333,
              "#9c179e"
             ],
             [
              0.4444444444444444,
              "#bd3786"
             ],
             [
              0.5555555555555556,
              "#d8576b"
             ],
             [
              0.6666666666666666,
              "#ed7953"
             ],
             [
              0.7777777777777778,
              "#fb9f3a"
             ],
             [
              0.8888888888888888,
              "#fdca26"
             ],
             [
              1,
              "#f0f921"
             ]
            ],
            "type": "heatmapgl"
           }
          ],
          "histogram": [
           {
            "marker": {
             "pattern": {
              "fillmode": "overlay",
              "size": 10,
              "solidity": 0.2
             }
            },
            "type": "histogram"
           }
          ],
          "histogram2d": [
           {
            "colorbar": {
             "outlinewidth": 0,
             "ticks": ""
            },
            "colorscale": [
             [
              0,
              "#0d0887"
             ],
             [
              0.1111111111111111,
              "#46039f"
             ],
             [
              0.2222222222222222,
              "#7201a8"
             ],
             [
              0.3333333333333333,
              "#9c179e"
             ],
             [
              0.4444444444444444,
              "#bd3786"
             ],
             [
              0.5555555555555556,
              "#d8576b"
             ],
             [
              0.6666666666666666,
              "#ed7953"
             ],
             [
              0.7777777777777778,
              "#fb9f3a"
             ],
             [
              0.8888888888888888,
              "#fdca26"
             ],
             [
              1,
              "#f0f921"
             ]
            ],
            "type": "histogram2d"
           }
          ],
          "histogram2dcontour": [
           {
            "colorbar": {
             "outlinewidth": 0,
             "ticks": ""
            },
            "colorscale": [
             [
              0,
              "#0d0887"
             ],
             [
              0.1111111111111111,
              "#46039f"
             ],
             [
              0.2222222222222222,
              "#7201a8"
             ],
             [
              0.3333333333333333,
              "#9c179e"
             ],
             [
              0.4444444444444444,
              "#bd3786"
             ],
             [
              0.5555555555555556,
              "#d8576b"
             ],
             [
              0.6666666666666666,
              "#ed7953"
             ],
             [
              0.7777777777777778,
              "#fb9f3a"
             ],
             [
              0.8888888888888888,
              "#fdca26"
             ],
             [
              1,
              "#f0f921"
             ]
            ],
            "type": "histogram2dcontour"
           }
          ],
          "mesh3d": [
           {
            "colorbar": {
             "outlinewidth": 0,
             "ticks": ""
            },
            "type": "mesh3d"
           }
          ],
          "parcoords": [
           {
            "line": {
             "colorbar": {
              "outlinewidth": 0,
              "ticks": ""
             }
            },
            "type": "parcoords"
           }
          ],
          "pie": [
           {
            "automargin": true,
            "type": "pie"
           }
          ],
          "scatter": [
           {
            "fillpattern": {
             "fillmode": "overlay",
             "size": 10,
             "solidity": 0.2
            },
            "type": "scatter"
           }
          ],
          "scatter3d": [
           {
            "line": {
             "colorbar": {
              "outlinewidth": 0,
              "ticks": ""
             }
            },
            "marker": {
             "colorbar": {
              "outlinewidth": 0,
              "ticks": ""
             }
            },
            "type": "scatter3d"
           }
          ],
          "scattercarpet": [
           {
            "marker": {
             "colorbar": {
              "outlinewidth": 0,
              "ticks": ""
             }
            },
            "type": "scattercarpet"
           }
          ],
          "scattergeo": [
           {
            "marker": {
             "colorbar": {
              "outlinewidth": 0,
              "ticks": ""
             }
            },
            "type": "scattergeo"
           }
          ],
          "scattergl": [
           {
            "marker": {
             "colorbar": {
              "outlinewidth": 0,
              "ticks": ""
             }
            },
            "type": "scattergl"
           }
          ],
          "scattermapbox": [
           {
            "marker": {
             "colorbar": {
              "outlinewidth": 0,
              "ticks": ""
             }
            },
            "type": "scattermapbox"
           }
          ],
          "scatterpolar": [
           {
            "marker": {
             "colorbar": {
              "outlinewidth": 0,
              "ticks": ""
             }
            },
            "type": "scatterpolar"
           }
          ],
          "scatterpolargl": [
           {
            "marker": {
             "colorbar": {
              "outlinewidth": 0,
              "ticks": ""
             }
            },
            "type": "scatterpolargl"
           }
          ],
          "scatterternary": [
           {
            "marker": {
             "colorbar": {
              "outlinewidth": 0,
              "ticks": ""
             }
            },
            "type": "scatterternary"
           }
          ],
          "surface": [
           {
            "colorbar": {
             "outlinewidth": 0,
             "ticks": ""
            },
            "colorscale": [
             [
              0,
              "#0d0887"
             ],
             [
              0.1111111111111111,
              "#46039f"
             ],
             [
              0.2222222222222222,
              "#7201a8"
             ],
             [
              0.3333333333333333,
              "#9c179e"
             ],
             [
              0.4444444444444444,
              "#bd3786"
             ],
             [
              0.5555555555555556,
              "#d8576b"
             ],
             [
              0.6666666666666666,
              "#ed7953"
             ],
             [
              0.7777777777777778,
              "#fb9f3a"
             ],
             [
              0.8888888888888888,
              "#fdca26"
             ],
             [
              1,
              "#f0f921"
             ]
            ],
            "type": "surface"
           }
          ],
          "table": [
           {
            "cells": {
             "fill": {
              "color": "#EBF0F8"
             },
             "line": {
              "color": "white"
             }
            },
            "header": {
             "fill": {
              "color": "#C8D4E3"
             },
             "line": {
              "color": "white"
             }
            },
            "type": "table"
           }
          ]
         },
         "layout": {
          "annotationdefaults": {
           "arrowcolor": "#2a3f5f",
           "arrowhead": 0,
           "arrowwidth": 1
          },
          "autotypenumbers": "strict",
          "coloraxis": {
           "colorbar": {
            "outlinewidth": 0,
            "ticks": ""
           }
          },
          "colorscale": {
           "diverging": [
            [
             0,
             "#8e0152"
            ],
            [
             0.1,
             "#c51b7d"
            ],
            [
             0.2,
             "#de77ae"
            ],
            [
             0.3,
             "#f1b6da"
            ],
            [
             0.4,
             "#fde0ef"
            ],
            [
             0.5,
             "#f7f7f7"
            ],
            [
             0.6,
             "#e6f5d0"
            ],
            [
             0.7,
             "#b8e186"
            ],
            [
             0.8,
             "#7fbc41"
            ],
            [
             0.9,
             "#4d9221"
            ],
            [
             1,
             "#276419"
            ]
           ],
           "sequential": [
            [
             0,
             "#0d0887"
            ],
            [
             0.1111111111111111,
             "#46039f"
            ],
            [
             0.2222222222222222,
             "#7201a8"
            ],
            [
             0.3333333333333333,
             "#9c179e"
            ],
            [
             0.4444444444444444,
             "#bd3786"
            ],
            [
             0.5555555555555556,
             "#d8576b"
            ],
            [
             0.6666666666666666,
             "#ed7953"
            ],
            [
             0.7777777777777778,
             "#fb9f3a"
            ],
            [
             0.8888888888888888,
             "#fdca26"
            ],
            [
             1,
             "#f0f921"
            ]
           ],
           "sequentialminus": [
            [
             0,
             "#0d0887"
            ],
            [
             0.1111111111111111,
             "#46039f"
            ],
            [
             0.2222222222222222,
             "#7201a8"
            ],
            [
             0.3333333333333333,
             "#9c179e"
            ],
            [
             0.4444444444444444,
             "#bd3786"
            ],
            [
             0.5555555555555556,
             "#d8576b"
            ],
            [
             0.6666666666666666,
             "#ed7953"
            ],
            [
             0.7777777777777778,
             "#fb9f3a"
            ],
            [
             0.8888888888888888,
             "#fdca26"
            ],
            [
             1,
             "#f0f921"
            ]
           ]
          },
          "colorway": [
           "#636efa",
           "#EF553B",
           "#00cc96",
           "#ab63fa",
           "#FFA15A",
           "#19d3f3",
           "#FF6692",
           "#B6E880",
           "#FF97FF",
           "#FECB52"
          ],
          "font": {
           "color": "#2a3f5f"
          },
          "geo": {
           "bgcolor": "white",
           "lakecolor": "white",
           "landcolor": "#E5ECF6",
           "showlakes": true,
           "showland": true,
           "subunitcolor": "white"
          },
          "hoverlabel": {
           "align": "left"
          },
          "hovermode": "closest",
          "mapbox": {
           "style": "light"
          },
          "paper_bgcolor": "white",
          "plot_bgcolor": "#E5ECF6",
          "polar": {
           "angularaxis": {
            "gridcolor": "white",
            "linecolor": "white",
            "ticks": ""
           },
           "bgcolor": "#E5ECF6",
           "radialaxis": {
            "gridcolor": "white",
            "linecolor": "white",
            "ticks": ""
           }
          },
          "scene": {
           "xaxis": {
            "backgroundcolor": "#E5ECF6",
            "gridcolor": "white",
            "gridwidth": 2,
            "linecolor": "white",
            "showbackground": true,
            "ticks": "",
            "zerolinecolor": "white"
           },
           "yaxis": {
            "backgroundcolor": "#E5ECF6",
            "gridcolor": "white",
            "gridwidth": 2,
            "linecolor": "white",
            "showbackground": true,
            "ticks": "",
            "zerolinecolor": "white"
           },
           "zaxis": {
            "backgroundcolor": "#E5ECF6",
            "gridcolor": "white",
            "gridwidth": 2,
            "linecolor": "white",
            "showbackground": true,
            "ticks": "",
            "zerolinecolor": "white"
           }
          },
          "shapedefaults": {
           "line": {
            "color": "#2a3f5f"
           }
          },
          "ternary": {
           "aaxis": {
            "gridcolor": "white",
            "linecolor": "white",
            "ticks": ""
           },
           "baxis": {
            "gridcolor": "white",
            "linecolor": "white",
            "ticks": ""
           },
           "bgcolor": "#E5ECF6",
           "caxis": {
            "gridcolor": "white",
            "linecolor": "white",
            "ticks": ""
           }
          },
          "title": {
           "x": 0.05
          },
          "xaxis": {
           "automargin": true,
           "gridcolor": "white",
           "linecolor": "white",
           "ticks": "",
           "title": {
            "standoff": 15
           },
           "zerolinecolor": "white",
           "zerolinewidth": 2
          },
          "yaxis": {
           "automargin": true,
           "gridcolor": "white",
           "linecolor": "white",
           "ticks": "",
           "title": {
            "standoff": 15
           },
           "zerolinecolor": "white",
           "zerolinewidth": 2
          }
         }
        },
        "updatemenus": [
         {
          "active": 0,
          "buttons": [
           {
            "args": [
             {
              "visible": [
               true,
               false,
               false,
               false,
               false,
               false,
               false,
               false,
               false,
               false,
               false,
               false,
               false,
               true
              ]
             }
            ],
            "label": "number of neighbours 3",
            "method": "update"
           },
           {
            "args": [
             {
              "visible": [
               false,
               true,
               false,
               false,
               false,
               false,
               false,
               false,
               false,
               false,
               false,
               false,
               false,
               true
              ]
             }
            ],
            "label": "number of neighbours 4",
            "method": "update"
           },
           {
            "args": [
             {
              "visible": [
               false,
               false,
               true,
               false,
               false,
               false,
               false,
               false,
               false,
               false,
               false,
               false,
               false,
               true
              ]
             }
            ],
            "label": "number of neighbours 5",
            "method": "update"
           },
           {
            "args": [
             {
              "visible": [
               false,
               false,
               false,
               true,
               false,
               false,
               false,
               false,
               false,
               false,
               false,
               false,
               false,
               true
              ]
             }
            ],
            "label": "number of neighbours 6",
            "method": "update"
           },
           {
            "args": [
             {
              "visible": [
               false,
               false,
               false,
               false,
               true,
               false,
               false,
               false,
               false,
               false,
               false,
               false,
               false,
               true
              ]
             }
            ],
            "label": "number of neighbours 7",
            "method": "update"
           },
           {
            "args": [
             {
              "visible": [
               false,
               false,
               false,
               false,
               false,
               true,
               false,
               false,
               false,
               false,
               false,
               false,
               false,
               true
              ]
             }
            ],
            "label": "number of neighbours 8",
            "method": "update"
           },
           {
            "args": [
             {
              "visible": [
               false,
               false,
               false,
               false,
               false,
               false,
               true,
               false,
               false,
               false,
               false,
               false,
               false,
               true
              ]
             }
            ],
            "label": "number of neighbours 9",
            "method": "update"
           },
           {
            "args": [
             {
              "visible": [
               false,
               false,
               false,
               false,
               false,
               false,
               false,
               true,
               false,
               false,
               false,
               false,
               false,
               true
              ]
             }
            ],
            "label": "number of neighbours 10",
            "method": "update"
           },
           {
            "args": [
             {
              "visible": [
               false,
               false,
               false,
               false,
               false,
               false,
               false,
               false,
               true,
               false,
               false,
               false,
               false,
               true
              ]
             }
            ],
            "label": "number of neighbours 11",
            "method": "update"
           },
           {
            "args": [
             {
              "visible": [
               false,
               false,
               false,
               false,
               false,
               false,
               false,
               false,
               false,
               true,
               false,
               false,
               false,
               true
              ]
             }
            ],
            "label": "number of neighbours 12",
            "method": "update"
           },
           {
            "args": [
             {
              "visible": [
               false,
               false,
               false,
               false,
               false,
               false,
               false,
               false,
               false,
               false,
               true,
               false,
               false,
               true
              ]
             }
            ],
            "label": "number of neighbours 13",
            "method": "update"
           },
           {
            "args": [
             {
              "visible": [
               false,
               false,
               false,
               false,
               false,
               false,
               false,
               false,
               false,
               false,
               false,
               true,
               false,
               true
              ]
             }
            ],
            "label": "number of neighbours 14",
            "method": "update"
           },
           {
            "args": [
             {
              "visible": [
               false,
               false,
               false,
               false,
               false,
               false,
               false,
               false,
               false,
               false,
               false,
               false,
               true,
               true
              ]
             }
            ],
            "label": "number of neighbours 15",
            "method": "update"
           },
           {
            "args": [
             {
              "visible": [
               false,
               false,
               false,
               false,
               false,
               false,
               false,
               false,
               false,
               false,
               false,
               false,
               false,
               true
              ]
             }
            ],
            "label": "number of neighbours 16",
            "method": "update"
           }
          ],
          "direction": "right",
          "showactive": true
         }
        ],
        "width": 1200,
        "xaxis": {
         "anchor": "y",
         "domain": [
          0,
          0.485
         ],
         "showticklabels": false
        },
        "xaxis2": {
         "anchor": "y2",
         "domain": [
          0.515,
          1
         ],
         "matches": "x"
        },
        "yaxis": {
         "anchor": "x",
         "domain": [
          0,
          1
         ],
         "showticklabels": false
        },
        "yaxis2": {
         "anchor": "x2",
         "domain": [
          0,
          1
         ],
         "matches": "y",
         "showticklabels": false
        }
       }
      }
     },
     "metadata": {},
     "output_type": "display_data"
    }
   ],
   "source": [
    "fig = go.Figure()\n",
    "\n",
    "symbols = ['circle', 'square', 'x', 'cross', 'diamond', 'star', 'hexagram', 'triangle-right', 'triangle-left', 'triangle-down', 'triangle-up']\n",
    "# convert symbols to dictionary with keys from 1 to 11\n",
    "symbols_dict = dict(zip(range(1, 12), symbols))\n",
    "\n",
    "fig = make_subplots(rows=1, cols=2, subplot_titles=('UMAP Probabilities', 'UMAP Performance metrics'), shared_yaxes='all', shared_xaxes='all',\n",
    "                    vertical_spacing=0.03, horizontal_spacing=0.03, specs=[[{'type': 'xy'}, {'type': 'xy'}]])\n",
    "\n",
    "# Plot UMAP, add hovertext and symbols, define colorscale by performance, add title\n",
    "for i in range(3, 16):\n",
    "    fig.add_trace(go.Scatter(x=df_model_all[f'UMAP_1_prob_{i}'], y=df_model_all[f'UMAP_2_prob_{i}'], mode='markers', hovertext=df_model_all['text'], \n",
    "                marker=dict(size=df_model_all['size']*20, symbol = df_model_all['algorithm_id'].map(symbols_dict), \n",
    "                color=df_model_all['overall_performance'], coloraxis='coloraxis')), row=1, col=1)\n",
    "\n",
    "\n",
    "fig.add_trace(go.Scatter(x=df_model_all['UMAP_1_metrics'], y=df_model_all['UMAP_2_metrics'], mode='markers', hovertext=df_model_all['text'], \n",
    "            marker=dict(size=df_model_all['size']*20, symbol = df_model_all['algorithm_id'].map(symbols_dict), \n",
    "            color=df_model_all['overall_performance'], coloraxis='coloraxis')), row=1, col=2)\n",
    "\n",
    "\n",
    "def create_layout_button(n):\n",
    "    list = [False] * 14\n",
    "    list[n] = True\n",
    "    list[-1] = True\n",
    "    return dict(label = f'number of neighbours {n+3}',\n",
    "                method = 'update',\n",
    "                args = [{'visible': list}])\n",
    "\n",
    "fig.update_layout(\n",
    "        updatemenus=[go.layout.Updatemenu(\n",
    "            active = 0,\n",
    "            buttons = [create_layout_button(i) for i in range(14)],\n",
    "            direction = 'right',\n",
    "            showactive = True)])\n",
    "\n",
    "# remove axes labels\n",
    "fig.update_layout(xaxis_showticklabels=False, yaxis_showticklabels=False)\n",
    "fig.update_traces(marker=dict(opacity=0.8, line=dict(width=1, color='Black')), selector=dict(mode='markers'))\n",
    "# define symbols for markers based on symbols defined\n",
    "fig.update_layout(hoverlabel=dict(bgcolor=\"white\", font_size=14, font_family=\"Rockwell\"), hovermode='closest')\n",
    "# define plot as square\n",
    "fig.update_layout(width=1200, height=600)\n",
    "# add tooltip\n",
    "fig.update_layout(hovermode='closest')\n",
    "fig.update_layout(coloraxis=dict(colorscale='Viridis'), showlegend=False)\n",
    "\n",
    "fig.show()"
   ]
  },
  {
   "cell_type": "markdown",
   "metadata": {},
   "source": [
    "### Scatter plot matrix with Correlation"
   ]
  },
  {
   "cell_type": "markdown",
   "metadata": {},
   "source": [
    "We will operate further only with prediction results, which are not the same for the all 11 meta models; the main idea is to investigate the differencies and combinations of different metamodels. That can be cosidered as feature engineering to df_pred_meta dataframe (dataframe with all 11 meta models predictions per instance) to keep only the columns, which are not the same for all 11 meta models."
   ]
  },
  {
   "cell_type": "code",
   "execution_count": 161,
   "metadata": {},
   "outputs": [
    {
     "data": {
      "text/html": [
       "<div>\n",
       "<style scoped>\n",
       "    .dataframe tbody tr th:only-of-type {\n",
       "        vertical-align: middle;\n",
       "    }\n",
       "\n",
       "    .dataframe tbody tr th {\n",
       "        vertical-align: top;\n",
       "    }\n",
       "\n",
       "    .dataframe thead th {\n",
       "        text-align: right;\n",
       "    }\n",
       "</style>\n",
       "<table border=\"1\" class=\"dataframe\">\n",
       "  <thead>\n",
       "    <tr style=\"text-align: right;\">\n",
       "      <th></th>\n",
       "      <th>0</th>\n",
       "      <th>1</th>\n",
       "      <th>2</th>\n",
       "      <th>3</th>\n",
       "      <th>4</th>\n",
       "      <th>5</th>\n",
       "      <th>6</th>\n",
       "      <th>7</th>\n",
       "      <th>8</th>\n",
       "      <th>9</th>\n",
       "      <th>...</th>\n",
       "      <th>293</th>\n",
       "      <th>294</th>\n",
       "      <th>295</th>\n",
       "      <th>296</th>\n",
       "      <th>297</th>\n",
       "      <th>298</th>\n",
       "      <th>299</th>\n",
       "      <th>300</th>\n",
       "      <th>301</th>\n",
       "      <th>302</th>\n",
       "    </tr>\n",
       "  </thead>\n",
       "  <tbody>\n",
       "    <tr>\n",
       "      <th>0</th>\n",
       "      <td>0.0</td>\n",
       "      <td>0.0</td>\n",
       "      <td>0.0</td>\n",
       "      <td>0.0</td>\n",
       "      <td>0.0</td>\n",
       "      <td>0.0</td>\n",
       "      <td>0.0</td>\n",
       "      <td>0.0</td>\n",
       "      <td>0.0</td>\n",
       "      <td>0.0</td>\n",
       "      <td>...</td>\n",
       "      <td>NaN</td>\n",
       "      <td>NaN</td>\n",
       "      <td>NaN</td>\n",
       "      <td>NaN</td>\n",
       "      <td>NaN</td>\n",
       "      <td>NaN</td>\n",
       "      <td>NaN</td>\n",
       "      <td>NaN</td>\n",
       "      <td>NaN</td>\n",
       "      <td>NaN</td>\n",
       "    </tr>\n",
       "    <tr>\n",
       "      <th>1</th>\n",
       "      <td>0.0</td>\n",
       "      <td>0.0</td>\n",
       "      <td>0.0</td>\n",
       "      <td>0.0</td>\n",
       "      <td>0.0</td>\n",
       "      <td>0.0</td>\n",
       "      <td>0.0</td>\n",
       "      <td>0.0</td>\n",
       "      <td>0.0</td>\n",
       "      <td>0.0</td>\n",
       "      <td>...</td>\n",
       "      <td>NaN</td>\n",
       "      <td>NaN</td>\n",
       "      <td>NaN</td>\n",
       "      <td>NaN</td>\n",
       "      <td>NaN</td>\n",
       "      <td>NaN</td>\n",
       "      <td>NaN</td>\n",
       "      <td>NaN</td>\n",
       "      <td>NaN</td>\n",
       "      <td>NaN</td>\n",
       "    </tr>\n",
       "    <tr>\n",
       "      <th>2</th>\n",
       "      <td>0.0</td>\n",
       "      <td>0.0</td>\n",
       "      <td>0.0</td>\n",
       "      <td>0.0</td>\n",
       "      <td>0.0</td>\n",
       "      <td>0.0</td>\n",
       "      <td>0.0</td>\n",
       "      <td>0.0</td>\n",
       "      <td>0.0</td>\n",
       "      <td>0.0</td>\n",
       "      <td>...</td>\n",
       "      <td>NaN</td>\n",
       "      <td>NaN</td>\n",
       "      <td>NaN</td>\n",
       "      <td>NaN</td>\n",
       "      <td>NaN</td>\n",
       "      <td>NaN</td>\n",
       "      <td>NaN</td>\n",
       "      <td>NaN</td>\n",
       "      <td>NaN</td>\n",
       "      <td>NaN</td>\n",
       "    </tr>\n",
       "    <tr>\n",
       "      <th>3</th>\n",
       "      <td>0.0</td>\n",
       "      <td>0.0</td>\n",
       "      <td>0.0</td>\n",
       "      <td>0.0</td>\n",
       "      <td>0.0</td>\n",
       "      <td>0.0</td>\n",
       "      <td>0.0</td>\n",
       "      <td>0.0</td>\n",
       "      <td>0.0</td>\n",
       "      <td>0.0</td>\n",
       "      <td>...</td>\n",
       "      <td>NaN</td>\n",
       "      <td>NaN</td>\n",
       "      <td>NaN</td>\n",
       "      <td>NaN</td>\n",
       "      <td>NaN</td>\n",
       "      <td>NaN</td>\n",
       "      <td>NaN</td>\n",
       "      <td>NaN</td>\n",
       "      <td>NaN</td>\n",
       "      <td>NaN</td>\n",
       "    </tr>\n",
       "    <tr>\n",
       "      <th>4</th>\n",
       "      <td>0.0</td>\n",
       "      <td>0.0</td>\n",
       "      <td>0.0</td>\n",
       "      <td>0.0</td>\n",
       "      <td>0.0</td>\n",
       "      <td>0.0</td>\n",
       "      <td>0.0</td>\n",
       "      <td>0.0</td>\n",
       "      <td>0.0</td>\n",
       "      <td>0.0</td>\n",
       "      <td>...</td>\n",
       "      <td>NaN</td>\n",
       "      <td>NaN</td>\n",
       "      <td>NaN</td>\n",
       "      <td>NaN</td>\n",
       "      <td>NaN</td>\n",
       "      <td>NaN</td>\n",
       "      <td>NaN</td>\n",
       "      <td>NaN</td>\n",
       "      <td>NaN</td>\n",
       "      <td>NaN</td>\n",
       "    </tr>\n",
       "    <tr>\n",
       "      <th>5</th>\n",
       "      <td>0.0</td>\n",
       "      <td>0.0</td>\n",
       "      <td>0.0</td>\n",
       "      <td>0.0</td>\n",
       "      <td>0.0</td>\n",
       "      <td>0.0</td>\n",
       "      <td>0.0</td>\n",
       "      <td>0.0</td>\n",
       "      <td>0.0</td>\n",
       "      <td>0.0</td>\n",
       "      <td>...</td>\n",
       "      <td>NaN</td>\n",
       "      <td>NaN</td>\n",
       "      <td>NaN</td>\n",
       "      <td>NaN</td>\n",
       "      <td>NaN</td>\n",
       "      <td>NaN</td>\n",
       "      <td>NaN</td>\n",
       "      <td>NaN</td>\n",
       "      <td>NaN</td>\n",
       "      <td>NaN</td>\n",
       "    </tr>\n",
       "    <tr>\n",
       "      <th>6</th>\n",
       "      <td>0.0</td>\n",
       "      <td>0.0</td>\n",
       "      <td>0.0</td>\n",
       "      <td>0.0</td>\n",
       "      <td>0.0</td>\n",
       "      <td>0.0</td>\n",
       "      <td>0.0</td>\n",
       "      <td>0.0</td>\n",
       "      <td>0.0</td>\n",
       "      <td>0.0</td>\n",
       "      <td>...</td>\n",
       "      <td>NaN</td>\n",
       "      <td>NaN</td>\n",
       "      <td>NaN</td>\n",
       "      <td>NaN</td>\n",
       "      <td>NaN</td>\n",
       "      <td>NaN</td>\n",
       "      <td>NaN</td>\n",
       "      <td>NaN</td>\n",
       "      <td>NaN</td>\n",
       "      <td>NaN</td>\n",
       "    </tr>\n",
       "    <tr>\n",
       "      <th>7</th>\n",
       "      <td>0.0</td>\n",
       "      <td>0.0</td>\n",
       "      <td>0.0</td>\n",
       "      <td>0.0</td>\n",
       "      <td>0.0</td>\n",
       "      <td>0.0</td>\n",
       "      <td>0.0</td>\n",
       "      <td>0.0</td>\n",
       "      <td>0.0</td>\n",
       "      <td>0.0</td>\n",
       "      <td>...</td>\n",
       "      <td>NaN</td>\n",
       "      <td>NaN</td>\n",
       "      <td>NaN</td>\n",
       "      <td>NaN</td>\n",
       "      <td>NaN</td>\n",
       "      <td>NaN</td>\n",
       "      <td>NaN</td>\n",
       "      <td>NaN</td>\n",
       "      <td>NaN</td>\n",
       "      <td>NaN</td>\n",
       "    </tr>\n",
       "    <tr>\n",
       "      <th>8</th>\n",
       "      <td>0.0</td>\n",
       "      <td>0.0</td>\n",
       "      <td>0.0</td>\n",
       "      <td>0.0</td>\n",
       "      <td>0.0</td>\n",
       "      <td>0.0</td>\n",
       "      <td>0.0</td>\n",
       "      <td>0.0</td>\n",
       "      <td>0.0</td>\n",
       "      <td>0.0</td>\n",
       "      <td>...</td>\n",
       "      <td>NaN</td>\n",
       "      <td>NaN</td>\n",
       "      <td>NaN</td>\n",
       "      <td>NaN</td>\n",
       "      <td>NaN</td>\n",
       "      <td>NaN</td>\n",
       "      <td>NaN</td>\n",
       "      <td>NaN</td>\n",
       "      <td>NaN</td>\n",
       "      <td>NaN</td>\n",
       "    </tr>\n",
       "    <tr>\n",
       "      <th>9</th>\n",
       "      <td>1.0</td>\n",
       "      <td>0.0</td>\n",
       "      <td>0.0</td>\n",
       "      <td>0.0</td>\n",
       "      <td>0.0</td>\n",
       "      <td>0.0</td>\n",
       "      <td>0.0</td>\n",
       "      <td>0.0</td>\n",
       "      <td>0.0</td>\n",
       "      <td>0.0</td>\n",
       "      <td>...</td>\n",
       "      <td>NaN</td>\n",
       "      <td>NaN</td>\n",
       "      <td>NaN</td>\n",
       "      <td>NaN</td>\n",
       "      <td>NaN</td>\n",
       "      <td>NaN</td>\n",
       "      <td>NaN</td>\n",
       "      <td>NaN</td>\n",
       "      <td>NaN</td>\n",
       "      <td>NaN</td>\n",
       "    </tr>\n",
       "    <tr>\n",
       "      <th>10</th>\n",
       "      <td>0.0</td>\n",
       "      <td>0.0</td>\n",
       "      <td>0.0</td>\n",
       "      <td>0.0</td>\n",
       "      <td>0.0</td>\n",
       "      <td>0.0</td>\n",
       "      <td>0.0</td>\n",
       "      <td>0.0</td>\n",
       "      <td>0.0</td>\n",
       "      <td>0.0</td>\n",
       "      <td>...</td>\n",
       "      <td>NaN</td>\n",
       "      <td>NaN</td>\n",
       "      <td>NaN</td>\n",
       "      <td>NaN</td>\n",
       "      <td>NaN</td>\n",
       "      <td>NaN</td>\n",
       "      <td>NaN</td>\n",
       "      <td>NaN</td>\n",
       "      <td>NaN</td>\n",
       "      <td>NaN</td>\n",
       "    </tr>\n",
       "    <tr>\n",
       "      <th>target</th>\n",
       "      <td>NaN</td>\n",
       "      <td>NaN</td>\n",
       "      <td>NaN</td>\n",
       "      <td>NaN</td>\n",
       "      <td>NaN</td>\n",
       "      <td>NaN</td>\n",
       "      <td>NaN</td>\n",
       "      <td>NaN</td>\n",
       "      <td>NaN</td>\n",
       "      <td>NaN</td>\n",
       "      <td>...</td>\n",
       "      <td>1.0</td>\n",
       "      <td>1.0</td>\n",
       "      <td>1.0</td>\n",
       "      <td>1.0</td>\n",
       "      <td>1.0</td>\n",
       "      <td>1.0</td>\n",
       "      <td>1.0</td>\n",
       "      <td>1.0</td>\n",
       "      <td>1.0</td>\n",
       "      <td>1.0</td>\n",
       "    </tr>\n",
       "  </tbody>\n",
       "</table>\n",
       "<p>12 rows × 606 columns</p>\n",
       "</div>"
      ],
      "text/plain": [
       "        0    1    2    3    4    5    6    7    8    9    ...  293  294  295  \\\n",
       "0       0.0  0.0  0.0  0.0  0.0  0.0  0.0  0.0  0.0  0.0  ...  NaN  NaN  NaN   \n",
       "1       0.0  0.0  0.0  0.0  0.0  0.0  0.0  0.0  0.0  0.0  ...  NaN  NaN  NaN   \n",
       "2       0.0  0.0  0.0  0.0  0.0  0.0  0.0  0.0  0.0  0.0  ...  NaN  NaN  NaN   \n",
       "3       0.0  0.0  0.0  0.0  0.0  0.0  0.0  0.0  0.0  0.0  ...  NaN  NaN  NaN   \n",
       "4       0.0  0.0  0.0  0.0  0.0  0.0  0.0  0.0  0.0  0.0  ...  NaN  NaN  NaN   \n",
       "5       0.0  0.0  0.0  0.0  0.0  0.0  0.0  0.0  0.0  0.0  ...  NaN  NaN  NaN   \n",
       "6       0.0  0.0  0.0  0.0  0.0  0.0  0.0  0.0  0.0  0.0  ...  NaN  NaN  NaN   \n",
       "7       0.0  0.0  0.0  0.0  0.0  0.0  0.0  0.0  0.0  0.0  ...  NaN  NaN  NaN   \n",
       "8       0.0  0.0  0.0  0.0  0.0  0.0  0.0  0.0  0.0  0.0  ...  NaN  NaN  NaN   \n",
       "9       1.0  0.0  0.0  0.0  0.0  0.0  0.0  0.0  0.0  0.0  ...  NaN  NaN  NaN   \n",
       "10      0.0  0.0  0.0  0.0  0.0  0.0  0.0  0.0  0.0  0.0  ...  NaN  NaN  NaN   \n",
       "target  NaN  NaN  NaN  NaN  NaN  NaN  NaN  NaN  NaN  NaN  ...  1.0  1.0  1.0   \n",
       "\n",
       "        296  297  298  299  300  301  302  \n",
       "0       NaN  NaN  NaN  NaN  NaN  NaN  NaN  \n",
       "1       NaN  NaN  NaN  NaN  NaN  NaN  NaN  \n",
       "2       NaN  NaN  NaN  NaN  NaN  NaN  NaN  \n",
       "3       NaN  NaN  NaN  NaN  NaN  NaN  NaN  \n",
       "4       NaN  NaN  NaN  NaN  NaN  NaN  NaN  \n",
       "5       NaN  NaN  NaN  NaN  NaN  NaN  NaN  \n",
       "6       NaN  NaN  NaN  NaN  NaN  NaN  NaN  \n",
       "7       NaN  NaN  NaN  NaN  NaN  NaN  NaN  \n",
       "8       NaN  NaN  NaN  NaN  NaN  NaN  NaN  \n",
       "9       NaN  NaN  NaN  NaN  NaN  NaN  NaN  \n",
       "10      NaN  NaN  NaN  NaN  NaN  NaN  NaN  \n",
       "target  1.0  1.0  1.0  1.0  1.0  1.0  1.0  \n",
       "\n",
       "[12 rows x 606 columns]"
      ]
     },
     "execution_count": 161,
     "metadata": {},
     "output_type": "execute_result"
    }
   ],
   "source": [
    "# transpose df_target and keep columsn as in df_pred_meta\n",
    "df_target_transp = df_target.copy()\n",
    "# rename column to target and transpose dataframe\n",
    "df_target_transp.rename(columns={'class': 'target'}, inplace=True)\n",
    "df_target_transp = df_target_transp.transpose()\n",
    "df_target_transp.columns = df_pred_meta.columns\n",
    "# concatinate df_pred_meta and df_target_transp\n",
    "df_pred_meta_target = pd.concat([df_pred_meta, df_target_transp], axis=1)\n",
    "df_pred_meta_target"
   ]
  },
  {
   "cell_type": "code",
   "execution_count": 179,
   "metadata": {},
   "outputs": [
    {
     "data": {
      "text/html": [
       "<div>\n",
       "<style scoped>\n",
       "    .dataframe tbody tr th:only-of-type {\n",
       "        vertical-align: middle;\n",
       "    }\n",
       "\n",
       "    .dataframe tbody tr th {\n",
       "        vertical-align: top;\n",
       "    }\n",
       "\n",
       "    .dataframe thead th {\n",
       "        text-align: right;\n",
       "    }\n",
       "</style>\n",
       "<table border=\"1\" class=\"dataframe\">\n",
       "  <thead>\n",
       "    <tr style=\"text-align: right;\">\n",
       "      <th></th>\n",
       "      <th>0</th>\n",
       "      <th>1</th>\n",
       "      <th>2</th>\n",
       "      <th>3</th>\n",
       "      <th>4</th>\n",
       "      <th>5</th>\n",
       "      <th>6</th>\n",
       "      <th>7</th>\n",
       "      <th>8</th>\n",
       "      <th>9</th>\n",
       "      <th>10</th>\n",
       "    </tr>\n",
       "  </thead>\n",
       "  <tbody>\n",
       "    <tr>\n",
       "      <th>0</th>\n",
       "      <td>0</td>\n",
       "      <td>0</td>\n",
       "      <td>0</td>\n",
       "      <td>0</td>\n",
       "      <td>0</td>\n",
       "      <td>0</td>\n",
       "      <td>0</td>\n",
       "      <td>0</td>\n",
       "      <td>0</td>\n",
       "      <td>1</td>\n",
       "      <td>0</td>\n",
       "    </tr>\n",
       "    <tr>\n",
       "      <th>1</th>\n",
       "      <td>0</td>\n",
       "      <td>0</td>\n",
       "      <td>0</td>\n",
       "      <td>0</td>\n",
       "      <td>0</td>\n",
       "      <td>0</td>\n",
       "      <td>0</td>\n",
       "      <td>0</td>\n",
       "      <td>0</td>\n",
       "      <td>0</td>\n",
       "      <td>0</td>\n",
       "    </tr>\n",
       "    <tr>\n",
       "      <th>2</th>\n",
       "      <td>0</td>\n",
       "      <td>0</td>\n",
       "      <td>0</td>\n",
       "      <td>0</td>\n",
       "      <td>0</td>\n",
       "      <td>0</td>\n",
       "      <td>0</td>\n",
       "      <td>0</td>\n",
       "      <td>0</td>\n",
       "      <td>0</td>\n",
       "      <td>0</td>\n",
       "    </tr>\n",
       "    <tr>\n",
       "      <th>3</th>\n",
       "      <td>0</td>\n",
       "      <td>0</td>\n",
       "      <td>0</td>\n",
       "      <td>0</td>\n",
       "      <td>0</td>\n",
       "      <td>0</td>\n",
       "      <td>0</td>\n",
       "      <td>0</td>\n",
       "      <td>0</td>\n",
       "      <td>0</td>\n",
       "      <td>0</td>\n",
       "    </tr>\n",
       "    <tr>\n",
       "      <th>4</th>\n",
       "      <td>0</td>\n",
       "      <td>0</td>\n",
       "      <td>0</td>\n",
       "      <td>0</td>\n",
       "      <td>0</td>\n",
       "      <td>0</td>\n",
       "      <td>0</td>\n",
       "      <td>0</td>\n",
       "      <td>0</td>\n",
       "      <td>0</td>\n",
       "      <td>0</td>\n",
       "    </tr>\n",
       "    <tr>\n",
       "      <th>...</th>\n",
       "      <td>...</td>\n",
       "      <td>...</td>\n",
       "      <td>...</td>\n",
       "      <td>...</td>\n",
       "      <td>...</td>\n",
       "      <td>...</td>\n",
       "      <td>...</td>\n",
       "      <td>...</td>\n",
       "      <td>...</td>\n",
       "      <td>...</td>\n",
       "      <td>...</td>\n",
       "    </tr>\n",
       "    <tr>\n",
       "      <th>298</th>\n",
       "      <td>1</td>\n",
       "      <td>1</td>\n",
       "      <td>1</td>\n",
       "      <td>1</td>\n",
       "      <td>1</td>\n",
       "      <td>1</td>\n",
       "      <td>1</td>\n",
       "      <td>1</td>\n",
       "      <td>1</td>\n",
       "      <td>1</td>\n",
       "      <td>1</td>\n",
       "    </tr>\n",
       "    <tr>\n",
       "      <th>299</th>\n",
       "      <td>0</td>\n",
       "      <td>1</td>\n",
       "      <td>1</td>\n",
       "      <td>1</td>\n",
       "      <td>1</td>\n",
       "      <td>1</td>\n",
       "      <td>0</td>\n",
       "      <td>1</td>\n",
       "      <td>1</td>\n",
       "      <td>1</td>\n",
       "      <td>1</td>\n",
       "    </tr>\n",
       "    <tr>\n",
       "      <th>300</th>\n",
       "      <td>1</td>\n",
       "      <td>1</td>\n",
       "      <td>1</td>\n",
       "      <td>1</td>\n",
       "      <td>1</td>\n",
       "      <td>1</td>\n",
       "      <td>1</td>\n",
       "      <td>1</td>\n",
       "      <td>1</td>\n",
       "      <td>1</td>\n",
       "      <td>1</td>\n",
       "    </tr>\n",
       "    <tr>\n",
       "      <th>301</th>\n",
       "      <td>1</td>\n",
       "      <td>1</td>\n",
       "      <td>1</td>\n",
       "      <td>1</td>\n",
       "      <td>1</td>\n",
       "      <td>1</td>\n",
       "      <td>1</td>\n",
       "      <td>1</td>\n",
       "      <td>1</td>\n",
       "      <td>1</td>\n",
       "      <td>1</td>\n",
       "    </tr>\n",
       "    <tr>\n",
       "      <th>302</th>\n",
       "      <td>0</td>\n",
       "      <td>0</td>\n",
       "      <td>0</td>\n",
       "      <td>1</td>\n",
       "      <td>1</td>\n",
       "      <td>1</td>\n",
       "      <td>0</td>\n",
       "      <td>0</td>\n",
       "      <td>1</td>\n",
       "      <td>1</td>\n",
       "      <td>1</td>\n",
       "    </tr>\n",
       "  </tbody>\n",
       "</table>\n",
       "<p>303 rows × 11 columns</p>\n",
       "</div>"
      ],
      "text/plain": [
       "     0   1   2   3   4   5   6   7   8   9   10\n",
       "0     0   0   0   0   0   0   0   0   0   1   0\n",
       "1     0   0   0   0   0   0   0   0   0   0   0\n",
       "2     0   0   0   0   0   0   0   0   0   0   0\n",
       "3     0   0   0   0   0   0   0   0   0   0   0\n",
       "4     0   0   0   0   0   0   0   0   0   0   0\n",
       "..   ..  ..  ..  ..  ..  ..  ..  ..  ..  ..  ..\n",
       "298   1   1   1   1   1   1   1   1   1   1   1\n",
       "299   0   1   1   1   1   1   0   1   1   1   1\n",
       "300   1   1   1   1   1   1   1   1   1   1   1\n",
       "301   1   1   1   1   1   1   1   1   1   1   1\n",
       "302   0   0   0   1   1   1   0   0   1   1   1\n",
       "\n",
       "[303 rows x 11 columns]"
      ]
     },
     "execution_count": 179,
     "metadata": {},
     "output_type": "execute_result"
    }
   ],
   "source": [
    "df_pred_meta.T"
   ]
  },
  {
   "cell_type": "code",
   "execution_count": 182,
   "metadata": {},
   "outputs": [
    {
     "data": {
      "text/html": [
       "<div>\n",
       "<style scoped>\n",
       "    .dataframe tbody tr th:only-of-type {\n",
       "        vertical-align: middle;\n",
       "    }\n",
       "\n",
       "    .dataframe tbody tr th {\n",
       "        vertical-align: top;\n",
       "    }\n",
       "\n",
       "    .dataframe thead th {\n",
       "        text-align: right;\n",
       "    }\n",
       "</style>\n",
       "<table border=\"1\" class=\"dataframe\">\n",
       "  <thead>\n",
       "    <tr style=\"text-align: right;\">\n",
       "      <th></th>\n",
       "      <th>class</th>\n",
       "    </tr>\n",
       "  </thead>\n",
       "  <tbody>\n",
       "    <tr>\n",
       "      <th>0</th>\n",
       "      <td>0</td>\n",
       "    </tr>\n",
       "    <tr>\n",
       "      <th>1</th>\n",
       "      <td>0</td>\n",
       "    </tr>\n",
       "    <tr>\n",
       "      <th>2</th>\n",
       "      <td>0</td>\n",
       "    </tr>\n",
       "    <tr>\n",
       "      <th>3</th>\n",
       "      <td>0</td>\n",
       "    </tr>\n",
       "    <tr>\n",
       "      <th>4</th>\n",
       "      <td>0</td>\n",
       "    </tr>\n",
       "    <tr>\n",
       "      <th>...</th>\n",
       "      <td>...</td>\n",
       "    </tr>\n",
       "    <tr>\n",
       "      <th>298</th>\n",
       "      <td>1</td>\n",
       "    </tr>\n",
       "    <tr>\n",
       "      <th>299</th>\n",
       "      <td>1</td>\n",
       "    </tr>\n",
       "    <tr>\n",
       "      <th>300</th>\n",
       "      <td>1</td>\n",
       "    </tr>\n",
       "    <tr>\n",
       "      <th>301</th>\n",
       "      <td>1</td>\n",
       "    </tr>\n",
       "    <tr>\n",
       "      <th>302</th>\n",
       "      <td>1</td>\n",
       "    </tr>\n",
       "  </tbody>\n",
       "</table>\n",
       "<p>303 rows × 1 columns</p>\n",
       "</div>"
      ],
      "text/plain": [
       "     class\n",
       "0        0\n",
       "1        0\n",
       "2        0\n",
       "3        0\n",
       "4        0\n",
       "..     ...\n",
       "298      1\n",
       "299      1\n",
       "300      1\n",
       "301      1\n",
       "302      1\n",
       "\n",
       "[303 rows x 1 columns]"
      ]
     },
     "execution_count": 182,
     "metadata": {},
     "output_type": "execute_result"
    }
   ],
   "source": [
    "df_target"
   ]
  },
  {
   "cell_type": "code",
   "execution_count": 181,
   "metadata": {},
   "outputs": [
    {
     "data": {
      "text/html": [
       "<div>\n",
       "<style scoped>\n",
       "    .dataframe tbody tr th:only-of-type {\n",
       "        vertical-align: middle;\n",
       "    }\n",
       "\n",
       "    .dataframe tbody tr th {\n",
       "        vertical-align: top;\n",
       "    }\n",
       "\n",
       "    .dataframe thead th {\n",
       "        text-align: right;\n",
       "    }\n",
       "</style>\n",
       "<table border=\"1\" class=\"dataframe\">\n",
       "  <thead>\n",
       "    <tr style=\"text-align: right;\">\n",
       "      <th></th>\n",
       "      <th>0</th>\n",
       "      <th>1</th>\n",
       "      <th>2</th>\n",
       "      <th>3</th>\n",
       "      <th>4</th>\n",
       "      <th>5</th>\n",
       "      <th>6</th>\n",
       "      <th>7</th>\n",
       "      <th>8</th>\n",
       "      <th>9</th>\n",
       "      <th>10</th>\n",
       "      <th>class</th>\n",
       "    </tr>\n",
       "  </thead>\n",
       "  <tbody>\n",
       "    <tr>\n",
       "      <th>0</th>\n",
       "      <td>0.0</td>\n",
       "      <td>0.0</td>\n",
       "      <td>0.0</td>\n",
       "      <td>0.0</td>\n",
       "      <td>0.0</td>\n",
       "      <td>0.0</td>\n",
       "      <td>0.0</td>\n",
       "      <td>0.0</td>\n",
       "      <td>0.0</td>\n",
       "      <td>1.0</td>\n",
       "      <td>0.0</td>\n",
       "      <td>NaN</td>\n",
       "    </tr>\n",
       "    <tr>\n",
       "      <th>1</th>\n",
       "      <td>0.0</td>\n",
       "      <td>0.0</td>\n",
       "      <td>0.0</td>\n",
       "      <td>0.0</td>\n",
       "      <td>0.0</td>\n",
       "      <td>0.0</td>\n",
       "      <td>0.0</td>\n",
       "      <td>0.0</td>\n",
       "      <td>0.0</td>\n",
       "      <td>0.0</td>\n",
       "      <td>0.0</td>\n",
       "      <td>NaN</td>\n",
       "    </tr>\n",
       "    <tr>\n",
       "      <th>2</th>\n",
       "      <td>0.0</td>\n",
       "      <td>0.0</td>\n",
       "      <td>0.0</td>\n",
       "      <td>0.0</td>\n",
       "      <td>0.0</td>\n",
       "      <td>0.0</td>\n",
       "      <td>0.0</td>\n",
       "      <td>0.0</td>\n",
       "      <td>0.0</td>\n",
       "      <td>0.0</td>\n",
       "      <td>0.0</td>\n",
       "      <td>NaN</td>\n",
       "    </tr>\n",
       "    <tr>\n",
       "      <th>3</th>\n",
       "      <td>0.0</td>\n",
       "      <td>0.0</td>\n",
       "      <td>0.0</td>\n",
       "      <td>0.0</td>\n",
       "      <td>0.0</td>\n",
       "      <td>0.0</td>\n",
       "      <td>0.0</td>\n",
       "      <td>0.0</td>\n",
       "      <td>0.0</td>\n",
       "      <td>0.0</td>\n",
       "      <td>0.0</td>\n",
       "      <td>NaN</td>\n",
       "    </tr>\n",
       "    <tr>\n",
       "      <th>4</th>\n",
       "      <td>0.0</td>\n",
       "      <td>0.0</td>\n",
       "      <td>0.0</td>\n",
       "      <td>0.0</td>\n",
       "      <td>0.0</td>\n",
       "      <td>0.0</td>\n",
       "      <td>0.0</td>\n",
       "      <td>0.0</td>\n",
       "      <td>0.0</td>\n",
       "      <td>0.0</td>\n",
       "      <td>0.0</td>\n",
       "      <td>NaN</td>\n",
       "    </tr>\n",
       "    <tr>\n",
       "      <th>...</th>\n",
       "      <td>...</td>\n",
       "      <td>...</td>\n",
       "      <td>...</td>\n",
       "      <td>...</td>\n",
       "      <td>...</td>\n",
       "      <td>...</td>\n",
       "      <td>...</td>\n",
       "      <td>...</td>\n",
       "      <td>...</td>\n",
       "      <td>...</td>\n",
       "      <td>...</td>\n",
       "      <td>...</td>\n",
       "    </tr>\n",
       "    <tr>\n",
       "      <th>298</th>\n",
       "      <td>NaN</td>\n",
       "      <td>NaN</td>\n",
       "      <td>NaN</td>\n",
       "      <td>NaN</td>\n",
       "      <td>NaN</td>\n",
       "      <td>NaN</td>\n",
       "      <td>NaN</td>\n",
       "      <td>NaN</td>\n",
       "      <td>NaN</td>\n",
       "      <td>NaN</td>\n",
       "      <td>NaN</td>\n",
       "      <td>1.0</td>\n",
       "    </tr>\n",
       "    <tr>\n",
       "      <th>299</th>\n",
       "      <td>NaN</td>\n",
       "      <td>NaN</td>\n",
       "      <td>NaN</td>\n",
       "      <td>NaN</td>\n",
       "      <td>NaN</td>\n",
       "      <td>NaN</td>\n",
       "      <td>NaN</td>\n",
       "      <td>NaN</td>\n",
       "      <td>NaN</td>\n",
       "      <td>NaN</td>\n",
       "      <td>NaN</td>\n",
       "      <td>1.0</td>\n",
       "    </tr>\n",
       "    <tr>\n",
       "      <th>300</th>\n",
       "      <td>NaN</td>\n",
       "      <td>NaN</td>\n",
       "      <td>NaN</td>\n",
       "      <td>NaN</td>\n",
       "      <td>NaN</td>\n",
       "      <td>NaN</td>\n",
       "      <td>NaN</td>\n",
       "      <td>NaN</td>\n",
       "      <td>NaN</td>\n",
       "      <td>NaN</td>\n",
       "      <td>NaN</td>\n",
       "      <td>1.0</td>\n",
       "    </tr>\n",
       "    <tr>\n",
       "      <th>301</th>\n",
       "      <td>NaN</td>\n",
       "      <td>NaN</td>\n",
       "      <td>NaN</td>\n",
       "      <td>NaN</td>\n",
       "      <td>NaN</td>\n",
       "      <td>NaN</td>\n",
       "      <td>NaN</td>\n",
       "      <td>NaN</td>\n",
       "      <td>NaN</td>\n",
       "      <td>NaN</td>\n",
       "      <td>NaN</td>\n",
       "      <td>1.0</td>\n",
       "    </tr>\n",
       "    <tr>\n",
       "      <th>302</th>\n",
       "      <td>NaN</td>\n",
       "      <td>NaN</td>\n",
       "      <td>NaN</td>\n",
       "      <td>NaN</td>\n",
       "      <td>NaN</td>\n",
       "      <td>NaN</td>\n",
       "      <td>NaN</td>\n",
       "      <td>NaN</td>\n",
       "      <td>NaN</td>\n",
       "      <td>NaN</td>\n",
       "      <td>NaN</td>\n",
       "      <td>1.0</td>\n",
       "    </tr>\n",
       "  </tbody>\n",
       "</table>\n",
       "<p>606 rows × 12 columns</p>\n",
       "</div>"
      ],
      "text/plain": [
       "       0    1    2    3    4    5    6    7    8    9   10  class\n",
       "0    0.0  0.0  0.0  0.0  0.0  0.0  0.0  0.0  0.0  1.0  0.0    NaN\n",
       "1    0.0  0.0  0.0  0.0  0.0  0.0  0.0  0.0  0.0  0.0  0.0    NaN\n",
       "2    0.0  0.0  0.0  0.0  0.0  0.0  0.0  0.0  0.0  0.0  0.0    NaN\n",
       "3    0.0  0.0  0.0  0.0  0.0  0.0  0.0  0.0  0.0  0.0  0.0    NaN\n",
       "4    0.0  0.0  0.0  0.0  0.0  0.0  0.0  0.0  0.0  0.0  0.0    NaN\n",
       "..   ...  ...  ...  ...  ...  ...  ...  ...  ...  ...  ...    ...\n",
       "298  NaN  NaN  NaN  NaN  NaN  NaN  NaN  NaN  NaN  NaN  NaN    1.0\n",
       "299  NaN  NaN  NaN  NaN  NaN  NaN  NaN  NaN  NaN  NaN  NaN    1.0\n",
       "300  NaN  NaN  NaN  NaN  NaN  NaN  NaN  NaN  NaN  NaN  NaN    1.0\n",
       "301  NaN  NaN  NaN  NaN  NaN  NaN  NaN  NaN  NaN  NaN  NaN    1.0\n",
       "302  NaN  NaN  NaN  NaN  NaN  NaN  NaN  NaN  NaN  NaN  NaN    1.0\n",
       "\n",
       "[606 rows x 12 columns]"
      ]
     },
     "execution_count": 181,
     "metadata": {},
     "output_type": "execute_result"
    }
   ],
   "source": [
    "df_pred_meta_target = pd.concat([df_pred_meta.T, df_target], axis=0)\n",
    "df_pred_meta_target"
   ]
  },
  {
   "cell_type": "code",
   "execution_count": null,
   "metadata": {},
   "outputs": [],
   "source": []
  },
  {
   "cell_type": "code",
   "execution_count": 137,
   "metadata": {},
   "outputs": [
    {
     "data": {
      "text/html": [
       "<div>\n",
       "<style scoped>\n",
       "    .dataframe tbody tr th:only-of-type {\n",
       "        vertical-align: middle;\n",
       "    }\n",
       "\n",
       "    .dataframe tbody tr th {\n",
       "        vertical-align: top;\n",
       "    }\n",
       "\n",
       "    .dataframe thead th {\n",
       "        text-align: right;\n",
       "    }\n",
       "</style>\n",
       "<table border=\"1\" class=\"dataframe\">\n",
       "  <thead>\n",
       "    <tr style=\"text-align: right;\">\n",
       "      <th></th>\n",
       "      <th>0</th>\n",
       "      <th>20</th>\n",
       "      <th>23</th>\n",
       "      <th>34</th>\n",
       "      <th>42</th>\n",
       "      <th>52</th>\n",
       "      <th>57</th>\n",
       "      <th>73</th>\n",
       "      <th>91</th>\n",
       "      <th>95</th>\n",
       "      <th>...</th>\n",
       "      <th>278</th>\n",
       "      <th>281</th>\n",
       "      <th>282</th>\n",
       "      <th>283</th>\n",
       "      <th>286</th>\n",
       "      <th>287</th>\n",
       "      <th>293</th>\n",
       "      <th>296</th>\n",
       "      <th>299</th>\n",
       "      <th>302</th>\n",
       "    </tr>\n",
       "  </thead>\n",
       "  <tbody>\n",
       "    <tr>\n",
       "      <th>0</th>\n",
       "      <td>0</td>\n",
       "      <td>0</td>\n",
       "      <td>0</td>\n",
       "      <td>0</td>\n",
       "      <td>1</td>\n",
       "      <td>1</td>\n",
       "      <td>0</td>\n",
       "      <td>0</td>\n",
       "      <td>0</td>\n",
       "      <td>1</td>\n",
       "      <td>...</td>\n",
       "      <td>0</td>\n",
       "      <td>1</td>\n",
       "      <td>0</td>\n",
       "      <td>0</td>\n",
       "      <td>0</td>\n",
       "      <td>0</td>\n",
       "      <td>0</td>\n",
       "      <td>0</td>\n",
       "      <td>0</td>\n",
       "      <td>0</td>\n",
       "    </tr>\n",
       "    <tr>\n",
       "      <th>1</th>\n",
       "      <td>0</td>\n",
       "      <td>0</td>\n",
       "      <td>0</td>\n",
       "      <td>0</td>\n",
       "      <td>1</td>\n",
       "      <td>1</td>\n",
       "      <td>0</td>\n",
       "      <td>0</td>\n",
       "      <td>0</td>\n",
       "      <td>1</td>\n",
       "      <td>...</td>\n",
       "      <td>0</td>\n",
       "      <td>1</td>\n",
       "      <td>1</td>\n",
       "      <td>1</td>\n",
       "      <td>0</td>\n",
       "      <td>0</td>\n",
       "      <td>1</td>\n",
       "      <td>1</td>\n",
       "      <td>1</td>\n",
       "      <td>0</td>\n",
       "    </tr>\n",
       "    <tr>\n",
       "      <th>2</th>\n",
       "      <td>0</td>\n",
       "      <td>0</td>\n",
       "      <td>0</td>\n",
       "      <td>0</td>\n",
       "      <td>1</td>\n",
       "      <td>1</td>\n",
       "      <td>0</td>\n",
       "      <td>0</td>\n",
       "      <td>1</td>\n",
       "      <td>1</td>\n",
       "      <td>...</td>\n",
       "      <td>0</td>\n",
       "      <td>1</td>\n",
       "      <td>1</td>\n",
       "      <td>1</td>\n",
       "      <td>0</td>\n",
       "      <td>1</td>\n",
       "      <td>1</td>\n",
       "      <td>1</td>\n",
       "      <td>1</td>\n",
       "      <td>0</td>\n",
       "    </tr>\n",
       "    <tr>\n",
       "      <th>3</th>\n",
       "      <td>0</td>\n",
       "      <td>0</td>\n",
       "      <td>0</td>\n",
       "      <td>0</td>\n",
       "      <td>0</td>\n",
       "      <td>0</td>\n",
       "      <td>0</td>\n",
       "      <td>0</td>\n",
       "      <td>0</td>\n",
       "      <td>0</td>\n",
       "      <td>...</td>\n",
       "      <td>1</td>\n",
       "      <td>1</td>\n",
       "      <td>1</td>\n",
       "      <td>1</td>\n",
       "      <td>1</td>\n",
       "      <td>1</td>\n",
       "      <td>1</td>\n",
       "      <td>1</td>\n",
       "      <td>1</td>\n",
       "      <td>1</td>\n",
       "    </tr>\n",
       "    <tr>\n",
       "      <th>4</th>\n",
       "      <td>0</td>\n",
       "      <td>0</td>\n",
       "      <td>0</td>\n",
       "      <td>0</td>\n",
       "      <td>0</td>\n",
       "      <td>0</td>\n",
       "      <td>0</td>\n",
       "      <td>0</td>\n",
       "      <td>0</td>\n",
       "      <td>0</td>\n",
       "      <td>...</td>\n",
       "      <td>1</td>\n",
       "      <td>1</td>\n",
       "      <td>1</td>\n",
       "      <td>1</td>\n",
       "      <td>1</td>\n",
       "      <td>1</td>\n",
       "      <td>1</td>\n",
       "      <td>1</td>\n",
       "      <td>1</td>\n",
       "      <td>1</td>\n",
       "    </tr>\n",
       "    <tr>\n",
       "      <th>5</th>\n",
       "      <td>0</td>\n",
       "      <td>0</td>\n",
       "      <td>0</td>\n",
       "      <td>0</td>\n",
       "      <td>0</td>\n",
       "      <td>0</td>\n",
       "      <td>0</td>\n",
       "      <td>0</td>\n",
       "      <td>0</td>\n",
       "      <td>0</td>\n",
       "      <td>...</td>\n",
       "      <td>1</td>\n",
       "      <td>1</td>\n",
       "      <td>1</td>\n",
       "      <td>1</td>\n",
       "      <td>1</td>\n",
       "      <td>1</td>\n",
       "      <td>1</td>\n",
       "      <td>1</td>\n",
       "      <td>1</td>\n",
       "      <td>1</td>\n",
       "    </tr>\n",
       "    <tr>\n",
       "      <th>6</th>\n",
       "      <td>0</td>\n",
       "      <td>0</td>\n",
       "      <td>0</td>\n",
       "      <td>0</td>\n",
       "      <td>1</td>\n",
       "      <td>1</td>\n",
       "      <td>0</td>\n",
       "      <td>0</td>\n",
       "      <td>0</td>\n",
       "      <td>1</td>\n",
       "      <td>...</td>\n",
       "      <td>0</td>\n",
       "      <td>1</td>\n",
       "      <td>1</td>\n",
       "      <td>0</td>\n",
       "      <td>0</td>\n",
       "      <td>0</td>\n",
       "      <td>1</td>\n",
       "      <td>1</td>\n",
       "      <td>0</td>\n",
       "      <td>0</td>\n",
       "    </tr>\n",
       "    <tr>\n",
       "      <th>7</th>\n",
       "      <td>0</td>\n",
       "      <td>0</td>\n",
       "      <td>1</td>\n",
       "      <td>0</td>\n",
       "      <td>1</td>\n",
       "      <td>1</td>\n",
       "      <td>0</td>\n",
       "      <td>0</td>\n",
       "      <td>1</td>\n",
       "      <td>1</td>\n",
       "      <td>...</td>\n",
       "      <td>1</td>\n",
       "      <td>1</td>\n",
       "      <td>1</td>\n",
       "      <td>1</td>\n",
       "      <td>0</td>\n",
       "      <td>1</td>\n",
       "      <td>0</td>\n",
       "      <td>0</td>\n",
       "      <td>1</td>\n",
       "      <td>0</td>\n",
       "    </tr>\n",
       "    <tr>\n",
       "      <th>8</th>\n",
       "      <td>0</td>\n",
       "      <td>0</td>\n",
       "      <td>0</td>\n",
       "      <td>0</td>\n",
       "      <td>1</td>\n",
       "      <td>1</td>\n",
       "      <td>0</td>\n",
       "      <td>0</td>\n",
       "      <td>0</td>\n",
       "      <td>1</td>\n",
       "      <td>...</td>\n",
       "      <td>1</td>\n",
       "      <td>1</td>\n",
       "      <td>1</td>\n",
       "      <td>1</td>\n",
       "      <td>1</td>\n",
       "      <td>1</td>\n",
       "      <td>1</td>\n",
       "      <td>1</td>\n",
       "      <td>1</td>\n",
       "      <td>1</td>\n",
       "    </tr>\n",
       "    <tr>\n",
       "      <th>9</th>\n",
       "      <td>1</td>\n",
       "      <td>1</td>\n",
       "      <td>0</td>\n",
       "      <td>1</td>\n",
       "      <td>0</td>\n",
       "      <td>1</td>\n",
       "      <td>1</td>\n",
       "      <td>1</td>\n",
       "      <td>0</td>\n",
       "      <td>1</td>\n",
       "      <td>...</td>\n",
       "      <td>1</td>\n",
       "      <td>0</td>\n",
       "      <td>1</td>\n",
       "      <td>1</td>\n",
       "      <td>1</td>\n",
       "      <td>1</td>\n",
       "      <td>1</td>\n",
       "      <td>1</td>\n",
       "      <td>1</td>\n",
       "      <td>1</td>\n",
       "    </tr>\n",
       "    <tr>\n",
       "      <th>10</th>\n",
       "      <td>0</td>\n",
       "      <td>0</td>\n",
       "      <td>0</td>\n",
       "      <td>1</td>\n",
       "      <td>1</td>\n",
       "      <td>1</td>\n",
       "      <td>0</td>\n",
       "      <td>0</td>\n",
       "      <td>0</td>\n",
       "      <td>1</td>\n",
       "      <td>...</td>\n",
       "      <td>1</td>\n",
       "      <td>1</td>\n",
       "      <td>1</td>\n",
       "      <td>0</td>\n",
       "      <td>0</td>\n",
       "      <td>1</td>\n",
       "      <td>0</td>\n",
       "      <td>1</td>\n",
       "      <td>1</td>\n",
       "      <td>1</td>\n",
       "    </tr>\n",
       "  </tbody>\n",
       "</table>\n",
       "<p>11 rows × 51 columns</p>\n",
       "</div>"
      ],
      "text/plain": [
       "    0    20   23   34   42   52   57   73   91   95   ...  278  281  282  283  \\\n",
       "0     0    0    0    0    1    1    0    0    0    1  ...    0    1    0    0   \n",
       "1     0    0    0    0    1    1    0    0    0    1  ...    0    1    1    1   \n",
       "2     0    0    0    0    1    1    0    0    1    1  ...    0    1    1    1   \n",
       "3     0    0    0    0    0    0    0    0    0    0  ...    1    1    1    1   \n",
       "4     0    0    0    0    0    0    0    0    0    0  ...    1    1    1    1   \n",
       "5     0    0    0    0    0    0    0    0    0    0  ...    1    1    1    1   \n",
       "6     0    0    0    0    1    1    0    0    0    1  ...    0    1    1    0   \n",
       "7     0    0    1    0    1    1    0    0    1    1  ...    1    1    1    1   \n",
       "8     0    0    0    0    1    1    0    0    0    1  ...    1    1    1    1   \n",
       "9     1    1    0    1    0    1    1    1    0    1  ...    1    0    1    1   \n",
       "10    0    0    0    1    1    1    0    0    0    1  ...    1    1    1    0   \n",
       "\n",
       "    286  287  293  296  299  302  \n",
       "0     0    0    0    0    0    0  \n",
       "1     0    0    1    1    1    0  \n",
       "2     0    1    1    1    1    0  \n",
       "3     1    1    1    1    1    1  \n",
       "4     1    1    1    1    1    1  \n",
       "5     1    1    1    1    1    1  \n",
       "6     0    0    1    1    0    0  \n",
       "7     0    1    0    0    1    0  \n",
       "8     1    1    1    1    1    1  \n",
       "9     1    1    1    1    1    1  \n",
       "10    0    1    0    1    1    1  \n",
       "\n",
       "[11 rows x 51 columns]"
      ]
     },
     "execution_count": 137,
     "metadata": {},
     "output_type": "execute_result"
    }
   ],
   "source": [
    "# find columns in df_pred_meta with not the same values in the whole column\n",
    "df_pred_meta_red = df_pred_meta.copy()\n",
    "df_pred_meta_red = df_pred_meta_red.loc[:, df_pred_meta_red.apply(pd.Series.nunique, axis=0) != 1]\n",
    "df_pred_meta_red"
   ]
  },
  {
   "cell_type": "code",
   "execution_count": 150,
   "metadata": {},
   "outputs": [
    {
     "data": {
      "application/vnd.plotly.v1+json": {
       "config": {
        "plotlyServerURL": "https://plot.ly"
       },
       "data": [
        {
         "marker": {
          "color": [
           "rgb(0, 0, 0)",
           "rgb(16, 16, 16)",
           "rgb(38, 38, 38)",
           "rgb(59, 59, 59)",
           "rgb(81, 80, 80)",
           "rgb(102, 101, 101)",
           "rgb(124, 123, 122)",
           "rgb(146, 146, 145)",
           "rgb(171, 171, 170)",
           "rgb(197, 197, 195)",
           "rgb(224, 224, 223)",
           "rgb(254, 254, 253)"
          ]
         },
         "name": "KNN",
         "type": "bar",
         "x": [
          "accuracy",
          "precision",
          "recall",
          "roc_auc_score",
          "geometric_mean_score",
          "matthews_corrcoef",
          "f1_weighted"
         ],
         "xaxis": "x",
         "y": [
          70.31,
          70.36,
          70.31,
          72.5,
          100,
          100,
          100
         ],
         "yaxis": "y"
        },
        {
         "marker": {
          "color": [
           "rgb(0, 0, 0)",
           "rgb(16, 16, 16)",
           "rgb(38, 38, 38)",
           "rgb(59, 59, 59)",
           "rgb(81, 80, 80)",
           "rgb(102, 101, 101)",
           "rgb(124, 123, 122)",
           "rgb(146, 146, 145)",
           "rgb(171, 171, 170)",
           "rgb(197, 197, 195)",
           "rgb(224, 224, 223)",
           "rgb(254, 254, 253)"
          ]
         },
         "name": "SVM",
         "type": "bar",
         "x": [
          "accuracy",
          "precision",
          "recall",
          "roc_auc_score",
          "geometric_mean_score",
          "matthews_corrcoef",
          "f1_weighted"
         ],
         "xaxis": "x13",
         "y": [
          69.62,
          69.8,
          69.62,
          73.91,
          100,
          100,
          100
         ],
         "yaxis": "y13"
        },
        {
         "marker": {
          "color": [
           "rgb(0, 0, 0)",
           "rgb(16, 16, 16)",
           "rgb(38, 38, 38)",
           "rgb(59, 59, 59)",
           "rgb(81, 80, 80)",
           "rgb(102, 101, 101)",
           "rgb(124, 123, 122)",
           "rgb(146, 146, 145)",
           "rgb(171, 171, 170)",
           "rgb(197, 197, 195)",
           "rgb(224, 224, 223)",
           "rgb(254, 254, 253)"
          ]
         },
         "name": "GNB",
         "type": "bar",
         "x": [
          "accuracy",
          "precision",
          "recall",
          "roc_auc_score",
          "geometric_mean_score",
          "matthews_corrcoef",
          "f1_weighted"
         ],
         "xaxis": "x25",
         "y": [
          69.29,
          69.48,
          69.29,
          73.84,
          100,
          100,
          100
         ],
         "yaxis": "y25"
        },
        {
         "marker": {
          "color": [
           "rgb(0, 0, 0)",
           "rgb(16, 16, 16)",
           "rgb(38, 38, 38)",
           "rgb(59, 59, 59)",
           "rgb(81, 80, 80)",
           "rgb(102, 101, 101)",
           "rgb(124, 123, 122)",
           "rgb(146, 146, 145)",
           "rgb(171, 171, 170)",
           "rgb(197, 197, 195)",
           "rgb(224, 224, 223)",
           "rgb(254, 254, 253)"
          ]
         },
         "name": "MLP",
         "type": "bar",
         "x": [
          "accuracy",
          "precision",
          "recall",
          "roc_auc_score",
          "geometric_mean_score",
          "matthews_corrcoef",
          "f1_weighted"
         ],
         "xaxis": "x37",
         "y": [
          69.29,
          69.48,
          69.29,
          73.82,
          100,
          100,
          100
         ],
         "yaxis": "y37"
        },
        {
         "marker": {
          "color": [
           "rgb(0, 0, 0)",
           "rgb(16, 16, 16)",
           "rgb(38, 38, 38)",
           "rgb(59, 59, 59)",
           "rgb(81, 80, 80)",
           "rgb(102, 101, 101)",
           "rgb(124, 123, 122)",
           "rgb(146, 146, 145)",
           "rgb(171, 171, 170)",
           "rgb(197, 197, 195)",
           "rgb(224, 224, 223)",
           "rgb(254, 254, 253)"
          ]
         },
         "name": "LR",
         "type": "bar",
         "x": [
          "accuracy",
          "precision",
          "recall",
          "roc_auc_score",
          "geometric_mean_score",
          "matthews_corrcoef",
          "f1_weighted"
         ],
         "xaxis": "x49",
         "y": [
          69.64,
          69.61,
          69.64,
          72.85,
          100,
          100,
          100
         ],
         "yaxis": "y49"
        },
        {
         "marker": {
          "color": [
           "rgb(0, 0, 0)",
           "rgb(16, 16, 16)",
           "rgb(38, 38, 38)",
           "rgb(59, 59, 59)",
           "rgb(81, 80, 80)",
           "rgb(102, 101, 101)",
           "rgb(124, 123, 122)",
           "rgb(146, 146, 145)",
           "rgb(171, 171, 170)",
           "rgb(197, 197, 195)",
           "rgb(224, 224, 223)",
           "rgb(254, 254, 253)"
          ]
         },
         "name": "LDA",
         "type": "bar",
         "x": [
          "accuracy",
          "precision",
          "recall",
          "roc_auc_score",
          "geometric_mean_score",
          "matthews_corrcoef",
          "f1_weighted"
         ],
         "xaxis": "x61",
         "y": [
          82.5,
          82.92,
          82.5,
          89.98,
          85.43,
          72.38,
          85.99
         ],
         "yaxis": "y61"
        },
        {
         "marker": {
          "color": [
           "rgb(0, 0, 0)",
           "rgb(16, 16, 16)",
           "rgb(38, 38, 38)",
           "rgb(59, 59, 59)",
           "rgb(81, 80, 80)",
           "rgb(102, 101, 101)",
           "rgb(124, 123, 122)",
           "rgb(146, 146, 145)",
           "rgb(171, 171, 170)",
           "rgb(197, 197, 195)",
           "rgb(224, 224, 223)",
           "rgb(254, 254, 253)"
          ]
         },
         "name": "QDA",
         "type": "bar",
         "x": [
          "accuracy",
          "precision",
          "recall",
          "roc_auc_score",
          "geometric_mean_score",
          "matthews_corrcoef",
          "f1_weighted"
         ],
         "xaxis": "x73",
         "y": [
          82.83,
          83.3,
          82.83,
          90.14,
          85.07,
          71.75,
          85.65
         ],
         "yaxis": "y73"
        },
        {
         "marker": {
          "color": [
           "rgb(0, 0, 0)",
           "rgb(16, 16, 16)",
           "rgb(38, 38, 38)",
           "rgb(59, 59, 59)",
           "rgb(81, 80, 80)",
           "rgb(102, 101, 101)",
           "rgb(124, 123, 122)",
           "rgb(146, 146, 145)",
           "rgb(171, 171, 170)",
           "rgb(197, 197, 195)",
           "rgb(224, 224, 223)",
           "rgb(254, 254, 253)"
          ]
         },
         "name": "RF",
         "type": "bar",
         "x": [
          "accuracy",
          "precision",
          "recall",
          "roc_auc_score",
          "geometric_mean_score",
          "matthews_corrcoef",
          "f1_weighted"
         ],
         "xaxis": "x85",
         "y": [
          82.83,
          83.3,
          82.83,
          90.15,
          85.07,
          71.75,
          85.65
         ],
         "yaxis": "y85"
        },
        {
         "marker": {
          "color": [
           "rgb(0, 0, 0)",
           "rgb(16, 16, 16)",
           "rgb(38, 38, 38)",
           "rgb(59, 59, 59)",
           "rgb(81, 80, 80)",
           "rgb(102, 101, 101)",
           "rgb(124, 123, 122)",
           "rgb(146, 146, 145)",
           "rgb(171, 171, 170)",
           "rgb(197, 197, 195)",
           "rgb(224, 224, 223)",
           "rgb(254, 254, 253)"
          ]
         },
         "name": "ET",
         "type": "bar",
         "x": [
          "accuracy",
          "precision",
          "recall",
          "roc_auc_score",
          "geometric_mean_score",
          "matthews_corrcoef",
          "f1_weighted"
         ],
         "xaxis": "x97",
         "y": [
          82.83,
          83.3,
          82.83,
          90.19,
          85.07,
          71.75,
          85.65
         ],
         "yaxis": "y97"
        },
        {
         "marker": {
          "color": [
           "rgb(0, 0, 0)",
           "rgb(16, 16, 16)",
           "rgb(38, 38, 38)",
           "rgb(59, 59, 59)",
           "rgb(81, 80, 80)",
           "rgb(102, 101, 101)",
           "rgb(124, 123, 122)",
           "rgb(146, 146, 145)",
           "rgb(171, 171, 170)",
           "rgb(197, 197, 195)",
           "rgb(224, 224, 223)",
           "rgb(254, 254, 253)"
          ]
         },
         "name": "AB",
         "type": "bar",
         "x": [
          "accuracy",
          "precision",
          "recall",
          "roc_auc_score",
          "geometric_mean_score",
          "matthews_corrcoef",
          "f1_weighted"
         ],
         "xaxis": "x109",
         "y": [
          82.83,
          83.3,
          82.83,
          90.09,
          85.07,
          71.75,
          85.65
         ],
         "yaxis": "y109"
        },
        {
         "marker": {
          "color": [
           "rgb(0, 0, 0)",
           "rgb(16, 16, 16)",
           "rgb(38, 38, 38)",
           "rgb(59, 59, 59)",
           "rgb(81, 80, 80)",
           "rgb(102, 101, 101)",
           "rgb(124, 123, 122)",
           "rgb(146, 146, 145)",
           "rgb(171, 171, 170)",
           "rgb(197, 197, 195)",
           "rgb(224, 224, 223)",
           "rgb(254, 254, 253)"
          ]
         },
         "name": "GB",
         "type": "bar",
         "x": [
          "accuracy",
          "precision",
          "recall",
          "roc_auc_score",
          "geometric_mean_score",
          "matthews_corrcoef",
          "f1_weighted"
         ],
         "xaxis": "x121",
         "y": [
          80.51,
          80.65,
          80.51,
          89.18,
          83.79,
          68.01,
          84.11
         ],
         "yaxis": "y121"
        }
       ],
       "layout": {
        "height": 1000,
        "showlegend": false,
        "template": {
         "data": {
          "bar": [
           {
            "error_x": {
             "color": "#2a3f5f"
            },
            "error_y": {
             "color": "#2a3f5f"
            },
            "marker": {
             "line": {
              "color": "#E5ECF6",
              "width": 0.5
             },
             "pattern": {
              "fillmode": "overlay",
              "size": 10,
              "solidity": 0.2
             }
            },
            "type": "bar"
           }
          ],
          "barpolar": [
           {
            "marker": {
             "line": {
              "color": "#E5ECF6",
              "width": 0.5
             },
             "pattern": {
              "fillmode": "overlay",
              "size": 10,
              "solidity": 0.2
             }
            },
            "type": "barpolar"
           }
          ],
          "carpet": [
           {
            "aaxis": {
             "endlinecolor": "#2a3f5f",
             "gridcolor": "white",
             "linecolor": "white",
             "minorgridcolor": "white",
             "startlinecolor": "#2a3f5f"
            },
            "baxis": {
             "endlinecolor": "#2a3f5f",
             "gridcolor": "white",
             "linecolor": "white",
             "minorgridcolor": "white",
             "startlinecolor": "#2a3f5f"
            },
            "type": "carpet"
           }
          ],
          "choropleth": [
           {
            "colorbar": {
             "outlinewidth": 0,
             "ticks": ""
            },
            "type": "choropleth"
           }
          ],
          "contour": [
           {
            "colorbar": {
             "outlinewidth": 0,
             "ticks": ""
            },
            "colorscale": [
             [
              0,
              "#0d0887"
             ],
             [
              0.1111111111111111,
              "#46039f"
             ],
             [
              0.2222222222222222,
              "#7201a8"
             ],
             [
              0.3333333333333333,
              "#9c179e"
             ],
             [
              0.4444444444444444,
              "#bd3786"
             ],
             [
              0.5555555555555556,
              "#d8576b"
             ],
             [
              0.6666666666666666,
              "#ed7953"
             ],
             [
              0.7777777777777778,
              "#fb9f3a"
             ],
             [
              0.8888888888888888,
              "#fdca26"
             ],
             [
              1,
              "#f0f921"
             ]
            ],
            "type": "contour"
           }
          ],
          "contourcarpet": [
           {
            "colorbar": {
             "outlinewidth": 0,
             "ticks": ""
            },
            "type": "contourcarpet"
           }
          ],
          "heatmap": [
           {
            "colorbar": {
             "outlinewidth": 0,
             "ticks": ""
            },
            "colorscale": [
             [
              0,
              "#0d0887"
             ],
             [
              0.1111111111111111,
              "#46039f"
             ],
             [
              0.2222222222222222,
              "#7201a8"
             ],
             [
              0.3333333333333333,
              "#9c179e"
             ],
             [
              0.4444444444444444,
              "#bd3786"
             ],
             [
              0.5555555555555556,
              "#d8576b"
             ],
             [
              0.6666666666666666,
              "#ed7953"
             ],
             [
              0.7777777777777778,
              "#fb9f3a"
             ],
             [
              0.8888888888888888,
              "#fdca26"
             ],
             [
              1,
              "#f0f921"
             ]
            ],
            "type": "heatmap"
           }
          ],
          "heatmapgl": [
           {
            "colorbar": {
             "outlinewidth": 0,
             "ticks": ""
            },
            "colorscale": [
             [
              0,
              "#0d0887"
             ],
             [
              0.1111111111111111,
              "#46039f"
             ],
             [
              0.2222222222222222,
              "#7201a8"
             ],
             [
              0.3333333333333333,
              "#9c179e"
             ],
             [
              0.4444444444444444,
              "#bd3786"
             ],
             [
              0.5555555555555556,
              "#d8576b"
             ],
             [
              0.6666666666666666,
              "#ed7953"
             ],
             [
              0.7777777777777778,
              "#fb9f3a"
             ],
             [
              0.8888888888888888,
              "#fdca26"
             ],
             [
              1,
              "#f0f921"
             ]
            ],
            "type": "heatmapgl"
           }
          ],
          "histogram": [
           {
            "marker": {
             "pattern": {
              "fillmode": "overlay",
              "size": 10,
              "solidity": 0.2
             }
            },
            "type": "histogram"
           }
          ],
          "histogram2d": [
           {
            "colorbar": {
             "outlinewidth": 0,
             "ticks": ""
            },
            "colorscale": [
             [
              0,
              "#0d0887"
             ],
             [
              0.1111111111111111,
              "#46039f"
             ],
             [
              0.2222222222222222,
              "#7201a8"
             ],
             [
              0.3333333333333333,
              "#9c179e"
             ],
             [
              0.4444444444444444,
              "#bd3786"
             ],
             [
              0.5555555555555556,
              "#d8576b"
             ],
             [
              0.6666666666666666,
              "#ed7953"
             ],
             [
              0.7777777777777778,
              "#fb9f3a"
             ],
             [
              0.8888888888888888,
              "#fdca26"
             ],
             [
              1,
              "#f0f921"
             ]
            ],
            "type": "histogram2d"
           }
          ],
          "histogram2dcontour": [
           {
            "colorbar": {
             "outlinewidth": 0,
             "ticks": ""
            },
            "colorscale": [
             [
              0,
              "#0d0887"
             ],
             [
              0.1111111111111111,
              "#46039f"
             ],
             [
              0.2222222222222222,
              "#7201a8"
             ],
             [
              0.3333333333333333,
              "#9c179e"
             ],
             [
              0.4444444444444444,
              "#bd3786"
             ],
             [
              0.5555555555555556,
              "#d8576b"
             ],
             [
              0.6666666666666666,
              "#ed7953"
             ],
             [
              0.7777777777777778,
              "#fb9f3a"
             ],
             [
              0.8888888888888888,
              "#fdca26"
             ],
             [
              1,
              "#f0f921"
             ]
            ],
            "type": "histogram2dcontour"
           }
          ],
          "mesh3d": [
           {
            "colorbar": {
             "outlinewidth": 0,
             "ticks": ""
            },
            "type": "mesh3d"
           }
          ],
          "parcoords": [
           {
            "line": {
             "colorbar": {
              "outlinewidth": 0,
              "ticks": ""
             }
            },
            "type": "parcoords"
           }
          ],
          "pie": [
           {
            "automargin": true,
            "type": "pie"
           }
          ],
          "scatter": [
           {
            "fillpattern": {
             "fillmode": "overlay",
             "size": 10,
             "solidity": 0.2
            },
            "type": "scatter"
           }
          ],
          "scatter3d": [
           {
            "line": {
             "colorbar": {
              "outlinewidth": 0,
              "ticks": ""
             }
            },
            "marker": {
             "colorbar": {
              "outlinewidth": 0,
              "ticks": ""
             }
            },
            "type": "scatter3d"
           }
          ],
          "scattercarpet": [
           {
            "marker": {
             "colorbar": {
              "outlinewidth": 0,
              "ticks": ""
             }
            },
            "type": "scattercarpet"
           }
          ],
          "scattergeo": [
           {
            "marker": {
             "colorbar": {
              "outlinewidth": 0,
              "ticks": ""
             }
            },
            "type": "scattergeo"
           }
          ],
          "scattergl": [
           {
            "marker": {
             "colorbar": {
              "outlinewidth": 0,
              "ticks": ""
             }
            },
            "type": "scattergl"
           }
          ],
          "scattermapbox": [
           {
            "marker": {
             "colorbar": {
              "outlinewidth": 0,
              "ticks": ""
             }
            },
            "type": "scattermapbox"
           }
          ],
          "scatterpolar": [
           {
            "marker": {
             "colorbar": {
              "outlinewidth": 0,
              "ticks": ""
             }
            },
            "type": "scatterpolar"
           }
          ],
          "scatterpolargl": [
           {
            "marker": {
             "colorbar": {
              "outlinewidth": 0,
              "ticks": ""
             }
            },
            "type": "scatterpolargl"
           }
          ],
          "scatterternary": [
           {
            "marker": {
             "colorbar": {
              "outlinewidth": 0,
              "ticks": ""
             }
            },
            "type": "scatterternary"
           }
          ],
          "surface": [
           {
            "colorbar": {
             "outlinewidth": 0,
             "ticks": ""
            },
            "colorscale": [
             [
              0,
              "#0d0887"
             ],
             [
              0.1111111111111111,
              "#46039f"
             ],
             [
              0.2222222222222222,
              "#7201a8"
             ],
             [
              0.3333333333333333,
              "#9c179e"
             ],
             [
              0.4444444444444444,
              "#bd3786"
             ],
             [
              0.5555555555555556,
              "#d8576b"
             ],
             [
              0.6666666666666666,
              "#ed7953"
             ],
             [
              0.7777777777777778,
              "#fb9f3a"
             ],
             [
              0.8888888888888888,
              "#fdca26"
             ],
             [
              1,
              "#f0f921"
             ]
            ],
            "type": "surface"
           }
          ],
          "table": [
           {
            "cells": {
             "fill": {
              "color": "#EBF0F8"
             },
             "line": {
              "color": "white"
             }
            },
            "header": {
             "fill": {
              "color": "#C8D4E3"
             },
             "line": {
              "color": "white"
             }
            },
            "type": "table"
           }
          ]
         },
         "layout": {
          "annotationdefaults": {
           "arrowcolor": "#2a3f5f",
           "arrowhead": 0,
           "arrowwidth": 1
          },
          "autotypenumbers": "strict",
          "coloraxis": {
           "colorbar": {
            "outlinewidth": 0,
            "ticks": ""
           }
          },
          "colorscale": {
           "diverging": [
            [
             0,
             "#8e0152"
            ],
            [
             0.1,
             "#c51b7d"
            ],
            [
             0.2,
             "#de77ae"
            ],
            [
             0.3,
             "#f1b6da"
            ],
            [
             0.4,
             "#fde0ef"
            ],
            [
             0.5,
             "#f7f7f7"
            ],
            [
             0.6,
             "#e6f5d0"
            ],
            [
             0.7,
             "#b8e186"
            ],
            [
             0.8,
             "#7fbc41"
            ],
            [
             0.9,
             "#4d9221"
            ],
            [
             1,
             "#276419"
            ]
           ],
           "sequential": [
            [
             0,
             "#0d0887"
            ],
            [
             0.1111111111111111,
             "#46039f"
            ],
            [
             0.2222222222222222,
             "#7201a8"
            ],
            [
             0.3333333333333333,
             "#9c179e"
            ],
            [
             0.4444444444444444,
             "#bd3786"
            ],
            [
             0.5555555555555556,
             "#d8576b"
            ],
            [
             0.6666666666666666,
             "#ed7953"
            ],
            [
             0.7777777777777778,
             "#fb9f3a"
            ],
            [
             0.8888888888888888,
             "#fdca26"
            ],
            [
             1,
             "#f0f921"
            ]
           ],
           "sequentialminus": [
            [
             0,
             "#0d0887"
            ],
            [
             0.1111111111111111,
             "#46039f"
            ],
            [
             0.2222222222222222,
             "#7201a8"
            ],
            [
             0.3333333333333333,
             "#9c179e"
            ],
            [
             0.4444444444444444,
             "#bd3786"
            ],
            [
             0.5555555555555556,
             "#d8576b"
            ],
            [
             0.6666666666666666,
             "#ed7953"
            ],
            [
             0.7777777777777778,
             "#fb9f3a"
            ],
            [
             0.8888888888888888,
             "#fdca26"
            ],
            [
             1,
             "#f0f921"
            ]
           ]
          },
          "colorway": [
           "#636efa",
           "#EF553B",
           "#00cc96",
           "#ab63fa",
           "#FFA15A",
           "#19d3f3",
           "#FF6692",
           "#B6E880",
           "#FF97FF",
           "#FECB52"
          ],
          "font": {
           "color": "#2a3f5f"
          },
          "geo": {
           "bgcolor": "white",
           "lakecolor": "white",
           "landcolor": "#E5ECF6",
           "showlakes": true,
           "showland": true,
           "subunitcolor": "white"
          },
          "hoverlabel": {
           "align": "left"
          },
          "hovermode": "closest",
          "mapbox": {
           "style": "light"
          },
          "paper_bgcolor": "white",
          "plot_bgcolor": "#E5ECF6",
          "polar": {
           "angularaxis": {
            "gridcolor": "white",
            "linecolor": "white",
            "ticks": ""
           },
           "bgcolor": "#E5ECF6",
           "radialaxis": {
            "gridcolor": "white",
            "linecolor": "white",
            "ticks": ""
           }
          },
          "scene": {
           "xaxis": {
            "backgroundcolor": "#E5ECF6",
            "gridcolor": "white",
            "gridwidth": 2,
            "linecolor": "white",
            "showbackground": true,
            "ticks": "",
            "zerolinecolor": "white"
           },
           "yaxis": {
            "backgroundcolor": "#E5ECF6",
            "gridcolor": "white",
            "gridwidth": 2,
            "linecolor": "white",
            "showbackground": true,
            "ticks": "",
            "zerolinecolor": "white"
           },
           "zaxis": {
            "backgroundcolor": "#E5ECF6",
            "gridcolor": "white",
            "gridwidth": 2,
            "linecolor": "white",
            "showbackground": true,
            "ticks": "",
            "zerolinecolor": "white"
           }
          },
          "shapedefaults": {
           "line": {
            "color": "#2a3f5f"
           }
          },
          "ternary": {
           "aaxis": {
            "gridcolor": "white",
            "linecolor": "white",
            "ticks": ""
           },
           "baxis": {
            "gridcolor": "white",
            "linecolor": "white",
            "ticks": ""
           },
           "bgcolor": "#E5ECF6",
           "caxis": {
            "gridcolor": "white",
            "linecolor": "white",
            "ticks": ""
           }
          },
          "title": {
           "x": 0.05
          },
          "xaxis": {
           "automargin": true,
           "gridcolor": "white",
           "linecolor": "white",
           "ticks": "",
           "title": {
            "standoff": 15
           },
           "zerolinecolor": "white",
           "zerolinewidth": 2
          },
          "yaxis": {
           "automargin": true,
           "gridcolor": "white",
           "linecolor": "white",
           "ticks": "",
           "title": {
            "standoff": 15
           },
           "zerolinecolor": "white",
           "zerolinewidth": 2
          }
         }
        },
        "width": 1000,
        "xaxis": {
         "anchor": "y",
         "domain": [
          0,
          0.07272727272727274
         ],
         "matches": "x111",
         "showticklabels": false
        },
        "xaxis10": {
         "anchor": "y10",
         "domain": [
          0.8345454545454547,
          0.9072727272727275
         ],
         "matches": "x111",
         "showticklabels": false
        },
        "xaxis100": {
         "anchor": "y100",
         "domain": [
          0,
          0.07272727272727274
         ],
         "matches": "x111",
         "showticklabels": false
        },
        "xaxis101": {
         "anchor": "y101",
         "domain": [
          0.09272727272727274,
          0.16545454545454547
         ],
         "matches": "x111",
         "showticklabels": false
        },
        "xaxis102": {
         "anchor": "y102",
         "domain": [
          0.18545454545454548,
          0.25818181818181823
         ],
         "matches": "x111",
         "showticklabels": false
        },
        "xaxis103": {
         "anchor": "y103",
         "domain": [
          0.2781818181818182,
          0.35090909090909095
         ],
         "matches": "x111",
         "showticklabels": false
        },
        "xaxis104": {
         "anchor": "y104",
         "domain": [
          0.37090909090909097,
          0.4436363636363637
         ],
         "matches": "x111",
         "showticklabels": false
        },
        "xaxis105": {
         "anchor": "y105",
         "domain": [
          0.46363636363636374,
          0.5363636363636365
         ],
         "matches": "x111",
         "showticklabels": false
        },
        "xaxis106": {
         "anchor": "y106",
         "domain": [
          0.5563636363636364,
          0.6290909090909091
         ],
         "matches": "x111",
         "showticklabels": false
        },
        "xaxis107": {
         "anchor": "y107",
         "domain": [
          0.6490909090909092,
          0.7218181818181819
         ],
         "matches": "x111",
         "showticklabels": false
        },
        "xaxis108": {
         "anchor": "y108",
         "domain": [
          0.7418181818181819,
          0.8145454545454547
         ],
         "matches": "x111",
         "showticklabels": false
        },
        "xaxis109": {
         "anchor": "y109",
         "domain": [
          0.8345454545454547,
          0.9072727272727275
         ],
         "matches": "x111",
         "showticklabels": false
        },
        "xaxis11": {
         "anchor": "y11",
         "domain": [
          0.9272727272727275,
          1
         ],
         "matches": "x111",
         "showticklabels": false
        },
        "xaxis110": {
         "anchor": "y110",
         "domain": [
          0.9272727272727275,
          1
         ],
         "matches": "x111",
         "showticklabels": false
        },
        "xaxis111": {
         "anchor": "y111",
         "domain": [
          0,
          0.07272727272727274
         ],
         "showticklabels": false
        },
        "xaxis112": {
         "anchor": "y112",
         "domain": [
          0.09272727272727274,
          0.16545454545454547
         ],
         "matches": "x111",
         "showticklabels": false
        },
        "xaxis113": {
         "anchor": "y113",
         "domain": [
          0.18545454545454548,
          0.25818181818181823
         ],
         "matches": "x111",
         "showticklabels": false
        },
        "xaxis114": {
         "anchor": "y114",
         "domain": [
          0.2781818181818182,
          0.35090909090909095
         ],
         "matches": "x111",
         "showticklabels": false
        },
        "xaxis115": {
         "anchor": "y115",
         "domain": [
          0.37090909090909097,
          0.4436363636363637
         ],
         "matches": "x111",
         "showticklabels": false
        },
        "xaxis116": {
         "anchor": "y116",
         "domain": [
          0.46363636363636374,
          0.5363636363636365
         ],
         "matches": "x111",
         "showticklabels": false
        },
        "xaxis117": {
         "anchor": "y117",
         "domain": [
          0.5563636363636364,
          0.6290909090909091
         ],
         "matches": "x111",
         "showticklabels": false
        },
        "xaxis118": {
         "anchor": "y118",
         "domain": [
          0.6490909090909092,
          0.7218181818181819
         ],
         "matches": "x111",
         "showticklabels": false
        },
        "xaxis119": {
         "anchor": "y119",
         "domain": [
          0.7418181818181819,
          0.8145454545454547
         ],
         "matches": "x111",
         "showticklabels": false
        },
        "xaxis12": {
         "anchor": "y12",
         "domain": [
          0,
          0.07272727272727274
         ],
         "matches": "x111",
         "showticklabels": false
        },
        "xaxis120": {
         "anchor": "y120",
         "domain": [
          0.8345454545454547,
          0.9072727272727275
         ],
         "matches": "x111",
         "showticklabels": false
        },
        "xaxis121": {
         "anchor": "y121",
         "domain": [
          0.9272727272727275,
          1
         ],
         "matches": "x111",
         "showticklabels": false
        },
        "xaxis13": {
         "anchor": "y13",
         "domain": [
          0.09272727272727274,
          0.16545454545454547
         ],
         "matches": "x111",
         "showticklabels": false
        },
        "xaxis14": {
         "anchor": "y14",
         "domain": [
          0.18545454545454548,
          0.25818181818181823
         ],
         "matches": "x111",
         "showticklabels": false
        },
        "xaxis15": {
         "anchor": "y15",
         "domain": [
          0.2781818181818182,
          0.35090909090909095
         ],
         "matches": "x111",
         "showticklabels": false
        },
        "xaxis16": {
         "anchor": "y16",
         "domain": [
          0.37090909090909097,
          0.4436363636363637
         ],
         "matches": "x111",
         "showticklabels": false
        },
        "xaxis17": {
         "anchor": "y17",
         "domain": [
          0.46363636363636374,
          0.5363636363636365
         ],
         "matches": "x111",
         "showticklabels": false
        },
        "xaxis18": {
         "anchor": "y18",
         "domain": [
          0.5563636363636364,
          0.6290909090909091
         ],
         "matches": "x111",
         "showticklabels": false
        },
        "xaxis19": {
         "anchor": "y19",
         "domain": [
          0.6490909090909092,
          0.7218181818181819
         ],
         "matches": "x111",
         "showticklabels": false
        },
        "xaxis2": {
         "anchor": "y2",
         "domain": [
          0.09272727272727274,
          0.16545454545454547
         ],
         "matches": "x111",
         "showticklabels": false
        },
        "xaxis20": {
         "anchor": "y20",
         "domain": [
          0.7418181818181819,
          0.8145454545454547
         ],
         "matches": "x111",
         "showticklabels": false
        },
        "xaxis21": {
         "anchor": "y21",
         "domain": [
          0.8345454545454547,
          0.9072727272727275
         ],
         "matches": "x111",
         "showticklabels": false
        },
        "xaxis22": {
         "anchor": "y22",
         "domain": [
          0.9272727272727275,
          1
         ],
         "matches": "x111",
         "showticklabels": false
        },
        "xaxis23": {
         "anchor": "y23",
         "domain": [
          0,
          0.07272727272727274
         ],
         "matches": "x111",
         "showticklabels": false
        },
        "xaxis24": {
         "anchor": "y24",
         "domain": [
          0.09272727272727274,
          0.16545454545454547
         ],
         "matches": "x111",
         "showticklabels": false
        },
        "xaxis25": {
         "anchor": "y25",
         "domain": [
          0.18545454545454548,
          0.25818181818181823
         ],
         "matches": "x111",
         "showticklabels": false
        },
        "xaxis26": {
         "anchor": "y26",
         "domain": [
          0.2781818181818182,
          0.35090909090909095
         ],
         "matches": "x111",
         "showticklabels": false
        },
        "xaxis27": {
         "anchor": "y27",
         "domain": [
          0.37090909090909097,
          0.4436363636363637
         ],
         "matches": "x111",
         "showticklabels": false
        },
        "xaxis28": {
         "anchor": "y28",
         "domain": [
          0.46363636363636374,
          0.5363636363636365
         ],
         "matches": "x111",
         "showticklabels": false
        },
        "xaxis29": {
         "anchor": "y29",
         "domain": [
          0.5563636363636364,
          0.6290909090909091
         ],
         "matches": "x111",
         "showticklabels": false
        },
        "xaxis3": {
         "anchor": "y3",
         "domain": [
          0.18545454545454548,
          0.25818181818181823
         ],
         "matches": "x111",
         "showticklabels": false
        },
        "xaxis30": {
         "anchor": "y30",
         "domain": [
          0.6490909090909092,
          0.7218181818181819
         ],
         "matches": "x111",
         "showticklabels": false
        },
        "xaxis31": {
         "anchor": "y31",
         "domain": [
          0.7418181818181819,
          0.8145454545454547
         ],
         "matches": "x111",
         "showticklabels": false
        },
        "xaxis32": {
         "anchor": "y32",
         "domain": [
          0.8345454545454547,
          0.9072727272727275
         ],
         "matches": "x111",
         "showticklabels": false
        },
        "xaxis33": {
         "anchor": "y33",
         "domain": [
          0.9272727272727275,
          1
         ],
         "matches": "x111",
         "showticklabels": false
        },
        "xaxis34": {
         "anchor": "y34",
         "domain": [
          0,
          0.07272727272727274
         ],
         "matches": "x111",
         "showticklabels": false
        },
        "xaxis35": {
         "anchor": "y35",
         "domain": [
          0.09272727272727274,
          0.16545454545454547
         ],
         "matches": "x111",
         "showticklabels": false
        },
        "xaxis36": {
         "anchor": "y36",
         "domain": [
          0.18545454545454548,
          0.25818181818181823
         ],
         "matches": "x111",
         "showticklabels": false
        },
        "xaxis37": {
         "anchor": "y37",
         "domain": [
          0.2781818181818182,
          0.35090909090909095
         ],
         "matches": "x111",
         "showticklabels": false
        },
        "xaxis38": {
         "anchor": "y38",
         "domain": [
          0.37090909090909097,
          0.4436363636363637
         ],
         "matches": "x111",
         "showticklabels": false
        },
        "xaxis39": {
         "anchor": "y39",
         "domain": [
          0.46363636363636374,
          0.5363636363636365
         ],
         "matches": "x111",
         "showticklabels": false
        },
        "xaxis4": {
         "anchor": "y4",
         "domain": [
          0.2781818181818182,
          0.35090909090909095
         ],
         "matches": "x111",
         "showticklabels": false
        },
        "xaxis40": {
         "anchor": "y40",
         "domain": [
          0.5563636363636364,
          0.6290909090909091
         ],
         "matches": "x111",
         "showticklabels": false
        },
        "xaxis41": {
         "anchor": "y41",
         "domain": [
          0.6490909090909092,
          0.7218181818181819
         ],
         "matches": "x111",
         "showticklabels": false
        },
        "xaxis42": {
         "anchor": "y42",
         "domain": [
          0.7418181818181819,
          0.8145454545454547
         ],
         "matches": "x111",
         "showticklabels": false
        },
        "xaxis43": {
         "anchor": "y43",
         "domain": [
          0.8345454545454547,
          0.9072727272727275
         ],
         "matches": "x111",
         "showticklabels": false
        },
        "xaxis44": {
         "anchor": "y44",
         "domain": [
          0.9272727272727275,
          1
         ],
         "matches": "x111",
         "showticklabels": false
        },
        "xaxis45": {
         "anchor": "y45",
         "domain": [
          0,
          0.07272727272727274
         ],
         "matches": "x111",
         "showticklabels": false
        },
        "xaxis46": {
         "anchor": "y46",
         "domain": [
          0.09272727272727274,
          0.16545454545454547
         ],
         "matches": "x111",
         "showticklabels": false
        },
        "xaxis47": {
         "anchor": "y47",
         "domain": [
          0.18545454545454548,
          0.25818181818181823
         ],
         "matches": "x111",
         "showticklabels": false
        },
        "xaxis48": {
         "anchor": "y48",
         "domain": [
          0.2781818181818182,
          0.35090909090909095
         ],
         "matches": "x111",
         "showticklabels": false
        },
        "xaxis49": {
         "anchor": "y49",
         "domain": [
          0.37090909090909097,
          0.4436363636363637
         ],
         "matches": "x111",
         "showticklabels": false
        },
        "xaxis5": {
         "anchor": "y5",
         "domain": [
          0.37090909090909097,
          0.4436363636363637
         ],
         "matches": "x111",
         "showticklabels": false
        },
        "xaxis50": {
         "anchor": "y50",
         "domain": [
          0.46363636363636374,
          0.5363636363636365
         ],
         "matches": "x111",
         "showticklabels": false
        },
        "xaxis51": {
         "anchor": "y51",
         "domain": [
          0.5563636363636364,
          0.6290909090909091
         ],
         "matches": "x111",
         "showticklabels": false
        },
        "xaxis52": {
         "anchor": "y52",
         "domain": [
          0.6490909090909092,
          0.7218181818181819
         ],
         "matches": "x111",
         "showticklabels": false
        },
        "xaxis53": {
         "anchor": "y53",
         "domain": [
          0.7418181818181819,
          0.8145454545454547
         ],
         "matches": "x111",
         "showticklabels": false
        },
        "xaxis54": {
         "anchor": "y54",
         "domain": [
          0.8345454545454547,
          0.9072727272727275
         ],
         "matches": "x111",
         "showticklabels": false
        },
        "xaxis55": {
         "anchor": "y55",
         "domain": [
          0.9272727272727275,
          1
         ],
         "matches": "x111",
         "showticklabels": false
        },
        "xaxis56": {
         "anchor": "y56",
         "domain": [
          0,
          0.07272727272727274
         ],
         "matches": "x111",
         "showticklabels": false
        },
        "xaxis57": {
         "anchor": "y57",
         "domain": [
          0.09272727272727274,
          0.16545454545454547
         ],
         "matches": "x111",
         "showticklabels": false
        },
        "xaxis58": {
         "anchor": "y58",
         "domain": [
          0.18545454545454548,
          0.25818181818181823
         ],
         "matches": "x111",
         "showticklabels": false
        },
        "xaxis59": {
         "anchor": "y59",
         "domain": [
          0.2781818181818182,
          0.35090909090909095
         ],
         "matches": "x111",
         "showticklabels": false
        },
        "xaxis6": {
         "anchor": "y6",
         "domain": [
          0.46363636363636374,
          0.5363636363636365
         ],
         "matches": "x111",
         "showticklabels": false
        },
        "xaxis60": {
         "anchor": "y60",
         "domain": [
          0.37090909090909097,
          0.4436363636363637
         ],
         "matches": "x111",
         "showticklabels": false
        },
        "xaxis61": {
         "anchor": "y61",
         "domain": [
          0.46363636363636374,
          0.5363636363636365
         ],
         "matches": "x111",
         "showticklabels": false
        },
        "xaxis62": {
         "anchor": "y62",
         "domain": [
          0.5563636363636364,
          0.6290909090909091
         ],
         "matches": "x111",
         "showticklabels": false
        },
        "xaxis63": {
         "anchor": "y63",
         "domain": [
          0.6490909090909092,
          0.7218181818181819
         ],
         "matches": "x111",
         "showticklabels": false
        },
        "xaxis64": {
         "anchor": "y64",
         "domain": [
          0.7418181818181819,
          0.8145454545454547
         ],
         "matches": "x111",
         "showticklabels": false
        },
        "xaxis65": {
         "anchor": "y65",
         "domain": [
          0.8345454545454547,
          0.9072727272727275
         ],
         "matches": "x111",
         "showticklabels": false
        },
        "xaxis66": {
         "anchor": "y66",
         "domain": [
          0.9272727272727275,
          1
         ],
         "matches": "x111",
         "showticklabels": false
        },
        "xaxis67": {
         "anchor": "y67",
         "domain": [
          0,
          0.07272727272727274
         ],
         "matches": "x111",
         "showticklabels": false
        },
        "xaxis68": {
         "anchor": "y68",
         "domain": [
          0.09272727272727274,
          0.16545454545454547
         ],
         "matches": "x111",
         "showticklabels": false
        },
        "xaxis69": {
         "anchor": "y69",
         "domain": [
          0.18545454545454548,
          0.25818181818181823
         ],
         "matches": "x111",
         "showticklabels": false
        },
        "xaxis7": {
         "anchor": "y7",
         "domain": [
          0.5563636363636364,
          0.6290909090909091
         ],
         "matches": "x111",
         "showticklabels": false
        },
        "xaxis70": {
         "anchor": "y70",
         "domain": [
          0.2781818181818182,
          0.35090909090909095
         ],
         "matches": "x111",
         "showticklabels": false
        },
        "xaxis71": {
         "anchor": "y71",
         "domain": [
          0.37090909090909097,
          0.4436363636363637
         ],
         "matches": "x111",
         "showticklabels": false
        },
        "xaxis72": {
         "anchor": "y72",
         "domain": [
          0.46363636363636374,
          0.5363636363636365
         ],
         "matches": "x111",
         "showticklabels": false
        },
        "xaxis73": {
         "anchor": "y73",
         "domain": [
          0.5563636363636364,
          0.6290909090909091
         ],
         "matches": "x111",
         "showticklabels": false
        },
        "xaxis74": {
         "anchor": "y74",
         "domain": [
          0.6490909090909092,
          0.7218181818181819
         ],
         "matches": "x111",
         "showticklabels": false
        },
        "xaxis75": {
         "anchor": "y75",
         "domain": [
          0.7418181818181819,
          0.8145454545454547
         ],
         "matches": "x111",
         "showticklabels": false
        },
        "xaxis76": {
         "anchor": "y76",
         "domain": [
          0.8345454545454547,
          0.9072727272727275
         ],
         "matches": "x111",
         "showticklabels": false
        },
        "xaxis77": {
         "anchor": "y77",
         "domain": [
          0.9272727272727275,
          1
         ],
         "matches": "x111",
         "showticklabels": false
        },
        "xaxis78": {
         "anchor": "y78",
         "domain": [
          0,
          0.07272727272727274
         ],
         "matches": "x111",
         "showticklabels": false
        },
        "xaxis79": {
         "anchor": "y79",
         "domain": [
          0.09272727272727274,
          0.16545454545454547
         ],
         "matches": "x111",
         "showticklabels": false
        },
        "xaxis8": {
         "anchor": "y8",
         "domain": [
          0.6490909090909092,
          0.7218181818181819
         ],
         "matches": "x111",
         "showticklabels": false
        },
        "xaxis80": {
         "anchor": "y80",
         "domain": [
          0.18545454545454548,
          0.25818181818181823
         ],
         "matches": "x111",
         "showticklabels": false
        },
        "xaxis81": {
         "anchor": "y81",
         "domain": [
          0.2781818181818182,
          0.35090909090909095
         ],
         "matches": "x111",
         "showticklabels": false
        },
        "xaxis82": {
         "anchor": "y82",
         "domain": [
          0.37090909090909097,
          0.4436363636363637
         ],
         "matches": "x111",
         "showticklabels": false
        },
        "xaxis83": {
         "anchor": "y83",
         "domain": [
          0.46363636363636374,
          0.5363636363636365
         ],
         "matches": "x111",
         "showticklabels": false
        },
        "xaxis84": {
         "anchor": "y84",
         "domain": [
          0.5563636363636364,
          0.6290909090909091
         ],
         "matches": "x111",
         "showticklabels": false
        },
        "xaxis85": {
         "anchor": "y85",
         "domain": [
          0.6490909090909092,
          0.7218181818181819
         ],
         "matches": "x111",
         "showticklabels": false
        },
        "xaxis86": {
         "anchor": "y86",
         "domain": [
          0.7418181818181819,
          0.8145454545454547
         ],
         "matches": "x111",
         "showticklabels": false
        },
        "xaxis87": {
         "anchor": "y87",
         "domain": [
          0.8345454545454547,
          0.9072727272727275
         ],
         "matches": "x111",
         "showticklabels": false
        },
        "xaxis88": {
         "anchor": "y88",
         "domain": [
          0.9272727272727275,
          1
         ],
         "matches": "x111",
         "showticklabels": false
        },
        "xaxis89": {
         "anchor": "y89",
         "domain": [
          0,
          0.07272727272727274
         ],
         "matches": "x111",
         "showticklabels": false
        },
        "xaxis9": {
         "anchor": "y9",
         "domain": [
          0.7418181818181819,
          0.8145454545454547
         ],
         "matches": "x111",
         "showticklabels": false
        },
        "xaxis90": {
         "anchor": "y90",
         "domain": [
          0.09272727272727274,
          0.16545454545454547
         ],
         "matches": "x111",
         "showticklabels": false
        },
        "xaxis91": {
         "anchor": "y91",
         "domain": [
          0.18545454545454548,
          0.25818181818181823
         ],
         "matches": "x111",
         "showticklabels": false
        },
        "xaxis92": {
         "anchor": "y92",
         "domain": [
          0.2781818181818182,
          0.35090909090909095
         ],
         "matches": "x111",
         "showticklabels": false
        },
        "xaxis93": {
         "anchor": "y93",
         "domain": [
          0.37090909090909097,
          0.4436363636363637
         ],
         "matches": "x111",
         "showticklabels": false
        },
        "xaxis94": {
         "anchor": "y94",
         "domain": [
          0.46363636363636374,
          0.5363636363636365
         ],
         "matches": "x111",
         "showticklabels": false
        },
        "xaxis95": {
         "anchor": "y95",
         "domain": [
          0.5563636363636364,
          0.6290909090909091
         ],
         "matches": "x111",
         "showticklabels": false
        },
        "xaxis96": {
         "anchor": "y96",
         "domain": [
          0.6490909090909092,
          0.7218181818181819
         ],
         "matches": "x111",
         "showticklabels": false
        },
        "xaxis97": {
         "anchor": "y97",
         "domain": [
          0.7418181818181819,
          0.8145454545454547
         ],
         "matches": "x111",
         "showticklabels": false
        },
        "xaxis98": {
         "anchor": "y98",
         "domain": [
          0.8345454545454547,
          0.9072727272727275
         ],
         "matches": "x111",
         "showticklabels": false
        },
        "xaxis99": {
         "anchor": "y99",
         "domain": [
          0.9272727272727275,
          1
         ],
         "matches": "x111",
         "showticklabels": false
        },
        "yaxis": {
         "anchor": "x",
         "domain": [
          0.9272727272727275,
          1
         ],
         "matches": "y111",
         "showticklabels": false
        },
        "yaxis10": {
         "anchor": "x10",
         "domain": [
          0.9272727272727275,
          1
         ],
         "matches": "y111",
         "showticklabels": false
        },
        "yaxis100": {
         "anchor": "x100",
         "domain": [
          0.09272727272727274,
          0.16545454545454547
         ],
         "matches": "y111",
         "showticklabels": false
        },
        "yaxis101": {
         "anchor": "x101",
         "domain": [
          0.09272727272727274,
          0.16545454545454547
         ],
         "matches": "y111",
         "showticklabels": false
        },
        "yaxis102": {
         "anchor": "x102",
         "domain": [
          0.09272727272727274,
          0.16545454545454547
         ],
         "matches": "y111",
         "showticklabels": false
        },
        "yaxis103": {
         "anchor": "x103",
         "domain": [
          0.09272727272727274,
          0.16545454545454547
         ],
         "matches": "y111",
         "showticklabels": false
        },
        "yaxis104": {
         "anchor": "x104",
         "domain": [
          0.09272727272727274,
          0.16545454545454547
         ],
         "matches": "y111",
         "showticklabels": false
        },
        "yaxis105": {
         "anchor": "x105",
         "domain": [
          0.09272727272727274,
          0.16545454545454547
         ],
         "matches": "y111",
         "showticklabels": false
        },
        "yaxis106": {
         "anchor": "x106",
         "domain": [
          0.09272727272727274,
          0.16545454545454547
         ],
         "matches": "y111",
         "showticklabels": false
        },
        "yaxis107": {
         "anchor": "x107",
         "domain": [
          0.09272727272727274,
          0.16545454545454547
         ],
         "matches": "y111",
         "showticklabels": false
        },
        "yaxis108": {
         "anchor": "x108",
         "domain": [
          0.09272727272727274,
          0.16545454545454547
         ],
         "matches": "y111",
         "showticklabels": false
        },
        "yaxis109": {
         "anchor": "x109",
         "domain": [
          0.09272727272727274,
          0.16545454545454547
         ],
         "matches": "y111",
         "showticklabels": false
        },
        "yaxis11": {
         "anchor": "x11",
         "domain": [
          0.9272727272727275,
          1
         ],
         "matches": "y111",
         "showticklabels": false
        },
        "yaxis110": {
         "anchor": "x110",
         "domain": [
          0.09272727272727274,
          0.16545454545454547
         ],
         "matches": "y111",
         "showticklabels": false
        },
        "yaxis111": {
         "anchor": "x111",
         "domain": [
          0,
          0.07272727272727274
         ],
         "showticklabels": false
        },
        "yaxis112": {
         "anchor": "x112",
         "domain": [
          0,
          0.07272727272727274
         ],
         "matches": "y111",
         "showticklabels": false
        },
        "yaxis113": {
         "anchor": "x113",
         "domain": [
          0,
          0.07272727272727274
         ],
         "matches": "y111",
         "showticklabels": false
        },
        "yaxis114": {
         "anchor": "x114",
         "domain": [
          0,
          0.07272727272727274
         ],
         "matches": "y111",
         "showticklabels": false
        },
        "yaxis115": {
         "anchor": "x115",
         "domain": [
          0,
          0.07272727272727274
         ],
         "matches": "y111",
         "showticklabels": false
        },
        "yaxis116": {
         "anchor": "x116",
         "domain": [
          0,
          0.07272727272727274
         ],
         "matches": "y111",
         "showticklabels": false
        },
        "yaxis117": {
         "anchor": "x117",
         "domain": [
          0,
          0.07272727272727274
         ],
         "matches": "y111",
         "showticklabels": false
        },
        "yaxis118": {
         "anchor": "x118",
         "domain": [
          0,
          0.07272727272727274
         ],
         "matches": "y111",
         "showticklabels": false
        },
        "yaxis119": {
         "anchor": "x119",
         "domain": [
          0,
          0.07272727272727274
         ],
         "matches": "y111",
         "showticklabels": false
        },
        "yaxis12": {
         "anchor": "x12",
         "domain": [
          0.8345454545454547,
          0.9072727272727275
         ],
         "matches": "y111",
         "showticklabels": false
        },
        "yaxis120": {
         "anchor": "x120",
         "domain": [
          0,
          0.07272727272727274
         ],
         "matches": "y111",
         "showticklabels": false
        },
        "yaxis121": {
         "anchor": "x121",
         "domain": [
          0,
          0.07272727272727274
         ],
         "matches": "y111",
         "showticklabels": false
        },
        "yaxis13": {
         "anchor": "x13",
         "domain": [
          0.8345454545454547,
          0.9072727272727275
         ],
         "matches": "y111",
         "showticklabels": false
        },
        "yaxis14": {
         "anchor": "x14",
         "domain": [
          0.8345454545454547,
          0.9072727272727275
         ],
         "matches": "y111",
         "showticklabels": false
        },
        "yaxis15": {
         "anchor": "x15",
         "domain": [
          0.8345454545454547,
          0.9072727272727275
         ],
         "matches": "y111",
         "showticklabels": false
        },
        "yaxis16": {
         "anchor": "x16",
         "domain": [
          0.8345454545454547,
          0.9072727272727275
         ],
         "matches": "y111",
         "showticklabels": false
        },
        "yaxis17": {
         "anchor": "x17",
         "domain": [
          0.8345454545454547,
          0.9072727272727275
         ],
         "matches": "y111",
         "showticklabels": false
        },
        "yaxis18": {
         "anchor": "x18",
         "domain": [
          0.8345454545454547,
          0.9072727272727275
         ],
         "matches": "y111",
         "showticklabels": false
        },
        "yaxis19": {
         "anchor": "x19",
         "domain": [
          0.8345454545454547,
          0.9072727272727275
         ],
         "matches": "y111",
         "showticklabels": false
        },
        "yaxis2": {
         "anchor": "x2",
         "domain": [
          0.9272727272727275,
          1
         ],
         "matches": "y111",
         "showticklabels": false
        },
        "yaxis20": {
         "anchor": "x20",
         "domain": [
          0.8345454545454547,
          0.9072727272727275
         ],
         "matches": "y111",
         "showticklabels": false
        },
        "yaxis21": {
         "anchor": "x21",
         "domain": [
          0.8345454545454547,
          0.9072727272727275
         ],
         "matches": "y111",
         "showticklabels": false
        },
        "yaxis22": {
         "anchor": "x22",
         "domain": [
          0.8345454545454547,
          0.9072727272727275
         ],
         "matches": "y111",
         "showticklabels": false
        },
        "yaxis23": {
         "anchor": "x23",
         "domain": [
          0.7418181818181819,
          0.8145454545454547
         ],
         "matches": "y111",
         "showticklabels": false
        },
        "yaxis24": {
         "anchor": "x24",
         "domain": [
          0.7418181818181819,
          0.8145454545454547
         ],
         "matches": "y111",
         "showticklabels": false
        },
        "yaxis25": {
         "anchor": "x25",
         "domain": [
          0.7418181818181819,
          0.8145454545454547
         ],
         "matches": "y111",
         "showticklabels": false
        },
        "yaxis26": {
         "anchor": "x26",
         "domain": [
          0.7418181818181819,
          0.8145454545454547
         ],
         "matches": "y111",
         "showticklabels": false
        },
        "yaxis27": {
         "anchor": "x27",
         "domain": [
          0.7418181818181819,
          0.8145454545454547
         ],
         "matches": "y111",
         "showticklabels": false
        },
        "yaxis28": {
         "anchor": "x28",
         "domain": [
          0.7418181818181819,
          0.8145454545454547
         ],
         "matches": "y111",
         "showticklabels": false
        },
        "yaxis29": {
         "anchor": "x29",
         "domain": [
          0.7418181818181819,
          0.8145454545454547
         ],
         "matches": "y111",
         "showticklabels": false
        },
        "yaxis3": {
         "anchor": "x3",
         "domain": [
          0.9272727272727275,
          1
         ],
         "matches": "y111",
         "showticklabels": false
        },
        "yaxis30": {
         "anchor": "x30",
         "domain": [
          0.7418181818181819,
          0.8145454545454547
         ],
         "matches": "y111",
         "showticklabels": false
        },
        "yaxis31": {
         "anchor": "x31",
         "domain": [
          0.7418181818181819,
          0.8145454545454547
         ],
         "matches": "y111",
         "showticklabels": false
        },
        "yaxis32": {
         "anchor": "x32",
         "domain": [
          0.7418181818181819,
          0.8145454545454547
         ],
         "matches": "y111",
         "showticklabels": false
        },
        "yaxis33": {
         "anchor": "x33",
         "domain": [
          0.7418181818181819,
          0.8145454545454547
         ],
         "matches": "y111",
         "showticklabels": false
        },
        "yaxis34": {
         "anchor": "x34",
         "domain": [
          0.6490909090909092,
          0.7218181818181819
         ],
         "matches": "y111",
         "showticklabels": false
        },
        "yaxis35": {
         "anchor": "x35",
         "domain": [
          0.6490909090909092,
          0.7218181818181819
         ],
         "matches": "y111",
         "showticklabels": false
        },
        "yaxis36": {
         "anchor": "x36",
         "domain": [
          0.6490909090909092,
          0.7218181818181819
         ],
         "matches": "y111",
         "showticklabels": false
        },
        "yaxis37": {
         "anchor": "x37",
         "domain": [
          0.6490909090909092,
          0.7218181818181819
         ],
         "matches": "y111",
         "showticklabels": false
        },
        "yaxis38": {
         "anchor": "x38",
         "domain": [
          0.6490909090909092,
          0.7218181818181819
         ],
         "matches": "y111",
         "showticklabels": false
        },
        "yaxis39": {
         "anchor": "x39",
         "domain": [
          0.6490909090909092,
          0.7218181818181819
         ],
         "matches": "y111",
         "showticklabels": false
        },
        "yaxis4": {
         "anchor": "x4",
         "domain": [
          0.9272727272727275,
          1
         ],
         "matches": "y111",
         "showticklabels": false
        },
        "yaxis40": {
         "anchor": "x40",
         "domain": [
          0.6490909090909092,
          0.7218181818181819
         ],
         "matches": "y111",
         "showticklabels": false
        },
        "yaxis41": {
         "anchor": "x41",
         "domain": [
          0.6490909090909092,
          0.7218181818181819
         ],
         "matches": "y111",
         "showticklabels": false
        },
        "yaxis42": {
         "anchor": "x42",
         "domain": [
          0.6490909090909092,
          0.7218181818181819
         ],
         "matches": "y111",
         "showticklabels": false
        },
        "yaxis43": {
         "anchor": "x43",
         "domain": [
          0.6490909090909092,
          0.7218181818181819
         ],
         "matches": "y111",
         "showticklabels": false
        },
        "yaxis44": {
         "anchor": "x44",
         "domain": [
          0.6490909090909092,
          0.7218181818181819
         ],
         "matches": "y111",
         "showticklabels": false
        },
        "yaxis45": {
         "anchor": "x45",
         "domain": [
          0.5563636363636364,
          0.6290909090909091
         ],
         "matches": "y111",
         "showticklabels": false
        },
        "yaxis46": {
         "anchor": "x46",
         "domain": [
          0.5563636363636364,
          0.6290909090909091
         ],
         "matches": "y111",
         "showticklabels": false
        },
        "yaxis47": {
         "anchor": "x47",
         "domain": [
          0.5563636363636364,
          0.6290909090909091
         ],
         "matches": "y111",
         "showticklabels": false
        },
        "yaxis48": {
         "anchor": "x48",
         "domain": [
          0.5563636363636364,
          0.6290909090909091
         ],
         "matches": "y111",
         "showticklabels": false
        },
        "yaxis49": {
         "anchor": "x49",
         "domain": [
          0.5563636363636364,
          0.6290909090909091
         ],
         "matches": "y111",
         "showticklabels": false
        },
        "yaxis5": {
         "anchor": "x5",
         "domain": [
          0.9272727272727275,
          1
         ],
         "matches": "y111",
         "showticklabels": false
        },
        "yaxis50": {
         "anchor": "x50",
         "domain": [
          0.5563636363636364,
          0.6290909090909091
         ],
         "matches": "y111",
         "showticklabels": false
        },
        "yaxis51": {
         "anchor": "x51",
         "domain": [
          0.5563636363636364,
          0.6290909090909091
         ],
         "matches": "y111",
         "showticklabels": false
        },
        "yaxis52": {
         "anchor": "x52",
         "domain": [
          0.5563636363636364,
          0.6290909090909091
         ],
         "matches": "y111",
         "showticklabels": false
        },
        "yaxis53": {
         "anchor": "x53",
         "domain": [
          0.5563636363636364,
          0.6290909090909091
         ],
         "matches": "y111",
         "showticklabels": false
        },
        "yaxis54": {
         "anchor": "x54",
         "domain": [
          0.5563636363636364,
          0.6290909090909091
         ],
         "matches": "y111",
         "showticklabels": false
        },
        "yaxis55": {
         "anchor": "x55",
         "domain": [
          0.5563636363636364,
          0.6290909090909091
         ],
         "matches": "y111",
         "showticklabels": false
        },
        "yaxis56": {
         "anchor": "x56",
         "domain": [
          0.46363636363636374,
          0.5363636363636365
         ],
         "matches": "y111",
         "showticklabels": false
        },
        "yaxis57": {
         "anchor": "x57",
         "domain": [
          0.46363636363636374,
          0.5363636363636365
         ],
         "matches": "y111",
         "showticklabels": false
        },
        "yaxis58": {
         "anchor": "x58",
         "domain": [
          0.46363636363636374,
          0.5363636363636365
         ],
         "matches": "y111",
         "showticklabels": false
        },
        "yaxis59": {
         "anchor": "x59",
         "domain": [
          0.46363636363636374,
          0.5363636363636365
         ],
         "matches": "y111",
         "showticklabels": false
        },
        "yaxis6": {
         "anchor": "x6",
         "domain": [
          0.9272727272727275,
          1
         ],
         "matches": "y111",
         "showticklabels": false
        },
        "yaxis60": {
         "anchor": "x60",
         "domain": [
          0.46363636363636374,
          0.5363636363636365
         ],
         "matches": "y111",
         "showticklabels": false
        },
        "yaxis61": {
         "anchor": "x61",
         "domain": [
          0.46363636363636374,
          0.5363636363636365
         ],
         "matches": "y111",
         "showticklabels": false
        },
        "yaxis62": {
         "anchor": "x62",
         "domain": [
          0.46363636363636374,
          0.5363636363636365
         ],
         "matches": "y111",
         "showticklabels": false
        },
        "yaxis63": {
         "anchor": "x63",
         "domain": [
          0.46363636363636374,
          0.5363636363636365
         ],
         "matches": "y111",
         "showticklabels": false
        },
        "yaxis64": {
         "anchor": "x64",
         "domain": [
          0.46363636363636374,
          0.5363636363636365
         ],
         "matches": "y111",
         "showticklabels": false
        },
        "yaxis65": {
         "anchor": "x65",
         "domain": [
          0.46363636363636374,
          0.5363636363636365
         ],
         "matches": "y111",
         "showticklabels": false
        },
        "yaxis66": {
         "anchor": "x66",
         "domain": [
          0.46363636363636374,
          0.5363636363636365
         ],
         "matches": "y111",
         "showticklabels": false
        },
        "yaxis67": {
         "anchor": "x67",
         "domain": [
          0.37090909090909097,
          0.4436363636363637
         ],
         "matches": "y111",
         "showticklabels": false
        },
        "yaxis68": {
         "anchor": "x68",
         "domain": [
          0.37090909090909097,
          0.4436363636363637
         ],
         "matches": "y111",
         "showticklabels": false
        },
        "yaxis69": {
         "anchor": "x69",
         "domain": [
          0.37090909090909097,
          0.4436363636363637
         ],
         "matches": "y111",
         "showticklabels": false
        },
        "yaxis7": {
         "anchor": "x7",
         "domain": [
          0.9272727272727275,
          1
         ],
         "matches": "y111",
         "showticklabels": false
        },
        "yaxis70": {
         "anchor": "x70",
         "domain": [
          0.37090909090909097,
          0.4436363636363637
         ],
         "matches": "y111",
         "showticklabels": false
        },
        "yaxis71": {
         "anchor": "x71",
         "domain": [
          0.37090909090909097,
          0.4436363636363637
         ],
         "matches": "y111",
         "showticklabels": false
        },
        "yaxis72": {
         "anchor": "x72",
         "domain": [
          0.37090909090909097,
          0.4436363636363637
         ],
         "matches": "y111",
         "showticklabels": false
        },
        "yaxis73": {
         "anchor": "x73",
         "domain": [
          0.37090909090909097,
          0.4436363636363637
         ],
         "matches": "y111",
         "showticklabels": false
        },
        "yaxis74": {
         "anchor": "x74",
         "domain": [
          0.37090909090909097,
          0.4436363636363637
         ],
         "matches": "y111",
         "showticklabels": false
        },
        "yaxis75": {
         "anchor": "x75",
         "domain": [
          0.37090909090909097,
          0.4436363636363637
         ],
         "matches": "y111",
         "showticklabels": false
        },
        "yaxis76": {
         "anchor": "x76",
         "domain": [
          0.37090909090909097,
          0.4436363636363637
         ],
         "matches": "y111",
         "showticklabels": false
        },
        "yaxis77": {
         "anchor": "x77",
         "domain": [
          0.37090909090909097,
          0.4436363636363637
         ],
         "matches": "y111",
         "showticklabels": false
        },
        "yaxis78": {
         "anchor": "x78",
         "domain": [
          0.2781818181818182,
          0.35090909090909095
         ],
         "matches": "y111",
         "showticklabels": false
        },
        "yaxis79": {
         "anchor": "x79",
         "domain": [
          0.2781818181818182,
          0.35090909090909095
         ],
         "matches": "y111",
         "showticklabels": false
        },
        "yaxis8": {
         "anchor": "x8",
         "domain": [
          0.9272727272727275,
          1
         ],
         "matches": "y111",
         "showticklabels": false
        },
        "yaxis80": {
         "anchor": "x80",
         "domain": [
          0.2781818181818182,
          0.35090909090909095
         ],
         "matches": "y111",
         "showticklabels": false
        },
        "yaxis81": {
         "anchor": "x81",
         "domain": [
          0.2781818181818182,
          0.35090909090909095
         ],
         "matches": "y111",
         "showticklabels": false
        },
        "yaxis82": {
         "anchor": "x82",
         "domain": [
          0.2781818181818182,
          0.35090909090909095
         ],
         "matches": "y111",
         "showticklabels": false
        },
        "yaxis83": {
         "anchor": "x83",
         "domain": [
          0.2781818181818182,
          0.35090909090909095
         ],
         "matches": "y111",
         "showticklabels": false
        },
        "yaxis84": {
         "anchor": "x84",
         "domain": [
          0.2781818181818182,
          0.35090909090909095
         ],
         "matches": "y111",
         "showticklabels": false
        },
        "yaxis85": {
         "anchor": "x85",
         "domain": [
          0.2781818181818182,
          0.35090909090909095
         ],
         "matches": "y111",
         "showticklabels": false
        },
        "yaxis86": {
         "anchor": "x86",
         "domain": [
          0.2781818181818182,
          0.35090909090909095
         ],
         "matches": "y111",
         "showticklabels": false
        },
        "yaxis87": {
         "anchor": "x87",
         "domain": [
          0.2781818181818182,
          0.35090909090909095
         ],
         "matches": "y111",
         "showticklabels": false
        },
        "yaxis88": {
         "anchor": "x88",
         "domain": [
          0.2781818181818182,
          0.35090909090909095
         ],
         "matches": "y111",
         "showticklabels": false
        },
        "yaxis89": {
         "anchor": "x89",
         "domain": [
          0.18545454545454548,
          0.25818181818181823
         ],
         "matches": "y111",
         "showticklabels": false
        },
        "yaxis9": {
         "anchor": "x9",
         "domain": [
          0.9272727272727275,
          1
         ],
         "matches": "y111",
         "showticklabels": false
        },
        "yaxis90": {
         "anchor": "x90",
         "domain": [
          0.18545454545454548,
          0.25818181818181823
         ],
         "matches": "y111",
         "showticklabels": false
        },
        "yaxis91": {
         "anchor": "x91",
         "domain": [
          0.18545454545454548,
          0.25818181818181823
         ],
         "matches": "y111",
         "showticklabels": false
        },
        "yaxis92": {
         "anchor": "x92",
         "domain": [
          0.18545454545454548,
          0.25818181818181823
         ],
         "matches": "y111",
         "showticklabels": false
        },
        "yaxis93": {
         "anchor": "x93",
         "domain": [
          0.18545454545454548,
          0.25818181818181823
         ],
         "matches": "y111",
         "showticklabels": false
        },
        "yaxis94": {
         "anchor": "x94",
         "domain": [
          0.18545454545454548,
          0.25818181818181823
         ],
         "matches": "y111",
         "showticklabels": false
        },
        "yaxis95": {
         "anchor": "x95",
         "domain": [
          0.18545454545454548,
          0.25818181818181823
         ],
         "matches": "y111",
         "showticklabels": false
        },
        "yaxis96": {
         "anchor": "x96",
         "domain": [
          0.18545454545454548,
          0.25818181818181823
         ],
         "matches": "y111",
         "showticklabels": false
        },
        "yaxis97": {
         "anchor": "x97",
         "domain": [
          0.18545454545454548,
          0.25818181818181823
         ],
         "matches": "y111",
         "showticklabels": false
        },
        "yaxis98": {
         "anchor": "x98",
         "domain": [
          0.18545454545454548,
          0.25818181818181823
         ],
         "matches": "y111",
         "showticklabels": false
        },
        "yaxis99": {
         "anchor": "x99",
         "domain": [
          0.18545454545454548,
          0.25818181818181823
         ],
         "matches": "y111",
         "showticklabels": false
        }
       }
      }
     },
     "metadata": {},
     "output_type": "display_data"
    }
   ],
   "source": [
    "fig = go.Figure()\n",
    "fig = make_subplots(rows=11, cols=11, vertical_spacing=0.02, horizontal_spacing=0.02, shared_xaxes='all', shared_yaxes='all')\n",
    "\n",
    "# define subplot size\n",
    "fig.update_layout(width=1000, height=1000)\n",
    "\n",
    "# iterate through rows and cols\n",
    "for i in range(1, 12):\n",
    "    fig.add_trace(go.Bar(x = df_model_metrics.columns, y = df_model_metrics.iloc[i-1], marker_color=px.colors.sequential.gray, \n",
    "                name = algo_cap[i-1]), row=i, col=i)\n",
    "    # remove legend and x axes labels\n",
    "    fig.update_layout(showlegend=False)\n",
    "    fig.update_xaxes(showticklabels=False)\n",
    "    fig.update_yaxes(showticklabels=False)\n",
    "    \n",
    "fig.show()"
   ]
  },
  {
   "cell_type": "code",
   "execution_count": null,
   "metadata": {},
   "outputs": [],
   "source": [
    "\n"
   ]
  }
 ],
 "metadata": {
  "interpreter": {
   "hash": "a0002ca97fa5ee54dc2e4008fbe9eabec60bb4400642f4fca2bafe1dfe14f90e"
  },
  "kernelspec": {
   "display_name": "Python 3.9.12 ('base')",
   "language": "python",
   "name": "python3"
  },
  "language_info": {
   "codemirror_mode": {
    "name": "ipython",
    "version": 3
   },
   "file_extension": ".py",
   "mimetype": "text/x-python",
   "name": "python",
   "nbconvert_exporter": "python",
   "pygments_lexer": "ipython3",
   "version": "3.9.12"
  },
  "orig_nbformat": 4
 },
 "nbformat": 4,
 "nbformat_minor": 2
}
