{
 "cells": [
  {
   "cell_type": "markdown",
   "metadata": {},
   "source": [
    "### Initial Data exploration and wrangling"
   ]
  },
  {
   "cell_type": "markdown",
   "metadata": {},
   "source": [
    "##### Modul import"
   ]
  },
  {
   "cell_type": "code",
   "execution_count": 1,
   "metadata": {},
   "outputs": [],
   "source": [
    "import pandas as pd\n",
    "import umap\n",
    "from sklearn import preprocessing\n",
    "import plotly.express as px\n",
    "import numpy as np\n",
    "import ast\n",
    "from sklearn.neighbors import KNeighborsClassifier\n",
    "from sklearn.svm import SVC\n",
    "from sklearn.naive_bayes import GaussianNB\n",
    "from sklearn.neural_network import MLPClassifier\n",
    "from sklearn.linear_model import LogisticRegression\n",
    "from sklearn.discriminant_analysis import LinearDiscriminantAnalysis\n",
    "from sklearn.discriminant_analysis import QuadraticDiscriminantAnalysis\n",
    "from sklearn.ensemble import RandomForestClassifier\n",
    "from sklearn.ensemble import ExtraTreesClassifier\n",
    "from sklearn.ensemble import AdaBoostClassifier\n",
    "from sklearn.ensemble import GradientBoostingClassifier\n",
    "from sklearn.ensemble import StackingClassifier\n",
    "from sklearn.metrics import accuracy_score, precision_score, recall_score, roc_auc_score, matthews_corrcoef, f1_score, log_loss\n",
    "from sklearn import metrics\n",
    "from imblearn.metrics import geometric_mean_score\n",
    "\n",
    "# define random seed\n",
    "np.random.seed(42)\n"
   ]
  },
  {
   "cell_type": "markdown",
   "metadata": {},
   "source": [
    "#### Dataset import and wrangling"
   ]
  },
  {
   "cell_type": "code",
   "execution_count": 2,
   "metadata": {},
   "outputs": [],
   "source": [
    "path = r'D:\\github\\2dv50e\\Data\\1. Heart Disease'\n",
    "df_probabilities = pd.read_csv(path + r'\\topModelsProbabilities.csv')\n",
    "df_model = pd.read_csv(path + r'\\topModels.csv')\n",
    "# add column target to df model from target.csv\n",
    "df_target = pd.read_csv(path + r'\\target.csv')\n",
    "y_train = df_target['class']\n",
    "target = df_target['class'].tolist()\n",
    "df_source = pd.read_csv(path + r'\\dataset.csv')\n",
    "\n",
    "algo_nr = df_model['algorithm_id']"
   ]
  },
  {
   "cell_type": "code",
   "execution_count": 3,
   "metadata": {},
   "outputs": [],
   "source": [
    "# Print number of missing values per column in df_probabilities\n",
    "for col in df_probabilities.columns:\n",
    "    if df_probabilities[col].isnull().sum() > 0:\n",
    "        print(f'{col} has {df_probabilities[col].isnull().sum()} missing values.')\n",
    "    \n"
   ]
  },
  {
   "cell_type": "code",
   "execution_count": 4,
   "metadata": {},
   "outputs": [],
   "source": [
    "# Apply robust scaler to df_source\n",
    "scaler = preprocessing.RobustScaler()\n",
    "df_source_scaled = scaler.fit_transform(df_source)\n",
    "x_train = pd.DataFrame(df_source_scaled, columns=df_source.columns)"
   ]
  },
  {
   "cell_type": "markdown",
   "metadata": {},
   "source": [
    "### UMAP dimension reduction algorithm"
   ]
  },
  {
   "cell_type": "code",
   "execution_count": 5,
   "metadata": {},
   "outputs": [],
   "source": [
    "# UMAP function\n",
    "def umap_model (df_prob = df_probabilities, df_mod = df_model, parameter_umap_n_neighbors = 20, parameter_umap_min_dist = 0.5, \n",
    "                parameter_umap_metric = 'euclidean'):\n",
    "\n",
    "        algos = {1:'K-Nearest Neighbor', 2:'Support Vector Machine', 3:'Gaussian Naive Bayes', 4:'Multilayer Perceptron', 5:'Logistic Regression',\n",
    "        6:'Linear Discriminant Analysis', 7:'Quadratic Discriminant Analysis', 8:'Random Forest', 9:'Extra Trees', 10:'Adaptive Boosting',\n",
    "        11:'Gradient Boosting'}\n",
    "\n",
    "        umap_model = umap.UMAP(n_neighbors=parameter_umap_n_neighbors, metric=parameter_umap_metric, min_dist=parameter_umap_min_dist)\n",
    "        umap_embedding = umap_model.fit_transform(df_prob)\n",
    "        #convert umap_embedding to dataframe\n",
    "        df_umap = pd.DataFrame(umap_embedding, columns=['UMAP_1', 'UMAP_2'])\n",
    "        # Add algortim number (keeping in mind the same row structure in topModels.csv and topModelsProbabilities.csv)\n",
    "        df_umap['algorithm_id'] = df_mod['algorithm_id']\n",
    "        df_umap['algorithm_name'] = df_umap['algorithm_id'].map(algos)\n",
    "        df_umap['model_id'] = df_mod['model_id']\n",
    "        # add hyperparameters column\n",
    "        df_umap['hyperparameters'] = df_mod['params']\n",
    "        # Add model specific metrics\n",
    "        df_umap['accuracy'] = df_model['mean_test_accuracy']\n",
    "        df_umap['precision'] = df_model['mean_test_precision_weighted']\n",
    "        df_umap['recall'] = df_model['mean_test_recall_weighted']\n",
    "        df_umap['roc_auc_score'] = df_model['mean_test_roc_auc_ovo_weighted']\n",
    "        df_umap['geometric_mean_score'] = df_model['geometric_mean_score_weighted']\n",
    "        df_umap['matthews_corrcoef'] = df_model['matthews_corrcoef']\n",
    "        df_umap['f1_weighted'] = df_model['f1_weighted']\n",
    "        df_umap['log_loss'] = df_model['log_loss']\n",
    "        df_umap['performance'] = round((df_umap['accuracy'] + df_umap['precision'] + df_umap['recall'] + df_umap['roc_auc_score'] + \\\n",
    "                        df_umap['geometric_mean_score'] + df_umap['matthews_corrcoef'] + df_umap['f1_weighted']) / 7, 2)\n",
    "        df_umap = df_umap.astype({'UMAP_1': 'float64', 'UMAP_2': 'float64', 'performance': 'float64', 'algorithm_id': 'int64',\n",
    "                                    'algorithm_name': 'str', 'model_id': 'str', 'hyperparameters': 'str'})\n",
    "        # create new column \"size\", set to 2 for rows with \"meta\" in \"model_id\", else 1\n",
    "        df_umap['size'] = np.where(df_umap['model_id'].str.contains('meta'), 3, 1)\n",
    "        # create new column for text of points\n",
    "        df_umap['text'] = df_umap['algorithm_name'] + '<br>' + 'Performance: ' + \\\n",
    "                df_umap['performance'].astype(str) + '%' + '<br>' + 'Model ID: ' + df_umap['model_id'].astype(str) + \\\n",
    "                '<br>' + 'Accuracy: ' + df_umap['accuracy'].astype(str) + '%' + '<br>' + 'Precision: ' + \\\n",
    "                df_umap['precision'].astype(str) + '%' + '<br>' + 'Recall: ' + df_umap['recall'].astype(str) + \\\n",
    "                '%' + '<br>' + 'ROC AUC: ' + df_umap['roc_auc_score'].astype(str) + '<br>' + 'Geometric Mean: ' + \\\n",
    "                df_umap['geometric_mean_score'].astype(str) + '<br>' + 'Matthews Correlation: ' + \\\n",
    "                df_umap['matthews_corrcoef'].astype(str) + '<br>' + 'F1: ' + df_umap['f1_weighted'].astype(str) + \\\n",
    "                '<br>' + 'Log Loss: ' + df_umap['log_loss'].astype(str)\n",
    "        # drop metrics that are not needed\n",
    "        df_umap = df_umap.drop(columns=['accuracy', 'precision', 'recall', 'roc_auc_score', 'geometric_mean_score', \n",
    "                                        'matthews_corrcoef', 'f1_weighted', 'log_loss'])\n",
    "\n",
    "        return df_umap"
   ]
  },
  {
   "cell_type": "code",
   "execution_count": 6,
   "metadata": {},
   "outputs": [],
   "source": [
    "# UMAP plot function\n",
    "def umap_plot(df_umap):\n",
    "        # Define symbols for each algorithm\n",
    "        symbols = ['circle', 'square', 'x', 'cross', 'diamond', 'star', 'hexagram', 'triangle-right', 'triangle-left', 'triangle-down', 'triangle-up']\n",
    "        # Plot UMAP, add hovertext and symbols, define colorscale by performance, add title\n",
    "        fig = px.scatter(df_umap, x='UMAP_1', y='UMAP_2', color='performance', size='size', hover_name='text',\n",
    "                symbol = 'algorithm_id', symbol_sequence = symbols, labels=dict(UMAP_1='', UMAP_2='', performance='Performance'),\n",
    "                color_continuous_scale=px.colors.sequential.Viridis)\n",
    "        fig.update_layout(title_text='UMAP Plot')\n",
    "        fig.update_layout(showlegend=False)\n",
    "        fig.update_traces(marker=dict(opacity=0.8, line=dict(width=1, color='Black')), selector=dict(mode='markers'))\n",
    "        # Remove axis labels\n",
    "        fig.update_layout(xaxis=dict(showticklabels=False), yaxis=dict(showticklabels=False))\n",
    "        # define plot as square\n",
    "        fig.update_layout(width=800, height=800)\n",
    "        # add tooltip\n",
    "        fig.update_layout(hovermode='closest')\n",
    "        return fig"
   ]
  },
  {
   "cell_type": "markdown",
   "metadata": {},
   "source": [
    "### Stacking Classifier ensemble"
   ]
  },
  {
   "cell_type": "markdown",
   "metadata": {},
   "source": [
    "Function to extract hyperparameters from the best performing model per algorithm"
   ]
  },
  {
   "cell_type": "code",
   "execution_count": 7,
   "metadata": {},
   "outputs": [],
   "source": [
    "def best_params(df_umap):\n",
    "   # Select hyperparameters for best model in each algorithm\n",
    "    df_umap_best = df_umap.groupby('algorithm_id').apply(lambda x: x.sort_values('performance', ascending=False).iloc[0])\n",
    "    # reset algorithm_nr as  index\n",
    "    df_umap_best = df_umap_best.reset_index(drop=True)\n",
    "    # keep only algorithm number, name, performance and hyperparameters\n",
    "    df_umap_best = df_umap_best[['algorithm_id', 'algorithm_name', 'performance', 'hyperparameters']]\n",
    "    return df_umap_best"
   ]
  },
  {
   "cell_type": "markdown",
   "metadata": {},
   "source": [
    "Supporting functions to extract hyperparameters values"
   ]
  },
  {
   "cell_type": "code",
   "execution_count": 8,
   "metadata": {},
   "outputs": [],
   "source": [
    "# Return hyperparameters based on algorithm name from df_umap_best\n",
    "def get_hyperparameters(df_umap, algorithm_name):\n",
    "    return df_umap[df_umap['algorithm_name'] == algorithm_name]['hyperparameters']\n",
    "\n",
    "# return value of key in dictionary\n",
    "def get_value(dictionary, key):\n",
    "    return dictionary[key]\n",
    "\n",
    "# convert string to dictionary\n",
    "def string_to_dict(string):\n",
    "    return ast.literal_eval(string)\n"
   ]
  },
  {
   "cell_type": "markdown",
   "metadata": {},
   "source": [
    "Create umap dimension reduction dataset for original base layer model probabilities"
   ]
  },
  {
   "cell_type": "code",
   "execution_count": 9,
   "metadata": {},
   "outputs": [],
   "source": [
    "df_umap = umap_model(df_probabilities, df_model)"
   ]
  },
  {
   "cell_type": "markdown",
   "metadata": {},
   "source": [
    "Base layer estimators (top 5 per algorithm)"
   ]
  },
  {
   "cell_type": "code",
   "execution_count": 10,
   "metadata": {},
   "outputs": [],
   "source": [
    "# dictionaries with algorithm names and their hyperparameters\n",
    "\n",
    "knn_params = {int(k):v for k,v in get_hyperparameters(df_umap, 'K-Nearest Neighbor').items()}\n",
    "svm_params = {int(k):v for k,v in get_hyperparameters(df_umap, 'Support Vector Machine').items()}\n",
    "gnb_params = {int(k):v for k,v in get_hyperparameters(df_umap, 'Gaussian Naive Bayes').items()}\n",
    "mlp_params = {int(k):v for k,v in get_hyperparameters(df_umap, 'Multilayer Perceptron').items()}\n",
    "lr_params = {int(k):v for k,v in get_hyperparameters(df_umap, 'Logistic Regression').items()}\n",
    "lda_params = {int(k):v for k,v in get_hyperparameters(df_umap, 'Linear Discriminant Analysis').items()}\n",
    "qda_params = {int(k):v for k,v in get_hyperparameters(df_umap, 'Quadratic Discriminant Analysis').items()}\n",
    "rf_params = {int(k):v for k,v in get_hyperparameters(df_umap, 'Random Forest').items()}\n",
    "et_params = {int(k):v for k,v in get_hyperparameters(df_umap, 'Extra Trees').items()}\n",
    "ab_params = {int(k):v for k,v in get_hyperparameters(df_umap, 'Adaptive Boosting').items()}\n",
    "gb_params = {int(k):v for k,v in get_hyperparameters(df_umap, 'Gradient Boosting').items()}"
   ]
  },
  {
   "cell_type": "code",
   "execution_count": 11,
   "metadata": {},
   "outputs": [],
   "source": [
    "# Estimators and hyperparameters for each algorithm\n",
    "estimators = []\n",
    "# populate list of estimators with all 55 top models\n",
    "count = 0\n",
    "for i in list(knn_params.keys()):\n",
    "                temp_dict = ast.literal_eval(knn_params[i])\n",
    "                estimators.append((f'knn_{count}', KNeighborsClassifier(algorithm=get_value(temp_dict, 'algorithm'), \n",
    "                                metric=get_value(temp_dict, 'metric'), n_neighbors= get_value(temp_dict, 'n_neighbors'), \n",
    "                                weights=get_value(temp_dict, 'weights'), n_jobs=-1)))\n",
    "                count += 1\n",
    "count = 0\n",
    "for i in list(svm_params.keys()):\n",
    "                temp_dict = ast.literal_eval(svm_params[i])\n",
    "                estimators.append((f'svm_{count}', SVC(C=get_value(temp_dict, 'C'), kernel=get_value(temp_dict, 'kernel'),probability=True, random_state=42)))\n",
    "                count += 1\n",
    "count = 0\n",
    "for i in list(gnb_params.keys()):\n",
    "                temp_dict = ast.literal_eval(gnb_params[i])\n",
    "                estimators.append((f'gnb_{count}', GaussianNB(var_smoothing=get_value(temp_dict, 'var_smoothing'))))\n",
    "                count += 1\n",
    "count = 0\n",
    "for i in list(mlp_params.keys()):\n",
    "                temp_dict = ast.literal_eval(mlp_params[i])\n",
    "                estimators.append((f'mlp_{count}', MLPClassifier(activation=get_value(temp_dict, 'activation'), \n",
    "                                alpha=get_value(temp_dict, 'alpha'),\n",
    "                                max_iter=get_value(temp_dict, 'max_iter'), solver=get_value(temp_dict, 'solver'), \n",
    "                                tol=get_value(temp_dict, 'tol'), random_state=42)))\n",
    "                count += 1\n",
    "count = 0\n",
    "for i in list(lr_params.keys()):\n",
    "                temp_dict = ast.literal_eval(lr_params[i])\n",
    "                estimators.append((f'lr_{count}', LogisticRegression(C=get_value(temp_dict, 'C'), max_iter=get_value(temp_dict, 'max_iter'), penalty=get_value(temp_dict, 'penalty'), solver=get_value(temp_dict, 'solver'), random_state=42, n_jobs=-1)))\n",
    "                count += 1\n",
    "count = 0\n",
    "for i in list(lda_params.keys()):\n",
    "                temp_dict = ast.literal_eval(lda_params[i])\n",
    "                estimators.append((f'lda_{count}', LinearDiscriminantAnalysis(shrinkage=get_value(temp_dict, 'shrinkage'), \n",
    "                                solver=get_value(temp_dict, 'solver'))))\n",
    "                count += 1\n",
    "count = 0\n",
    "for i in list(qda_params.keys()):\n",
    "                temp_dict = ast.literal_eval(qda_params[i])\n",
    "                estimators.append((f'qda_{count}', QuadraticDiscriminantAnalysis(reg_param=get_value(temp_dict, 'reg_param'), tol=get_value(temp_dict, 'tol'))))\n",
    "                count += 1\n",
    "count = 0\n",
    "for i in list(rf_params.keys()):\n",
    "                temp_dict = ast.literal_eval(rf_params[i])\n",
    "                estimators.append((f'rf_{count}', RandomForestClassifier(criterion=get_value(temp_dict, 'criterion'), \n",
    "                                n_estimators=get_value(temp_dict, 'n_estimators'), random_state=42, n_jobs=-1)))\n",
    "                count += 1\n",
    "count = 0\n",
    "for i in list(et_params.keys()):\n",
    "                temp_dict = ast.literal_eval(et_params[i])\n",
    "                estimators.append((f'et_{count}', ExtraTreesClassifier(criterion=get_value(temp_dict, 'criterion'),\n",
    "                                n_estimators=get_value(temp_dict, 'n_estimators'), random_state=42, n_jobs=-1)))\n",
    "                count += 1\n",
    "count = 0\n",
    "for i in list(ab_params.keys()):\n",
    "                temp_dict = ast.literal_eval(ab_params[i])\n",
    "                estimators.append((f'ab_{count}', AdaBoostClassifier(algorithm=get_value(temp_dict, 'algorithm'), \n",
    "                                learning_rate=get_value(temp_dict, 'learning_rate'), n_estimators=get_value(temp_dict, 'n_estimators'), random_state=42)))\n",
    "                count += 1\n",
    "count = 0\n",
    "for i in list(gb_params.keys()):\n",
    "                temp_dict = ast.literal_eval(gb_params[i])\n",
    "                estimators.append((f'gb_{count}', GradientBoostingClassifier(criterion=get_value(temp_dict, 'criterion'), \n",
    "                                learning_rate=get_value(temp_dict, 'learning_rate'), n_estimators=get_value(temp_dict, 'n_estimators'), random_state=42)))\n",
    "                count += 1"
   ]
  },
  {
   "cell_type": "markdown",
   "metadata": {},
   "source": [
    "##### Metamodel estimators (top 1 per algorithm)\n",
    "Hyperparameters will be extracted from the best performing model per algorithm. <br> The plan is to extract hyperparameters from the best performing model per algorithm and then apply these hyperparameters to the metamodels. Currently no functuonality to be added to allow end user to tune the hyperparameters for metamodels, instead they will rely on top performing ones from base layer models."
   ]
  },
  {
   "cell_type": "code",
   "execution_count": 12,
   "metadata": {},
   "outputs": [
    {
     "data": {
      "text/html": [
       "<div>\n",
       "<style scoped>\n",
       "    .dataframe tbody tr th:only-of-type {\n",
       "        vertical-align: middle;\n",
       "    }\n",
       "\n",
       "    .dataframe tbody tr th {\n",
       "        vertical-align: top;\n",
       "    }\n",
       "\n",
       "    .dataframe thead th {\n",
       "        text-align: right;\n",
       "    }\n",
       "</style>\n",
       "<table border=\"1\" class=\"dataframe\">\n",
       "  <thead>\n",
       "    <tr style=\"text-align: right;\">\n",
       "      <th></th>\n",
       "      <th>algorithm_id</th>\n",
       "      <th>algorithm_name</th>\n",
       "      <th>performance</th>\n",
       "      <th>hyperparameters</th>\n",
       "    </tr>\n",
       "  </thead>\n",
       "  <tbody>\n",
       "    <tr>\n",
       "      <th>0</th>\n",
       "      <td>1</td>\n",
       "      <td>K-Nearest Neighbor</td>\n",
       "      <td>83.35</td>\n",
       "      <td>{'algorithm': 'ball_tree', 'metric': 'euclidea...</td>\n",
       "    </tr>\n",
       "    <tr>\n",
       "      <th>1</th>\n",
       "      <td>2</td>\n",
       "      <td>Support Vector Machine</td>\n",
       "      <td>83.10</td>\n",
       "      <td>{'C': 1.75, 'kernel': 'rbf'}</td>\n",
       "    </tr>\n",
       "    <tr>\n",
       "      <th>2</th>\n",
       "      <td>3</td>\n",
       "      <td>Gaussian Naive Bayes</td>\n",
       "      <td>80.97</td>\n",
       "      <td>{'var_smoothing': 0.0}</td>\n",
       "    </tr>\n",
       "    <tr>\n",
       "      <th>3</th>\n",
       "      <td>4</td>\n",
       "      <td>Multilayer Perceptron</td>\n",
       "      <td>79.22</td>\n",
       "      <td>{'activation': 'relu', 'alpha': 0.00041, 'max_...</td>\n",
       "    </tr>\n",
       "    <tr>\n",
       "      <th>4</th>\n",
       "      <td>5</td>\n",
       "      <td>Logistic Regression</td>\n",
       "      <td>83.67</td>\n",
       "      <td>{'C': 1.4, 'max_iter': 50, 'penalty': 'l2', 's...</td>\n",
       "    </tr>\n",
       "  </tbody>\n",
       "</table>\n",
       "</div>"
      ],
      "text/plain": [
       "   algorithm_id          algorithm_name  performance  \\\n",
       "0             1      K-Nearest Neighbor        83.35   \n",
       "1             2  Support Vector Machine        83.10   \n",
       "2             3    Gaussian Naive Bayes        80.97   \n",
       "3             4   Multilayer Perceptron        79.22   \n",
       "4             5     Logistic Regression        83.67   \n",
       "\n",
       "                                     hyperparameters  \n",
       "0  {'algorithm': 'ball_tree', 'metric': 'euclidea...  \n",
       "1                       {'C': 1.75, 'kernel': 'rbf'}  \n",
       "2                             {'var_smoothing': 0.0}  \n",
       "3  {'activation': 'relu', 'alpha': 0.00041, 'max_...  \n",
       "4  {'C': 1.4, 'max_iter': 50, 'penalty': 'l2', 's...  "
      ]
     },
     "execution_count": 12,
     "metadata": {},
     "output_type": "execute_result"
    }
   ],
   "source": [
    "# Exctrude the top models from the dataframe with the respective hyperparameters\n",
    "meta_params = best_params(df_umap)\n",
    "meta_params.head()"
   ]
  },
  {
   "cell_type": "code",
   "execution_count": 13,
   "metadata": {},
   "outputs": [],
   "source": [
    "algo = ['knn', 'svm', 'gnb', 'mlp', 'lr', 'lda', 'qda', 'rf', 'et', 'ab', 'gb']\n",
    "# return unique values of algorithm name\n",
    "meta_params = best_params(df_umap)\n",
    "algo_names = meta_params['algorithm_name'].unique()\n",
    "\n",
    "# iterate through key and value pairs in algo_dict\n",
    "i = 0\n",
    "for k,v in zip(algo, algo_names):\n",
    "    # Define hyperparameters for each  final estimator, based on top performing model from base layer\n",
    "    temp = get_hyperparameters(meta_params, v)\n",
    "    # convert to dictionary for easy access\n",
    "    temp_dict = {int(k):v for k,v in temp.items()}\n",
    "    # return first value\n",
    "    temp_dict = temp_dict[i]\n",
    "    # convert to dictionary for easy access, assign varibale name per algorithm\n",
    "    globals()['best_' +  k + '_params'] = ast.literal_eval(temp_dict)\n",
    "    i += 1"
   ]
  },
  {
   "cell_type": "code",
   "execution_count": 14,
   "metadata": {},
   "outputs": [],
   "source": [
    "# Add final estimators\n",
    "final_estimators = [('knn', KNeighborsClassifier(algorithm=get_value(best_knn_params, 'algorithm'), metric=get_value    (best_knn_params, 'metric'), n_neighbors= get_value(best_knn_params, 'n_neighbors'), weights=get_value(best_knn_params, 'weights'), n_jobs=-1)),\n",
    "        ('svm', SVC(C=get_value(best_svm_params, 'C'), kernel=get_value(best_svm_params, 'kernel'),probability=True, random_state=42)),\n",
    "        ('gnb', GaussianNB(var_smoothing=get_value(best_gnb_params, 'var_smoothing'))),\n",
    "        ('mlp', MLPClassifier(activation=get_value(best_mlp_params, 'activation'), alpha=get_value(best_mlp_params, 'alpha'), max_iter=get_value(best_mlp_params, 'max_iter'), solver=get_value(best_mlp_params, 'solver'), tol=get_value(best_mlp_params, 'tol'), random_state=42)),\n",
    "        ('lr', LogisticRegression(C=get_value(best_lr_params, 'C'), max_iter=get_value(best_lr_params, 'max_iter'),\n",
    "        penalty=get_value(best_lr_params, 'penalty'), solver=get_value(best_lr_params, 'solver'), random_state=42, n_jobs=-1)),\n",
    "        ('lda', LinearDiscriminantAnalysis(shrinkage=get_value(best_lda_params, 'shrinkage'), solver=get_value(best_lda_params, 'solver'))),\n",
    "        ('qda', QuadraticDiscriminantAnalysis(reg_param=get_value(best_qda_params, 'reg_param'), tol=get_value(best_qda_params, 'tol'))),\n",
    "        ('rf', RandomForestClassifier(criterion=get_value(best_rf_params, 'criterion'), n_estimators=get_value(best_rf_params, 'n_estimators'), random_state=42, n_jobs=-1)),\n",
    "        ('et', ExtraTreesClassifier(criterion=get_value(best_et_params, 'criterion'), n_estimators=get_value(best_et_params, 'n_estimators'), random_state=42, n_jobs=-1)),\n",
    "        ('ab', AdaBoostClassifier(algorithm=get_value(best_ab_params, 'algorithm'), learning_rate=get_value(best_ab_params, 'learning_rate'), n_estimators=get_value(best_ab_params, 'n_estimators'), random_state=42)),\n",
    "        ('gb', GradientBoostingClassifier(criterion=get_value(best_gb_params, 'criterion'), learning_rate=get_value(best_gb_params, 'learning_rate'), n_estimators=get_value(best_gb_params, 'n_estimators'), random_state=42))\n",
    "        ]"
   ]
  },
  {
   "cell_type": "markdown",
   "metadata": {},
   "source": [
    "Please note that for average metrix I did not include the logloss as using normalized version of logloss introduces bias to dataset"
   ]
  },
  {
   "cell_type": "code",
   "execution_count": 19,
   "metadata": {},
   "outputs": [
    {
     "name": "stderr",
     "output_type": "stream",
     "text": [
      "d:\\Conda\\lib\\site-packages\\sklearn\\neural_network\\_multilayer_perceptron.py:692: ConvergenceWarning:\n",
      "\n",
      "Stochastic Optimizer: Maximum iterations (100) reached and the optimization hasn't converged yet.\n",
      "\n",
      "d:\\Conda\\lib\\site-packages\\sklearn\\linear_model\\_sag.py:352: ConvergenceWarning:\n",
      "\n",
      "The max_iter was reached which means the coef_ did not converge\n",
      "\n",
      "d:\\Conda\\lib\\site-packages\\sklearn\\discriminant_analysis.py:878: UserWarning:\n",
      "\n",
      "Variables are collinear\n",
      "\n"
     ]
    }
   ],
   "source": [
    "# create dataframe for df_model_meta with columns names from df_model\n",
    "df_model_meta = pd.DataFrame(columns=df_model.columns)\n",
    "\n",
    "# create dataframe for top_models probabilities\n",
    "df_prob_meta = pd.DataFrame()\n",
    "\n",
    "for x in range(0, len(final_estimators)):\n",
    "        final_estimator = final_estimators[x][1]\n",
    "        clf = StackingClassifier(estimators=estimators, final_estimator=final_estimator, n_jobs=-1, cv=5)\n",
    "        clf.fit(x_train, y_train)\n",
    "        y_pred = clf.predict(x_train)\n",
    "        y_pred = pd.Series(y_pred)\n",
    "\n",
    "        # probabilities dataframe\n",
    "        y_pred_prob = clf.predict_proba(x_train)\n",
    "        y_pred_prob_df = pd.DataFrame(y_pred_prob, columns=['prob_0', 'prob_1'])\n",
    "        y_pred_prob_df['target'] = y_train\n",
    "        y_pred_prob_df['predicted'] = y_pred\n",
    "        # create new column, set value to prob_0 if target is 0 and prob_1 if target is 1\n",
    "        y_pred_prob_df['pred_prob'] = np.where(y_pred_prob_df['target'] == 0, y_pred_prob_df['prob_0'], y_pred_prob_df['prob_1'])\n",
    "        # remove prob_0 and prob_1 columns, target and rpected columns\n",
    "        y_pred_prob_df = y_pred_prob_df.drop(['prob_0', 'prob_1', 'target', 'predicted'], axis=1)\n",
    "        # transpose the data frame and convert values to %\n",
    "        y_pred_prob_df = y_pred_prob_df.T\n",
    "        y_pred_prob_df = y_pred_prob_df.apply(lambda x: x * 100).round(2)\n",
    "        # set index to x\n",
    "        y_pred_prob_df.index = [x]\n",
    "        # add row to df_prob_meta using pd.concat\n",
    "        df_prob_meta = pd.concat([df_prob_meta, y_pred_prob_df], axis=0)\n",
    "\n",
    "        # performance metrics dataframe\n",
    "        accuracy = round(accuracy_score(y_train, y_pred)*100, 2)\n",
    "        precision = round(precision_score(y_train, y_pred, average='weighted')*100, 2)\n",
    "        recall = round(recall_score(y_train, y_pred, average='weighted')*100, 2)\n",
    "        roc_auc = round(roc_auc_score(y_train, y_pred, average='weighted')*100, 2)\n",
    "        gmean = round(geometric_mean_score(y_train, y_pred, average='weighted')*100, 2)\n",
    "        mcc = round(matthews_corrcoef(y_train, y_pred)*100, 2)\n",
    "        f1_weighted = round(f1_score(y_train, y_pred, average='weighted')*100, 2)\n",
    "        log_loss = round(metrics.log_loss(y_train, y_pred, normalize=True)*100, 2)\n",
    "        average_metrics = (accuracy + precision + recall + roc_auc + gmean + mcc + f1_weighted) / 7\n",
    "        average_metrics = round(average_metrics, 2)\n",
    "        # add performance metrics to df_model_meta using pd.concat with index\n",
    "        df_model_meta = pd.concat([df_model_meta, pd.DataFrame([[f'meta_{x+1}', x+1, accuracy, precision, recall, roc_auc, gmean, \n",
    "                        mcc, f1_weighted, log_loss, average_metrics, f'{final_estimator.get_params()}']], \n",
    "                        columns=df_model_meta.columns, index=[x])], axis=0)"
   ]
  },
  {
   "cell_type": "code",
   "execution_count": 20,
   "metadata": {},
   "outputs": [],
   "source": [
    "# Save both dataframes to csv\n",
    "df_model_meta.to_csv(f'{path}/MetaModelsPerformance.csv', index=False)\n",
    "df_prob_meta.to_csv(f'{path}/MetaModelsProbabilities.csv', index=False)"
   ]
  },
  {
   "cell_type": "markdown",
   "metadata": {},
   "source": [
    "Create umap dimension reduction dataset for metamodel probabilities anc concatinate with original base layer dataset"
   ]
  },
  {
   "cell_type": "code",
   "execution_count": 16,
   "metadata": {},
   "outputs": [
    {
     "name": "stderr",
     "output_type": "stream",
     "text": [
      "d:\\Conda\\lib\\site-packages\\umap\\umap_.py:2344: UserWarning: n_neighbors is larger than the dataset size; truncating to X.shape[0] - 1\n",
      "  warn(\n"
     ]
    }
   ],
   "source": [
    "df_umap_meta = umap_model(df_prob_meta, df_model_meta)\n",
    "\n",
    "# concat df_umap and df_umap_meta\n",
    "df_umap_all = pd.concat([df_umap, df_umap_meta], axis=0)"
   ]
  },
  {
   "cell_type": "markdown",
   "metadata": {},
   "source": [
    "### UMAP chart"
   ]
  },
  {
   "cell_type": "code",
   "execution_count": 17,
   "metadata": {},
   "outputs": [
    {
     "data": {
      "application/vnd.plotly.v1+json": {
       "config": {
        "plotlyServerURL": "https://plot.ly"
       },
       "data": [
        {
         "hovertemplate": "<b>%{hovertext}</b><br><br>algorithm_id=1<br>=%{y}<br>size=%{marker.size}<br>Performance=%{marker.color}<extra></extra>",
         "hovertext": [
          "K-Nearest Neighbor<br>Performance: 83.35%<br>Model ID: 452<br>Accuracy: 70.31%<br>Precision: 70.36%<br>Recall: 70.31%<br>ROC AUC: 72.5<br>Geometric Mean: 100.0<br>Matthews Correlation: 100.0<br>F1: 100.0<br>Log Loss: 0.0",
          "K-Nearest Neighbor<br>Performance: 83.28%<br>Model ID: 288<br>Accuracy: 69.62%<br>Precision: 69.8%<br>Recall: 69.62%<br>ROC AUC: 73.91<br>Geometric Mean: 100.0<br>Matthews Correlation: 100.0<br>F1: 100.0<br>Log Loss: 0.0",
          "K-Nearest Neighbor<br>Performance: 83.13%<br>Model ID: 96<br>Accuracy: 69.29%<br>Precision: 69.48%<br>Recall: 69.29%<br>ROC AUC: 73.84<br>Geometric Mean: 100.0<br>Matthews Correlation: 100.0<br>F1: 100.0<br>Log Loss: 0.0",
          "K-Nearest Neighbor<br>Performance: 83.13%<br>Model ID: 480<br>Accuracy: 69.29%<br>Precision: 69.48%<br>Recall: 69.29%<br>ROC AUC: 73.82<br>Geometric Mean: 100.0<br>Matthews Correlation: 100.0<br>F1: 100.0<br>Log Loss: 0.0",
          "K-Nearest Neighbor<br>Performance: 83.11%<br>Model ID: 458<br>Accuracy: 69.64%<br>Precision: 69.61%<br>Recall: 69.64%<br>ROC AUC: 72.85<br>Geometric Mean: 100.0<br>Matthews Correlation: 100.0<br>F1: 100.0<br>Log Loss: 0.0",
          "K-Nearest Neighbor<br>Performance: 83.35%<br>Model ID: meta_1<br>Accuracy: 70.31%<br>Precision: 70.36%<br>Recall: 70.31%<br>ROC AUC: 72.5<br>Geometric Mean: 100.0<br>Matthews Correlation: 100.0<br>F1: 100.0<br>Log Loss: 0.0"
         ],
         "legendgroup": "1",
         "marker": {
          "color": [
           83.35,
           83.28,
           83.13,
           83.13,
           83.11,
           83.35
          ],
          "coloraxis": "coloraxis",
          "line": {
           "color": "Black",
           "width": 1
          },
          "opacity": 0.8,
          "size": [
           1,
           1,
           1,
           1,
           1,
           3
          ],
          "sizemode": "area",
          "sizeref": 0.0075,
          "symbol": "circle"
         },
         "mode": "markers",
         "name": "1",
         "orientation": "v",
         "showlegend": true,
         "type": "scatter",
         "x": [
          14.725808143615723,
          14.167542457580566,
          14.463717460632324,
          13.757285118103027,
          14.220015525817871,
          11.076905250549316
         ],
         "xaxis": "x",
         "y": [
          2.694361925125122,
          2.602966547012329,
          3.2192718982696533,
          3.215111017227173,
          2.8349242210388184,
          15.81976318359375
         ],
         "yaxis": "y"
        },
        {
         "hovertemplate": "<b>%{hovertext}</b><br><br>algorithm_id=2<br>=%{y}<br>size=%{marker.size}<br>Performance=%{marker.color}<extra></extra>",
         "hovertext": [
          "Support Vector Machine<br>Performance: 83.1%<br>Model ID: 694<br>Accuracy: 82.5%<br>Precision: 82.92%<br>Recall: 82.5%<br>ROC AUC: 89.98<br>Geometric Mean: 85.43<br>Matthews Correlation: 72.38<br>F1: 85.99<br>Log Loss: 0.62",
          "Support Vector Machine<br>Performance: 83.08%<br>Model ID: 650<br>Accuracy: 82.83%<br>Precision: 83.3%<br>Recall: 82.83%<br>ROC AUC: 90.14<br>Geometric Mean: 85.07<br>Matthews Correlation: 71.75<br>F1: 85.65<br>Log Loss: 0.71",
          "Support Vector Machine<br>Performance: 83.08%<br>Model ID: 646<br>Accuracy: 82.83%<br>Precision: 83.3%<br>Recall: 82.83%<br>ROC AUC: 90.15<br>Geometric Mean: 85.07<br>Matthews Correlation: 71.75<br>F1: 85.65<br>Log Loss: 0.69",
          "Support Vector Machine<br>Performance: 83.09%<br>Model ID: 642<br>Accuracy: 82.83%<br>Precision: 83.3%<br>Recall: 82.83%<br>ROC AUC: 90.19<br>Geometric Mean: 85.07<br>Matthews Correlation: 71.75<br>F1: 85.65<br>Log Loss: 0.68",
          "Support Vector Machine<br>Performance: 83.07%<br>Model ID: 654<br>Accuracy: 82.83%<br>Precision: 83.3%<br>Recall: 82.83%<br>ROC AUC: 90.09<br>Geometric Mean: 85.07<br>Matthews Correlation: 71.75<br>F1: 85.65<br>Log Loss: 0.69",
          "Support Vector Machine<br>Performance: 83.28%<br>Model ID: meta_2<br>Accuracy: 69.62%<br>Precision: 69.8%<br>Recall: 69.62%<br>ROC AUC: 73.91<br>Geometric Mean: 100.0<br>Matthews Correlation: 100.0<br>F1: 100.0<br>Log Loss: 0.0"
         ],
         "legendgroup": "2",
         "marker": {
          "color": [
           83.1,
           83.08,
           83.08,
           83.09,
           83.07,
           83.28
          ],
          "coloraxis": "coloraxis",
          "line": {
           "color": "Black",
           "width": 1
          },
          "opacity": 0.8,
          "size": [
           1,
           1,
           1,
           1,
           1,
           3
          ],
          "sizemode": "area",
          "sizeref": 0.0075,
          "symbol": "square"
         },
         "mode": "markers",
         "name": "2",
         "orientation": "v",
         "showlegend": true,
         "type": "scatter",
         "x": [
          14.52623462677002,
          13.871861457824707,
          14.054407119750977,
          14.240077018737793,
          14.48650074005127,
          11.656198501586914
         ],
         "xaxis": "x",
         "y": [
          10.377835273742676,
          10.543848037719727,
          9.911872863769531,
          9.653278350830078,
          10.12797737121582,
          17.91514015197754
         ],
         "yaxis": "y"
        },
        {
         "hovertemplate": "<b>%{hovertext}</b><br><br>algorithm_id=3<br>=%{y}<br>size=%{marker.size}<br>Performance=%{marker.color}<extra></extra>",
         "hovertext": [
          "Gaussian Naive Bayes<br>Performance: 80.97%<br>Model ID: 737<br>Accuracy: 80.51%<br>Precision: 80.65%<br>Recall: 80.51%<br>ROC AUC: 89.18<br>Geometric Mean: 83.79<br>Matthews Correlation: 68.01<br>F1: 84.11<br>Log Loss: 100.0",
          "Gaussian Naive Bayes<br>Performance: 80.97%<br>Model ID: 1066<br>Accuracy: 80.51%<br>Precision: 80.65%<br>Recall: 80.51%<br>ROC AUC: 89.18<br>Geometric Mean: 83.79<br>Matthews Correlation: 68.01<br>F1: 84.11<br>Log Loss: 34.0",
          "Gaussian Naive Bayes<br>Performance: 80.97%<br>Model ID: 1079<br>Accuracy: 80.51%<br>Precision: 80.65%<br>Recall: 80.51%<br>ROC AUC: 89.18<br>Geometric Mean: 83.79<br>Matthews Correlation: 68.01<br>F1: 84.11<br>Log Loss: 31.4",
          "Gaussian Naive Bayes<br>Performance: 80.97%<br>Model ID: 1078<br>Accuracy: 80.51%<br>Precision: 80.65%<br>Recall: 80.51%<br>ROC AUC: 89.18<br>Geometric Mean: 83.79<br>Matthews Correlation: 68.01<br>F1: 84.11<br>Log Loss: 31.6",
          "Gaussian Naive Bayes<br>Performance: 80.97%<br>Model ID: 1077<br>Accuracy: 80.51%<br>Precision: 80.65%<br>Recall: 80.51%<br>ROC AUC: 89.18<br>Geometric Mean: 83.79<br>Matthews Correlation: 68.01<br>F1: 84.11<br>Log Loss: 31.8",
          "Gaussian Naive Bayes<br>Performance: 83.13%<br>Model ID: meta_3<br>Accuracy: 69.29%<br>Precision: 69.48%<br>Recall: 69.29%<br>ROC AUC: 73.84<br>Geometric Mean: 100.0<br>Matthews Correlation: 100.0<br>F1: 100.0<br>Log Loss: 0.0"
         ],
         "legendgroup": "3",
         "marker": {
          "color": [
           80.97,
           80.97,
           80.97,
           80.97,
           80.97,
           83.13
          ],
          "coloraxis": "coloraxis",
          "line": {
           "color": "Black",
           "width": 1
          },
          "opacity": 0.8,
          "size": [
           1,
           1,
           1,
           1,
           1,
           3
          ],
          "sizemode": "area",
          "sizeref": 0.0075,
          "symbol": "x"
         },
         "mode": "markers",
         "name": "3",
         "orientation": "v",
         "showlegend": true,
         "type": "scatter",
         "x": [
          5.467803955078125,
          5.900242328643799,
          5.6630730628967285,
          6.14700984954834,
          6.043838024139404,
          12.308030128479004
         ],
         "xaxis": "x",
         "y": [
          -3.9337358474731445,
          -3.5261240005493164,
          -4.297012805938721,
          -4.0418219566345215,
          -4.010629177093506,
          16.822071075439453
         ],
         "yaxis": "y"
        },
        {
         "hovertemplate": "<b>%{hovertext}</b><br><br>algorithm_id=4<br>=%{y}<br>size=%{marker.size}<br>Performance=%{marker.color}<extra></extra>",
         "hovertext": [
          "Multilayer Perceptron<br>Performance: 79.22%<br>Model ID: 1262<br>Accuracy: 79.85%<br>Precision: 79.92%<br>Recall: 79.85%<br>ROC AUC: 85.88<br>Geometric Mean: 81.86<br>Matthews Correlation: 64.8<br>F1: 82.36<br>Log Loss: 17.56",
          "Multilayer Perceptron<br>Performance: 79.22%<br>Model ID: 1263<br>Accuracy: 79.85%<br>Precision: 79.92%<br>Recall: 79.85%<br>ROC AUC: 85.88<br>Geometric Mean: 81.86<br>Matthews Correlation: 64.8<br>F1: 82.36<br>Log Loss: 17.56",
          "Multilayer Perceptron<br>Performance: 79.22%<br>Model ID: 1261<br>Accuracy: 79.85%<br>Precision: 79.92%<br>Recall: 79.85%<br>ROC AUC: 85.88<br>Geometric Mean: 81.86<br>Matthews Correlation: 64.8<br>F1: 82.36<br>Log Loss: 17.56",
          "Multilayer Perceptron<br>Performance: 79.09%<br>Model ID: 1249<br>Accuracy: 79.52%<br>Precision: 79.59%<br>Recall: 79.52%<br>ROC AUC: 85.97<br>Geometric Mean: 81.86<br>Matthews Correlation: 64.8<br>F1: 82.36<br>Log Loss: 17.17",
          "Multilayer Perceptron<br>Performance: 79.09%<br>Model ID: 1251<br>Accuracy: 79.52%<br>Precision: 79.59%<br>Recall: 79.52%<br>ROC AUC: 85.97<br>Geometric Mean: 81.86<br>Matthews Correlation: 64.8<br>F1: 82.36<br>Log Loss: 17.17",
          "Multilayer Perceptron<br>Performance: 83.13%<br>Model ID: meta_4<br>Accuracy: 69.29%<br>Precision: 69.48%<br>Recall: 69.29%<br>ROC AUC: 73.82<br>Geometric Mean: 100.0<br>Matthews Correlation: 100.0<br>F1: 100.0<br>Log Loss: 0.0"
         ],
         "legendgroup": "4",
         "marker": {
          "color": [
           79.22,
           79.22,
           79.22,
           79.09,
           79.09,
           83.13
          ],
          "coloraxis": "coloraxis",
          "line": {
           "color": "Black",
           "width": 1
          },
          "opacity": 0.8,
          "size": [
           1,
           1,
           1,
           1,
           1,
           3
          ],
          "sizemode": "area",
          "sizeref": 0.0075,
          "symbol": "cross"
         },
         "mode": "markers",
         "name": "4",
         "orientation": "v",
         "showlegend": true,
         "type": "scatter",
         "x": [
          15.754286766052246,
          16.052026748657227,
          15.860443115234375,
          15.50299072265625,
          15.366022109985352,
          13.30665111541748
         ],
         "xaxis": "x",
         "y": [
          4.181682586669922,
          4.356541156768799,
          3.5055160522460938,
          3.717660427093506,
          4.407083034515381,
          17.515424728393555
         ],
         "yaxis": "y"
        },
        {
         "hovertemplate": "<b>%{hovertext}</b><br><br>algorithm_id=5<br>=%{y}<br>size=%{marker.size}<br>Performance=%{marker.color}<extra></extra>",
         "hovertext": [
          "Logistic Regression<br>Performance: 83.67%<br>Model ID: 1677<br>Accuracy: 84.14%<br>Precision: 84.66%<br>Recall: 84.14%<br>ROC AUC: 90.32<br>Geometric Mean: 85.13<br>Matthews Correlation: 71.65<br>F1: 85.67<br>Log Loss: 3.51",
          "Logistic Regression<br>Performance: 83.66%<br>Model ID: 1741<br>Accuracy: 84.46%<br>Precision: 84.98%<br>Recall: 84.46%<br>ROC AUC: 90.58<br>Geometric Mean: 84.83<br>Matthews Correlation: 70.93<br>F1: 85.35<br>Log Loss: 3.37",
          "Logistic Regression<br>Performance: 83.54%<br>Model ID: 1901<br>Accuracy: 83.8%<br>Precision: 84.26%<br>Recall: 83.8%<br>ROC AUC: 90.5<br>Geometric Mean: 85.13<br>Matthews Correlation: 71.65<br>F1: 85.67<br>Log Loss: 3.41",
          "Logistic Regression<br>Performance: 83.53%<br>Model ID: 1773<br>Accuracy: 84.14%<br>Precision: 84.64%<br>Recall: 84.14%<br>ROC AUC: 90.65<br>Geometric Mean: 84.77<br>Matthews Correlation: 71.02<br>F1: 85.33<br>Log Loss: 3.23",
          "Logistic Regression<br>Performance: 83.41%<br>Model ID: 1869<br>Accuracy: 83.48%<br>Precision: 83.92%<br>Recall: 83.48%<br>ROC AUC: 90.54<br>Geometric Mean: 85.07<br>Matthews Correlation: 71.75<br>F1: 85.65<br>Log Loss: 2.97",
          "Logistic Regression<br>Performance: 83.11%<br>Model ID: meta_5<br>Accuracy: 69.64%<br>Precision: 69.61%<br>Recall: 69.64%<br>ROC AUC: 72.85<br>Geometric Mean: 100.0<br>Matthews Correlation: 100.0<br>F1: 100.0<br>Log Loss: 0.0"
         ],
         "legendgroup": "5",
         "marker": {
          "color": [
           83.67,
           83.66,
           83.54,
           83.53,
           83.41,
           83.11
          ],
          "coloraxis": "coloraxis",
          "line": {
           "color": "Black",
           "width": 1
          },
          "opacity": 0.8,
          "size": [
           1,
           1,
           1,
           1,
           1,
           3
          ],
          "sizemode": "area",
          "sizeref": 0.0075,
          "symbol": "diamond"
         },
         "mode": "markers",
         "name": "5",
         "orientation": "v",
         "showlegend": true,
         "type": "scatter",
         "x": [
          13.554408073425293,
          13.530305862426758,
          12.997515678405762,
          12.653424263000488,
          12.91784954071045,
          13.243791580200195
         ],
         "xaxis": "x",
         "y": [
          9.06684398651123,
          9.552748680114746,
          10.10239028930664,
          9.819879531860352,
          9.480998039245605,
          16.388460159301758
         ],
         "yaxis": "y"
        },
        {
         "hovertemplate": "<b>%{hovertext}</b><br><br>algorithm_id=6<br>=%{y}<br>size=%{marker.size}<br>Performance=%{marker.color}<extra></extra>",
         "hovertext": [
          "Linear Discriminant Analysis<br>Performance: 82.31%<br>Model ID: 1997<br>Accuracy: 83.16%<br>Precision: 84.11%<br>Recall: 83.16%<br>ROC AUC: 89.99<br>Geometric Mean: 83.32<br>Matthews Correlation: 68.51<br>F1: 83.94<br>Log Loss: 0.0",
          "Linear Discriminant Analysis<br>Performance: 82.31%<br>Model ID: 1998<br>Accuracy: 83.16%<br>Precision: 84.11%<br>Recall: 83.16%<br>ROC AUC: 89.99<br>Geometric Mean: 83.32<br>Matthews Correlation: 68.51<br>F1: 83.94<br>Log Loss: 0.0",
          "Linear Discriminant Analysis<br>Performance: 73.45%<br>Model ID: 1999<br>Accuracy: 75.89%<br>Precision: 76.41%<br>Recall: 75.89%<br>ROC AUC: 82.6<br>Geometric Mean: 75.39<br>Matthews Correlation: 52.04<br>F1: 75.95<br>Log Loss: 31.9",
          "Linear Discriminant Analysis<br>Performance: 73.45%<br>Model ID: 2000<br>Accuracy: 75.89%<br>Precision: 76.41%<br>Recall: 75.89%<br>ROC AUC: 82.6<br>Geometric Mean: 75.39<br>Matthews Correlation: 52.04<br>F1: 75.95<br>Log Loss: 31.9",
          "Linear Discriminant Analysis<br>Performance: 71.08%<br>Model ID: 2001<br>Accuracy: 74.25%<br>Precision: 74.65%<br>Recall: 74.25%<br>ROC AUC: 79.07<br>Geometric Mean: 73.45<br>Matthews Correlation: 47.92<br>F1: 73.99<br>Log Loss: 41.85",
          "Linear Discriminant Analysis<br>Performance: 83.1%<br>Model ID: meta_6<br>Accuracy: 82.5%<br>Precision: 82.92%<br>Recall: 82.5%<br>ROC AUC: 89.98<br>Geometric Mean: 85.43<br>Matthews Correlation: 72.38<br>F1: 85.99<br>Log Loss: 0.62"
         ],
         "legendgroup": "6",
         "marker": {
          "color": [
           82.31,
           82.31,
           73.45,
           73.45,
           71.08,
           83.1
          ],
          "coloraxis": "coloraxis",
          "line": {
           "color": "Black",
           "width": 1
          },
          "opacity": 0.8,
          "size": [
           1,
           1,
           1,
           1,
           1,
           3
          ],
          "sizemode": "area",
          "sizeref": 0.0075,
          "symbol": "star"
         },
         "mode": "markers",
         "name": "6",
         "orientation": "v",
         "showlegend": true,
         "type": "scatter",
         "x": [
          12.130545616149902,
          12.534586906433105,
          14.279054641723633,
          14.144198417663574,
          14.644500732421875,
          10.064733505249023
         ],
         "xaxis": "x",
         "y": [
          9.077071189880371,
          8.785600662231445,
          4.223367691040039,
          3.831113338470459,
          3.5791609287261963,
          16.327550888061523
         ],
         "yaxis": "y"
        },
        {
         "hovertemplate": "<b>%{hovertext}</b><br><br>algorithm_id=7<br>=%{y}<br>size=%{marker.size}<br>Performance=%{marker.color}<extra></extra>",
         "hovertext": [
          "Quadratic Discriminant Analysis<br>Performance: 83.44%<br>Model ID: 2227<br>Accuracy: 81.49%<br>Precision: 81.79%<br>Recall: 81.49%<br>ROC AUC: 88.84<br>Geometric Mean: 87.24<br>Matthews Correlation: 75.55<br>F1: 87.7<br>Log Loss: 0.03",
          "Quadratic Discriminant Analysis<br>Performance: 83.44%<br>Model ID: 2231<br>Accuracy: 81.49%<br>Precision: 81.79%<br>Recall: 81.49%<br>ROC AUC: 88.84<br>Geometric Mean: 87.24<br>Matthews Correlation: 75.55<br>F1: 87.7<br>Log Loss: 0.03",
          "Quadratic Discriminant Analysis<br>Performance: 83.44%<br>Model ID: 2230<br>Accuracy: 81.49%<br>Precision: 81.79%<br>Recall: 81.49%<br>ROC AUC: 88.84<br>Geometric Mean: 87.24<br>Matthews Correlation: 75.55<br>F1: 87.7<br>Log Loss: 0.03",
          "Quadratic Discriminant Analysis<br>Performance: 83.44%<br>Model ID: 2229<br>Accuracy: 81.49%<br>Precision: 81.79%<br>Recall: 81.49%<br>ROC AUC: 88.84<br>Geometric Mean: 87.24<br>Matthews Correlation: 75.55<br>F1: 87.7<br>Log Loss: 0.03",
          "Quadratic Discriminant Analysis<br>Performance: 83.44%<br>Model ID: 2228<br>Accuracy: 81.49%<br>Precision: 81.79%<br>Recall: 81.49%<br>ROC AUC: 88.84<br>Geometric Mean: 87.24<br>Matthews Correlation: 75.55<br>F1: 87.7<br>Log Loss: 0.03",
          "Quadratic Discriminant Analysis<br>Performance: 83.08%<br>Model ID: meta_7<br>Accuracy: 82.83%<br>Precision: 83.3%<br>Recall: 82.83%<br>ROC AUC: 90.14<br>Geometric Mean: 85.07<br>Matthews Correlation: 71.75<br>F1: 85.65<br>Log Loss: 0.71"
         ],
         "legendgroup": "7",
         "marker": {
          "color": [
           83.44,
           83.44,
           83.44,
           83.44,
           83.44,
           83.08
          ],
          "coloraxis": "coloraxis",
          "line": {
           "color": "Black",
           "width": 1
          },
          "opacity": 0.8,
          "size": [
           1,
           1,
           1,
           1,
           1,
           3
          ],
          "sizemode": "area",
          "sizeref": 0.0075,
          "symbol": "hexagram"
         },
         "mode": "markers",
         "name": "7",
         "orientation": "v",
         "showlegend": true,
         "type": "scatter",
         "x": [
          11.630352020263672,
          11.604002952575684,
          11.997049331665039,
          12.312254905700684,
          11.416606903076172,
          11.254034996032715
         ],
         "xaxis": "x",
         "y": [
          8.788351058959961,
          7.972352504730225,
          8.248249053955078,
          8.194568634033203,
          8.37159252166748,
          16.812700271606445
         ],
         "yaxis": "y"
        },
        {
         "hovertemplate": "<b>%{hovertext}</b><br><br>algorithm_id=8<br>=%{y}<br>size=%{marker.size}<br>Performance=%{marker.color}<extra></extra>",
         "hovertext": [
          "Random Forest<br>Performance: 91.82%<br>Model ID: 2488<br>Accuracy: 84.13%<br>Precision: 84.34%<br>Recall: 84.13%<br>ROC AUC: 90.17<br>Geometric Mean: 100.0<br>Matthews Correlation: 100.0<br>F1: 100.0<br>Log Loss: 59.71",
          "Random Forest<br>Performance: 91.83%<br>Model ID: 2490<br>Accuracy: 84.13%<br>Precision: 84.31%<br>Recall: 84.13%<br>ROC AUC: 90.21<br>Geometric Mean: 100.0<br>Matthews Correlation: 100.0<br>F1: 100.0<br>Log Loss: 52.76",
          "Random Forest<br>Performance: 91.83%<br>Model ID: 2489<br>Accuracy: 84.13%<br>Precision: 84.34%<br>Recall: 84.13%<br>ROC AUC: 90.22<br>Geometric Mean: 100.0<br>Matthews Correlation: 100.0<br>F1: 100.0<br>Log Loss: 54.75",
          "Random Forest<br>Performance: 91.82%<br>Model ID: 2494<br>Accuracy: 84.13%<br>Precision: 84.38%<br>Recall: 84.13%<br>ROC AUC: 90.11<br>Geometric Mean: 100.0<br>Matthews Correlation: 100.0<br>F1: 100.0<br>Log Loss: 58.36",
          "Random Forest<br>Performance: 91.69%<br>Model ID: 2493<br>Accuracy: 83.8%<br>Precision: 84.02%<br>Recall: 83.8%<br>ROC AUC: 90.22<br>Geometric Mean: 100.0<br>Matthews Correlation: 100.0<br>F1: 100.0<br>Log Loss: 57.04",
          "Random Forest<br>Performance: 83.08%<br>Model ID: meta_8<br>Accuracy: 82.83%<br>Precision: 83.3%<br>Recall: 82.83%<br>ROC AUC: 90.15<br>Geometric Mean: 85.07<br>Matthews Correlation: 71.75<br>F1: 85.65<br>Log Loss: 0.69"
         ],
         "legendgroup": "8",
         "marker": {
          "color": [
           91.82,
           91.83,
           91.83,
           91.82,
           91.69,
           83.08
          ],
          "coloraxis": "coloraxis",
          "line": {
           "color": "Black",
           "width": 1
          },
          "opacity": 0.8,
          "size": [
           1,
           1,
           1,
           1,
           1,
           3
          ],
          "sizemode": "area",
          "sizeref": 0.0075,
          "symbol": "triangle-right"
         },
         "mode": "markers",
         "name": "8",
         "orientation": "v",
         "showlegend": true,
         "type": "scatter",
         "x": [
          17.997909545898438,
          17.55900001525879,
          17.663240432739258,
          17.581233978271484,
          17.32883644104004,
          12.027719497680664
         ],
         "xaxis": "x",
         "y": [
          8.88547420501709,
          9.278035163879395,
          8.419692993164062,
          8.129791259765625,
          8.78539752960205,
          15.64344310760498
         ],
         "yaxis": "y"
        },
        {
         "hovertemplate": "<b>%{hovertext}</b><br><br>algorithm_id=9<br>=%{y}<br>size=%{marker.size}<br>Performance=%{marker.color}<extra></extra>",
         "hovertext": [
          "Extra Trees<br>Performance: 92.27%<br>Model ID: 2667<br>Accuracy: 84.81%<br>Precision: 85.07%<br>Recall: 84.81%<br>ROC AUC: 91.22<br>Geometric Mean: 100.0<br>Matthews Correlation: 100.0<br>F1: 100.0<br>Log Loss: 0.0",
          "Extra Trees<br>Performance: 92.24%<br>Model ID: 2659<br>Accuracy: 84.8%<br>Precision: 84.98%<br>Recall: 84.8%<br>ROC AUC: 91.07<br>Geometric Mean: 100.0<br>Matthews Correlation: 100.0<br>F1: 100.0<br>Log Loss: 0.0",
          "Extra Trees<br>Performance: 92.24%<br>Model ID: 2660<br>Accuracy: 84.8%<br>Precision: 84.98%<br>Recall: 84.8%<br>ROC AUC: 91.07<br>Geometric Mean: 100.0<br>Matthews Correlation: 100.0<br>F1: 100.0<br>Log Loss: 0.0",
          "Extra Trees<br>Performance: 92.19%<br>Model ID: 2714<br>Accuracy: 84.48%<br>Precision: 84.59%<br>Recall: 84.48%<br>ROC AUC: 91.8<br>Geometric Mean: 100.0<br>Matthews Correlation: 100.0<br>F1: 100.0<br>Log Loss: 0.0",
          "Extra Trees<br>Performance: 92.19%<br>Model ID: 2715<br>Accuracy: 84.48%<br>Precision: 84.59%<br>Recall: 84.48%<br>ROC AUC: 91.76<br>Geometric Mean: 100.0<br>Matthews Correlation: 100.0<br>F1: 100.0<br>Log Loss: 0.0",
          "Extra Trees<br>Performance: 83.09%<br>Model ID: meta_9<br>Accuracy: 82.83%<br>Precision: 83.3%<br>Recall: 82.83%<br>ROC AUC: 90.19<br>Geometric Mean: 85.07<br>Matthews Correlation: 71.75<br>F1: 85.65<br>Log Loss: 0.68"
         ],
         "legendgroup": "9",
         "marker": {
          "color": [
           92.27,
           92.24,
           92.24,
           92.19,
           92.19,
           83.09
          ],
          "coloraxis": "coloraxis",
          "line": {
           "color": "Black",
           "width": 1
          },
          "opacity": 0.8,
          "size": [
           1,
           1,
           1,
           1,
           1,
           3
          ],
          "sizemode": "area",
          "sizeref": 0.0075,
          "symbol": "triangle-left"
         },
         "mode": "markers",
         "name": "9",
         "orientation": "v",
         "showlegend": true,
         "type": "scatter",
         "x": [
          16.18092155456543,
          16.456327438354492,
          16.655118942260742,
          16.20858383178711,
          16.516218185424805,
          10.560791969299316
         ],
         "xaxis": "x",
         "y": [
          8.779159545898438,
          8.443530082702637,
          9.057991981506348,
          9.604605674743652,
          9.361213684082031,
          17.883670806884766
         ],
         "yaxis": "y"
        },
        {
         "hovertemplate": "<b>%{hovertext}</b><br><br>algorithm_id=10<br>=%{y}<br>size=%{marker.size}<br>Performance=%{marker.color}<extra></extra>",
         "hovertext": [
          "Adaptive Boosting<br>Performance: 85.49%<br>Model ID: 2808<br>Accuracy: 80.83%<br>Precision: 81.1%<br>Recall: 80.83%<br>ROC AUC: 87.46<br>Geometric Mean: 92.08<br>Matthews Correlation: 84.06<br>F1: 92.08<br>Log Loss: 91.04",
          "Adaptive Boosting<br>Performance: 85.37%<br>Model ID: 2845<br>Accuracy: 80.16%<br>Precision: 80.31%<br>Recall: 80.16%<br>ROC AUC: 83.52<br>Geometric Mean: 93.35<br>Matthews Correlation: 86.69<br>F1: 93.4<br>Log Loss: 99.49",
          "Adaptive Boosting<br>Performance: 85.29%<br>Model ID: 2811<br>Accuracy: 80.5%<br>Precision: 80.76%<br>Recall: 80.5%<br>ROC AUC: 86.95<br>Geometric Mean: 92.13<br>Matthews Correlation: 84.1<br>F1: 92.09<br>Log Loss: 92.25",
          "Adaptive Boosting<br>Performance: 85.19%<br>Model ID: 2812<br>Accuracy: 80.16%<br>Precision: 80.52%<br>Recall: 80.16%<br>ROC AUC: 87.19<br>Geometric Mean: 92.13<br>Matthews Correlation: 84.1<br>F1: 92.09<br>Log Loss: 92.14",
          "Adaptive Boosting<br>Performance: 85.18%<br>Model ID: 2809<br>Accuracy: 80.17%<br>Precision: 80.42%<br>Recall: 80.17%<br>ROC AUC: 87.3<br>Geometric Mean: 92.08<br>Matthews Correlation: 84.06<br>F1: 92.08<br>Log Loss: 91.13",
          "Adaptive Boosting<br>Performance: 83.07%<br>Model ID: meta_10<br>Accuracy: 82.83%<br>Precision: 83.3%<br>Recall: 82.83%<br>ROC AUC: 90.09<br>Geometric Mean: 85.07<br>Matthews Correlation: 71.75<br>F1: 85.65<br>Log Loss: 0.69"
         ],
         "legendgroup": "10",
         "marker": {
          "color": [
           85.49,
           85.37,
           85.29,
           85.19,
           85.18,
           83.07
          ],
          "coloraxis": "coloraxis",
          "line": {
           "color": "Black",
           "width": 1
          },
          "opacity": 0.8,
          "size": [
           1,
           1,
           1,
           1,
           1,
           3
          ],
          "sizemode": "area",
          "sizeref": 0.0075,
          "symbol": "triangle-down"
         },
         "mode": "markers",
         "name": "10",
         "orientation": "v",
         "showlegend": true,
         "type": "scatter",
         "x": [
          12.618986129760742,
          12.732739448547363,
          13.202101707458496,
          13.049566268920898,
          12.529672622680664,
          12.92323112487793
         ],
         "xaxis": "x",
         "y": [
          2.986750602722168,
          1.9948188066482544,
          1.8556017875671387,
          2.630592107772827,
          2.3961734771728516,
          18.633838653564453
         ],
         "yaxis": "y"
        },
        {
         "hovertemplate": "<b>%{hovertext}</b><br><br>algorithm_id=11<br>=%{y}<br>size=%{marker.size}<br>Performance=%{marker.color}<extra></extra>",
         "hovertext": [
          "Gradient Boosting<br>Performance: 89.77%<br>Model ID: 3030<br>Accuracy: 80.83%<br>Precision: 81.59%<br>Recall: 80.83%<br>ROC AUC: 87.84<br>Geometric Mean: 99.28<br>Matthews Correlation: 98.68<br>F1: 99.34<br>Log Loss: 3.39",
          "Gradient Boosting<br>Performance: 89.76%<br>Model ID: 3029<br>Accuracy: 80.83%<br>Precision: 81.59%<br>Recall: 80.83%<br>ROC AUC: 87.8<br>Geometric Mean: 99.28<br>Matthews Correlation: 98.68<br>F1: 99.34<br>Log Loss: 3.61",
          "Gradient Boosting<br>Performance: 89.76%<br>Model ID: 2969<br>Accuracy: 80.83%<br>Precision: 81.59%<br>Recall: 80.83%<br>ROC AUC: 87.77<br>Geometric Mean: 99.28<br>Matthews Correlation: 98.68<br>F1: 99.34<br>Log Loss: 3.61",
          "Gradient Boosting<br>Performance: 89.77%<br>Model ID: 2970<br>Accuracy: 80.83%<br>Precision: 81.59%<br>Recall: 80.83%<br>ROC AUC: 87.82<br>Geometric Mean: 99.28<br>Matthews Correlation: 98.68<br>F1: 99.34<br>Log Loss: 3.39",
          "Gradient Boosting<br>Performance: 89.75%<br>Model ID: 3026<br>Accuracy: 80.83%<br>Precision: 81.45%<br>Recall: 80.83%<br>ROC AUC: 87.84<br>Geometric Mean: 99.28<br>Matthews Correlation: 98.68<br>F1: 99.34<br>Log Loss: 4.1",
          "Gradient Boosting<br>Performance: 80.97%<br>Model ID: meta_11<br>Accuracy: 80.51%<br>Precision: 80.65%<br>Recall: 80.51%<br>ROC AUC: 89.18<br>Geometric Mean: 83.79<br>Matthews Correlation: 68.01<br>F1: 84.11<br>Log Loss: 100.0"
         ],
         "legendgroup": "11",
         "marker": {
          "color": [
           89.77,
           89.76,
           89.76,
           89.77,
           89.75,
           80.97
          ],
          "coloraxis": "coloraxis",
          "line": {
           "color": "Black",
           "width": 1
          },
          "opacity": 0.8,
          "size": [
           1,
           1,
           1,
           1,
           1,
           3
          ],
          "sizemode": "area",
          "sizeref": 0.0075,
          "symbol": "triangle-up"
         },
         "mode": "markers",
         "name": "11",
         "orientation": "v",
         "showlegend": true,
         "type": "scatter",
         "x": [
          19.526081085205078,
          19.780298233032227,
          20.103473663330078,
          19.66420555114746,
          20.2027645111084,
          11.94954776763916
         ],
         "xaxis": "x",
         "y": [
          8.915284156799316,
          8.362759590148926,
          9.046087265014648,
          8.669424057006836,
          8.468158721923828,
          18.96478271484375
         ],
         "yaxis": "y"
        }
       ],
       "layout": {
        "coloraxis": {
         "colorbar": {
          "title": {
           "text": "Performance"
          }
         },
         "colorscale": [
          [
           0,
           "#440154"
          ],
          [
           0.1111111111111111,
           "#482878"
          ],
          [
           0.2222222222222222,
           "#3e4989"
          ],
          [
           0.3333333333333333,
           "#31688e"
          ],
          [
           0.4444444444444444,
           "#26828e"
          ],
          [
           0.5555555555555556,
           "#1f9e89"
          ],
          [
           0.6666666666666666,
           "#35b779"
          ],
          [
           0.7777777777777778,
           "#6ece58"
          ],
          [
           0.8888888888888888,
           "#b5de2b"
          ],
          [
           1,
           "#fde725"
          ]
         ]
        },
        "height": 800,
        "hovermode": "closest",
        "legend": {
         "itemsizing": "constant",
         "title": {
          "text": "algorithm_id"
         },
         "tracegroupgap": 0
        },
        "margin": {
         "t": 60
        },
        "showlegend": false,
        "template": {
         "data": {
          "bar": [
           {
            "error_x": {
             "color": "#2a3f5f"
            },
            "error_y": {
             "color": "#2a3f5f"
            },
            "marker": {
             "line": {
              "color": "#E5ECF6",
              "width": 0.5
             },
             "pattern": {
              "fillmode": "overlay",
              "size": 10,
              "solidity": 0.2
             }
            },
            "type": "bar"
           }
          ],
          "barpolar": [
           {
            "marker": {
             "line": {
              "color": "#E5ECF6",
              "width": 0.5
             },
             "pattern": {
              "fillmode": "overlay",
              "size": 10,
              "solidity": 0.2
             }
            },
            "type": "barpolar"
           }
          ],
          "carpet": [
           {
            "aaxis": {
             "endlinecolor": "#2a3f5f",
             "gridcolor": "white",
             "linecolor": "white",
             "minorgridcolor": "white",
             "startlinecolor": "#2a3f5f"
            },
            "baxis": {
             "endlinecolor": "#2a3f5f",
             "gridcolor": "white",
             "linecolor": "white",
             "minorgridcolor": "white",
             "startlinecolor": "#2a3f5f"
            },
            "type": "carpet"
           }
          ],
          "choropleth": [
           {
            "colorbar": {
             "outlinewidth": 0,
             "ticks": ""
            },
            "type": "choropleth"
           }
          ],
          "contour": [
           {
            "colorbar": {
             "outlinewidth": 0,
             "ticks": ""
            },
            "colorscale": [
             [
              0,
              "#0d0887"
             ],
             [
              0.1111111111111111,
              "#46039f"
             ],
             [
              0.2222222222222222,
              "#7201a8"
             ],
             [
              0.3333333333333333,
              "#9c179e"
             ],
             [
              0.4444444444444444,
              "#bd3786"
             ],
             [
              0.5555555555555556,
              "#d8576b"
             ],
             [
              0.6666666666666666,
              "#ed7953"
             ],
             [
              0.7777777777777778,
              "#fb9f3a"
             ],
             [
              0.8888888888888888,
              "#fdca26"
             ],
             [
              1,
              "#f0f921"
             ]
            ],
            "type": "contour"
           }
          ],
          "contourcarpet": [
           {
            "colorbar": {
             "outlinewidth": 0,
             "ticks": ""
            },
            "type": "contourcarpet"
           }
          ],
          "heatmap": [
           {
            "colorbar": {
             "outlinewidth": 0,
             "ticks": ""
            },
            "colorscale": [
             [
              0,
              "#0d0887"
             ],
             [
              0.1111111111111111,
              "#46039f"
             ],
             [
              0.2222222222222222,
              "#7201a8"
             ],
             [
              0.3333333333333333,
              "#9c179e"
             ],
             [
              0.4444444444444444,
              "#bd3786"
             ],
             [
              0.5555555555555556,
              "#d8576b"
             ],
             [
              0.6666666666666666,
              "#ed7953"
             ],
             [
              0.7777777777777778,
              "#fb9f3a"
             ],
             [
              0.8888888888888888,
              "#fdca26"
             ],
             [
              1,
              "#f0f921"
             ]
            ],
            "type": "heatmap"
           }
          ],
          "heatmapgl": [
           {
            "colorbar": {
             "outlinewidth": 0,
             "ticks": ""
            },
            "colorscale": [
             [
              0,
              "#0d0887"
             ],
             [
              0.1111111111111111,
              "#46039f"
             ],
             [
              0.2222222222222222,
              "#7201a8"
             ],
             [
              0.3333333333333333,
              "#9c179e"
             ],
             [
              0.4444444444444444,
              "#bd3786"
             ],
             [
              0.5555555555555556,
              "#d8576b"
             ],
             [
              0.6666666666666666,
              "#ed7953"
             ],
             [
              0.7777777777777778,
              "#fb9f3a"
             ],
             [
              0.8888888888888888,
              "#fdca26"
             ],
             [
              1,
              "#f0f921"
             ]
            ],
            "type": "heatmapgl"
           }
          ],
          "histogram": [
           {
            "marker": {
             "pattern": {
              "fillmode": "overlay",
              "size": 10,
              "solidity": 0.2
             }
            },
            "type": "histogram"
           }
          ],
          "histogram2d": [
           {
            "colorbar": {
             "outlinewidth": 0,
             "ticks": ""
            },
            "colorscale": [
             [
              0,
              "#0d0887"
             ],
             [
              0.1111111111111111,
              "#46039f"
             ],
             [
              0.2222222222222222,
              "#7201a8"
             ],
             [
              0.3333333333333333,
              "#9c179e"
             ],
             [
              0.4444444444444444,
              "#bd3786"
             ],
             [
              0.5555555555555556,
              "#d8576b"
             ],
             [
              0.6666666666666666,
              "#ed7953"
             ],
             [
              0.7777777777777778,
              "#fb9f3a"
             ],
             [
              0.8888888888888888,
              "#fdca26"
             ],
             [
              1,
              "#f0f921"
             ]
            ],
            "type": "histogram2d"
           }
          ],
          "histogram2dcontour": [
           {
            "colorbar": {
             "outlinewidth": 0,
             "ticks": ""
            },
            "colorscale": [
             [
              0,
              "#0d0887"
             ],
             [
              0.1111111111111111,
              "#46039f"
             ],
             [
              0.2222222222222222,
              "#7201a8"
             ],
             [
              0.3333333333333333,
              "#9c179e"
             ],
             [
              0.4444444444444444,
              "#bd3786"
             ],
             [
              0.5555555555555556,
              "#d8576b"
             ],
             [
              0.6666666666666666,
              "#ed7953"
             ],
             [
              0.7777777777777778,
              "#fb9f3a"
             ],
             [
              0.8888888888888888,
              "#fdca26"
             ],
             [
              1,
              "#f0f921"
             ]
            ],
            "type": "histogram2dcontour"
           }
          ],
          "mesh3d": [
           {
            "colorbar": {
             "outlinewidth": 0,
             "ticks": ""
            },
            "type": "mesh3d"
           }
          ],
          "parcoords": [
           {
            "line": {
             "colorbar": {
              "outlinewidth": 0,
              "ticks": ""
             }
            },
            "type": "parcoords"
           }
          ],
          "pie": [
           {
            "automargin": true,
            "type": "pie"
           }
          ],
          "scatter": [
           {
            "fillpattern": {
             "fillmode": "overlay",
             "size": 10,
             "solidity": 0.2
            },
            "type": "scatter"
           }
          ],
          "scatter3d": [
           {
            "line": {
             "colorbar": {
              "outlinewidth": 0,
              "ticks": ""
             }
            },
            "marker": {
             "colorbar": {
              "outlinewidth": 0,
              "ticks": ""
             }
            },
            "type": "scatter3d"
           }
          ],
          "scattercarpet": [
           {
            "marker": {
             "colorbar": {
              "outlinewidth": 0,
              "ticks": ""
             }
            },
            "type": "scattercarpet"
           }
          ],
          "scattergeo": [
           {
            "marker": {
             "colorbar": {
              "outlinewidth": 0,
              "ticks": ""
             }
            },
            "type": "scattergeo"
           }
          ],
          "scattergl": [
           {
            "marker": {
             "colorbar": {
              "outlinewidth": 0,
              "ticks": ""
             }
            },
            "type": "scattergl"
           }
          ],
          "scattermapbox": [
           {
            "marker": {
             "colorbar": {
              "outlinewidth": 0,
              "ticks": ""
             }
            },
            "type": "scattermapbox"
           }
          ],
          "scatterpolar": [
           {
            "marker": {
             "colorbar": {
              "outlinewidth": 0,
              "ticks": ""
             }
            },
            "type": "scatterpolar"
           }
          ],
          "scatterpolargl": [
           {
            "marker": {
             "colorbar": {
              "outlinewidth": 0,
              "ticks": ""
             }
            },
            "type": "scatterpolargl"
           }
          ],
          "scatterternary": [
           {
            "marker": {
             "colorbar": {
              "outlinewidth": 0,
              "ticks": ""
             }
            },
            "type": "scatterternary"
           }
          ],
          "surface": [
           {
            "colorbar": {
             "outlinewidth": 0,
             "ticks": ""
            },
            "colorscale": [
             [
              0,
              "#0d0887"
             ],
             [
              0.1111111111111111,
              "#46039f"
             ],
             [
              0.2222222222222222,
              "#7201a8"
             ],
             [
              0.3333333333333333,
              "#9c179e"
             ],
             [
              0.4444444444444444,
              "#bd3786"
             ],
             [
              0.5555555555555556,
              "#d8576b"
             ],
             [
              0.6666666666666666,
              "#ed7953"
             ],
             [
              0.7777777777777778,
              "#fb9f3a"
             ],
             [
              0.8888888888888888,
              "#fdca26"
             ],
             [
              1,
              "#f0f921"
             ]
            ],
            "type": "surface"
           }
          ],
          "table": [
           {
            "cells": {
             "fill": {
              "color": "#EBF0F8"
             },
             "line": {
              "color": "white"
             }
            },
            "header": {
             "fill": {
              "color": "#C8D4E3"
             },
             "line": {
              "color": "white"
             }
            },
            "type": "table"
           }
          ]
         },
         "layout": {
          "annotationdefaults": {
           "arrowcolor": "#2a3f5f",
           "arrowhead": 0,
           "arrowwidth": 1
          },
          "autotypenumbers": "strict",
          "coloraxis": {
           "colorbar": {
            "outlinewidth": 0,
            "ticks": ""
           }
          },
          "colorscale": {
           "diverging": [
            [
             0,
             "#8e0152"
            ],
            [
             0.1,
             "#c51b7d"
            ],
            [
             0.2,
             "#de77ae"
            ],
            [
             0.3,
             "#f1b6da"
            ],
            [
             0.4,
             "#fde0ef"
            ],
            [
             0.5,
             "#f7f7f7"
            ],
            [
             0.6,
             "#e6f5d0"
            ],
            [
             0.7,
             "#b8e186"
            ],
            [
             0.8,
             "#7fbc41"
            ],
            [
             0.9,
             "#4d9221"
            ],
            [
             1,
             "#276419"
            ]
           ],
           "sequential": [
            [
             0,
             "#0d0887"
            ],
            [
             0.1111111111111111,
             "#46039f"
            ],
            [
             0.2222222222222222,
             "#7201a8"
            ],
            [
             0.3333333333333333,
             "#9c179e"
            ],
            [
             0.4444444444444444,
             "#bd3786"
            ],
            [
             0.5555555555555556,
             "#d8576b"
            ],
            [
             0.6666666666666666,
             "#ed7953"
            ],
            [
             0.7777777777777778,
             "#fb9f3a"
            ],
            [
             0.8888888888888888,
             "#fdca26"
            ],
            [
             1,
             "#f0f921"
            ]
           ],
           "sequentialminus": [
            [
             0,
             "#0d0887"
            ],
            [
             0.1111111111111111,
             "#46039f"
            ],
            [
             0.2222222222222222,
             "#7201a8"
            ],
            [
             0.3333333333333333,
             "#9c179e"
            ],
            [
             0.4444444444444444,
             "#bd3786"
            ],
            [
             0.5555555555555556,
             "#d8576b"
            ],
            [
             0.6666666666666666,
             "#ed7953"
            ],
            [
             0.7777777777777778,
             "#fb9f3a"
            ],
            [
             0.8888888888888888,
             "#fdca26"
            ],
            [
             1,
             "#f0f921"
            ]
           ]
          },
          "colorway": [
           "#636efa",
           "#EF553B",
           "#00cc96",
           "#ab63fa",
           "#FFA15A",
           "#19d3f3",
           "#FF6692",
           "#B6E880",
           "#FF97FF",
           "#FECB52"
          ],
          "font": {
           "color": "#2a3f5f"
          },
          "geo": {
           "bgcolor": "white",
           "lakecolor": "white",
           "landcolor": "#E5ECF6",
           "showlakes": true,
           "showland": true,
           "subunitcolor": "white"
          },
          "hoverlabel": {
           "align": "left"
          },
          "hovermode": "closest",
          "mapbox": {
           "style": "light"
          },
          "paper_bgcolor": "white",
          "plot_bgcolor": "#E5ECF6",
          "polar": {
           "angularaxis": {
            "gridcolor": "white",
            "linecolor": "white",
            "ticks": ""
           },
           "bgcolor": "#E5ECF6",
           "radialaxis": {
            "gridcolor": "white",
            "linecolor": "white",
            "ticks": ""
           }
          },
          "scene": {
           "xaxis": {
            "backgroundcolor": "#E5ECF6",
            "gridcolor": "white",
            "gridwidth": 2,
            "linecolor": "white",
            "showbackground": true,
            "ticks": "",
            "zerolinecolor": "white"
           },
           "yaxis": {
            "backgroundcolor": "#E5ECF6",
            "gridcolor": "white",
            "gridwidth": 2,
            "linecolor": "white",
            "showbackground": true,
            "ticks": "",
            "zerolinecolor": "white"
           },
           "zaxis": {
            "backgroundcolor": "#E5ECF6",
            "gridcolor": "white",
            "gridwidth": 2,
            "linecolor": "white",
            "showbackground": true,
            "ticks": "",
            "zerolinecolor": "white"
           }
          },
          "shapedefaults": {
           "line": {
            "color": "#2a3f5f"
           }
          },
          "ternary": {
           "aaxis": {
            "gridcolor": "white",
            "linecolor": "white",
            "ticks": ""
           },
           "baxis": {
            "gridcolor": "white",
            "linecolor": "white",
            "ticks": ""
           },
           "bgcolor": "#E5ECF6",
           "caxis": {
            "gridcolor": "white",
            "linecolor": "white",
            "ticks": ""
           }
          },
          "title": {
           "x": 0.05
          },
          "xaxis": {
           "automargin": true,
           "gridcolor": "white",
           "linecolor": "white",
           "ticks": "",
           "title": {
            "standoff": 15
           },
           "zerolinecolor": "white",
           "zerolinewidth": 2
          },
          "yaxis": {
           "automargin": true,
           "gridcolor": "white",
           "linecolor": "white",
           "ticks": "",
           "title": {
            "standoff": 15
           },
           "zerolinecolor": "white",
           "zerolinewidth": 2
          }
         }
        },
        "title": {
         "text": "UMAP Plot"
        },
        "width": 800,
        "xaxis": {
         "anchor": "y",
         "domain": [
          0,
          1
         ],
         "showticklabels": false,
         "title": {
          "text": ""
         }
        },
        "yaxis": {
         "anchor": "x",
         "domain": [
          0,
          1
         ],
         "showticklabels": false,
         "title": {
          "text": ""
         }
        }
       }
      }
     },
     "metadata": {},
     "output_type": "display_data"
    }
   ],
   "source": [
    "fig = umap_plot(df_umap_all)\n",
    "\n",
    "fig.show()"
   ]
  },
  {
   "cell_type": "markdown",
   "metadata": {},
   "source": [
    "It seems like we are getting worse results for our stacked classifier compared to the original base layer models, particularly extra trees classifier, random forest and gradient boosting classifier. <br>\n",
    "It is important to keep in mind that no hyper-parameter tuning has been done on metamo-model layer, which is why the results are not as good as the original base layer models.The overall idea of stacking classifier is to combine the base layer models  by complementing their strengths. Looking on the graph, one can see that some of the original base layer models performing much worse then others (LDA vs Random Forest). In this case the LDA is not giving any additional benefit to the stacking classifier.\n",
    " \n"
   ]
  },
  {
   "cell_type": "markdown",
   "metadata": {},
   "source": [
    "#### UMAP for model metrics"
   ]
  },
  {
   "cell_type": "markdown",
   "metadata": {},
   "source": [
    "Create umap dimension reduction dataset for base and metamodel perfomance metrics and plot the UMAP chart"
   ]
  },
  {
   "cell_type": "code",
   "execution_count": 28,
   "metadata": {},
   "outputs": [],
   "source": [
    "perf_columns = ['mean_test_accuracy', 'mean_test_precision_weighted', 'mean_test_recall_weighted', \n",
    "            'mean_test_roc_auc_ovo_weighted', 'geometric_mean_score_weighted', 'matthews_corrcoef', 'f1_weighted', ]\n",
    "\n",
    "# quert the dataframe for the performance metrics\n",
    "df_perf = df_model[perf_columns]\n",
    "df_perf_meta = df_model_meta[perf_columns]\n",
    "\n",
    "\n"
   ]
  },
  {
   "cell_type": "code",
   "execution_count": 29,
   "metadata": {},
   "outputs": [
    {
     "name": "stderr",
     "output_type": "stream",
     "text": [
      "d:\\Conda\\lib\\site-packages\\umap\\umap_.py:2344: UserWarning:\n",
      "\n",
      "n_neighbors is larger than the dataset size; truncating to X.shape[0] - 1\n",
      "\n"
     ]
    }
   ],
   "source": [
    "df_umap_perf = umap_model(df_perf, df_model)\n",
    "df_umap_perf_meta = umap_model(df_perf_meta, df_model_meta)\n",
    "\n",
    "\n",
    "# concat df_umap and df_umap_meta\n",
    "df_umap_perf_all = pd.concat([df_umap_perf, df_umap_perf_meta], axis=0)"
   ]
  },
  {
   "cell_type": "code",
   "execution_count": 30,
   "metadata": {},
   "outputs": [
    {
     "data": {
      "application/vnd.plotly.v1+json": {
       "config": {
        "plotlyServerURL": "https://plot.ly"
       },
       "data": [
        {
         "hovertemplate": "<b>%{hovertext}</b><br><br>algorithm_id=1<br>=%{y}<br>size=%{marker.size}<br>Performance=%{marker.color}<extra></extra>",
         "hovertext": [
          "K-Nearest Neighbor<br>Performance: 83.35%<br>Model ID: 452<br>Accuracy: 70.31%<br>Precision: 70.36%<br>Recall: 70.31%<br>ROC AUC: 72.5<br>Geometric Mean: 100.0<br>Matthews Correlation: 100.0<br>F1: 100.0<br>Log Loss: 0.0",
          "K-Nearest Neighbor<br>Performance: 83.28%<br>Model ID: 288<br>Accuracy: 69.62%<br>Precision: 69.8%<br>Recall: 69.62%<br>ROC AUC: 73.91<br>Geometric Mean: 100.0<br>Matthews Correlation: 100.0<br>F1: 100.0<br>Log Loss: 0.0",
          "K-Nearest Neighbor<br>Performance: 83.13%<br>Model ID: 96<br>Accuracy: 69.29%<br>Precision: 69.48%<br>Recall: 69.29%<br>ROC AUC: 73.84<br>Geometric Mean: 100.0<br>Matthews Correlation: 100.0<br>F1: 100.0<br>Log Loss: 0.0",
          "K-Nearest Neighbor<br>Performance: 83.13%<br>Model ID: 480<br>Accuracy: 69.29%<br>Precision: 69.48%<br>Recall: 69.29%<br>ROC AUC: 73.82<br>Geometric Mean: 100.0<br>Matthews Correlation: 100.0<br>F1: 100.0<br>Log Loss: 0.0",
          "K-Nearest Neighbor<br>Performance: 83.11%<br>Model ID: 458<br>Accuracy: 69.64%<br>Precision: 69.61%<br>Recall: 69.64%<br>ROC AUC: 72.85<br>Geometric Mean: 100.0<br>Matthews Correlation: 100.0<br>F1: 100.0<br>Log Loss: 0.0",
          "K-Nearest Neighbor<br>Performance: 83.35%<br>Model ID: meta_1<br>Accuracy: 70.31%<br>Precision: 70.36%<br>Recall: 70.31%<br>ROC AUC: 72.5<br>Geometric Mean: 100.0<br>Matthews Correlation: 100.0<br>F1: 100.0<br>Log Loss: 0.0"
         ],
         "legendgroup": "1",
         "marker": {
          "color": [
           83.35,
           83.28,
           83.13,
           83.13,
           83.11,
           83.35
          ],
          "coloraxis": "coloraxis",
          "line": {
           "color": "Black",
           "width": 1
          },
          "opacity": 0.8,
          "size": [
           1,
           1,
           1,
           1,
           1,
           3
          ],
          "sizemode": "area",
          "sizeref": 0.0075,
          "symbol": "circle"
         },
         "mode": "markers",
         "name": "1",
         "orientation": "v",
         "showlegend": true,
         "type": "scatter",
         "x": [
          -0.3377463221549988,
          -1.1701604127883911,
          -0.5595102310180664,
          -0.8134928941726685,
          -0.7051273584365845,
          8.092935562133789
         ],
         "xaxis": "x",
         "y": [
          14.645817756652832,
          14.49551773071289,
          14.01815414428711,
          14.43443775177002,
          14.902538299560547,
          35.62269973754883
         ],
         "yaxis": "y"
        },
        {
         "hovertemplate": "<b>%{hovertext}</b><br><br>algorithm_id=2<br>=%{y}<br>size=%{marker.size}<br>Performance=%{marker.color}<extra></extra>",
         "hovertext": [
          "Support Vector Machine<br>Performance: 83.1%<br>Model ID: 694<br>Accuracy: 82.5%<br>Precision: 82.92%<br>Recall: 82.5%<br>ROC AUC: 89.98<br>Geometric Mean: 85.43<br>Matthews Correlation: 72.38<br>F1: 85.99<br>Log Loss: 0.62",
          "Support Vector Machine<br>Performance: 83.08%<br>Model ID: 650<br>Accuracy: 82.83%<br>Precision: 83.3%<br>Recall: 82.83%<br>ROC AUC: 90.14<br>Geometric Mean: 85.07<br>Matthews Correlation: 71.75<br>F1: 85.65<br>Log Loss: 0.71",
          "Support Vector Machine<br>Performance: 83.08%<br>Model ID: 646<br>Accuracy: 82.83%<br>Precision: 83.3%<br>Recall: 82.83%<br>ROC AUC: 90.15<br>Geometric Mean: 85.07<br>Matthews Correlation: 71.75<br>F1: 85.65<br>Log Loss: 0.69",
          "Support Vector Machine<br>Performance: 83.09%<br>Model ID: 642<br>Accuracy: 82.83%<br>Precision: 83.3%<br>Recall: 82.83%<br>ROC AUC: 90.19<br>Geometric Mean: 85.07<br>Matthews Correlation: 71.75<br>F1: 85.65<br>Log Loss: 0.68",
          "Support Vector Machine<br>Performance: 83.07%<br>Model ID: 654<br>Accuracy: 82.83%<br>Precision: 83.3%<br>Recall: 82.83%<br>ROC AUC: 90.09<br>Geometric Mean: 85.07<br>Matthews Correlation: 71.75<br>F1: 85.65<br>Log Loss: 0.69",
          "Support Vector Machine<br>Performance: 83.28%<br>Model ID: meta_2<br>Accuracy: 69.62%<br>Precision: 69.8%<br>Recall: 69.62%<br>ROC AUC: 73.91<br>Geometric Mean: 100.0<br>Matthews Correlation: 100.0<br>F1: 100.0<br>Log Loss: 0.0"
         ],
         "legendgroup": "2",
         "marker": {
          "color": [
           83.1,
           83.08,
           83.08,
           83.09,
           83.07,
           83.28
          ],
          "coloraxis": "coloraxis",
          "line": {
           "color": "Black",
           "width": 1
          },
          "opacity": 0.8,
          "size": [
           1,
           1,
           1,
           1,
           1,
           3
          ],
          "sizemode": "area",
          "sizeref": 0.0075,
          "symbol": "square"
         },
         "mode": "markers",
         "name": "2",
         "orientation": "v",
         "showlegend": true,
         "type": "scatter",
         "x": [
          9.731501579284668,
          10.438936233520508,
          10.749759674072266,
          10.809581756591797,
          10.160050392150879,
          9.549039840698242
         ],
         "xaxis": "x",
         "y": [
          17.901243209838867,
          18.963476181030273,
          18.119110107421875,
          18.887407302856445,
          18.444921493530273,
          35.22441864013672
         ],
         "yaxis": "y"
        },
        {
         "hovertemplate": "<b>%{hovertext}</b><br><br>algorithm_id=3<br>=%{y}<br>size=%{marker.size}<br>Performance=%{marker.color}<extra></extra>",
         "hovertext": [
          "Gaussian Naive Bayes<br>Performance: 80.97%<br>Model ID: 737<br>Accuracy: 80.51%<br>Precision: 80.65%<br>Recall: 80.51%<br>ROC AUC: 89.18<br>Geometric Mean: 83.79<br>Matthews Correlation: 68.01<br>F1: 84.11<br>Log Loss: 100.0",
          "Gaussian Naive Bayes<br>Performance: 80.97%<br>Model ID: 1066<br>Accuracy: 80.51%<br>Precision: 80.65%<br>Recall: 80.51%<br>ROC AUC: 89.18<br>Geometric Mean: 83.79<br>Matthews Correlation: 68.01<br>F1: 84.11<br>Log Loss: 34.0",
          "Gaussian Naive Bayes<br>Performance: 80.97%<br>Model ID: 1079<br>Accuracy: 80.51%<br>Precision: 80.65%<br>Recall: 80.51%<br>ROC AUC: 89.18<br>Geometric Mean: 83.79<br>Matthews Correlation: 68.01<br>F1: 84.11<br>Log Loss: 31.4",
          "Gaussian Naive Bayes<br>Performance: 80.97%<br>Model ID: 1078<br>Accuracy: 80.51%<br>Precision: 80.65%<br>Recall: 80.51%<br>ROC AUC: 89.18<br>Geometric Mean: 83.79<br>Matthews Correlation: 68.01<br>F1: 84.11<br>Log Loss: 31.6",
          "Gaussian Naive Bayes<br>Performance: 80.97%<br>Model ID: 1077<br>Accuracy: 80.51%<br>Precision: 80.65%<br>Recall: 80.51%<br>ROC AUC: 89.18<br>Geometric Mean: 83.79<br>Matthews Correlation: 68.01<br>F1: 84.11<br>Log Loss: 31.8",
          "Gaussian Naive Bayes<br>Performance: 83.13%<br>Model ID: meta_3<br>Accuracy: 69.29%<br>Precision: 69.48%<br>Recall: 69.29%<br>ROC AUC: 73.84<br>Geometric Mean: 100.0<br>Matthews Correlation: 100.0<br>F1: 100.0<br>Log Loss: 0.0"
         ],
         "legendgroup": "3",
         "marker": {
          "color": [
           80.97,
           80.97,
           80.97,
           80.97,
           80.97,
           83.13
          ],
          "coloraxis": "coloraxis",
          "line": {
           "color": "Black",
           "width": 1
          },
          "opacity": 0.8,
          "size": [
           1,
           1,
           1,
           1,
           1,
           3
          ],
          "sizemode": "area",
          "sizeref": 0.0075,
          "symbol": "x"
         },
         "mode": "markers",
         "name": "3",
         "orientation": "v",
         "showlegend": true,
         "type": "scatter",
         "x": [
          12.871411323547363,
          13.366074562072754,
          13.403797149658203,
          12.693570137023926,
          13.14430046081543,
          10.386482238769531
         ],
         "xaxis": "x",
         "y": [
          19.649168014526367,
          19.223817825317383,
          18.637922286987305,
          19.34624481201172,
          18.876482009887695,
          34.55060577392578
         ],
         "yaxis": "y"
        },
        {
         "hovertemplate": "<b>%{hovertext}</b><br><br>algorithm_id=4<br>=%{y}<br>size=%{marker.size}<br>Performance=%{marker.color}<extra></extra>",
         "hovertext": [
          "Multilayer Perceptron<br>Performance: 79.22%<br>Model ID: 1262<br>Accuracy: 79.85%<br>Precision: 79.92%<br>Recall: 79.85%<br>ROC AUC: 85.88<br>Geometric Mean: 81.86<br>Matthews Correlation: 64.8<br>F1: 82.36<br>Log Loss: 17.56",
          "Multilayer Perceptron<br>Performance: 79.22%<br>Model ID: 1263<br>Accuracy: 79.85%<br>Precision: 79.92%<br>Recall: 79.85%<br>ROC AUC: 85.88<br>Geometric Mean: 81.86<br>Matthews Correlation: 64.8<br>F1: 82.36<br>Log Loss: 17.56",
          "Multilayer Perceptron<br>Performance: 79.22%<br>Model ID: 1261<br>Accuracy: 79.85%<br>Precision: 79.92%<br>Recall: 79.85%<br>ROC AUC: 85.88<br>Geometric Mean: 81.86<br>Matthews Correlation: 64.8<br>F1: 82.36<br>Log Loss: 17.56",
          "Multilayer Perceptron<br>Performance: 79.09%<br>Model ID: 1249<br>Accuracy: 79.52%<br>Precision: 79.59%<br>Recall: 79.52%<br>ROC AUC: 85.97<br>Geometric Mean: 81.86<br>Matthews Correlation: 64.8<br>F1: 82.36<br>Log Loss: 17.17",
          "Multilayer Perceptron<br>Performance: 79.09%<br>Model ID: 1251<br>Accuracy: 79.52%<br>Precision: 79.59%<br>Recall: 79.52%<br>ROC AUC: 85.97<br>Geometric Mean: 81.86<br>Matthews Correlation: 64.8<br>F1: 82.36<br>Log Loss: 17.17",
          "Multilayer Perceptron<br>Performance: 83.13%<br>Model ID: meta_4<br>Accuracy: 69.29%<br>Precision: 69.48%<br>Recall: 69.29%<br>ROC AUC: 73.82<br>Geometric Mean: 100.0<br>Matthews Correlation: 100.0<br>F1: 100.0<br>Log Loss: 0.0"
         ],
         "legendgroup": "4",
         "marker": {
          "color": [
           79.22,
           79.22,
           79.22,
           79.09,
           79.09,
           83.13
          ],
          "coloraxis": "coloraxis",
          "line": {
           "color": "Black",
           "width": 1
          },
          "opacity": 0.8,
          "size": [
           1,
           1,
           1,
           1,
           1,
           3
          ],
          "sizemode": "area",
          "sizeref": 0.0075,
          "symbol": "cross"
         },
         "mode": "markers",
         "name": "4",
         "orientation": "v",
         "showlegend": true,
         "type": "scatter",
         "x": [
          14.98418140411377,
          15.115190505981445,
          14.852587699890137,
          14.55744457244873,
          14.412225723266602,
          11.167176246643066
         ],
         "xaxis": "x",
         "y": [
          20.669017791748047,
          21.001750946044922,
          21.52254867553711,
          21.78882598876953,
          21.084184646606445,
          35.55351257324219
         ],
         "yaxis": "y"
        },
        {
         "hovertemplate": "<b>%{hovertext}</b><br><br>algorithm_id=5<br>=%{y}<br>size=%{marker.size}<br>Performance=%{marker.color}<extra></extra>",
         "hovertext": [
          "Logistic Regression<br>Performance: 83.67%<br>Model ID: 1677<br>Accuracy: 84.14%<br>Precision: 84.66%<br>Recall: 84.14%<br>ROC AUC: 90.32<br>Geometric Mean: 85.13<br>Matthews Correlation: 71.65<br>F1: 85.67<br>Log Loss: 3.51",
          "Logistic Regression<br>Performance: 83.66%<br>Model ID: 1741<br>Accuracy: 84.46%<br>Precision: 84.98%<br>Recall: 84.46%<br>ROC AUC: 90.58<br>Geometric Mean: 84.83<br>Matthews Correlation: 70.93<br>F1: 85.35<br>Log Loss: 3.37",
          "Logistic Regression<br>Performance: 83.54%<br>Model ID: 1901<br>Accuracy: 83.8%<br>Precision: 84.26%<br>Recall: 83.8%<br>ROC AUC: 90.5<br>Geometric Mean: 85.13<br>Matthews Correlation: 71.65<br>F1: 85.67<br>Log Loss: 3.41",
          "Logistic Regression<br>Performance: 83.53%<br>Model ID: 1773<br>Accuracy: 84.14%<br>Precision: 84.64%<br>Recall: 84.14%<br>ROC AUC: 90.65<br>Geometric Mean: 84.77<br>Matthews Correlation: 71.02<br>F1: 85.33<br>Log Loss: 3.23",
          "Logistic Regression<br>Performance: 83.41%<br>Model ID: 1869<br>Accuracy: 83.48%<br>Precision: 83.92%<br>Recall: 83.48%<br>ROC AUC: 90.54<br>Geometric Mean: 85.07<br>Matthews Correlation: 71.75<br>F1: 85.65<br>Log Loss: 2.97",
          "Logistic Regression<br>Performance: 83.11%<br>Model ID: meta_5<br>Accuracy: 69.64%<br>Precision: 69.61%<br>Recall: 69.64%<br>ROC AUC: 72.85<br>Geometric Mean: 100.0<br>Matthews Correlation: 100.0<br>F1: 100.0<br>Log Loss: 0.0"
         ],
         "legendgroup": "5",
         "marker": {
          "color": [
           83.67,
           83.66,
           83.54,
           83.53,
           83.41,
           83.11
          ],
          "coloraxis": "coloraxis",
          "line": {
           "color": "Black",
           "width": 1
          },
          "opacity": 0.8,
          "size": [
           1,
           1,
           1,
           1,
           1,
           3
          ],
          "sizemode": "area",
          "sizeref": 0.0075,
          "symbol": "diamond"
         },
         "mode": "markers",
         "name": "5",
         "orientation": "v",
         "showlegend": true,
         "type": "scatter",
         "x": [
          11.481074333190918,
          11.6807222366333,
          11.234131813049316,
          11.861048698425293,
          11.305482864379883,
          11.892967224121094
         ],
         "xaxis": "x",
         "y": [
          17.97281265258789,
          18.63042640686035,
          18.478302001953125,
          18.13471031188965,
          19.28264617919922,
          34.88461685180664
         ],
         "yaxis": "y"
        },
        {
         "hovertemplate": "<b>%{hovertext}</b><br><br>algorithm_id=6<br>=%{y}<br>size=%{marker.size}<br>Performance=%{marker.color}<extra></extra>",
         "hovertext": [
          "Linear Discriminant Analysis<br>Performance: 82.31%<br>Model ID: 1997<br>Accuracy: 83.16%<br>Precision: 84.11%<br>Recall: 83.16%<br>ROC AUC: 89.99<br>Geometric Mean: 83.32<br>Matthews Correlation: 68.51<br>F1: 83.94<br>Log Loss: 0.0",
          "Linear Discriminant Analysis<br>Performance: 82.31%<br>Model ID: 1998<br>Accuracy: 83.16%<br>Precision: 84.11%<br>Recall: 83.16%<br>ROC AUC: 89.99<br>Geometric Mean: 83.32<br>Matthews Correlation: 68.51<br>F1: 83.94<br>Log Loss: 0.0",
          "Linear Discriminant Analysis<br>Performance: 73.45%<br>Model ID: 1999<br>Accuracy: 75.89%<br>Precision: 76.41%<br>Recall: 75.89%<br>ROC AUC: 82.6<br>Geometric Mean: 75.39<br>Matthews Correlation: 52.04<br>F1: 75.95<br>Log Loss: 31.9",
          "Linear Discriminant Analysis<br>Performance: 73.45%<br>Model ID: 2000<br>Accuracy: 75.89%<br>Precision: 76.41%<br>Recall: 75.89%<br>ROC AUC: 82.6<br>Geometric Mean: 75.39<br>Matthews Correlation: 52.04<br>F1: 75.95<br>Log Loss: 31.9",
          "Linear Discriminant Analysis<br>Performance: 71.08%<br>Model ID: 2001<br>Accuracy: 74.25%<br>Precision: 74.65%<br>Recall: 74.25%<br>ROC AUC: 79.07<br>Geometric Mean: 73.45<br>Matthews Correlation: 47.92<br>F1: 73.99<br>Log Loss: 41.85",
          "Linear Discriminant Analysis<br>Performance: 83.1%<br>Model ID: meta_6<br>Accuracy: 82.5%<br>Precision: 82.92%<br>Recall: 82.5%<br>ROC AUC: 89.98<br>Geometric Mean: 85.43<br>Matthews Correlation: 72.38<br>F1: 85.99<br>Log Loss: 0.62"
         ],
         "legendgroup": "6",
         "marker": {
          "color": [
           82.31,
           82.31,
           73.45,
           73.45,
           71.08,
           83.1
          ],
          "coloraxis": "coloraxis",
          "line": {
           "color": "Black",
           "width": 1
          },
          "opacity": 0.8,
          "size": [
           1,
           1,
           1,
           1,
           1,
           3
          ],
          "sizemode": "area",
          "sizeref": 0.0075,
          "symbol": "star"
         },
         "mode": "markers",
         "name": "6",
         "orientation": "v",
         "showlegend": true,
         "type": "scatter",
         "x": [
          12.343050956726074,
          12.626741409301758,
          14.158557891845703,
          13.736933708190918,
          13.972195625305176,
          8.460016250610352
         ],
         "xaxis": "x",
         "y": [
          18.827348709106445,
          18.46826171875,
          19.931434631347656,
          20.702024459838867,
          20.290624618530273,
          36.57183074951172
         ],
         "yaxis": "y"
        },
        {
         "hovertemplate": "<b>%{hovertext}</b><br><br>algorithm_id=7<br>=%{y}<br>size=%{marker.size}<br>Performance=%{marker.color}<extra></extra>",
         "hovertext": [
          "Quadratic Discriminant Analysis<br>Performance: 83.44%<br>Model ID: 2227<br>Accuracy: 81.49%<br>Precision: 81.79%<br>Recall: 81.49%<br>ROC AUC: 88.84<br>Geometric Mean: 87.24<br>Matthews Correlation: 75.55<br>F1: 87.7<br>Log Loss: 0.03",
          "Quadratic Discriminant Analysis<br>Performance: 83.44%<br>Model ID: 2231<br>Accuracy: 81.49%<br>Precision: 81.79%<br>Recall: 81.49%<br>ROC AUC: 88.84<br>Geometric Mean: 87.24<br>Matthews Correlation: 75.55<br>F1: 87.7<br>Log Loss: 0.03",
          "Quadratic Discriminant Analysis<br>Performance: 83.44%<br>Model ID: 2230<br>Accuracy: 81.49%<br>Precision: 81.79%<br>Recall: 81.49%<br>ROC AUC: 88.84<br>Geometric Mean: 87.24<br>Matthews Correlation: 75.55<br>F1: 87.7<br>Log Loss: 0.03",
          "Quadratic Discriminant Analysis<br>Performance: 83.44%<br>Model ID: 2229<br>Accuracy: 81.49%<br>Precision: 81.79%<br>Recall: 81.49%<br>ROC AUC: 88.84<br>Geometric Mean: 87.24<br>Matthews Correlation: 75.55<br>F1: 87.7<br>Log Loss: 0.03",
          "Quadratic Discriminant Analysis<br>Performance: 83.44%<br>Model ID: 2228<br>Accuracy: 81.49%<br>Precision: 81.79%<br>Recall: 81.49%<br>ROC AUC: 88.84<br>Geometric Mean: 87.24<br>Matthews Correlation: 75.55<br>F1: 87.7<br>Log Loss: 0.03",
          "Quadratic Discriminant Analysis<br>Performance: 83.08%<br>Model ID: meta_7<br>Accuracy: 82.83%<br>Precision: 83.3%<br>Recall: 82.83%<br>ROC AUC: 90.14<br>Geometric Mean: 85.07<br>Matthews Correlation: 71.75<br>F1: 85.65<br>Log Loss: 0.71"
         ],
         "legendgroup": "7",
         "marker": {
          "color": [
           83.44,
           83.44,
           83.44,
           83.44,
           83.44,
           83.08
          ],
          "coloraxis": "coloraxis",
          "line": {
           "color": "Black",
           "width": 1
          },
          "opacity": 0.8,
          "size": [
           1,
           1,
           1,
           1,
           1,
           3
          ],
          "sizemode": "area",
          "sizeref": 0.0075,
          "symbol": "hexagram"
         },
         "mode": "markers",
         "name": "7",
         "orientation": "v",
         "showlegend": true,
         "type": "scatter",
         "x": [
          9.050890922546387,
          9.040616035461426,
          9.276166915893555,
          8.789470672607422,
          8.658596992492676,
          8.59836483001709
         ],
         "xaxis": "x",
         "y": [
          17.41204833984375,
          17.706945419311523,
          16.86491584777832,
          17.1776123046875,
          17.8587703704834,
          34.649803161621094
         ],
         "yaxis": "y"
        },
        {
         "hovertemplate": "<b>%{hovertext}</b><br><br>algorithm_id=8<br>=%{y}<br>size=%{marker.size}<br>Performance=%{marker.color}<extra></extra>",
         "hovertext": [
          "Random Forest<br>Performance: 91.82%<br>Model ID: 2488<br>Accuracy: 84.13%<br>Precision: 84.34%<br>Recall: 84.13%<br>ROC AUC: 90.17<br>Geometric Mean: 100.0<br>Matthews Correlation: 100.0<br>F1: 100.0<br>Log Loss: 59.71",
          "Random Forest<br>Performance: 91.83%<br>Model ID: 2490<br>Accuracy: 84.13%<br>Precision: 84.31%<br>Recall: 84.13%<br>ROC AUC: 90.21<br>Geometric Mean: 100.0<br>Matthews Correlation: 100.0<br>F1: 100.0<br>Log Loss: 52.76",
          "Random Forest<br>Performance: 91.83%<br>Model ID: 2489<br>Accuracy: 84.13%<br>Precision: 84.34%<br>Recall: 84.13%<br>ROC AUC: 90.22<br>Geometric Mean: 100.0<br>Matthews Correlation: 100.0<br>F1: 100.0<br>Log Loss: 54.75",
          "Random Forest<br>Performance: 91.82%<br>Model ID: 2494<br>Accuracy: 84.13%<br>Precision: 84.38%<br>Recall: 84.13%<br>ROC AUC: 90.11<br>Geometric Mean: 100.0<br>Matthews Correlation: 100.0<br>F1: 100.0<br>Log Loss: 58.36",
          "Random Forest<br>Performance: 91.69%<br>Model ID: 2493<br>Accuracy: 83.8%<br>Precision: 84.02%<br>Recall: 83.8%<br>ROC AUC: 90.22<br>Geometric Mean: 100.0<br>Matthews Correlation: 100.0<br>F1: 100.0<br>Log Loss: 57.04",
          "Random Forest<br>Performance: 83.08%<br>Model ID: meta_8<br>Accuracy: 82.83%<br>Precision: 83.3%<br>Recall: 82.83%<br>ROC AUC: 90.15<br>Geometric Mean: 85.07<br>Matthews Correlation: 71.75<br>F1: 85.65<br>Log Loss: 0.69"
         ],
         "legendgroup": "8",
         "marker": {
          "color": [
           91.82,
           91.83,
           91.83,
           91.82,
           91.69,
           83.08
          ],
          "coloraxis": "coloraxis",
          "line": {
           "color": "Black",
           "width": 1
          },
          "opacity": 0.8,
          "size": [
           1,
           1,
           1,
           1,
           1,
           3
          ],
          "sizemode": "area",
          "sizeref": 0.0075,
          "symbol": "triangle-right"
         },
         "mode": "markers",
         "name": "8",
         "orientation": "v",
         "showlegend": true,
         "type": "scatter",
         "x": [
          1.00398588180542,
          1.436989426612854,
          1.5075238943099976,
          1.1431550979614258,
          0.9964452385902405,
          9.28944206237793
         ],
         "xaxis": "x",
         "y": [
          12.918377876281738,
          12.520082473754883,
          13.139679908752441,
          13.32406234741211,
          12.335943222045898,
          33.885284423828125
         ],
         "yaxis": "y"
        },
        {
         "hovertemplate": "<b>%{hovertext}</b><br><br>algorithm_id=9<br>=%{y}<br>size=%{marker.size}<br>Performance=%{marker.color}<extra></extra>",
         "hovertext": [
          "Extra Trees<br>Performance: 92.27%<br>Model ID: 2667<br>Accuracy: 84.81%<br>Precision: 85.07%<br>Recall: 84.81%<br>ROC AUC: 91.22<br>Geometric Mean: 100.0<br>Matthews Correlation: 100.0<br>F1: 100.0<br>Log Loss: 0.0",
          "Extra Trees<br>Performance: 92.24%<br>Model ID: 2659<br>Accuracy: 84.8%<br>Precision: 84.98%<br>Recall: 84.8%<br>ROC AUC: 91.07<br>Geometric Mean: 100.0<br>Matthews Correlation: 100.0<br>F1: 100.0<br>Log Loss: 0.0",
          "Extra Trees<br>Performance: 92.24%<br>Model ID: 2660<br>Accuracy: 84.8%<br>Precision: 84.98%<br>Recall: 84.8%<br>ROC AUC: 91.07<br>Geometric Mean: 100.0<br>Matthews Correlation: 100.0<br>F1: 100.0<br>Log Loss: 0.0",
          "Extra Trees<br>Performance: 92.19%<br>Model ID: 2714<br>Accuracy: 84.48%<br>Precision: 84.59%<br>Recall: 84.48%<br>ROC AUC: 91.8<br>Geometric Mean: 100.0<br>Matthews Correlation: 100.0<br>F1: 100.0<br>Log Loss: 0.0",
          "Extra Trees<br>Performance: 92.19%<br>Model ID: 2715<br>Accuracy: 84.48%<br>Precision: 84.59%<br>Recall: 84.48%<br>ROC AUC: 91.76<br>Geometric Mean: 100.0<br>Matthews Correlation: 100.0<br>F1: 100.0<br>Log Loss: 0.0",
          "Extra Trees<br>Performance: 83.09%<br>Model ID: meta_9<br>Accuracy: 82.83%<br>Precision: 83.3%<br>Recall: 82.83%<br>ROC AUC: 90.19<br>Geometric Mean: 85.07<br>Matthews Correlation: 71.75<br>F1: 85.65<br>Log Loss: 0.68"
         ],
         "legendgroup": "9",
         "marker": {
          "color": [
           92.27,
           92.24,
           92.24,
           92.19,
           92.19,
           83.09
          ],
          "coloraxis": "coloraxis",
          "line": {
           "color": "Black",
           "width": 1
          },
          "opacity": 0.8,
          "size": [
           1,
           1,
           1,
           1,
           1,
           3
          ],
          "sizemode": "area",
          "sizeref": 0.0075,
          "symbol": "triangle-left"
         },
         "mode": "markers",
         "name": "9",
         "orientation": "v",
         "showlegend": true,
         "type": "scatter",
         "x": [
          1.9782615900039673,
          2.2941579818725586,
          2.649841785430908,
          2.2395200729370117,
          2.1813101768493652,
          11.402193069458008
         ],
         "xaxis": "x",
         "y": [
          13.138885498046875,
          12.324021339416504,
          12.95639705657959,
          12.677828788757324,
          13.415759086608887,
          33.925559997558594
         ],
         "yaxis": "y"
        },
        {
         "hovertemplate": "<b>%{hovertext}</b><br><br>algorithm_id=10<br>=%{y}<br>size=%{marker.size}<br>Performance=%{marker.color}<extra></extra>",
         "hovertext": [
          "Adaptive Boosting<br>Performance: 85.49%<br>Model ID: 2808<br>Accuracy: 80.83%<br>Precision: 81.1%<br>Recall: 80.83%<br>ROC AUC: 87.46<br>Geometric Mean: 92.08<br>Matthews Correlation: 84.06<br>F1: 92.08<br>Log Loss: 91.04",
          "Adaptive Boosting<br>Performance: 85.37%<br>Model ID: 2845<br>Accuracy: 80.16%<br>Precision: 80.31%<br>Recall: 80.16%<br>ROC AUC: 83.52<br>Geometric Mean: 93.35<br>Matthews Correlation: 86.69<br>F1: 93.4<br>Log Loss: 99.49",
          "Adaptive Boosting<br>Performance: 85.29%<br>Model ID: 2811<br>Accuracy: 80.5%<br>Precision: 80.76%<br>Recall: 80.5%<br>ROC AUC: 86.95<br>Geometric Mean: 92.13<br>Matthews Correlation: 84.1<br>F1: 92.09<br>Log Loss: 92.25",
          "Adaptive Boosting<br>Performance: 85.19%<br>Model ID: 2812<br>Accuracy: 80.16%<br>Precision: 80.52%<br>Recall: 80.16%<br>ROC AUC: 87.19<br>Geometric Mean: 92.13<br>Matthews Correlation: 84.1<br>F1: 92.09<br>Log Loss: 92.14",
          "Adaptive Boosting<br>Performance: 85.18%<br>Model ID: 2809<br>Accuracy: 80.17%<br>Precision: 80.42%<br>Recall: 80.17%<br>ROC AUC: 87.3<br>Geometric Mean: 92.08<br>Matthews Correlation: 84.06<br>F1: 92.08<br>Log Loss: 91.13",
          "Adaptive Boosting<br>Performance: 83.07%<br>Model ID: meta_10<br>Accuracy: 82.83%<br>Precision: 83.3%<br>Recall: 82.83%<br>ROC AUC: 90.09<br>Geometric Mean: 85.07<br>Matthews Correlation: 71.75<br>F1: 85.65<br>Log Loss: 0.69"
         ],
         "legendgroup": "10",
         "marker": {
          "color": [
           85.49,
           85.37,
           85.29,
           85.19,
           85.18,
           83.07
          ],
          "coloraxis": "coloraxis",
          "line": {
           "color": "Black",
           "width": 1
          },
          "opacity": 0.8,
          "size": [
           1,
           1,
           1,
           1,
           1,
           3
          ],
          "sizemode": "area",
          "sizeref": 0.0075,
          "symbol": "triangle-down"
         },
         "mode": "markers",
         "name": "10",
         "orientation": "v",
         "showlegend": true,
         "type": "scatter",
         "x": [
          7.863454818725586,
          7.3421549797058105,
          7.781858444213867,
          8.338705062866211,
          7.485312461853027,
          9.540228843688965
         ],
         "xaxis": "x",
         "y": [
          16.657291412353516,
          16.16307258605957,
          16.27652931213379,
          16.20294189453125,
          16.937725067138672,
          36.47821044921875
         ],
         "yaxis": "y"
        },
        {
         "hovertemplate": "<b>%{hovertext}</b><br><br>algorithm_id=11<br>=%{y}<br>size=%{marker.size}<br>Performance=%{marker.color}<extra></extra>",
         "hovertext": [
          "Gradient Boosting<br>Performance: 89.77%<br>Model ID: 3030<br>Accuracy: 80.83%<br>Precision: 81.59%<br>Recall: 80.83%<br>ROC AUC: 87.84<br>Geometric Mean: 99.28<br>Matthews Correlation: 98.68<br>F1: 99.34<br>Log Loss: 3.39",
          "Gradient Boosting<br>Performance: 89.76%<br>Model ID: 3029<br>Accuracy: 80.83%<br>Precision: 81.59%<br>Recall: 80.83%<br>ROC AUC: 87.8<br>Geometric Mean: 99.28<br>Matthews Correlation: 98.68<br>F1: 99.34<br>Log Loss: 3.61",
          "Gradient Boosting<br>Performance: 89.76%<br>Model ID: 2969<br>Accuracy: 80.83%<br>Precision: 81.59%<br>Recall: 80.83%<br>ROC AUC: 87.77<br>Geometric Mean: 99.28<br>Matthews Correlation: 98.68<br>F1: 99.34<br>Log Loss: 3.61",
          "Gradient Boosting<br>Performance: 89.77%<br>Model ID: 2970<br>Accuracy: 80.83%<br>Precision: 81.59%<br>Recall: 80.83%<br>ROC AUC: 87.82<br>Geometric Mean: 99.28<br>Matthews Correlation: 98.68<br>F1: 99.34<br>Log Loss: 3.39",
          "Gradient Boosting<br>Performance: 89.75%<br>Model ID: 3026<br>Accuracy: 80.83%<br>Precision: 81.45%<br>Recall: 80.83%<br>ROC AUC: 87.84<br>Geometric Mean: 99.28<br>Matthews Correlation: 98.68<br>F1: 99.34<br>Log Loss: 4.1",
          "Gradient Boosting<br>Performance: 80.97%<br>Model ID: meta_11<br>Accuracy: 80.51%<br>Precision: 80.65%<br>Recall: 80.51%<br>ROC AUC: 89.18<br>Geometric Mean: 83.79<br>Matthews Correlation: 68.01<br>F1: 84.11<br>Log Loss: 100.0"
         ],
         "legendgroup": "11",
         "marker": {
          "color": [
           89.77,
           89.76,
           89.76,
           89.77,
           89.75,
           80.97
          ],
          "coloraxis": "coloraxis",
          "line": {
           "color": "Black",
           "width": 1
          },
          "opacity": 0.8,
          "size": [
           1,
           1,
           1,
           1,
           1,
           3
          ],
          "sizemode": "area",
          "sizeref": 0.0075,
          "symbol": "triangle-up"
         },
         "mode": "markers",
         "name": "11",
         "orientation": "v",
         "showlegend": true,
         "type": "scatter",
         "x": [
          2.428936004638672,
          1.856710433959961,
          2.324725389480591,
          1.8935335874557495,
          2.4532737731933594,
          10.354146003723145
         ],
         "xaxis": "x",
         "y": [
          15.084548950195312,
          15.312981605529785,
          15.942119598388672,
          15.594587326049805,
          15.504679679870605,
          33.47456359863281
         ],
         "yaxis": "y"
        }
       ],
       "layout": {
        "coloraxis": {
         "colorbar": {
          "title": {
           "text": "Performance"
          }
         },
         "colorscale": [
          [
           0,
           "#440154"
          ],
          [
           0.1111111111111111,
           "#482878"
          ],
          [
           0.2222222222222222,
           "#3e4989"
          ],
          [
           0.3333333333333333,
           "#31688e"
          ],
          [
           0.4444444444444444,
           "#26828e"
          ],
          [
           0.5555555555555556,
           "#1f9e89"
          ],
          [
           0.6666666666666666,
           "#35b779"
          ],
          [
           0.7777777777777778,
           "#6ece58"
          ],
          [
           0.8888888888888888,
           "#b5de2b"
          ],
          [
           1,
           "#fde725"
          ]
         ]
        },
        "height": 800,
        "hovermode": "closest",
        "legend": {
         "itemsizing": "constant",
         "title": {
          "text": "algorithm_id"
         },
         "tracegroupgap": 0
        },
        "margin": {
         "t": 60
        },
        "showlegend": false,
        "template": {
         "data": {
          "bar": [
           {
            "error_x": {
             "color": "#2a3f5f"
            },
            "error_y": {
             "color": "#2a3f5f"
            },
            "marker": {
             "line": {
              "color": "#E5ECF6",
              "width": 0.5
             },
             "pattern": {
              "fillmode": "overlay",
              "size": 10,
              "solidity": 0.2
             }
            },
            "type": "bar"
           }
          ],
          "barpolar": [
           {
            "marker": {
             "line": {
              "color": "#E5ECF6",
              "width": 0.5
             },
             "pattern": {
              "fillmode": "overlay",
              "size": 10,
              "solidity": 0.2
             }
            },
            "type": "barpolar"
           }
          ],
          "carpet": [
           {
            "aaxis": {
             "endlinecolor": "#2a3f5f",
             "gridcolor": "white",
             "linecolor": "white",
             "minorgridcolor": "white",
             "startlinecolor": "#2a3f5f"
            },
            "baxis": {
             "endlinecolor": "#2a3f5f",
             "gridcolor": "white",
             "linecolor": "white",
             "minorgridcolor": "white",
             "startlinecolor": "#2a3f5f"
            },
            "type": "carpet"
           }
          ],
          "choropleth": [
           {
            "colorbar": {
             "outlinewidth": 0,
             "ticks": ""
            },
            "type": "choropleth"
           }
          ],
          "contour": [
           {
            "colorbar": {
             "outlinewidth": 0,
             "ticks": ""
            },
            "colorscale": [
             [
              0,
              "#0d0887"
             ],
             [
              0.1111111111111111,
              "#46039f"
             ],
             [
              0.2222222222222222,
              "#7201a8"
             ],
             [
              0.3333333333333333,
              "#9c179e"
             ],
             [
              0.4444444444444444,
              "#bd3786"
             ],
             [
              0.5555555555555556,
              "#d8576b"
             ],
             [
              0.6666666666666666,
              "#ed7953"
             ],
             [
              0.7777777777777778,
              "#fb9f3a"
             ],
             [
              0.8888888888888888,
              "#fdca26"
             ],
             [
              1,
              "#f0f921"
             ]
            ],
            "type": "contour"
           }
          ],
          "contourcarpet": [
           {
            "colorbar": {
             "outlinewidth": 0,
             "ticks": ""
            },
            "type": "contourcarpet"
           }
          ],
          "heatmap": [
           {
            "colorbar": {
             "outlinewidth": 0,
             "ticks": ""
            },
            "colorscale": [
             [
              0,
              "#0d0887"
             ],
             [
              0.1111111111111111,
              "#46039f"
             ],
             [
              0.2222222222222222,
              "#7201a8"
             ],
             [
              0.3333333333333333,
              "#9c179e"
             ],
             [
              0.4444444444444444,
              "#bd3786"
             ],
             [
              0.5555555555555556,
              "#d8576b"
             ],
             [
              0.6666666666666666,
              "#ed7953"
             ],
             [
              0.7777777777777778,
              "#fb9f3a"
             ],
             [
              0.8888888888888888,
              "#fdca26"
             ],
             [
              1,
              "#f0f921"
             ]
            ],
            "type": "heatmap"
           }
          ],
          "heatmapgl": [
           {
            "colorbar": {
             "outlinewidth": 0,
             "ticks": ""
            },
            "colorscale": [
             [
              0,
              "#0d0887"
             ],
             [
              0.1111111111111111,
              "#46039f"
             ],
             [
              0.2222222222222222,
              "#7201a8"
             ],
             [
              0.3333333333333333,
              "#9c179e"
             ],
             [
              0.4444444444444444,
              "#bd3786"
             ],
             [
              0.5555555555555556,
              "#d8576b"
             ],
             [
              0.6666666666666666,
              "#ed7953"
             ],
             [
              0.7777777777777778,
              "#fb9f3a"
             ],
             [
              0.8888888888888888,
              "#fdca26"
             ],
             [
              1,
              "#f0f921"
             ]
            ],
            "type": "heatmapgl"
           }
          ],
          "histogram": [
           {
            "marker": {
             "pattern": {
              "fillmode": "overlay",
              "size": 10,
              "solidity": 0.2
             }
            },
            "type": "histogram"
           }
          ],
          "histogram2d": [
           {
            "colorbar": {
             "outlinewidth": 0,
             "ticks": ""
            },
            "colorscale": [
             [
              0,
              "#0d0887"
             ],
             [
              0.1111111111111111,
              "#46039f"
             ],
             [
              0.2222222222222222,
              "#7201a8"
             ],
             [
              0.3333333333333333,
              "#9c179e"
             ],
             [
              0.4444444444444444,
              "#bd3786"
             ],
             [
              0.5555555555555556,
              "#d8576b"
             ],
             [
              0.6666666666666666,
              "#ed7953"
             ],
             [
              0.7777777777777778,
              "#fb9f3a"
             ],
             [
              0.8888888888888888,
              "#fdca26"
             ],
             [
              1,
              "#f0f921"
             ]
            ],
            "type": "histogram2d"
           }
          ],
          "histogram2dcontour": [
           {
            "colorbar": {
             "outlinewidth": 0,
             "ticks": ""
            },
            "colorscale": [
             [
              0,
              "#0d0887"
             ],
             [
              0.1111111111111111,
              "#46039f"
             ],
             [
              0.2222222222222222,
              "#7201a8"
             ],
             [
              0.3333333333333333,
              "#9c179e"
             ],
             [
              0.4444444444444444,
              "#bd3786"
             ],
             [
              0.5555555555555556,
              "#d8576b"
             ],
             [
              0.6666666666666666,
              "#ed7953"
             ],
             [
              0.7777777777777778,
              "#fb9f3a"
             ],
             [
              0.8888888888888888,
              "#fdca26"
             ],
             [
              1,
              "#f0f921"
             ]
            ],
            "type": "histogram2dcontour"
           }
          ],
          "mesh3d": [
           {
            "colorbar": {
             "outlinewidth": 0,
             "ticks": ""
            },
            "type": "mesh3d"
           }
          ],
          "parcoords": [
           {
            "line": {
             "colorbar": {
              "outlinewidth": 0,
              "ticks": ""
             }
            },
            "type": "parcoords"
           }
          ],
          "pie": [
           {
            "automargin": true,
            "type": "pie"
           }
          ],
          "scatter": [
           {
            "fillpattern": {
             "fillmode": "overlay",
             "size": 10,
             "solidity": 0.2
            },
            "type": "scatter"
           }
          ],
          "scatter3d": [
           {
            "line": {
             "colorbar": {
              "outlinewidth": 0,
              "ticks": ""
             }
            },
            "marker": {
             "colorbar": {
              "outlinewidth": 0,
              "ticks": ""
             }
            },
            "type": "scatter3d"
           }
          ],
          "scattercarpet": [
           {
            "marker": {
             "colorbar": {
              "outlinewidth": 0,
              "ticks": ""
             }
            },
            "type": "scattercarpet"
           }
          ],
          "scattergeo": [
           {
            "marker": {
             "colorbar": {
              "outlinewidth": 0,
              "ticks": ""
             }
            },
            "type": "scattergeo"
           }
          ],
          "scattergl": [
           {
            "marker": {
             "colorbar": {
              "outlinewidth": 0,
              "ticks": ""
             }
            },
            "type": "scattergl"
           }
          ],
          "scattermapbox": [
           {
            "marker": {
             "colorbar": {
              "outlinewidth": 0,
              "ticks": ""
             }
            },
            "type": "scattermapbox"
           }
          ],
          "scatterpolar": [
           {
            "marker": {
             "colorbar": {
              "outlinewidth": 0,
              "ticks": ""
             }
            },
            "type": "scatterpolar"
           }
          ],
          "scatterpolargl": [
           {
            "marker": {
             "colorbar": {
              "outlinewidth": 0,
              "ticks": ""
             }
            },
            "type": "scatterpolargl"
           }
          ],
          "scatterternary": [
           {
            "marker": {
             "colorbar": {
              "outlinewidth": 0,
              "ticks": ""
             }
            },
            "type": "scatterternary"
           }
          ],
          "surface": [
           {
            "colorbar": {
             "outlinewidth": 0,
             "ticks": ""
            },
            "colorscale": [
             [
              0,
              "#0d0887"
             ],
             [
              0.1111111111111111,
              "#46039f"
             ],
             [
              0.2222222222222222,
              "#7201a8"
             ],
             [
              0.3333333333333333,
              "#9c179e"
             ],
             [
              0.4444444444444444,
              "#bd3786"
             ],
             [
              0.5555555555555556,
              "#d8576b"
             ],
             [
              0.6666666666666666,
              "#ed7953"
             ],
             [
              0.7777777777777778,
              "#fb9f3a"
             ],
             [
              0.8888888888888888,
              "#fdca26"
             ],
             [
              1,
              "#f0f921"
             ]
            ],
            "type": "surface"
           }
          ],
          "table": [
           {
            "cells": {
             "fill": {
              "color": "#EBF0F8"
             },
             "line": {
              "color": "white"
             }
            },
            "header": {
             "fill": {
              "color": "#C8D4E3"
             },
             "line": {
              "color": "white"
             }
            },
            "type": "table"
           }
          ]
         },
         "layout": {
          "annotationdefaults": {
           "arrowcolor": "#2a3f5f",
           "arrowhead": 0,
           "arrowwidth": 1
          },
          "autotypenumbers": "strict",
          "coloraxis": {
           "colorbar": {
            "outlinewidth": 0,
            "ticks": ""
           }
          },
          "colorscale": {
           "diverging": [
            [
             0,
             "#8e0152"
            ],
            [
             0.1,
             "#c51b7d"
            ],
            [
             0.2,
             "#de77ae"
            ],
            [
             0.3,
             "#f1b6da"
            ],
            [
             0.4,
             "#fde0ef"
            ],
            [
             0.5,
             "#f7f7f7"
            ],
            [
             0.6,
             "#e6f5d0"
            ],
            [
             0.7,
             "#b8e186"
            ],
            [
             0.8,
             "#7fbc41"
            ],
            [
             0.9,
             "#4d9221"
            ],
            [
             1,
             "#276419"
            ]
           ],
           "sequential": [
            [
             0,
             "#0d0887"
            ],
            [
             0.1111111111111111,
             "#46039f"
            ],
            [
             0.2222222222222222,
             "#7201a8"
            ],
            [
             0.3333333333333333,
             "#9c179e"
            ],
            [
             0.4444444444444444,
             "#bd3786"
            ],
            [
             0.5555555555555556,
             "#d8576b"
            ],
            [
             0.6666666666666666,
             "#ed7953"
            ],
            [
             0.7777777777777778,
             "#fb9f3a"
            ],
            [
             0.8888888888888888,
             "#fdca26"
            ],
            [
             1,
             "#f0f921"
            ]
           ],
           "sequentialminus": [
            [
             0,
             "#0d0887"
            ],
            [
             0.1111111111111111,
             "#46039f"
            ],
            [
             0.2222222222222222,
             "#7201a8"
            ],
            [
             0.3333333333333333,
             "#9c179e"
            ],
            [
             0.4444444444444444,
             "#bd3786"
            ],
            [
             0.5555555555555556,
             "#d8576b"
            ],
            [
             0.6666666666666666,
             "#ed7953"
            ],
            [
             0.7777777777777778,
             "#fb9f3a"
            ],
            [
             0.8888888888888888,
             "#fdca26"
            ],
            [
             1,
             "#f0f921"
            ]
           ]
          },
          "colorway": [
           "#636efa",
           "#EF553B",
           "#00cc96",
           "#ab63fa",
           "#FFA15A",
           "#19d3f3",
           "#FF6692",
           "#B6E880",
           "#FF97FF",
           "#FECB52"
          ],
          "font": {
           "color": "#2a3f5f"
          },
          "geo": {
           "bgcolor": "white",
           "lakecolor": "white",
           "landcolor": "#E5ECF6",
           "showlakes": true,
           "showland": true,
           "subunitcolor": "white"
          },
          "hoverlabel": {
           "align": "left"
          },
          "hovermode": "closest",
          "mapbox": {
           "style": "light"
          },
          "paper_bgcolor": "white",
          "plot_bgcolor": "#E5ECF6",
          "polar": {
           "angularaxis": {
            "gridcolor": "white",
            "linecolor": "white",
            "ticks": ""
           },
           "bgcolor": "#E5ECF6",
           "radialaxis": {
            "gridcolor": "white",
            "linecolor": "white",
            "ticks": ""
           }
          },
          "scene": {
           "xaxis": {
            "backgroundcolor": "#E5ECF6",
            "gridcolor": "white",
            "gridwidth": 2,
            "linecolor": "white",
            "showbackground": true,
            "ticks": "",
            "zerolinecolor": "white"
           },
           "yaxis": {
            "backgroundcolor": "#E5ECF6",
            "gridcolor": "white",
            "gridwidth": 2,
            "linecolor": "white",
            "showbackground": true,
            "ticks": "",
            "zerolinecolor": "white"
           },
           "zaxis": {
            "backgroundcolor": "#E5ECF6",
            "gridcolor": "white",
            "gridwidth": 2,
            "linecolor": "white",
            "showbackground": true,
            "ticks": "",
            "zerolinecolor": "white"
           }
          },
          "shapedefaults": {
           "line": {
            "color": "#2a3f5f"
           }
          },
          "ternary": {
           "aaxis": {
            "gridcolor": "white",
            "linecolor": "white",
            "ticks": ""
           },
           "baxis": {
            "gridcolor": "white",
            "linecolor": "white",
            "ticks": ""
           },
           "bgcolor": "#E5ECF6",
           "caxis": {
            "gridcolor": "white",
            "linecolor": "white",
            "ticks": ""
           }
          },
          "title": {
           "x": 0.05
          },
          "xaxis": {
           "automargin": true,
           "gridcolor": "white",
           "linecolor": "white",
           "ticks": "",
           "title": {
            "standoff": 15
           },
           "zerolinecolor": "white",
           "zerolinewidth": 2
          },
          "yaxis": {
           "automargin": true,
           "gridcolor": "white",
           "linecolor": "white",
           "ticks": "",
           "title": {
            "standoff": 15
           },
           "zerolinecolor": "white",
           "zerolinewidth": 2
          }
         }
        },
        "title": {
         "text": "UMAP Plot"
        },
        "width": 800,
        "xaxis": {
         "anchor": "y",
         "domain": [
          0,
          1
         ],
         "showticklabels": false,
         "title": {
          "text": ""
         }
        },
        "yaxis": {
         "anchor": "x",
         "domain": [
          0,
          1
         ],
         "showticklabels": false,
         "title": {
          "text": ""
         }
        }
       }
      }
     },
     "metadata": {},
     "output_type": "display_data"
    }
   ],
   "source": [
    "fig = umap_plot(df_umap_perf_all)\n",
    "\n",
    "fig.show()"
   ]
  },
  {
   "cell_type": "code",
   "execution_count": null,
   "metadata": {},
   "outputs": [],
   "source": []
  }
 ],
 "metadata": {
  "interpreter": {
   "hash": "a0002ca97fa5ee54dc2e4008fbe9eabec60bb4400642f4fca2bafe1dfe14f90e"
  },
  "kernelspec": {
   "display_name": "Python 3.9.12 ('base')",
   "language": "python",
   "name": "python3"
  },
  "language_info": {
   "codemirror_mode": {
    "name": "ipython",
    "version": 3
   },
   "file_extension": ".py",
   "mimetype": "text/x-python",
   "name": "python",
   "nbconvert_exporter": "python",
   "pygments_lexer": "ipython3",
   "version": "3.9.12"
  },
  "orig_nbformat": 4
 },
 "nbformat": 4,
 "nbformat_minor": 2
}
