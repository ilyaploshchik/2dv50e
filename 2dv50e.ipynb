{
 "cells": [
  {
   "cell_type": "markdown",
   "metadata": {},
   "source": [
    "### Initial Data exploration and wrangling"
   ]
  },
  {
   "cell_type": "markdown",
   "metadata": {},
   "source": [
    "##### Modul import"
   ]
  },
  {
   "cell_type": "code",
   "execution_count": 1,
   "metadata": {},
   "outputs": [],
   "source": [
    "import pandas as pd\n",
    "import umap\n",
    "from sklearn import preprocessing\n",
    "import plotly.express as px\n",
    "import plotly.graph_objects as go\n",
    "from plotly.subplots import make_subplots\n",
    "import numpy as np\n",
    "import ast\n",
    "from sklearn.neighbors import KNeighborsClassifier\n",
    "from sklearn.svm import SVC\n",
    "from sklearn.naive_bayes import GaussianNB\n",
    "from sklearn.neural_network import MLPClassifier\n",
    "from sklearn.linear_model import LogisticRegression\n",
    "from sklearn.discriminant_analysis import LinearDiscriminantAnalysis\n",
    "from sklearn.discriminant_analysis import QuadraticDiscriminantAnalysis\n",
    "from sklearn.ensemble import RandomForestClassifier\n",
    "from sklearn.ensemble import ExtraTreesClassifier\n",
    "from sklearn.ensemble import AdaBoostClassifier\n",
    "from sklearn.ensemble import GradientBoostingClassifier\n",
    "from sklearn.ensemble import StackingClassifier\n",
    "from sklearn.metrics import accuracy_score, precision_score, recall_score, roc_auc_score, matthews_corrcoef, f1_score, log_loss\n",
    "from sklearn import metrics\n",
    "from imblearn.metrics import geometric_mean_score\n",
    "import plotly.graph_objects as go\n",
    "from plotly.subplots import make_subplots\n",
    "import warnings\n",
    "warnings.filterwarnings('ignore')\n",
    "\n",
    "# define random seed\n",
    "np.random.seed(42)\n"
   ]
  },
  {
   "cell_type": "markdown",
   "metadata": {},
   "source": [
    "#### Dataset import and wrangling"
   ]
  },
  {
   "cell_type": "code",
   "execution_count": 81,
   "metadata": {},
   "outputs": [],
   "source": [
    "path = r'D:\\github\\2dv50e\\Data\\1. Heart Disease'\n",
    "df_prob = pd.read_csv(path + r'\\topModelsProbabilities.csv')\n",
    "df_mod = pd.read_csv(path + r'\\topModels.csv')\n",
    "# add column target to df model from target.csv\n",
    "df_target = pd.read_csv(path + r'\\target.csv')\n",
    "y_train = df_target['class']\n",
    "target = df_target['class'].tolist()\n",
    "df_source = pd.read_csv(path + r'\\dataset.csv')\n",
    "\n",
    "algo_nr = df_mod['algorithm_id']"
   ]
  },
  {
   "cell_type": "code",
   "execution_count": 3,
   "metadata": {},
   "outputs": [],
   "source": [
    "# Print number of missing values per column in df_probabilities\n",
    "for col in df_prob.columns:\n",
    "    if df_prob[col].isnull().sum() > 0:\n",
    "        print(f'{col} has {df_prob[col].isnull().sum()} missing values.')"
   ]
  },
  {
   "cell_type": "code",
   "execution_count": 4,
   "metadata": {},
   "outputs": [],
   "source": [
    "# Apply scaler to df_source\n",
    "scaler = preprocessing.StandardScaler()\n",
    "df_source_scaled = pd.DataFrame(scaler.fit_transform(df_source), columns=df_source.columns)\n",
    "x_train = df_source_scaled.copy()"
   ]
  },
  {
   "cell_type": "code",
   "execution_count": 5,
   "metadata": {},
   "outputs": [],
   "source": [
    "algos = {1:'K-Nearest Neighbor', 2:'Support Vector Machine', 3:'Gaussian Naive Bayes', 4:'Multilayer Perceptron', 5:'Logistic Regression',\n",
    "        6:'Linear Discriminant Analysis', 7:'Quadratic Discriminant Analysis', 8:'Random Forest', 9:'Extra Trees', 10:'Adaptive Boosting',\n",
    "        11:'Gradient Boosting'}"
   ]
  },
  {
   "cell_type": "code",
   "execution_count": 6,
   "metadata": {},
   "outputs": [],
   "source": [
    "df_model = df_mod.copy()\n",
    "# rename columns in df_model\n",
    "df_model.rename(columns={'params': 'hyperparameters', 'mean_test_accuracy': 'accuracy', 'mean_test_precision_weighted': 'precision', \n",
    "                        'mean_test_recall_weighted': 'recall', 'mean_test_roc_auc_ovo_weighted': 'roc_auc_score',\n",
    "                        'geometric_mean_score_weighted': 'geometric_mean_score'}, inplace=True)\n",
    "# remove overall perfromance column\n",
    "df_model.drop(columns=['overall_performance'], inplace=True)\n",
    "df_model['algorithm_name'] = df_model['algorithm_id'].map(algos)\n",
    "df_model['overall_performance'] = round((df_model['accuracy'] + df_model['precision'] + df_model['recall'] + df_model['roc_auc_score'] + \\\n",
    "                                df_model['geometric_mean_score'] + df_model['matthews_corrcoef'] + df_model['f1_weighted']) / 7, 2)\n",
    "# Sort columns\n",
    "df_model = df_model[['model_id', 'algorithm_id', 'algorithm_name', 'accuracy', 'precision', 'recall', 'roc_auc_score',\n",
    "                        'geometric_mean_score', 'matthews_corrcoef', 'f1_weighted', 'log_loss', 'overall_performance', 'hyperparameters']]"
   ]
  },
  {
   "cell_type": "markdown",
   "metadata": {},
   "source": [
    "Function to extract hyperparameters from the best performing model per algorithm"
   ]
  },
  {
   "cell_type": "code",
   "execution_count": 7,
   "metadata": {},
   "outputs": [],
   "source": [
    "def best_params(df):\n",
    "      # Select hyperparameters for best model in each algorithm\n",
    "      df_best = df.groupby('algorithm_id').apply(lambda x: x.sort_values('overall_performance', ascending=False).iloc[0])\n",
    "      # reset algorithm_nr as  index\n",
    "      df_best = df_best.reset_index(drop=True)\n",
    "      # keep only algorithm number, name, performance and hyperparameters\n",
    "      df_best = df_best[['algorithm_id', 'algorithm_name', 'overall_performance', 'hyperparameters']]\n",
    "      # rename overall_performance as performance\n",
    "      df_best.rename(columns={'overall_performance': 'performance'}, inplace=True)\n",
    "      return df_best"
   ]
  },
  {
   "cell_type": "markdown",
   "metadata": {},
   "source": [
    "Supporting functions to extract hyperparameters values"
   ]
  },
  {
   "cell_type": "code",
   "execution_count": 8,
   "metadata": {},
   "outputs": [],
   "source": [
    "# Return hyperparameters based on algorithm name\n",
    "def get_hyperparameters(df, algorithm_name):\n",
    "    return df[df['algorithm_name'] == algorithm_name]['hyperparameters']\n",
    "\n",
    "# return value of key in dictionary\n",
    "def get_value(dictionary, key):\n",
    "    return dictionary[key]\n",
    "\n",
    "# convert string to dictionary\n",
    "def string_to_dict(string):\n",
    "    return ast.literal_eval(string)"
   ]
  },
  {
   "cell_type": "markdown",
   "metadata": {},
   "source": [
    "Base layer estimators (top 5 per algorithm)"
   ]
  },
  {
   "cell_type": "code",
   "execution_count": 9,
   "metadata": {},
   "outputs": [],
   "source": [
    "# dictionaries with algorithm names and their hyperparameters\n",
    "\n",
    "knn_params = {int(k):v for k,v in get_hyperparameters(df_model, 'K-Nearest Neighbor').items()}\n",
    "svm_params = {int(k):v for k,v in get_hyperparameters(df_model, 'Support Vector Machine').items()}\n",
    "gnb_params = {int(k):v for k,v in get_hyperparameters(df_model, 'Gaussian Naive Bayes').items()}\n",
    "mlp_params = {int(k):v for k,v in get_hyperparameters(df_model, 'Multilayer Perceptron').items()}\n",
    "lr_params = {int(k):v for k,v in get_hyperparameters(df_model, 'Logistic Regression').items()}\n",
    "lda_params = {int(k):v for k,v in get_hyperparameters(df_model, 'Linear Discriminant Analysis').items()}\n",
    "qda_params = {int(k):v for k,v in get_hyperparameters(df_model, 'Quadratic Discriminant Analysis').items()}\n",
    "rf_params = {int(k):v for k,v in get_hyperparameters(df_model, 'Random Forest').items()}\n",
    "et_params = {int(k):v for k,v in get_hyperparameters(df_model, 'Extra Trees').items()}\n",
    "ab_params = {int(k):v for k,v in get_hyperparameters(df_model, 'Adaptive Boosting').items()}\n",
    "gb_params = {int(k):v for k,v in get_hyperparameters(df_model, 'Gradient Boosting').items()}"
   ]
  },
  {
   "cell_type": "code",
   "execution_count": 10,
   "metadata": {},
   "outputs": [],
   "source": [
    "# Estimators and hyperparameters for each algorithm\n",
    "estimators = []\n",
    "# populate list of estimators with all 55 top models\n",
    "count = 0\n",
    "for i in list(knn_params.keys()):\n",
    "                temp_dict = ast.literal_eval(knn_params[i])\n",
    "                estimators.append((f'knn_{count}', KNeighborsClassifier(algorithm=get_value(temp_dict, 'algorithm'), \n",
    "                                metric=get_value(temp_dict, 'metric'), n_neighbors= get_value(temp_dict, 'n_neighbors'), \n",
    "                                weights=get_value(temp_dict, 'weights'), n_jobs=-1)))\n",
    "                count += 1\n",
    "count = 0\n",
    "for i in list(svm_params.keys()):\n",
    "                temp_dict = ast.literal_eval(svm_params[i])\n",
    "                estimators.append((f'svm_{count}', SVC(C=get_value(temp_dict, 'C'), kernel=get_value(temp_dict, 'kernel'),probability=True, random_state=42)))\n",
    "                count += 1\n",
    "count = 0\n",
    "for i in list(gnb_params.keys()):\n",
    "                temp_dict = ast.literal_eval(gnb_params[i])\n",
    "                estimators.append((f'gnb_{count}', GaussianNB(var_smoothing=get_value(temp_dict, 'var_smoothing'))))\n",
    "                count += 1\n",
    "count = 0\n",
    "for i in list(mlp_params.keys()):\n",
    "                temp_dict = ast.literal_eval(mlp_params[i])\n",
    "                estimators.append((f'mlp_{count}', MLPClassifier(activation=get_value(temp_dict, 'activation'), \n",
    "                                alpha=get_value(temp_dict, 'alpha'),\n",
    "                                max_iter=get_value(temp_dict, 'max_iter'), solver=get_value(temp_dict, 'solver'), \n",
    "                                tol=get_value(temp_dict, 'tol'), random_state=42)))\n",
    "                count += 1\n",
    "count = 0\n",
    "for i in list(lr_params.keys()):\n",
    "                temp_dict = ast.literal_eval(lr_params[i])\n",
    "                estimators.append((f'lr_{count}', LogisticRegression(C=get_value(temp_dict, 'C'), max_iter=get_value(temp_dict, 'max_iter'), penalty=get_value(temp_dict, 'penalty'), solver=get_value(temp_dict, 'solver'), random_state=42, n_jobs=-1)))\n",
    "                count += 1\n",
    "count = 0\n",
    "for i in list(lda_params.keys()):\n",
    "                temp_dict = ast.literal_eval(lda_params[i])\n",
    "                estimators.append((f'lda_{count}', LinearDiscriminantAnalysis(shrinkage=get_value(temp_dict, 'shrinkage'), \n",
    "                                solver=get_value(temp_dict, 'solver'))))\n",
    "                count += 1\n",
    "count = 0\n",
    "for i in list(qda_params.keys()):\n",
    "                temp_dict = ast.literal_eval(qda_params[i])\n",
    "                estimators.append((f'qda_{count}', QuadraticDiscriminantAnalysis(reg_param=get_value(temp_dict, 'reg_param'), tol=get_value(temp_dict, 'tol'))))\n",
    "                count += 1\n",
    "count = 0\n",
    "for i in list(rf_params.keys()):\n",
    "                temp_dict = ast.literal_eval(rf_params[i])\n",
    "                estimators.append((f'rf_{count}', RandomForestClassifier(criterion=get_value(temp_dict, 'criterion'), \n",
    "                                n_estimators=get_value(temp_dict, 'n_estimators'), random_state=42, n_jobs=-1)))\n",
    "                count += 1\n",
    "count = 0\n",
    "for i in list(et_params.keys()):\n",
    "                temp_dict = ast.literal_eval(et_params[i])\n",
    "                estimators.append((f'et_{count}', ExtraTreesClassifier(criterion=get_value(temp_dict, 'criterion'),\n",
    "                                n_estimators=get_value(temp_dict, 'n_estimators'), random_state=42, n_jobs=-1)))\n",
    "                count += 1\n",
    "count = 0\n",
    "for i in list(ab_params.keys()):\n",
    "                temp_dict = ast.literal_eval(ab_params[i])\n",
    "                estimators.append((f'ab_{count}', AdaBoostClassifier(algorithm=get_value(temp_dict, 'algorithm'), \n",
    "                                learning_rate=get_value(temp_dict, 'learning_rate'), n_estimators=get_value(temp_dict, 'n_estimators'), random_state=42)))\n",
    "                count += 1\n",
    "count = 0\n",
    "for i in list(gb_params.keys()):\n",
    "                temp_dict = ast.literal_eval(gb_params[i])\n",
    "                estimators.append((f'gb_{count}', GradientBoostingClassifier(criterion=get_value(temp_dict, 'criterion'), \n",
    "                                learning_rate=get_value(temp_dict, 'learning_rate'), n_estimators=get_value(temp_dict, 'n_estimators'), random_state=42)))\n",
    "                count += 1"
   ]
  },
  {
   "cell_type": "markdown",
   "metadata": {},
   "source": [
    "##### Metamodel estimators (top 1 per algorithm)\n",
    "Hyperparameters will be extracted from the best performing model per algorithm. <br> The plan is to extract hyperparameters from the best performing model per algorithm and then apply these hyperparameters to the metamodels. Currently no functuonality to be added to allow end user to tune the hyperparameters for metamodels, instead they will rely on top performing ones from base layer models."
   ]
  },
  {
   "cell_type": "code",
   "execution_count": 11,
   "metadata": {},
   "outputs": [],
   "source": [
    "# Extract the top models from the dataframe with the respective hyperparameters\n",
    "meta_params = best_params(df_model)\n",
    "\n",
    "# return unique values of algorithm name\n",
    "algo = ['knn', 'svm', 'gnb', 'mlp', 'lr', 'lda', 'qda', 'rf', 'et', 'ab', 'gb']\n",
    "# convert all values in algo to capital letters\n",
    "algo_cap = [i.upper() for i in algo]\n",
    "\n",
    "algo_names = meta_params['algorithm_name']\n",
    "\n",
    "# iterate through key and value pairs in algo\n",
    "i = 0\n",
    "for k,v in zip(algo, algo_names):\n",
    "    # Define hyperparameters for each  final estimator, based on top performing model from base layer\n",
    "    temp = get_hyperparameters(meta_params, v)\n",
    "    # convert to dictionary for easy access\n",
    "    temp_dict = {int(k):v for k,v in temp.items()}\n",
    "    # return first value\n",
    "    temp_dict = temp_dict[i]\n",
    "    # convert to dictionary for easy access, assign varibale name per algorithm\n",
    "    globals()[k + '_params'] = ast.literal_eval(temp_dict)\n",
    "    i += 1"
   ]
  },
  {
   "cell_type": "code",
   "execution_count": 12,
   "metadata": {},
   "outputs": [],
   "source": [
    "# Add final estimators\n",
    "final_estimators = [('knn', KNeighborsClassifier(algorithm=get_value(knn_params, 'algorithm'), metric=get_value(knn_params, 'metric'), \n",
    "                n_neighbors= get_value(knn_params, 'n_neighbors'), weights=get_value(knn_params, 'weights'), n_jobs=-1)),\n",
    "                ('svm', SVC(C=get_value(svm_params, 'C'), kernel=get_value(svm_params, 'kernel'),probability=True, random_state=42)),\n",
    "                ('gnb', GaussianNB(var_smoothing=get_value(gnb_params, 'var_smoothing'))),\n",
    "                ('mlp', MLPClassifier(activation=get_value(mlp_params, 'activation'), alpha=get_value(mlp_params, 'alpha'), \n",
    "                max_iter=get_value(mlp_params, 'max_iter'), solver=get_value(mlp_params, 'solver'), tol=get_value(mlp_params, 'tol'), \n",
    "                random_state=42)),\n",
    "                ('lr', LogisticRegression(C=get_value(lr_params, 'C'), max_iter=get_value(lr_params, 'max_iter'),\n",
    "                penalty=get_value(lr_params, 'penalty'), solver=get_value(lr_params, 'solver'), random_state=42, n_jobs=-1)),\n",
    "                ('lda', LinearDiscriminantAnalysis(shrinkage=get_value(lda_params, 'shrinkage'), solver=get_value(lda_params, 'solver'))),\n",
    "                ('qda', QuadraticDiscriminantAnalysis(reg_param=get_value(qda_params, 'reg_param'), tol=get_value(qda_params, 'tol'))),\n",
    "                ('rf', RandomForestClassifier(criterion=get_value(rf_params, 'criterion'), n_estimators=get_value(rf_params, 'n_estimators'), \n",
    "                random_state=42, n_jobs=-1)),\n",
    "                ('et', ExtraTreesClassifier(criterion=get_value(et_params, 'criterion'), n_estimators=get_value(et_params, 'n_estimators'), \n",
    "                random_state=42, n_jobs=-1)),\n",
    "                ('ab', AdaBoostClassifier(algorithm=get_value(ab_params, 'algorithm'), learning_rate=get_value(ab_params, 'learning_rate'), \n",
    "                n_estimators=get_value(ab_params, 'n_estimators'), random_state=42)),\n",
    "                ('gb', GradientBoostingClassifier(criterion=get_value(gb_params, 'criterion'), \n",
    "                learning_rate=get_value(gb_params, 'learning_rate'), n_estimators=get_value(gb_params, 'n_estimators'), random_state=42))\n",
    "                ]"
   ]
  },
  {
   "cell_type": "markdown",
   "metadata": {},
   "source": [
    "Please note that for the average metric I did not include the logloss as using normalized version of logloss introduces bias to dataset"
   ]
  },
  {
   "cell_type": "code",
   "execution_count": 13,
   "metadata": {},
   "outputs": [],
   "source": [
    "# create dataframe for df_model_meta with columns names from df_model\n",
    "df_model_meta = pd.DataFrame(columns=df_model.columns)\n",
    "\n",
    "# create dataframes for meta models probabilities and predicted values\n",
    "df_pred_meta = pd.DataFrame()\n",
    "df_prob_meta = pd.DataFrame()\n",
    "\n",
    "for x in range(0, len(final_estimators)):\n",
    "        final_estimator = final_estimators[x][1]\n",
    "        clf = StackingClassifier(estimators=estimators, final_estimator=final_estimator, n_jobs=-1, cv=5)\n",
    "        clf.fit(x_train, y_train)\n",
    "        y_pred = clf.predict(x_train)\n",
    "        y_pred = pd.Series(y_pred)\n",
    "\n",
    "        # probabilities dataframe\n",
    "        y_pred_prob = clf.predict_proba(x_train)\n",
    "        y_pred_prob_df = pd.DataFrame(y_pred_prob, columns=['prob_0', 'prob_1'])\n",
    "        y_pred_prob_df['target'] = y_train\n",
    "        y_pred_prob_df['predicted'] = y_pred\n",
    "        # create new column, set value to prob_0 if target is 0 and prob_1 if target is 1\n",
    "        y_pred_prob_df['pred_prob'] = np.where(y_pred_prob_df['target'] == 0, y_pred_prob_df['prob_0'], y_pred_prob_df['prob_1'])\n",
    "        # remove prob_0 and prob_1 columns, target and predicted columns\n",
    "        y_pred_prob_df = y_pred_prob_df.drop(['prob_0', 'prob_1', 'target', 'predicted'], axis=1)\n",
    "        # transpose the data frame and convert values to %\n",
    "        y_pred_prob_df = y_pred_prob_df.T\n",
    "        y_pred_prob_df = y_pred_prob_df.apply(lambda x: x * 100).round(2)\n",
    "        # set index to x\n",
    "        y_pred_prob_df.index = [x]\n",
    "        # add row to df_prob_meta using pd.concat\n",
    "        df_prob_meta = pd.concat([df_prob_meta, y_pred_prob_df], axis=0)\n",
    "        \n",
    "        # prediction dataframe\n",
    "        # transpose the data frame\n",
    "        y_pred_df = pd.DataFrame(y_pred, columns=['Pred_class'])\n",
    "        y_pred_df = y_pred_df.T\n",
    "        # set index to x\n",
    "        y_pred_df.index = [x]\n",
    "        # add row to df_prob_meta using pd.concat\n",
    "        df_pred_meta = pd.concat([df_pred_meta, y_pred_df], axis=0)\n",
    "\n",
    "        # performance metrics dataframe\n",
    "        accuracy = round(accuracy_score(y_train, y_pred)*100, 2)\n",
    "        precision = round(precision_score(y_train, y_pred, average='weighted')*100, 2)\n",
    "        recall = round(recall_score(y_train, y_pred, average='weighted')*100, 2)\n",
    "        roc_auc = round(roc_auc_score(y_train, y_pred, average='weighted')*100, 2)\n",
    "        gmean = round(geometric_mean_score(y_train, y_pred, average='weighted')*100, 2)\n",
    "        mcc = round(matthews_corrcoef(y_train, y_pred)*100, 2)\n",
    "        f1_weighted = round(f1_score(y_train, y_pred, average='weighted')*100, 2)\n",
    "        log_loss = round(metrics.log_loss(y_train, y_pred, normalize=True)*100, 2)\n",
    "        average_metrics = (accuracy + precision + recall + roc_auc + gmean + mcc + f1_weighted) / 7\n",
    "        average_metrics = round(average_metrics, 2)\n",
    "        # add performance metrics to df_model_meta using pd.concat with index\n",
    "        df_model_meta = pd.concat([df_model_meta, pd.DataFrame([[f'meta_{x+1}', x+1, algos[x+1], accuracy, precision, recall, roc_auc, gmean, \\\n",
    "                        mcc, f1_weighted, log_loss, average_metrics, f'{final_estimator.get_params()}']], \n",
    "                        columns=df_model_meta.columns, index=[x])], axis=0)"
   ]
  },
  {
   "cell_type": "code",
   "execution_count": 14,
   "metadata": {},
   "outputs": [],
   "source": [
    "# Save all dataframes to csv\n",
    "df_model_meta.to_csv(f'{path}/MetaModelsPerformance.csv', index=False)\n",
    "df_prob_meta.to_csv(f'{path}/MetaModelsProbabilities.csv', index=False)\n",
    "df_pred_meta.to_csv(f'{path}/MetaModelsPredictions.csv', index=False)"
   ]
  },
  {
   "cell_type": "code",
   "execution_count": 15,
   "metadata": {},
   "outputs": [],
   "source": [
    "# concatinate df_model and df_model_meta\n",
    "df_model_all = pd.concat([df_model, df_model_meta], axis=0)\n",
    "df_model_all = df_model_all.astype({'model_id': 'str', 'algorithm_id': 'int64', 'accuracy': 'float64', 'precision': 'float64', \n",
    "                               'recall': 'float64', 'roc_auc_score': 'float64', 'geometric_mean_score': 'float64', \n",
    "                               'matthews_corrcoef': 'float64', 'f1_weighted': 'float64', 'log_loss': 'float64', \n",
    "                               'overall_performance': 'float64'})\n",
    "# create new column \"size\", set to 2 for rows with \"meta\" in \"model_id\", else 1\n",
    "df_model_all['size'] = np.where(df_model_all['model_id'].str.contains('meta'), 2, 1)\n",
    "# create new column for text of points\n",
    "df_model_all['text'] = df_model_all['algorithm_name'] + '<br>' + 'Performance: ' + \\\n",
    "        df_model_all['overall_performance'].astype(str) + '%' + '<br>' + 'Model ID: ' + df_model_all['model_id'].astype(str) + \\\n",
    "        '<br>' + 'Accuracy: ' + df_model_all['accuracy'].astype(str) + '%' + '<br>' + 'Precision: ' + \\\n",
    "        df_model_all['precision'].astype(str) + '%' + '<br>' + 'Recall: ' + df_model_all['recall'].astype(str) + \\\n",
    "        '%' + '<br>' + 'ROC AUC: ' + df_model_all['roc_auc_score'].astype(str) + '<br>' + 'Geometric Mean: ' + \\\n",
    "        df_model_all['geometric_mean_score'].astype(str) + '<br>' + 'Matthews Correlation: ' + \\\n",
    "        df_model_all['matthews_corrcoef'].astype(str) + '<br>' + 'F1: ' + df_model_all['f1_weighted'].astype(str) + \\\n",
    "        '<br>' + 'Log Loss: ' + df_model_all['log_loss'].astype(str)"
   ]
  },
  {
   "cell_type": "code",
   "execution_count": 16,
   "metadata": {},
   "outputs": [
    {
     "data": {
      "text/html": [
       "<div>\n",
       "<style scoped>\n",
       "    .dataframe tbody tr th:only-of-type {\n",
       "        vertical-align: middle;\n",
       "    }\n",
       "\n",
       "    .dataframe tbody tr th {\n",
       "        vertical-align: top;\n",
       "    }\n",
       "\n",
       "    .dataframe thead th {\n",
       "        text-align: right;\n",
       "    }\n",
       "</style>\n",
       "<table border=\"1\" class=\"dataframe\">\n",
       "  <thead>\n",
       "    <tr style=\"text-align: right;\">\n",
       "      <th></th>\n",
       "      <th>model_id</th>\n",
       "      <th>algorithm_id</th>\n",
       "      <th>algorithm_name</th>\n",
       "      <th>accuracy</th>\n",
       "      <th>precision</th>\n",
       "      <th>recall</th>\n",
       "      <th>roc_auc_score</th>\n",
       "      <th>geometric_mean_score</th>\n",
       "      <th>matthews_corrcoef</th>\n",
       "      <th>f1_weighted</th>\n",
       "      <th>log_loss</th>\n",
       "      <th>overall_performance</th>\n",
       "      <th>hyperparameters</th>\n",
       "      <th>size</th>\n",
       "      <th>text</th>\n",
       "    </tr>\n",
       "  </thead>\n",
       "  <tbody>\n",
       "    <tr>\n",
       "      <th>4</th>\n",
       "      <td>meta_5</td>\n",
       "      <td>5</td>\n",
       "      <td>Logistic Regression</td>\n",
       "      <td>100.00</td>\n",
       "      <td>100.00</td>\n",
       "      <td>100.00</td>\n",
       "      <td>100.00</td>\n",
       "      <td>100.00</td>\n",
       "      <td>100.00</td>\n",
       "      <td>100.00</td>\n",
       "      <td>0.00</td>\n",
       "      <td>100.00</td>\n",
       "      <td>{'C': 1.4, 'class_weight': None, 'dual': False...</td>\n",
       "      <td>2</td>\n",
       "      <td>Logistic Regression&lt;br&gt;Performance: 100.0%&lt;br&gt;...</td>\n",
       "    </tr>\n",
       "    <tr>\n",
       "      <th>3</th>\n",
       "      <td>meta_4</td>\n",
       "      <td>4</td>\n",
       "      <td>Multilayer Perceptron</td>\n",
       "      <td>100.00</td>\n",
       "      <td>100.00</td>\n",
       "      <td>100.00</td>\n",
       "      <td>100.00</td>\n",
       "      <td>100.00</td>\n",
       "      <td>100.00</td>\n",
       "      <td>100.00</td>\n",
       "      <td>0.00</td>\n",
       "      <td>100.00</td>\n",
       "      <td>{'activation': 'relu', 'alpha': 0.00041, 'batc...</td>\n",
       "      <td>2</td>\n",
       "      <td>Multilayer Perceptron&lt;br&gt;Performance: 100.0%&lt;b...</td>\n",
       "    </tr>\n",
       "    <tr>\n",
       "      <th>5</th>\n",
       "      <td>meta_6</td>\n",
       "      <td>6</td>\n",
       "      <td>Linear Discriminant Analysis</td>\n",
       "      <td>99.01</td>\n",
       "      <td>99.01</td>\n",
       "      <td>99.01</td>\n",
       "      <td>98.97</td>\n",
       "      <td>98.97</td>\n",
       "      <td>98.00</td>\n",
       "      <td>99.01</td>\n",
       "      <td>34.20</td>\n",
       "      <td>98.85</td>\n",
       "      <td>{'covariance_estimator': None, 'n_components':...</td>\n",
       "      <td>2</td>\n",
       "      <td>Linear Discriminant Analysis&lt;br&gt;Performance: 9...</td>\n",
       "    </tr>\n",
       "    <tr>\n",
       "      <th>8</th>\n",
       "      <td>meta_9</td>\n",
       "      <td>9</td>\n",
       "      <td>Extra Trees</td>\n",
       "      <td>96.70</td>\n",
       "      <td>96.85</td>\n",
       "      <td>96.70</td>\n",
       "      <td>96.91</td>\n",
       "      <td>96.91</td>\n",
       "      <td>93.51</td>\n",
       "      <td>96.71</td>\n",
       "      <td>113.99</td>\n",
       "      <td>96.33</td>\n",
       "      <td>{'bootstrap': False, 'ccp_alpha': 0.0, 'class_...</td>\n",
       "      <td>2</td>\n",
       "      <td>Extra Trees&lt;br&gt;Performance: 96.33%&lt;br&gt;Model ID...</td>\n",
       "    </tr>\n",
       "    <tr>\n",
       "      <th>10</th>\n",
       "      <td>meta_11</td>\n",
       "      <td>11</td>\n",
       "      <td>Gradient Boosting</td>\n",
       "      <td>94.39</td>\n",
       "      <td>94.39</td>\n",
       "      <td>94.39</td>\n",
       "      <td>94.31</td>\n",
       "      <td>94.31</td>\n",
       "      <td>88.68</td>\n",
       "      <td>94.39</td>\n",
       "      <td>193.78</td>\n",
       "      <td>93.55</td>\n",
       "      <td>{'ccp_alpha': 0.0, 'criterion': 'friedman_mse'...</td>\n",
       "      <td>2</td>\n",
       "      <td>Gradient Boosting&lt;br&gt;Performance: 93.55%&lt;br&gt;Mo...</td>\n",
       "    </tr>\n",
       "  </tbody>\n",
       "</table>\n",
       "</div>"
      ],
      "text/plain": [
       "   model_id  algorithm_id                algorithm_name  accuracy  precision  \\\n",
       "4    meta_5             5           Logistic Regression    100.00     100.00   \n",
       "3    meta_4             4         Multilayer Perceptron    100.00     100.00   \n",
       "5    meta_6             6  Linear Discriminant Analysis     99.01      99.01   \n",
       "8    meta_9             9                   Extra Trees     96.70      96.85   \n",
       "10  meta_11            11             Gradient Boosting     94.39      94.39   \n",
       "\n",
       "    recall  roc_auc_score  geometric_mean_score  matthews_corrcoef  \\\n",
       "4   100.00         100.00                100.00             100.00   \n",
       "3   100.00         100.00                100.00             100.00   \n",
       "5    99.01          98.97                 98.97              98.00   \n",
       "8    96.70          96.91                 96.91              93.51   \n",
       "10   94.39          94.31                 94.31              88.68   \n",
       "\n",
       "    f1_weighted  log_loss  overall_performance  \\\n",
       "4        100.00      0.00               100.00   \n",
       "3        100.00      0.00               100.00   \n",
       "5         99.01     34.20                98.85   \n",
       "8         96.71    113.99                96.33   \n",
       "10        94.39    193.78                93.55   \n",
       "\n",
       "                                      hyperparameters  size  \\\n",
       "4   {'C': 1.4, 'class_weight': None, 'dual': False...     2   \n",
       "3   {'activation': 'relu', 'alpha': 0.00041, 'batc...     2   \n",
       "5   {'covariance_estimator': None, 'n_components':...     2   \n",
       "8   {'bootstrap': False, 'ccp_alpha': 0.0, 'class_...     2   \n",
       "10  {'ccp_alpha': 0.0, 'criterion': 'friedman_mse'...     2   \n",
       "\n",
       "                                                 text  \n",
       "4   Logistic Regression<br>Performance: 100.0%<br>...  \n",
       "3   Multilayer Perceptron<br>Performance: 100.0%<b...  \n",
       "5   Linear Discriminant Analysis<br>Performance: 9...  \n",
       "8   Extra Trees<br>Performance: 96.33%<br>Model ID...  \n",
       "10  Gradient Boosting<br>Performance: 93.55%<br>Mo...  "
      ]
     },
     "execution_count": 16,
     "metadata": {},
     "output_type": "execute_result"
    }
   ],
   "source": [
    "# show  top 5 models with best performance\n",
    "df_model_all.sort_values(by=['overall_performance'], ascending=False).head(5)"
   ]
  },
  {
   "cell_type": "code",
   "execution_count": 17,
   "metadata": {},
   "outputs": [
    {
     "data": {
      "text/plain": [
       "(66, 303)"
      ]
     },
     "execution_count": 17,
     "metadata": {},
     "output_type": "execute_result"
    }
   ],
   "source": [
    "# set df_prob_meta columns as df_prob columns\n",
    "df_prob_meta.columns = df_prob.columns\n",
    "\n",
    "# concatinate df_prob and df_prob_meta\n",
    "df_prob_all = pd.concat([df_prob, df_prob_meta], axis=0)\n",
    "df_prob_all.shape"
   ]
  },
  {
   "cell_type": "markdown",
   "metadata": {},
   "source": [
    "\n",
    "### UMAP dimension reduction algorithm"
   ]
  },
  {
   "cell_type": "code",
   "execution_count": 18,
   "metadata": {},
   "outputs": [],
   "source": [
    "# UMAP function\n",
    "def umap_model(df, parameter_umap_n_neighbors = 5, parameter_umap_min_dist = 0.5, parameter_umap_metric = 'euclidean'):\n",
    "        umap_model = umap.UMAP(n_neighbors=parameter_umap_n_neighbors, metric=parameter_umap_metric, min_dist=parameter_umap_min_dist)\n",
    "        #fit transform and convert to dataframe\n",
    "        df_umap = pd.DataFrame(umap_model.fit_transform(df), columns=['UMAP_1', 'UMAP_2'])\n",
    "        # add index to df_umap\n",
    "        df_umap.index = df.index\n",
    "        return df_umap"
   ]
  },
  {
   "cell_type": "code",
   "execution_count": 19,
   "metadata": {},
   "outputs": [],
   "source": [
    "# Create UMAP models for probabilities and perfromance metrics dataframes\n",
    "umap_prob = umap_model(df_prob_all)\n",
    "\n",
    "# choose only accuracy, precision, recall, roc_auc, geometric_mean_score, matthews_corrcoef, f1_weighted from df_model_all\n",
    "df_model_metrics = df_model_all[['accuracy', 'precision', 'recall', 'roc_auc_score', 'geometric_mean_score', 'matthews_corrcoef', 'f1_weighted']]\n",
    "\n",
    "umap_metrics = umap_model(df_model_metrics)"
   ]
  },
  {
   "cell_type": "code",
   "execution_count": 20,
   "metadata": {},
   "outputs": [],
   "source": [
    "# Add umap_prob to df_model_all and rename columns to 'UMAP_1_prob' and 'UMAP_2_prob' for different hyperparameter of number of neighbors\n",
    "\n",
    "for i in range(3,16):\n",
    "    umap_prob = umap_model(df_prob_all, parameter_umap_n_neighbors = i)\n",
    "    df_model_all = pd.concat([df_model_all, umap_prob], axis=1)\n",
    "    df_model_all.rename(columns={'UMAP_1': f'UMAP_1_prob_{i}', 'UMAP_2': f'UMAP_2_prob_{i}'}, inplace=True)"
   ]
  },
  {
   "cell_type": "code",
   "execution_count": 21,
   "metadata": {},
   "outputs": [],
   "source": [
    "# Add umap_metrics to df_model_all and rename columns to 'UMAP_1_metrics' and 'UMAP_2_metrics'\n",
    "df_model_all = pd.concat([df_model_all, umap_metrics], axis=1)\n",
    "df_model_all.rename(columns={'UMAP_1': 'UMAP_1_metrics', 'UMAP_2': 'UMAP_2_metrics'}, inplace=True)"
   ]
  },
  {
   "cell_type": "markdown",
   "metadata": {},
   "source": [
    "### UMAP chart"
   ]
  },
  {
   "cell_type": "code",
   "execution_count": 22,
   "metadata": {},
   "outputs": [
    {
     "data": {
      "application/vnd.plotly.v1+json": {
       "config": {
        "plotlyServerURL": "https://plot.ly"
       },
       "data": [
        {
         "hovertext": [
          "K-Nearest Neighbor<br>Performance: 83.35%<br>Model ID: 452<br>Accuracy: 70.31%<br>Precision: 70.36%<br>Recall: 70.31%<br>ROC AUC: 72.5<br>Geometric Mean: 100.0<br>Matthews Correlation: 100.0<br>F1: 100.0<br>Log Loss: 0.0",
          "K-Nearest Neighbor<br>Performance: 83.28%<br>Model ID: 288<br>Accuracy: 69.62%<br>Precision: 69.8%<br>Recall: 69.62%<br>ROC AUC: 73.91<br>Geometric Mean: 100.0<br>Matthews Correlation: 100.0<br>F1: 100.0<br>Log Loss: 0.0",
          "K-Nearest Neighbor<br>Performance: 83.13%<br>Model ID: 96<br>Accuracy: 69.29%<br>Precision: 69.48%<br>Recall: 69.29%<br>ROC AUC: 73.84<br>Geometric Mean: 100.0<br>Matthews Correlation: 100.0<br>F1: 100.0<br>Log Loss: 0.0",
          "K-Nearest Neighbor<br>Performance: 83.13%<br>Model ID: 480<br>Accuracy: 69.29%<br>Precision: 69.48%<br>Recall: 69.29%<br>ROC AUC: 73.82<br>Geometric Mean: 100.0<br>Matthews Correlation: 100.0<br>F1: 100.0<br>Log Loss: 0.0",
          "K-Nearest Neighbor<br>Performance: 83.11%<br>Model ID: 458<br>Accuracy: 69.64%<br>Precision: 69.61%<br>Recall: 69.64%<br>ROC AUC: 72.85<br>Geometric Mean: 100.0<br>Matthews Correlation: 100.0<br>F1: 100.0<br>Log Loss: 0.0",
          "K-Nearest Neighbor<br>Performance: 87.44%<br>Model ID: meta_1<br>Accuracy: 89.11%<br>Precision: 89.41%<br>Recall: 89.11%<br>ROC AUC: 88.58<br>Geometric Mean: 88.58<br>Matthews Correlation: 78.24<br>F1: 89.03<br>Log Loss: 376.17"
         ],
         "marker": {
          "color": [
           83.35,
           83.28,
           83.13,
           83.13,
           83.11,
           87.44
          ],
          "coloraxis": "coloraxis",
          "line": {
           "color": "Black",
           "width": 1
          },
          "opacity": 0.8,
          "size": [
           20,
           20,
           20,
           20,
           20,
           40
          ],
          "symbol": [
           "circle",
           "circle",
           "circle",
           "circle",
           "circle",
           "circle"
          ]
         },
         "mode": "markers",
         "name": "K-Nearest Neighbor",
         "type": "scatter",
         "x": [
          10.443592071533203,
          10.789107322692871,
          11.136475563049316,
          11.402701377868652,
          10.111507415771484,
          -6.145606517791748
         ],
         "xaxis": "x",
         "y": [
          9.464421272277832,
          9.141899108886719,
          8.803571701049805,
          8.535257339477539,
          9.800115585327148,
          11.06942081451416
         ],
         "yaxis": "y"
        },
        {
         "hovertext": [
          "Support Vector Machine<br>Performance: 83.1%<br>Model ID: 694<br>Accuracy: 82.5%<br>Precision: 82.92%<br>Recall: 82.5%<br>ROC AUC: 89.98<br>Geometric Mean: 85.43<br>Matthews Correlation: 72.38<br>F1: 85.99<br>Log Loss: 0.62",
          "Support Vector Machine<br>Performance: 83.08%<br>Model ID: 650<br>Accuracy: 82.83%<br>Precision: 83.3%<br>Recall: 82.83%<br>ROC AUC: 90.14<br>Geometric Mean: 85.07<br>Matthews Correlation: 71.75<br>F1: 85.65<br>Log Loss: 0.71",
          "Support Vector Machine<br>Performance: 83.08%<br>Model ID: 646<br>Accuracy: 82.83%<br>Precision: 83.3%<br>Recall: 82.83%<br>ROC AUC: 90.15<br>Geometric Mean: 85.07<br>Matthews Correlation: 71.75<br>F1: 85.65<br>Log Loss: 0.69",
          "Support Vector Machine<br>Performance: 83.09%<br>Model ID: 642<br>Accuracy: 82.83%<br>Precision: 83.3%<br>Recall: 82.83%<br>ROC AUC: 90.19<br>Geometric Mean: 85.07<br>Matthews Correlation: 71.75<br>F1: 85.65<br>Log Loss: 0.68",
          "Support Vector Machine<br>Performance: 83.07%<br>Model ID: 654<br>Accuracy: 82.83%<br>Precision: 83.3%<br>Recall: 82.83%<br>ROC AUC: 90.09<br>Geometric Mean: 85.07<br>Matthews Correlation: 71.75<br>F1: 85.65<br>Log Loss: 0.69",
          "Support Vector Machine<br>Performance: 92.41%<br>Model ID: meta_2<br>Accuracy: 93.4%<br>Precision: 93.4%<br>Recall: 93.4%<br>ROC AUC: 93.29<br>Geometric Mean: 93.29<br>Matthews Correlation: 86.68<br>F1: 93.4<br>Log Loss: 227.98"
         ],
         "marker": {
          "color": [
           83.1,
           83.08,
           83.08,
           83.09,
           83.07,
           92.41
          ],
          "coloraxis": "coloraxis",
          "line": {
           "color": "Black",
           "width": 1
          },
          "opacity": 0.8,
          "size": [
           20,
           20,
           20,
           20,
           20,
           40
          ],
          "symbol": [
           "square",
           "square",
           "square",
           "square",
           "square",
           "square"
          ]
         },
         "mode": "markers",
         "name": "Support Vector Machine",
         "type": "scatter",
         "x": [
          -10.245183944702148,
          -9.741508483886719,
          -9.906780242919922,
          -9.485574722290039,
          -10.051960945129395,
          -6.340430736541748
         ],
         "xaxis": "x",
         "y": [
          -4.275208473205566,
          -4.77903413772583,
          -4.613587856292725,
          -5.034316539764404,
          -4.4685797691345215,
          11.363781929016113
         ],
         "yaxis": "y"
        },
        {
         "hovertext": [
          "Gaussian Naive Bayes<br>Performance: 80.97%<br>Model ID: 737<br>Accuracy: 80.51%<br>Precision: 80.65%<br>Recall: 80.51%<br>ROC AUC: 89.18<br>Geometric Mean: 83.79<br>Matthews Correlation: 68.01<br>F1: 84.11<br>Log Loss: 100.0",
          "Gaussian Naive Bayes<br>Performance: 80.97%<br>Model ID: 1066<br>Accuracy: 80.51%<br>Precision: 80.65%<br>Recall: 80.51%<br>ROC AUC: 89.18<br>Geometric Mean: 83.79<br>Matthews Correlation: 68.01<br>F1: 84.11<br>Log Loss: 34.0",
          "Gaussian Naive Bayes<br>Performance: 80.97%<br>Model ID: 1079<br>Accuracy: 80.51%<br>Precision: 80.65%<br>Recall: 80.51%<br>ROC AUC: 89.18<br>Geometric Mean: 83.79<br>Matthews Correlation: 68.01<br>F1: 84.11<br>Log Loss: 31.4",
          "Gaussian Naive Bayes<br>Performance: 80.97%<br>Model ID: 1078<br>Accuracy: 80.51%<br>Precision: 80.65%<br>Recall: 80.51%<br>ROC AUC: 89.18<br>Geometric Mean: 83.79<br>Matthews Correlation: 68.01<br>F1: 84.11<br>Log Loss: 31.6",
          "Gaussian Naive Bayes<br>Performance: 80.97%<br>Model ID: 1077<br>Accuracy: 80.51%<br>Precision: 80.65%<br>Recall: 80.51%<br>ROC AUC: 89.18<br>Geometric Mean: 83.79<br>Matthews Correlation: 68.01<br>F1: 84.11<br>Log Loss: 31.8",
          "Gaussian Naive Bayes<br>Performance: 93.21%<br>Model ID: meta_3<br>Accuracy: 94.06%<br>Precision: 94.07%<br>Recall: 94.06%<br>ROC AUC: 94.07<br>Geometric Mean: 94.07<br>Matthews Correlation: 88.05<br>F1: 94.06<br>Log Loss: 205.18"
         ],
         "marker": {
          "color": [
           80.97,
           80.97,
           80.97,
           80.97,
           80.97,
           93.21
          ],
          "coloraxis": "coloraxis",
          "line": {
           "color": "Black",
           "width": 1
          },
          "opacity": 0.8,
          "size": [
           20,
           20,
           20,
           20,
           20,
           40
          ],
          "symbol": [
           "x",
           "x",
           "x",
           "x",
           "x",
           "x"
          ]
         },
         "mode": "markers",
         "name": "Gaussian Naive Bayes",
         "type": "scatter",
         "x": [
          12.63687515258789,
          12.373499870300293,
          11.975048065185547,
          11.708133697509766,
          12.179627418518066,
          -6.129391193389893
         ],
         "xaxis": "x",
         "y": [
          -13.426908493041992,
          -13.204025268554688,
          -12.261749267578125,
          -12.668012619018555,
          -12.818778038024902,
          10.612716674804688
         ],
         "yaxis": "y"
        },
        {
         "hovertext": [
          "Multilayer Perceptron<br>Performance: 79.22%<br>Model ID: 1262<br>Accuracy: 79.85%<br>Precision: 79.92%<br>Recall: 79.85%<br>ROC AUC: 85.88<br>Geometric Mean: 81.86<br>Matthews Correlation: 64.8<br>F1: 82.36<br>Log Loss: 17.56",
          "Multilayer Perceptron<br>Performance: 79.22%<br>Model ID: 1263<br>Accuracy: 79.85%<br>Precision: 79.92%<br>Recall: 79.85%<br>ROC AUC: 85.88<br>Geometric Mean: 81.86<br>Matthews Correlation: 64.8<br>F1: 82.36<br>Log Loss: 17.56",
          "Multilayer Perceptron<br>Performance: 79.22%<br>Model ID: 1261<br>Accuracy: 79.85%<br>Precision: 79.92%<br>Recall: 79.85%<br>ROC AUC: 85.88<br>Geometric Mean: 81.86<br>Matthews Correlation: 64.8<br>F1: 82.36<br>Log Loss: 17.56",
          "Multilayer Perceptron<br>Performance: 79.09%<br>Model ID: 1249<br>Accuracy: 79.52%<br>Precision: 79.59%<br>Recall: 79.52%<br>ROC AUC: 85.97<br>Geometric Mean: 81.86<br>Matthews Correlation: 64.8<br>F1: 82.36<br>Log Loss: 17.17",
          "Multilayer Perceptron<br>Performance: 79.09%<br>Model ID: 1251<br>Accuracy: 79.52%<br>Precision: 79.59%<br>Recall: 79.52%<br>ROC AUC: 85.97<br>Geometric Mean: 81.86<br>Matthews Correlation: 64.8<br>F1: 82.36<br>Log Loss: 17.17",
          "Multilayer Perceptron<br>Performance: 100.0%<br>Model ID: meta_4<br>Accuracy: 100.0%<br>Precision: 100.0%<br>Recall: 100.0%<br>ROC AUC: 100.0<br>Geometric Mean: 100.0<br>Matthews Correlation: 100.0<br>F1: 100.0<br>Log Loss: 0.0"
         ],
         "marker": {
          "color": [
           79.22,
           79.22,
           79.22,
           79.09,
           79.09,
           100
          ],
          "coloraxis": "coloraxis",
          "line": {
           "color": "Black",
           "width": 1
          },
          "opacity": 0.8,
          "size": [
           20,
           20,
           20,
           20,
           20,
           40
          ],
          "symbol": [
           "cross",
           "cross",
           "cross",
           "cross",
           "cross",
           "cross"
          ]
         },
         "mode": "markers",
         "name": "Multilayer Perceptron",
         "type": "scatter",
         "x": [
          6.288442611694336,
          6.709495544433594,
          6.59307861328125,
          5.809728145599365,
          6.047557353973389,
          0.34722602367401123
         ],
         "xaxis": "x",
         "y": [
          5.190070152282715,
          4.76202917098999,
          4.881288051605225,
          5.671578884124756,
          5.433919906616211,
          7.11256742477417
         ],
         "yaxis": "y"
        },
        {
         "hovertext": [
          "Logistic Regression<br>Performance: 83.67%<br>Model ID: 1677<br>Accuracy: 84.14%<br>Precision: 84.66%<br>Recall: 84.14%<br>ROC AUC: 90.32<br>Geometric Mean: 85.13<br>Matthews Correlation: 71.65<br>F1: 85.67<br>Log Loss: 3.51",
          "Logistic Regression<br>Performance: 83.66%<br>Model ID: 1741<br>Accuracy: 84.46%<br>Precision: 84.98%<br>Recall: 84.46%<br>ROC AUC: 90.58<br>Geometric Mean: 84.83<br>Matthews Correlation: 70.93<br>F1: 85.35<br>Log Loss: 3.37",
          "Logistic Regression<br>Performance: 83.54%<br>Model ID: 1901<br>Accuracy: 83.8%<br>Precision: 84.26%<br>Recall: 83.8%<br>ROC AUC: 90.5<br>Geometric Mean: 85.13<br>Matthews Correlation: 71.65<br>F1: 85.67<br>Log Loss: 3.41",
          "Logistic Regression<br>Performance: 83.53%<br>Model ID: 1773<br>Accuracy: 84.14%<br>Precision: 84.64%<br>Recall: 84.14%<br>ROC AUC: 90.65<br>Geometric Mean: 84.77<br>Matthews Correlation: 71.02<br>F1: 85.33<br>Log Loss: 3.23",
          "Logistic Regression<br>Performance: 83.41%<br>Model ID: 1869<br>Accuracy: 83.48%<br>Precision: 83.92%<br>Recall: 83.48%<br>ROC AUC: 90.54<br>Geometric Mean: 85.07<br>Matthews Correlation: 71.75<br>F1: 85.65<br>Log Loss: 2.97",
          "Logistic Regression<br>Performance: 100.0%<br>Model ID: meta_5<br>Accuracy: 100.0%<br>Precision: 100.0%<br>Recall: 100.0%<br>ROC AUC: 100.0<br>Geometric Mean: 100.0<br>Matthews Correlation: 100.0<br>F1: 100.0<br>Log Loss: 0.0"
         ],
         "marker": {
          "color": [
           83.67,
           83.66,
           83.54,
           83.53,
           83.41,
           100
          ],
          "coloraxis": "coloraxis",
          "line": {
           "color": "Black",
           "width": 1
          },
          "opacity": 0.8,
          "size": [
           20,
           20,
           20,
           20,
           20,
           40
          ],
          "symbol": [
           "diamond",
           "diamond",
           "diamond",
           "diamond",
           "diamond",
           "diamond"
          ]
         },
         "mode": "markers",
         "name": "Logistic Regression",
         "type": "scatter",
         "x": [
          3.622008800506592,
          3.274150848388672,
          2.6409640312194824,
          3.098273754119873,
          2.3624398708343506,
          0.5380083322525024
         ],
         "xaxis": "x",
         "y": [
          -3.090318202972412,
          -2.6128146648406982,
          -2.8403754234313965,
          -3.0608837604522705,
          -2.4784257411956787,
          6.920987606048584
         ],
         "yaxis": "y"
        },
        {
         "hovertext": [
          "Linear Discriminant Analysis<br>Performance: 82.31%<br>Model ID: 1997<br>Accuracy: 83.16%<br>Precision: 84.11%<br>Recall: 83.16%<br>ROC AUC: 89.99<br>Geometric Mean: 83.32<br>Matthews Correlation: 68.51<br>F1: 83.94<br>Log Loss: 0.0",
          "Linear Discriminant Analysis<br>Performance: 82.31%<br>Model ID: 1998<br>Accuracy: 83.16%<br>Precision: 84.11%<br>Recall: 83.16%<br>ROC AUC: 89.99<br>Geometric Mean: 83.32<br>Matthews Correlation: 68.51<br>F1: 83.94<br>Log Loss: 0.0",
          "Linear Discriminant Analysis<br>Performance: 73.45%<br>Model ID: 1999<br>Accuracy: 75.89%<br>Precision: 76.41%<br>Recall: 75.89%<br>ROC AUC: 82.6<br>Geometric Mean: 75.39<br>Matthews Correlation: 52.04<br>F1: 75.95<br>Log Loss: 31.9",
          "Linear Discriminant Analysis<br>Performance: 73.45%<br>Model ID: 2000<br>Accuracy: 75.89%<br>Precision: 76.41%<br>Recall: 75.89%<br>ROC AUC: 82.6<br>Geometric Mean: 75.39<br>Matthews Correlation: 52.04<br>F1: 75.95<br>Log Loss: 31.9",
          "Linear Discriminant Analysis<br>Performance: 71.08%<br>Model ID: 2001<br>Accuracy: 74.25%<br>Precision: 74.65%<br>Recall: 74.25%<br>ROC AUC: 79.07<br>Geometric Mean: 73.45<br>Matthews Correlation: 47.92<br>F1: 73.99<br>Log Loss: 41.85",
          "Linear Discriminant Analysis<br>Performance: 98.85%<br>Model ID: meta_6<br>Accuracy: 99.01%<br>Precision: 99.01%<br>Recall: 99.01%<br>ROC AUC: 98.97<br>Geometric Mean: 98.97<br>Matthews Correlation: 98.0<br>F1: 99.01<br>Log Loss: 34.2"
         ],
         "marker": {
          "color": [
           82.31,
           82.31,
           73.45,
           73.45,
           71.08,
           98.85
          ],
          "coloraxis": "coloraxis",
          "line": {
           "color": "Black",
           "width": 1
          },
          "opacity": 0.8,
          "size": [
           20,
           20,
           20,
           20,
           20,
           40
          ],
          "symbol": [
           "star",
           "star",
           "star",
           "star",
           "star",
           "star"
          ]
         },
         "mode": "markers",
         "name": "Linear Discriminant Analysis",
         "type": "scatter",
         "x": [
          1.907785415649414,
          1.761870265007019,
          -21.540836334228516,
          -21.334482192993164,
          -21.08306121826172,
          0.2633717358112335
         ],
         "xaxis": "x",
         "y": [
          -2.278656482696533,
          -2.5343587398529053,
          2.1628496646881104,
          2.3691952228546143,
          2.6206247806549072,
          7.196101665496826
         ],
         "yaxis": "y"
        },
        {
         "hovertext": [
          "Quadratic Discriminant Analysis<br>Performance: 83.44%<br>Model ID: 2227<br>Accuracy: 81.49%<br>Precision: 81.79%<br>Recall: 81.49%<br>ROC AUC: 88.84<br>Geometric Mean: 87.24<br>Matthews Correlation: 75.55<br>F1: 87.7<br>Log Loss: 0.03",
          "Quadratic Discriminant Analysis<br>Performance: 83.44%<br>Model ID: 2231<br>Accuracy: 81.49%<br>Precision: 81.79%<br>Recall: 81.49%<br>ROC AUC: 88.84<br>Geometric Mean: 87.24<br>Matthews Correlation: 75.55<br>F1: 87.7<br>Log Loss: 0.03",
          "Quadratic Discriminant Analysis<br>Performance: 83.44%<br>Model ID: 2230<br>Accuracy: 81.49%<br>Precision: 81.79%<br>Recall: 81.49%<br>ROC AUC: 88.84<br>Geometric Mean: 87.24<br>Matthews Correlation: 75.55<br>F1: 87.7<br>Log Loss: 0.03",
          "Quadratic Discriminant Analysis<br>Performance: 83.44%<br>Model ID: 2229<br>Accuracy: 81.49%<br>Precision: 81.79%<br>Recall: 81.49%<br>ROC AUC: 88.84<br>Geometric Mean: 87.24<br>Matthews Correlation: 75.55<br>F1: 87.7<br>Log Loss: 0.03",
          "Quadratic Discriminant Analysis<br>Performance: 83.44%<br>Model ID: 2228<br>Accuracy: 81.49%<br>Precision: 81.79%<br>Recall: 81.49%<br>ROC AUC: 88.84<br>Geometric Mean: 87.24<br>Matthews Correlation: 75.55<br>F1: 87.7<br>Log Loss: 0.03",
          "Quadratic Discriminant Analysis<br>Performance: 91.25%<br>Model ID: meta_7<br>Accuracy: 92.41%<br>Precision: 92.43%<br>Recall: 92.41%<br>ROC AUC: 92.2<br>Geometric Mean: 92.2<br>Matthews Correlation: 84.7<br>F1: 92.4<br>Log Loss: 262.18"
         ],
         "marker": {
          "color": [
           83.44,
           83.44,
           83.44,
           83.44,
           83.44,
           91.25
          ],
          "coloraxis": "coloraxis",
          "line": {
           "color": "Black",
           "width": 1
          },
          "opacity": 0.8,
          "size": [
           20,
           20,
           20,
           20,
           20,
           40
          ],
          "symbol": [
           "hexagram",
           "hexagram",
           "hexagram",
           "hexagram",
           "hexagram",
           "hexagram"
          ]
         },
         "mode": "markers",
         "name": "Quadratic Discriminant Analysis",
         "type": "scatter",
         "x": [
          -13.949406623840332,
          -14.674474716186523,
          -14.175186157226562,
          -14.32072639465332,
          -14.412043571472168,
          -5.893843650817871
         ],
         "xaxis": "x",
         "y": [
          33.36701965332031,
          34.09220504760742,
          33.59288787841797,
          33.73845672607422,
          33.829978942871094,
          10.287464141845703
         ],
         "yaxis": "y"
        },
        {
         "hovertext": [
          "Random Forest<br>Performance: 91.82%<br>Model ID: 2488<br>Accuracy: 84.13%<br>Precision: 84.34%<br>Recall: 84.13%<br>ROC AUC: 90.17<br>Geometric Mean: 100.0<br>Matthews Correlation: 100.0<br>F1: 100.0<br>Log Loss: 59.71",
          "Random Forest<br>Performance: 91.83%<br>Model ID: 2490<br>Accuracy: 84.13%<br>Precision: 84.31%<br>Recall: 84.13%<br>ROC AUC: 90.21<br>Geometric Mean: 100.0<br>Matthews Correlation: 100.0<br>F1: 100.0<br>Log Loss: 52.76",
          "Random Forest<br>Performance: 91.83%<br>Model ID: 2489<br>Accuracy: 84.13%<br>Precision: 84.34%<br>Recall: 84.13%<br>ROC AUC: 90.22<br>Geometric Mean: 100.0<br>Matthews Correlation: 100.0<br>F1: 100.0<br>Log Loss: 54.75",
          "Random Forest<br>Performance: 91.82%<br>Model ID: 2494<br>Accuracy: 84.13%<br>Precision: 84.38%<br>Recall: 84.13%<br>ROC AUC: 90.11<br>Geometric Mean: 100.0<br>Matthews Correlation: 100.0<br>F1: 100.0<br>Log Loss: 58.36",
          "Random Forest<br>Performance: 91.69%<br>Model ID: 2493<br>Accuracy: 83.8%<br>Precision: 84.02%<br>Recall: 83.8%<br>ROC AUC: 90.22<br>Geometric Mean: 100.0<br>Matthews Correlation: 100.0<br>F1: 100.0<br>Log Loss: 57.04",
          "Random Forest<br>Performance: 90.91%<br>Model ID: meta_8<br>Accuracy: 92.08%<br>Precision: 92.08%<br>Recall: 92.08%<br>ROC AUC: 92.02<br>Geometric Mean: 92.02<br>Matthews Correlation: 84.03<br>F1: 92.08<br>Log Loss: 273.58"
         ],
         "marker": {
          "color": [
           91.82,
           91.83,
           91.83,
           91.82,
           91.69,
           90.91
          ],
          "coloraxis": "coloraxis",
          "line": {
           "color": "Black",
           "width": 1
          },
          "opacity": 0.8,
          "size": [
           20,
           20,
           20,
           20,
           20,
           40
          ],
          "symbol": [
           "triangle-right",
           "triangle-right",
           "triangle-right",
           "triangle-right",
           "triangle-right",
           "triangle-right"
          ]
         },
         "mode": "markers",
         "name": "Random Forest",
         "type": "scatter",
         "x": [
          13.151926040649414,
          12.778143882751465,
          13.219001770019531,
          12.30821704864502,
          12.400811195373535,
          -5.927348613739014
         ],
         "xaxis": "x",
         "y": [
          -6.061808109283447,
          -6.436036586761475,
          -5.994627475738525,
          -6.907100200653076,
          -6.815157413482666,
          12.014351844787598
         ],
         "yaxis": "y"
        },
        {
         "hovertext": [
          "Extra Trees<br>Performance: 92.27%<br>Model ID: 2667<br>Accuracy: 84.81%<br>Precision: 85.07%<br>Recall: 84.81%<br>ROC AUC: 91.22<br>Geometric Mean: 100.0<br>Matthews Correlation: 100.0<br>F1: 100.0<br>Log Loss: 0.0",
          "Extra Trees<br>Performance: 92.24%<br>Model ID: 2659<br>Accuracy: 84.8%<br>Precision: 84.98%<br>Recall: 84.8%<br>ROC AUC: 91.07<br>Geometric Mean: 100.0<br>Matthews Correlation: 100.0<br>F1: 100.0<br>Log Loss: 0.0",
          "Extra Trees<br>Performance: 92.24%<br>Model ID: 2660<br>Accuracy: 84.8%<br>Precision: 84.98%<br>Recall: 84.8%<br>ROC AUC: 91.07<br>Geometric Mean: 100.0<br>Matthews Correlation: 100.0<br>F1: 100.0<br>Log Loss: 0.0",
          "Extra Trees<br>Performance: 92.19%<br>Model ID: 2714<br>Accuracy: 84.48%<br>Precision: 84.59%<br>Recall: 84.48%<br>ROC AUC: 91.8<br>Geometric Mean: 100.0<br>Matthews Correlation: 100.0<br>F1: 100.0<br>Log Loss: 0.0",
          "Extra Trees<br>Performance: 92.19%<br>Model ID: 2715<br>Accuracy: 84.48%<br>Precision: 84.59%<br>Recall: 84.48%<br>ROC AUC: 91.76<br>Geometric Mean: 100.0<br>Matthews Correlation: 100.0<br>F1: 100.0<br>Log Loss: 0.0",
          "Extra Trees<br>Performance: 96.33%<br>Model ID: meta_9<br>Accuracy: 96.7%<br>Precision: 96.85%<br>Recall: 96.7%<br>ROC AUC: 96.91<br>Geometric Mean: 96.91<br>Matthews Correlation: 93.51<br>F1: 96.71<br>Log Loss: 113.99"
         ],
         "marker": {
          "color": [
           92.27,
           92.24,
           92.24,
           92.19,
           92.19,
           96.33
          ],
          "coloraxis": "coloraxis",
          "line": {
           "color": "Black",
           "width": 1
          },
          "opacity": 0.8,
          "size": [
           20,
           20,
           20,
           20,
           20,
           40
          ],
          "symbol": [
           "triangle-left",
           "triangle-left",
           "triangle-left",
           "triangle-left",
           "triangle-left",
           "triangle-left"
          ]
         },
         "mode": "markers",
         "name": "Extra Trees",
         "type": "scatter",
         "x": [
          26.937368392944336,
          27.088632583618164,
          26.759946823120117,
          27.579952239990234,
          27.275434494018555,
          -6.295340061187744
         ],
         "xaxis": "x",
         "y": [
          7.367979049682617,
          7.9035749435424805,
          7.622352123260498,
          6.9618239402771,
          6.732756614685059,
          11.944724082946777
         ],
         "yaxis": "y"
        },
        {
         "hovertext": [
          "Adaptive Boosting<br>Performance: 85.49%<br>Model ID: 2808<br>Accuracy: 80.83%<br>Precision: 81.1%<br>Recall: 80.83%<br>ROC AUC: 87.46<br>Geometric Mean: 92.08<br>Matthews Correlation: 84.06<br>F1: 92.08<br>Log Loss: 91.04",
          "Adaptive Boosting<br>Performance: 85.37%<br>Model ID: 2845<br>Accuracy: 80.16%<br>Precision: 80.31%<br>Recall: 80.16%<br>ROC AUC: 83.52<br>Geometric Mean: 93.35<br>Matthews Correlation: 86.69<br>F1: 93.4<br>Log Loss: 99.49",
          "Adaptive Boosting<br>Performance: 85.29%<br>Model ID: 2811<br>Accuracy: 80.5%<br>Precision: 80.76%<br>Recall: 80.5%<br>ROC AUC: 86.95<br>Geometric Mean: 92.13<br>Matthews Correlation: 84.1<br>F1: 92.09<br>Log Loss: 92.25",
          "Adaptive Boosting<br>Performance: 85.19%<br>Model ID: 2812<br>Accuracy: 80.16%<br>Precision: 80.52%<br>Recall: 80.16%<br>ROC AUC: 87.19<br>Geometric Mean: 92.13<br>Matthews Correlation: 84.1<br>F1: 92.09<br>Log Loss: 92.14",
          "Adaptive Boosting<br>Performance: 85.18%<br>Model ID: 2809<br>Accuracy: 80.17%<br>Precision: 80.42%<br>Recall: 80.17%<br>ROC AUC: 87.3<br>Geometric Mean: 92.08<br>Matthews Correlation: 84.06<br>F1: 92.08<br>Log Loss: 91.13",
          "Adaptive Boosting<br>Performance: 93.03%<br>Model ID: meta_10<br>Accuracy: 93.73%<br>Precision: 94.1%<br>Recall: 93.73%<br>ROC AUC: 94.06<br>Geometric Mean: 94.06<br>Matthews Correlation: 87.78<br>F1: 93.74<br>Log Loss: 216.58"
         ],
         "marker": {
          "color": [
           85.49,
           85.37,
           85.29,
           85.19,
           85.18,
           93.03
          ],
          "coloraxis": "coloraxis",
          "line": {
           "color": "Black",
           "width": 1
          },
          "opacity": 0.8,
          "size": [
           20,
           20,
           20,
           20,
           20,
           40
          ],
          "symbol": [
           "triangle-down",
           "triangle-down",
           "triangle-down",
           "triangle-down",
           "triangle-down",
           "triangle-down"
          ]
         },
         "mode": "markers",
         "name": "Adaptive Boosting",
         "type": "scatter",
         "x": [
          23.90117073059082,
          22.979496002197266,
          23.602834701538086,
          23.053274154663086,
          23.35730743408203,
          23.527793884277344
         ],
         "xaxis": "x",
         "y": [
          -3.908007860183716,
          -4.490292549133301,
          -4.458693981170654,
          -4.761643409729004,
          -3.9051191806793213,
          -5.082700252532959
         ],
         "yaxis": "y"
        },
        {
         "hovertext": [
          "Gradient Boosting<br>Performance: 89.77%<br>Model ID: 3030<br>Accuracy: 80.83%<br>Precision: 81.59%<br>Recall: 80.83%<br>ROC AUC: 87.84<br>Geometric Mean: 99.28<br>Matthews Correlation: 98.68<br>F1: 99.34<br>Log Loss: 3.39",
          "Gradient Boosting<br>Performance: 89.76%<br>Model ID: 3029<br>Accuracy: 80.83%<br>Precision: 81.59%<br>Recall: 80.83%<br>ROC AUC: 87.8<br>Geometric Mean: 99.28<br>Matthews Correlation: 98.68<br>F1: 99.34<br>Log Loss: 3.61",
          "Gradient Boosting<br>Performance: 89.76%<br>Model ID: 2969<br>Accuracy: 80.83%<br>Precision: 81.59%<br>Recall: 80.83%<br>ROC AUC: 87.77<br>Geometric Mean: 99.28<br>Matthews Correlation: 98.68<br>F1: 99.34<br>Log Loss: 3.61",
          "Gradient Boosting<br>Performance: 89.77%<br>Model ID: 2970<br>Accuracy: 80.83%<br>Precision: 81.59%<br>Recall: 80.83%<br>ROC AUC: 87.82<br>Geometric Mean: 99.28<br>Matthews Correlation: 98.68<br>F1: 99.34<br>Log Loss: 3.39",
          "Gradient Boosting<br>Performance: 89.75%<br>Model ID: 3026<br>Accuracy: 80.83%<br>Precision: 81.45%<br>Recall: 80.83%<br>ROC AUC: 87.84<br>Geometric Mean: 99.28<br>Matthews Correlation: 98.68<br>F1: 99.34<br>Log Loss: 4.1",
          "Gradient Boosting<br>Performance: 93.55%<br>Model ID: meta_11<br>Accuracy: 94.39%<br>Precision: 94.39%<br>Recall: 94.39%<br>ROC AUC: 94.31<br>Geometric Mean: 94.31<br>Matthews Correlation: 88.68<br>F1: 94.39<br>Log Loss: 193.78"
         ],
         "marker": {
          "color": [
           89.77,
           89.76,
           89.76,
           89.77,
           89.75,
           93.55
          ],
          "coloraxis": "coloraxis",
          "line": {
           "color": "Black",
           "width": 1
          },
          "opacity": 0.8,
          "size": [
           20,
           20,
           20,
           20,
           20,
           40
          ],
          "symbol": [
           "triangle-up",
           "triangle-up",
           "triangle-up",
           "triangle-up",
           "triangle-up",
           "triangle-up"
          ]
         },
         "mode": "markers",
         "name": "Gradient Boosting",
         "type": "scatter",
         "x": [
          19.64651107788086,
          19.477163314819336,
          20.004562377929688,
          20.176124572753906,
          19.214445114135742,
          -5.664389133453369
         ],
         "xaxis": "x",
         "y": [
          -2.454115867614746,
          -2.593323230743408,
          -1.9321448802947998,
          -2.0427796840667725,
          -2.871823787689209,
          11.58957576751709
         ],
         "yaxis": "y"
        },
        {
         "hovertext": [
          "K-Nearest Neighbor<br>Performance: 83.35%<br>Model ID: 452<br>Accuracy: 70.31%<br>Precision: 70.36%<br>Recall: 70.31%<br>ROC AUC: 72.5<br>Geometric Mean: 100.0<br>Matthews Correlation: 100.0<br>F1: 100.0<br>Log Loss: 0.0",
          "K-Nearest Neighbor<br>Performance: 83.28%<br>Model ID: 288<br>Accuracy: 69.62%<br>Precision: 69.8%<br>Recall: 69.62%<br>ROC AUC: 73.91<br>Geometric Mean: 100.0<br>Matthews Correlation: 100.0<br>F1: 100.0<br>Log Loss: 0.0",
          "K-Nearest Neighbor<br>Performance: 83.13%<br>Model ID: 96<br>Accuracy: 69.29%<br>Precision: 69.48%<br>Recall: 69.29%<br>ROC AUC: 73.84<br>Geometric Mean: 100.0<br>Matthews Correlation: 100.0<br>F1: 100.0<br>Log Loss: 0.0",
          "K-Nearest Neighbor<br>Performance: 83.13%<br>Model ID: 480<br>Accuracy: 69.29%<br>Precision: 69.48%<br>Recall: 69.29%<br>ROC AUC: 73.82<br>Geometric Mean: 100.0<br>Matthews Correlation: 100.0<br>F1: 100.0<br>Log Loss: 0.0",
          "K-Nearest Neighbor<br>Performance: 83.11%<br>Model ID: 458<br>Accuracy: 69.64%<br>Precision: 69.61%<br>Recall: 69.64%<br>ROC AUC: 72.85<br>Geometric Mean: 100.0<br>Matthews Correlation: 100.0<br>F1: 100.0<br>Log Loss: 0.0",
          "K-Nearest Neighbor<br>Performance: 87.44%<br>Model ID: meta_1<br>Accuracy: 89.11%<br>Precision: 89.41%<br>Recall: 89.11%<br>ROC AUC: 88.58<br>Geometric Mean: 88.58<br>Matthews Correlation: 78.24<br>F1: 89.03<br>Log Loss: 376.17"
         ],
         "marker": {
          "color": [
           83.35,
           83.28,
           83.13,
           83.13,
           83.11,
           87.44
          ],
          "coloraxis": "coloraxis",
          "line": {
           "color": "Black",
           "width": 1
          },
          "opacity": 0.8,
          "size": [
           20,
           20,
           20,
           20,
           20,
           40
          ],
          "symbol": [
           "circle",
           "circle",
           "circle",
           "circle",
           "circle",
           "circle"
          ]
         },
         "mode": "markers",
         "name": "K-Nearest Neighbor",
         "type": "scatter",
         "x": [
          -8.843709945678711,
          -8.45572280883789,
          -8.163968086242676,
          -8.122844696044922,
          -8.926167488098145,
          22.184892654418945
         ],
         "xaxis": "x",
         "y": [
          -11.511995315551758,
          -11.125988960266113,
          -10.833921432495117,
          -10.792454719543457,
          -11.593725204467773,
          15.102185249328613
         ],
         "yaxis": "y"
        },
        {
         "hovertext": [
          "Support Vector Machine<br>Performance: 83.1%<br>Model ID: 694<br>Accuracy: 82.5%<br>Precision: 82.92%<br>Recall: 82.5%<br>ROC AUC: 89.98<br>Geometric Mean: 85.43<br>Matthews Correlation: 72.38<br>F1: 85.99<br>Log Loss: 0.62",
          "Support Vector Machine<br>Performance: 83.08%<br>Model ID: 650<br>Accuracy: 82.83%<br>Precision: 83.3%<br>Recall: 82.83%<br>ROC AUC: 90.14<br>Geometric Mean: 85.07<br>Matthews Correlation: 71.75<br>F1: 85.65<br>Log Loss: 0.71",
          "Support Vector Machine<br>Performance: 83.08%<br>Model ID: 646<br>Accuracy: 82.83%<br>Precision: 83.3%<br>Recall: 82.83%<br>ROC AUC: 90.15<br>Geometric Mean: 85.07<br>Matthews Correlation: 71.75<br>F1: 85.65<br>Log Loss: 0.69",
          "Support Vector Machine<br>Performance: 83.09%<br>Model ID: 642<br>Accuracy: 82.83%<br>Precision: 83.3%<br>Recall: 82.83%<br>ROC AUC: 90.19<br>Geometric Mean: 85.07<br>Matthews Correlation: 71.75<br>F1: 85.65<br>Log Loss: 0.68",
          "Support Vector Machine<br>Performance: 83.07%<br>Model ID: 654<br>Accuracy: 82.83%<br>Precision: 83.3%<br>Recall: 82.83%<br>ROC AUC: 90.09<br>Geometric Mean: 85.07<br>Matthews Correlation: 71.75<br>F1: 85.65<br>Log Loss: 0.69",
          "Support Vector Machine<br>Performance: 92.41%<br>Model ID: meta_2<br>Accuracy: 93.4%<br>Precision: 93.4%<br>Recall: 93.4%<br>ROC AUC: 93.29<br>Geometric Mean: 93.29<br>Matthews Correlation: 86.68<br>F1: 93.4<br>Log Loss: 227.98"
         ],
         "marker": {
          "color": [
           83.1,
           83.08,
           83.08,
           83.09,
           83.07,
           92.41
          ],
          "coloraxis": "coloraxis",
          "line": {
           "color": "Black",
           "width": 1
          },
          "opacity": 0.8,
          "size": [
           20,
           20,
           20,
           20,
           20,
           40
          ],
          "symbol": [
           "square",
           "square",
           "square",
           "square",
           "square",
           "square"
          ]
         },
         "mode": "markers",
         "name": "Support Vector Machine",
         "type": "scatter",
         "x": [
          -6.415189266204834,
          -6.77105712890625,
          -7.235861301422119,
          -7.115775108337402,
          -6.666925430297852,
          21.98782730102539
         ],
         "xaxis": "x",
         "y": [
          -24.29973602294922,
          -24.655651092529297,
          -25.120424270629883,
          -25.00033187866211,
          -24.55156135559082,
          15.704004287719727
         ],
         "yaxis": "y"
        },
        {
         "hovertext": [
          "Gaussian Naive Bayes<br>Performance: 80.97%<br>Model ID: 737<br>Accuracy: 80.51%<br>Precision: 80.65%<br>Recall: 80.51%<br>ROC AUC: 89.18<br>Geometric Mean: 83.79<br>Matthews Correlation: 68.01<br>F1: 84.11<br>Log Loss: 100.0",
          "Gaussian Naive Bayes<br>Performance: 80.97%<br>Model ID: 1066<br>Accuracy: 80.51%<br>Precision: 80.65%<br>Recall: 80.51%<br>ROC AUC: 89.18<br>Geometric Mean: 83.79<br>Matthews Correlation: 68.01<br>F1: 84.11<br>Log Loss: 34.0",
          "Gaussian Naive Bayes<br>Performance: 80.97%<br>Model ID: 1079<br>Accuracy: 80.51%<br>Precision: 80.65%<br>Recall: 80.51%<br>ROC AUC: 89.18<br>Geometric Mean: 83.79<br>Matthews Correlation: 68.01<br>F1: 84.11<br>Log Loss: 31.4",
          "Gaussian Naive Bayes<br>Performance: 80.97%<br>Model ID: 1078<br>Accuracy: 80.51%<br>Precision: 80.65%<br>Recall: 80.51%<br>ROC AUC: 89.18<br>Geometric Mean: 83.79<br>Matthews Correlation: 68.01<br>F1: 84.11<br>Log Loss: 31.6",
          "Gaussian Naive Bayes<br>Performance: 80.97%<br>Model ID: 1077<br>Accuracy: 80.51%<br>Precision: 80.65%<br>Recall: 80.51%<br>ROC AUC: 89.18<br>Geometric Mean: 83.79<br>Matthews Correlation: 68.01<br>F1: 84.11<br>Log Loss: 31.8",
          "Gaussian Naive Bayes<br>Performance: 93.21%<br>Model ID: meta_3<br>Accuracy: 94.06%<br>Precision: 94.07%<br>Recall: 94.06%<br>ROC AUC: 94.07<br>Geometric Mean: 94.07<br>Matthews Correlation: 88.05<br>F1: 94.06<br>Log Loss: 205.18"
         ],
         "marker": {
          "color": [
           80.97,
           80.97,
           80.97,
           80.97,
           80.97,
           93.21
          ],
          "coloraxis": "coloraxis",
          "line": {
           "color": "Black",
           "width": 1
          },
          "opacity": 0.8,
          "size": [
           20,
           20,
           20,
           20,
           20,
           40
          ],
          "symbol": [
           "x",
           "x",
           "x",
           "x",
           "x",
           "x"
          ]
         },
         "mode": "markers",
         "name": "Gaussian Naive Bayes",
         "type": "scatter",
         "x": [
          14.134435653686523,
          14.35009765625,
          13.609894752502441,
          13.701847076416016,
          14.015287399291992,
          21.476343154907227
         ],
         "xaxis": "x",
         "y": [
          2.0532400608062744,
          2.268787145614624,
          1.528668761253357,
          1.6204768419265747,
          1.93393874168396,
          14.997163772583008
         ],
         "yaxis": "y"
        },
        {
         "hovertext": [
          "Multilayer Perceptron<br>Performance: 79.22%<br>Model ID: 1262<br>Accuracy: 79.85%<br>Precision: 79.92%<br>Recall: 79.85%<br>ROC AUC: 85.88<br>Geometric Mean: 81.86<br>Matthews Correlation: 64.8<br>F1: 82.36<br>Log Loss: 17.56",
          "Multilayer Perceptron<br>Performance: 79.22%<br>Model ID: 1263<br>Accuracy: 79.85%<br>Precision: 79.92%<br>Recall: 79.85%<br>ROC AUC: 85.88<br>Geometric Mean: 81.86<br>Matthews Correlation: 64.8<br>F1: 82.36<br>Log Loss: 17.56",
          "Multilayer Perceptron<br>Performance: 79.22%<br>Model ID: 1261<br>Accuracy: 79.85%<br>Precision: 79.92%<br>Recall: 79.85%<br>ROC AUC: 85.88<br>Geometric Mean: 81.86<br>Matthews Correlation: 64.8<br>F1: 82.36<br>Log Loss: 17.56",
          "Multilayer Perceptron<br>Performance: 79.09%<br>Model ID: 1249<br>Accuracy: 79.52%<br>Precision: 79.59%<br>Recall: 79.52%<br>ROC AUC: 85.97<br>Geometric Mean: 81.86<br>Matthews Correlation: 64.8<br>F1: 82.36<br>Log Loss: 17.17",
          "Multilayer Perceptron<br>Performance: 79.09%<br>Model ID: 1251<br>Accuracy: 79.52%<br>Precision: 79.59%<br>Recall: 79.52%<br>ROC AUC: 85.97<br>Geometric Mean: 81.86<br>Matthews Correlation: 64.8<br>F1: 82.36<br>Log Loss: 17.17",
          "Multilayer Perceptron<br>Performance: 100.0%<br>Model ID: meta_4<br>Accuracy: 100.0%<br>Precision: 100.0%<br>Recall: 100.0%<br>ROC AUC: 100.0<br>Geometric Mean: 100.0<br>Matthews Correlation: 100.0<br>F1: 100.0<br>Log Loss: 0.0"
         ],
         "marker": {
          "color": [
           79.22,
           79.22,
           79.22,
           79.09,
           79.09,
           100
          ],
          "coloraxis": "coloraxis",
          "line": {
           "color": "Black",
           "width": 1
          },
          "opacity": 0.8,
          "size": [
           20,
           20,
           20,
           20,
           20,
           40
          ],
          "symbol": [
           "cross",
           "cross",
           "cross",
           "cross",
           "cross",
           "cross"
          ]
         },
         "mode": "markers",
         "name": "Multilayer Perceptron",
         "type": "scatter",
         "x": [
          27.312660217285156,
          27.5520076751709,
          27.168161392211914,
          27.7065372467041,
          27.9896240234375,
          23.750743865966797
         ],
         "xaxis": "x",
         "y": [
          25.840164184570312,
          26.07943344116211,
          25.695804595947266,
          26.234018325805664,
          26.517051696777344,
          15.632428169250488
         ],
         "yaxis": "y"
        },
        {
         "hovertext": [
          "Logistic Regression<br>Performance: 83.67%<br>Model ID: 1677<br>Accuracy: 84.14%<br>Precision: 84.66%<br>Recall: 84.14%<br>ROC AUC: 90.32<br>Geometric Mean: 85.13<br>Matthews Correlation: 71.65<br>F1: 85.67<br>Log Loss: 3.51",
          "Logistic Regression<br>Performance: 83.66%<br>Model ID: 1741<br>Accuracy: 84.46%<br>Precision: 84.98%<br>Recall: 84.46%<br>ROC AUC: 90.58<br>Geometric Mean: 84.83<br>Matthews Correlation: 70.93<br>F1: 85.35<br>Log Loss: 3.37",
          "Logistic Regression<br>Performance: 83.54%<br>Model ID: 1901<br>Accuracy: 83.8%<br>Precision: 84.26%<br>Recall: 83.8%<br>ROC AUC: 90.5<br>Geometric Mean: 85.13<br>Matthews Correlation: 71.65<br>F1: 85.67<br>Log Loss: 3.41",
          "Logistic Regression<br>Performance: 83.53%<br>Model ID: 1773<br>Accuracy: 84.14%<br>Precision: 84.64%<br>Recall: 84.14%<br>ROC AUC: 90.65<br>Geometric Mean: 84.77<br>Matthews Correlation: 71.02<br>F1: 85.33<br>Log Loss: 3.23",
          "Logistic Regression<br>Performance: 83.41%<br>Model ID: 1869<br>Accuracy: 83.48%<br>Precision: 83.92%<br>Recall: 83.48%<br>ROC AUC: 90.54<br>Geometric Mean: 85.07<br>Matthews Correlation: 71.75<br>F1: 85.65<br>Log Loss: 2.97",
          "Logistic Regression<br>Performance: 100.0%<br>Model ID: meta_5<br>Accuracy: 100.0%<br>Precision: 100.0%<br>Recall: 100.0%<br>ROC AUC: 100.0<br>Geometric Mean: 100.0<br>Matthews Correlation: 100.0<br>F1: 100.0<br>Log Loss: 0.0"
         ],
         "marker": {
          "color": [
           83.67,
           83.66,
           83.54,
           83.53,
           83.41,
           100
          ],
          "coloraxis": "coloraxis",
          "line": {
           "color": "Black",
           "width": 1
          },
          "opacity": 0.8,
          "size": [
           20,
           20,
           20,
           20,
           20,
           40
          ],
          "symbol": [
           "diamond",
           "diamond",
           "diamond",
           "diamond",
           "diamond",
           "diamond"
          ]
         },
         "mode": "markers",
         "name": "Logistic Regression",
         "type": "scatter",
         "x": [
          -18.725425720214844,
          -19.17374038696289,
          -19.56103515625,
          -18.865127563476562,
          -19.558021545410156,
          24.350725173950195
         ],
         "xaxis": "x",
         "y": [
          -8.323657989501953,
          -7.490047931671143,
          -8.00903606414795,
          -7.961199760437012,
          -7.110866546630859,
          15.885370254516602
         ],
         "yaxis": "y"
        },
        {
         "hovertext": [
          "Linear Discriminant Analysis<br>Performance: 82.31%<br>Model ID: 1997<br>Accuracy: 83.16%<br>Precision: 84.11%<br>Recall: 83.16%<br>ROC AUC: 89.99<br>Geometric Mean: 83.32<br>Matthews Correlation: 68.51<br>F1: 83.94<br>Log Loss: 0.0",
          "Linear Discriminant Analysis<br>Performance: 82.31%<br>Model ID: 1998<br>Accuracy: 83.16%<br>Precision: 84.11%<br>Recall: 83.16%<br>ROC AUC: 89.99<br>Geometric Mean: 83.32<br>Matthews Correlation: 68.51<br>F1: 83.94<br>Log Loss: 0.0",
          "Linear Discriminant Analysis<br>Performance: 73.45%<br>Model ID: 1999<br>Accuracy: 75.89%<br>Precision: 76.41%<br>Recall: 75.89%<br>ROC AUC: 82.6<br>Geometric Mean: 75.39<br>Matthews Correlation: 52.04<br>F1: 75.95<br>Log Loss: 31.9",
          "Linear Discriminant Analysis<br>Performance: 73.45%<br>Model ID: 2000<br>Accuracy: 75.89%<br>Precision: 76.41%<br>Recall: 75.89%<br>ROC AUC: 82.6<br>Geometric Mean: 75.39<br>Matthews Correlation: 52.04<br>F1: 75.95<br>Log Loss: 31.9",
          "Linear Discriminant Analysis<br>Performance: 71.08%<br>Model ID: 2001<br>Accuracy: 74.25%<br>Precision: 74.65%<br>Recall: 74.25%<br>ROC AUC: 79.07<br>Geometric Mean: 73.45<br>Matthews Correlation: 47.92<br>F1: 73.99<br>Log Loss: 41.85",
          "Linear Discriminant Analysis<br>Performance: 98.85%<br>Model ID: meta_6<br>Accuracy: 99.01%<br>Precision: 99.01%<br>Recall: 99.01%<br>ROC AUC: 98.97<br>Geometric Mean: 98.97<br>Matthews Correlation: 98.0<br>F1: 99.01<br>Log Loss: 34.2"
         ],
         "marker": {
          "color": [
           82.31,
           82.31,
           73.45,
           73.45,
           71.08,
           98.85
          ],
          "coloraxis": "coloraxis",
          "line": {
           "color": "Black",
           "width": 1
          },
          "opacity": 0.8,
          "size": [
           20,
           20,
           20,
           20,
           20,
           40
          ],
          "symbol": [
           "star",
           "star",
           "star",
           "star",
           "star",
           "star"
          ]
         },
         "mode": "markers",
         "name": "Linear Discriminant Analysis",
         "type": "scatter",
         "x": [
          -19.013673782348633,
          -19.41417121887207,
          5.579219818115234,
          6.03118896484375,
          5.803290367126465,
          24.150144577026367
         ],
         "xaxis": "x",
         "y": [
          -6.78855562210083,
          -6.459133625030518,
          -5.7555012702941895,
          -6.20732307434082,
          -5.979506015777588,
          15.546964645385742
         ],
         "yaxis": "y"
        },
        {
         "hovertext": [
          "Quadratic Discriminant Analysis<br>Performance: 83.44%<br>Model ID: 2227<br>Accuracy: 81.49%<br>Precision: 81.79%<br>Recall: 81.49%<br>ROC AUC: 88.84<br>Geometric Mean: 87.24<br>Matthews Correlation: 75.55<br>F1: 87.7<br>Log Loss: 0.03",
          "Quadratic Discriminant Analysis<br>Performance: 83.44%<br>Model ID: 2231<br>Accuracy: 81.49%<br>Precision: 81.79%<br>Recall: 81.49%<br>ROC AUC: 88.84<br>Geometric Mean: 87.24<br>Matthews Correlation: 75.55<br>F1: 87.7<br>Log Loss: 0.03",
          "Quadratic Discriminant Analysis<br>Performance: 83.44%<br>Model ID: 2230<br>Accuracy: 81.49%<br>Precision: 81.79%<br>Recall: 81.49%<br>ROC AUC: 88.84<br>Geometric Mean: 87.24<br>Matthews Correlation: 75.55<br>F1: 87.7<br>Log Loss: 0.03",
          "Quadratic Discriminant Analysis<br>Performance: 83.44%<br>Model ID: 2229<br>Accuracy: 81.49%<br>Precision: 81.79%<br>Recall: 81.49%<br>ROC AUC: 88.84<br>Geometric Mean: 87.24<br>Matthews Correlation: 75.55<br>F1: 87.7<br>Log Loss: 0.03",
          "Quadratic Discriminant Analysis<br>Performance: 83.44%<br>Model ID: 2228<br>Accuracy: 81.49%<br>Precision: 81.79%<br>Recall: 81.49%<br>ROC AUC: 88.84<br>Geometric Mean: 87.24<br>Matthews Correlation: 75.55<br>F1: 87.7<br>Log Loss: 0.03",
          "Quadratic Discriminant Analysis<br>Performance: 91.25%<br>Model ID: meta_7<br>Accuracy: 92.41%<br>Precision: 92.43%<br>Recall: 92.41%<br>ROC AUC: 92.2<br>Geometric Mean: 92.2<br>Matthews Correlation: 84.7<br>F1: 92.4<br>Log Loss: 262.18"
         ],
         "marker": {
          "color": [
           83.44,
           83.44,
           83.44,
           83.44,
           83.44,
           91.25
          ],
          "coloraxis": "coloraxis",
          "line": {
           "color": "Black",
           "width": 1
          },
          "opacity": 0.8,
          "size": [
           20,
           20,
           20,
           20,
           20,
           40
          ],
          "symbol": [
           "hexagram",
           "hexagram",
           "hexagram",
           "hexagram",
           "hexagram",
           "hexagram"
          ]
         },
         "mode": "markers",
         "name": "Quadratic Discriminant Analysis",
         "type": "scatter",
         "x": [
          0.14251726865768433,
          0.45853400230407715,
          0.04467114433646202,
          0.08330434560775757,
          -0.40978896617889404,
          21.764127731323242
         ],
         "xaxis": "x",
         "y": [
          7.556671619415283,
          7.054480075836182,
          7.059423446655273,
          6.706215858459473,
          7.28393030166626,
          14.751835823059082
         ],
         "yaxis": "y"
        },
        {
         "hovertext": [
          "Random Forest<br>Performance: 91.82%<br>Model ID: 2488<br>Accuracy: 84.13%<br>Precision: 84.34%<br>Recall: 84.13%<br>ROC AUC: 90.17<br>Geometric Mean: 100.0<br>Matthews Correlation: 100.0<br>F1: 100.0<br>Log Loss: 59.71",
          "Random Forest<br>Performance: 91.83%<br>Model ID: 2490<br>Accuracy: 84.13%<br>Precision: 84.31%<br>Recall: 84.13%<br>ROC AUC: 90.21<br>Geometric Mean: 100.0<br>Matthews Correlation: 100.0<br>F1: 100.0<br>Log Loss: 52.76",
          "Random Forest<br>Performance: 91.83%<br>Model ID: 2489<br>Accuracy: 84.13%<br>Precision: 84.34%<br>Recall: 84.13%<br>ROC AUC: 90.22<br>Geometric Mean: 100.0<br>Matthews Correlation: 100.0<br>F1: 100.0<br>Log Loss: 54.75",
          "Random Forest<br>Performance: 91.82%<br>Model ID: 2494<br>Accuracy: 84.13%<br>Precision: 84.38%<br>Recall: 84.13%<br>ROC AUC: 90.11<br>Geometric Mean: 100.0<br>Matthews Correlation: 100.0<br>F1: 100.0<br>Log Loss: 58.36",
          "Random Forest<br>Performance: 91.69%<br>Model ID: 2493<br>Accuracy: 83.8%<br>Precision: 84.02%<br>Recall: 83.8%<br>ROC AUC: 90.22<br>Geometric Mean: 100.0<br>Matthews Correlation: 100.0<br>F1: 100.0<br>Log Loss: 57.04",
          "Random Forest<br>Performance: 90.91%<br>Model ID: meta_8<br>Accuracy: 92.08%<br>Precision: 92.08%<br>Recall: 92.08%<br>ROC AUC: 92.02<br>Geometric Mean: 92.02<br>Matthews Correlation: 84.03<br>F1: 92.08<br>Log Loss: 273.58"
         ],
         "marker": {
          "color": [
           91.82,
           91.83,
           91.83,
           91.82,
           91.69,
           90.91
          ],
          "coloraxis": "coloraxis",
          "line": {
           "color": "Black",
           "width": 1
          },
          "opacity": 0.8,
          "size": [
           20,
           20,
           20,
           20,
           20,
           40
          ],
          "symbol": [
           "triangle-right",
           "triangle-right",
           "triangle-right",
           "triangle-right",
           "triangle-right",
           "triangle-right"
          ]
         },
         "mode": "markers",
         "name": "Random Forest",
         "type": "scatter",
         "x": [
          21.41119384765625,
          21.45931053161621,
          21.09552001953125,
          20.851776123046875,
          21.120677947998047,
          22.102907180786133
         ],
         "xaxis": "x",
         "y": [
          17.949445724487305,
          17.983203887939453,
          18.301437377929688,
          17.907302856445312,
          17.586952209472656,
          16.13180923461914
         ],
         "yaxis": "y"
        },
        {
         "hovertext": [
          "Extra Trees<br>Performance: 92.27%<br>Model ID: 2667<br>Accuracy: 84.81%<br>Precision: 85.07%<br>Recall: 84.81%<br>ROC AUC: 91.22<br>Geometric Mean: 100.0<br>Matthews Correlation: 100.0<br>F1: 100.0<br>Log Loss: 0.0",
          "Extra Trees<br>Performance: 92.24%<br>Model ID: 2659<br>Accuracy: 84.8%<br>Precision: 84.98%<br>Recall: 84.8%<br>ROC AUC: 91.07<br>Geometric Mean: 100.0<br>Matthews Correlation: 100.0<br>F1: 100.0<br>Log Loss: 0.0",
          "Extra Trees<br>Performance: 92.24%<br>Model ID: 2660<br>Accuracy: 84.8%<br>Precision: 84.98%<br>Recall: 84.8%<br>ROC AUC: 91.07<br>Geometric Mean: 100.0<br>Matthews Correlation: 100.0<br>F1: 100.0<br>Log Loss: 0.0",
          "Extra Trees<br>Performance: 92.19%<br>Model ID: 2714<br>Accuracy: 84.48%<br>Precision: 84.59%<br>Recall: 84.48%<br>ROC AUC: 91.8<br>Geometric Mean: 100.0<br>Matthews Correlation: 100.0<br>F1: 100.0<br>Log Loss: 0.0",
          "Extra Trees<br>Performance: 92.19%<br>Model ID: 2715<br>Accuracy: 84.48%<br>Precision: 84.59%<br>Recall: 84.48%<br>ROC AUC: 91.76<br>Geometric Mean: 100.0<br>Matthews Correlation: 100.0<br>F1: 100.0<br>Log Loss: 0.0",
          "Extra Trees<br>Performance: 96.33%<br>Model ID: meta_9<br>Accuracy: 96.7%<br>Precision: 96.85%<br>Recall: 96.7%<br>ROC AUC: 96.91<br>Geometric Mean: 96.91<br>Matthews Correlation: 93.51<br>F1: 96.71<br>Log Loss: 113.99"
         ],
         "marker": {
          "color": [
           92.27,
           92.24,
           92.24,
           92.19,
           92.19,
           96.33
          ],
          "coloraxis": "coloraxis",
          "line": {
           "color": "Black",
           "width": 1
          },
          "opacity": 0.8,
          "size": [
           20,
           20,
           20,
           20,
           20,
           40
          ],
          "symbol": [
           "triangle-left",
           "triangle-left",
           "triangle-left",
           "triangle-left",
           "triangle-left",
           "triangle-left"
          ]
         },
         "mode": "markers",
         "name": "Extra Trees",
         "type": "scatter",
         "x": [
          9.926240921020508,
          10.184829711914062,
          9.975261688232422,
          9.30220890045166,
          9.50455379486084,
          22.61897087097168
         ],
         "xaxis": "x",
         "y": [
          17.314245223999023,
          17.572708129882812,
          17.36320686340332,
          16.688461303710938,
          16.89145851135254,
          15.821386337280273
         ],
         "yaxis": "y"
        },
        {
         "hovertext": [
          "Adaptive Boosting<br>Performance: 85.49%<br>Model ID: 2808<br>Accuracy: 80.83%<br>Precision: 81.1%<br>Recall: 80.83%<br>ROC AUC: 87.46<br>Geometric Mean: 92.08<br>Matthews Correlation: 84.06<br>F1: 92.08<br>Log Loss: 91.04",
          "Adaptive Boosting<br>Performance: 85.37%<br>Model ID: 2845<br>Accuracy: 80.16%<br>Precision: 80.31%<br>Recall: 80.16%<br>ROC AUC: 83.52<br>Geometric Mean: 93.35<br>Matthews Correlation: 86.69<br>F1: 93.4<br>Log Loss: 99.49",
          "Adaptive Boosting<br>Performance: 85.29%<br>Model ID: 2811<br>Accuracy: 80.5%<br>Precision: 80.76%<br>Recall: 80.5%<br>ROC AUC: 86.95<br>Geometric Mean: 92.13<br>Matthews Correlation: 84.1<br>F1: 92.09<br>Log Loss: 92.25",
          "Adaptive Boosting<br>Performance: 85.19%<br>Model ID: 2812<br>Accuracy: 80.16%<br>Precision: 80.52%<br>Recall: 80.16%<br>ROC AUC: 87.19<br>Geometric Mean: 92.13<br>Matthews Correlation: 84.1<br>F1: 92.09<br>Log Loss: 92.14",
          "Adaptive Boosting<br>Performance: 85.18%<br>Model ID: 2809<br>Accuracy: 80.17%<br>Precision: 80.42%<br>Recall: 80.17%<br>ROC AUC: 87.3<br>Geometric Mean: 92.08<br>Matthews Correlation: 84.06<br>F1: 92.08<br>Log Loss: 91.13",
          "Adaptive Boosting<br>Performance: 93.03%<br>Model ID: meta_10<br>Accuracy: 93.73%<br>Precision: 94.1%<br>Recall: 93.73%<br>ROC AUC: 94.06<br>Geometric Mean: 94.06<br>Matthews Correlation: 87.78<br>F1: 93.74<br>Log Loss: 216.58"
         ],
         "marker": {
          "color": [
           85.49,
           85.37,
           85.29,
           85.19,
           85.18,
           93.03
          ],
          "coloraxis": "coloraxis",
          "line": {
           "color": "Black",
           "width": 1
          },
          "opacity": 0.8,
          "size": [
           20,
           20,
           20,
           20,
           20,
           40
          ],
          "symbol": [
           "triangle-down",
           "triangle-down",
           "triangle-down",
           "triangle-down",
           "triangle-down",
           "triangle-down"
          ]
         },
         "mode": "markers",
         "name": "Adaptive Boosting",
         "type": "scatter",
         "x": [
          -6.372037887573242,
          -7.114454746246338,
          -6.905268669128418,
          -6.696166515350342,
          -6.308199882507324,
          -6.259574890136719
         ],
         "xaxis": "x",
         "y": [
          -5.22589111328125,
          -5.050558090209961,
          -4.475541591644287,
          -4.785443305969238,
          -4.989073753356934,
          -4.550291061401367
         ],
         "yaxis": "y"
        },
        {
         "hovertext": [
          "Gradient Boosting<br>Performance: 89.77%<br>Model ID: 3030<br>Accuracy: 80.83%<br>Precision: 81.59%<br>Recall: 80.83%<br>ROC AUC: 87.84<br>Geometric Mean: 99.28<br>Matthews Correlation: 98.68<br>F1: 99.34<br>Log Loss: 3.39",
          "Gradient Boosting<br>Performance: 89.76%<br>Model ID: 3029<br>Accuracy: 80.83%<br>Precision: 81.59%<br>Recall: 80.83%<br>ROC AUC: 87.8<br>Geometric Mean: 99.28<br>Matthews Correlation: 98.68<br>F1: 99.34<br>Log Loss: 3.61",
          "Gradient Boosting<br>Performance: 89.76%<br>Model ID: 2969<br>Accuracy: 80.83%<br>Precision: 81.59%<br>Recall: 80.83%<br>ROC AUC: 87.77<br>Geometric Mean: 99.28<br>Matthews Correlation: 98.68<br>F1: 99.34<br>Log Loss: 3.61",
          "Gradient Boosting<br>Performance: 89.77%<br>Model ID: 2970<br>Accuracy: 80.83%<br>Precision: 81.59%<br>Recall: 80.83%<br>ROC AUC: 87.82<br>Geometric Mean: 99.28<br>Matthews Correlation: 98.68<br>F1: 99.34<br>Log Loss: 3.39",
          "Gradient Boosting<br>Performance: 89.75%<br>Model ID: 3026<br>Accuracy: 80.83%<br>Precision: 81.45%<br>Recall: 80.83%<br>ROC AUC: 87.84<br>Geometric Mean: 99.28<br>Matthews Correlation: 98.68<br>F1: 99.34<br>Log Loss: 4.1",
          "Gradient Boosting<br>Performance: 93.55%<br>Model ID: meta_11<br>Accuracy: 94.39%<br>Precision: 94.39%<br>Recall: 94.39%<br>ROC AUC: 94.31<br>Geometric Mean: 94.31<br>Matthews Correlation: 88.68<br>F1: 94.39<br>Log Loss: 193.78"
         ],
         "marker": {
          "color": [
           89.77,
           89.76,
           89.76,
           89.77,
           89.75,
           93.55
          ],
          "coloraxis": "coloraxis",
          "line": {
           "color": "Black",
           "width": 1
          },
          "opacity": 0.8,
          "size": [
           20,
           20,
           20,
           20,
           20,
           40
          ],
          "symbol": [
           "triangle-up",
           "triangle-up",
           "triangle-up",
           "triangle-up",
           "triangle-up",
           "triangle-up"
          ]
         },
         "mode": "markers",
         "name": "Gradient Boosting",
         "type": "scatter",
         "x": [
          -4.119498252868652,
          -4.5147929191589355,
          -3.9576807022094727,
          -4.242914199829102,
          -3.928645133972168,
          21.742223739624023
         ],
         "xaxis": "x",
         "y": [
          3.7268319129943848,
          4.078341484069824,
          4.3635945320129395,
          3.972479820251465,
          3.8324849605560303,
          16.437068939208984
         ],
         "yaxis": "y"
        },
        {
         "hovertext": [
          "K-Nearest Neighbor<br>Performance: 83.35%<br>Model ID: 452<br>Accuracy: 70.31%<br>Precision: 70.36%<br>Recall: 70.31%<br>ROC AUC: 72.5<br>Geometric Mean: 100.0<br>Matthews Correlation: 100.0<br>F1: 100.0<br>Log Loss: 0.0",
          "K-Nearest Neighbor<br>Performance: 83.28%<br>Model ID: 288<br>Accuracy: 69.62%<br>Precision: 69.8%<br>Recall: 69.62%<br>ROC AUC: 73.91<br>Geometric Mean: 100.0<br>Matthews Correlation: 100.0<br>F1: 100.0<br>Log Loss: 0.0",
          "K-Nearest Neighbor<br>Performance: 83.13%<br>Model ID: 96<br>Accuracy: 69.29%<br>Precision: 69.48%<br>Recall: 69.29%<br>ROC AUC: 73.84<br>Geometric Mean: 100.0<br>Matthews Correlation: 100.0<br>F1: 100.0<br>Log Loss: 0.0",
          "K-Nearest Neighbor<br>Performance: 83.13%<br>Model ID: 480<br>Accuracy: 69.29%<br>Precision: 69.48%<br>Recall: 69.29%<br>ROC AUC: 73.82<br>Geometric Mean: 100.0<br>Matthews Correlation: 100.0<br>F1: 100.0<br>Log Loss: 0.0",
          "K-Nearest Neighbor<br>Performance: 83.11%<br>Model ID: 458<br>Accuracy: 69.64%<br>Precision: 69.61%<br>Recall: 69.64%<br>ROC AUC: 72.85<br>Geometric Mean: 100.0<br>Matthews Correlation: 100.0<br>F1: 100.0<br>Log Loss: 0.0",
          "K-Nearest Neighbor<br>Performance: 87.44%<br>Model ID: meta_1<br>Accuracy: 89.11%<br>Precision: 89.41%<br>Recall: 89.11%<br>ROC AUC: 88.58<br>Geometric Mean: 88.58<br>Matthews Correlation: 78.24<br>F1: 89.03<br>Log Loss: 376.17"
         ],
         "marker": {
          "color": [
           83.35,
           83.28,
           83.13,
           83.13,
           83.11,
           87.44
          ],
          "coloraxis": "coloraxis",
          "line": {
           "color": "Black",
           "width": 1
          },
          "opacity": 0.8,
          "size": [
           20,
           20,
           20,
           20,
           20,
           40
          ],
          "symbol": [
           "circle",
           "circle",
           "circle",
           "circle",
           "circle",
           "circle"
          ]
         },
         "mode": "markers",
         "name": "K-Nearest Neighbor",
         "type": "scatter",
         "x": [
          4.303889751434326,
          4.023540019989014,
          3.685521125793457,
          4.282601833343506,
          4.019190788269043,
          -7.275606632232666
         ],
         "xaxis": "x",
         "y": [
          16.409149169921875,
          15.69067668914795,
          16.121381759643555,
          15.679655075073242,
          16.539587020874023,
          0.00962025299668312
         ],
         "yaxis": "y"
        },
        {
         "hovertext": [
          "Support Vector Machine<br>Performance: 83.1%<br>Model ID: 694<br>Accuracy: 82.5%<br>Precision: 82.92%<br>Recall: 82.5%<br>ROC AUC: 89.98<br>Geometric Mean: 85.43<br>Matthews Correlation: 72.38<br>F1: 85.99<br>Log Loss: 0.62",
          "Support Vector Machine<br>Performance: 83.08%<br>Model ID: 650<br>Accuracy: 82.83%<br>Precision: 83.3%<br>Recall: 82.83%<br>ROC AUC: 90.14<br>Geometric Mean: 85.07<br>Matthews Correlation: 71.75<br>F1: 85.65<br>Log Loss: 0.71",
          "Support Vector Machine<br>Performance: 83.08%<br>Model ID: 646<br>Accuracy: 82.83%<br>Precision: 83.3%<br>Recall: 82.83%<br>ROC AUC: 90.15<br>Geometric Mean: 85.07<br>Matthews Correlation: 71.75<br>F1: 85.65<br>Log Loss: 0.69",
          "Support Vector Machine<br>Performance: 83.09%<br>Model ID: 642<br>Accuracy: 82.83%<br>Precision: 83.3%<br>Recall: 82.83%<br>ROC AUC: 90.19<br>Geometric Mean: 85.07<br>Matthews Correlation: 71.75<br>F1: 85.65<br>Log Loss: 0.68",
          "Support Vector Machine<br>Performance: 83.07%<br>Model ID: 654<br>Accuracy: 82.83%<br>Precision: 83.3%<br>Recall: 82.83%<br>ROC AUC: 90.09<br>Geometric Mean: 85.07<br>Matthews Correlation: 71.75<br>F1: 85.65<br>Log Loss: 0.69",
          "Support Vector Machine<br>Performance: 92.41%<br>Model ID: meta_2<br>Accuracy: 93.4%<br>Precision: 93.4%<br>Recall: 93.4%<br>ROC AUC: 93.29<br>Geometric Mean: 93.29<br>Matthews Correlation: 86.68<br>F1: 93.4<br>Log Loss: 227.98"
         ],
         "marker": {
          "color": [
           83.1,
           83.08,
           83.08,
           83.09,
           83.07,
           92.41
          ],
          "coloraxis": "coloraxis",
          "line": {
           "color": "Black",
           "width": 1
          },
          "opacity": 0.8,
          "size": [
           20,
           20,
           20,
           20,
           20,
           40
          ],
          "symbol": [
           "square",
           "square",
           "square",
           "square",
           "square",
           "square"
          ]
         },
         "mode": "markers",
         "name": "Support Vector Machine",
         "type": "scatter",
         "x": [
          7.271553039550781,
          6.943786144256592,
          6.6799235343933105,
          7.310686111450195,
          7.145054340362549,
          -6.76939058303833
         ],
         "xaxis": "x",
         "y": [
          10.1504545211792,
          9.746915817260742,
          9.707629203796387,
          9.418535232543945,
          9.495667457580566,
          -0.12250913679599762
         ],
         "yaxis": "y"
        },
        {
         "hovertext": [
          "Gaussian Naive Bayes<br>Performance: 80.97%<br>Model ID: 737<br>Accuracy: 80.51%<br>Precision: 80.65%<br>Recall: 80.51%<br>ROC AUC: 89.18<br>Geometric Mean: 83.79<br>Matthews Correlation: 68.01<br>F1: 84.11<br>Log Loss: 100.0",
          "Gaussian Naive Bayes<br>Performance: 80.97%<br>Model ID: 1066<br>Accuracy: 80.51%<br>Precision: 80.65%<br>Recall: 80.51%<br>ROC AUC: 89.18<br>Geometric Mean: 83.79<br>Matthews Correlation: 68.01<br>F1: 84.11<br>Log Loss: 34.0",
          "Gaussian Naive Bayes<br>Performance: 80.97%<br>Model ID: 1079<br>Accuracy: 80.51%<br>Precision: 80.65%<br>Recall: 80.51%<br>ROC AUC: 89.18<br>Geometric Mean: 83.79<br>Matthews Correlation: 68.01<br>F1: 84.11<br>Log Loss: 31.4",
          "Gaussian Naive Bayes<br>Performance: 80.97%<br>Model ID: 1078<br>Accuracy: 80.51%<br>Precision: 80.65%<br>Recall: 80.51%<br>ROC AUC: 89.18<br>Geometric Mean: 83.79<br>Matthews Correlation: 68.01<br>F1: 84.11<br>Log Loss: 31.6",
          "Gaussian Naive Bayes<br>Performance: 80.97%<br>Model ID: 1077<br>Accuracy: 80.51%<br>Precision: 80.65%<br>Recall: 80.51%<br>ROC AUC: 89.18<br>Geometric Mean: 83.79<br>Matthews Correlation: 68.01<br>F1: 84.11<br>Log Loss: 31.8",
          "Gaussian Naive Bayes<br>Performance: 93.21%<br>Model ID: meta_3<br>Accuracy: 94.06%<br>Precision: 94.07%<br>Recall: 94.06%<br>ROC AUC: 94.07<br>Geometric Mean: 94.07<br>Matthews Correlation: 88.05<br>F1: 94.06<br>Log Loss: 205.18"
         ],
         "marker": {
          "color": [
           80.97,
           80.97,
           80.97,
           80.97,
           80.97,
           93.21
          ],
          "coloraxis": "coloraxis",
          "line": {
           "color": "Black",
           "width": 1
          },
          "opacity": 0.8,
          "size": [
           20,
           20,
           20,
           20,
           20,
           40
          ],
          "symbol": [
           "x",
           "x",
           "x",
           "x",
           "x",
           "x"
          ]
         },
         "mode": "markers",
         "name": "Gaussian Naive Bayes",
         "type": "scatter",
         "x": [
          19.083555221557617,
          19.376861572265625,
          19.1738338470459,
          18.81409454345703,
          19.577701568603516,
          -7.234172344207764
         ],
         "xaxis": "x",
         "y": [
          6.859956741333008,
          7.153598308563232,
          6.950606822967529,
          6.590890884399414,
          7.354959964752197,
          0.7074722051620483
         ],
         "yaxis": "y"
        },
        {
         "hovertext": [
          "Multilayer Perceptron<br>Performance: 79.22%<br>Model ID: 1262<br>Accuracy: 79.85%<br>Precision: 79.92%<br>Recall: 79.85%<br>ROC AUC: 85.88<br>Geometric Mean: 81.86<br>Matthews Correlation: 64.8<br>F1: 82.36<br>Log Loss: 17.56",
          "Multilayer Perceptron<br>Performance: 79.22%<br>Model ID: 1263<br>Accuracy: 79.85%<br>Precision: 79.92%<br>Recall: 79.85%<br>ROC AUC: 85.88<br>Geometric Mean: 81.86<br>Matthews Correlation: 64.8<br>F1: 82.36<br>Log Loss: 17.56",
          "Multilayer Perceptron<br>Performance: 79.22%<br>Model ID: 1261<br>Accuracy: 79.85%<br>Precision: 79.92%<br>Recall: 79.85%<br>ROC AUC: 85.88<br>Geometric Mean: 81.86<br>Matthews Correlation: 64.8<br>F1: 82.36<br>Log Loss: 17.56",
          "Multilayer Perceptron<br>Performance: 79.09%<br>Model ID: 1249<br>Accuracy: 79.52%<br>Precision: 79.59%<br>Recall: 79.52%<br>ROC AUC: 85.97<br>Geometric Mean: 81.86<br>Matthews Correlation: 64.8<br>F1: 82.36<br>Log Loss: 17.17",
          "Multilayer Perceptron<br>Performance: 79.09%<br>Model ID: 1251<br>Accuracy: 79.52%<br>Precision: 79.59%<br>Recall: 79.52%<br>ROC AUC: 85.97<br>Geometric Mean: 81.86<br>Matthews Correlation: 64.8<br>F1: 82.36<br>Log Loss: 17.17",
          "Multilayer Perceptron<br>Performance: 100.0%<br>Model ID: meta_4<br>Accuracy: 100.0%<br>Precision: 100.0%<br>Recall: 100.0%<br>ROC AUC: 100.0<br>Geometric Mean: 100.0<br>Matthews Correlation: 100.0<br>F1: 100.0<br>Log Loss: 0.0"
         ],
         "marker": {
          "color": [
           79.22,
           79.22,
           79.22,
           79.09,
           79.09,
           100
          ],
          "coloraxis": "coloraxis",
          "line": {
           "color": "Black",
           "width": 1
          },
          "opacity": 0.8,
          "size": [
           20,
           20,
           20,
           20,
           20,
           40
          ],
          "symbol": [
           "cross",
           "cross",
           "cross",
           "cross",
           "cross",
           "cross"
          ]
         },
         "mode": "markers",
         "name": "Multilayer Perceptron",
         "type": "scatter",
         "x": [
          2.185788869857788,
          1.6705610752105713,
          1.7650821208953857,
          2.0410242080688477,
          2.342925786972046,
          -6.460866451263428
         ],
         "xaxis": "x",
         "y": [
          -19.436935424804688,
          -19.952106475830078,
          -19.85763168334961,
          -19.581697463989258,
          -19.27978515625,
          0.9907984137535095
         ],
         "yaxis": "y"
        },
        {
         "hovertext": [
          "Logistic Regression<br>Performance: 83.67%<br>Model ID: 1677<br>Accuracy: 84.14%<br>Precision: 84.66%<br>Recall: 84.14%<br>ROC AUC: 90.32<br>Geometric Mean: 85.13<br>Matthews Correlation: 71.65<br>F1: 85.67<br>Log Loss: 3.51",
          "Logistic Regression<br>Performance: 83.66%<br>Model ID: 1741<br>Accuracy: 84.46%<br>Precision: 84.98%<br>Recall: 84.46%<br>ROC AUC: 90.58<br>Geometric Mean: 84.83<br>Matthews Correlation: 70.93<br>F1: 85.35<br>Log Loss: 3.37",
          "Logistic Regression<br>Performance: 83.54%<br>Model ID: 1901<br>Accuracy: 83.8%<br>Precision: 84.26%<br>Recall: 83.8%<br>ROC AUC: 90.5<br>Geometric Mean: 85.13<br>Matthews Correlation: 71.65<br>F1: 85.67<br>Log Loss: 3.41",
          "Logistic Regression<br>Performance: 83.53%<br>Model ID: 1773<br>Accuracy: 84.14%<br>Precision: 84.64%<br>Recall: 84.14%<br>ROC AUC: 90.65<br>Geometric Mean: 84.77<br>Matthews Correlation: 71.02<br>F1: 85.33<br>Log Loss: 3.23",
          "Logistic Regression<br>Performance: 83.41%<br>Model ID: 1869<br>Accuracy: 83.48%<br>Precision: 83.92%<br>Recall: 83.48%<br>ROC AUC: 90.54<br>Geometric Mean: 85.07<br>Matthews Correlation: 71.75<br>F1: 85.65<br>Log Loss: 2.97",
          "Logistic Regression<br>Performance: 100.0%<br>Model ID: meta_5<br>Accuracy: 100.0%<br>Precision: 100.0%<br>Recall: 100.0%<br>ROC AUC: 100.0<br>Geometric Mean: 100.0<br>Matthews Correlation: 100.0<br>F1: 100.0<br>Log Loss: 0.0"
         ],
         "marker": {
          "color": [
           83.67,
           83.66,
           83.54,
           83.53,
           83.41,
           100
          ],
          "coloraxis": "coloraxis",
          "line": {
           "color": "Black",
           "width": 1
          },
          "opacity": 0.8,
          "size": [
           20,
           20,
           20,
           20,
           20,
           40
          ],
          "symbol": [
           "diamond",
           "diamond",
           "diamond",
           "diamond",
           "diamond",
           "diamond"
          ]
         },
         "mode": "markers",
         "name": "Logistic Regression",
         "type": "scatter",
         "x": [
          -3.3055942058563232,
          -3.144024133682251,
          -2.704322576522827,
          -3.253755569458008,
          -2.888777256011963,
          -5.814448356628418
         ],
         "xaxis": "x",
         "y": [
          -25.38756561279297,
          -25.529300689697266,
          -25.160198211669922,
          -25.06568145751953,
          -24.57924461364746,
          0.6441690325737
         ],
         "yaxis": "y"
        },
        {
         "hovertext": [
          "Linear Discriminant Analysis<br>Performance: 82.31%<br>Model ID: 1997<br>Accuracy: 83.16%<br>Precision: 84.11%<br>Recall: 83.16%<br>ROC AUC: 89.99<br>Geometric Mean: 83.32<br>Matthews Correlation: 68.51<br>F1: 83.94<br>Log Loss: 0.0",
          "Linear Discriminant Analysis<br>Performance: 82.31%<br>Model ID: 1998<br>Accuracy: 83.16%<br>Precision: 84.11%<br>Recall: 83.16%<br>ROC AUC: 89.99<br>Geometric Mean: 83.32<br>Matthews Correlation: 68.51<br>F1: 83.94<br>Log Loss: 0.0",
          "Linear Discriminant Analysis<br>Performance: 73.45%<br>Model ID: 1999<br>Accuracy: 75.89%<br>Precision: 76.41%<br>Recall: 75.89%<br>ROC AUC: 82.6<br>Geometric Mean: 75.39<br>Matthews Correlation: 52.04<br>F1: 75.95<br>Log Loss: 31.9",
          "Linear Discriminant Analysis<br>Performance: 73.45%<br>Model ID: 2000<br>Accuracy: 75.89%<br>Precision: 76.41%<br>Recall: 75.89%<br>ROC AUC: 82.6<br>Geometric Mean: 75.39<br>Matthews Correlation: 52.04<br>F1: 75.95<br>Log Loss: 31.9",
          "Linear Discriminant Analysis<br>Performance: 71.08%<br>Model ID: 2001<br>Accuracy: 74.25%<br>Precision: 74.65%<br>Recall: 74.25%<br>ROC AUC: 79.07<br>Geometric Mean: 73.45<br>Matthews Correlation: 47.92<br>F1: 73.99<br>Log Loss: 41.85",
          "Linear Discriminant Analysis<br>Performance: 98.85%<br>Model ID: meta_6<br>Accuracy: 99.01%<br>Precision: 99.01%<br>Recall: 99.01%<br>ROC AUC: 98.97<br>Geometric Mean: 98.97<br>Matthews Correlation: 98.0<br>F1: 99.01<br>Log Loss: 34.2"
         ],
         "marker": {
          "color": [
           82.31,
           82.31,
           73.45,
           73.45,
           71.08,
           98.85
          ],
          "coloraxis": "coloraxis",
          "line": {
           "color": "Black",
           "width": 1
          },
          "opacity": 0.8,
          "size": [
           20,
           20,
           20,
           20,
           20,
           40
          ],
          "symbol": [
           "star",
           "star",
           "star",
           "star",
           "star",
           "star"
          ]
         },
         "mode": "markers",
         "name": "Linear Discriminant Analysis",
         "type": "scatter",
         "x": [
          -2.4724905490875244,
          -2.7311670780181885,
          4.920060634613037,
          4.995835781097412,
          4.538660526275635,
          -5.909073829650879
         ],
         "xaxis": "x",
         "y": [
          -24.374778747558594,
          -24.138988494873047,
          14.761433601379395,
          14.979923248291016,
          14.655879020690918,
          1.2370662689208984
         ],
         "yaxis": "y"
        },
        {
         "hovertext": [
          "Quadratic Discriminant Analysis<br>Performance: 83.44%<br>Model ID: 2227<br>Accuracy: 81.49%<br>Precision: 81.79%<br>Recall: 81.49%<br>ROC AUC: 88.84<br>Geometric Mean: 87.24<br>Matthews Correlation: 75.55<br>F1: 87.7<br>Log Loss: 0.03",
          "Quadratic Discriminant Analysis<br>Performance: 83.44%<br>Model ID: 2231<br>Accuracy: 81.49%<br>Precision: 81.79%<br>Recall: 81.49%<br>ROC AUC: 88.84<br>Geometric Mean: 87.24<br>Matthews Correlation: 75.55<br>F1: 87.7<br>Log Loss: 0.03",
          "Quadratic Discriminant Analysis<br>Performance: 83.44%<br>Model ID: 2230<br>Accuracy: 81.49%<br>Precision: 81.79%<br>Recall: 81.49%<br>ROC AUC: 88.84<br>Geometric Mean: 87.24<br>Matthews Correlation: 75.55<br>F1: 87.7<br>Log Loss: 0.03",
          "Quadratic Discriminant Analysis<br>Performance: 83.44%<br>Model ID: 2229<br>Accuracy: 81.49%<br>Precision: 81.79%<br>Recall: 81.49%<br>ROC AUC: 88.84<br>Geometric Mean: 87.24<br>Matthews Correlation: 75.55<br>F1: 87.7<br>Log Loss: 0.03",
          "Quadratic Discriminant Analysis<br>Performance: 83.44%<br>Model ID: 2228<br>Accuracy: 81.49%<br>Precision: 81.79%<br>Recall: 81.49%<br>ROC AUC: 88.84<br>Geometric Mean: 87.24<br>Matthews Correlation: 75.55<br>F1: 87.7<br>Log Loss: 0.03",
          "Quadratic Discriminant Analysis<br>Performance: 91.25%<br>Model ID: meta_7<br>Accuracy: 92.41%<br>Precision: 92.43%<br>Recall: 92.41%<br>ROC AUC: 92.2<br>Geometric Mean: 92.2<br>Matthews Correlation: 84.7<br>F1: 92.4<br>Log Loss: 262.18"
         ],
         "marker": {
          "color": [
           83.44,
           83.44,
           83.44,
           83.44,
           83.44,
           91.25
          ],
          "coloraxis": "coloraxis",
          "line": {
           "color": "Black",
           "width": 1
          },
          "opacity": 0.8,
          "size": [
           20,
           20,
           20,
           20,
           20,
           40
          ],
          "symbol": [
           "hexagram",
           "hexagram",
           "hexagram",
           "hexagram",
           "hexagram",
           "hexagram"
          ]
         },
         "mode": "markers",
         "name": "Quadratic Discriminant Analysis",
         "type": "scatter",
         "x": [
          -9.381078720092773,
          -9.626401901245117,
          -9.897854804992676,
          -9.167920112609863,
          -9.430127143859863,
          -7.388336658477783
         ],
         "xaxis": "x",
         "y": [
          11.871601104736328,
          12.117090225219727,
          12.388649940490723,
          11.658564567565918,
          11.920655250549316,
          0.47127971053123474
         ],
         "yaxis": "y"
        },
        {
         "hovertext": [
          "Random Forest<br>Performance: 91.82%<br>Model ID: 2488<br>Accuracy: 84.13%<br>Precision: 84.34%<br>Recall: 84.13%<br>ROC AUC: 90.17<br>Geometric Mean: 100.0<br>Matthews Correlation: 100.0<br>F1: 100.0<br>Log Loss: 59.71",
          "Random Forest<br>Performance: 91.83%<br>Model ID: 2490<br>Accuracy: 84.13%<br>Precision: 84.31%<br>Recall: 84.13%<br>ROC AUC: 90.21<br>Geometric Mean: 100.0<br>Matthews Correlation: 100.0<br>F1: 100.0<br>Log Loss: 52.76",
          "Random Forest<br>Performance: 91.83%<br>Model ID: 2489<br>Accuracy: 84.13%<br>Precision: 84.34%<br>Recall: 84.13%<br>ROC AUC: 90.22<br>Geometric Mean: 100.0<br>Matthews Correlation: 100.0<br>F1: 100.0<br>Log Loss: 54.75",
          "Random Forest<br>Performance: 91.82%<br>Model ID: 2494<br>Accuracy: 84.13%<br>Precision: 84.38%<br>Recall: 84.13%<br>ROC AUC: 90.11<br>Geometric Mean: 100.0<br>Matthews Correlation: 100.0<br>F1: 100.0<br>Log Loss: 58.36",
          "Random Forest<br>Performance: 91.69%<br>Model ID: 2493<br>Accuracy: 83.8%<br>Precision: 84.02%<br>Recall: 83.8%<br>ROC AUC: 90.22<br>Geometric Mean: 100.0<br>Matthews Correlation: 100.0<br>F1: 100.0<br>Log Loss: 57.04",
          "Random Forest<br>Performance: 90.91%<br>Model ID: meta_8<br>Accuracy: 92.08%<br>Precision: 92.08%<br>Recall: 92.08%<br>ROC AUC: 92.02<br>Geometric Mean: 92.02<br>Matthews Correlation: 84.03<br>F1: 92.08<br>Log Loss: 273.58"
         ],
         "marker": {
          "color": [
           91.82,
           91.83,
           91.83,
           91.82,
           91.69,
           90.91
          ],
          "coloraxis": "coloraxis",
          "line": {
           "color": "Black",
           "width": 1
          },
          "opacity": 0.8,
          "size": [
           20,
           20,
           20,
           20,
           20,
           40
          ],
          "symbol": [
           "triangle-right",
           "triangle-right",
           "triangle-right",
           "triangle-right",
           "triangle-right",
           "triangle-right"
          ]
         },
         "mode": "markers",
         "name": "Random Forest",
         "type": "scatter",
         "x": [
          -8.475261688232422,
          -8.655905723571777,
          -8.689624786376953,
          -8.668201446533203,
          -9.115238189697266,
          -6.898562431335449
         ],
         "xaxis": "x",
         "y": [
          -4.452073097229004,
          -4.080045223236084,
          -4.641517162322998,
          -4.97733736038208,
          -4.698023796081543,
          -0.4924139082431793
         ],
         "yaxis": "y"
        },
        {
         "hovertext": [
          "Extra Trees<br>Performance: 92.27%<br>Model ID: 2667<br>Accuracy: 84.81%<br>Precision: 85.07%<br>Recall: 84.81%<br>ROC AUC: 91.22<br>Geometric Mean: 100.0<br>Matthews Correlation: 100.0<br>F1: 100.0<br>Log Loss: 0.0",
          "Extra Trees<br>Performance: 92.24%<br>Model ID: 2659<br>Accuracy: 84.8%<br>Precision: 84.98%<br>Recall: 84.8%<br>ROC AUC: 91.07<br>Geometric Mean: 100.0<br>Matthews Correlation: 100.0<br>F1: 100.0<br>Log Loss: 0.0",
          "Extra Trees<br>Performance: 92.24%<br>Model ID: 2660<br>Accuracy: 84.8%<br>Precision: 84.98%<br>Recall: 84.8%<br>ROC AUC: 91.07<br>Geometric Mean: 100.0<br>Matthews Correlation: 100.0<br>F1: 100.0<br>Log Loss: 0.0",
          "Extra Trees<br>Performance: 92.19%<br>Model ID: 2714<br>Accuracy: 84.48%<br>Precision: 84.59%<br>Recall: 84.48%<br>ROC AUC: 91.8<br>Geometric Mean: 100.0<br>Matthews Correlation: 100.0<br>F1: 100.0<br>Log Loss: 0.0",
          "Extra Trees<br>Performance: 92.19%<br>Model ID: 2715<br>Accuracy: 84.48%<br>Precision: 84.59%<br>Recall: 84.48%<br>ROC AUC: 91.76<br>Geometric Mean: 100.0<br>Matthews Correlation: 100.0<br>F1: 100.0<br>Log Loss: 0.0",
          "Extra Trees<br>Performance: 96.33%<br>Model ID: meta_9<br>Accuracy: 96.7%<br>Precision: 96.85%<br>Recall: 96.7%<br>ROC AUC: 96.91<br>Geometric Mean: 96.91<br>Matthews Correlation: 93.51<br>F1: 96.71<br>Log Loss: 113.99"
         ],
         "marker": {
          "color": [
           92.27,
           92.24,
           92.24,
           92.19,
           92.19,
           96.33
          ],
          "coloraxis": "coloraxis",
          "line": {
           "color": "Black",
           "width": 1
          },
          "opacity": 0.8,
          "size": [
           20,
           20,
           20,
           20,
           20,
           40
          ],
          "symbol": [
           "triangle-left",
           "triangle-left",
           "triangle-left",
           "triangle-left",
           "triangle-left",
           "triangle-left"
          ]
         },
         "mode": "markers",
         "name": "Extra Trees",
         "type": "scatter",
         "x": [
          11.110786437988281,
          11.2593994140625,
          11.556879997253418,
          11.894743919372559,
          11.761916160583496,
          -6.3330864906311035
         ],
         "xaxis": "x",
         "y": [
          -0.12306289374828339,
          -0.27129796147346497,
          -0.5689707398414612,
          -0.906978964805603,
          -0.7740438580513,
          0.21140435338020325
         ],
         "yaxis": "y"
        },
        {
         "hovertext": [
          "Adaptive Boosting<br>Performance: 85.49%<br>Model ID: 2808<br>Accuracy: 80.83%<br>Precision: 81.1%<br>Recall: 80.83%<br>ROC AUC: 87.46<br>Geometric Mean: 92.08<br>Matthews Correlation: 84.06<br>F1: 92.08<br>Log Loss: 91.04",
          "Adaptive Boosting<br>Performance: 85.37%<br>Model ID: 2845<br>Accuracy: 80.16%<br>Precision: 80.31%<br>Recall: 80.16%<br>ROC AUC: 83.52<br>Geometric Mean: 93.35<br>Matthews Correlation: 86.69<br>F1: 93.4<br>Log Loss: 99.49",
          "Adaptive Boosting<br>Performance: 85.29%<br>Model ID: 2811<br>Accuracy: 80.5%<br>Precision: 80.76%<br>Recall: 80.5%<br>ROC AUC: 86.95<br>Geometric Mean: 92.13<br>Matthews Correlation: 84.1<br>F1: 92.09<br>Log Loss: 92.25",
          "Adaptive Boosting<br>Performance: 85.19%<br>Model ID: 2812<br>Accuracy: 80.16%<br>Precision: 80.52%<br>Recall: 80.16%<br>ROC AUC: 87.19<br>Geometric Mean: 92.13<br>Matthews Correlation: 84.1<br>F1: 92.09<br>Log Loss: 92.14",
          "Adaptive Boosting<br>Performance: 85.18%<br>Model ID: 2809<br>Accuracy: 80.17%<br>Precision: 80.42%<br>Recall: 80.17%<br>ROC AUC: 87.3<br>Geometric Mean: 92.08<br>Matthews Correlation: 84.06<br>F1: 92.08<br>Log Loss: 91.13",
          "Adaptive Boosting<br>Performance: 93.03%<br>Model ID: meta_10<br>Accuracy: 93.73%<br>Precision: 94.1%<br>Recall: 93.73%<br>ROC AUC: 94.06<br>Geometric Mean: 94.06<br>Matthews Correlation: 87.78<br>F1: 93.74<br>Log Loss: 216.58"
         ],
         "marker": {
          "color": [
           85.49,
           85.37,
           85.29,
           85.19,
           85.18,
           93.03
          ],
          "coloraxis": "coloraxis",
          "line": {
           "color": "Black",
           "width": 1
          },
          "opacity": 0.8,
          "size": [
           20,
           20,
           20,
           20,
           20,
           40
          ],
          "symbol": [
           "triangle-down",
           "triangle-down",
           "triangle-down",
           "triangle-down",
           "triangle-down",
           "triangle-down"
          ]
         },
         "mode": "markers",
         "name": "Adaptive Boosting",
         "type": "scatter",
         "x": [
          6.19030237197876,
          5.796215534210205,
          6.170926570892334,
          5.69789981842041,
          6.511753082275391,
          5.432084083557129
         ],
         "xaxis": "x",
         "y": [
          5.264157772064209,
          4.4730072021484375,
          4.723799705505371,
          5.142736434936523,
          5.110469341278076,
          4.867713451385498
         ],
         "yaxis": "y"
        },
        {
         "hovertext": [
          "Gradient Boosting<br>Performance: 89.77%<br>Model ID: 3030<br>Accuracy: 80.83%<br>Precision: 81.59%<br>Recall: 80.83%<br>ROC AUC: 87.84<br>Geometric Mean: 99.28<br>Matthews Correlation: 98.68<br>F1: 99.34<br>Log Loss: 3.39",
          "Gradient Boosting<br>Performance: 89.76%<br>Model ID: 3029<br>Accuracy: 80.83%<br>Precision: 81.59%<br>Recall: 80.83%<br>ROC AUC: 87.8<br>Geometric Mean: 99.28<br>Matthews Correlation: 98.68<br>F1: 99.34<br>Log Loss: 3.61",
          "Gradient Boosting<br>Performance: 89.76%<br>Model ID: 2969<br>Accuracy: 80.83%<br>Precision: 81.59%<br>Recall: 80.83%<br>ROC AUC: 87.77<br>Geometric Mean: 99.28<br>Matthews Correlation: 98.68<br>F1: 99.34<br>Log Loss: 3.61",
          "Gradient Boosting<br>Performance: 89.77%<br>Model ID: 2970<br>Accuracy: 80.83%<br>Precision: 81.59%<br>Recall: 80.83%<br>ROC AUC: 87.82<br>Geometric Mean: 99.28<br>Matthews Correlation: 98.68<br>F1: 99.34<br>Log Loss: 3.39",
          "Gradient Boosting<br>Performance: 89.75%<br>Model ID: 3026<br>Accuracy: 80.83%<br>Precision: 81.45%<br>Recall: 80.83%<br>ROC AUC: 87.84<br>Geometric Mean: 99.28<br>Matthews Correlation: 98.68<br>F1: 99.34<br>Log Loss: 4.1",
          "Gradient Boosting<br>Performance: 93.55%<br>Model ID: meta_11<br>Accuracy: 94.39%<br>Precision: 94.39%<br>Recall: 94.39%<br>ROC AUC: 94.31<br>Geometric Mean: 94.31<br>Matthews Correlation: 88.68<br>F1: 94.39<br>Log Loss: 193.78"
         ],
         "marker": {
          "color": [
           89.77,
           89.76,
           89.76,
           89.77,
           89.75,
           93.55
          ],
          "coloraxis": "coloraxis",
          "line": {
           "color": "Black",
           "width": 1
          },
          "opacity": 0.8,
          "size": [
           20,
           20,
           20,
           20,
           20,
           40
          ],
          "symbol": [
           "triangle-up",
           "triangle-up",
           "triangle-up",
           "triangle-up",
           "triangle-up",
           "triangle-up"
          ]
         },
         "mode": "markers",
         "name": "Gradient Boosting",
         "type": "scatter",
         "x": [
          11.614836692810059,
          12.38670539855957,
          12.123058319091797,
          11.415245056152344,
          12.016874313354492,
          -6.4397077560424805
         ],
         "xaxis": "x",
         "y": [
          20.355281829833984,
          20.438684463500977,
          19.99565315246582,
          20.297340393066406,
          20.77069664001465,
          -0.6687077879905701
         ],
         "yaxis": "y"
        },
        {
         "hovertext": [
          "K-Nearest Neighbor<br>Performance: 83.35%<br>Model ID: 452<br>Accuracy: 70.31%<br>Precision: 70.36%<br>Recall: 70.31%<br>ROC AUC: 72.5<br>Geometric Mean: 100.0<br>Matthews Correlation: 100.0<br>F1: 100.0<br>Log Loss: 0.0",
          "K-Nearest Neighbor<br>Performance: 83.28%<br>Model ID: 288<br>Accuracy: 69.62%<br>Precision: 69.8%<br>Recall: 69.62%<br>ROC AUC: 73.91<br>Geometric Mean: 100.0<br>Matthews Correlation: 100.0<br>F1: 100.0<br>Log Loss: 0.0",
          "K-Nearest Neighbor<br>Performance: 83.13%<br>Model ID: 96<br>Accuracy: 69.29%<br>Precision: 69.48%<br>Recall: 69.29%<br>ROC AUC: 73.84<br>Geometric Mean: 100.0<br>Matthews Correlation: 100.0<br>F1: 100.0<br>Log Loss: 0.0",
          "K-Nearest Neighbor<br>Performance: 83.13%<br>Model ID: 480<br>Accuracy: 69.29%<br>Precision: 69.48%<br>Recall: 69.29%<br>ROC AUC: 73.82<br>Geometric Mean: 100.0<br>Matthews Correlation: 100.0<br>F1: 100.0<br>Log Loss: 0.0",
          "K-Nearest Neighbor<br>Performance: 83.11%<br>Model ID: 458<br>Accuracy: 69.64%<br>Precision: 69.61%<br>Recall: 69.64%<br>ROC AUC: 72.85<br>Geometric Mean: 100.0<br>Matthews Correlation: 100.0<br>F1: 100.0<br>Log Loss: 0.0",
          "K-Nearest Neighbor<br>Performance: 87.44%<br>Model ID: meta_1<br>Accuracy: 89.11%<br>Precision: 89.41%<br>Recall: 89.11%<br>ROC AUC: 88.58<br>Geometric Mean: 88.58<br>Matthews Correlation: 78.24<br>F1: 89.03<br>Log Loss: 376.17"
         ],
         "marker": {
          "color": [
           83.35,
           83.28,
           83.13,
           83.13,
           83.11,
           87.44
          ],
          "coloraxis": "coloraxis",
          "line": {
           "color": "Black",
           "width": 1
          },
          "opacity": 0.8,
          "size": [
           20,
           20,
           20,
           20,
           20,
           40
          ],
          "symbol": [
           "circle",
           "circle",
           "circle",
           "circle",
           "circle",
           "circle"
          ]
         },
         "mode": "markers",
         "name": "K-Nearest Neighbor",
         "type": "scatter",
         "x": [
          6.818477630615234,
          7.285550594329834,
          7.52225923538208,
          7.686099052429199,
          7.043525695800781,
          10.99631404876709
         ],
         "xaxis": "x",
         "y": [
          5.6508893966674805,
          5.437501430511475,
          5.54529333114624,
          5.952420711517334,
          6.026287078857422,
          -4.64109468460083
         ],
         "yaxis": "y"
        },
        {
         "hovertext": [
          "Support Vector Machine<br>Performance: 83.1%<br>Model ID: 694<br>Accuracy: 82.5%<br>Precision: 82.92%<br>Recall: 82.5%<br>ROC AUC: 89.98<br>Geometric Mean: 85.43<br>Matthews Correlation: 72.38<br>F1: 85.99<br>Log Loss: 0.62",
          "Support Vector Machine<br>Performance: 83.08%<br>Model ID: 650<br>Accuracy: 82.83%<br>Precision: 83.3%<br>Recall: 82.83%<br>ROC AUC: 90.14<br>Geometric Mean: 85.07<br>Matthews Correlation: 71.75<br>F1: 85.65<br>Log Loss: 0.71",
          "Support Vector Machine<br>Performance: 83.08%<br>Model ID: 646<br>Accuracy: 82.83%<br>Precision: 83.3%<br>Recall: 82.83%<br>ROC AUC: 90.15<br>Geometric Mean: 85.07<br>Matthews Correlation: 71.75<br>F1: 85.65<br>Log Loss: 0.69",
          "Support Vector Machine<br>Performance: 83.09%<br>Model ID: 642<br>Accuracy: 82.83%<br>Precision: 83.3%<br>Recall: 82.83%<br>ROC AUC: 90.19<br>Geometric Mean: 85.07<br>Matthews Correlation: 71.75<br>F1: 85.65<br>Log Loss: 0.68",
          "Support Vector Machine<br>Performance: 83.07%<br>Model ID: 654<br>Accuracy: 82.83%<br>Precision: 83.3%<br>Recall: 82.83%<br>ROC AUC: 90.09<br>Geometric Mean: 85.07<br>Matthews Correlation: 71.75<br>F1: 85.65<br>Log Loss: 0.69",
          "Support Vector Machine<br>Performance: 92.41%<br>Model ID: meta_2<br>Accuracy: 93.4%<br>Precision: 93.4%<br>Recall: 93.4%<br>ROC AUC: 93.29<br>Geometric Mean: 93.29<br>Matthews Correlation: 86.68<br>F1: 93.4<br>Log Loss: 227.98"
         ],
         "marker": {
          "color": [
           83.1,
           83.08,
           83.08,
           83.09,
           83.07,
           92.41
          ],
          "coloraxis": "coloraxis",
          "line": {
           "color": "Black",
           "width": 1
          },
          "opacity": 0.8,
          "size": [
           20,
           20,
           20,
           20,
           20,
           40
          ],
          "symbol": [
           "square",
           "square",
           "square",
           "square",
           "square",
           "square"
          ]
         },
         "mode": "markers",
         "name": "Support Vector Machine",
         "type": "scatter",
         "x": [
          -6.172857284545898,
          -5.4464430809021,
          -5.709784507751465,
          -5.886099815368652,
          -5.850741386413574,
          10.882963180541992
         ],
         "xaxis": "x",
         "y": [
          13.97556209564209,
          13.251296997070312,
          13.514514923095703,
          13.69077205657959,
          13.655065536499023,
          -5.1505208015441895
         ],
         "yaxis": "y"
        },
        {
         "hovertext": [
          "Gaussian Naive Bayes<br>Performance: 80.97%<br>Model ID: 737<br>Accuracy: 80.51%<br>Precision: 80.65%<br>Recall: 80.51%<br>ROC AUC: 89.18<br>Geometric Mean: 83.79<br>Matthews Correlation: 68.01<br>F1: 84.11<br>Log Loss: 100.0",
          "Gaussian Naive Bayes<br>Performance: 80.97%<br>Model ID: 1066<br>Accuracy: 80.51%<br>Precision: 80.65%<br>Recall: 80.51%<br>ROC AUC: 89.18<br>Geometric Mean: 83.79<br>Matthews Correlation: 68.01<br>F1: 84.11<br>Log Loss: 34.0",
          "Gaussian Naive Bayes<br>Performance: 80.97%<br>Model ID: 1079<br>Accuracy: 80.51%<br>Precision: 80.65%<br>Recall: 80.51%<br>ROC AUC: 89.18<br>Geometric Mean: 83.79<br>Matthews Correlation: 68.01<br>F1: 84.11<br>Log Loss: 31.4",
          "Gaussian Naive Bayes<br>Performance: 80.97%<br>Model ID: 1078<br>Accuracy: 80.51%<br>Precision: 80.65%<br>Recall: 80.51%<br>ROC AUC: 89.18<br>Geometric Mean: 83.79<br>Matthews Correlation: 68.01<br>F1: 84.11<br>Log Loss: 31.6",
          "Gaussian Naive Bayes<br>Performance: 80.97%<br>Model ID: 1077<br>Accuracy: 80.51%<br>Precision: 80.65%<br>Recall: 80.51%<br>ROC AUC: 89.18<br>Geometric Mean: 83.79<br>Matthews Correlation: 68.01<br>F1: 84.11<br>Log Loss: 31.8",
          "Gaussian Naive Bayes<br>Performance: 93.21%<br>Model ID: meta_3<br>Accuracy: 94.06%<br>Precision: 94.07%<br>Recall: 94.06%<br>ROC AUC: 94.07<br>Geometric Mean: 94.07<br>Matthews Correlation: 88.05<br>F1: 94.06<br>Log Loss: 205.18"
         ],
         "marker": {
          "color": [
           80.97,
           80.97,
           80.97,
           80.97,
           80.97,
           93.21
          ],
          "coloraxis": "coloraxis",
          "line": {
           "color": "Black",
           "width": 1
          },
          "opacity": 0.8,
          "size": [
           20,
           20,
           20,
           20,
           20,
           40
          ],
          "symbol": [
           "x",
           "x",
           "x",
           "x",
           "x",
           "x"
          ]
         },
         "mode": "markers",
         "name": "Gaussian Naive Bayes",
         "type": "scatter",
         "x": [
          -5.712093353271484,
          -5.121424198150635,
          -5.23748779296875,
          -5.454340934753418,
          -5.6938042640686035,
          10.112337112426758
         ],
         "xaxis": "x",
         "y": [
          1.8329848051071167,
          2.510045289993286,
          2.216369390487671,
          2.1777827739715576,
          2.549307107925415,
          -4.499032974243164
         ],
         "yaxis": "y"
        },
        {
         "hovertext": [
          "Multilayer Perceptron<br>Performance: 79.22%<br>Model ID: 1262<br>Accuracy: 79.85%<br>Precision: 79.92%<br>Recall: 79.85%<br>ROC AUC: 85.88<br>Geometric Mean: 81.86<br>Matthews Correlation: 64.8<br>F1: 82.36<br>Log Loss: 17.56",
          "Multilayer Perceptron<br>Performance: 79.22%<br>Model ID: 1263<br>Accuracy: 79.85%<br>Precision: 79.92%<br>Recall: 79.85%<br>ROC AUC: 85.88<br>Geometric Mean: 81.86<br>Matthews Correlation: 64.8<br>F1: 82.36<br>Log Loss: 17.56",
          "Multilayer Perceptron<br>Performance: 79.22%<br>Model ID: 1261<br>Accuracy: 79.85%<br>Precision: 79.92%<br>Recall: 79.85%<br>ROC AUC: 85.88<br>Geometric Mean: 81.86<br>Matthews Correlation: 64.8<br>F1: 82.36<br>Log Loss: 17.56",
          "Multilayer Perceptron<br>Performance: 79.09%<br>Model ID: 1249<br>Accuracy: 79.52%<br>Precision: 79.59%<br>Recall: 79.52%<br>ROC AUC: 85.97<br>Geometric Mean: 81.86<br>Matthews Correlation: 64.8<br>F1: 82.36<br>Log Loss: 17.17",
          "Multilayer Perceptron<br>Performance: 79.09%<br>Model ID: 1251<br>Accuracy: 79.52%<br>Precision: 79.59%<br>Recall: 79.52%<br>ROC AUC: 85.97<br>Geometric Mean: 81.86<br>Matthews Correlation: 64.8<br>F1: 82.36<br>Log Loss: 17.17",
          "Multilayer Perceptron<br>Performance: 100.0%<br>Model ID: meta_4<br>Accuracy: 100.0%<br>Precision: 100.0%<br>Recall: 100.0%<br>ROC AUC: 100.0<br>Geometric Mean: 100.0<br>Matthews Correlation: 100.0<br>F1: 100.0<br>Log Loss: 0.0"
         ],
         "marker": {
          "color": [
           79.22,
           79.22,
           79.22,
           79.09,
           79.09,
           100
          ],
          "coloraxis": "coloraxis",
          "line": {
           "color": "Black",
           "width": 1
          },
          "opacity": 0.8,
          "size": [
           20,
           20,
           20,
           20,
           20,
           40
          ],
          "symbol": [
           "cross",
           "cross",
           "cross",
           "cross",
           "cross",
           "cross"
          ]
         },
         "mode": "markers",
         "name": "Multilayer Perceptron",
         "type": "scatter",
         "x": [
          -4.954948902130127,
          -5.256550312042236,
          -5.5630412101745605,
          -5.768643856048584,
          -5.306365489959717,
          10.443530082702637
         ],
         "xaxis": "x",
         "y": [
          -20.64883041381836,
          -20.95016860961914,
          -21.256757736206055,
          -21.462322235107422,
          -21.00041389465332,
          -3.8073372840881348
         ],
         "yaxis": "y"
        },
        {
         "hovertext": [
          "Logistic Regression<br>Performance: 83.67%<br>Model ID: 1677<br>Accuracy: 84.14%<br>Precision: 84.66%<br>Recall: 84.14%<br>ROC AUC: 90.32<br>Geometric Mean: 85.13<br>Matthews Correlation: 71.65<br>F1: 85.67<br>Log Loss: 3.51",
          "Logistic Regression<br>Performance: 83.66%<br>Model ID: 1741<br>Accuracy: 84.46%<br>Precision: 84.98%<br>Recall: 84.46%<br>ROC AUC: 90.58<br>Geometric Mean: 84.83<br>Matthews Correlation: 70.93<br>F1: 85.35<br>Log Loss: 3.37",
          "Logistic Regression<br>Performance: 83.54%<br>Model ID: 1901<br>Accuracy: 83.8%<br>Precision: 84.26%<br>Recall: 83.8%<br>ROC AUC: 90.5<br>Geometric Mean: 85.13<br>Matthews Correlation: 71.65<br>F1: 85.67<br>Log Loss: 3.41",
          "Logistic Regression<br>Performance: 83.53%<br>Model ID: 1773<br>Accuracy: 84.14%<br>Precision: 84.64%<br>Recall: 84.14%<br>ROC AUC: 90.65<br>Geometric Mean: 84.77<br>Matthews Correlation: 71.02<br>F1: 85.33<br>Log Loss: 3.23",
          "Logistic Regression<br>Performance: 83.41%<br>Model ID: 1869<br>Accuracy: 83.48%<br>Precision: 83.92%<br>Recall: 83.48%<br>ROC AUC: 90.54<br>Geometric Mean: 85.07<br>Matthews Correlation: 71.75<br>F1: 85.65<br>Log Loss: 2.97",
          "Logistic Regression<br>Performance: 100.0%<br>Model ID: meta_5<br>Accuracy: 100.0%<br>Precision: 100.0%<br>Recall: 100.0%<br>ROC AUC: 100.0<br>Geometric Mean: 100.0<br>Matthews Correlation: 100.0<br>F1: 100.0<br>Log Loss: 0.0"
         ],
         "marker": {
          "color": [
           83.67,
           83.66,
           83.54,
           83.53,
           83.41,
           100
          ],
          "coloraxis": "coloraxis",
          "line": {
           "color": "Black",
           "width": 1
          },
          "opacity": 0.8,
          "size": [
           20,
           20,
           20,
           20,
           20,
           40
          ],
          "symbol": [
           "diamond",
           "diamond",
           "diamond",
           "diamond",
           "diamond",
           "diamond"
          ]
         },
         "mode": "markers",
         "name": "Logistic Regression",
         "type": "scatter",
         "x": [
          1.449196457862854,
          1.8441394567489624,
          2.072786569595337,
          1.600252628326416,
          2.289421796798706,
          10.760087013244629
         ],
         "xaxis": "x",
         "y": [
          -4.274876117706299,
          -4.1048665046691895,
          -4.832205772399902,
          -4.672585964202881,
          -4.925850868225098,
          -4.131348133087158
         ],
         "yaxis": "y"
        },
        {
         "hovertext": [
          "Linear Discriminant Analysis<br>Performance: 82.31%<br>Model ID: 1997<br>Accuracy: 83.16%<br>Precision: 84.11%<br>Recall: 83.16%<br>ROC AUC: 89.99<br>Geometric Mean: 83.32<br>Matthews Correlation: 68.51<br>F1: 83.94<br>Log Loss: 0.0",
          "Linear Discriminant Analysis<br>Performance: 82.31%<br>Model ID: 1998<br>Accuracy: 83.16%<br>Precision: 84.11%<br>Recall: 83.16%<br>ROC AUC: 89.99<br>Geometric Mean: 83.32<br>Matthews Correlation: 68.51<br>F1: 83.94<br>Log Loss: 0.0",
          "Linear Discriminant Analysis<br>Performance: 73.45%<br>Model ID: 1999<br>Accuracy: 75.89%<br>Precision: 76.41%<br>Recall: 75.89%<br>ROC AUC: 82.6<br>Geometric Mean: 75.39<br>Matthews Correlation: 52.04<br>F1: 75.95<br>Log Loss: 31.9",
          "Linear Discriminant Analysis<br>Performance: 73.45%<br>Model ID: 2000<br>Accuracy: 75.89%<br>Precision: 76.41%<br>Recall: 75.89%<br>ROC AUC: 82.6<br>Geometric Mean: 75.39<br>Matthews Correlation: 52.04<br>F1: 75.95<br>Log Loss: 31.9",
          "Linear Discriminant Analysis<br>Performance: 71.08%<br>Model ID: 2001<br>Accuracy: 74.25%<br>Precision: 74.65%<br>Recall: 74.25%<br>ROC AUC: 79.07<br>Geometric Mean: 73.45<br>Matthews Correlation: 47.92<br>F1: 73.99<br>Log Loss: 41.85",
          "Linear Discriminant Analysis<br>Performance: 98.85%<br>Model ID: meta_6<br>Accuracy: 99.01%<br>Precision: 99.01%<br>Recall: 99.01%<br>ROC AUC: 98.97<br>Geometric Mean: 98.97<br>Matthews Correlation: 98.0<br>F1: 99.01<br>Log Loss: 34.2"
         ],
         "marker": {
          "color": [
           82.31,
           82.31,
           73.45,
           73.45,
           71.08,
           98.85
          ],
          "coloraxis": "coloraxis",
          "line": {
           "color": "Black",
           "width": 1
          },
          "opacity": 0.8,
          "size": [
           20,
           20,
           20,
           20,
           20,
           40
          ],
          "symbol": [
           "star",
           "star",
           "star",
           "star",
           "star",
           "star"
          ]
         },
         "mode": "markers",
         "name": "Linear Discriminant Analysis",
         "type": "scatter",
         "x": [
          1.9945544004440308,
          2.4700639247894287,
          8.333792686462402,
          7.945508003234863,
          8.169914245605469,
          11.18636417388916
         ],
         "xaxis": "x",
         "y": [
          -5.63001823425293,
          -5.966702461242676,
          5.086146831512451,
          5.060518264770508,
          5.480239391326904,
          -3.758025884628296
         ],
         "yaxis": "y"
        },
        {
         "hovertext": [
          "Quadratic Discriminant Analysis<br>Performance: 83.44%<br>Model ID: 2227<br>Accuracy: 81.49%<br>Precision: 81.79%<br>Recall: 81.49%<br>ROC AUC: 88.84<br>Geometric Mean: 87.24<br>Matthews Correlation: 75.55<br>F1: 87.7<br>Log Loss: 0.03",
          "Quadratic Discriminant Analysis<br>Performance: 83.44%<br>Model ID: 2231<br>Accuracy: 81.49%<br>Precision: 81.79%<br>Recall: 81.49%<br>ROC AUC: 88.84<br>Geometric Mean: 87.24<br>Matthews Correlation: 75.55<br>F1: 87.7<br>Log Loss: 0.03",
          "Quadratic Discriminant Analysis<br>Performance: 83.44%<br>Model ID: 2230<br>Accuracy: 81.49%<br>Precision: 81.79%<br>Recall: 81.49%<br>ROC AUC: 88.84<br>Geometric Mean: 87.24<br>Matthews Correlation: 75.55<br>F1: 87.7<br>Log Loss: 0.03",
          "Quadratic Discriminant Analysis<br>Performance: 83.44%<br>Model ID: 2229<br>Accuracy: 81.49%<br>Precision: 81.79%<br>Recall: 81.49%<br>ROC AUC: 88.84<br>Geometric Mean: 87.24<br>Matthews Correlation: 75.55<br>F1: 87.7<br>Log Loss: 0.03",
          "Quadratic Discriminant Analysis<br>Performance: 83.44%<br>Model ID: 2228<br>Accuracy: 81.49%<br>Precision: 81.79%<br>Recall: 81.49%<br>ROC AUC: 88.84<br>Geometric Mean: 87.24<br>Matthews Correlation: 75.55<br>F1: 87.7<br>Log Loss: 0.03",
          "Quadratic Discriminant Analysis<br>Performance: 91.25%<br>Model ID: meta_7<br>Accuracy: 92.41%<br>Precision: 92.43%<br>Recall: 92.41%<br>ROC AUC: 92.2<br>Geometric Mean: 92.2<br>Matthews Correlation: 84.7<br>F1: 92.4<br>Log Loss: 262.18"
         ],
         "marker": {
          "color": [
           83.44,
           83.44,
           83.44,
           83.44,
           83.44,
           91.25
          ],
          "coloraxis": "coloraxis",
          "line": {
           "color": "Black",
           "width": 1
          },
          "opacity": 0.8,
          "size": [
           20,
           20,
           20,
           20,
           20,
           40
          ],
          "symbol": [
           "hexagram",
           "hexagram",
           "hexagram",
           "hexagram",
           "hexagram",
           "hexagram"
          ]
         },
         "mode": "markers",
         "name": "Quadratic Discriminant Analysis",
         "type": "scatter",
         "x": [
          2.426361560821533,
          2.0066916942596436,
          2.6269538402557373,
          2.1396658420562744,
          2.8570961952209473,
          10.248321533203125
         ],
         "xaxis": "x",
         "y": [
          -7.156721115112305,
          -6.763631343841553,
          -6.755801677703857,
          -6.668715953826904,
          -6.469000816345215,
          -4.932178020477295
         ],
         "yaxis": "y"
        },
        {
         "hovertext": [
          "Random Forest<br>Performance: 91.82%<br>Model ID: 2488<br>Accuracy: 84.13%<br>Precision: 84.34%<br>Recall: 84.13%<br>ROC AUC: 90.17<br>Geometric Mean: 100.0<br>Matthews Correlation: 100.0<br>F1: 100.0<br>Log Loss: 59.71",
          "Random Forest<br>Performance: 91.83%<br>Model ID: 2490<br>Accuracy: 84.13%<br>Precision: 84.31%<br>Recall: 84.13%<br>ROC AUC: 90.21<br>Geometric Mean: 100.0<br>Matthews Correlation: 100.0<br>F1: 100.0<br>Log Loss: 52.76",
          "Random Forest<br>Performance: 91.83%<br>Model ID: 2489<br>Accuracy: 84.13%<br>Precision: 84.34%<br>Recall: 84.13%<br>ROC AUC: 90.22<br>Geometric Mean: 100.0<br>Matthews Correlation: 100.0<br>F1: 100.0<br>Log Loss: 54.75",
          "Random Forest<br>Performance: 91.82%<br>Model ID: 2494<br>Accuracy: 84.13%<br>Precision: 84.38%<br>Recall: 84.13%<br>ROC AUC: 90.11<br>Geometric Mean: 100.0<br>Matthews Correlation: 100.0<br>F1: 100.0<br>Log Loss: 58.36",
          "Random Forest<br>Performance: 91.69%<br>Model ID: 2493<br>Accuracy: 83.8%<br>Precision: 84.02%<br>Recall: 83.8%<br>ROC AUC: 90.22<br>Geometric Mean: 100.0<br>Matthews Correlation: 100.0<br>F1: 100.0<br>Log Loss: 57.04",
          "Random Forest<br>Performance: 90.91%<br>Model ID: meta_8<br>Accuracy: 92.08%<br>Precision: 92.08%<br>Recall: 92.08%<br>ROC AUC: 92.02<br>Geometric Mean: 92.02<br>Matthews Correlation: 84.03<br>F1: 92.08<br>Log Loss: 273.58"
         ],
         "marker": {
          "color": [
           91.82,
           91.83,
           91.83,
           91.82,
           91.69,
           90.91
          ],
          "coloraxis": "coloraxis",
          "line": {
           "color": "Black",
           "width": 1
          },
          "opacity": 0.8,
          "size": [
           20,
           20,
           20,
           20,
           20,
           40
          ],
          "symbol": [
           "triangle-right",
           "triangle-right",
           "triangle-right",
           "triangle-right",
           "triangle-right",
           "triangle-right"
          ]
         },
         "mode": "markers",
         "name": "Random Forest",
         "type": "scatter",
         "x": [
          15.968277931213379,
          16.32794189453125,
          16.082687377929688,
          15.675483703613281,
          16.483070373535156,
          11.407947540283203
         ],
         "xaxis": "x",
         "y": [
          -5.914373874664307,
          -5.691563606262207,
          -5.550812244415283,
          -6.357797622680664,
          -6.29595422744751,
          -4.852530479431152
         ],
         "yaxis": "y"
        },
        {
         "hovertext": [
          "Extra Trees<br>Performance: 92.27%<br>Model ID: 2667<br>Accuracy: 84.81%<br>Precision: 85.07%<br>Recall: 84.81%<br>ROC AUC: 91.22<br>Geometric Mean: 100.0<br>Matthews Correlation: 100.0<br>F1: 100.0<br>Log Loss: 0.0",
          "Extra Trees<br>Performance: 92.24%<br>Model ID: 2659<br>Accuracy: 84.8%<br>Precision: 84.98%<br>Recall: 84.8%<br>ROC AUC: 91.07<br>Geometric Mean: 100.0<br>Matthews Correlation: 100.0<br>F1: 100.0<br>Log Loss: 0.0",
          "Extra Trees<br>Performance: 92.24%<br>Model ID: 2660<br>Accuracy: 84.8%<br>Precision: 84.98%<br>Recall: 84.8%<br>ROC AUC: 91.07<br>Geometric Mean: 100.0<br>Matthews Correlation: 100.0<br>F1: 100.0<br>Log Loss: 0.0",
          "Extra Trees<br>Performance: 92.19%<br>Model ID: 2714<br>Accuracy: 84.48%<br>Precision: 84.59%<br>Recall: 84.48%<br>ROC AUC: 91.8<br>Geometric Mean: 100.0<br>Matthews Correlation: 100.0<br>F1: 100.0<br>Log Loss: 0.0",
          "Extra Trees<br>Performance: 92.19%<br>Model ID: 2715<br>Accuracy: 84.48%<br>Precision: 84.59%<br>Recall: 84.48%<br>ROC AUC: 91.76<br>Geometric Mean: 100.0<br>Matthews Correlation: 100.0<br>F1: 100.0<br>Log Loss: 0.0",
          "Extra Trees<br>Performance: 96.33%<br>Model ID: meta_9<br>Accuracy: 96.7%<br>Precision: 96.85%<br>Recall: 96.7%<br>ROC AUC: 96.91<br>Geometric Mean: 96.91<br>Matthews Correlation: 93.51<br>F1: 96.71<br>Log Loss: 113.99"
         ],
         "marker": {
          "color": [
           92.27,
           92.24,
           92.24,
           92.19,
           92.19,
           96.33
          ],
          "coloraxis": "coloraxis",
          "line": {
           "color": "Black",
           "width": 1
          },
          "opacity": 0.8,
          "size": [
           20,
           20,
           20,
           20,
           20,
           40
          ],
          "symbol": [
           "triangle-left",
           "triangle-left",
           "triangle-left",
           "triangle-left",
           "triangle-left",
           "triangle-left"
          ]
         },
         "mode": "markers",
         "name": "Extra Trees",
         "type": "scatter",
         "x": [
          36.00381851196289,
          36.001625061035156,
          35.43363952636719,
          35.728450775146484,
          35.622886657714844,
          10.663360595703125
         ],
         "xaxis": "x",
         "y": [
          -22.15656089782715,
          -22.155344009399414,
          -21.58697509765625,
          -21.88325309753418,
          -21.777637481689453,
          -4.959911823272705
         ],
         "yaxis": "y"
        },
        {
         "hovertext": [
          "Adaptive Boosting<br>Performance: 85.49%<br>Model ID: 2808<br>Accuracy: 80.83%<br>Precision: 81.1%<br>Recall: 80.83%<br>ROC AUC: 87.46<br>Geometric Mean: 92.08<br>Matthews Correlation: 84.06<br>F1: 92.08<br>Log Loss: 91.04",
          "Adaptive Boosting<br>Performance: 85.37%<br>Model ID: 2845<br>Accuracy: 80.16%<br>Precision: 80.31%<br>Recall: 80.16%<br>ROC AUC: 83.52<br>Geometric Mean: 93.35<br>Matthews Correlation: 86.69<br>F1: 93.4<br>Log Loss: 99.49",
          "Adaptive Boosting<br>Performance: 85.29%<br>Model ID: 2811<br>Accuracy: 80.5%<br>Precision: 80.76%<br>Recall: 80.5%<br>ROC AUC: 86.95<br>Geometric Mean: 92.13<br>Matthews Correlation: 84.1<br>F1: 92.09<br>Log Loss: 92.25",
          "Adaptive Boosting<br>Performance: 85.19%<br>Model ID: 2812<br>Accuracy: 80.16%<br>Precision: 80.52%<br>Recall: 80.16%<br>ROC AUC: 87.19<br>Geometric Mean: 92.13<br>Matthews Correlation: 84.1<br>F1: 92.09<br>Log Loss: 92.14",
          "Adaptive Boosting<br>Performance: 85.18%<br>Model ID: 2809<br>Accuracy: 80.17%<br>Precision: 80.42%<br>Recall: 80.17%<br>ROC AUC: 87.3<br>Geometric Mean: 92.08<br>Matthews Correlation: 84.06<br>F1: 92.08<br>Log Loss: 91.13",
          "Adaptive Boosting<br>Performance: 93.03%<br>Model ID: meta_10<br>Accuracy: 93.73%<br>Precision: 94.1%<br>Recall: 93.73%<br>ROC AUC: 94.06<br>Geometric Mean: 94.06<br>Matthews Correlation: 87.78<br>F1: 93.74<br>Log Loss: 216.58"
         ],
         "marker": {
          "color": [
           85.49,
           85.37,
           85.29,
           85.19,
           85.18,
           93.03
          ],
          "coloraxis": "coloraxis",
          "line": {
           "color": "Black",
           "width": 1
          },
          "opacity": 0.8,
          "size": [
           20,
           20,
           20,
           20,
           20,
           40
          ],
          "symbol": [
           "triangle-down",
           "triangle-down",
           "triangle-down",
           "triangle-down",
           "triangle-down",
           "triangle-down"
          ]
         },
         "mode": "markers",
         "name": "Adaptive Boosting",
         "type": "scatter",
         "x": [
          -4.590469837188721,
          -5.277451038360596,
          -4.75562047958374,
          -5.112767696380615,
          -5.3167572021484375,
          -4.81334924697876
         ],
         "xaxis": "x",
         "y": [
          7.937003135681152,
          7.105496406555176,
          7.297629356384277,
          7.365567207336426,
          7.714833736419678,
          7.79803466796875
         ],
         "yaxis": "y"
        },
        {
         "hovertext": [
          "Gradient Boosting<br>Performance: 89.77%<br>Model ID: 3030<br>Accuracy: 80.83%<br>Precision: 81.59%<br>Recall: 80.83%<br>ROC AUC: 87.84<br>Geometric Mean: 99.28<br>Matthews Correlation: 98.68<br>F1: 99.34<br>Log Loss: 3.39",
          "Gradient Boosting<br>Performance: 89.76%<br>Model ID: 3029<br>Accuracy: 80.83%<br>Precision: 81.59%<br>Recall: 80.83%<br>ROC AUC: 87.8<br>Geometric Mean: 99.28<br>Matthews Correlation: 98.68<br>F1: 99.34<br>Log Loss: 3.61",
          "Gradient Boosting<br>Performance: 89.76%<br>Model ID: 2969<br>Accuracy: 80.83%<br>Precision: 81.59%<br>Recall: 80.83%<br>ROC AUC: 87.77<br>Geometric Mean: 99.28<br>Matthews Correlation: 98.68<br>F1: 99.34<br>Log Loss: 3.61",
          "Gradient Boosting<br>Performance: 89.77%<br>Model ID: 2970<br>Accuracy: 80.83%<br>Precision: 81.59%<br>Recall: 80.83%<br>ROC AUC: 87.82<br>Geometric Mean: 99.28<br>Matthews Correlation: 98.68<br>F1: 99.34<br>Log Loss: 3.39",
          "Gradient Boosting<br>Performance: 89.75%<br>Model ID: 3026<br>Accuracy: 80.83%<br>Precision: 81.45%<br>Recall: 80.83%<br>ROC AUC: 87.84<br>Geometric Mean: 99.28<br>Matthews Correlation: 98.68<br>F1: 99.34<br>Log Loss: 4.1",
          "Gradient Boosting<br>Performance: 93.55%<br>Model ID: meta_11<br>Accuracy: 94.39%<br>Precision: 94.39%<br>Recall: 94.39%<br>ROC AUC: 94.31<br>Geometric Mean: 94.31<br>Matthews Correlation: 88.68<br>F1: 94.39<br>Log Loss: 193.78"
         ],
         "marker": {
          "color": [
           89.77,
           89.76,
           89.76,
           89.77,
           89.75,
           93.55
          ],
          "coloraxis": "coloraxis",
          "line": {
           "color": "Black",
           "width": 1
          },
          "opacity": 0.8,
          "size": [
           20,
           20,
           20,
           20,
           20,
           40
          ],
          "symbol": [
           "triangle-up",
           "triangle-up",
           "triangle-up",
           "triangle-up",
           "triangle-up",
           "triangle-up"
          ]
         },
         "mode": "markers",
         "name": "Gradient Boosting",
         "type": "scatter",
         "x": [
          15.434459686279297,
          15.602112770080566,
          15.257684707641602,
          15.114800453186035,
          14.907187461853027,
          11.331538200378418
         ],
         "xaxis": "x",
         "y": [
          21.21023941040039,
          21.042613983154297,
          21.386993408203125,
          21.529855728149414,
          21.737483978271484,
          -5.425284385681152
         ],
         "yaxis": "y"
        },
        {
         "hovertext": [
          "K-Nearest Neighbor<br>Performance: 83.35%<br>Model ID: 452<br>Accuracy: 70.31%<br>Precision: 70.36%<br>Recall: 70.31%<br>ROC AUC: 72.5<br>Geometric Mean: 100.0<br>Matthews Correlation: 100.0<br>F1: 100.0<br>Log Loss: 0.0",
          "K-Nearest Neighbor<br>Performance: 83.28%<br>Model ID: 288<br>Accuracy: 69.62%<br>Precision: 69.8%<br>Recall: 69.62%<br>ROC AUC: 73.91<br>Geometric Mean: 100.0<br>Matthews Correlation: 100.0<br>F1: 100.0<br>Log Loss: 0.0",
          "K-Nearest Neighbor<br>Performance: 83.13%<br>Model ID: 96<br>Accuracy: 69.29%<br>Precision: 69.48%<br>Recall: 69.29%<br>ROC AUC: 73.84<br>Geometric Mean: 100.0<br>Matthews Correlation: 100.0<br>F1: 100.0<br>Log Loss: 0.0",
          "K-Nearest Neighbor<br>Performance: 83.13%<br>Model ID: 480<br>Accuracy: 69.29%<br>Precision: 69.48%<br>Recall: 69.29%<br>ROC AUC: 73.82<br>Geometric Mean: 100.0<br>Matthews Correlation: 100.0<br>F1: 100.0<br>Log Loss: 0.0",
          "K-Nearest Neighbor<br>Performance: 83.11%<br>Model ID: 458<br>Accuracy: 69.64%<br>Precision: 69.61%<br>Recall: 69.64%<br>ROC AUC: 72.85<br>Geometric Mean: 100.0<br>Matthews Correlation: 100.0<br>F1: 100.0<br>Log Loss: 0.0",
          "K-Nearest Neighbor<br>Performance: 87.44%<br>Model ID: meta_1<br>Accuracy: 89.11%<br>Precision: 89.41%<br>Recall: 89.11%<br>ROC AUC: 88.58<br>Geometric Mean: 88.58<br>Matthews Correlation: 78.24<br>F1: 89.03<br>Log Loss: 376.17"
         ],
         "marker": {
          "color": [
           83.35,
           83.28,
           83.13,
           83.13,
           83.11,
           87.44
          ],
          "coloraxis": "coloraxis",
          "line": {
           "color": "Black",
           "width": 1
          },
          "opacity": 0.8,
          "size": [
           20,
           20,
           20,
           20,
           20,
           40
          ],
          "symbol": [
           "circle",
           "circle",
           "circle",
           "circle",
           "circle",
           "circle"
          ]
         },
         "mode": "markers",
         "name": "K-Nearest Neighbor",
         "type": "scatter",
         "x": [
          8.385604858398438,
          8.58184814453125,
          9.336743354797363,
          9.09741497039795,
          8.802700996398926,
          -1.0513120889663696
         ],
         "xaxis": "x",
         "y": [
          2.782046318054199,
          2.2113466262817383,
          2.1993794441223145,
          2.4684202671051025,
          2.6362335681915283,
          5.94938325881958
         ],
         "yaxis": "y"
        },
        {
         "hovertext": [
          "Support Vector Machine<br>Performance: 83.1%<br>Model ID: 694<br>Accuracy: 82.5%<br>Precision: 82.92%<br>Recall: 82.5%<br>ROC AUC: 89.98<br>Geometric Mean: 85.43<br>Matthews Correlation: 72.38<br>F1: 85.99<br>Log Loss: 0.62",
          "Support Vector Machine<br>Performance: 83.08%<br>Model ID: 650<br>Accuracy: 82.83%<br>Precision: 83.3%<br>Recall: 82.83%<br>ROC AUC: 90.14<br>Geometric Mean: 85.07<br>Matthews Correlation: 71.75<br>F1: 85.65<br>Log Loss: 0.71",
          "Support Vector Machine<br>Performance: 83.08%<br>Model ID: 646<br>Accuracy: 82.83%<br>Precision: 83.3%<br>Recall: 82.83%<br>ROC AUC: 90.15<br>Geometric Mean: 85.07<br>Matthews Correlation: 71.75<br>F1: 85.65<br>Log Loss: 0.69",
          "Support Vector Machine<br>Performance: 83.09%<br>Model ID: 642<br>Accuracy: 82.83%<br>Precision: 83.3%<br>Recall: 82.83%<br>ROC AUC: 90.19<br>Geometric Mean: 85.07<br>Matthews Correlation: 71.75<br>F1: 85.65<br>Log Loss: 0.68",
          "Support Vector Machine<br>Performance: 83.07%<br>Model ID: 654<br>Accuracy: 82.83%<br>Precision: 83.3%<br>Recall: 82.83%<br>ROC AUC: 90.09<br>Geometric Mean: 85.07<br>Matthews Correlation: 71.75<br>F1: 85.65<br>Log Loss: 0.69",
          "Support Vector Machine<br>Performance: 92.41%<br>Model ID: meta_2<br>Accuracy: 93.4%<br>Precision: 93.4%<br>Recall: 93.4%<br>ROC AUC: 93.29<br>Geometric Mean: 93.29<br>Matthews Correlation: 86.68<br>F1: 93.4<br>Log Loss: 227.98"
         ],
         "marker": {
          "color": [
           83.1,
           83.08,
           83.08,
           83.09,
           83.07,
           92.41
          ],
          "coloraxis": "coloraxis",
          "line": {
           "color": "Black",
           "width": 1
          },
          "opacity": 0.8,
          "size": [
           20,
           20,
           20,
           20,
           20,
           40
          ],
          "symbol": [
           "square",
           "square",
           "square",
           "square",
           "square",
           "square"
          ]
         },
         "mode": "markers",
         "name": "Support Vector Machine",
         "type": "scatter",
         "x": [
          16.561626434326172,
          16.390897750854492,
          16.73980140686035,
          15.98399829864502,
          16.254919052124023,
          -1.4851793050765991
         ],
         "xaxis": "x",
         "y": [
          4.693394184112549,
          4.867208003997803,
          4.5128493309021,
          5.259120464324951,
          4.998919486999512,
          5.337470531463623
         ],
         "yaxis": "y"
        },
        {
         "hovertext": [
          "Gaussian Naive Bayes<br>Performance: 80.97%<br>Model ID: 737<br>Accuracy: 80.51%<br>Precision: 80.65%<br>Recall: 80.51%<br>ROC AUC: 89.18<br>Geometric Mean: 83.79<br>Matthews Correlation: 68.01<br>F1: 84.11<br>Log Loss: 100.0",
          "Gaussian Naive Bayes<br>Performance: 80.97%<br>Model ID: 1066<br>Accuracy: 80.51%<br>Precision: 80.65%<br>Recall: 80.51%<br>ROC AUC: 89.18<br>Geometric Mean: 83.79<br>Matthews Correlation: 68.01<br>F1: 84.11<br>Log Loss: 34.0",
          "Gaussian Naive Bayes<br>Performance: 80.97%<br>Model ID: 1079<br>Accuracy: 80.51%<br>Precision: 80.65%<br>Recall: 80.51%<br>ROC AUC: 89.18<br>Geometric Mean: 83.79<br>Matthews Correlation: 68.01<br>F1: 84.11<br>Log Loss: 31.4",
          "Gaussian Naive Bayes<br>Performance: 80.97%<br>Model ID: 1078<br>Accuracy: 80.51%<br>Precision: 80.65%<br>Recall: 80.51%<br>ROC AUC: 89.18<br>Geometric Mean: 83.79<br>Matthews Correlation: 68.01<br>F1: 84.11<br>Log Loss: 31.6",
          "Gaussian Naive Bayes<br>Performance: 80.97%<br>Model ID: 1077<br>Accuracy: 80.51%<br>Precision: 80.65%<br>Recall: 80.51%<br>ROC AUC: 89.18<br>Geometric Mean: 83.79<br>Matthews Correlation: 68.01<br>F1: 84.11<br>Log Loss: 31.8",
          "Gaussian Naive Bayes<br>Performance: 93.21%<br>Model ID: meta_3<br>Accuracy: 94.06%<br>Precision: 94.07%<br>Recall: 94.06%<br>ROC AUC: 94.07<br>Geometric Mean: 94.07<br>Matthews Correlation: 88.05<br>F1: 94.06<br>Log Loss: 205.18"
         ],
         "marker": {
          "color": [
           80.97,
           80.97,
           80.97,
           80.97,
           80.97,
           93.21
          ],
          "coloraxis": "coloraxis",
          "line": {
           "color": "Black",
           "width": 1
          },
          "opacity": 0.8,
          "size": [
           20,
           20,
           20,
           20,
           20,
           40
          ],
          "symbol": [
           "x",
           "x",
           "x",
           "x",
           "x",
           "x"
          ]
         },
         "mode": "markers",
         "name": "Gaussian Naive Bayes",
         "type": "scatter",
         "x": [
          41.51302719116211,
          41.27625274658203,
          41.800987243652344,
          41.09895706176758,
          41.59260940551758,
          -0.6490469574928284
         ],
         "xaxis": "x",
         "y": [
          -41.385643005371094,
          -41.148868560791016,
          -41.67360305786133,
          -40.97157287597656,
          -41.46522521972656,
          4.972837448120117
         ],
         "yaxis": "y"
        },
        {
         "hovertext": [
          "Multilayer Perceptron<br>Performance: 79.22%<br>Model ID: 1262<br>Accuracy: 79.85%<br>Precision: 79.92%<br>Recall: 79.85%<br>ROC AUC: 85.88<br>Geometric Mean: 81.86<br>Matthews Correlation: 64.8<br>F1: 82.36<br>Log Loss: 17.56",
          "Multilayer Perceptron<br>Performance: 79.22%<br>Model ID: 1263<br>Accuracy: 79.85%<br>Precision: 79.92%<br>Recall: 79.85%<br>ROC AUC: 85.88<br>Geometric Mean: 81.86<br>Matthews Correlation: 64.8<br>F1: 82.36<br>Log Loss: 17.56",
          "Multilayer Perceptron<br>Performance: 79.22%<br>Model ID: 1261<br>Accuracy: 79.85%<br>Precision: 79.92%<br>Recall: 79.85%<br>ROC AUC: 85.88<br>Geometric Mean: 81.86<br>Matthews Correlation: 64.8<br>F1: 82.36<br>Log Loss: 17.56",
          "Multilayer Perceptron<br>Performance: 79.09%<br>Model ID: 1249<br>Accuracy: 79.52%<br>Precision: 79.59%<br>Recall: 79.52%<br>ROC AUC: 85.97<br>Geometric Mean: 81.86<br>Matthews Correlation: 64.8<br>F1: 82.36<br>Log Loss: 17.17",
          "Multilayer Perceptron<br>Performance: 79.09%<br>Model ID: 1251<br>Accuracy: 79.52%<br>Precision: 79.59%<br>Recall: 79.52%<br>ROC AUC: 85.97<br>Geometric Mean: 81.86<br>Matthews Correlation: 64.8<br>F1: 82.36<br>Log Loss: 17.17",
          "Multilayer Perceptron<br>Performance: 100.0%<br>Model ID: meta_4<br>Accuracy: 100.0%<br>Precision: 100.0%<br>Recall: 100.0%<br>ROC AUC: 100.0<br>Geometric Mean: 100.0<br>Matthews Correlation: 100.0<br>F1: 100.0<br>Log Loss: 0.0"
         ],
         "marker": {
          "color": [
           79.22,
           79.22,
           79.22,
           79.09,
           79.09,
           100
          ],
          "coloraxis": "coloraxis",
          "line": {
           "color": "Black",
           "width": 1
          },
          "opacity": 0.8,
          "size": [
           20,
           20,
           20,
           20,
           20,
           40
          ],
          "symbol": [
           "cross",
           "cross",
           "cross",
           "cross",
           "cross",
           "cross"
          ]
         },
         "mode": "markers",
         "name": "Multilayer Perceptron",
         "type": "scatter",
         "x": [
          20.051856994628906,
          20.193082809448242,
          19.886518478393555,
          19.678651809692383,
          19.521318435668945,
          -0.30118057131767273
         ],
         "xaxis": "x",
         "y": [
          -5.732303619384766,
          -5.5910563468933105,
          -5.897619247436523,
          -6.105483055114746,
          -6.262888431549072,
          5.421957969665527
         ],
         "yaxis": "y"
        },
        {
         "hovertext": [
          "Logistic Regression<br>Performance: 83.67%<br>Model ID: 1677<br>Accuracy: 84.14%<br>Precision: 84.66%<br>Recall: 84.14%<br>ROC AUC: 90.32<br>Geometric Mean: 85.13<br>Matthews Correlation: 71.65<br>F1: 85.67<br>Log Loss: 3.51",
          "Logistic Regression<br>Performance: 83.66%<br>Model ID: 1741<br>Accuracy: 84.46%<br>Precision: 84.98%<br>Recall: 84.46%<br>ROC AUC: 90.58<br>Geometric Mean: 84.83<br>Matthews Correlation: 70.93<br>F1: 85.35<br>Log Loss: 3.37",
          "Logistic Regression<br>Performance: 83.54%<br>Model ID: 1901<br>Accuracy: 83.8%<br>Precision: 84.26%<br>Recall: 83.8%<br>ROC AUC: 90.5<br>Geometric Mean: 85.13<br>Matthews Correlation: 71.65<br>F1: 85.67<br>Log Loss: 3.41",
          "Logistic Regression<br>Performance: 83.53%<br>Model ID: 1773<br>Accuracy: 84.14%<br>Precision: 84.64%<br>Recall: 84.14%<br>ROC AUC: 90.65<br>Geometric Mean: 84.77<br>Matthews Correlation: 71.02<br>F1: 85.33<br>Log Loss: 3.23",
          "Logistic Regression<br>Performance: 83.41%<br>Model ID: 1869<br>Accuracy: 83.48%<br>Precision: 83.92%<br>Recall: 83.48%<br>ROC AUC: 90.54<br>Geometric Mean: 85.07<br>Matthews Correlation: 71.75<br>F1: 85.65<br>Log Loss: 2.97",
          "Logistic Regression<br>Performance: 100.0%<br>Model ID: meta_5<br>Accuracy: 100.0%<br>Precision: 100.0%<br>Recall: 100.0%<br>ROC AUC: 100.0<br>Geometric Mean: 100.0<br>Matthews Correlation: 100.0<br>F1: 100.0<br>Log Loss: 0.0"
         ],
         "marker": {
          "color": [
           83.67,
           83.66,
           83.54,
           83.53,
           83.41,
           100
          ],
          "coloraxis": "coloraxis",
          "line": {
           "color": "Black",
           "width": 1
          },
          "opacity": 0.8,
          "size": [
           20,
           20,
           20,
           20,
           20,
           40
          ],
          "symbol": [
           "diamond",
           "diamond",
           "diamond",
           "diamond",
           "diamond",
           "diamond"
          ]
         },
         "mode": "markers",
         "name": "Logistic Regression",
         "type": "scatter",
         "x": [
          -10.102639198303223,
          -9.28439998626709,
          -9.661323547363281,
          -9.580669403076172,
          -9.252123832702637,
          -0.14037704467773438
         ],
         "xaxis": "x",
         "y": [
          7.701746940612793,
          7.441987991333008,
          7.35446310043335,
          7.637433052062988,
          8.040678024291992,
          5.964685440063477
         ],
         "yaxis": "y"
        },
        {
         "hovertext": [
          "Linear Discriminant Analysis<br>Performance: 82.31%<br>Model ID: 1997<br>Accuracy: 83.16%<br>Precision: 84.11%<br>Recall: 83.16%<br>ROC AUC: 89.99<br>Geometric Mean: 83.32<br>Matthews Correlation: 68.51<br>F1: 83.94<br>Log Loss: 0.0",
          "Linear Discriminant Analysis<br>Performance: 82.31%<br>Model ID: 1998<br>Accuracy: 83.16%<br>Precision: 84.11%<br>Recall: 83.16%<br>ROC AUC: 89.99<br>Geometric Mean: 83.32<br>Matthews Correlation: 68.51<br>F1: 83.94<br>Log Loss: 0.0",
          "Linear Discriminant Analysis<br>Performance: 73.45%<br>Model ID: 1999<br>Accuracy: 75.89%<br>Precision: 76.41%<br>Recall: 75.89%<br>ROC AUC: 82.6<br>Geometric Mean: 75.39<br>Matthews Correlation: 52.04<br>F1: 75.95<br>Log Loss: 31.9",
          "Linear Discriminant Analysis<br>Performance: 73.45%<br>Model ID: 2000<br>Accuracy: 75.89%<br>Precision: 76.41%<br>Recall: 75.89%<br>ROC AUC: 82.6<br>Geometric Mean: 75.39<br>Matthews Correlation: 52.04<br>F1: 75.95<br>Log Loss: 31.9",
          "Linear Discriminant Analysis<br>Performance: 71.08%<br>Model ID: 2001<br>Accuracy: 74.25%<br>Precision: 74.65%<br>Recall: 74.25%<br>ROC AUC: 79.07<br>Geometric Mean: 73.45<br>Matthews Correlation: 47.92<br>F1: 73.99<br>Log Loss: 41.85",
          "Linear Discriminant Analysis<br>Performance: 98.85%<br>Model ID: meta_6<br>Accuracy: 99.01%<br>Precision: 99.01%<br>Recall: 99.01%<br>ROC AUC: 98.97<br>Geometric Mean: 98.97<br>Matthews Correlation: 98.0<br>F1: 99.01<br>Log Loss: 34.2"
         ],
         "marker": {
          "color": [
           82.31,
           82.31,
           73.45,
           73.45,
           71.08,
           98.85
          ],
          "coloraxis": "coloraxis",
          "line": {
           "color": "Black",
           "width": 1
          },
          "opacity": 0.8,
          "size": [
           20,
           20,
           20,
           20,
           20,
           40
          ],
          "symbol": [
           "star",
           "star",
           "star",
           "star",
           "star",
           "star"
          ]
         },
         "mode": "markers",
         "name": "Linear Discriminant Analysis",
         "type": "scatter",
         "x": [
          -8.847527503967285,
          -8.438899040222168,
          8.904476165771484,
          8.59465503692627,
          9.075264930725098,
          0.156577467918396
         ],
         "xaxis": "x",
         "y": [
          8.452367782592773,
          7.939866065979004,
          1.2717701196670532,
          1.7571536302566528,
          1.479914665222168,
          5.537551403045654
         ],
         "yaxis": "y"
        },
        {
         "hovertext": [
          "Quadratic Discriminant Analysis<br>Performance: 83.44%<br>Model ID: 2227<br>Accuracy: 81.49%<br>Precision: 81.79%<br>Recall: 81.49%<br>ROC AUC: 88.84<br>Geometric Mean: 87.24<br>Matthews Correlation: 75.55<br>F1: 87.7<br>Log Loss: 0.03",
          "Quadratic Discriminant Analysis<br>Performance: 83.44%<br>Model ID: 2231<br>Accuracy: 81.49%<br>Precision: 81.79%<br>Recall: 81.49%<br>ROC AUC: 88.84<br>Geometric Mean: 87.24<br>Matthews Correlation: 75.55<br>F1: 87.7<br>Log Loss: 0.03",
          "Quadratic Discriminant Analysis<br>Performance: 83.44%<br>Model ID: 2230<br>Accuracy: 81.49%<br>Precision: 81.79%<br>Recall: 81.49%<br>ROC AUC: 88.84<br>Geometric Mean: 87.24<br>Matthews Correlation: 75.55<br>F1: 87.7<br>Log Loss: 0.03",
          "Quadratic Discriminant Analysis<br>Performance: 83.44%<br>Model ID: 2229<br>Accuracy: 81.49%<br>Precision: 81.79%<br>Recall: 81.49%<br>ROC AUC: 88.84<br>Geometric Mean: 87.24<br>Matthews Correlation: 75.55<br>F1: 87.7<br>Log Loss: 0.03",
          "Quadratic Discriminant Analysis<br>Performance: 83.44%<br>Model ID: 2228<br>Accuracy: 81.49%<br>Precision: 81.79%<br>Recall: 81.49%<br>ROC AUC: 88.84<br>Geometric Mean: 87.24<br>Matthews Correlation: 75.55<br>F1: 87.7<br>Log Loss: 0.03",
          "Quadratic Discriminant Analysis<br>Performance: 91.25%<br>Model ID: meta_7<br>Accuracy: 92.41%<br>Precision: 92.43%<br>Recall: 92.41%<br>ROC AUC: 92.2<br>Geometric Mean: 92.2<br>Matthews Correlation: 84.7<br>F1: 92.4<br>Log Loss: 262.18"
         ],
         "marker": {
          "color": [
           83.44,
           83.44,
           83.44,
           83.44,
           83.44,
           91.25
          ],
          "coloraxis": "coloraxis",
          "line": {
           "color": "Black",
           "width": 1
          },
          "opacity": 0.8,
          "size": [
           20,
           20,
           20,
           20,
           20,
           40
          ],
          "symbol": [
           "hexagram",
           "hexagram",
           "hexagram",
           "hexagram",
           "hexagram",
           "hexagram"
          ]
         },
         "mode": "markers",
         "name": "Quadratic Discriminant Analysis",
         "type": "scatter",
         "x": [
          -7.8970465660095215,
          -7.562253475189209,
          -8.290680885314941,
          -8.123122215270996,
          -7.893833637237549,
          -1.056178092956543
         ],
         "xaxis": "x",
         "y": [
          8.514784812927246,
          8.283037185668945,
          8.806139945983887,
          8.6268310546875,
          7.933897018432617,
          5.264870643615723
         ],
         "yaxis": "y"
        },
        {
         "hovertext": [
          "Random Forest<br>Performance: 91.82%<br>Model ID: 2488<br>Accuracy: 84.13%<br>Precision: 84.34%<br>Recall: 84.13%<br>ROC AUC: 90.17<br>Geometric Mean: 100.0<br>Matthews Correlation: 100.0<br>F1: 100.0<br>Log Loss: 59.71",
          "Random Forest<br>Performance: 91.83%<br>Model ID: 2490<br>Accuracy: 84.13%<br>Precision: 84.31%<br>Recall: 84.13%<br>ROC AUC: 90.21<br>Geometric Mean: 100.0<br>Matthews Correlation: 100.0<br>F1: 100.0<br>Log Loss: 52.76",
          "Random Forest<br>Performance: 91.83%<br>Model ID: 2489<br>Accuracy: 84.13%<br>Precision: 84.34%<br>Recall: 84.13%<br>ROC AUC: 90.22<br>Geometric Mean: 100.0<br>Matthews Correlation: 100.0<br>F1: 100.0<br>Log Loss: 54.75",
          "Random Forest<br>Performance: 91.82%<br>Model ID: 2494<br>Accuracy: 84.13%<br>Precision: 84.38%<br>Recall: 84.13%<br>ROC AUC: 90.11<br>Geometric Mean: 100.0<br>Matthews Correlation: 100.0<br>F1: 100.0<br>Log Loss: 58.36",
          "Random Forest<br>Performance: 91.69%<br>Model ID: 2493<br>Accuracy: 83.8%<br>Precision: 84.02%<br>Recall: 83.8%<br>ROC AUC: 90.22<br>Geometric Mean: 100.0<br>Matthews Correlation: 100.0<br>F1: 100.0<br>Log Loss: 57.04",
          "Random Forest<br>Performance: 90.91%<br>Model ID: meta_8<br>Accuracy: 92.08%<br>Precision: 92.08%<br>Recall: 92.08%<br>ROC AUC: 92.02<br>Geometric Mean: 92.02<br>Matthews Correlation: 84.03<br>F1: 92.08<br>Log Loss: 273.58"
         ],
         "marker": {
          "color": [
           91.82,
           91.83,
           91.83,
           91.82,
           91.69,
           90.91
          ],
          "coloraxis": "coloraxis",
          "line": {
           "color": "Black",
           "width": 1
          },
          "opacity": 0.8,
          "size": [
           20,
           20,
           20,
           20,
           20,
           40
          ],
          "symbol": [
           "triangle-right",
           "triangle-right",
           "triangle-right",
           "triangle-right",
           "triangle-right",
           "triangle-right"
          ]
         },
         "mode": "markers",
         "name": "Random Forest",
         "type": "scatter",
         "x": [
          -2.5701403617858887,
          -2.1036481857299805,
          -2.261087417602539,
          -1.776485800743103,
          -2.2004244327545166,
          -1.629911184310913
         ],
         "xaxis": "x",
         "y": [
          2.7640819549560547,
          2.464385509490967,
          2.130044937133789,
          2.835750102996826,
          3.1479575634002686,
          5.869720935821533
         ],
         "yaxis": "y"
        },
        {
         "hovertext": [
          "Extra Trees<br>Performance: 92.27%<br>Model ID: 2667<br>Accuracy: 84.81%<br>Precision: 85.07%<br>Recall: 84.81%<br>ROC AUC: 91.22<br>Geometric Mean: 100.0<br>Matthews Correlation: 100.0<br>F1: 100.0<br>Log Loss: 0.0",
          "Extra Trees<br>Performance: 92.24%<br>Model ID: 2659<br>Accuracy: 84.8%<br>Precision: 84.98%<br>Recall: 84.8%<br>ROC AUC: 91.07<br>Geometric Mean: 100.0<br>Matthews Correlation: 100.0<br>F1: 100.0<br>Log Loss: 0.0",
          "Extra Trees<br>Performance: 92.24%<br>Model ID: 2660<br>Accuracy: 84.8%<br>Precision: 84.98%<br>Recall: 84.8%<br>ROC AUC: 91.07<br>Geometric Mean: 100.0<br>Matthews Correlation: 100.0<br>F1: 100.0<br>Log Loss: 0.0",
          "Extra Trees<br>Performance: 92.19%<br>Model ID: 2714<br>Accuracy: 84.48%<br>Precision: 84.59%<br>Recall: 84.48%<br>ROC AUC: 91.8<br>Geometric Mean: 100.0<br>Matthews Correlation: 100.0<br>F1: 100.0<br>Log Loss: 0.0",
          "Extra Trees<br>Performance: 92.19%<br>Model ID: 2715<br>Accuracy: 84.48%<br>Precision: 84.59%<br>Recall: 84.48%<br>ROC AUC: 91.76<br>Geometric Mean: 100.0<br>Matthews Correlation: 100.0<br>F1: 100.0<br>Log Loss: 0.0",
          "Extra Trees<br>Performance: 96.33%<br>Model ID: meta_9<br>Accuracy: 96.7%<br>Precision: 96.85%<br>Recall: 96.7%<br>ROC AUC: 96.91<br>Geometric Mean: 96.91<br>Matthews Correlation: 93.51<br>F1: 96.71<br>Log Loss: 113.99"
         ],
         "marker": {
          "color": [
           92.27,
           92.24,
           92.24,
           92.19,
           92.19,
           96.33
          ],
          "coloraxis": "coloraxis",
          "line": {
           "color": "Black",
           "width": 1
          },
          "opacity": 0.8,
          "size": [
           20,
           20,
           20,
           20,
           20,
           40
          ],
          "symbol": [
           "triangle-left",
           "triangle-left",
           "triangle-left",
           "triangle-left",
           "triangle-left",
           "triangle-left"
          ]
         },
         "mode": "markers",
         "name": "Extra Trees",
         "type": "scatter",
         "x": [
          0.4187842011451721,
          0.6859516501426697,
          0.23955219984054565,
          -0.07662127912044525,
          -0.1933182328939438,
          -0.9272792935371399
         ],
         "xaxis": "x",
         "y": [
          0.14764060080051422,
          -0.12286143749952316,
          -0.37457340955734253,
          0.2475559413433075,
          -0.01940985582768917,
          5.639989852905273
         ],
         "yaxis": "y"
        },
        {
         "hovertext": [
          "Adaptive Boosting<br>Performance: 85.49%<br>Model ID: 2808<br>Accuracy: 80.83%<br>Precision: 81.1%<br>Recall: 80.83%<br>ROC AUC: 87.46<br>Geometric Mean: 92.08<br>Matthews Correlation: 84.06<br>F1: 92.08<br>Log Loss: 91.04",
          "Adaptive Boosting<br>Performance: 85.37%<br>Model ID: 2845<br>Accuracy: 80.16%<br>Precision: 80.31%<br>Recall: 80.16%<br>ROC AUC: 83.52<br>Geometric Mean: 93.35<br>Matthews Correlation: 86.69<br>F1: 93.4<br>Log Loss: 99.49",
          "Adaptive Boosting<br>Performance: 85.29%<br>Model ID: 2811<br>Accuracy: 80.5%<br>Precision: 80.76%<br>Recall: 80.5%<br>ROC AUC: 86.95<br>Geometric Mean: 92.13<br>Matthews Correlation: 84.1<br>F1: 92.09<br>Log Loss: 92.25",
          "Adaptive Boosting<br>Performance: 85.19%<br>Model ID: 2812<br>Accuracy: 80.16%<br>Precision: 80.52%<br>Recall: 80.16%<br>ROC AUC: 87.19<br>Geometric Mean: 92.13<br>Matthews Correlation: 84.1<br>F1: 92.09<br>Log Loss: 92.14",
          "Adaptive Boosting<br>Performance: 85.18%<br>Model ID: 2809<br>Accuracy: 80.17%<br>Precision: 80.42%<br>Recall: 80.17%<br>ROC AUC: 87.3<br>Geometric Mean: 92.08<br>Matthews Correlation: 84.06<br>F1: 92.08<br>Log Loss: 91.13",
          "Adaptive Boosting<br>Performance: 93.03%<br>Model ID: meta_10<br>Accuracy: 93.73%<br>Precision: 94.1%<br>Recall: 93.73%<br>ROC AUC: 94.06<br>Geometric Mean: 94.06<br>Matthews Correlation: 87.78<br>F1: 93.74<br>Log Loss: 216.58"
         ],
         "marker": {
          "color": [
           85.49,
           85.37,
           85.29,
           85.19,
           85.18,
           93.03
          ],
          "coloraxis": "coloraxis",
          "line": {
           "color": "Black",
           "width": 1
          },
          "opacity": 0.8,
          "size": [
           20,
           20,
           20,
           20,
           20,
           40
          ],
          "symbol": [
           "triangle-down",
           "triangle-down",
           "triangle-down",
           "triangle-down",
           "triangle-down",
           "triangle-down"
          ]
         },
         "mode": "markers",
         "name": "Adaptive Boosting",
         "type": "scatter",
         "x": [
          4.191647529602051,
          3.5345070362091064,
          4.203006267547607,
          3.998046875,
          3.7497386932373047,
          3.5119214057922363
         ],
         "xaxis": "x",
         "y": [
          11.765734672546387,
          12.112433433532715,
          11.235567092895508,
          11.442442893981934,
          11.744283676147461,
          11.256607055664062
         ],
         "yaxis": "y"
        },
        {
         "hovertext": [
          "Gradient Boosting<br>Performance: 89.77%<br>Model ID: 3030<br>Accuracy: 80.83%<br>Precision: 81.59%<br>Recall: 80.83%<br>ROC AUC: 87.84<br>Geometric Mean: 99.28<br>Matthews Correlation: 98.68<br>F1: 99.34<br>Log Loss: 3.39",
          "Gradient Boosting<br>Performance: 89.76%<br>Model ID: 3029<br>Accuracy: 80.83%<br>Precision: 81.59%<br>Recall: 80.83%<br>ROC AUC: 87.8<br>Geometric Mean: 99.28<br>Matthews Correlation: 98.68<br>F1: 99.34<br>Log Loss: 3.61",
          "Gradient Boosting<br>Performance: 89.76%<br>Model ID: 2969<br>Accuracy: 80.83%<br>Precision: 81.59%<br>Recall: 80.83%<br>ROC AUC: 87.77<br>Geometric Mean: 99.28<br>Matthews Correlation: 98.68<br>F1: 99.34<br>Log Loss: 3.61",
          "Gradient Boosting<br>Performance: 89.77%<br>Model ID: 2970<br>Accuracy: 80.83%<br>Precision: 81.59%<br>Recall: 80.83%<br>ROC AUC: 87.82<br>Geometric Mean: 99.28<br>Matthews Correlation: 98.68<br>F1: 99.34<br>Log Loss: 3.39",
          "Gradient Boosting<br>Performance: 89.75%<br>Model ID: 3026<br>Accuracy: 80.83%<br>Precision: 81.45%<br>Recall: 80.83%<br>ROC AUC: 87.84<br>Geometric Mean: 99.28<br>Matthews Correlation: 98.68<br>F1: 99.34<br>Log Loss: 4.1",
          "Gradient Boosting<br>Performance: 93.55%<br>Model ID: meta_11<br>Accuracy: 94.39%<br>Precision: 94.39%<br>Recall: 94.39%<br>ROC AUC: 94.31<br>Geometric Mean: 94.31<br>Matthews Correlation: 88.68<br>F1: 94.39<br>Log Loss: 193.78"
         ],
         "marker": {
          "color": [
           89.77,
           89.76,
           89.76,
           89.77,
           89.75,
           93.55
          ],
          "coloraxis": "coloraxis",
          "line": {
           "color": "Black",
           "width": 1
          },
          "opacity": 0.8,
          "size": [
           20,
           20,
           20,
           20,
           20,
           40
          ],
          "symbol": [
           "triangle-up",
           "triangle-up",
           "triangle-up",
           "triangle-up",
           "triangle-up",
           "triangle-up"
          ]
         },
         "mode": "markers",
         "name": "Gradient Boosting",
         "type": "scatter",
         "x": [
          -2.335585117340088,
          -2.154355049133301,
          -2.609096050262451,
          -2.059028148651123,
          -1.8485060930252075,
          -1.5294556617736816
         ],
         "xaxis": "x",
         "y": [
          -10.6564359664917,
          -10.837481498718262,
          -10.38283634185791,
          -10.93277359008789,
          -11.143203735351562,
          4.40968132019043
         ],
         "yaxis": "y"
        },
        {
         "hovertext": [
          "K-Nearest Neighbor<br>Performance: 83.35%<br>Model ID: 452<br>Accuracy: 70.31%<br>Precision: 70.36%<br>Recall: 70.31%<br>ROC AUC: 72.5<br>Geometric Mean: 100.0<br>Matthews Correlation: 100.0<br>F1: 100.0<br>Log Loss: 0.0",
          "K-Nearest Neighbor<br>Performance: 83.28%<br>Model ID: 288<br>Accuracy: 69.62%<br>Precision: 69.8%<br>Recall: 69.62%<br>ROC AUC: 73.91<br>Geometric Mean: 100.0<br>Matthews Correlation: 100.0<br>F1: 100.0<br>Log Loss: 0.0",
          "K-Nearest Neighbor<br>Performance: 83.13%<br>Model ID: 96<br>Accuracy: 69.29%<br>Precision: 69.48%<br>Recall: 69.29%<br>ROC AUC: 73.84<br>Geometric Mean: 100.0<br>Matthews Correlation: 100.0<br>F1: 100.0<br>Log Loss: 0.0",
          "K-Nearest Neighbor<br>Performance: 83.13%<br>Model ID: 480<br>Accuracy: 69.29%<br>Precision: 69.48%<br>Recall: 69.29%<br>ROC AUC: 73.82<br>Geometric Mean: 100.0<br>Matthews Correlation: 100.0<br>F1: 100.0<br>Log Loss: 0.0",
          "K-Nearest Neighbor<br>Performance: 83.11%<br>Model ID: 458<br>Accuracy: 69.64%<br>Precision: 69.61%<br>Recall: 69.64%<br>ROC AUC: 72.85<br>Geometric Mean: 100.0<br>Matthews Correlation: 100.0<br>F1: 100.0<br>Log Loss: 0.0",
          "K-Nearest Neighbor<br>Performance: 87.44%<br>Model ID: meta_1<br>Accuracy: 89.11%<br>Precision: 89.41%<br>Recall: 89.11%<br>ROC AUC: 88.58<br>Geometric Mean: 88.58<br>Matthews Correlation: 78.24<br>F1: 89.03<br>Log Loss: 376.17"
         ],
         "marker": {
          "color": [
           83.35,
           83.28,
           83.13,
           83.13,
           83.11,
           87.44
          ],
          "coloraxis": "coloraxis",
          "line": {
           "color": "Black",
           "width": 1
          },
          "opacity": 0.8,
          "size": [
           20,
           20,
           20,
           20,
           20,
           40
          ],
          "symbol": [
           "circle",
           "circle",
           "circle",
           "circle",
           "circle",
           "circle"
          ]
         },
         "mode": "markers",
         "name": "K-Nearest Neighbor",
         "type": "scatter",
         "x": [
          4.615232944488525,
          4.606367111206055,
          4.162724018096924,
          4.024082660675049,
          4.27191162109375,
          -1.8081964254379272
         ],
         "xaxis": "x",
         "y": [
          -6.481373310089111,
          -6.946107864379883,
          -6.750150203704834,
          -7.0814528465271,
          -7.467995643615723,
          0.7042348384857178
         ],
         "yaxis": "y"
        },
        {
         "hovertext": [
          "Support Vector Machine<br>Performance: 83.1%<br>Model ID: 694<br>Accuracy: 82.5%<br>Precision: 82.92%<br>Recall: 82.5%<br>ROC AUC: 89.98<br>Geometric Mean: 85.43<br>Matthews Correlation: 72.38<br>F1: 85.99<br>Log Loss: 0.62",
          "Support Vector Machine<br>Performance: 83.08%<br>Model ID: 650<br>Accuracy: 82.83%<br>Precision: 83.3%<br>Recall: 82.83%<br>ROC AUC: 90.14<br>Geometric Mean: 85.07<br>Matthews Correlation: 71.75<br>F1: 85.65<br>Log Loss: 0.71",
          "Support Vector Machine<br>Performance: 83.08%<br>Model ID: 646<br>Accuracy: 82.83%<br>Precision: 83.3%<br>Recall: 82.83%<br>ROC AUC: 90.15<br>Geometric Mean: 85.07<br>Matthews Correlation: 71.75<br>F1: 85.65<br>Log Loss: 0.69",
          "Support Vector Machine<br>Performance: 83.09%<br>Model ID: 642<br>Accuracy: 82.83%<br>Precision: 83.3%<br>Recall: 82.83%<br>ROC AUC: 90.19<br>Geometric Mean: 85.07<br>Matthews Correlation: 71.75<br>F1: 85.65<br>Log Loss: 0.68",
          "Support Vector Machine<br>Performance: 83.07%<br>Model ID: 654<br>Accuracy: 82.83%<br>Precision: 83.3%<br>Recall: 82.83%<br>ROC AUC: 90.09<br>Geometric Mean: 85.07<br>Matthews Correlation: 71.75<br>F1: 85.65<br>Log Loss: 0.69",
          "Support Vector Machine<br>Performance: 92.41%<br>Model ID: meta_2<br>Accuracy: 93.4%<br>Precision: 93.4%<br>Recall: 93.4%<br>ROC AUC: 93.29<br>Geometric Mean: 93.29<br>Matthews Correlation: 86.68<br>F1: 93.4<br>Log Loss: 227.98"
         ],
         "marker": {
          "color": [
           83.1,
           83.08,
           83.08,
           83.09,
           83.07,
           92.41
          ],
          "coloraxis": "coloraxis",
          "line": {
           "color": "Black",
           "width": 1
          },
          "opacity": 0.8,
          "size": [
           20,
           20,
           20,
           20,
           20,
           40
          ],
          "symbol": [
           "square",
           "square",
           "square",
           "square",
           "square",
           "square"
          ]
         },
         "mode": "markers",
         "name": "Support Vector Machine",
         "type": "scatter",
         "x": [
          6.672340393066406,
          7.295381546020508,
          7.13972282409668,
          6.766166687011719,
          7.335597038269043,
          -2.266000986099243
         ],
         "xaxis": "x",
         "y": [
          15.353246688842773,
          15.841435432434082,
          15.248018264770508,
          15.756904602050781,
          15.55774974822998,
          1.411175012588501
         ],
         "yaxis": "y"
        },
        {
         "hovertext": [
          "Gaussian Naive Bayes<br>Performance: 80.97%<br>Model ID: 737<br>Accuracy: 80.51%<br>Precision: 80.65%<br>Recall: 80.51%<br>ROC AUC: 89.18<br>Geometric Mean: 83.79<br>Matthews Correlation: 68.01<br>F1: 84.11<br>Log Loss: 100.0",
          "Gaussian Naive Bayes<br>Performance: 80.97%<br>Model ID: 1066<br>Accuracy: 80.51%<br>Precision: 80.65%<br>Recall: 80.51%<br>ROC AUC: 89.18<br>Geometric Mean: 83.79<br>Matthews Correlation: 68.01<br>F1: 84.11<br>Log Loss: 34.0",
          "Gaussian Naive Bayes<br>Performance: 80.97%<br>Model ID: 1079<br>Accuracy: 80.51%<br>Precision: 80.65%<br>Recall: 80.51%<br>ROC AUC: 89.18<br>Geometric Mean: 83.79<br>Matthews Correlation: 68.01<br>F1: 84.11<br>Log Loss: 31.4",
          "Gaussian Naive Bayes<br>Performance: 80.97%<br>Model ID: 1078<br>Accuracy: 80.51%<br>Precision: 80.65%<br>Recall: 80.51%<br>ROC AUC: 89.18<br>Geometric Mean: 83.79<br>Matthews Correlation: 68.01<br>F1: 84.11<br>Log Loss: 31.6",
          "Gaussian Naive Bayes<br>Performance: 80.97%<br>Model ID: 1077<br>Accuracy: 80.51%<br>Precision: 80.65%<br>Recall: 80.51%<br>ROC AUC: 89.18<br>Geometric Mean: 83.79<br>Matthews Correlation: 68.01<br>F1: 84.11<br>Log Loss: 31.8",
          "Gaussian Naive Bayes<br>Performance: 93.21%<br>Model ID: meta_3<br>Accuracy: 94.06%<br>Precision: 94.07%<br>Recall: 94.06%<br>ROC AUC: 94.07<br>Geometric Mean: 94.07<br>Matthews Correlation: 88.05<br>F1: 94.06<br>Log Loss: 205.18"
         ],
         "marker": {
          "color": [
           80.97,
           80.97,
           80.97,
           80.97,
           80.97,
           93.21
          ],
          "coloraxis": "coloraxis",
          "line": {
           "color": "Black",
           "width": 1
          },
          "opacity": 0.8,
          "size": [
           20,
           20,
           20,
           20,
           20,
           40
          ],
          "symbol": [
           "x",
           "x",
           "x",
           "x",
           "x",
           "x"
          ]
         },
         "mode": "markers",
         "name": "Gaussian Naive Bayes",
         "type": "scatter",
         "x": [
          7.203910827636719,
          7.113592624664307,
          7.5909552574157715,
          7.834524154663086,
          7.582837104797363,
          -1.5728317499160767
         ],
         "xaxis": "x",
         "y": [
          1.2173690795898438,
          1.125941514968872,
          1.6027823686599731,
          1.8463287353515625,
          1.5944498777389526,
          1.2310608625411987
         ],
         "yaxis": "y"
        },
        {
         "hovertext": [
          "Multilayer Perceptron<br>Performance: 79.22%<br>Model ID: 1262<br>Accuracy: 79.85%<br>Precision: 79.92%<br>Recall: 79.85%<br>ROC AUC: 85.88<br>Geometric Mean: 81.86<br>Matthews Correlation: 64.8<br>F1: 82.36<br>Log Loss: 17.56",
          "Multilayer Perceptron<br>Performance: 79.22%<br>Model ID: 1263<br>Accuracy: 79.85%<br>Precision: 79.92%<br>Recall: 79.85%<br>ROC AUC: 85.88<br>Geometric Mean: 81.86<br>Matthews Correlation: 64.8<br>F1: 82.36<br>Log Loss: 17.56",
          "Multilayer Perceptron<br>Performance: 79.22%<br>Model ID: 1261<br>Accuracy: 79.85%<br>Precision: 79.92%<br>Recall: 79.85%<br>ROC AUC: 85.88<br>Geometric Mean: 81.86<br>Matthews Correlation: 64.8<br>F1: 82.36<br>Log Loss: 17.56",
          "Multilayer Perceptron<br>Performance: 79.09%<br>Model ID: 1249<br>Accuracy: 79.52%<br>Precision: 79.59%<br>Recall: 79.52%<br>ROC AUC: 85.97<br>Geometric Mean: 81.86<br>Matthews Correlation: 64.8<br>F1: 82.36<br>Log Loss: 17.17",
          "Multilayer Perceptron<br>Performance: 79.09%<br>Model ID: 1251<br>Accuracy: 79.52%<br>Precision: 79.59%<br>Recall: 79.52%<br>ROC AUC: 85.97<br>Geometric Mean: 81.86<br>Matthews Correlation: 64.8<br>F1: 82.36<br>Log Loss: 17.17",
          "Multilayer Perceptron<br>Performance: 100.0%<br>Model ID: meta_4<br>Accuracy: 100.0%<br>Precision: 100.0%<br>Recall: 100.0%<br>ROC AUC: 100.0<br>Geometric Mean: 100.0<br>Matthews Correlation: 100.0<br>F1: 100.0<br>Log Loss: 0.0"
         ],
         "marker": {
          "color": [
           79.22,
           79.22,
           79.22,
           79.09,
           79.09,
           100
          ],
          "coloraxis": "coloraxis",
          "line": {
           "color": "Black",
           "width": 1
          },
          "opacity": 0.8,
          "size": [
           20,
           20,
           20,
           20,
           20,
           40
          ],
          "symbol": [
           "cross",
           "cross",
           "cross",
           "cross",
           "cross",
           "cross"
          ]
         },
         "mode": "markers",
         "name": "Multilayer Perceptron",
         "type": "scatter",
         "x": [
          4.390453338623047,
          3.6878931522369385,
          4.26026725769043,
          4.03666877746582,
          3.8265700340270996,
          -1.6806292533874512
         ],
         "xaxis": "x",
         "y": [
          8.882370948791504,
          8.538351058959961,
          8.073868751525879,
          8.436985969543457,
          8.037768363952637,
          1.8796119689941406
         ],
         "yaxis": "y"
        },
        {
         "hovertext": [
          "Logistic Regression<br>Performance: 83.67%<br>Model ID: 1677<br>Accuracy: 84.14%<br>Precision: 84.66%<br>Recall: 84.14%<br>ROC AUC: 90.32<br>Geometric Mean: 85.13<br>Matthews Correlation: 71.65<br>F1: 85.67<br>Log Loss: 3.51",
          "Logistic Regression<br>Performance: 83.66%<br>Model ID: 1741<br>Accuracy: 84.46%<br>Precision: 84.98%<br>Recall: 84.46%<br>ROC AUC: 90.58<br>Geometric Mean: 84.83<br>Matthews Correlation: 70.93<br>F1: 85.35<br>Log Loss: 3.37",
          "Logistic Regression<br>Performance: 83.54%<br>Model ID: 1901<br>Accuracy: 83.8%<br>Precision: 84.26%<br>Recall: 83.8%<br>ROC AUC: 90.5<br>Geometric Mean: 85.13<br>Matthews Correlation: 71.65<br>F1: 85.67<br>Log Loss: 3.41",
          "Logistic Regression<br>Performance: 83.53%<br>Model ID: 1773<br>Accuracy: 84.14%<br>Precision: 84.64%<br>Recall: 84.14%<br>ROC AUC: 90.65<br>Geometric Mean: 84.77<br>Matthews Correlation: 71.02<br>F1: 85.33<br>Log Loss: 3.23",
          "Logistic Regression<br>Performance: 83.41%<br>Model ID: 1869<br>Accuracy: 83.48%<br>Precision: 83.92%<br>Recall: 83.48%<br>ROC AUC: 90.54<br>Geometric Mean: 85.07<br>Matthews Correlation: 71.75<br>F1: 85.65<br>Log Loss: 2.97",
          "Logistic Regression<br>Performance: 100.0%<br>Model ID: meta_5<br>Accuracy: 100.0%<br>Precision: 100.0%<br>Recall: 100.0%<br>ROC AUC: 100.0<br>Geometric Mean: 100.0<br>Matthews Correlation: 100.0<br>F1: 100.0<br>Log Loss: 0.0"
         ],
         "marker": {
          "color": [
           83.67,
           83.66,
           83.54,
           83.53,
           83.41,
           100
          ],
          "coloraxis": "coloraxis",
          "line": {
           "color": "Black",
           "width": 1
          },
          "opacity": 0.8,
          "size": [
           20,
           20,
           20,
           20,
           20,
           40
          ],
          "symbol": [
           "diamond",
           "diamond",
           "diamond",
           "diamond",
           "diamond",
           "diamond"
          ]
         },
         "mode": "markers",
         "name": "Logistic Regression",
         "type": "scatter",
         "x": [
          3.7809970378875732,
          3.729074716567993,
          4.1392822265625,
          4.121728420257568,
          4.5140275955200195,
          -1.3720110654830933
         ],
         "xaxis": "x",
         "y": [
          16.97941017150879,
          17.720596313476562,
          17.965953826904297,
          17.450069427490234,
          17.736787796020508,
          1.6703840494155884
         ],
         "yaxis": "y"
        },
        {
         "hovertext": [
          "Linear Discriminant Analysis<br>Performance: 82.31%<br>Model ID: 1997<br>Accuracy: 83.16%<br>Precision: 84.11%<br>Recall: 83.16%<br>ROC AUC: 89.99<br>Geometric Mean: 83.32<br>Matthews Correlation: 68.51<br>F1: 83.94<br>Log Loss: 0.0",
          "Linear Discriminant Analysis<br>Performance: 82.31%<br>Model ID: 1998<br>Accuracy: 83.16%<br>Precision: 84.11%<br>Recall: 83.16%<br>ROC AUC: 89.99<br>Geometric Mean: 83.32<br>Matthews Correlation: 68.51<br>F1: 83.94<br>Log Loss: 0.0",
          "Linear Discriminant Analysis<br>Performance: 73.45%<br>Model ID: 1999<br>Accuracy: 75.89%<br>Precision: 76.41%<br>Recall: 75.89%<br>ROC AUC: 82.6<br>Geometric Mean: 75.39<br>Matthews Correlation: 52.04<br>F1: 75.95<br>Log Loss: 31.9",
          "Linear Discriminant Analysis<br>Performance: 73.45%<br>Model ID: 2000<br>Accuracy: 75.89%<br>Precision: 76.41%<br>Recall: 75.89%<br>ROC AUC: 82.6<br>Geometric Mean: 75.39<br>Matthews Correlation: 52.04<br>F1: 75.95<br>Log Loss: 31.9",
          "Linear Discriminant Analysis<br>Performance: 71.08%<br>Model ID: 2001<br>Accuracy: 74.25%<br>Precision: 74.65%<br>Recall: 74.25%<br>ROC AUC: 79.07<br>Geometric Mean: 73.45<br>Matthews Correlation: 47.92<br>F1: 73.99<br>Log Loss: 41.85",
          "Linear Discriminant Analysis<br>Performance: 98.85%<br>Model ID: meta_6<br>Accuracy: 99.01%<br>Precision: 99.01%<br>Recall: 99.01%<br>ROC AUC: 98.97<br>Geometric Mean: 98.97<br>Matthews Correlation: 98.0<br>F1: 99.01<br>Log Loss: 34.2"
         ],
         "marker": {
          "color": [
           82.31,
           82.31,
           73.45,
           73.45,
           71.08,
           98.85
          ],
          "coloraxis": "coloraxis",
          "line": {
           "color": "Black",
           "width": 1
          },
          "opacity": 0.8,
          "size": [
           20,
           20,
           20,
           20,
           20,
           40
          ],
          "symbol": [
           "star",
           "star",
           "star",
           "star",
           "star",
           "star"
          ]
         },
         "mode": "markers",
         "name": "Linear Discriminant Analysis",
         "type": "scatter",
         "x": [
          5.256203651428223,
          4.732844352722168,
          5.209222316741943,
          4.795966148376465,
          5.181037425994873,
          -1.1224596500396729
         ],
         "xaxis": "x",
         "y": [
          18.25482749938965,
          18.567012786865234,
          -7.660741806030273,
          -7.326364994049072,
          -7.056713581085205,
          1.9067572355270386
         ],
         "yaxis": "y"
        },
        {
         "hovertext": [
          "Quadratic Discriminant Analysis<br>Performance: 83.44%<br>Model ID: 2227<br>Accuracy: 81.49%<br>Precision: 81.79%<br>Recall: 81.49%<br>ROC AUC: 88.84<br>Geometric Mean: 87.24<br>Matthews Correlation: 75.55<br>F1: 87.7<br>Log Loss: 0.03",
          "Quadratic Discriminant Analysis<br>Performance: 83.44%<br>Model ID: 2231<br>Accuracy: 81.49%<br>Precision: 81.79%<br>Recall: 81.49%<br>ROC AUC: 88.84<br>Geometric Mean: 87.24<br>Matthews Correlation: 75.55<br>F1: 87.7<br>Log Loss: 0.03",
          "Quadratic Discriminant Analysis<br>Performance: 83.44%<br>Model ID: 2230<br>Accuracy: 81.49%<br>Precision: 81.79%<br>Recall: 81.49%<br>ROC AUC: 88.84<br>Geometric Mean: 87.24<br>Matthews Correlation: 75.55<br>F1: 87.7<br>Log Loss: 0.03",
          "Quadratic Discriminant Analysis<br>Performance: 83.44%<br>Model ID: 2229<br>Accuracy: 81.49%<br>Precision: 81.79%<br>Recall: 81.49%<br>ROC AUC: 88.84<br>Geometric Mean: 87.24<br>Matthews Correlation: 75.55<br>F1: 87.7<br>Log Loss: 0.03",
          "Quadratic Discriminant Analysis<br>Performance: 83.44%<br>Model ID: 2228<br>Accuracy: 81.49%<br>Precision: 81.79%<br>Recall: 81.49%<br>ROC AUC: 88.84<br>Geometric Mean: 87.24<br>Matthews Correlation: 75.55<br>F1: 87.7<br>Log Loss: 0.03",
          "Quadratic Discriminant Analysis<br>Performance: 91.25%<br>Model ID: meta_7<br>Accuracy: 92.41%<br>Precision: 92.43%<br>Recall: 92.41%<br>ROC AUC: 92.2<br>Geometric Mean: 92.2<br>Matthews Correlation: 84.7<br>F1: 92.4<br>Log Loss: 262.18"
         ],
         "marker": {
          "color": [
           83.44,
           83.44,
           83.44,
           83.44,
           83.44,
           91.25
          ],
          "coloraxis": "coloraxis",
          "line": {
           "color": "Black",
           "width": 1
          },
          "opacity": 0.8,
          "size": [
           20,
           20,
           20,
           20,
           20,
           40
          ],
          "symbol": [
           "hexagram",
           "hexagram",
           "hexagram",
           "hexagram",
           "hexagram",
           "hexagram"
          ]
         },
         "mode": "markers",
         "name": "Quadratic Discriminant Analysis",
         "type": "scatter",
         "x": [
          5.890683174133301,
          5.681130409240723,
          4.940703868865967,
          5.531856536865234,
          5.13933801651001,
          -1.7559162378311157
         ],
         "xaxis": "x",
         "y": [
          18.73160171508789,
          18.91096305847168,
          19.313825607299805,
          19.341096878051758,
          18.91425132751465,
          1.3765910863876343
         ],
         "yaxis": "y"
        },
        {
         "hovertext": [
          "Random Forest<br>Performance: 91.82%<br>Model ID: 2488<br>Accuracy: 84.13%<br>Precision: 84.34%<br>Recall: 84.13%<br>ROC AUC: 90.17<br>Geometric Mean: 100.0<br>Matthews Correlation: 100.0<br>F1: 100.0<br>Log Loss: 59.71",
          "Random Forest<br>Performance: 91.83%<br>Model ID: 2490<br>Accuracy: 84.13%<br>Precision: 84.31%<br>Recall: 84.13%<br>ROC AUC: 90.21<br>Geometric Mean: 100.0<br>Matthews Correlation: 100.0<br>F1: 100.0<br>Log Loss: 52.76",
          "Random Forest<br>Performance: 91.83%<br>Model ID: 2489<br>Accuracy: 84.13%<br>Precision: 84.34%<br>Recall: 84.13%<br>ROC AUC: 90.22<br>Geometric Mean: 100.0<br>Matthews Correlation: 100.0<br>F1: 100.0<br>Log Loss: 54.75",
          "Random Forest<br>Performance: 91.82%<br>Model ID: 2494<br>Accuracy: 84.13%<br>Precision: 84.38%<br>Recall: 84.13%<br>ROC AUC: 90.11<br>Geometric Mean: 100.0<br>Matthews Correlation: 100.0<br>F1: 100.0<br>Log Loss: 58.36",
          "Random Forest<br>Performance: 91.69%<br>Model ID: 2493<br>Accuracy: 83.8%<br>Precision: 84.02%<br>Recall: 83.8%<br>ROC AUC: 90.22<br>Geometric Mean: 100.0<br>Matthews Correlation: 100.0<br>F1: 100.0<br>Log Loss: 57.04",
          "Random Forest<br>Performance: 90.91%<br>Model ID: meta_8<br>Accuracy: 92.08%<br>Precision: 92.08%<br>Recall: 92.08%<br>ROC AUC: 92.02<br>Geometric Mean: 92.02<br>Matthews Correlation: 84.03<br>F1: 92.08<br>Log Loss: 273.58"
         ],
         "marker": {
          "color": [
           91.82,
           91.83,
           91.83,
           91.82,
           91.69,
           90.91
          ],
          "coloraxis": "coloraxis",
          "line": {
           "color": "Black",
           "width": 1
          },
          "opacity": 0.8,
          "size": [
           20,
           20,
           20,
           20,
           20,
           40
          ],
          "symbol": [
           "triangle-right",
           "triangle-right",
           "triangle-right",
           "triangle-right",
           "triangle-right",
           "triangle-right"
          ]
         },
         "mode": "markers",
         "name": "Random Forest",
         "type": "scatter",
         "x": [
          -4.111513614654541,
          -4.282687187194824,
          -4.596114635467529,
          -4.624383449554443,
          -3.9568228721618652,
          -1.2543530464172363
         ],
         "xaxis": "x",
         "y": [
          2.848944902420044,
          3.0120837688446045,
          2.331015110015869,
          2.5264339447021484,
          2.27129864692688,
          0.7558618783950806
         ],
         "yaxis": "y"
        },
        {
         "hovertext": [
          "Extra Trees<br>Performance: 92.27%<br>Model ID: 2667<br>Accuracy: 84.81%<br>Precision: 85.07%<br>Recall: 84.81%<br>ROC AUC: 91.22<br>Geometric Mean: 100.0<br>Matthews Correlation: 100.0<br>F1: 100.0<br>Log Loss: 0.0",
          "Extra Trees<br>Performance: 92.24%<br>Model ID: 2659<br>Accuracy: 84.8%<br>Precision: 84.98%<br>Recall: 84.8%<br>ROC AUC: 91.07<br>Geometric Mean: 100.0<br>Matthews Correlation: 100.0<br>F1: 100.0<br>Log Loss: 0.0",
          "Extra Trees<br>Performance: 92.24%<br>Model ID: 2660<br>Accuracy: 84.8%<br>Precision: 84.98%<br>Recall: 84.8%<br>ROC AUC: 91.07<br>Geometric Mean: 100.0<br>Matthews Correlation: 100.0<br>F1: 100.0<br>Log Loss: 0.0",
          "Extra Trees<br>Performance: 92.19%<br>Model ID: 2714<br>Accuracy: 84.48%<br>Precision: 84.59%<br>Recall: 84.48%<br>ROC AUC: 91.8<br>Geometric Mean: 100.0<br>Matthews Correlation: 100.0<br>F1: 100.0<br>Log Loss: 0.0",
          "Extra Trees<br>Performance: 92.19%<br>Model ID: 2715<br>Accuracy: 84.48%<br>Precision: 84.59%<br>Recall: 84.48%<br>ROC AUC: 91.76<br>Geometric Mean: 100.0<br>Matthews Correlation: 100.0<br>F1: 100.0<br>Log Loss: 0.0",
          "Extra Trees<br>Performance: 96.33%<br>Model ID: meta_9<br>Accuracy: 96.7%<br>Precision: 96.85%<br>Recall: 96.7%<br>ROC AUC: 96.91<br>Geometric Mean: 96.91<br>Matthews Correlation: 93.51<br>F1: 96.71<br>Log Loss: 113.99"
         ],
         "marker": {
          "color": [
           92.27,
           92.24,
           92.24,
           92.19,
           92.19,
           96.33
          ],
          "coloraxis": "coloraxis",
          "line": {
           "color": "Black",
           "width": 1
          },
          "opacity": 0.8,
          "size": [
           20,
           20,
           20,
           20,
           20,
           40
          ],
          "symbol": [
           "triangle-left",
           "triangle-left",
           "triangle-left",
           "triangle-left",
           "triangle-left",
           "triangle-left"
          ]
         },
         "mode": "markers",
         "name": "Extra Trees",
         "type": "scatter",
         "x": [
          -4.72832727432251,
          -5.103296279907227,
          -4.460942268371582,
          -4.427926540374756,
          -4.831216335296631,
          -2.286350965499878
         ],
         "xaxis": "x",
         "y": [
          4.961629867553711,
          4.606414794921875,
          4.884352684020996,
          4.257084369659424,
          4.212042331695557,
          0.9799998998641968
         ],
         "yaxis": "y"
        },
        {
         "hovertext": [
          "Adaptive Boosting<br>Performance: 85.49%<br>Model ID: 2808<br>Accuracy: 80.83%<br>Precision: 81.1%<br>Recall: 80.83%<br>ROC AUC: 87.46<br>Geometric Mean: 92.08<br>Matthews Correlation: 84.06<br>F1: 92.08<br>Log Loss: 91.04",
          "Adaptive Boosting<br>Performance: 85.37%<br>Model ID: 2845<br>Accuracy: 80.16%<br>Precision: 80.31%<br>Recall: 80.16%<br>ROC AUC: 83.52<br>Geometric Mean: 93.35<br>Matthews Correlation: 86.69<br>F1: 93.4<br>Log Loss: 99.49",
          "Adaptive Boosting<br>Performance: 85.29%<br>Model ID: 2811<br>Accuracy: 80.5%<br>Precision: 80.76%<br>Recall: 80.5%<br>ROC AUC: 86.95<br>Geometric Mean: 92.13<br>Matthews Correlation: 84.1<br>F1: 92.09<br>Log Loss: 92.25",
          "Adaptive Boosting<br>Performance: 85.19%<br>Model ID: 2812<br>Accuracy: 80.16%<br>Precision: 80.52%<br>Recall: 80.16%<br>ROC AUC: 87.19<br>Geometric Mean: 92.13<br>Matthews Correlation: 84.1<br>F1: 92.09<br>Log Loss: 92.14",
          "Adaptive Boosting<br>Performance: 85.18%<br>Model ID: 2809<br>Accuracy: 80.17%<br>Precision: 80.42%<br>Recall: 80.17%<br>ROC AUC: 87.3<br>Geometric Mean: 92.08<br>Matthews Correlation: 84.06<br>F1: 92.08<br>Log Loss: 91.13",
          "Adaptive Boosting<br>Performance: 93.03%<br>Model ID: meta_10<br>Accuracy: 93.73%<br>Precision: 94.1%<br>Recall: 93.73%<br>ROC AUC: 94.06<br>Geometric Mean: 94.06<br>Matthews Correlation: 87.78<br>F1: 93.74<br>Log Loss: 216.58"
         ],
         "marker": {
          "color": [
           85.49,
           85.37,
           85.29,
           85.19,
           85.18,
           93.03
          ],
          "coloraxis": "coloraxis",
          "line": {
           "color": "Black",
           "width": 1
          },
          "opacity": 0.8,
          "size": [
           20,
           20,
           20,
           20,
           20,
           40
          ],
          "symbol": [
           "triangle-down",
           "triangle-down",
           "triangle-down",
           "triangle-down",
           "triangle-down",
           "triangle-down"
          ]
         },
         "mode": "markers",
         "name": "Adaptive Boosting",
         "type": "scatter",
         "x": [
          18.157007217407227,
          18.647008895874023,
          18.42427635192871,
          17.875349044799805,
          18.069700241088867,
          18.118261337280273
         ],
         "xaxis": "x",
         "y": [
          32.894718170166016,
          33.0553092956543,
          32.45920944213867,
          33.050052642822266,
          32.30121612548828,
          32.51073455810547
         ],
         "yaxis": "y"
        },
        {
         "hovertext": [
          "Gradient Boosting<br>Performance: 89.77%<br>Model ID: 3030<br>Accuracy: 80.83%<br>Precision: 81.59%<br>Recall: 80.83%<br>ROC AUC: 87.84<br>Geometric Mean: 99.28<br>Matthews Correlation: 98.68<br>F1: 99.34<br>Log Loss: 3.39",
          "Gradient Boosting<br>Performance: 89.76%<br>Model ID: 3029<br>Accuracy: 80.83%<br>Precision: 81.59%<br>Recall: 80.83%<br>ROC AUC: 87.8<br>Geometric Mean: 99.28<br>Matthews Correlation: 98.68<br>F1: 99.34<br>Log Loss: 3.61",
          "Gradient Boosting<br>Performance: 89.76%<br>Model ID: 2969<br>Accuracy: 80.83%<br>Precision: 81.59%<br>Recall: 80.83%<br>ROC AUC: 87.77<br>Geometric Mean: 99.28<br>Matthews Correlation: 98.68<br>F1: 99.34<br>Log Loss: 3.61",
          "Gradient Boosting<br>Performance: 89.77%<br>Model ID: 2970<br>Accuracy: 80.83%<br>Precision: 81.59%<br>Recall: 80.83%<br>ROC AUC: 87.82<br>Geometric Mean: 99.28<br>Matthews Correlation: 98.68<br>F1: 99.34<br>Log Loss: 3.39",
          "Gradient Boosting<br>Performance: 89.75%<br>Model ID: 3026<br>Accuracy: 80.83%<br>Precision: 81.45%<br>Recall: 80.83%<br>ROC AUC: 87.84<br>Geometric Mean: 99.28<br>Matthews Correlation: 98.68<br>F1: 99.34<br>Log Loss: 4.1",
          "Gradient Boosting<br>Performance: 93.55%<br>Model ID: meta_11<br>Accuracy: 94.39%<br>Precision: 94.39%<br>Recall: 94.39%<br>ROC AUC: 94.31<br>Geometric Mean: 94.31<br>Matthews Correlation: 88.68<br>F1: 94.39<br>Log Loss: 193.78"
         ],
         "marker": {
          "color": [
           89.77,
           89.76,
           89.76,
           89.77,
           89.75,
           93.55
          ],
          "coloraxis": "coloraxis",
          "line": {
           "color": "Black",
           "width": 1
          },
          "opacity": 0.8,
          "size": [
           20,
           20,
           20,
           20,
           20,
           40
          ],
          "symbol": [
           "triangle-up",
           "triangle-up",
           "triangle-up",
           "triangle-up",
           "triangle-up",
           "triangle-up"
          ]
         },
         "mode": "markers",
         "name": "Gradient Boosting",
         "type": "scatter",
         "x": [
          7.714663028717041,
          8.239974975585938,
          8.656527519226074,
          8.01215648651123,
          8.127358436584473,
          -3.1234726905822754
         ],
         "xaxis": "x",
         "y": [
          6.835402011871338,
          6.591822624206543,
          6.8422088623046875,
          6.400297164916992,
          7.115101337432861,
          1.7075026035308838
         ],
         "yaxis": "y"
        },
        {
         "hovertext": [
          "K-Nearest Neighbor<br>Performance: 83.35%<br>Model ID: 452<br>Accuracy: 70.31%<br>Precision: 70.36%<br>Recall: 70.31%<br>ROC AUC: 72.5<br>Geometric Mean: 100.0<br>Matthews Correlation: 100.0<br>F1: 100.0<br>Log Loss: 0.0",
          "K-Nearest Neighbor<br>Performance: 83.28%<br>Model ID: 288<br>Accuracy: 69.62%<br>Precision: 69.8%<br>Recall: 69.62%<br>ROC AUC: 73.91<br>Geometric Mean: 100.0<br>Matthews Correlation: 100.0<br>F1: 100.0<br>Log Loss: 0.0",
          "K-Nearest Neighbor<br>Performance: 83.13%<br>Model ID: 96<br>Accuracy: 69.29%<br>Precision: 69.48%<br>Recall: 69.29%<br>ROC AUC: 73.84<br>Geometric Mean: 100.0<br>Matthews Correlation: 100.0<br>F1: 100.0<br>Log Loss: 0.0",
          "K-Nearest Neighbor<br>Performance: 83.13%<br>Model ID: 480<br>Accuracy: 69.29%<br>Precision: 69.48%<br>Recall: 69.29%<br>ROC AUC: 73.82<br>Geometric Mean: 100.0<br>Matthews Correlation: 100.0<br>F1: 100.0<br>Log Loss: 0.0",
          "K-Nearest Neighbor<br>Performance: 83.11%<br>Model ID: 458<br>Accuracy: 69.64%<br>Precision: 69.61%<br>Recall: 69.64%<br>ROC AUC: 72.85<br>Geometric Mean: 100.0<br>Matthews Correlation: 100.0<br>F1: 100.0<br>Log Loss: 0.0",
          "K-Nearest Neighbor<br>Performance: 87.44%<br>Model ID: meta_1<br>Accuracy: 89.11%<br>Precision: 89.41%<br>Recall: 89.11%<br>ROC AUC: 88.58<br>Geometric Mean: 88.58<br>Matthews Correlation: 78.24<br>F1: 89.03<br>Log Loss: 376.17"
         ],
         "marker": {
          "color": [
           83.35,
           83.28,
           83.13,
           83.13,
           83.11,
           87.44
          ],
          "coloraxis": "coloraxis",
          "line": {
           "color": "Black",
           "width": 1
          },
          "opacity": 0.8,
          "size": [
           20,
           20,
           20,
           20,
           20,
           40
          ],
          "symbol": [
           "circle",
           "circle",
           "circle",
           "circle",
           "circle",
           "circle"
          ]
         },
         "mode": "markers",
         "name": "K-Nearest Neighbor",
         "type": "scatter",
         "x": [
          9.028658866882324,
          9.523621559143066,
          10.009622573852539,
          9.161605834960938,
          9.33997631072998,
          2.730476140975952
         ],
         "xaxis": "x",
         "y": [
          6.214014530181885,
          5.524712562561035,
          6.010646820068359,
          6.102656364440918,
          6.1174211502075195,
          15.786165237426758
         ],
         "yaxis": "y"
        },
        {
         "hovertext": [
          "Support Vector Machine<br>Performance: 83.1%<br>Model ID: 694<br>Accuracy: 82.5%<br>Precision: 82.92%<br>Recall: 82.5%<br>ROC AUC: 89.98<br>Geometric Mean: 85.43<br>Matthews Correlation: 72.38<br>F1: 85.99<br>Log Loss: 0.62",
          "Support Vector Machine<br>Performance: 83.08%<br>Model ID: 650<br>Accuracy: 82.83%<br>Precision: 83.3%<br>Recall: 82.83%<br>ROC AUC: 90.14<br>Geometric Mean: 85.07<br>Matthews Correlation: 71.75<br>F1: 85.65<br>Log Loss: 0.71",
          "Support Vector Machine<br>Performance: 83.08%<br>Model ID: 646<br>Accuracy: 82.83%<br>Precision: 83.3%<br>Recall: 82.83%<br>ROC AUC: 90.15<br>Geometric Mean: 85.07<br>Matthews Correlation: 71.75<br>F1: 85.65<br>Log Loss: 0.69",
          "Support Vector Machine<br>Performance: 83.09%<br>Model ID: 642<br>Accuracy: 82.83%<br>Precision: 83.3%<br>Recall: 82.83%<br>ROC AUC: 90.19<br>Geometric Mean: 85.07<br>Matthews Correlation: 71.75<br>F1: 85.65<br>Log Loss: 0.68",
          "Support Vector Machine<br>Performance: 83.07%<br>Model ID: 654<br>Accuracy: 82.83%<br>Precision: 83.3%<br>Recall: 82.83%<br>ROC AUC: 90.09<br>Geometric Mean: 85.07<br>Matthews Correlation: 71.75<br>F1: 85.65<br>Log Loss: 0.69",
          "Support Vector Machine<br>Performance: 92.41%<br>Model ID: meta_2<br>Accuracy: 93.4%<br>Precision: 93.4%<br>Recall: 93.4%<br>ROC AUC: 93.29<br>Geometric Mean: 93.29<br>Matthews Correlation: 86.68<br>F1: 93.4<br>Log Loss: 227.98"
         ],
         "marker": {
          "color": [
           83.1,
           83.08,
           83.08,
           83.09,
           83.07,
           92.41
          ],
          "coloraxis": "coloraxis",
          "line": {
           "color": "Black",
           "width": 1
          },
          "opacity": 0.8,
          "size": [
           20,
           20,
           20,
           20,
           20,
           40
          ],
          "symbol": [
           "square",
           "square",
           "square",
           "square",
           "square",
           "square"
          ]
         },
         "mode": "markers",
         "name": "Support Vector Machine",
         "type": "scatter",
         "x": [
          4.37037992477417,
          4.120603561401367,
          4.509580135345459,
          4.6382904052734375,
          4.84464693069458,
          3.781531810760498
         ],
         "xaxis": "x",
         "y": [
          24.566566467285156,
          24.185501098632812,
          23.991649627685547,
          24.83733367919922,
          24.354408264160156,
          15.323705673217773
         ],
         "yaxis": "y"
        },
        {
         "hovertext": [
          "Gaussian Naive Bayes<br>Performance: 80.97%<br>Model ID: 737<br>Accuracy: 80.51%<br>Precision: 80.65%<br>Recall: 80.51%<br>ROC AUC: 89.18<br>Geometric Mean: 83.79<br>Matthews Correlation: 68.01<br>F1: 84.11<br>Log Loss: 100.0",
          "Gaussian Naive Bayes<br>Performance: 80.97%<br>Model ID: 1066<br>Accuracy: 80.51%<br>Precision: 80.65%<br>Recall: 80.51%<br>ROC AUC: 89.18<br>Geometric Mean: 83.79<br>Matthews Correlation: 68.01<br>F1: 84.11<br>Log Loss: 34.0",
          "Gaussian Naive Bayes<br>Performance: 80.97%<br>Model ID: 1079<br>Accuracy: 80.51%<br>Precision: 80.65%<br>Recall: 80.51%<br>ROC AUC: 89.18<br>Geometric Mean: 83.79<br>Matthews Correlation: 68.01<br>F1: 84.11<br>Log Loss: 31.4",
          "Gaussian Naive Bayes<br>Performance: 80.97%<br>Model ID: 1078<br>Accuracy: 80.51%<br>Precision: 80.65%<br>Recall: 80.51%<br>ROC AUC: 89.18<br>Geometric Mean: 83.79<br>Matthews Correlation: 68.01<br>F1: 84.11<br>Log Loss: 31.6",
          "Gaussian Naive Bayes<br>Performance: 80.97%<br>Model ID: 1077<br>Accuracy: 80.51%<br>Precision: 80.65%<br>Recall: 80.51%<br>ROC AUC: 89.18<br>Geometric Mean: 83.79<br>Matthews Correlation: 68.01<br>F1: 84.11<br>Log Loss: 31.8",
          "Gaussian Naive Bayes<br>Performance: 93.21%<br>Model ID: meta_3<br>Accuracy: 94.06%<br>Precision: 94.07%<br>Recall: 94.06%<br>ROC AUC: 94.07<br>Geometric Mean: 94.07<br>Matthews Correlation: 88.05<br>F1: 94.06<br>Log Loss: 205.18"
         ],
         "marker": {
          "color": [
           80.97,
           80.97,
           80.97,
           80.97,
           80.97,
           93.21
          ],
          "coloraxis": "coloraxis",
          "line": {
           "color": "Black",
           "width": 1
          },
          "opacity": 0.8,
          "size": [
           20,
           20,
           20,
           20,
           20,
           40
          ],
          "symbol": [
           "x",
           "x",
           "x",
           "x",
           "x",
           "x"
          ]
         },
         "mode": "markers",
         "name": "Gaussian Naive Bayes",
         "type": "scatter",
         "x": [
          -6.248223304748535,
          -6.106800556182861,
          -6.677692890167236,
          -5.910986423492432,
          -6.423823833465576,
          3.0569260120391846
         ],
         "xaxis": "x",
         "y": [
          20.493019104003906,
          20.634632110595703,
          20.063566207885742,
          20.830434799194336,
          20.317533493041992,
          16.087825775146484
         ],
         "yaxis": "y"
        },
        {
         "hovertext": [
          "Multilayer Perceptron<br>Performance: 79.22%<br>Model ID: 1262<br>Accuracy: 79.85%<br>Precision: 79.92%<br>Recall: 79.85%<br>ROC AUC: 85.88<br>Geometric Mean: 81.86<br>Matthews Correlation: 64.8<br>F1: 82.36<br>Log Loss: 17.56",
          "Multilayer Perceptron<br>Performance: 79.22%<br>Model ID: 1263<br>Accuracy: 79.85%<br>Precision: 79.92%<br>Recall: 79.85%<br>ROC AUC: 85.88<br>Geometric Mean: 81.86<br>Matthews Correlation: 64.8<br>F1: 82.36<br>Log Loss: 17.56",
          "Multilayer Perceptron<br>Performance: 79.22%<br>Model ID: 1261<br>Accuracy: 79.85%<br>Precision: 79.92%<br>Recall: 79.85%<br>ROC AUC: 85.88<br>Geometric Mean: 81.86<br>Matthews Correlation: 64.8<br>F1: 82.36<br>Log Loss: 17.56",
          "Multilayer Perceptron<br>Performance: 79.09%<br>Model ID: 1249<br>Accuracy: 79.52%<br>Precision: 79.59%<br>Recall: 79.52%<br>ROC AUC: 85.97<br>Geometric Mean: 81.86<br>Matthews Correlation: 64.8<br>F1: 82.36<br>Log Loss: 17.17",
          "Multilayer Perceptron<br>Performance: 79.09%<br>Model ID: 1251<br>Accuracy: 79.52%<br>Precision: 79.59%<br>Recall: 79.52%<br>ROC AUC: 85.97<br>Geometric Mean: 81.86<br>Matthews Correlation: 64.8<br>F1: 82.36<br>Log Loss: 17.17",
          "Multilayer Perceptron<br>Performance: 100.0%<br>Model ID: meta_4<br>Accuracy: 100.0%<br>Precision: 100.0%<br>Recall: 100.0%<br>ROC AUC: 100.0<br>Geometric Mean: 100.0<br>Matthews Correlation: 100.0<br>F1: 100.0<br>Log Loss: 0.0"
         ],
         "marker": {
          "color": [
           79.22,
           79.22,
           79.22,
           79.09,
           79.09,
           100
          ],
          "coloraxis": "coloraxis",
          "line": {
           "color": "Black",
           "width": 1
          },
          "opacity": 0.8,
          "size": [
           20,
           20,
           20,
           20,
           20,
           40
          ],
          "symbol": [
           "cross",
           "cross",
           "cross",
           "cross",
           "cross",
           "cross"
          ]
         },
         "mode": "markers",
         "name": "Multilayer Perceptron",
         "type": "scatter",
         "x": [
          8.911011695861816,
          8.849270820617676,
          9.35329532623291,
          8.627874374389648,
          9.164887428283691,
          3.6460132598876953
         ],
         "xaxis": "x",
         "y": [
          9.636942863464355,
          8.820417404174805,
          9.100783348083496,
          9.25539493560791,
          9.32325553894043,
          16.04628562927246
         ],
         "yaxis": "y"
        },
        {
         "hovertext": [
          "Logistic Regression<br>Performance: 83.67%<br>Model ID: 1677<br>Accuracy: 84.14%<br>Precision: 84.66%<br>Recall: 84.14%<br>ROC AUC: 90.32<br>Geometric Mean: 85.13<br>Matthews Correlation: 71.65<br>F1: 85.67<br>Log Loss: 3.51",
          "Logistic Regression<br>Performance: 83.66%<br>Model ID: 1741<br>Accuracy: 84.46%<br>Precision: 84.98%<br>Recall: 84.46%<br>ROC AUC: 90.58<br>Geometric Mean: 84.83<br>Matthews Correlation: 70.93<br>F1: 85.35<br>Log Loss: 3.37",
          "Logistic Regression<br>Performance: 83.54%<br>Model ID: 1901<br>Accuracy: 83.8%<br>Precision: 84.26%<br>Recall: 83.8%<br>ROC AUC: 90.5<br>Geometric Mean: 85.13<br>Matthews Correlation: 71.65<br>F1: 85.67<br>Log Loss: 3.41",
          "Logistic Regression<br>Performance: 83.53%<br>Model ID: 1773<br>Accuracy: 84.14%<br>Precision: 84.64%<br>Recall: 84.14%<br>ROC AUC: 90.65<br>Geometric Mean: 84.77<br>Matthews Correlation: 71.02<br>F1: 85.33<br>Log Loss: 3.23",
          "Logistic Regression<br>Performance: 83.41%<br>Model ID: 1869<br>Accuracy: 83.48%<br>Precision: 83.92%<br>Recall: 83.48%<br>ROC AUC: 90.54<br>Geometric Mean: 85.07<br>Matthews Correlation: 71.75<br>F1: 85.65<br>Log Loss: 2.97",
          "Logistic Regression<br>Performance: 100.0%<br>Model ID: meta_5<br>Accuracy: 100.0%<br>Precision: 100.0%<br>Recall: 100.0%<br>ROC AUC: 100.0<br>Geometric Mean: 100.0<br>Matthews Correlation: 100.0<br>F1: 100.0<br>Log Loss: 0.0"
         ],
         "marker": {
          "color": [
           83.67,
           83.66,
           83.54,
           83.53,
           83.41,
           100
          ],
          "coloraxis": "coloraxis",
          "line": {
           "color": "Black",
           "width": 1
          },
          "opacity": 0.8,
          "size": [
           20,
           20,
           20,
           20,
           20,
           40
          ],
          "symbol": [
           "diamond",
           "diamond",
           "diamond",
           "diamond",
           "diamond",
           "diamond"
          ]
         },
         "mode": "markers",
         "name": "Logistic Regression",
         "type": "scatter",
         "x": [
          4.712005138397217,
          5.3986077308654785,
          5.308630466461182,
          5.03178071975708,
          5.634280681610107,
          3.7127034664154053
         ],
         "xaxis": "x",
         "y": [
          27.008214950561523,
          26.577831268310547,
          27.383344650268555,
          26.872034072875977,
          27.185752868652344,
          16.645599365234375
         ],
         "yaxis": "y"
        },
        {
         "hovertext": [
          "Linear Discriminant Analysis<br>Performance: 82.31%<br>Model ID: 1997<br>Accuracy: 83.16%<br>Precision: 84.11%<br>Recall: 83.16%<br>ROC AUC: 89.99<br>Geometric Mean: 83.32<br>Matthews Correlation: 68.51<br>F1: 83.94<br>Log Loss: 0.0",
          "Linear Discriminant Analysis<br>Performance: 82.31%<br>Model ID: 1998<br>Accuracy: 83.16%<br>Precision: 84.11%<br>Recall: 83.16%<br>ROC AUC: 89.99<br>Geometric Mean: 83.32<br>Matthews Correlation: 68.51<br>F1: 83.94<br>Log Loss: 0.0",
          "Linear Discriminant Analysis<br>Performance: 73.45%<br>Model ID: 1999<br>Accuracy: 75.89%<br>Precision: 76.41%<br>Recall: 75.89%<br>ROC AUC: 82.6<br>Geometric Mean: 75.39<br>Matthews Correlation: 52.04<br>F1: 75.95<br>Log Loss: 31.9",
          "Linear Discriminant Analysis<br>Performance: 73.45%<br>Model ID: 2000<br>Accuracy: 75.89%<br>Precision: 76.41%<br>Recall: 75.89%<br>ROC AUC: 82.6<br>Geometric Mean: 75.39<br>Matthews Correlation: 52.04<br>F1: 75.95<br>Log Loss: 31.9",
          "Linear Discriminant Analysis<br>Performance: 71.08%<br>Model ID: 2001<br>Accuracy: 74.25%<br>Precision: 74.65%<br>Recall: 74.25%<br>ROC AUC: 79.07<br>Geometric Mean: 73.45<br>Matthews Correlation: 47.92<br>F1: 73.99<br>Log Loss: 41.85",
          "Linear Discriminant Analysis<br>Performance: 98.85%<br>Model ID: meta_6<br>Accuracy: 99.01%<br>Precision: 99.01%<br>Recall: 99.01%<br>ROC AUC: 98.97<br>Geometric Mean: 98.97<br>Matthews Correlation: 98.0<br>F1: 99.01<br>Log Loss: 34.2"
         ],
         "marker": {
          "color": [
           82.31,
           82.31,
           73.45,
           73.45,
           71.08,
           98.85
          ],
          "coloraxis": "coloraxis",
          "line": {
           "color": "Black",
           "width": 1
          },
          "opacity": 0.8,
          "size": [
           20,
           20,
           20,
           20,
           20,
           40
          ],
          "symbol": [
           "star",
           "star",
           "star",
           "star",
           "star",
           "star"
          ]
         },
         "mode": "markers",
         "name": "Linear Discriminant Analysis",
         "type": "scatter",
         "x": [
          5.903779983520508,
          5.617786407470703,
          9.535947799682617,
          10.067179679870605,
          9.934457778930664,
          3.2705931663513184
         ],
         "xaxis": "x",
         "y": [
          28.13665199279785,
          27.940622329711914,
          6.879980564117432,
          6.860474109649658,
          6.433727264404297,
          16.686445236206055
         ],
         "yaxis": "y"
        },
        {
         "hovertext": [
          "Quadratic Discriminant Analysis<br>Performance: 83.44%<br>Model ID: 2227<br>Accuracy: 81.49%<br>Precision: 81.79%<br>Recall: 81.49%<br>ROC AUC: 88.84<br>Geometric Mean: 87.24<br>Matthews Correlation: 75.55<br>F1: 87.7<br>Log Loss: 0.03",
          "Quadratic Discriminant Analysis<br>Performance: 83.44%<br>Model ID: 2231<br>Accuracy: 81.49%<br>Precision: 81.79%<br>Recall: 81.49%<br>ROC AUC: 88.84<br>Geometric Mean: 87.24<br>Matthews Correlation: 75.55<br>F1: 87.7<br>Log Loss: 0.03",
          "Quadratic Discriminant Analysis<br>Performance: 83.44%<br>Model ID: 2230<br>Accuracy: 81.49%<br>Precision: 81.79%<br>Recall: 81.49%<br>ROC AUC: 88.84<br>Geometric Mean: 87.24<br>Matthews Correlation: 75.55<br>F1: 87.7<br>Log Loss: 0.03",
          "Quadratic Discriminant Analysis<br>Performance: 83.44%<br>Model ID: 2229<br>Accuracy: 81.49%<br>Precision: 81.79%<br>Recall: 81.49%<br>ROC AUC: 88.84<br>Geometric Mean: 87.24<br>Matthews Correlation: 75.55<br>F1: 87.7<br>Log Loss: 0.03",
          "Quadratic Discriminant Analysis<br>Performance: 83.44%<br>Model ID: 2228<br>Accuracy: 81.49%<br>Precision: 81.79%<br>Recall: 81.49%<br>ROC AUC: 88.84<br>Geometric Mean: 87.24<br>Matthews Correlation: 75.55<br>F1: 87.7<br>Log Loss: 0.03",
          "Quadratic Discriminant Analysis<br>Performance: 91.25%<br>Model ID: meta_7<br>Accuracy: 92.41%<br>Precision: 92.43%<br>Recall: 92.41%<br>ROC AUC: 92.2<br>Geometric Mean: 92.2<br>Matthews Correlation: 84.7<br>F1: 92.4<br>Log Loss: 262.18"
         ],
         "marker": {
          "color": [
           83.44,
           83.44,
           83.44,
           83.44,
           83.44,
           91.25
          ],
          "coloraxis": "coloraxis",
          "line": {
           "color": "Black",
           "width": 1
          },
          "opacity": 0.8,
          "size": [
           20,
           20,
           20,
           20,
           20,
           40
          ],
          "symbol": [
           "hexagram",
           "hexagram",
           "hexagram",
           "hexagram",
           "hexagram",
           "hexagram"
          ]
         },
         "mode": "markers",
         "name": "Quadratic Discriminant Analysis",
         "type": "scatter",
         "x": [
          5.362105369567871,
          6.176791667938232,
          5.303826808929443,
          6.025720119476318,
          5.7580647468566895,
          3.700735092163086
         ],
         "xaxis": "x",
         "y": [
          29.013662338256836,
          28.704509735107422,
          28.510574340820312,
          29.046056747436523,
          28.70891571044922,
          15.941901206970215
         ],
         "yaxis": "y"
        },
        {
         "hovertext": [
          "Random Forest<br>Performance: 91.82%<br>Model ID: 2488<br>Accuracy: 84.13%<br>Precision: 84.34%<br>Recall: 84.13%<br>ROC AUC: 90.17<br>Geometric Mean: 100.0<br>Matthews Correlation: 100.0<br>F1: 100.0<br>Log Loss: 59.71",
          "Random Forest<br>Performance: 91.83%<br>Model ID: 2490<br>Accuracy: 84.13%<br>Precision: 84.31%<br>Recall: 84.13%<br>ROC AUC: 90.21<br>Geometric Mean: 100.0<br>Matthews Correlation: 100.0<br>F1: 100.0<br>Log Loss: 52.76",
          "Random Forest<br>Performance: 91.83%<br>Model ID: 2489<br>Accuracy: 84.13%<br>Precision: 84.34%<br>Recall: 84.13%<br>ROC AUC: 90.22<br>Geometric Mean: 100.0<br>Matthews Correlation: 100.0<br>F1: 100.0<br>Log Loss: 54.75",
          "Random Forest<br>Performance: 91.82%<br>Model ID: 2494<br>Accuracy: 84.13%<br>Precision: 84.38%<br>Recall: 84.13%<br>ROC AUC: 90.11<br>Geometric Mean: 100.0<br>Matthews Correlation: 100.0<br>F1: 100.0<br>Log Loss: 58.36",
          "Random Forest<br>Performance: 91.69%<br>Model ID: 2493<br>Accuracy: 83.8%<br>Precision: 84.02%<br>Recall: 83.8%<br>ROC AUC: 90.22<br>Geometric Mean: 100.0<br>Matthews Correlation: 100.0<br>F1: 100.0<br>Log Loss: 57.04",
          "Random Forest<br>Performance: 90.91%<br>Model ID: meta_8<br>Accuracy: 92.08%<br>Precision: 92.08%<br>Recall: 92.08%<br>ROC AUC: 92.02<br>Geometric Mean: 92.02<br>Matthews Correlation: 84.03<br>F1: 92.08<br>Log Loss: 273.58"
         ],
         "marker": {
          "color": [
           91.82,
           91.83,
           91.83,
           91.82,
           91.69,
           90.91
          ],
          "coloraxis": "coloraxis",
          "line": {
           "color": "Black",
           "width": 1
          },
          "opacity": 0.8,
          "size": [
           20,
           20,
           20,
           20,
           20,
           40
          ],
          "symbol": [
           "triangle-right",
           "triangle-right",
           "triangle-right",
           "triangle-right",
           "triangle-right",
           "triangle-right"
          ]
         },
         "mode": "markers",
         "name": "Random Forest",
         "type": "scatter",
         "x": [
          3.9322736263275146,
          4.5102105140686035,
          4.20794153213501,
          4.260720252990723,
          4.729150772094727,
          2.937443494796753
         ],
         "xaxis": "x",
         "y": [
          13.318827629089355,
          13.567561149597168,
          13.186817169189453,
          12.746370315551758,
          13.161201477050781,
          15.289664268493652
         ],
         "yaxis": "y"
        },
        {
         "hovertext": [
          "Extra Trees<br>Performance: 92.27%<br>Model ID: 2667<br>Accuracy: 84.81%<br>Precision: 85.07%<br>Recall: 84.81%<br>ROC AUC: 91.22<br>Geometric Mean: 100.0<br>Matthews Correlation: 100.0<br>F1: 100.0<br>Log Loss: 0.0",
          "Extra Trees<br>Performance: 92.24%<br>Model ID: 2659<br>Accuracy: 84.8%<br>Precision: 84.98%<br>Recall: 84.8%<br>ROC AUC: 91.07<br>Geometric Mean: 100.0<br>Matthews Correlation: 100.0<br>F1: 100.0<br>Log Loss: 0.0",
          "Extra Trees<br>Performance: 92.24%<br>Model ID: 2660<br>Accuracy: 84.8%<br>Precision: 84.98%<br>Recall: 84.8%<br>ROC AUC: 91.07<br>Geometric Mean: 100.0<br>Matthews Correlation: 100.0<br>F1: 100.0<br>Log Loss: 0.0",
          "Extra Trees<br>Performance: 92.19%<br>Model ID: 2714<br>Accuracy: 84.48%<br>Precision: 84.59%<br>Recall: 84.48%<br>ROC AUC: 91.8<br>Geometric Mean: 100.0<br>Matthews Correlation: 100.0<br>F1: 100.0<br>Log Loss: 0.0",
          "Extra Trees<br>Performance: 92.19%<br>Model ID: 2715<br>Accuracy: 84.48%<br>Precision: 84.59%<br>Recall: 84.48%<br>ROC AUC: 91.76<br>Geometric Mean: 100.0<br>Matthews Correlation: 100.0<br>F1: 100.0<br>Log Loss: 0.0",
          "Extra Trees<br>Performance: 96.33%<br>Model ID: meta_9<br>Accuracy: 96.7%<br>Precision: 96.85%<br>Recall: 96.7%<br>ROC AUC: 96.91<br>Geometric Mean: 96.91<br>Matthews Correlation: 93.51<br>F1: 96.71<br>Log Loss: 113.99"
         ],
         "marker": {
          "color": [
           92.27,
           92.24,
           92.24,
           92.19,
           92.19,
           96.33
          ],
          "coloraxis": "coloraxis",
          "line": {
           "color": "Black",
           "width": 1
          },
          "opacity": 0.8,
          "size": [
           20,
           20,
           20,
           20,
           20,
           40
          ],
          "symbol": [
           "triangle-left",
           "triangle-left",
           "triangle-left",
           "triangle-left",
           "triangle-left",
           "triangle-left"
          ]
         },
         "mode": "markers",
         "name": "Extra Trees",
         "type": "scatter",
         "x": [
          2.4383790493011475,
          3.0693674087524414,
          2.7527263164520264,
          2.9465057849884033,
          3.133395195007324,
          3.331392526626587
         ],
         "xaxis": "x",
         "y": [
          12.215478897094727,
          12.175369262695312,
          12.760136604309082,
          13.04684829711914,
          12.618119239807129,
          15.452546119689941
         ],
         "yaxis": "y"
        },
        {
         "hovertext": [
          "Adaptive Boosting<br>Performance: 85.49%<br>Model ID: 2808<br>Accuracy: 80.83%<br>Precision: 81.1%<br>Recall: 80.83%<br>ROC AUC: 87.46<br>Geometric Mean: 92.08<br>Matthews Correlation: 84.06<br>F1: 92.08<br>Log Loss: 91.04",
          "Adaptive Boosting<br>Performance: 85.37%<br>Model ID: 2845<br>Accuracy: 80.16%<br>Precision: 80.31%<br>Recall: 80.16%<br>ROC AUC: 83.52<br>Geometric Mean: 93.35<br>Matthews Correlation: 86.69<br>F1: 93.4<br>Log Loss: 99.49",
          "Adaptive Boosting<br>Performance: 85.29%<br>Model ID: 2811<br>Accuracy: 80.5%<br>Precision: 80.76%<br>Recall: 80.5%<br>ROC AUC: 86.95<br>Geometric Mean: 92.13<br>Matthews Correlation: 84.1<br>F1: 92.09<br>Log Loss: 92.25",
          "Adaptive Boosting<br>Performance: 85.19%<br>Model ID: 2812<br>Accuracy: 80.16%<br>Precision: 80.52%<br>Recall: 80.16%<br>ROC AUC: 87.19<br>Geometric Mean: 92.13<br>Matthews Correlation: 84.1<br>F1: 92.09<br>Log Loss: 92.14",
          "Adaptive Boosting<br>Performance: 85.18%<br>Model ID: 2809<br>Accuracy: 80.17%<br>Precision: 80.42%<br>Recall: 80.17%<br>ROC AUC: 87.3<br>Geometric Mean: 92.08<br>Matthews Correlation: 84.06<br>F1: 92.08<br>Log Loss: 91.13",
          "Adaptive Boosting<br>Performance: 93.03%<br>Model ID: meta_10<br>Accuracy: 93.73%<br>Precision: 94.1%<br>Recall: 93.73%<br>ROC AUC: 94.06<br>Geometric Mean: 94.06<br>Matthews Correlation: 87.78<br>F1: 93.74<br>Log Loss: 216.58"
         ],
         "marker": {
          "color": [
           85.49,
           85.37,
           85.29,
           85.19,
           85.18,
           93.03
          ],
          "coloraxis": "coloraxis",
          "line": {
           "color": "Black",
           "width": 1
          },
          "opacity": 0.8,
          "size": [
           20,
           20,
           20,
           20,
           20,
           40
          ],
          "symbol": [
           "triangle-down",
           "triangle-down",
           "triangle-down",
           "triangle-down",
           "triangle-down",
           "triangle-down"
          ]
         },
         "mode": "markers",
         "name": "Adaptive Boosting",
         "type": "scatter",
         "x": [
          -9.510519027709961,
          -8.842963218688965,
          -9.035005569458008,
          -9.091145515441895,
          -9.088600158691406,
          -9.766437530517578
         ],
         "xaxis": "x",
         "y": [
          -16.824596405029297,
          -16.710647583007812,
          -17.062772750854492,
          -16.17631721496582,
          -16.61664581298828,
          -16.407337188720703
         ],
         "yaxis": "y"
        },
        {
         "hovertext": [
          "Gradient Boosting<br>Performance: 89.77%<br>Model ID: 3030<br>Accuracy: 80.83%<br>Precision: 81.59%<br>Recall: 80.83%<br>ROC AUC: 87.84<br>Geometric Mean: 99.28<br>Matthews Correlation: 98.68<br>F1: 99.34<br>Log Loss: 3.39",
          "Gradient Boosting<br>Performance: 89.76%<br>Model ID: 3029<br>Accuracy: 80.83%<br>Precision: 81.59%<br>Recall: 80.83%<br>ROC AUC: 87.8<br>Geometric Mean: 99.28<br>Matthews Correlation: 98.68<br>F1: 99.34<br>Log Loss: 3.61",
          "Gradient Boosting<br>Performance: 89.76%<br>Model ID: 2969<br>Accuracy: 80.83%<br>Precision: 81.59%<br>Recall: 80.83%<br>ROC AUC: 87.77<br>Geometric Mean: 99.28<br>Matthews Correlation: 98.68<br>F1: 99.34<br>Log Loss: 3.61",
          "Gradient Boosting<br>Performance: 89.77%<br>Model ID: 2970<br>Accuracy: 80.83%<br>Precision: 81.59%<br>Recall: 80.83%<br>ROC AUC: 87.82<br>Geometric Mean: 99.28<br>Matthews Correlation: 98.68<br>F1: 99.34<br>Log Loss: 3.39",
          "Gradient Boosting<br>Performance: 89.75%<br>Model ID: 3026<br>Accuracy: 80.83%<br>Precision: 81.45%<br>Recall: 80.83%<br>ROC AUC: 87.84<br>Geometric Mean: 99.28<br>Matthews Correlation: 98.68<br>F1: 99.34<br>Log Loss: 4.1",
          "Gradient Boosting<br>Performance: 93.55%<br>Model ID: meta_11<br>Accuracy: 94.39%<br>Precision: 94.39%<br>Recall: 94.39%<br>ROC AUC: 94.31<br>Geometric Mean: 94.31<br>Matthews Correlation: 88.68<br>F1: 94.39<br>Log Loss: 193.78"
         ],
         "marker": {
          "color": [
           89.77,
           89.76,
           89.76,
           89.77,
           89.75,
           93.55
          ],
          "coloraxis": "coloraxis",
          "line": {
           "color": "Black",
           "width": 1
          },
          "opacity": 0.8,
          "size": [
           20,
           20,
           20,
           20,
           20,
           40
          ],
          "symbol": [
           "triangle-up",
           "triangle-up",
           "triangle-up",
           "triangle-up",
           "triangle-up",
           "triangle-up"
          ]
         },
         "mode": "markers",
         "name": "Gradient Boosting",
         "type": "scatter",
         "x": [
          -38.487640380859375,
          -38.162391662597656,
          -38.640804290771484,
          -38.95582580566406,
          -38.75546646118164,
          3.8394217491149902
         ],
         "xaxis": "x",
         "y": [
          -8.023195266723633,
          -7.697948455810547,
          -8.176349639892578,
          -8.4913911819458,
          -8.291009902954102,
          14.476842880249023
         ],
         "yaxis": "y"
        },
        {
         "hovertext": [
          "K-Nearest Neighbor<br>Performance: 83.35%<br>Model ID: 452<br>Accuracy: 70.31%<br>Precision: 70.36%<br>Recall: 70.31%<br>ROC AUC: 72.5<br>Geometric Mean: 100.0<br>Matthews Correlation: 100.0<br>F1: 100.0<br>Log Loss: 0.0",
          "K-Nearest Neighbor<br>Performance: 83.28%<br>Model ID: 288<br>Accuracy: 69.62%<br>Precision: 69.8%<br>Recall: 69.62%<br>ROC AUC: 73.91<br>Geometric Mean: 100.0<br>Matthews Correlation: 100.0<br>F1: 100.0<br>Log Loss: 0.0",
          "K-Nearest Neighbor<br>Performance: 83.13%<br>Model ID: 96<br>Accuracy: 69.29%<br>Precision: 69.48%<br>Recall: 69.29%<br>ROC AUC: 73.84<br>Geometric Mean: 100.0<br>Matthews Correlation: 100.0<br>F1: 100.0<br>Log Loss: 0.0",
          "K-Nearest Neighbor<br>Performance: 83.13%<br>Model ID: 480<br>Accuracy: 69.29%<br>Precision: 69.48%<br>Recall: 69.29%<br>ROC AUC: 73.82<br>Geometric Mean: 100.0<br>Matthews Correlation: 100.0<br>F1: 100.0<br>Log Loss: 0.0",
          "K-Nearest Neighbor<br>Performance: 83.11%<br>Model ID: 458<br>Accuracy: 69.64%<br>Precision: 69.61%<br>Recall: 69.64%<br>ROC AUC: 72.85<br>Geometric Mean: 100.0<br>Matthews Correlation: 100.0<br>F1: 100.0<br>Log Loss: 0.0",
          "K-Nearest Neighbor<br>Performance: 87.44%<br>Model ID: meta_1<br>Accuracy: 89.11%<br>Precision: 89.41%<br>Recall: 89.11%<br>ROC AUC: 88.58<br>Geometric Mean: 88.58<br>Matthews Correlation: 78.24<br>F1: 89.03<br>Log Loss: 376.17"
         ],
         "marker": {
          "color": [
           83.35,
           83.28,
           83.13,
           83.13,
           83.11,
           87.44
          ],
          "coloraxis": "coloraxis",
          "line": {
           "color": "Black",
           "width": 1
          },
          "opacity": 0.8,
          "size": [
           20,
           20,
           20,
           20,
           20,
           40
          ],
          "symbol": [
           "circle",
           "circle",
           "circle",
           "circle",
           "circle",
           "circle"
          ]
         },
         "mode": "markers",
         "name": "K-Nearest Neighbor",
         "type": "scatter",
         "x": [
          22.830848693847656,
          22.578901290893555,
          22.929195404052734,
          22.867046356201172,
          23.34615707397461,
          -2.489318370819092
         ],
         "xaxis": "x",
         "y": [
          8.67943286895752,
          7.842412948608398,
          8.106156349182129,
          7.654688358306885,
          8.48038387298584,
          6.815943717956543
         ],
         "yaxis": "y"
        },
        {
         "hovertext": [
          "Support Vector Machine<br>Performance: 83.1%<br>Model ID: 694<br>Accuracy: 82.5%<br>Precision: 82.92%<br>Recall: 82.5%<br>ROC AUC: 89.98<br>Geometric Mean: 85.43<br>Matthews Correlation: 72.38<br>F1: 85.99<br>Log Loss: 0.62",
          "Support Vector Machine<br>Performance: 83.08%<br>Model ID: 650<br>Accuracy: 82.83%<br>Precision: 83.3%<br>Recall: 82.83%<br>ROC AUC: 90.14<br>Geometric Mean: 85.07<br>Matthews Correlation: 71.75<br>F1: 85.65<br>Log Loss: 0.71",
          "Support Vector Machine<br>Performance: 83.08%<br>Model ID: 646<br>Accuracy: 82.83%<br>Precision: 83.3%<br>Recall: 82.83%<br>ROC AUC: 90.15<br>Geometric Mean: 85.07<br>Matthews Correlation: 71.75<br>F1: 85.65<br>Log Loss: 0.69",
          "Support Vector Machine<br>Performance: 83.09%<br>Model ID: 642<br>Accuracy: 82.83%<br>Precision: 83.3%<br>Recall: 82.83%<br>ROC AUC: 90.19<br>Geometric Mean: 85.07<br>Matthews Correlation: 71.75<br>F1: 85.65<br>Log Loss: 0.68",
          "Support Vector Machine<br>Performance: 83.07%<br>Model ID: 654<br>Accuracy: 82.83%<br>Precision: 83.3%<br>Recall: 82.83%<br>ROC AUC: 90.09<br>Geometric Mean: 85.07<br>Matthews Correlation: 71.75<br>F1: 85.65<br>Log Loss: 0.69",
          "Support Vector Machine<br>Performance: 92.41%<br>Model ID: meta_2<br>Accuracy: 93.4%<br>Precision: 93.4%<br>Recall: 93.4%<br>ROC AUC: 93.29<br>Geometric Mean: 93.29<br>Matthews Correlation: 86.68<br>F1: 93.4<br>Log Loss: 227.98"
         ],
         "marker": {
          "color": [
           83.1,
           83.08,
           83.08,
           83.09,
           83.07,
           92.41
          ],
          "coloraxis": "coloraxis",
          "line": {
           "color": "Black",
           "width": 1
          },
          "opacity": 0.8,
          "size": [
           20,
           20,
           20,
           20,
           20,
           40
          ],
          "symbol": [
           "square",
           "square",
           "square",
           "square",
           "square",
           "square"
          ]
         },
         "mode": "markers",
         "name": "Support Vector Machine",
         "type": "scatter",
         "x": [
          7.197608470916748,
          7.634382247924805,
          7.532723426818848,
          7.043571949005127,
          6.793106555938721,
          -2.2420687675476074
         ],
         "xaxis": "x",
         "y": [
          4.431394577026367,
          4.865131855010986,
          4.278323650360107,
          4.130772590637207,
          4.670036792755127,
          6.444727420806885
         ],
         "yaxis": "y"
        },
        {
         "hovertext": [
          "Gaussian Naive Bayes<br>Performance: 80.97%<br>Model ID: 737<br>Accuracy: 80.51%<br>Precision: 80.65%<br>Recall: 80.51%<br>ROC AUC: 89.18<br>Geometric Mean: 83.79<br>Matthews Correlation: 68.01<br>F1: 84.11<br>Log Loss: 100.0",
          "Gaussian Naive Bayes<br>Performance: 80.97%<br>Model ID: 1066<br>Accuracy: 80.51%<br>Precision: 80.65%<br>Recall: 80.51%<br>ROC AUC: 89.18<br>Geometric Mean: 83.79<br>Matthews Correlation: 68.01<br>F1: 84.11<br>Log Loss: 34.0",
          "Gaussian Naive Bayes<br>Performance: 80.97%<br>Model ID: 1079<br>Accuracy: 80.51%<br>Precision: 80.65%<br>Recall: 80.51%<br>ROC AUC: 89.18<br>Geometric Mean: 83.79<br>Matthews Correlation: 68.01<br>F1: 84.11<br>Log Loss: 31.4",
          "Gaussian Naive Bayes<br>Performance: 80.97%<br>Model ID: 1078<br>Accuracy: 80.51%<br>Precision: 80.65%<br>Recall: 80.51%<br>ROC AUC: 89.18<br>Geometric Mean: 83.79<br>Matthews Correlation: 68.01<br>F1: 84.11<br>Log Loss: 31.6",
          "Gaussian Naive Bayes<br>Performance: 80.97%<br>Model ID: 1077<br>Accuracy: 80.51%<br>Precision: 80.65%<br>Recall: 80.51%<br>ROC AUC: 89.18<br>Geometric Mean: 83.79<br>Matthews Correlation: 68.01<br>F1: 84.11<br>Log Loss: 31.8",
          "Gaussian Naive Bayes<br>Performance: 93.21%<br>Model ID: meta_3<br>Accuracy: 94.06%<br>Precision: 94.07%<br>Recall: 94.06%<br>ROC AUC: 94.07<br>Geometric Mean: 94.07<br>Matthews Correlation: 88.05<br>F1: 94.06<br>Log Loss: 205.18"
         ],
         "marker": {
          "color": [
           80.97,
           80.97,
           80.97,
           80.97,
           80.97,
           93.21
          ],
          "coloraxis": "coloraxis",
          "line": {
           "color": "Black",
           "width": 1
          },
          "opacity": 0.8,
          "size": [
           20,
           20,
           20,
           20,
           20,
           40
          ],
          "symbol": [
           "x",
           "x",
           "x",
           "x",
           "x",
           "x"
          ]
         },
         "mode": "markers",
         "name": "Gaussian Naive Bayes",
         "type": "scatter",
         "x": [
          5.9437575340271,
          5.108644485473633,
          5.401396751403809,
          5.794379234313965,
          5.499831199645996,
          -3.4127256870269775
         ],
         "xaxis": "x",
         "y": [
          20.308576583862305,
          19.471281051635742,
          19.764118194580078,
          20.157011032104492,
          19.86254119873047,
          6.881474494934082
         ],
         "yaxis": "y"
        },
        {
         "hovertext": [
          "Multilayer Perceptron<br>Performance: 79.22%<br>Model ID: 1262<br>Accuracy: 79.85%<br>Precision: 79.92%<br>Recall: 79.85%<br>ROC AUC: 85.88<br>Geometric Mean: 81.86<br>Matthews Correlation: 64.8<br>F1: 82.36<br>Log Loss: 17.56",
          "Multilayer Perceptron<br>Performance: 79.22%<br>Model ID: 1263<br>Accuracy: 79.85%<br>Precision: 79.92%<br>Recall: 79.85%<br>ROC AUC: 85.88<br>Geometric Mean: 81.86<br>Matthews Correlation: 64.8<br>F1: 82.36<br>Log Loss: 17.56",
          "Multilayer Perceptron<br>Performance: 79.22%<br>Model ID: 1261<br>Accuracy: 79.85%<br>Precision: 79.92%<br>Recall: 79.85%<br>ROC AUC: 85.88<br>Geometric Mean: 81.86<br>Matthews Correlation: 64.8<br>F1: 82.36<br>Log Loss: 17.56",
          "Multilayer Perceptron<br>Performance: 79.09%<br>Model ID: 1249<br>Accuracy: 79.52%<br>Precision: 79.59%<br>Recall: 79.52%<br>ROC AUC: 85.97<br>Geometric Mean: 81.86<br>Matthews Correlation: 64.8<br>F1: 82.36<br>Log Loss: 17.17",
          "Multilayer Perceptron<br>Performance: 79.09%<br>Model ID: 1251<br>Accuracy: 79.52%<br>Precision: 79.59%<br>Recall: 79.52%<br>ROC AUC: 85.97<br>Geometric Mean: 81.86<br>Matthews Correlation: 64.8<br>F1: 82.36<br>Log Loss: 17.17",
          "Multilayer Perceptron<br>Performance: 100.0%<br>Model ID: meta_4<br>Accuracy: 100.0%<br>Precision: 100.0%<br>Recall: 100.0%<br>ROC AUC: 100.0<br>Geometric Mean: 100.0<br>Matthews Correlation: 100.0<br>F1: 100.0<br>Log Loss: 0.0"
         ],
         "marker": {
          "color": [
           79.22,
           79.22,
           79.22,
           79.09,
           79.09,
           100
          ],
          "coloraxis": "coloraxis",
          "line": {
           "color": "Black",
           "width": 1
          },
          "opacity": 0.8,
          "size": [
           20,
           20,
           20,
           20,
           20,
           40
          ],
          "symbol": [
           "cross",
           "cross",
           "cross",
           "cross",
           "cross",
           "cross"
          ]
         },
         "mode": "markers",
         "name": "Multilayer Perceptron",
         "type": "scatter",
         "x": [
          27.586896896362305,
          26.816312789916992,
          26.767024993896484,
          27.197275161743164,
          27.172555923461914,
          -3.107635259628296
         ],
         "xaxis": "x",
         "y": [
          -2.461773157119751,
          -2.2825849056243896,
          -2.513995409011841,
          -2.080436944961548,
          -2.871692180633545,
          5.897961616516113
         ],
         "yaxis": "y"
        },
        {
         "hovertext": [
          "Logistic Regression<br>Performance: 83.67%<br>Model ID: 1677<br>Accuracy: 84.14%<br>Precision: 84.66%<br>Recall: 84.14%<br>ROC AUC: 90.32<br>Geometric Mean: 85.13<br>Matthews Correlation: 71.65<br>F1: 85.67<br>Log Loss: 3.51",
          "Logistic Regression<br>Performance: 83.66%<br>Model ID: 1741<br>Accuracy: 84.46%<br>Precision: 84.98%<br>Recall: 84.46%<br>ROC AUC: 90.58<br>Geometric Mean: 84.83<br>Matthews Correlation: 70.93<br>F1: 85.35<br>Log Loss: 3.37",
          "Logistic Regression<br>Performance: 83.54%<br>Model ID: 1901<br>Accuracy: 83.8%<br>Precision: 84.26%<br>Recall: 83.8%<br>ROC AUC: 90.5<br>Geometric Mean: 85.13<br>Matthews Correlation: 71.65<br>F1: 85.67<br>Log Loss: 3.41",
          "Logistic Regression<br>Performance: 83.53%<br>Model ID: 1773<br>Accuracy: 84.14%<br>Precision: 84.64%<br>Recall: 84.14%<br>ROC AUC: 90.65<br>Geometric Mean: 84.77<br>Matthews Correlation: 71.02<br>F1: 85.33<br>Log Loss: 3.23",
          "Logistic Regression<br>Performance: 83.41%<br>Model ID: 1869<br>Accuracy: 83.48%<br>Precision: 83.92%<br>Recall: 83.48%<br>ROC AUC: 90.54<br>Geometric Mean: 85.07<br>Matthews Correlation: 71.75<br>F1: 85.65<br>Log Loss: 2.97",
          "Logistic Regression<br>Performance: 100.0%<br>Model ID: meta_5<br>Accuracy: 100.0%<br>Precision: 100.0%<br>Recall: 100.0%<br>ROC AUC: 100.0<br>Geometric Mean: 100.0<br>Matthews Correlation: 100.0<br>F1: 100.0<br>Log Loss: 0.0"
         ],
         "marker": {
          "color": [
           83.67,
           83.66,
           83.54,
           83.53,
           83.41,
           100
          ],
          "coloraxis": "coloraxis",
          "line": {
           "color": "Black",
           "width": 1
          },
          "opacity": 0.8,
          "size": [
           20,
           20,
           20,
           20,
           20,
           40
          ],
          "symbol": [
           "diamond",
           "diamond",
           "diamond",
           "diamond",
           "diamond",
           "diamond"
          ]
         },
         "mode": "markers",
         "name": "Logistic Regression",
         "type": "scatter",
         "x": [
          17.24351692199707,
          17.603670120239258,
          17.858196258544922,
          17.029157638549805,
          17.391721725463867,
          -3.536494255065918
         ],
         "xaxis": "x",
         "y": [
          6.525573253631592,
          7.1437273025512695,
          6.549118518829346,
          6.894749164581299,
          6.189664840698242,
          6.014098167419434
         ],
         "yaxis": "y"
        },
        {
         "hovertext": [
          "Linear Discriminant Analysis<br>Performance: 82.31%<br>Model ID: 1997<br>Accuracy: 83.16%<br>Precision: 84.11%<br>Recall: 83.16%<br>ROC AUC: 89.99<br>Geometric Mean: 83.32<br>Matthews Correlation: 68.51<br>F1: 83.94<br>Log Loss: 0.0",
          "Linear Discriminant Analysis<br>Performance: 82.31%<br>Model ID: 1998<br>Accuracy: 83.16%<br>Precision: 84.11%<br>Recall: 83.16%<br>ROC AUC: 89.99<br>Geometric Mean: 83.32<br>Matthews Correlation: 68.51<br>F1: 83.94<br>Log Loss: 0.0",
          "Linear Discriminant Analysis<br>Performance: 73.45%<br>Model ID: 1999<br>Accuracy: 75.89%<br>Precision: 76.41%<br>Recall: 75.89%<br>ROC AUC: 82.6<br>Geometric Mean: 75.39<br>Matthews Correlation: 52.04<br>F1: 75.95<br>Log Loss: 31.9",
          "Linear Discriminant Analysis<br>Performance: 73.45%<br>Model ID: 2000<br>Accuracy: 75.89%<br>Precision: 76.41%<br>Recall: 75.89%<br>ROC AUC: 82.6<br>Geometric Mean: 75.39<br>Matthews Correlation: 52.04<br>F1: 75.95<br>Log Loss: 31.9",
          "Linear Discriminant Analysis<br>Performance: 71.08%<br>Model ID: 2001<br>Accuracy: 74.25%<br>Precision: 74.65%<br>Recall: 74.25%<br>ROC AUC: 79.07<br>Geometric Mean: 73.45<br>Matthews Correlation: 47.92<br>F1: 73.99<br>Log Loss: 41.85",
          "Linear Discriminant Analysis<br>Performance: 98.85%<br>Model ID: meta_6<br>Accuracy: 99.01%<br>Precision: 99.01%<br>Recall: 99.01%<br>ROC AUC: 98.97<br>Geometric Mean: 98.97<br>Matthews Correlation: 98.0<br>F1: 99.01<br>Log Loss: 34.2"
         ],
         "marker": {
          "color": [
           82.31,
           82.31,
           73.45,
           73.45,
           71.08,
           98.85
          ],
          "coloraxis": "coloraxis",
          "line": {
           "color": "Black",
           "width": 1
          },
          "opacity": 0.8,
          "size": [
           20,
           20,
           20,
           20,
           20,
           40
          ],
          "symbol": [
           "star",
           "star",
           "star",
           "star",
           "star",
           "star"
          ]
         },
         "mode": "markers",
         "name": "Linear Discriminant Analysis",
         "type": "scatter",
         "x": [
          18.020776748657227,
          17.63321876525879,
          23.22754669189453,
          23.830324172973633,
          23.6545352935791,
          -3.3213765621185303
         ],
         "xaxis": "x",
         "y": [
          5.714239597320557,
          5.339167594909668,
          7.430117130279541,
          7.70524787902832,
          7.898829936981201,
          6.330546855926514
         ],
         "yaxis": "y"
        },
        {
         "hovertext": [
          "Quadratic Discriminant Analysis<br>Performance: 83.44%<br>Model ID: 2227<br>Accuracy: 81.49%<br>Precision: 81.79%<br>Recall: 81.49%<br>ROC AUC: 88.84<br>Geometric Mean: 87.24<br>Matthews Correlation: 75.55<br>F1: 87.7<br>Log Loss: 0.03",
          "Quadratic Discriminant Analysis<br>Performance: 83.44%<br>Model ID: 2231<br>Accuracy: 81.49%<br>Precision: 81.79%<br>Recall: 81.49%<br>ROC AUC: 88.84<br>Geometric Mean: 87.24<br>Matthews Correlation: 75.55<br>F1: 87.7<br>Log Loss: 0.03",
          "Quadratic Discriminant Analysis<br>Performance: 83.44%<br>Model ID: 2230<br>Accuracy: 81.49%<br>Precision: 81.79%<br>Recall: 81.49%<br>ROC AUC: 88.84<br>Geometric Mean: 87.24<br>Matthews Correlation: 75.55<br>F1: 87.7<br>Log Loss: 0.03",
          "Quadratic Discriminant Analysis<br>Performance: 83.44%<br>Model ID: 2229<br>Accuracy: 81.49%<br>Precision: 81.79%<br>Recall: 81.49%<br>ROC AUC: 88.84<br>Geometric Mean: 87.24<br>Matthews Correlation: 75.55<br>F1: 87.7<br>Log Loss: 0.03",
          "Quadratic Discriminant Analysis<br>Performance: 83.44%<br>Model ID: 2228<br>Accuracy: 81.49%<br>Precision: 81.79%<br>Recall: 81.49%<br>ROC AUC: 88.84<br>Geometric Mean: 87.24<br>Matthews Correlation: 75.55<br>F1: 87.7<br>Log Loss: 0.03",
          "Quadratic Discriminant Analysis<br>Performance: 91.25%<br>Model ID: meta_7<br>Accuracy: 92.41%<br>Precision: 92.43%<br>Recall: 92.41%<br>ROC AUC: 92.2<br>Geometric Mean: 92.2<br>Matthews Correlation: 84.7<br>F1: 92.4<br>Log Loss: 262.18"
         ],
         "marker": {
          "color": [
           83.44,
           83.44,
           83.44,
           83.44,
           83.44,
           91.25
          ],
          "coloraxis": "coloraxis",
          "line": {
           "color": "Black",
           "width": 1
          },
          "opacity": 0.8,
          "size": [
           20,
           20,
           20,
           20,
           20,
           40
          ],
          "symbol": [
           "hexagram",
           "hexagram",
           "hexagram",
           "hexagram",
           "hexagram",
           "hexagram"
          ]
         },
         "mode": "markers",
         "name": "Quadratic Discriminant Analysis",
         "type": "scatter",
         "x": [
          18.651674270629883,
          17.88578224182129,
          18.090299606323242,
          18.557275772094727,
          18.42020034790039,
          -3.019099712371826
         ],
         "xaxis": "x",
         "y": [
          4.920078754425049,
          4.671991348266602,
          4.987678050994873,
          5.263668537139893,
          4.525160789489746,
          6.9894328117370605
         ],
         "yaxis": "y"
        },
        {
         "hovertext": [
          "Random Forest<br>Performance: 91.82%<br>Model ID: 2488<br>Accuracy: 84.13%<br>Precision: 84.34%<br>Recall: 84.13%<br>ROC AUC: 90.17<br>Geometric Mean: 100.0<br>Matthews Correlation: 100.0<br>F1: 100.0<br>Log Loss: 59.71",
          "Random Forest<br>Performance: 91.83%<br>Model ID: 2490<br>Accuracy: 84.13%<br>Precision: 84.31%<br>Recall: 84.13%<br>ROC AUC: 90.21<br>Geometric Mean: 100.0<br>Matthews Correlation: 100.0<br>F1: 100.0<br>Log Loss: 52.76",
          "Random Forest<br>Performance: 91.83%<br>Model ID: 2489<br>Accuracy: 84.13%<br>Precision: 84.34%<br>Recall: 84.13%<br>ROC AUC: 90.22<br>Geometric Mean: 100.0<br>Matthews Correlation: 100.0<br>F1: 100.0<br>Log Loss: 54.75",
          "Random Forest<br>Performance: 91.82%<br>Model ID: 2494<br>Accuracy: 84.13%<br>Precision: 84.38%<br>Recall: 84.13%<br>ROC AUC: 90.11<br>Geometric Mean: 100.0<br>Matthews Correlation: 100.0<br>F1: 100.0<br>Log Loss: 58.36",
          "Random Forest<br>Performance: 91.69%<br>Model ID: 2493<br>Accuracy: 83.8%<br>Precision: 84.02%<br>Recall: 83.8%<br>ROC AUC: 90.22<br>Geometric Mean: 100.0<br>Matthews Correlation: 100.0<br>F1: 100.0<br>Log Loss: 57.04",
          "Random Forest<br>Performance: 90.91%<br>Model ID: meta_8<br>Accuracy: 92.08%<br>Precision: 92.08%<br>Recall: 92.08%<br>ROC AUC: 92.02<br>Geometric Mean: 92.02<br>Matthews Correlation: 84.03<br>F1: 92.08<br>Log Loss: 273.58"
         ],
         "marker": {
          "color": [
           91.82,
           91.83,
           91.83,
           91.82,
           91.69,
           90.91
          ],
          "coloraxis": "coloraxis",
          "line": {
           "color": "Black",
           "width": 1
          },
          "opacity": 0.8,
          "size": [
           20,
           20,
           20,
           20,
           20,
           40
          ],
          "symbol": [
           "triangle-right",
           "triangle-right",
           "triangle-right",
           "triangle-right",
           "triangle-right",
           "triangle-right"
          ]
         },
         "mode": "markers",
         "name": "Random Forest",
         "type": "scatter",
         "x": [
          0.30974632501602173,
          0.09474524855613708,
          0.6630875468254089,
          0.19651463627815247,
          -0.19759857654571533,
          -2.2424230575561523
         ],
         "xaxis": "x",
         "y": [
          6.264663219451904,
          6.0869855880737305,
          6.525437355041504,
          6.731274604797363,
          6.591066360473633,
          6.0006184577941895
         ],
         "yaxis": "y"
        },
        {
         "hovertext": [
          "Extra Trees<br>Performance: 92.27%<br>Model ID: 2667<br>Accuracy: 84.81%<br>Precision: 85.07%<br>Recall: 84.81%<br>ROC AUC: 91.22<br>Geometric Mean: 100.0<br>Matthews Correlation: 100.0<br>F1: 100.0<br>Log Loss: 0.0",
          "Extra Trees<br>Performance: 92.24%<br>Model ID: 2659<br>Accuracy: 84.8%<br>Precision: 84.98%<br>Recall: 84.8%<br>ROC AUC: 91.07<br>Geometric Mean: 100.0<br>Matthews Correlation: 100.0<br>F1: 100.0<br>Log Loss: 0.0",
          "Extra Trees<br>Performance: 92.24%<br>Model ID: 2660<br>Accuracy: 84.8%<br>Precision: 84.98%<br>Recall: 84.8%<br>ROC AUC: 91.07<br>Geometric Mean: 100.0<br>Matthews Correlation: 100.0<br>F1: 100.0<br>Log Loss: 0.0",
          "Extra Trees<br>Performance: 92.19%<br>Model ID: 2714<br>Accuracy: 84.48%<br>Precision: 84.59%<br>Recall: 84.48%<br>ROC AUC: 91.8<br>Geometric Mean: 100.0<br>Matthews Correlation: 100.0<br>F1: 100.0<br>Log Loss: 0.0",
          "Extra Trees<br>Performance: 92.19%<br>Model ID: 2715<br>Accuracy: 84.48%<br>Precision: 84.59%<br>Recall: 84.48%<br>ROC AUC: 91.76<br>Geometric Mean: 100.0<br>Matthews Correlation: 100.0<br>F1: 100.0<br>Log Loss: 0.0",
          "Extra Trees<br>Performance: 96.33%<br>Model ID: meta_9<br>Accuracy: 96.7%<br>Precision: 96.85%<br>Recall: 96.7%<br>ROC AUC: 96.91<br>Geometric Mean: 96.91<br>Matthews Correlation: 93.51<br>F1: 96.71<br>Log Loss: 113.99"
         ],
         "marker": {
          "color": [
           92.27,
           92.24,
           92.24,
           92.19,
           92.19,
           96.33
          ],
          "coloraxis": "coloraxis",
          "line": {
           "color": "Black",
           "width": 1
          },
          "opacity": 0.8,
          "size": [
           20,
           20,
           20,
           20,
           20,
           40
          ],
          "symbol": [
           "triangle-left",
           "triangle-left",
           "triangle-left",
           "triangle-left",
           "triangle-left",
           "triangle-left"
          ]
         },
         "mode": "markers",
         "name": "Extra Trees",
         "type": "scatter",
         "x": [
          -0.4837060272693634,
          -0.6944738030433655,
          -0.17890769243240356,
          -0.18221363425254822,
          0.18920780718326569,
          -2.6765754222869873
         ],
         "xaxis": "x",
         "y": [
          8.019050598144531,
          7.571630954742432,
          8.004342079162598,
          7.317994594573975,
          7.725703239440918,
          6.311931610107422
         ],
         "yaxis": "y"
        },
        {
         "hovertext": [
          "Adaptive Boosting<br>Performance: 85.49%<br>Model ID: 2808<br>Accuracy: 80.83%<br>Precision: 81.1%<br>Recall: 80.83%<br>ROC AUC: 87.46<br>Geometric Mean: 92.08<br>Matthews Correlation: 84.06<br>F1: 92.08<br>Log Loss: 91.04",
          "Adaptive Boosting<br>Performance: 85.37%<br>Model ID: 2845<br>Accuracy: 80.16%<br>Precision: 80.31%<br>Recall: 80.16%<br>ROC AUC: 83.52<br>Geometric Mean: 93.35<br>Matthews Correlation: 86.69<br>F1: 93.4<br>Log Loss: 99.49",
          "Adaptive Boosting<br>Performance: 85.29%<br>Model ID: 2811<br>Accuracy: 80.5%<br>Precision: 80.76%<br>Recall: 80.5%<br>ROC AUC: 86.95<br>Geometric Mean: 92.13<br>Matthews Correlation: 84.1<br>F1: 92.09<br>Log Loss: 92.25",
          "Adaptive Boosting<br>Performance: 85.19%<br>Model ID: 2812<br>Accuracy: 80.16%<br>Precision: 80.52%<br>Recall: 80.16%<br>ROC AUC: 87.19<br>Geometric Mean: 92.13<br>Matthews Correlation: 84.1<br>F1: 92.09<br>Log Loss: 92.14",
          "Adaptive Boosting<br>Performance: 85.18%<br>Model ID: 2809<br>Accuracy: 80.17%<br>Precision: 80.42%<br>Recall: 80.17%<br>ROC AUC: 87.3<br>Geometric Mean: 92.08<br>Matthews Correlation: 84.06<br>F1: 92.08<br>Log Loss: 91.13",
          "Adaptive Boosting<br>Performance: 93.03%<br>Model ID: meta_10<br>Accuracy: 93.73%<br>Precision: 94.1%<br>Recall: 93.73%<br>ROC AUC: 94.06<br>Geometric Mean: 94.06<br>Matthews Correlation: 87.78<br>F1: 93.74<br>Log Loss: 216.58"
         ],
         "marker": {
          "color": [
           85.49,
           85.37,
           85.29,
           85.19,
           85.18,
           93.03
          ],
          "coloraxis": "coloraxis",
          "line": {
           "color": "Black",
           "width": 1
          },
          "opacity": 0.8,
          "size": [
           20,
           20,
           20,
           20,
           20,
           40
          ],
          "symbol": [
           "triangle-down",
           "triangle-down",
           "triangle-down",
           "triangle-down",
           "triangle-down",
           "triangle-down"
          ]
         },
         "mode": "markers",
         "name": "Adaptive Boosting",
         "type": "scatter",
         "x": [
          25.687368392944336,
          26.517322540283203,
          26.193761825561523,
          25.917186737060547,
          26.04315185546875,
          25.554340362548828
         ],
         "xaxis": "x",
         "y": [
          22.079795837402344,
          21.765640258789062,
          22.115354537963867,
          22.380109786987305,
          21.61237907409668,
          21.788978576660156
         ],
         "yaxis": "y"
        },
        {
         "hovertext": [
          "Gradient Boosting<br>Performance: 89.77%<br>Model ID: 3030<br>Accuracy: 80.83%<br>Precision: 81.59%<br>Recall: 80.83%<br>ROC AUC: 87.84<br>Geometric Mean: 99.28<br>Matthews Correlation: 98.68<br>F1: 99.34<br>Log Loss: 3.39",
          "Gradient Boosting<br>Performance: 89.76%<br>Model ID: 3029<br>Accuracy: 80.83%<br>Precision: 81.59%<br>Recall: 80.83%<br>ROC AUC: 87.8<br>Geometric Mean: 99.28<br>Matthews Correlation: 98.68<br>F1: 99.34<br>Log Loss: 3.61",
          "Gradient Boosting<br>Performance: 89.76%<br>Model ID: 2969<br>Accuracy: 80.83%<br>Precision: 81.59%<br>Recall: 80.83%<br>ROC AUC: 87.77<br>Geometric Mean: 99.28<br>Matthews Correlation: 98.68<br>F1: 99.34<br>Log Loss: 3.61",
          "Gradient Boosting<br>Performance: 89.77%<br>Model ID: 2970<br>Accuracy: 80.83%<br>Precision: 81.59%<br>Recall: 80.83%<br>ROC AUC: 87.82<br>Geometric Mean: 99.28<br>Matthews Correlation: 98.68<br>F1: 99.34<br>Log Loss: 3.39",
          "Gradient Boosting<br>Performance: 89.75%<br>Model ID: 3026<br>Accuracy: 80.83%<br>Precision: 81.45%<br>Recall: 80.83%<br>ROC AUC: 87.84<br>Geometric Mean: 99.28<br>Matthews Correlation: 98.68<br>F1: 99.34<br>Log Loss: 4.1",
          "Gradient Boosting<br>Performance: 93.55%<br>Model ID: meta_11<br>Accuracy: 94.39%<br>Precision: 94.39%<br>Recall: 94.39%<br>ROC AUC: 94.31<br>Geometric Mean: 94.31<br>Matthews Correlation: 88.68<br>F1: 94.39<br>Log Loss: 193.78"
         ],
         "marker": {
          "color": [
           89.77,
           89.76,
           89.76,
           89.77,
           89.75,
           93.55
          ],
          "coloraxis": "coloraxis",
          "line": {
           "color": "Black",
           "width": 1
          },
          "opacity": 0.8,
          "size": [
           20,
           20,
           20,
           20,
           20,
           40
          ],
          "symbol": [
           "triangle-up",
           "triangle-up",
           "triangle-up",
           "triangle-up",
           "triangle-up",
           "triangle-up"
          ]
         },
         "mode": "markers",
         "name": "Gradient Boosting",
         "type": "scatter",
         "x": [
          10.72479248046875,
          11.04926586151123,
          10.455525398254395,
          10.588519096374512,
          11.07431697845459,
          -1.3623327016830444
         ],
         "xaxis": "x",
         "y": [
          17.56969451904297,
          17.89350128173828,
          17.301198959350586,
          17.43311882019043,
          17.920568466186523,
          6.279173374176025
         ],
         "yaxis": "y"
        },
        {
         "hovertext": [
          "K-Nearest Neighbor<br>Performance: 83.35%<br>Model ID: 452<br>Accuracy: 70.31%<br>Precision: 70.36%<br>Recall: 70.31%<br>ROC AUC: 72.5<br>Geometric Mean: 100.0<br>Matthews Correlation: 100.0<br>F1: 100.0<br>Log Loss: 0.0",
          "K-Nearest Neighbor<br>Performance: 83.28%<br>Model ID: 288<br>Accuracy: 69.62%<br>Precision: 69.8%<br>Recall: 69.62%<br>ROC AUC: 73.91<br>Geometric Mean: 100.0<br>Matthews Correlation: 100.0<br>F1: 100.0<br>Log Loss: 0.0",
          "K-Nearest Neighbor<br>Performance: 83.13%<br>Model ID: 96<br>Accuracy: 69.29%<br>Precision: 69.48%<br>Recall: 69.29%<br>ROC AUC: 73.84<br>Geometric Mean: 100.0<br>Matthews Correlation: 100.0<br>F1: 100.0<br>Log Loss: 0.0",
          "K-Nearest Neighbor<br>Performance: 83.13%<br>Model ID: 480<br>Accuracy: 69.29%<br>Precision: 69.48%<br>Recall: 69.29%<br>ROC AUC: 73.82<br>Geometric Mean: 100.0<br>Matthews Correlation: 100.0<br>F1: 100.0<br>Log Loss: 0.0",
          "K-Nearest Neighbor<br>Performance: 83.11%<br>Model ID: 458<br>Accuracy: 69.64%<br>Precision: 69.61%<br>Recall: 69.64%<br>ROC AUC: 72.85<br>Geometric Mean: 100.0<br>Matthews Correlation: 100.0<br>F1: 100.0<br>Log Loss: 0.0",
          "Support Vector Machine<br>Performance: 83.1%<br>Model ID: 694<br>Accuracy: 82.5%<br>Precision: 82.92%<br>Recall: 82.5%<br>ROC AUC: 89.98<br>Geometric Mean: 85.43<br>Matthews Correlation: 72.38<br>F1: 85.99<br>Log Loss: 0.62",
          "Support Vector Machine<br>Performance: 83.08%<br>Model ID: 650<br>Accuracy: 82.83%<br>Precision: 83.3%<br>Recall: 82.83%<br>ROC AUC: 90.14<br>Geometric Mean: 85.07<br>Matthews Correlation: 71.75<br>F1: 85.65<br>Log Loss: 0.71",
          "Support Vector Machine<br>Performance: 83.08%<br>Model ID: 646<br>Accuracy: 82.83%<br>Precision: 83.3%<br>Recall: 82.83%<br>ROC AUC: 90.15<br>Geometric Mean: 85.07<br>Matthews Correlation: 71.75<br>F1: 85.65<br>Log Loss: 0.69",
          "Support Vector Machine<br>Performance: 83.09%<br>Model ID: 642<br>Accuracy: 82.83%<br>Precision: 83.3%<br>Recall: 82.83%<br>ROC AUC: 90.19<br>Geometric Mean: 85.07<br>Matthews Correlation: 71.75<br>F1: 85.65<br>Log Loss: 0.68",
          "Support Vector Machine<br>Performance: 83.07%<br>Model ID: 654<br>Accuracy: 82.83%<br>Precision: 83.3%<br>Recall: 82.83%<br>ROC AUC: 90.09<br>Geometric Mean: 85.07<br>Matthews Correlation: 71.75<br>F1: 85.65<br>Log Loss: 0.69",
          "Gaussian Naive Bayes<br>Performance: 80.97%<br>Model ID: 737<br>Accuracy: 80.51%<br>Precision: 80.65%<br>Recall: 80.51%<br>ROC AUC: 89.18<br>Geometric Mean: 83.79<br>Matthews Correlation: 68.01<br>F1: 84.11<br>Log Loss: 100.0",
          "Gaussian Naive Bayes<br>Performance: 80.97%<br>Model ID: 1066<br>Accuracy: 80.51%<br>Precision: 80.65%<br>Recall: 80.51%<br>ROC AUC: 89.18<br>Geometric Mean: 83.79<br>Matthews Correlation: 68.01<br>F1: 84.11<br>Log Loss: 34.0",
          "Gaussian Naive Bayes<br>Performance: 80.97%<br>Model ID: 1079<br>Accuracy: 80.51%<br>Precision: 80.65%<br>Recall: 80.51%<br>ROC AUC: 89.18<br>Geometric Mean: 83.79<br>Matthews Correlation: 68.01<br>F1: 84.11<br>Log Loss: 31.4",
          "Gaussian Naive Bayes<br>Performance: 80.97%<br>Model ID: 1078<br>Accuracy: 80.51%<br>Precision: 80.65%<br>Recall: 80.51%<br>ROC AUC: 89.18<br>Geometric Mean: 83.79<br>Matthews Correlation: 68.01<br>F1: 84.11<br>Log Loss: 31.6",
          "Gaussian Naive Bayes<br>Performance: 80.97%<br>Model ID: 1077<br>Accuracy: 80.51%<br>Precision: 80.65%<br>Recall: 80.51%<br>ROC AUC: 89.18<br>Geometric Mean: 83.79<br>Matthews Correlation: 68.01<br>F1: 84.11<br>Log Loss: 31.8",
          "Multilayer Perceptron<br>Performance: 79.22%<br>Model ID: 1262<br>Accuracy: 79.85%<br>Precision: 79.92%<br>Recall: 79.85%<br>ROC AUC: 85.88<br>Geometric Mean: 81.86<br>Matthews Correlation: 64.8<br>F1: 82.36<br>Log Loss: 17.56",
          "Multilayer Perceptron<br>Performance: 79.22%<br>Model ID: 1263<br>Accuracy: 79.85%<br>Precision: 79.92%<br>Recall: 79.85%<br>ROC AUC: 85.88<br>Geometric Mean: 81.86<br>Matthews Correlation: 64.8<br>F1: 82.36<br>Log Loss: 17.56",
          "Multilayer Perceptron<br>Performance: 79.22%<br>Model ID: 1261<br>Accuracy: 79.85%<br>Precision: 79.92%<br>Recall: 79.85%<br>ROC AUC: 85.88<br>Geometric Mean: 81.86<br>Matthews Correlation: 64.8<br>F1: 82.36<br>Log Loss: 17.56",
          "Multilayer Perceptron<br>Performance: 79.09%<br>Model ID: 1249<br>Accuracy: 79.52%<br>Precision: 79.59%<br>Recall: 79.52%<br>ROC AUC: 85.97<br>Geometric Mean: 81.86<br>Matthews Correlation: 64.8<br>F1: 82.36<br>Log Loss: 17.17",
          "Multilayer Perceptron<br>Performance: 79.09%<br>Model ID: 1251<br>Accuracy: 79.52%<br>Precision: 79.59%<br>Recall: 79.52%<br>ROC AUC: 85.97<br>Geometric Mean: 81.86<br>Matthews Correlation: 64.8<br>F1: 82.36<br>Log Loss: 17.17",
          "Logistic Regression<br>Performance: 83.67%<br>Model ID: 1677<br>Accuracy: 84.14%<br>Precision: 84.66%<br>Recall: 84.14%<br>ROC AUC: 90.32<br>Geometric Mean: 85.13<br>Matthews Correlation: 71.65<br>F1: 85.67<br>Log Loss: 3.51",
          "Logistic Regression<br>Performance: 83.66%<br>Model ID: 1741<br>Accuracy: 84.46%<br>Precision: 84.98%<br>Recall: 84.46%<br>ROC AUC: 90.58<br>Geometric Mean: 84.83<br>Matthews Correlation: 70.93<br>F1: 85.35<br>Log Loss: 3.37",
          "Logistic Regression<br>Performance: 83.54%<br>Model ID: 1901<br>Accuracy: 83.8%<br>Precision: 84.26%<br>Recall: 83.8%<br>ROC AUC: 90.5<br>Geometric Mean: 85.13<br>Matthews Correlation: 71.65<br>F1: 85.67<br>Log Loss: 3.41",
          "Logistic Regression<br>Performance: 83.53%<br>Model ID: 1773<br>Accuracy: 84.14%<br>Precision: 84.64%<br>Recall: 84.14%<br>ROC AUC: 90.65<br>Geometric Mean: 84.77<br>Matthews Correlation: 71.02<br>F1: 85.33<br>Log Loss: 3.23",
          "Logistic Regression<br>Performance: 83.41%<br>Model ID: 1869<br>Accuracy: 83.48%<br>Precision: 83.92%<br>Recall: 83.48%<br>ROC AUC: 90.54<br>Geometric Mean: 85.07<br>Matthews Correlation: 71.75<br>F1: 85.65<br>Log Loss: 2.97",
          "Linear Discriminant Analysis<br>Performance: 82.31%<br>Model ID: 1997<br>Accuracy: 83.16%<br>Precision: 84.11%<br>Recall: 83.16%<br>ROC AUC: 89.99<br>Geometric Mean: 83.32<br>Matthews Correlation: 68.51<br>F1: 83.94<br>Log Loss: 0.0",
          "Linear Discriminant Analysis<br>Performance: 82.31%<br>Model ID: 1998<br>Accuracy: 83.16%<br>Precision: 84.11%<br>Recall: 83.16%<br>ROC AUC: 89.99<br>Geometric Mean: 83.32<br>Matthews Correlation: 68.51<br>F1: 83.94<br>Log Loss: 0.0",
          "Linear Discriminant Analysis<br>Performance: 73.45%<br>Model ID: 1999<br>Accuracy: 75.89%<br>Precision: 76.41%<br>Recall: 75.89%<br>ROC AUC: 82.6<br>Geometric Mean: 75.39<br>Matthews Correlation: 52.04<br>F1: 75.95<br>Log Loss: 31.9",
          "Linear Discriminant Analysis<br>Performance: 73.45%<br>Model ID: 2000<br>Accuracy: 75.89%<br>Precision: 76.41%<br>Recall: 75.89%<br>ROC AUC: 82.6<br>Geometric Mean: 75.39<br>Matthews Correlation: 52.04<br>F1: 75.95<br>Log Loss: 31.9",
          "Linear Discriminant Analysis<br>Performance: 71.08%<br>Model ID: 2001<br>Accuracy: 74.25%<br>Precision: 74.65%<br>Recall: 74.25%<br>ROC AUC: 79.07<br>Geometric Mean: 73.45<br>Matthews Correlation: 47.92<br>F1: 73.99<br>Log Loss: 41.85",
          "Quadratic Discriminant Analysis<br>Performance: 83.44%<br>Model ID: 2227<br>Accuracy: 81.49%<br>Precision: 81.79%<br>Recall: 81.49%<br>ROC AUC: 88.84<br>Geometric Mean: 87.24<br>Matthews Correlation: 75.55<br>F1: 87.7<br>Log Loss: 0.03",
          "Quadratic Discriminant Analysis<br>Performance: 83.44%<br>Model ID: 2231<br>Accuracy: 81.49%<br>Precision: 81.79%<br>Recall: 81.49%<br>ROC AUC: 88.84<br>Geometric Mean: 87.24<br>Matthews Correlation: 75.55<br>F1: 87.7<br>Log Loss: 0.03",
          "Quadratic Discriminant Analysis<br>Performance: 83.44%<br>Model ID: 2230<br>Accuracy: 81.49%<br>Precision: 81.79%<br>Recall: 81.49%<br>ROC AUC: 88.84<br>Geometric Mean: 87.24<br>Matthews Correlation: 75.55<br>F1: 87.7<br>Log Loss: 0.03",
          "Quadratic Discriminant Analysis<br>Performance: 83.44%<br>Model ID: 2229<br>Accuracy: 81.49%<br>Precision: 81.79%<br>Recall: 81.49%<br>ROC AUC: 88.84<br>Geometric Mean: 87.24<br>Matthews Correlation: 75.55<br>F1: 87.7<br>Log Loss: 0.03",
          "Quadratic Discriminant Analysis<br>Performance: 83.44%<br>Model ID: 2228<br>Accuracy: 81.49%<br>Precision: 81.79%<br>Recall: 81.49%<br>ROC AUC: 88.84<br>Geometric Mean: 87.24<br>Matthews Correlation: 75.55<br>F1: 87.7<br>Log Loss: 0.03",
          "Random Forest<br>Performance: 91.82%<br>Model ID: 2488<br>Accuracy: 84.13%<br>Precision: 84.34%<br>Recall: 84.13%<br>ROC AUC: 90.17<br>Geometric Mean: 100.0<br>Matthews Correlation: 100.0<br>F1: 100.0<br>Log Loss: 59.71",
          "Random Forest<br>Performance: 91.83%<br>Model ID: 2490<br>Accuracy: 84.13%<br>Precision: 84.31%<br>Recall: 84.13%<br>ROC AUC: 90.21<br>Geometric Mean: 100.0<br>Matthews Correlation: 100.0<br>F1: 100.0<br>Log Loss: 52.76",
          "Random Forest<br>Performance: 91.83%<br>Model ID: 2489<br>Accuracy: 84.13%<br>Precision: 84.34%<br>Recall: 84.13%<br>ROC AUC: 90.22<br>Geometric Mean: 100.0<br>Matthews Correlation: 100.0<br>F1: 100.0<br>Log Loss: 54.75",
          "Random Forest<br>Performance: 91.82%<br>Model ID: 2494<br>Accuracy: 84.13%<br>Precision: 84.38%<br>Recall: 84.13%<br>ROC AUC: 90.11<br>Geometric Mean: 100.0<br>Matthews Correlation: 100.0<br>F1: 100.0<br>Log Loss: 58.36",
          "Random Forest<br>Performance: 91.69%<br>Model ID: 2493<br>Accuracy: 83.8%<br>Precision: 84.02%<br>Recall: 83.8%<br>ROC AUC: 90.22<br>Geometric Mean: 100.0<br>Matthews Correlation: 100.0<br>F1: 100.0<br>Log Loss: 57.04",
          "Extra Trees<br>Performance: 92.27%<br>Model ID: 2667<br>Accuracy: 84.81%<br>Precision: 85.07%<br>Recall: 84.81%<br>ROC AUC: 91.22<br>Geometric Mean: 100.0<br>Matthews Correlation: 100.0<br>F1: 100.0<br>Log Loss: 0.0",
          "Extra Trees<br>Performance: 92.24%<br>Model ID: 2659<br>Accuracy: 84.8%<br>Precision: 84.98%<br>Recall: 84.8%<br>ROC AUC: 91.07<br>Geometric Mean: 100.0<br>Matthews Correlation: 100.0<br>F1: 100.0<br>Log Loss: 0.0",
          "Extra Trees<br>Performance: 92.24%<br>Model ID: 2660<br>Accuracy: 84.8%<br>Precision: 84.98%<br>Recall: 84.8%<br>ROC AUC: 91.07<br>Geometric Mean: 100.0<br>Matthews Correlation: 100.0<br>F1: 100.0<br>Log Loss: 0.0",
          "Extra Trees<br>Performance: 92.19%<br>Model ID: 2714<br>Accuracy: 84.48%<br>Precision: 84.59%<br>Recall: 84.48%<br>ROC AUC: 91.8<br>Geometric Mean: 100.0<br>Matthews Correlation: 100.0<br>F1: 100.0<br>Log Loss: 0.0",
          "Extra Trees<br>Performance: 92.19%<br>Model ID: 2715<br>Accuracy: 84.48%<br>Precision: 84.59%<br>Recall: 84.48%<br>ROC AUC: 91.76<br>Geometric Mean: 100.0<br>Matthews Correlation: 100.0<br>F1: 100.0<br>Log Loss: 0.0",
          "Adaptive Boosting<br>Performance: 85.49%<br>Model ID: 2808<br>Accuracy: 80.83%<br>Precision: 81.1%<br>Recall: 80.83%<br>ROC AUC: 87.46<br>Geometric Mean: 92.08<br>Matthews Correlation: 84.06<br>F1: 92.08<br>Log Loss: 91.04",
          "Adaptive Boosting<br>Performance: 85.37%<br>Model ID: 2845<br>Accuracy: 80.16%<br>Precision: 80.31%<br>Recall: 80.16%<br>ROC AUC: 83.52<br>Geometric Mean: 93.35<br>Matthews Correlation: 86.69<br>F1: 93.4<br>Log Loss: 99.49",
          "Adaptive Boosting<br>Performance: 85.29%<br>Model ID: 2811<br>Accuracy: 80.5%<br>Precision: 80.76%<br>Recall: 80.5%<br>ROC AUC: 86.95<br>Geometric Mean: 92.13<br>Matthews Correlation: 84.1<br>F1: 92.09<br>Log Loss: 92.25",
          "Adaptive Boosting<br>Performance: 85.19%<br>Model ID: 2812<br>Accuracy: 80.16%<br>Precision: 80.52%<br>Recall: 80.16%<br>ROC AUC: 87.19<br>Geometric Mean: 92.13<br>Matthews Correlation: 84.1<br>F1: 92.09<br>Log Loss: 92.14",
          "Adaptive Boosting<br>Performance: 85.18%<br>Model ID: 2809<br>Accuracy: 80.17%<br>Precision: 80.42%<br>Recall: 80.17%<br>ROC AUC: 87.3<br>Geometric Mean: 92.08<br>Matthews Correlation: 84.06<br>F1: 92.08<br>Log Loss: 91.13",
          "Gradient Boosting<br>Performance: 89.77%<br>Model ID: 3030<br>Accuracy: 80.83%<br>Precision: 81.59%<br>Recall: 80.83%<br>ROC AUC: 87.84<br>Geometric Mean: 99.28<br>Matthews Correlation: 98.68<br>F1: 99.34<br>Log Loss: 3.39",
          "Gradient Boosting<br>Performance: 89.76%<br>Model ID: 3029<br>Accuracy: 80.83%<br>Precision: 81.59%<br>Recall: 80.83%<br>ROC AUC: 87.8<br>Geometric Mean: 99.28<br>Matthews Correlation: 98.68<br>F1: 99.34<br>Log Loss: 3.61",
          "Gradient Boosting<br>Performance: 89.76%<br>Model ID: 2969<br>Accuracy: 80.83%<br>Precision: 81.59%<br>Recall: 80.83%<br>ROC AUC: 87.77<br>Geometric Mean: 99.28<br>Matthews Correlation: 98.68<br>F1: 99.34<br>Log Loss: 3.61",
          "Gradient Boosting<br>Performance: 89.77%<br>Model ID: 2970<br>Accuracy: 80.83%<br>Precision: 81.59%<br>Recall: 80.83%<br>ROC AUC: 87.82<br>Geometric Mean: 99.28<br>Matthews Correlation: 98.68<br>F1: 99.34<br>Log Loss: 3.39",
          "Gradient Boosting<br>Performance: 89.75%<br>Model ID: 3026<br>Accuracy: 80.83%<br>Precision: 81.45%<br>Recall: 80.83%<br>ROC AUC: 87.84<br>Geometric Mean: 99.28<br>Matthews Correlation: 98.68<br>F1: 99.34<br>Log Loss: 4.1",
          "K-Nearest Neighbor<br>Performance: 87.44%<br>Model ID: meta_1<br>Accuracy: 89.11%<br>Precision: 89.41%<br>Recall: 89.11%<br>ROC AUC: 88.58<br>Geometric Mean: 88.58<br>Matthews Correlation: 78.24<br>F1: 89.03<br>Log Loss: 376.17",
          "Support Vector Machine<br>Performance: 92.41%<br>Model ID: meta_2<br>Accuracy: 93.4%<br>Precision: 93.4%<br>Recall: 93.4%<br>ROC AUC: 93.29<br>Geometric Mean: 93.29<br>Matthews Correlation: 86.68<br>F1: 93.4<br>Log Loss: 227.98",
          "Gaussian Naive Bayes<br>Performance: 93.21%<br>Model ID: meta_3<br>Accuracy: 94.06%<br>Precision: 94.07%<br>Recall: 94.06%<br>ROC AUC: 94.07<br>Geometric Mean: 94.07<br>Matthews Correlation: 88.05<br>F1: 94.06<br>Log Loss: 205.18",
          "Multilayer Perceptron<br>Performance: 100.0%<br>Model ID: meta_4<br>Accuracy: 100.0%<br>Precision: 100.0%<br>Recall: 100.0%<br>ROC AUC: 100.0<br>Geometric Mean: 100.0<br>Matthews Correlation: 100.0<br>F1: 100.0<br>Log Loss: 0.0",
          "Logistic Regression<br>Performance: 100.0%<br>Model ID: meta_5<br>Accuracy: 100.0%<br>Precision: 100.0%<br>Recall: 100.0%<br>ROC AUC: 100.0<br>Geometric Mean: 100.0<br>Matthews Correlation: 100.0<br>F1: 100.0<br>Log Loss: 0.0",
          "Linear Discriminant Analysis<br>Performance: 98.85%<br>Model ID: meta_6<br>Accuracy: 99.01%<br>Precision: 99.01%<br>Recall: 99.01%<br>ROC AUC: 98.97<br>Geometric Mean: 98.97<br>Matthews Correlation: 98.0<br>F1: 99.01<br>Log Loss: 34.2",
          "Quadratic Discriminant Analysis<br>Performance: 91.25%<br>Model ID: meta_7<br>Accuracy: 92.41%<br>Precision: 92.43%<br>Recall: 92.41%<br>ROC AUC: 92.2<br>Geometric Mean: 92.2<br>Matthews Correlation: 84.7<br>F1: 92.4<br>Log Loss: 262.18",
          "Random Forest<br>Performance: 90.91%<br>Model ID: meta_8<br>Accuracy: 92.08%<br>Precision: 92.08%<br>Recall: 92.08%<br>ROC AUC: 92.02<br>Geometric Mean: 92.02<br>Matthews Correlation: 84.03<br>F1: 92.08<br>Log Loss: 273.58",
          "Extra Trees<br>Performance: 96.33%<br>Model ID: meta_9<br>Accuracy: 96.7%<br>Precision: 96.85%<br>Recall: 96.7%<br>ROC AUC: 96.91<br>Geometric Mean: 96.91<br>Matthews Correlation: 93.51<br>F1: 96.71<br>Log Loss: 113.99",
          "Adaptive Boosting<br>Performance: 93.03%<br>Model ID: meta_10<br>Accuracy: 93.73%<br>Precision: 94.1%<br>Recall: 93.73%<br>ROC AUC: 94.06<br>Geometric Mean: 94.06<br>Matthews Correlation: 87.78<br>F1: 93.74<br>Log Loss: 216.58",
          "Gradient Boosting<br>Performance: 93.55%<br>Model ID: meta_11<br>Accuracy: 94.39%<br>Precision: 94.39%<br>Recall: 94.39%<br>ROC AUC: 94.31<br>Geometric Mean: 94.31<br>Matthews Correlation: 88.68<br>F1: 94.39<br>Log Loss: 193.78"
         ],
         "marker": {
          "color": [
           83.35,
           83.28,
           83.13,
           83.13,
           83.11,
           83.1,
           83.08,
           83.08,
           83.09,
           83.07,
           80.97,
           80.97,
           80.97,
           80.97,
           80.97,
           79.22,
           79.22,
           79.22,
           79.09,
           79.09,
           83.67,
           83.66,
           83.54,
           83.53,
           83.41,
           82.31,
           82.31,
           73.45,
           73.45,
           71.08,
           83.44,
           83.44,
           83.44,
           83.44,
           83.44,
           91.82,
           91.83,
           91.83,
           91.82,
           91.69,
           92.27,
           92.24,
           92.24,
           92.19,
           92.19,
           85.49,
           85.37,
           85.29,
           85.19,
           85.18,
           89.77,
           89.76,
           89.76,
           89.77,
           89.75,
           87.44,
           92.41,
           93.21,
           100,
           100,
           98.85,
           91.25,
           90.91,
           96.33,
           93.03,
           93.55
          ],
          "coloraxis": "coloraxis",
          "line": {
           "color": "Black",
           "width": 1
          },
          "opacity": 0.8,
          "size": [
           20,
           20,
           20,
           20,
           20,
           20,
           20,
           20,
           20,
           20,
           20,
           20,
           20,
           20,
           20,
           20,
           20,
           20,
           20,
           20,
           20,
           20,
           20,
           20,
           20,
           20,
           20,
           20,
           20,
           20,
           20,
           20,
           20,
           20,
           20,
           20,
           20,
           20,
           20,
           20,
           20,
           20,
           20,
           20,
           20,
           20,
           20,
           20,
           20,
           20,
           20,
           20,
           20,
           20,
           20,
           40,
           40,
           40,
           40,
           40,
           40,
           40,
           40,
           40,
           40,
           40
          ],
          "symbol": [
           "circle",
           "circle",
           "circle",
           "circle",
           "circle",
           "square",
           "square",
           "square",
           "square",
           "square",
           "x",
           "x",
           "x",
           "x",
           "x",
           "cross",
           "cross",
           "cross",
           "cross",
           "cross",
           "diamond",
           "diamond",
           "diamond",
           "diamond",
           "diamond",
           "star",
           "star",
           "star",
           "star",
           "star",
           "hexagram",
           "hexagram",
           "hexagram",
           "hexagram",
           "hexagram",
           "triangle-right",
           "triangle-right",
           "triangle-right",
           "triangle-right",
           "triangle-right",
           "triangle-left",
           "triangle-left",
           "triangle-left",
           "triangle-left",
           "triangle-left",
           "triangle-down",
           "triangle-down",
           "triangle-down",
           "triangle-down",
           "triangle-down",
           "triangle-up",
           "triangle-up",
           "triangle-up",
           "triangle-up",
           "triangle-up",
           "circle",
           "square",
           "x",
           "cross",
           "diamond",
           "star",
           "hexagram",
           "triangle-right",
           "triangle-left",
           "triangle-down",
           "triangle-up"
          ]
         },
         "mode": "markers",
         "type": "scatter",
         "x": [
          12.22986125946045,
          11.439957618713379,
          12.097200393676758,
          11.803276062011719,
          11.853726387023926,
          -3.764678955078125,
          -3.4205286502838135,
          -3.101407289505005,
          -3.4668502807617188,
          -3.7828786373138428,
          -7.6856818199157715,
          -7.23253870010376,
          -7.5367255210876465,
          -7.01148796081543,
          -7.154996871948242,
          33.30361557006836,
          33.17601013183594,
          33.51641082763672,
          33.768226623535156,
          33.96186447143555,
          -3.726816415786743,
          -3.9776980876922607,
          -3.7488973140716553,
          -4.325102806091309,
          -3.735205888748169,
          -4.953060626983643,
          -4.6823835372924805,
          34.1256103515625,
          33.961700439453125,
          34.34136199951172,
          9.199502944946289,
          9.817492485046387,
          9.34837532043457,
          9.572159767150879,
          9.997784614562988,
          5.000338554382324,
          5.4845147132873535,
          5.177639484405518,
          4.775908946990967,
          5.32448673248291,
          19.110050201416016,
          18.8460693359375,
          18.799524307250977,
          18.536460876464844,
          18.355375289916992,
          16.064044952392578,
          16.369617462158203,
          16.500629425048828,
          16.65424919128418,
          16.215194702148438,
          38.89756774902344,
          39.504356384277344,
          39.3354377746582,
          39.11265563964844,
          38.66410446166992,
          -2.825899600982666,
          -1.8704471588134766,
          -1.6069828271865845,
          0.29126638174057007,
          0.5813098549842834,
          0.06091058626770973,
          -2.508859872817993,
          -2.2957613468170166,
          -0.551263153553009,
          -1.805448293685913,
          -1.1141918897628784
         ],
         "xaxis": "x2",
         "y": [
          -6.578831195831299,
          -7.3697381019592285,
          -6.711116313934326,
          -7.005279064178467,
          -6.952284812927246,
          -3.3638360500335693,
          -2.7134017944335938,
          -2.9891114234924316,
          -2.4822661876678467,
          -3.056925058364868,
          -9.118570327758789,
          -8.665580749511719,
          -8.969501495361328,
          -8.444446563720703,
          -8.588024139404297,
          4.406899929046631,
          3.7638137340545654,
          4.025393486022949,
          4.1988139152526855,
          3.5728213787078857,
          -0.666995108127594,
          -0.6193764805793762,
          -1.1885080337524414,
          -0.3411072790622711,
          -1.6962032318115234,
          -0.6818625926971436,
          -0.2908324599266052,
          2.411073684692383,
          2.2415120601654053,
          2.6252455711364746,
          4.07616662979126,
          4.694190979003906,
          4.225162506103516,
          4.448779582977295,
          4.874326229095459,
          0.17509399354457855,
          0.6591802835464478,
          0.3524354100227356,
          -0.049134932458400726,
          0.5000002384185791,
          24.074296951293945,
          23.810314178466797,
          23.76376724243164,
          23.500701904296875,
          23.319604873657227,
          -8.958818435668945,
          -9.264640808105469,
          -9.395695686340332,
          -9.549707412719727,
          -9.110587120056152,
          -22.81582260131836,
          -23.422592163085938,
          -23.253684997558594,
          -23.030899047851562,
          -22.58234214782715,
          5.669814109802246,
          6.549473762512207,
          7.079411029815674,
          8.613699913024902,
          8.469884872436523,
          8.123025894165039,
          6.531928062438965,
          6.011496543884277,
          7.645655632019043,
          6.751784324645996,
          7.022397518157959
         ],
         "yaxis": "y2"
        }
       ],
       "layout": {
        "annotations": [
         {
          "font": {
           "size": 16
          },
          "showarrow": false,
          "text": "UMAP Probabilities",
          "x": 0.2425,
          "xanchor": "center",
          "xref": "paper",
          "y": 1,
          "yanchor": "bottom",
          "yref": "paper"
         },
         {
          "font": {
           "size": 16
          },
          "showarrow": false,
          "text": "UMAP Performance metrics",
          "x": 0.7575000000000001,
          "xanchor": "center",
          "xref": "paper",
          "y": 1,
          "yanchor": "bottom",
          "yref": "paper"
         }
        ],
        "coloraxis": {
         "colorscale": [
          [
           0,
           "#440154"
          ],
          [
           0.1111111111111111,
           "#482878"
          ],
          [
           0.2222222222222222,
           "#3e4989"
          ],
          [
           0.3333333333333333,
           "#31688e"
          ],
          [
           0.4444444444444444,
           "#26828e"
          ],
          [
           0.5555555555555556,
           "#1f9e89"
          ],
          [
           0.6666666666666666,
           "#35b779"
          ],
          [
           0.7777777777777778,
           "#6ece58"
          ],
          [
           0.8888888888888888,
           "#b5de2b"
          ],
          [
           1,
           "#fde725"
          ]
         ]
        },
        "height": 600,
        "hoverlabel": {
         "bgcolor": "white",
         "font": {
          "family": "Rockwell",
          "size": 14
         }
        },
        "hovermode": "closest",
        "legend": {
         "x": -0.3,
         "y": 0.45
        },
        "showlegend": true,
        "template": {
         "data": {
          "bar": [
           {
            "error_x": {
             "color": "#2a3f5f"
            },
            "error_y": {
             "color": "#2a3f5f"
            },
            "marker": {
             "line": {
              "color": "#E5ECF6",
              "width": 0.5
             },
             "pattern": {
              "fillmode": "overlay",
              "size": 10,
              "solidity": 0.2
             }
            },
            "type": "bar"
           }
          ],
          "barpolar": [
           {
            "marker": {
             "line": {
              "color": "#E5ECF6",
              "width": 0.5
             },
             "pattern": {
              "fillmode": "overlay",
              "size": 10,
              "solidity": 0.2
             }
            },
            "type": "barpolar"
           }
          ],
          "carpet": [
           {
            "aaxis": {
             "endlinecolor": "#2a3f5f",
             "gridcolor": "white",
             "linecolor": "white",
             "minorgridcolor": "white",
             "startlinecolor": "#2a3f5f"
            },
            "baxis": {
             "endlinecolor": "#2a3f5f",
             "gridcolor": "white",
             "linecolor": "white",
             "minorgridcolor": "white",
             "startlinecolor": "#2a3f5f"
            },
            "type": "carpet"
           }
          ],
          "choropleth": [
           {
            "colorbar": {
             "outlinewidth": 0,
             "ticks": ""
            },
            "type": "choropleth"
           }
          ],
          "contour": [
           {
            "colorbar": {
             "outlinewidth": 0,
             "ticks": ""
            },
            "colorscale": [
             [
              0,
              "#0d0887"
             ],
             [
              0.1111111111111111,
              "#46039f"
             ],
             [
              0.2222222222222222,
              "#7201a8"
             ],
             [
              0.3333333333333333,
              "#9c179e"
             ],
             [
              0.4444444444444444,
              "#bd3786"
             ],
             [
              0.5555555555555556,
              "#d8576b"
             ],
             [
              0.6666666666666666,
              "#ed7953"
             ],
             [
              0.7777777777777778,
              "#fb9f3a"
             ],
             [
              0.8888888888888888,
              "#fdca26"
             ],
             [
              1,
              "#f0f921"
             ]
            ],
            "type": "contour"
           }
          ],
          "contourcarpet": [
           {
            "colorbar": {
             "outlinewidth": 0,
             "ticks": ""
            },
            "type": "contourcarpet"
           }
          ],
          "heatmap": [
           {
            "colorbar": {
             "outlinewidth": 0,
             "ticks": ""
            },
            "colorscale": [
             [
              0,
              "#0d0887"
             ],
             [
              0.1111111111111111,
              "#46039f"
             ],
             [
              0.2222222222222222,
              "#7201a8"
             ],
             [
              0.3333333333333333,
              "#9c179e"
             ],
             [
              0.4444444444444444,
              "#bd3786"
             ],
             [
              0.5555555555555556,
              "#d8576b"
             ],
             [
              0.6666666666666666,
              "#ed7953"
             ],
             [
              0.7777777777777778,
              "#fb9f3a"
             ],
             [
              0.8888888888888888,
              "#fdca26"
             ],
             [
              1,
              "#f0f921"
             ]
            ],
            "type": "heatmap"
           }
          ],
          "heatmapgl": [
           {
            "colorbar": {
             "outlinewidth": 0,
             "ticks": ""
            },
            "colorscale": [
             [
              0,
              "#0d0887"
             ],
             [
              0.1111111111111111,
              "#46039f"
             ],
             [
              0.2222222222222222,
              "#7201a8"
             ],
             [
              0.3333333333333333,
              "#9c179e"
             ],
             [
              0.4444444444444444,
              "#bd3786"
             ],
             [
              0.5555555555555556,
              "#d8576b"
             ],
             [
              0.6666666666666666,
              "#ed7953"
             ],
             [
              0.7777777777777778,
              "#fb9f3a"
             ],
             [
              0.8888888888888888,
              "#fdca26"
             ],
             [
              1,
              "#f0f921"
             ]
            ],
            "type": "heatmapgl"
           }
          ],
          "histogram": [
           {
            "marker": {
             "pattern": {
              "fillmode": "overlay",
              "size": 10,
              "solidity": 0.2
             }
            },
            "type": "histogram"
           }
          ],
          "histogram2d": [
           {
            "colorbar": {
             "outlinewidth": 0,
             "ticks": ""
            },
            "colorscale": [
             [
              0,
              "#0d0887"
             ],
             [
              0.1111111111111111,
              "#46039f"
             ],
             [
              0.2222222222222222,
              "#7201a8"
             ],
             [
              0.3333333333333333,
              "#9c179e"
             ],
             [
              0.4444444444444444,
              "#bd3786"
             ],
             [
              0.5555555555555556,
              "#d8576b"
             ],
             [
              0.6666666666666666,
              "#ed7953"
             ],
             [
              0.7777777777777778,
              "#fb9f3a"
             ],
             [
              0.8888888888888888,
              "#fdca26"
             ],
             [
              1,
              "#f0f921"
             ]
            ],
            "type": "histogram2d"
           }
          ],
          "histogram2dcontour": [
           {
            "colorbar": {
             "outlinewidth": 0,
             "ticks": ""
            },
            "colorscale": [
             [
              0,
              "#0d0887"
             ],
             [
              0.1111111111111111,
              "#46039f"
             ],
             [
              0.2222222222222222,
              "#7201a8"
             ],
             [
              0.3333333333333333,
              "#9c179e"
             ],
             [
              0.4444444444444444,
              "#bd3786"
             ],
             [
              0.5555555555555556,
              "#d8576b"
             ],
             [
              0.6666666666666666,
              "#ed7953"
             ],
             [
              0.7777777777777778,
              "#fb9f3a"
             ],
             [
              0.8888888888888888,
              "#fdca26"
             ],
             [
              1,
              "#f0f921"
             ]
            ],
            "type": "histogram2dcontour"
           }
          ],
          "mesh3d": [
           {
            "colorbar": {
             "outlinewidth": 0,
             "ticks": ""
            },
            "type": "mesh3d"
           }
          ],
          "parcoords": [
           {
            "line": {
             "colorbar": {
              "outlinewidth": 0,
              "ticks": ""
             }
            },
            "type": "parcoords"
           }
          ],
          "pie": [
           {
            "automargin": true,
            "type": "pie"
           }
          ],
          "scatter": [
           {
            "fillpattern": {
             "fillmode": "overlay",
             "size": 10,
             "solidity": 0.2
            },
            "type": "scatter"
           }
          ],
          "scatter3d": [
           {
            "line": {
             "colorbar": {
              "outlinewidth": 0,
              "ticks": ""
             }
            },
            "marker": {
             "colorbar": {
              "outlinewidth": 0,
              "ticks": ""
             }
            },
            "type": "scatter3d"
           }
          ],
          "scattercarpet": [
           {
            "marker": {
             "colorbar": {
              "outlinewidth": 0,
              "ticks": ""
             }
            },
            "type": "scattercarpet"
           }
          ],
          "scattergeo": [
           {
            "marker": {
             "colorbar": {
              "outlinewidth": 0,
              "ticks": ""
             }
            },
            "type": "scattergeo"
           }
          ],
          "scattergl": [
           {
            "marker": {
             "colorbar": {
              "outlinewidth": 0,
              "ticks": ""
             }
            },
            "type": "scattergl"
           }
          ],
          "scattermapbox": [
           {
            "marker": {
             "colorbar": {
              "outlinewidth": 0,
              "ticks": ""
             }
            },
            "type": "scattermapbox"
           }
          ],
          "scatterpolar": [
           {
            "marker": {
             "colorbar": {
              "outlinewidth": 0,
              "ticks": ""
             }
            },
            "type": "scatterpolar"
           }
          ],
          "scatterpolargl": [
           {
            "marker": {
             "colorbar": {
              "outlinewidth": 0,
              "ticks": ""
             }
            },
            "type": "scatterpolargl"
           }
          ],
          "scatterternary": [
           {
            "marker": {
             "colorbar": {
              "outlinewidth": 0,
              "ticks": ""
             }
            },
            "type": "scatterternary"
           }
          ],
          "surface": [
           {
            "colorbar": {
             "outlinewidth": 0,
             "ticks": ""
            },
            "colorscale": [
             [
              0,
              "#0d0887"
             ],
             [
              0.1111111111111111,
              "#46039f"
             ],
             [
              0.2222222222222222,
              "#7201a8"
             ],
             [
              0.3333333333333333,
              "#9c179e"
             ],
             [
              0.4444444444444444,
              "#bd3786"
             ],
             [
              0.5555555555555556,
              "#d8576b"
             ],
             [
              0.6666666666666666,
              "#ed7953"
             ],
             [
              0.7777777777777778,
              "#fb9f3a"
             ],
             [
              0.8888888888888888,
              "#fdca26"
             ],
             [
              1,
              "#f0f921"
             ]
            ],
            "type": "surface"
           }
          ],
          "table": [
           {
            "cells": {
             "fill": {
              "color": "#EBF0F8"
             },
             "line": {
              "color": "white"
             }
            },
            "header": {
             "fill": {
              "color": "#C8D4E3"
             },
             "line": {
              "color": "white"
             }
            },
            "type": "table"
           }
          ]
         },
         "layout": {
          "annotationdefaults": {
           "arrowcolor": "#2a3f5f",
           "arrowhead": 0,
           "arrowwidth": 1
          },
          "autotypenumbers": "strict",
          "coloraxis": {
           "colorbar": {
            "outlinewidth": 0,
            "ticks": ""
           }
          },
          "colorscale": {
           "diverging": [
            [
             0,
             "#8e0152"
            ],
            [
             0.1,
             "#c51b7d"
            ],
            [
             0.2,
             "#de77ae"
            ],
            [
             0.3,
             "#f1b6da"
            ],
            [
             0.4,
             "#fde0ef"
            ],
            [
             0.5,
             "#f7f7f7"
            ],
            [
             0.6,
             "#e6f5d0"
            ],
            [
             0.7,
             "#b8e186"
            ],
            [
             0.8,
             "#7fbc41"
            ],
            [
             0.9,
             "#4d9221"
            ],
            [
             1,
             "#276419"
            ]
           ],
           "sequential": [
            [
             0,
             "#0d0887"
            ],
            [
             0.1111111111111111,
             "#46039f"
            ],
            [
             0.2222222222222222,
             "#7201a8"
            ],
            [
             0.3333333333333333,
             "#9c179e"
            ],
            [
             0.4444444444444444,
             "#bd3786"
            ],
            [
             0.5555555555555556,
             "#d8576b"
            ],
            [
             0.6666666666666666,
             "#ed7953"
            ],
            [
             0.7777777777777778,
             "#fb9f3a"
            ],
            [
             0.8888888888888888,
             "#fdca26"
            ],
            [
             1,
             "#f0f921"
            ]
           ],
           "sequentialminus": [
            [
             0,
             "#0d0887"
            ],
            [
             0.1111111111111111,
             "#46039f"
            ],
            [
             0.2222222222222222,
             "#7201a8"
            ],
            [
             0.3333333333333333,
             "#9c179e"
            ],
            [
             0.4444444444444444,
             "#bd3786"
            ],
            [
             0.5555555555555556,
             "#d8576b"
            ],
            [
             0.6666666666666666,
             "#ed7953"
            ],
            [
             0.7777777777777778,
             "#fb9f3a"
            ],
            [
             0.8888888888888888,
             "#fdca26"
            ],
            [
             1,
             "#f0f921"
            ]
           ]
          },
          "colorway": [
           "#636efa",
           "#EF553B",
           "#00cc96",
           "#ab63fa",
           "#FFA15A",
           "#19d3f3",
           "#FF6692",
           "#B6E880",
           "#FF97FF",
           "#FECB52"
          ],
          "font": {
           "color": "#2a3f5f"
          },
          "geo": {
           "bgcolor": "white",
           "lakecolor": "white",
           "landcolor": "#E5ECF6",
           "showlakes": true,
           "showland": true,
           "subunitcolor": "white"
          },
          "hoverlabel": {
           "align": "left"
          },
          "hovermode": "closest",
          "mapbox": {
           "style": "light"
          },
          "paper_bgcolor": "white",
          "plot_bgcolor": "#E5ECF6",
          "polar": {
           "angularaxis": {
            "gridcolor": "white",
            "linecolor": "white",
            "ticks": ""
           },
           "bgcolor": "#E5ECF6",
           "radialaxis": {
            "gridcolor": "white",
            "linecolor": "white",
            "ticks": ""
           }
          },
          "scene": {
           "xaxis": {
            "backgroundcolor": "#E5ECF6",
            "gridcolor": "white",
            "gridwidth": 2,
            "linecolor": "white",
            "showbackground": true,
            "ticks": "",
            "zerolinecolor": "white"
           },
           "yaxis": {
            "backgroundcolor": "#E5ECF6",
            "gridcolor": "white",
            "gridwidth": 2,
            "linecolor": "white",
            "showbackground": true,
            "ticks": "",
            "zerolinecolor": "white"
           },
           "zaxis": {
            "backgroundcolor": "#E5ECF6",
            "gridcolor": "white",
            "gridwidth": 2,
            "linecolor": "white",
            "showbackground": true,
            "ticks": "",
            "zerolinecolor": "white"
           }
          },
          "shapedefaults": {
           "line": {
            "color": "#2a3f5f"
           }
          },
          "ternary": {
           "aaxis": {
            "gridcolor": "white",
            "linecolor": "white",
            "ticks": ""
           },
           "baxis": {
            "gridcolor": "white",
            "linecolor": "white",
            "ticks": ""
           },
           "bgcolor": "#E5ECF6",
           "caxis": {
            "gridcolor": "white",
            "linecolor": "white",
            "ticks": ""
           }
          },
          "title": {
           "x": 0.05
          },
          "xaxis": {
           "automargin": true,
           "gridcolor": "white",
           "linecolor": "white",
           "ticks": "",
           "title": {
            "standoff": 15
           },
           "zerolinecolor": "white",
           "zerolinewidth": 2
          },
          "yaxis": {
           "automargin": true,
           "gridcolor": "white",
           "linecolor": "white",
           "ticks": "",
           "title": {
            "standoff": 15
           },
           "zerolinecolor": "white",
           "zerolinewidth": 2
          }
         }
        },
        "updatemenus": [
         {
          "active": 0,
          "buttons": [
           {
            "args": [
             {
              "visible": [
               true,
               true,
               true,
               true,
               true,
               true,
               true,
               true,
               true,
               true,
               true,
               false,
               false,
               false,
               false,
               false,
               false,
               false,
               false,
               false,
               false,
               false,
               false,
               false,
               false,
               false,
               false,
               false,
               false,
               false,
               false,
               false,
               false,
               false,
               false,
               false,
               false,
               false,
               false,
               false,
               false,
               false,
               false,
               false,
               false,
               false,
               false,
               false,
               false,
               false,
               false,
               false,
               false,
               false,
               false,
               false,
               false,
               false,
               false,
               false,
               false,
               false,
               false,
               false,
               false,
               false,
               false,
               false,
               false,
               false,
               false,
               false,
               false,
               false,
               false,
               false,
               false,
               false,
               false,
               false,
               false,
               false,
               false,
               false,
               false,
               false,
               false,
               false,
               true
              ]
             }
            ],
            "label": "number of neighbours 3",
            "method": "restyle"
           },
           {
            "args": [
             {
              "visible": [
               false,
               false,
               false,
               false,
               false,
               false,
               false,
               false,
               false,
               false,
               false,
               true,
               true,
               true,
               true,
               true,
               true,
               true,
               true,
               true,
               true,
               true,
               false,
               false,
               false,
               false,
               false,
               false,
               false,
               false,
               false,
               false,
               false,
               false,
               false,
               false,
               false,
               false,
               false,
               false,
               false,
               false,
               false,
               false,
               false,
               false,
               false,
               false,
               false,
               false,
               false,
               false,
               false,
               false,
               false,
               false,
               false,
               false,
               false,
               false,
               false,
               false,
               false,
               false,
               false,
               false,
               false,
               false,
               false,
               false,
               false,
               false,
               false,
               false,
               false,
               false,
               false,
               false,
               false,
               false,
               false,
               false,
               false,
               false,
               false,
               false,
               false,
               false,
               true
              ]
             }
            ],
            "label": "number of neighbours 4",
            "method": "restyle"
           },
           {
            "args": [
             {
              "visible": [
               false,
               false,
               false,
               false,
               false,
               false,
               false,
               false,
               false,
               false,
               false,
               false,
               false,
               false,
               false,
               false,
               false,
               false,
               false,
               false,
               false,
               false,
               true,
               true,
               true,
               true,
               true,
               true,
               true,
               true,
               true,
               true,
               true,
               false,
               false,
               false,
               false,
               false,
               false,
               false,
               false,
               false,
               false,
               false,
               false,
               false,
               false,
               false,
               false,
               false,
               false,
               false,
               false,
               false,
               false,
               false,
               false,
               false,
               false,
               false,
               false,
               false,
               false,
               false,
               false,
               false,
               false,
               false,
               false,
               false,
               false,
               false,
               false,
               false,
               false,
               false,
               false,
               false,
               false,
               false,
               false,
               false,
               false,
               false,
               false,
               false,
               false,
               false,
               true
              ]
             }
            ],
            "label": "number of neighbours 5",
            "method": "restyle"
           },
           {
            "args": [
             {
              "visible": [
               false,
               false,
               false,
               false,
               false,
               false,
               false,
               false,
               false,
               false,
               false,
               false,
               false,
               false,
               false,
               false,
               false,
               false,
               false,
               false,
               false,
               false,
               false,
               false,
               false,
               false,
               false,
               false,
               false,
               false,
               false,
               false,
               false,
               true,
               true,
               true,
               true,
               true,
               true,
               true,
               true,
               true,
               true,
               true,
               false,
               false,
               false,
               false,
               false,
               false,
               false,
               false,
               false,
               false,
               false,
               false,
               false,
               false,
               false,
               false,
               false,
               false,
               false,
               false,
               false,
               false,
               false,
               false,
               false,
               false,
               false,
               false,
               false,
               false,
               false,
               false,
               false,
               false,
               false,
               false,
               false,
               false,
               false,
               false,
               false,
               false,
               false,
               false,
               true
              ]
             }
            ],
            "label": "number of neighbours 6",
            "method": "restyle"
           },
           {
            "args": [
             {
              "visible": [
               false,
               false,
               false,
               false,
               false,
               false,
               false,
               false,
               false,
               false,
               false,
               false,
               false,
               false,
               false,
               false,
               false,
               false,
               false,
               false,
               false,
               false,
               false,
               false,
               false,
               false,
               false,
               false,
               false,
               false,
               false,
               false,
               false,
               false,
               false,
               false,
               false,
               false,
               false,
               false,
               false,
               false,
               false,
               false,
               true,
               true,
               true,
               true,
               true,
               true,
               true,
               true,
               true,
               true,
               true,
               false,
               false,
               false,
               false,
               false,
               false,
               false,
               false,
               false,
               false,
               false,
               false,
               false,
               false,
               false,
               false,
               false,
               false,
               false,
               false,
               false,
               false,
               false,
               false,
               false,
               false,
               false,
               false,
               false,
               false,
               false,
               false,
               false,
               true
              ]
             }
            ],
            "label": "number of neighbours 7",
            "method": "restyle"
           },
           {
            "args": [
             {
              "visible": [
               false,
               false,
               false,
               false,
               false,
               false,
               false,
               false,
               false,
               false,
               false,
               false,
               false,
               false,
               false,
               false,
               false,
               false,
               false,
               false,
               false,
               false,
               false,
               false,
               false,
               false,
               false,
               false,
               false,
               false,
               false,
               false,
               false,
               false,
               false,
               false,
               false,
               false,
               false,
               false,
               false,
               false,
               false,
               false,
               false,
               false,
               false,
               false,
               false,
               false,
               false,
               false,
               false,
               false,
               false,
               true,
               true,
               true,
               true,
               true,
               true,
               true,
               true,
               true,
               true,
               true,
               false,
               false,
               false,
               false,
               false,
               false,
               false,
               false,
               false,
               false,
               false,
               false,
               false,
               false,
               false,
               false,
               false,
               false,
               false,
               false,
               false,
               false,
               true
              ]
             }
            ],
            "label": "number of neighbours 8",
            "method": "restyle"
           },
           {
            "args": [
             {
              "visible": [
               false,
               false,
               false,
               false,
               false,
               false,
               false,
               false,
               false,
               false,
               false,
               false,
               false,
               false,
               false,
               false,
               false,
               false,
               false,
               false,
               false,
               false,
               false,
               false,
               false,
               false,
               false,
               false,
               false,
               false,
               false,
               false,
               false,
               false,
               false,
               false,
               false,
               false,
               false,
               false,
               false,
               false,
               false,
               false,
               false,
               false,
               false,
               false,
               false,
               false,
               false,
               false,
               false,
               false,
               false,
               false,
               false,
               false,
               false,
               false,
               false,
               false,
               false,
               false,
               false,
               false,
               true,
               true,
               true,
               true,
               true,
               true,
               true,
               true,
               true,
               true,
               true,
               false,
               false,
               false,
               false,
               false,
               false,
               false,
               false,
               false,
               false,
               false,
               true
              ]
             }
            ],
            "label": "number of neighbours 9",
            "method": "restyle"
           },
           {
            "args": [
             {
              "visible": [
               false,
               false,
               false,
               false,
               false,
               false,
               false,
               false,
               false,
               false,
               false,
               false,
               false,
               false,
               false,
               false,
               false,
               false,
               false,
               false,
               false,
               false,
               false,
               false,
               false,
               false,
               false,
               false,
               false,
               false,
               false,
               false,
               false,
               false,
               false,
               false,
               false,
               false,
               false,
               false,
               false,
               false,
               false,
               false,
               false,
               false,
               false,
               false,
               false,
               false,
               false,
               false,
               false,
               false,
               false,
               false,
               false,
               false,
               false,
               false,
               false,
               false,
               false,
               false,
               false,
               false,
               false,
               false,
               false,
               false,
               false,
               false,
               false,
               false,
               false,
               false,
               false,
               true,
               true,
               true,
               true,
               true,
               true,
               true,
               true,
               true,
               true,
               true,
               true
              ]
             }
            ],
            "label": "number of neighbours 10",
            "method": "restyle"
           }
          ],
          "direction": "down",
          "showactive": true
         }
        ],
        "width": 1200,
        "xaxis": {
         "anchor": "y",
         "domain": [
          0,
          0.485
         ],
         "showticklabels": false
        },
        "xaxis2": {
         "anchor": "y2",
         "domain": [
          0.515,
          1
         ],
         "showticklabels": false
        },
        "yaxis": {
         "anchor": "x",
         "domain": [
          0,
          1
         ],
         "showticklabels": false
        },
        "yaxis2": {
         "anchor": "x2",
         "domain": [
          0,
          1
         ],
         "matches": "y",
         "showticklabels": false
        }
       }
      }
     },
     "metadata": {},
     "output_type": "display_data"
    }
   ],
   "source": [
    "fig = go.Figure()\n",
    "\n",
    "symbols = ['circle', 'square', 'x', 'cross', 'diamond', 'star', 'hexagram', 'triangle-right', 'triangle-left', 'triangle-down', 'triangle-up']\n",
    "# convert symbols to dictionary with keys from 1 to 11\n",
    "symbols_dict = dict(zip(range(1, 12), symbols))\n",
    "\n",
    "fig = make_subplots(rows=1, cols=2, subplot_titles=('UMAP Probabilities', 'UMAP Performance metrics'), shared_yaxes='all', shared_xaxes=True,\n",
    "                    vertical_spacing=0.03, horizontal_spacing=0.03, specs=[[{'type': 'xy'}, {'type': 'xy'}]])\n",
    "\n",
    "# define number of neighbors\n",
    "neighb = 8\n",
    "\n",
    "\n",
    "# Plot UMAP, add hovertext and symbols, define colorscale by performance, add title\n",
    "for i in range(3, 3 + neighb):\n",
    "    for key in algos.keys():\n",
    "        df_model_red = df_model_all[df_model_all['algorithm_id'] == key]\n",
    "        fig.add_trace(go.Scatter(x=df_model_red[f'UMAP_1_prob_{i}'], y=df_model_red[f'UMAP_2_prob_{i}'], mode='markers', hovertext=df_model_red['text'], \n",
    "                    marker=dict(size=df_model_red['size']*20, symbol = df_model_red['algorithm_id'].map(symbols_dict), \n",
    "                    color=df_model_red['overall_performance'], coloraxis='coloraxis'), name = algos[key]), row=1, col=1)\n",
    "\n",
    "fig.add_trace(go.Scatter(x=df_model_all['UMAP_1_metrics'], y=df_model_all['UMAP_2_metrics'], mode='markers', hovertext=df_model_all['text'], \n",
    "            marker=dict(size=df_model_all['size']*20, symbol = df_model_all['algorithm_id'].map(symbols_dict), \n",
    "            color=df_model_all['overall_performance'], coloraxis='coloraxis')), row=1, col=2)\n",
    "\n",
    "# show symbols for each algorithm in the legend\n",
    "\n",
    "def create_layout_button(n):\n",
    "    list = [False] * (neighb*11 + 1)\n",
    "    list[-1] = True\n",
    "    if n == 0:\n",
    "        list[n] = True\n",
    "        for i in range(1, 11):\n",
    "            list[i] = True\n",
    "    else:\n",
    "        list[11*n] = True\n",
    "        for i in range(11*n, 11*n + 11):\n",
    "            list[i] = True\n",
    "    return dict(label = f'number of neighbours {n+3}',\n",
    "                method = 'restyle',\n",
    "                args = [{'visible': list}])\n",
    "\n",
    "\n",
    "fig.update_layout(\n",
    "        updatemenus=[go.layout.Updatemenu(\n",
    "            active = 0,\n",
    "            buttons = [create_layout_button(i) for i in range(neighb)],\n",
    "            direction = 'down',\n",
    "            showactive = True)])\n",
    "\n",
    "# remove axes labels\n",
    "fig.update_xaxes(showticklabels=False)\n",
    "fig.update_yaxes(showticklabels=False)\n",
    "fig.update_traces(marker=dict(opacity=0.8, line=dict(width=1, color='Black')), selector=dict(mode='markers'))\n",
    "# define symbols for markers based on symbols defined\n",
    "fig.update_layout(hoverlabel=dict(bgcolor=\"white\", font_size=14, font_family=\"Rockwell\"), hovermode='closest')\n",
    "# define plot as square\n",
    "fig.update_layout(width=1200, height=600)\n",
    "# add tooltip\n",
    "fig.update_layout(hovermode='closest')\n",
    "fig.update_layout(coloraxis=dict(colorscale='Viridis'), showlegend=True)\n",
    "# move legend to the left\n",
    "fig.update_layout(legend=dict(x=-0.3, y=0.45))\n",
    "\n",
    "\n",
    "fig.show()"
   ]
  },
  {
   "cell_type": "markdown",
   "metadata": {},
   "source": [
    "\n",
    "### Scatter plot matrix with Correlation"
   ]
  },
  {
   "cell_type": "markdown",
   "metadata": {},
   "source": [
    "We will operate further only with prediction results, which are not the same for the all 11 meta models; the main idea is to investigate the differencies and combinations of different metamodels. That can be cosidered as feature engineering to df_pred_meta dataframe (dataframe with all 11 meta models predictions per instance) to keep only the columns, which are not the same for all 11 meta models."
   ]
  },
  {
   "cell_type": "code",
   "execution_count": 200,
   "metadata": {},
   "outputs": [],
   "source": [
    "# # find columns in with not the same values in the whole column and save in a different dataframe\n",
    "# df_pred_meta_red = df_pred_meta.loc[:, df_pred_meta.apply(pd.Series.nunique, axis=0) != 1]\n",
    "# transpose df_pred_meta to have columns as algorithms and rows as algorithms\n",
    "df_pred_meta_t = df_pred_meta.transpose()\n",
    "# rename columns to meta_1 to meta_11\n",
    "df_pred_meta_t.columns = [f'meta_{i}' for i in range(1, 12)]\n",
    "# # reset index and drop algortihm_id\n",
    "# df_pred_meta_t.reset_index(inplace=True)\n",
    "# df_pred_meta_t.drop(columns=['algorithm_id'], inplace=True)\n",
    "# concatinate with df_target\n",
    "df_pred_meta_t = pd.concat([df_pred_meta_t, df_target], axis=1)\n",
    "# rename class to target\n",
    "df_pred_meta_t.rename(columns={'class': 'target'}, inplace=True)"
   ]
  },
  {
   "cell_type": "code",
   "execution_count": 185,
   "metadata": {},
   "outputs": [
    {
     "data": {
      "text/html": [
       "<div>\n",
       "<style scoped>\n",
       "    .dataframe tbody tr th:only-of-type {\n",
       "        vertical-align: middle;\n",
       "    }\n",
       "\n",
       "    .dataframe tbody tr th {\n",
       "        vertical-align: top;\n",
       "    }\n",
       "\n",
       "    .dataframe thead th {\n",
       "        text-align: right;\n",
       "    }\n",
       "</style>\n",
       "<table border=\"1\" class=\"dataframe\">\n",
       "  <thead>\n",
       "    <tr style=\"text-align: right;\">\n",
       "      <th></th>\n",
       "      <th>meta_1</th>\n",
       "      <th>meta_2</th>\n",
       "      <th>meta_3</th>\n",
       "      <th>meta_4</th>\n",
       "      <th>meta_5</th>\n",
       "      <th>meta_6</th>\n",
       "      <th>meta_7</th>\n",
       "      <th>meta_8</th>\n",
       "      <th>meta_9</th>\n",
       "      <th>meta_10</th>\n",
       "      <th>meta_11</th>\n",
       "    </tr>\n",
       "  </thead>\n",
       "  <tbody>\n",
       "    <tr>\n",
       "      <th>meta_1</th>\n",
       "      <td>NaN</td>\n",
       "      <td>0.93</td>\n",
       "      <td>0.94</td>\n",
       "      <td>1.0</td>\n",
       "      <td>1.0</td>\n",
       "      <td>1.0</td>\n",
       "      <td>0.92</td>\n",
       "      <td>0.93</td>\n",
       "      <td>0.97</td>\n",
       "      <td>0.98</td>\n",
       "      <td>0.96</td>\n",
       "    </tr>\n",
       "    <tr>\n",
       "      <th>meta_2</th>\n",
       "      <td>0.93</td>\n",
       "      <td>NaN</td>\n",
       "      <td>0.94</td>\n",
       "      <td>1.0</td>\n",
       "      <td>1.0</td>\n",
       "      <td>1.0</td>\n",
       "      <td>0.93</td>\n",
       "      <td>0.95</td>\n",
       "      <td>0.97</td>\n",
       "      <td>0.98</td>\n",
       "      <td>0.97</td>\n",
       "    </tr>\n",
       "    <tr>\n",
       "      <th>meta_3</th>\n",
       "      <td>0.94</td>\n",
       "      <td>0.94</td>\n",
       "      <td>NaN</td>\n",
       "      <td>1.0</td>\n",
       "      <td>1.0</td>\n",
       "      <td>1.0</td>\n",
       "      <td>0.94</td>\n",
       "      <td>0.95</td>\n",
       "      <td>0.97</td>\n",
       "      <td>0.98</td>\n",
       "      <td>0.97</td>\n",
       "    </tr>\n",
       "    <tr>\n",
       "      <th>meta_4</th>\n",
       "      <td>1.0</td>\n",
       "      <td>1.0</td>\n",
       "      <td>1.0</td>\n",
       "      <td>NaN</td>\n",
       "      <td>1.0</td>\n",
       "      <td>1.0</td>\n",
       "      <td>1.0</td>\n",
       "      <td>1.0</td>\n",
       "      <td>1.0</td>\n",
       "      <td>1.0</td>\n",
       "      <td>1.0</td>\n",
       "    </tr>\n",
       "    <tr>\n",
       "      <th>meta_5</th>\n",
       "      <td>1.0</td>\n",
       "      <td>1.0</td>\n",
       "      <td>1.0</td>\n",
       "      <td>1.0</td>\n",
       "      <td>NaN</td>\n",
       "      <td>1.0</td>\n",
       "      <td>1.0</td>\n",
       "      <td>1.0</td>\n",
       "      <td>1.0</td>\n",
       "      <td>1.0</td>\n",
       "      <td>1.0</td>\n",
       "    </tr>\n",
       "  </tbody>\n",
       "</table>\n",
       "</div>"
      ],
      "text/plain": [
       "       meta_1 meta_2 meta_3 meta_4 meta_5 meta_6 meta_7 meta_8 meta_9 meta_10  \\\n",
       "meta_1    NaN   0.93   0.94    1.0    1.0    1.0   0.92   0.93   0.97    0.98   \n",
       "meta_2   0.93    NaN   0.94    1.0    1.0    1.0   0.93   0.95   0.97    0.98   \n",
       "meta_3   0.94   0.94    NaN    1.0    1.0    1.0   0.94   0.95   0.97    0.98   \n",
       "meta_4    1.0    1.0    1.0    NaN    1.0    1.0    1.0    1.0    1.0     1.0   \n",
       "meta_5    1.0    1.0    1.0    1.0    NaN    1.0    1.0    1.0    1.0     1.0   \n",
       "\n",
       "       meta_11  \n",
       "meta_1    0.96  \n",
       "meta_2    0.97  \n",
       "meta_3    0.97  \n",
       "meta_4     1.0  \n",
       "meta_5     1.0  "
      ]
     },
     "execution_count": 185,
     "metadata": {},
     "output_type": "execute_result"
    }
   ],
   "source": [
    "# total number of predictions\n",
    "n_total = df_pred_meta_t.shape[0]\n",
    "# create new dataframe with rows and columns like columns in df_pred_meta_t\n",
    "df_pred_meta_cor = pd.DataFrame(index=df_pred_meta_t.columns, columns=df_pred_meta_t.columns)\n",
    "df_pred_meta_cor = df_pred_meta_cor.drop(columns=['target'])\n",
    "df_pred_meta_cor = df_pred_meta_cor.drop(index=['target'])\n",
    "\n",
    "for i in range(11):\n",
    "    for j in range(11):\n",
    "        if i != j:\n",
    "            # calculate how good two models can contribute to the prediction result\n",
    "            result = df_pred_meta_t.apply(lambda x: (x[f'meta_{i+1}'] == x['target']) or (x[f'meta_{j+1}'] == x['target']), axis=1)\n",
    "            # caclucate the number of wrong predictions for both models\n",
    "            n_wrong = result[result == False].shape[0]\n",
    "            # calculate the percentage of wrong predictions in total number of predictions\n",
    "            perc_correct = round((n_total - n_wrong) / n_total, 2)\n",
    "            # save the percentage in the dataframe\n",
    "            df_pred_meta_cor.loc[f'meta_{i+1}', f'meta_{j+1}'] = perc_correct\n",
    "df_pred_meta_cor.head()"
   ]
  },
  {
   "cell_type": "code",
   "execution_count": 182,
   "metadata": {},
   "outputs": [
    {
     "data": {
      "application/vnd.plotly.v1+json": {
       "config": {
        "plotlyServerURL": "https://plot.ly"
       },
       "data": [
        {
         "marker": {
          "color": [
           "rgb(0, 0, 0)",
           "rgb(16, 16, 16)",
           "rgb(38, 38, 38)",
           "rgb(59, 59, 59)",
           "rgb(81, 80, 80)",
           "rgb(102, 101, 101)",
           "rgb(124, 123, 122)",
           "rgb(146, 146, 145)",
           "rgb(171, 171, 170)",
           "rgb(197, 197, 195)",
           "rgb(224, 224, 223)",
           "rgb(254, 254, 253)"
          ]
         },
         "name": "KNN",
         "type": "bar",
         "x": [
          "accuracy",
          "precision",
          "recall",
          "roc_auc_score",
          "geometric_mean_score",
          "matthews_corrcoef",
          "f1_weighted"
         ],
         "xaxis": "x14",
         "y": [
          89.11,
          89.41,
          89.11,
          88.58,
          88.58,
          78.24,
          89.03
         ],
         "yaxis": "y14"
        },
        {
         "marker": {
          "color": [
           "rgb(0, 0, 0)",
           "rgb(16, 16, 16)",
           "rgb(38, 38, 38)",
           "rgb(59, 59, 59)",
           "rgb(81, 80, 80)",
           "rgb(102, 101, 101)",
           "rgb(124, 123, 122)",
           "rgb(146, 146, 145)",
           "rgb(171, 171, 170)",
           "rgb(197, 197, 195)",
           "rgb(224, 224, 223)",
           "rgb(254, 254, 253)"
          ]
         },
         "name": "SVM",
         "type": "bar",
         "x": [
          "accuracy",
          "precision",
          "recall",
          "roc_auc_score",
          "geometric_mean_score",
          "matthews_corrcoef",
          "f1_weighted"
         ],
         "xaxis": "x27",
         "y": [
          93.4,
          93.4,
          93.4,
          93.29,
          93.29,
          86.68,
          93.4
         ],
         "yaxis": "y27"
        },
        {
         "marker": {
          "color": [
           "rgb(0, 0, 0)",
           "rgb(16, 16, 16)",
           "rgb(38, 38, 38)",
           "rgb(59, 59, 59)",
           "rgb(81, 80, 80)",
           "rgb(102, 101, 101)",
           "rgb(124, 123, 122)",
           "rgb(146, 146, 145)",
           "rgb(171, 171, 170)",
           "rgb(197, 197, 195)",
           "rgb(224, 224, 223)",
           "rgb(254, 254, 253)"
          ]
         },
         "name": "GNB",
         "type": "bar",
         "x": [
          "accuracy",
          "precision",
          "recall",
          "roc_auc_score",
          "geometric_mean_score",
          "matthews_corrcoef",
          "f1_weighted"
         ],
         "xaxis": "x40",
         "y": [
          94.06,
          94.07,
          94.06,
          94.07,
          94.07,
          88.05,
          94.06
         ],
         "yaxis": "y40"
        },
        {
         "marker": {
          "color": [
           "rgb(0, 0, 0)",
           "rgb(16, 16, 16)",
           "rgb(38, 38, 38)",
           "rgb(59, 59, 59)",
           "rgb(81, 80, 80)",
           "rgb(102, 101, 101)",
           "rgb(124, 123, 122)",
           "rgb(146, 146, 145)",
           "rgb(171, 171, 170)",
           "rgb(197, 197, 195)",
           "rgb(224, 224, 223)",
           "rgb(254, 254, 253)"
          ]
         },
         "name": "MLP",
         "type": "bar",
         "x": [
          "accuracy",
          "precision",
          "recall",
          "roc_auc_score",
          "geometric_mean_score",
          "matthews_corrcoef",
          "f1_weighted"
         ],
         "xaxis": "x53",
         "y": [
          100,
          100,
          100,
          100,
          100,
          100,
          100
         ],
         "yaxis": "y53"
        },
        {
         "marker": {
          "color": [
           "rgb(0, 0, 0)",
           "rgb(16, 16, 16)",
           "rgb(38, 38, 38)",
           "rgb(59, 59, 59)",
           "rgb(81, 80, 80)",
           "rgb(102, 101, 101)",
           "rgb(124, 123, 122)",
           "rgb(146, 146, 145)",
           "rgb(171, 171, 170)",
           "rgb(197, 197, 195)",
           "rgb(224, 224, 223)",
           "rgb(254, 254, 253)"
          ]
         },
         "name": "LR",
         "type": "bar",
         "x": [
          "accuracy",
          "precision",
          "recall",
          "roc_auc_score",
          "geometric_mean_score",
          "matthews_corrcoef",
          "f1_weighted"
         ],
         "xaxis": "x66",
         "y": [
          100,
          100,
          100,
          100,
          100,
          100,
          100
         ],
         "yaxis": "y66"
        },
        {
         "marker": {
          "color": [
           "rgb(0, 0, 0)",
           "rgb(16, 16, 16)",
           "rgb(38, 38, 38)",
           "rgb(59, 59, 59)",
           "rgb(81, 80, 80)",
           "rgb(102, 101, 101)",
           "rgb(124, 123, 122)",
           "rgb(146, 146, 145)",
           "rgb(171, 171, 170)",
           "rgb(197, 197, 195)",
           "rgb(224, 224, 223)",
           "rgb(254, 254, 253)"
          ]
         },
         "name": "LDA",
         "type": "bar",
         "x": [
          "accuracy",
          "precision",
          "recall",
          "roc_auc_score",
          "geometric_mean_score",
          "matthews_corrcoef",
          "f1_weighted"
         ],
         "xaxis": "x79",
         "y": [
          99.01,
          99.01,
          99.01,
          98.97,
          98.97,
          98,
          99.01
         ],
         "yaxis": "y79"
        },
        {
         "marker": {
          "color": [
           "rgb(0, 0, 0)",
           "rgb(16, 16, 16)",
           "rgb(38, 38, 38)",
           "rgb(59, 59, 59)",
           "rgb(81, 80, 80)",
           "rgb(102, 101, 101)",
           "rgb(124, 123, 122)",
           "rgb(146, 146, 145)",
           "rgb(171, 171, 170)",
           "rgb(197, 197, 195)",
           "rgb(224, 224, 223)",
           "rgb(254, 254, 253)"
          ]
         },
         "name": "QDA",
         "type": "bar",
         "x": [
          "accuracy",
          "precision",
          "recall",
          "roc_auc_score",
          "geometric_mean_score",
          "matthews_corrcoef",
          "f1_weighted"
         ],
         "xaxis": "x92",
         "y": [
          92.41,
          92.43,
          92.41,
          92.2,
          92.2,
          84.7,
          92.4
         ],
         "yaxis": "y92"
        },
        {
         "marker": {
          "color": [
           "rgb(0, 0, 0)",
           "rgb(16, 16, 16)",
           "rgb(38, 38, 38)",
           "rgb(59, 59, 59)",
           "rgb(81, 80, 80)",
           "rgb(102, 101, 101)",
           "rgb(124, 123, 122)",
           "rgb(146, 146, 145)",
           "rgb(171, 171, 170)",
           "rgb(197, 197, 195)",
           "rgb(224, 224, 223)",
           "rgb(254, 254, 253)"
          ]
         },
         "name": "RF",
         "type": "bar",
         "x": [
          "accuracy",
          "precision",
          "recall",
          "roc_auc_score",
          "geometric_mean_score",
          "matthews_corrcoef",
          "f1_weighted"
         ],
         "xaxis": "x105",
         "y": [
          92.08,
          92.08,
          92.08,
          92.02,
          92.02,
          84.03,
          92.08
         ],
         "yaxis": "y105"
        },
        {
         "marker": {
          "color": [
           "rgb(0, 0, 0)",
           "rgb(16, 16, 16)",
           "rgb(38, 38, 38)",
           "rgb(59, 59, 59)",
           "rgb(81, 80, 80)",
           "rgb(102, 101, 101)",
           "rgb(124, 123, 122)",
           "rgb(146, 146, 145)",
           "rgb(171, 171, 170)",
           "rgb(197, 197, 195)",
           "rgb(224, 224, 223)",
           "rgb(254, 254, 253)"
          ]
         },
         "name": "ET",
         "type": "bar",
         "x": [
          "accuracy",
          "precision",
          "recall",
          "roc_auc_score",
          "geometric_mean_score",
          "matthews_corrcoef",
          "f1_weighted"
         ],
         "xaxis": "x118",
         "y": [
          96.7,
          96.85,
          96.7,
          96.91,
          96.91,
          93.51,
          96.71
         ],
         "yaxis": "y118"
        },
        {
         "marker": {
          "color": [
           "rgb(0, 0, 0)",
           "rgb(16, 16, 16)",
           "rgb(38, 38, 38)",
           "rgb(59, 59, 59)",
           "rgb(81, 80, 80)",
           "rgb(102, 101, 101)",
           "rgb(124, 123, 122)",
           "rgb(146, 146, 145)",
           "rgb(171, 171, 170)",
           "rgb(197, 197, 195)",
           "rgb(224, 224, 223)",
           "rgb(254, 254, 253)"
          ]
         },
         "name": "AB",
         "type": "bar",
         "x": [
          "accuracy",
          "precision",
          "recall",
          "roc_auc_score",
          "geometric_mean_score",
          "matthews_corrcoef",
          "f1_weighted"
         ],
         "xaxis": "x131",
         "y": [
          93.73,
          94.1,
          93.73,
          94.06,
          94.06,
          87.78,
          93.74
         ],
         "yaxis": "y131"
        },
        {
         "marker": {
          "color": [
           "rgb(0, 0, 0)",
           "rgb(16, 16, 16)",
           "rgb(38, 38, 38)",
           "rgb(59, 59, 59)",
           "rgb(81, 80, 80)",
           "rgb(102, 101, 101)",
           "rgb(124, 123, 122)",
           "rgb(146, 146, 145)",
           "rgb(171, 171, 170)",
           "rgb(197, 197, 195)",
           "rgb(224, 224, 223)",
           "rgb(254, 254, 253)"
          ]
         },
         "name": "GB",
         "type": "bar",
         "x": [
          "accuracy",
          "precision",
          "recall",
          "roc_auc_score",
          "geometric_mean_score",
          "matthews_corrcoef",
          "f1_weighted"
         ],
         "xaxis": "x144",
         "y": [
          94.39,
          94.39,
          94.39,
          94.31,
          94.31,
          88.68,
          94.39
         ],
         "yaxis": "y144"
        },
        {
         "delta": {
          "reference": 1
         },
         "domain": {
          "column": 2,
          "row": 1
         },
         "gauge": {
          "axis": {
           "visible": false
          }
         },
         "mode": "number+delta",
         "type": "indicator",
         "value": 0.93
        },
        {
         "delta": {
          "reference": 1
         },
         "domain": {
          "column": 3,
          "row": 1
         },
         "gauge": {
          "axis": {
           "visible": false
          }
         },
         "mode": "number+delta",
         "type": "indicator",
         "value": 0.94
        },
        {
         "delta": {
          "reference": 1
         },
         "domain": {
          "column": 4,
          "row": 1
         },
         "gauge": {
          "axis": {
           "visible": false
          }
         },
         "mode": "number+delta",
         "type": "indicator",
         "value": 1
        },
        {
         "delta": {
          "reference": 1
         },
         "domain": {
          "column": 5,
          "row": 1
         },
         "gauge": {
          "axis": {
           "visible": false
          }
         },
         "mode": "number+delta",
         "type": "indicator",
         "value": 1
        },
        {
         "delta": {
          "reference": 1
         },
         "domain": {
          "column": 6,
          "row": 1
         },
         "gauge": {
          "axis": {
           "visible": false
          }
         },
         "mode": "number+delta",
         "type": "indicator",
         "value": 1
        },
        {
         "delta": {
          "reference": 1
         },
         "domain": {
          "column": 7,
          "row": 1
         },
         "gauge": {
          "axis": {
           "visible": false
          }
         },
         "mode": "number+delta",
         "type": "indicator",
         "value": 0.92
        },
        {
         "delta": {
          "reference": 1
         },
         "domain": {
          "column": 8,
          "row": 1
         },
         "gauge": {
          "axis": {
           "visible": false
          }
         },
         "mode": "number+delta",
         "type": "indicator",
         "value": 0.93
        },
        {
         "delta": {
          "reference": 1
         },
         "domain": {
          "column": 9,
          "row": 1
         },
         "gauge": {
          "axis": {
           "visible": false
          }
         },
         "mode": "number+delta",
         "type": "indicator",
         "value": 0.97
        },
        {
         "delta": {
          "reference": 1
         },
         "domain": {
          "column": 10,
          "row": 1
         },
         "gauge": {
          "axis": {
           "visible": false
          }
         },
         "mode": "number+delta",
         "type": "indicator",
         "value": 0.98
        },
        {
         "delta": {
          "reference": 1
         },
         "domain": {
          "column": 11,
          "row": 1
         },
         "gauge": {
          "axis": {
           "visible": false
          }
         },
         "mode": "number+delta",
         "type": "indicator",
         "value": 0.96
        },
        {
         "delta": {
          "reference": 1
         },
         "domain": {
          "column": 3,
          "row": 2
         },
         "gauge": {
          "axis": {
           "visible": false
          }
         },
         "mode": "number+delta",
         "type": "indicator",
         "value": 0.94
        },
        {
         "delta": {
          "reference": 1
         },
         "domain": {
          "column": 4,
          "row": 2
         },
         "gauge": {
          "axis": {
           "visible": false
          }
         },
         "mode": "number+delta",
         "type": "indicator",
         "value": 1
        },
        {
         "delta": {
          "reference": 1
         },
         "domain": {
          "column": 5,
          "row": 2
         },
         "gauge": {
          "axis": {
           "visible": false
          }
         },
         "mode": "number+delta",
         "type": "indicator",
         "value": 1
        },
        {
         "delta": {
          "reference": 1
         },
         "domain": {
          "column": 6,
          "row": 2
         },
         "gauge": {
          "axis": {
           "visible": false
          }
         },
         "mode": "number+delta",
         "type": "indicator",
         "value": 1
        },
        {
         "delta": {
          "reference": 1
         },
         "domain": {
          "column": 7,
          "row": 2
         },
         "gauge": {
          "axis": {
           "visible": false
          }
         },
         "mode": "number+delta",
         "type": "indicator",
         "value": 0.93
        },
        {
         "delta": {
          "reference": 1
         },
         "domain": {
          "column": 8,
          "row": 2
         },
         "gauge": {
          "axis": {
           "visible": false
          }
         },
         "mode": "number+delta",
         "type": "indicator",
         "value": 0.95
        },
        {
         "delta": {
          "reference": 1
         },
         "domain": {
          "column": 9,
          "row": 2
         },
         "gauge": {
          "axis": {
           "visible": false
          }
         },
         "mode": "number+delta",
         "type": "indicator",
         "value": 0.97
        },
        {
         "delta": {
          "reference": 1
         },
         "domain": {
          "column": 10,
          "row": 2
         },
         "gauge": {
          "axis": {
           "visible": false
          }
         },
         "mode": "number+delta",
         "type": "indicator",
         "value": 0.98
        },
        {
         "delta": {
          "reference": 1
         },
         "domain": {
          "column": 11,
          "row": 2
         },
         "gauge": {
          "axis": {
           "visible": false
          }
         },
         "mode": "number+delta",
         "type": "indicator",
         "value": 0.97
        },
        {
         "delta": {
          "reference": 1
         },
         "domain": {
          "column": 4,
          "row": 3
         },
         "gauge": {
          "axis": {
           "visible": false
          }
         },
         "mode": "number+delta",
         "type": "indicator",
         "value": 1
        },
        {
         "delta": {
          "reference": 1
         },
         "domain": {
          "column": 5,
          "row": 3
         },
         "gauge": {
          "axis": {
           "visible": false
          }
         },
         "mode": "number+delta",
         "type": "indicator",
         "value": 1
        },
        {
         "delta": {
          "reference": 1
         },
         "domain": {
          "column": 6,
          "row": 3
         },
         "gauge": {
          "axis": {
           "visible": false
          }
         },
         "mode": "number+delta",
         "type": "indicator",
         "value": 1
        },
        {
         "delta": {
          "reference": 1
         },
         "domain": {
          "column": 7,
          "row": 3
         },
         "gauge": {
          "axis": {
           "visible": false
          }
         },
         "mode": "number+delta",
         "type": "indicator",
         "value": 0.94
        },
        {
         "delta": {
          "reference": 1
         },
         "domain": {
          "column": 8,
          "row": 3
         },
         "gauge": {
          "axis": {
           "visible": false
          }
         },
         "mode": "number+delta",
         "type": "indicator",
         "value": 0.95
        },
        {
         "delta": {
          "reference": 1
         },
         "domain": {
          "column": 9,
          "row": 3
         },
         "gauge": {
          "axis": {
           "visible": false
          }
         },
         "mode": "number+delta",
         "type": "indicator",
         "value": 0.97
        },
        {
         "delta": {
          "reference": 1
         },
         "domain": {
          "column": 10,
          "row": 3
         },
         "gauge": {
          "axis": {
           "visible": false
          }
         },
         "mode": "number+delta",
         "type": "indicator",
         "value": 0.98
        },
        {
         "delta": {
          "reference": 1
         },
         "domain": {
          "column": 11,
          "row": 3
         },
         "gauge": {
          "axis": {
           "visible": false
          }
         },
         "mode": "number+delta",
         "type": "indicator",
         "value": 0.97
        },
        {
         "delta": {
          "reference": 1
         },
         "domain": {
          "column": 5,
          "row": 4
         },
         "gauge": {
          "axis": {
           "visible": false
          }
         },
         "mode": "number+delta",
         "type": "indicator",
         "value": 1
        },
        {
         "delta": {
          "reference": 1
         },
         "domain": {
          "column": 6,
          "row": 4
         },
         "gauge": {
          "axis": {
           "visible": false
          }
         },
         "mode": "number+delta",
         "type": "indicator",
         "value": 1
        },
        {
         "delta": {
          "reference": 1
         },
         "domain": {
          "column": 7,
          "row": 4
         },
         "gauge": {
          "axis": {
           "visible": false
          }
         },
         "mode": "number+delta",
         "type": "indicator",
         "value": 1
        },
        {
         "delta": {
          "reference": 1
         },
         "domain": {
          "column": 8,
          "row": 4
         },
         "gauge": {
          "axis": {
           "visible": false
          }
         },
         "mode": "number+delta",
         "type": "indicator",
         "value": 1
        },
        {
         "delta": {
          "reference": 1
         },
         "domain": {
          "column": 9,
          "row": 4
         },
         "gauge": {
          "axis": {
           "visible": false
          }
         },
         "mode": "number+delta",
         "type": "indicator",
         "value": 1
        },
        {
         "delta": {
          "reference": 1
         },
         "domain": {
          "column": 10,
          "row": 4
         },
         "gauge": {
          "axis": {
           "visible": false
          }
         },
         "mode": "number+delta",
         "type": "indicator",
         "value": 1
        },
        {
         "delta": {
          "reference": 1
         },
         "domain": {
          "column": 11,
          "row": 4
         },
         "gauge": {
          "axis": {
           "visible": false
          }
         },
         "mode": "number+delta",
         "type": "indicator",
         "value": 1
        },
        {
         "delta": {
          "reference": 1
         },
         "domain": {
          "column": 6,
          "row": 5
         },
         "gauge": {
          "axis": {
           "visible": false
          }
         },
         "mode": "number+delta",
         "type": "indicator",
         "value": 1
        },
        {
         "delta": {
          "reference": 1
         },
         "domain": {
          "column": 7,
          "row": 5
         },
         "gauge": {
          "axis": {
           "visible": false
          }
         },
         "mode": "number+delta",
         "type": "indicator",
         "value": 1
        },
        {
         "delta": {
          "reference": 1
         },
         "domain": {
          "column": 8,
          "row": 5
         },
         "gauge": {
          "axis": {
           "visible": false
          }
         },
         "mode": "number+delta",
         "type": "indicator",
         "value": 1
        },
        {
         "delta": {
          "reference": 1
         },
         "domain": {
          "column": 9,
          "row": 5
         },
         "gauge": {
          "axis": {
           "visible": false
          }
         },
         "mode": "number+delta",
         "type": "indicator",
         "value": 1
        },
        {
         "delta": {
          "reference": 1
         },
         "domain": {
          "column": 10,
          "row": 5
         },
         "gauge": {
          "axis": {
           "visible": false
          }
         },
         "mode": "number+delta",
         "type": "indicator",
         "value": 1
        },
        {
         "delta": {
          "reference": 1
         },
         "domain": {
          "column": 11,
          "row": 5
         },
         "gauge": {
          "axis": {
           "visible": false
          }
         },
         "mode": "number+delta",
         "type": "indicator",
         "value": 1
        },
        {
         "delta": {
          "reference": 1
         },
         "domain": {
          "column": 7,
          "row": 6
         },
         "gauge": {
          "axis": {
           "visible": false
          }
         },
         "mode": "number+delta",
         "type": "indicator",
         "value": 1
        },
        {
         "delta": {
          "reference": 1
         },
         "domain": {
          "column": 8,
          "row": 6
         },
         "gauge": {
          "axis": {
           "visible": false
          }
         },
         "mode": "number+delta",
         "type": "indicator",
         "value": 0.99
        },
        {
         "delta": {
          "reference": 1
         },
         "domain": {
          "column": 9,
          "row": 6
         },
         "gauge": {
          "axis": {
           "visible": false
          }
         },
         "mode": "number+delta",
         "type": "indicator",
         "value": 1
        },
        {
         "delta": {
          "reference": 1
         },
         "domain": {
          "column": 10,
          "row": 6
         },
         "gauge": {
          "axis": {
           "visible": false
          }
         },
         "mode": "number+delta",
         "type": "indicator",
         "value": 1
        },
        {
         "delta": {
          "reference": 1
         },
         "domain": {
          "column": 11,
          "row": 6
         },
         "gauge": {
          "axis": {
           "visible": false
          }
         },
         "mode": "number+delta",
         "type": "indicator",
         "value": 1
        },
        {
         "delta": {
          "reference": 1
         },
         "domain": {
          "column": 8,
          "row": 7
         },
         "gauge": {
          "axis": {
           "visible": false
          }
         },
         "mode": "number+delta",
         "type": "indicator",
         "value": 0.95
        },
        {
         "delta": {
          "reference": 1
         },
         "domain": {
          "column": 9,
          "row": 7
         },
         "gauge": {
          "axis": {
           "visible": false
          }
         },
         "mode": "number+delta",
         "type": "indicator",
         "value": 0.97
        },
        {
         "delta": {
          "reference": 1
         },
         "domain": {
          "column": 10,
          "row": 7
         },
         "gauge": {
          "axis": {
           "visible": false
          }
         },
         "mode": "number+delta",
         "type": "indicator",
         "value": 0.98
        },
        {
         "delta": {
          "reference": 1
         },
         "domain": {
          "column": 11,
          "row": 7
         },
         "gauge": {
          "axis": {
           "visible": false
          }
         },
         "mode": "number+delta",
         "type": "indicator",
         "value": 0.97
        },
        {
         "delta": {
          "reference": 1
         },
         "domain": {
          "column": 9,
          "row": 8
         },
         "gauge": {
          "axis": {
           "visible": false
          }
         },
         "mode": "number+delta",
         "type": "indicator",
         "value": 0.97
        },
        {
         "delta": {
          "reference": 1
         },
         "domain": {
          "column": 10,
          "row": 8
         },
         "gauge": {
          "axis": {
           "visible": false
          }
         },
         "mode": "number+delta",
         "type": "indicator",
         "value": 0.97
        },
        {
         "delta": {
          "reference": 1
         },
         "domain": {
          "column": 11,
          "row": 8
         },
         "gauge": {
          "axis": {
           "visible": false
          }
         },
         "mode": "number+delta",
         "type": "indicator",
         "value": 0.96
        },
        {
         "delta": {
          "reference": 1
         },
         "domain": {
          "column": 10,
          "row": 9
         },
         "gauge": {
          "axis": {
           "visible": false
          }
         },
         "mode": "number+delta",
         "type": "indicator",
         "value": 0.98
        },
        {
         "delta": {
          "reference": 1
         },
         "domain": {
          "column": 11,
          "row": 9
         },
         "gauge": {
          "axis": {
           "visible": false
          }
         },
         "mode": "number+delta",
         "type": "indicator",
         "value": 0.98
        },
        {
         "delta": {
          "reference": 1
         },
         "domain": {
          "column": 11,
          "row": 10
         },
         "gauge": {
          "axis": {
           "visible": false
          }
         },
         "mode": "number+delta",
         "type": "indicator",
         "value": 0.99
        }
       ],
       "layout": {
        "annotations": [
         {
          "font": {
           "size": 20
          },
          "showarrow": false,
          "text": "KNN",
          "xref": "x2",
          "yref": "y2"
         },
         {
          "font": {
           "size": 20
          },
          "showarrow": false,
          "text": "SVM",
          "xref": "x3",
          "yref": "y3"
         },
         {
          "font": {
           "size": 20
          },
          "showarrow": false,
          "text": "GNB",
          "xref": "x4",
          "yref": "y4"
         },
         {
          "font": {
           "size": 20
          },
          "showarrow": false,
          "text": "MLP",
          "xref": "x5",
          "yref": "y5"
         },
         {
          "font": {
           "size": 20
          },
          "showarrow": false,
          "text": "LR",
          "xref": "x6",
          "yref": "y6"
         },
         {
          "font": {
           "size": 20
          },
          "showarrow": false,
          "text": "LDA",
          "xref": "x7",
          "yref": "y7"
         },
         {
          "font": {
           "size": 20
          },
          "showarrow": false,
          "text": "QDA",
          "xref": "x8",
          "yref": "y8"
         },
         {
          "font": {
           "size": 20
          },
          "showarrow": false,
          "text": "RF",
          "xref": "x9",
          "yref": "y9"
         },
         {
          "font": {
           "size": 20
          },
          "showarrow": false,
          "text": "ET",
          "xref": "x10",
          "yref": "y10"
         },
         {
          "font": {
           "size": 20
          },
          "showarrow": false,
          "text": "AB",
          "xref": "x11",
          "yref": "y11"
         },
         {
          "font": {
           "size": 20
          },
          "showarrow": false,
          "text": "GB",
          "xref": "x12",
          "yref": "y12"
         },
         {
          "font": {
           "size": 20
          },
          "showarrow": false,
          "text": "KNN",
          "xref": "x13",
          "yref": "y13"
         },
         {
          "font": {
           "size": 20
          },
          "showarrow": false,
          "text": "SVM",
          "xref": "x25",
          "yref": "y25"
         },
         {
          "font": {
           "size": 20
          },
          "showarrow": false,
          "text": "GNB",
          "xref": "x37",
          "yref": "y37"
         },
         {
          "font": {
           "size": 20
          },
          "showarrow": false,
          "text": "MLP",
          "xref": "x49",
          "yref": "y49"
         },
         {
          "font": {
           "size": 20
          },
          "showarrow": false,
          "text": "LR",
          "xref": "x61",
          "yref": "y61"
         },
         {
          "font": {
           "size": 20
          },
          "showarrow": false,
          "text": "LDA",
          "xref": "x73",
          "yref": "y73"
         },
         {
          "font": {
           "size": 20
          },
          "showarrow": false,
          "text": "QDA",
          "xref": "x85",
          "yref": "y85"
         },
         {
          "font": {
           "size": 20
          },
          "showarrow": false,
          "text": "RF",
          "xref": "x97",
          "yref": "y97"
         },
         {
          "font": {
           "size": 20
          },
          "showarrow": false,
          "text": "ET",
          "xref": "x109",
          "yref": "y109"
         },
         {
          "font": {
           "size": 20
          },
          "showarrow": false,
          "text": "AB",
          "xref": "x121",
          "yref": "y121"
         },
         {
          "font": {
           "size": 20
          },
          "showarrow": false,
          "text": "GB",
          "xref": "x133",
          "yref": "y133"
         }
        ],
        "grid": {
         "columns": 12,
         "pattern": "independent",
         "rows": 12
        },
        "height": 1000,
        "plot_bgcolor": "rgba(0,0,0,0)",
        "showlegend": false,
        "template": {
         "data": {
          "bar": [
           {
            "error_x": {
             "color": "#2a3f5f"
            },
            "error_y": {
             "color": "#2a3f5f"
            },
            "marker": {
             "line": {
              "color": "#E5ECF6",
              "width": 0.5
             },
             "pattern": {
              "fillmode": "overlay",
              "size": 10,
              "solidity": 0.2
             }
            },
            "type": "bar"
           }
          ],
          "barpolar": [
           {
            "marker": {
             "line": {
              "color": "#E5ECF6",
              "width": 0.5
             },
             "pattern": {
              "fillmode": "overlay",
              "size": 10,
              "solidity": 0.2
             }
            },
            "type": "barpolar"
           }
          ],
          "carpet": [
           {
            "aaxis": {
             "endlinecolor": "#2a3f5f",
             "gridcolor": "white",
             "linecolor": "white",
             "minorgridcolor": "white",
             "startlinecolor": "#2a3f5f"
            },
            "baxis": {
             "endlinecolor": "#2a3f5f",
             "gridcolor": "white",
             "linecolor": "white",
             "minorgridcolor": "white",
             "startlinecolor": "#2a3f5f"
            },
            "type": "carpet"
           }
          ],
          "choropleth": [
           {
            "colorbar": {
             "outlinewidth": 0,
             "ticks": ""
            },
            "type": "choropleth"
           }
          ],
          "contour": [
           {
            "colorbar": {
             "outlinewidth": 0,
             "ticks": ""
            },
            "colorscale": [
             [
              0,
              "#0d0887"
             ],
             [
              0.1111111111111111,
              "#46039f"
             ],
             [
              0.2222222222222222,
              "#7201a8"
             ],
             [
              0.3333333333333333,
              "#9c179e"
             ],
             [
              0.4444444444444444,
              "#bd3786"
             ],
             [
              0.5555555555555556,
              "#d8576b"
             ],
             [
              0.6666666666666666,
              "#ed7953"
             ],
             [
              0.7777777777777778,
              "#fb9f3a"
             ],
             [
              0.8888888888888888,
              "#fdca26"
             ],
             [
              1,
              "#f0f921"
             ]
            ],
            "type": "contour"
           }
          ],
          "contourcarpet": [
           {
            "colorbar": {
             "outlinewidth": 0,
             "ticks": ""
            },
            "type": "contourcarpet"
           }
          ],
          "heatmap": [
           {
            "colorbar": {
             "outlinewidth": 0,
             "ticks": ""
            },
            "colorscale": [
             [
              0,
              "#0d0887"
             ],
             [
              0.1111111111111111,
              "#46039f"
             ],
             [
              0.2222222222222222,
              "#7201a8"
             ],
             [
              0.3333333333333333,
              "#9c179e"
             ],
             [
              0.4444444444444444,
              "#bd3786"
             ],
             [
              0.5555555555555556,
              "#d8576b"
             ],
             [
              0.6666666666666666,
              "#ed7953"
             ],
             [
              0.7777777777777778,
              "#fb9f3a"
             ],
             [
              0.8888888888888888,
              "#fdca26"
             ],
             [
              1,
              "#f0f921"
             ]
            ],
            "type": "heatmap"
           }
          ],
          "heatmapgl": [
           {
            "colorbar": {
             "outlinewidth": 0,
             "ticks": ""
            },
            "colorscale": [
             [
              0,
              "#0d0887"
             ],
             [
              0.1111111111111111,
              "#46039f"
             ],
             [
              0.2222222222222222,
              "#7201a8"
             ],
             [
              0.3333333333333333,
              "#9c179e"
             ],
             [
              0.4444444444444444,
              "#bd3786"
             ],
             [
              0.5555555555555556,
              "#d8576b"
             ],
             [
              0.6666666666666666,
              "#ed7953"
             ],
             [
              0.7777777777777778,
              "#fb9f3a"
             ],
             [
              0.8888888888888888,
              "#fdca26"
             ],
             [
              1,
              "#f0f921"
             ]
            ],
            "type": "heatmapgl"
           }
          ],
          "histogram": [
           {
            "marker": {
             "pattern": {
              "fillmode": "overlay",
              "size": 10,
              "solidity": 0.2
             }
            },
            "type": "histogram"
           }
          ],
          "histogram2d": [
           {
            "colorbar": {
             "outlinewidth": 0,
             "ticks": ""
            },
            "colorscale": [
             [
              0,
              "#0d0887"
             ],
             [
              0.1111111111111111,
              "#46039f"
             ],
             [
              0.2222222222222222,
              "#7201a8"
             ],
             [
              0.3333333333333333,
              "#9c179e"
             ],
             [
              0.4444444444444444,
              "#bd3786"
             ],
             [
              0.5555555555555556,
              "#d8576b"
             ],
             [
              0.6666666666666666,
              "#ed7953"
             ],
             [
              0.7777777777777778,
              "#fb9f3a"
             ],
             [
              0.8888888888888888,
              "#fdca26"
             ],
             [
              1,
              "#f0f921"
             ]
            ],
            "type": "histogram2d"
           }
          ],
          "histogram2dcontour": [
           {
            "colorbar": {
             "outlinewidth": 0,
             "ticks": ""
            },
            "colorscale": [
             [
              0,
              "#0d0887"
             ],
             [
              0.1111111111111111,
              "#46039f"
             ],
             [
              0.2222222222222222,
              "#7201a8"
             ],
             [
              0.3333333333333333,
              "#9c179e"
             ],
             [
              0.4444444444444444,
              "#bd3786"
             ],
             [
              0.5555555555555556,
              "#d8576b"
             ],
             [
              0.6666666666666666,
              "#ed7953"
             ],
             [
              0.7777777777777778,
              "#fb9f3a"
             ],
             [
              0.8888888888888888,
              "#fdca26"
             ],
             [
              1,
              "#f0f921"
             ]
            ],
            "type": "histogram2dcontour"
           }
          ],
          "mesh3d": [
           {
            "colorbar": {
             "outlinewidth": 0,
             "ticks": ""
            },
            "type": "mesh3d"
           }
          ],
          "parcoords": [
           {
            "line": {
             "colorbar": {
              "outlinewidth": 0,
              "ticks": ""
             }
            },
            "type": "parcoords"
           }
          ],
          "pie": [
           {
            "automargin": true,
            "type": "pie"
           }
          ],
          "scatter": [
           {
            "fillpattern": {
             "fillmode": "overlay",
             "size": 10,
             "solidity": 0.2
            },
            "type": "scatter"
           }
          ],
          "scatter3d": [
           {
            "line": {
             "colorbar": {
              "outlinewidth": 0,
              "ticks": ""
             }
            },
            "marker": {
             "colorbar": {
              "outlinewidth": 0,
              "ticks": ""
             }
            },
            "type": "scatter3d"
           }
          ],
          "scattercarpet": [
           {
            "marker": {
             "colorbar": {
              "outlinewidth": 0,
              "ticks": ""
             }
            },
            "type": "scattercarpet"
           }
          ],
          "scattergeo": [
           {
            "marker": {
             "colorbar": {
              "outlinewidth": 0,
              "ticks": ""
             }
            },
            "type": "scattergeo"
           }
          ],
          "scattergl": [
           {
            "marker": {
             "colorbar": {
              "outlinewidth": 0,
              "ticks": ""
             }
            },
            "type": "scattergl"
           }
          ],
          "scattermapbox": [
           {
            "marker": {
             "colorbar": {
              "outlinewidth": 0,
              "ticks": ""
             }
            },
            "type": "scattermapbox"
           }
          ],
          "scatterpolar": [
           {
            "marker": {
             "colorbar": {
              "outlinewidth": 0,
              "ticks": ""
             }
            },
            "type": "scatterpolar"
           }
          ],
          "scatterpolargl": [
           {
            "marker": {
             "colorbar": {
              "outlinewidth": 0,
              "ticks": ""
             }
            },
            "type": "scatterpolargl"
           }
          ],
          "scatterternary": [
           {
            "marker": {
             "colorbar": {
              "outlinewidth": 0,
              "ticks": ""
             }
            },
            "type": "scatterternary"
           }
          ],
          "surface": [
           {
            "colorbar": {
             "outlinewidth": 0,
             "ticks": ""
            },
            "colorscale": [
             [
              0,
              "#0d0887"
             ],
             [
              0.1111111111111111,
              "#46039f"
             ],
             [
              0.2222222222222222,
              "#7201a8"
             ],
             [
              0.3333333333333333,
              "#9c179e"
             ],
             [
              0.4444444444444444,
              "#bd3786"
             ],
             [
              0.5555555555555556,
              "#d8576b"
             ],
             [
              0.6666666666666666,
              "#ed7953"
             ],
             [
              0.7777777777777778,
              "#fb9f3a"
             ],
             [
              0.8888888888888888,
              "#fdca26"
             ],
             [
              1,
              "#f0f921"
             ]
            ],
            "type": "surface"
           }
          ],
          "table": [
           {
            "cells": {
             "fill": {
              "color": "#EBF0F8"
             },
             "line": {
              "color": "white"
             }
            },
            "header": {
             "fill": {
              "color": "#C8D4E3"
             },
             "line": {
              "color": "white"
             }
            },
            "type": "table"
           }
          ]
         },
         "layout": {
          "annotationdefaults": {
           "arrowcolor": "#2a3f5f",
           "arrowhead": 0,
           "arrowwidth": 1
          },
          "autotypenumbers": "strict",
          "coloraxis": {
           "colorbar": {
            "outlinewidth": 0,
            "ticks": ""
           }
          },
          "colorscale": {
           "diverging": [
            [
             0,
             "#8e0152"
            ],
            [
             0.1,
             "#c51b7d"
            ],
            [
             0.2,
             "#de77ae"
            ],
            [
             0.3,
             "#f1b6da"
            ],
            [
             0.4,
             "#fde0ef"
            ],
            [
             0.5,
             "#f7f7f7"
            ],
            [
             0.6,
             "#e6f5d0"
            ],
            [
             0.7,
             "#b8e186"
            ],
            [
             0.8,
             "#7fbc41"
            ],
            [
             0.9,
             "#4d9221"
            ],
            [
             1,
             "#276419"
            ]
           ],
           "sequential": [
            [
             0,
             "#0d0887"
            ],
            [
             0.1111111111111111,
             "#46039f"
            ],
            [
             0.2222222222222222,
             "#7201a8"
            ],
            [
             0.3333333333333333,
             "#9c179e"
            ],
            [
             0.4444444444444444,
             "#bd3786"
            ],
            [
             0.5555555555555556,
             "#d8576b"
            ],
            [
             0.6666666666666666,
             "#ed7953"
            ],
            [
             0.7777777777777778,
             "#fb9f3a"
            ],
            [
             0.8888888888888888,
             "#fdca26"
            ],
            [
             1,
             "#f0f921"
            ]
           ],
           "sequentialminus": [
            [
             0,
             "#0d0887"
            ],
            [
             0.1111111111111111,
             "#46039f"
            ],
            [
             0.2222222222222222,
             "#7201a8"
            ],
            [
             0.3333333333333333,
             "#9c179e"
            ],
            [
             0.4444444444444444,
             "#bd3786"
            ],
            [
             0.5555555555555556,
             "#d8576b"
            ],
            [
             0.6666666666666666,
             "#ed7953"
            ],
            [
             0.7777777777777778,
             "#fb9f3a"
            ],
            [
             0.8888888888888888,
             "#fdca26"
            ],
            [
             1,
             "#f0f921"
            ]
           ]
          },
          "colorway": [
           "#636efa",
           "#EF553B",
           "#00cc96",
           "#ab63fa",
           "#FFA15A",
           "#19d3f3",
           "#FF6692",
           "#B6E880",
           "#FF97FF",
           "#FECB52"
          ],
          "font": {
           "color": "#2a3f5f"
          },
          "geo": {
           "bgcolor": "white",
           "lakecolor": "white",
           "landcolor": "#E5ECF6",
           "showlakes": true,
           "showland": true,
           "subunitcolor": "white"
          },
          "hoverlabel": {
           "align": "left"
          },
          "hovermode": "closest",
          "mapbox": {
           "style": "light"
          },
          "paper_bgcolor": "white",
          "plot_bgcolor": "#E5ECF6",
          "polar": {
           "angularaxis": {
            "gridcolor": "white",
            "linecolor": "white",
            "ticks": ""
           },
           "bgcolor": "#E5ECF6",
           "radialaxis": {
            "gridcolor": "white",
            "linecolor": "white",
            "ticks": ""
           }
          },
          "scene": {
           "xaxis": {
            "backgroundcolor": "#E5ECF6",
            "gridcolor": "white",
            "gridwidth": 2,
            "linecolor": "white",
            "showbackground": true,
            "ticks": "",
            "zerolinecolor": "white"
           },
           "yaxis": {
            "backgroundcolor": "#E5ECF6",
            "gridcolor": "white",
            "gridwidth": 2,
            "linecolor": "white",
            "showbackground": true,
            "ticks": "",
            "zerolinecolor": "white"
           },
           "zaxis": {
            "backgroundcolor": "#E5ECF6",
            "gridcolor": "white",
            "gridwidth": 2,
            "linecolor": "white",
            "showbackground": true,
            "ticks": "",
            "zerolinecolor": "white"
           }
          },
          "shapedefaults": {
           "line": {
            "color": "#2a3f5f"
           }
          },
          "ternary": {
           "aaxis": {
            "gridcolor": "white",
            "linecolor": "white",
            "ticks": ""
           },
           "baxis": {
            "gridcolor": "white",
            "linecolor": "white",
            "ticks": ""
           },
           "bgcolor": "#E5ECF6",
           "caxis": {
            "gridcolor": "white",
            "linecolor": "white",
            "ticks": ""
           }
          },
          "title": {
           "x": 0.05
          },
          "xaxis": {
           "automargin": true,
           "gridcolor": "white",
           "linecolor": "white",
           "ticks": "",
           "title": {
            "standoff": 15
           },
           "zerolinecolor": "white",
           "zerolinewidth": 2
          },
          "yaxis": {
           "automargin": true,
           "gridcolor": "white",
           "linecolor": "white",
           "ticks": "",
           "title": {
            "standoff": 15
           },
           "zerolinecolor": "white",
           "zerolinewidth": 2
          }
         }
        },
        "width": 1000,
        "xaxis": {
         "anchor": "y",
         "domain": [
          0,
          0.05583333333333334
         ],
         "matches": "x133",
         "showticklabels": false
        },
        "xaxis10": {
         "anchor": "y10",
         "domain": [
          0.7725000000000001,
          0.8283333333333334
         ],
         "matches": "x133",
         "showticklabels": false
        },
        "xaxis100": {
         "anchor": "y100",
         "domain": [
          0.2575,
          0.31333333333333335
         ],
         "matches": "x133",
         "showticklabels": false
        },
        "xaxis101": {
         "anchor": "y101",
         "domain": [
          0.3433333333333334,
          0.3991666666666667
         ],
         "matches": "x133",
         "showticklabels": false
        },
        "xaxis102": {
         "anchor": "y102",
         "domain": [
          0.4291666666666667,
          0.48500000000000004
         ],
         "matches": "x133",
         "showticklabels": false
        },
        "xaxis103": {
         "anchor": "y103",
         "domain": [
          0.515,
          0.5708333333333333
         ],
         "matches": "x133",
         "showticklabels": false
        },
        "xaxis104": {
         "anchor": "y104",
         "domain": [
          0.6008333333333333,
          0.6566666666666666
         ],
         "matches": "x133",
         "showticklabels": false
        },
        "xaxis105": {
         "anchor": "y105",
         "domain": [
          0.6866666666666668,
          0.7425
         ],
         "matches": "x133",
         "showticklabels": false
        },
        "xaxis106": {
         "anchor": "y106",
         "domain": [
          0.7725000000000001,
          0.8283333333333334
         ],
         "matches": "x133",
         "showticklabels": false
        },
        "xaxis107": {
         "anchor": "y107",
         "domain": [
          0.8583333333333334,
          0.9141666666666667
         ],
         "matches": "x133",
         "showticklabels": false
        },
        "xaxis108": {
         "anchor": "y108",
         "domain": [
          0.9441666666666666,
          0.9999999999999999
         ],
         "matches": "x133",
         "showticklabels": false
        },
        "xaxis109": {
         "anchor": "y109",
         "domain": [
          0,
          0.05583333333333334
         ],
         "matches": "x133",
         "showticklabels": false
        },
        "xaxis11": {
         "anchor": "y11",
         "domain": [
          0.8583333333333334,
          0.9141666666666667
         ],
         "matches": "x133",
         "showticklabels": false
        },
        "xaxis110": {
         "anchor": "y110",
         "domain": [
          0.08583333333333334,
          0.1416666666666667
         ],
         "matches": "x133",
         "showticklabels": false
        },
        "xaxis111": {
         "anchor": "y111",
         "domain": [
          0.1716666666666667,
          0.22750000000000004
         ],
         "matches": "x133",
         "showticklabels": false
        },
        "xaxis112": {
         "anchor": "y112",
         "domain": [
          0.2575,
          0.31333333333333335
         ],
         "matches": "x133",
         "showticklabels": false
        },
        "xaxis113": {
         "anchor": "y113",
         "domain": [
          0.3433333333333334,
          0.3991666666666667
         ],
         "matches": "x133",
         "showticklabels": false
        },
        "xaxis114": {
         "anchor": "y114",
         "domain": [
          0.4291666666666667,
          0.48500000000000004
         ],
         "matches": "x133",
         "showticklabels": false
        },
        "xaxis115": {
         "anchor": "y115",
         "domain": [
          0.515,
          0.5708333333333333
         ],
         "matches": "x133",
         "showticklabels": false
        },
        "xaxis116": {
         "anchor": "y116",
         "domain": [
          0.6008333333333333,
          0.6566666666666666
         ],
         "matches": "x133",
         "showticklabels": false
        },
        "xaxis117": {
         "anchor": "y117",
         "domain": [
          0.6866666666666668,
          0.7425
         ],
         "matches": "x133",
         "showticklabels": false
        },
        "xaxis118": {
         "anchor": "y118",
         "domain": [
          0.7725000000000001,
          0.8283333333333334
         ],
         "matches": "x133",
         "showticklabels": false
        },
        "xaxis119": {
         "anchor": "y119",
         "domain": [
          0.8583333333333334,
          0.9141666666666667
         ],
         "matches": "x133",
         "showticklabels": false
        },
        "xaxis12": {
         "anchor": "y12",
         "domain": [
          0.9441666666666666,
          0.9999999999999999
         ],
         "matches": "x133",
         "showticklabels": false
        },
        "xaxis120": {
         "anchor": "y120",
         "domain": [
          0.9441666666666666,
          0.9999999999999999
         ],
         "matches": "x133",
         "showticklabels": false
        },
        "xaxis121": {
         "anchor": "y121",
         "domain": [
          0,
          0.05583333333333334
         ],
         "matches": "x133",
         "showticklabels": false
        },
        "xaxis122": {
         "anchor": "y122",
         "domain": [
          0.08583333333333334,
          0.1416666666666667
         ],
         "matches": "x133",
         "showticklabels": false
        },
        "xaxis123": {
         "anchor": "y123",
         "domain": [
          0.1716666666666667,
          0.22750000000000004
         ],
         "matches": "x133",
         "showticklabels": false
        },
        "xaxis124": {
         "anchor": "y124",
         "domain": [
          0.2575,
          0.31333333333333335
         ],
         "matches": "x133",
         "showticklabels": false
        },
        "xaxis125": {
         "anchor": "y125",
         "domain": [
          0.3433333333333334,
          0.3991666666666667
         ],
         "matches": "x133",
         "showticklabels": false
        },
        "xaxis126": {
         "anchor": "y126",
         "domain": [
          0.4291666666666667,
          0.48500000000000004
         ],
         "matches": "x133",
         "showticklabels": false
        },
        "xaxis127": {
         "anchor": "y127",
         "domain": [
          0.515,
          0.5708333333333333
         ],
         "matches": "x133",
         "showticklabels": false
        },
        "xaxis128": {
         "anchor": "y128",
         "domain": [
          0.6008333333333333,
          0.6566666666666666
         ],
         "matches": "x133",
         "showticklabels": false
        },
        "xaxis129": {
         "anchor": "y129",
         "domain": [
          0.6866666666666668,
          0.7425
         ],
         "matches": "x133",
         "showticklabels": false
        },
        "xaxis13": {
         "anchor": "y13",
         "domain": [
          0,
          0.05583333333333334
         ],
         "matches": "x133",
         "showticklabels": false
        },
        "xaxis130": {
         "anchor": "y130",
         "domain": [
          0.7725000000000001,
          0.8283333333333334
         ],
         "matches": "x133",
         "showticklabels": false
        },
        "xaxis131": {
         "anchor": "y131",
         "domain": [
          0.8583333333333334,
          0.9141666666666667
         ],
         "matches": "x133",
         "showticklabels": false
        },
        "xaxis132": {
         "anchor": "y132",
         "domain": [
          0.9441666666666666,
          0.9999999999999999
         ],
         "matches": "x133",
         "showticklabels": false
        },
        "xaxis133": {
         "anchor": "y133",
         "domain": [
          0,
          0.05583333333333334
         ],
         "showticklabels": false
        },
        "xaxis134": {
         "anchor": "y134",
         "domain": [
          0.08583333333333334,
          0.1416666666666667
         ],
         "matches": "x133",
         "showticklabels": false
        },
        "xaxis135": {
         "anchor": "y135",
         "domain": [
          0.1716666666666667,
          0.22750000000000004
         ],
         "matches": "x133",
         "showticklabels": false
        },
        "xaxis136": {
         "anchor": "y136",
         "domain": [
          0.2575,
          0.31333333333333335
         ],
         "matches": "x133",
         "showticklabels": false
        },
        "xaxis137": {
         "anchor": "y137",
         "domain": [
          0.3433333333333334,
          0.3991666666666667
         ],
         "matches": "x133",
         "showticklabels": false
        },
        "xaxis138": {
         "anchor": "y138",
         "domain": [
          0.4291666666666667,
          0.48500000000000004
         ],
         "matches": "x133",
         "showticklabels": false
        },
        "xaxis139": {
         "anchor": "y139",
         "domain": [
          0.515,
          0.5708333333333333
         ],
         "matches": "x133",
         "showticklabels": false
        },
        "xaxis14": {
         "anchor": "y14",
         "domain": [
          0.08583333333333334,
          0.1416666666666667
         ],
         "matches": "x133",
         "showticklabels": false
        },
        "xaxis140": {
         "anchor": "y140",
         "domain": [
          0.6008333333333333,
          0.6566666666666666
         ],
         "matches": "x133",
         "showticklabels": false
        },
        "xaxis141": {
         "anchor": "y141",
         "domain": [
          0.6866666666666668,
          0.7425
         ],
         "matches": "x133",
         "showticklabels": false
        },
        "xaxis142": {
         "anchor": "y142",
         "domain": [
          0.7725000000000001,
          0.8283333333333334
         ],
         "matches": "x133",
         "showticklabels": false
        },
        "xaxis143": {
         "anchor": "y143",
         "domain": [
          0.8583333333333334,
          0.9141666666666667
         ],
         "matches": "x133",
         "showticklabels": false
        },
        "xaxis144": {
         "anchor": "y144",
         "domain": [
          0.9441666666666666,
          0.9999999999999999
         ],
         "matches": "x133",
         "showticklabels": false
        },
        "xaxis15": {
         "anchor": "y15",
         "domain": [
          0.1716666666666667,
          0.22750000000000004
         ],
         "matches": "x133",
         "showticklabels": false
        },
        "xaxis16": {
         "anchor": "y16",
         "domain": [
          0.2575,
          0.31333333333333335
         ],
         "matches": "x133",
         "showticklabels": false
        },
        "xaxis17": {
         "anchor": "y17",
         "domain": [
          0.3433333333333334,
          0.3991666666666667
         ],
         "matches": "x133",
         "showticklabels": false
        },
        "xaxis18": {
         "anchor": "y18",
         "domain": [
          0.4291666666666667,
          0.48500000000000004
         ],
         "matches": "x133",
         "showticklabels": false
        },
        "xaxis19": {
         "anchor": "y19",
         "domain": [
          0.515,
          0.5708333333333333
         ],
         "matches": "x133",
         "showticklabels": false
        },
        "xaxis2": {
         "anchor": "y2",
         "domain": [
          0.08583333333333334,
          0.1416666666666667
         ],
         "matches": "x133",
         "showticklabels": false
        },
        "xaxis20": {
         "anchor": "y20",
         "domain": [
          0.6008333333333333,
          0.6566666666666666
         ],
         "matches": "x133",
         "showticklabels": false
        },
        "xaxis21": {
         "anchor": "y21",
         "domain": [
          0.6866666666666668,
          0.7425
         ],
         "matches": "x133",
         "showticklabels": false
        },
        "xaxis22": {
         "anchor": "y22",
         "domain": [
          0.7725000000000001,
          0.8283333333333334
         ],
         "matches": "x133",
         "showticklabels": false
        },
        "xaxis23": {
         "anchor": "y23",
         "domain": [
          0.8583333333333334,
          0.9141666666666667
         ],
         "matches": "x133",
         "showticklabels": false
        },
        "xaxis24": {
         "anchor": "y24",
         "domain": [
          0.9441666666666666,
          0.9999999999999999
         ],
         "matches": "x133",
         "showticklabels": false
        },
        "xaxis25": {
         "anchor": "y25",
         "domain": [
          0,
          0.05583333333333334
         ],
         "matches": "x133",
         "showticklabels": false
        },
        "xaxis26": {
         "anchor": "y26",
         "domain": [
          0.08583333333333334,
          0.1416666666666667
         ],
         "matches": "x133",
         "showticklabels": false
        },
        "xaxis27": {
         "anchor": "y27",
         "domain": [
          0.1716666666666667,
          0.22750000000000004
         ],
         "matches": "x133",
         "showticklabels": false
        },
        "xaxis28": {
         "anchor": "y28",
         "domain": [
          0.2575,
          0.31333333333333335
         ],
         "matches": "x133",
         "showticklabels": false
        },
        "xaxis29": {
         "anchor": "y29",
         "domain": [
          0.3433333333333334,
          0.3991666666666667
         ],
         "matches": "x133",
         "showticklabels": false
        },
        "xaxis3": {
         "anchor": "y3",
         "domain": [
          0.1716666666666667,
          0.22750000000000004
         ],
         "matches": "x133",
         "showticklabels": false
        },
        "xaxis30": {
         "anchor": "y30",
         "domain": [
          0.4291666666666667,
          0.48500000000000004
         ],
         "matches": "x133",
         "showticklabels": false
        },
        "xaxis31": {
         "anchor": "y31",
         "domain": [
          0.515,
          0.5708333333333333
         ],
         "matches": "x133",
         "showticklabels": false
        },
        "xaxis32": {
         "anchor": "y32",
         "domain": [
          0.6008333333333333,
          0.6566666666666666
         ],
         "matches": "x133",
         "showticklabels": false
        },
        "xaxis33": {
         "anchor": "y33",
         "domain": [
          0.6866666666666668,
          0.7425
         ],
         "matches": "x133",
         "showticklabels": false
        },
        "xaxis34": {
         "anchor": "y34",
         "domain": [
          0.7725000000000001,
          0.8283333333333334
         ],
         "matches": "x133",
         "showticklabels": false
        },
        "xaxis35": {
         "anchor": "y35",
         "domain": [
          0.8583333333333334,
          0.9141666666666667
         ],
         "matches": "x133",
         "showticklabels": false
        },
        "xaxis36": {
         "anchor": "y36",
         "domain": [
          0.9441666666666666,
          0.9999999999999999
         ],
         "matches": "x133",
         "showticklabels": false
        },
        "xaxis37": {
         "anchor": "y37",
         "domain": [
          0,
          0.05583333333333334
         ],
         "matches": "x133",
         "showticklabels": false
        },
        "xaxis38": {
         "anchor": "y38",
         "domain": [
          0.08583333333333334,
          0.1416666666666667
         ],
         "matches": "x133",
         "showticklabels": false
        },
        "xaxis39": {
         "anchor": "y39",
         "domain": [
          0.1716666666666667,
          0.22750000000000004
         ],
         "matches": "x133",
         "showticklabels": false
        },
        "xaxis4": {
         "anchor": "y4",
         "domain": [
          0.2575,
          0.31333333333333335
         ],
         "matches": "x133",
         "showticklabels": false
        },
        "xaxis40": {
         "anchor": "y40",
         "domain": [
          0.2575,
          0.31333333333333335
         ],
         "matches": "x133",
         "showticklabels": false
        },
        "xaxis41": {
         "anchor": "y41",
         "domain": [
          0.3433333333333334,
          0.3991666666666667
         ],
         "matches": "x133",
         "showticklabels": false
        },
        "xaxis42": {
         "anchor": "y42",
         "domain": [
          0.4291666666666667,
          0.48500000000000004
         ],
         "matches": "x133",
         "showticklabels": false
        },
        "xaxis43": {
         "anchor": "y43",
         "domain": [
          0.515,
          0.5708333333333333
         ],
         "matches": "x133",
         "showticklabels": false
        },
        "xaxis44": {
         "anchor": "y44",
         "domain": [
          0.6008333333333333,
          0.6566666666666666
         ],
         "matches": "x133",
         "showticklabels": false
        },
        "xaxis45": {
         "anchor": "y45",
         "domain": [
          0.6866666666666668,
          0.7425
         ],
         "matches": "x133",
         "showticklabels": false
        },
        "xaxis46": {
         "anchor": "y46",
         "domain": [
          0.7725000000000001,
          0.8283333333333334
         ],
         "matches": "x133",
         "showticklabels": false
        },
        "xaxis47": {
         "anchor": "y47",
         "domain": [
          0.8583333333333334,
          0.9141666666666667
         ],
         "matches": "x133",
         "showticklabels": false
        },
        "xaxis48": {
         "anchor": "y48",
         "domain": [
          0.9441666666666666,
          0.9999999999999999
         ],
         "matches": "x133",
         "showticklabels": false
        },
        "xaxis49": {
         "anchor": "y49",
         "domain": [
          0,
          0.05583333333333334
         ],
         "matches": "x133",
         "showticklabels": false
        },
        "xaxis5": {
         "anchor": "y5",
         "domain": [
          0.3433333333333334,
          0.3991666666666667
         ],
         "matches": "x133",
         "showticklabels": false
        },
        "xaxis50": {
         "anchor": "y50",
         "domain": [
          0.08583333333333334,
          0.1416666666666667
         ],
         "matches": "x133",
         "showticklabels": false
        },
        "xaxis51": {
         "anchor": "y51",
         "domain": [
          0.1716666666666667,
          0.22750000000000004
         ],
         "matches": "x133",
         "showticklabels": false
        },
        "xaxis52": {
         "anchor": "y52",
         "domain": [
          0.2575,
          0.31333333333333335
         ],
         "matches": "x133",
         "showticklabels": false
        },
        "xaxis53": {
         "anchor": "y53",
         "domain": [
          0.3433333333333334,
          0.3991666666666667
         ],
         "matches": "x133",
         "showticklabels": false
        },
        "xaxis54": {
         "anchor": "y54",
         "domain": [
          0.4291666666666667,
          0.48500000000000004
         ],
         "matches": "x133",
         "showticklabels": false
        },
        "xaxis55": {
         "anchor": "y55",
         "domain": [
          0.515,
          0.5708333333333333
         ],
         "matches": "x133",
         "showticklabels": false
        },
        "xaxis56": {
         "anchor": "y56",
         "domain": [
          0.6008333333333333,
          0.6566666666666666
         ],
         "matches": "x133",
         "showticklabels": false
        },
        "xaxis57": {
         "anchor": "y57",
         "domain": [
          0.6866666666666668,
          0.7425
         ],
         "matches": "x133",
         "showticklabels": false
        },
        "xaxis58": {
         "anchor": "y58",
         "domain": [
          0.7725000000000001,
          0.8283333333333334
         ],
         "matches": "x133",
         "showticklabels": false
        },
        "xaxis59": {
         "anchor": "y59",
         "domain": [
          0.8583333333333334,
          0.9141666666666667
         ],
         "matches": "x133",
         "showticklabels": false
        },
        "xaxis6": {
         "anchor": "y6",
         "domain": [
          0.4291666666666667,
          0.48500000000000004
         ],
         "matches": "x133",
         "showticklabels": false
        },
        "xaxis60": {
         "anchor": "y60",
         "domain": [
          0.9441666666666666,
          0.9999999999999999
         ],
         "matches": "x133",
         "showticklabels": false
        },
        "xaxis61": {
         "anchor": "y61",
         "domain": [
          0,
          0.05583333333333334
         ],
         "matches": "x133",
         "showticklabels": false
        },
        "xaxis62": {
         "anchor": "y62",
         "domain": [
          0.08583333333333334,
          0.1416666666666667
         ],
         "matches": "x133",
         "showticklabels": false
        },
        "xaxis63": {
         "anchor": "y63",
         "domain": [
          0.1716666666666667,
          0.22750000000000004
         ],
         "matches": "x133",
         "showticklabels": false
        },
        "xaxis64": {
         "anchor": "y64",
         "domain": [
          0.2575,
          0.31333333333333335
         ],
         "matches": "x133",
         "showticklabels": false
        },
        "xaxis65": {
         "anchor": "y65",
         "domain": [
          0.3433333333333334,
          0.3991666666666667
         ],
         "matches": "x133",
         "showticklabels": false
        },
        "xaxis66": {
         "anchor": "y66",
         "domain": [
          0.4291666666666667,
          0.48500000000000004
         ],
         "matches": "x133",
         "showticklabels": false
        },
        "xaxis67": {
         "anchor": "y67",
         "domain": [
          0.515,
          0.5708333333333333
         ],
         "matches": "x133",
         "showticklabels": false
        },
        "xaxis68": {
         "anchor": "y68",
         "domain": [
          0.6008333333333333,
          0.6566666666666666
         ],
         "matches": "x133",
         "showticklabels": false
        },
        "xaxis69": {
         "anchor": "y69",
         "domain": [
          0.6866666666666668,
          0.7425
         ],
         "matches": "x133",
         "showticklabels": false
        },
        "xaxis7": {
         "anchor": "y7",
         "domain": [
          0.515,
          0.5708333333333333
         ],
         "matches": "x133",
         "showticklabels": false
        },
        "xaxis70": {
         "anchor": "y70",
         "domain": [
          0.7725000000000001,
          0.8283333333333334
         ],
         "matches": "x133",
         "showticklabels": false
        },
        "xaxis71": {
         "anchor": "y71",
         "domain": [
          0.8583333333333334,
          0.9141666666666667
         ],
         "matches": "x133",
         "showticklabels": false
        },
        "xaxis72": {
         "anchor": "y72",
         "domain": [
          0.9441666666666666,
          0.9999999999999999
         ],
         "matches": "x133",
         "showticklabels": false
        },
        "xaxis73": {
         "anchor": "y73",
         "domain": [
          0,
          0.05583333333333334
         ],
         "matches": "x133",
         "showticklabels": false
        },
        "xaxis74": {
         "anchor": "y74",
         "domain": [
          0.08583333333333334,
          0.1416666666666667
         ],
         "matches": "x133",
         "showticklabels": false
        },
        "xaxis75": {
         "anchor": "y75",
         "domain": [
          0.1716666666666667,
          0.22750000000000004
         ],
         "matches": "x133",
         "showticklabels": false
        },
        "xaxis76": {
         "anchor": "y76",
         "domain": [
          0.2575,
          0.31333333333333335
         ],
         "matches": "x133",
         "showticklabels": false
        },
        "xaxis77": {
         "anchor": "y77",
         "domain": [
          0.3433333333333334,
          0.3991666666666667
         ],
         "matches": "x133",
         "showticklabels": false
        },
        "xaxis78": {
         "anchor": "y78",
         "domain": [
          0.4291666666666667,
          0.48500000000000004
         ],
         "matches": "x133",
         "showticklabels": false
        },
        "xaxis79": {
         "anchor": "y79",
         "domain": [
          0.515,
          0.5708333333333333
         ],
         "matches": "x133",
         "showticklabels": false
        },
        "xaxis8": {
         "anchor": "y8",
         "domain": [
          0.6008333333333333,
          0.6566666666666666
         ],
         "matches": "x133",
         "showticklabels": false
        },
        "xaxis80": {
         "anchor": "y80",
         "domain": [
          0.6008333333333333,
          0.6566666666666666
         ],
         "matches": "x133",
         "showticklabels": false
        },
        "xaxis81": {
         "anchor": "y81",
         "domain": [
          0.6866666666666668,
          0.7425
         ],
         "matches": "x133",
         "showticklabels": false
        },
        "xaxis82": {
         "anchor": "y82",
         "domain": [
          0.7725000000000001,
          0.8283333333333334
         ],
         "matches": "x133",
         "showticklabels": false
        },
        "xaxis83": {
         "anchor": "y83",
         "domain": [
          0.8583333333333334,
          0.9141666666666667
         ],
         "matches": "x133",
         "showticklabels": false
        },
        "xaxis84": {
         "anchor": "y84",
         "domain": [
          0.9441666666666666,
          0.9999999999999999
         ],
         "matches": "x133",
         "showticklabels": false
        },
        "xaxis85": {
         "anchor": "y85",
         "domain": [
          0,
          0.05583333333333334
         ],
         "matches": "x133",
         "showticklabels": false
        },
        "xaxis86": {
         "anchor": "y86",
         "domain": [
          0.08583333333333334,
          0.1416666666666667
         ],
         "matches": "x133",
         "showticklabels": false
        },
        "xaxis87": {
         "anchor": "y87",
         "domain": [
          0.1716666666666667,
          0.22750000000000004
         ],
         "matches": "x133",
         "showticklabels": false
        },
        "xaxis88": {
         "anchor": "y88",
         "domain": [
          0.2575,
          0.31333333333333335
         ],
         "matches": "x133",
         "showticklabels": false
        },
        "xaxis89": {
         "anchor": "y89",
         "domain": [
          0.3433333333333334,
          0.3991666666666667
         ],
         "matches": "x133",
         "showticklabels": false
        },
        "xaxis9": {
         "anchor": "y9",
         "domain": [
          0.6866666666666668,
          0.7425
         ],
         "matches": "x133",
         "showticklabels": false
        },
        "xaxis90": {
         "anchor": "y90",
         "domain": [
          0.4291666666666667,
          0.48500000000000004
         ],
         "matches": "x133",
         "showticklabels": false
        },
        "xaxis91": {
         "anchor": "y91",
         "domain": [
          0.515,
          0.5708333333333333
         ],
         "matches": "x133",
         "showticklabels": false
        },
        "xaxis92": {
         "anchor": "y92",
         "domain": [
          0.6008333333333333,
          0.6566666666666666
         ],
         "matches": "x133",
         "showticklabels": false
        },
        "xaxis93": {
         "anchor": "y93",
         "domain": [
          0.6866666666666668,
          0.7425
         ],
         "matches": "x133",
         "showticklabels": false
        },
        "xaxis94": {
         "anchor": "y94",
         "domain": [
          0.7725000000000001,
          0.8283333333333334
         ],
         "matches": "x133",
         "showticklabels": false
        },
        "xaxis95": {
         "anchor": "y95",
         "domain": [
          0.8583333333333334,
          0.9141666666666667
         ],
         "matches": "x133",
         "showticklabels": false
        },
        "xaxis96": {
         "anchor": "y96",
         "domain": [
          0.9441666666666666,
          0.9999999999999999
         ],
         "matches": "x133",
         "showticklabels": false
        },
        "xaxis97": {
         "anchor": "y97",
         "domain": [
          0,
          0.05583333333333334
         ],
         "matches": "x133",
         "showticklabels": false
        },
        "xaxis98": {
         "anchor": "y98",
         "domain": [
          0.08583333333333334,
          0.1416666666666667
         ],
         "matches": "x133",
         "showticklabels": false
        },
        "xaxis99": {
         "anchor": "y99",
         "domain": [
          0.1716666666666667,
          0.22750000000000004
         ],
         "matches": "x133",
         "showticklabels": false
        },
        "yaxis": {
         "anchor": "x",
         "domain": [
          0.9441666666666666,
          0.9999999999999999
         ],
         "matches": "y133",
         "showticklabels": false
        },
        "yaxis10": {
         "anchor": "x10",
         "domain": [
          0.9441666666666666,
          0.9999999999999999
         ],
         "matches": "y133",
         "showticklabels": false
        },
        "yaxis100": {
         "anchor": "x100",
         "domain": [
          0.2575,
          0.31333333333333335
         ],
         "matches": "y133",
         "showticklabels": false
        },
        "yaxis101": {
         "anchor": "x101",
         "domain": [
          0.2575,
          0.31333333333333335
         ],
         "matches": "y133",
         "showticklabels": false
        },
        "yaxis102": {
         "anchor": "x102",
         "domain": [
          0.2575,
          0.31333333333333335
         ],
         "matches": "y133",
         "showticklabels": false
        },
        "yaxis103": {
         "anchor": "x103",
         "domain": [
          0.2575,
          0.31333333333333335
         ],
         "matches": "y133",
         "showticklabels": false
        },
        "yaxis104": {
         "anchor": "x104",
         "domain": [
          0.2575,
          0.31333333333333335
         ],
         "matches": "y133",
         "showticklabels": false
        },
        "yaxis105": {
         "anchor": "x105",
         "domain": [
          0.2575,
          0.31333333333333335
         ],
         "matches": "y133",
         "showticklabels": false
        },
        "yaxis106": {
         "anchor": "x106",
         "domain": [
          0.2575,
          0.31333333333333335
         ],
         "matches": "y133",
         "showticklabels": false
        },
        "yaxis107": {
         "anchor": "x107",
         "domain": [
          0.2575,
          0.31333333333333335
         ],
         "matches": "y133",
         "showticklabels": false
        },
        "yaxis108": {
         "anchor": "x108",
         "domain": [
          0.2575,
          0.31333333333333335
         ],
         "matches": "y133",
         "showticklabels": false
        },
        "yaxis109": {
         "anchor": "x109",
         "domain": [
          0.1716666666666667,
          0.22750000000000004
         ],
         "matches": "y133",
         "showticklabels": false
        },
        "yaxis11": {
         "anchor": "x11",
         "domain": [
          0.9441666666666666,
          0.9999999999999999
         ],
         "matches": "y133",
         "showticklabels": false
        },
        "yaxis110": {
         "anchor": "x110",
         "domain": [
          0.1716666666666667,
          0.22750000000000004
         ],
         "matches": "y133",
         "showticklabels": false
        },
        "yaxis111": {
         "anchor": "x111",
         "domain": [
          0.1716666666666667,
          0.22750000000000004
         ],
         "matches": "y133",
         "showticklabels": false
        },
        "yaxis112": {
         "anchor": "x112",
         "domain": [
          0.1716666666666667,
          0.22750000000000004
         ],
         "matches": "y133",
         "showticklabels": false
        },
        "yaxis113": {
         "anchor": "x113",
         "domain": [
          0.1716666666666667,
          0.22750000000000004
         ],
         "matches": "y133",
         "showticklabels": false
        },
        "yaxis114": {
         "anchor": "x114",
         "domain": [
          0.1716666666666667,
          0.22750000000000004
         ],
         "matches": "y133",
         "showticklabels": false
        },
        "yaxis115": {
         "anchor": "x115",
         "domain": [
          0.1716666666666667,
          0.22750000000000004
         ],
         "matches": "y133",
         "showticklabels": false
        },
        "yaxis116": {
         "anchor": "x116",
         "domain": [
          0.1716666666666667,
          0.22750000000000004
         ],
         "matches": "y133",
         "showticklabels": false
        },
        "yaxis117": {
         "anchor": "x117",
         "domain": [
          0.1716666666666667,
          0.22750000000000004
         ],
         "matches": "y133",
         "showticklabels": false
        },
        "yaxis118": {
         "anchor": "x118",
         "domain": [
          0.1716666666666667,
          0.22750000000000004
         ],
         "matches": "y133",
         "showticklabels": false
        },
        "yaxis119": {
         "anchor": "x119",
         "domain": [
          0.1716666666666667,
          0.22750000000000004
         ],
         "matches": "y133",
         "showticklabels": false
        },
        "yaxis12": {
         "anchor": "x12",
         "domain": [
          0.9441666666666666,
          0.9999999999999999
         ],
         "matches": "y133",
         "showticklabels": false
        },
        "yaxis120": {
         "anchor": "x120",
         "domain": [
          0.1716666666666667,
          0.22750000000000004
         ],
         "matches": "y133",
         "showticklabels": false
        },
        "yaxis121": {
         "anchor": "x121",
         "domain": [
          0.08583333333333334,
          0.1416666666666667
         ],
         "matches": "y133",
         "showticklabels": false
        },
        "yaxis122": {
         "anchor": "x122",
         "domain": [
          0.08583333333333334,
          0.1416666666666667
         ],
         "matches": "y133",
         "showticklabels": false
        },
        "yaxis123": {
         "anchor": "x123",
         "domain": [
          0.08583333333333334,
          0.1416666666666667
         ],
         "matches": "y133",
         "showticklabels": false
        },
        "yaxis124": {
         "anchor": "x124",
         "domain": [
          0.08583333333333334,
          0.1416666666666667
         ],
         "matches": "y133",
         "showticklabels": false
        },
        "yaxis125": {
         "anchor": "x125",
         "domain": [
          0.08583333333333334,
          0.1416666666666667
         ],
         "matches": "y133",
         "showticklabels": false
        },
        "yaxis126": {
         "anchor": "x126",
         "domain": [
          0.08583333333333334,
          0.1416666666666667
         ],
         "matches": "y133",
         "showticklabels": false
        },
        "yaxis127": {
         "anchor": "x127",
         "domain": [
          0.08583333333333334,
          0.1416666666666667
         ],
         "matches": "y133",
         "showticklabels": false
        },
        "yaxis128": {
         "anchor": "x128",
         "domain": [
          0.08583333333333334,
          0.1416666666666667
         ],
         "matches": "y133",
         "showticklabels": false
        },
        "yaxis129": {
         "anchor": "x129",
         "domain": [
          0.08583333333333334,
          0.1416666666666667
         ],
         "matches": "y133",
         "showticklabels": false
        },
        "yaxis13": {
         "anchor": "x13",
         "domain": [
          0.8583333333333334,
          0.9141666666666667
         ],
         "matches": "y133",
         "showticklabels": false
        },
        "yaxis130": {
         "anchor": "x130",
         "domain": [
          0.08583333333333334,
          0.1416666666666667
         ],
         "matches": "y133",
         "showticklabels": false
        },
        "yaxis131": {
         "anchor": "x131",
         "domain": [
          0.08583333333333334,
          0.1416666666666667
         ],
         "matches": "y133",
         "showticklabels": false
        },
        "yaxis132": {
         "anchor": "x132",
         "domain": [
          0.08583333333333334,
          0.1416666666666667
         ],
         "matches": "y133",
         "showticklabels": false
        },
        "yaxis133": {
         "anchor": "x133",
         "domain": [
          0,
          0.05583333333333334
         ],
         "showticklabels": false
        },
        "yaxis134": {
         "anchor": "x134",
         "domain": [
          0,
          0.05583333333333334
         ],
         "matches": "y133",
         "showticklabels": false
        },
        "yaxis135": {
         "anchor": "x135",
         "domain": [
          0,
          0.05583333333333334
         ],
         "matches": "y133",
         "showticklabels": false
        },
        "yaxis136": {
         "anchor": "x136",
         "domain": [
          0,
          0.05583333333333334
         ],
         "matches": "y133",
         "showticklabels": false
        },
        "yaxis137": {
         "anchor": "x137",
         "domain": [
          0,
          0.05583333333333334
         ],
         "matches": "y133",
         "showticklabels": false
        },
        "yaxis138": {
         "anchor": "x138",
         "domain": [
          0,
          0.05583333333333334
         ],
         "matches": "y133",
         "showticklabels": false
        },
        "yaxis139": {
         "anchor": "x139",
         "domain": [
          0,
          0.05583333333333334
         ],
         "matches": "y133",
         "showticklabels": false
        },
        "yaxis14": {
         "anchor": "x14",
         "domain": [
          0.8583333333333334,
          0.9141666666666667
         ],
         "matches": "y133",
         "showticklabels": false
        },
        "yaxis140": {
         "anchor": "x140",
         "domain": [
          0,
          0.05583333333333334
         ],
         "matches": "y133",
         "showticklabels": false
        },
        "yaxis141": {
         "anchor": "x141",
         "domain": [
          0,
          0.05583333333333334
         ],
         "matches": "y133",
         "showticklabels": false
        },
        "yaxis142": {
         "anchor": "x142",
         "domain": [
          0,
          0.05583333333333334
         ],
         "matches": "y133",
         "showticklabels": false
        },
        "yaxis143": {
         "anchor": "x143",
         "domain": [
          0,
          0.05583333333333334
         ],
         "matches": "y133",
         "showticklabels": false
        },
        "yaxis144": {
         "anchor": "x144",
         "domain": [
          0,
          0.05583333333333334
         ],
         "matches": "y133",
         "showticklabels": false
        },
        "yaxis15": {
         "anchor": "x15",
         "domain": [
          0.8583333333333334,
          0.9141666666666667
         ],
         "matches": "y133",
         "showticklabels": false
        },
        "yaxis16": {
         "anchor": "x16",
         "domain": [
          0.8583333333333334,
          0.9141666666666667
         ],
         "matches": "y133",
         "showticklabels": false
        },
        "yaxis17": {
         "anchor": "x17",
         "domain": [
          0.8583333333333334,
          0.9141666666666667
         ],
         "matches": "y133",
         "showticklabels": false
        },
        "yaxis18": {
         "anchor": "x18",
         "domain": [
          0.8583333333333334,
          0.9141666666666667
         ],
         "matches": "y133",
         "showticklabels": false
        },
        "yaxis19": {
         "anchor": "x19",
         "domain": [
          0.8583333333333334,
          0.9141666666666667
         ],
         "matches": "y133",
         "showticklabels": false
        },
        "yaxis2": {
         "anchor": "x2",
         "domain": [
          0.9441666666666666,
          0.9999999999999999
         ],
         "matches": "y133",
         "showticklabels": false
        },
        "yaxis20": {
         "anchor": "x20",
         "domain": [
          0.8583333333333334,
          0.9141666666666667
         ],
         "matches": "y133",
         "showticklabels": false
        },
        "yaxis21": {
         "anchor": "x21",
         "domain": [
          0.8583333333333334,
          0.9141666666666667
         ],
         "matches": "y133",
         "showticklabels": false
        },
        "yaxis22": {
         "anchor": "x22",
         "domain": [
          0.8583333333333334,
          0.9141666666666667
         ],
         "matches": "y133",
         "showticklabels": false
        },
        "yaxis23": {
         "anchor": "x23",
         "domain": [
          0.8583333333333334,
          0.9141666666666667
         ],
         "matches": "y133",
         "showticklabels": false
        },
        "yaxis24": {
         "anchor": "x24",
         "domain": [
          0.8583333333333334,
          0.9141666666666667
         ],
         "matches": "y133",
         "showticklabels": false
        },
        "yaxis25": {
         "anchor": "x25",
         "domain": [
          0.7725000000000001,
          0.8283333333333334
         ],
         "matches": "y133",
         "showticklabels": false
        },
        "yaxis26": {
         "anchor": "x26",
         "domain": [
          0.7725000000000001,
          0.8283333333333334
         ],
         "matches": "y133",
         "showticklabels": false
        },
        "yaxis27": {
         "anchor": "x27",
         "domain": [
          0.7725000000000001,
          0.8283333333333334
         ],
         "matches": "y133",
         "showticklabels": false
        },
        "yaxis28": {
         "anchor": "x28",
         "domain": [
          0.7725000000000001,
          0.8283333333333334
         ],
         "matches": "y133",
         "showticklabels": false
        },
        "yaxis29": {
         "anchor": "x29",
         "domain": [
          0.7725000000000001,
          0.8283333333333334
         ],
         "matches": "y133",
         "showticklabels": false
        },
        "yaxis3": {
         "anchor": "x3",
         "domain": [
          0.9441666666666666,
          0.9999999999999999
         ],
         "matches": "y133",
         "showticklabels": false
        },
        "yaxis30": {
         "anchor": "x30",
         "domain": [
          0.7725000000000001,
          0.8283333333333334
         ],
         "matches": "y133",
         "showticklabels": false
        },
        "yaxis31": {
         "anchor": "x31",
         "domain": [
          0.7725000000000001,
          0.8283333333333334
         ],
         "matches": "y133",
         "showticklabels": false
        },
        "yaxis32": {
         "anchor": "x32",
         "domain": [
          0.7725000000000001,
          0.8283333333333334
         ],
         "matches": "y133",
         "showticklabels": false
        },
        "yaxis33": {
         "anchor": "x33",
         "domain": [
          0.7725000000000001,
          0.8283333333333334
         ],
         "matches": "y133",
         "showticklabels": false
        },
        "yaxis34": {
         "anchor": "x34",
         "domain": [
          0.7725000000000001,
          0.8283333333333334
         ],
         "matches": "y133",
         "showticklabels": false
        },
        "yaxis35": {
         "anchor": "x35",
         "domain": [
          0.7725000000000001,
          0.8283333333333334
         ],
         "matches": "y133",
         "showticklabels": false
        },
        "yaxis36": {
         "anchor": "x36",
         "domain": [
          0.7725000000000001,
          0.8283333333333334
         ],
         "matches": "y133",
         "showticklabels": false
        },
        "yaxis37": {
         "anchor": "x37",
         "domain": [
          0.6866666666666668,
          0.7425
         ],
         "matches": "y133",
         "showticklabels": false
        },
        "yaxis38": {
         "anchor": "x38",
         "domain": [
          0.6866666666666668,
          0.7425
         ],
         "matches": "y133",
         "showticklabels": false
        },
        "yaxis39": {
         "anchor": "x39",
         "domain": [
          0.6866666666666668,
          0.7425
         ],
         "matches": "y133",
         "showticklabels": false
        },
        "yaxis4": {
         "anchor": "x4",
         "domain": [
          0.9441666666666666,
          0.9999999999999999
         ],
         "matches": "y133",
         "showticklabels": false
        },
        "yaxis40": {
         "anchor": "x40",
         "domain": [
          0.6866666666666668,
          0.7425
         ],
         "matches": "y133",
         "showticklabels": false
        },
        "yaxis41": {
         "anchor": "x41",
         "domain": [
          0.6866666666666668,
          0.7425
         ],
         "matches": "y133",
         "showticklabels": false
        },
        "yaxis42": {
         "anchor": "x42",
         "domain": [
          0.6866666666666668,
          0.7425
         ],
         "matches": "y133",
         "showticklabels": false
        },
        "yaxis43": {
         "anchor": "x43",
         "domain": [
          0.6866666666666668,
          0.7425
         ],
         "matches": "y133",
         "showticklabels": false
        },
        "yaxis44": {
         "anchor": "x44",
         "domain": [
          0.6866666666666668,
          0.7425
         ],
         "matches": "y133",
         "showticklabels": false
        },
        "yaxis45": {
         "anchor": "x45",
         "domain": [
          0.6866666666666668,
          0.7425
         ],
         "matches": "y133",
         "showticklabels": false
        },
        "yaxis46": {
         "anchor": "x46",
         "domain": [
          0.6866666666666668,
          0.7425
         ],
         "matches": "y133",
         "showticklabels": false
        },
        "yaxis47": {
         "anchor": "x47",
         "domain": [
          0.6866666666666668,
          0.7425
         ],
         "matches": "y133",
         "showticklabels": false
        },
        "yaxis48": {
         "anchor": "x48",
         "domain": [
          0.6866666666666668,
          0.7425
         ],
         "matches": "y133",
         "showticklabels": false
        },
        "yaxis49": {
         "anchor": "x49",
         "domain": [
          0.6008333333333333,
          0.6566666666666666
         ],
         "matches": "y133",
         "showticklabels": false
        },
        "yaxis5": {
         "anchor": "x5",
         "domain": [
          0.9441666666666666,
          0.9999999999999999
         ],
         "matches": "y133",
         "showticklabels": false
        },
        "yaxis50": {
         "anchor": "x50",
         "domain": [
          0.6008333333333333,
          0.6566666666666666
         ],
         "matches": "y133",
         "showticklabels": false
        },
        "yaxis51": {
         "anchor": "x51",
         "domain": [
          0.6008333333333333,
          0.6566666666666666
         ],
         "matches": "y133",
         "showticklabels": false
        },
        "yaxis52": {
         "anchor": "x52",
         "domain": [
          0.6008333333333333,
          0.6566666666666666
         ],
         "matches": "y133",
         "showticklabels": false
        },
        "yaxis53": {
         "anchor": "x53",
         "domain": [
          0.6008333333333333,
          0.6566666666666666
         ],
         "matches": "y133",
         "showticklabels": false
        },
        "yaxis54": {
         "anchor": "x54",
         "domain": [
          0.6008333333333333,
          0.6566666666666666
         ],
         "matches": "y133",
         "showticklabels": false
        },
        "yaxis55": {
         "anchor": "x55",
         "domain": [
          0.6008333333333333,
          0.6566666666666666
         ],
         "matches": "y133",
         "showticklabels": false
        },
        "yaxis56": {
         "anchor": "x56",
         "domain": [
          0.6008333333333333,
          0.6566666666666666
         ],
         "matches": "y133",
         "showticklabels": false
        },
        "yaxis57": {
         "anchor": "x57",
         "domain": [
          0.6008333333333333,
          0.6566666666666666
         ],
         "matches": "y133",
         "showticklabels": false
        },
        "yaxis58": {
         "anchor": "x58",
         "domain": [
          0.6008333333333333,
          0.6566666666666666
         ],
         "matches": "y133",
         "showticklabels": false
        },
        "yaxis59": {
         "anchor": "x59",
         "domain": [
          0.6008333333333333,
          0.6566666666666666
         ],
         "matches": "y133",
         "showticklabels": false
        },
        "yaxis6": {
         "anchor": "x6",
         "domain": [
          0.9441666666666666,
          0.9999999999999999
         ],
         "matches": "y133",
         "showticklabels": false
        },
        "yaxis60": {
         "anchor": "x60",
         "domain": [
          0.6008333333333333,
          0.6566666666666666
         ],
         "matches": "y133",
         "showticklabels": false
        },
        "yaxis61": {
         "anchor": "x61",
         "domain": [
          0.515,
          0.5708333333333333
         ],
         "matches": "y133",
         "showticklabels": false
        },
        "yaxis62": {
         "anchor": "x62",
         "domain": [
          0.515,
          0.5708333333333333
         ],
         "matches": "y133",
         "showticklabels": false
        },
        "yaxis63": {
         "anchor": "x63",
         "domain": [
          0.515,
          0.5708333333333333
         ],
         "matches": "y133",
         "showticklabels": false
        },
        "yaxis64": {
         "anchor": "x64",
         "domain": [
          0.515,
          0.5708333333333333
         ],
         "matches": "y133",
         "showticklabels": false
        },
        "yaxis65": {
         "anchor": "x65",
         "domain": [
          0.515,
          0.5708333333333333
         ],
         "matches": "y133",
         "showticklabels": false
        },
        "yaxis66": {
         "anchor": "x66",
         "domain": [
          0.515,
          0.5708333333333333
         ],
         "matches": "y133",
         "showticklabels": false
        },
        "yaxis67": {
         "anchor": "x67",
         "domain": [
          0.515,
          0.5708333333333333
         ],
         "matches": "y133",
         "showticklabels": false
        },
        "yaxis68": {
         "anchor": "x68",
         "domain": [
          0.515,
          0.5708333333333333
         ],
         "matches": "y133",
         "showticklabels": false
        },
        "yaxis69": {
         "anchor": "x69",
         "domain": [
          0.515,
          0.5708333333333333
         ],
         "matches": "y133",
         "showticklabels": false
        },
        "yaxis7": {
         "anchor": "x7",
         "domain": [
          0.9441666666666666,
          0.9999999999999999
         ],
         "matches": "y133",
         "showticklabels": false
        },
        "yaxis70": {
         "anchor": "x70",
         "domain": [
          0.515,
          0.5708333333333333
         ],
         "matches": "y133",
         "showticklabels": false
        },
        "yaxis71": {
         "anchor": "x71",
         "domain": [
          0.515,
          0.5708333333333333
         ],
         "matches": "y133",
         "showticklabels": false
        },
        "yaxis72": {
         "anchor": "x72",
         "domain": [
          0.515,
          0.5708333333333333
         ],
         "matches": "y133",
         "showticklabels": false
        },
        "yaxis73": {
         "anchor": "x73",
         "domain": [
          0.4291666666666667,
          0.48500000000000004
         ],
         "matches": "y133",
         "showticklabels": false
        },
        "yaxis74": {
         "anchor": "x74",
         "domain": [
          0.4291666666666667,
          0.48500000000000004
         ],
         "matches": "y133",
         "showticklabels": false
        },
        "yaxis75": {
         "anchor": "x75",
         "domain": [
          0.4291666666666667,
          0.48500000000000004
         ],
         "matches": "y133",
         "showticklabels": false
        },
        "yaxis76": {
         "anchor": "x76",
         "domain": [
          0.4291666666666667,
          0.48500000000000004
         ],
         "matches": "y133",
         "showticklabels": false
        },
        "yaxis77": {
         "anchor": "x77",
         "domain": [
          0.4291666666666667,
          0.48500000000000004
         ],
         "matches": "y133",
         "showticklabels": false
        },
        "yaxis78": {
         "anchor": "x78",
         "domain": [
          0.4291666666666667,
          0.48500000000000004
         ],
         "matches": "y133",
         "showticklabels": false
        },
        "yaxis79": {
         "anchor": "x79",
         "domain": [
          0.4291666666666667,
          0.48500000000000004
         ],
         "matches": "y133",
         "showticklabels": false
        },
        "yaxis8": {
         "anchor": "x8",
         "domain": [
          0.9441666666666666,
          0.9999999999999999
         ],
         "matches": "y133",
         "showticklabels": false
        },
        "yaxis80": {
         "anchor": "x80",
         "domain": [
          0.4291666666666667,
          0.48500000000000004
         ],
         "matches": "y133",
         "showticklabels": false
        },
        "yaxis81": {
         "anchor": "x81",
         "domain": [
          0.4291666666666667,
          0.48500000000000004
         ],
         "matches": "y133",
         "showticklabels": false
        },
        "yaxis82": {
         "anchor": "x82",
         "domain": [
          0.4291666666666667,
          0.48500000000000004
         ],
         "matches": "y133",
         "showticklabels": false
        },
        "yaxis83": {
         "anchor": "x83",
         "domain": [
          0.4291666666666667,
          0.48500000000000004
         ],
         "matches": "y133",
         "showticklabels": false
        },
        "yaxis84": {
         "anchor": "x84",
         "domain": [
          0.4291666666666667,
          0.48500000000000004
         ],
         "matches": "y133",
         "showticklabels": false
        },
        "yaxis85": {
         "anchor": "x85",
         "domain": [
          0.3433333333333334,
          0.3991666666666667
         ],
         "matches": "y133",
         "showticklabels": false
        },
        "yaxis86": {
         "anchor": "x86",
         "domain": [
          0.3433333333333334,
          0.3991666666666667
         ],
         "matches": "y133",
         "showticklabels": false
        },
        "yaxis87": {
         "anchor": "x87",
         "domain": [
          0.3433333333333334,
          0.3991666666666667
         ],
         "matches": "y133",
         "showticklabels": false
        },
        "yaxis88": {
         "anchor": "x88",
         "domain": [
          0.3433333333333334,
          0.3991666666666667
         ],
         "matches": "y133",
         "showticklabels": false
        },
        "yaxis89": {
         "anchor": "x89",
         "domain": [
          0.3433333333333334,
          0.3991666666666667
         ],
         "matches": "y133",
         "showticklabels": false
        },
        "yaxis9": {
         "anchor": "x9",
         "domain": [
          0.9441666666666666,
          0.9999999999999999
         ],
         "matches": "y133",
         "showticklabels": false
        },
        "yaxis90": {
         "anchor": "x90",
         "domain": [
          0.3433333333333334,
          0.3991666666666667
         ],
         "matches": "y133",
         "showticklabels": false
        },
        "yaxis91": {
         "anchor": "x91",
         "domain": [
          0.3433333333333334,
          0.3991666666666667
         ],
         "matches": "y133",
         "showticklabels": false
        },
        "yaxis92": {
         "anchor": "x92",
         "domain": [
          0.3433333333333334,
          0.3991666666666667
         ],
         "matches": "y133",
         "showticklabels": false
        },
        "yaxis93": {
         "anchor": "x93",
         "domain": [
          0.3433333333333334,
          0.3991666666666667
         ],
         "matches": "y133",
         "showticklabels": false
        },
        "yaxis94": {
         "anchor": "x94",
         "domain": [
          0.3433333333333334,
          0.3991666666666667
         ],
         "matches": "y133",
         "showticklabels": false
        },
        "yaxis95": {
         "anchor": "x95",
         "domain": [
          0.3433333333333334,
          0.3991666666666667
         ],
         "matches": "y133",
         "showticklabels": false
        },
        "yaxis96": {
         "anchor": "x96",
         "domain": [
          0.3433333333333334,
          0.3991666666666667
         ],
         "matches": "y133",
         "showticklabels": false
        },
        "yaxis97": {
         "anchor": "x97",
         "domain": [
          0.2575,
          0.31333333333333335
         ],
         "matches": "y133",
         "showticklabels": false
        },
        "yaxis98": {
         "anchor": "x98",
         "domain": [
          0.2575,
          0.31333333333333335
         ],
         "matches": "y133",
         "showticklabels": false
        },
        "yaxis99": {
         "anchor": "x99",
         "domain": [
          0.2575,
          0.31333333333333335
         ],
         "matches": "y133",
         "showticklabels": false
        }
       }
      }
     },
     "metadata": {},
     "output_type": "display_data"
    }
   ],
   "source": [
    "fig = go.Figure()\n",
    "fig = make_subplots(rows=12, cols=12, vertical_spacing=0.03, horizontal_spacing=0.03, shared_xaxes='all', shared_yaxes='all')\n",
    "\n",
    "# define subplot size\n",
    "fig.update_layout(width=1000, height=1000)\n",
    "\n",
    "df_model_meta_metr = df_model_meta[['accuracy', 'precision', 'recall', 'roc_auc_score', 'geometric_mean_score', 'matthews_corrcoef', 'f1_weighted']]\n",
    "\n",
    "# add subplots for metrics in each algorithm\n",
    "for i in range(11):\n",
    "    fig.add_trace(go.Bar(x = df_model_meta_metr.columns, y = df_model_meta_metr.iloc[i], marker_color=px.colors.sequential.gray, \n",
    "                name = algo_cap[i]), row=i+2, col=i+2)\n",
    "    # remove legend and x axes labels\n",
    "    fig.update_layout(showlegend=False)\n",
    "    fig.update_xaxes(showticklabels=False)\n",
    "    fig.update_yaxes(showticklabels=False)\n",
    "\n",
    "# add subplots for algorithm contribution to end result\n",
    "for i in range(11):\n",
    "    for j in range(11):\n",
    "        if i < j:\n",
    "            fig.add_trace(go.Indicator(\n",
    "                value =  df_pred_meta_cor.loc[f'meta_{i+1}', f'meta_{j+1}'],\n",
    "                mode = 'number+delta',\n",
    "                delta = {'reference': 1},\n",
    "                gauge = {'axis': {'visible': False}},\n",
    "                domain = {'row': i+1, 'column': j+1}))\n",
    "\n",
    "fig.update_layout(\n",
    "    grid = {'rows': 12, 'columns': 12, 'pattern': \"independent\"})\n",
    "\n",
    "\n",
    "# add rows and columns names\n",
    "for i in range(11):\n",
    "    fig.add_annotation(text=algo_cap[i], showarrow=False, font={\"size\":20}, row=1, col=i+2)\n",
    "for i in range(11):\n",
    "    fig.add_annotation(text=algo_cap[i], showarrow=False, font={\"size\":20}, row=i+2, col=1)\n",
    "\n",
    "# remove background color\n",
    "fig.update_layout(plot_bgcolor='rgba(0,0,0,0)')\n",
    "\n",
    "    \n",
    "fig.show()"
   ]
  },
  {
   "cell_type": "code",
   "execution_count": 224,
   "metadata": {},
   "outputs": [
    {
     "data": {
      "text/plain": [
       "(303, 12)"
      ]
     },
     "execution_count": 224,
     "metadata": {},
     "output_type": "execute_result"
    }
   ],
   "source": [
    "# # find columns in with not the same values in the whole column and save in a different dataframe\n",
    "df_pred_meta_red = df_pred_meta.loc[:, df_pred_meta.apply(pd.Series.nunique, axis=0) != 1]\n",
    "# transpose df_pred_meta to have columns as algorithms and rows as algorithms\n",
    "df_pred_meta_red_t = df_pred_meta_red.transpose()\n",
    "# rename columns to meta_1 to meta_11\n",
    "df_pred_meta_red_t.columns = [f'meta_{i}' for i in range(1, 12)]\n",
    "# concatinate with df_target\n",
    "df_pred_meta_red_t = pd.concat([df_pred_meta_red_t, df_target], axis=1)\n",
    "# rename class to target\n",
    "df_pred_meta_red_t.rename(columns={'class': 'target'}, inplace=True)\n",
    "df_pred_meta_red_t.shape"
   ]
  },
  {
   "cell_type": "code",
   "execution_count": 229,
   "metadata": {},
   "outputs": [
    {
     "data": {
      "text/html": [
       "<div>\n",
       "<style scoped>\n",
       "    .dataframe tbody tr th:only-of-type {\n",
       "        vertical-align: middle;\n",
       "    }\n",
       "\n",
       "    .dataframe tbody tr th {\n",
       "        vertical-align: top;\n",
       "    }\n",
       "\n",
       "    .dataframe thead th {\n",
       "        text-align: right;\n",
       "    }\n",
       "</style>\n",
       "<table border=\"1\" class=\"dataframe\">\n",
       "  <thead>\n",
       "    <tr style=\"text-align: right;\">\n",
       "      <th></th>\n",
       "      <th>meta_1</th>\n",
       "      <th>meta_2</th>\n",
       "      <th>meta_3</th>\n",
       "      <th>meta_4</th>\n",
       "      <th>meta_5</th>\n",
       "      <th>meta_6</th>\n",
       "      <th>meta_7</th>\n",
       "      <th>meta_8</th>\n",
       "      <th>meta_9</th>\n",
       "      <th>meta_10</th>\n",
       "      <th>meta_11</th>\n",
       "      <th>target</th>\n",
       "    </tr>\n",
       "  </thead>\n",
       "  <tbody>\n",
       "    <tr>\n",
       "      <th>0</th>\n",
       "      <td>0</td>\n",
       "      <td>0</td>\n",
       "      <td>0</td>\n",
       "      <td>0</td>\n",
       "      <td>0</td>\n",
       "      <td>0</td>\n",
       "      <td>0</td>\n",
       "      <td>0</td>\n",
       "      <td>0</td>\n",
       "      <td>1</td>\n",
       "      <td>0</td>\n",
       "      <td>0</td>\n",
       "    </tr>\n",
       "    <tr>\n",
       "      <th>1</th>\n",
       "      <td>0</td>\n",
       "      <td>0</td>\n",
       "      <td>0</td>\n",
       "      <td>0</td>\n",
       "      <td>0</td>\n",
       "      <td>0</td>\n",
       "      <td>0</td>\n",
       "      <td>0</td>\n",
       "      <td>0</td>\n",
       "      <td>0</td>\n",
       "      <td>0</td>\n",
       "      <td>0</td>\n",
       "    </tr>\n",
       "    <tr>\n",
       "      <th>2</th>\n",
       "      <td>0</td>\n",
       "      <td>0</td>\n",
       "      <td>0</td>\n",
       "      <td>0</td>\n",
       "      <td>0</td>\n",
       "      <td>0</td>\n",
       "      <td>0</td>\n",
       "      <td>0</td>\n",
       "      <td>0</td>\n",
       "      <td>0</td>\n",
       "      <td>0</td>\n",
       "      <td>0</td>\n",
       "    </tr>\n",
       "    <tr>\n",
       "      <th>3</th>\n",
       "      <td>0</td>\n",
       "      <td>0</td>\n",
       "      <td>0</td>\n",
       "      <td>0</td>\n",
       "      <td>0</td>\n",
       "      <td>0</td>\n",
       "      <td>0</td>\n",
       "      <td>0</td>\n",
       "      <td>0</td>\n",
       "      <td>0</td>\n",
       "      <td>0</td>\n",
       "      <td>0</td>\n",
       "    </tr>\n",
       "    <tr>\n",
       "      <th>4</th>\n",
       "      <td>0</td>\n",
       "      <td>0</td>\n",
       "      <td>0</td>\n",
       "      <td>0</td>\n",
       "      <td>0</td>\n",
       "      <td>0</td>\n",
       "      <td>0</td>\n",
       "      <td>0</td>\n",
       "      <td>0</td>\n",
       "      <td>0</td>\n",
       "      <td>0</td>\n",
       "      <td>0</td>\n",
       "    </tr>\n",
       "    <tr>\n",
       "      <th>...</th>\n",
       "      <td>...</td>\n",
       "      <td>...</td>\n",
       "      <td>...</td>\n",
       "      <td>...</td>\n",
       "      <td>...</td>\n",
       "      <td>...</td>\n",
       "      <td>...</td>\n",
       "      <td>...</td>\n",
       "      <td>...</td>\n",
       "      <td>...</td>\n",
       "      <td>...</td>\n",
       "      <td>...</td>\n",
       "    </tr>\n",
       "    <tr>\n",
       "      <th>298</th>\n",
       "      <td>1</td>\n",
       "      <td>1</td>\n",
       "      <td>1</td>\n",
       "      <td>1</td>\n",
       "      <td>1</td>\n",
       "      <td>1</td>\n",
       "      <td>1</td>\n",
       "      <td>1</td>\n",
       "      <td>1</td>\n",
       "      <td>1</td>\n",
       "      <td>1</td>\n",
       "      <td>1</td>\n",
       "    </tr>\n",
       "    <tr>\n",
       "      <th>299</th>\n",
       "      <td>0</td>\n",
       "      <td>1</td>\n",
       "      <td>1</td>\n",
       "      <td>1</td>\n",
       "      <td>1</td>\n",
       "      <td>1</td>\n",
       "      <td>0</td>\n",
       "      <td>1</td>\n",
       "      <td>1</td>\n",
       "      <td>1</td>\n",
       "      <td>1</td>\n",
       "      <td>1</td>\n",
       "    </tr>\n",
       "    <tr>\n",
       "      <th>300</th>\n",
       "      <td>1</td>\n",
       "      <td>1</td>\n",
       "      <td>1</td>\n",
       "      <td>1</td>\n",
       "      <td>1</td>\n",
       "      <td>1</td>\n",
       "      <td>1</td>\n",
       "      <td>1</td>\n",
       "      <td>1</td>\n",
       "      <td>1</td>\n",
       "      <td>1</td>\n",
       "      <td>1</td>\n",
       "    </tr>\n",
       "    <tr>\n",
       "      <th>301</th>\n",
       "      <td>1</td>\n",
       "      <td>1</td>\n",
       "      <td>1</td>\n",
       "      <td>1</td>\n",
       "      <td>1</td>\n",
       "      <td>1</td>\n",
       "      <td>1</td>\n",
       "      <td>1</td>\n",
       "      <td>1</td>\n",
       "      <td>1</td>\n",
       "      <td>1</td>\n",
       "      <td>1</td>\n",
       "    </tr>\n",
       "    <tr>\n",
       "      <th>302</th>\n",
       "      <td>0</td>\n",
       "      <td>0</td>\n",
       "      <td>0</td>\n",
       "      <td>1</td>\n",
       "      <td>1</td>\n",
       "      <td>1</td>\n",
       "      <td>0</td>\n",
       "      <td>0</td>\n",
       "      <td>1</td>\n",
       "      <td>1</td>\n",
       "      <td>1</td>\n",
       "      <td>1</td>\n",
       "    </tr>\n",
       "  </tbody>\n",
       "</table>\n",
       "<p>303 rows × 12 columns</p>\n",
       "</div>"
      ],
      "text/plain": [
       "     meta_1  meta_2  meta_3  meta_4  meta_5  meta_6  meta_7  meta_8  meta_9  \\\n",
       "0         0       0       0       0       0       0       0       0       0   \n",
       "1         0       0       0       0       0       0       0       0       0   \n",
       "2         0       0       0       0       0       0       0       0       0   \n",
       "3         0       0       0       0       0       0       0       0       0   \n",
       "4         0       0       0       0       0       0       0       0       0   \n",
       "..      ...     ...     ...     ...     ...     ...     ...     ...     ...   \n",
       "298       1       1       1       1       1       1       1       1       1   \n",
       "299       0       1       1       1       1       1       0       1       1   \n",
       "300       1       1       1       1       1       1       1       1       1   \n",
       "301       1       1       1       1       1       1       1       1       1   \n",
       "302       0       0       0       1       1       1       0       0       1   \n",
       "\n",
       "     meta_10  meta_11  target  \n",
       "0          1        0       0  \n",
       "1          0        0       0  \n",
       "2          0        0       0  \n",
       "3          0        0       0  \n",
       "4          0        0       0  \n",
       "..       ...      ...     ...  \n",
       "298        1        1       1  \n",
       "299        1        1       1  \n",
       "300        1        1       1  \n",
       "301        1        1       1  \n",
       "302        1        1       1  \n",
       "\n",
       "[303 rows x 12 columns]"
      ]
     },
     "execution_count": 229,
     "metadata": {},
     "output_type": "execute_result"
    }
   ],
   "source": [
    "df_pred_meta_t"
   ]
  },
  {
   "cell_type": "code",
   "execution_count": 230,
   "metadata": {},
   "outputs": [
    {
     "ename": "IndexingError",
     "evalue": "Unalignable boolean Series provided as indexer (index of the boolean Series and of the indexed object do not match).",
     "output_type": "error",
     "traceback": [
      "\u001b[1;31m---------------------------------------------------------------------------\u001b[0m",
      "\u001b[1;31mIndexingError\u001b[0m                             Traceback (most recent call last)",
      "\u001b[1;32md:\\github\\2dv50e\\2dv50e.ipynb Cell 40'\u001b[0m in \u001b[0;36m<cell line: 2>\u001b[1;34m()\u001b[0m\n\u001b[0;32m      <a href='vscode-notebook-cell:/d%3A/github/2dv50e/2dv50e.ipynb#ch0000054?line=0'>1</a>\u001b[0m \u001b[39m# find columns in with not the same values in the whole column and save in a different dataframe\u001b[39;00m\n\u001b[1;32m----> <a href='vscode-notebook-cell:/d%3A/github/2dv50e/2dv50e.ipynb#ch0000054?line=1'>2</a>\u001b[0m df_pred_meta_red \u001b[39m=\u001b[39m df_pred_meta_t\u001b[39m.\u001b[39;49mloc[:, df_pred_meta_t\u001b[39m.\u001b[39;49mapply(pd\u001b[39m.\u001b[39;49mSeries\u001b[39m.\u001b[39;49mnunique, axis\u001b[39m=\u001b[39;49m\u001b[39m1\u001b[39;49m) \u001b[39m!=\u001b[39;49m \u001b[39m1\u001b[39;49m]\n\u001b[0;32m      <a href='vscode-notebook-cell:/d%3A/github/2dv50e/2dv50e.ipynb#ch0000054?line=2'>3</a>\u001b[0m df_pred_meta_red\n",
      "File \u001b[1;32md:\\Conda\\lib\\site-packages\\pandas\\core\\indexing.py:961\u001b[0m, in \u001b[0;36m_LocationIndexer.__getitem__\u001b[1;34m(self, key)\u001b[0m\n\u001b[0;32m    <a href='file:///d%3A/Conda/lib/site-packages/pandas/core/indexing.py?line=958'>959</a>\u001b[0m     \u001b[39mif\u001b[39;00m \u001b[39mself\u001b[39m\u001b[39m.\u001b[39m_is_scalar_access(key):\n\u001b[0;32m    <a href='file:///d%3A/Conda/lib/site-packages/pandas/core/indexing.py?line=959'>960</a>\u001b[0m         \u001b[39mreturn\u001b[39;00m \u001b[39mself\u001b[39m\u001b[39m.\u001b[39mobj\u001b[39m.\u001b[39m_get_value(\u001b[39m*\u001b[39mkey, takeable\u001b[39m=\u001b[39m\u001b[39mself\u001b[39m\u001b[39m.\u001b[39m_takeable)\n\u001b[1;32m--> <a href='file:///d%3A/Conda/lib/site-packages/pandas/core/indexing.py?line=960'>961</a>\u001b[0m     \u001b[39mreturn\u001b[39;00m \u001b[39mself\u001b[39;49m\u001b[39m.\u001b[39;49m_getitem_tuple(key)\n\u001b[0;32m    <a href='file:///d%3A/Conda/lib/site-packages/pandas/core/indexing.py?line=961'>962</a>\u001b[0m \u001b[39melse\u001b[39;00m:\n\u001b[0;32m    <a href='file:///d%3A/Conda/lib/site-packages/pandas/core/indexing.py?line=962'>963</a>\u001b[0m     \u001b[39m# we by definition only have the 0th axis\u001b[39;00m\n\u001b[0;32m    <a href='file:///d%3A/Conda/lib/site-packages/pandas/core/indexing.py?line=963'>964</a>\u001b[0m     axis \u001b[39m=\u001b[39m \u001b[39mself\u001b[39m\u001b[39m.\u001b[39maxis \u001b[39mor\u001b[39;00m \u001b[39m0\u001b[39m\n",
      "File \u001b[1;32md:\\Conda\\lib\\site-packages\\pandas\\core\\indexing.py:1149\u001b[0m, in \u001b[0;36m_LocIndexer._getitem_tuple\u001b[1;34m(self, tup)\u001b[0m\n\u001b[0;32m   <a href='file:///d%3A/Conda/lib/site-packages/pandas/core/indexing.py?line=1145'>1146</a>\u001b[0m \u001b[39mif\u001b[39;00m \u001b[39mself\u001b[39m\u001b[39m.\u001b[39m_multi_take_opportunity(tup):\n\u001b[0;32m   <a href='file:///d%3A/Conda/lib/site-packages/pandas/core/indexing.py?line=1146'>1147</a>\u001b[0m     \u001b[39mreturn\u001b[39;00m \u001b[39mself\u001b[39m\u001b[39m.\u001b[39m_multi_take(tup)\n\u001b[1;32m-> <a href='file:///d%3A/Conda/lib/site-packages/pandas/core/indexing.py?line=1148'>1149</a>\u001b[0m \u001b[39mreturn\u001b[39;00m \u001b[39mself\u001b[39;49m\u001b[39m.\u001b[39;49m_getitem_tuple_same_dim(tup)\n",
      "File \u001b[1;32md:\\Conda\\lib\\site-packages\\pandas\\core\\indexing.py:827\u001b[0m, in \u001b[0;36m_LocationIndexer._getitem_tuple_same_dim\u001b[1;34m(self, tup)\u001b[0m\n\u001b[0;32m    <a href='file:///d%3A/Conda/lib/site-packages/pandas/core/indexing.py?line=823'>824</a>\u001b[0m \u001b[39mif\u001b[39;00m com\u001b[39m.\u001b[39mis_null_slice(key):\n\u001b[0;32m    <a href='file:///d%3A/Conda/lib/site-packages/pandas/core/indexing.py?line=824'>825</a>\u001b[0m     \u001b[39mcontinue\u001b[39;00m\n\u001b[1;32m--> <a href='file:///d%3A/Conda/lib/site-packages/pandas/core/indexing.py?line=826'>827</a>\u001b[0m retval \u001b[39m=\u001b[39m \u001b[39mgetattr\u001b[39;49m(retval, \u001b[39mself\u001b[39;49m\u001b[39m.\u001b[39;49mname)\u001b[39m.\u001b[39;49m_getitem_axis(key, axis\u001b[39m=\u001b[39;49mi)\n\u001b[0;32m    <a href='file:///d%3A/Conda/lib/site-packages/pandas/core/indexing.py?line=827'>828</a>\u001b[0m \u001b[39m# We should never have retval.ndim < self.ndim, as that should\u001b[39;00m\n\u001b[0;32m    <a href='file:///d%3A/Conda/lib/site-packages/pandas/core/indexing.py?line=828'>829</a>\u001b[0m \u001b[39m#  be handled by the _getitem_lowerdim call above.\u001b[39;00m\n\u001b[0;32m    <a href='file:///d%3A/Conda/lib/site-packages/pandas/core/indexing.py?line=829'>830</a>\u001b[0m \u001b[39massert\u001b[39;00m retval\u001b[39m.\u001b[39mndim \u001b[39m==\u001b[39m \u001b[39mself\u001b[39m\u001b[39m.\u001b[39mndim\n",
      "File \u001b[1;32md:\\Conda\\lib\\site-packages\\pandas\\core\\indexing.py:1182\u001b[0m, in \u001b[0;36m_LocIndexer._getitem_axis\u001b[1;34m(self, key, axis)\u001b[0m\n\u001b[0;32m   <a href='file:///d%3A/Conda/lib/site-packages/pandas/core/indexing.py?line=1179'>1180</a>\u001b[0m     \u001b[39mreturn\u001b[39;00m \u001b[39mself\u001b[39m\u001b[39m.\u001b[39m_get_slice_axis(key, axis\u001b[39m=\u001b[39maxis)\n\u001b[0;32m   <a href='file:///d%3A/Conda/lib/site-packages/pandas/core/indexing.py?line=1180'>1181</a>\u001b[0m \u001b[39melif\u001b[39;00m com\u001b[39m.\u001b[39mis_bool_indexer(key):\n\u001b[1;32m-> <a href='file:///d%3A/Conda/lib/site-packages/pandas/core/indexing.py?line=1181'>1182</a>\u001b[0m     \u001b[39mreturn\u001b[39;00m \u001b[39mself\u001b[39;49m\u001b[39m.\u001b[39;49m_getbool_axis(key, axis\u001b[39m=\u001b[39;49maxis)\n\u001b[0;32m   <a href='file:///d%3A/Conda/lib/site-packages/pandas/core/indexing.py?line=1182'>1183</a>\u001b[0m \u001b[39melif\u001b[39;00m is_list_like_indexer(key):\n\u001b[0;32m   <a href='file:///d%3A/Conda/lib/site-packages/pandas/core/indexing.py?line=1183'>1184</a>\u001b[0m \n\u001b[0;32m   <a href='file:///d%3A/Conda/lib/site-packages/pandas/core/indexing.py?line=1184'>1185</a>\u001b[0m     \u001b[39m# an iterable multi-selection\u001b[39;00m\n\u001b[0;32m   <a href='file:///d%3A/Conda/lib/site-packages/pandas/core/indexing.py?line=1185'>1186</a>\u001b[0m     \u001b[39mif\u001b[39;00m \u001b[39mnot\u001b[39;00m (\u001b[39misinstance\u001b[39m(key, \u001b[39mtuple\u001b[39m) \u001b[39mand\u001b[39;00m \u001b[39misinstance\u001b[39m(labels, MultiIndex)):\n",
      "File \u001b[1;32md:\\Conda\\lib\\site-packages\\pandas\\core\\indexing.py:984\u001b[0m, in \u001b[0;36m_LocationIndexer._getbool_axis\u001b[1;34m(self, key, axis)\u001b[0m\n\u001b[0;32m    <a href='file:///d%3A/Conda/lib/site-packages/pandas/core/indexing.py?line=980'>981</a>\u001b[0m \u001b[39mdef\u001b[39;00m \u001b[39m_getbool_axis\u001b[39m(\u001b[39mself\u001b[39m, key, axis: \u001b[39mint\u001b[39m):\n\u001b[0;32m    <a href='file:///d%3A/Conda/lib/site-packages/pandas/core/indexing.py?line=981'>982</a>\u001b[0m     \u001b[39m# caller is responsible for ensuring non-None axis\u001b[39;00m\n\u001b[0;32m    <a href='file:///d%3A/Conda/lib/site-packages/pandas/core/indexing.py?line=982'>983</a>\u001b[0m     labels \u001b[39m=\u001b[39m \u001b[39mself\u001b[39m\u001b[39m.\u001b[39mobj\u001b[39m.\u001b[39m_get_axis(axis)\n\u001b[1;32m--> <a href='file:///d%3A/Conda/lib/site-packages/pandas/core/indexing.py?line=983'>984</a>\u001b[0m     key \u001b[39m=\u001b[39m check_bool_indexer(labels, key)\n\u001b[0;32m    <a href='file:///d%3A/Conda/lib/site-packages/pandas/core/indexing.py?line=984'>985</a>\u001b[0m     inds \u001b[39m=\u001b[39m key\u001b[39m.\u001b[39mnonzero()[\u001b[39m0\u001b[39m]\n\u001b[0;32m    <a href='file:///d%3A/Conda/lib/site-packages/pandas/core/indexing.py?line=985'>986</a>\u001b[0m     \u001b[39mreturn\u001b[39;00m \u001b[39mself\u001b[39m\u001b[39m.\u001b[39mobj\u001b[39m.\u001b[39m_take_with_is_copy(inds, axis\u001b[39m=\u001b[39maxis)\n",
      "File \u001b[1;32md:\\Conda\\lib\\site-packages\\pandas\\core\\indexing.py:2383\u001b[0m, in \u001b[0;36mcheck_bool_indexer\u001b[1;34m(index, key)\u001b[0m\n\u001b[0;32m   <a href='file:///d%3A/Conda/lib/site-packages/pandas/core/indexing.py?line=2380'>2381</a>\u001b[0m     mask \u001b[39m=\u001b[39m isna(result\u001b[39m.\u001b[39m_values)\n\u001b[0;32m   <a href='file:///d%3A/Conda/lib/site-packages/pandas/core/indexing.py?line=2381'>2382</a>\u001b[0m     \u001b[39mif\u001b[39;00m mask\u001b[39m.\u001b[39many():\n\u001b[1;32m-> <a href='file:///d%3A/Conda/lib/site-packages/pandas/core/indexing.py?line=2382'>2383</a>\u001b[0m         \u001b[39mraise\u001b[39;00m IndexingError(\n\u001b[0;32m   <a href='file:///d%3A/Conda/lib/site-packages/pandas/core/indexing.py?line=2383'>2384</a>\u001b[0m             \u001b[39m\"\u001b[39m\u001b[39mUnalignable boolean Series provided as \u001b[39m\u001b[39m\"\u001b[39m\n\u001b[0;32m   <a href='file:///d%3A/Conda/lib/site-packages/pandas/core/indexing.py?line=2384'>2385</a>\u001b[0m             \u001b[39m\"\u001b[39m\u001b[39mindexer (index of the boolean Series and of \u001b[39m\u001b[39m\"\u001b[39m\n\u001b[0;32m   <a href='file:///d%3A/Conda/lib/site-packages/pandas/core/indexing.py?line=2385'>2386</a>\u001b[0m             \u001b[39m\"\u001b[39m\u001b[39mthe indexed object do not match).\u001b[39m\u001b[39m\"\u001b[39m\n\u001b[0;32m   <a href='file:///d%3A/Conda/lib/site-packages/pandas/core/indexing.py?line=2386'>2387</a>\u001b[0m         )\n\u001b[0;32m   <a href='file:///d%3A/Conda/lib/site-packages/pandas/core/indexing.py?line=2387'>2388</a>\u001b[0m     \u001b[39mreturn\u001b[39;00m result\u001b[39m.\u001b[39mastype(\u001b[39mbool\u001b[39m)\u001b[39m.\u001b[39m_values\n\u001b[0;32m   <a href='file:///d%3A/Conda/lib/site-packages/pandas/core/indexing.py?line=2388'>2389</a>\u001b[0m \u001b[39mif\u001b[39;00m is_object_dtype(key):\n\u001b[0;32m   <a href='file:///d%3A/Conda/lib/site-packages/pandas/core/indexing.py?line=2389'>2390</a>\u001b[0m     \u001b[39m# key might be object-dtype bool, check_array_indexer needs bool array\u001b[39;00m\n",
      "\u001b[1;31mIndexingError\u001b[0m: Unalignable boolean Series provided as indexer (index of the boolean Series and of the indexed object do not match)."
     ]
    }
   ],
   "source": [
    "# find columns in with not the same values in the whole column and save in a different dataframe\n",
    "df_pred_meta_red = df_pred_meta_t.loc[:, df_pred_meta_t.apply(pd.Series.nunique, axis=0) != 1]\n",
    "df_pred_meta_red"
   ]
  },
  {
   "cell_type": "code",
   "execution_count": null,
   "metadata": {},
   "outputs": [],
   "source": []
  }
 ],
 "metadata": {
  "interpreter": {
   "hash": "a0002ca97fa5ee54dc2e4008fbe9eabec60bb4400642f4fca2bafe1dfe14f90e"
  },
  "kernelspec": {
   "display_name": "Python 3.9.12 ('base')",
   "language": "python",
   "name": "python3"
  },
  "language_info": {
   "codemirror_mode": {
    "name": "ipython",
    "version": 3
   },
   "file_extension": ".py",
   "mimetype": "text/x-python",
   "name": "python",
   "nbconvert_exporter": "python",
   "pygments_lexer": "ipython3",
   "version": "3.9.12"
  },
  "orig_nbformat": 4
 },
 "nbformat": 4,
 "nbformat_minor": 2
}
